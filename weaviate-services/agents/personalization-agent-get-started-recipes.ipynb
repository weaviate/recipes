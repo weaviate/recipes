{
 "cells": [
  {
   "cell_type": "markdown",
   "metadata": {
    "id": "RFe3JtuV6G2f"
   },
   "source": [
    "<a target=\"_blank\" href=\"https://colab.research.google.com/github/weaviate/recipes/blob/main/weaviate-services/agents/personalization-agent-get-started-recipes.ipynb\">\n",
    "  <img src=\"https://colab.research.google.com/assets/colab-badge.svg\" alt=\"Open In Colab\"/>\n",
    "</a>\n",
    "\n",
    "# Build a Weaviate Personalization Agent - Food Recommender\n",
    "\n",
    "In this recipe, we will use the new Weaviate `PersonalizationAgent` to fetch personalized objects from a Weaviate collection, in a user personalized way. This new agentic way of retrieving objects is based on a users persona profile and past interactions with your collection.\n",
    "\n",
    "> 📚 You can learn more about how to use the `PersonalizationAgent`, in our [\"Introducing the Weaviate Personalization Agent\"](https://weaviate.io/blog/personalization-agent?utm_source=recipe&utm_campaign=agents) blog and [documentation](https://weaviate.io/developers/agents/personalization?utm_source=recipe&utm_campaign=agents).\n",
    "\n",
    "To help you get started, we're providing a few demo datasets, available on Hugging Face datasets 🤗:\n",
    "- [Recipes](https://huggingface.co/datasets/weaviate/agents/viewer/personalization-agent-recipes): A dataset that lists the name, short description and cuisine of a dish.\n",
    "- [Movies](https://huggingface.co/datasets/weaviate/agents/viewer/personalization-agent-movies): A dataset that lists movies, their ratings, original language etc.\n",
    "\n",
    "For this example, we will be using the recipes dataset to create a food recommender service"
   ]
  },
  {
   "cell_type": "markdown",
   "metadata": {
    "colab_type": "toc",
    "id": "md2pOtbajloT"
   },
   "source": [
    ">[Build a Weaviate Personalization Agent - Food Recommender](#scrollTo=RFe3JtuV6G2f)\n",
    "\n",
    ">>[Setting Up Weaviate & Importing Data](#scrollTo=IIiKq8EmjyTM)\n",
    "\n",
    ">>>[Create a New Collection](#scrollTo=3-5ycZprDlxz)\n",
    "\n",
    ">>[Create a Personalization Agent](#scrollTo=gnagQwcrEQ44)\n",
    "\n",
    ">>>[Adding New Personas](#scrollTo=segYgHwaEcUG)\n",
    "\n",
    ">>>[Adding Interactions](#scrollTo=8Cs2sRgXFaPA)\n",
    "\n",
    ">>[Get Recommendations and Rationale](#scrollTo=oGqM48QJGk-7)\n",
    "\n",
    ">>>[Get Recommendations with an Instruction](#scrollTo=ypmeUzRNGxQE)\n",
    "\n"
   ]
  },
  {
   "cell_type": "code",
   "execution_count": null,
   "metadata": {
    "id": "F5WOwkxu6EGC"
   },
   "outputs": [],
   "source": [
    "!pip install 'weaviate-client[agents]' datasets"
   ]
  },
  {
   "cell_type": "markdown",
   "metadata": {
    "id": "IIiKq8EmjyTM"
   },
   "source": [
    "## Setting Up Weaviate & Importing Data\n",
    "\n",
    "\n",
    "To use the Weaviate Personalization Agent, first, create a [Weaviate Cloud](tps://weaviate.io/deployment/serverless?utm_source=recipe&utm_campaign=agents) account👇\n",
    "1. [Create Serverless Weaviate Cloud account](https://weaviate.io/deployment/serverless?utm_source=recipe&utm_campaign=agents) and setup a free [Sandbox](https://weaviate.io/developers/wcs/manage-clusters/create#sandbox-clusters?utm_source=recipe&utm_campaign=agents)\n",
    "2. Go to 'Embedding' and enable it, by default, this will make it so that we use `Snowflake/snowflake-arctic-embed-l-v2.0` as the embedding model\n",
    "3. Take note of the `WEAVIATE_URL` and `WEAVIATE_API_KEY` to connect to your cluster below\n",
    "\n",
    "> Info: We recommend using [Weaviate Embeddings](https://weaviate.io/developers/weaviate/model-providers/weaviate?utm_source=recipe&utm_campaign=agents) so you do not have to provide any extra keys for external embedding providers."
   ]
  },
  {
   "cell_type": "code",
   "execution_count": null,
   "metadata": {
    "colab": {
     "base_uri": "https://localhost:8080/"
    },
    "id": "HtV1_oUH6sGf",
    "outputId": "cf761833-4ab2-49c8-e488-a6e48e451c72"
   },
   "outputs": [],
   "source": [
    "import os\n",
    "\n",
    "import weaviate\n",
    "from weaviate.auth import Auth\n",
    "from getpass import getpass\n",
    "\n",
    "if \"WEAVIATE_API_KEY\" not in os.environ:\n",
    "  os.environ[\"WEAVIATE_API_KEY\"] = getpass(\"Weaviate API Key\")\n",
    "if \"WEAVIATE_URL\" not in os.environ:\n",
    "  os.environ[\"WEAVIATE_URL\"] = getpass(\"Weaviate URL\")\n",
    "\n",
    "client = weaviate.connect_to_weaviate_cloud(\n",
    "    cluster_url=os.environ.get(\"WEAVIATE_URL\"),\n",
    "    auth_credentials=Auth.api_key(os.environ.get(\"WEAVIATE_API_KEY\")),\n",
    ")"
   ]
  },
  {
   "cell_type": "markdown",
   "metadata": {
    "id": "3-5ycZprDlxz"
   },
   "source": [
    "### Create a New Collection\n",
    "\n",
    "Next, we create a new collection in Weaviate called \"Recipes\". For the agentic services in Weaviate, it's a good idea to include descriptions of the properties in your collection. These descriptions can then be used by the agent."
   ]
  },
  {
   "cell_type": "code",
   "execution_count": null,
   "metadata": {
    "colab": {
     "base_uri": "https://localhost:8080/"
    },
    "id": "8ZffU4ZV7LaJ",
    "outputId": "1b236c96-cfd5-443a-cfbb-bb545a2a4889"
   },
   "outputs": [],
   "source": [
    "from weaviate.classes.config import Configure, DataType, Property\n",
    "\n",
    "# if client.collections.exists(\"Recipes\"):\n",
    "#     client.collections.delete(\"Recipes\")\n",
    "\n",
    "client.collections.create(\n",
    "    \"Recipes\",\n",
    "    description=\"A dataset that lists recipes with titles, desctiptions, and labels indicating cuisine\",\n",
    "    vectorizer_config=Configure.Vectorizer.text2vec_weaviate(),\n",
    "    properties=[\n",
    "        Property(\n",
    "            name=\"title\", data_type=DataType.TEXT, description=\"title of the recipe\"\n",
    "        ),\n",
    "        Property(\n",
    "            name=\"labels\",\n",
    "            data_type=DataType.TEXT,\n",
    "            description=\"the cuisine the recipe belongs to\",\n",
    "        ),\n",
    "        Property(\n",
    "            name=\"description\",\n",
    "            data_type=DataType.TEXT,\n",
    "            description=\"short description of the recipe\",\n",
    "        ),\n",
    "    ],\n",
    ")"
   ]
  },
  {
   "cell_type": "code",
   "execution_count": null,
   "metadata": {
    "colab": {
     "base_uri": "https://localhost:8080/",
     "height": 176,
     "referenced_widgets": [
      "d3e7651ab9fb4b389d0dd2f3cf409871",
      "52c9f5ac435a47579dc1f87c98029d39",
      "2182eadd6f8b4a7fad5ee42e74259704",
      "8c8ea5a59f374a8ab53cdce6f95195ad",
      "70335d83d6a94323be4b3353fd4c8de6",
      "c26286f463b8419d9538064cad825fd3",
      "ee41d0c950954c628e7efa76b65da9be",
      "593f42ae4087496d84cc04cc09acb671",
      "627ec0e7e38340719c2790173412a257",
      "fc3ef6558d43425f85c93ddc1f2b2050",
      "6efc144d7cf842b68329f2df9e15c88f"
     ]
    },
    "id": "pyX-I5K3-HQ3",
    "outputId": "18ed98d3-067f-4cbf-d00d-c820e5d611f8"
   },
   "outputs": [],
   "source": [
    "from datasets import load_dataset\n",
    "\n",
    "dataset = load_dataset(\"weaviate/agents\", \"personalization-agent-recipes\", split=\"train\", streaming=True)\n",
    "\n",
    "recipes_collection = client.collections.get(\"Recipes\")\n",
    "\n",
    "with recipes_collection.batch.dynamic() as batch:\n",
    "    for item in dataset:\n",
    "        batch.add_object(properties=item[\"properties\"])\n"
   ]
  },
  {
   "cell_type": "markdown",
   "metadata": {
    "id": "gnagQwcrEQ44"
   },
   "source": [
    "## Create a Personalization Agent\n",
    "\n",
    "Below, we create a `PersonalizationAgent` for the `\"Recipes\"` collection. If an agent for this collection already exists, we can simply connect to it.\n",
    "\n",
    "When creating a new `PeresonalizationAgent`, we can also optioanlly define `user_properties`.\n",
    "\n",
    "User properties can be anything that may be useful iformation about users that will be added to the agent. In this case, since we are creating a food recommender service, we may ask each persona to be added with ther `favorite_cuisines`, `likes` and `dislikes`."
   ]
  },
  {
   "cell_type": "code",
   "execution_count": 6,
   "metadata": {
    "id": "UQJvBXFJ_Lnr"
   },
   "outputs": [],
   "source": [
    "from weaviate.agents.personalization import PersonalizationAgent\n",
    "\n",
    "if PersonalizationAgent.exists(client, \"Recipes\"):\n",
    "  agent = PersonalizationAgent.connect(\n",
    "          client=client,\n",
    "          reference_collection=\"Recipes\",\n",
    "      )\n",
    "else:\n",
    "  agent = PersonalizationAgent.create(\n",
    "          client=client,\n",
    "          reference_collection=\"Recipes\",\n",
    "          user_properties={\n",
    "              \"favorite_cuisines\": DataType.TEXT_ARRAY,\n",
    "              \"likes\": DataType.TEXT_ARRAY,\n",
    "              \"dislikes\": DataType.TEXT_ARRAY\n",
    "          },\n",
    "      )\n",
    "\n"
   ]
  },
  {
   "cell_type": "markdown",
   "metadata": {
    "id": "segYgHwaEcUG"
   },
   "source": [
    "### Adding New Personas\n",
    "\n",
    "We can add new users with `add_persona`, listing the requested user properties when adding them. Try changing the code block below to represent yourself if you like 👇"
   ]
  },
  {
   "cell_type": "code",
   "execution_count": 7,
   "metadata": {
    "id": "TmqvRP7uGMB2"
   },
   "outputs": [],
   "source": [
    "from uuid import uuid4\n",
    "from weaviate.agents.classes import Persona, PersonaInteraction\n",
    "\n",
    "persona_id = uuid4()\n",
    "agent.add_persona(\n",
    "    Persona(\n",
    "        persona_id=persona_id,\n",
    "        properties={\n",
    "            \"favorite_cuisines\": [\"Italian\", \"Thai\"],\n",
    "            \"likes\": [\"chocolate\", \"salmon\", \"pasta\", \"most veggies\"],\n",
    "            \"dislikes\": [\"okra\", \"mushroom\"],\n",
    "        },\n",
    "    )\n",
    ")"
   ]
  },
  {
   "cell_type": "code",
   "execution_count": 13,
   "metadata": {
    "colab": {
     "base_uri": "https://localhost:8080/"
    },
    "id": "SaFKYB-4GZJC",
    "outputId": "f123f3da-00cf-4f61-9e8a-735cab27e270"
   },
   "outputs": [
    {
     "data": {
      "text/plain": [
       "Persona(persona_id=UUID('df987437-4d10-44d6-b613-dfff31f715fb'), properties={'favorite_cuisines': ['Italian', 'Thai'], 'dislikes': ['okra', 'mushroom'], 'allergies': None, 'likes': ['chocolate', 'salmon', 'pasta', 'most veggies']})"
      ]
     },
     "execution_count": 13,
     "metadata": {},
     "output_type": "execute_result"
    }
   ],
   "source": [
    "agent.get_persona(persona_id)\n"
   ]
  },
  {
   "cell_type": "markdown",
   "metadata": {
    "id": "8Cs2sRgXFaPA"
   },
   "source": [
    "### Adding Interactions\n",
    "\n",
    "Once we have at least one persona for our agent, we can start adding interactions for that persona. For example, in this food recommender service, it makes sense to add a personas food reviews.\n",
    "\n",
    "Each interaction can have a weight between -1.0 (negative) and 1.0 positive. So, we can add some reviews for a number or dishes below.\n",
    "\n",
    "It's a good idea to think about what kind of end application may be forwarding these interactions and have a rule around what each weight might represent. For example, let's imagine a recipes website\n",
    "- 1.0: favorite meal  \n",
    "- 0.8: user liked the dish\n",
    "- 0.5: user viewed the recipe page\n",
    "- -0.5: user disliked the dish\n",
    "- -1.0: user absolutely hated the dish 👎"
   ]
  },
  {
   "cell_type": "code",
   "execution_count": 9,
   "metadata": {
    "id": "rOfMj8wAPbFM"
   },
   "outputs": [],
   "source": [
    "from uuid import UUID\n",
    "from weaviate.collections.classes.filters import Filter\n",
    "\n",
    "reviewed_foods = [\n",
    "    \"Coq au Vin\",\n",
    "    \"Chicken Tikka Masala\",\n",
    "    \"Gnocchi alla Sorrentina\",\n",
    "    \"Matcha Ice Cream\",\n",
    "    \"Fiorentina Steak\",\n",
    "    \"Nabe\",\n",
    "    \"Duck Confit\",\n",
    "    \"Pappardelle with Porcini\"\n",
    "]\n",
    "\n",
    "reviews_dict = {\n",
    "    recipe.properties[\"title\"]: recipe\n",
    "    for recipe in recipes_collection.query.fetch_objects(\n",
    "        filters=Filter.by_property(\"title\").contains_any(reviewed_foods), limit=20\n",
    "    ).objects\n",
    "}\n",
    "\n",
    "interactions = [\n",
    "    PersonaInteraction(\n",
    "        persona_id=persona_id, item_id=reviews_dict[\"Coq au Vin\"].uuid, weight=0.8\n",
    "    ),\n",
    "    PersonaInteraction(\n",
    "        persona_id=persona_id, item_id=reviews_dict[\"Chicken Tikka Masala\"].uuid, weight=0.8\n",
    "    ),\n",
    "    PersonaInteraction(\n",
    "        persona_id=persona_id, item_id=reviews_dict[\"Matcha Ice Cream\"].uuid, weight=0.8\n",
    "    ),\n",
    "    PersonaInteraction(\n",
    "        persona_id=persona_id, item_id=reviews_dict[\"Gnocchi alla Sorrentina\"].uuid, weight=0.5\n",
    "    ),\n",
    "    PersonaInteraction(\n",
    "        persona_id=persona_id, item_id=reviews_dict[\"Fiorentina Steak\"].uuid, weight=0.8\n",
    "    ),\n",
    "    PersonaInteraction(\n",
    "        persona_id=persona_id, item_id=reviews_dict[\"Nabe\"].uuid, weight=0.5\n",
    "    ),\n",
    "    PersonaInteraction(\n",
    "        persona_id=persona_id, item_id=reviews_dict[\"Duck Confit\"].uuid, weight=1.0\n",
    "    ),\n",
    "    PersonaInteraction(\n",
    "        persona_id=persona_id, item_id=reviews_dict[\"Pappardelle with Porcini\"].uuid, weight=-1.0\n",
    "    ),\n",
    "\n",
    "]"
   ]
  },
  {
   "cell_type": "code",
   "execution_count": 10,
   "metadata": {
    "id": "AfFRu0ogP9ng"
   },
   "outputs": [],
   "source": [
    "agent.add_interactions(interactions=interactions)"
   ]
  },
  {
   "cell_type": "markdown",
   "metadata": {
    "id": "oGqM48QJGk-7"
   },
   "source": [
    "## Get Recommendations and Rationale\n",
    "\n",
    "Now that we have a persona and some interactions for that persona, we can start getting recommended objects from the agent with `get_objects`. We have two options here: we can set `use_agent_ranking` or not.\n",
    "\n",
    "When we do not use agent ranking, the returned objects are ranked by classic ML clustering, whereas when we do use it, it will go through an additional re-ranking with an LLM and an optioanl `instruction`.\n",
    "\n",
    "\n",
    "When we use agent ranking, we can also see the rationale behind the ranking in `ranking_rationale` as we've done below 👇"
   ]
  },
  {
   "cell_type": "code",
   "execution_count": 11,
   "metadata": {
    "colab": {
     "base_uri": "https://localhost:8080/"
    },
    "id": "QUe7QF2nQJoL",
    "outputId": "455996a8-0135-4e0b-9799-8b80bd2d501d"
   },
   "outputs": [
    {
     "name": "stdout",
     "output_type": "stream",
     "text": [
      "Based on your love for Italian cuisine and positive interactions with dishes like Gnocchi alla Sorrentina and Fiorentina Steak, Italian dishes like Frittata di Zucca e Pancetta and Classic Italian Margherita Pizza are highlighted. Your fondness for Chicken Tikka Masala also brought Indian dishes such as Spicy Indian Tikka Masala forward. Although you enjoyed Coq au Vin, the included mushrooms might not be to your liking, which is reflected in a balanced way within French dishes.\n",
      "*****0*****\n",
      "Frittata di Zucca e Pancetta\n",
      "A fluffy egg omelette with sweet potatoes and pancetta, seasoned with herbs and grated cheese, a beloved dish from the heart of Italy.\n",
      "Italian\n",
      "*****1*****\n",
      "Pizza Margherita\n",
      "A simple yet iconic pizza with San Marzano tomatoes, mozzarella di bufala, fresh basil, and extra-virgin olive oil, encapsulating the Neapolitan pizza tradition.\n",
      "Italian\n",
      "*****2*****\n",
      "Lasagna alla Bolognese\n",
      "Layers of pasta sheets, Bolognese sauce, and béchamel, all baked to golden perfection, embodying the comforting flavors of Emilia-Romagna.\n",
      "Italian\n",
      "*****3*****\n",
      "Lasagna alla Bolognese\n",
      "Layers of flat pasta sheets, rich Bolognese sauce, and béchamel, baked to perfection.\n",
      "Italian\n",
      "*****4*****\n",
      "Spicy Indian Tikka Masala\n",
      "A rich tomato and cream sauce with chunks of chicken, covered in a fiery blend of spices and charred chunks of chicken.\n",
      "Indian\n",
      "*****5*****\n",
      "Classic Italian Margherita Pizza\n",
      "Thin crust pizza topped with San Marzano tomatoes, fresh mozzarella, basil, and extra-virgin olive oil, representing the simplicity of Italian cuisine.\n",
      "Italian\n",
      "*****6*****\n",
      "Chicken Tikka Masala\n",
      "Marinated chicken drumsticks grilled on a spit and then simmered in a spicy tomato sauce with cream, a popular dish in Indian cuisine.\n",
      "Indian\n",
      "*****7*****\n",
      "Butter Chicken\n",
      "A creamy and aromatic tomato sauce with tender chunks of chicken, marinated in a blend of spices and cooked with yogurt and cream, often served with rice or naan bread.\n",
      "Indian\n",
      "*****8*****\n",
      "French Coq au Vin\n",
      "A hearty stew of chicken braised with wine, mushrooms, and garlic, capturing the essence of French country cooking.\n",
      "French\n",
      "*****9*****\n",
      "Sicilian Arancini\n",
      "Deep-fried balls of risotto mixed with cheese and peas, coated with breadcrumbs and Parmesan cheese.\n",
      "Italian\n",
      "*****10*****\n",
      "Ramen\n",
      "A noodle soup dish with Chinese influences, typically containing Chinese-style noodles served in a meat or fish-based broth, often flavored with soy sauce or miso, and uses toppings such as sliced pork, green onions, and nori.\n",
      "Japanese\n",
      "*****11*****\n",
      "Oden\n",
      "A hearty Japanese hotpot dish made with simmered fish cakes, tofu, konnyaku, and vegetables, in a dashi-based broth.\n",
      "Japanese\n",
      "*****12*****\n",
      "Shabu-Shabu\n",
      "A Japanese hot pot dish where thinly sliced meat and vegetables are cooked in boiling water at the table.\n",
      "Japanese\n",
      "*****13*****\n",
      "Tempura\n",
      "A Japanese dish usually made with seafood, vegetables, and sometimes meat, battered and deep-fried until crisp.\n",
      "Japanese\n",
      "*****14*****\n",
      "Oden\n",
      "A Japanese stew containing fish cakes, daikon radish, konnyaku, tofu, and boiled eggs, typically flavored with miso or dashi broth.\n",
      "Japanese\n",
      "*****15*****\n",
      "Tandoori Chicken\n",
      "Marinated in yogurt and spices, then cooked in a tandoor (clay oven), resulting in a tangy and spicy chicken dish.\n",
      "Indian\n",
      "*****16*****\n",
      "Beef Bourguignon\n",
      "A flavorful beef stew cooked slowly in red wine, beef broth, and a bouquet garni, with carrots, onions, and mushrooms, typically served with potatoes or noodles.\n",
      "French\n",
      "*****17*****\n",
      "Pizza Margherita\n",
      "Simple pizza with San Marzano tomatoes, fresh mozzarella, basil, and extra-virgin olive oil, reflecting the colors of the Italian flag.\n",
      "Italian\n",
      "*****18*****\n",
      "Butter Chicken\n",
      "Soft and tender pieces of chicken in a rich and creamy sauce made with butter, tomatoes, and a blend of Indian spices.\n",
      "Indian\n",
      "*****19*****\n",
      "Chicken Biryani\n",
      "A flavorful rice dish cooked with basmati rice, chicken, and a mix of aromatic spices such as cardamom, cinnamon, and cloves, layered with meat and vegetables.\n",
      "Indian\n",
      "*****20*****\n",
      "Milanesa a la Napolitana\n",
      "A breaded cutlet, typically veal, topped with melted cheese and tomato sauce, a popular street food item.\n",
      "Argentinian\n",
      "*****21*****\n",
      "Tempura Udon\n",
      "Thick udon noodles served with crispy tempura shrimp and vegetables, lightly coated in a dashi-based sauce for a delicate taste.\n",
      "Japanese\n",
      "*****22*****\n",
      "Miso Soup\n",
      "A traditional Japanese soup consisting of a stock called dashi into which softened miso paste is mixed, often with pieces of tofu and seaweed.\n",
      "Japanese\n",
      "*****23*****\n",
      "Udon Noodles\n",
      "A type of thick wheat flour noodle common in Japanese cuisine, served hot or cold with a dipping sauce.\n",
      "Japanese\n",
      "*****24*****\n",
      "Pappardelle with Porcini\n",
      "Thick wide ribbons of pasta served with a creamy porcini mushroom sauce and grated Parmesan cheese.\n",
      "Italian\n"
     ]
    }
   ],
   "source": [
    "response = agent.get_objects(persona_id, limit=25, use_agent_ranking=True)\n",
    "\n",
    "print(response.ranking_rationale)\n",
    "for i, obj in enumerate(response.objects):\n",
    "    print(f\"*****{i}*****\")\n",
    "    print(obj.properties[\"title\"])\n",
    "    print(obj.properties[\"description\"])\n",
    "    print(obj.properties[\"labels\"])"
   ]
  },
  {
   "cell_type": "markdown",
   "metadata": {
    "id": "ypmeUzRNGxQE"
   },
   "source": [
    "### Get Recommendations with an Instruction\n",
    "\n",
    "Optionally, you can also provide the agent with an instruction too. This allows the agent LLM to have more context as to what kind of recommendations it could make.\n",
    "\n",
    "It may also make sense to set a higher limit for the initial ranking, and then filter down to a smaller group after the agent ranking as we've done below 👇"
   ]
  },
  {
   "cell_type": "code",
   "execution_count": 12,
   "metadata": {
    "colab": {
     "base_uri": "https://localhost:8080/"
    },
    "id": "aZye2z8IMEWi",
    "outputId": "0483cc0b-f4c7-4dc4-fac7-7ff4ad99c32d"
   },
   "outputs": [
    {
     "name": "stdout",
     "output_type": "stream",
     "text": [
      "As you love Italian cuisine and have a special liking for foods like pasta and salmon, while disliking mushrooms, we've focused on offering you a variety of Italian and other delightful dishes without mushroom content. We've also incorporated a touch of diversity with dishes from other cuisines you enjoy, while carefully avoiding those with ingredients you dislike.\n",
      "*****0*****\n",
      "Chicken Tikka Masala\n",
      "Marinated chicken drumsticks grilled on a spit and then simmered in a spicy tomato sauce with cream, a popular dish in Indian cuisine.\n",
      "Indian\n",
      "*****1*****\n",
      "Pasta alla Norma\n",
      "Pasta served with fried eggplant, tomato sauce, and ricotta salata, a flavorful dish that showcases the vibrant flavors of Sicilian cuisine.\n",
      "Italian\n",
      "*****2*****\n",
      "Classic Italian Margherita Pizza\n",
      "Thin crust pizza topped with San Marzano tomatoes, fresh mozzarella, basil, and extra-virgin olive oil, representing the simplicity of Italian cuisine.\n",
      "Italian\n",
      "*****3*****\n",
      "Pizza Margherita\n",
      "Simple pizza with San Marzano tomatoes, fresh mozzarella, basil, and extra-virgin olive oil, reflecting the colors of the Italian flag.\n",
      "Italian\n",
      "*****4*****\n",
      "Spicy Indian Tikka Masala\n",
      "A rich tomato and cream sauce with chunks of chicken, covered in a fiery blend of spices and charred chunks of chicken.\n",
      "Indian\n",
      "*****5*****\n",
      "Lasagna alla Bolognese\n",
      "Layers of flat pasta sheets, rich Bolognese sauce, and béchamel, baked to perfection.\n",
      "Italian\n",
      "*****6*****\n",
      "Fettuccine Alfredo\n",
      "Creamy pasta dish made with fettuccine pasta tossed in a rich sauce of butter, heavy cream, and Parmesan cheese.\n",
      "Italian\n",
      "*****7*****\n",
      "Sicilian Arancini\n",
      "Deep-fried balls of risotto mixed with cheese and peas, coated with breadcrumbs and Parmesan cheese.\n",
      "Italian\n",
      "*****8*****\n",
      "Frittata di Zucca e Pancetta\n",
      "A fluffy egg omelette with sweet potatoes and pancetta, seasoned with herbs and grated cheese, a beloved dish from the heart of Italy.\n",
      "Italian\n",
      "*****9*****\n",
      "Paneer Tikka\n",
      "Small cubes of paneer marinated in spices and yogurt, then grilled and served in a spicy tomato sauce.\n",
      "Indian\n"
     ]
    }
   ],
   "source": [
    "response = agent.get_objects(persona_id,\n",
    "                             limit=50,\n",
    "                             use_agent_ranking=True,\n",
    "                             instruction=\"\"\"Your task is to recommend a diverse set of dishes to the user\n",
    "                             taking into account their likes and dislikes. It's especially important to avoid their dislikes.\"\"\",\n",
    ")\n",
    "\n",
    "print(response.ranking_rationale)\n",
    "for i, obj in enumerate(response.objects[:10]):\n",
    "    print(f\"*****{i}*****\")\n",
    "    print(obj.properties[\"title\"])\n",
    "    print(obj.properties[\"description\"])\n",
    "    print(obj.properties[\"labels\"])"
   ]
  }
 ],
 "metadata": {
  "colab": {
   "provenance": []
  },
  "kernelspec": {
   "display_name": "Python 3 (ipykernel)",
   "language": "python",
   "name": "python3"
  },
  "language_info": {
   "codemirror_mode": {
    "name": "ipython",
    "version": 3
   },
   "file_extension": ".py",
   "mimetype": "text/x-python",
   "name": "python",
   "nbconvert_exporter": "python",
   "pygments_lexer": "ipython3",
   "version": "3.11.6"
  }
 },
 "nbformat": 4,
 "nbformat_minor": 1
}
