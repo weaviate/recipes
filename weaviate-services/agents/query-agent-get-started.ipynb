{
 "cells": [
  {
   "cell_type": "markdown",
   "metadata": {
    "id": "iGfss7TuSM_n"
   },
   "source": [
    "<a target=\"_blank\" href=\"https://colab.research.google.com/github/weaviate/recipes/blob/main/weaviate-services/agents/query-agent-get-started.ipynb\">\n",
    "  <img src=\"https://colab.research.google.com/assets/colab-badge.svg\" alt=\"Open In Colab\"/>\n",
    "</a>\n",
    "\n",
    "# Build A Weaviate Query Agent - The E-Commerce Assistant\n",
    "\n",
    "In this recipe, we will be building a simple e-commerce assistant agent with the [Weaviate Query Agent](https://weaviate.io/developers/agents). This agent will have access to a number of Weaviate collections, and will be capable of answering complex queries about brands and clothing items, accessing information from each collection.\n",
    "\n",
    "> 📚 You can read and learn more about this service in our [\"Introducing the Weaviate Query Agent\"](https://weaviate.io/blog/query-agent) blog.\n",
    "\n",
    "To get started, we've prepared a few open datasets, available on Hugging Face. The first step will be walking through how to populate your Weaviate Cloud collections.\n",
    "\n",
    "- [**E-commerce:**](https://huggingface.co/datasets/weaviate/agents/viewer/query-agent-ecommerce) A dataset that lists clothing items, prices, brands, reviews etc.\n",
    "- [**Brands:**](https://huggingface.co/datasets/weaviate/agents/viewer/query-agent-brands) A dataset that lists clothing brands and information about them such as their parent brand, child brands, average customer rating etc.\n",
    "\n",
    "Additionally, we also have access to some other unrelated datasets which you can use to add more capabilities and variety to other agents later on in the recipe:\n",
    "\n",
    "- [**Financial Contracts**:](https://huggingface.co/datasets/weaviate/agents/viewer/query-agent-financial-contracts) A dataset of financial contracts between indivicuals and/or companies, as well as information on the type of contract and who has authored them.\n",
    "- [**Weather**:](https://huggingface.co/datasets/weaviate/agents/viewer/query-agent-weather) Daily weather information including temperature, wind speed, percipitation, pressure etc.\n"
   ]
  },
  {
   "cell_type": "markdown",
   "metadata": {
    "colab_type": "toc",
    "id": "g4DJZQzqWA1J"
   },
   "source": [
    ">[Build A Weaviate Query Agent - The E-Commerce Assistant](#scrollTo=iGfss7TuSM_n)\n",
    "\n",
    ">>[Setting Up Weaviate & Importing Data](#scrollTo=V7eGoTMgV597)\n",
    "\n",
    ">>>[Prepare the Collections](#scrollTo=XqbFu9xHMzEU)\n",
    "\n",
    ">>[Set Up the Query Agent](#scrollTo=4H7h-onziDEA)\n",
    "\n",
    ">>[Run the Query Agent](#scrollTo=XnJiTt5LiMp-)\n",
    "\n",
    ">>>[Ask a Question](#scrollTo=XnJiTt5LiMp-)\n",
    "\n",
    ">>>[Ask a follow up question](#scrollTo=RqsUGStI-RC_)\n",
    "\n",
    ">>>[Search over multiple collections](#scrollTo=sl78PHYmBe2s)\n",
    "\n",
    ">>>[Changing the System Prompt](#scrollTo=Hm32UutOC63l)\n",
    "\n",
    ">>>[Try More Questions](#scrollTo=70lwuxf1F38d)\n",
    "\n"
   ]
  },
  {
   "cell_type": "markdown",
   "metadata": {
    "id": "V7eGoTMgV597"
   },
   "source": [
    "## 1. Setting Up Weaviate & Importing Data"
   ]
  },
  {
   "cell_type": "markdown",
   "metadata": {
    "id": "-kmYF4e5hSwL"
   },
   "source": [
    "To use the Weaviate Query Agent, first, create a [Weaviate Cloud](https://weaviate.io/deployment/serverless) account👇\n",
    "1. [Create Serverless Weaviate Cloud account](https://weaviate.io/deployment/serverless) and setup a free [Sandbox](https://weaviate.io/developers/wcs/manage-clusters/create#sandbox-clusters)\n",
    "2. Go to 'Embedding' and enable it, by default, this will make it so that we use `Snowflake/snowflake-arctic-embed-l-v2.0` as the embedding model\n",
    "3. Take note of the `WEAVIATE_URL` and `WEAVIATE_API_KEY` to connect to your cluster below\n",
    "\n",
    "> Info: We recommend using [Weaviate Embeddings](https://weaviate.io/developers/weaviate/model-providers/weaviate) so you do not have to provide any extra keys for external embedding providers."
   ]
  },
  {
   "cell_type": "code",
   "execution_count": null,
   "metadata": {
    "colab": {
     "base_uri": "https://localhost:8080/"
    },
    "collapsed": true,
    "id": "eZglwTKJSBre",
    "outputId": "0437d2a8-83dd-45fe-ca3d-c2f78a826ef5"
   },
   "outputs": [],
   "source": [
    "!pip install weaviate-client[agents] datasets"
   ]
  },
  {
   "cell_type": "code",
   "execution_count": null,
   "metadata": {
    "colab": {
     "base_uri": "https://localhost:8080/"
    },
    "id": "WpwpkXXqS2_z",
    "outputId": "66aa096c-9efe-4e9b-daaa-41de31f80585"
   },
   "outputs": [],
   "source": [
    "import os\n",
    "from getpass import getpass\n",
    "\n",
    "if \"WEAVIATE_API_KEY\" not in os.environ:\n",
    "  os.environ[\"WEAVIATE_API_KEY\"] = getpass(\"Weaviate API Key\")\n",
    "if \"WEAVIATE_URL\" not in os.environ:\n",
    "  os.environ[\"WEAVIATE_URL\"] = getpass(\"Weaviate URL\")"
   ]
  },
  {
   "cell_type": "code",
   "execution_count": 3,
   "metadata": {
    "id": "7Z5oAapLhSf3"
   },
   "outputs": [],
   "source": [
    "import weaviate\n",
    "from weaviate.auth import Auth\n",
    "\n",
    "client = weaviate.connect_to_weaviate_cloud(\n",
    "    cluster_url=os.environ.get(\"WEAVIATE_URL\"),\n",
    "    auth_credentials=Auth.api_key(os.environ.get(\"WEAVIATE_API_KEY\")),\n",
    ")"
   ]
  },
  {
   "cell_type": "markdown",
   "metadata": {
    "id": "XqbFu9xHMzEU"
   },
   "source": [
    "### Prepare the Collections\n",
    "\n",
    "In the following code blocks, we are pulling our demo datasets from Hugging Face and writing them to new collections in our Weaviate Serverless cluster.\n",
    "\n",
    "> ❗️ The `QueryAgent` uses the descriptions of collections and properties to decide which ones to use when solving queries, and to access more information about properties. You can experiment with changing these descriptions, providing more detail, and more. It's good practice to provide property descriptions too. For example, below we make sure that the `QueryAgent` knows that prices are all in USD, which is information that would otherwise be unavailable."
   ]
  },
  {
   "cell_type": "code",
   "execution_count": null,
   "metadata": {
    "colab": {
     "base_uri": "https://localhost:8080/"
    },
    "id": "mS6IfoqyNHPq",
    "outputId": "418ceb74-eb77-4d1e-ffcf-77a272f6a05d"
   },
   "outputs": [],
   "source": [
    "from weaviate.classes.config import Configure, Property, DataType\n",
    "\n",
    "# To re-run cell you may have to delete collections\n",
    "# client.collections.delete(\"Brands\")\n",
    "client.collections.create(\n",
    "    \"Brands\",\n",
    "    description=\"A dataset that lists information about clothing brands, their parent companies, average rating and more.\",\n",
    "    vectorizer_config=Configure.Vectorizer.text2vec_weaviate()\n",
    ")\n",
    "\n",
    "# client.collections.delete(\"Ecommerce\")\n",
    "client.collections.create(\n",
    "    \"Ecommerce\",\n",
    "    description=\"A dataset that lists clothing items, their brands, prices, and more.\",\n",
    "    vectorizer_config=Configure.Vectorizer.text2vec_weaviate(),\n",
    "    properties=[\n",
    "        Property(name=\"collection\", data_type=DataType.TEXT),\n",
    "        Property(name=\"category\", data_type=DataType.TEXT),\n",
    "        Property(name=\"tags\", data_type=DataType.TEXT_ARRAY),\n",
    "        Property(name=\"subcategory\", data_type=DataType.TEXT),\n",
    "        Property(name=\"name\", data_type=DataType.TEXT),\n",
    "        Property(name=\"description\", data_type=DataType.TEXT),\n",
    "        Property(name=\"brand\", data_type=DataType.TEXT),\n",
    "        Property(name=\"product_id\", data_type=DataType.UUID),\n",
    "        Property(name=\"colors\", data_type=DataType.TEXT_ARRAY),\n",
    "        Property(name=\"reviews\", data_type=DataType.TEXT_ARRAY),\n",
    "        Property(name=\"image_url\", data_type=DataType.TEXT),\n",
    "        Property(name=\"price\", data_type=DataType.NUMBER, description=\"price of item in USD\"),\n",
    "    ]\n",
    ")\n",
    "\n",
    "# client.collections.delete(\"Weather\")\n",
    "client.collections.create(\n",
    "    \"Weather\",\n",
    "    description=\"Daily weather information including temperature, wind speed, percipitation, pressure etc.\",\n",
    "    vectorizer_config=Configure.Vectorizer.text2vec_weaviate(),\n",
    "    properties=[\n",
    "        Property(name=\"date\", data_type=DataType.DATE),\n",
    "        Property(name=\"humidity\", data_type=DataType.NUMBER),\n",
    "        Property(name=\"precipitation\", data_type=DataType.NUMBER),\n",
    "        Property(name=\"wind_speed\", data_type=DataType.NUMBER),\n",
    "        Property(name=\"visibility\", data_type=DataType.NUMBER),\n",
    "        Property(name=\"pressure\", data_type=DataType.NUMBER),\n",
    "        Property(name=\"temperature\", data_type=DataType.NUMBER, description=\"temperature value in Celsius\")\n",
    "    ]\n",
    ")\n",
    "\n",
    "# client.collections.delete(\"Financial_contracts\")\n",
    "client.collections.create(\n",
    "    \"Financial_contracts\",\n",
    "    description=\"A dataset of financial contracts between indivicuals and/or companies, as well as information on the type of contract and who has authored them.\",\n",
    "    vectorizer_config=Configure.Vectorizer.text2vec_weaviate(),\n",
    ")"
   ]
  },
  {
   "cell_type": "code",
   "execution_count": null,
   "metadata": {
    "colab": {
     "base_uri": "https://localhost:8080/",
     "height": 176,
     "referenced_widgets": [
      "64a3bf78994f41c79be28fadf017ce31",
      "e72ffe23a78f4433b11e4e79b80072e5",
      "42db5cab752e448289b7ec27f2db5c9c",
      "6c7f2c5864f6410e83ac745be2eecdb4",
      "77cda3210c1244a1aa89f2c3d92acb8e",
      "2ad0a3a6c68a48c89c8717ff81c2e53e",
      "d7f9a4a1a30641828707907b3b82c53b",
      "3ae0603fcc474146a061a62e85cab9d2",
      "f2ac84ebcdfa477480710ce9c2ffadf5",
      "adb3e62d167142609db77a5327ec3cf7",
      "4a999e7c65e24e59b402fec4abed0db1"
     ]
    },
    "id": "4rbymjtuNbnd",
    "outputId": "4f2854c5-13e1-4ba2-8f1e-e7d0ec1918f5"
   },
   "outputs": [],
   "source": [
    "from datasets import load_dataset\n",
    "\n",
    "brands_dataset = load_dataset(\"weaviate/agents\", \"query-agent-brands\", split=\"train\", streaming=True)\n",
    "ecommerce_dataset = load_dataset(\"weaviate/agents\", \"query-agent-ecommerce\", split=\"train\", streaming=True)\n",
    "weather_dataset = load_dataset(\"weaviate/agents\", \"query-agent-weather\", split=\"train\", streaming=True)\n",
    "financial_dataset = load_dataset(\"weaviate/agents\", \"query-agent-financial-contracts\", split=\"train\", streaming=True)\n",
    "\n",
    "brands_collection = client.collections.get(\"Brands\")\n",
    "ecommerce_collection = client.collections.get(\"Ecommerce\")\n",
    "weather_collection = client.collections.get(\"Weather\")\n",
    "financial_collection = client.collections.get(\"Financial_contracts\")\n",
    "\n",
    "with brands_collection.batch.dynamic() as batch:\n",
    "    for item in brands_dataset:\n",
    "        batch.add_object(properties=item[\"properties\"])\n",
    "\n",
    "with ecommerce_collection.batch.dynamic() as batch:\n",
    "    for item in ecommerce_dataset:\n",
    "        batch.add_object(properties=item[\"properties\"])\n",
    "\n",
    "with weather_collection.batch.dynamic() as batch:\n",
    "    for item in weather_dataset:\n",
    "        batch.add_object(properties=item[\"properties\"])\n",
    "\n",
    "with financial_collection.batch.dynamic() as batch:\n",
    "    for item in financial_dataset:\n",
    "        batch.add_object(properties=item[\"properties\"])"
   ]
  },
  {
   "cell_type": "markdown",
   "metadata": {
    "id": "4H7h-onziDEA"
   },
   "source": [
    "## 2. Set Up the Query Agent\n",
    "\n",
    "When setting up the query agent, we have to provide it a few things:\n",
    "- The `client`\n",
    "- The `collection` which we want the agent to have access to.\n",
    "- (Optionally) A `system_prompt` that describes how our agent should behave\n",
    "- (Optionally) Timeout - which for now defaults to 60s.\n",
    "\n",
    "Let's start with a simple agent. Here, we're creating an `agent` that has access to our `Brands` & `Ecommerce` datasets."
   ]
  },
  {
   "cell_type": "code",
   "execution_count": 4,
   "metadata": {
    "id": "-s6sk4zyiFmh"
   },
   "outputs": [],
   "source": [
    "from weaviate.agents.query import QueryAgent\n",
    "\n",
    "agent = QueryAgent(\n",
    "    client=client, collections=[\"Ecommerce\", \"Brands\"],\n",
    ")"
   ]
  },
  {
   "cell_type": "markdown",
   "metadata": {
    "id": "XnJiTt5LiMp-"
   },
   "source": [
    "## 3. Run the Query Agent\n",
    "\n",
    "When we run the agent, it will first make a few decisions, depending on the query:\n",
    "\n",
    "1. The agent will decide which collection or collections to look up an answer in.\n",
    "2. The agent will also decide whether to perform a regular ***search query***, what ***filters*** to use, whether to do an ***aggregation query***, or all of them together!\n",
    "3. It will then provide a reponse within **`QueryAgentResponse`**. We will use the `print_query_agent_response` function for a nice display of various information provided in the response object.\n",
    "\n",
    "### Ask a Question\n",
    "**Let's start with a simple question: \"I like the vintage clothes, can you list me some options that are less than $200?\"**\n",
    "\n",
    "We can then also inspect how the agent responded, what kind of searches it performed on which collections, whether it has identified if the final answer is missing information or not, as well as the final answer 👇"
   ]
  },
  {
   "cell_type": "code",
   "execution_count": 15,
   "metadata": {
    "colab": {
     "base_uri": "https://localhost:8080/",
     "height": 1000
    },
    "id": "2A99656SiOvW",
    "outputId": "1861d4b8-6a84-43f0-d948-227a800bc170"
   },
   "outputs": [
    {
     "data": {
      "text/html": [
       "<pre style=\"white-space:pre;overflow-x:auto;line-height:normal;font-family:Menlo,'DejaVu Sans Mono',consolas,'Courier New',monospace\">╭─────────────────────────────────────────────── 🔍 Original Query ───────────────────────────────────────────────╮\n",
       "│                                                                                                                 │\n",
       "│ I like the vintage clothes, can you list me some options that are less than $200?                               │\n",
       "│                                                                                                                 │\n",
       "╰─────────────────────────────────────────────────────────────────────────────────────────────────────────────────╯\n",
       "</pre>\n"
      ],
      "text/plain": [
       "╭─────────────────────────────────────────────── 🔍 Original Query ───────────────────────────────────────────────╮\n",
       "│                                                                                                                 │\n",
       "│ I like the vintage clothes, can you list me some options that are less than $200?                               │\n",
       "│                                                                                                                 │\n",
       "╰─────────────────────────────────────────────────────────────────────────────────────────────────────────────────╯\n"
      ]
     },
     "metadata": {},
     "output_type": "display_data"
    },
    {
     "data": {
      "text/html": [
       "<pre style=\"white-space:pre;overflow-x:auto;line-height:normal;font-family:Menlo,'DejaVu Sans Mono',consolas,'Courier New',monospace\"><span style=\"color: #008080; text-decoration-color: #008080\">╭────────────────────────────────────────────────</span> 📝 Final Answer <span style=\"color: #008080; text-decoration-color: #008080\">────────────────────────────────────────────────╮</span>\n",
       "<span style=\"color: #008080; text-decoration-color: #008080\">│                                                                                                                 │</span>\n",
       "<span style=\"color: #008080; text-decoration-color: #008080\">│ If you are looking for vintage clothing options under $200, here are some great choices:                        │</span>\n",
       "<span style=\"color: #008080; text-decoration-color: #008080\">│                                                                                                                 │</span>\n",
       "<span style=\"color: #008080; text-decoration-color: #008080\">│ 1. **Vintage Philosopher Midi Dress** - Priced at $125, this dress from Echo &amp; Stitch embraces a classic        │</span>\n",
       "<span style=\"color: #008080; text-decoration-color: #008080\">│ scholarly look with its deep green velvet fabric and antique gold detailing. It's tailored for elegance and is  │</span>\n",
       "<span style=\"color: #008080; text-decoration-color: #008080\">│ ideal for sophisticated occasions.                                                                              │</span>\n",
       "<span style=\"color: #008080; text-decoration-color: #008080\">│                                                                                                                 │</span>\n",
       "<span style=\"color: #008080; text-decoration-color: #008080\">│ 2. **Vintage Gale Pleated Dress** - This $120 dress from Solemn Chic features deep burgundy pleats and          │</span>\n",
       "<span style=\"color: #008080; text-decoration-color: #008080\">│ vintage-inspired sleeve details, perfect for a timeless scholarly appearance.                                   │</span>\n",
       "<span style=\"color: #008080; text-decoration-color: #008080\">│                                                                                                                 │</span>\n",
       "<span style=\"color: #008080; text-decoration-color: #008080\">│ 3. **Retro Groove Flared Pants** - For $59, these electric blue flared pants from Vivid Verse bring back the    │</span>\n",
       "<span style=\"color: #008080; text-decoration-color: #008080\">│ playful spirit of the early 2000s with a modern touch.                                                          │</span>\n",
       "<span style=\"color: #008080; text-decoration-color: #008080\">│                                                                                                                 │</span>\n",
       "<span style=\"color: #008080; text-decoration-color: #008080\">│ 4. **Vintage Scholar Tote** - At $90, this tote from Echo &amp; Stitch combines functionality and elegance, ideal   │</span>\n",
       "<span style=\"color: #008080; text-decoration-color: #008080\">│ for everyday use, especially if you enjoy a scholarly aesthetic.                                                │</span>\n",
       "<span style=\"color: #008080; text-decoration-color: #008080\">│                                                                                                                 │</span>\n",
       "<span style=\"color: #008080; text-decoration-color: #008080\">│ 5. **Electric Velvet Trousers** - Priced at $60, these neon green velvet trousers from Vivid Verse offer a fun, │</span>\n",
       "<span style=\"color: #008080; text-decoration-color: #008080\">│ throwback vibe to early Y2K fashion.                                                                            │</span>\n",
       "<span style=\"color: #008080; text-decoration-color: #008080\">│                                                                                                                 │</span>\n",
       "<span style=\"color: #008080; text-decoration-color: #008080\">│ 6. **Victorian Velvet Jumpsuit** - For $120, this jumpsuit from Solemn Chic offers an elegant blend of romance  │</span>\n",
       "<span style=\"color: #008080; text-decoration-color: #008080\">│ and scholarly charm, suited for library visits or cultured gatherings.                                          │</span>\n",
       "<span style=\"color: #008080; text-decoration-color: #008080\">│                                                                                                                 │</span>\n",
       "<span style=\"color: #008080; text-decoration-color: #008080\">│ 7. **Vintage Scholar Turtleneck** - This $55 turtleneck from Echo &amp; Stitch suits the Dark Academia vibe,        │</span>\n",
       "<span style=\"color: #008080; text-decoration-color: #008080\">│ perfect for layering or wearing alone.                                                                          │</span>\n",
       "<span style=\"color: #008080; text-decoration-color: #008080\">│                                                                                                                 │</span>\n",
       "<span style=\"color: #008080; text-decoration-color: #008080\">│ 8. **Vintage Ivy Loafers** - These $120 loafers from Solemn Chic offer timeless sophistication, with a deep     │</span>\n",
       "<span style=\"color: #008080; text-decoration-color: #008080\">│ burgundy finish that complements any vintage wardrobe.                                                          │</span>\n",
       "<span style=\"color: #008080; text-decoration-color: #008080\">│                                                                                                                 │</span>\n",
       "<span style=\"color: #008080; text-decoration-color: #008080\">│ These options cater to various preferences, from dresses and jumpsuits to pants and accessories, all capturing  │</span>\n",
       "<span style=\"color: #008080; text-decoration-color: #008080\">│ the vintage essence at an affordable price.                                                                     │</span>\n",
       "<span style=\"color: #008080; text-decoration-color: #008080\">│                                                                                                                 │</span>\n",
       "<span style=\"color: #008080; text-decoration-color: #008080\">╰─────────────────────────────────────────────────────────────────────────────────────────────────────────────────╯</span>\n",
       "</pre>\n"
      ],
      "text/plain": [
       "\u001b[36m╭─\u001b[0m\u001b[36m───────────────────────────────────────────────\u001b[0m 📝 Final Answer \u001b[36m───────────────────────────────────────────────\u001b[0m\u001b[36m─╮\u001b[0m\n",
       "\u001b[36m│\u001b[0m\u001b[36m                                                                                                                 \u001b[0m\u001b[36m│\u001b[0m\n",
       "\u001b[36m│\u001b[0m\u001b[36m \u001b[0m\u001b[36mIf you are looking for vintage clothing options under $200, here are some great choices:\u001b[0m\u001b[36m                       \u001b[0m\u001b[36m \u001b[0m\u001b[36m│\u001b[0m\n",
       "\u001b[36m│\u001b[0m\u001b[36m \u001b[0m\u001b[36m                                                                                                               \u001b[0m\u001b[36m \u001b[0m\u001b[36m│\u001b[0m\n",
       "\u001b[36m│\u001b[0m\u001b[36m \u001b[0m\u001b[36m1. **Vintage Philosopher Midi Dress** - Priced at $125, this dress from Echo & Stitch embraces a classic \u001b[0m\u001b[36m      \u001b[0m\u001b[36m \u001b[0m\u001b[36m│\u001b[0m\n",
       "\u001b[36m│\u001b[0m\u001b[36m \u001b[0m\u001b[36mscholarly look with its deep green velvet fabric and antique gold detailing. It's tailored for elegance and is \u001b[0m\u001b[36m \u001b[0m\u001b[36m│\u001b[0m\n",
       "\u001b[36m│\u001b[0m\u001b[36m \u001b[0m\u001b[36mideal for sophisticated occasions.\u001b[0m\u001b[36m                                                                             \u001b[0m\u001b[36m \u001b[0m\u001b[36m│\u001b[0m\n",
       "\u001b[36m│\u001b[0m\u001b[36m \u001b[0m\u001b[36m                                                                                                               \u001b[0m\u001b[36m \u001b[0m\u001b[36m│\u001b[0m\n",
       "\u001b[36m│\u001b[0m\u001b[36m \u001b[0m\u001b[36m2. **Vintage Gale Pleated Dress** - This $120 dress from Solemn Chic features deep burgundy pleats and \u001b[0m\u001b[36m        \u001b[0m\u001b[36m \u001b[0m\u001b[36m│\u001b[0m\n",
       "\u001b[36m│\u001b[0m\u001b[36m \u001b[0m\u001b[36mvintage-inspired sleeve details, perfect for a timeless scholarly appearance.\u001b[0m\u001b[36m                                  \u001b[0m\u001b[36m \u001b[0m\u001b[36m│\u001b[0m\n",
       "\u001b[36m│\u001b[0m\u001b[36m \u001b[0m\u001b[36m                                                                                                               \u001b[0m\u001b[36m \u001b[0m\u001b[36m│\u001b[0m\n",
       "\u001b[36m│\u001b[0m\u001b[36m \u001b[0m\u001b[36m3. **Retro Groove Flared Pants** - For $59, these electric blue flared pants from Vivid Verse bring back the \u001b[0m\u001b[36m  \u001b[0m\u001b[36m \u001b[0m\u001b[36m│\u001b[0m\n",
       "\u001b[36m│\u001b[0m\u001b[36m \u001b[0m\u001b[36mplayful spirit of the early 2000s with a modern touch.\u001b[0m\u001b[36m                                                         \u001b[0m\u001b[36m \u001b[0m\u001b[36m│\u001b[0m\n",
       "\u001b[36m│\u001b[0m\u001b[36m \u001b[0m\u001b[36m                                                                                                               \u001b[0m\u001b[36m \u001b[0m\u001b[36m│\u001b[0m\n",
       "\u001b[36m│\u001b[0m\u001b[36m \u001b[0m\u001b[36m4. **Vintage Scholar Tote** - At $90, this tote from Echo & Stitch combines functionality and elegance, ideal \u001b[0m\u001b[36m \u001b[0m\u001b[36m \u001b[0m\u001b[36m│\u001b[0m\n",
       "\u001b[36m│\u001b[0m\u001b[36m \u001b[0m\u001b[36mfor everyday use, especially if you enjoy a scholarly aesthetic.\u001b[0m\u001b[36m                                               \u001b[0m\u001b[36m \u001b[0m\u001b[36m│\u001b[0m\n",
       "\u001b[36m│\u001b[0m\u001b[36m \u001b[0m\u001b[36m                                                                                                               \u001b[0m\u001b[36m \u001b[0m\u001b[36m│\u001b[0m\n",
       "\u001b[36m│\u001b[0m\u001b[36m \u001b[0m\u001b[36m5. **Electric Velvet Trousers** - Priced at $60, these neon green velvet trousers from Vivid Verse offer a fun,\u001b[0m\u001b[36m \u001b[0m\u001b[36m│\u001b[0m\n",
       "\u001b[36m│\u001b[0m\u001b[36m \u001b[0m\u001b[36mthrowback vibe to early Y2K fashion.\u001b[0m\u001b[36m                                                                           \u001b[0m\u001b[36m \u001b[0m\u001b[36m│\u001b[0m\n",
       "\u001b[36m│\u001b[0m\u001b[36m \u001b[0m\u001b[36m                                                                                                               \u001b[0m\u001b[36m \u001b[0m\u001b[36m│\u001b[0m\n",
       "\u001b[36m│\u001b[0m\u001b[36m \u001b[0m\u001b[36m6. **Victorian Velvet Jumpsuit** - For $120, this jumpsuit from Solemn Chic offers an elegant blend of romance \u001b[0m\u001b[36m \u001b[0m\u001b[36m│\u001b[0m\n",
       "\u001b[36m│\u001b[0m\u001b[36m \u001b[0m\u001b[36mand scholarly charm, suited for library visits or cultured gatherings.\u001b[0m\u001b[36m                                         \u001b[0m\u001b[36m \u001b[0m\u001b[36m│\u001b[0m\n",
       "\u001b[36m│\u001b[0m\u001b[36m \u001b[0m\u001b[36m                                                                                                               \u001b[0m\u001b[36m \u001b[0m\u001b[36m│\u001b[0m\n",
       "\u001b[36m│\u001b[0m\u001b[36m \u001b[0m\u001b[36m7. **Vintage Scholar Turtleneck** - This $55 turtleneck from Echo & Stitch suits the Dark Academia vibe, \u001b[0m\u001b[36m      \u001b[0m\u001b[36m \u001b[0m\u001b[36m│\u001b[0m\n",
       "\u001b[36m│\u001b[0m\u001b[36m \u001b[0m\u001b[36mperfect for layering or wearing alone.\u001b[0m\u001b[36m                                                                         \u001b[0m\u001b[36m \u001b[0m\u001b[36m│\u001b[0m\n",
       "\u001b[36m│\u001b[0m\u001b[36m \u001b[0m\u001b[36m                                                                                                               \u001b[0m\u001b[36m \u001b[0m\u001b[36m│\u001b[0m\n",
       "\u001b[36m│\u001b[0m\u001b[36m \u001b[0m\u001b[36m8. **Vintage Ivy Loafers** - These $120 loafers from Solemn Chic offer timeless sophistication, with a deep \u001b[0m\u001b[36m   \u001b[0m\u001b[36m \u001b[0m\u001b[36m│\u001b[0m\n",
       "\u001b[36m│\u001b[0m\u001b[36m \u001b[0m\u001b[36mburgundy finish that complements any vintage wardrobe.\u001b[0m\u001b[36m                                                         \u001b[0m\u001b[36m \u001b[0m\u001b[36m│\u001b[0m\n",
       "\u001b[36m│\u001b[0m\u001b[36m \u001b[0m\u001b[36m                                                                                                               \u001b[0m\u001b[36m \u001b[0m\u001b[36m│\u001b[0m\n",
       "\u001b[36m│\u001b[0m\u001b[36m \u001b[0m\u001b[36mThese options cater to various preferences, from dresses and jumpsuits to pants and accessories, all capturing \u001b[0m\u001b[36m \u001b[0m\u001b[36m│\u001b[0m\n",
       "\u001b[36m│\u001b[0m\u001b[36m \u001b[0m\u001b[36mthe vintage essence at an affordable price.\u001b[0m\u001b[36m                                                                    \u001b[0m\u001b[36m \u001b[0m\u001b[36m│\u001b[0m\n",
       "\u001b[36m│\u001b[0m\u001b[36m                                                                                                                 \u001b[0m\u001b[36m│\u001b[0m\n",
       "\u001b[36m╰─────────────────────────────────────────────────────────────────────────────────────────────────────────────────╯\u001b[0m\n"
      ]
     },
     "metadata": {},
     "output_type": "display_data"
    },
    {
     "data": {
      "text/html": [
       "<pre style=\"white-space:pre;overflow-x:auto;line-height:normal;font-family:Menlo,'DejaVu Sans Mono',consolas,'Courier New',monospace\"><span style=\"color: #c0c0c0; text-decoration-color: #c0c0c0\">╭───────────────────────────────────────────</span> 🔭 Searches Executed 1/1 <span style=\"color: #c0c0c0; text-decoration-color: #c0c0c0\">────────────────────────────────────────────╮</span>\n",
       "<span style=\"color: #c0c0c0; text-decoration-color: #c0c0c0\">│                                                                                                                 │</span>\n",
       "<span style=\"color: #c0c0c0; text-decoration-color: #c0c0c0\">│ </span><span style=\"color: #800080; text-decoration-color: #800080; font-weight: bold\">QueryResultWithCollection</span><span style=\"color: #c0c0c0; text-decoration-color: #c0c0c0; font-weight: bold\">(</span><span style=\"color: #c0c0c0; text-decoration-color: #c0c0c0\">                                                                                      │</span>\n",
       "<span style=\"color: #c0c0c0; text-decoration-color: #c0c0c0\">│     </span><span style=\"color: #808000; text-decoration-color: #808000\">queries</span><span style=\"color: #c0c0c0; text-decoration-color: #c0c0c0\">=</span><span style=\"color: #c0c0c0; text-decoration-color: #c0c0c0; font-weight: bold\">[</span><span style=\"color: #008000; text-decoration-color: #008000\">'vintage clothes'</span><span style=\"color: #c0c0c0; text-decoration-color: #c0c0c0; font-weight: bold\">]</span><span style=\"color: #c0c0c0; text-decoration-color: #c0c0c0\">,                                                                                │</span>\n",
       "<span style=\"color: #c0c0c0; text-decoration-color: #c0c0c0\">│     </span><span style=\"color: #808000; text-decoration-color: #808000\">filters</span><span style=\"color: #c0c0c0; text-decoration-color: #c0c0c0\">=</span><span style=\"color: #c0c0c0; text-decoration-color: #c0c0c0; font-weight: bold\">[</span><span style=\"color: #c0c0c0; text-decoration-color: #c0c0c0\">                                                                                                   │</span>\n",
       "<span style=\"color: #c0c0c0; text-decoration-color: #c0c0c0\">│         </span><span style=\"color: #c0c0c0; text-decoration-color: #c0c0c0; font-weight: bold\">[</span><span style=\"color: #c0c0c0; text-decoration-color: #c0c0c0\">                                                                                                       │</span>\n",
       "<span style=\"color: #c0c0c0; text-decoration-color: #c0c0c0\">│             </span><span style=\"color: #800080; text-decoration-color: #800080; font-weight: bold\">IntegerPropertyFilter</span><span style=\"color: #c0c0c0; text-decoration-color: #c0c0c0; font-weight: bold\">(</span><span style=\"color: #c0c0c0; text-decoration-color: #c0c0c0\">                                                                              │</span>\n",
       "<span style=\"color: #c0c0c0; text-decoration-color: #c0c0c0\">│                 </span><span style=\"color: #808000; text-decoration-color: #808000\">property_name</span><span style=\"color: #c0c0c0; text-decoration-color: #c0c0c0\">=</span><span style=\"color: #008000; text-decoration-color: #008000\">'price'</span><span style=\"color: #c0c0c0; text-decoration-color: #c0c0c0\">,                                                                          │</span>\n",
       "<span style=\"color: #c0c0c0; text-decoration-color: #c0c0c0\">│                 </span><span style=\"color: #808000; text-decoration-color: #808000\">operator</span><span style=\"color: #c0c0c0; text-decoration-color: #c0c0c0\">=</span><span style=\"color: #c0c0c0; text-decoration-color: #c0c0c0; font-weight: bold\">&lt;</span><span style=\"color: #ff00ff; text-decoration-color: #ff00ff; font-weight: bold\">ComparisonOperator.LESS_THAN:</span><span style=\"color: #000000; text-decoration-color: #000000\"> </span><span style=\"color: #008000; text-decoration-color: #008000\">'&lt;'</span><span style=\"color: #c0c0c0; text-decoration-color: #c0c0c0; font-weight: bold\">&gt;</span><span style=\"color: #c0c0c0; text-decoration-color: #c0c0c0\">,                                                   │</span>\n",
       "<span style=\"color: #c0c0c0; text-decoration-color: #c0c0c0\">│                 </span><span style=\"color: #808000; text-decoration-color: #808000\">value</span><span style=\"color: #c0c0c0; text-decoration-color: #c0c0c0\">=</span><span style=\"color: #008080; text-decoration-color: #008080; font-weight: bold\">200.0</span><span style=\"color: #c0c0c0; text-decoration-color: #c0c0c0\">                                                                                     │</span>\n",
       "<span style=\"color: #c0c0c0; text-decoration-color: #c0c0c0\">│             </span><span style=\"color: #c0c0c0; text-decoration-color: #c0c0c0; font-weight: bold\">)</span><span style=\"color: #c0c0c0; text-decoration-color: #c0c0c0\">                                                                                                   │</span>\n",
       "<span style=\"color: #c0c0c0; text-decoration-color: #c0c0c0\">│         </span><span style=\"color: #c0c0c0; text-decoration-color: #c0c0c0; font-weight: bold\">]</span><span style=\"color: #c0c0c0; text-decoration-color: #c0c0c0\">                                                                                                       │</span>\n",
       "<span style=\"color: #c0c0c0; text-decoration-color: #c0c0c0\">│     </span><span style=\"color: #c0c0c0; text-decoration-color: #c0c0c0; font-weight: bold\">]</span><span style=\"color: #c0c0c0; text-decoration-color: #c0c0c0\">,                                                                                                          │</span>\n",
       "<span style=\"color: #c0c0c0; text-decoration-color: #c0c0c0\">│     </span><span style=\"color: #808000; text-decoration-color: #808000\">filter_operators</span><span style=\"color: #c0c0c0; text-decoration-color: #c0c0c0\">=</span><span style=\"color: #008000; text-decoration-color: #008000\">'AND'</span><span style=\"color: #c0c0c0; text-decoration-color: #c0c0c0\">,                                                                                     │</span>\n",
       "<span style=\"color: #c0c0c0; text-decoration-color: #c0c0c0\">│     </span><span style=\"color: #808000; text-decoration-color: #808000\">collection</span><span style=\"color: #c0c0c0; text-decoration-color: #c0c0c0\">=</span><span style=\"color: #008000; text-decoration-color: #008000\">'Ecommerce'</span><span style=\"color: #c0c0c0; text-decoration-color: #c0c0c0\">                                                                                      │</span>\n",
       "<span style=\"color: #c0c0c0; text-decoration-color: #c0c0c0\">│ </span><span style=\"color: #c0c0c0; text-decoration-color: #c0c0c0; font-weight: bold\">)</span><span style=\"color: #c0c0c0; text-decoration-color: #c0c0c0\">                                                                                                               │</span>\n",
       "<span style=\"color: #c0c0c0; text-decoration-color: #c0c0c0\">│                                                                                                                 │</span>\n",
       "<span style=\"color: #c0c0c0; text-decoration-color: #c0c0c0\">╰─────────────────────────────────────────────────────────────────────────────────────────────────────────────────╯</span>\n",
       "</pre>\n"
      ],
      "text/plain": [
       "\u001b[37m╭─\u001b[0m\u001b[37m──────────────────────────────────────────\u001b[0m 🔭 Searches Executed 1/1 \u001b[37m───────────────────────────────────────────\u001b[0m\u001b[37m─╮\u001b[0m\n",
       "\u001b[37m│\u001b[0m\u001b[37m                                                                                                                 \u001b[0m\u001b[37m│\u001b[0m\n",
       "\u001b[37m│\u001b[0m\u001b[37m \u001b[0m\u001b[1;35mQueryResultWithCollection\u001b[0m\u001b[1;37m(\u001b[0m\u001b[37m                                                                                     \u001b[0m\u001b[37m \u001b[0m\u001b[37m│\u001b[0m\n",
       "\u001b[37m│\u001b[0m\u001b[37m \u001b[0m\u001b[37m    \u001b[0m\u001b[33mqueries\u001b[0m\u001b[37m=\u001b[0m\u001b[1;37m[\u001b[0m\u001b[32m'vintage clothes'\u001b[0m\u001b[1;37m]\u001b[0m\u001b[37m,\u001b[0m\u001b[37m                                                                               \u001b[0m\u001b[37m \u001b[0m\u001b[37m│\u001b[0m\n",
       "\u001b[37m│\u001b[0m\u001b[37m \u001b[0m\u001b[37m    \u001b[0m\u001b[33mfilters\u001b[0m\u001b[37m=\u001b[0m\u001b[1;37m[\u001b[0m\u001b[37m                                                                                                  \u001b[0m\u001b[37m \u001b[0m\u001b[37m│\u001b[0m\n",
       "\u001b[37m│\u001b[0m\u001b[37m \u001b[0m\u001b[37m        \u001b[0m\u001b[1;37m[\u001b[0m\u001b[37m                                                                                                      \u001b[0m\u001b[37m \u001b[0m\u001b[37m│\u001b[0m\n",
       "\u001b[37m│\u001b[0m\u001b[37m \u001b[0m\u001b[37m            \u001b[0m\u001b[1;35mIntegerPropertyFilter\u001b[0m\u001b[1;37m(\u001b[0m\u001b[37m                                                                             \u001b[0m\u001b[37m \u001b[0m\u001b[37m│\u001b[0m\n",
       "\u001b[37m│\u001b[0m\u001b[37m \u001b[0m\u001b[37m                \u001b[0m\u001b[33mproperty_name\u001b[0m\u001b[37m=\u001b[0m\u001b[32m'price'\u001b[0m\u001b[37m,\u001b[0m\u001b[37m                                                                         \u001b[0m\u001b[37m \u001b[0m\u001b[37m│\u001b[0m\n",
       "\u001b[37m│\u001b[0m\u001b[37m \u001b[0m\u001b[37m                \u001b[0m\u001b[33moperator\u001b[0m\u001b[37m=\u001b[0m\u001b[1;37m<\u001b[0m\u001b[1;95mComparisonOperator.LESS_THAN:\u001b[0m\u001b[39m \u001b[0m\u001b[32m'<'\u001b[0m\u001b[1;37m>\u001b[0m\u001b[37m,\u001b[0m\u001b[37m                                                  \u001b[0m\u001b[37m \u001b[0m\u001b[37m│\u001b[0m\n",
       "\u001b[37m│\u001b[0m\u001b[37m \u001b[0m\u001b[37m                \u001b[0m\u001b[33mvalue\u001b[0m\u001b[37m=\u001b[0m\u001b[1;36m200\u001b[0m\u001b[1;36m.0\u001b[0m\u001b[37m                                                                                    \u001b[0m\u001b[37m \u001b[0m\u001b[37m│\u001b[0m\n",
       "\u001b[37m│\u001b[0m\u001b[37m \u001b[0m\u001b[37m            \u001b[0m\u001b[1;37m)\u001b[0m\u001b[37m                                                                                                  \u001b[0m\u001b[37m \u001b[0m\u001b[37m│\u001b[0m\n",
       "\u001b[37m│\u001b[0m\u001b[37m \u001b[0m\u001b[37m        \u001b[0m\u001b[1;37m]\u001b[0m\u001b[37m                                                                                                      \u001b[0m\u001b[37m \u001b[0m\u001b[37m│\u001b[0m\n",
       "\u001b[37m│\u001b[0m\u001b[37m \u001b[0m\u001b[37m    \u001b[0m\u001b[1;37m]\u001b[0m\u001b[37m,\u001b[0m\u001b[37m                                                                                                         \u001b[0m\u001b[37m \u001b[0m\u001b[37m│\u001b[0m\n",
       "\u001b[37m│\u001b[0m\u001b[37m \u001b[0m\u001b[37m    \u001b[0m\u001b[33mfilter_operators\u001b[0m\u001b[37m=\u001b[0m\u001b[32m'AND'\u001b[0m\u001b[37m,\u001b[0m\u001b[37m                                                                                    \u001b[0m\u001b[37m \u001b[0m\u001b[37m│\u001b[0m\n",
       "\u001b[37m│\u001b[0m\u001b[37m \u001b[0m\u001b[37m    \u001b[0m\u001b[33mcollection\u001b[0m\u001b[37m=\u001b[0m\u001b[32m'Ecommerce'\u001b[0m\u001b[37m                                                                                     \u001b[0m\u001b[37m \u001b[0m\u001b[37m│\u001b[0m\n",
       "\u001b[37m│\u001b[0m\u001b[37m \u001b[0m\u001b[1;37m)\u001b[0m\u001b[37m                                                                                                              \u001b[0m\u001b[37m \u001b[0m\u001b[37m│\u001b[0m\n",
       "\u001b[37m│\u001b[0m\u001b[37m                                                                                                                 \u001b[0m\u001b[37m│\u001b[0m\n",
       "\u001b[37m╰─────────────────────────────────────────────────────────────────────────────────────────────────────────────────╯\u001b[0m\n"
      ]
     },
     "metadata": {},
     "output_type": "display_data"
    },
    {
     "data": {
      "text/html": [
       "<pre style=\"white-space:pre;overflow-x:auto;line-height:normal;font-family:Menlo,'DejaVu Sans Mono',consolas,'Courier New',monospace\"><span style=\"color: #d75f5f; text-decoration-color: #d75f5f\">╭─────────────────────────────────────────────────────────────────────────────────────────────────────────────────╮</span>\n",
       "<span style=\"color: #d75f5f; text-decoration-color: #d75f5f\">│                                                                                                                 │</span>\n",
       "<span style=\"color: #d75f5f; text-decoration-color: #d75f5f\">│ 📊 No Aggregations Run                                                                                          │</span>\n",
       "<span style=\"color: #d75f5f; text-decoration-color: #d75f5f\">│                                                                                                                 │</span>\n",
       "<span style=\"color: #d75f5f; text-decoration-color: #d75f5f\">╰─────────────────────────────────────────────────────────────────────────────────────────────────────────────────╯</span>\n",
       "</pre>\n"
      ],
      "text/plain": [
       "\u001b[38;5;167m╭─────────────────────────────────────────────────────────────────────────────────────────────────────────────────╮\u001b[0m\n",
       "\u001b[38;5;167m│\u001b[0m\u001b[38;5;167m                                                                                                                 \u001b[0m\u001b[38;5;167m│\u001b[0m\n",
       "\u001b[38;5;167m│\u001b[0m\u001b[38;5;167m \u001b[0m\u001b[38;5;167m📊 No Aggregations Run\u001b[0m\u001b[38;5;167m                                                                                         \u001b[0m\u001b[38;5;167m \u001b[0m\u001b[38;5;167m│\u001b[0m\n",
       "\u001b[38;5;167m│\u001b[0m\u001b[38;5;167m                                                                                                                 \u001b[0m\u001b[38;5;167m│\u001b[0m\n",
       "\u001b[38;5;167m╰─────────────────────────────────────────────────────────────────────────────────────────────────────────────────╯\u001b[0m\n"
      ]
     },
     "metadata": {},
     "output_type": "display_data"
    },
    {
     "data": {
      "text/html": [
       "<pre style=\"white-space:pre;overflow-x:auto;line-height:normal;font-family:Menlo,'DejaVu Sans Mono',consolas,'Courier New',monospace\"><span style=\"color: #c0c0c0; text-decoration-color: #c0c0c0\">╭──────────────────────────────────────────────────</span> 📚 Sources <span style=\"color: #c0c0c0; text-decoration-color: #c0c0c0\">───────────────────────────────────────────────────╮</span>\n",
       "<span style=\"color: #c0c0c0; text-decoration-color: #c0c0c0\">│                                                                                                                 │</span>\n",
       "<span style=\"color: #c0c0c0; text-decoration-color: #c0c0c0\">│  - object_id='5e9c5298-5b3a-4d80-b226-64b2ff6689b7' collection='Ecommerce'                                      │</span>\n",
       "<span style=\"color: #c0c0c0; text-decoration-color: #c0c0c0\">│  - object_id='48896222-d098-42e6-80df-ad4b03723c19' collection='Ecommerce'                                      │</span>\n",
       "<span style=\"color: #c0c0c0; text-decoration-color: #c0c0c0\">│  - object_id='00b383ca-262f-4251-b513-dafd4862c021' collection='Ecommerce'                                      │</span>\n",
       "<span style=\"color: #c0c0c0; text-decoration-color: #c0c0c0\">│  - object_id='cbe8f8be-304b-409d-a2a1-bafa0bbf249c' collection='Ecommerce'                                      │</span>\n",
       "<span style=\"color: #c0c0c0; text-decoration-color: #c0c0c0\">│  - object_id='c18d3c5b-8fbe-4816-bc60-174f336a982f' collection='Ecommerce'                                      │</span>\n",
       "<span style=\"color: #c0c0c0; text-decoration-color: #c0c0c0\">│  - object_id='1811da1b-6930-4bd1-832e-f8fa2119d4df' collection='Ecommerce'                                      │</span>\n",
       "<span style=\"color: #c0c0c0; text-decoration-color: #c0c0c0\">│  - object_id='2edd1bc5-777e-4376-95cd-42a141ffb71e' collection='Ecommerce'                                      │</span>\n",
       "<span style=\"color: #c0c0c0; text-decoration-color: #c0c0c0\">│  - object_id='9819907c-1015-4b4c-ac75-3b3848e7c247' collection='Ecommerce'                                      │</span>\n",
       "<span style=\"color: #c0c0c0; text-decoration-color: #c0c0c0\">│                                                                                                                 │</span>\n",
       "<span style=\"color: #c0c0c0; text-decoration-color: #c0c0c0\">╰─────────────────────────────────────────────────────────────────────────────────────────────────────────────────╯</span>\n",
       "</pre>\n"
      ],
      "text/plain": [
       "\u001b[37m╭─\u001b[0m\u001b[37m─────────────────────────────────────────────────\u001b[0m 📚 Sources \u001b[37m──────────────────────────────────────────────────\u001b[0m\u001b[37m─╮\u001b[0m\n",
       "\u001b[37m│\u001b[0m\u001b[37m                                                                                                                 \u001b[0m\u001b[37m│\u001b[0m\n",
       "\u001b[37m│\u001b[0m\u001b[37m \u001b[0m\u001b[37m - object_id='5e9c5298-5b3a-4d80-b226-64b2ff6689b7' collection='Ecommerce'\u001b[0m\u001b[37m                                     \u001b[0m\u001b[37m \u001b[0m\u001b[37m│\u001b[0m\n",
       "\u001b[37m│\u001b[0m\u001b[37m \u001b[0m\u001b[37m - object_id='48896222-d098-42e6-80df-ad4b03723c19' collection='Ecommerce'\u001b[0m\u001b[37m                                     \u001b[0m\u001b[37m \u001b[0m\u001b[37m│\u001b[0m\n",
       "\u001b[37m│\u001b[0m\u001b[37m \u001b[0m\u001b[37m - object_id='00b383ca-262f-4251-b513-dafd4862c021' collection='Ecommerce'\u001b[0m\u001b[37m                                     \u001b[0m\u001b[37m \u001b[0m\u001b[37m│\u001b[0m\n",
       "\u001b[37m│\u001b[0m\u001b[37m \u001b[0m\u001b[37m - object_id='cbe8f8be-304b-409d-a2a1-bafa0bbf249c' collection='Ecommerce'\u001b[0m\u001b[37m                                     \u001b[0m\u001b[37m \u001b[0m\u001b[37m│\u001b[0m\n",
       "\u001b[37m│\u001b[0m\u001b[37m \u001b[0m\u001b[37m - object_id='c18d3c5b-8fbe-4816-bc60-174f336a982f' collection='Ecommerce'\u001b[0m\u001b[37m                                     \u001b[0m\u001b[37m \u001b[0m\u001b[37m│\u001b[0m\n",
       "\u001b[37m│\u001b[0m\u001b[37m \u001b[0m\u001b[37m - object_id='1811da1b-6930-4bd1-832e-f8fa2119d4df' collection='Ecommerce'\u001b[0m\u001b[37m                                     \u001b[0m\u001b[37m \u001b[0m\u001b[37m│\u001b[0m\n",
       "\u001b[37m│\u001b[0m\u001b[37m \u001b[0m\u001b[37m - object_id='2edd1bc5-777e-4376-95cd-42a141ffb71e' collection='Ecommerce'\u001b[0m\u001b[37m                                     \u001b[0m\u001b[37m \u001b[0m\u001b[37m│\u001b[0m\n",
       "\u001b[37m│\u001b[0m\u001b[37m \u001b[0m\u001b[37m - object_id='9819907c-1015-4b4c-ac75-3b3848e7c247' collection='Ecommerce'\u001b[0m\u001b[37m                                     \u001b[0m\u001b[37m \u001b[0m\u001b[37m│\u001b[0m\n",
       "\u001b[37m│\u001b[0m\u001b[37m                                                                                                                 \u001b[0m\u001b[37m│\u001b[0m\n",
       "\u001b[37m╰─────────────────────────────────────────────────────────────────────────────────────────────────────────────────╯\u001b[0m\n"
      ]
     },
     "metadata": {},
     "output_type": "display_data"
    },
    {
     "name": "stdout",
     "output_type": "stream",
     "text": [
      "\n",
      "\n"
     ]
    },
    {
     "data": {
      "text/html": [
       "<pre style=\"white-space:pre;overflow-x:auto;line-height:normal;font-family:Menlo,'DejaVu Sans Mono',consolas,'Courier New',monospace\"><span style=\"font-style: italic\">   📊 Usage Statistics   </span>\n",
       "┌────────────────┬──────┐\n",
       "│ LLM Requests:  │ 3    │\n",
       "│ Input Tokens:  │ 7774 │\n",
       "│ Output Tokens: │ 512  │\n",
       "│ Total Tokens:  │ 8286 │\n",
       "└────────────────┴──────┘\n",
       "</pre>\n"
      ],
      "text/plain": [
       "\u001b[3m   📊 Usage Statistics   \u001b[0m\n",
       "┌────────────────┬──────┐\n",
       "│ LLM Requests:  │ 3    │\n",
       "│ Input Tokens:  │ 7774 │\n",
       "│ Output Tokens: │ 512  │\n",
       "│ Total Tokens:  │ 8286 │\n",
       "└────────────────┴──────┘\n"
      ]
     },
     "metadata": {},
     "output_type": "display_data"
    },
    {
     "data": {
      "text/html": [
       "<pre style=\"white-space:pre;overflow-x:auto;line-height:normal;font-family:Menlo,'DejaVu Sans Mono',consolas,'Courier New',monospace\">\n",
       "<span style=\"color: #008080; text-decoration-color: #008080; font-weight: bold\">Total Time Taken:</span><span style=\"color: #008080; text-decoration-color: #008080\"> </span><span style=\"color: #008080; text-decoration-color: #008080; font-weight: bold\">16.</span><span style=\"color: #008080; text-decoration-color: #008080\">93s</span>\n",
       "</pre>\n"
      ],
      "text/plain": [
       "\n",
       "\u001b[1;36mTotal Time Taken:\u001b[0m\u001b[36m \u001b[0m\u001b[1;36m16.\u001b[0m\u001b[36m93s\u001b[0m\n"
      ]
     },
     "metadata": {},
     "output_type": "display_data"
    }
   ],
   "source": [
    "from weaviate.agents.utils import print_query_agent_response\n",
    "\n",
    "response = agent.run(\"I like the vintage clothes, can you list me some options that are less than $200?\")\n",
    "print_query_agent_response(response)"
   ]
  },
  {
   "cell_type": "markdown",
   "metadata": {
    "id": "RqsUGStI-RC_"
   },
   "source": [
    "### Ask a follow up question\n",
    "\n",
    "The agent can also be provided with additional context. For example, we can provide the previous response as context and get a `new_response`"
   ]
  },
  {
   "cell_type": "code",
   "execution_count": 6,
   "metadata": {
    "colab": {
     "base_uri": "https://localhost:8080/",
     "height": 1000
    },
    "id": "l--e-1HJiQu6",
    "outputId": "4e793e9d-6e89-4c85-8e19-57d95530ecf1"
   },
   "outputs": [
    {
     "data": {
      "text/html": [
       "<pre style=\"white-space:pre;overflow-x:auto;line-height:normal;font-family:Menlo,'DejaVu Sans Mono',consolas,'Courier New',monospace\">╭─────────────────────────────────────────────── 🔍 Original Query ───────────────────────────────────────────────╮\n",
       "│                                                                                                                 │\n",
       "│ What about some nice shoes, same budget as before?                                                              │\n",
       "│                                                                                                                 │\n",
       "╰─────────────────────────────────────────────────────────────────────────────────────────────────────────────────╯\n",
       "</pre>\n"
      ],
      "text/plain": [
       "╭─────────────────────────────────────────────── 🔍 Original Query ───────────────────────────────────────────────╮\n",
       "│                                                                                                                 │\n",
       "│ What about some nice shoes, same budget as before?                                                              │\n",
       "│                                                                                                                 │\n",
       "╰─────────────────────────────────────────────────────────────────────────────────────────────────────────────────╯\n"
      ]
     },
     "metadata": {},
     "output_type": "display_data"
    },
    {
     "data": {
      "text/html": [
       "<pre style=\"white-space:pre;overflow-x:auto;line-height:normal;font-family:Menlo,'DejaVu Sans Mono',consolas,'Courier New',monospace\"><span style=\"color: #008080; text-decoration-color: #008080\">╭────────────────────────────────────────────────</span> 📝 Final Answer <span style=\"color: #008080; text-decoration-color: #008080\">────────────────────────────────────────────────╮</span>\n",
       "<span style=\"color: #008080; text-decoration-color: #008080\">│                                                                                                                 │</span>\n",
       "<span style=\"color: #008080; text-decoration-color: #008080\">│ Here are some great shoe options under $200 that you might like:                                                │</span>\n",
       "<span style=\"color: #008080; text-decoration-color: #008080\">│                                                                                                                 │</span>\n",
       "<span style=\"color: #008080; text-decoration-color: #008080\">│ 1. **Vintage Noir Loafers** - Priced at $125, these loafers are part of the Dark Academia collection by Solemn  │</span>\n",
       "<span style=\"color: #008080; text-decoration-color: #008080\">│ Chic. They come in black and grey, featuring a classic design with a modern twist. Reviews highlight their      │</span>\n",
       "<span style=\"color: #008080; text-decoration-color: #008080\">│ comfort and stylish appearance, making them suitable for both casual and formal settings.                       │</span>\n",
       "<span style=\"color: #008080; text-decoration-color: #008080\">│                                                                                                                 │</span>\n",
       "<span style=\"color: #008080; text-decoration-color: #008080\">│ 2. **Parchment Boots** - At $145, these boots from Nova Nest's Light Academia collection are noted for their    │</span>\n",
       "<span style=\"color: #008080; text-decoration-color: #008080\">│ elegant ivory leather and classical detail stitching. They are praised for their comfort and versatile style.   │</span>\n",
       "<span style=\"color: #008080; text-decoration-color: #008080\">│                                                                                                                 │</span>\n",
       "<span style=\"color: #008080; text-decoration-color: #008080\">│ 3. **Bramble Berry Loafers** - These loafers, priced at $75, come in pink and green and are marked by their     │</span>\n",
       "<span style=\"color: #008080; text-decoration-color: #008080\">│ eco-friendly material and countryside aesthetic. Produced by Eko &amp; Stitch, they are loved for their comfort and │</span>\n",
       "<span style=\"color: #008080; text-decoration-color: #008080\">│ sustainability.                                                                                                 │</span>\n",
       "<span style=\"color: #008080; text-decoration-color: #008080\">│                                                                                                                 │</span>\n",
       "<span style=\"color: #008080; text-decoration-color: #008080\">│ 4. **Glide Platforms** - Available for $90 from the Y2K collection by Vivid Verse, these platform sneakers are  │</span>\n",
       "<span style=\"color: #008080; text-decoration-color: #008080\">│ both comfortable and stylish with a high-shine pink finish.                                                     │</span>\n",
       "<span style=\"color: #008080; text-decoration-color: #008080\">│                                                                                                                 │</span>\n",
       "<span style=\"color: #008080; text-decoration-color: #008080\">│ 5. **Sky Shimmer Sneaks** - Costing $69, these sneakers are from the Y2K collection by Nova Nest and offer a    │</span>\n",
       "<span style=\"color: #008080; text-decoration-color: #008080\">│ comfortable fit with a touch of sparkle for style.                                                              │</span>\n",
       "<span style=\"color: #008080; text-decoration-color: #008080\">│                                                                                                                 │</span>\n",
       "<span style=\"color: #008080; text-decoration-color: #008080\">│ These selections offer a mix of formal and casual styles, ensuring you can find a perfect pair under your       │</span>\n",
       "<span style=\"color: #008080; text-decoration-color: #008080\">│ budget of $200.                                                                                                 │</span>\n",
       "<span style=\"color: #008080; text-decoration-color: #008080\">│                                                                                                                 │</span>\n",
       "<span style=\"color: #008080; text-decoration-color: #008080\">╰─────────────────────────────────────────────────────────────────────────────────────────────────────────────────╯</span>\n",
       "</pre>\n"
      ],
      "text/plain": [
       "\u001b[36m╭─\u001b[0m\u001b[36m───────────────────────────────────────────────\u001b[0m 📝 Final Answer \u001b[36m───────────────────────────────────────────────\u001b[0m\u001b[36m─╮\u001b[0m\n",
       "\u001b[36m│\u001b[0m\u001b[36m                                                                                                                 \u001b[0m\u001b[36m│\u001b[0m\n",
       "\u001b[36m│\u001b[0m\u001b[36m \u001b[0m\u001b[36mHere are some great shoe options under $200 that you might like:\u001b[0m\u001b[36m                                               \u001b[0m\u001b[36m \u001b[0m\u001b[36m│\u001b[0m\n",
       "\u001b[36m│\u001b[0m\u001b[36m \u001b[0m\u001b[36m                                                                                                               \u001b[0m\u001b[36m \u001b[0m\u001b[36m│\u001b[0m\n",
       "\u001b[36m│\u001b[0m\u001b[36m \u001b[0m\u001b[36m1. **Vintage Noir Loafers** - Priced at $125, these loafers are part of the Dark Academia collection by Solemn \u001b[0m\u001b[36m \u001b[0m\u001b[36m│\u001b[0m\n",
       "\u001b[36m│\u001b[0m\u001b[36m \u001b[0m\u001b[36mChic. They come in black and grey, featuring a classic design with a modern twist. Reviews highlight their \u001b[0m\u001b[36m    \u001b[0m\u001b[36m \u001b[0m\u001b[36m│\u001b[0m\n",
       "\u001b[36m│\u001b[0m\u001b[36m \u001b[0m\u001b[36mcomfort and stylish appearance, making them suitable for both casual and formal settings.\u001b[0m\u001b[36m                      \u001b[0m\u001b[36m \u001b[0m\u001b[36m│\u001b[0m\n",
       "\u001b[36m│\u001b[0m\u001b[36m \u001b[0m\u001b[36m                                                                                                               \u001b[0m\u001b[36m \u001b[0m\u001b[36m│\u001b[0m\n",
       "\u001b[36m│\u001b[0m\u001b[36m \u001b[0m\u001b[36m2. **Parchment Boots** - At $145, these boots from Nova Nest's Light Academia collection are noted for their \u001b[0m\u001b[36m  \u001b[0m\u001b[36m \u001b[0m\u001b[36m│\u001b[0m\n",
       "\u001b[36m│\u001b[0m\u001b[36m \u001b[0m\u001b[36melegant ivory leather and classical detail stitching. They are praised for their comfort and versatile style.\u001b[0m\u001b[36m  \u001b[0m\u001b[36m \u001b[0m\u001b[36m│\u001b[0m\n",
       "\u001b[36m│\u001b[0m\u001b[36m \u001b[0m\u001b[36m                                                                                                               \u001b[0m\u001b[36m \u001b[0m\u001b[36m│\u001b[0m\n",
       "\u001b[36m│\u001b[0m\u001b[36m \u001b[0m\u001b[36m3. **Bramble Berry Loafers** - These loafers, priced at $75, come in pink and green and are marked by their \u001b[0m\u001b[36m   \u001b[0m\u001b[36m \u001b[0m\u001b[36m│\u001b[0m\n",
       "\u001b[36m│\u001b[0m\u001b[36m \u001b[0m\u001b[36meco-friendly material and countryside aesthetic. Produced by Eko & Stitch, they are loved for their comfort and\u001b[0m\u001b[36m \u001b[0m\u001b[36m│\u001b[0m\n",
       "\u001b[36m│\u001b[0m\u001b[36m \u001b[0m\u001b[36msustainability.\u001b[0m\u001b[36m                                                                                                \u001b[0m\u001b[36m \u001b[0m\u001b[36m│\u001b[0m\n",
       "\u001b[36m│\u001b[0m\u001b[36m \u001b[0m\u001b[36m                                                                                                               \u001b[0m\u001b[36m \u001b[0m\u001b[36m│\u001b[0m\n",
       "\u001b[36m│\u001b[0m\u001b[36m \u001b[0m\u001b[36m4. **Glide Platforms** - Available for $90 from the Y2K collection by Vivid Verse, these platform sneakers are \u001b[0m\u001b[36m \u001b[0m\u001b[36m│\u001b[0m\n",
       "\u001b[36m│\u001b[0m\u001b[36m \u001b[0m\u001b[36mboth comfortable and stylish with a high-shine pink finish.\u001b[0m\u001b[36m                                                    \u001b[0m\u001b[36m \u001b[0m\u001b[36m│\u001b[0m\n",
       "\u001b[36m│\u001b[0m\u001b[36m \u001b[0m\u001b[36m                                                                                                               \u001b[0m\u001b[36m \u001b[0m\u001b[36m│\u001b[0m\n",
       "\u001b[36m│\u001b[0m\u001b[36m \u001b[0m\u001b[36m5. **Sky Shimmer Sneaks** - Costing $69, these sneakers are from the Y2K collection by Nova Nest and offer a \u001b[0m\u001b[36m  \u001b[0m\u001b[36m \u001b[0m\u001b[36m│\u001b[0m\n",
       "\u001b[36m│\u001b[0m\u001b[36m \u001b[0m\u001b[36mcomfortable fit with a touch of sparkle for style.\u001b[0m\u001b[36m                                                             \u001b[0m\u001b[36m \u001b[0m\u001b[36m│\u001b[0m\n",
       "\u001b[36m│\u001b[0m\u001b[36m \u001b[0m\u001b[36m                                                                                                               \u001b[0m\u001b[36m \u001b[0m\u001b[36m│\u001b[0m\n",
       "\u001b[36m│\u001b[0m\u001b[36m \u001b[0m\u001b[36mThese selections offer a mix of formal and casual styles, ensuring you can find a perfect pair under your \u001b[0m\u001b[36m     \u001b[0m\u001b[36m \u001b[0m\u001b[36m│\u001b[0m\n",
       "\u001b[36m│\u001b[0m\u001b[36m \u001b[0m\u001b[36mbudget of $200.\u001b[0m\u001b[36m                                                                                                \u001b[0m\u001b[36m \u001b[0m\u001b[36m│\u001b[0m\n",
       "\u001b[36m│\u001b[0m\u001b[36m                                                                                                                 \u001b[0m\u001b[36m│\u001b[0m\n",
       "\u001b[36m╰─────────────────────────────────────────────────────────────────────────────────────────────────────────────────╯\u001b[0m\n"
      ]
     },
     "metadata": {},
     "output_type": "display_data"
    },
    {
     "data": {
      "text/html": [
       "<pre style=\"white-space:pre;overflow-x:auto;line-height:normal;font-family:Menlo,'DejaVu Sans Mono',consolas,'Courier New',monospace\"><span style=\"color: #c0c0c0; text-decoration-color: #c0c0c0\">╭───────────────────────────────────────────</span> 🔭 Searches Executed 1/1 <span style=\"color: #c0c0c0; text-decoration-color: #c0c0c0\">────────────────────────────────────────────╮</span>\n",
       "<span style=\"color: #c0c0c0; text-decoration-color: #c0c0c0\">│                                                                                                                 │</span>\n",
       "<span style=\"color: #c0c0c0; text-decoration-color: #c0c0c0\">│ </span><span style=\"color: #800080; text-decoration-color: #800080; font-weight: bold\">QueryResultWithCollection</span><span style=\"color: #c0c0c0; text-decoration-color: #c0c0c0; font-weight: bold\">(</span><span style=\"color: #c0c0c0; text-decoration-color: #c0c0c0\">                                                                                      │</span>\n",
       "<span style=\"color: #c0c0c0; text-decoration-color: #c0c0c0\">│     </span><span style=\"color: #808000; text-decoration-color: #808000\">queries</span><span style=\"color: #c0c0c0; text-decoration-color: #c0c0c0\">=</span><span style=\"color: #c0c0c0; text-decoration-color: #c0c0c0; font-weight: bold\">[</span><span style=\"color: #008000; text-decoration-color: #008000\">'nice shoes'</span><span style=\"color: #c0c0c0; text-decoration-color: #c0c0c0; font-weight: bold\">]</span><span style=\"color: #c0c0c0; text-decoration-color: #c0c0c0\">,                                                                                     │</span>\n",
       "<span style=\"color: #c0c0c0; text-decoration-color: #c0c0c0\">│     </span><span style=\"color: #808000; text-decoration-color: #808000\">filters</span><span style=\"color: #c0c0c0; text-decoration-color: #c0c0c0\">=</span><span style=\"color: #c0c0c0; text-decoration-color: #c0c0c0; font-weight: bold\">[</span><span style=\"color: #c0c0c0; text-decoration-color: #c0c0c0\">                                                                                                   │</span>\n",
       "<span style=\"color: #c0c0c0; text-decoration-color: #c0c0c0\">│         </span><span style=\"color: #c0c0c0; text-decoration-color: #c0c0c0; font-weight: bold\">[</span><span style=\"color: #c0c0c0; text-decoration-color: #c0c0c0\">                                                                                                       │</span>\n",
       "<span style=\"color: #c0c0c0; text-decoration-color: #c0c0c0\">│             </span><span style=\"color: #800080; text-decoration-color: #800080; font-weight: bold\">IntegerPropertyFilter</span><span style=\"color: #c0c0c0; text-decoration-color: #c0c0c0; font-weight: bold\">(</span><span style=\"color: #c0c0c0; text-decoration-color: #c0c0c0\">                                                                              │</span>\n",
       "<span style=\"color: #c0c0c0; text-decoration-color: #c0c0c0\">│                 </span><span style=\"color: #808000; text-decoration-color: #808000\">property_name</span><span style=\"color: #c0c0c0; text-decoration-color: #c0c0c0\">=</span><span style=\"color: #008000; text-decoration-color: #008000\">'price'</span><span style=\"color: #c0c0c0; text-decoration-color: #c0c0c0\">,                                                                          │</span>\n",
       "<span style=\"color: #c0c0c0; text-decoration-color: #c0c0c0\">│                 </span><span style=\"color: #808000; text-decoration-color: #808000\">operator</span><span style=\"color: #c0c0c0; text-decoration-color: #c0c0c0\">=</span><span style=\"color: #c0c0c0; text-decoration-color: #c0c0c0; font-weight: bold\">&lt;</span><span style=\"color: #ff00ff; text-decoration-color: #ff00ff; font-weight: bold\">ComparisonOperator.LESS_THAN:</span><span style=\"color: #000000; text-decoration-color: #000000\"> </span><span style=\"color: #008000; text-decoration-color: #008000\">'&lt;'</span><span style=\"color: #c0c0c0; text-decoration-color: #c0c0c0; font-weight: bold\">&gt;</span><span style=\"color: #c0c0c0; text-decoration-color: #c0c0c0\">,                                                   │</span>\n",
       "<span style=\"color: #c0c0c0; text-decoration-color: #c0c0c0\">│                 </span><span style=\"color: #808000; text-decoration-color: #808000\">value</span><span style=\"color: #c0c0c0; text-decoration-color: #c0c0c0\">=</span><span style=\"color: #008080; text-decoration-color: #008080; font-weight: bold\">200.0</span><span style=\"color: #c0c0c0; text-decoration-color: #c0c0c0\">                                                                                     │</span>\n",
       "<span style=\"color: #c0c0c0; text-decoration-color: #c0c0c0\">│             </span><span style=\"color: #c0c0c0; text-decoration-color: #c0c0c0; font-weight: bold\">)</span><span style=\"color: #c0c0c0; text-decoration-color: #c0c0c0\">                                                                                                   │</span>\n",
       "<span style=\"color: #c0c0c0; text-decoration-color: #c0c0c0\">│         </span><span style=\"color: #c0c0c0; text-decoration-color: #c0c0c0; font-weight: bold\">]</span><span style=\"color: #c0c0c0; text-decoration-color: #c0c0c0\">                                                                                                       │</span>\n",
       "<span style=\"color: #c0c0c0; text-decoration-color: #c0c0c0\">│     </span><span style=\"color: #c0c0c0; text-decoration-color: #c0c0c0; font-weight: bold\">]</span><span style=\"color: #c0c0c0; text-decoration-color: #c0c0c0\">,                                                                                                          │</span>\n",
       "<span style=\"color: #c0c0c0; text-decoration-color: #c0c0c0\">│     </span><span style=\"color: #808000; text-decoration-color: #808000\">filter_operators</span><span style=\"color: #c0c0c0; text-decoration-color: #c0c0c0\">=</span><span style=\"color: #008000; text-decoration-color: #008000\">'AND'</span><span style=\"color: #c0c0c0; text-decoration-color: #c0c0c0\">,                                                                                     │</span>\n",
       "<span style=\"color: #c0c0c0; text-decoration-color: #c0c0c0\">│     </span><span style=\"color: #808000; text-decoration-color: #808000\">collection</span><span style=\"color: #c0c0c0; text-decoration-color: #c0c0c0\">=</span><span style=\"color: #008000; text-decoration-color: #008000\">'Ecommerce'</span><span style=\"color: #c0c0c0; text-decoration-color: #c0c0c0\">                                                                                      │</span>\n",
       "<span style=\"color: #c0c0c0; text-decoration-color: #c0c0c0\">│ </span><span style=\"color: #c0c0c0; text-decoration-color: #c0c0c0; font-weight: bold\">)</span><span style=\"color: #c0c0c0; text-decoration-color: #c0c0c0\">                                                                                                               │</span>\n",
       "<span style=\"color: #c0c0c0; text-decoration-color: #c0c0c0\">│                                                                                                                 │</span>\n",
       "<span style=\"color: #c0c0c0; text-decoration-color: #c0c0c0\">╰─────────────────────────────────────────────────────────────────────────────────────────────────────────────────╯</span>\n",
       "</pre>\n"
      ],
      "text/plain": [
       "\u001b[37m╭─\u001b[0m\u001b[37m──────────────────────────────────────────\u001b[0m 🔭 Searches Executed 1/1 \u001b[37m───────────────────────────────────────────\u001b[0m\u001b[37m─╮\u001b[0m\n",
       "\u001b[37m│\u001b[0m\u001b[37m                                                                                                                 \u001b[0m\u001b[37m│\u001b[0m\n",
       "\u001b[37m│\u001b[0m\u001b[37m \u001b[0m\u001b[1;35mQueryResultWithCollection\u001b[0m\u001b[1;37m(\u001b[0m\u001b[37m                                                                                     \u001b[0m\u001b[37m \u001b[0m\u001b[37m│\u001b[0m\n",
       "\u001b[37m│\u001b[0m\u001b[37m \u001b[0m\u001b[37m    \u001b[0m\u001b[33mqueries\u001b[0m\u001b[37m=\u001b[0m\u001b[1;37m[\u001b[0m\u001b[32m'nice shoes'\u001b[0m\u001b[1;37m]\u001b[0m\u001b[37m,\u001b[0m\u001b[37m                                                                                    \u001b[0m\u001b[37m \u001b[0m\u001b[37m│\u001b[0m\n",
       "\u001b[37m│\u001b[0m\u001b[37m \u001b[0m\u001b[37m    \u001b[0m\u001b[33mfilters\u001b[0m\u001b[37m=\u001b[0m\u001b[1;37m[\u001b[0m\u001b[37m                                                                                                  \u001b[0m\u001b[37m \u001b[0m\u001b[37m│\u001b[0m\n",
       "\u001b[37m│\u001b[0m\u001b[37m \u001b[0m\u001b[37m        \u001b[0m\u001b[1;37m[\u001b[0m\u001b[37m                                                                                                      \u001b[0m\u001b[37m \u001b[0m\u001b[37m│\u001b[0m\n",
       "\u001b[37m│\u001b[0m\u001b[37m \u001b[0m\u001b[37m            \u001b[0m\u001b[1;35mIntegerPropertyFilter\u001b[0m\u001b[1;37m(\u001b[0m\u001b[37m                                                                             \u001b[0m\u001b[37m \u001b[0m\u001b[37m│\u001b[0m\n",
       "\u001b[37m│\u001b[0m\u001b[37m \u001b[0m\u001b[37m                \u001b[0m\u001b[33mproperty_name\u001b[0m\u001b[37m=\u001b[0m\u001b[32m'price'\u001b[0m\u001b[37m,\u001b[0m\u001b[37m                                                                         \u001b[0m\u001b[37m \u001b[0m\u001b[37m│\u001b[0m\n",
       "\u001b[37m│\u001b[0m\u001b[37m \u001b[0m\u001b[37m                \u001b[0m\u001b[33moperator\u001b[0m\u001b[37m=\u001b[0m\u001b[1;37m<\u001b[0m\u001b[1;95mComparisonOperator.LESS_THAN:\u001b[0m\u001b[39m \u001b[0m\u001b[32m'<'\u001b[0m\u001b[1;37m>\u001b[0m\u001b[37m,\u001b[0m\u001b[37m                                                  \u001b[0m\u001b[37m \u001b[0m\u001b[37m│\u001b[0m\n",
       "\u001b[37m│\u001b[0m\u001b[37m \u001b[0m\u001b[37m                \u001b[0m\u001b[33mvalue\u001b[0m\u001b[37m=\u001b[0m\u001b[1;36m200\u001b[0m\u001b[1;36m.0\u001b[0m\u001b[37m                                                                                    \u001b[0m\u001b[37m \u001b[0m\u001b[37m│\u001b[0m\n",
       "\u001b[37m│\u001b[0m\u001b[37m \u001b[0m\u001b[37m            \u001b[0m\u001b[1;37m)\u001b[0m\u001b[37m                                                                                                  \u001b[0m\u001b[37m \u001b[0m\u001b[37m│\u001b[0m\n",
       "\u001b[37m│\u001b[0m\u001b[37m \u001b[0m\u001b[37m        \u001b[0m\u001b[1;37m]\u001b[0m\u001b[37m                                                                                                      \u001b[0m\u001b[37m \u001b[0m\u001b[37m│\u001b[0m\n",
       "\u001b[37m│\u001b[0m\u001b[37m \u001b[0m\u001b[37m    \u001b[0m\u001b[1;37m]\u001b[0m\u001b[37m,\u001b[0m\u001b[37m                                                                                                         \u001b[0m\u001b[37m \u001b[0m\u001b[37m│\u001b[0m\n",
       "\u001b[37m│\u001b[0m\u001b[37m \u001b[0m\u001b[37m    \u001b[0m\u001b[33mfilter_operators\u001b[0m\u001b[37m=\u001b[0m\u001b[32m'AND'\u001b[0m\u001b[37m,\u001b[0m\u001b[37m                                                                                    \u001b[0m\u001b[37m \u001b[0m\u001b[37m│\u001b[0m\n",
       "\u001b[37m│\u001b[0m\u001b[37m \u001b[0m\u001b[37m    \u001b[0m\u001b[33mcollection\u001b[0m\u001b[37m=\u001b[0m\u001b[32m'Ecommerce'\u001b[0m\u001b[37m                                                                                     \u001b[0m\u001b[37m \u001b[0m\u001b[37m│\u001b[0m\n",
       "\u001b[37m│\u001b[0m\u001b[37m \u001b[0m\u001b[1;37m)\u001b[0m\u001b[37m                                                                                                              \u001b[0m\u001b[37m \u001b[0m\u001b[37m│\u001b[0m\n",
       "\u001b[37m│\u001b[0m\u001b[37m                                                                                                                 \u001b[0m\u001b[37m│\u001b[0m\n",
       "\u001b[37m╰─────────────────────────────────────────────────────────────────────────────────────────────────────────────────╯\u001b[0m\n"
      ]
     },
     "metadata": {},
     "output_type": "display_data"
    },
    {
     "data": {
      "text/html": [
       "<pre style=\"white-space:pre;overflow-x:auto;line-height:normal;font-family:Menlo,'DejaVu Sans Mono',consolas,'Courier New',monospace\"><span style=\"color: #d75f5f; text-decoration-color: #d75f5f\">╭─────────────────────────────────────────────────────────────────────────────────────────────────────────────────╮</span>\n",
       "<span style=\"color: #d75f5f; text-decoration-color: #d75f5f\">│                                                                                                                 │</span>\n",
       "<span style=\"color: #d75f5f; text-decoration-color: #d75f5f\">│ 📊 No Aggregations Run                                                                                          │</span>\n",
       "<span style=\"color: #d75f5f; text-decoration-color: #d75f5f\">│                                                                                                                 │</span>\n",
       "<span style=\"color: #d75f5f; text-decoration-color: #d75f5f\">╰─────────────────────────────────────────────────────────────────────────────────────────────────────────────────╯</span>\n",
       "</pre>\n"
      ],
      "text/plain": [
       "\u001b[38;5;167m╭─────────────────────────────────────────────────────────────────────────────────────────────────────────────────╮\u001b[0m\n",
       "\u001b[38;5;167m│\u001b[0m\u001b[38;5;167m                                                                                                                 \u001b[0m\u001b[38;5;167m│\u001b[0m\n",
       "\u001b[38;5;167m│\u001b[0m\u001b[38;5;167m \u001b[0m\u001b[38;5;167m📊 No Aggregations Run\u001b[0m\u001b[38;5;167m                                                                                         \u001b[0m\u001b[38;5;167m \u001b[0m\u001b[38;5;167m│\u001b[0m\n",
       "\u001b[38;5;167m│\u001b[0m\u001b[38;5;167m                                                                                                                 \u001b[0m\u001b[38;5;167m│\u001b[0m\n",
       "\u001b[38;5;167m╰─────────────────────────────────────────────────────────────────────────────────────────────────────────────────╯\u001b[0m\n"
      ]
     },
     "metadata": {},
     "output_type": "display_data"
    },
    {
     "data": {
      "text/html": [
       "<pre style=\"white-space:pre;overflow-x:auto;line-height:normal;font-family:Menlo,'DejaVu Sans Mono',consolas,'Courier New',monospace\"><span style=\"color: #c0c0c0; text-decoration-color: #c0c0c0\">╭──────────────────────────────────────────────────</span> 📚 Sources <span style=\"color: #c0c0c0; text-decoration-color: #c0c0c0\">───────────────────────────────────────────────────╮</span>\n",
       "<span style=\"color: #c0c0c0; text-decoration-color: #c0c0c0\">│                                                                                                                 │</span>\n",
       "<span style=\"color: #c0c0c0; text-decoration-color: #c0c0c0\">│  - object_id='96b30047-8ce1-4096-9bcf-009733cf8613' collection='Ecommerce'                                      │</span>\n",
       "<span style=\"color: #c0c0c0; text-decoration-color: #c0c0c0\">│  - object_id='61e4fcd7-d2bc-4861-beb6-4c16948d9921' collection='Ecommerce'                                      │</span>\n",
       "<span style=\"color: #c0c0c0; text-decoration-color: #c0c0c0\">│  - object_id='6e533f7d-eba1-4e74-953c-9d43008278e7' collection='Ecommerce'                                      │</span>\n",
       "<span style=\"color: #c0c0c0; text-decoration-color: #c0c0c0\">│  - object_id='f873ac48-1311-462a-86b2-a28b15fdda7a' collection='Ecommerce'                                      │</span>\n",
       "<span style=\"color: #c0c0c0; text-decoration-color: #c0c0c0\">│  - object_id='93b8b13e-a417-4be2-9cce-fda8c767f35e' collection='Ecommerce'                                      │</span>\n",
       "<span style=\"color: #c0c0c0; text-decoration-color: #c0c0c0\">│                                                                                                                 │</span>\n",
       "<span style=\"color: #c0c0c0; text-decoration-color: #c0c0c0\">╰─────────────────────────────────────────────────────────────────────────────────────────────────────────────────╯</span>\n",
       "</pre>\n"
      ],
      "text/plain": [
       "\u001b[37m╭─\u001b[0m\u001b[37m─────────────────────────────────────────────────\u001b[0m 📚 Sources \u001b[37m──────────────────────────────────────────────────\u001b[0m\u001b[37m─╮\u001b[0m\n",
       "\u001b[37m│\u001b[0m\u001b[37m                                                                                                                 \u001b[0m\u001b[37m│\u001b[0m\n",
       "\u001b[37m│\u001b[0m\u001b[37m \u001b[0m\u001b[37m - object_id='96b30047-8ce1-4096-9bcf-009733cf8613' collection='Ecommerce'\u001b[0m\u001b[37m                                     \u001b[0m\u001b[37m \u001b[0m\u001b[37m│\u001b[0m\n",
       "\u001b[37m│\u001b[0m\u001b[37m \u001b[0m\u001b[37m - object_id='61e4fcd7-d2bc-4861-beb6-4c16948d9921' collection='Ecommerce'\u001b[0m\u001b[37m                                     \u001b[0m\u001b[37m \u001b[0m\u001b[37m│\u001b[0m\n",
       "\u001b[37m│\u001b[0m\u001b[37m \u001b[0m\u001b[37m - object_id='6e533f7d-eba1-4e74-953c-9d43008278e7' collection='Ecommerce'\u001b[0m\u001b[37m                                     \u001b[0m\u001b[37m \u001b[0m\u001b[37m│\u001b[0m\n",
       "\u001b[37m│\u001b[0m\u001b[37m \u001b[0m\u001b[37m - object_id='f873ac48-1311-462a-86b2-a28b15fdda7a' collection='Ecommerce'\u001b[0m\u001b[37m                                     \u001b[0m\u001b[37m \u001b[0m\u001b[37m│\u001b[0m\n",
       "\u001b[37m│\u001b[0m\u001b[37m \u001b[0m\u001b[37m - object_id='93b8b13e-a417-4be2-9cce-fda8c767f35e' collection='Ecommerce'\u001b[0m\u001b[37m                                     \u001b[0m\u001b[37m \u001b[0m\u001b[37m│\u001b[0m\n",
       "\u001b[37m│\u001b[0m\u001b[37m                                                                                                                 \u001b[0m\u001b[37m│\u001b[0m\n",
       "\u001b[37m╰─────────────────────────────────────────────────────────────────────────────────────────────────────────────────╯\u001b[0m\n"
      ]
     },
     "metadata": {},
     "output_type": "display_data"
    },
    {
     "name": "stdout",
     "output_type": "stream",
     "text": [
      "\n",
      "\n"
     ]
    },
    {
     "data": {
      "text/html": [
       "<pre style=\"white-space:pre;overflow-x:auto;line-height:normal;font-family:Menlo,'DejaVu Sans Mono',consolas,'Courier New',monospace\"><span style=\"font-style: italic\">   📊 Usage Statistics    </span>\n",
       "┌────────────────┬───────┐\n",
       "│ LLM Requests:  │ 4     │\n",
       "│ Input Tokens:  │ 9783  │\n",
       "│ Output Tokens: │ 574   │\n",
       "│ Total Tokens:  │ 10357 │\n",
       "└────────────────┴───────┘\n",
       "</pre>\n"
      ],
      "text/plain": [
       "\u001b[3m   📊 Usage Statistics    \u001b[0m\n",
       "┌────────────────┬───────┐\n",
       "│ LLM Requests:  │ 4     │\n",
       "│ Input Tokens:  │ 9783  │\n",
       "│ Output Tokens: │ 574   │\n",
       "│ Total Tokens:  │ 10357 │\n",
       "└────────────────┴───────┘\n"
      ]
     },
     "metadata": {},
     "output_type": "display_data"
    },
    {
     "data": {
      "text/html": [
       "<pre style=\"white-space:pre;overflow-x:auto;line-height:normal;font-family:Menlo,'DejaVu Sans Mono',consolas,'Courier New',monospace\">\n",
       "<span style=\"color: #008080; text-decoration-color: #008080; font-weight: bold\">Total Time Taken:</span><span style=\"color: #008080; text-decoration-color: #008080\"> </span><span style=\"color: #008080; text-decoration-color: #008080; font-weight: bold\">18.</span><span style=\"color: #008080; text-decoration-color: #008080\">02s</span>\n",
       "</pre>\n"
      ],
      "text/plain": [
       "\n",
       "\u001b[1;36mTotal Time Taken:\u001b[0m\u001b[36m \u001b[0m\u001b[1;36m18.\u001b[0m\u001b[36m02s\u001b[0m\n"
      ]
     },
     "metadata": {},
     "output_type": "display_data"
    }
   ],
   "source": [
    "new_response = agent.run(\"What about some nice shoes, same budget as before?\", context=response)\n",
    "print_query_agent_response(new_response)"
   ]
  },
  {
   "cell_type": "markdown",
   "metadata": {
    "id": "HTUE7S7d_85T"
   },
   "source": [
    "Now let's try a question that sholud require an aggregation. Let's see which brand lists the most shoes."
   ]
  },
  {
   "cell_type": "code",
   "execution_count": 7,
   "metadata": {
    "colab": {
     "base_uri": "https://localhost:8080/",
     "height": 657
    },
    "id": "n5X5wCoYAOdi",
    "outputId": "b95a6455-c07d-4838-e3f9-0bb33885d58d"
   },
   "outputs": [
    {
     "data": {
      "text/html": [
       "<pre style=\"white-space:pre;overflow-x:auto;line-height:normal;font-family:Menlo,'DejaVu Sans Mono',consolas,'Courier New',monospace\">╭─────────────────────────────────────────────── 🔍 Original Query ───────────────────────────────────────────────╮\n",
       "│                                                                                                                 │\n",
       "│ What is the the name of the brand that lists the most shoes?                                                    │\n",
       "│                                                                                                                 │\n",
       "╰─────────────────────────────────────────────────────────────────────────────────────────────────────────────────╯\n",
       "</pre>\n"
      ],
      "text/plain": [
       "╭─────────────────────────────────────────────── 🔍 Original Query ───────────────────────────────────────────────╮\n",
       "│                                                                                                                 │\n",
       "│ What is the the name of the brand that lists the most shoes?                                                    │\n",
       "│                                                                                                                 │\n",
       "╰─────────────────────────────────────────────────────────────────────────────────────────────────────────────────╯\n"
      ]
     },
     "metadata": {},
     "output_type": "display_data"
    },
    {
     "data": {
      "text/html": [
       "<pre style=\"white-space:pre;overflow-x:auto;line-height:normal;font-family:Menlo,'DejaVu Sans Mono',consolas,'Courier New',monospace\"><span style=\"color: #008080; text-decoration-color: #008080\">╭────────────────────────────────────────────────</span> 📝 Final Answer <span style=\"color: #008080; text-decoration-color: #008080\">────────────────────────────────────────────────╮</span>\n",
       "<span style=\"color: #008080; text-decoration-color: #008080\">│                                                                                                                 │</span>\n",
       "<span style=\"color: #008080; text-decoration-color: #008080\">│ The brand that lists the most shoes is Loom &amp; Aura with a total of 118 shoe listings.                           │</span>\n",
       "<span style=\"color: #008080; text-decoration-color: #008080\">│                                                                                                                 │</span>\n",
       "<span style=\"color: #008080; text-decoration-color: #008080\">╰─────────────────────────────────────────────────────────────────────────────────────────────────────────────────╯</span>\n",
       "</pre>\n"
      ],
      "text/plain": [
       "\u001b[36m╭─\u001b[0m\u001b[36m───────────────────────────────────────────────\u001b[0m 📝 Final Answer \u001b[36m───────────────────────────────────────────────\u001b[0m\u001b[36m─╮\u001b[0m\n",
       "\u001b[36m│\u001b[0m\u001b[36m                                                                                                                 \u001b[0m\u001b[36m│\u001b[0m\n",
       "\u001b[36m│\u001b[0m\u001b[36m \u001b[0m\u001b[36mThe brand that lists the most shoes is Loom & Aura with a total of 118 shoe listings.\u001b[0m\u001b[36m                          \u001b[0m\u001b[36m \u001b[0m\u001b[36m│\u001b[0m\n",
       "\u001b[36m│\u001b[0m\u001b[36m                                                                                                                 \u001b[0m\u001b[36m│\u001b[0m\n",
       "\u001b[36m╰─────────────────────────────────────────────────────────────────────────────────────────────────────────────────╯\u001b[0m\n"
      ]
     },
     "metadata": {},
     "output_type": "display_data"
    },
    {
     "data": {
      "text/html": [
       "<pre style=\"white-space:pre;overflow-x:auto;line-height:normal;font-family:Menlo,'DejaVu Sans Mono',consolas,'Courier New',monospace\"><span style=\"color: #d75f5f; text-decoration-color: #d75f5f\">╭─────────────────────────────────────────────────────────────────────────────────────────────────────────────────╮</span>\n",
       "<span style=\"color: #d75f5f; text-decoration-color: #d75f5f\">│                                                                                                                 │</span>\n",
       "<span style=\"color: #d75f5f; text-decoration-color: #d75f5f\">│ 🔭 No Searches Run                                                                                              │</span>\n",
       "<span style=\"color: #d75f5f; text-decoration-color: #d75f5f\">│                                                                                                                 │</span>\n",
       "<span style=\"color: #d75f5f; text-decoration-color: #d75f5f\">╰─────────────────────────────────────────────────────────────────────────────────────────────────────────────────╯</span>\n",
       "</pre>\n"
      ],
      "text/plain": [
       "\u001b[38;5;167m╭─────────────────────────────────────────────────────────────────────────────────────────────────────────────────╮\u001b[0m\n",
       "\u001b[38;5;167m│\u001b[0m\u001b[38;5;167m                                                                                                                 \u001b[0m\u001b[38;5;167m│\u001b[0m\n",
       "\u001b[38;5;167m│\u001b[0m\u001b[38;5;167m \u001b[0m\u001b[38;5;167m🔭 No Searches Run\u001b[0m\u001b[38;5;167m                                                                                             \u001b[0m\u001b[38;5;167m \u001b[0m\u001b[38;5;167m│\u001b[0m\n",
       "\u001b[38;5;167m│\u001b[0m\u001b[38;5;167m                                                                                                                 \u001b[0m\u001b[38;5;167m│\u001b[0m\n",
       "\u001b[38;5;167m╰─────────────────────────────────────────────────────────────────────────────────────────────────────────────────╯\u001b[0m\n"
      ]
     },
     "metadata": {},
     "output_type": "display_data"
    },
    {
     "data": {
      "text/html": [
       "<pre style=\"white-space:pre;overflow-x:auto;line-height:normal;font-family:Menlo,'DejaVu Sans Mono',consolas,'Courier New',monospace\"><span style=\"color: #c0c0c0; text-decoration-color: #c0c0c0\">╭────────────────────────────────────────────</span> 📊 Aggregations Run 1/1 <span style=\"color: #c0c0c0; text-decoration-color: #c0c0c0\">────────────────────────────────────────────╮</span>\n",
       "<span style=\"color: #c0c0c0; text-decoration-color: #c0c0c0\">│                                                                                                                 │</span>\n",
       "<span style=\"color: #c0c0c0; text-decoration-color: #c0c0c0\">│ </span><span style=\"color: #800080; text-decoration-color: #800080; font-weight: bold\">AggregationResultWithCollection</span><span style=\"color: #c0c0c0; text-decoration-color: #c0c0c0; font-weight: bold\">(</span><span style=\"color: #c0c0c0; text-decoration-color: #c0c0c0\">                                                                                │</span>\n",
       "<span style=\"color: #c0c0c0; text-decoration-color: #c0c0c0\">│     </span><span style=\"color: #808000; text-decoration-color: #808000\">search_query</span><span style=\"color: #c0c0c0; text-decoration-color: #c0c0c0\">=</span><span style=\"color: #800080; text-decoration-color: #800080; font-style: italic\">None</span><span style=\"color: #c0c0c0; text-decoration-color: #c0c0c0\">,                                                                                          │</span>\n",
       "<span style=\"color: #c0c0c0; text-decoration-color: #c0c0c0\">│     </span><span style=\"color: #808000; text-decoration-color: #808000\">groupby_property</span><span style=\"color: #c0c0c0; text-decoration-color: #c0c0c0\">=</span><span style=\"color: #008000; text-decoration-color: #008000\">'brand'</span><span style=\"color: #c0c0c0; text-decoration-color: #c0c0c0\">,                                                                                   │</span>\n",
       "<span style=\"color: #c0c0c0; text-decoration-color: #c0c0c0\">│     </span><span style=\"color: #808000; text-decoration-color: #808000\">aggregations</span><span style=\"color: #c0c0c0; text-decoration-color: #c0c0c0\">=</span><span style=\"color: #c0c0c0; text-decoration-color: #c0c0c0; font-weight: bold\">[</span><span style=\"color: #c0c0c0; text-decoration-color: #c0c0c0\">                                                                                              │</span>\n",
       "<span style=\"color: #c0c0c0; text-decoration-color: #c0c0c0\">│         </span><span style=\"color: #800080; text-decoration-color: #800080; font-weight: bold\">IntegerPropertyAggregation</span><span style=\"color: #c0c0c0; text-decoration-color: #c0c0c0; font-weight: bold\">(</span><span style=\"color: #808000; text-decoration-color: #808000\">property_name</span><span style=\"color: #c0c0c0; text-decoration-color: #c0c0c0\">=</span><span style=\"color: #008000; text-decoration-color: #008000\">'collection'</span><span style=\"color: #c0c0c0; text-decoration-color: #c0c0c0\">, </span><span style=\"color: #808000; text-decoration-color: #808000\">metrics</span><span style=\"color: #c0c0c0; text-decoration-color: #c0c0c0\">=</span><span style=\"color: #c0c0c0; text-decoration-color: #c0c0c0; font-weight: bold\">&lt;</span><span style=\"color: #ff00ff; text-decoration-color: #ff00ff; font-weight: bold\">NumericMetrics.COUNT:</span><span style=\"color: #000000; text-decoration-color: #000000\"> </span><span style=\"color: #008000; text-decoration-color: #008000\">'COUNT'</span><span style=\"color: #c0c0c0; text-decoration-color: #c0c0c0; font-weight: bold\">&gt;)</span><span style=\"color: #c0c0c0; text-decoration-color: #c0c0c0\">         │</span>\n",
       "<span style=\"color: #c0c0c0; text-decoration-color: #c0c0c0\">│     </span><span style=\"color: #c0c0c0; text-decoration-color: #c0c0c0; font-weight: bold\">]</span><span style=\"color: #c0c0c0; text-decoration-color: #c0c0c0\">,                                                                                                          │</span>\n",
       "<span style=\"color: #c0c0c0; text-decoration-color: #c0c0c0\">│     </span><span style=\"color: #808000; text-decoration-color: #808000\">filters</span><span style=\"color: #c0c0c0; text-decoration-color: #c0c0c0\">=</span><span style=\"color: #c0c0c0; text-decoration-color: #c0c0c0; font-weight: bold\">[]</span><span style=\"color: #c0c0c0; text-decoration-color: #c0c0c0\">,                                                                                                 │</span>\n",
       "<span style=\"color: #c0c0c0; text-decoration-color: #c0c0c0\">│     </span><span style=\"color: #808000; text-decoration-color: #808000\">collection</span><span style=\"color: #c0c0c0; text-decoration-color: #c0c0c0\">=</span><span style=\"color: #008000; text-decoration-color: #008000\">'Ecommerce'</span><span style=\"color: #c0c0c0; text-decoration-color: #c0c0c0\">                                                                                      │</span>\n",
       "<span style=\"color: #c0c0c0; text-decoration-color: #c0c0c0\">│ </span><span style=\"color: #c0c0c0; text-decoration-color: #c0c0c0; font-weight: bold\">)</span><span style=\"color: #c0c0c0; text-decoration-color: #c0c0c0\">                                                                                                               │</span>\n",
       "<span style=\"color: #c0c0c0; text-decoration-color: #c0c0c0\">│                                                                                                                 │</span>\n",
       "<span style=\"color: #c0c0c0; text-decoration-color: #c0c0c0\">╰─────────────────────────────────────────────────────────────────────────────────────────────────────────────────╯</span>\n",
       "</pre>\n"
      ],
      "text/plain": [
       "\u001b[37m╭─\u001b[0m\u001b[37m───────────────────────────────────────────\u001b[0m 📊 Aggregations Run 1/1 \u001b[37m───────────────────────────────────────────\u001b[0m\u001b[37m─╮\u001b[0m\n",
       "\u001b[37m│\u001b[0m\u001b[37m                                                                                                                 \u001b[0m\u001b[37m│\u001b[0m\n",
       "\u001b[37m│\u001b[0m\u001b[37m \u001b[0m\u001b[1;35mAggregationResultWithCollection\u001b[0m\u001b[1;37m(\u001b[0m\u001b[37m                                                                               \u001b[0m\u001b[37m \u001b[0m\u001b[37m│\u001b[0m\n",
       "\u001b[37m│\u001b[0m\u001b[37m \u001b[0m\u001b[37m    \u001b[0m\u001b[33msearch_query\u001b[0m\u001b[37m=\u001b[0m\u001b[3;35mNone\u001b[0m\u001b[37m,\u001b[0m\u001b[37m                                                                                         \u001b[0m\u001b[37m \u001b[0m\u001b[37m│\u001b[0m\n",
       "\u001b[37m│\u001b[0m\u001b[37m \u001b[0m\u001b[37m    \u001b[0m\u001b[33mgroupby_property\u001b[0m\u001b[37m=\u001b[0m\u001b[32m'brand'\u001b[0m\u001b[37m,\u001b[0m\u001b[37m                                                                                  \u001b[0m\u001b[37m \u001b[0m\u001b[37m│\u001b[0m\n",
       "\u001b[37m│\u001b[0m\u001b[37m \u001b[0m\u001b[37m    \u001b[0m\u001b[33maggregations\u001b[0m\u001b[37m=\u001b[0m\u001b[1;37m[\u001b[0m\u001b[37m                                                                                             \u001b[0m\u001b[37m \u001b[0m\u001b[37m│\u001b[0m\n",
       "\u001b[37m│\u001b[0m\u001b[37m \u001b[0m\u001b[37m        \u001b[0m\u001b[1;35mIntegerPropertyAggregation\u001b[0m\u001b[1;37m(\u001b[0m\u001b[33mproperty_name\u001b[0m\u001b[37m=\u001b[0m\u001b[32m'collection'\u001b[0m\u001b[37m, \u001b[0m\u001b[33mmetrics\u001b[0m\u001b[37m=\u001b[0m\u001b[1;37m<\u001b[0m\u001b[1;95mNumericMetrics.COUNT:\u001b[0m\u001b[39m \u001b[0m\u001b[32m'COUNT'\u001b[0m\u001b[1;37m>\u001b[0m\u001b[1;37m)\u001b[0m\u001b[37m        \u001b[0m\u001b[37m \u001b[0m\u001b[37m│\u001b[0m\n",
       "\u001b[37m│\u001b[0m\u001b[37m \u001b[0m\u001b[37m    \u001b[0m\u001b[1;37m]\u001b[0m\u001b[37m,\u001b[0m\u001b[37m                                                                                                         \u001b[0m\u001b[37m \u001b[0m\u001b[37m│\u001b[0m\n",
       "\u001b[37m│\u001b[0m\u001b[37m \u001b[0m\u001b[37m    \u001b[0m\u001b[33mfilters\u001b[0m\u001b[37m=\u001b[0m\u001b[1;37m[\u001b[0m\u001b[1;37m]\u001b[0m\u001b[37m,\u001b[0m\u001b[37m                                                                                                \u001b[0m\u001b[37m \u001b[0m\u001b[37m│\u001b[0m\n",
       "\u001b[37m│\u001b[0m\u001b[37m \u001b[0m\u001b[37m    \u001b[0m\u001b[33mcollection\u001b[0m\u001b[37m=\u001b[0m\u001b[32m'Ecommerce'\u001b[0m\u001b[37m                                                                                     \u001b[0m\u001b[37m \u001b[0m\u001b[37m│\u001b[0m\n",
       "\u001b[37m│\u001b[0m\u001b[37m \u001b[0m\u001b[1;37m)\u001b[0m\u001b[37m                                                                                                              \u001b[0m\u001b[37m \u001b[0m\u001b[37m│\u001b[0m\n",
       "\u001b[37m│\u001b[0m\u001b[37m                                                                                                                 \u001b[0m\u001b[37m│\u001b[0m\n",
       "\u001b[37m╰─────────────────────────────────────────────────────────────────────────────────────────────────────────────────╯\u001b[0m\n"
      ]
     },
     "metadata": {},
     "output_type": "display_data"
    },
    {
     "name": "stdout",
     "output_type": "stream",
     "text": [
      "\n",
      "\n"
     ]
    },
    {
     "data": {
      "text/html": [
       "<pre style=\"white-space:pre;overflow-x:auto;line-height:normal;font-family:Menlo,'DejaVu Sans Mono',consolas,'Courier New',monospace\"><span style=\"font-style: italic\">   📊 Usage Statistics   </span>\n",
       "┌────────────────┬──────┐\n",
       "│ LLM Requests:  │ 3    │\n",
       "│ Input Tokens:  │ 3976 │\n",
       "│ Output Tokens: │ 159  │\n",
       "│ Total Tokens:  │ 4135 │\n",
       "└────────────────┴──────┘\n",
       "</pre>\n"
      ],
      "text/plain": [
       "\u001b[3m   📊 Usage Statistics   \u001b[0m\n",
       "┌────────────────┬──────┐\n",
       "│ LLM Requests:  │ 3    │\n",
       "│ Input Tokens:  │ 3976 │\n",
       "│ Output Tokens: │ 159  │\n",
       "│ Total Tokens:  │ 4135 │\n",
       "└────────────────┴──────┘\n"
      ]
     },
     "metadata": {},
     "output_type": "display_data"
    },
    {
     "data": {
      "text/html": [
       "<pre style=\"white-space:pre;overflow-x:auto;line-height:normal;font-family:Menlo,'DejaVu Sans Mono',consolas,'Courier New',monospace\">\n",
       "<span style=\"color: #008080; text-decoration-color: #008080; font-weight: bold\">Total Time Taken:</span><span style=\"color: #008080; text-decoration-color: #008080\"> </span><span style=\"color: #008080; text-decoration-color: #008080; font-weight: bold\">5.</span><span style=\"color: #008080; text-decoration-color: #008080\">33s</span>\n",
       "</pre>\n"
      ],
      "text/plain": [
       "\n",
       "\u001b[1;36mTotal Time Taken:\u001b[0m\u001b[36m \u001b[0m\u001b[1;36m5.\u001b[0m\u001b[36m33s\u001b[0m\n"
      ]
     },
     "metadata": {},
     "output_type": "display_data"
    }
   ],
   "source": [
    "response = agent.run(\"What is the the name of the brand that lists the most shoes?\")\n",
    "print_query_agent_response(response)"
   ]
  },
  {
   "cell_type": "markdown",
   "metadata": {
    "id": "sl78PHYmBe2s"
   },
   "source": [
    "### Search over multiple collections\n",
    "\n",
    "In some cases, we need to combine the results of searches across multiple collections. From the result above, we can see that \"Loom & Aura\" lists the most shoes.\n",
    "\n",
    "Let's imagine a scenario where the user would now want to find out more about this company, _as well_ as the items that they sell."
   ]
  },
  {
   "cell_type": "code",
   "execution_count": 9,
   "metadata": {
    "colab": {
     "base_uri": "https://localhost:8080/",
     "height": 1000
    },
    "id": "boJHOMyAttEq",
    "outputId": "dc8d3d7f-4b56-4f0a-d727-42f14ee626f6"
   },
   "outputs": [
    {
     "data": {
      "text/html": [
       "<pre style=\"white-space:pre;overflow-x:auto;line-height:normal;font-family:Menlo,'DejaVu Sans Mono',consolas,'Courier New',monospace\">╭─────────────────────────────────────────────── 🔍 Original Query ───────────────────────────────────────────────╮\n",
       "│                                                                                                                 │\n",
       "│ Does the brand 'Loom &amp; Aura' have a parent brand or child brands and what countries do they operate from? Also, │\n",
       "│ what's the average price of a item from 'Loom &amp; Aura'?                                                          │\n",
       "│                                                                                                                 │\n",
       "╰─────────────────────────────────────────────────────────────────────────────────────────────────────────────────╯\n",
       "</pre>\n"
      ],
      "text/plain": [
       "╭─────────────────────────────────────────────── 🔍 Original Query ───────────────────────────────────────────────╮\n",
       "│                                                                                                                 │\n",
       "│ Does the brand 'Loom & Aura' have a parent brand or child brands and what countries do they operate from? Also, │\n",
       "│ what's the average price of a item from 'Loom & Aura'?                                                          │\n",
       "│                                                                                                                 │\n",
       "╰─────────────────────────────────────────────────────────────────────────────────────────────────────────────────╯\n"
      ]
     },
     "metadata": {},
     "output_type": "display_data"
    },
    {
     "data": {
      "text/html": [
       "<pre style=\"white-space:pre;overflow-x:auto;line-height:normal;font-family:Menlo,'DejaVu Sans Mono',consolas,'Courier New',monospace\"><span style=\"color: #008080; text-decoration-color: #008080\">╭────────────────────────────────────────────────</span> 📝 Final Answer <span style=\"color: #008080; text-decoration-color: #008080\">────────────────────────────────────────────────╮</span>\n",
       "<span style=\"color: #008080; text-decoration-color: #008080\">│                                                                                                                 │</span>\n",
       "<span style=\"color: #008080; text-decoration-color: #008080\">│ Loom &amp; Aura is itself a well-established brand based in Italy and operates as the parent brand to several child │</span>\n",
       "<span style=\"color: #008080; text-decoration-color: #008080\">│ brands. These child brands include 'Loom &amp; Aura Active', 'Loom &amp; Aura Kids', 'Nova Nest', 'Vivid Verse', 'Loom  │</span>\n",
       "<span style=\"color: #008080; text-decoration-color: #008080\">│ Luxe', 'Saffron Sage', 'Stellar Stitch', 'Nova Nectar', 'Canvas Core', and 'Loom Lure'. The countries           │</span>\n",
       "<span style=\"color: #008080; text-decoration-color: #008080\">│ associated with the operations or origins of these child brands include Italy, USA, UK, Spain, South Korea,     │</span>\n",
       "<span style=\"color: #008080; text-decoration-color: #008080\">│ Japan, and some extend beyond Italy as suggested by the presence of these brands in different countries.        │</span>\n",
       "<span style=\"color: #008080; text-decoration-color: #008080\">│                                                                                                                 │</span>\n",
       "<span style=\"color: #008080; text-decoration-color: #008080\">│ The average price of an item from Loom &amp; Aura is approximately $87.11. This reflects the brand's positioning as │</span>\n",
       "<span style=\"color: #008080; text-decoration-color: #008080\">│ offering items of timeless elegance and quality craftsmanship.                                                  │</span>\n",
       "<span style=\"color: #008080; text-decoration-color: #008080\">│                                                                                                                 │</span>\n",
       "<span style=\"color: #008080; text-decoration-color: #008080\">╰─────────────────────────────────────────────────────────────────────────────────────────────────────────────────╯</span>\n",
       "</pre>\n"
      ],
      "text/plain": [
       "\u001b[36m╭─\u001b[0m\u001b[36m───────────────────────────────────────────────\u001b[0m 📝 Final Answer \u001b[36m───────────────────────────────────────────────\u001b[0m\u001b[36m─╮\u001b[0m\n",
       "\u001b[36m│\u001b[0m\u001b[36m                                                                                                                 \u001b[0m\u001b[36m│\u001b[0m\n",
       "\u001b[36m│\u001b[0m\u001b[36m \u001b[0m\u001b[36mLoom & Aura is itself a well-established brand based in Italy and operates as the parent brand to several child\u001b[0m\u001b[36m \u001b[0m\u001b[36m│\u001b[0m\n",
       "\u001b[36m│\u001b[0m\u001b[36m \u001b[0m\u001b[36mbrands. These child brands include 'Loom & Aura Active', 'Loom & Aura Kids', 'Nova Nest', 'Vivid Verse', 'Loom \u001b[0m\u001b[36m \u001b[0m\u001b[36m│\u001b[0m\n",
       "\u001b[36m│\u001b[0m\u001b[36m \u001b[0m\u001b[36mLuxe', 'Saffron Sage', 'Stellar Stitch', 'Nova Nectar', 'Canvas Core', and 'Loom Lure'. The countries \u001b[0m\u001b[36m         \u001b[0m\u001b[36m \u001b[0m\u001b[36m│\u001b[0m\n",
       "\u001b[36m│\u001b[0m\u001b[36m \u001b[0m\u001b[36massociated with the operations or origins of these child brands include Italy, USA, UK, Spain, South Korea, \u001b[0m\u001b[36m   \u001b[0m\u001b[36m \u001b[0m\u001b[36m│\u001b[0m\n",
       "\u001b[36m│\u001b[0m\u001b[36m \u001b[0m\u001b[36mJapan, and some extend beyond Italy as suggested by the presence of these brands in different countries. \u001b[0m\u001b[36m      \u001b[0m\u001b[36m \u001b[0m\u001b[36m│\u001b[0m\n",
       "\u001b[36m│\u001b[0m\u001b[36m \u001b[0m\u001b[36m                                                                                                               \u001b[0m\u001b[36m \u001b[0m\u001b[36m│\u001b[0m\n",
       "\u001b[36m│\u001b[0m\u001b[36m \u001b[0m\u001b[36mThe average price of an item from Loom & Aura is approximately $87.11. This reflects the brand's positioning as\u001b[0m\u001b[36m \u001b[0m\u001b[36m│\u001b[0m\n",
       "\u001b[36m│\u001b[0m\u001b[36m \u001b[0m\u001b[36moffering items of timeless elegance and quality craftsmanship.\u001b[0m\u001b[36m                                                 \u001b[0m\u001b[36m \u001b[0m\u001b[36m│\u001b[0m\n",
       "\u001b[36m│\u001b[0m\u001b[36m                                                                                                                 \u001b[0m\u001b[36m│\u001b[0m\n",
       "\u001b[36m╰─────────────────────────────────────────────────────────────────────────────────────────────────────────────────╯\u001b[0m\n"
      ]
     },
     "metadata": {},
     "output_type": "display_data"
    },
    {
     "data": {
      "text/html": [
       "<pre style=\"white-space:pre;overflow-x:auto;line-height:normal;font-family:Menlo,'DejaVu Sans Mono',consolas,'Courier New',monospace\"><span style=\"color: #c0c0c0; text-decoration-color: #c0c0c0\">╭───────────────────────────────────────────</span> 🔭 Searches Executed 1/2 <span style=\"color: #c0c0c0; text-decoration-color: #c0c0c0\">────────────────────────────────────────────╮</span>\n",
       "<span style=\"color: #c0c0c0; text-decoration-color: #c0c0c0\">│                                                                                                                 │</span>\n",
       "<span style=\"color: #c0c0c0; text-decoration-color: #c0c0c0\">│ </span><span style=\"color: #800080; text-decoration-color: #800080; font-weight: bold\">QueryResultWithCollection</span><span style=\"color: #c0c0c0; text-decoration-color: #c0c0c0; font-weight: bold\">(</span><span style=\"color: #c0c0c0; text-decoration-color: #c0c0c0\">                                                                                      │</span>\n",
       "<span style=\"color: #c0c0c0; text-decoration-color: #c0c0c0\">│     </span><span style=\"color: #808000; text-decoration-color: #808000\">queries</span><span style=\"color: #c0c0c0; text-decoration-color: #c0c0c0\">=</span><span style=\"color: #c0c0c0; text-decoration-color: #c0c0c0; font-weight: bold\">[</span><span style=\"color: #008000; text-decoration-color: #008000\">'parent brand of Loom &amp; Aura'</span><span style=\"color: #c0c0c0; text-decoration-color: #c0c0c0\">, </span><span style=\"color: #008000; text-decoration-color: #008000\">'child brands of Loom &amp; Aura'</span><span style=\"color: #c0c0c0; text-decoration-color: #c0c0c0; font-weight: bold\">]</span><span style=\"color: #c0c0c0; text-decoration-color: #c0c0c0\">,                                     │</span>\n",
       "<span style=\"color: #c0c0c0; text-decoration-color: #c0c0c0\">│     </span><span style=\"color: #808000; text-decoration-color: #808000\">filters</span><span style=\"color: #c0c0c0; text-decoration-color: #c0c0c0\">=</span><span style=\"color: #c0c0c0; text-decoration-color: #c0c0c0; font-weight: bold\">[[]</span><span style=\"color: #c0c0c0; text-decoration-color: #c0c0c0\">, </span><span style=\"color: #c0c0c0; text-decoration-color: #c0c0c0; font-weight: bold\">[]]</span><span style=\"color: #c0c0c0; text-decoration-color: #c0c0c0\">,                                                                                           │</span>\n",
       "<span style=\"color: #c0c0c0; text-decoration-color: #c0c0c0\">│     </span><span style=\"color: #808000; text-decoration-color: #808000\">filter_operators</span><span style=\"color: #c0c0c0; text-decoration-color: #c0c0c0\">=</span><span style=\"color: #008000; text-decoration-color: #008000\">'AND'</span><span style=\"color: #c0c0c0; text-decoration-color: #c0c0c0\">,                                                                                     │</span>\n",
       "<span style=\"color: #c0c0c0; text-decoration-color: #c0c0c0\">│     </span><span style=\"color: #808000; text-decoration-color: #808000\">collection</span><span style=\"color: #c0c0c0; text-decoration-color: #c0c0c0\">=</span><span style=\"color: #008000; text-decoration-color: #008000\">'Brands'</span><span style=\"color: #c0c0c0; text-decoration-color: #c0c0c0\">                                                                                         │</span>\n",
       "<span style=\"color: #c0c0c0; text-decoration-color: #c0c0c0\">│ </span><span style=\"color: #c0c0c0; text-decoration-color: #c0c0c0; font-weight: bold\">)</span><span style=\"color: #c0c0c0; text-decoration-color: #c0c0c0\">                                                                                                               │</span>\n",
       "<span style=\"color: #c0c0c0; text-decoration-color: #c0c0c0\">│                                                                                                                 │</span>\n",
       "<span style=\"color: #c0c0c0; text-decoration-color: #c0c0c0\">╰─────────────────────────────────────────────────────────────────────────────────────────────────────────────────╯</span>\n",
       "</pre>\n"
      ],
      "text/plain": [
       "\u001b[37m╭─\u001b[0m\u001b[37m──────────────────────────────────────────\u001b[0m 🔭 Searches Executed 1/2 \u001b[37m───────────────────────────────────────────\u001b[0m\u001b[37m─╮\u001b[0m\n",
       "\u001b[37m│\u001b[0m\u001b[37m                                                                                                                 \u001b[0m\u001b[37m│\u001b[0m\n",
       "\u001b[37m│\u001b[0m\u001b[37m \u001b[0m\u001b[1;35mQueryResultWithCollection\u001b[0m\u001b[1;37m(\u001b[0m\u001b[37m                                                                                     \u001b[0m\u001b[37m \u001b[0m\u001b[37m│\u001b[0m\n",
       "\u001b[37m│\u001b[0m\u001b[37m \u001b[0m\u001b[37m    \u001b[0m\u001b[33mqueries\u001b[0m\u001b[37m=\u001b[0m\u001b[1;37m[\u001b[0m\u001b[32m'parent brand of Loom & Aura'\u001b[0m\u001b[37m, \u001b[0m\u001b[32m'child brands of Loom & Aura'\u001b[0m\u001b[1;37m]\u001b[0m\u001b[37m,\u001b[0m\u001b[37m                                    \u001b[0m\u001b[37m \u001b[0m\u001b[37m│\u001b[0m\n",
       "\u001b[37m│\u001b[0m\u001b[37m \u001b[0m\u001b[37m    \u001b[0m\u001b[33mfilters\u001b[0m\u001b[37m=\u001b[0m\u001b[1;37m[\u001b[0m\u001b[1;37m[\u001b[0m\u001b[1;37m]\u001b[0m\u001b[37m, \u001b[0m\u001b[1;37m[\u001b[0m\u001b[1;37m]\u001b[0m\u001b[1;37m]\u001b[0m\u001b[37m,\u001b[0m\u001b[37m                                                                                          \u001b[0m\u001b[37m \u001b[0m\u001b[37m│\u001b[0m\n",
       "\u001b[37m│\u001b[0m\u001b[37m \u001b[0m\u001b[37m    \u001b[0m\u001b[33mfilter_operators\u001b[0m\u001b[37m=\u001b[0m\u001b[32m'AND'\u001b[0m\u001b[37m,\u001b[0m\u001b[37m                                                                                    \u001b[0m\u001b[37m \u001b[0m\u001b[37m│\u001b[0m\n",
       "\u001b[37m│\u001b[0m\u001b[37m \u001b[0m\u001b[37m    \u001b[0m\u001b[33mcollection\u001b[0m\u001b[37m=\u001b[0m\u001b[32m'Brands'\u001b[0m\u001b[37m                                                                                        \u001b[0m\u001b[37m \u001b[0m\u001b[37m│\u001b[0m\n",
       "\u001b[37m│\u001b[0m\u001b[37m \u001b[0m\u001b[1;37m)\u001b[0m\u001b[37m                                                                                                              \u001b[0m\u001b[37m \u001b[0m\u001b[37m│\u001b[0m\n",
       "\u001b[37m│\u001b[0m\u001b[37m                                                                                                                 \u001b[0m\u001b[37m│\u001b[0m\n",
       "\u001b[37m╰─────────────────────────────────────────────────────────────────────────────────────────────────────────────────╯\u001b[0m\n"
      ]
     },
     "metadata": {},
     "output_type": "display_data"
    },
    {
     "data": {
      "text/html": [
       "<pre style=\"white-space:pre;overflow-x:auto;line-height:normal;font-family:Menlo,'DejaVu Sans Mono',consolas,'Courier New',monospace\"><span style=\"color: #c0c0c0; text-decoration-color: #c0c0c0\">╭───────────────────────────────────────────</span> 🔭 Searches Executed 2/2 <span style=\"color: #c0c0c0; text-decoration-color: #c0c0c0\">────────────────────────────────────────────╮</span>\n",
       "<span style=\"color: #c0c0c0; text-decoration-color: #c0c0c0\">│                                                                                                                 │</span>\n",
       "<span style=\"color: #c0c0c0; text-decoration-color: #c0c0c0\">│ </span><span style=\"color: #800080; text-decoration-color: #800080; font-weight: bold\">QueryResultWithCollection</span><span style=\"color: #c0c0c0; text-decoration-color: #c0c0c0; font-weight: bold\">(</span><span style=\"color: #c0c0c0; text-decoration-color: #c0c0c0\">                                                                                      │</span>\n",
       "<span style=\"color: #c0c0c0; text-decoration-color: #c0c0c0\">│     </span><span style=\"color: #808000; text-decoration-color: #808000\">queries</span><span style=\"color: #c0c0c0; text-decoration-color: #c0c0c0\">=</span><span style=\"color: #c0c0c0; text-decoration-color: #c0c0c0; font-weight: bold\">[</span><span style=\"color: #008000; text-decoration-color: #008000\">'Loom &amp; Aura'</span><span style=\"color: #c0c0c0; text-decoration-color: #c0c0c0; font-weight: bold\">]</span><span style=\"color: #c0c0c0; text-decoration-color: #c0c0c0\">,                                                                                    │</span>\n",
       "<span style=\"color: #c0c0c0; text-decoration-color: #c0c0c0\">│     </span><span style=\"color: #808000; text-decoration-color: #808000\">filters</span><span style=\"color: #c0c0c0; text-decoration-color: #c0c0c0\">=</span><span style=\"color: #c0c0c0; text-decoration-color: #c0c0c0; font-weight: bold\">[</span><span style=\"color: #c0c0c0; text-decoration-color: #c0c0c0\">                                                                                                   │</span>\n",
       "<span style=\"color: #c0c0c0; text-decoration-color: #c0c0c0\">│         </span><span style=\"color: #c0c0c0; text-decoration-color: #c0c0c0; font-weight: bold\">[</span><span style=\"color: #c0c0c0; text-decoration-color: #c0c0c0\">                                                                                                       │</span>\n",
       "<span style=\"color: #c0c0c0; text-decoration-color: #c0c0c0\">│             </span><span style=\"color: #800080; text-decoration-color: #800080; font-weight: bold\">TextPropertyFilter</span><span style=\"color: #c0c0c0; text-decoration-color: #c0c0c0; font-weight: bold\">(</span><span style=\"color: #c0c0c0; text-decoration-color: #c0c0c0\">                                                                                 │</span>\n",
       "<span style=\"color: #c0c0c0; text-decoration-color: #c0c0c0\">│                 </span><span style=\"color: #808000; text-decoration-color: #808000\">property_name</span><span style=\"color: #c0c0c0; text-decoration-color: #c0c0c0\">=</span><span style=\"color: #008000; text-decoration-color: #008000\">'name'</span><span style=\"color: #c0c0c0; text-decoration-color: #c0c0c0\">,                                                                           │</span>\n",
       "<span style=\"color: #c0c0c0; text-decoration-color: #c0c0c0\">│                 </span><span style=\"color: #808000; text-decoration-color: #808000\">operator</span><span style=\"color: #c0c0c0; text-decoration-color: #c0c0c0\">=</span><span style=\"color: #c0c0c0; text-decoration-color: #c0c0c0; font-weight: bold\">&lt;</span><span style=\"color: #ff00ff; text-decoration-color: #ff00ff; font-weight: bold\">ComparisonOperator.LIKE:</span><span style=\"color: #000000; text-decoration-color: #000000\"> </span><span style=\"color: #008000; text-decoration-color: #008000\">'LIKE'</span><span style=\"color: #c0c0c0; text-decoration-color: #c0c0c0; font-weight: bold\">&gt;</span><span style=\"color: #c0c0c0; text-decoration-color: #c0c0c0\">,                                                     │</span>\n",
       "<span style=\"color: #c0c0c0; text-decoration-color: #c0c0c0\">│                 </span><span style=\"color: #808000; text-decoration-color: #808000\">value</span><span style=\"color: #c0c0c0; text-decoration-color: #c0c0c0\">=</span><span style=\"color: #008000; text-decoration-color: #008000\">'Loom &amp; Aura'</span><span style=\"color: #c0c0c0; text-decoration-color: #c0c0c0\">                                                                             │</span>\n",
       "<span style=\"color: #c0c0c0; text-decoration-color: #c0c0c0\">│             </span><span style=\"color: #c0c0c0; text-decoration-color: #c0c0c0; font-weight: bold\">)</span><span style=\"color: #c0c0c0; text-decoration-color: #c0c0c0\">                                                                                                   │</span>\n",
       "<span style=\"color: #c0c0c0; text-decoration-color: #c0c0c0\">│         </span><span style=\"color: #c0c0c0; text-decoration-color: #c0c0c0; font-weight: bold\">]</span><span style=\"color: #c0c0c0; text-decoration-color: #c0c0c0\">                                                                                                       │</span>\n",
       "<span style=\"color: #c0c0c0; text-decoration-color: #c0c0c0\">│     </span><span style=\"color: #c0c0c0; text-decoration-color: #c0c0c0; font-weight: bold\">]</span><span style=\"color: #c0c0c0; text-decoration-color: #c0c0c0\">,                                                                                                          │</span>\n",
       "<span style=\"color: #c0c0c0; text-decoration-color: #c0c0c0\">│     </span><span style=\"color: #808000; text-decoration-color: #808000\">filter_operators</span><span style=\"color: #c0c0c0; text-decoration-color: #c0c0c0\">=</span><span style=\"color: #008000; text-decoration-color: #008000\">'AND'</span><span style=\"color: #c0c0c0; text-decoration-color: #c0c0c0\">,                                                                                     │</span>\n",
       "<span style=\"color: #c0c0c0; text-decoration-color: #c0c0c0\">│     </span><span style=\"color: #808000; text-decoration-color: #808000\">collection</span><span style=\"color: #c0c0c0; text-decoration-color: #c0c0c0\">=</span><span style=\"color: #008000; text-decoration-color: #008000\">'Brands'</span><span style=\"color: #c0c0c0; text-decoration-color: #c0c0c0\">                                                                                         │</span>\n",
       "<span style=\"color: #c0c0c0; text-decoration-color: #c0c0c0\">│ </span><span style=\"color: #c0c0c0; text-decoration-color: #c0c0c0; font-weight: bold\">)</span><span style=\"color: #c0c0c0; text-decoration-color: #c0c0c0\">                                                                                                               │</span>\n",
       "<span style=\"color: #c0c0c0; text-decoration-color: #c0c0c0\">│                                                                                                                 │</span>\n",
       "<span style=\"color: #c0c0c0; text-decoration-color: #c0c0c0\">╰─────────────────────────────────────────────────────────────────────────────────────────────────────────────────╯</span>\n",
       "</pre>\n"
      ],
      "text/plain": [
       "\u001b[37m╭─\u001b[0m\u001b[37m──────────────────────────────────────────\u001b[0m 🔭 Searches Executed 2/2 \u001b[37m───────────────────────────────────────────\u001b[0m\u001b[37m─╮\u001b[0m\n",
       "\u001b[37m│\u001b[0m\u001b[37m                                                                                                                 \u001b[0m\u001b[37m│\u001b[0m\n",
       "\u001b[37m│\u001b[0m\u001b[37m \u001b[0m\u001b[1;35mQueryResultWithCollection\u001b[0m\u001b[1;37m(\u001b[0m\u001b[37m                                                                                     \u001b[0m\u001b[37m \u001b[0m\u001b[37m│\u001b[0m\n",
       "\u001b[37m│\u001b[0m\u001b[37m \u001b[0m\u001b[37m    \u001b[0m\u001b[33mqueries\u001b[0m\u001b[37m=\u001b[0m\u001b[1;37m[\u001b[0m\u001b[32m'Loom & Aura'\u001b[0m\u001b[1;37m]\u001b[0m\u001b[37m,\u001b[0m\u001b[37m                                                                                   \u001b[0m\u001b[37m \u001b[0m\u001b[37m│\u001b[0m\n",
       "\u001b[37m│\u001b[0m\u001b[37m \u001b[0m\u001b[37m    \u001b[0m\u001b[33mfilters\u001b[0m\u001b[37m=\u001b[0m\u001b[1;37m[\u001b[0m\u001b[37m                                                                                                  \u001b[0m\u001b[37m \u001b[0m\u001b[37m│\u001b[0m\n",
       "\u001b[37m│\u001b[0m\u001b[37m \u001b[0m\u001b[37m        \u001b[0m\u001b[1;37m[\u001b[0m\u001b[37m                                                                                                      \u001b[0m\u001b[37m \u001b[0m\u001b[37m│\u001b[0m\n",
       "\u001b[37m│\u001b[0m\u001b[37m \u001b[0m\u001b[37m            \u001b[0m\u001b[1;35mTextPropertyFilter\u001b[0m\u001b[1;37m(\u001b[0m\u001b[37m                                                                                \u001b[0m\u001b[37m \u001b[0m\u001b[37m│\u001b[0m\n",
       "\u001b[37m│\u001b[0m\u001b[37m \u001b[0m\u001b[37m                \u001b[0m\u001b[33mproperty_name\u001b[0m\u001b[37m=\u001b[0m\u001b[32m'name'\u001b[0m\u001b[37m,\u001b[0m\u001b[37m                                                                          \u001b[0m\u001b[37m \u001b[0m\u001b[37m│\u001b[0m\n",
       "\u001b[37m│\u001b[0m\u001b[37m \u001b[0m\u001b[37m                \u001b[0m\u001b[33moperator\u001b[0m\u001b[37m=\u001b[0m\u001b[1;37m<\u001b[0m\u001b[1;95mComparisonOperator.LIKE:\u001b[0m\u001b[39m \u001b[0m\u001b[32m'LIKE'\u001b[0m\u001b[1;37m>\u001b[0m\u001b[37m,\u001b[0m\u001b[37m                                                    \u001b[0m\u001b[37m \u001b[0m\u001b[37m│\u001b[0m\n",
       "\u001b[37m│\u001b[0m\u001b[37m \u001b[0m\u001b[37m                \u001b[0m\u001b[33mvalue\u001b[0m\u001b[37m=\u001b[0m\u001b[32m'Loom & Aura'\u001b[0m\u001b[37m                                                                            \u001b[0m\u001b[37m \u001b[0m\u001b[37m│\u001b[0m\n",
       "\u001b[37m│\u001b[0m\u001b[37m \u001b[0m\u001b[37m            \u001b[0m\u001b[1;37m)\u001b[0m\u001b[37m                                                                                                  \u001b[0m\u001b[37m \u001b[0m\u001b[37m│\u001b[0m\n",
       "\u001b[37m│\u001b[0m\u001b[37m \u001b[0m\u001b[37m        \u001b[0m\u001b[1;37m]\u001b[0m\u001b[37m                                                                                                      \u001b[0m\u001b[37m \u001b[0m\u001b[37m│\u001b[0m\n",
       "\u001b[37m│\u001b[0m\u001b[37m \u001b[0m\u001b[37m    \u001b[0m\u001b[1;37m]\u001b[0m\u001b[37m,\u001b[0m\u001b[37m                                                                                                         \u001b[0m\u001b[37m \u001b[0m\u001b[37m│\u001b[0m\n",
       "\u001b[37m│\u001b[0m\u001b[37m \u001b[0m\u001b[37m    \u001b[0m\u001b[33mfilter_operators\u001b[0m\u001b[37m=\u001b[0m\u001b[32m'AND'\u001b[0m\u001b[37m,\u001b[0m\u001b[37m                                                                                    \u001b[0m\u001b[37m \u001b[0m\u001b[37m│\u001b[0m\n",
       "\u001b[37m│\u001b[0m\u001b[37m \u001b[0m\u001b[37m    \u001b[0m\u001b[33mcollection\u001b[0m\u001b[37m=\u001b[0m\u001b[32m'Brands'\u001b[0m\u001b[37m                                                                                        \u001b[0m\u001b[37m \u001b[0m\u001b[37m│\u001b[0m\n",
       "\u001b[37m│\u001b[0m\u001b[37m \u001b[0m\u001b[1;37m)\u001b[0m\u001b[37m                                                                                                              \u001b[0m\u001b[37m \u001b[0m\u001b[37m│\u001b[0m\n",
       "\u001b[37m│\u001b[0m\u001b[37m                                                                                                                 \u001b[0m\u001b[37m│\u001b[0m\n",
       "\u001b[37m╰─────────────────────────────────────────────────────────────────────────────────────────────────────────────────╯\u001b[0m\n"
      ]
     },
     "metadata": {},
     "output_type": "display_data"
    },
    {
     "data": {
      "text/html": [
       "<pre style=\"white-space:pre;overflow-x:auto;line-height:normal;font-family:Menlo,'DejaVu Sans Mono',consolas,'Courier New',monospace\"><span style=\"color: #c0c0c0; text-decoration-color: #c0c0c0\">╭────────────────────────────────────────────</span> 📊 Aggregations Run 1/1 <span style=\"color: #c0c0c0; text-decoration-color: #c0c0c0\">────────────────────────────────────────────╮</span>\n",
       "<span style=\"color: #c0c0c0; text-decoration-color: #c0c0c0\">│                                                                                                                 │</span>\n",
       "<span style=\"color: #c0c0c0; text-decoration-color: #c0c0c0\">│ </span><span style=\"color: #800080; text-decoration-color: #800080; font-weight: bold\">AggregationResultWithCollection</span><span style=\"color: #c0c0c0; text-decoration-color: #c0c0c0; font-weight: bold\">(</span><span style=\"color: #c0c0c0; text-decoration-color: #c0c0c0\">                                                                                │</span>\n",
       "<span style=\"color: #c0c0c0; text-decoration-color: #c0c0c0\">│     </span><span style=\"color: #808000; text-decoration-color: #808000\">search_query</span><span style=\"color: #c0c0c0; text-decoration-color: #c0c0c0\">=</span><span style=\"color: #800080; text-decoration-color: #800080; font-style: italic\">None</span><span style=\"color: #c0c0c0; text-decoration-color: #c0c0c0\">,                                                                                          │</span>\n",
       "<span style=\"color: #c0c0c0; text-decoration-color: #c0c0c0\">│     </span><span style=\"color: #808000; text-decoration-color: #808000\">groupby_property</span><span style=\"color: #c0c0c0; text-decoration-color: #c0c0c0\">=</span><span style=\"color: #800080; text-decoration-color: #800080; font-style: italic\">None</span><span style=\"color: #c0c0c0; text-decoration-color: #c0c0c0\">,                                                                                      │</span>\n",
       "<span style=\"color: #c0c0c0; text-decoration-color: #c0c0c0\">│     </span><span style=\"color: #808000; text-decoration-color: #808000\">aggregations</span><span style=\"color: #c0c0c0; text-decoration-color: #c0c0c0\">=</span><span style=\"color: #c0c0c0; text-decoration-color: #c0c0c0; font-weight: bold\">[</span><span style=\"color: #800080; text-decoration-color: #800080; font-weight: bold\">IntegerPropertyAggregation</span><span style=\"color: #c0c0c0; text-decoration-color: #c0c0c0; font-weight: bold\">(</span><span style=\"color: #808000; text-decoration-color: #808000\">property_name</span><span style=\"color: #c0c0c0; text-decoration-color: #c0c0c0\">=</span><span style=\"color: #008000; text-decoration-color: #008000\">'price'</span><span style=\"color: #c0c0c0; text-decoration-color: #c0c0c0\">, </span><span style=\"color: #808000; text-decoration-color: #808000\">metrics</span><span style=\"color: #c0c0c0; text-decoration-color: #c0c0c0\">=</span><span style=\"color: #c0c0c0; text-decoration-color: #c0c0c0; font-weight: bold\">&lt;</span><span style=\"color: #ff00ff; text-decoration-color: #ff00ff; font-weight: bold\">NumericMetrics.MEAN:</span><span style=\"color: #000000; text-decoration-color: #000000\"> </span><span style=\"color: #008000; text-decoration-color: #008000\">'MEAN'</span><span style=\"color: #000000; text-decoration-color: #000000\">&gt;</span><span style=\"color: #000000; text-decoration-color: #000000; font-weight: bold\">)]</span><span style=\"color: #000000; text-decoration-color: #000000\">,</span><span style=\"color: #c0c0c0; text-decoration-color: #c0c0c0\">    │</span>\n",
       "<span style=\"color: #c0c0c0; text-decoration-color: #c0c0c0\">│ </span><span style=\"color: #000000; text-decoration-color: #000000\">    </span><span style=\"color: #808000; text-decoration-color: #808000\">filters</span><span style=\"color: #000000; text-decoration-color: #000000\">=</span><span style=\"color: #000000; text-decoration-color: #000000; font-weight: bold\">[</span><span style=\"color: #c0c0c0; text-decoration-color: #c0c0c0\">                                                                                                   │</span>\n",
       "<span style=\"color: #c0c0c0; text-decoration-color: #c0c0c0\">│ </span><span style=\"color: #000000; text-decoration-color: #000000\">        </span><span style=\"color: #800080; text-decoration-color: #800080; font-weight: bold\">TextPropertyFilter</span><span style=\"color: #000000; text-decoration-color: #000000; font-weight: bold\">(</span><span style=\"color: #c0c0c0; text-decoration-color: #c0c0c0\">                                                                                     │</span>\n",
       "<span style=\"color: #c0c0c0; text-decoration-color: #c0c0c0\">│ </span><span style=\"color: #000000; text-decoration-color: #000000\">            </span><span style=\"color: #808000; text-decoration-color: #808000\">property_name</span><span style=\"color: #000000; text-decoration-color: #000000\">=</span><span style=\"color: #008000; text-decoration-color: #008000\">'brand'</span><span style=\"color: #000000; text-decoration-color: #000000\">,</span><span style=\"color: #c0c0c0; text-decoration-color: #c0c0c0\">                                                                              │</span>\n",
       "<span style=\"color: #c0c0c0; text-decoration-color: #c0c0c0\">│ </span><span style=\"color: #000000; text-decoration-color: #000000\">            </span><span style=\"color: #808000; text-decoration-color: #808000\">operator</span><span style=\"color: #000000; text-decoration-color: #000000\">=&lt;ComparisonOperator.EQUALS: </span><span style=\"color: #008000; text-decoration-color: #008000\">'='</span><span style=\"color: #c0c0c0; text-decoration-color: #c0c0c0; font-weight: bold\">&gt;</span><span style=\"color: #c0c0c0; text-decoration-color: #c0c0c0\">,                                                          │</span>\n",
       "<span style=\"color: #c0c0c0; text-decoration-color: #c0c0c0\">│             </span><span style=\"color: #808000; text-decoration-color: #808000\">value</span><span style=\"color: #c0c0c0; text-decoration-color: #c0c0c0\">=</span><span style=\"color: #008000; text-decoration-color: #008000\">'Loom &amp; Aura'</span><span style=\"color: #c0c0c0; text-decoration-color: #c0c0c0\">                                                                                 │</span>\n",
       "<span style=\"color: #c0c0c0; text-decoration-color: #c0c0c0\">│         </span><span style=\"color: #c0c0c0; text-decoration-color: #c0c0c0; font-weight: bold\">)</span><span style=\"color: #c0c0c0; text-decoration-color: #c0c0c0\">                                                                                                       │</span>\n",
       "<span style=\"color: #c0c0c0; text-decoration-color: #c0c0c0\">│     </span><span style=\"color: #c0c0c0; text-decoration-color: #c0c0c0; font-weight: bold\">]</span><span style=\"color: #c0c0c0; text-decoration-color: #c0c0c0\">,                                                                                                          │</span>\n",
       "<span style=\"color: #c0c0c0; text-decoration-color: #c0c0c0\">│     </span><span style=\"color: #808000; text-decoration-color: #808000\">collection</span><span style=\"color: #c0c0c0; text-decoration-color: #c0c0c0\">=</span><span style=\"color: #008000; text-decoration-color: #008000\">'Ecommerce'</span><span style=\"color: #c0c0c0; text-decoration-color: #c0c0c0\">                                                                                      │</span>\n",
       "<span style=\"color: #c0c0c0; text-decoration-color: #c0c0c0\">│ </span><span style=\"color: #c0c0c0; text-decoration-color: #c0c0c0; font-weight: bold\">)</span><span style=\"color: #c0c0c0; text-decoration-color: #c0c0c0\">                                                                                                               │</span>\n",
       "<span style=\"color: #c0c0c0; text-decoration-color: #c0c0c0\">│                                                                                                                 │</span>\n",
       "<span style=\"color: #c0c0c0; text-decoration-color: #c0c0c0\">╰─────────────────────────────────────────────────────────────────────────────────────────────────────────────────╯</span>\n",
       "</pre>\n"
      ],
      "text/plain": [
       "\u001b[37m╭─\u001b[0m\u001b[37m───────────────────────────────────────────\u001b[0m 📊 Aggregations Run 1/1 \u001b[37m───────────────────────────────────────────\u001b[0m\u001b[37m─╮\u001b[0m\n",
       "\u001b[37m│\u001b[0m\u001b[37m                                                                                                                 \u001b[0m\u001b[37m│\u001b[0m\n",
       "\u001b[37m│\u001b[0m\u001b[37m \u001b[0m\u001b[1;35mAggregationResultWithCollection\u001b[0m\u001b[1;37m(\u001b[0m\u001b[37m                                                                               \u001b[0m\u001b[37m \u001b[0m\u001b[37m│\u001b[0m\n",
       "\u001b[37m│\u001b[0m\u001b[37m \u001b[0m\u001b[37m    \u001b[0m\u001b[33msearch_query\u001b[0m\u001b[37m=\u001b[0m\u001b[3;35mNone\u001b[0m\u001b[37m,\u001b[0m\u001b[37m                                                                                         \u001b[0m\u001b[37m \u001b[0m\u001b[37m│\u001b[0m\n",
       "\u001b[37m│\u001b[0m\u001b[37m \u001b[0m\u001b[37m    \u001b[0m\u001b[33mgroupby_property\u001b[0m\u001b[37m=\u001b[0m\u001b[3;35mNone\u001b[0m\u001b[37m,\u001b[0m\u001b[37m                                                                                     \u001b[0m\u001b[37m \u001b[0m\u001b[37m│\u001b[0m\n",
       "\u001b[37m│\u001b[0m\u001b[37m \u001b[0m\u001b[37m    \u001b[0m\u001b[33maggregations\u001b[0m\u001b[37m=\u001b[0m\u001b[1;37m[\u001b[0m\u001b[1;35mIntegerPropertyAggregation\u001b[0m\u001b[1;37m(\u001b[0m\u001b[33mproperty_name\u001b[0m\u001b[37m=\u001b[0m\u001b[32m'price'\u001b[0m\u001b[37m, \u001b[0m\u001b[33mmetrics\u001b[0m\u001b[37m=\u001b[0m\u001b[1;37m<\u001b[0m\u001b[1;95mNumericMetrics.MEAN:\u001b[0m\u001b[39m \u001b[0m\u001b[32m'MEAN'\u001b[0m\u001b[39m>\u001b[0m\u001b[1;39m)\u001b[0m\u001b[1;39m]\u001b[0m\u001b[39m,\u001b[0m\u001b[37m   \u001b[0m\u001b[37m \u001b[0m\u001b[37m│\u001b[0m\n",
       "\u001b[37m│\u001b[0m\u001b[37m \u001b[0m\u001b[39m    \u001b[0m\u001b[33mfilters\u001b[0m\u001b[39m=\u001b[0m\u001b[1;39m[\u001b[0m\u001b[37m                                                                                                  \u001b[0m\u001b[37m \u001b[0m\u001b[37m│\u001b[0m\n",
       "\u001b[37m│\u001b[0m\u001b[37m \u001b[0m\u001b[39m        \u001b[0m\u001b[1;35mTextPropertyFilter\u001b[0m\u001b[1;39m(\u001b[0m\u001b[37m                                                                                    \u001b[0m\u001b[37m \u001b[0m\u001b[37m│\u001b[0m\n",
       "\u001b[37m│\u001b[0m\u001b[37m \u001b[0m\u001b[39m            \u001b[0m\u001b[33mproperty_name\u001b[0m\u001b[39m=\u001b[0m\u001b[32m'brand'\u001b[0m\u001b[39m,\u001b[0m\u001b[37m                                                                             \u001b[0m\u001b[37m \u001b[0m\u001b[37m│\u001b[0m\n",
       "\u001b[37m│\u001b[0m\u001b[37m \u001b[0m\u001b[39m            \u001b[0m\u001b[33moperator\u001b[0m\u001b[39m=<ComparisonOperator.EQUALS: \u001b[0m\u001b[32m'='\u001b[0m\u001b[1;37m>\u001b[0m\u001b[37m,\u001b[0m\u001b[37m                                                         \u001b[0m\u001b[37m \u001b[0m\u001b[37m│\u001b[0m\n",
       "\u001b[37m│\u001b[0m\u001b[37m \u001b[0m\u001b[37m            \u001b[0m\u001b[33mvalue\u001b[0m\u001b[37m=\u001b[0m\u001b[32m'Loom & Aura'\u001b[0m\u001b[37m                                                                                \u001b[0m\u001b[37m \u001b[0m\u001b[37m│\u001b[0m\n",
       "\u001b[37m│\u001b[0m\u001b[37m \u001b[0m\u001b[37m        \u001b[0m\u001b[1;37m)\u001b[0m\u001b[37m                                                                                                      \u001b[0m\u001b[37m \u001b[0m\u001b[37m│\u001b[0m\n",
       "\u001b[37m│\u001b[0m\u001b[37m \u001b[0m\u001b[37m    \u001b[0m\u001b[1;37m]\u001b[0m\u001b[37m,\u001b[0m\u001b[37m                                                                                                         \u001b[0m\u001b[37m \u001b[0m\u001b[37m│\u001b[0m\n",
       "\u001b[37m│\u001b[0m\u001b[37m \u001b[0m\u001b[37m    \u001b[0m\u001b[33mcollection\u001b[0m\u001b[37m=\u001b[0m\u001b[32m'Ecommerce'\u001b[0m\u001b[37m                                                                                     \u001b[0m\u001b[37m \u001b[0m\u001b[37m│\u001b[0m\n",
       "\u001b[37m│\u001b[0m\u001b[37m \u001b[0m\u001b[1;37m)\u001b[0m\u001b[37m                                                                                                              \u001b[0m\u001b[37m \u001b[0m\u001b[37m│\u001b[0m\n",
       "\u001b[37m│\u001b[0m\u001b[37m                                                                                                                 \u001b[0m\u001b[37m│\u001b[0m\n",
       "\u001b[37m╰─────────────────────────────────────────────────────────────────────────────────────────────────────────────────╯\u001b[0m\n"
      ]
     },
     "metadata": {},
     "output_type": "display_data"
    },
    {
     "data": {
      "text/html": [
       "<pre style=\"white-space:pre;overflow-x:auto;line-height:normal;font-family:Menlo,'DejaVu Sans Mono',consolas,'Courier New',monospace\"><span style=\"color: #c0c0c0; text-decoration-color: #c0c0c0\">╭──────────────────────────────────────────────────</span> 📚 Sources <span style=\"color: #c0c0c0; text-decoration-color: #c0c0c0\">───────────────────────────────────────────────────╮</span>\n",
       "<span style=\"color: #c0c0c0; text-decoration-color: #c0c0c0\">│                                                                                                                 │</span>\n",
       "<span style=\"color: #c0c0c0; text-decoration-color: #c0c0c0\">│  - object_id='88433e18-216d-489a-8719-81a29b0ae915' collection='Brands'                                         │</span>\n",
       "<span style=\"color: #c0c0c0; text-decoration-color: #c0c0c0\">│  - object_id='99f42d07-51e9-4388-9c4b-63eb8f79f5fd' collection='Brands'                                         │</span>\n",
       "<span style=\"color: #c0c0c0; text-decoration-color: #c0c0c0\">│  - object_id='0852c2a4-0c5a-4c69-9762-1be10bc44f2b' collection='Brands'                                         │</span>\n",
       "<span style=\"color: #c0c0c0; text-decoration-color: #c0c0c0\">│  - object_id='d172a342-da41-45c3-876e-d08db843b8b3' collection='Brands'                                         │</span>\n",
       "<span style=\"color: #c0c0c0; text-decoration-color: #c0c0c0\">│  - object_id='a7ad0ed7-812e-4106-a29f-40442c3a106e' collection='Brands'                                         │</span>\n",
       "<span style=\"color: #c0c0c0; text-decoration-color: #c0c0c0\">│  - object_id='b6abfa02-18e5-44cf-a002-ba140e3623ad' collection='Brands'                                         │</span>\n",
       "<span style=\"color: #c0c0c0; text-decoration-color: #c0c0c0\">│                                                                                                                 │</span>\n",
       "<span style=\"color: #c0c0c0; text-decoration-color: #c0c0c0\">╰─────────────────────────────────────────────────────────────────────────────────────────────────────────────────╯</span>\n",
       "</pre>\n"
      ],
      "text/plain": [
       "\u001b[37m╭─\u001b[0m\u001b[37m─────────────────────────────────────────────────\u001b[0m 📚 Sources \u001b[37m──────────────────────────────────────────────────\u001b[0m\u001b[37m─╮\u001b[0m\n",
       "\u001b[37m│\u001b[0m\u001b[37m                                                                                                                 \u001b[0m\u001b[37m│\u001b[0m\n",
       "\u001b[37m│\u001b[0m\u001b[37m \u001b[0m\u001b[37m - object_id='88433e18-216d-489a-8719-81a29b0ae915' collection='Brands'\u001b[0m\u001b[37m                                        \u001b[0m\u001b[37m \u001b[0m\u001b[37m│\u001b[0m\n",
       "\u001b[37m│\u001b[0m\u001b[37m \u001b[0m\u001b[37m - object_id='99f42d07-51e9-4388-9c4b-63eb8f79f5fd' collection='Brands'\u001b[0m\u001b[37m                                        \u001b[0m\u001b[37m \u001b[0m\u001b[37m│\u001b[0m\n",
       "\u001b[37m│\u001b[0m\u001b[37m \u001b[0m\u001b[37m - object_id='0852c2a4-0c5a-4c69-9762-1be10bc44f2b' collection='Brands'\u001b[0m\u001b[37m                                        \u001b[0m\u001b[37m \u001b[0m\u001b[37m│\u001b[0m\n",
       "\u001b[37m│\u001b[0m\u001b[37m \u001b[0m\u001b[37m - object_id='d172a342-da41-45c3-876e-d08db843b8b3' collection='Brands'\u001b[0m\u001b[37m                                        \u001b[0m\u001b[37m \u001b[0m\u001b[37m│\u001b[0m\n",
       "\u001b[37m│\u001b[0m\u001b[37m \u001b[0m\u001b[37m - object_id='a7ad0ed7-812e-4106-a29f-40442c3a106e' collection='Brands'\u001b[0m\u001b[37m                                        \u001b[0m\u001b[37m \u001b[0m\u001b[37m│\u001b[0m\n",
       "\u001b[37m│\u001b[0m\u001b[37m \u001b[0m\u001b[37m - object_id='b6abfa02-18e5-44cf-a002-ba140e3623ad' collection='Brands'\u001b[0m\u001b[37m                                        \u001b[0m\u001b[37m \u001b[0m\u001b[37m│\u001b[0m\n",
       "\u001b[37m│\u001b[0m\u001b[37m                                                                                                                 \u001b[0m\u001b[37m│\u001b[0m\n",
       "\u001b[37m╰─────────────────────────────────────────────────────────────────────────────────────────────────────────────────╯\u001b[0m\n"
      ]
     },
     "metadata": {},
     "output_type": "display_data"
    },
    {
     "name": "stdout",
     "output_type": "stream",
     "text": [
      "\n",
      "\n"
     ]
    },
    {
     "data": {
      "text/html": [
       "<pre style=\"white-space:pre;overflow-x:auto;line-height:normal;font-family:Menlo,'DejaVu Sans Mono',consolas,'Courier New',monospace\"><span style=\"font-style: italic\">   📊 Usage Statistics    </span>\n",
       "┌────────────────┬───────┐\n",
       "│ LLM Requests:  │ 5     │\n",
       "│ Input Tokens:  │ 9728  │\n",
       "│ Output Tokens: │ 479   │\n",
       "│ Total Tokens:  │ 10207 │\n",
       "└────────────────┴───────┘\n",
       "</pre>\n"
      ],
      "text/plain": [
       "\u001b[3m   📊 Usage Statistics    \u001b[0m\n",
       "┌────────────────┬───────┐\n",
       "│ LLM Requests:  │ 5     │\n",
       "│ Input Tokens:  │ 9728  │\n",
       "│ Output Tokens: │ 479   │\n",
       "│ Total Tokens:  │ 10207 │\n",
       "└────────────────┴───────┘\n"
      ]
     },
     "metadata": {},
     "output_type": "display_data"
    },
    {
     "data": {
      "text/html": [
       "<pre style=\"white-space:pre;overflow-x:auto;line-height:normal;font-family:Menlo,'DejaVu Sans Mono',consolas,'Courier New',monospace\">\n",
       "<span style=\"color: #008080; text-decoration-color: #008080; font-weight: bold\">Total Time Taken:</span><span style=\"color: #008080; text-decoration-color: #008080\"> </span><span style=\"color: #008080; text-decoration-color: #008080; font-weight: bold\">11.</span><span style=\"color: #008080; text-decoration-color: #008080\">38s</span>\n",
       "</pre>\n"
      ],
      "text/plain": [
       "\n",
       "\u001b[1;36mTotal Time Taken:\u001b[0m\u001b[36m \u001b[0m\u001b[1;36m11.\u001b[0m\u001b[36m38s\u001b[0m\n"
      ]
     },
     "metadata": {},
     "output_type": "display_data"
    }
   ],
   "source": [
    "response = agent.run(\"Does the brand 'Loom & Aura' have a parent brand or child brands and what countries do they operate from? \"\n",
    "                     \"Also, what's the average price of a item from 'Loom & Aura'?\")\n",
    "\n",
    "print_query_agent_response(response)"
   ]
  },
  {
   "cell_type": "markdown",
   "metadata": {
    "id": "Hm32UutOC63l"
   },
   "source": [
    "### Changing the System Prompt\n",
    "\n",
    "In some cases, you may want to define a custom `system_prompt` for your agent. This can help you provide the agent with some default instructions as to how to behave. For example, let's create an agent that will always answer the query in the users language.\n",
    "\n",
    "Let's also create a `QueryAgent` that has access to two more collections, `Financial_contracts` and `Weather`. Next, you can try out more queries yourself!"
   ]
  },
  {
   "cell_type": "code",
   "execution_count": 10,
   "metadata": {
    "id": "WWFMuHpIC6ol"
   },
   "outputs": [],
   "source": [
    "multi_lingual_agent = QueryAgent(\n",
    "    client=client, collections=[\"Ecommerce\", \"Brands\", \"Financial_contracts\", \"Weather\"],\n",
    "    system_prompt=\"You are a helpful assistant that always generated the final response in the users language.\"\n",
    "    \" You may have to translate the user query to perform searches. But you must always respond to the user in their own language.\"\n",
    ")"
   ]
  },
  {
   "cell_type": "markdown",
   "metadata": {
    "id": "6hzF0PdfEllR"
   },
   "source": [
    "For example, this time lets ask something that is about weather!"
   ]
  },
  {
   "cell_type": "code",
   "execution_count": 11,
   "metadata": {
    "colab": {
     "base_uri": "https://localhost:8080/"
    },
    "id": "76tch6bPuOOL",
    "outputId": "372e2761-17c9-4d07-d434-2b5fb8f636e2"
   },
   "outputs": [
    {
     "name": "stdout",
     "output_type": "stream",
     "text": [
      "Les vitesses de vent minimales, maximales et moyennes sont respectivement de 8,40 km/h, 94,88 km/h et 49,37 km/h. Ces données offrent une vue d'ensemble des conditions de vent typiques mesurées dans une période ou un lieu donné.\n"
     ]
    }
   ],
   "source": [
    "response = multi_lingual_agent.run(\"Quelles sont les vitesses minimales, maximales et moyennes du vent?\")\n",
    "print(response.final_answer)"
   ]
  },
  {
   "cell_type": "markdown",
   "metadata": {
    "id": "70lwuxf1F38d"
   },
   "source": [
    "### Try More Questions\n",
    "\n",
    "- For example Let's try to find out more about the brans \"Eko & Stitch\""
   ]
  },
  {
   "cell_type": "code",
   "execution_count": 12,
   "metadata": {
    "colab": {
     "base_uri": "https://localhost:8080/"
    },
    "id": "CrbWyfoZwBWU",
    "outputId": "38e8ad3f-a0fa-4c8b-ef4e-debe7e11875d"
   },
   "outputs": [
    {
     "name": "stdout",
     "output_type": "stream",
     "text": [
      "Yes, Eko & Stitch has a branch in the UK. The brand is part of the broader company Nova Nest, which serves as Eko & Stitch's parent brand. Eko & Stitch itself operates in the UK and has its child brands, Eko & Stitch Active and Eko & Stitch Kids, also within the UK.\n"
     ]
    }
   ],
   "source": [
    "response = multi_lingual_agent.run(\"Does Eko & Stitch have a branch in the UK? Or if not, does it have parent or child company in the UK?\")\n",
    "\n",
    "print(response.final_answer)"
   ]
  },
  {
   "cell_type": "markdown",
   "metadata": {
    "id": "phQCO6G-ci4Q"
   },
   "source": [
    "- Our `multi_lingual_agent` also has access to a collection called \"Financial_contracts\". Let's try to find out some more information about this dataser."
   ]
  },
  {
   "cell_type": "code",
   "execution_count": 13,
   "metadata": {
    "colab": {
     "base_uri": "https://localhost:8080/"
    },
    "id": "SLPmFsZkcsSj",
    "outputId": "e1ad4630-4888-4d86-f018-f4eee138dbf3"
   },
   "outputs": [
    {
     "name": "stdout",
     "output_type": "stream",
     "text": [
      "The query seeks to identify the types of contracts listed and determine the most common type. Among the types of contracts provided in the results, the following were identified: employment contracts, sales agreements, invoice contracts, service agreements, and lease agreements. The most common type of contract found in the search results is the employment contract. However, when considering data from both search and aggregation results, the aggregation reveals that the invoice contract is the most common, followed by service agreements and lease agreements. While employment contracts appear frequently in the search results, they rank fourth in the aggregation data in terms of overall occurrences.\n"
     ]
    }
   ],
   "source": [
    "response = multi_lingual_agent.run(\"What kinds of contracts are listed? What's the most common type of contract?\")\n",
    "\n",
    "print(response.final_answer)"
   ]
  }
 ],
 "metadata": {
  "colab": {
   "provenance": []
  },
  "kernelspec": {
   "display_name": "Python 3 (ipykernel)",
   "language": "python",
   "name": "python3"
  },
  "language_info": {
   "codemirror_mode": {
    "name": "ipython",
    "version": 3
   },
   "file_extension": ".py",
   "mimetype": "text/x-python",
   "name": "python",
   "nbconvert_exporter": "python",
   "pygments_lexer": "ipython3",
   "version": "3.11.6"
  }
 },
 "nbformat": 4,
 "nbformat_minor": 1
}
