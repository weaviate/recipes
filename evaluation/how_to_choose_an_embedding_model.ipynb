{
 "cells": [
  {
   "cell_type": "markdown",
   "metadata": {},
   "source": [
    "# How to Choose an Embedding Model"
   ]
  },
  {
   "cell_type": "code",
   "execution_count": 1,
   "metadata": {},
   "outputs": [
    {
     "name": "stdout",
     "output_type": "stream",
     "text": [
      "Requirement already satisfied: pytrec_eval in /opt/homebrew/lib/python3.11/site-packages (0.5)\n"
     ]
    }
   ],
   "source": [
    "!pip3 install pytrec_eval"
   ]
  },
  {
   "cell_type": "code",
   "execution_count": 2,
   "metadata": {},
   "outputs": [
    {
     "data": {
      "text/html": [
       "<div>\n",
       "<style scoped>\n",
       "    .dataframe tbody tr th:only-of-type {\n",
       "        vertical-align: middle;\n",
       "    }\n",
       "\n",
       "    .dataframe tbody tr th {\n",
       "        vertical-align: top;\n",
       "    }\n",
       "\n",
       "    .dataframe thead th {\n",
       "        text-align: right;\n",
       "    }\n",
       "</style>\n",
       "<table border=\"1\" class=\"dataframe\">\n",
       "  <thead>\n",
       "    <tr style=\"text-align: right;\">\n",
       "      <th></th>\n",
       "      <th>pastry_id</th>\n",
       "      <th>pastry_name</th>\n",
       "      <th>pastry_description</th>\n",
       "    </tr>\n",
       "  </thead>\n",
       "  <tbody>\n",
       "    <tr>\n",
       "      <th>0</th>\n",
       "      <td>1</td>\n",
       "      <td>Bagel</td>\n",
       "      <td>A classic round bread with a chewy interior and a golden crust, perfect for toasting or topping with cream cheese, smoked salmon, or your favorite spreads.</td>\n",
       "    </tr>\n",
       "    <tr>\n",
       "      <th>1</th>\n",
       "      <td>2</td>\n",
       "      <td>Roll</td>\n",
       "      <td>Soft and pillowy, these rolls are versatile companions to any meal. Enjoy them fresh out of the oven or sliced for sandwiches, filled with your choice of meats, cheeses, and veggies.</td>\n",
       "    </tr>\n",
       "    <tr>\n",
       "      <th>2</th>\n",
       "      <td>3</td>\n",
       "      <td>Donut</td>\n",
       "      <td>Indulge in these sweet, fried delights. Glazed, powdered, or filled with decadent creams and fruit jams, each bite is a delightful burst of flavor and nostalgia.</td>\n",
       "    </tr>\n",
       "    <tr>\n",
       "      <th>3</th>\n",
       "      <td>4</td>\n",
       "      <td>Muffin</td>\n",
       "      <td>Moist and tender, these muffins are bursting with flavor. Whether you prefer classic blueberry, indulgent chocolate chip, or hearty bran, there's a muffin for every craving.</td>\n",
       "    </tr>\n",
       "    <tr>\n",
       "      <th>4</th>\n",
       "      <td>5</td>\n",
       "      <td>Croissant</td>\n",
       "      <td>Buttery layers of flaky pastry are folded to perfection, creating a delicate and irresistible treat. Enjoy them plain, stuffed with savory fillings, or paired with your favorite coffee.</td>\n",
       "    </tr>\n",
       "    <tr>\n",
       "      <th>5</th>\n",
       "      <td>6</td>\n",
       "      <td>Scone</td>\n",
       "      <td>Crumbly yet tender, these scones are the epitome of comfort. Enjoy them plain or studded with fruits, nuts, or chocolate chips, accompanied by a dollop of clotted cream and jam.</td>\n",
       "    </tr>\n",
       "    <tr>\n",
       "      <th>6</th>\n",
       "      <td>7</td>\n",
       "      <td>Pretzel</td>\n",
       "      <td>Crunchy on the outside, soft on the inside, these pretzels are a salty snack lover's dream. Enjoy them twisted into traditional shapes or dipped in sweet or savory toppings for a delightful twist.</td>\n",
       "    </tr>\n",
       "    <tr>\n",
       "      <th>7</th>\n",
       "      <td>8</td>\n",
       "      <td>Sandwich</td>\n",
       "      <td>Freshly baked bread is the foundation for these hearty sandwiches. Pile on layers of meats, cheeses, crisp vegetables, and flavorful spreads for a satisfying meal on the go.</td>\n",
       "    </tr>\n",
       "  </tbody>\n",
       "</table>\n",
       "</div>"
      ],
      "text/plain": [
       "   pastry_id pastry_name  \\\n",
       "0          1       Bagel   \n",
       "1          2        Roll   \n",
       "2          3       Donut   \n",
       "3          4      Muffin   \n",
       "4          5   Croissant   \n",
       "5          6       Scone   \n",
       "6          7     Pretzel   \n",
       "7          8    Sandwich   \n",
       "\n",
       "                                                                                                                                                                                     pastry_description  \n",
       "0                                           A classic round bread with a chewy interior and a golden crust, perfect for toasting or topping with cream cheese, smoked salmon, or your favorite spreads.  \n",
       "1                Soft and pillowy, these rolls are versatile companions to any meal. Enjoy them fresh out of the oven or sliced for sandwiches, filled with your choice of meats, cheeses, and veggies.  \n",
       "2                                     Indulge in these sweet, fried delights. Glazed, powdered, or filled with decadent creams and fruit jams, each bite is a delightful burst of flavor and nostalgia.  \n",
       "3                         Moist and tender, these muffins are bursting with flavor. Whether you prefer classic blueberry, indulgent chocolate chip, or hearty bran, there's a muffin for every craving.  \n",
       "4             Buttery layers of flaky pastry are folded to perfection, creating a delicate and irresistible treat. Enjoy them plain, stuffed with savory fillings, or paired with your favorite coffee.  \n",
       "5                     Crumbly yet tender, these scones are the epitome of comfort. Enjoy them plain or studded with fruits, nuts, or chocolate chips, accompanied by a dollop of clotted cream and jam.  \n",
       "6  Crunchy on the outside, soft on the inside, these pretzels are a salty snack lover's dream. Enjoy them twisted into traditional shapes or dipped in sweet or savory toppings for a delightful twist.  \n",
       "7                         Freshly baked bread is the foundation for these hearty sandwiches. Pile on layers of meats, cheeses, crisp vegetables, and flavorful spreads for a satisfying meal on the go.  "
      ]
     },
     "execution_count": 2,
     "metadata": {},
     "output_type": "execute_result"
    }
   ],
   "source": [
    "import pandas as pd\n",
    "pd.set_option('max_colwidth', None)\n",
    "\n",
    "df = pd.read_csv('pastry_data.csv', delimiter=';')\n",
    "df"
   ]
  },
  {
   "cell_type": "code",
   "execution_count": 3,
   "metadata": {},
   "outputs": [
    {
     "name": "stdout",
     "output_type": "stream",
     "text": [
      "Started /Users/leonie/.cache/weaviate-embedded: process ID 87673\n"
     ]
    },
    {
     "name": "stderr",
     "output_type": "stream",
     "text": [
      "{\"action\":\"startup\",\"default_vectorizer_module\":\"none\",\"level\":\"info\",\"msg\":\"the default vectorizer modules is set to \\\"none\\\", as a result all new schema classes without an explicit vectorizer setting, will use this vectorizer\",\"time\":\"2024-05-08T12:29:09+02:00\"}\n",
      "{\"action\":\"startup\",\"auto_schema_enabled\":true,\"level\":\"info\",\"msg\":\"auto schema enabled setting is set to \\\"true\\\"\",\"time\":\"2024-05-08T12:29:09+02:00\"}\n",
      "{\"level\":\"info\",\"msg\":\"No resource limits set, weaviate will use all available memory and CPU. To limit resources, set LIMIT_RESOURCES=true\",\"time\":\"2024-05-08T12:29:09+02:00\"}\n",
      "{\"level\":\"warning\",\"msg\":\"Multiple vector spaces are present, GraphQL Explore and REST API list objects endpoint module include params has been disabled as a result.\",\"time\":\"2024-05-08T12:29:09+02:00\"}\n",
      "{\"action\":\"grpc_startup\",\"level\":\"info\",\"msg\":\"grpc server listening at [::]:50050\",\"time\":\"2024-05-08T12:29:09+02:00\"}\n",
      "{\"action\":\"restapi_management\",\"level\":\"info\",\"msg\":\"Serving weaviate at http://127.0.0.1:8079\",\"time\":\"2024-05-08T12:29:09+02:00\"}\n"
     ]
    },
    {
     "name": "stdout",
     "output_type": "stream",
     "text": [
      "True\n"
     ]
    }
   ],
   "source": [
    "import weaviate\n",
    "import json\n",
    "\n",
    "try:\n",
    "    client= weaviate.connect_to_local(port=8079, grpc_port=50050)\n",
    "except:\n",
    "    client = weaviate.connect_to_embedded(\n",
    "        headers = {\n",
    "            \"X-OpenAI-Api-Key\": os.environ[\"OPENAI_API_KEY\"]\n",
    "        }\n",
    "    )\n",
    "\n",
    "print(client.is_ready())"
   ]
  },
  {
   "cell_type": "code",
   "execution_count": 4,
   "metadata": {},
   "outputs": [
    {
     "name": "stderr",
     "output_type": "stream",
     "text": [
      "{\"level\":\"info\",\"msg\":\"Created shard pastries_6h48j8vP30f0 in 1.561167ms\",\"time\":\"2024-05-08T12:29:09+02:00\"}\n",
      "{\"action\":\"hnsw_vector_cache_prefill\",\"count\":1000,\"index_id\":\"main\",\"level\":\"info\",\"limit\":1000000000000,\"msg\":\"prefilled vector cache\",\"time\":\"2024-05-08T12:29:09+02:00\",\"took\":41958}\n",
      "{\"level\":\"info\",\"msg\":\"Completed loading shard dim_512_vIr0JrwWdLwP in 3.483791ms\",\"time\":\"2024-05-08T12:29:10+02:00\"}\n",
      "{\"action\":\"hnsw_vector_cache_prefill\",\"count\":3000,\"index_id\":\"main\",\"level\":\"info\",\"limit\":1000000000000,\"msg\":\"prefilled vector cache\",\"time\":\"2024-05-08T12:29:10+02:00\",\"took\":219958}\n",
      "{\"level\":\"info\",\"msg\":\"Completed loading shard dimensions__512_ALiufnMMSrhQ in 5.809542ms\",\"time\":\"2024-05-08T12:29:10+02:00\"}\n",
      "{\"level\":\"info\",\"msg\":\"Completed loading shard dimension_1536_xLwNXnHZeLcm in 6.313459ms\",\"time\":\"2024-05-08T12:29:10+02:00\"}\n",
      "{\"action\":\"hnsw_vector_cache_prefill\",\"count\":3000,\"index_id\":\"main\",\"level\":\"info\",\"limit\":1000000000000,\"msg\":\"prefilled vector cache\",\"time\":\"2024-05-08T12:29:10+02:00\",\"took\":45083}\n",
      "{\"level\":\"info\",\"msg\":\"Completed loading shard dimension_512_JzsLHTawD3Y9 in 6.486ms\",\"time\":\"2024-05-08T12:29:10+02:00\"}\n",
      "{\"action\":\"hnsw_vector_cache_prefill\",\"count\":3000,\"index_id\":\"main\",\"level\":\"info\",\"limit\":1000000000000,\"msg\":\"prefilled vector cache\",\"time\":\"2024-05-08T12:29:10+02:00\",\"took\":96708}\n",
      "{\"action\":\"hnsw_vector_cache_prefill\",\"count\":3000,\"index_id\":\"main\",\"level\":\"info\",\"limit\":1000000000000,\"msg\":\"prefilled vector cache\",\"time\":\"2024-05-08T12:29:10+02:00\",\"took\":45125}\n",
      "{\"level\":\"info\",\"msg\":\"Completed loading shard dimensi_512_Y29FQu1Vc0xQ in 6.497125ms\",\"time\":\"2024-05-08T12:29:10+02:00\"}\n",
      "{\"level\":\"info\",\"msg\":\"Completed loading shard dimensions512_Zvz765WZOg7H in 6.555208ms\",\"time\":\"2024-05-08T12:29:10+02:00\"}\n",
      "{\"action\":\"hnsw_vector_cache_prefill\",\"count\":3000,\"index_id\":\"main\",\"level\":\"info\",\"limit\":1000000000000,\"msg\":\"prefilled vector cache\",\"time\":\"2024-05-08T12:29:10+02:00\",\"took\":45333}\n",
      "{\"level\":\"info\",\"msg\":\"Completed loading shard docs_SN8loOvzlYv7 in 5.827542ms\",\"time\":\"2024-05-08T12:29:10+02:00\"}\n",
      "{\"action\":\"hnsw_vector_cache_prefill\",\"count\":3000,\"index_id\":\"main\",\"level\":\"info\",\"limit\":1000000000000,\"msg\":\"prefilled vector cache\",\"time\":\"2024-05-08T12:29:10+02:00\",\"took\":43666}\n",
      "{\"action\":\"hnsw_vector_cache_prefill\",\"count\":3000,\"index_id\":\"main\",\"level\":\"info\",\"limit\":1000000000000,\"msg\":\"prefilled vector cache\",\"time\":\"2024-05-08T12:29:10+02:00\",\"took\":60959}\n",
      "{\"level\":\"info\",\"msg\":\"Completed loading shard dimensions_512_j71GKbSxo54r in 6.35925ms\",\"time\":\"2024-05-08T12:29:10+02:00\"}\n",
      "{\"action\":\"hnsw_vector_cache_prefill\",\"count\":3000,\"index_id\":\"main\",\"level\":\"info\",\"limit\":1000000000000,\"msg\":\"prefilled vector cache\",\"time\":\"2024-05-08T12:29:10+02:00\",\"took\":49583}\n",
      "{\"level\":\"info\",\"msg\":\"Completed loading shard mycontent_oiMgIfNpvwWZ in 5.154083ms\",\"time\":\"2024-05-08T12:29:10+02:00\"}\n",
      "{\"action\":\"hnsw_vector_cache_prefill\",\"count\":3000,\"index_id\":\"main\",\"level\":\"info\",\"limit\":1000000000000,\"msg\":\"prefilled vector cache\",\"time\":\"2024-05-08T12:29:10+02:00\",\"took\":30958}\n",
      "{\"level\":\"info\",\"msg\":\"Completed loading shard llamaindex_dWivqPiChdO8 in 7.110875ms\",\"time\":\"2024-05-08T12:29:10+02:00\"}\n",
      "{\"action\":\"hnsw_vector_cache_prefill\",\"count\":3000,\"index_id\":\"main\",\"level\":\"info\",\"limit\":1000000000000,\"msg\":\"prefilled vector cache\",\"time\":\"2024-05-08T12:29:10+02:00\",\"took\":160791}\n",
      "{\"level\":\"info\",\"msg\":\"Completed loading shard question_QJgilDdFfzJ2 in 6.577666ms\",\"time\":\"2024-05-08T12:29:10+02:00\"}\n",
      "{\"action\":\"hnsw_vector_cache_prefill\",\"count\":3000,\"index_id\":\"main\",\"level\":\"info\",\"limit\":1000000000000,\"msg\":\"prefilled vector cache\",\"time\":\"2024-05-08T12:29:10+02:00\",\"took\":29875}\n",
      "{\"level\":\"info\",\"msg\":\"Completed loading shard llamaindex_filter_fKXpSjFDc0KK in 14.567042ms\",\"time\":\"2024-05-08T12:29:10+02:00\"}\n",
      "{\"level\":\"info\",\"msg\":\"Completed loading shard question3_jYcpPpqcO5H9 in 3.889875ms\",\"time\":\"2024-05-08T12:29:10+02:00\"}\n",
      "{\"action\":\"hnsw_vector_cache_prefill\",\"count\":3000,\"index_id\":\"main\",\"level\":\"info\",\"limit\":1000000000000,\"msg\":\"prefilled vector cache\",\"time\":\"2024-05-08T12:29:10+02:00\",\"took\":36709}\n",
      "{\"action\":\"hnsw_vector_cache_prefill\",\"count\":3000,\"index_id\":\"main\",\"level\":\"info\",\"limit\":1000000000000,\"msg\":\"prefilled vector cache\",\"time\":\"2024-05-08T12:29:10+02:00\",\"took\":404375}\n",
      "{\"level\":\"info\",\"msg\":\"Completed loading shard myexampleindex_XGMjGqT60mbO in 9.050417ms\",\"time\":\"2024-05-08T12:29:10+02:00\"}\n",
      "{\"level\":\"info\",\"msg\":\"Completed loading shard myexternalcontext_T58iI8xW5iA8 in 14.116958ms\",\"time\":\"2024-05-08T12:29:10+02:00\"}\n"
     ]
    },
    {
     "data": {
      "text/plain": [
       "BatchObjectReturn(all_responses=[UUID('74d4e157-886b-4075-9849-5b5c30733ce6'), UUID('8556cc0c-f8f3-4bd2-95d7-76aee821e1df'), UUID('bc49a7d3-c2c4-4fed-80fb-717aff02f8b3'), UUID('5660da7c-396d-4663-bfe1-6439e8b261e4'), UUID('47ca5c52-f841-45d7-99c7-68136d1abfa3'), UUID('32cb8665-c9b3-4482-840d-6003d6f22672'), UUID('342e40f9-f352-4155-803b-f3e644e6a6a6'), UUID('6a09544a-21f2-42b4-9636-a45361cfb887')], elapsed_seconds=0.7803750038146973, errors={}, uuids={0: UUID('74d4e157-886b-4075-9849-5b5c30733ce6'), 1: UUID('8556cc0c-f8f3-4bd2-95d7-76aee821e1df'), 2: UUID('bc49a7d3-c2c4-4fed-80fb-717aff02f8b3'), 3: UUID('5660da7c-396d-4663-bfe1-6439e8b261e4'), 4: UUID('47ca5c52-f841-45d7-99c7-68136d1abfa3'), 5: UUID('32cb8665-c9b3-4482-840d-6003d6f22672'), 6: UUID('342e40f9-f352-4155-803b-f3e644e6a6a6'), 7: UUID('6a09544a-21f2-42b4-9636-a45361cfb887')}, has_errors=False)"
      ]
     },
     "execution_count": 4,
     "metadata": {},
     "output_type": "execute_result"
    }
   ],
   "source": [
    "import weaviate.classes as wvc\n",
    "from weaviate.classes.config import Property, DataType\n",
    "\n",
    "if client.collections.exists(\"Pastries\"):\n",
    "    client.collections.delete(\"Pastries\")\n",
    "\n",
    "pastries = client.collections.create(\n",
    "    name=\"Pastries\",\n",
    "    vectorizer_config=wvc.config.Configure.Vectorizer.text2vec_openai(model='text-embedding-3-large'),\n",
    "    properties=[\n",
    "        Property(name=\"pastry_name\", data_type=DataType.TEXT),\n",
    "        Property(name=\"pastry_description\", data_type=DataType.TEXT),\n",
    "    ]\n",
    ")\n",
    "\n",
    "pastry_objects = list()\n",
    "for _, row in df.iterrows():\n",
    "    properties = {\n",
    "        \"pastry_name\": row.pastry_name,\n",
    "        \"pastry_description\": row.pastry_description\n",
    "    }\n",
    "    pastry_objects.append(properties)\n",
    "\n",
    "pastries.data.insert_many(pastry_objects)"
   ]
  },
  {
   "cell_type": "markdown",
   "metadata": {},
   "source": [
    "# Setup Evaluation"
   ]
  },
  {
   "cell_type": "code",
   "execution_count": 5,
   "metadata": {},
   "outputs": [
    {
     "name": "stderr",
     "output_type": "stream",
     "text": [
      "{\"action\":\"hnsw_vector_cache_prefill\",\"count\":3000,\"index_id\":\"main\",\"level\":\"info\",\"limit\":1000000000000,\"msg\":\"prefilled vector cache\",\"time\":\"2024-05-08T12:29:10+02:00\",\"took\":6396625}\n",
      "{\"action\":\"hnsw_vector_cache_prefill\",\"count\":3000,\"index_id\":\"main\",\"level\":\"info\",\"limit\":1000000000000,\"msg\":\"prefilled vector cache\",\"time\":\"2024-05-08T12:29:10+02:00\",\"took\":9203584}\n"
     ]
    }
   ],
   "source": [
    "from weaviate.classes.query import MetadataQuery\n",
    "import pytrec_eval\n",
    "\n",
    "def get_results(query):\n",
    "    response = pastries.query.near_text(\n",
    "        query=query,\n",
    "        limit=4,\n",
    "        return_metadata=MetadataQuery(distance=True)\n",
    "    )\n",
    "\n",
    "    result_dict = {}\n",
    "    for o in response.objects:\n",
    "        result_dict[o.properties['pastry_name']] = o.metadata.distance\n",
    "\n",
    "    return result_dict\n",
    "\n",
    "qrel = {\n",
    "    'Sweet pastry' : {\n",
    "        'Donut' : 1,\n",
    "        'Muffin' : 1,\n",
    "        'Scone' : 1, \n",
    "    },\n",
    "    'Suitable for lunch' : {\n",
    "        'Sandwich' : 1,\n",
    "        'Bagel' : 1,\n",
    "        'Roll' : 1,\n",
    "        'Pretzel' : 1\n",
    "    },\n",
    "    'Goes well with jam' : {\n",
    "        'Bagel' : 1,\n",
    "        'Croissant' : 1,\n",
    "        'Roll' : 1,\n",
    "    },\n",
    "}"
   ]
  },
  {
   "cell_type": "code",
   "execution_count": 6,
   "metadata": {},
   "outputs": [
    {
     "data": {
      "text/plain": [
       "{'Sweet pastry': {'Croissant': 0.4081610441207886,\n",
       "  'Donut': 0.4437391757965088,\n",
       "  'Scone': 0.4496232271194458,\n",
       "  'Sandwich': 0.48311829566955566},\n",
       " 'Suitable for lunch': {'Sandwich': 0.6699223518371582,\n",
       "  'Roll': 0.710200846195221,\n",
       "  'Bagel': 0.7621301412582397,\n",
       "  'Croissant': 0.7663571238517761},\n",
       " 'Goes well with jam': {'Scone': 0.6245813369750977,\n",
       "  'Bagel': 0.6838458776473999,\n",
       "  'Donut': 0.6856768131256104,\n",
       "  'Sandwich': 0.7056261301040649}}"
      ]
     },
     "execution_count": 6,
     "metadata": {},
     "output_type": "execute_result"
    }
   ],
   "source": [
    "queries = [\"Sweet pastry\", \"Suitable for lunch\", \"Goes well with jam\"]\n",
    "\n",
    "run = {}\n",
    "for q in queries:\n",
    "    run[q] = get_results(q)\n",
    "\n",
    "run"
   ]
  },
  {
   "cell_type": "code",
   "execution_count": 7,
   "metadata": {},
   "outputs": [
    {
     "name": "stdout",
     "output_type": "stream",
     "text": [
      "{\n",
      " \"Sweet pastry\": {\n",
      "  \"P_4\": 0.5,\n",
      "  \"recall_4\": 0.6666666666666666\n",
      " },\n",
      " \"Suitable for lunch\": {\n",
      "  \"P_4\": 0.75,\n",
      "  \"recall_4\": 0.75\n",
      " },\n",
      " \"Goes well with jam\": {\n",
      "  \"P_4\": 0.25,\n",
      "  \"recall_4\": 0.3333333333333333\n",
      " }\n",
      "}\n"
     ]
    }
   ],
   "source": [
    "# Evaluate\n",
    "evaluator = pytrec_eval.RelevanceEvaluator(\n",
    "    qrel, { 'recall.4', 'P.4'})\n",
    "\n",
    "print(json.dumps(evaluator.evaluate(run), indent=1))"
   ]
  }
 ],
 "metadata": {
  "kernelspec": {
   "display_name": "Python 3",
   "language": "python",
   "name": "python3"
  },
  "language_info": {
   "codemirror_mode": {
    "name": "ipython",
    "version": 3
   },
   "file_extension": ".py",
   "mimetype": "text/x-python",
   "name": "python",
   "nbconvert_exporter": "python",
   "pygments_lexer": "ipython3",
   "version": "3.11.6"
  }
 },
 "nbformat": 4,
 "nbformat_minor": 2
}
