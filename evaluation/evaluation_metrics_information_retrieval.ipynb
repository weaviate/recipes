{
 "cells": [
  {
   "cell_type": "markdown",
   "metadata": {},
   "source": [
    "# Evaluation metrics for Retrieval and Recommendation Systems"
   ]
  },
  {
   "cell_type": "code",
   "execution_count": 38,
   "metadata": {},
   "outputs": [
    {
     "name": "stdout",
     "output_type": "stream",
     "text": [
      "Requirement already satisfied: pytrec_eval in /opt/homebrew/lib/python3.11/site-packages (0.5)\n"
     ]
    }
   ],
   "source": [
    "!pip3 install pytrec_eval"
   ]
  },
  {
   "cell_type": "code",
   "execution_count": null,
   "metadata": {},
   "outputs": [],
   "source": [
    "import pytrec_eval\n",
    "import json"
   ]
  },
  {
   "cell_type": "markdown",
   "metadata": {},
   "source": [
    "# Precision and recall\n",
    "\n",
    "Precision and recall are rank-unaware metrics.\n",
    "\n",
    "$$\\text{Precision@K} = \\frac{TP}{TP+FP}= \\frac{TP}{K}\n",
    "=\\frac{\\text{Number of relevant items in K}}{\\text{Total number of items in K}}$$\n",
    "\n",
    "$$\\text{Recall@K} = \\frac{TP}{TP+FN}\n",
    "=\\frac{\\text{Number of relevant items in K}}{\\text{Total number of relevant items}}$$"
   ]
  },
  {
   "cell_type": "code",
   "execution_count": 39,
   "metadata": {},
   "outputs": [
    {
     "name": "stdout",
     "output_type": "stream",
     "text": [
      "{\n",
      " \"sweet pastry\": {\n",
      "  \"P_4\": 0.5,\n",
      "  \"recall_4\": 0.6666666666666666\n",
      " },\n",
      " \"suitable for lunch\": {\n",
      "  \"P_4\": 0.5,\n",
      "  \"recall_4\": 0.5\n",
      " },\n",
      " \"goes well with jam\": {\n",
      "  \"P_4\": 0.25,\n",
      "  \"recall_4\": 0.3333333333333333\n",
      " }\n",
      "}\n"
     ]
    }
   ],
   "source": [
    "qrel = {\n",
    "    'sweet pastry' : {\n",
    "        'donut' : 1,\n",
    "        'muffin' : 1,\n",
    "        'scone' : 1, \n",
    "    },\n",
    "    'suitable for lunch' : {\n",
    "        'sandwich' : 1,\n",
    "        'bagel' : 1,\n",
    "        'roll' : 1,\n",
    "        'pretzel' : 1\n",
    "    },\n",
    "    'goes well with jam' : {\n",
    "        'bagel' : 1,\n",
    "        'croissant' : 1,\n",
    "        'roll' : 1,\n",
    "    },\n",
    "}\n",
    "\n",
    "run = {\n",
    "    'sweet pastry' : {\n",
    "        'donut' : 0.95,\n",
    "        'bagel' : 0.9,\n",
    "        'muffin' : 0.8, \n",
    "        'croissant' : 0.7, \n",
    "    },\n",
    "    'suitable for lunch' : {\n",
    "        'muffin' : 0.95,\n",
    "        'donut' : 0.9,\n",
    "        'sandwich' : 0.85, \n",
    "        'bagel' : 0.82, \n",
    "    },\n",
    "    'goes well with jam' : {\n",
    "        'pretzel' : 0.9,\n",
    "        'bagel' : 0.85,\n",
    "        'muffin' : 0.7, \n",
    "        'donut' : 0.6, \n",
    "    },\n",
    "}\n",
    "\n",
    "evaluator = pytrec_eval.RelevanceEvaluator(\n",
    "    qrel, { 'recall.4', 'P.4' })\n",
    "\n",
    "print(json.dumps(evaluator.evaluate(run), indent=1))"
   ]
  },
  {
   "cell_type": "markdown",
   "metadata": {},
   "source": [
    "# Mean Average Precision (MAP) \n",
    "\n",
    "$$\\text{MAP@K} = \\frac{1}{U}\\sum_{u=1}^{U}AP@K_u$$\n"
   ]
  },
  {
   "cell_type": "code",
   "execution_count": 40,
   "metadata": {},
   "outputs": [
    {
     "name": "stdout",
     "output_type": "stream",
     "text": [
      "{\n",
      " \"sweet pastry\": {\n",
      "  \"map_cut_4\": 0.8333333333333333\n",
      " }\n",
      "}\n"
     ]
    }
   ],
   "source": [
    "qrel = {\n",
    "    'sweet pastry' : {\n",
    "        'donut' : 1,\n",
    "        'muffin' : 1,\n",
    "    },\n",
    "}\n",
    "\n",
    "run = {\n",
    "    'sweet pastry' : {\n",
    "        'donut' : 0.95,\n",
    "        'bagel' : 0.9,\n",
    "        'muffin' : 0.8, \n",
    "        'croissant' : 0.7, \n",
    "    },\n",
    "}\n",
    "\n",
    "evaluator = pytrec_eval.RelevanceEvaluator(\n",
    "    qrel, { 'map_cut.4', })\n",
    "\n",
    "print(json.dumps(evaluator.evaluate(run), indent=1))"
   ]
  },
  {
   "cell_type": "markdown",
   "metadata": {},
   "source": [
    "Note that `pytrec_eval` seems to average MAP across the number of relevant items. See, how the `MAP@K` value changes, when we add `'scone'` to the list of relevant items?"
   ]
  },
  {
   "cell_type": "code",
   "execution_count": 41,
   "metadata": {},
   "outputs": [
    {
     "name": "stdout",
     "output_type": "stream",
     "text": [
      "{\n",
      " \"sweet pastry\": {\n",
      "  \"map_cut_4\": 0.5555555555555555\n",
      " }\n",
      "}\n"
     ]
    }
   ],
   "source": [
    "qrel = {\n",
    "    'sweet pastry' : {\n",
    "        'donut' : 1,\n",
    "        'muffin' : 1,\n",
    "        'scone' :1,\n",
    "    },\n",
    "}\n",
    "\n",
    "run = {\n",
    "    'sweet pastry' : {\n",
    "        'donut' : 0.95,\n",
    "        'bagel' : 0.9,\n",
    "        'muffin' : 0.8, \n",
    "        'croissant' : 0.7, \n",
    "    },\n",
    "}\n",
    "\n",
    "evaluator = pytrec_eval.RelevanceEvaluator(\n",
    "    qrel, { 'map_cut.4', })\n",
    "\n",
    "print(json.dumps(evaluator.evaluate(run), indent=1))"
   ]
  },
  {
   "cell_type": "markdown",
   "metadata": {},
   "source": [
    "# Normalized Discounted Cumulative Gain (NDCG)\n",
    "\n",
    "$$\\text{NDCG@K} = \\frac{\\text{DCG@K}}{\\text{IDCG@K}}$$"
   ]
  },
  {
   "cell_type": "code",
   "execution_count": 43,
   "metadata": {},
   "outputs": [
    {
     "name": "stdout",
     "output_type": "stream",
     "text": [
      "{\n",
      " \"goes well with jam\": {\n",
      "  \"ndcg_cut_4\": 0.4672390440360399\n",
      " }\n",
      "}\n"
     ]
    }
   ],
   "source": [
    "qrel = {\n",
    "    'goes well with jam' : {\n",
    "        'bagel' : 2,\n",
    "        'croissant' : 2,\n",
    "        'roll' : 2,\n",
    "        'scone' : 1,\n",
    "        'muffin' : 1,\n",
    "        'donut' : 1,\n",
    "    },\n",
    "}\n",
    "\n",
    "run = {\n",
    "    'goes well with jam' : {\n",
    "        'pretzel' : 0.9,\n",
    "        'bagel' : 0.85,\n",
    "        'muffin' : 0.7, \n",
    "        'donut' : 0.6, \n",
    "    },\n",
    "}\n",
    "\n",
    "evaluator = pytrec_eval.RelevanceEvaluator(\n",
    "    qrel, { 'ndcg_cut.4', })\n",
    "\n",
    "print(json.dumps(evaluator.evaluate(run), indent=1))"
   ]
  }
 ],
 "metadata": {
  "kernelspec": {
   "display_name": "Python 3",
   "language": "python",
   "name": "python3"
  },
  "language_info": {
   "codemirror_mode": {
    "name": "ipython",
    "version": 3
   },
   "file_extension": ".py",
   "mimetype": "text/x-python",
   "name": "python",
   "nbconvert_exporter": "python",
   "pygments_lexer": "ipython3",
   "version": "3.11.6"
  }
 },
 "nbformat": 4,
 "nbformat_minor": 2
}
