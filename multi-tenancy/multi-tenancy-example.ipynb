{
 "cells": [
  {
   "attachments": {},
   "cell_type": "markdown",
   "metadata": {},
   "source": [
    "# 🗂️ Multi-Tenancy in Weaviate\n",
    "\n",
    "Welcome to this demo notebook! Here, we'll walk you through a small example showcasing the `Multi-Tenancy` function in Weaviate.\n",
    "Multi-tenancy is a key feature in Weaviate, allowing for the efficient and secure management of data across multiple users or tenants.\n",
    "\n",
    "## 📖 Further Reading:\n",
    "\n",
    "- Explore the concept in depth in the [multi-tenancy blog post](https://weaviate.io/blog/multi-tenancy-vector-search).\n",
    "- Dive into the technical details in our [Weaviate developer documentation](https://weaviate.io/developers/weaviate/manage-data/multi-tenancy#enable-multitenancy).\n",
    "\n",
    "## Getting started\n",
    "Before we dive in, there are a few preliminary steps:\n",
    "\n",
    "1. Set Up a Weaviate Cluster: \n",
    "This notebook requires a working Weaviate cluster. If you don't have one, fret not! You can set up a free sandbox Weaviate cluster by following our [comprehensive guide](https://weaviate.io/developers/academy/zero_to_mvp/hello_weaviate/set_up).\n",
    "\n",
    "2. Virtual Environment and Dependencies: \n",
    "To ensure smooth execution and prevent potential conflicts with your global Python environment, we recommend running the code in a virtual environment. Later in this notebook, we'll guide you through setting up this environment and installing the necessary dependencies.\n",
    "\n",
    "With these points in mind, let's get started!"
   ]
  },
  {
   "attachments": {},
   "cell_type": "markdown",
   "metadata": {},
   "source": [
    "## Dependencies\n",
    "\n",
    "Before proceeding with the notebook content, it's essential to set up an isolated Python environment. This helps avoid any potential package conflicts and ensures that you have a clean workspace.\n",
    "\n",
    "### Virtual Environment Setup:\n",
    "\n",
    "If you haven't created a virtual environment before, here's how you can do it:\n",
    "\n",
    "Using `virtualenv`:\n",
    "\n",
    "```bash\n",
    "pip install virtualenv\n",
    "python -m virtualenv venv\n",
    "```\n",
    "\n",
    "Using `venv` (built-in with Python 3.3+):\n",
    "\n",
    "```bash\n",
    "python -m venv venv\n",
    "```\n",
    "\n",
    "After creating the virtual environment, you need to activate it:\n",
    "\n",
    "Windows:\n",
    "\n",
    "```bash\n",
    ".\\venv\\Scripts\\activate\n",
    "```\n",
    "macOS and Linux:\n",
    "\n",
    "```bash\n",
    "source venv/bin/activate\n",
    "```\n",
    "### Installing Dependencies:\n",
    "\n",
    "With the virtual environment active, run the following code to install all the required dependencies for this notebook:"
   ]
  },
  {
   "cell_type": "code",
   "execution_count": 1,
   "metadata": {},
   "outputs": [],
   "source": [
    "# Uncomment & run the following line if you need to install the Weaviate client\n",
    "# %pip install weaviate-client"
   ]
  },
  {
   "attachments": {},
   "cell_type": "markdown",
   "metadata": {},
   "source": [
    "## Connecting to Your Weaviate Cluster\n",
    "\n",
    "To interact with our Weaviate cluster, we'll initialize a client object. Once set up, we'll retrieve the current schemas as a way to verify the connection. Since the cluster is newly created, we expect that no schemas will be present."
   ]
  },
  {
   "cell_type": "code",
   "execution_count": 2,
   "metadata": {},
   "outputs": [],
   "source": [
    "import weaviate\n",
    "\n",
    "client = weaviate.connect_to_local()\n",
    "\n",
    "# # If you are using a cloud (WCS) instance\n",
    "#\n",
    "# import weaviate\n",
    "# import os\n",
    "#\n",
    "# client = weaviate.connect_to_wcs(\n",
    "#     cluster_url=\"WEAVIATE-INSTANCE-URL\",  # URL of your Weaviate instance\n",
    "#     auth_credentials=weaviate.auth.AuthApiKey(\"AUTH-KEY\"),  # (Optional) If the Weaviate instance requires authentication\n",
    "#     headers={\n",
    "#         \"X-OpenAI-Api-Key\": os.getenv(\"OPENAI_APIKEY\"),\n",
    "#     }\n",
    "# )"
   ]
  },
  {
   "attachments": {},
   "cell_type": "markdown",
   "metadata": {},
   "source": [
    "## Setting Up Multi-Tenancy in a Weaviate Collection\n",
    "\n",
    "In Weaviate, multi-tenancy allows for multiple tenants to securely access and manage data within the same schema. Let's proceed to define a new collection that utilizes this feature:\n",
    "\n",
    "### Define a Multi-Tenancy Enabled Collection:\n",
    "We'll start by creating a collection named 'MultiTenancyCollection' with the multi-tenancy feature activated."
   ]
  },
  {
   "cell_type": "code",
   "execution_count": null,
   "metadata": {},
   "outputs": [],
   "source": [
    "from weaviate.classes.config import Configure\n",
    "\n",
    "# Delete the collection if it already exists (for the sake of the example)\n",
    "if(client.collections.exists(\"MyCollection\")):\n",
    "    client.collections.delete(\"MyCollection\")\n",
    "\n",
    "client.collections.create(\n",
    "    name=\"MyCollection\",\n",
    "    multi_tenancy_config=Configure.multi_tenancy(enabled=True)\n",
    ")"
   ]
  },
  {
   "attachments": {},
   "cell_type": "markdown",
   "metadata": {},
   "source": [
    "### Add Multiple Tenants to the Class:\n",
    "After establishing the collection, we'll associate it with two tenants: 'tenantA' and 'tenantB'"
   ]
  },
  {
   "cell_type": "code",
   "execution_count": 4,
   "metadata": {},
   "outputs": [],
   "source": [
    "from weaviate.classes.tenants import Tenant\n",
    "\n",
    "my_collection = client.collections.get(\"MyCollection\")  # Get the \"MultiTenancyCollection\" collection\n",
    "\n",
    "my_collection.tenants.create([\n",
    "    Tenant(name='tenantA'),\n",
    "    Tenant(name='tenantB')\n",
    "]) # add two tenants"
   ]
  },
  {
   "attachments": {},
   "cell_type": "markdown",
   "metadata": {},
   "source": [
    "## Fetching Tenants from a Weaviate Collection\n",
    "\n",
    "To view the tenants associated with a specific collection, we can retrieve a list of all the tenants linked to it. Let's do this for our previously created collection, 'MultiTenancyCollection':"
   ]
  },
  {
   "cell_type": "code",
   "execution_count": null,
   "metadata": {},
   "outputs": [],
   "source": [
    "tenants = my_collection.tenants.get()\n",
    "print(tenants)\n",
    "assert len(tenants) == 2"
   ]
  },
  {
   "attachments": {},
   "cell_type": "markdown",
   "metadata": {},
   "source": [
    "## Assigning Data Objects to Specific Tenants\n",
    "\n",
    "In Weaviate, data objects can be associated with specific tenants in a multi-tenancy enabled collection. Here, we will demonstrate how to create data objects and link them to their respective tenants:"
   ]
  },
  {
   "cell_type": "code",
   "execution_count": 6,
   "metadata": {},
   "outputs": [],
   "source": [
    "# Define objects to insert into each tenant\n",
    "data_objects = {\n",
    "    \"tenantA\": [\"This belongs to TenantA\"],\n",
    "    \"tenantB\": [\"This belongs to TenantB\", \"This also belongs to TenantB\"]\n",
    "}\n",
    "\n",
    "for tenant_name, tenant_obj in tenants.items():                 # Iterate through the tenants\n",
    "\n",
    "    tenant_collection = my_collection.with_tenant(tenant_name)     # Tenant-specific collection\n",
    "\n",
    "    for text_data in data_objects[tenant_name]:                       # Iterate through the objects for the tenant\n",
    "        tenant_collection.data.insert(                              # Insert a data object into the tenant-specific collection\n",
    "            properties={\"text\": text_data}\n",
    "        )"
   ]
  },
  {
   "attachments": {},
   "cell_type": "markdown",
   "metadata": {},
   "source": [
    "## Performing Tenant-Specific Queries\n",
    "\n",
    "By leveraging the multi-tenancy functionality, we can conduct queries that are specific to individual tenants. This enables us to fetch data solely associated with a designated tenant."
   ]
  },
  {
   "cell_type": "code",
   "execution_count": null,
   "metadata": {},
   "outputs": [],
   "source": [
    "for tenant_name, tenant_obj in tenants.items():                 # Iterate through the tenants\n",
    "\n",
    "    tenant_collection = my_collection.with_tenant(tenant_name)     # Tenant-specific collection\n",
    "\n",
    "    response = tenant_collection.query.fetch_objects()          # Fetch some objects from the tenant-specific collection\n",
    "    print(f\"Tenant {tenant_name} has {len(response.objects)} objects.\")\n",
    "    for obj in response.objects:\n",
    "        print(obj.properties)\n",
    "\n",
    "    assert len(response.objects) == len(data_objects[tenant_name])  # Check if the number of objects in the tenant-specific collection is equal to the number of objects inserted"
   ]
  },
  {
   "attachments": {},
   "cell_type": "markdown",
   "metadata": {},
   "source": [
    "## Removing Tenants from a Weaviate Collection\n",
    "\n",
    "In situations where specific tenants are no longer required, Weaviate allows us to remove them from a collection. This action will only affect the specified tenants, leaving other associated tenants unaffected."
   ]
  },
  {
   "cell_type": "code",
   "execution_count": 8,
   "metadata": {},
   "outputs": [],
   "source": [
    "collection.tenants.remove(['tenantB', 'tenantX'])  # The tenants to be removed. `tenantX`` will be ignored as it does not exist.\n",
    "\n",
    "assert len(collection.tenants.get()) == 1"
   ]
  }
 ],
 "metadata": {
  "kernelspec": {
   "display_name": "Python 3",
   "language": "python",
   "name": "python3"
  },
  "language_info": {
   "codemirror_mode": {
    "name": "ipython",
    "version": 3
   },
   "file_extension": ".py",
   "mimetype": "text/x-python",
   "name": "python",
   "nbconvert_exporter": "python",
   "pygments_lexer": "ipython3",
   "version": "3.10.12"
  },
  "orig_nbformat": 4
 },
 "nbformat": 4,
 "nbformat_minor": 2
}
