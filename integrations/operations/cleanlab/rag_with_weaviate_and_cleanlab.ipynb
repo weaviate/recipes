{
 "cells": [
  {
   "cell_type": "markdown",
   "metadata": {},
   "source": [
    "[![Open In Colab](https://colab.research.google.com/assets/colab-badge.svg)](https://colab.research.google.com/github/weaviate/recipes/blob/main/integrations/operations/cleanlab/rag_with_weaviate_and_cleanlab.ipynb)"
   ]
  },
  {
   "cell_type": "markdown",
   "metadata": {},
   "source": [
    "# Deploy Trustworthy RAG with Weaviate and Cleanlab\n",
    "\n",
    "Large Language Models (LLMs) occasionally hallucinate incorrect answers, especially for questions not well-supported within their training data. Retrieval Augmented Generation (RAG) mitigates this by supplying LLMs with context retrieved from knowledge databases like Weaviate. While organizations are rapidly adopting RAG to pair the power of LLMs with their own proprietary data, hallucinated/incorrect RAG responses remain a problem.\n",
    "\n",
    "This tutorial demonstrates an easy solution: build *trustworthy* RAG applications using Weaviate and Cleanlab to mitigate hallucinated/incorrect responses.\n",
    "\n",
    "Cleanlab boosts the reliability of any LLM application by scoring when LLM responses are untrusworthy. Trust scoring happens in real-time and does not require any data labeling or model training work. Cleanlab provides additional real-time Evals for other RAG components like the retrieved context, which help you diagnose *why* certain RAG responses and inaccurate/bad. Cleanlab's detection enables you to automatically flag/prevent inaccurate/bad responses from your RAG app, and avoid losing your users' trust.\n",
    "\n",
    "Weaviate streamlines RAG application development, providing a scalable vector database to store your organization's knowledge, as well vectorizers and integrations with generative model providers (like OpenAI & Anthropic). By providing all of the necessary components via a simple developer experience, Weaviate enables you to quickly deploy a performant RAG application. Adding Cleanlab on top provides an additional layer of trust."
   ]
  },
  {
   "cell_type": "markdown",
   "metadata": {},
   "source": [
    "## Setup\n",
    "\n",
    "For this tutorial, we will need:\n",
    "- Weaviate Cloud Cluster: A managed vector database (DB) instance provided by Weaviate. Follow the [quickstart](https://weaviate.io/developers/wcs/quickstart) to create one\n",
    "- Cleanlab API Key: Sign up at [tlm.cleanlab.ai/](https://tlm.cleanlab.ai/) to get a free key\n",
    "- OpenAI API Key: To make completion requests to an LLM\n",
    "\n",
    "Start by installing the required dependencies. We use the following versions for developing this notebook:\n",
    "\n",
    "```\n",
    "Weaviate Database Version == 1.30.1\n",
    "weaviate-client==4.11.1\n",
    "cleanlab_tlm==1.1.0\n",
    "```"
   ]
  },
  {
   "cell_type": "code",
   "execution_count": null,
   "metadata": {},
   "outputs": [],
   "source": [
    "%pip install weaviate-client cleanlab_tlm"
   ]
  },
  {
   "cell_type": "code",
   "execution_count": 1,
   "metadata": {},
   "outputs": [],
   "source": [
    "import os, re\n",
    "from typing import List\n",
    "import pandas as pd\n",
    "\n",
    "import weaviate\n",
    "import weaviate.classes as wvc\n",
    "import weaviate.classes.config as wc\n",
    "\n",
    "from cleanlab_tlm import TrustworthyRAG, Eval, get_default_evals\n",
    "from openai import OpenAI"
   ]
  },
  {
   "cell_type": "markdown",
   "metadata": {},
   "source": [
    "Set the retrieved keys as environment variables"
   ]
  },
  {
   "cell_type": "code",
   "execution_count": null,
   "metadata": {},
   "outputs": [],
   "source": [
    "os.environ['WCD_DEMO_URL'] = '<your-weaviate-instance-url>'\n",
    "os.environ['WCD_DEMO_RO_KEY'] = '<your-weaviate-instance-key>'\n",
    "os.environ['OPENAI_API_KEY'] = '<your-openai-key>'\n",
    "os.environ['CLEANLAB_API_KEY'] = '<your-cleanlab-key>'"
   ]
  },
  {
   "cell_type": "code",
   "execution_count": 3,
   "metadata": {},
   "outputs": [
    {
     "name": "stdout",
     "output_type": "stream",
     "text": [
      "True\n"
     ]
    }
   ],
   "source": [
    "# Setup connection with Weaviate's cloud instance\n",
    "\n",
    "wcd_url = os.environ[\"WCD_DEMO_URL\"]    # Create a cluster in WCD and get the URL\n",
    "wcd_api_key = os.environ[\"WCD_DEMO_RO_KEY\"] # Get it for free from the cluster's setting\n",
    "openai_api_key = os.environ[\"OPENAI_API_KEY\"]   # Get it from OpenAI's app portal\n",
    "\n",
    "headers = {\n",
    "    \"X-OpenAI-Api-Key\": openai_api_key,\n",
    "}\n",
    "\n",
    "client = weaviate.connect_to_weaviate_cloud(\n",
    "    cluster_url=wcd_url,                                    \n",
    "    auth_credentials=wvc.init.Auth.api_key(wcd_api_key),    \n",
    "    headers=headers\n",
    ")\n",
    "\n",
    "print(client.is_ready())"
   ]
  },
  {
   "cell_type": "markdown",
   "metadata": {},
   "source": [
    "Now, we initialize Cleanlab's object with default settings. You can achieve better results or lower latency by adjusting the [configurations](https://help.cleanlab.ai/tlm/faq/#recommended-tlm-configurations-to-try)."
   ]
  },
  {
   "cell_type": "code",
   "execution_count": null,
   "metadata": {},
   "outputs": [],
   "source": [
    "openai = OpenAI(api_key=os.environ['OPENAI_API_KEY'])\n",
    "\n",
    "cleanlab_api_key = os.environ[\"CLEANLAB_API_KEY\"]   # Sign up at Cleanlab's developer portal to get a free key\n",
    "trustworthy_rag = TrustworthyRAG(api_key=cleanlab_api_key)  # Optional configurations can improve accuracy/latency"
   ]
  },
  {
   "cell_type": "markdown",
   "metadata": {},
   "source": [
    "## Create collection in vector database\n",
    "\n",
    "A collection in Weaviate is synonymous with an index in a database. Here, we will instantiate the collection by specifying two key configurations:\n",
    "1. **Vectorizer / Embedding Model** - Weaviate offers in-house managed embedding service and third-party integrations (like `text-embedding` from OpenAI). We use [Weaviate Embedding](https://weaviate.io/blog/introducing-weaviate-embeddings) service here.\n",
    "2. **Generator Model** - We use Weaviate's integration with OpenAI's API to seamlessly generate an answer based on the user query and retrieved context."
   ]
  },
  {
   "cell_type": "code",
   "execution_count": 5,
   "metadata": {},
   "outputs": [],
   "source": [
    "collection_name = 'customer_support'\n",
    "embedding_model = 'Snowflake/snowflake-arctic-embed-m-v1.5'\n",
    "embedding_dimension = 1024\n",
    "\n",
    "if client.collections.exists(collection_name):  # In case we've created this collection before\n",
    "    client.collections.delete(collection_name)\n",
    "\n",
    "customer_support = client.collections.create(\n",
    "    collection_name,\n",
    "\n",
    "    vectorizer_config=wc.Configure.Vectorizer.text2vec_weaviate(\n",
    "        model=embedding_model,\n",
    "    )\n",
    ")"
   ]
  },
  {
   "cell_type": "markdown",
   "metadata": {},
   "source": [
    "## Read data\n",
    "\n",
    "RAG is all about connecting LLMs to data, to better inform their answers. This tutorial uses Nvidia’s Q1 FY2024 earnings report as an example data source for populating the RAG application's knowledge base."
   ]
  },
  {
   "cell_type": "code",
   "execution_count": null,
   "metadata": {},
   "outputs": [],
   "source": [
    "!wget -nc 'https://cleanlab-public.s3.amazonaws.com/Datasets/NVIDIA_Financial_Results_Q1_FY2024.md'"
   ]
  },
  {
   "cell_type": "code",
   "execution_count": null,
   "metadata": {},
   "outputs": [
    {
     "name": "stdout",
     "output_type": "stream",
     "text": [
      "# NVIDIA Announces Financial Results for First Quarter Fiscal 2024\n",
      "\n",
      "NVIDIA (NASDAQ: NVDA) today reported revenue for the first quarter ended April 30, 2023, of $7.19 billion, down 13% from a year ago \n"
     ]
    }
   ],
   "source": [
    "with open(\"NVIDIA_Financial_Results_Q1_FY2024.md\", \"r\", encoding=\"utf-8\") as file:\n",
    "    data = file.read()\n",
    "\n",
    "print(data[:200])"
   ]
  },
  {
   "cell_type": "markdown",
   "metadata": {},
   "source": [
    "## Chunk documents\n",
    "\n",
    "To control the size of each context embedded in our vector index and provided to the LLM, we split documents into smaller chunks.\n",
    "When a user submits a query to the RAG system, the relevant chunks are retrieved from the vector database and used as context for the LLM to generate a response.\n",
    "Embedding just a few words provides too little information in each context, while embedding entire documents makes it harder to retrieve specific snippets of useful information for accurate responses. <br> \n",
    "It's important to find the right chunk size for your use-case, depending on the types of documents and questions that are handled.\n",
    "Here we use a simple chunking strategy, splitting the text based on a fixed `chunk_size`. Additionally, chunks overlap based on a specified `overlap_size`."
   ]
  },
  {
   "cell_type": "code",
   "execution_count": 7,
   "metadata": {},
   "outputs": [],
   "source": [
    "def chunk(text: str, chunk_size: int, overlap_size: int) -> List[str]:\n",
    "    source_text = re.sub(r\"\\s+\", \" \", text)  # Remove multiple whitespaces\n",
    "    text_words = re.split(r\"\\s\", source_text)  # Split text by single whitespace\n",
    "\n",
    "    chunks = []\n",
    "    for i in range(0, len(text_words), chunk_size):  # Iterate through & chunk data\n",
    "        chunk = \" \".join(text_words[max(i - overlap_size, 0): i + chunk_size])  # Join a set of words into a string\n",
    "        chunks.append(chunk)\n",
    "    return chunks"
   ]
  },
  {
   "cell_type": "code",
   "execution_count": null,
   "metadata": {},
   "outputs": [],
   "source": [
    "chunk_size = 150\n",
    "overlap_size = 25\n",
    "\n",
    "chunked_text = chunk(data, chunk_size, overlap_size)\n",
    "chunked_text"
   ]
  },
  {
   "cell_type": "markdown",
   "metadata": {},
   "source": [
    "The document is divided into 8 chunks. Now, let's upload them to our vector index."
   ]
  },
  {
   "cell_type": "markdown",
   "metadata": {},
   "source": [
    "## Upsert chunks & vectors to Weaviate"
   ]
  },
  {
   "cell_type": "code",
   "execution_count": null,
   "metadata": {},
   "outputs": [],
   "source": [
    "chunks_list = list()\n",
    "\n",
    "for i, chunk in enumerate(chunked_text):\n",
    "    data_properties = {\n",
    "        \"chunk\": chunk,\n",
    "        \"chunk_index\": i\n",
    "    }\n",
    "    \n",
    "    chunk_data_object = wvc.data.DataObject(properties=data_properties)\n",
    "    chunks_list.append(chunk_data_object)\n",
    "\n",
    "customer_support.data.insert_many(chunks_list)"
   ]
  },
  {
   "cell_type": "markdown",
   "metadata": {},
   "source": [
    "Run a quick test to verify that all 8 chunks have been upserted and vectorized."
   ]
  },
  {
   "cell_type": "code",
   "execution_count": null,
   "metadata": {},
   "outputs": [],
   "source": [
    "response = customer_support.aggregate.over_all(total_count=True)\n",
    "print(response.total_count)\n",
    "\n",
    "for item in customer_support.iterator(include_vector=True):\n",
    "    print(item.properties)\n",
    "    break"
   ]
  },
  {
   "cell_type": "markdown",
   "metadata": {},
   "source": [
    "## Ask questions to our RAG application\n",
    "\n",
    "Now that the Weaviate database is loaded with text chunks and their corresponding embeddings, we can start querying it to answer questions.\n",
    "\n",
    "### Easy\n",
    "\n",
    "We first pose a straightforward question that can be directly answered by the provided data and easily located within a few lines of text."
   ]
  },
  {
   "cell_type": "code",
   "execution_count": 11,
   "metadata": {},
   "outputs": [],
   "source": [
    "query = \"What was NVIDIA's total revenue in the first quarter of fiscal 2024?\""
   ]
  },
  {
   "cell_type": "code",
   "execution_count": 23,
   "metadata": {},
   "outputs": [
    {
     "name": "stdout",
     "output_type": "stream",
     "text": [
      "# NVIDIA Announces Financial Results for First Quarter Fiscal 2024 NVIDIA (NASDAQ: NVDA) today reported revenue for the first quarter ended April 30, 2023, of $7.19 billion, down 13% from a year ago and up 19% from the previous quarter. - **Quarterly revenue** of $7.19 billion, up 19% from the previous quarter - **Record Data Center revenue** of $4.28 billion - **Second quarter fiscal 2024 revenue outlook** of $11.00 billion GAAP earnings per diluted share for the quarter were $0.82, up 28% from a year ago and up 44% from the previous quarter. Non-GAAP earnings per diluted share were $1.09, down 20% from a year ago and up 24% from the previous quarter. Jensen Huang, founder and CEO of NVIDIA, commented on the significant transitions the computer industry is undergoing, particularly accelerated computing and generative AI, emphasizing NVIDIA's role and advancements in these areas. During the first quarter of fiscal\n",
      "Earnings Per Share | $1.09 | $0.88 | $1.36 | Up 24% | Down 20% | ## Outlook NVIDIA’s outlook for the second quarter of fiscal 2024 includes: - **Revenue**: Expected to be $11.00 billion, plus or minus 2%. - **Gross Margins**: GAAP and non-GAAP gross margins are expected to be 68.6% and 70.0%, respectively, plus or minus 50 basis points. - **Operating Expenses**: GAAP and non-GAAP operating expenses are expected to be approximately $2.71 billion and $1.90 billion, respectively. - **Tax Rates**: GAAP and non-GAAP tax rates are expected to be 14.0%, plus or minus 1%, excluding any discrete items. ## Highlights NVIDIA has made significant progress in various areas since its last earnings announcement: ### Data Center - **First-quarter revenue** was a record $4.28 billion, up 14% from a year ago and up 18% from the previous quarter. - Launched **four inference platforms** that combine the company’s full-stack inference software with the latest NVIDIA Ada, NVIDIA Hopper™, and NVIDIA Grace Hopper™ processors. - Announced that **Google Cloud** is the first cloud provider offering\n"
     ]
    }
   ],
   "source": [
    "# Fetch the chunks (limit to 2) which are similar to user's query in the vector space\n",
    "response = customer_support.query.near_text(\n",
    "    query=query,\n",
    "    limit=2\n",
    ")\n",
    "\n",
    "chunks = [obj.properties['chunk'] for obj in response.objects]\n",
    "print('\\n'.join(chunks))"
   ]
  },
  {
   "cell_type": "markdown",
   "metadata": {},
   "source": [
    "Let's format these chunks into a prompt for the LLM, and call the OpenAI API to get the response."
   ]
  },
  {
   "cell_type": "code",
   "execution_count": 33,
   "metadata": {},
   "outputs": [
    {
     "name": "stdout",
     "output_type": "stream",
     "text": [
      "NVIDIA's total revenue in the first quarter of fiscal 2024 was $7.19 billion.\n"
     ]
    }
   ],
   "source": [
    "def create_context(chunks):\n",
    "    \"\"\"Create context by concatenating chunks.\"\"\"\n",
    "    context = \"Context:\\n\"\n",
    "    for chunk in chunks:\n",
    "        context += f\"{chunk}\\n\"\n",
    "    return context\n",
    "\n",
    "system_prompt = \"You are a helpful AI assistant that answers query strictly based on the provided context.\\n\"\n",
    "context = create_context(chunks)\n",
    "user_prompt = f\"{context}\\nQuery:\\n{query}\"\n",
    "\n",
    "openai_model = 'gpt-4o-mini'\n",
    "response = openai.chat.completions.create(\n",
    "    model=openai_model,\n",
    "    messages=[\n",
    "        {\"role\": \"system\", \"content\": system_prompt},\n",
    "        {\"role\": \"user\", \"content\": user_prompt},\n",
    "    ],\n",
    ")\n",
    "answer = response.choices[0].message.content\n",
    "print(answer)"
   ]
  },
  {
   "cell_type": "markdown",
   "metadata": {},
   "source": [
    "We can easily verify the above response is correct as its evident in the retrieved chunks.\n",
    "\n",
    "Let's automatically evaluate the response. TrustworthyRAG runs Cleanlab's state-of-the-art LLM uncertainty estimator, the [Trustworthy Language Model](https://cleanlab.ai/tlm/), to provide a **trustworthiness score** indicating overall confidence that your RAG's response is *correct*. \n",
    "\n",
    "TrustworthyRAG can simultaneously run additional evaluations to diagnose *why* responses are likely incorrect or other types of issues. <br/>Let's see what Evals are run by default:"
   ]
  },
  {
   "cell_type": "code",
   "execution_count": 47,
   "metadata": {},
   "outputs": [
    {
     "name": "stdout",
     "output_type": "stream",
     "text": [
      "context_sufficiency\n",
      "response_groundedness\n",
      "response_helpfulness\n",
      "query_ease\n"
     ]
    }
   ],
   "source": [
    "default_evals = get_default_evals()\n",
    "for eval in default_evals:\n",
    "    print(f\"{eval.name}\")"
   ]
  },
  {
   "cell_type": "markdown",
   "metadata": {},
   "source": [
    "Each Eval returns a score between 0-1 (higher is better) that assesses a different aspect of your RAG system:\n",
    "\n",
    "1. **context_sufficiency**: Evaluates whether the retrieved context contains sufficient information to completely answer the query. A low score indicates that key information is missing from the context (perhaps due to poor retrieval or missing documents).\n",
    "\n",
    "2. **response_groundedness**: Evaluates whether claims/information stated in the response are explicitly supported by the provided context.\n",
    "\n",
    "3. **response_helpfulness**: Evaluates whether the response effectively addresses the user query and appears helpful.\n",
    "\n",
    "4. **query_ease**: Evaluates whether the user query seems easy for an AI system to properly handle. Complex, vague, tricky, or disgruntled-sounding queries receive lower scores.\n",
    "\n",
    "To run TrustworthyRAG, we need the prompts sent to the LLM, which includes the system message, retrieved chunks, the user's query, and the LLM's response."
   ]
  },
  {
   "cell_type": "code",
   "execution_count": 34,
   "metadata": {},
   "outputs": [
    {
     "name": "stdout",
     "output_type": "stream",
     "text": [
      "Evaluation results:\n",
      "trustworthiness: 1.0\n",
      "context_sufficiency: 0.9975123397108121\n",
      "response_groundedness: 0.9975124375711611\n",
      "response_helpfulness: 0.9975124251881636\n",
      "query_ease: 0.9974677786997358\n"
     ]
    }
   ],
   "source": [
    "eval_result = trustworthy_rag.score(\n",
    "    query=query,\n",
    "    context=context,\n",
    "    response=answer,\n",
    "    prompt=system_prompt + user_prompt\n",
    ")\n",
    "\n",
    "print(\"Evaluation results:\")\n",
    "for metric, value in eval_result.items():\n",
    "    print(f\"{metric}: {value['score']}\")"
   ]
  },
  {
   "cell_type": "markdown",
   "metadata": {},
   "source": [
    "**Analysis:** The `trustworthiness_score` of 1.0 indicates that this response is reliable and correct i.e. non-hallucinated. Even the context is sufficient to respond to this easy query, which is captured by the high `context_sufficiency` and `query_ease` scores.\n",
    "\n",
    "Let's define a function that runs the above workflow."
   ]
  },
  {
   "cell_type": "code",
   "execution_count": 83,
   "metadata": {},
   "outputs": [],
   "source": [
    "def get_answer(query, evaluator = trustworthy_rag):\n",
    "\n",
    "    # Fetch the relevant chunks from the vector database\n",
    "    print(f\"Query:\\n{query}\\n\")\n",
    "    response = customer_support.query.near_text(\n",
    "        query=query,\n",
    "        limit=2,\n",
    "    )\n",
    "\n",
    "    # Create context from the chunks\n",
    "    chunks = [obj.properties['chunk'] for obj in response.objects]\n",
    "    context = create_context(chunks)\n",
    "    print(context)\n",
    "\n",
    "    # Generate the answer using LLM\n",
    "    system_prompt = \"You are a helpful AI assistant that answers query based on the context.\\n\"\n",
    "    user_prompt = f\"{context}\\nQuery:\\n{query}\"\n",
    "\n",
    "    openai_model = 'gpt-4o-mini'\n",
    "    response = openai.chat.completions.create(\n",
    "        model=openai_model,\n",
    "        messages=[\n",
    "            {\"role\": \"system\", \"content\": system_prompt},\n",
    "            {\"role\": \"user\", \"content\": user_prompt},\n",
    "        ],\n",
    "    )\n",
    "    answer = response.choices[0].message.content\n",
    "    print(f\"Generated response:\\n{answer}\\n\")\n",
    "\n",
    "    # Evaluate the response using TrustworthyRAG\n",
    "    eval_result = evaluator.score(\n",
    "        query=query,\n",
    "        context=context,\n",
    "        response=answer,\n",
    "        prompt=system_prompt + user_prompt\n",
    "    )\n",
    "\n",
    "    print(\"Evaluation results:\")\n",
    "    for metric, value in eval_result.items():\n",
    "        print(f\"{metric}: {value['score']}\")"
   ]
  },
  {
   "cell_type": "markdown",
   "metadata": {},
   "source": [
    "Now let’s run a **out-of-data** query that **cannot** be answered using the provided document."
   ]
  },
  {
   "cell_type": "code",
   "execution_count": 75,
   "metadata": {},
   "outputs": [
    {
     "name": "stdout",
     "output_type": "stream",
     "text": [
      "Query:\n",
      "How does the report explain why NVIDIA's Gaming revenue decreased year over year?\n",
      "\n",
      "Context:\n",
      "# NVIDIA Announces Financial Results for First Quarter Fiscal 2024 NVIDIA (NASDAQ: NVDA) today reported revenue for the first quarter ended April 30, 2023, of $7.19 billion, down 13% from a year ago and up 19% from the previous quarter. - **Quarterly revenue** of $7.19 billion, up 19% from the previous quarter - **Record Data Center revenue** of $4.28 billion - **Second quarter fiscal 2024 revenue outlook** of $11.00 billion GAAP earnings per diluted share for the quarter were $0.82, up 28% from a year ago and up 44% from the previous quarter. Non-GAAP earnings per diluted share were $1.09, down 20% from a year ago and up 24% from the previous quarter. Jensen Huang, founder and CEO of NVIDIA, commented on the significant transitions the computer industry is undergoing, particularly accelerated computing and generative AI, emphasizing NVIDIA's role and advancements in these areas. During the first quarter of fiscal\n",
      "Up 70% | Up 15% | | Net Income | $2,043 | $1,414 | $1,618 | Up 44% | Up 26% | | Diluted Earnings Per Share | $0.82 | $0.57 | $0.64 | Up 44% | Up 28% | ### Non-GAAP | ($ in millions, except earnings per share) | Q1 FY24 | Q4 FY23 | Q1 FY23 | Q/Q Change | Y/Y Change | |---------------------------------------------|---------|---------|---------|------------|------------| | Revenue | $7,192 | $6,051 | $8,288 | Up 19% | Down 13% | | Gross Margin | 66.8% | 66.1% | 67.1% | Up 0.7 pts | Down 0.3 pts | | Operating Expenses | $1,750 | $1,775 | $1,608 | Down 1% | Up 9% | | Operating Income | $3,052 | $2,224 | $3,955 | Up 37% | Down 23% | | Net Income | $2,713 | $2,174 | $3,443 | Up 25% | Down 21% | | Diluted Earnings Per Share | $1.09 | $0.88 | $1.36 | Up 24% | Down 20% | ## Outlook NVIDIA’s outlook for the second quarter of\n",
      "\n",
      "Generated response:\n",
      "The provided context does not specify the reasons for the decrease in NVIDIA's Gaming revenue year over year. It mainly focuses on the overall financial results for the first quarter of fiscal 2024, highlighting various metrics such as quarterly revenue, net income, and earnings per share, but does not delve into the specifics of the Gaming division or the factors contributing to its decline. For information on the reasons behind the decrease in Gaming revenue, additional details or a separate report from NVIDIA would be necessary.\n",
      "\n",
      "Evaluation results:\n",
      "trustworthiness: 0.9347711807707823\n",
      "context_sufficiency: 0.28861326055082803\n",
      "response_groundedness: 0.9882697144951728\n",
      "response_helpfulness: 0.24692539926446214\n",
      "query_ease: 0.754295489462312\n"
     ]
    }
   ],
   "source": [
    "get_answer(\"How does the report explain why NVIDIA's Gaming revenue decreased year over year?\")"
   ]
  },
  {
   "cell_type": "markdown",
   "metadata": {},
   "source": [
    "**Analysis:** The generator LLM avoids conjecture by providing a reliable response, as seen in the high `trustworthiness_score`. The low `context_sufficiency` score reflects that the retrieved context was lacking, and the response doesn’t actually answer the user’s query, as indicated by the low `response_helpfulness`."
   ]
  },
  {
   "cell_type": "markdown",
   "metadata": {},
   "source": [
    "Let’s see how our RAG system responds to **challenging** questions, which may be misleading."
   ]
  },
  {
   "cell_type": "code",
   "execution_count": 79,
   "metadata": {},
   "outputs": [
    {
     "name": "stdout",
     "output_type": "stream",
     "text": [
      "Query:\n",
      "How much did Nvidia's revenue decrease this quarter vs last quarter, in dollars?\n",
      "\n",
      "Context:\n",
      "# NVIDIA Announces Financial Results for First Quarter Fiscal 2024 NVIDIA (NASDAQ: NVDA) today reported revenue for the first quarter ended April 30, 2023, of $7.19 billion, down 13% from a year ago and up 19% from the previous quarter. - **Quarterly revenue** of $7.19 billion, up 19% from the previous quarter - **Record Data Center revenue** of $4.28 billion - **Second quarter fiscal 2024 revenue outlook** of $11.00 billion GAAP earnings per diluted share for the quarter were $0.82, up 28% from a year ago and up 44% from the previous quarter. Non-GAAP earnings per diluted share were $1.09, down 20% from a year ago and up 24% from the previous quarter. Jensen Huang, founder and CEO of NVIDIA, commented on the significant transitions the computer industry is undergoing, particularly accelerated computing and generative AI, emphasizing NVIDIA's role and advancements in these areas. During the first quarter of fiscal\n",
      "Earnings Per Share | $1.09 | $0.88 | $1.36 | Up 24% | Down 20% | ## Outlook NVIDIA’s outlook for the second quarter of fiscal 2024 includes: - **Revenue**: Expected to be $11.00 billion, plus or minus 2%. - **Gross Margins**: GAAP and non-GAAP gross margins are expected to be 68.6% and 70.0%, respectively, plus or minus 50 basis points. - **Operating Expenses**: GAAP and non-GAAP operating expenses are expected to be approximately $2.71 billion and $1.90 billion, respectively. - **Tax Rates**: GAAP and non-GAAP tax rates are expected to be 14.0%, plus or minus 1%, excluding any discrete items. ## Highlights NVIDIA has made significant progress in various areas since its last earnings announcement: ### Data Center - **First-quarter revenue** was a record $4.28 billion, up 14% from a year ago and up 18% from the previous quarter. - Launched **four inference platforms** that combine the company’s full-stack inference software with the latest NVIDIA Ada, NVIDIA Hopper™, and NVIDIA Grace Hopper™ processors. - Announced that **Google Cloud** is the first cloud provider offering\n",
      "\n",
      "Generated response:\n",
      "NVIDIA's revenue for the first quarter ended April 30, 2023, was $7.19 billion. The report indicates that this was an increase of 19% from the previous quarter. To find the revenue for the previous quarter (fourth quarter of fiscal 2023), we can use the following calculation:\n",
      "\n",
      "Let \\( x \\) be the revenue from the previous quarter. The equation based on the increase is:\n",
      "\n",
      "\\( x + (0.19x) = 7.19 \\)\n",
      "\n",
      "This simplifies to:\n",
      "\n",
      "\\( 1.19x = 7.19 \\)\n",
      "\n",
      "Now, solve for \\( x \\):\n",
      "\n",
      "\\( x = \\frac{7.19}{1.19} \\approx 6.04 \\) billion.\n",
      "\n",
      "Now to find the dollar amount of the decrease from the previous quarter to this quarter:\n",
      "\n",
      "The revenue decreased by:\n",
      "\n",
      "\\( 7.19 - 6.04 = 1.15 \\) billion dollars.\n",
      "\n",
      "So, NVIDIA's revenue decreased by approximately **$1.15 billion** this quarter compared to the last quarter.\n",
      "\n",
      "Evaluation results:\n",
      "trustworthiness: 0.07622373797481402\n",
      "context_sufficiency: 0.9868578610267666\n",
      "response_groundedness: 0.0413584486687836\n",
      "response_helpfulness: 0.9712986992618623\n",
      "query_ease: 0.3784677848937411\n"
     ]
    }
   ],
   "source": [
    "get_answer(\"How much did Nvidia's revenue decrease this quarter vs last quarter, in dollars?\")"
   ]
  },
  {
   "cell_type": "markdown",
   "metadata": {},
   "source": [
    "**Analysis**: The generated response incorrectly states that NVIDIA's revenue decreased this quarter, when in fact the referenced report notes a 19% increase quarter-over-quarter. \n",
    "\n",
    "This mismatch between the query and the context leads to a very low `response_groundedness` score of 0.04 and a `trustworthiness_score` of just 0.08, indicating that the answer not only fabricates financial trends but also misleads with confident but false arithmetic. \n",
    "\n",
    "Let's try another one:"
   ]
  },
  {
   "cell_type": "code",
   "execution_count": 87,
   "metadata": {},
   "outputs": [
    {
     "name": "stdout",
     "output_type": "stream",
     "text": [
      "Query:\n",
      "If NVIDIA's Data Center segment maintains its Q1 FY2024 quarter-over-quarter growth rate for the next four quarters, what would be its projected annual revenue?\n",
      "\n",
      "Context:\n",
      "Earnings Per Share | $1.09 | $0.88 | $1.36 | Up 24% | Down 20% | ## Outlook NVIDIA’s outlook for the second quarter of fiscal 2024 includes: - **Revenue**: Expected to be $11.00 billion, plus or minus 2%. - **Gross Margins**: GAAP and non-GAAP gross margins are expected to be 68.6% and 70.0%, respectively, plus or minus 50 basis points. - **Operating Expenses**: GAAP and non-GAAP operating expenses are expected to be approximately $2.71 billion and $1.90 billion, respectively. - **Tax Rates**: GAAP and non-GAAP tax rates are expected to be 14.0%, plus or minus 1%, excluding any discrete items. ## Highlights NVIDIA has made significant progress in various areas since its last earnings announcement: ### Data Center - **First-quarter revenue** was a record $4.28 billion, up 14% from a year ago and up 18% from the previous quarter. - Launched **four inference platforms** that combine the company’s full-stack inference software with the latest NVIDIA Ada, NVIDIA Hopper™, and NVIDIA Grace Hopper™ processors. - Announced that **Google Cloud** is the first cloud provider offering\n",
      "# NVIDIA Announces Financial Results for First Quarter Fiscal 2024 NVIDIA (NASDAQ: NVDA) today reported revenue for the first quarter ended April 30, 2023, of $7.19 billion, down 13% from a year ago and up 19% from the previous quarter. - **Quarterly revenue** of $7.19 billion, up 19% from the previous quarter - **Record Data Center revenue** of $4.28 billion - **Second quarter fiscal 2024 revenue outlook** of $11.00 billion GAAP earnings per diluted share for the quarter were $0.82, up 28% from a year ago and up 44% from the previous quarter. Non-GAAP earnings per diluted share were $1.09, down 20% from a year ago and up 24% from the previous quarter. Jensen Huang, founder and CEO of NVIDIA, commented on the significant transitions the computer industry is undergoing, particularly accelerated computing and generative AI, emphasizing NVIDIA's role and advancements in these areas. During the first quarter of fiscal\n",
      "\n",
      "Generated response:\n",
      "NVIDIA's Data Center segment generated revenue of $4.28 billion in Q1 FY2024, which was up 18% from the previous quarter. To project its annual revenue while maintaining this growth rate for the next four quarters, we can first calculate the revenue for the upcoming quarters.\n",
      "\n",
      "1. Calculate the Q2 revenue:\n",
      "   - Q1 revenue = $4.28 billion\n",
      "   - Q2 revenue = Q1 revenue × (1 + growth rate)\n",
      "   - Q2 revenue = $4.28 billion × (1 + 0.18) = $4.28 billion × 1.18 = $5.06 billion\n",
      "\n",
      "2. Calculate the Q3 revenue:\n",
      "   - Q3 revenue = Q2 revenue × (1 + growth rate)\n",
      "   - Q3 revenue = $5.06 billion × 1.18 = $5.96 billion\n",
      "\n",
      "3. Calculate the Q4 revenue:\n",
      "   - Q4 revenue = Q3 revenue × (1 + growth rate)\n",
      "   - Q4 revenue = $5.96 billion × 1.18 = $7.03 billion\n",
      "\n",
      "4. Calculate the Q5 revenue (which would be the revenue for the first quarter of FY2025):\n",
      "   - Q5 revenue = Q4 revenue × (1 + growth rate)\n",
      "   - Q5 revenue = $7.03 billion × 1.18 = $8.28 billion\n",
      "\n",
      "Now, to find the projected annual revenue, we sum the revenues for four quarters:\n",
      "- Annual projected revenue = Q1 + Q2 + Q3 + Q4 + Q5\n",
      "- Annual projected revenue = $4.28 billion + $5.06 billion + $5.96 billion + $7.03 billion + $8.28 billion = $30.61 billion\n",
      "\n",
      "Thus, if NVIDIA's Data Center segment maintains its Q1 FY2024 quarter-over-quarter growth rate for the next four quarters, its projected annual revenue would be approximately **$30.61 billion**.\n",
      "\n",
      "Evaluation results:\n",
      "trustworthiness: 0.268388115138118\n",
      "context_sufficiency: 0.35389089942877244\n",
      "response_groundedness: 0.4707081971638484\n",
      "response_helpfulness: 0.9975071025542379\n",
      "query_ease: 0.7518852806087112\n"
     ]
    }
   ],
   "source": [
    "get_answer(\"If NVIDIA's Data Center segment maintains its Q1 FY2024 quarter-over-quarter growth rate for the next four quarters, what would be its projected annual revenue?\")"
   ]
  },
  {
   "cell_type": "markdown",
   "metadata": {},
   "source": [
    "**Analysis**: The generated response overstates (sums up the financials of Q1) the projected revenue and leads to a low `trustworthiness_score` of 0.27."
   ]
  },
  {
   "cell_type": "markdown",
   "metadata": {},
   "source": [
    "### Custom Evals\n",
    "\n",
    "You can also specify custom evaluations to assess specific criteria, and combine them with the default evaluations for comprehensive/tailored assessment of your RAG system.\n",
    "\n",
    "For instance, here's how to create and run a custom eval that checks the conciseness of the generated response."
   ]
  },
  {
   "cell_type": "code",
   "execution_count": 89,
   "metadata": {},
   "outputs": [],
   "source": [
    "conciseness_eval = Eval(\n",
    "    name=\"response_conciseness\",\n",
    "    criteria=\"Evaluate whether the Generated response is concise and to the point without unnecessary verbosity or repetition. A good response should be brief but comprehensive, covering all necessary information without extra words or redundant explanations.\",\n",
    "    response_identifier=\"Generated Response\"\n",
    ")\n",
    "\n",
    "# Combine default evals with a custom eval\n",
    "combined_evals = get_default_evals() + [conciseness_eval]\n",
    "\n",
    "# Initialize TrustworthyRAG with combined evals\n",
    "combined_trustworthy_rag = TrustworthyRAG(evals=combined_evals)"
   ]
  },
  {
   "cell_type": "code",
   "execution_count": 101,
   "metadata": {},
   "outputs": [
    {
     "name": "stdout",
     "output_type": "stream",
     "text": [
      "Query:\n",
      "What significant transitions did Jensen comment on?\n",
      "\n",
      "Context:\n",
      "# NVIDIA Announces Financial Results for First Quarter Fiscal 2024 NVIDIA (NASDAQ: NVDA) today reported revenue for the first quarter ended April 30, 2023, of $7.19 billion, down 13% from a year ago and up 19% from the previous quarter. - **Quarterly revenue** of $7.19 billion, up 19% from the previous quarter - **Record Data Center revenue** of $4.28 billion - **Second quarter fiscal 2024 revenue outlook** of $11.00 billion GAAP earnings per diluted share for the quarter were $0.82, up 28% from a year ago and up 44% from the previous quarter. Non-GAAP earnings per diluted share were $1.09, down 20% from a year ago and up 24% from the previous quarter. Jensen Huang, founder and CEO of NVIDIA, commented on the significant transitions the computer industry is undergoing, particularly accelerated computing and generative AI, emphasizing NVIDIA's role and advancements in these areas. During the first quarter of fiscal\n",
      "Cyberpunk 2077. - Expanded **GeForce NOW’s** game titles to more than 1,600, including the first Microsoft Xbox game, Gears 5. ### Professional Visualization - First-quarter revenue was $295 million, down 53% from a year ago and up 31% from the previous quarter. - Announced **NVIDIA Omniverse™ Cloud**, a fully managed service running in Microsoft Azure, for the development and deployment of industrial metaverse applications. - Expanded its collaboration with **Microsoft** to connect Microsoft 365 applications with Omniverse. - Announced **six new NVIDIA RTX™ GPUs** for mobile and desktop workstations based on the Ada architecture. ### Automotive - First-quarter revenue was a record $296 million, up 114% from a year ago and up 1% from the previous quarter. - Announced that its automotive design win pipeline has grown to **$14 billion over the next six years**, up from $11 billion a year ago. - Announced that the world’s leading electric vehicle maker **BYD** will extend its use of NVIDIA DRIVE Orin™ across new models. ## Financial Statements and Non-GAAP Measures Detailed financial statements and reconciliation of\n",
      "\n",
      "Generated response:\n",
      "Jensen Huang, the founder and CEO of NVIDIA, commented on the significant transitions the computer industry is undergoing, particularly in the areas of accelerated computing and generative AI.\n",
      "\n",
      "Evaluation results:\n",
      "trustworthiness: 0.9910890553199009\n",
      "context_sufficiency: 0.9930264352424849\n",
      "response_groundedness: 0.9975120964465403\n",
      "response_helpfulness: 0.7485612752531596\n",
      "query_ease: 0.3465444527839642\n",
      "response_conciseness: 0.7458295840526216\n"
     ]
    }
   ],
   "source": [
    "get_answer(\"What significant transitions did Jensen comment on?\", evaluator=combined_trustworthy_rag)"
   ]
  },
  {
   "cell_type": "markdown",
   "metadata": {},
   "source": [
    "### Replace your LLM with Cleanlab's\n",
    "\n",
    "Beyond evaluating responses already generated from your LLM, Cleanlab can also generate responses and evaluate them simultaneously (using one of many [supported models](https://help.cleanlab.ai/tlm/api/python/tlm/#class-tlmoptions)). <br />\n",
    "This replaces your own LLM within your RAG system and can be more convenient/accurate/faster.\n",
    "\n",
    "Let's replace OpenAI LLM with a line to call Cleanlab's endpoint:"
   ]
  },
  {
   "cell_type": "code",
   "execution_count": 102,
   "metadata": {},
   "outputs": [
    {
     "name": "stdout",
     "output_type": "stream",
     "text": [
      "Query:\n",
      "How much did Nvidia's revenue decrease this quarter vs last quarter, in dollars?\n",
      "\n",
      "Context:\n",
      "# NVIDIA Announces Financial Results for First Quarter Fiscal 2024 NVIDIA (NASDAQ: NVDA) today reported revenue for the first quarter ended April 30, 2023, of $7.19 billion, down 13% from a year ago and up 19% from the previous quarter. - **Quarterly revenue** of $7.19 billion, up 19% from the previous quarter - **Record Data Center revenue** of $4.28 billion - **Second quarter fiscal 2024 revenue outlook** of $11.00 billion GAAP earnings per diluted share for the quarter were $0.82, up 28% from a year ago and up 44% from the previous quarter. Non-GAAP earnings per diluted share were $1.09, down 20% from a year ago and up 24% from the previous quarter. Jensen Huang, founder and CEO of NVIDIA, commented on the significant transitions the computer industry is undergoing, particularly accelerated computing and generative AI, emphasizing NVIDIA's role and advancements in these areas. During the first quarter of fiscal\n",
      "Earnings Per Share | $1.09 | $0.88 | $1.36 | Up 24% | Down 20% | ## Outlook NVIDIA’s outlook for the second quarter of fiscal 2024 includes: - **Revenue**: Expected to be $11.00 billion, plus or minus 2%. - **Gross Margins**: GAAP and non-GAAP gross margins are expected to be 68.6% and 70.0%, respectively, plus or minus 50 basis points. - **Operating Expenses**: GAAP and non-GAAP operating expenses are expected to be approximately $2.71 billion and $1.90 billion, respectively. - **Tax Rates**: GAAP and non-GAAP tax rates are expected to be 14.0%, plus or minus 1%, excluding any discrete items. ## Highlights NVIDIA has made significant progress in various areas since its last earnings announcement: ### Data Center - **First-quarter revenue** was a record $4.28 billion, up 14% from a year ago and up 18% from the previous quarter. - Launched **four inference platforms** that combine the company’s full-stack inference software with the latest NVIDIA Ada, NVIDIA Hopper™, and NVIDIA Grace Hopper™ processors. - Announced that **Google Cloud** is the first cloud provider offering\n",
      "\n"
     ]
    }
   ],
   "source": [
    "query = \"How much did Nvidia's revenue decrease this quarter vs last quarter, in dollars?\"\n",
    "\n",
    "print(f\"Query:\\n{query}\\n\")\n",
    "\n",
    "relevant_chunks = customer_support.query.near_text(\n",
    "    query=query,\n",
    "    limit=2,\n",
    ")\n",
    "\n",
    "# Create context from the chunks\n",
    "chunks = [obj.properties['chunk'] for obj in relevant_chunks.objects]\n",
    "context = create_context(chunks)\n",
    "print(context)"
   ]
  },
  {
   "cell_type": "code",
   "execution_count": 103,
   "metadata": {},
   "outputs": [
    {
     "name": "stdout",
     "output_type": "stream",
     "text": [
      "Generated Response:\n",
      "NVIDIA's revenue for the first quarter was $7.19 billion, which is up 19% from the previous quarter. To find the revenue for the previous quarter, we can calculate it as follows:\n",
      "\n",
      "Let \\( x \\) be the revenue for the previous quarter. According to the information provided:\n",
      "\n",
      "\\[ x + 0.19x = 7.19 \\]\n",
      "\\[ 1.19x = 7.19 \\]\n",
      "\\[ x = \\frac{7.19}{1.19} \\]\n",
      "\\[ x \\approx 6.04 \\text{ billion} \\]\n",
      "\n",
      "Now, to find the decrease in revenue from the previous quarter to this quarter, we can calculate:\n",
      "\n",
      "\\[ 7.19 - 6.04 = 1.15 \\text{ billion} \\]\n",
      "\n",
      "Therefore, NVIDIA's revenue did not decrease this quarter compared to the last quarter; instead, it increased by approximately $1.15 billion.\n",
      "\n",
      "Evaluation Scores:\n",
      "trustworthiness: 0.7047853317728329\n",
      "context_sufficiency: 0.9793883585825877\n",
      "response_groundedness: 0.16683115793235678\n",
      "response_helpfulness: 0.2743783166467349\n",
      "query_ease: 0.41290746161713915\n"
     ]
    }
   ],
   "source": [
    "# Generate the answer using LLM\n",
    "system_prompt = \"You are a helpful AI assistant that answers query based on the context.\\n\"\n",
    "user_prompt = f\"{context}\\nQuery:\\n{query}\"\n",
    "\n",
    "result = trustworthy_rag.generate(\n",
    "    query=query,\n",
    "    context=context,\n",
    "    prompt=system_prompt + user_prompt\n",
    ")\n",
    "\n",
    "print(f\"Generated Response:\\n{result['response']}\\n\")\n",
    "print(\"Evaluation Scores:\")\n",
    "for metric, value in result.items():\n",
    "    if metric != \"response\":\n",
    "        print(f\"{metric}: {value['score']}\")"
   ]
  },
  {
   "cell_type": "markdown",
   "metadata": {},
   "source": [
    "While it remains hard to achieve a RAG application that will accurately answer *any* possible question, you can easily use Weaviate and Cleanlab to deploy a *trustworthy* RAG application which at least flags answers that are likely inaccurate."
   ]
  }
 ],
 "metadata": {
  "kernelspec": {
   "display_name": "cl",
   "language": "python",
   "name": "python3"
  },
  "language_info": {
   "codemirror_mode": {
    "name": "ipython",
    "version": 3
   },
   "file_extension": ".py",
   "mimetype": "text/x-python",
   "name": "python",
   "nbconvert_exporter": "python",
   "pygments_lexer": "ipython3",
   "version": "3.9.6"
  }
 },
 "nbformat": 4,
 "nbformat_minor": 2
}
