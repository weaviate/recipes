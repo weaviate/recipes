{
 "cells": [
  {
   "cell_type": "markdown",
   "id": "94e14399",
   "metadata": {},
   "source": [
    "[![Open In Colab](https://colab.research.google.com/assets/colab-badge.svg)](https://colab.research.google.com/github/weaviate/recipes/blob/main/integrations/operations/nomic/vector_space_visual.ipynb)"
   ]
  },
  {
   "cell_type": "code",
   "execution_count": null,
   "id": "204f9226",
   "metadata": {},
   "outputs": [],
   "source": [
    "# You need to install the python Weaviate client\n",
    "!pip install weaviate-client"
   ]
  },
  {
   "cell_type": "markdown",
   "id": "5da93764",
   "metadata": {},
   "source": [
    "## Download data\n",
    "Download data from [drive](https://drive.google.com/file/d/1oOv6zT7_whFE78fUzo8hi64_FWO6-l44/view?usp=sharing)"
   ]
  },
  {
   "cell_type": "markdown",
   "id": "fe10c32b",
   "metadata": {},
   "source": [
    "## ☁️☁️ Configure the Weaviate Cloud Instance ☁️☁️\n",
    "### Free 14 day sandbox here: https://console.weaviate.cloud/"
   ]
  },
  {
   "cell_type": "code",
   "execution_count": 20,
   "id": "b6bfb80e",
   "metadata": {},
   "outputs": [
    {
     "data": {
      "text/plain": [
       "True"
      ]
     },
     "execution_count": 20,
     "metadata": {},
     "output_type": "execute_result"
    }
   ],
   "source": [
    "import os\n",
    "import weaviate\n",
    "import json\n",
    "import nomic\n",
    "from nomic import atlas, AtlasProject\n",
    "import numpy as np\n",
    "\n",
    "auth_config = weaviate.auth.AuthApiKey(api_key='QX6qEW5KywFyZzXFQNkry64KVwQq8ugiOTcU')\n",
    "\n",
    "client = weaviate.Client(\n",
    "    url=\"https://workshop-test-b60l5wap.weaviate.network\",\n",
    "    auth_client_secret=auth_config,\n",
    ")\n",
    "\n",
    "client.is_ready()"
   ]
  },
  {
   "cell_type": "markdown",
   "id": "395b6edc",
   "metadata": {},
   "source": [
    "## ䷀䷀Create Database Schema䷀䷀"
   ]
  },
  {
   "cell_type": "code",
   "execution_count": null,
   "id": "dde8cb41",
   "metadata": {},
   "outputs": [],
   "source": [
    "# delete existing schema, (note, this will delete all your weaviate data)\n",
    "#client.schema.delete_all()\n",
    "\n",
    "article_schema = {\n",
    "    \"class\": \"Article\",\n",
    "    \"description\": \"Wiki Article\",\n",
    "    \n",
    "    \"vectorizer\": \"text2vec-cohere\", #the translator to convert from text to vec\n",
    "    \n",
    "    \"moduleConfig\": {\n",
    "        \"text2vec-cohere\": {\n",
    "            \"model\": \"multilingual-22-12\", #multilingual \n",
    "            \"truncate\": \"RIGHT\"\n",
    "        }, \n",
    "        \"generative-openai\":{},\n",
    "    },\n",
    "    \"vectorIndexConfig\": {\n",
    "        \"distance\": \"dot\"\n",
    "    },\n",
    "    \n",
    "    \"properties\": [\n",
    "    {\n",
    "        \"name\": \"text\",\n",
    "        \"dataType\": [ \"text\" ],\n",
    "        \"description\": \"Article body\",\n",
    "        \"moduleConfig\": {\n",
    "            \"text2vec-cohere\": {\n",
    "                \"skip\": False,\n",
    "                \"vectorizePropertyName\": False\n",
    "            }\n",
    "        }\n",
    "    },\n",
    "    {\n",
    "        \"name\": \"title\",\n",
    "        \"dataType\": [ \"string\" ],\n",
    "        \"moduleConfig\": { \"text2vec-cohere\": { \"skip\": True } }\n",
    "    },\n",
    "    {\n",
    "        \"name\": \"url\",\n",
    "        \"dataType\": [ \"string\" ],\n",
    "        \"moduleConfig\": { \"text2vec-cohere\": { \"skip\": True } }\n",
    "    },\n",
    "    {\n",
    "        \"name\": \"wiki_id\",\n",
    "        \"dataType\": [ \"int\" ],\n",
    "        \"moduleConfig\": { \"text2vec-cohere\": { \"skip\": True } }\n",
    "    },\n",
    "    {\n",
    "        \"name\": \"views\",\n",
    "        \"dataType\": [ \"number\" ],\n",
    "        \"moduleConfig\": { \"text2vec-cohere\": { \"skip\": True } }\n",
    "    },\n",
    "    ]\n",
    "}\n",
    "\n",
    "# add the schema\n",
    "#client.schema.delete_all()\n",
    "client.schema.create_class(article_schema)\n",
    "\n",
    "print(\"The schema has been created\")"
   ]
  },
  {
   "cell_type": "code",
   "execution_count": null,
   "id": "ebf4f1de",
   "metadata": {},
   "outputs": [],
   "source": [
    "client.schema.get()"
   ]
  },
  {
   "cell_type": "markdown",
   "id": "62585698-fa1e-4082-81fe-1ca944c6dcea",
   "metadata": {},
   "source": [
    "## Load in the Data - 100k Wikipedia Article Chunks"
   ]
  },
  {
   "cell_type": "code",
   "execution_count": 21,
   "id": "f1475bdb",
   "metadata": {},
   "outputs": [],
   "source": [
    "import pandas as pd\n",
    "df = pd.read_parquet('wiki_simple_100k.parquet')"
   ]
  },
  {
   "cell_type": "code",
   "execution_count": 22,
   "id": "5b8f7050",
   "metadata": {},
   "outputs": [
    {
     "data": {
      "text/html": [
       "<div>\n",
       "<style scoped>\n",
       "    .dataframe tbody tr th:only-of-type {\n",
       "        vertical-align: middle;\n",
       "    }\n",
       "\n",
       "    .dataframe tbody tr th {\n",
       "        vertical-align: top;\n",
       "    }\n",
       "\n",
       "    .dataframe thead th {\n",
       "        text-align: right;\n",
       "    }\n",
       "</style>\n",
       "<table border=\"1\" class=\"dataframe\">\n",
       "  <thead>\n",
       "    <tr style=\"text-align: right;\">\n",
       "      <th></th>\n",
       "      <th>id</th>\n",
       "      <th>title</th>\n",
       "      <th>text</th>\n",
       "      <th>url</th>\n",
       "      <th>wiki_id</th>\n",
       "      <th>views</th>\n",
       "      <th>paragraph_id</th>\n",
       "      <th>langs</th>\n",
       "      <th>emb</th>\n",
       "    </tr>\n",
       "  </thead>\n",
       "  <tbody>\n",
       "    <tr>\n",
       "      <th>14180</th>\n",
       "      <td>14180</td>\n",
       "      <td>December</td>\n",
       "      <td>December begins on the same day of the week as...</td>\n",
       "      <td>https://simple.wikipedia.org/wiki?curid=185</td>\n",
       "      <td>185</td>\n",
       "      <td>271.238037</td>\n",
       "      <td>3</td>\n",
       "      <td>252</td>\n",
       "      <td>[0.3499060869216919, 0.8032940030097961, 0.051...</td>\n",
       "    </tr>\n",
       "    <tr>\n",
       "      <th>71754</th>\n",
       "      <td>71754</td>\n",
       "      <td>Antibiotic resistance</td>\n",
       "      <td>combination of two drugs, artemether-lumefantr...</td>\n",
       "      <td>https://simple.wikipedia.org/wiki?curid=366966</td>\n",
       "      <td>366966</td>\n",
       "      <td>49.827438</td>\n",
       "      <td>21</td>\n",
       "      <td>51</td>\n",
       "      <td>[-0.15138965845108032, 0.35137122869491577, -0...</td>\n",
       "    </tr>\n",
       "    <tr>\n",
       "      <th>90406</th>\n",
       "      <td>90406</td>\n",
       "      <td>Marburg</td>\n",
       "      <td>The upper part of Old town, near the castle an...</td>\n",
       "      <td>https://simple.wikipedia.org/wiki?curid=17921</td>\n",
       "      <td>17921</td>\n",
       "      <td>35.010708</td>\n",
       "      <td>1</td>\n",
       "      <td>76</td>\n",
       "      <td>[0.14141567051410675, 0.03710193186998367, -0....</td>\n",
       "    </tr>\n",
       "    <tr>\n",
       "      <th>9235</th>\n",
       "      <td>9235</td>\n",
       "      <td>Roman numerals</td>\n",
       "      <td>It is very easy to write a number as a Roman n...</td>\n",
       "      <td>https://simple.wikipedia.org/wiki?curid=7641</td>\n",
       "      <td>7641</td>\n",
       "      <td>364.596527</td>\n",
       "      <td>5</td>\n",
       "      <td>103</td>\n",
       "      <td>[-0.09458529204130173, 0.1241791769862175, -0....</td>\n",
       "    </tr>\n",
       "    <tr>\n",
       "      <th>22636</th>\n",
       "      <td>22636</td>\n",
       "      <td>James Prescott Joule</td>\n",
       "      <td>Kinetics is the science of motion. Joule was a...</td>\n",
       "      <td>https://simple.wikipedia.org/wiki?curid=29213</td>\n",
       "      <td>29213</td>\n",
       "      <td>188.147720</td>\n",
       "      <td>2</td>\n",
       "      <td>113</td>\n",
       "      <td>[0.8221997022628784, -0.1636316329240799, -0.1...</td>\n",
       "    </tr>\n",
       "  </tbody>\n",
       "</table>\n",
       "</div>"
      ],
      "text/plain": [
       "          id                  title  \\\n",
       "14180  14180               December   \n",
       "71754  71754  Antibiotic resistance   \n",
       "90406  90406                Marburg   \n",
       "9235    9235         Roman numerals   \n",
       "22636  22636   James Prescott Joule   \n",
       "\n",
       "                                                    text  \\\n",
       "14180  December begins on the same day of the week as...   \n",
       "71754  combination of two drugs, artemether-lumefantr...   \n",
       "90406  The upper part of Old town, near the castle an...   \n",
       "9235   It is very easy to write a number as a Roman n...   \n",
       "22636  Kinetics is the science of motion. Joule was a...   \n",
       "\n",
       "                                                  url  wiki_id       views  \\\n",
       "14180     https://simple.wikipedia.org/wiki?curid=185      185  271.238037   \n",
       "71754  https://simple.wikipedia.org/wiki?curid=366966   366966   49.827438   \n",
       "90406   https://simple.wikipedia.org/wiki?curid=17921    17921   35.010708   \n",
       "9235     https://simple.wikipedia.org/wiki?curid=7641     7641  364.596527   \n",
       "22636   https://simple.wikipedia.org/wiki?curid=29213    29213  188.147720   \n",
       "\n",
       "       paragraph_id  langs                                                emb  \n",
       "14180             3    252  [0.3499060869216919, 0.8032940030097961, 0.051...  \n",
       "71754            21     51  [-0.15138965845108032, 0.35137122869491577, -0...  \n",
       "90406             1     76  [0.14141567051410675, 0.03710193186998367, -0....  \n",
       "9235              5    103  [-0.09458529204130173, 0.1241791769862175, -0....  \n",
       "22636             2    113  [0.8221997022628784, -0.1636316329240799, -0.1...  "
      ]
     },
     "execution_count": 22,
     "metadata": {},
     "output_type": "execute_result"
    }
   ],
   "source": [
    "df.sample(5)"
   ]
  },
  {
   "cell_type": "code",
   "execution_count": 9,
   "id": "e149bfb0",
   "metadata": {},
   "outputs": [
    {
     "data": {
      "text/plain": [
       "(768,)"
      ]
     },
     "execution_count": 9,
     "metadata": {},
     "output_type": "execute_result"
    }
   ],
   "source": [
    "df['emb'][0].shape"
   ]
  },
  {
   "cell_type": "markdown",
   "id": "a2a86fb4",
   "metadata": {},
   "source": [
    "## 💽💽 Batch and Add 100k Wikipedia Articles to Weaviate 💽💽"
   ]
  },
  {
   "cell_type": "code",
   "execution_count": null,
   "id": "5f4a984c",
   "metadata": {},
   "outputs": [],
   "source": [
    "### Step 1 - configure Weaviate Batch, which optimizes CRUD operations in bulk\n",
    "# - starting batch size of 100\n",
    "# - dynamically increase/decrease based on performance\n",
    "# - add timeout retries if something goes wrong\n",
    "\n",
    "client.batch.configure(\n",
    "    batch_size=200,\n",
    "    dynamic=True,\n",
    "    timeout_retries=3,\n",
    ")"
   ]
  },
  {
   "cell_type": "code",
   "execution_count": null,
   "id": "d92b1202",
   "metadata": {},
   "outputs": [],
   "source": [
    "data = df[:100000] # make sure it is not more than 100k objects\n",
    "\n",
    "counter=0\n",
    "\n",
    "with client.batch as batch:\n",
    "    for idx, item in data.iterrows():        \n",
    "        # print update message every 100 objects        \n",
    "        if (counter %100 == 0):\n",
    "            print(f\"Import {counter} / {len(data)} \", end=\"\\r\")\n",
    "\n",
    "        properties = {\n",
    "        \"text\": item[\"text\"],\n",
    "        \"title\": item[\"title\"],\n",
    "        \"url\": item[\"url\"],\n",
    "        \"views\": item[\"views\"],\n",
    "        \"wiki_id\": item[\"wiki_id\"]\n",
    "        }\n",
    "\n",
    "        vector = item[\"emb\"]\n",
    "\n",
    "        batch.add_data_object(properties, \"Article\", None, vector)\n",
    "        counter = counter+1\n",
    "    print(f\"Import {counter} / {len(data)}\")\n",
    "        \n",
    "print(\"Import complete\")"
   ]
  },
  {
   "cell_type": "code",
   "execution_count": null,
   "id": "249c4367",
   "metadata": {},
   "outputs": [],
   "source": [
    "# Test that all data has loaded – get object count\n",
    "result = (\n",
    "    client.query.aggregate(\"Article\")\n",
    "    .with_meta_count()\n",
    "    .do()\n",
    ")\n",
    "print(\"Object count: \", result[\"data\"][\"Aggregate\"][\"Article\"])"
   ]
  },
  {
   "cell_type": "markdown",
   "id": "7dfcb3bf-ccc2-496b-bb13-13f4020dfa04",
   "metadata": {},
   "source": [
    "## Use Nomic to Visualize the Embeddings"
   ]
  },
  {
   "cell_type": "code",
   "execution_count": 3,
   "id": "37301c63-c426-4ef5-9e6c-7a91b91468b6",
   "metadata": {},
   "outputs": [],
   "source": [
    "nomic.login(\"NOMIC_API_KEY\")"
   ]
  },
  {
   "cell_type": "code",
   "execution_count": 9,
   "id": "d4115ccd-ffd2-4e71-92f8-16a621e0b9bc",
   "metadata": {},
   "outputs": [],
   "source": [
    "schema = client.schema.get()\n",
    "\n",
    "classes = []\n",
    "props = []\n",
    "for c in schema[\"classes\"]:\n",
    "    classes.append(c[\"class\"])\n",
    "    temp = []\n",
    "    for p in c[\"properties\"]:\n",
    "        if p[\"dataType\"] == [\"text\"]:\n",
    "            temp.append(p[\"name\"])\n",
    "    props.append(temp)"
   ]
  },
  {
   "cell_type": "code",
   "execution_count": 10,
   "id": "1a1172df-e612-422e-9d8c-9eee22c576e2",
   "metadata": {},
   "outputs": [],
   "source": [
    "def get_batch_with_cursor(\n",
    "    client, class_name, class_properties, batch_size, cursor=None\n",
    "):\n",
    "    query = (\n",
    "        client.query.get(class_name, class_properties)\n",
    "        .with_additional([\"vector\", \"id\"])\n",
    "        .with_limit(batch_size)\n",
    "    )\n",
    "\n",
    "    if cursor is not None:\n",
    "        return query.with_after(cursor).do()\n",
    "    else:\n",
    "        return query.do()"
   ]
  },
  {
   "cell_type": "code",
   "execution_count": 15,
   "id": "7eac13c0-df51-4f80-ba6a-19ac842ff27e",
   "metadata": {},
   "outputs": [
    {
     "name": "stderr",
     "output_type": "stream",
     "text": [
      "\u001b[32m2023-12-13 18:44:22.723\u001b[0m | \u001b[1mINFO    \u001b[0m | \u001b[36mnomic.project\u001b[0m:\u001b[36m_create_project\u001b[0m:\u001b[36m797\u001b[0m - \u001b[1mCreating project `Article` in organization `weaviate`\u001b[0m\n"
     ]
    }
   ],
   "source": [
    "c = 'Article'\n",
    "p = 'text'\n",
    "\n",
    "project = AtlasProject(\n",
    "    name=c,\n",
    "    unique_id_field=\"id\",\n",
    "    modality=\"embedding\",\n",
    ")"
   ]
  },
  {
   "cell_type": "code",
   "execution_count": 16,
   "id": "80af7cca-683d-401c-ad6b-a07a201e8bc9",
   "metadata": {},
   "outputs": [
    {
     "name": "stderr",
     "output_type": "stream",
     "text": [
      "100%|█████████████████████████████████████████████| 2/2 [00:12<00:00,  6.43s/it]\n",
      "\u001b[32m2023-12-13 18:44:54.473\u001b[0m | \u001b[1mINFO    \u001b[0m | \u001b[36mnomic.project\u001b[0m:\u001b[36m_add_data\u001b[0m:\u001b[36m1426\u001b[0m - \u001b[1mUpload succeeded.\u001b[0m\n",
      "100%|█████████████████████████████████████████████| 2/2 [00:13<00:00,  6.78s/it]\n",
      "\u001b[32m2023-12-13 18:45:23.846\u001b[0m | \u001b[1mINFO    \u001b[0m | \u001b[36mnomic.project\u001b[0m:\u001b[36m_add_data\u001b[0m:\u001b[36m1426\u001b[0m - \u001b[1mUpload succeeded.\u001b[0m\n",
      "100%|█████████████████████████████████████████████| 2/2 [00:15<00:00,  7.73s/it]\n",
      "\u001b[32m2023-12-13 18:45:55.591\u001b[0m | \u001b[1mINFO    \u001b[0m | \u001b[36mnomic.project\u001b[0m:\u001b[36m_add_data\u001b[0m:\u001b[36m1426\u001b[0m - \u001b[1mUpload succeeded.\u001b[0m\n",
      "100%|█████████████████████████████████████████████| 2/2 [00:13<00:00,  6.65s/it]\n",
      "\u001b[32m2023-12-13 18:46:24.325\u001b[0m | \u001b[1mINFO    \u001b[0m | \u001b[36mnomic.project\u001b[0m:\u001b[36m_add_data\u001b[0m:\u001b[36m1426\u001b[0m - \u001b[1mUpload succeeded.\u001b[0m\n",
      "100%|█████████████████████████████████████████████| 2/2 [00:12<00:00,  6.42s/it]\n",
      "\u001b[32m2023-12-13 18:46:52.532\u001b[0m | \u001b[1mINFO    \u001b[0m | \u001b[36mnomic.project\u001b[0m:\u001b[36m_add_data\u001b[0m:\u001b[36m1426\u001b[0m - \u001b[1mUpload succeeded.\u001b[0m\n",
      "100%|█████████████████████████████████████████████| 2/2 [00:13<00:00,  6.93s/it]\n",
      "\u001b[32m2023-12-13 18:47:22.060\u001b[0m | \u001b[1mINFO    \u001b[0m | \u001b[36mnomic.project\u001b[0m:\u001b[36m_add_data\u001b[0m:\u001b[36m1426\u001b[0m - \u001b[1mUpload succeeded.\u001b[0m\n",
      "100%|█████████████████████████████████████████████| 2/2 [00:15<00:00,  7.99s/it]\n",
      "\u001b[32m2023-12-13 18:47:53.688\u001b[0m | \u001b[1mINFO    \u001b[0m | \u001b[36mnomic.project\u001b[0m:\u001b[36m_add_data\u001b[0m:\u001b[36m1426\u001b[0m - \u001b[1mUpload succeeded.\u001b[0m\n",
      "100%|█████████████████████████████████████████████| 2/2 [00:15<00:00,  7.53s/it]\n",
      "\u001b[32m2023-12-13 18:48:24.377\u001b[0m | \u001b[1mINFO    \u001b[0m | \u001b[36mnomic.project\u001b[0m:\u001b[36m_add_data\u001b[0m:\u001b[36m1426\u001b[0m - \u001b[1mUpload succeeded.\u001b[0m\n",
      "100%|█████████████████████████████████████████████| 2/2 [00:13<00:00,  6.57s/it]\n",
      "\u001b[32m2023-12-13 18:48:53.574\u001b[0m | \u001b[1mINFO    \u001b[0m | \u001b[36mnomic.project\u001b[0m:\u001b[36m_add_data\u001b[0m:\u001b[36m1426\u001b[0m - \u001b[1mUpload succeeded.\u001b[0m\n",
      "100%|█████████████████████████████████████████████| 2/2 [00:13<00:00,  6.56s/it]\n",
      "\u001b[32m2023-12-13 18:49:21.924\u001b[0m | \u001b[1mINFO    \u001b[0m | \u001b[36mnomic.project\u001b[0m:\u001b[36m_add_data\u001b[0m:\u001b[36m1426\u001b[0m - \u001b[1mUpload succeeded.\u001b[0m\n"
     ]
    }
   ],
   "source": [
    "cursor = None\n",
    "while True:\n",
    "    response = get_batch_with_cursor(client, c, p, 10000, cursor)\n",
    "    if len(response[\"data\"][\"Get\"][c]) == 0:\n",
    "        break\n",
    "    cursor = response[\"data\"][\"Get\"][c][-1][\"_additional\"][\"id\"]\n",
    "    vectors = []\n",
    "    for i in response[\"data\"][\"Get\"][c]:\n",
    "        vectors.append(i[\"_additional\"][\"vector\"])\n",
    "\n",
    "    embeddings = np.array(vectors)\n",
    "    data = []\n",
    "    not_data = [\"_additional\"]\n",
    "    un_data = [\"vector\"]\n",
    "    for i in response[\"data\"][\"Get\"][c]:\n",
    "        j = {key: value for key, value in i.items() if key not in not_data}\n",
    "        k = {\n",
    "            key: value\n",
    "            for key, value in i[\"_additional\"].items()\n",
    "            if key not in un_data\n",
    "        }\n",
    "        j = j | k\n",
    "        data.append(j)\n",
    "    with project.wait_for_project_lock():\n",
    "        project.add_embeddings(\n",
    "            embeddings=embeddings,\n",
    "            data=data,\n",
    "        )"
   ]
  },
  {
   "cell_type": "code",
   "execution_count": 18,
   "id": "886a87ff-4d28-44ec-991f-43763a180012",
   "metadata": {
    "scrolled": true
   },
   "outputs": [
    {
     "name": "stderr",
     "output_type": "stream",
     "text": [
      "\u001b[32m2023-12-13 18:53:50.643\u001b[0m | \u001b[1mINFO    \u001b[0m | \u001b[36mnomic.project\u001b[0m:\u001b[36mcreate_index\u001b[0m:\u001b[36m1135\u001b[0m - \u001b[1mCreated map `Article` in project `Article`: https://atlas.nomic.ai/map/35577daa-dfcf-41ec-b968-547bd36ccb09/cfff2edd-ab73-4f89-9fec-66fd86224e87\u001b[0m\n"
     ]
    },
    {
     "data": {
      "text/html": [
       "Atlas Projection Article. Status Projecting. <a target=\"_blank\" href=\"https://atlas.nomic.ai/map/35577daa-dfcf-41ec-b968-547bd36ccb09/cfff2edd-ab73-4f89-9fec-66fd86224e87\">view online</a>"
      ],
      "text/plain": [
       "Article: https://atlas.nomic.ai/map/35577daa-dfcf-41ec-b968-547bd36ccb09/cfff2edd-ab73-4f89-9fec-66fd86224e87"
      ]
     },
     "execution_count": 18,
     "metadata": {},
     "output_type": "execute_result"
    }
   ],
   "source": [
    "project.create_index(\n",
    "    name=c,\n",
    "    colorable_fields=[p],\n",
    "    build_topic_model=True,\n",
    ")\n",
    "\n",
    "#You will get a link to the Nomic platform to view the embeddings"
   ]
  },
  {
   "cell_type": "markdown",
   "id": "ecac87ba-414c-458d-9334-de7a4a0eb80e",
   "metadata": {},
   "source": [
    "![](https://drive.google.com/uc?export=view&id=1Fc9Nh8nthSgF2aiPB6m4lzs4oCTxAxp_)"
   ]
  }
 ],
 "metadata": {
  "kernelspec": {
   "display_name": "Python 3 (ipykernel)",
   "language": "python",
   "name": "python3"
  },
  "language_info": {
   "codemirror_mode": {
    "name": "ipython",
    "version": 3
   },
   "file_extension": ".py",
   "mimetype": "text/x-python",
   "name": "python",
   "nbconvert_exporter": "python",
   "pygments_lexer": "ipython3",
   "version": "3.11.5"
  }
 },
 "nbformat": 4,
 "nbformat_minor": 5
}
