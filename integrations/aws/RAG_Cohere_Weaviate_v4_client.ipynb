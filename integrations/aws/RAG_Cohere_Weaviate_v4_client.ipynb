{
 "cells": [
  {
   "cell_type": "markdown",
   "id": "0ab5ecda",
   "metadata": {},
   "source": [
    "# Retrieval-Augmented Generation with Cohere language models on Amazon Bedrock and Weaviate vector database on AWS Market place\n",
    "\n",
    "The example use case generates targeted advertisements for vacation stay listings based on a target audience. The goal is to use the user query for the target audience (e.g., “family with small children”) to retrieve the most relevant vacation stay listing (e.g., a listing with playgrounds close by) and then to generate an advertisement for the retrieved listing tailored to the target audience.\n",
    "\n",
    "Note that the following code uses the newer `v4` Weaviate Python client, which uses gRPC under the hood and is currently in beta (as of November 2023).\n",
    "\n",
    "This notebook should work well with the Data Science 3.0 kernel in SageMaker Studio.\n",
    "\n",
    "## Dataset Overview\n",
    "The dataset is available from [Inside AirBnB](http://data.insideairbnb.com/the-netherlands/north-holland/amsterdam/2023-09-03/data/listings.csv.gz) and is licensed under a [Creative Commons Attribution 4.0 International License](https://creativecommons.org/licenses/by/4.0/).\n",
    "\n",
    "Download the data and save it in a folder called `data`."
   ]
  },
  {
   "cell_type": "code",
   "execution_count": null,
   "id": "4d2053e7",
   "metadata": {},
   "outputs": [],
   "source": [
    "!wget http://data.insideairbnb.com/the-netherlands/north-holland/amsterdam/2023-09-03/data/listings.csv.gz"
   ]
  },
  {
   "cell_type": "code",
   "execution_count": null,
   "id": "05e112f1",
   "metadata": {},
   "outputs": [],
   "source": [
    "!gzip -d listings.csv.gz\n",
    "!mkdir data\n",
    "!mv listings.csv ./data"
   ]
  },
  {
   "cell_type": "code",
   "execution_count": null,
   "id": "77c323f7",
   "metadata": {
    "ExecuteTime": {
     "end_time": "2023-10-31T17:14:33.652765Z",
     "start_time": "2023-10-31T17:14:32.009228Z"
    }
   },
   "outputs": [],
   "source": [
    "import pandas as pd\n",
    "import json\n",
    "\n",
    "# Read CSV file\n",
    "csv_file = './data/listings.csv'\n",
    "df = pd.read_csv(csv_file, usecols=['host_name',\n",
    "                                    'property_type',\n",
    "                                    'description',\n",
    "                                    'neighborhood_overview',\n",
    "                                    ])\n",
    "\n",
    "df.fillna('Unknown', inplace=True)\n",
    "\n",
    "display(df.head())"
   ]
  },
  {
   "cell_type": "markdown",
   "id": "cf847d76",
   "metadata": {},
   "source": [
    "## Prerequisites\n",
    "To be able to follow along and use any AWS services in the following tutorial, please make sure you have an [AWS account](https://signin.aws.amazon.com/signin?redirect_uri=https%3A%2F%2Fportal.aws.amazon.com%2Fbilling%2Fsignup%2Fresume&client_id=signup).\n",
    "\n",
    "## Step 1: Enable components of the AI-native technology stack\n",
    "First, you will need to enable the relevant components discussed in the solution overview in your AWS account.\n",
    "First, enable access to the Cohere Command and Embed foundation models available on Amazon Bedrock through the AWS Management Console. Navigate to the Model access page, click on Edit, and select the foundation models of your choice.\n",
    "\n",
    "Next, set up a Weaviate cluster. First, subscribe to the [Weaviate Kubernetes Cluster on AWS Marketplace](https://aws.amazon.com/marketplace/pp/prodview-cicacyv63r43i). Then, launch the software using a [CloudFormation template according to your preferred availability zone](https://weaviate.io/developers/weaviate/installation/aws-marketplace#aws-marketplace). The CloudFormation template is pre-filled with default values. To follow along in this guide, edit the following fields:\n",
    "* Stack name: Enter a stack name\n",
    "* Authentication: It is recommended to enable authentication by setting helmauthenticationtype to apikey and defining a helmauthenticationapikey.\n",
    "* Enabled modules: Make sure “tex2vec-aws” and “generative-aws” are present in the list of enabled modules within Weaviate.\n",
    "\n",
    "This template takes about 30 minutes to complete."
   ]
  },
  {
   "cell_type": "markdown",
   "id": "11420381",
   "metadata": {},
   "source": [
    "## Step 2: Connect to Weaviate\n",
    "On the SageMaker console, navigate to Notebook instances and create a new notebook instance.\n",
    "\n",
    "Then, install the Weaviate client package with the required dependencies:"
   ]
  },
  {
   "cell_type": "code",
   "execution_count": null,
   "id": "b3ddd03a",
   "metadata": {
    "ExecuteTime": {
     "end_time": "2023-10-31T17:22:47.452815Z",
     "start_time": "2023-10-31T17:22:47.448949Z"
    }
   },
   "outputs": [],
   "source": [
    "# pip install --pre \"weaviate-client==4.*\"\n",
    "# pip install grpcio"
   ]
  },
  {
   "cell_type": "markdown",
   "id": "819ca837",
   "metadata": {},
   "source": [
    "Now, you can connect to your Weaviate instance with the following code. You can find the relevant information as follows:\n",
    "* Weaviate URL: Access Weaviate via the load balancer URL. Go to the Services section of AWS, under EC2 > Load Balancers find the load balancer, and look for the DNS name column.\n",
    "* Weaviate API Key: This is the key you set earlier in the CloudFormation template (helmauthenticationapikey).\n",
    "* AWS Access Key: You can retrieve the access keys for your user in the AWS Identity and Access Management (IAM) Console."
   ]
  },
  {
   "cell_type": "code",
   "execution_count": null,
   "id": "88a53dee",
   "metadata": {},
   "outputs": [],
   "source": [
    "import weaviate\n",
    "import weaviate.classes as wvc\n",
    "\n",
    "client = weaviate.WeaviateClient(\n",
    "    weaviate.ConnectionParams.from_url(\"<YOUR-WEAVIATE-URL>\", grpc_port=50051),  # e.g. weaviate.ConnectionParams.from_url(\"http://localhost:8080\", grpc_port=50051)\n",
    "    auth_client_secret=weaviate.AuthApiKey(\"<YOUR-WEAVIATE-API-KEY>\"),\n",
    "    additional_headers={\n",
    "        \"X-AWS-Access-Key\": \"<AWS-ACCESS-KEY>\",\n",
    "        \"X-AWS-Access-Secret\": \"<AWS-ACCESS-SECRET>\"\n",
    "    }\n",
    ")\n",
    "\n",
    "print(client.is_ready())\n",
    "\n",
    "client.get_meta()"
   ]
  },
  {
   "cell_type": "markdown",
   "id": "9cdc2e12",
   "metadata": {},
   "source": [
    "## Step 3: Configure the Amazon Bedrock module to enable Cohere models\n",
    "\n",
    "Next, you will define a data collection (i.e., `class`) called `Listings` to store the listings’ data objects, which is analogous to creating a table in a relational database. In this step, you will configure the relevant modules to enable the usage of Cohere language models hosted on Amazon Bedrock natively from within the Weaviate vector database. The vectorizer (`\"text2vec-aws\"`) and generative module (` \"generative-aws\"`) are specified in the data collection definition. Both of these modules take three parameters:\n",
    "* `\"service\"`: `\"bedrock\"` for Amazon Bedrock (Alternatively, `\"sagemaker\"` for Amazon Sagemaker Jumpstart)\n",
    "* `\"Region\"`: The region where your model is deployed\n",
    "* `\"model\"`: The foundation model’s name\n",
    "\n",
    "In this step, you will also define the structure of the data collection by configuring its properties. Aside from the property’s name and data type, you can also configure if only the data object shall be stored or if it shall be stored together with its vector embeddings. In this example, `host_name` and `property_type` are not vectorized."
   ]
  },
  {
   "cell_type": "markdown",
   "id": "8be773b9",
   "metadata": {},
   "source": [
    "Run the following code to create the collection in your Weaviate instance."
   ]
  },
  {
   "cell_type": "code",
   "execution_count": null,
   "id": "ba66b1a3",
   "metadata": {},
   "outputs": [],
   "source": [
    "client.collections.delete(\"Listings\")\n",
    "\n",
    "listings = client.collections.create(\n",
    "    name=\"Listings\",\n",
    "    description=\"AirBnb Listings\",\n",
    "    vectorizer_config=wvc.Configure.Vectorizer.text2vec_aws(\n",
    "        service=\"bedrock\",\n",
    "        region=\"us-east-1\",\n",
    "        model=\"cohere.embed-english-v3\",\n",
    "        vectorize_class_name=False,\n",
    "    ),\n",
    "    generative_config=wvc.Configure.Generative.aws(\n",
    "        service=\"bedrock\",\n",
    "        region=\"us-east-1\",\n",
    "        model=\"cohere.command-text-v14\",\n",
    "    ),\n",
    "    properties=[\n",
    "        wvc.Property(\n",
    "            name=\"description\",\n",
    "            data_type=wvc.DataType.TEXT,\n",
    "            description=\"The description of the apartment listing\",\n",
    "        ),\n",
    "        wvc.Property(\n",
    "            name=\"host_name\",\n",
    "            data_type=wvc.DataType.TEXT,\n",
    "            description=\"The name of the host of the apartment listing\",\n",
    "            skip_vectorization=True,\n",
    "            vectorize_property_name=False\n",
    "        ),\n",
    "        wvc.Property(\n",
    "            name=\"neighborhood_overview\",\n",
    "            data_type=wvc.DataType.TEXT,\n",
    "            description=\"The description of  the neighbourhood of the apartment listing\",\n",
    "        ),\n",
    "        wvc.Property(\n",
    "            name=\"property_type\",\n",
    "            data_type=wvc.DataType.TEXT,\n",
    "            description=\"The type of property of the listing\",\n",
    "            skip_vectorization=True,\n",
    "            vectorize_property_name=False\n",
    "        )\n",
    "    ]\n",
    ")\n",
    "\n",
    "listings = client.collections.get(\"Listings\")\n",
    "print(listings.config)"
   ]
  },
  {
   "cell_type": "markdown",
   "id": "561a5203",
   "metadata": {},
   "source": [
    "## Step 4: Ingest data into the Weaviate vector database\n",
    "\n",
    "You can now add objects to Weaviate. You will be using a batch import process for maximum efficiency. Run the code below to import data. During the import, Weaviate will use the defined vectorizer to create a vector embedding for each object. The following code loads objects initializes a batch process, and adds objects to the target collection one by one."
   ]
  },
  {
   "cell_type": "code",
   "execution_count": null,
   "id": "7c44c4d8",
   "metadata": {},
   "outputs": [],
   "source": [
    "listings_to_add = [\n",
    "    {\n",
    "        \"description\": row[\"description\"],\n",
    "        \"host_name\": row[\"host_name\"],\n",
    "        \"neighborhood_overview\": row[\"neighborhood_overview\"],\n",
    "        \"property_type\": row[\"property_type\"],\n",
    "    } for _, row in df.iterrows()\n",
    "]\n",
    "\n",
    "response = listings.data.insert_many(listings_to_add)\n",
    "print(response)"
   ]
  },
  {
   "cell_type": "markdown",
   "id": "d53cf711",
   "metadata": {},
   "source": [
    "## Step 5: Retrieval-Augmented Generation to generate targeted advertisements\n",
    "\n",
    "Finally, you can build a RAG pipeline by implementing a generative search query on your Weaviate instance. For this, you will first define a prompt template in the form of an f-string that can take in the user query (`{target_audience}`) directly and the additional context (`{{host_name}}`, `{{property_type}}`, `{{description}}`, `{{neighborhood_overview}}`) from the vector database at runtime.\n",
    "\n",
    "Next, you will run a generative search query. This prompts the defined generative model with a prompt that is comprised of the user query as well as the retrieved data. The following query retrieves one listing object (`.with_limit(1)`) from the `Listings` collection that is most similar to the user query (`.with_near_text({\"concepts\": target_audience})`). Then the user query (`target_audience`) and the retrieved listings properties (`[\"description\", \"neighborhood\", \"host_name\", \"property_type\"]`) are fed into the prompt template."
   ]
  },
  {
   "cell_type": "code",
   "execution_count": null,
   "id": "4cd96000",
   "metadata": {},
   "outputs": [],
   "source": [
    "def generate_targeted_ad(target_audience):\n",
    "    generate_prompt = f\"\"\"You are a copywriter.\n",
    "    Write short advertisement for the following vacation stay.\n",
    "    Host: {{host_name}}\n",
    "    Property type: {{property_type}}\n",
    "    Description: {{description}}\n",
    "    Neighborhood: {{neighborhood_overview}}\n",
    "    Target audience: {target_audience}\n",
    "    \"\"\"\n",
    "\n",
    "    result = listings.generate.near_text(\n",
    "        query=target_audience,\n",
    "        limit=1,\n",
    "        single_prompt=generate_prompt\n",
    "    )\n",
    "\n",
    "    return result"
   ]
  },
  {
   "cell_type": "markdown",
   "id": "3835d003",
   "metadata": {},
   "source": [
    "Below, you can see that the results for the `target_audience = “Family with small children”`."
   ]
  },
  {
   "cell_type": "code",
   "execution_count": null,
   "id": "f2886886",
   "metadata": {},
   "outputs": [],
   "source": [
    "result = generate_targeted_ad(\"Families with young children\")\n",
    "print(result.objects[0].generated)"
   ]
  },
  {
   "cell_type": "markdown",
   "id": "108cc702",
   "metadata": {},
   "source": [
    "Here is another example for an elderly couple."
   ]
  },
  {
   "cell_type": "code",
   "execution_count": null,
   "id": "ccb71c13",
   "metadata": {},
   "outputs": [],
   "source": [
    "result = generate_targeted_ad(\"Elderly couple\")\n",
    "print(result.objects[0].generated)"
   ]
  }
 ],
 "metadata": {
  "kernelspec": {
   "display_name": "Python 3 (ipykernel)",
   "language": "python",
   "name": "python3"
  },
  "language_info": {
   "codemirror_mode": {
    "name": "ipython",
    "version": 3
   },
   "file_extension": ".py",
   "mimetype": "text/x-python",
   "name": "python",
   "nbconvert_exporter": "python",
   "pygments_lexer": "ipython3",
   "version": "3.11.4"
  }
 },
 "nbformat": 4,
 "nbformat_minor": 5
}
