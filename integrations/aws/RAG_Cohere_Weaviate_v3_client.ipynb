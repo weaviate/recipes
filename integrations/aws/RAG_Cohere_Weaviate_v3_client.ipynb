{
 "cells": [
  {
   "cell_type": "markdown",
   "id": "0ab5ecda",
   "metadata": {},
   "source": [
    "# Retrieval-Augmented Generation with Cohere language models on Amazon Bedrock and Weaviate vector database on AWS Market place\n",
    "\n",
    "The example use case generates targeted advertisements for vacation stay listings based on a target audience. The goal is to use the user query for the target audience (e.g., “family with small children”) to retrieve the most relevant vacation stay listing (e.g., a listing with playgrounds close by) and then to generate an advertisement for the retrieved listing tailored to the target audience.\n",
    "\n",
    "Note that the following code uses the `v3` Weaviate Python client. A `v4` Weaviate Python client, which uses gRPC under the hood, is being developed (currently in beta as of November 2023). You can find the same RAG pipeline using the new `v4` client in the related GitHub repository.\n",
    "\n",
    "This notebook should work well with the Data Science 3.0 kernel in SageMaker Studio.\n",
    "\n",
    "## Dataset Overview\n",
    "The dataset is available from [Inside AirBnB](http://data.insideairbnb.com/the-netherlands/north-holland/amsterdam/2023-09-03/data/listings.csv.gz) and is licensed under a [Creative Commons Attribution 4.0 International License](https://creativecommons.org/licenses/by/4.0/).\n",
    "\n",
    "Download the data and save it in a folder called `data`."
   ]
  },
  {
   "cell_type": "code",
   "execution_count": 1,
   "id": "dcbf5f97",
   "metadata": {},
   "outputs": [
    {
     "name": "stdout",
     "output_type": "stream",
     "text": [
      "zsh:1: command not found: wget\r\n"
     ]
    }
   ],
   "source": [
    "!wget http://data.insideairbnb.com/the-netherlands/north-holland/amsterdam/2023-09-03/data/listings.csv.gz"
   ]
  },
  {
   "cell_type": "code",
   "execution_count": 2,
   "id": "472bd00d",
   "metadata": {},
   "outputs": [
    {
     "name": "stdout",
     "output_type": "stream",
     "text": [
      "gzip: can't stat: listings.csv.gz (listings.csv.gz.gz): No such file or directory\n",
      "mkdir: data: File exists\n",
      "mv: listings.csv: No such file or directory\n"
     ]
    }
   ],
   "source": [
    "!gzip -d listings.csv.gz\n",
    "!mkdir data\n",
    "!mv listings.csv ./data"
   ]
  },
  {
   "cell_type": "code",
   "execution_count": 3,
   "id": "77c323f7",
   "metadata": {},
   "outputs": [
    {
     "data": {
      "text/html": [
       "<div>\n",
       "<style scoped>\n",
       "    .dataframe tbody tr th:only-of-type {\n",
       "        vertical-align: middle;\n",
       "    }\n",
       "\n",
       "    .dataframe tbody tr th {\n",
       "        vertical-align: top;\n",
       "    }\n",
       "\n",
       "    .dataframe thead th {\n",
       "        text-align: right;\n",
       "    }\n",
       "</style>\n",
       "<table border=\"1\" class=\"dataframe\">\n",
       "  <thead>\n",
       "    <tr style=\"text-align: right;\">\n",
       "      <th></th>\n",
       "      <th>description</th>\n",
       "      <th>neighborhood_overview</th>\n",
       "      <th>host_name</th>\n",
       "      <th>property_type</th>\n",
       "    </tr>\n",
       "  </thead>\n",
       "  <tbody>\n",
       "    <tr>\n",
       "      <th>0</th>\n",
       "      <td>Really quiet, spacious and safe, a nice place ...</td>\n",
       "      <td>The neighborhood is very green, quiet, safe an...</td>\n",
       "      <td>Xsjong</td>\n",
       "      <td>Private room in condo</td>\n",
       "    </tr>\n",
       "    <tr>\n",
       "      <th>1</th>\n",
       "      <td>Our cool and spacious loft is perfect for a st...</td>\n",
       "      <td>Our neighbourhood is ons of the most beautiful...</td>\n",
       "      <td>J &amp; R</td>\n",
       "      <td>Entire rental unit</td>\n",
       "    </tr>\n",
       "    <tr>\n",
       "      <th>2</th>\n",
       "      <td>Room to rent in my houseboat. The room has a p...</td>\n",
       "      <td>It is just outside the Jordan in between the c...</td>\n",
       "      <td>Nicole</td>\n",
       "      <td>Private room in boat</td>\n",
       "    </tr>\n",
       "    <tr>\n",
       "      <th>3</th>\n",
       "      <td>Spacious houseboat in Amsterdam, suitable for ...</td>\n",
       "      <td>The houseboat lies in an area with ± 200 house...</td>\n",
       "      <td>Danielle</td>\n",
       "      <td>Houseboat</td>\n",
       "    </tr>\n",
       "    <tr>\n",
       "      <th>4</th>\n",
       "      <td>Royal Bed &amp; Coffee Room with a very comfortabl...</td>\n",
       "      <td>The building is located in Amsterdam centre in...</td>\n",
       "      <td>Marcel</td>\n",
       "      <td>Private room in rental unit</td>\n",
       "    </tr>\n",
       "  </tbody>\n",
       "</table>\n",
       "</div>"
      ],
      "text/plain": [
       "                                         description  \\\n",
       "0  Really quiet, spacious and safe, a nice place ...   \n",
       "1  Our cool and spacious loft is perfect for a st...   \n",
       "2  Room to rent in my houseboat. The room has a p...   \n",
       "3  Spacious houseboat in Amsterdam, suitable for ...   \n",
       "4  Royal Bed & Coffee Room with a very comfortabl...   \n",
       "\n",
       "                               neighborhood_overview host_name  \\\n",
       "0  The neighborhood is very green, quiet, safe an...    Xsjong   \n",
       "1  Our neighbourhood is ons of the most beautiful...     J & R   \n",
       "2  It is just outside the Jordan in between the c...    Nicole   \n",
       "3  The houseboat lies in an area with ± 200 house...  Danielle   \n",
       "4  The building is located in Amsterdam centre in...    Marcel   \n",
       "\n",
       "                 property_type  \n",
       "0        Private room in condo  \n",
       "1           Entire rental unit  \n",
       "2         Private room in boat  \n",
       "3                    Houseboat  \n",
       "4  Private room in rental unit  "
      ]
     },
     "metadata": {},
     "output_type": "display_data"
    }
   ],
   "source": [
    "import pandas as pd\n",
    "import json\n",
    "\n",
    "# Read CSV file\n",
    "csv_file = './data/listings.csv'\n",
    "df = pd.read_csv(csv_file, usecols=['host_name',\n",
    "                                    'property_type',\n",
    "                                    'description',\n",
    "                                    'neighborhood_overview',\n",
    "                                    ])\n",
    "\n",
    "df.fillna('Unknown', inplace=True)\n",
    "\n",
    "display(df.head())"
   ]
  },
  {
   "cell_type": "markdown",
   "id": "cf847d76",
   "metadata": {},
   "source": [
    "## Prerequisites\n",
    "To be able to follow along and use any AWS services in the following tutorial, please make sure you have an [AWS account](https://signin.aws.amazon.com/signin?redirect_uri=https%3A%2F%2Fportal.aws.amazon.com%2Fbilling%2Fsignup%2Fresume&client_id=signup).\n",
    "\n",
    "## Step 1: Enable components of the AI-native technology stack\n",
    "First, you will need to enable the relevant components discussed in the solution overview in your AWS account. \n",
    "First, enable access to the Cohere Command and Embed foundation models available on Amazon Bedrock through the AWS Management Console. Navigate to the Model access page, click on Edit, and select the foundation models of your choice.\n",
    "\n",
    "Next, set up a Weaviate cluster. First, subscribe to the [Weaviate Kubernetes Cluster on AWS Marketplace](https://aws.amazon.com/marketplace/pp/prodview-cicacyv63r43i). Then, launch the software using a [CloudFormation template according to your preferred availability zone](https://weaviate.io/developers/weaviate/installation/aws-marketplace#aws-marketplace). The CloudFormation template is pre-filled with default values. To follow along in this guide, edit the following fields: \n",
    "* Stack name: Enter a stack name\n",
    "* Authentication: It is recommended to enable authentication by setting helmauthenticationtype to apikey and defining a helmauthenticationapikey.\n",
    "* Enabled modules: Make sure “tex2vec-aws” and “generative-aws” are present in the list of enabled modules within Weaviate. \n",
    "\n",
    "This template takes about 30 minutes to complete."
   ]
  },
  {
   "cell_type": "markdown",
   "id": "11420381",
   "metadata": {},
   "source": [
    "## Step 2: Connect to Weaviate\n",
    "On the SageMaker console, navigate to Notebook instances and create a new notebook instance. \n",
    "\n",
    "Then, install the Weaviate client package with the required dependencies:"
   ]
  },
  {
   "cell_type": "code",
   "execution_count": 4,
   "id": "b3ddd03a",
   "metadata": {},
   "outputs": [
    {
     "name": "stdout",
     "output_type": "stream",
     "text": [
      "Requirement already satisfied: weaviate-client in /opt/homebrew/lib/python3.11/site-packages (3.23.1)\n",
      "Requirement already satisfied: requests<=2.31.0,>=2.28.0 in /opt/homebrew/lib/python3.11/site-packages (from weaviate-client) (2.31.0)\n",
      "Requirement already satisfied: validators<=0.21.0,>=0.18.2 in /opt/homebrew/lib/python3.11/site-packages (from weaviate-client) (0.21.0)\n",
      "Requirement already satisfied: tqdm<5.0.0,>=4.59.0 in /opt/homebrew/lib/python3.11/site-packages (from weaviate-client) (4.66.1)\n",
      "Requirement already satisfied: authlib>=1.1.0 in /opt/homebrew/lib/python3.11/site-packages (from weaviate-client) (1.2.1)\n",
      "Requirement already satisfied: cryptography>=3.2 in /opt/homebrew/lib/python3.11/site-packages (from authlib>=1.1.0->weaviate-client) (41.0.4)\n",
      "Requirement already satisfied: charset-normalizer<4,>=2 in /opt/homebrew/lib/python3.11/site-packages (from requests<=2.31.0,>=2.28.0->weaviate-client) (2.0.12)\n",
      "Requirement already satisfied: idna<4,>=2.5 in /opt/homebrew/lib/python3.11/site-packages (from requests<=2.31.0,>=2.28.0->weaviate-client) (3.4)\n",
      "Requirement already satisfied: urllib3<3,>=1.21.1 in /opt/homebrew/lib/python3.11/site-packages (from requests<=2.31.0,>=2.28.0->weaviate-client) (1.26.17)\n",
      "Requirement already satisfied: certifi>=2017.4.17 in /opt/homebrew/lib/python3.11/site-packages (from requests<=2.31.0,>=2.28.0->weaviate-client) (2023.7.22)\n",
      "Requirement already satisfied: cffi>=1.12 in /opt/homebrew/lib/python3.11/site-packages (from cryptography>=3.2->authlib>=1.1.0->weaviate-client) (1.16.0)\n",
      "Requirement already satisfied: pycparser in /opt/homebrew/lib/python3.11/site-packages (from cffi>=1.12->cryptography>=3.2->authlib>=1.1.0->weaviate-client) (2.21)\n",
      "\n",
      "\u001b[1m[\u001b[0m\u001b[34;49mnotice\u001b[0m\u001b[1;39;49m]\u001b[0m\u001b[39;49m A new release of pip is available: \u001b[0m\u001b[31;49m23.2.1\u001b[0m\u001b[39;49m -> \u001b[0m\u001b[32;49m23.3.1\u001b[0m\n",
      "\u001b[1m[\u001b[0m\u001b[34;49mnotice\u001b[0m\u001b[1;39;49m]\u001b[0m\u001b[39;49m To update, run: \u001b[0m\u001b[32;49mpython3.11 -m pip install --upgrade pip\u001b[0m\n"
     ]
    }
   ],
   "source": [
    "!pip install weaviate-client"
   ]
  },
  {
   "cell_type": "markdown",
   "id": "819ca837",
   "metadata": {},
   "source": [
    "Now, you can connect to your Weaviate instance with the following code. You can find the relevant information as follows:\n",
    "* Weaviate URL: Access Weaviate via the load balancer URL. Go to the Services section of AWS, under EC2 > Load Balancers find the load balancer, and look for the DNS name column.\n",
    "* Weaviate API Key: This is the key you set earlier in the CloudFormation template (helmauthenticationapikey). \n",
    "* AWS Access Key: You can retrieve the access keys for your user in the AWS Identity and Access Management (IAM) Console."
   ]
  },
  {
   "cell_type": "code",
   "execution_count": 5,
   "id": "88a53dee",
   "metadata": {},
   "outputs": [
    {
     "data": {
      "text/plain": [
       "{'hostname': 'http://[::]:8080',\n",
       " 'modules': {'generative-aws': {'documentationHref': 'https://docs.aws.amazon.com/bedrock/latest/APIReference/welcome.html',\n",
       "   'name': 'Generative Search - AWS'},\n",
       "  'generative-cohere': {'documentationHref': 'https://docs.cohere.com/reference/generate',\n",
       "   'name': 'Generative Search - Cohere'},\n",
       "  'generative-openai': {'documentationHref': 'https://platform.openai.com/docs/api-reference/completions',\n",
       "   'name': 'Generative Search - OpenAI'},\n",
       "  'generative-palm': {'documentationHref': 'https://cloud.google.com/vertex-ai/docs/generative-ai/chat/test-chat-prompts',\n",
       "   'name': 'Generative Search - Google PaLM'},\n",
       "  'qna-openai': {'documentationHref': 'https://platform.openai.com/docs/api-reference/completions',\n",
       "   'name': 'OpenAI Question & Answering Module'},\n",
       "  'ref2vec-centroid': {},\n",
       "  'reranker-cohere': {'documentationHref': 'https://txt.cohere.com/rerank/',\n",
       "   'name': 'Reranker - Cohere'},\n",
       "  'text2vec-aws': {'documentationHref': 'https://cloud.google.com/vertex-ai/docs/generative-ai/embeddings/get-text-embeddings',\n",
       "   'name': 'AWS Module'},\n",
       "  'text2vec-cohere': {'documentationHref': 'https://docs.cohere.ai/embedding-wiki/',\n",
       "   'name': 'Cohere Module'},\n",
       "  'text2vec-huggingface': {'documentationHref': 'https://huggingface.co/docs/api-inference/detailed_parameters#feature-extraction-task',\n",
       "   'name': 'Hugging Face Module'},\n",
       "  'text2vec-openai': {'documentationHref': 'https://platform.openai.com/docs/guides/embeddings/what-are-embeddings',\n",
       "   'name': 'OpenAI Module'},\n",
       "  'text2vec-palm': {'documentationHref': 'https://cloud.google.com/vertex-ai/docs/generative-ai/embeddings/get-text-embeddings',\n",
       "   'name': 'Google PaLM Module'}},\n",
       " 'version': '1.22.5'}"
      ]
     },
     "execution_count": 5,
     "metadata": {},
     "output_type": "execute_result"
    }
   ],
   "source": [
    "import weaviate\n",
    "\n",
    "client = weaviate.Client(\n",
    "    url=\"<YOUR-WEAVIATE-URL>\",\n",
    "    auth_client_secret=weaviate.AuthApiKey(\n",
    "        api_key=\"<YOUR-WEAVIATE-API-KEY>\"),\n",
    "    additional_headers={\n",
    "        \"X-AWS-Access-Key\": \"<AWS-ACCESS-KEY>\",\n",
    "        \"X-AWS-Secret-Key\": \"<AWS-ACCESS-SECRET>\"\n",
    "    }\n",
    ")\n",
    "\n",
    "client.get_meta()"
   ]
  },
  {
   "cell_type": "markdown",
   "id": "9cdc2e12",
   "metadata": {},
   "source": [
    "## Step 3: Configure the Amazon Bedrock module to enable Cohere models\n",
    "\n",
    "Next, you will define a data collection (i.e., `class`) called `Listings` to store the listings’ data objects, which is analogous to creating a table in a relational database. In this step, you will configure the relevant modules to enable the usage of Cohere language models hosted on Amazon Bedrock natively from within the Weaviate vector database. The vectorizer (`\"text2vec-aws\"`) and generative module (` \"generative-aws\"`) are specified in the data collection definition. Both of these modules take three parameters:\n",
    "* `\"service\"`: `\"bedrock\"` for Amazon Bedrock (Alternatively, `\"sagemaker\"` for Amazon Sagemaker Jumpstart)\n",
    "* `\"Region\"`: The region where your model is deployed\n",
    "* `\"model\"`: The foundation model’s name"
   ]
  },
  {
   "cell_type": "code",
   "execution_count": 6,
   "id": "ba66b1a3",
   "metadata": {},
   "outputs": [],
   "source": [
    "collection_definition = {\n",
    "    \"class\": \"Listings\",\n",
    "    \"description\": \"AirBnb Listings\",\n",
    "    \"moduleConfig\": {\n",
    "        \"text2vec-aws\": {\n",
    "            \"service\": \"bedrock\",\n",
    "            \"region\": \"us-east-1\",\n",
    "            \"model\": \"cohere.embed-english-v3\",\n",
    "            \"vectorizeClassName\": False,\n",
    "\n",
    "        },\n",
    "        \"generative-aws\": {\n",
    "            \"service\": \"bedrock\",\n",
    "            \"region\": \"us-east-1\",\n",
    "            \"model\": \"cohere.command-text-v14\"\n",
    "        }\n",
    "    },\n",
    "    \"vectorizer\": \"text2vec-aws\",\n",
    "}"
   ]
  },
  {
   "cell_type": "markdown",
   "id": "8d5c6e9c",
   "metadata": {},
   "source": [
    "## Step 4: Ingest data into the Weaviate vector database \n",
    "In this step, you will also define the structure of the data collection by configuring its properties. Aside from the property’s name and data type, you can also configure if only the data object shall be stored or if it shall be stored together with its vector embeddings. In this example, `host_name` and `property_type` are not vectorized."
   ]
  },
  {
   "cell_type": "code",
   "execution_count": 7,
   "id": "93be0ee5",
   "metadata": {},
   "outputs": [],
   "source": [
    "collection_definition[\"properties\"] = [\n",
    "    {\n",
    "        \"name\": \"description\",\n",
    "        \"dataType\": [\"text\"],\n",
    "        \"description\": \"The description of the apartment listing\",\n",
    "    },\n",
    "    {\n",
    "        \"name\": \"host_name\",\n",
    "        \"dataType\": [\"text\"],\n",
    "                \"description\": \"The name of the host of the apartment listing\",\n",
    "                \"moduleConfig\": {\n",
    "                    \"text2vec-aws\": {\n",
    "                        \"skip\": True,\n",
    "                        \"vectorizePropertyName\": False,\n",
    "\n",
    "                    }\n",
    "        }\n",
    "    },\n",
    "    {\n",
    "        \"name\": \"neighborhood_overview\",\n",
    "        \"dataType\": [\"text\"],\n",
    "        \"description\": \"The description of  the neighbourhood of the apartment listing\",\n",
    "    },\n",
    "    {\n",
    "        \"name\": \"property_type\",\n",
    "                \"dataType\": [\"text\"],\n",
    "                \"description\": \"The type of property of the listing\",\n",
    "                \"moduleConfig\": {\n",
    "                    \"text2vec-aws\": {\n",
    "                        \"skip\": True,\n",
    "                        \"vectorizePropertyName\": False,\n",
    "                    }\n",
    "                }\n",
    "    },\n",
    "]"
   ]
  },
  {
   "cell_type": "markdown",
   "id": "8be773b9",
   "metadata": {},
   "source": [
    "Run the following code to create the collection in your Weaviate instance."
   ]
  },
  {
   "cell_type": "code",
   "execution_count": 8,
   "id": "34e73630",
   "metadata": {},
   "outputs": [
    {
     "data": {
      "text/plain": [
       "{'class': 'Listings',\n",
       " 'description': 'AirBnb Listings',\n",
       " 'invertedIndexConfig': {'bm25': {'b': 0.75, 'k1': 1.2},\n",
       "  'cleanupIntervalSeconds': 60,\n",
       "  'stopwords': {'additions': None, 'preset': 'en', 'removals': None}},\n",
       " 'moduleConfig': {'generative-aws': {'model': 'cohere.command-text-v14',\n",
       "   'region': 'us-east-1',\n",
       "   'service': 'bedrock'},\n",
       "  'text2vec-aws': {'model': 'cohere.embed-english-v3',\n",
       "   'region': 'us-east-1',\n",
       "   'service': 'bedrock',\n",
       "   'vectorizeClassName': False}},\n",
       " 'multiTenancyConfig': {'enabled': False},\n",
       " 'properties': [{'dataType': ['text'],\n",
       "   'description': 'The description of the apartment listing',\n",
       "   'indexFilterable': True,\n",
       "   'indexSearchable': True,\n",
       "   'moduleConfig': {'text2vec-aws': {'skip': False,\n",
       "     'vectorizePropertyName': False}},\n",
       "   'name': 'description',\n",
       "   'tokenization': 'word'},\n",
       "  {'dataType': ['text'],\n",
       "   'description': 'The name of the host of the apartment listing',\n",
       "   'indexFilterable': True,\n",
       "   'indexSearchable': True,\n",
       "   'moduleConfig': {'text2vec-aws': {'skip': True,\n",
       "     'vectorizePropertyName': False}},\n",
       "   'name': 'host_name',\n",
       "   'tokenization': 'word'},\n",
       "  {'dataType': ['text'],\n",
       "   'description': 'The description of  the neighbourhood of the apartment listing',\n",
       "   'indexFilterable': True,\n",
       "   'indexSearchable': True,\n",
       "   'moduleConfig': {'text2vec-aws': {'skip': False,\n",
       "     'vectorizePropertyName': False}},\n",
       "   'name': 'neighborhood_overview',\n",
       "   'tokenization': 'word'},\n",
       "  {'dataType': ['text'],\n",
       "   'description': 'The type of property of the listing',\n",
       "   'indexFilterable': True,\n",
       "   'indexSearchable': True,\n",
       "   'moduleConfig': {'text2vec-aws': {'skip': True,\n",
       "     'vectorizePropertyName': False}},\n",
       "   'name': 'property_type',\n",
       "   'tokenization': 'word'}],\n",
       " 'replicationConfig': {'factor': 1},\n",
       " 'shardingConfig': {'virtualPerPhysical': 128,\n",
       "  'desiredCount': 2,\n",
       "  'actualCount': 2,\n",
       "  'desiredVirtualCount': 256,\n",
       "  'actualVirtualCount': 256,\n",
       "  'key': '_id',\n",
       "  'strategy': 'hash',\n",
       "  'function': 'murmur3'},\n",
       " 'vectorIndexConfig': {'skip': False,\n",
       "  'cleanupIntervalSeconds': 300,\n",
       "  'maxConnections': 64,\n",
       "  'efConstruction': 128,\n",
       "  'ef': -1,\n",
       "  'dynamicEfMin': 100,\n",
       "  'dynamicEfMax': 500,\n",
       "  'dynamicEfFactor': 8,\n",
       "  'vectorCacheMaxObjects': 1000000000000,\n",
       "  'flatSearchCutoff': 40000,\n",
       "  'distance': 'cosine',\n",
       "  'pq': {'enabled': False,\n",
       "   'bitCompression': False,\n",
       "   'segments': 0,\n",
       "   'centroids': 256,\n",
       "   'trainingLimit': 100000,\n",
       "   'encoder': {'type': 'kmeans', 'distribution': 'log-normal'}}},\n",
       " 'vectorIndexType': 'hnsw',\n",
       " 'vectorizer': 'text2vec-aws'}"
      ]
     },
     "execution_count": 8,
     "metadata": {},
     "output_type": "execute_result"
    }
   ],
   "source": [
    "if client.schema.exists(\"Listings\"):\n",
    "    client.schema.delete_class(\"Listings\")\n",
    "\n",
    "client.schema.create_class(collection_definition)\n",
    "\n",
    "client.schema.get(\"Listings\")"
   ]
  },
  {
   "cell_type": "markdown",
   "id": "561a5203",
   "metadata": {},
   "source": [
    "You can now add objects to Weaviate. You will be using a batch import process for maximum efficiency. Run the code below to import data. During the import, Weaviate will use the defined vectorizer to create a vector embedding for each object. The following code loads objects initializes a batch process, and adds objects to the target collection one by one."
   ]
  },
  {
   "cell_type": "code",
   "execution_count": 9,
   "id": "7c44c4d8",
   "metadata": {},
   "outputs": [
    {
     "data": {
      "text/plain": [
       "{'data': {'Aggregate': {'Listings': [{'meta': {'count': 100}}]}}}"
      ]
     },
     "execution_count": 9,
     "metadata": {},
     "output_type": "execute_result"
    }
   ],
   "source": [
    "from weaviate.util import generate_uuid5\n",
    "\n",
    "client.batch.configure(batch_size=100)  # Configure batch\n",
    "\n",
    "# Initialize batch process\n",
    "with client.batch as batch:\n",
    "    for _, row in df.iterrows():\n",
    "        listing_object = {\n",
    "            \"description\": row[\"description\"],\n",
    "            \"host_name\": row[\"host_name\"],\n",
    "            \"neighborhood_overview\": row[\"neighborhood_overview\"],\n",
    "            \"property_type\": row[\"property_type\"],\n",
    "        }\n",
    "        batch.add_data_object(\n",
    "            class_name=\"Listings\",\n",
    "            data_object=listing_object,\n",
    "            uuid=generate_uuid5(listing_object)\n",
    "        )\n",
    "\n",
    "client.query.aggregate(\"Listings\").with_meta_count().do()"
   ]
  },
  {
   "cell_type": "markdown",
   "id": "d53cf711",
   "metadata": {},
   "source": [
    "## Step 5: Retrieval-Augmented Generation to generate targeted advertisements\n",
    "\n",
    "Finally, you can build a RAG pipeline by implementing a generative search query on your Weaviate instance. For this, you will first define a prompt template in the form of an f-string that can take in the user query (`{target_audience}`) directly and the additional context (`{{host_name}}`, `{{property_type}}`, `{{description}}`, `{{neighborhood_overview}}`) from the vector database at runtime.\n",
    "\n",
    "Next, you will run a generative search query. This prompts the defined generative model with a prompt that is comprised of the user query as well as the retrieved data. The following query retrieves one listing object (`.with_limit(1)`) from the `Listings` collection that is most similar to the user query (`.with_near_text({\"concepts\": target_audience})`). Then the user query (`target_audience`) and the retrieved listings properties (`[\"description\", \"neighborhood\", \"host_name\", \"property_type\"]`) are fed into the prompt template."
   ]
  },
  {
   "cell_type": "code",
   "execution_count": 10,
   "id": "4cd96000",
   "metadata": {},
   "outputs": [],
   "source": [
    "def generate_targeted_ad(target_audience):\n",
    "    generate_prompt = f\"\"\"You are a copywriter.\n",
    "    Write short advertisement for the following vacation stay.\n",
    "    Host: {{host_name}}\n",
    "    Property type: {{property_type}}\n",
    "    Description: {{description}}\n",
    "    Neighborhood: {{neighborhood_overview}}\n",
    "    Target audience: {target_audience}\n",
    "    \"\"\"\n",
    "    result = client.query\\\n",
    "        .get(\"Listings\", [\"description\", \"neighborhood_overview\", \"host_name\", \"property_type\"])\\\n",
    "        .with_near_text({\"concepts\": target_audience})\\\n",
    "        .with_limit(1)\\\n",
    "        .with_generate(single_prompt=generate_prompt)\\\n",
    "        .do()\n",
    "\n",
    "    return result"
   ]
  },
  {
   "cell_type": "markdown",
   "id": "3835d003",
   "metadata": {},
   "source": [
    "Below, you can see that the results for the `target_audience = “Family with small children”`."
   ]
  },
  {
   "cell_type": "code",
   "execution_count": 11,
   "id": "f2886886",
   "metadata": {},
   "outputs": [
    {
     "name": "stdout",
     "output_type": "stream",
     "text": [
      "Looking for a fun getaway for the whole family? Look no further than this loft in the heart of Amsterdam!    \n",
      "This 175 square meter home is perfect for kids, with plenty of space to run around and a safe, quiet neighborhood. Imagine the memories your little ones will make in this dynamic, fun city. \n",
      "\n",
      "And parents, you'll love it too! The loft comes with all the amenities you need, including cable TV, high-speed internet, a fully equipped kitchen (with two\n"
     ]
    }
   ],
   "source": [
    "result = generate_targeted_ad(\"Families with young children\")\n",
    "# print(json.dumps(result[\"data\"][\"Get\"][\"Listings\"], indent=4))\n",
    "print(result[\"data\"][\"Get\"][\"Listings\"][0]\n",
    "      [\"_additional\"][\"generate\"][\"singleResult\"])"
   ]
  },
  {
   "cell_type": "markdown",
   "id": "108cc702",
   "metadata": {},
   "source": [
    "Here is another example for an elderly couple."
   ]
  },
  {
   "cell_type": "code",
   "execution_count": 12,
   "id": "ccb71c13",
   "metadata": {},
   "outputs": [
    {
     "name": "stdout",
     "output_type": "stream",
     "text": [
      "Experience the magic of a romantic retreat on the water at the stylish and historic houseboat, Ms. Luctor!  \n",
      "Nestled in a central and peaceful location, this private room in a houseboat offers a unique and enchanting getaway for those seeking a truly special escape. From the moment you arrive, you'll be captivated by the breathtaking views and the charm of this beautifully restored vessel, which features a sleeping room, a deckhouse, and a wheelhouse adorned with all the modern comforts.\n",
      "\n"
     ]
    }
   ],
   "source": [
    "result = generate_targeted_ad(\"Elderly couple\")\n",
    "# print(json.dumps(result[\"data\"][\"Get\"][\"Listings\"], indent=4))\n",
    "print(result[\"data\"][\"Get\"][\"Listings\"][0]\n",
    "      [\"_additional\"][\"generate\"][\"singleResult\"])"
   ]
  }
 ],
 "metadata": {
  "kernelspec": {
   "display_name": "Python 3 (ipykernel)",
   "language": "python",
   "name": "python3"
  },
  "language_info": {
   "codemirror_mode": {
    "name": "ipython",
    "version": 3
   },
   "file_extension": ".py",
   "mimetype": "text/x-python",
   "name": "python",
   "nbconvert_exporter": "python",
   "pygments_lexer": "ipython3",
   "version": "3.11.4"
  }
 },
 "nbformat": 4,
 "nbformat_minor": 5
}
