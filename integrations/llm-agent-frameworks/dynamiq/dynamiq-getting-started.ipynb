{
  "cells": [
    {
      "cell_type": "markdown",
      "metadata": {},
      "source": [
        "[![Open In Colab](https://colab.research.google.com/assets/colab-badge.svg)](https://colab.research.google.com/github/weaviate/recipes/blob/main/integrations/llm-agent-frameworks/dynamiq/dynamiq-getting-started.ipynb)"
      ]
    },
    {
      "cell_type": "markdown",
      "metadata": {
        "id": "zNWpiE98eOnp"
      },
      "source": [
        "# Getting Started with Weaviate and Dynamiq"
      ]
    },
    {
      "cell_type": "markdown",
      "metadata": {
        "id": "hhYTG3jgh5Lc"
      },
      "source": [
        "This notebook demonstrates how to integrate the Weaviate vector database with the Dynamiq library. We’ll cover four essential topics:\n",
        "\n",
        "1. **Writing Documents to Weaviate**  \n",
        "\n",
        "2. **Retrieving Documents from Weaviate**  \n",
        "\n",
        "3. **Using the Weaviate as a Tool in an AI Agent**  \n",
        "\n",
        "4. **Managing the Weaviate Vector Store**  \n",
        "\n",
        "For more information visit: [Dynamiq GitHub](https://github.com/dynamiq-ai/dynamiq)"
      ]
    },
    {
      "cell_type": "markdown",
      "metadata": {
        "id": "cdbL6p_JeUcj"
      },
      "source": [
        "## Installation  \n",
        "\n",
        "First, ensure you have the `dynamiq` library installed:  \n",
        "\n",
        "```python\n",
        "!pip install dynamiq\n",
        "```  \n",
        "\n",
        "## Setting Up Weaviate  \n",
        "\n",
        "Before diving in, configure your Weaviate instance and set up the necessary environment variables:  \n",
        "\n",
        "- `WEAVIATE_URL` – The URL of your Weaviate instance;\n",
        "- `WEAVIATE_API_KEY` – Your API key for authentication;\n",
        "- `OPENAI_API_KEY`- The API key to OpenAI which we will need for this tutorial.\n",
        "\n",
        "```python\n",
        "import os\n",
        "os.environ[\"WEAVIATE_URL\"] = \"https://your-weaviate-instance.com\"\n",
        "os.environ[\"WEAVIATE_API_KEY\"] = \"your-api-key\"\n",
        "os.environ[\"OPENAI_API_KEY\"] = \"your-api-key\"\n",
        "```"
      ]
    },
    {
      "cell_type": "markdown",
      "metadata": {
        "id": "5hHHIwLuedVC"
      },
      "source": [
        "## Writing Documents to Weaviate\n",
        "\n",
        "Before we can retrieve data, we first need to store documents in Weaviate. The following workflow embeds and writes documents to Weaviate."
      ]
    },
    {
      "cell_type": "markdown",
      "metadata": {
        "id": "O7NqGHSkgZ_N"
      },
      "source": [
        "### Define the Writer Workflow"
      ]
    },
    {
      "cell_type": "code",
      "execution_count": null,
      "metadata": {
        "id": "GlxKE9LhecBf"
      },
      "outputs": [],
      "source": [
        "from dynamiq import Workflow\n",
        "from dynamiq.types import Document\n",
        "from dynamiq.nodes import InputTransformer\n",
        "from dynamiq.nodes.node import NodeDependency\n",
        "from dynamiq.nodes.embedders import OpenAIDocumentEmbedder\n",
        "from dynamiq.nodes.writers import WeaviateDocumentWriter\n",
        "\n",
        "def define_writer_workflow() -> Workflow:\n",
        "    \"\"\"Defines a workflow for embedding and writing documents to Weaviate.\"\"\"\n",
        "    docs_embedder = OpenAIDocumentEmbedder()\n",
        "\n",
        "    writer_node = WeaviateDocumentWriter(\n",
        "        index_name=\"Default\",\n",
        "        create_if_not_exist=True,\n",
        "        depends=[\n",
        "            NodeDependency(docs_embedder),\n",
        "        ],\n",
        "        input_transformer=InputTransformer(\n",
        "            selector={\n",
        "                \"documents\": f\"${[docs_embedder.id]}.output.documents\",\n",
        "            },\n",
        "        ),\n",
        "    )\n",
        "\n",
        "    wf = Workflow()\n",
        "    wf.flow.add_nodes(docs_embedder)\n",
        "    wf.flow.add_nodes(writer_node)\n",
        "    return wf"
      ]
    },
    {
      "cell_type": "markdown",
      "metadata": {
        "id": "QciMDPHUgcq2"
      },
      "source": [
        "### Add Documents"
      ]
    },
    {
      "cell_type": "code",
      "execution_count": null,
      "metadata": {
        "colab": {
          "base_uri": "https://localhost:8080/"
        },
        "id": "Mid0plbCgT-6",
        "outputId": "853470ae-1fcc-400b-9399-a3936054b8d4"
      },
      "outputs": [
        {
          "name": "stderr",
          "output_type": "stream",
          "text": [
            "INFO:dynamiq.utils.logger:Workflow b37f284b-e22e-4137-9b6b-9d810988053f: execution started.\n",
            "INFO:dynamiq.utils.logger:Flow 2e936e8f-d342-4510-b1d2-d44718063fc7: execution started.\n",
            "INFO:dynamiq.utils.logger:Node OpenAIDocumentEmbedder - 3bdf31f4-08c2-4545-ab17-69cf49f7c72d: execution started.\n",
            "INFO:dynamiq.utils.logger:Node OpenAIDocumentEmbedder - 3bdf31f4-08c2-4545-ab17-69cf49f7c72d: execution succeeded in 544ms.\n",
            "INFO:dynamiq.utils.logger:Node WeaviateDocumentWriter - 3134f474-8bd5-4993-b8c2-4d3b3b4aeea9: execution started.\n",
            "INFO:dynamiq.utils.logger:Node WeaviateDocumentWriter - 3134f474-8bd5-4993-b8c2-4d3b3b4aeea9: execution succeeded in 310ms.\n",
            "INFO:dynamiq.utils.logger:Flow 2e936e8f-d342-4510-b1d2-d44718063fc7: execution succeeded in 869ms.\n",
            "INFO:dynamiq.utils.logger:Workflow b37f284b-e22e-4137-9b6b-9d810988053f: execution succeeded in 872ms.\n"
          ]
        }
      ],
      "source": [
        "documents = [\n",
        "    Document(content=\"London is the capital of Great Britain.\", metadata={\"country\": \"England\", \"topic\": \"Geography\"}),\n",
        "    Document(content=\"Ottawa is the capital of Canada.\", metadata={\"country\": \"Canada\", \"topic\": \"Geography\"}),\n",
        "    Document(content=\"An adjective is a word that describes or defines a noun or noun phrase.\", metadata={\"topic\": \"English language\"}),\n",
        "    Document(content=\"A verb is a word that describes an action, state, or occurrence\", metadata={\"topic\": \"English language\"}),\n",
        "]\n",
        "\n",
        "wf = define_writer_workflow()\n",
        "result = wf.run(input_data={\"documents\": documents})"
      ]
    },
    {
      "cell_type": "code",
      "execution_count": null,
      "metadata": {
        "colab": {
          "base_uri": "https://localhost:8080/"
        },
        "id": "xsRB2xvYgvbl",
        "outputId": "b3ddfe4d-f009-4e30-960e-4d8cbdad792d"
      },
      "outputs": [
        {
          "name": "stdout",
          "output_type": "stream",
          "text": [
            "Result status: RunnableStatus.SUCCESS\n",
            "Number of upserted documents: 4\n"
          ]
        }
      ],
      "source": [
        "print(f'Result status: {result.status}')\n",
        "print(f'Number of upserted documents: {result.output[wf.flow.nodes[-1].id].get(\"output\", {}).get(\"upserted_count\")}')"
      ]
    },
    {
      "cell_type": "markdown",
      "metadata": {
        "id": "bpM4MTsIjZVq"
      },
      "source": [
        "## Retrieving Documents from Weaviate\n",
        "\n",
        "Once documents are stored, we can retrieve relevant ones using a query."
      ]
    },
    {
      "cell_type": "markdown",
      "metadata": {
        "id": "Qc7iNYBGjk7a"
      },
      "source": [
        "### Define the Retriever Workflow"
      ]
    },
    {
      "cell_type": "code",
      "execution_count": null,
      "metadata": {
        "id": "XFfTcG4-jhZE"
      },
      "outputs": [],
      "source": [
        "from dynamiq import Workflow\n",
        "from dynamiq.nodes import InputTransformer\n",
        "from dynamiq.nodes.node import NodeDependency\n",
        "from dynamiq.nodes.embedders import OpenAITextEmbedder\n",
        "from dynamiq.nodes.retrievers import WeaviateDocumentRetriever\n",
        "\n",
        "\n",
        "def define_retriever_workflow() -> Workflow:\n",
        "    \"\"\"Defines a workflow for embedding a query and retrieving documents from Weaviate.\"\"\"\n",
        "    text_embedder = OpenAITextEmbedder()\n",
        "\n",
        "    retriever_node = WeaviateDocumentRetriever(\n",
        "        index_name=\"Default\",\n",
        "        depends=[\n",
        "            NodeDependency(text_embedder),\n",
        "        ],\n",
        "        input_transformer=InputTransformer(\n",
        "            selector={\n",
        "                \"embedding\": f\"${[text_embedder.id]}.output.embedding\",\n",
        "                \"top_k\": \"$.max_number_retrieves\"\n",
        "            },\n",
        "        ),\n",
        "        filters={\n",
        "            \"operator\": \"OR\",\n",
        "            \"conditions\": [\n",
        "                {\"field\": \"country\", \"operator\": \"==\", \"value\": \"England\"},\n",
        "                {\"field\": \"country\", \"operator\": \"==\", \"value\": \"Canada\"},\n",
        "            ],\n",
        "        },\n",
        "    )\n",
        "\n",
        "    wf = Workflow()\n",
        "    wf.flow.add_nodes(text_embedder)\n",
        "    wf.flow.add_nodes(retriever_node)\n",
        "    return wf"
      ]
    },
    {
      "cell_type": "markdown",
      "metadata": {
        "id": "I8ZMR_qbjuU-"
      },
      "source": [
        "### Query the Database"
      ]
    },
    {
      "cell_type": "code",
      "execution_count": null,
      "metadata": {
        "colab": {
          "base_uri": "https://localhost:8080/"
        },
        "id": "dViDC-R_jtUx",
        "outputId": "c120b103-ab90-43ca-f0b0-7c44f5031bff"
      },
      "outputs": [
        {
          "name": "stderr",
          "output_type": "stream",
          "text": [
            "INFO:dynamiq.utils.logger:Workflow 24089359-0174-4a16-b412-03cda9912a8c: execution started.\n",
            "INFO:dynamiq.utils.logger:Flow 9e986524-203c-4938-aa54-f0b6b9ea8595: execution started.\n",
            "INFO:dynamiq.utils.logger:Node OpenAITextEmbedder - 3993cad5-0527-44b5-8c5f-a2b768d266c2: execution started.\n",
            "INFO:dynamiq.utils.logger:Node OpenAITextEmbedder - 3993cad5-0527-44b5-8c5f-a2b768d266c2: execution succeeded in 286ms.\n",
            "INFO:dynamiq.utils.logger:Node WeaviateDocumentRetriever - b26603fa-cf70-4549-96fe-367c9fdf5f48: execution started.\n",
            "INFO:dynamiq.utils.logger:Node WeaviateDocumentRetriever - b26603fa-cf70-4549-96fe-367c9fdf5f48: execution succeeded in 262ms.\n",
            "INFO:dynamiq.utils.logger:Flow 9e986524-203c-4938-aa54-f0b6b9ea8595: execution succeeded in 608ms.\n",
            "INFO:dynamiq.utils.logger:Workflow 24089359-0174-4a16-b412-03cda9912a8c: execution succeeded in 610ms.\n"
          ]
        }
      ],
      "source": [
        "wf = define_retriever_workflow()\n",
        "result = wf.run(input_data={\"query\": \"Where is Ottawa?\", \"max_number_retrieves\": 1})"
      ]
    },
    {
      "cell_type": "code",
      "execution_count": null,
      "metadata": {
        "colab": {
          "base_uri": "https://localhost:8080/"
        },
        "id": "wO1TlQ3nj3nJ",
        "outputId": "aaec5793-d4b3-430c-9f8c-07e4f1fa0a20"
      },
      "outputs": [
        {
          "name": "stdout",
          "output_type": "stream",
          "text": [
            "Number of retrieved documents: 1\n",
            "Content of the most relevant document: Ottawa is the capital of Canada.\n"
          ]
        }
      ],
      "source": [
        "retrieved_docs = result.output[wf.flow.nodes[-1].id].get(\"output\", {}).get(\"documents\")\n",
        "print(f'Number of retrieved documents: {len(retrieved_docs)}')\n",
        "print(f'Content of the most relevant document: {retrieved_docs[0][\"content\"]}')"
      ]
    },
    {
      "cell_type": "markdown",
      "metadata": {
        "id": "Tn1fr-8GkpWD"
      },
      "source": [
        "## Using the Retriever as a Tool in an LLM Agent\n",
        "\n",
        "We can integrate Weaviate into an AI assistant using Dynamiq’s ReActAgent."
      ]
    },
    {
      "cell_type": "markdown",
      "metadata": {
        "id": "TJOhJpeTlB34"
      },
      "source": [
        "### Define the Agent Workflow"
      ]
    },
    {
      "cell_type": "code",
      "execution_count": null,
      "metadata": {
        "id": "GQxQ-J5hkgp6"
      },
      "outputs": [],
      "source": [
        "from dynamiq import Workflow\n",
        "from dynamiq.nodes.embedders import OpenAITextEmbedder\n",
        "from dynamiq.nodes.retrievers import WeaviateDocumentRetriever, VectorStoreRetriever\n",
        "from dynamiq.nodes.llms.openai import OpenAI\n",
        "from dynamiq.nodes.agents.react import ReActAgent\n",
        "\n",
        "\n",
        "def define_agent_workflow() -> Workflow:\n",
        "    \"\"\"Defines a workflow that integrates a Weaviate retriever as a tool within an AI agent.\"\"\"\n",
        "    text_embedder = OpenAITextEmbedder()\n",
        "\n",
        "    retriever_node = WeaviateDocumentRetriever(\n",
        "        index_name=\"Default\",\n",
        "        top_k=5\n",
        "    )\n",
        "\n",
        "    retriever_node_as_tool = VectorStoreRetriever(\n",
        "        text_embedder=text_embedder,\n",
        "        document_retriever=retriever_node,\n",
        "        is_optimized_for_agents=True,\n",
        "    )\n",
        "\n",
        "    agent = ReActAgent(\n",
        "        llm=OpenAI(model='gpt-4o'),\n",
        "        tools=[retriever_node_as_tool],\n",
        "        role=\"AI assistant with access to custom database\",\n",
        "    )\n",
        "\n",
        "    wf = Workflow()\n",
        "    wf.flow.add_nodes(agent)\n",
        "    return wf"
      ]
    },
    {
      "cell_type": "markdown",
      "metadata": {
        "id": "sn9Excg6lqO6"
      },
      "source": [
        "### Run the AI agent"
      ]
    },
    {
      "cell_type": "code",
      "execution_count": null,
      "metadata": {
        "colab": {
          "base_uri": "https://localhost:8080/"
        },
        "id": "FBy1kYPUlUwO",
        "outputId": "48a15a4c-1d01-44bd-dc87-adcfc85c9e5e"
      },
      "outputs": [
        {
          "name": "stderr",
          "output_type": "stream",
          "text": [
            "INFO:dynamiq.utils.logger:Workflow 9dc534f5-761b-4c72-b76d-c2b3ef88f48d: execution started.\n",
            "INFO:dynamiq.utils.logger:Flow f6508eec-086d-488d-8da8-7885b262a367: execution started.\n",
            "INFO:dynamiq.utils.logger:Node React Agent - 13e772c1-5629-405a-82fa-fac776b85415: execution started.\n",
            "INFO:dynamiq.utils.logger:Agent React Agent - 13e772c1-5629-405a-82fa-fac776b85415: started with input {'input': 'Which countries are mentioned in the database?', 'images': None, 'files': None, 'user_id': None, 'session_id': None, 'metadata': {}, 'tool_params': ToolParams(global_params={}, by_name_params={}, by_id_params={})}\n",
            "INFO:dynamiq.utils.logger:Node LLM - bd019481-76b8-43e4-b9e5-9079bec5448e: execution started.\n",
            "INFO:dynamiq.utils.logger:Node LLM - bd019481-76b8-43e4-b9e5-9079bec5448e: execution succeeded in 1.1s.\n",
            "INFO:dynamiq.utils.logger:Agent React Agent - 13e772c1-5629-405a-82fa-fac776b85415: Loop 1, reasoning:\n",
            "Thought: To find out which countries are mentioned in the database, I need to perform a query to retrieve relevant documents that might list or mention countries.\n",
            "\n",
            "Action: VectorStore-Retriever\n",
            "Action...\n",
            "INFO:dynamiq.utils.logger:\n",
            "------------------------------------------\n",
            "Agent React Agent: Loop 1:\n",
            "Thought: To find out which countries are mentioned in the database, I need to perform a query to retrieve relevant documents that might list or mention countries.\n",
            "Action: VectorStore-Retriever\n",
            "Action Input: {'query': 'countries mentioned', 'alpha': 0.5, 'filters': {}, 'top_k': 10}\n",
            "------------------------------------------\n",
            "INFO:dynamiq.utils.logger:Node VectorStore Retriever - d8a11e83-fb03-44c0-a7d5-556594841d85: execution started.\n",
            "INFO:dynamiq.utils.logger:Tool VectorStore Retriever - d8a11e83-fb03-44c0-a7d5-556594841d85: started with INPUT DATA:\n",
            "{'query': 'countries mentioned', 'alpha': 0.5, 'filters': {}, 'top_k': 10}\n",
            "INFO:dynamiq.utils.logger:Node OpenAITextEmbedder - 09b51ffc-962b-437d-a0c0-89b0a4cfa04c: execution started.\n",
            "INFO:dynamiq.utils.logger:Node OpenAITextEmbedder - 09b51ffc-962b-437d-a0c0-89b0a4cfa04c: execution succeeded in 288ms.\n",
            "INFO:dynamiq.utils.logger:Node WeaviateDocumentRetriever - ca0bf41a-15ce-40ba-a0fa-2649f96e885a: execution started.\n",
            "INFO:dynamiq.utils.logger:Node WeaviateDocumentRetriever - ca0bf41a-15ce-40ba-a0fa-2649f96e885a: execution succeeded in 212ms.\n",
            "INFO:dynamiq.utils.logger:Tool VectorStore Retriever - d8a11e83-fb03-44c0-a7d5-556594841d85: finished with RESULT:\n",
            "Source 1\n",
            "Content: Ottawa is the capital of Canada.\n",
            "\n",
            "\n",
            "Source 2\n",
            "Content: London is the capital of Great Britain.\n",
            "\n",
            "\n",
            "Source 3\n",
            "Content: A verb is a word that describes an action, state, or occurrence\n",
            "\n",
            "\n",
            "Sou...\n",
            "INFO:dynamiq.utils.logger:Node VectorStore Retriever - d8a11e83-fb03-44c0-a7d5-556594841d85: execution succeeded in 508ms.\n",
            "INFO:dynamiq.utils.logger:Node LLM - bd019481-76b8-43e4-b9e5-9079bec5448e: execution started.\n",
            "INFO:dynamiq.utils.logger:Node LLM - bd019481-76b8-43e4-b9e5-9079bec5448e: execution succeeded in 761ms.\n",
            "INFO:dynamiq.utils.logger:Agent React Agent - 13e772c1-5629-405a-82fa-fac776b85415: Loop 2, reasoning:\n",
            "Thought: The retrieved documents mention Canada and Great Britain. These are the countries mentioned in the database.\n",
            "\n",
            "Answer: The countries mentioned in the database are Canada and Great Britain....\n",
            "INFO:dynamiq.utils.logger:\n",
            "------------------------------------------\n",
            "Agent React Agent: Loop 3\n",
            "Final answer: The countries mentioned in the database are Canada and Great Britain.\n",
            "------------------------------------------\n",
            "\n",
            "INFO:dynamiq.utils.logger:Node React Agent - 13e772c1-5629-405a-82fa-fac776b85415: finished with RESULT:\n",
            "The countries mentioned in the database are Canada and Great Britain....\n",
            "INFO:dynamiq.utils.logger:Node React Agent - 13e772c1-5629-405a-82fa-fac776b85415: execution succeeded in 2.4s.\n",
            "INFO:dynamiq.utils.logger:Flow f6508eec-086d-488d-8da8-7885b262a367: execution succeeded in 2.4s.\n",
            "INFO:dynamiq.utils.logger:Workflow 9dc534f5-761b-4c72-b76d-c2b3ef88f48d: execution succeeded in 2.4s.\n"
          ]
        }
      ],
      "source": [
        "wf = define_agent_workflow()\n",
        "result = wf.run(input_data={\"input\": \"Which countries are mentioned in the database?\"})"
      ]
    },
    {
      "cell_type": "code",
      "execution_count": null,
      "metadata": {
        "colab": {
          "base_uri": "https://localhost:8080/"
        },
        "id": "3QPen9m9ls6n",
        "outputId": "0e82dd6f-2adc-471d-d5cd-779e77d097a7"
      },
      "outputs": [
        {
          "name": "stdout",
          "output_type": "stream",
          "text": [
            "The countries mentioned in the database are Canada and Great Britain.\n"
          ]
        }
      ],
      "source": [
        "print(result.output[wf.flow.nodes[-1].id].get('output', {}).get('content'))"
      ]
    },
    {
      "cell_type": "markdown",
      "metadata": {
        "id": "KHH_nmaCl8Np"
      },
      "source": [
        "## Managing the Weaviate Vector Store\n",
        "\n",
        "You can additionaly manage Weaviate using its vector store functionality.\n"
      ]
    },
    {
      "cell_type": "markdown",
      "metadata": {
        "id": "9I0t6ZgjuYAL"
      },
      "source": [
        "Below are a few basic operations you can perform, including counting, listing, and deleting documents."
      ]
    },
    {
      "cell_type": "code",
      "execution_count": null,
      "metadata": {
        "colab": {
          "base_uri": "https://localhost:8080/"
        },
        "id": "dqTrtQFDlxY2",
        "outputId": "d05ca1bd-9681-473c-a279-0d37ef39518e"
      },
      "outputs": [
        {
          "name": "stdout",
          "output_type": "stream",
          "text": [
            "Number of documents in vector store: 4\n",
            "\n",
            "Documents:\n",
            "0. An adjective is a word that describes or defines a noun or noun phrase.\n",
            "1. Ottawa is the capital of Canada.\n",
            "2. London is the capital of Great Britain.\n",
            "3. A verb is a word that describes an action, state, or occurrence\n"
          ]
        }
      ],
      "source": [
        "from dynamiq.storages.vector import WeaviateVectorStore\n",
        "\n",
        "vectore_store = WeaviateVectorStore(index_name = \"Default\")\n",
        "print(f\"Number of documents in vector store: {vectore_store.count_documents()}\")\n",
        "\n",
        "print('\\nDocuments:')\n",
        "list_documents = vectore_store.list_documents(include_embeddings=False)\n",
        "for idx, doc in enumerate(list_documents):\n",
        "  print(f'{idx}. {doc.content}')"
      ]
    },
    {
      "cell_type": "code",
      "execution_count": null,
      "metadata": {
        "colab": {
          "base_uri": "https://localhost:8080/"
        },
        "id": "o3LnQxPOpuwb",
        "outputId": "fc01c738-a990-4fc2-9927-8789a892bfe6"
      },
      "outputs": [
        {
          "name": "stdout",
          "output_type": "stream",
          "text": [
            "Deleting documents where the metadata field 'country' is set to 'England'...\n",
            "Number of documents in vector store: 3\n",
            "\n",
            "Deleting all documents from the vector store...\n",
            "Number of documents in vector store: 0\n"
          ]
        }
      ],
      "source": [
        "print(\"Deleting documents where the metadata field 'country' is set to 'England'...\")\n",
        "vectore_store.delete_documents_by_filters({\"field\": \"country\", \"operator\": \"==\", \"value\": \"England\"})\n",
        "print(f\"Number of documents in vector store: {vectore_store.count_documents()}\")\n",
        "\n",
        "print(\"\\nDeleting all documents from the vector store...\")\n",
        "vectore_store.delete_documents(delete_all=True)\n",
        "print(f\"Number of documents in vector store: {vectore_store.count_documents()}\")"
      ]
    }
  ],
  "metadata": {
    "colab": {
      "provenance": [],
      "toc_visible": true
    },
    "kernelspec": {
      "display_name": "Python 3",
      "name": "python3"
    },
    "language_info": {
      "name": "python"
    }
  },
  "nbformat": 4,
  "nbformat_minor": 0
}
