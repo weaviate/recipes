{
  "cells": [
    {
      "cell_type": "markdown",
      "metadata": {},
      "source": [
        "[![Open In Colab](https://colab.research.google.com/assets/colab-badge.svg)](https://colab.research.google.com/github/weaviate/recipes/blob/main/integrations/llm-agent-frameworks/dynamiq/dynamiq-research-workflow.ipynb)"
      ]
    },
    {
      "cell_type": "markdown",
      "metadata": {
        "id": "_MduQ9ZDAWeq"
      },
      "source": [
        "# Research and Report Generation using Weaviate and Dynamiq"
      ]
    },
    {
      "cell_type": "markdown",
      "metadata": {
        "id": "kYoIOlcn3yEL"
      },
      "source": [
        "This notebook demonstrates how to leverage the Dynamiq library with Weaviate to automate the process of conducting research, storing retrieved information, and generating structured reports based on stored data."
      ]
    },
    {
      "cell_type": "markdown",
      "metadata": {
        "id": "ueyYz2YYpnIP"
      },
      "source": [
        "### Installation  \n",
        "\n",
        "First, ensure you have the `dynamiq` library installed:  \n",
        "\n",
        "```python\n",
        "!pip install dynamiq\n",
        "```  \n",
        "\n",
        "### Setting Up Weaviate  \n",
        "\n",
        "Before diving in, configure your Weaviate instance and set up the necessary environment variables:  \n",
        "\n",
        "- `WEAVIATE_URL` – The URL of your Weaviate instance;\n",
        "- `WEAVIATE_API_KEY` – Your API key for authentication;\n",
        "- `OPENAI_API_KEY`- The API key to OpenAI;\n",
        "- `TAVILY_API_KEY` - The API key for Tavily (https://tavily.com/), the tool we will use for web search.\n",
        "\n",
        "```python\n",
        "import os\n",
        "os.environ[\"WEAVIATE_URL\"] = \"https://your-weaviate-instance.com\"\n",
        "os.environ[\"WEAVIATE_API_KEY\"] = \"your-api-key\"\n",
        "os.environ[\"OPENAI_API_KEY\"] = \"your-api-key\"\n",
        "os.environ[\"TAVILY_API_KEY\"] = \"your-api-key\"\n",
        "```"
      ]
    },
    {
      "cell_type": "code",
      "execution_count": 5,
      "metadata": {
        "id": "YuusJttsa9cI"
      },
      "outputs": [],
      "source": [
        "from dynamiq import Workflow\n",
        "from dynamiq.connections import Weaviate, Tavily, OpenAI as OpenAIConnection\n",
        "from dynamiq.prompts import Message, Prompt\n",
        "from dynamiq.nodes.llms import OpenAI\n",
        "from dynamiq.nodes.agents import ReActAgent\n",
        "from dynamiq.nodes.node import InputTransformer, NodeDependency\n",
        "from dynamiq.nodes.operators import Map\n",
        "from dynamiq.nodes.tools import Python, TavilyTool\n",
        "from dynamiq.nodes.embedders import OpenAIDocumentEmbedder, OpenAITextEmbedder\n",
        "from dynamiq.nodes.writers import WeaviateDocumentWriter\n",
        "from dynamiq.nodes.retrievers import WeaviateDocumentRetriever, VectorStoreRetriever"
      ]
    },
    {
      "cell_type": "markdown",
      "metadata": {
        "id": "-dCEnszLpRdS"
      },
      "source": [
        "# Step 0: Define a Topic for Research"
      ]
    },
    {
      "cell_type": "code",
      "execution_count": 110,
      "metadata": {
        "id": "U3pflyc_pTHQ"
      },
      "outputs": [],
      "source": [
        "USER_QUERY = \"How big is Nvidia?\""
      ]
    },
    {
      "cell_type": "markdown",
      "metadata": {
        "id": "T93VUeE2pNqO"
      },
      "source": [
        "# Step 1: Conduct research and store data in Weaviate"
      ]
    },
    {
      "cell_type": "markdown",
      "metadata": {
        "id": "NYFRfIMH1V-j"
      },
      "source": [
        "The research workflow is designed to search for information based on a user query, refine the results, and store them in Weaviate for future retrieval.\n",
        "\n",
        "The steps include:\n",
        "1. **Generate several search queries** to maximize search coverage.\n",
        "2. **Execute searches with Tavily** using the generated queries.  \n",
        "3. **Extract and structure search results** into documents.  \n",
        "4. **Embed documents** for efficient vector-based retrieval.  \n",
        "5. **Store processed data** in Weaviate for seamless long-term access."
      ]
    },
    {
      "cell_type": "code",
      "execution_count": 64,
      "metadata": {
        "id": "wv1p-4VMZJWJ"
      },
      "outputs": [],
      "source": [
        "def create_research_workflow():\n",
        "    \"\"\"Creates a research workflow that searches for information and stores it in Weaviate.\"\"\"\n",
        "\n",
        "    # Node 1: Generate several search queries based on task\n",
        "    generate_queries = OpenAI(\n",
        "        name=\"Generate Sub-Queries\",\n",
        "        id=\"generate_queries\",\n",
        "        model=\"gpt-4o-mini\",\n",
        "        connection=OpenAIConnection(),\n",
        "        prompt=Prompt(messages=[Message(role=\"user\", content=\"\"\"\n",
        "You are a skilled research assistant generating web search queries to gather objective and comprehensive information on the following task:\n",
        "\n",
        "\"{{query}}\"\n",
        "\n",
        "Generate 5 diverse and precise search queries that account for:\n",
        "- Relevant keywords and concepts from the task\n",
        "- Recent events, updates, or contextual details that may impact the search\n",
        "- Different angles or perspectives to ensure a well-rounded understanding\n",
        "\n",
        "Your response must be a **LIST format* containing only the search queries, like this:\n",
        "\n",
        "[\"query_1\", \"query_2\", \"query_3\", \"query_4\", \"query_5\"]\n",
        "\"\"\")]),\n",
        "        input_transformer=InputTransformer(selector={\"query\": \"$.input\"})\n",
        "    )\n",
        "\n",
        "    # Node 2: Parse the generated queries\n",
        "    parse_queries = Python(\n",
        "        name=\"Parse Sub-Queries\",\n",
        "        id=\"parse_queries\",\n",
        "        code=\"\"\"\n",
        "def run(input_data):\n",
        "    queries = input_data[\"queries\"].strip('[').strip(']').split(',')\n",
        "    return [{\"query\": q.strip().strip('\"').strip(\"'\")} for q in queries]\n",
        "\"\"\",\n",
        "        input_transformer=InputTransformer(selector={\"queries\": f\"${[generate_queries.id]}.output.content\"}),\n",
        "        depends=[NodeDependency(generate_queries)],\n",
        "    )\n",
        "\n",
        "    # Node 3: Search the web using generated queries\n",
        "    search_queries = Map(\n",
        "        name=\"Search Sub-Queries\",\n",
        "        id=\"search_queries\",\n",
        "        node=TavilyTool(name=\"Search Query\", connection=Tavily()),\n",
        "        input_transformer=InputTransformer(selector={\"input\": f\"${[parse_queries.id]}.output.content\"}),\n",
        "        depends=[NodeDependency(parse_queries)],\n",
        "    )\n",
        "\n",
        "    # Node 4: Convert search results into documents\n",
        "    convert_to_documents = Python(\n",
        "        name=\"Convert to Documents\",\n",
        "        id=\"convert_to_documents\",\n",
        "        code=\"\"\"\n",
        "def run(input_data):\n",
        "    from dynamiq.types import Document\n",
        "    documents = []\n",
        "    for query_result in input_data['content']:\n",
        "        for el in query_result['content']['raw_response']['results']:\n",
        "            doc = Document(content=el['content'], metadata={\"url\": el['url']})\n",
        "            documents.append(doc)\n",
        "    return {'documents': documents}\n",
        "\"\"\",\n",
        "        input_transformer=InputTransformer(selector={\"content\": f\"${[search_queries.id]}.output.output\"}),\n",
        "        depends=[NodeDependency(search_queries)],\n",
        "    )\n",
        "\n",
        "    # Node 5: Embed the documents for retrieval\n",
        "    embed_documents = OpenAIDocumentEmbedder(\n",
        "        name=\"Embed Documents\",\n",
        "        id=\"embed_documents\",\n",
        "        connection=OpenAIConnection(),\n",
        "        input_transformer=InputTransformer(\n",
        "            selector={\"documents\": f\"${[convert_to_documents.id]}.output.content.documents\"}),\n",
        "        depends=[NodeDependency(convert_to_documents)],\n",
        "    )\n",
        "\n",
        "    # Node 6: Store the embedded documents in Weaviate\n",
        "    store_documents = WeaviateDocumentWriter(\n",
        "        name=\"Store Documents\",\n",
        "        id=\"store_documents\",\n",
        "        connection=Weaviate(),\n",
        "        index_name=\"Default\",\n",
        "        create_if_not_exist=True,\n",
        "        input_transformer=InputTransformer(selector={\"documents\": f\"${[embed_documents.id]}.output.documents\"}),\n",
        "        depends=[NodeDependency(embed_documents)],\n",
        "    )\n",
        "\n",
        "    # Create and return the workflow\n",
        "    workflow = Workflow()\n",
        "    for node in [\n",
        "        generate_queries,\n",
        "        parse_queries,\n",
        "        search_queries,\n",
        "        convert_to_documents,\n",
        "        embed_documents,\n",
        "        store_documents,\n",
        "    ]:\n",
        "        workflow.flow.add_nodes(node)\n",
        "\n",
        "    return workflow"
      ]
    },
    {
      "cell_type": "code",
      "execution_count": 65,
      "metadata": {
        "colab": {
          "base_uri": "https://localhost:8080/"
        },
        "id": "1ufrLIhwpJCP",
        "outputId": "adaba182-ed90-4675-803b-ec286e132557"
      },
      "outputs": [
        {
          "name": "stderr",
          "output_type": "stream",
          "text": [
            "INFO:dynamiq.utils.logger:Workflow 0411b1e0-e72f-4244-9268-bfe7431cddb7: execution started.\n",
            "INFO:dynamiq.utils.logger:Flow d4ac5a94-5605-49ac-b795-55717354d6cf: execution started.\n",
            "INFO:dynamiq.utils.logger:Node Generate Sub-Queries - generate_queries: execution started.\n",
            "INFO:dynamiq.utils.logger:Node Generate Sub-Queries - generate_queries: execution succeeded in 1.3s.\n",
            "INFO:dynamiq.utils.logger:Node Parse Sub-Queries - parse_queries: execution started.\n",
            "INFO:dynamiq.utils.logger:Tool Parse Sub-Queries - parse_queries: started with INPUT DATA:\n",
            "{'queries': '[\"Nvidia company size revenue market cap 2023\", \"Nvidia employee count and growth trends 2023\", \"Nvidia global presence and operations overview\", \"Nvidia recent acquisitions and their impact on company size\", \"Nvidia comparison with competitors in the semiconductor industry 2023\"]'}\n",
            "INFO:dynamiq.utils.logger:Tool Parse Sub-Queries - parse_queries: finished with RESULT:\n",
            "[{'query': 'Nvidia company size revenue market cap 2023'}, {'query': 'Nvidia employee count and growth trends 2023'}, {'query': 'Nvidia global presence and operations overview'}, {'query': 'Nvidia rec...\n",
            "INFO:dynamiq.utils.logger:Node Parse Sub-Queries - parse_queries: execution succeeded in 23ms.\n",
            "INFO:dynamiq.utils.logger:Node Search Sub-Queries - search_queries: execution started.\n",
            "INFO:dynamiq.utils.logger:Node Search Query - d8128782-2e75-4812-8ac7-146742620595: execution started.\n",
            "INFO:dynamiq.utils.logger:Tool Search Query - d8128782-2e75-4812-8ac7-146742620595: started with input:\n",
            "{'query': 'Nvidia company size revenue market cap 2023', 'search_depth': None, 'topic': None, 'max_results': None, 'include_images': None, 'include_answer': None, 'include_raw_content': None, 'include_domains': None, 'exclude_domains': None, 'use_cache': None}\n",
            "INFO:dynamiq.utils.logger:Tool Search Query - d8128782-2e75-4812-8ac7-146742620595: finished with result:\n",
            "{'result': \"Source: https://companiesmarketcap.com/nvidia/revenue/\\nTitle: Revenue for NVIDIA (NVDA) - CompaniesMarketCap.com\\nContent: NVIDIA (NVDA) - Revenue Ranking by countries Ranking by categori...\n",
            "INFO:dynamiq.utils.logger:Node Search Query - d8128782-2e75-4812-8ac7-146742620595: execution succeeded in 2.7s.\n",
            "INFO:dynamiq.utils.logger:Node Search Query - d8128782-2e75-4812-8ac7-146742620595: execution started.\n",
            "INFO:dynamiq.utils.logger:Tool Search Query - d8128782-2e75-4812-8ac7-146742620595: started with input:\n",
            "{'query': 'Nvidia employee count and growth trends 2023', 'search_depth': None, 'topic': None, 'max_results': None, 'include_images': None, 'include_answer': None, 'include_raw_content': None, 'include_domains': None, 'exclude_domains': None, 'use_cache': None}\n",
            "INFO:dynamiq.utils.logger:Tool Search Query - d8128782-2e75-4812-8ac7-146742620595: finished with result:\n",
            "{'result': 'Source: https://www.xrilion.com/blog/stats/nvidia-stats\\nTitle: NVIDIA Stats: Report, Employees and Stock - xrilion.com\\nContent: NVIDIA Stats: Report, Employees And Stock NVIDIA Stats: Re...\n",
            "INFO:dynamiq.utils.logger:Node Search Query - d8128782-2e75-4812-8ac7-146742620595: execution succeeded in 2.2s.\n",
            "INFO:dynamiq.utils.logger:Node Search Query - d8128782-2e75-4812-8ac7-146742620595: execution started.\n",
            "INFO:dynamiq.utils.logger:Tool Search Query - d8128782-2e75-4812-8ac7-146742620595: started with input:\n",
            "{'query': 'Nvidia global presence and operations overview', 'search_depth': None, 'topic': None, 'max_results': None, 'include_images': None, 'include_answer': None, 'include_raw_content': None, 'include_domains': None, 'exclude_domains': None, 'use_cache': None}\n",
            "INFO:dynamiq.utils.logger:Tool Search Query - d8128782-2e75-4812-8ac7-146742620595: finished with result:\n",
            "{'result': \"Source: https://finance.yahoo.com/news/understanding-nvidia-nvda-reliance-international-141503330.html\\nTitle: Understanding Nvidia (NVDA) Reliance on International Revenue\\nContent: Have ...\n",
            "INFO:dynamiq.utils.logger:Node Search Query - d8128782-2e75-4812-8ac7-146742620595: execution succeeded in 2.1s.\n",
            "INFO:dynamiq.utils.logger:Node Search Query - d8128782-2e75-4812-8ac7-146742620595: execution started.\n",
            "INFO:dynamiq.utils.logger:Tool Search Query - d8128782-2e75-4812-8ac7-146742620595: started with input:\n",
            "{'query': 'Nvidia recent acquisitions and their impact on company size', 'search_depth': None, 'topic': None, 'max_results': None, 'include_images': None, 'include_answer': None, 'include_raw_content': None, 'include_domains': None, 'exclude_domains': None, 'use_cache': None}\n",
            "INFO:dynamiq.utils.logger:Tool Search Query - d8128782-2e75-4812-8ac7-146742620595: finished with result:\n",
            "{'result': \"Source: https://dollarmakers.com/List-of-mergers-and-acquisitions-by-Nvidia/\\nTitle: Nvidia's Acquisition Spree: A Comprehensive List of Mergers and ...\\nContent: Nvidia, a leading technol...\n",
            "INFO:dynamiq.utils.logger:Node Search Query - d8128782-2e75-4812-8ac7-146742620595: execution succeeded in 2.7s.\n",
            "INFO:dynamiq.utils.logger:Node Search Query - d8128782-2e75-4812-8ac7-146742620595: execution started.\n",
            "INFO:dynamiq.utils.logger:Tool Search Query - d8128782-2e75-4812-8ac7-146742620595: started with input:\n",
            "{'query': 'Nvidia comparison with competitors in the semiconductor industry 2023', 'search_depth': None, 'topic': None, 'max_results': None, 'include_images': None, 'include_answer': None, 'include_raw_content': None, 'include_domains': None, 'exclude_domains': None, 'use_cache': None}\n",
            "INFO:dynamiq.utils.logger:Tool Search Query - d8128782-2e75-4812-8ac7-146742620595: finished with result:\n",
            "{'result': 'Source: https://investorshangout.com/nvidia-vs-competitors-a-deep-dive-into-the-semiconductor-sector-240603-/\\nTitle: NVIDIA vs. Competitors: A Deep Dive into the Semiconductor Sector\\nCon...\n",
            "INFO:dynamiq.utils.logger:Node Search Query - d8128782-2e75-4812-8ac7-146742620595: execution succeeded in 2.0s.\n",
            "INFO:dynamiq.utils.logger:Node Search Sub-Queries - search_queries: execution succeeded in 11.7s.\n",
            "INFO:dynamiq.utils.logger:Node Convert to Documents - convert_to_documents: execution started.\n",
            "INFO:dynamiq.utils.logger:Tool Convert to Documents - convert_to_documents: started with INPUT DATA:\n",
            "{'content': [{'content': {'result': \"Source: https://companiesmarketcap.com/nvidia/revenue/\\nTitle: Revenue for NVIDIA (NVDA) - CompaniesMarketCap.com\\nContent: NVIDIA (NVDA) - Revenue Ranking by countries Ranking by categories Rank Revenue Price history P/E ratio P/S ratio P/B ratio Operating margin EPS Stock Splits Dividends Dividend yield Shares outstanding Fails to deliver Cost to borrow Total assets Total liabilities Total debt Cash on Hand Net Assets Revenue for NVIDIA (NVDA) According to NVIDIA's latest financial reports the company's current revenue (TTM ) is $113.26 Billion USD. In 2023 the company made a revenue of $60.92 Billion USD an increase over the revenue in the year 2022 that were of $26.97 Billion USD. The revenue is the total amount of income that a company generates by the sale of goods or services. Revenue history for NVIDIA from 1999 to 2024 | Year | Revenue | Change |\\nRelevance Score: 0.90849644\\n\\nSource: https://stockanalysis.com/stocks/nvda/market-cap/\\nTitle: NVIDIA (NVDA) Market Cap & Net Worth - Stock Analysis\\nContent: NVIDIA (NVDA) Market Cap & Net Worth - Stock Analysis Stocks Top Stocks IPOs IPO Statistics IPO News Market Newsletter Market Cap NVIDIA Market Cap NVIDIA has a market cap or net worth of $3.18 trillion as of February 7, 2025. Its market cap has increased by 109.80% in one year. Market Cap Market Cap Chart Since January 22, 1999, NVIDIA's market cap has increased from $562.80M to $3.18T, an increase of 564,893.18%. Market Cap History | Date | Market Cap | % Change | | Feb 7, 2025 | 3,179.78B | -3.31% | Formula: Market Cap = Stock Price * Shares Outstanding | Company | Market Cap | Market Cap Rankings Stocks IPOs Market Newsletter\\nRelevance Score: 0.6989468\\n\\nSource: https://companiesmarketcap.com/nvidia/marketcap/\\nTitle: Market capitalization of NVIDIA (NVDA) - CompaniesMarketCap.com\\nContent: NVIDIA (NVDA) - Market capitalization Companies: 10,445 total market cap: $115.367 T Sign In ENEnglish Deutsch Français $ USD €EUR₹INR£GBP$CAD$AUD$NZD$HKD$SGD Global ranking Ranking by countries America United States Canada Mexico Brazil Chile Europe European Union Germany United Kingdom France Spain Netherlands Sweden Italy Switzerland Poland Finland Asia China Japan South Korea Hong Kong Singapore Indonesia India Malaysia Taiwan Thailand Others Australia New Zealand Israel Saudi Arabia Turkey Russia South Africa >> All Countries Ranking by categories 🏆 All assets by Market Cap 🚗 Automakers ✈️ Airlines 🛫 Airports ✈️ Aircraft manufacturers 🏦 Banks 🏨 Hotels 💊 Pharmaceuticals 🛒 E-Commerce ⚕️ Healthcare 📦 Courier services 📰 Media/Press 🍷 Alcoholic beverages 🥤 Beverages 👚 Clothing ⛏️ Mining 🚂 Railways 🏦 Insurance 🏠 Real estate ⚓ Ports 💼 Professional services 🍴 Food 🍔 Restaurant chains \\u200d💻 Software 📟 Semiconductors 🚬 Tobacco 💳 Financial services 🛢 Oil&Gas 🔋 Electricity 🧪 Chemicals 💰 Investment 📡 Telecommunication 🛍️ Retail 🖥️ Internet 🏗 Construction 🎮 Video Game 💻 Tech 🦾 AI >> All Categories Watchlist Account NVIDIA NVDA 2 Rank $3.179 T Marketcap United States Country $129.84 Share price 0.90% Change (1 day) 85.22% Change (1 year) 👩\\u200d💻 Tech📟 Semiconductors🔌 Electronics💻 Tech Hardware🤖 Autonomous driving🦾 AI🇺🇸 Dow jones Categories Nvidia Corporation is one of the largest developers of graphics processors and chipsets for personal computers and game consoles. NVIDIA Corporation does not have its own manufacturing facilities and therefore works according to the fabless principle. The company was founded in January 1993 by Jen-Hsun Huang, Curtis Priem and Chris Malachowsky. This makes NVIDIA the world's 2nd most valuable company by market cap according to our data. The market capitalization, commonly called market cap, is the total market value of a publicly traded company's outstanding shares and is commonly used to measure how much a company is worth.\\nRelevance Score: 0.6551821\\n\\nSource: https://www.statista.com/topics/7123/nvidia/\\nTitle: Nvidia - statistics & facts | Statista\\nContent: Success stories Live webinars & recordings Prices & Access Business Solutions Academia and Government Prices & Access Business Solutions Academia and Government Statistics Popular Statistics Topics Markets Reports Market Insights Consumer Insights Company Insights eCommerce Insights Research AI Daily Data Services About Statista Statista+ Statista Q ask Statista nxt Statista Content & Design Statista R DE ES FR Technology & Telecommunications› Hardware Nvidia - statistics & facts Overview Editor’s Picks Statistics Nvidia's business, once centered around chips tailored to gaming consoles, has been transformed by demand from data centers at the heart of the artificial intelligence (AI) revolution. Now regarded as a pioneer and leader in AI, Nvidia chips are being used to train and run various large language models, including ChatGPT. Capitalizing on the AI boom has helped to propel Nvidia into third spot among tech companies in terms of market capitalization. From gaming to AI giant Nvidia specializes in the design of processors and chipsets, including graphics processing units (GPUs) for the gaming and data center markets. Riding high on the AI wave, Nvidia’s data center revenue exploded in its 2024 fiscal year, reaching 47.5 billion U.S. dollars – a 216 percent increase compared to the previous year.\\nRelevance Score: 0.46380913\\n\\nSource: https://www.investing.com/academy/statistics/nvidia-facts-and-statistics/\\nTitle: NVIDIA Facts and Statistics (2025) - Investing.com\\nContent: What Is NVIDIA? What Does NVIDIA Do? What Is NVIDIA? What Does NVIDIA Do? Stock Market Performance: NVIDIA’s stock, trading under NVDA, has delivered impressive returns, outperforming competitors and featuring in various tech-focused ETFs. Deep Learning Institute: NVIDIA has trained over 200,000 developers through its Deep Learning Institute, fostering significant growth in AI proficiency worldwide. The demand for AI and data-driven technologies is surging, encouraging companies like NVIDIA to innovate continuously. Understanding NVIDIA’s market share is crucial for investors as it reflects the company’s competitive position and potential for growth in the high-demand graphics and AI sectors. December 14, 2022 – NVIDIA acquired Bright Computing, a company specializing in software for managing high-performance computing systems, to expand its data center and AI capabilities.\\nRelevance Score: 0.23784177\", 'sources_with_url': ['[Revenue for NVIDIA (NVDA) - CompaniesMarketCap.com](https://companiesmarketcap.com/nvidia/revenue/)', '[NVIDIA (NVDA) Market Cap & Net Worth - Stock Analysis](https://stockanalysis.com/stocks/nvda/market-cap/)', '[Market capitalization of NVIDIA (NVDA) - CompaniesMarketCap.com](https://companiesmarketcap.com/nvidia/marketcap/)', '[Nvidia - statistics & facts | Statista](https://www.statista.com/topics/7123/nvidia/)', '[NVIDIA Facts and Statistics (2025) - Investing.com](https://www.investing.com/academy/statistics/nvidia-facts-and-statistics/)'], 'raw_response': {'query': 'Nvidia company size revenue market cap 2023', 'follow_up_questions': None, 'answer': None, 'images': [], 'results': [{'title': 'Revenue for NVIDIA (NVDA) - CompaniesMarketCap.com', 'url': 'https://companiesmarketcap.com/nvidia/revenue/', 'content': \"NVIDIA (NVDA) - Revenue Ranking by countries Ranking by categories Rank Revenue Price history P/E ratio P/S ratio P/B ratio Operating margin EPS Stock Splits Dividends Dividend yield Shares outstanding Fails to deliver Cost to borrow Total assets Total liabilities Total debt Cash on Hand Net Assets Revenue for NVIDIA (NVDA) According to NVIDIA's latest financial reports the company's current revenue (TTM ) is $113.26 Billion USD. In 2023 the company made a revenue of $60.92 Billion USD an increase over the revenue in the year 2022 that were of $26.97 Billion USD. The revenue is the total amount of income that a company generates by the sale of goods or services. Revenue history for NVIDIA from 1999 to 2024 | Year | Revenue | Change |\", 'score': 0.90849644, 'raw_content': None}, {'title': 'NVIDIA (NVDA) Market Cap & Net Worth - Stock Analysis', 'url': 'https://stockanalysis.com/stocks/nvda/market-cap/', 'content': \"NVIDIA (NVDA) Market Cap & Net Worth - Stock Analysis Stocks Top Stocks IPOs IPO Statistics IPO News Market Newsletter Market Cap NVIDIA Market Cap NVIDIA has a market cap or net worth of $3.18 trillion as of February 7, 2025. Its market cap has increased by 109.80% in one year. Market Cap Market Cap Chart Since January 22, 1999, NVIDIA's market cap has increased from $562.80M to $3.18T, an increase of 564,893.18%. Market Cap History | Date | Market Cap | % Change | | Feb 7, 2025 | 3,179.78B | -3.31% | Formula: Market Cap = Stock Price * Shares Outstanding | Company | Market Cap | Market Cap Rankings Stocks IPOs Market Newsletter\", 'score': 0.6989468, 'raw_content': None}, {'title': 'Market capitalization of NVIDIA (NVDA) - CompaniesMarketCap.com', 'url': 'https://companiesmarketcap.com/nvidia/marketcap/', 'content': \"NVIDIA (NVDA) - Market capitalization Companies: 10,445 total market cap: $115.367 T Sign In ENEnglish Deutsch Français $ USD €EUR₹INR£GBP$CAD$AUD$NZD$HKD$SGD Global ranking Ranking by countries America United States Canada Mexico Brazil Chile Europe European Union Germany United Kingdom France Spain Netherlands Sweden Italy Switzerland Poland Finland Asia China Japan South Korea Hong Kong Singapore Indonesia India Malaysia Taiwan Thailand Others Australia New Zealand Israel Saudi Arabia Turkey Russia South Africa >> All Countries Ranking by categories 🏆 All assets by Market Cap 🚗 Automakers ✈️ Airlines 🛫 Airports ✈️ Aircraft manufacturers 🏦 Banks 🏨 Hotels 💊 Pharmaceuticals 🛒 E-Commerce ⚕️ Healthcare 📦 Courier services 📰 Media/Press 🍷 Alcoholic beverages 🥤 Beverages 👚 Clothing ⛏️ Mining 🚂 Railways 🏦 Insurance 🏠 Real estate ⚓ Ports 💼 Professional services 🍴 Food 🍔 Restaurant chains \\u200d💻 Software 📟 Semiconductors 🚬 Tobacco 💳 Financial services 🛢 Oil&Gas 🔋 Electricity 🧪 Chemicals 💰 Investment 📡 Telecommunication 🛍️ Retail 🖥️ Internet 🏗 Construction 🎮 Video Game 💻 Tech 🦾 AI >> All Categories Watchlist Account NVIDIA NVDA 2 Rank $3.179 T Marketcap United States Country $129.84 Share price 0.90% Change (1 day) 85.22% Change (1 year) 👩\\u200d💻 Tech📟 Semiconductors🔌 Electronics💻 Tech Hardware🤖 Autonomous driving🦾 AI🇺🇸 Dow jones Categories Nvidia Corporation is one of the largest developers of graphics processors and chipsets for personal computers and game consoles. NVIDIA Corporation does not have its own manufacturing facilities and therefore works according to the fabless principle. The company was founded in January 1993 by Jen-Hsun Huang, Curtis Priem and Chris Malachowsky. This makes NVIDIA the world's 2nd most valuable company by market cap according to our data. The market capitalization, commonly called market cap, is the total market value of a publicly traded company's outstanding shares and is commonly used to measure how much a company is worth.\", 'score': 0.6551821, 'raw_content': None}, {'title': 'Nvidia - statistics & facts | Statista', 'url': 'https://www.statista.com/topics/7123/nvidia/', 'content': \"Success stories Live webinars & recordings Prices & Access Business Solutions Academia and Government Prices & Access Business Solutions Academia and Government Statistics Popular Statistics Topics Markets Reports Market Insights Consumer Insights Company Insights eCommerce Insights Research AI Daily Data Services About Statista Statista+ Statista Q ask Statista nxt Statista Content & Design Statista R DE ES FR Technology & Telecommunications› Hardware Nvidia - statistics & facts Overview Editor’s Picks Statistics Nvidia's business, once centered around chips tailored to gaming consoles, has been transformed by demand from data centers at the heart of the artificial intelligence (AI) revolution. Now regarded as a pioneer and leader in AI, Nvidia chips are being used to train and run various large language models, including ChatGPT. Capitalizing on the AI boom has helped to propel Nvidia into third spot among tech companies in terms of market capitalization. From gaming to AI giant Nvidia specializes in the design of processors and chipsets, including graphics processing units (GPUs) for the gaming and data center markets. Riding high on the AI wave, Nvidia’s data center revenue exploded in its 2024 fiscal year, reaching 47.5 billion U.S. dollars – a 216 percent increase compared to the previous year.\", 'score': 0.46380913, 'raw_content': None}, {'title': 'NVIDIA Facts and Statistics (2025) - Investing.com', 'url': 'https://www.investing.com/academy/statistics/nvidia-facts-and-statistics/', 'content': 'What Is NVIDIA? What Does NVIDIA Do? What Is NVIDIA? What Does NVIDIA Do? Stock Market Performance: NVIDIA’s stock, trading under NVDA, has delivered impressive returns, outperforming competitors and featuring in various tech-focused ETFs. Deep Learning Institute: NVIDIA has trained over 200,000 developers through its Deep Learning Institute, fostering significant growth in AI proficiency worldwide. The demand for AI and data-driven technologies is surging, encouraging companies like NVIDIA to innovate continuously. Understanding NVIDIA’s market share is crucial for investors as it reflects the company’s competitive position and potential for growth in the high-demand graphics and AI sectors. December 14, 2022 – NVIDIA acquired Bright Computing, a company specializing in software for managing high-performance computing systems, to expand its data center and AI capabilities.', 'score': 0.23784177, 'raw_content': None}], 'response_time': 2.41}, 'images': [], 'answer': None, 'query': 'Nvidia company size revenue market cap 2023', 'response_time': 2.41}}, {'content': {'result': 'Source: https://www.xrilion.com/blog/stats/nvidia-stats\\nTitle: NVIDIA Stats: Report, Employees and Stock - xrilion.com\\nContent: NVIDIA Stats: Report, Employees And Stock NVIDIA Stats: Report, Employees and Stock Top NVIDIA Stats NVIDIA has a 90% GPU market share. There are over 29.6K NVIDIA employees. NVIDIA has more than 5,920 Female employees. NVIDIA Market Share NVIDIA had a 90% market share in the GPU market. NVIDIA’s GPU market share has grown by approximately 25% over the past 10 years. In 2024 NVIDIA had a 20% total PC GPU market share. How Many (Total) Employees Does NVIDIA Have Globally? NVIDIA Employees by Gender NVIDIA Employees by Department (Source: NVIDIA) How Big Is NVIDIA How much is a share of NVIDIA? How many NVIDIA shares exist? How much debt does NVIDIA have? (Source: NVIDIA) How old is NVIDIA?\\nRelevance Score: 0.6554468\\n\\nSource: https://finance.yahoo.com/news/nvidia-had-explosive-growth-workforce-141516355.html\\nTitle: Nvidia Had Explosive Growth, As Workforce Grew 20 Times Since 2003 And ...\\nContent: Nvidia\\'s growth over the past two decades has been remarkable. From a relatively unknown player to a tech giant, Nvidia\\'s workforce has expanded almost 20-fold since 2003 and its pay packages\\nRelevance Score: 0.49626526\\n\\nSource: https://www.macrotrends.net/stocks/charts/NVDA/nvidia/number-of-employees\\nTitle: NVIDIA: Number of Employees 2010-2025 | NVDA - Macrotrends\\nContent: NVIDIA: Number of Employees 2010-2024 | NVDA | MacroTrends NVIDIA: Number of Employees 2010-2024 | NVDA Price Ratios Interactive chart of NVIDIA (NVDA) annual worldwide employee count from 2010 to 2024. | NVIDIA Annual Employee Count | If you use our chart images on your site or blog, we ask that you provide attribution via a \"dofollow\" link back to this page. | NVIDIA: Number of Employees 2010-2024 | NVDA |  | If you use our datasets on your site or blog, we ask that you provide attribution via a \"dofollow\" link back to this page. | NVIDIA: Number of Employees 2010-2024 | NVDA |  | Register to Continue Using Macrotrends\\nRelevance Score: 0.3971905\\n\\nSource: https://www.investing.com/academy/statistics/nvidia-facts-and-statistics/\\nTitle: NVIDIA Facts and Statistics (2025) - Investing.com\\nContent: What Is NVIDIA? What Does NVIDIA Do? What Is NVIDIA? What Does NVIDIA Do? Stock Market Performance: NVIDIA’s stock, trading under NVDA, has delivered impressive returns, outperforming competitors and featuring in various tech-focused ETFs. Deep Learning Institute: NVIDIA has trained over 200,000 developers through its Deep Learning Institute, fostering significant growth in AI proficiency worldwide. The demand for AI and data-driven technologies is surging, encouraging companies like NVIDIA to innovate continuously. Understanding NVIDIA’s market share is crucial for investors as it reflects the company’s competitive position and potential for growth in the high-demand graphics and AI sectors. December 14, 2022 – NVIDIA acquired Bright Computing, a company specializing in software for managing high-performance computing systems, to expand its data center and AI capabilities.\\nRelevance Score: 0.26824972\\n\\nSource: https://www.statista.com/topics/7123/nvidia/\\nTitle: Nvidia - statistics & facts | Statista\\nContent: Success stories Live webinars & recordings Prices & Access Business Solutions Academia and Government Prices & Access Business Solutions Academia and Government Statistics Popular Statistics Topics Markets Reports Market Insights Consumer Insights Company Insights eCommerce Insights Research AI Daily Data Services About Statista Statista+ Statista Q ask Statista nxt Statista Content & Design Statista R DE ES FR Technology & Telecommunications› Hardware Nvidia - statistics & facts Overview Editor’s Picks Statistics Nvidia\\'s business, once centered around chips tailored to gaming consoles, has been transformed by demand from data centers at the heart of the artificial intelligence (AI) revolution. Now regarded as a pioneer and leader in AI, Nvidia chips are being used to train and run various large language models, including ChatGPT. Capitalizing on the AI boom has helped to propel Nvidia into third spot among tech companies in terms of market capitalization. From gaming to AI giant Nvidia specializes in the design of processors and chipsets, including graphics processing units (GPUs) for the gaming and data center markets. Riding high on the AI wave, Nvidia’s data center revenue exploded in its 2024 fiscal year, reaching 47.5 billion U.S. dollars – a 216 percent increase compared to the previous year.\\nRelevance Score: 0.24320671', 'sources_with_url': ['[NVIDIA Stats: Report, Employees and Stock - xrilion.com](https://www.xrilion.com/blog/stats/nvidia-stats)', '[Nvidia Had Explosive Growth, As Workforce Grew 20 Times Since 2003 And ...](https://finance.yahoo.com/news/nvidia-had-explosive-growth-workforce-141516355.html)', '[NVIDIA: Number of Employees 2010-2025 | NVDA - Macrotrends](https://www.macrotrends.net/stocks/charts/NVDA/nvidia/number-of-employees)', '[NVIDIA Facts and Statistics (2025) - Investing.com](https://www.investing.com/academy/statistics/nvidia-facts-and-statistics/)', '[Nvidia - statistics & facts | Statista](https://www.statista.com/topics/7123/nvidia/)'], 'raw_response': {'query': 'Nvidia employee count and growth trends 2023', 'follow_up_questions': None, 'answer': None, 'images': [], 'results': [{'title': 'NVIDIA Stats: Report, Employees and Stock - xrilion.com', 'url': 'https://www.xrilion.com/blog/stats/nvidia-stats', 'content': 'NVIDIA Stats: Report, Employees And Stock NVIDIA Stats: Report, Employees and Stock Top NVIDIA Stats NVIDIA has a 90% GPU market share. There are over 29.6K NVIDIA employees. NVIDIA has more than 5,920 Female employees. NVIDIA Market Share NVIDIA had a 90% market share in the GPU market. NVIDIA’s GPU market share has grown by approximately 25% over the past 10 years. In 2024 NVIDIA had a 20% total PC GPU market share. How Many (Total) Employees Does NVIDIA Have Globally? NVIDIA Employees by Gender NVIDIA Employees by Department (Source: NVIDIA) How Big Is NVIDIA How much is a share of NVIDIA? How many NVIDIA shares exist? How much debt does NVIDIA have? (Source: NVIDIA) How old is NVIDIA?', 'score': 0.6554468, 'raw_content': None}, {'title': 'Nvidia Had Explosive Growth, As Workforce Grew 20 Times Since 2003 And ...', 'url': 'https://finance.yahoo.com/news/nvidia-had-explosive-growth-workforce-141516355.html', 'content': \"Nvidia's growth over the past two decades has been remarkable. From a relatively unknown player to a tech giant, Nvidia's workforce has expanded almost 20-fold since 2003 and its pay packages\", 'score': 0.49626526, 'raw_content': None}, {'title': 'NVIDIA: Number of Employees 2010-2025 | NVDA - Macrotrends', 'url': 'https://www.macrotrends.net/stocks/charts/NVDA/nvidia/number-of-employees', 'content': 'NVIDIA: Number of Employees 2010-2024 | NVDA | MacroTrends NVIDIA: Number of Employees 2010-2024 | NVDA Price Ratios Interactive chart of NVIDIA (NVDA) annual worldwide employee count from 2010 to 2024. | NVIDIA Annual Employee Count | If you use our chart images on your site or blog, we ask that you provide attribution via a \"dofollow\" link back to this page. | NVIDIA: Number of Employees 2010-2024 | NVDA |  | If you use our datasets on your site or blog, we ask that you provide attribution via a \"dofollow\" link back to this page. | NVIDIA: Number of Employees 2010-2024 | NVDA |  | Register to Continue Using Macrotrends', 'score': 0.3971905, 'raw_content': None}, {'title': 'NVIDIA Facts and Statistics (2025) - Investing.com', 'url': 'https://www.investing.com/academy/statistics/nvidia-facts-and-statistics/', 'content': 'What Is NVIDIA? What Does NVIDIA Do? What Is NVIDIA? What Does NVIDIA Do? Stock Market Performance: NVIDIA’s stock, trading under NVDA, has delivered impressive returns, outperforming competitors and featuring in various tech-focused ETFs. Deep Learning Institute: NVIDIA has trained over 200,000 developers through its Deep Learning Institute, fostering significant growth in AI proficiency worldwide. The demand for AI and data-driven technologies is surging, encouraging companies like NVIDIA to innovate continuously. Understanding NVIDIA’s market share is crucial for investors as it reflects the company’s competitive position and potential for growth in the high-demand graphics and AI sectors. December 14, 2022 – NVIDIA acquired Bright Computing, a company specializing in software for managing high-performance computing systems, to expand its data center and AI capabilities.', 'score': 0.26824972, 'raw_content': None}, {'title': 'Nvidia - statistics & facts | Statista', 'url': 'https://www.statista.com/topics/7123/nvidia/', 'content': \"Success stories Live webinars & recordings Prices & Access Business Solutions Academia and Government Prices & Access Business Solutions Academia and Government Statistics Popular Statistics Topics Markets Reports Market Insights Consumer Insights Company Insights eCommerce Insights Research AI Daily Data Services About Statista Statista+ Statista Q ask Statista nxt Statista Content & Design Statista R DE ES FR Technology & Telecommunications› Hardware Nvidia - statistics & facts Overview Editor’s Picks Statistics Nvidia's business, once centered around chips tailored to gaming consoles, has been transformed by demand from data centers at the heart of the artificial intelligence (AI) revolution. Now regarded as a pioneer and leader in AI, Nvidia chips are being used to train and run various large language models, including ChatGPT. Capitalizing on the AI boom has helped to propel Nvidia into third spot among tech companies in terms of market capitalization. From gaming to AI giant Nvidia specializes in the design of processors and chipsets, including graphics processing units (GPUs) for the gaming and data center markets. Riding high on the AI wave, Nvidia’s data center revenue exploded in its 2024 fiscal year, reaching 47.5 billion U.S. dollars – a 216 percent increase compared to the previous year.\", 'score': 0.24320671, 'raw_content': None}], 'response_time': 1.89}, 'images': [], 'answer': None, 'query': 'Nvidia employee count and growth trends 2023', 'response_time': 1.89}}, {'content': {'result': \"Source: https://finance.yahoo.com/news/understanding-nvidia-nvda-reliance-international-141503330.html\\nTitle: Understanding Nvidia (NVDA) Reliance on International Revenue\\nContent: Have you evaluated the performance of Nvidia's (NVDA) international operations for the quarter ending October 2024? Given the extensive global presence of this maker of graphics chips for gaming\\nRelevance Score: 0.7244226\\n\\nSource: https://www.statista.com/statistics/988037/nvidia-revenue-by-country-region/\\nTitle: Nvidia revenue by region FY2025 - Statista\\nContent: Read more Nvidia revenue worldwide FY2017-2024, by region Published by Thomas Alsop, Feb 22, 2024 In its 2024 fiscal year, Nvidia's revenue in the United States amounted to 26.97 billion U.S. dollars, a huge jump from the 8.29 billion U.S. dollars seen in the previous fiscal year. Nvidia’s business overview Nvidia is a U.S. technology firm specializing in the design of graphics processing units (GPUs) for the gaming and professional markets, as well as system-on-chip units (SoCs). Headquartered in Santa Clara, California, the company was founded in 1993 by Jensen Huang who, following on from time spent as a microprocessor designer at Advanced Micro Devices (AMD), has been Nvidia’s president and chief executive officer (CEO) from the outset. Nvidia’s specialized markets In Nvidia’s 2024 fiscal year, the fourth quarter saw data center revenues climb to 18.4 billion U.S. dollars, a surge that has seen it become the darling of stocks and a global leader in artificial intelligence (AI).\\nRelevance Score: 0.6599319\\n\\nSource: https://www.nvidia.com/content/dam/en-zz/Solutions/about-nvidia/corporate-nvidia-in-brief.pdf\\nTitle: PDF\\nContent: KEY STATS > Founded in 1993 > Founder and CEO: Jensen Huang > 22,500 employees in 50+ countries > $26.9 billion revenue in FY22 > 7,500+ granted and pending patent applications worldwide > $1 trillion available market opportunity > 3 million developers in the NVIDIA Developer Program > 10,000 global startups in NVIDIA Inception > No. 1 “Best Places to Work in 2021” – Glassdoor > “World’s Best Performing CEO” – Harvard Business Review IMPACT BY INDUSTRY Automotive NVIDIA DRIVE powers all 30 of the 30 top autonomous vehicle data centers AI Factories More than 25,000 companies use NVIDIA AI technology to power AI factories Digital Twins NVIDIA Omniverse has 150,000 individual users, and 300 companies in the pipeline Gaming More than 200 million gamers and creators use NVIDIA GeForce GPUs Healthcare More than 400,000 developers have downloaded the MONAI framework for AI in healthcare imaging Robotics More than 1 million developers use the NVIDIA Jetson platform for AI at the edge NVIDIA IN BRIEF 2022 | 1 NVIDIA is the world’s engine of AI.\\nRelevance Score: 0.5829428\\n\\nSource: https://www.investing.com/academy/statistics/nvidia-facts-and-statistics/\\nTitle: NVIDIA Facts and Statistics (2025) - Investing.com\\nContent: What Is NVIDIA? What Does NVIDIA Do? What Is NVIDIA? What Does NVIDIA Do? Stock Market Performance: NVIDIA’s stock, trading under NVDA, has delivered impressive returns, outperforming competitors and featuring in various tech-focused ETFs. Deep Learning Institute: NVIDIA has trained over 200,000 developers through its Deep Learning Institute, fostering significant growth in AI proficiency worldwide. The demand for AI and data-driven technologies is surging, encouraging companies like NVIDIA to innovate continuously. Understanding NVIDIA’s market share is crucial for investors as it reflects the company’s competitive position and potential for growth in the high-demand graphics and AI sectors. December 14, 2022 – NVIDIA acquired Bright Computing, a company specializing in software for managing high-performance computing systems, to expand its data center and AI capabilities.\\nRelevance Score: 0.36724812\\n\\nSource: https://www.hivelr.com/2023/12/nvidia-nvda-pestel-and-macro-environmental-analysis/\\nTitle: Nvidia (NVDA): PESTEL and Macro-Environmental Analysis\\nContent: A PESTEL analysis, which examines the Political, Economic, Social, Technological, Environmental, and Legal factors influencing a company, is crucial for understanding the external landscape in which Nvidia operates. Politically, regulatory changes in key markets may impact the company’s operations, while economic fluctuations can affect consumer purchasing power and demand for Nvidia’s products. Technological Adoption: The rate consumers and businesses adopt new technologies, such as GPUs for gaming, AI, and data processing, directly influences NVIDIA’s market opportunities and growth potential. By analyzing these social factors, NVIDIA can identify market opportunities, mitigate risks related to changing consumer preferences, and align its strategies to effectively meet societal expectations. To mitigate technological factors in its PESTEL analysis, NVIDIA can adopt a proactive approach focusing on innovation leadership and strategic partnerships.\\nRelevance Score: 0.27802688\", 'sources_with_url': ['[Understanding Nvidia (NVDA) Reliance on International Revenue](https://finance.yahoo.com/news/understanding-nvidia-nvda-reliance-international-141503330.html)', '[Nvidia revenue by region FY2025 - Statista](https://www.statista.com/statistics/988037/nvidia-revenue-by-country-region/)', '[PDF](https://www.nvidia.com/content/dam/en-zz/Solutions/about-nvidia/corporate-nvidia-in-brief.pdf)', '[NVIDIA Facts and Statistics (2025) - Investing.com](https://www.investing.com/academy/statistics/nvidia-facts-and-statistics/)', '[Nvidia (NVDA): PESTEL and Macro-Environmental Analysis](https://www.hivelr.com/2023/12/nvidia-nvda-pestel-and-macro-environmental-analysis/)'], 'raw_response': {'query': 'Nvidia global presence and operations overview', 'follow_up_questions': None, 'answer': None, 'images': [], 'results': [{'title': 'Understanding Nvidia (NVDA) Reliance on International Revenue', 'url': 'https://finance.yahoo.com/news/understanding-nvidia-nvda-reliance-international-141503330.html', 'content': \"Have you evaluated the performance of Nvidia's (NVDA) international operations for the quarter ending October 2024? Given the extensive global presence of this maker of graphics chips for gaming\", 'score': 0.7244226, 'raw_content': None}, {'title': 'Nvidia revenue by region FY2025 - Statista', 'url': 'https://www.statista.com/statistics/988037/nvidia-revenue-by-country-region/', 'content': \"Read more Nvidia revenue worldwide FY2017-2024, by region Published by Thomas Alsop, Feb 22, 2024 In its 2024 fiscal year, Nvidia's revenue in the United States amounted to 26.97 billion U.S. dollars, a huge jump from the 8.29 billion U.S. dollars seen in the previous fiscal year. Nvidia’s business overview Nvidia is a U.S. technology firm specializing in the design of graphics processing units (GPUs) for the gaming and professional markets, as well as system-on-chip units (SoCs). Headquartered in Santa Clara, California, the company was founded in 1993 by Jensen Huang who, following on from time spent as a microprocessor designer at Advanced Micro Devices (AMD), has been Nvidia’s president and chief executive officer (CEO) from the outset. Nvidia’s specialized markets In Nvidia’s 2024 fiscal year, the fourth quarter saw data center revenues climb to 18.4 billion U.S. dollars, a surge that has seen it become the darling of stocks and a global leader in artificial intelligence (AI).\", 'score': 0.6599319, 'raw_content': None}, {'title': 'PDF', 'url': 'https://www.nvidia.com/content/dam/en-zz/Solutions/about-nvidia/corporate-nvidia-in-brief.pdf', 'content': 'KEY STATS > Founded in 1993 > Founder and CEO: Jensen Huang > 22,500 employees in 50+ countries > $26.9 billion revenue in FY22 > 7,500+ granted and pending patent applications worldwide > $1 trillion available market opportunity > 3 million developers in the NVIDIA Developer Program > 10,000 global startups in NVIDIA Inception > No. 1 “Best Places to Work in 2021” – Glassdoor > “World’s Best Performing CEO” – Harvard Business Review IMPACT BY INDUSTRY Automotive NVIDIA DRIVE powers all 30 of the 30 top autonomous vehicle data centers AI Factories More than 25,000 companies use NVIDIA AI technology to power AI factories Digital Twins NVIDIA Omniverse has 150,000 individual users, and 300 companies in the pipeline Gaming More than 200 million gamers and creators use NVIDIA GeForce GPUs Healthcare More than 400,000 developers have downloaded the MONAI framework for AI in healthcare imaging Robotics More than 1 million developers use the NVIDIA Jetson platform for AI at the edge NVIDIA IN BRIEF 2022 | 1 NVIDIA is the world’s engine of AI.', 'score': 0.5829428, 'raw_content': None}, {'title': 'NVIDIA Facts and Statistics (2025) - Investing.com', 'url': 'https://www.investing.com/academy/statistics/nvidia-facts-and-statistics/', 'content': 'What Is NVIDIA? What Does NVIDIA Do? What Is NVIDIA? What Does NVIDIA Do? Stock Market Performance: NVIDIA’s stock, trading under NVDA, has delivered impressive returns, outperforming competitors and featuring in various tech-focused ETFs. Deep Learning Institute: NVIDIA has trained over 200,000 developers through its Deep Learning Institute, fostering significant growth in AI proficiency worldwide. The demand for AI and data-driven technologies is surging, encouraging companies like NVIDIA to innovate continuously. Understanding NVIDIA’s market share is crucial for investors as it reflects the company’s competitive position and potential for growth in the high-demand graphics and AI sectors. December 14, 2022 – NVIDIA acquired Bright Computing, a company specializing in software for managing high-performance computing systems, to expand its data center and AI capabilities.', 'score': 0.36724812, 'raw_content': None}, {'title': 'Nvidia (NVDA): PESTEL and Macro-Environmental Analysis', 'url': 'https://www.hivelr.com/2023/12/nvidia-nvda-pestel-and-macro-environmental-analysis/', 'content': 'A PESTEL analysis, which examines the Political, Economic, Social, Technological, Environmental, and Legal factors influencing a company, is crucial for understanding the external landscape in which Nvidia operates. Politically, regulatory changes in key markets may impact the company’s operations, while economic fluctuations can affect consumer purchasing power and demand for Nvidia’s products. Technological Adoption: The rate consumers and businesses adopt new technologies, such as GPUs for gaming, AI, and data processing, directly influences NVIDIA’s market opportunities and growth potential. By analyzing these social factors, NVIDIA can identify market opportunities, mitigate risks related to changing consumer preferences, and align its strategies to effectively meet societal expectations. To mitigate technological factors in its PESTEL analysis, NVIDIA can adopt a proactive approach focusing on innovation leadership and strategic partnerships.', 'score': 0.27802688, 'raw_content': None}], 'response_time': 1.88}, 'images': [], 'answer': None, 'query': 'Nvidia global presence and operations overview', 'response_time': 1.88}}, {'content': {'result': \"Source: https://dollarmakers.com/List-of-mergers-and-acquisitions-by-Nvidia/\\nTitle: Nvidia's Acquisition Spree: A Comprehensive List of Mergers and ...\\nContent: Nvidia, a leading technology company known for its graphics processing units (GPUs), has been on an acquisition spree in recent years. This acquisition allowed Nvidia to expand into the data center market and strengthen its position as a leader in high-performance computing. Nvidia’s aggressive approach towards mergers and acquisitions can be attributed to their desire to diversify their product offerings beyond GPUs. By acquiring companies with expertise in areas such as AI, data centers, and autonomous vehicles, they are able to expand into new markets and stay ahead of competitors. One of the most noteworthy is its acquisition of Mellanox Technologies in 2020 for $6.9 billion, a move that strengthened Nvidia’s data center capabilities and allowed it to expand into high-performance computing and cloud services.\\nRelevance Score: 0.7445268\\n\\nSource: https://insights.greyb.com/nvidia-subsidiaries-and-acquisitions/\\nTitle: Nvidia Subsidiaries and Acquisitions - insights.greyb.com\\nContent: Nvidia has grown its presence across multiple industries through well-planned acquisitions and partnerships. These moves have helped the company improve its products, drive innovation, and meet the growing demands of its customers. By acquiring companies in fields like artificial intelligence, gaming, and data centers, Nvidia has strengthened its technology, broadened its offerings, and\\nRelevance Score: 0.6864757\\n\\nSource: https://cioinfluence.com/it-and-devops/mapping-nvidias-expansion-with-17-strategic-acquisitions/\\nTitle: Mapping Nvidia's Expansion with 17 Strategic Acquisitions - CIO Influence\\nContent: From pioneering mobile visual technologies to augmenting data center solutions and advancing artificial intelligence capabilities, NVIDIA’s acquisitions signify a deliberate trajectory toward innovation and market expansion. These acquisitions introduced software solutions for more accessible model training, software-defined storage solutions, AI-powered security analytics, and robotics technology, augmenting NVIDIA’s AI enterprise platform. In a strategic move to enhance its networking software capabilities, NVIDIA, known for its leading accelerated computing platform, acquired Cumulus Network to enable the accelerated, software-defined data center. Nvidia has acquired Excelero, a software-defined storage (SDS) solutions provider, to enhance its data center offerings for AI and machine learning workloads. NVIDIA’s strategic acquisitions have proven instrumental in broadening its technological portfolio, enhancing its capabilities across AI, mobile computing, data centers, gaming, and graphics.\\nRelevance Score: 0.6410185\\n\\nSource: https://analyticsindiamag.com/ai-features/2024-marks-a-year-of-major-acquisitions-for-nvidia/\\nTitle: 2024 Marks a Year of Major Acquisitions for NVIDIA\\nContent: NVIDIA, the world’s leading chipmaker company, completed the acquisition of Run:ai, an Israel-based AI infrastructure platform, on Monday. From software development to healthcare, AI is catching up with every other sector, and NVIDIA wants to be at the forefront of it all. ‘NVIDIA is AI in India’ A few weeks ago, Yotta Data Services introduced Rudra, a program that provides startups and developers access to NVIDIA’s Hopper GPUs and their AI Enterprise software suite. Earlier in July, NVIDIA also announced a collaboration with six Indian PC builders – The MVP, Ant PC, Vishal Peripherals, Hi-Tech Computer Genesys Labs, XRig, and EliteHubs, to launch ‘Made in India’ PCs equipped with RTX AI. Rising 2025: India’s Premier Diversity & Inclusion Summit in Tech and AI\\nRelevance Score: 0.4920179\", 'sources_with_url': [\"[Nvidia's Acquisition Spree: A Comprehensive List of Mergers and ...](https://dollarmakers.com/List-of-mergers-and-acquisitions-by-Nvidia/)\", '[Nvidia Subsidiaries and Acquisitions - insights.greyb.com](https://insights.greyb.com/nvidia-subsidiaries-and-acquisitions/)', \"[Mapping Nvidia's Expansion with 17 Strategic Acquisitions - CIO Influence](https://cioinfluence.com/it-and-devops/mapping-nvidias-expansion-with-17-strategic-acquisitions/)\", '[2024 Marks a Year of Major Acquisitions for NVIDIA](https://analyticsindiamag.com/ai-features/2024-marks-a-year-of-major-acquisitions-for-nvidia/)'], 'raw_response': {'query': 'Nvidia recent acquisitions and their impact on company size', 'follow_up_questions': None, 'answer': None, 'images': [], 'results': [{'title': \"Nvidia's Acquisition Spree: A Comprehensive List of Mergers and ...\", 'url': 'https://dollarmakers.com/List-of-mergers-and-acquisitions-by-Nvidia/', 'content': 'Nvidia, a leading technology company known for its graphics processing units (GPUs), has been on an acquisition spree in recent years. This acquisition allowed Nvidia to expand into the data center market and strengthen its position as a leader in high-performance computing. Nvidia’s aggressive approach towards mergers and acquisitions can be attributed to their desire to diversify their product offerings beyond GPUs. By acquiring companies with expertise in areas such as AI, data centers, and autonomous vehicles, they are able to expand into new markets and stay ahead of competitors. One of the most noteworthy is its acquisition of Mellanox Technologies in 2020 for $6.9 billion, a move that strengthened Nvidia’s data center capabilities and allowed it to expand into high-performance computing and cloud services.', 'score': 0.7445268, 'raw_content': None}, {'title': 'Nvidia Subsidiaries and Acquisitions - insights.greyb.com', 'url': 'https://insights.greyb.com/nvidia-subsidiaries-and-acquisitions/', 'content': 'Nvidia has grown its presence across multiple industries through well-planned acquisitions and partnerships. These moves have helped the company improve its products, drive innovation, and meet the growing demands of its customers. By acquiring companies in fields like artificial intelligence, gaming, and data centers, Nvidia has strengthened its technology, broadened its offerings, and', 'score': 0.6864757, 'raw_content': None}, {'title': \"Mapping Nvidia's Expansion with 17 Strategic Acquisitions - CIO Influence\", 'url': 'https://cioinfluence.com/it-and-devops/mapping-nvidias-expansion-with-17-strategic-acquisitions/', 'content': 'From pioneering mobile visual technologies to augmenting data center solutions and advancing artificial intelligence capabilities, NVIDIA’s acquisitions signify a deliberate trajectory toward innovation and market expansion. These acquisitions introduced software solutions for more accessible model training, software-defined storage solutions, AI-powered security analytics, and robotics technology, augmenting NVIDIA’s AI enterprise platform. In a strategic move to enhance its networking software capabilities, NVIDIA, known for its leading accelerated computing platform, acquired Cumulus Network to enable the accelerated, software-defined data center. Nvidia has acquired Excelero, a software-defined storage (SDS) solutions provider, to enhance its data center offerings for AI and machine learning workloads. NVIDIA’s strategic acquisitions have proven instrumental in broadening its technological portfolio, enhancing its capabilities across AI, mobile computing, data centers, gaming, and graphics.', 'score': 0.6410185, 'raw_content': None}, {'title': '2024 Marks a Year of Major Acquisitions for NVIDIA', 'url': 'https://analyticsindiamag.com/ai-features/2024-marks-a-year-of-major-acquisitions-for-nvidia/', 'content': 'NVIDIA, the world’s leading chipmaker company, completed the acquisition of Run:ai, an Israel-based AI infrastructure platform, on Monday. From software development to healthcare, AI is catching up with every other sector, and NVIDIA wants to be at the forefront of it all. ‘NVIDIA is AI in India’ A few weeks ago, Yotta Data Services introduced Rudra, a program that provides startups and developers access to NVIDIA’s Hopper GPUs and their AI Enterprise software suite. Earlier in July, NVIDIA also announced a collaboration with six Indian PC builders – The MVP, Ant PC, Vishal Peripherals, Hi-Tech Computer Genesys Labs, XRig, and EliteHubs, to launch ‘Made in India’ PCs equipped with RTX AI. Rising 2025: India’s Premier Diversity & Inclusion Summit in Tech and AI', 'score': 0.4920179, 'raw_content': None}], 'response_time': 2.42}, 'images': [], 'answer': None, 'query': 'Nvidia recent acquisitions and their impact on company size', 'response_time': 2.42}}, {'content': {'result': 'Source: https://investorshangout.com/nvidia-vs-competitors-a-deep-dive-into-the-semiconductor-sector-240603-/\\nTitle: NVIDIA vs. Competitors: A Deep Dive into the Semiconductor Sector\\nContent: By delving into vital financial metrics, market standings, and growth opportunities, we aim to provide innovative insights for those looking to better understand NVIDIA\\'s performance among its competitors. When comparing NVIDIA to its competitors in the semiconductor and semiconductor equipment industry, several financial metrics stand out: Comparatively, this lower D/E ratio reflects on NVIDIA\\'s strong financial footing, making it a more attractive option than other competitors with higher ratios. A high Price to Book ratio suggests that the market values NVIDIA’s stock significantly over its book value, which could imply potential overvaluation. Featuring financial articles, stock message boards, quotes, charts, company profiles, and live news updates. Class Action Lawsuit Overview for Monolithic Power Systems Inc. Man Group PLC\\'s Significant Shareholding Update for Investors\\nRelevance Score: 0.7769112\\n\\nSource: https://www.nasdaq.com/articles/performance-comparison-nvidia-and-competitors-semiconductors-semiconductor-equipment\\nTitle: Performance Comparison: NVIDIA And Competitors In ... - Nasdaq\\nContent: Performance Comparison: NVIDIA And Competitors In Semiconductors & Semiconductor Equipment Industry | Nasdaq Nasdaq+ *   Nasdaq-100 In this article, we will perform an extensive industry comparison, evaluating NVIDIA (NASDAQ:NVDA) in relation to its major competitors in the Semiconductors & Semiconductor Equipment industry. By closely examining crucial financial metrics, market position, and growth prospects, we aim to offer valuable insights for investors and shed light on company\\'s performance within the industry. Add symbols now or see the quotes that matter to you, anywhere on Nasdaq.com. Add instruments now or see the quotes that matter to you, anywhere on Nasdaq.com. You\\'ll now be able to see real-time price and activity for your symbols on the My Quotes of Nasdaq.com.\\nRelevance Score: 0.74961954\\n\\nSource: https://www.benzinga.com/insights/news/25/03/44305799/competitor-analysis-evaluating-nvidia-and-competitors-in-semiconductors-amp-semiconductor-equipment\\nTitle: Competitor Analysis: Evaluating NVIDIA And Competitors In ... - Benzinga\\nContent: In this article, we will undertake a comprehensive industry comparison, evaluating NVIDIA NVDA and its primary competitors in the Semiconductors & Semiconductor Equipment industry. By closely\\nRelevance Score: 0.6929958\\n\\nSource: https://www.benzinga.com/insights/news/25/03/44358248/comparative-study-nvidia-and-industry-competitors-in-semiconductors-amp-semiconductor-equipment-ind\\nTitle: Comparative Study: NVIDIA And Industry Competitors In ... - Benzinga\\nContent: In this article, we will undertake a comprehensive industry comparison, evaluating NVIDIA NVDA and its primary competitors in the Semiconductors & Semiconductor Equipment industry. By closely\\nRelevance Score: 0.6917478\\n\\nSource: https://www.nasdaq.com/articles/industry-comparison-evaluating-nvidia-against-competitors-semiconductors-semiconductor-7\\nTitle: Industry Comparison: Evaluating NVIDIA Against Competitors In ... - Nasdaq\\nContent: Nasdaq+ *   Nasdaq-100 If you have $1 million, download “When to Retire: A Quick and Easy Planning Guide” for help retiring comfortably.Fisher Investments| [Sponsored](https://popup.taboola.com/en/?template=colorbox&utm_source=nasdaq-nasdaq&utm_medium=referral&utm_content=above-the-feed-premium-card-fp-delta:Below%20Article%20Thumbnails%20|%20Lazy%20Injected%201:)[Sponsored](https://popup.taboola.com/en/?template=colorbox&utm_source=nasdaq-nasdaq&utm_medium=referral&utm_content=above-the-feed-premium-card-fp-delta:Below%20Article%20Thumbnails%20|%20Lazy%20Injected%201:) Learn More Ask an Advisor: \"How Do I Avoid Paying Taxes on an Inherited IRA?\"SmartAsset| [Sponsored](https://popup.taboola.com/en/?template=colorbox&utm_source=nasdaq-nasdaq&utm_medium=referral&utm_content=thumbs-feed-01-b-ND:Below%20Article%20Thumbnails%20|%20Card%201:)[Sponsored](https://popup.taboola.com/en/?template=colorbox&utm_source=nasdaq-nasdaq&utm_medium=referral&utm_content=thumbs-feed-01-b-ND:Below%20Article%20Thumbnails%20|%20Card%201:) Learn More Charitable giving: Understand the tax rulesTurboTax| [Sponsored](https://popup.taboola.com/en/?template=colorbox&utm_source=nasdaq-nasdaq&utm_medium=referral&utm_content=thumbs-feed-01-b-ND:Below%20Article%20Thumbnails%20|%20Card%203:)[Sponsored](https://popup.taboola.com/en/?template=colorbox&utm_source=nasdaq-nasdaq&utm_medium=referral&utm_content=thumbs-feed-01-b-ND:Below%20Article%20Thumbnails%20|%20Card%203:) Learn More Get Your Free Credit Score Plus Tailored Financial InsightsIntuit Credit Karma| [Sponsored](https://popup.taboola.com/en/?template=colorbox&utm_source=nasdaq-nasdaq&utm_medium=referral&utm_content=thumbs-feed-01-b-ND:Below%20Article%20Thumbnails%20|%20Card%203:)[Sponsored](https://popup.taboola.com/en/?template=colorbox&utm_source=nasdaq-nasdaq&utm_medium=referral&utm_content=thumbs-feed-01-b-ND:Below%20Article%20Thumbnails%20|%20Card%203:) Sign Up Nasdaq+ *   Nasdaq-100 Sip your way through Oregon’s Food TrailsFollow Oregon’s Food Trails to tasting rooms and taprooms where winemakers and brewers share their craft one glass at a time.Travel Oregon| [Sponsored](https://popup.taboola.com/en/?template=colorbox&utm_source=nasdaq-nasdaq&utm_medium=referral&utm_content=thumbs-feed-01-y-delta:Explore%20More%20|%20Card%202:)[Sponsored](https://popup.taboola.com/en/?template=colorbox&utm_source=nasdaq-nasdaq&utm_medium=referral&utm_content=thumbs-feed-01-y-delta:Explore%20More%20|%20Card%202:) Ask an Advisor: \"How Do I Avoid Paying Taxes on an Inherited IRA?\"Take this Quiz to Find & Compare Fiduciary Financial Advisors.SmartAsset| [Sponsored](https://popup.taboola.com/en/?template=colorbox&utm_source=nasdaq-nasdaq&utm_medium=referral&utm_content=thumbs-feed-01-y-delta:Explore%20More%20|%20Card%202:)[Sponsored](https://popup.taboola.com/en/?template=colorbox&utm_source=nasdaq-nasdaq&utm_medium=referral&utm_content=thumbs-feed-01-y-delta:Explore%20More%20|%20Card%202:) Learn More\\nRelevance Score: 0.4368388', 'sources_with_url': ['[NVIDIA vs. Competitors: A Deep Dive into the Semiconductor Sector](https://investorshangout.com/nvidia-vs-competitors-a-deep-dive-into-the-semiconductor-sector-240603-/)', '[Performance Comparison: NVIDIA And Competitors In ... - Nasdaq](https://www.nasdaq.com/articles/performance-comparison-nvidia-and-competitors-semiconductors-semiconductor-equipment)', '[Competitor Analysis: Evaluating NVIDIA And Competitors In ... - Benzinga](https://www.benzinga.com/insights/news/25/03/44305799/competitor-analysis-evaluating-nvidia-and-competitors-in-semiconductors-amp-semiconductor-equipment)', '[Comparative Study: NVIDIA And Industry Competitors In ... - Benzinga](https://www.benzinga.com/insights/news/25/03/44358248/comparative-study-nvidia-and-industry-competitors-in-semiconductors-amp-semiconductor-equipment-ind)', '[Industry Comparison: Evaluating NVIDIA Against Competitors In ... - Nasdaq](https://www.nasdaq.com/articles/industry-comparison-evaluating-nvidia-against-competitors-semiconductors-semiconductor-7)'], 'raw_response': {'query': 'Nvidia comparison with competitors in the semiconductor industry 2023', 'follow_up_questions': None, 'answer': None, 'images': [], 'results': [{'title': 'NVIDIA vs. Competitors: A Deep Dive into the Semiconductor Sector', 'url': 'https://investorshangout.com/nvidia-vs-competitors-a-deep-dive-into-the-semiconductor-sector-240603-/', 'content': \"By delving into vital financial metrics, market standings, and growth opportunities, we aim to provide innovative insights for those looking to better understand NVIDIA's performance among its competitors. When comparing NVIDIA to its competitors in the semiconductor and semiconductor equipment industry, several financial metrics stand out: Comparatively, this lower D/E ratio reflects on NVIDIA's strong financial footing, making it a more attractive option than other competitors with higher ratios. A high Price to Book ratio suggests that the market values NVIDIA’s stock significantly over its book value, which could imply potential overvaluation. Featuring financial articles, stock message boards, quotes, charts, company profiles, and live news updates. Class Action Lawsuit Overview for Monolithic Power Systems Inc. Man Group PLC's Significant Shareholding Update for Investors\", 'score': 0.7769112, 'raw_content': None}, {'title': 'Performance Comparison: NVIDIA And Competitors In ... - Nasdaq', 'url': 'https://www.nasdaq.com/articles/performance-comparison-nvidia-and-competitors-semiconductors-semiconductor-equipment', 'content': \"Performance Comparison: NVIDIA And Competitors In Semiconductors & Semiconductor Equipment Industry | Nasdaq Nasdaq+ *   Nasdaq-100 In this article, we will perform an extensive industry comparison, evaluating NVIDIA (NASDAQ:NVDA) in relation to its major competitors in the Semiconductors & Semiconductor Equipment industry. By closely examining crucial financial metrics, market position, and growth prospects, we aim to offer valuable insights for investors and shed light on company's performance within the industry. Add symbols now or see the quotes that matter to you, anywhere on Nasdaq.com. Add instruments now or see the quotes that matter to you, anywhere on Nasdaq.com. You'll now be able to see real-time price and activity for your symbols on the My Quotes of Nasdaq.com.\", 'score': 0.74961954, 'raw_content': None}, {'title': 'Competitor Analysis: Evaluating NVIDIA And Competitors In ... - Benzinga', 'url': 'https://www.benzinga.com/insights/news/25/03/44305799/competitor-analysis-evaluating-nvidia-and-competitors-in-semiconductors-amp-semiconductor-equipment', 'content': 'In this article, we will undertake a comprehensive industry comparison, evaluating NVIDIA NVDA and its primary competitors in the Semiconductors & Semiconductor Equipment industry. By closely', 'score': 0.6929958, 'raw_content': None}, {'title': 'Comparative Study: NVIDIA And Industry Competitors In ... - Benzinga', 'url': 'https://www.benzinga.com/insights/news/25/03/44358248/comparative-study-nvidia-and-industry-competitors-in-semiconductors-amp-semiconductor-equipment-ind', 'content': 'In this article, we will undertake a comprehensive industry comparison, evaluating NVIDIA NVDA and its primary competitors in the Semiconductors & Semiconductor Equipment industry. By closely', 'score': 0.6917478, 'raw_content': None}, {'title': 'Industry Comparison: Evaluating NVIDIA Against Competitors In ... - Nasdaq', 'url': 'https://www.nasdaq.com/articles/industry-comparison-evaluating-nvidia-against-competitors-semiconductors-semiconductor-7', 'content': 'Nasdaq+ *   Nasdaq-100 If you have $1 million, download “When to Retire: A Quick and Easy Planning Guide” for help retiring comfortably.Fisher Investments| [Sponsored](https://popup.taboola.com/en/?template=colorbox&utm_source=nasdaq-nasdaq&utm_medium=referral&utm_content=above-the-feed-premium-card-fp-delta:Below%20Article%20Thumbnails%20|%20Lazy%20Injected%201:)[Sponsored](https://popup.taboola.com/en/?template=colorbox&utm_source=nasdaq-nasdaq&utm_medium=referral&utm_content=above-the-feed-premium-card-fp-delta:Below%20Article%20Thumbnails%20|%20Lazy%20Injected%201:) Learn More Ask an Advisor: \"How Do I Avoid Paying Taxes on an Inherited IRA?\"SmartAsset| [Sponsored](https://popup.taboola.com/en/?template=colorbox&utm_source=nasdaq-nasdaq&utm_medium=referral&utm_content=thumbs-feed-01-b-ND:Below%20Article%20Thumbnails%20|%20Card%201:)[Sponsored](https://popup.taboola.com/en/?template=colorbox&utm_source=nasdaq-nasdaq&utm_medium=referral&utm_content=thumbs-feed-01-b-ND:Below%20Article%20Thumbnails%20|%20Card%201:) Learn More Charitable giving: Understand the tax rulesTurboTax| [Sponsored](https://popup.taboola.com/en/?template=colorbox&utm_source=nasdaq-nasdaq&utm_medium=referral&utm_content=thumbs-feed-01-b-ND:Below%20Article%20Thumbnails%20|%20Card%203:)[Sponsored](https://popup.taboola.com/en/?template=colorbox&utm_source=nasdaq-nasdaq&utm_medium=referral&utm_content=thumbs-feed-01-b-ND:Below%20Article%20Thumbnails%20|%20Card%203:) Learn More Get Your Free Credit Score Plus Tailored Financial InsightsIntuit Credit Karma| [Sponsored](https://popup.taboola.com/en/?template=colorbox&utm_source=nasdaq-nasdaq&utm_medium=referral&utm_content=thumbs-feed-01-b-ND:Below%20Article%20Thumbnails%20|%20Card%203:)[Sponsored](https://popup.taboola.com/en/?template=colorbox&utm_source=nasdaq-nasdaq&utm_medium=referral&utm_content=thumbs-feed-01-b-ND:Below%20Article%20Thumbnails%20|%20Card%203:) Sign Up Nasdaq+ *   Nasdaq-100 Sip your way through Oregon’s Food TrailsFollow Oregon’s Food Trails to tasting rooms and taprooms where winemakers and brewers share their craft one glass at a time.Travel Oregon| [Sponsored](https://popup.taboola.com/en/?template=colorbox&utm_source=nasdaq-nasdaq&utm_medium=referral&utm_content=thumbs-feed-01-y-delta:Explore%20More%20|%20Card%202:)[Sponsored](https://popup.taboola.com/en/?template=colorbox&utm_source=nasdaq-nasdaq&utm_medium=referral&utm_content=thumbs-feed-01-y-delta:Explore%20More%20|%20Card%202:) Ask an Advisor: \"How Do I Avoid Paying Taxes on an Inherited IRA?\"Take this Quiz to Find & Compare Fiduciary Financial Advisors.SmartAsset| [Sponsored](https://popup.taboola.com/en/?template=colorbox&utm_source=nasdaq-nasdaq&utm_medium=referral&utm_content=thumbs-feed-01-y-delta:Explore%20More%20|%20Card%202:)[Sponsored](https://popup.taboola.com/en/?template=colorbox&utm_source=nasdaq-nasdaq&utm_medium=referral&utm_content=thumbs-feed-01-y-delta:Explore%20More%20|%20Card%202:) Learn More', 'score': 0.4368388, 'raw_content': None}], 'response_time': 1.75}, 'images': [], 'answer': None, 'query': 'Nvidia comparison with competitors in the semiconductor industry 2023', 'response_time': 1.75}}]}\n",
            "INFO:dynamiq.utils.logger:Tool Convert to Documents - convert_to_documents: finished with RESULT:\n",
            "{'documents': [Document(id='bd323260ac9d4dc4bbd97b352fa07e60', content=\"NVIDIA (NVDA) - Revenue Ranking by countries Ranking by categories Rank Revenue Price history P/E ratio P/S ratio P/B ratio Oper...\n",
            "INFO:dynamiq.utils.logger:Node Convert to Documents - convert_to_documents: execution succeeded in 28ms.\n",
            "INFO:dynamiq.utils.logger:Node Embed Documents - embed_documents: execution started.\n",
            "INFO:dynamiq.utils.logger:Node Embed Documents - embed_documents: execution succeeded in 736ms.\n",
            "INFO:dynamiq.utils.logger:Node Store Documents - store_documents: execution started.\n",
            "INFO:dynamiq.utils.logger:Node Store Documents - store_documents: execution succeeded in 451ms.\n",
            "INFO:dynamiq.utils.logger:Flow d4ac5a94-5605-49ac-b795-55717354d6cf: execution succeeded in 14.2s.\n",
            "INFO:dynamiq.utils.logger:Workflow 0411b1e0-e72f-4244-9268-bfe7431cddb7: execution succeeded in 14.2s.\n"
          ]
        }
      ],
      "source": [
        "research_workflow = create_research_workflow()\n",
        "research_workflow.run(input_data={\"input\": USER_QUERY})"
      ]
    },
    {
      "cell_type": "markdown",
      "metadata": {
        "id": "PkYNpWr0pZnF"
      },
      "source": [
        "# Step 2: Generate report from stored data"
      ]
    },
    {
      "cell_type": "markdown",
      "metadata": {
        "id": "8iyVQqCp1pVm"
      },
      "source": [
        "This workflow retrieves the most relevant documents from Weaviate and uses an LLM agent to generate a structured markdown report."
      ]
    },
    {
      "cell_type": "code",
      "execution_count": 114,
      "metadata": {
        "id": "VKbSI0hGpdt2"
      },
      "outputs": [],
      "source": [
        "def create_report_workflow():\n",
        "    \"\"\"Creates a report-generation workflow using retrieved documents from Weaviate.\"\"\"\n",
        "\n",
        "    text_embedder = OpenAITextEmbedder()\n",
        "    retriever = WeaviateDocumentRetriever(index_name=\"Default\", top_k=5)\n",
        "\n",
        "    retriever_tool = VectorStoreRetriever(\n",
        "        text_embedder=text_embedder,\n",
        "        document_retriever=retriever,\n",
        "        is_optimized_for_agents=True\n",
        "    )\n",
        "\n",
        "    # Agent to generate the report\n",
        "    report_agent = ReActAgent(\n",
        "        id=\"report_writer\",\n",
        "        llm=OpenAI(model='gpt-4o'),\n",
        "        tools=[retriever_tool],\n",
        "        role=\"Create a detailed markdown report based on retrieved information.\\n\"\n",
        "             \"Ensure that all special characters are properly escaped.\\n\"\n",
        "             \"Cite sources in APA style.\",\n",
        "    )\n",
        "\n",
        "    # Create and return the workflow\n",
        "    workflow = Workflow()\n",
        "    workflow.flow.add_nodes(report_agent)\n",
        "    return workflow"
      ]
    },
    {
      "cell_type": "code",
      "execution_count": 112,
      "metadata": {
        "colab": {
          "base_uri": "https://localhost:8080/"
        },
        "id": "mJUlS_gGpbRS",
        "outputId": "2baee221-220f-465e-96e8-7ed64d47898b"
      },
      "outputs": [
        {
          "name": "stderr",
          "output_type": "stream",
          "text": [
            "INFO:dynamiq.utils.logger:Workflow 9779d062-26d5-4d5f-b4d5-1bbcc9b097b2: execution started.\n",
            "INFO:dynamiq.utils.logger:Flow 91577226-796c-4801-9423-06edbbbb891f: execution started.\n",
            "INFO:dynamiq.utils.logger:Node React Agent - report_writer: execution started.\n",
            "INFO:dynamiq.utils.logger:Agent React Agent - report_writer: started with input {'input': 'How big is Nvidia?', 'images': None, 'files': None, 'user_id': None, 'session_id': None, 'metadata': {}, 'tool_params': ToolParams(global_params={}, by_name_params={}, by_id_params={})}\n",
            "INFO:dynamiq.utils.logger:Node LLM - bd65e33c-0c2b-459a-bb1d-4a055e303e51: execution started.\n",
            "INFO:dynamiq.utils.logger:Node LLM - bd65e33c-0c2b-459a-bb1d-4a055e303e51: execution succeeded in 1.6s.\n",
            "INFO:dynamiq.utils.logger:Agent React Agent - report_writer: Loop 1, reasoning:\n",
            "Thought: To provide a comprehensive answer about Nvidia's size, I should consider various aspects such as market capitalization, revenue, employee count, and global presence. I will retrieve the most ...\n",
            "INFO:dynamiq.utils.logger:\n",
            "------------------------------------------\n",
            "Agent React Agent: Loop 1:\n",
            "Thought: To provide a comprehensive answer about Nvidia's size, I should consider various aspects such as market capitalization, revenue, employee count, and global presence. I will retrieve the most relevant and up-to-date information about Nvidia's size.\n",
            "Action: VectorStore-Retriever\n",
            "Action Input: {'query': 'Nvidia size market capitalization revenue employees global presence', 'alpha': 0.5, 'filters': {}, 'top_k': 5}\n",
            "------------------------------------------\n",
            "INFO:dynamiq.utils.logger:Node VectorStore Retriever - d7f2e600-5430-4925-bfd6-516b41deee0a: execution started.\n",
            "INFO:dynamiq.utils.logger:Tool VectorStore Retriever - d7f2e600-5430-4925-bfd6-516b41deee0a: started with INPUT DATA:\n",
            "{'query': 'Nvidia size market capitalization revenue employees global presence', 'alpha': 0.5, 'filters': {}, 'top_k': 5}\n",
            "INFO:dynamiq.utils.logger:Node OpenAITextEmbedder - 61583579-7483-4d50-a047-abe7c65e3776: execution started.\n",
            "INFO:dynamiq.utils.logger:Node OpenAITextEmbedder - 61583579-7483-4d50-a047-abe7c65e3776: execution succeeded in 647ms.\n",
            "INFO:dynamiq.utils.logger:Node WeaviateDocumentRetriever - 2a1b362e-c514-47fd-a6b2-3c155c455127: execution started.\n",
            "INFO:dynamiq.utils.logger:Node WeaviateDocumentRetriever - 2a1b362e-c514-47fd-a6b2-3c155c455127: execution succeeded in 234ms.\n",
            "INFO:dynamiq.utils.logger:Tool VectorStore Retriever - d7f2e600-5430-4925-bfd6-516b41deee0a: finished with RESULT:\n",
            "Source 1\n",
            "Url: https://www.macrotrends.net/stocks/charts/NVDA/nvidia/market-cap\n",
            "Content: Market capitalization (or market value) is the most commonly used method of measuring the size of a publicly tra...\n",
            "INFO:dynamiq.utils.logger:Node VectorStore Retriever - d7f2e600-5430-4925-bfd6-516b41deee0a: execution succeeded in 891ms.\n",
            "INFO:dynamiq.utils.logger:Node LLM - bd65e33c-0c2b-459a-bb1d-4a055e303e51: execution started.\n",
            "INFO:dynamiq.utils.logger:Node LLM - bd65e33c-0c2b-459a-bb1d-4a055e303e51: execution succeeded in 3.7s.\n",
            "INFO:dynamiq.utils.logger:Agent React Agent - report_writer: Loop 2, reasoning:\n",
            "Thought: I have gathered sufficient information about Nvidia's size, including its market capitalization, revenue, and industry position. I will now compile this information into a detailed report.\n",
            "\n",
            "A...\n",
            "INFO:dynamiq.utils.logger:\n",
            "------------------------------------------\n",
            "Agent React Agent: Loop 2\n",
            "Final answer: ### Nvidia Corporation: Company Size Overview\n",
            "\n",
            "**Market Capitalization:**\n",
            "As of March 4, 2025, Nvidia's market capitalization is approximately $3.19 trillion, making it the second most valuable company globally by market cap (Macrotrends, 2025; CompaniesMarketCap, 2025).\n",
            "\n",
            "**Revenue:**\n",
            "Nvidia reported a revenue of $60.922 billion, highlighting its significant financial performance in the semiconductor industry (Macrotrends, 2025).\n",
            "\n",
            "**Industry Position:**\n",
            "Nvidia is a leading player in the computer and technology sector, specifically within the semiconductor industry. It is renowned for its innovations in visual computing technologies and the development of the graphics processing unit (GPU). The company's focus has expanded from PC graphics to artificial intelligence (AI) solutions, supporting high-performance computing, gaming, and virtual reality platforms (Macrotrends, 2025).\n",
            "\n",
            "**Global Presence:**\n",
            "Nvidia operates on a global scale, contributing to various multi-billion-dollar markets such as robotics and self-driving vehicles. It is a dominant force in data centers, professional visualization, and gaming markets, where it competes with companies like Intel and Advanced Micro Devices (Macrotrends, 2025).\n",
            "\n",
            "**Company Background:**\n",
            "Founded in January 1993 by Jen-Hsun Huang, Curtis Priem, and Chris Malachowsky, Nvidia operates on a fabless model, meaning it designs but does not manufacture its own chips. This strategic approach has allowed Nvidia to focus on innovation and market expansion (CompaniesMarketCap, 2025).\n",
            "\n",
            "### References\n",
            "- Macrotrends. (2025). Nvidia Market Cap. Retrieved from https://www.macrotrends.net/stocks/charts/NVDA/nvidia/market-cap\n",
            "- CompaniesMarketCap. (2025). Nvidia Market Capitalization. Retrieved from https://companiesmarketcap.com/nvidia/marketcap/\n",
            "------------------------------------------\n",
            "\n",
            "INFO:dynamiq.utils.logger:Node React Agent - report_writer: finished with RESULT:\n",
            "### Nvidia Corporation: Company Size Overview\n",
            "\n",
            "**Market Capitalization:**\n",
            "As of March 4, 2025, Nvidia's market capitalization is approximately $3.19 trillion, making it the second most valuable compan...\n",
            "INFO:dynamiq.utils.logger:Node React Agent - report_writer: execution succeeded in 6.2s.\n",
            "INFO:dynamiq.utils.logger:Flow 91577226-796c-4801-9423-06edbbbb891f: execution succeeded in 6.2s.\n",
            "INFO:dynamiq.utils.logger:Workflow 9779d062-26d5-4d5f-b4d5-1bbcc9b097b2: execution succeeded in 6.2s.\n"
          ]
        }
      ],
      "source": [
        "report_workflow = create_report_workflow()\n",
        "result = report_workflow.run(input_data={\"input\": USER_QUERY})"
      ]
    },
    {
      "cell_type": "markdown",
      "metadata": {
        "id": "Uo-AQBia3oXm"
      },
      "source": [
        "## Results"
      ]
    },
    {
      "cell_type": "code",
      "execution_count": 113,
      "metadata": {
        "colab": {
          "base_uri": "https://localhost:8080/",
          "height": 375
        },
        "id": "7n5SQgLRxX3q",
        "outputId": "02a8431b-1f5d-47e4-8d35-62251b348556"
      },
      "outputs": [
        {
          "data": {
            "text/markdown": [
              "### Nvidia Corporation: Company Size Overview\n",
              "\n",
              "**Market Capitalization:**\n",
              "As of March 4, 2025, Nvidia's market capitalization is approximately $3.19 trillion, making it the second most valuable company globally by market cap (Macrotrends, 2025; CompaniesMarketCap, 2025).\n",
              "\n",
              "**Revenue:**\n",
              "Nvidia reported a revenue of $60.922 billion, highlighting its significant financial performance in the semiconductor industry (Macrotrends, 2025).\n",
              "\n",
              "**Industry Position:**\n",
              "Nvidia is a leading player in the computer and technology sector, specifically within the semiconductor industry. It is renowned for its innovations in visual computing technologies and the development of the graphics processing unit (GPU). The company's focus has expanded from PC graphics to artificial intelligence (AI) solutions, supporting high-performance computing, gaming, and virtual reality platforms (Macrotrends, 2025).\n",
              "\n",
              "**Global Presence:**\n",
              "Nvidia operates on a global scale, contributing to various multi-billion-dollar markets such as robotics and self-driving vehicles. It is a dominant force in data centers, professional visualization, and gaming markets, where it competes with companies like Intel and Advanced Micro Devices (Macrotrends, 2025).\n",
              "\n",
              "**Company Background:**\n",
              "Founded in January 1993 by Jen-Hsun Huang, Curtis Priem, and Chris Malachowsky, Nvidia operates on a fabless model, meaning it designs but does not manufacture its own chips. This strategic approach has allowed Nvidia to focus on innovation and market expansion (CompaniesMarketCap, 2025).\n",
              "\n",
              "### References\n",
              "- Macrotrends. (2025). Nvidia Market Cap. Retrieved from https://www.macrotrends.net/stocks/charts/NVDA/nvidia/market-cap\n",
              "- CompaniesMarketCap. (2025). Nvidia Market Capitalization. Retrieved from https://companiesmarketcap.com/nvidia/marketcap/"
            ],
            "text/plain": [
              "<IPython.core.display.Markdown object>"
            ]
          },
          "metadata": {},
          "output_type": "display_data"
        }
      ],
      "source": [
        "Sfrom IPython.display import display, Markdown\n",
        "\n",
        "final_report = result.output[\"report_writer\"].get(\"output\", {}).get(\"content\")\n",
        "\n",
        "display(Markdown(final_report))"
      ]
    }
  ],
  "metadata": {
    "colab": {
      "provenance": []
    },
    "kernelspec": {
      "display_name": "Python 3",
      "name": "python3"
    },
    "language_info": {
      "name": "python"
    }
  },
  "nbformat": 4,
  "nbformat_minor": 0
}
