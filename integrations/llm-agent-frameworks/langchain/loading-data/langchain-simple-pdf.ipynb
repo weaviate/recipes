{
 "cells": [
  {
   "cell_type": "markdown",
   "metadata": {},
   "source": [
    "[![Open In Colab](https://colab.research.google.com/assets/colab-badge.svg)](https://colab.research.google.com/github/weaviate/recipes/blob/main/integrations/llm-agent-frameworks/langchain/loading-data/langchain-simple-pdf.ipynb)"
   ]
  },
  {
   "cell_type": "markdown",
   "metadata": {},
   "source": [
    "# Multilanguage RAG filtering by multiple PDFs with Langchain and OpenAi"
   ]
  },
  {
   "cell_type": "code",
   "execution_count": null,
   "metadata": {},
   "outputs": [],
   "source": [
    "# lets install our super tools\n",
    "%pip install -Uqq langchain-weaviate langchain-community\n",
    "%pip install langchain-openai tiktoken langchain pypdf"
   ]
  },
  {
   "cell_type": "markdown",
   "metadata": {},
   "source": [
    "you must have a valid key for OpenAi in OPENAI_API_KEY environment variable"
   ]
  },
  {
   "cell_type": "code",
   "execution_count": null,
   "metadata": {},
   "outputs": [
    {
     "name": "stdout",
     "output_type": "stream",
     "text": [
      "Started /Users/dudanogueira/.cache/weaviate-embedded: process ID 41028\n"
     ]
    },
    {
     "name": "stderr",
     "output_type": "stream",
     "text": [
      "{\"action\":\"startup\",\"default_vectorizer_module\":\"none\",\"level\":\"info\",\"msg\":\"the default vectorizer modules is set to \\\"none\\\", as a result all new schema classes without an explicit vectorizer setting, will use this vectorizer\",\"time\":\"2024-09-02T14:43:58-03:00\"}\n",
      "{\"action\":\"startup\",\"auto_schema_enabled\":true,\"level\":\"info\",\"msg\":\"auto schema enabled setting is set to \\\"true\\\"\",\"time\":\"2024-09-02T14:43:58-03:00\"}\n",
      "{\"level\":\"info\",\"msg\":\"No resource limits set, weaviate will use all available memory and CPU. To limit resources, set LIMIT_RESOURCES=true\",\"time\":\"2024-09-02T14:43:58-03:00\"}\n",
      "{\"level\":\"warning\",\"msg\":\"Multiple vector spaces are present, GraphQL Explore and REST API list objects endpoint module include params has been disabled as a result.\",\"time\":\"2024-09-02T14:43:58-03:00\"}\n",
      "{\"action\":\"grpc_startup\",\"level\":\"info\",\"msg\":\"grpc server listening at [::]:50050\",\"time\":\"2024-09-02T14:43:58-03:00\"}\n",
      "{\"action\":\"restapi_management\",\"level\":\"info\",\"msg\":\"Serving weaviate at http://127.0.0.1:8079\",\"time\":\"2024-09-02T14:43:58-03:00\"}\n"
     ]
    },
    {
     "name": "stdout",
     "output_type": "stream",
     "text": [
      "Client is Ready? True\n"
     ]
    },
    {
     "name": "stderr",
     "output_type": "stream",
     "text": [
      "{\"level\":\"info\",\"msg\":\"Completed loading shard testcollection_64HzLSXOVuGn in 3.169709ms\",\"time\":\"2024-09-02T14:43:59-03:00\"}\n",
      "{\"level\":\"info\",\"msg\":\"Completed loading shard testcollection2_AhtmABIV35w1 in 3.222792ms\",\"time\":\"2024-09-02T14:43:59-03:00\"}\n",
      "{\"action\":\"hnsw_vector_cache_prefill\",\"count\":3000,\"index_id\":\"main\",\"level\":\"info\",\"limit\":1000000000000,\"msg\":\"prefilled vector cache\",\"time\":\"2024-09-02T14:43:59-03:00\",\"took\":46208}\n",
      "{\"action\":\"hnsw_vector_cache_prefill\",\"count\":3000,\"index_id\":\"main\",\"level\":\"info\",\"limit\":1000000000000,\"msg\":\"prefilled vector cache\",\"time\":\"2024-09-02T14:43:59-03:00\",\"took\":41625}\n",
      "{\"level\":\"info\",\"msg\":\"Completed loading shard wikipedialangchain_m1fT5DHE8evq in 2.359167ms\",\"time\":\"2024-09-02T14:43:59-03:00\"}\n",
      "{\"action\":\"hnsw_vector_cache_prefill\",\"count\":3000,\"index_id\":\"main\",\"level\":\"info\",\"limit\":1000000000000,\"msg\":\"prefilled vector cache\",\"time\":\"2024-09-02T14:43:59-03:00\",\"took\":43500}\n"
     ]
    }
   ],
   "source": [
    "import weaviate, os\n",
    "\n",
    "client = weaviate.connect_to_embedded(\n",
    "    headers={\n",
    "        \"X-OpenAi-Api-Key\": os.environ.get(\"OPENAI_API_KEY\"), # Replace with your OpenAi key\n",
    "    }\n",
    ")\n",
    "\n",
    "print(\"Client is Ready?\", client.is_ready())"
   ]
  },
  {
   "cell_type": "markdown",
   "metadata": {},
   "source": [
    "## Let's create our Collection beforehand\n",
    "\n",
    "this will ensure the collection is created with a vectorizer and generative config. \n",
    "Make sure to use the same model while creating and passing the embeddings to langchain"
   ]
  },
  {
   "cell_type": "code",
   "execution_count": 3,
   "metadata": {},
   "outputs": [
    {
     "name": "stderr",
     "output_type": "stream",
     "text": [
      "{\"level\":\"info\",\"msg\":\"Created shard wikipedialangchain_TYt3LayzT5YG in 838.042µs\",\"time\":\"2024-09-02T14:44:03-03:00\"}\n",
      "{\"action\":\"hnsw_vector_cache_prefill\",\"count\":1000,\"index_id\":\"main\",\"level\":\"info\",\"limit\":1000000000000,\"msg\":\"prefilled vector cache\",\"time\":\"2024-09-02T14:44:03-03:00\",\"took\":38959}\n"
     ]
    }
   ],
   "source": [
    "from weaviate import classes as wvc\n",
    "# clear this collection before creating it\n",
    "client.collections.delete(\"WikipediaLangChain\")\n",
    "# lets make sure its vectorizer is what the one we want\n",
    "collection = client.collections.create(\n",
    "    name=\"WikipediaLangChain\",\n",
    "    vectorizer_config=wvc.config.Configure.Vectorizer.text2vec_openai(),\n",
    "    generative_config=wvc.config.Configure.Generative.openai(),\n",
    ")"
   ]
  },
  {
   "cell_type": "markdown",
   "metadata": {},
   "source": [
    "Now we have a Weaviate client!\n",
    "Let's read our 2 pdf files, [brazil-wikipedia-article-text.pdf](./brazil-wikipedia-article-text.pdf) and [netherlands-wikipedia-article-text.pdf](./netherlands-wikipedia-article-text.pdf)\n",
    "\n",
    "Then chunk them and ingest using Langchain."
   ]
  },
  {
   "cell_type": "code",
   "execution_count": null,
   "metadata": {},
   "outputs": [
    {
     "name": "stdout",
     "output_type": "stream",
     "text": [
      "GOT 247 docs for Brazil\n",
      "GOT 274 docs for Netherlands\n"
     ]
    }
   ],
   "source": [
    "from langchain.text_splitter import RecursiveCharacterTextSplitter\n",
    "from langchain_openai import OpenAIEmbeddings\n",
    "\n",
    "from langchain.document_loaders import PyPDFLoader\n",
    "\n",
    "from langchain_weaviate.vectorstores import WeaviateVectorStore\n",
    "\n",
    "text_splitter = RecursiveCharacterTextSplitter(chunk_size=400, chunk_overlap=50)\n",
    "embeddings = OpenAIEmbeddings()\n",
    "\n",
    "# import first article\n",
    "loader = PyPDFLoader(\"brazil-wikipedia-article-text.pdf\", extract_images=False)\n",
    "docs = loader.load_and_split(text_splitter)\n",
    "print(f\"GOT {len(docs)} docs for Brazil\")\n",
    "db = WeaviateVectorStore.from_documents(docs, embeddings, client=client, index_name=\"WikipediaLangChain\")\n",
    "\n",
    "\n",
    "# import second article\n",
    "loader = PyPDFLoader(\"netherlands-wikipedia-article-text.pdf\", extract_images=False)\n",
    "docs = loader.load_and_split(text_splitter)\n",
    "print(f\"GOT {len(docs)} docs for Netherlands\")\n",
    "db = WeaviateVectorStore.from_documents(docs, embeddings, client=client, index_name=\"WikipediaLangChain\")"
   ]
  },
  {
   "cell_type": "code",
   "execution_count": 5,
   "metadata": {},
   "outputs": [],
   "source": [
    "# lets first get our collection\n",
    "collection = client.collections.get(\"WikipediaLangChain\")"
   ]
  },
  {
   "cell_type": "markdown",
   "metadata": {},
   "source": [
    "let's count how many objects we have in total"
   ]
  },
  {
   "cell_type": "code",
   "execution_count": 6,
   "metadata": {},
   "outputs": [
    {
     "name": "stdout",
     "output_type": "stream",
     "text": [
      "AggregateReturn(properties={}, total_count=521)\n"
     ]
    }
   ],
   "source": [
    "response = collection.aggregate.over_all(total_count=True)\n",
    "print(response)"
   ]
  },
  {
   "cell_type": "markdown",
   "metadata": {},
   "source": [
    "Now, how many objects we have per source?"
   ]
  },
  {
   "cell_type": "code",
   "execution_count": 7,
   "metadata": {},
   "outputs": [
    {
     "name": "stdout",
     "output_type": "stream",
     "text": [
      "netherlands-wikipedia-article-text.pdf 274\n",
      "brazil-wikipedia-article-text.pdf 247\n"
     ]
    }
   ],
   "source": [
    "response = collection.aggregate.over_all(group_by=\"source\")\n",
    "for group in response.groups:\n",
    "    print(group.grouped_by.value, group.total_count)"
   ]
  },
  {
   "cell_type": "markdown",
   "metadata": {},
   "source": [
    "Langchain added some metadata, like `source` `page`. Let's get one object."
   ]
  },
  {
   "cell_type": "code",
   "execution_count": 8,
   "metadata": {},
   "outputs": [],
   "source": [
    "object = collection.query.fetch_objects(limit=1).objects[0]"
   ]
  },
  {
   "cell_type": "code",
   "execution_count": 9,
   "metadata": {},
   "outputs": [
    {
     "data": {
      "text/plain": [
       "dict_keys(['text', 'page', 'source'])"
      ]
     },
     "execution_count": 9,
     "metadata": {},
     "output_type": "execute_result"
    }
   ],
   "source": [
    "object.properties.keys()"
   ]
  },
  {
   "cell_type": "code",
   "execution_count": 10,
   "metadata": {},
   "outputs": [
    {
     "name": "stdout",
     "output_type": "stream",
     "text": [
      "netherlands-wikipedia-article-text.pdf\n",
      "0.0\n",
      "Belgium to the south, with a North Sea coastline to the north and west. It also has\n",
      "a border with France on the split island of Saint Martin in the Caribbean. It shares\n",
      "maritime borders with the United Kingdom, Germany and Belgium. The official\n",
      "language is Dutch, with West Frisian as a secondary official language in the\n"
     ]
    }
   ],
   "source": [
    "print(object.properties.get(\"source\"))\n",
    "print(object.properties.get(\"page\"))\n",
    "print(object.properties.get(\"text\"))"
   ]
  },
  {
   "cell_type": "markdown",
   "metadata": {},
   "source": [
    "## Let's ask in French, a content in English"
   ]
  },
  {
   "cell_type": "code",
   "execution_count": 11,
   "metadata": {},
   "outputs": [
    {
     "name": "stdout",
     "output_type": "stream",
     "text": [
      "La nourriture traditionnelle du Brésil comprend des plats tels que la farine (farofa), les pommes de terre frites, la cassave frite, la banane frite, la viande frite et le fromage frit. Des snacks populaires incluent le pastel (une pâtisserie frite), la coxinha (une variation de croquette de poulet), le pão de queijo (pain au fromage et farine de manioc / tapioca), la pamonha (pâte de maïs et de lait), l'esfirra (une variation de pâtisserie libanaise) et l'acarajé (de la cuisine africaine). Les plats traditionnels incluent la feijoada, considérée comme le plat national du pays, ainsi que des plats régionaux tels que le beiju, le feijão tropeiro, le vatapá, la moqueca, la polenta (de la cuisine italienne), le kibbeh (de la cuisine arabe), l'empanada et l'empada. Les desserts brésiliens comprennent des douceurs comme les brigadeiros (boules de fudge au chocolat), le bolo de rolo (gâteau roulé à la goiabada), la cocada (une douceur à la noix de coco), les beijinhos (truffes à la noix de coco et au clou de girofle) et le Romeu e Julieta (fromage avec de la goiabada). Les boissons traditionnelles incluent le café et la cachaça, une liqueur brésilienne distillée à partir de canne à sucre et utilisée dans le cocktail national, la Caipirinha.\n"
     ]
    }
   ],
   "source": [
    "# lets do a RAG directly using only Weaviate\n",
    "\n",
    "# This is our prompt.\n",
    "generateTask = \"Quelle est la nourriture traditionnelle de ce pays?\"\n",
    "# lets filter it out, and only use this specific file\n",
    "source_file = \"brazil-wikipedia-article-text.pdf\"\n",
    "#source_file = \"netherlands-wikipedia-article-text.pdf\"\n",
    "\n",
    "query = collection.generate.near_text(\n",
    "    query=\"tradicional food\",\n",
    "    filters=wvc.query.Filter.by_property(\"source\").equal(source_file),\n",
    "    limit=10,\n",
    "    grouped_task=generateTask\n",
    ")\n",
    "print(query.generated)"
   ]
  },
  {
   "cell_type": "markdown",
   "metadata": {},
   "source": [
    "those were some of the objects used for this generation"
   ]
  },
  {
   "cell_type": "code",
   "execution_count": 12,
   "metadata": {},
   "outputs": [
    {
     "name": "stdout",
     "output_type": "stream",
     "text": [
      "{'text': 'flour (farofa). Fried potatoes, fried cassava, fried banana, fried meat and fried cheese are very often eaten in lunch and\\nserved in most typical restaurants. Popular snacks are pastel (a fried pastry); coxinha (a variation of chicken croquete); pão\\nde queijo (cheese bread and cassava flour / tapioca); pamonha (corn and milk paste); esfirra (a variation of Lebanese', 'page': 13.0, 'source': 'brazil-wikipedia-article-text.pdf'}\n",
      "{'text': \"Cuisine\\nBrazilian cuisine varies greatly by region, reflecting the country's varying mix of indigenous and immigrant populations. This\\nhas created a national cuisine marked by the preservation of regional differences. Examples are Feijoada, considered the\\ncountry's national dish; and regional foods such as beiju, feijão tropeiro, vatapá, moqueca, polenta (from Italian cuisine) and\", 'page': 13.0, 'source': 'brazil-wikipedia-article-text.pdf'}\n",
      "{'text': 'pastry); kibbeh (from Arabic cuisine); empanada (pastry) and empada, little salt pies filled with shrimps or heart of palm.\\nBrazil has a variety of desserts such as brigadeiros (chocolate fudge balls), bolo de rolo (roll cake with goiabada), cocada (a\\ncoconut sweet), beijinhos (coconut truffles and clove) and Romeu e Julieta (cheese with goiabada). Peanuts are used to', 'page': 13.0, 'source': 'brazil-wikipedia-article-text.pdf'}\n",
      "{'text': \"acarajé (from African cuisine).\\nThe national beverage is coffee and cachaça is Brazil's native liquor. Cachaça is distilled from sugar cane and is the main\\ningredient in the national cocktail, Caipirinha.\\nA typical meal consists mostly of rice and beans with beef, salad, french fries and a fried egg. Often, it is mixed with cassava\", 'page': 13.0, 'source': 'brazil-wikipedia-article-text.pdf'}\n",
      "{'text': 'make paçoca, rapadura and pé-de-moleque. Local common fruits like açaí, cupuaçu, mango, papaya, cocoa, cashew,\\nguava, orange, lime, passionfruit, pineapple, and hog plum are turned in juices and used to make chocolates, ice pops and\\nice cream.\\nCinema\\nThe Brazilian film industry began in the late 19th century, during the early days of the Belle Époque. While there were', 'page': 13.0, 'source': 'brazil-wikipedia-article-text.pdf'}\n",
      "{'text': 'especially in the twentieth century.\\nPopular music since the late eighteenth century began to show signs of forming a characteristically Brazilian sound, with\\nsamba considered the most typical and on the UNESCO cultural heritage list. Maracatu and Afoxê are two music traditions', 'page': 12.0, 'source': 'brazil-wikipedia-article-text.pdf'}\n",
      "{'text': 'music referred to as capoeira music, which is usually considered to be a call-and-response type of folk music. Forró is a\\ntype of folk music prominent during the Festa Junina in northeastern Brazil. Jack A. Draper III, a professor of Portuguese at\\nthe University of Missouri, argues that Forró was used as a way to subdue feelings of nostalgia for a rural lifestyle.', 'page': 13.0, 'source': 'brazil-wikipedia-article-text.pdf'}\n",
      "{'text': 'characterized by traditional Portuguese festivities,\\nReligious pluralism increased during the 20th century, and the Protestant community has grown to include over 22% of the\\npopulation. The most common Protestant denominations are Evangelical Pentecostal ones. Other Protestant branches with', 'page': 10.0, 'source': 'brazil-wikipedia-article-text.pdf'}\n",
      "{'text': 'language, cuisine, music, dance and religion.\\nBrazilian art has developed since the 16th century into different styles that range from Baroque (the dominant style in Brazil\\nuntil the early 19th century) to Romanticism, Modernism, Expressionism, Cubism, Surrealism and Abstractionism. Brazilian', 'page': 12.0, 'source': 'brazil-wikipedia-article-text.pdf'}\n",
      "{'text': 'The pottery was found near Santarém and provides evidence that the region supported a complex prehistoric culture. The\\nMarajoara culture flourished on Marajó in the Amazon delta from AD 400 to 1400, developing sophisticated pottery, social\\nstratification, large populations, mound building, and complex social formations such as chiefdoms.', 'page': 1.0, 'source': 'brazil-wikipedia-article-text.pdf'}\n"
     ]
    }
   ],
   "source": [
    "for object in query.objects[0:10]:\n",
    "    print(object.properties)"
   ]
  },
  {
   "cell_type": "markdown",
   "metadata": {},
   "source": [
    "Note that we used a filter, so the content will be searched and generated only for that specific pdf.\n",
    "Let's change the filter to the second pdf file."
   ]
  },
  {
   "cell_type": "code",
   "execution_count": 13,
   "metadata": {},
   "outputs": [
    {
     "name": "stdout",
     "output_type": "stream",
     "text": [
      "The traditional food of the Netherlands typically consists of potatoes, meat, and seasonal vegetables for dinner. The diet was historically high in carbohydrates and fat, reflecting the needs of laborers. Some typical Dutch foods include mayonnaise, whole-grain mustards, chocolate, buttermilk, seafood like herring and mussels, and pastries like stroopwafel and gevulde koek. The cuisine varies by region, with different specialties in the north, south, and western parts of the country. Beer and Jenever are traditional alcoholic beverages in the region.\n"
     ]
    }
   ],
   "source": [
    "# We can filter it out, now for Netherlands\n",
    "generateTask = \"Qual é a comida tradicional deste país?. Answer in english\"\n",
    "# now generating the answer using Wikipedia\n",
    "source_file = \"netherlands-wikipedia-article-text.pdf\"\n",
    "\n",
    "query = collection.generate.near_text(\n",
    "    query=\"tradicional food\",\n",
    "    filters=wvc.query.Filter.by_property(\"source\").equal(source_file),\n",
    "    limit=10,\n",
    "    grouped_task=generateTask\n",
    ")\n",
    "\n",
    "print(query.generated)"
   ]
  },
  {
   "cell_type": "markdown",
   "metadata": {},
   "source": [
    "And of course, we can use different filters, and get different content for our questions"
   ]
  },
  {
   "cell_type": "code",
   "execution_count": 14,
   "metadata": {},
   "outputs": [
    {
     "name": "stdout",
     "output_type": "stream",
     "text": [
      "Both Brazil and the Netherlands have a variety of fried foods in their cuisine. In Brazil, fried potatoes, fried cassava, fried banana, fried meat, and fried cheese are commonly eaten, while in the Netherlands, fried fish dishes like kibbeling and lekkerbek are popular. Additionally, both countries have a tradition of using flour in their dishes, such as in Brazilian farofa and Dutch cookies and pastries.\n"
     ]
    }
   ],
   "source": [
    "# We can filter it out for multilpe sources\n",
    "generateTask = \"What is in common on the food of thouse two countries?\"\n",
    "# now generating the answer using Wikipedia\n",
    "source_files = [\"netherlands-wikipedia-article-text.pdf\", \"brazil-wikipedia-article-text.pdf\"]\n",
    "\n",
    "query = collection.generate.near_text(\n",
    "    query=\"tradicional food\",\n",
    "    filters=wvc.query.Filter.by_property(\"source\").contains_any(source_files),\n",
    "    limit=10,\n",
    "    grouped_task=generateTask\n",
    ")\n",
    "\n",
    "print(query.generated)"
   ]
  },
  {
   "cell_type": "markdown",
   "metadata": {},
   "source": [
    "## Using Langchain to query data and answer questions\n",
    "\n",
    "Up until now, we used Langchain to ingest our data, and we queried Weaviate directly.\n",
    "\n",
    "Now, let's use Langchain also to query. If you noticed, after ingesting our data, langchain will return us a vectorstore. \n",
    "\n",
    "We can use that vector store, or initiate a new one. Let's initiate a new one, passing an empty docs []"
   ]
  },
  {
   "cell_type": "code",
   "execution_count": 17,
   "metadata": {},
   "outputs": [],
   "source": [
    "embeddings = OpenAIEmbeddings()\n",
    "db = WeaviateVectorStore(embedding=embeddings, client=client, index_name=\"WikipediaLangChain\", text_key=\"text\")"
   ]
  },
  {
   "cell_type": "markdown",
   "metadata": {},
   "source": [
    "### We can now search our data"
   ]
  },
  {
   "cell_type": "code",
   "execution_count": null,
   "metadata": {},
   "outputs": [
    {
     "name": "stdout",
     "output_type": "stream",
     "text": [
      "[Document(metadata={'page': 14.0, 'source': 'netherlands-wikipedia-article-text.pdf'}, page_content='(in its modern form) and \\nZeeuwse bolus\\n are\\ngood examples. Cookies are also produced in great number and tend to contain a lot of butter and sugar, like \\nstroopwafel\\n, as well\\nas a filling of some kind, mostly almond, like \\ngevulde koek\\n. The traditional alcoholic beverages of this region are beer (strong pale\\nlager) and \\nJenever'), Document(metadata={'page': 14.0, 'source': 'netherlands-wikipedia-article-text.pdf'}, page_content='widely available and typical for the region. \\nKibbeling\\n, once a local delicacy consisting of small chunks of battered white fish, has\\nbecome a national fast food, just as lekkerbek.\\nThe Southern Dutch cuisine consists of the cuisines of the Dutch provinces of North Brabant and Limburg and the Flemish Region in'), Document(metadata={'page': 14.0, 'source': 'netherlands-wikipedia-article-text.pdf'}, page_content='amount of fish. The various dried sausages, belonging to the metworst-family of Dutch sausages are found throughout this region.\\nAlso smoked sausages are common, of which (\\nGelderse\\n) \\nrookworst\\n is the most renowned. Larger sausages are often eaten\\nalongside \\nstamppot\\n, \\nhutspot\\n or \\nzuurkool\\n (sauerkraut); whereas smaller ones are often eaten as a street food. The provinces are'), Document(metadata={'page': 14.0, 'source': 'netherlands-wikipedia-article-text.pdf'}, page_content='cream, custard or fruits. Cakes, such as the \\nVlaai\\n from Limburg and the \\nMoorkop\\n and \\nBossche Bol\\n from Brabant, are typical\\npastries. Savoury pastries also occur, with the \\nworstenbroodje\\n (a roll with a sausage of ground beef, literally translates into sausage\\nbread) being the most popular. The traditional alcoholic beverage of the region is beer. There are many local brands, ranging from')]\n"
     ]
    }
   ],
   "source": [
    "# we can now do a similarity search on all objects\n",
    "docs = db.similarity_search(\"traditional food\", return_uuids=True)\n",
    "print(docs)"
   ]
  },
  {
   "cell_type": "markdown",
   "metadata": {},
   "source": [
    "### Filter by a property\n",
    "the property `source` is automatically added by LangChain.\n",
    "\n",
    "More on how to add [multiple operands](https://weaviate.io/developers/weaviate/api/graphql/filters#multiple-operands) and [nested filters](https://weaviate.io/developers/weaviate/search/filters#nested-filters)"
   ]
  },
  {
   "cell_type": "code",
   "execution_count": 20,
   "metadata": {},
   "outputs": [
    {
     "name": "stdout",
     "output_type": "stream",
     "text": [
      "[Document(metadata={'page': 7.0, 'source': 'brazil-wikipedia-article-text.pdf'}, page_content='accounting for 32% of the total trade. Other large trading partners include the United States, Argentina, the Netherlands and\\nCanada. Its automotive industry is the eighth-largest in the world. In the food industry, Brazil was the second-largest\\nexporter of processed foods in the world in 2019. The country was the second-largest producer of pulp in the world and the'), Document(metadata={'page': 7.0, 'source': 'brazil-wikipedia-article-text.pdf'}, page_content=\"making up 6.6% of total GDP.\\nBrazil is one of the largest producers of various agricultural commodities, and also has a large cooperative sector that\\nprovides 50% of the food in the country. It has been the world's largest producer of coffee for the last 150 years. Brazil is the\\nworld's largest producer of sugarcane, soy, coffee and orange; is one of the top 5 producers of maize, cotton, lemon,\"), Document(metadata={'page': 10.0, 'source': 'brazil-wikipedia-article-text.pdf'}, page_content='characterized by traditional Portuguese festivities,\\nReligious pluralism increased during the 20th century, and the Protestant community has grown to include over 22% of the\\npopulation. The most common Protestant denominations are Evangelical Pentecostal ones. Other Protestant branches with'), Document(metadata={'page': 13.0, 'source': 'brazil-wikipedia-article-text.pdf'}, page_content='flour (farofa). Fried potatoes, fried cassava, fried banana, fried meat and fried cheese are very often eaten in lunch and\\nserved in most typical restaurants. Popular snacks are pastel (a fried pastry); coxinha (a variation of chicken croquete); pão\\nde queijo (cheese bread and cassava flour / tapioca); pamonha (corn and milk paste); esfirra (a variation of Lebanese')]\n"
     ]
    }
   ],
   "source": [
    "# change bellow to get chunks per different files / countries\n",
    "source_file = \"brazil-wikipedia-article-text.pdf\"\n",
    "#source_file = \"netherlands-wikipedia-article-text.pdf\"\n",
    "where_filter = wvc.query.Filter.by_property(\"source\").equal(source_file)\n",
    "docs = db.similarity_search(\"traditional food\", filters=where_filter)\n",
    "print(docs)"
   ]
  },
  {
   "cell_type": "markdown",
   "metadata": {},
   "source": [
    "### You can also do some question answering"
   ]
  },
  {
   "cell_type": "code",
   "execution_count": 21,
   "metadata": {},
   "outputs": [
    {
     "name": "stdout",
     "output_type": "stream",
     "text": [
      "One of the traditional foods of Brazil is Feijoada, which is considered the country's national dish. Other regional foods include beiju, feijão tropeiro, vatapá, and moqueca. Brazilian cuisine reflects a rich mix of indigenous and immigrant influences.\n"
     ]
    }
   ],
   "source": [
    "from langchain.chains import create_retrieval_chain\n",
    "from langchain.chains.combine_documents import create_stuff_documents_chain\n",
    "from langchain_core.prompts import ChatPromptTemplate\n",
    "from langchain_openai import ChatOpenAI\n",
    "from langchain_openai import OpenAIEmbeddings\n",
    "\n",
    "from weaviate.classes.query import Filter\n",
    "\n",
    "# client = weaviate.connect_to_weaviate_cloud(...)\n",
    "\n",
    "embeddings = OpenAIEmbeddings()\n",
    "db = WeaviateVectorStore.from_documents([], embeddings, client=client, index_name=\"WikipediaLangChain\")\n",
    "\n",
    "source_file = \"brazil-wikipedia-article-text.pdf\"\n",
    "#source_file = \"netherlands-wikipedia-article-text.pdf\"\n",
    "where_filter = Filter.by_property(\"source\").equal(source_file)\n",
    "\n",
    "# we want our retriever to filter the results\n",
    "retriever = db.as_retriever(search_kwargs={\"filters\": where_filter})\n",
    "\n",
    "system_prompt = (\n",
    "    \"You are an assistant for question-answering tasks. \"\n",
    "    \"Use the following pieces of retrieved context to answer \"\n",
    "    \"the question. If you don't know the answer, say that you \"\n",
    "    \"don't know. Use three sentences maximum and keep the \"\n",
    "    \"answer concise.\"\n",
    "    \"\\n\\n\"\n",
    "    \"{context}\"\n",
    ")\n",
    "\n",
    "prompt = ChatPromptTemplate.from_messages(\n",
    "    [\n",
    "        (\"system\", system_prompt),\n",
    "        (\"human\", \"{input}\"),\n",
    "    ]\n",
    ")\n",
    "\n",
    "llm = ChatOpenAI(model=\"gpt-4o-mini\")\n",
    "question_answer_chain = create_stuff_documents_chain(llm, prompt)\n",
    "rag_chain = create_retrieval_chain(retriever, question_answer_chain)\n",
    "\n",
    "response = rag_chain.invoke({\"input\": \"What is he traditional food of this country?\"})\n",
    "print(response[\"answer\"])"
   ]
  },
  {
   "cell_type": "code",
   "execution_count": 22,
   "metadata": {},
   "outputs": [
    {
     "name": "stderr",
     "output_type": "stream",
     "text": [
      "{\"action\":\"restapi_management\",\"level\":\"info\",\"msg\":\"Shutting down... \",\"time\":\"2024-09-02T14:49:55-03:00\"}\n",
      "{\"action\":\"restapi_management\",\"level\":\"info\",\"msg\":\"Stopped serving weaviate at http://127.0.0.1:8079\",\"time\":\"2024-09-02T14:49:55-03:00\"}\n"
     ]
    }
   ],
   "source": [
    "#lets close our embedded server\n",
    "client.close()"
   ]
  }
 ],
 "metadata": {
  "kernelspec": {
   "display_name": ".venv",
   "language": "python",
   "name": "python3"
  },
  "language_info": {
   "codemirror_mode": {
    "name": "ipython",
    "version": 3
   },
   "file_extension": ".py",
   "mimetype": "text/x-python",
   "name": "python",
   "nbconvert_exporter": "python",
   "pygments_lexer": "ipython3",
   "version": "3.12.9"
  }
 },
 "nbformat": 4,
 "nbformat_minor": 2
}
