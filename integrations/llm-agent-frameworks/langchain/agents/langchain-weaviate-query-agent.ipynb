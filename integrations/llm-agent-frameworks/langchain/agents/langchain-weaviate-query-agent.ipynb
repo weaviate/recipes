{
 "cells": [
  {
   "cell_type": "markdown",
   "metadata": {},
   "source": [
    "[![Open In Colab](https://colab.research.google.com/assets/colab-badge.svg)](https://colab.research.google.com/github/weaviate/recipes/blob/main/integrations/llm-agent-frameworks/langchain/agents/langchain-weaviate-query-agent.ipynb)"
   ]
  },
  {
   "cell_type": "markdown",
   "metadata": {},
   "source": [
    "## Weaviate Query Agent with LangChain\n",
    "\n",
    "This notebook will show you how to define the Weaviate Query Agent as a tool with LangChain.\n",
    "\n",
    "### Requirements\n",
    "1. Weaviate Cloud instance (WCD): The Weaviate Query Agent is only accessible through WCD at the moment. You can create a serverless cluster or a free 14-day sandbox [here](https://console.weaviate.cloud/).\n",
    "1. Install LangChain with `pip install langchain`. We're using version `0.3.20` at the time of writing this notebook.\n",
    "1. Install the Weaviate Agents package with `pip install weaviate-agents`\n",
    "1. You'll need a Weaviate cluster with data. If you don't have one, check out [this notebook](integrations/Weaviate-Import-Example.ipynb) to import the Weaviate Blogs.\n"
   ]
  },
  {
   "cell_type": "markdown",
   "metadata": {},
   "source": [
    "### Import libraries and keys"
   ]
  },
  {
   "cell_type": "code",
   "execution_count": 2,
   "metadata": {},
   "outputs": [
    {
     "name": "stderr",
     "output_type": "stream",
     "text": [
      "/usr/local/lib/python3.11/site-packages/IPython/core/interactiveshell.py:3508: LangChainDeprecationWarning: As of langchain-core 0.3.0, LangChain uses pydantic v2 internally. The langchain.pydantic_v1 module was a compatibility shim for pydantic v1, and should no longer be used. Please update the code to import from Pydantic directly.\n",
      "\n",
      "For example, replace imports like: `from langchain.pydantic_v1 import BaseModel`\n",
      "with: `from pydantic import BaseModel`\n",
      "or the v1 compatibility namespace if you are working in a code base that has not been fully upgraded to pydantic 2 yet. \tfrom pydantic.v1 import BaseModel\n",
      "\n",
      "  exec(code_obj, self.user_global_ns, self.user_ns)\n"
     ]
    }
   ],
   "source": [
    "import weaviate\n",
    "from weaviate_agents.query import QueryAgent\n",
    "import os\n",
    "import json\n",
    "\n",
    "from langchain.pydantic_v1 import BaseModel, Field\n",
    "from langchain.tools import BaseTool, StructuredTool, tool\n",
    "from langchain.chat_models import init_chat_model"
   ]
  },
  {
   "cell_type": "code",
   "execution_count": 3,
   "metadata": {},
   "outputs": [],
   "source": [
    "os.environ[\"WEAVIATE_URL\"] = \"\"\n",
    "os.environ[\"WEAVIATE_API_KEY\"] = \"\"\n",
    "os.environ[\"OPENAI_API_KEY\"] = \"\""
   ]
  },
  {
   "cell_type": "markdown",
   "metadata": {},
   "source": [
    "### Initialize model"
   ]
  },
  {
   "cell_type": "code",
   "execution_count": 4,
   "metadata": {},
   "outputs": [],
   "source": [
    "llm = init_chat_model(\"gpt-4o\", model_provider=\"openai\")"
   ]
  },
  {
   "cell_type": "markdown",
   "metadata": {},
   "source": [
    "### Create Query Agent tool"
   ]
  },
  {
   "cell_type": "code",
   "execution_count": 7,
   "metadata": {},
   "outputs": [],
   "source": [
    "@tool\n",
    "def send_query_agent_request(query: str) -> str:\n",
    "    \"\"\"\n",
    "    Send a query to the database and get the response.\n",
    "    \n",
    "    Args:\n",
    "        query (str): Any question or query to search for in the database\n",
    "        \n",
    "    Returns:\n",
    "        str: The response from the database containing relevant information\n",
    "    \"\"\"\n",
    "    # Initialize Weaviate client\n",
    "    weaviate_client = weaviate.connect_to_weaviate_cloud(\n",
    "        cluster_url=os.getenv(\"WEAVIATE_URL\"),\n",
    "        auth_credentials=weaviate.auth.AuthApiKey(os.getenv(\"WEAVIATE_API_KEY\")),\n",
    "        headers={\"X-OpenAI-Api-Key\": os.getenv(\"OPENAI_API_KEY\") # add the API key to the model provider from your Weaviate collection\n",
    "            },\n",
    "    )\n",
    "    \n",
    "    # connect the query agent to your Weaviate collection(s)\n",
    "    query_agent = QueryAgent(\n",
    "        client=weaviate_client,\n",
    "        collections=[\"WeaviateBlogChunks\"]\n",
    "    )\n",
    "        \n",
    "    print(\"Weaviate client and Blogs collection initialized successfully\")\n",
    "\n",
    "    return query_agent.run(query)"
   ]
  },
  {
   "cell_type": "code",
   "execution_count": 8,
   "metadata": {},
   "outputs": [],
   "source": [
    "llm_with_tools = llm.bind_tools([send_query_agent_request])"
   ]
  },
  {
   "cell_type": "markdown",
   "metadata": {},
   "source": [
    "### Query time"
   ]
  },
  {
   "cell_type": "code",
   "execution_count": 9,
   "metadata": {},
   "outputs": [
    {
     "data": {
      "text/plain": [
       "AIMessage(content='To run Weaviate with Docker, you can follow these steps:\\n\\n1. **Install Docker**: Make sure Docker is installed on your machine. You can download it from the [Docker website](https://www.docker.com/products/docker-desktop).\\n\\n2. **Pull Weaviate Image**: Open your terminal and pull the Weaviate Docker image from Docker Hub using the following command:\\n   ```bash\\n   docker pull semitechnologies/weaviate\\n   ```\\n\\n3. **Run Weaviate Container**: You can run Weaviate using the following command:\\n   ```bash\\n   docker run -d -p 8080:8080 semitechnologies/weaviate\\n   ```\\n   This command will run Weaviate in a detached mode (`-d`), mapping the container\\'s port 8080 to your local machine\\'s port 8080.\\n\\n4. **Check if Running**: To verify if the Weaviate container is running, you can use:\\n   ```bash\\n   docker ps\\n   ```\\n   This command lists all running containers. You should see the Weaviate container listed there.\\n\\n5. **Access Weaviate**: Once the container is running, you can access Weaviate\\'s RESTful API at `http://localhost:8080/v1`.\\n\\n6. **Environment Configuration (Optional)**: If you need to customize the environment variables, you can do so by specifying them in the `docker run` command using the `-e` flag. For example, to set a specific contextionary (knowledge graph context), you might use:\\n   ```bash\\n   docker run -d -p 8080:8080 -e CONTEXTIONARY_URL=\"your_contextionary_url\" semitechnologies/weaviate\\n   ```\\n\\n7. **Stopping the Container**: To stop the container, find its container ID using `docker ps` and then run:\\n   ```bash\\n   docker stop <container_id>\\n   ```\\n\\n8. **Remove the Container**: If you want to remove the container, use:\\n   ```bash\\n   docker rm <container_id>\\n   ```\\n\\nWith these steps, you should be able to run and manage Weaviate using Docker.', additional_kwargs={'refusal': None}, response_metadata={'token_usage': {'completion_tokens': 462, 'prompt_tokens': 91, 'total_tokens': 553, 'completion_tokens_details': {'accepted_prediction_tokens': 0, 'audio_tokens': 0, 'reasoning_tokens': 0, 'rejected_prediction_tokens': 0}, 'prompt_tokens_details': {'audio_tokens': 0, 'cached_tokens': 0}}, 'model_name': 'gpt-4o-2024-08-06', 'system_fingerprint': 'fp_eb9dce56a8', 'finish_reason': 'stop', 'logprobs': None}, id='run-d7553ed3-6ade-4066-abc0-a64ff1caff58-0', usage_metadata={'input_tokens': 91, 'output_tokens': 462, 'total_tokens': 553, 'input_token_details': {'audio': 0, 'cache_read': 0}, 'output_token_details': {'audio': 0, 'reasoning': 0}})"
      ]
     },
     "execution_count": 9,
     "metadata": {},
     "output_type": "execute_result"
    }
   ],
   "source": [
    "query = \"How do I run Weaviate with Docker?\"\n",
    "\n",
    "llm_with_tools.invoke(query)"
   ]
  }
 ],
 "metadata": {
  "kernelspec": {
   "display_name": "Python 3",
   "language": "python",
   "name": "python3"
  },
  "language_info": {
   "codemirror_mode": {
    "name": "ipython",
    "version": 3
   },
   "file_extension": ".py",
   "mimetype": "text/x-python",
   "name": "python",
   "nbconvert_exporter": "python",
   "pygments_lexer": "ipython3",
   "version": "3.11.6"
  }
 },
 "nbformat": 4,
 "nbformat_minor": 2
}
