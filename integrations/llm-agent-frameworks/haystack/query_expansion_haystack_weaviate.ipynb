{
  "cells": [
    {
      "cell_type": "markdown",
      "metadata": {},
      "source": [
        "[![Open In Colab](https://colab.research.google.com/assets/colab-badge.svg)](https://colab.research.google.com/github/weaviate/recipes/blob/main/integrations/llm-agent-frameworks/haystack/query_expansion_haystack_weaviate.ipynb)"
      ]
    },
    {
      "cell_type": "markdown",
      "metadata": {
        "id": "PwkLlhmsoqnB"
      },
      "source": [
        "# Advanced RAG: Query Expansion\n",
        "_by Tuana Celik ([LI](https://www.linkedin.com/in/tuanacelik/),  [Twitter/X](https://x.com/tuanacelik))_\n",
        "\n",
        "In this cookbook, you'll learn how to implement query expansion for RAG. Query expansion consists of asking an LLM to produce a number of similar queries to a user query. We are then able to use each of these queries in the retrieval process, increasing the number and relevance of retrieved documents.\n",
        "\n",
        "📚 [Read the full article](https://haystack.deepset.ai/blog/query-expansion)"
      ]
    },
    {
      "cell_type": "markdown",
      "metadata": {
        "colab_type": "toc",
        "id": "e0yTv0kO070N"
      },
      "source": [
        ">[Advanced RAG: Query Expansion](#scrollTo=PwkLlhmsoqnB)\n",
        "\n",
        ">>[The Process of Query Expansion](#scrollTo=j4gDkMDCsbpQ)\n",
        "\n",
        ">>[Retrieval Without Query Expansion](#scrollTo=gsADarYUvurh)\n",
        "\n",
        ">>[Retrieval With Query Expansion](#scrollTo=ZpJ0juxX0J-B)\n",
        "\n",
        ">>[Query Expansion for RAG](#scrollTo=TYwbeS1-zIt5)\n",
        "\n",
        ">>>[RAG without Query Expansion](#scrollTo=oR-lZeyrzY3M)\n",
        "\n",
        ">>>[RAG with Query Expansion](#scrollTo=MRx9_9pzzcxo)\n",
        "\n"
      ]
    },
    {
      "cell_type": "code",
      "execution_count": null,
      "metadata": {
        "id": "29yncgkJxKJI"
      },
      "outputs": [],
      "source": [
        "!sudo apt-get install python3.11 > /dev/null"
      ]
    },
    {
      "cell_type": "code",
      "execution_count": null,
      "metadata": {
        "id": "JOJ-QAgRTf98"
      },
      "outputs": [],
      "source": [
        "!pip install haystack-ai==2.4.0 weaviate-haystack==2.2.0 wikipedia==1.4.0 protobuf>=5 > /dev/null"
      ]
    },
    {
      "cell_type": "code",
      "execution_count": null,
      "metadata": {
        "id": "yrVx-gYoYf6Q"
      },
      "outputs": [],
      "source": [
        "import wikipedia\n",
        "import json\n",
        "\n",
        "from typing import List, Optional\n",
        "from haystack import Pipeline, component\n",
        "\n",
        "from haystack.components.builders import PromptBuilder\n",
        "from haystack.components.generators import OpenAIGenerator\n",
        "from haystack.components.preprocessors import DocumentCleaner, DocumentSplitter\n",
        "from haystack.components.retrievers import InMemoryBM25Retriever\n",
        "from haystack.components.writers import DocumentWriter\n",
        "\n",
        "from haystack.dataclasses import Document\n",
        "\n",
        "from haystack.document_stores.in_memory import InMemoryDocumentStore\n",
        "from haystack.document_stores.types import DuplicatePolicy"
      ]
    },
    {
      "cell_type": "code",
      "execution_count": null,
      "metadata": {
        "colab": {
          "base_uri": "https://localhost:8080/"
        },
        "id": "_SUCwtYcXDgA",
        "outputId": "464b4c74-1f7d-4d77-fe9a-ea95bf7a0202"
      },
      "outputs": [
        {
          "name": "stdout",
          "output_type": "stream",
          "text": [
            "Your OpenAI API Key: ··········\n"
          ]
        }
      ],
      "source": [
        "import os\n",
        "from getpass import getpass\n",
        "\n",
        "if \"OPENAI_API_KEY\" not in os.environ:\n",
        "  os.environ['OPENAI_API_KEY'] = getpass(\"Your OpenAI API Key: \")"
      ]
    },
    {
      "cell_type": "markdown",
      "metadata": {
        "id": "j4gDkMDCsbpQ"
      },
      "source": [
        "## The Process of Query Expansion\n",
        "\n",
        "First, let's create a `QueryExpander`. This component is going to be able to create a `number` (defaults to 5) of additional queries, similar to the original user query. It returns `queries` that has the original query + `number` of similar queries."
      ]
    },
    {
      "cell_type": "code",
      "execution_count": null,
      "metadata": {
        "id": "qM5tZEnATjeN"
      },
      "outputs": [],
      "source": [
        "@component\n",
        "class QueryExpander:\n",
        "\n",
        "    def __init__(self, prompt: Optional[str] = None, model: str = \"gpt-3.5-turbo\"):\n",
        "\n",
        "        self.query_expansion_prompt = prompt\n",
        "        self.model = model\n",
        "        if prompt == None:\n",
        "          self.query_expansion_prompt = \"\"\"\n",
        "          You are part of an information system that processes users queries.\n",
        "          You expand a given query into {{ number }} queries that are similar in meaning.\n",
        "\n",
        "          Structure:\n",
        "          Follow the structure shown below in examples to generate expanded queries.\n",
        "          Examples:\n",
        "          1. Example Query 1: \"climate change effects\"\n",
        "          Example Expanded Queries: [\"impact of climate change\", \"consequences of global warming\", \"effects of environmental changes\"]\n",
        "\n",
        "          2. Example Query 2: \"\"machine learning algorithms\"\"\n",
        "          Example Expanded Queries: [\"neural networks\", \"clustering\", \"supervised learning\", \"deep learning\"]\n",
        "\n",
        "          Your Task:\n",
        "          Query: \"{{query}}\"\n",
        "          Example Expanded Queries:\n",
        "          \"\"\"\n",
        "        builder = PromptBuilder(self.query_expansion_prompt)\n",
        "        llm = OpenAIGenerator(model = self.model)\n",
        "        self.pipeline = Pipeline()\n",
        "        self.pipeline.add_component(name=\"builder\", instance=builder)\n",
        "        self.pipeline.add_component(name=\"llm\", instance=llm)\n",
        "        self.pipeline.connect(\"builder\", \"llm\")\n",
        "\n",
        "    @component.output_types(queries=List[str])\n",
        "    def run(self, query: str, number: int = 5):\n",
        "        result = self.pipeline.run({'builder': {'query': query, 'number': number}})\n",
        "        expanded_query = json.loads(result['llm']['replies'][0]) + [query]\n",
        "        return {\"queries\": list(expanded_query)}"
      ]
    },
    {
      "cell_type": "code",
      "execution_count": null,
      "metadata": {
        "colab": {
          "base_uri": "https://localhost:8080/"
        },
        "id": "hHrfU-UeTmEw",
        "outputId": "89c29451-9f39-46fe-ec50-ac99f3b34ab5"
      },
      "outputs": [
        {
          "data": {
            "text/plain": [
              "{'queries': ['natural language processing tools',\n",
              "  'free nlp libraries',\n",
              "  'open-source language processing software',\n",
              "  'nlp frameworks with open-source licensing',\n",
              "  'open source nlp frameworks']}"
            ]
          },
          "execution_count": 6,
          "metadata": {},
          "output_type": "execute_result"
        }
      ],
      "source": [
        "expander = QueryExpander()\n",
        "expander.run(query=\"open source nlp frameworks\", number=4)"
      ]
    },
    {
      "cell_type": "markdown",
      "metadata": {
        "id": "gsADarYUvurh"
      },
      "source": [
        "## Retrieval Without Query Expansion"
      ]
    },
    {
      "cell_type": "code",
      "execution_count": null,
      "metadata": {
        "id": "2vCtLjp1xsRa"
      },
      "outputs": [],
      "source": [
        "from haystack.utils.auth import Secret\n",
        "from haystack_integrations.document_stores.weaviate import WeaviateDocumentStore, AuthApiKey\n",
        "\n",
        "import weaviate\n",
        "from weaviate.embedded import EmbeddedOptions\n",
        "\n",
        "document_store = WeaviateDocumentStore(\n",
        "    embedded_options=EmbeddedOptions(\n",
        "        additional_env_vars={\n",
        "            \"ENABLE_MODULES\": \"backup-filesystem,text2vec-openai,text2vec-cohere,text2vec-huggingface,ref2vec-centroid,generative-openai,qna-openai\",\n",
        "            \"BACKUP_FILESYSTEM_PATH\": \"/tmp/backups\"\n",
        "        }\n",
        "    )\n",
        ")"
      ]
    },
    {
      "cell_type": "code",
      "execution_count": null,
      "metadata": {
        "colab": {
          "base_uri": "https://localhost:8080/"
        },
        "id": "slZF_6sgTp2U",
        "outputId": "6fd44cc1-32c1-4a63-b681-48945289efa3"
      },
      "outputs": [
        {
          "name": "stderr",
          "output_type": "stream",
          "text": [
            "INFO:weaviate-client:Binary /root/.cache/weaviate-embedded did not exist. Downloading binary from https://github.com/weaviate/weaviate/releases/download/v1.26.1/weaviate-v1.26.1-Linux-amd64.tar.gz\n",
            "INFO:weaviate-client:Started /root/.cache/weaviate-embedded: process ID 6895\n"
          ]
        },
        {
          "data": {
            "text/plain": [
              "7"
            ]
          },
          "execution_count": 16,
          "metadata": {},
          "output_type": "execute_result"
        }
      ],
      "source": [
        "documents = [\n",
        "    Document(content=\"The effects of climate are many including loss of biodiversity\"),\n",
        "    Document(content=\"The impact of climate change is evident in the melting of the polar ice caps.\"),\n",
        "    Document(content=\"Consequences of global warming include the rise in sea levels.\"),\n",
        "    Document(content=\"One of the effects of environmental changes is the change in weather patterns.\"),\n",
        "    Document(content=\"There is a global call to reduce the amount of air travel people take.\"),\n",
        "    Document(content=\"Air travel is one of the core contributors to climate change.\"),\n",
        "    Document(content=\"Expect warm climates in Turkey during the summer period.\"),\n",
        "]\n",
        "\n",
        "document_store.write_documents(documents)"
      ]
    },
    {
      "cell_type": "code",
      "execution_count": null,
      "metadata": {
        "id": "ZAzBJNdcyiMn"
      },
      "outputs": [],
      "source": [
        "# retriveval_pipeline\n",
        "from haystack_integrations.components.retrievers.weaviate import WeaviateBM25Retriever\n",
        "\n",
        "retriever = WeaviateBM25Retriever(document_store=document_store, top_k=3)\n",
        "\n",
        "retrieval_pipeline = Pipeline()\n",
        "retrieval_pipeline.add_component(\"keyword_retriever\", retriever)"
      ]
    },
    {
      "cell_type": "code",
      "execution_count": null,
      "metadata": {
        "colab": {
          "base_uri": "https://localhost:8080/"
        },
        "id": "8j6a-BL9oI8E",
        "outputId": "91bcc0f8-46a5-4156-9518-5c7043c7785c"
      },
      "outputs": [
        {
          "data": {
            "text/plain": [
              "{'keyword_retriever': {'documents': [Document(id=8b306c8303c59508a53e5139b4e688c3817fa0211b095bcc77ab3823defa0b32, content: 'Air travel is one of the core contributors to climate change.', score: 0.747502326965332),\n",
              "   Document(id=aa996058ca5b30d8b469d33e992e094058e707bfb0cf057ee1d5b55ac4320234, content: 'The impact of climate change is evident in the melting of the polar ice caps.', score: 0.7204996347427368),\n",
              "   Document(id=4d5f7ef8df12c93cb5728cc0247bf95282a14017ce9d0b35486091f8972347a5, content: 'The effects of climate are many including loss of biodiversity', score: 0.4040358066558838)]}}"
            ]
          },
          "execution_count": 22,
          "metadata": {},
          "output_type": "execute_result"
        }
      ],
      "source": [
        "query = \"climate change\"\n",
        "retrieval_pipeline.run({\"keyword_retriever\":{ \"query\": query, \"top_k\": 3}})"
      ]
    },
    {
      "cell_type": "markdown",
      "metadata": {
        "id": "ZpJ0juxX0J-B"
      },
      "source": [
        "## Retrieval With Query Expansion\n",
        "\n",
        "Now let's have a look at what documents we are able to retrieve if we are to inluce query expansion in the process. For this step, let's create a `MultiQueryInMemoryBM25Retriever` that is able to use BM25 retrieval for each (expansded) query in turn.\n",
        "\n",
        "This component also handles the same document being retrieved for multiple queries and will not return duplicates."
      ]
    },
    {
      "cell_type": "code",
      "execution_count": null,
      "metadata": {
        "id": "6zZrkocErf3N"
      },
      "outputs": [],
      "source": [
        "@component\n",
        "class MultiQueryInMemoryBM25Retriever:\n",
        "\n",
        "    def __init__(self, retriever: InMemoryBM25Retriever, top_k: int = 3):\n",
        "\n",
        "        self.retriever = retriever\n",
        "        self.results = []\n",
        "        self.ids = set()\n",
        "        self.top_k = top_k\n",
        "\n",
        "    def add_document(self, document: Document):\n",
        "        if document.id not in self.ids:\n",
        "            self.results.append(document)\n",
        "            self.ids.add(document.id)\n",
        "\n",
        "    @component.output_types(documents=List[Document])\n",
        "    def run(self, queries: List[str], top_k: int = None):\n",
        "        if top_k != None:\n",
        "          self.top_k = top_k\n",
        "        for query in queries:\n",
        "          result = self.retriever.run(query = query, top_k = self.top_k)\n",
        "          for doc in result['documents']:\n",
        "            self.add_document(doc)\n",
        "        self.results.sort(key=lambda x: x.score, reverse=True)\n",
        "        return {\"documents\": self.results}"
      ]
    },
    {
      "cell_type": "code",
      "execution_count": null,
      "metadata": {
        "colab": {
          "base_uri": "https://localhost:8080/"
        },
        "id": "EhL3bQTFoWDK",
        "outputId": "e19393f9-d127-4603-d29f-8582b01a1df5"
      },
      "outputs": [
        {
          "data": {
            "text/plain": [
              "<haystack.core.pipeline.pipeline.Pipeline object at 0x7fe9f242c970>\n",
              "🚅 Components\n",
              "  - expander: QueryExpander\n",
              "  - keyword_retriever: MultiQueryInMemoryBM25Retriever\n",
              "🛤️ Connections\n",
              "  - expander.queries -> keyword_retriever.queries (List[str])"
            ]
          },
          "execution_count": 25,
          "metadata": {},
          "output_type": "execute_result"
        }
      ],
      "source": [
        "query_expander = QueryExpander()\n",
        "retriever = MultiQueryInMemoryBM25Retriever(WeaviateBM25Retriever(document_store=document_store))\n",
        "\n",
        "expanded_retrieval_pipeline = Pipeline()\n",
        "expanded_retrieval_pipeline.add_component(\"expander\", query_expander)\n",
        "expanded_retrieval_pipeline.add_component(\"keyword_retriever\", retriever)\n",
        "\n",
        "expanded_retrieval_pipeline.connect(\"expander.queries\", \"keyword_retriever.queries\")"
      ]
    },
    {
      "cell_type": "code",
      "execution_count": null,
      "metadata": {
        "colab": {
          "base_uri": "https://localhost:8080/"
        },
        "id": "FJXF9nHYsym0",
        "outputId": "4a73ded9-112b-4e62-ac28-6e535178b2c9"
      },
      "outputs": [
        {
          "data": {
            "text/plain": [
              "{'keyword_retriever': {'documents': [Document(id=aa996058ca5b30d8b469d33e992e094058e707bfb0cf057ee1d5b55ac4320234, content: 'The impact of climate change is evident in the melting of the polar ice caps.', score: 1.4499847888946533),\n",
              "   Document(id=0901b034998c7263f74ac60cad5d9d520df524e59b045f3afab8e6cf1710791d, content: 'Consequences of global warming include the rise in sea levels.', score: 1.3326431512832642),\n",
              "   Document(id=8b306c8303c59508a53e5139b4e688c3817fa0211b095bcc77ab3823defa0b32, content: 'Air travel is one of the core contributors to climate change.', score: 0.747502326965332),\n",
              "   Document(id=4d5f7ef8df12c93cb5728cc0247bf95282a14017ce9d0b35486091f8972347a5, content: 'The effects of climate are many including loss of biodiversity', score: 0.5684852600097656),\n",
              "   Document(id=395d2da61fff546098eec2838da741033d71fef84dfa7a91fc40b1d275631933, content: 'One of the effects of environmental changes is the change in weather patterns.', score: 0.5258742570877075)]},\n",
              " 'expander': {'queries': ['global warming effects',\n",
              "   'environmental impact of climate change',\n",
              "   'rising temperatures consequences',\n",
              "   'ecosystem changes due to climate change',\n",
              "   'carbon footprint reduction strategies',\n",
              "   'climate change']}}"
            ]
          },
          "execution_count": 26,
          "metadata": {},
          "output_type": "execute_result"
        }
      ],
      "source": [
        "expanded_retrieval_pipeline.run({\"expander\": {\"query\": query}}, include_outputs_from=[\"expander\"])"
      ]
    },
    {
      "cell_type": "markdown",
      "metadata": {
        "id": "TYwbeS1-zIt5"
      },
      "source": [
        "## Query Expansion for RAG\n",
        "\n",
        "Let's start off by populating a document store with chunks of context from various Wikipedia pages."
      ]
    },
    {
      "cell_type": "code",
      "execution_count": null,
      "metadata": {
        "id": "zSxqDIoKvUih"
      },
      "outputs": [],
      "source": [
        "def get_doc_store():\n",
        "    raw_docs = []\n",
        "    wikipedia_page_titles = [\"Electric_vehicle\", \"Dam\", \"Electric_battery\", \"Tree\", \"Solar_panel\", \"Nuclear_power\",\n",
        "                             \"Wind_power\", \"Hydroelectricity\", \"Coal\", \"Natural_gas\", \"Greenhouse_gas\", \"Renewable_energy\",\n",
        "                             \"Fossil_fuel\"]\n",
        "    for title in wikipedia_page_titles:\n",
        "        page = wikipedia.page(title=title, auto_suggest=False)\n",
        "        doc = Document(content=page.content, meta={\"title\": page.title, \"url\": page.url})\n",
        "        raw_docs.append(doc)\n",
        "\n",
        "    doc_store = InMemoryDocumentStore(embedding_similarity_function=\"cosine\")\n",
        "\n",
        "    indexing_pipeline = Pipeline()\n",
        "    indexing_pipeline.add_component(\"cleaner\", DocumentCleaner())\n",
        "    indexing_pipeline.add_component(\"splitter\", DocumentSplitter(split_by=\"passage\", split_length=1))\n",
        "    indexing_pipeline.add_component(\"writer\", DocumentWriter(document_store=doc_store, policy=DuplicatePolicy.SKIP))\n",
        "    indexing_pipeline.connect(\"cleaner\", \"splitter\")\n",
        "    indexing_pipeline.connect(\"splitter\", \"writer\")\n",
        "\n",
        "    indexing_pipeline.run({\"cleaner\": {\"documents\": raw_docs}})\n",
        "\n",
        "    return doc_store"
      ]
    },
    {
      "cell_type": "code",
      "execution_count": null,
      "metadata": {
        "id": "Ab7JL71ejhO5"
      },
      "outputs": [],
      "source": [
        "doc_store = get_doc_store()"
      ]
    },
    {
      "cell_type": "markdown",
      "metadata": {
        "id": "oR-lZeyrzY3M"
      },
      "source": [
        "### RAG without Query Expansion"
      ]
    },
    {
      "cell_type": "code",
      "execution_count": null,
      "metadata": {
        "colab": {
          "base_uri": "https://localhost:8080/"
        },
        "id": "erV3yIS5n9GE",
        "outputId": "a1ddcb01-1e55-4691-ab9a-86c3749b8c57"
      },
      "outputs": [
        {
          "data": {
            "text/plain": [
              "<haystack.core.pipeline.pipeline.Pipeline object at 0x7fe9f2d86560>\n",
              "🚅 Components\n",
              "  - keyword_retriever: InMemoryBM25Retriever\n",
              "  - prompt: PromptBuilder\n",
              "  - llm: OpenAIGenerator\n",
              "🛤️ Connections\n",
              "  - keyword_retriever.documents -> prompt.documents (List[Document])\n",
              "  - prompt.prompt -> llm.prompt (str)"
            ]
          },
          "execution_count": 29,
          "metadata": {},
          "output_type": "execute_result"
        }
      ],
      "source": [
        "template = \"\"\"\n",
        "You are part of an information system that summarises related documents.\n",
        "You answer a query using the textual content from the documents retrieved for the\n",
        "following query.\n",
        "You build the summary answer based only on quoting information from the documents.\n",
        "You should reference the documents you used to support your answer.\n",
        "###\n",
        "Original Query: \"{{query}}\"\n",
        "Retrieved Documents: {{documents}}\n",
        "Summary Answer:\n",
        "\"\"\"\n",
        "retriever = InMemoryBM25Retriever(document_store=doc_store)\n",
        "prompt_builder = PromptBuilder(template = template)\n",
        "llm = OpenAIGenerator()\n",
        "\n",
        "keyword_rag_pipeline = Pipeline()\n",
        "keyword_rag_pipeline.add_component(\"keyword_retriever\", retriever)\n",
        "keyword_rag_pipeline.add_component(\"prompt\", prompt_builder)\n",
        "keyword_rag_pipeline.add_component(\"llm\", llm)\n",
        "\n",
        "keyword_rag_pipeline.connect(\"keyword_retriever.documents\", \"prompt.documents\")\n",
        "keyword_rag_pipeline.connect(\"prompt\", \"llm\")"
      ]
    },
    {
      "cell_type": "code",
      "execution_count": null,
      "metadata": {
        "colab": {
          "base_uri": "https://localhost:8080/"
        },
        "id": "UD03G6MQoDhV",
        "outputId": "16c35e75-3417-4f4d-ba2d-d9f50ba05c9a"
      },
      "outputs": [
        {
          "data": {
            "text/plain": [
              "{'llm': {'replies': ['Green energy sources refer to renewable energy derived from natural resources that are replenished over time. Examples include wind power, which harnesses wind energy to generate useful work. Unlike fossil fuels, green energy sources are sustainable and environmentally friendly. (Sources: Renewable energy - https://en.wikipedia.org/wiki/Renewable_energy, Wind power - https://en.wikipedia.org/wiki/Wind_power)'],\n",
              "  'meta': [{'model': 'gpt-3.5-turbo-0125',\n",
              "    'index': 0,\n",
              "    'finish_reason': 'stop',\n",
              "    'usage': {'completion_tokens': 77,\n",
              "     'prompt_tokens': 581,\n",
              "     'total_tokens': 658}}]},\n",
              " 'keyword_retriever': {'documents': [Document(id=9330ab45666b8880b10296cdee81ed3fd49e4dc1c621dc09ce499491d5108a7d, content: 'Renewable energy (or green energy) is energy from renewable natural resources that are replenished o...', meta: {'title': 'Renewable energy', 'url': 'https://en.wikipedia.org/wiki/Renewable_energy', 'source_id': 'fef99a734366aa5973ff0b2dcf9b595b02760e00830c9ff053ba968afaa47715', 'page_number': 1, 'split_id': 0, 'split_idx_start': 0}, score: 2.4197480497119446),\n",
              "   Document(id=0236e33198dc1f0bd81b9a5dcc9247efa55fc93ed82e1b2cf7c2087463f19b0d, content: 'Wind power is the use of wind energy to generate useful work. Historically, wind power was used by s...', meta: {'title': 'Wind power', 'url': 'https://en.wikipedia.org/wiki/Wind_power', 'source_id': 'e68ab3cc0e06d528fcf5e25bb7fa5f861d30a97f32057641016c69806db52b7d', 'page_number': 1, 'split_id': 0, 'split_idx_start': 0}, score: 1.9808224721291219),\n",
              "   Document(id=a51abe626d5271983d7e0f46e1eabd0893c914da92d97a6723d9fa456e70098e, content: 'A fossil fuel is a carbon compound- or hydrocarbon-containing material such as coal, oil, and natura...', meta: {'title': 'Fossil fuel', 'url': 'https://en.wikipedia.org/wiki/Fossil_fuel', 'source_id': 'a63254a0211209430abe6a3db5b40de61ec2d92faf7feceee5fa0c38e2185823', 'page_number': 1, 'split_id': 0, 'split_idx_start': 0}, score: 1.763127778347316)]}}"
            ]
          },
          "execution_count": 30,
          "metadata": {},
          "output_type": "execute_result"
        }
      ],
      "source": [
        "keyword_rag_pipeline.run({\"query\": \"green energy sources\", \"top_k\": 3}, include_outputs_from=[\"keyword_retriever\"])"
      ]
    },
    {
      "cell_type": "markdown",
      "metadata": {
        "id": "MRx9_9pzzcxo"
      },
      "source": [
        "### RAG with Query Expansion"
      ]
    },
    {
      "cell_type": "code",
      "execution_count": null,
      "metadata": {
        "colab": {
          "base_uri": "https://localhost:8080/"
        },
        "id": "gA6-RvHdn8pT",
        "outputId": "926f4762-d4fb-4053-b2cd-8b35f943c8ee"
      },
      "outputs": [
        {
          "data": {
            "text/plain": [
              "<haystack.core.pipeline.pipeline.Pipeline object at 0x7fe9f5170eb0>\n",
              "🚅 Components\n",
              "  - expander: QueryExpander\n",
              "  - keyword_retriever: MultiQueryInMemoryBM25Retriever\n",
              "  - prompt: PromptBuilder\n",
              "  - llm: OpenAIGenerator\n",
              "🛤️ Connections\n",
              "  - expander.queries -> keyword_retriever.queries (List[str])\n",
              "  - keyword_retriever.documents -> prompt.documents (List[Document])\n",
              "  - prompt.prompt -> llm.prompt (str)"
            ]
          },
          "execution_count": 31,
          "metadata": {},
          "output_type": "execute_result"
        }
      ],
      "source": [
        "template = \"\"\"\n",
        "You are part of an information system that summarises related documents.\n",
        "You answer a query using the textual content from the documents retrieved for the\n",
        "following query.\n",
        "You build the summary answer based only on quoting information from the documents.\n",
        "You should reference the documents you used to support your answer.\n",
        "###\n",
        "Original Query: \"{{query}}\"\n",
        "Retrieved Documents: {{documents}}\n",
        "Summary Answer:\n",
        "\"\"\"\n",
        "query_expander = QueryExpander()\n",
        "retriever = MultiQueryInMemoryBM25Retriever(InMemoryBM25Retriever(document_store=doc_store))\n",
        "prompt_builder = PromptBuilder(template = template)\n",
        "llm = OpenAIGenerator()\n",
        "\n",
        "query_expanded_rag_pipeline = Pipeline()\n",
        "query_expanded_rag_pipeline.add_component(\"expander\", query_expander)\n",
        "query_expanded_rag_pipeline.add_component(\"keyword_retriever\", retriever)\n",
        "query_expanded_rag_pipeline.add_component(\"prompt\", prompt_builder)\n",
        "query_expanded_rag_pipeline.add_component(\"llm\", llm)\n",
        "\n",
        "query_expanded_rag_pipeline.connect(\"expander.queries\", \"keyword_retriever.queries\")\n",
        "query_expanded_rag_pipeline.connect(\"keyword_retriever.documents\", \"prompt.documents\")\n",
        "query_expanded_rag_pipeline.connect(\"prompt\", \"llm\")"
      ]
    },
    {
      "cell_type": "code",
      "execution_count": null,
      "metadata": {
        "colab": {
          "base_uri": "https://localhost:8080/",
          "height": 1000
        },
        "id": "OPgfePQw6SGn",
        "outputId": "336dbde5-1dd7-4778-ffc6-79bb8c9685fc"
      },
      "outputs": [
        {
          "data": {
            "image/png": "[encoded data removed]",
            "text/plain": [
              "<IPython.core.display.Image object>"
            ]
          },
          "metadata": {},
          "output_type": "display_data"
        }
      ],
      "source": [
        "query_expanded_rag_pipeline.show()"
      ]
    },
    {
      "cell_type": "code",
      "execution_count": null,
      "metadata": {
        "colab": {
          "base_uri": "https://localhost:8080/"
        },
        "id": "qfdrTpZijsnv",
        "outputId": "ea71b194-d326-4c90-ada6-158a3870b80e"
      },
      "outputs": [
        {
          "data": {
            "text/plain": [
              "{'llm': {'replies': ['\"Renewable energy (or green energy) is energy from renewable natural resources that are replenished o...\" (source: Wikipedia)'],\n",
              "  'meta': [{'model': 'gpt-3.5-turbo-0125',\n",
              "    'index': 0,\n",
              "    'finish_reason': 'stop',\n",
              "    'usage': {'completion_tokens': 27,\n",
              "     'prompt_tokens': 1070,\n",
              "     'total_tokens': 1097}}]},\n",
              " 'expander': {'queries': ['renewable energy sources',\n",
              "   'sustainable energy options',\n",
              "   'clean energy resources',\n",
              "   'alternative energy sources',\n",
              "   'eco-friendly power sources',\n",
              "   'green energy sources']},\n",
              " 'keyword_retriever': {'documents': [Document(id=46f5d23e6803bb4c3d616f660bf99d055c632854cc2dd9a28de742564fcef660, content: 'An electric vehicle (EV) is a vehicle that uses one or more electric motors for propulsion. The vehi...', meta: {'title': 'Electric vehicle', 'url': 'https://en.wikipedia.org/wiki/Electric_vehicle', 'source_id': '581cb767709a5312641573d87ec4fe58220095255f24c297520ee1070bf473e0', 'page_number': 1, 'split_id': 0, 'split_idx_start': 0}, score: 3.349688622783147),\n",
              "   Document(id=d95897b1c4f2cf5c9a3536bd211c79a50b56ce320008fbf4bc26b5bd83d02049, content: 'An electric battery is a source of electric power consisting of one or more electrochemical cells wi...', meta: {'title': 'Electric battery', 'url': 'https://en.wikipedia.org/wiki/Electric_battery', 'source_id': '94fb9aed1508db9f1a53d4b6f9dc8b0fe45dcf2ff372c92424372f44d00439da', 'page_number': 1, 'split_id': 0, 'split_idx_start': 0}, score: 3.278746749054649),\n",
              "   Document(id=0236e33198dc1f0bd81b9a5dcc9247efa55fc93ed82e1b2cf7c2087463f19b0d, content: 'Wind power is the use of wind energy to generate useful work. Historically, wind power was used by s...', meta: {'title': 'Wind power', 'url': 'https://en.wikipedia.org/wiki/Wind_power', 'source_id': 'e68ab3cc0e06d528fcf5e25bb7fa5f861d30a97f32057641016c69806db52b7d', 'page_number': 1, 'split_id': 0, 'split_idx_start': 0}, score: 1.9248484931817393),\n",
              "   Document(id=9330ab45666b8880b10296cdee81ed3fd49e4dc1c621dc09ce499491d5108a7d, content: 'Renewable energy (or green energy) is energy from renewable natural resources that are replenished o...', meta: {'title': 'Renewable energy', 'url': 'https://en.wikipedia.org/wiki/Renewable_energy', 'source_id': 'fef99a734366aa5973ff0b2dcf9b595b02760e00830c9ff053ba968afaa47715', 'page_number': 1, 'split_id': 0, 'split_idx_start': 0}, score: 0.8383441344504454),\n",
              "   Document(id=a51abe626d5271983d7e0f46e1eabd0893c914da92d97a6723d9fa456e70098e, content: 'A fossil fuel is a carbon compound- or hydrocarbon-containing material such as coal, oil, and natura...', meta: {'title': 'Fossil fuel', 'url': 'https://en.wikipedia.org/wiki/Fossil_fuel', 'source_id': 'a63254a0211209430abe6a3db5b40de61ec2d92faf7feceee5fa0c38e2185823', 'page_number': 1, 'split_id': 0, 'split_idx_start': 0}, score: 0.764201225127407),\n",
              "   Document(id=7099fafc118346207fb04dc74149f6de8e13cd36d0b5407e22d7067f25e3f2b0, content: 'Nuclear power is the use of nuclear reactions to produce electricity. Nuclear power can be obtained ...', meta: {'title': 'Nuclear power', 'url': 'https://en.wikipedia.org/wiki/Nuclear_power', 'source_id': '19675f5020f2a9604d99a79c71221c7f305707a421412a4df6e5d4895b75c696', 'page_number': 1, 'split_id': 0, 'split_idx_start': 0}, score: 0.7409425118003157)]}}"
            ]
          },
          "execution_count": 33,
          "metadata": {},
          "output_type": "execute_result"
        }
      ],
      "source": [
        "query_expanded_rag_pipeline.run({\"query\": \"green energy sources\", \"top_k\": 3}, include_outputs_from=[\"keyword_retriever\", \"expander\"])"
      ]
    },
    {
      "cell_type": "code",
      "execution_count": null,
      "metadata": {
        "id": "i17_fl0BjwVl"
      },
      "outputs": [],
      "source": []
    }
  ],
  "metadata": {
    "colab": {
      "provenance": []
    },
    "kernelspec": {
      "display_name": "Python 3",
      "name": "python3"
    },
    "language_info": {
      "codemirror_mode": {
        "name": "ipython",
        "version": 3
      },
      "file_extension": ".py",
      "mimetype": "text/x-python",
      "name": "python",
      "nbconvert_exporter": "python",
      "pygments_lexer": "ipython3",
      "version": "3.12.3"
    }
  },
  "nbformat": 4,
  "nbformat_minor": 0
}
