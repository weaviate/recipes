{
 "cells": [
  {
   "cell_type": "markdown",
   "metadata": {},
   "source": [
    "[![Open In Colab](https://colab.research.google.com/assets/colab-badge.svg)](https://colab.research.google.com/github/weaviate/recipes/blob/main/integrations/llm-agent-frameworks/llamaindex/recursive-query-engine/recursive-retrieval.ipynb)"
   ]
  },
  {
   "cell_type": "markdown",
   "metadata": {
    "id": "7tQvt1ypQTPO"
   },
   "source": [
    "## Installations"
   ]
  },
  {
   "cell_type": "code",
   "execution_count": null,
   "metadata": {
    "colab": {
     "base_uri": "https://localhost:8080/"
    },
    "id": "52paLw85uwIQ",
    "outputId": "06aef162-e393-420d-cff8-2934dc700f9a"
   },
   "outputs": [],
   "source": [
    "!pip install -U weaviate-client llama-index"
   ]
  },
  {
   "cell_type": "code",
   "execution_count": 1,
   "metadata": {},
   "outputs": [],
   "source": [
    "# let's catch some logs\n",
    "import logging\n",
    "import sys\n",
    "\n",
    "logging.basicConfig(stream=sys.stdout, level=logging.INFO)\n",
    "logging.getLogger().addHandler(logging.StreamHandler(stream=sys.stdout))"
   ]
  },
  {
   "cell_type": "markdown",
   "metadata": {
    "id": "raf0H4KtQV-5"
   },
   "source": [
    "## Connect to Weaviate"
   ]
  },
  {
   "cell_type": "code",
   "execution_count": 2,
   "metadata": {
    "colab": {
     "base_uri": "https://localhost:8080/"
    },
    "id": "zxsNzkIFQXXb",
    "outputId": "57a46e6d-ed31-42fd-fa36-4b6848c845b7"
   },
   "outputs": [
    {
     "name": "stdout",
     "output_type": "stream",
     "text": [
      "INFO:httpx:HTTP Request: GET http://localhost:8080/v1/.well-known/openid-configuration \"HTTP/1.1 404 Not Found\"\n",
      "HTTP Request: GET http://localhost:8080/v1/.well-known/openid-configuration \"HTTP/1.1 404 Not Found\"\n",
      "INFO:httpx:HTTP Request: GET http://localhost:8080/v1/meta \"HTTP/1.1 200 OK\"\n",
      "HTTP Request: GET http://localhost:8080/v1/meta \"HTTP/1.1 200 OK\"\n",
      "INFO:httpx:HTTP Request: GET https://pypi.org/pypi/weaviate-client/json \"HTTP/1.1 200 OK\"\n",
      "HTTP Request: GET https://pypi.org/pypi/weaviate-client/json \"HTTP/1.1 200 OK\"\n"
     ]
    }
   ],
   "source": [
    "import weaviate\n",
    "from weaviate import classes as wvc\n",
    "client = weaviate.connect_to_local()"
   ]
  },
  {
   "cell_type": "code",
   "execution_count": 3,
   "metadata": {},
   "outputs": [
    {
     "name": "stdout",
     "output_type": "stream",
     "text": [
      "INFO:httpx:HTTP Request: GET http://localhost:8080/v1/meta \"HTTP/1.1 200 OK\"\n",
      "HTTP Request: GET http://localhost:8080/v1/meta \"HTTP/1.1 200 OK\"\n",
      "Client: 4.9.3, Server: 1.26.7\n"
     ]
    }
   ],
   "source": [
    "# lets check the connection getting the server version\n",
    "print(f\"Client: {weaviate.__version__}, Server: {client.get_meta().get('version')}\")"
   ]
  },
  {
   "cell_type": "markdown",
   "metadata": {
    "id": "A91WC4jzQeEI"
   },
   "source": [
    "### Create Collection"
   ]
  },
  {
   "cell_type": "code",
   "execution_count": 4,
   "metadata": {},
   "outputs": [
    {
     "name": "stdout",
     "output_type": "stream",
     "text": [
      "INFO:httpx:HTTP Request: DELETE http://localhost:8080/v1/schema/HuggingFaceBlogPost \"HTTP/1.1 200 OK\"\n",
      "HTTP Request: DELETE http://localhost:8080/v1/schema/HuggingFaceBlogPost \"HTTP/1.1 200 OK\"\n",
      "INFO:httpx:HTTP Request: DELETE http://localhost:8080/v1/schema/WeaviateBlogPost \"HTTP/1.1 200 OK\"\n",
      "HTTP Request: DELETE http://localhost:8080/v1/schema/WeaviateBlogPost \"HTTP/1.1 200 OK\"\n",
      "INFO:httpx:HTTP Request: POST http://localhost:8080/v1/schema \"HTTP/1.1 200 OK\"\n",
      "HTTP Request: POST http://localhost:8080/v1/schema \"HTTP/1.1 200 OK\"\n",
      "INFO:httpx:HTTP Request: POST http://localhost:8080/v1/schema \"HTTP/1.1 200 OK\"\n",
      "HTTP Request: POST http://localhost:8080/v1/schema \"HTTP/1.1 200 OK\"\n"
     ]
    }
   ],
   "source": [
    "\n",
    "# lets make sure we do not have this collection first\n",
    "client.collections.delete([\"WeaviateBlogPost\", \"HuggingFaceBlogPost\"])\n",
    "\n",
    "collection_weaviate_blog = client.collections.create(\n",
    "    \"WeaviateBlogPost\",\n",
    "    description=\"Blog post from the Weaviate website\",\n",
    "    vectorizer_config=wvc.config.Configure.Vectorizer.text2vec_openai(\n",
    "        model=\"text-embedding-3-small\"\n",
    "    ),\n",
    "    properties=[\n",
    "        wvc.config.Property(\n",
    "            name=\"content\", data_type=wvc.config.DataType.TEXT\n",
    "        )\n",
    "    ]\n",
    ")\n",
    "\n",
    "collection_huggingface_blog = client.collections.create(\n",
    "    \"HuggingFaceBlogPost\",\n",
    "    description=\"Blog post from the HuggingFace website\",\n",
    "    vectorizer_config=wvc.config.Configure.Vectorizer.text2vec_openai(\n",
    "        model=\"text-embedding-3-small\"\n",
    "    ),\n",
    "    properties=[\n",
    "        wvc.config.Property(\n",
    "            name=\"content\", data_type=wvc.config.DataType.TEXT\n",
    "        )\n",
    "    ]\n",
    ")"
   ]
  },
  {
   "cell_type": "markdown",
   "metadata": {
    "id": "6pMof9epRbE-"
   },
   "source": [
    "### Load in Data"
   ]
  },
  {
   "cell_type": "code",
   "execution_count": 5,
   "metadata": {},
   "outputs": [
    {
     "name": "stderr",
     "output_type": "stream",
     "text": [
      "/Users/dudanogueira/dev/weaviate/recipes/.venv/lib/python3.12/site-packages/pydantic/_internal/_config.py:291: PydanticDeprecatedSince20: Support for class-based `config` is deprecated, use ConfigDict instead. Deprecated in Pydantic V2.0 to be removed in V3.0. See Pydantic V2 Migration Guide at https://errors.pydantic.dev/2.8/migration/\n",
      "  warnings.warn(DEPRECATION_MESSAGE, DeprecationWarning)\n"
     ]
    }
   ],
   "source": [
    "# lets import llama lib\n",
    "from llama_index.core import download_loader\n",
    "from llama_index.readers.web import SimpleWebPageReader\n",
    "from llama_index.core.node_parser import SimpleNodeParser\n",
    "from llama_index.vector_stores.weaviate import WeaviateVectorStore\n",
    "from llama_index.core import VectorStoreIndex, StorageContext\n",
    "from llama_index.core import Settings\n",
    "from llama_index.embeddings.openai import OpenAIEmbedding\n",
    "import os"
   ]
  },
  {
   "cell_type": "code",
   "execution_count": 6,
   "metadata": {
    "id": "_gHO-DxZsL1x"
   },
   "outputs": [
    {
     "name": "stderr",
     "output_type": "stream",
     "text": [
      "/var/folders/4j/js2lp8b17zs2cvk9v9pl26cc0000gn/T/ipykernel_26902/1452062062.py:7: DeprecationWarning: Call to deprecated function (or staticmethod) download_loader. (`download_loader()` is deprecated. Please install tool using pip install directly instead.)\n",
      "  SimpleWebPageReader = download_loader(\"SimpleWebPageReader\")\n"
     ]
    },
    {
     "name": "stdout",
     "output_type": "stream",
     "text": [
      "Requirement already satisfied: llama-index-readers-web in /Users/dudanogueira/dev/weaviate/recipes/.venv/lib/python3.12/site-packages (0.2.2)\n",
      "Requirement already satisfied: aiohttp<4.0.0,>=3.9.1 in /Users/dudanogueira/dev/weaviate/recipes/.venv/lib/python3.12/site-packages (from llama-index-readers-web) (3.10.1)\n",
      "Requirement already satisfied: beautifulsoup4<5.0.0,>=4.12.3 in /Users/dudanogueira/dev/weaviate/recipes/.venv/lib/python3.12/site-packages (from llama-index-readers-web) (4.12.3)\n",
      "Requirement already satisfied: chromedriver-autoinstaller<0.7.0,>=0.6.3 in /Users/dudanogueira/dev/weaviate/recipes/.venv/lib/python3.12/site-packages (from llama-index-readers-web) (0.6.4)\n",
      "Requirement already satisfied: html2text<2025.0.0,>=2024.2.26 in /Users/dudanogueira/dev/weaviate/recipes/.venv/lib/python3.12/site-packages (from llama-index-readers-web) (2024.2.26)\n",
      "Requirement already satisfied: llama-index-core<0.12.0,>=0.11.0 in /Users/dudanogueira/dev/weaviate/recipes/.venv/lib/python3.12/site-packages (from llama-index-readers-web) (0.11.23)\n",
      "Requirement already satisfied: newspaper3k<0.3.0,>=0.2.8 in /Users/dudanogueira/dev/weaviate/recipes/.venv/lib/python3.12/site-packages (from llama-index-readers-web) (0.2.8)\n",
      "Requirement already satisfied: playwright<2.0,>=1.30 in /Users/dudanogueira/dev/weaviate/recipes/.venv/lib/python3.12/site-packages (from llama-index-readers-web) (1.46.0)\n",
      "Requirement already satisfied: requests<3.0.0,>=2.31.0 in /Users/dudanogueira/dev/weaviate/recipes/.venv/lib/python3.12/site-packages (from llama-index-readers-web) (2.32.3)\n",
      "Requirement already satisfied: selenium<5.0.0,>=4.17.2 in /Users/dudanogueira/dev/weaviate/recipes/.venv/lib/python3.12/site-packages (from llama-index-readers-web) (4.24.0)\n",
      "Requirement already satisfied: spider-client<0.0.28,>=0.0.27 in /Users/dudanogueira/dev/weaviate/recipes/.venv/lib/python3.12/site-packages (from llama-index-readers-web) (0.0.27)\n",
      "Requirement already satisfied: urllib3>=1.1.0 in /Users/dudanogueira/dev/weaviate/recipes/.venv/lib/python3.12/site-packages (from llama-index-readers-web) (2.2.1)\n",
      "Requirement already satisfied: aiohappyeyeballs>=2.3.0 in /Users/dudanogueira/dev/weaviate/recipes/.venv/lib/python3.12/site-packages (from aiohttp<4.0.0,>=3.9.1->llama-index-readers-web) (2.3.5)\n",
      "Requirement already satisfied: aiosignal>=1.1.2 in /Users/dudanogueira/dev/weaviate/recipes/.venv/lib/python3.12/site-packages (from aiohttp<4.0.0,>=3.9.1->llama-index-readers-web) (1.3.1)\n",
      "Requirement already satisfied: attrs>=17.3.0 in /Users/dudanogueira/dev/weaviate/recipes/.venv/lib/python3.12/site-packages (from aiohttp<4.0.0,>=3.9.1->llama-index-readers-web) (24.2.0)\n",
      "Requirement already satisfied: frozenlist>=1.1.1 in /Users/dudanogueira/dev/weaviate/recipes/.venv/lib/python3.12/site-packages (from aiohttp<4.0.0,>=3.9.1->llama-index-readers-web) (1.4.1)\n",
      "Requirement already satisfied: multidict<7.0,>=4.5 in /Users/dudanogueira/dev/weaviate/recipes/.venv/lib/python3.12/site-packages (from aiohttp<4.0.0,>=3.9.1->llama-index-readers-web) (6.0.5)\n",
      "Requirement already satisfied: yarl<2.0,>=1.0 in /Users/dudanogueira/dev/weaviate/recipes/.venv/lib/python3.12/site-packages (from aiohttp<4.0.0,>=3.9.1->llama-index-readers-web) (1.9.4)\n",
      "Requirement already satisfied: soupsieve>1.2 in /Users/dudanogueira/dev/weaviate/recipes/.venv/lib/python3.12/site-packages (from beautifulsoup4<5.0.0,>=4.12.3->llama-index-readers-web) (2.6)\n",
      "Requirement already satisfied: packaging>=23.1 in /Users/dudanogueira/dev/weaviate/recipes/.venv/lib/python3.12/site-packages (from chromedriver-autoinstaller<0.7.0,>=0.6.3->llama-index-readers-web) (24.0)\n",
      "Requirement already satisfied: PyYAML>=6.0.1 in /Users/dudanogueira/dev/weaviate/recipes/.venv/lib/python3.12/site-packages (from llama-index-core<0.12.0,>=0.11.0->llama-index-readers-web) (6.0.2)\n",
      "Requirement already satisfied: SQLAlchemy>=1.4.49 in /Users/dudanogueira/dev/weaviate/recipes/.venv/lib/python3.12/site-packages (from SQLAlchemy[asyncio]>=1.4.49->llama-index-core<0.12.0,>=0.11.0->llama-index-readers-web) (2.0.32)\n",
      "Requirement already satisfied: dataclasses-json in /Users/dudanogueira/dev/weaviate/recipes/.venv/lib/python3.12/site-packages (from llama-index-core<0.12.0,>=0.11.0->llama-index-readers-web) (0.6.7)\n",
      "Requirement already satisfied: deprecated>=1.2.9.3 in /Users/dudanogueira/dev/weaviate/recipes/.venv/lib/python3.12/site-packages (from llama-index-core<0.12.0,>=0.11.0->llama-index-readers-web) (1.2.14)\n",
      "Requirement already satisfied: dirtyjson<2.0.0,>=1.0.8 in /Users/dudanogueira/dev/weaviate/recipes/.venv/lib/python3.12/site-packages (from llama-index-core<0.12.0,>=0.11.0->llama-index-readers-web) (1.0.8)\n",
      "Requirement already satisfied: filetype<2.0.0,>=1.2.0 in /Users/dudanogueira/dev/weaviate/recipes/.venv/lib/python3.12/site-packages (from llama-index-core<0.12.0,>=0.11.0->llama-index-readers-web) (1.2.0)\n",
      "Requirement already satisfied: fsspec>=2023.5.0 in /Users/dudanogueira/dev/weaviate/recipes/.venv/lib/python3.12/site-packages (from llama-index-core<0.12.0,>=0.11.0->llama-index-readers-web) (2024.6.1)\n",
      "Requirement already satisfied: httpx in /Users/dudanogueira/dev/weaviate/recipes/.venv/lib/python3.12/site-packages (from llama-index-core<0.12.0,>=0.11.0->llama-index-readers-web) (0.27.0)\n",
      "Requirement already satisfied: nest-asyncio<2.0.0,>=1.5.8 in /Users/dudanogueira/dev/weaviate/recipes/.venv/lib/python3.12/site-packages (from llama-index-core<0.12.0,>=0.11.0->llama-index-readers-web) (1.6.0)\n",
      "Requirement already satisfied: networkx>=3.0 in /Users/dudanogueira/dev/weaviate/recipes/.venv/lib/python3.12/site-packages (from llama-index-core<0.12.0,>=0.11.0->llama-index-readers-web) (3.3)\n",
      "Requirement already satisfied: nltk>3.8.1 in /Users/dudanogueira/dev/weaviate/recipes/.venv/lib/python3.12/site-packages (from llama-index-core<0.12.0,>=0.11.0->llama-index-readers-web) (3.9.1)\n",
      "Requirement already satisfied: numpy<2.0.0 in /Users/dudanogueira/dev/weaviate/recipes/.venv/lib/python3.12/site-packages (from llama-index-core<0.12.0,>=0.11.0->llama-index-readers-web) (1.26.4)\n",
      "Requirement already satisfied: pillow>=9.0.0 in /Users/dudanogueira/dev/weaviate/recipes/.venv/lib/python3.12/site-packages (from llama-index-core<0.12.0,>=0.11.0->llama-index-readers-web) (10.4.0)\n",
      "Requirement already satisfied: pydantic<3.0.0,>=2.7.0 in /Users/dudanogueira/dev/weaviate/recipes/.venv/lib/python3.12/site-packages (from llama-index-core<0.12.0,>=0.11.0->llama-index-readers-web) (2.8.2)\n",
      "Requirement already satisfied: tenacity!=8.4.0,<9.0.0,>=8.2.0 in /Users/dudanogueira/dev/weaviate/recipes/.venv/lib/python3.12/site-packages (from llama-index-core<0.12.0,>=0.11.0->llama-index-readers-web) (8.5.0)\n",
      "Requirement already satisfied: tiktoken>=0.3.3 in /Users/dudanogueira/dev/weaviate/recipes/.venv/lib/python3.12/site-packages (from llama-index-core<0.12.0,>=0.11.0->llama-index-readers-web) (0.8.0)\n",
      "Requirement already satisfied: tqdm<5.0.0,>=4.66.1 in /Users/dudanogueira/dev/weaviate/recipes/.venv/lib/python3.12/site-packages (from llama-index-core<0.12.0,>=0.11.0->llama-index-readers-web) (4.66.5)\n",
      "Requirement already satisfied: typing-extensions>=4.5.0 in /Users/dudanogueira/dev/weaviate/recipes/.venv/lib/python3.12/site-packages (from llama-index-core<0.12.0,>=0.11.0->llama-index-readers-web) (4.12.1)\n",
      "Requirement already satisfied: typing-inspect>=0.8.0 in /Users/dudanogueira/dev/weaviate/recipes/.venv/lib/python3.12/site-packages (from llama-index-core<0.12.0,>=0.11.0->llama-index-readers-web) (0.9.0)\n",
      "Requirement already satisfied: wrapt in /Users/dudanogueira/dev/weaviate/recipes/.venv/lib/python3.12/site-packages (from llama-index-core<0.12.0,>=0.11.0->llama-index-readers-web) (1.16.0)\n",
      "Requirement already satisfied: cssselect>=0.9.2 in /Users/dudanogueira/dev/weaviate/recipes/.venv/lib/python3.12/site-packages (from newspaper3k<0.3.0,>=0.2.8->llama-index-readers-web) (1.2.0)\n",
      "Requirement already satisfied: lxml>=3.6.0 in /Users/dudanogueira/dev/weaviate/recipes/.venv/lib/python3.12/site-packages (from newspaper3k<0.3.0,>=0.2.8->llama-index-readers-web) (5.3.0)\n",
      "Requirement already satisfied: feedparser>=5.2.1 in /Users/dudanogueira/dev/weaviate/recipes/.venv/lib/python3.12/site-packages (from newspaper3k<0.3.0,>=0.2.8->llama-index-readers-web) (6.0.11)\n",
      "Requirement already satisfied: tldextract>=2.0.1 in /Users/dudanogueira/dev/weaviate/recipes/.venv/lib/python3.12/site-packages (from newspaper3k<0.3.0,>=0.2.8->llama-index-readers-web) (5.1.2)\n",
      "Requirement already satisfied: feedfinder2>=0.0.4 in /Users/dudanogueira/dev/weaviate/recipes/.venv/lib/python3.12/site-packages (from newspaper3k<0.3.0,>=0.2.8->llama-index-readers-web) (0.0.4)\n",
      "Requirement already satisfied: jieba3k>=0.35.1 in /Users/dudanogueira/dev/weaviate/recipes/.venv/lib/python3.12/site-packages (from newspaper3k<0.3.0,>=0.2.8->llama-index-readers-web) (0.35.1)\n",
      "Requirement already satisfied: python-dateutil>=2.5.3 in /Users/dudanogueira/dev/weaviate/recipes/.venv/lib/python3.12/site-packages (from newspaper3k<0.3.0,>=0.2.8->llama-index-readers-web) (2.9.0.post0)\n",
      "Requirement already satisfied: tinysegmenter==0.3 in /Users/dudanogueira/dev/weaviate/recipes/.venv/lib/python3.12/site-packages (from newspaper3k<0.3.0,>=0.2.8->llama-index-readers-web) (0.3)\n",
      "Requirement already satisfied: greenlet==3.0.3 in /Users/dudanogueira/dev/weaviate/recipes/.venv/lib/python3.12/site-packages (from playwright<2.0,>=1.30->llama-index-readers-web) (3.0.3)\n",
      "Requirement already satisfied: pyee==11.1.0 in /Users/dudanogueira/dev/weaviate/recipes/.venv/lib/python3.12/site-packages (from playwright<2.0,>=1.30->llama-index-readers-web) (11.1.0)\n",
      "Requirement already satisfied: charset-normalizer<4,>=2 in /Users/dudanogueira/dev/weaviate/recipes/.venv/lib/python3.12/site-packages (from requests<3.0.0,>=2.31.0->llama-index-readers-web) (3.3.2)\n",
      "Requirement already satisfied: idna<4,>=2.5 in /Users/dudanogueira/dev/weaviate/recipes/.venv/lib/python3.12/site-packages (from requests<3.0.0,>=2.31.0->llama-index-readers-web) (3.7)\n",
      "Requirement already satisfied: certifi>=2017.4.17 in /Users/dudanogueira/dev/weaviate/recipes/.venv/lib/python3.12/site-packages (from requests<3.0.0,>=2.31.0->llama-index-readers-web) (2024.6.2)\n",
      "Requirement already satisfied: trio~=0.17 in /Users/dudanogueira/dev/weaviate/recipes/.venv/lib/python3.12/site-packages (from selenium<5.0.0,>=4.17.2->llama-index-readers-web) (0.26.2)\n",
      "Requirement already satisfied: trio-websocket~=0.9 in /Users/dudanogueira/dev/weaviate/recipes/.venv/lib/python3.12/site-packages (from selenium<5.0.0,>=4.17.2->llama-index-readers-web) (0.11.1)\n",
      "Requirement already satisfied: websocket-client~=1.8 in /Users/dudanogueira/dev/weaviate/recipes/.venv/lib/python3.12/site-packages (from selenium<5.0.0,>=4.17.2->llama-index-readers-web) (1.8.0)\n",
      "Requirement already satisfied: six in /Users/dudanogueira/dev/weaviate/recipes/.venv/lib/python3.12/site-packages (from feedfinder2>=0.0.4->newspaper3k<0.3.0,>=0.2.8->llama-index-readers-web) (1.16.0)\n",
      "Requirement already satisfied: sgmllib3k in /Users/dudanogueira/dev/weaviate/recipes/.venv/lib/python3.12/site-packages (from feedparser>=5.2.1->newspaper3k<0.3.0,>=0.2.8->llama-index-readers-web) (1.0.0)\n",
      "Requirement already satisfied: click in /Users/dudanogueira/dev/weaviate/recipes/.venv/lib/python3.12/site-packages (from nltk>3.8.1->llama-index-core<0.12.0,>=0.11.0->llama-index-readers-web) (8.1.7)\n",
      "Requirement already satisfied: joblib in /Users/dudanogueira/dev/weaviate/recipes/.venv/lib/python3.12/site-packages (from nltk>3.8.1->llama-index-core<0.12.0,>=0.11.0->llama-index-readers-web) (1.4.2)\n",
      "Requirement already satisfied: regex>=2021.8.3 in /Users/dudanogueira/dev/weaviate/recipes/.venv/lib/python3.12/site-packages (from nltk>3.8.1->llama-index-core<0.12.0,>=0.11.0->llama-index-readers-web) (2024.7.24)\n",
      "Requirement already satisfied: annotated-types>=0.4.0 in /Users/dudanogueira/dev/weaviate/recipes/.venv/lib/python3.12/site-packages (from pydantic<3.0.0,>=2.7.0->llama-index-core<0.12.0,>=0.11.0->llama-index-readers-web) (0.7.0)\n",
      "Requirement already satisfied: pydantic-core==2.20.1 in /Users/dudanogueira/dev/weaviate/recipes/.venv/lib/python3.12/site-packages (from pydantic<3.0.0,>=2.7.0->llama-index-core<0.12.0,>=0.11.0->llama-index-readers-web) (2.20.1)\n",
      "Requirement already satisfied: requests-file>=1.4 in /Users/dudanogueira/dev/weaviate/recipes/.venv/lib/python3.12/site-packages (from tldextract>=2.0.1->newspaper3k<0.3.0,>=0.2.8->llama-index-readers-web) (2.1.0)\n",
      "Requirement already satisfied: filelock>=3.0.8 in /Users/dudanogueira/dev/weaviate/recipes/.venv/lib/python3.12/site-packages (from tldextract>=2.0.1->newspaper3k<0.3.0,>=0.2.8->llama-index-readers-web) (3.15.4)\n",
      "Requirement already satisfied: sortedcontainers in /Users/dudanogueira/dev/weaviate/recipes/.venv/lib/python3.12/site-packages (from trio~=0.17->selenium<5.0.0,>=4.17.2->llama-index-readers-web) (2.4.0)\n",
      "Requirement already satisfied: outcome in /Users/dudanogueira/dev/weaviate/recipes/.venv/lib/python3.12/site-packages (from trio~=0.17->selenium<5.0.0,>=4.17.2->llama-index-readers-web) (1.3.0.post0)\n",
      "Requirement already satisfied: sniffio>=1.3.0 in /Users/dudanogueira/dev/weaviate/recipes/.venv/lib/python3.12/site-packages (from trio~=0.17->selenium<5.0.0,>=4.17.2->llama-index-readers-web) (1.3.1)\n",
      "Requirement already satisfied: wsproto>=0.14 in /Users/dudanogueira/dev/weaviate/recipes/.venv/lib/python3.12/site-packages (from trio-websocket~=0.9->selenium<5.0.0,>=4.17.2->llama-index-readers-web) (1.2.0)\n",
      "Requirement already satisfied: mypy-extensions>=0.3.0 in /Users/dudanogueira/dev/weaviate/recipes/.venv/lib/python3.12/site-packages (from typing-inspect>=0.8.0->llama-index-core<0.12.0,>=0.11.0->llama-index-readers-web) (1.0.0)\n",
      "Requirement already satisfied: pysocks!=1.5.7,<2.0,>=1.5.6 in /Users/dudanogueira/dev/weaviate/recipes/.venv/lib/python3.12/site-packages (from urllib3[socks]<3,>=1.26->selenium<5.0.0,>=4.17.2->llama-index-readers-web) (1.7.1)\n",
      "Requirement already satisfied: marshmallow<4.0.0,>=3.18.0 in /Users/dudanogueira/dev/weaviate/recipes/.venv/lib/python3.12/site-packages (from dataclasses-json->llama-index-core<0.12.0,>=0.11.0->llama-index-readers-web) (3.21.3)\n",
      "Requirement already satisfied: anyio in /Users/dudanogueira/dev/weaviate/recipes/.venv/lib/python3.12/site-packages (from httpx->llama-index-core<0.12.0,>=0.11.0->llama-index-readers-web) (4.4.0)\n",
      "Requirement already satisfied: httpcore==1.* in /Users/dudanogueira/dev/weaviate/recipes/.venv/lib/python3.12/site-packages (from httpx->llama-index-core<0.12.0,>=0.11.0->llama-index-readers-web) (1.0.5)\n",
      "Requirement already satisfied: h11<0.15,>=0.13 in /Users/dudanogueira/dev/weaviate/recipes/.venv/lib/python3.12/site-packages (from httpcore==1.*->httpx->llama-index-core<0.12.0,>=0.11.0->llama-index-readers-web) (0.14.0)\n",
      "INFO:httpx:HTTP Request: GET http://localhost:8080/v1/schema/WeaviateBlogPost \"HTTP/1.1 200 OK\"\n",
      "HTTP Request: GET http://localhost:8080/v1/schema/WeaviateBlogPost \"HTTP/1.1 200 OK\"\n"
     ]
    },
    {
     "name": "stderr",
     "output_type": "stream",
     "text": [
      "\n",
      "\u001b[1m[\u001b[0m\u001b[34;49mnotice\u001b[0m\u001b[1;39;49m]\u001b[0m\u001b[39;49m A new release of pip is available: \u001b[0m\u001b[31;49m24.0\u001b[0m\u001b[39;49m -> \u001b[0m\u001b[32;49m24.3.1\u001b[0m\n",
      "\u001b[1m[\u001b[0m\u001b[34;49mnotice\u001b[0m\u001b[1;39;49m]\u001b[0m\u001b[39;49m To update, run: \u001b[0m\u001b[32;49mpip install --upgrade pip\u001b[0m\n"
     ]
    },
    {
     "name": "stdout",
     "output_type": "stream",
     "text": [
      "INFO:httpx:HTTP Request: POST https://api.openai.com/v1/embeddings \"HTTP/1.1 200 OK\"\n",
      "HTTP Request: POST https://api.openai.com/v1/embeddings \"HTTP/1.1 200 OK\"\n",
      "INFO:httpx:HTTP Request: GET http://localhost:8080/v1/schema \"HTTP/1.1 200 OK\"\n",
      "HTTP Request: GET http://localhost:8080/v1/schema \"HTTP/1.1 200 OK\"\n",
      "INFO:httpx:HTTP Request: GET http://localhost:8080/v1/schema/HuggingFaceBlogPost \"HTTP/1.1 200 OK\"\n",
      "HTTP Request: GET http://localhost:8080/v1/schema/HuggingFaceBlogPost \"HTTP/1.1 200 OK\"\n",
      "INFO:httpx:HTTP Request: POST https://api.openai.com/v1/embeddings \"HTTP/1.1 200 OK\"\n",
      "HTTP Request: POST https://api.openai.com/v1/embeddings \"HTTP/1.1 200 OK\"\n"
     ]
    },
    {
     "name": "stdout",
     "output_type": "stream",
     "text": [
      "INFO:httpx:HTTP Request: GET http://localhost:8080/v1/nodes \"HTTP/1.1 200 OK\"\n",
      "HTTP Request: GET http://localhost:8080/v1/nodes \"HTTP/1.1 200 OK\"\n",
      "INFO:httpx:HTTP Request: GET http://localhost:8080/v1/nodes \"HTTP/1.1 200 OK\"\n",
      "HTTP Request: GET http://localhost:8080/v1/nodes \"HTTP/1.1 200 OK\"\n"
     ]
    }
   ],
   "source": [
    "# you must have the API key as envi variable\n",
    "#os.environ[\"OPENAI_API_KEY\"] = \"sk-...\"\n",
    "\n",
    "embed_model = OpenAIEmbedding(model=\"text-embedding-3-small\")\n",
    "Settings.embed_model = embed_model\n",
    "\n",
    "SimpleWebPageReader = download_loader(\"SimpleWebPageReader\")\n",
    "\n",
    "loader = SimpleWebPageReader(html_to_text=True)\n",
    "WeaviateBlog = loader.load_data(urls=['https://weaviate.io/blog/pq-rescoring'])\n",
    "WeaviateBlog_vector_store = WeaviateVectorStore(weaviate_client=client, index_name=\"WeaviateBlogPost\", text_key=\"content\")\n",
    "WeaviateBlog_storage_context = StorageContext.from_defaults(vector_store=WeaviateBlog_vector_store)\n",
    "WeaviateBlogIndex = VectorStoreIndex.from_documents(WeaviateBlog, storage_context=WeaviateBlog_storage_context)\n",
    "\n",
    "HuggingFaceBlog = loader.load_data(urls=['https://huggingface.co/blog/ram-efficient-pytorch-fsdp'])\n",
    "HuggingFaceBlog_vector_store = WeaviateVectorStore(weaviate_client=client, index_name=\"HuggingFaceBlogPost\", text_key=\"content\")\n",
    "HuggingFaceBlog_storage_context = StorageContext.from_defaults(vector_store=HuggingFaceBlog_vector_store)\n",
    "HuggingFaceBlogIndex = VectorStoreIndex.from_documents(HuggingFaceBlog, storage_context=HuggingFaceBlog_storage_context)"
   ]
  },
  {
   "cell_type": "markdown",
   "metadata": {
    "id": "h4OZ8f7GRe5f"
   },
   "source": [
    "## Create Index"
   ]
  },
  {
   "cell_type": "code",
   "execution_count": 7,
   "metadata": {
    "id": "ddTD13Z1wkzb"
   },
   "outputs": [
    {
     "name": "stdout",
     "output_type": "stream",
     "text": [
      "INFO:httpx:HTTP Request: POST https://api.openai.com/v1/embeddings \"HTTP/1.1 200 OK\"\n",
      "HTTP Request: POST https://api.openai.com/v1/embeddings \"HTTP/1.1 200 OK\"\n"
     ]
    }
   ],
   "source": [
    "from llama_index.core.schema import IndexNode\n",
    "\n",
    "summaries = {\n",
    "    \"Weaviate\": \"This node provides blog posts from Weaviate, a Vector Database.\",\n",
    "    \"HuggingFace\": \"This node provides blog posts from HuggingFace, tools for training Machine Learning models.\"\n",
    "}\n",
    "\n",
    "df_nodes = [\n",
    "    IndexNode(text=summaries[\"Weaviate\"], index_id=\"WeaviateBlogs\"),\n",
    "    IndexNode(text=summaries[\"HuggingFace\"], index_id=\"HuggingFaceBlogs\")\n",
    "]\n",
    "\n",
    "WeaviateBlogQueryEngine = WeaviateBlogIndex.as_query_engine()\n",
    "HuggingFaceBlogQueryEngine = HuggingFaceBlogIndex.as_query_engine()\n",
    "\n",
    "df_id_query_engine_mapping = {\n",
    "    \"WeaviateBlogs\": WeaviateBlogQueryEngine,\n",
    "    \"HuggingFaceBlogs\": HuggingFaceBlogQueryEngine\n",
    "}\n",
    "\n",
    "Tool_Description_Index = VectorStoreIndex(df_nodes)\n",
    "Tool_Retriever = Tool_Description_Index.as_retriever(similarity_top_k=1)"
   ]
  },
  {
   "cell_type": "markdown",
   "metadata": {
    "id": "RpUKO2MHR6PP"
   },
   "source": [
    "## Build Recursive Retriever"
   ]
  },
  {
   "cell_type": "code",
   "execution_count": 8,
   "metadata": {
    "id": "OWWMu5BJ0HgQ"
   },
   "outputs": [],
   "source": [
    "from llama_index.core.retrievers import RecursiveRetriever\n",
    "from llama_index.core.query_engine import RetrieverQueryEngine\n",
    "from llama_index.core.response_synthesizers import get_response_synthesizer\n",
    "\n",
    "recursive_retriever = RecursiveRetriever(\n",
    "    \"vector\",\n",
    "    retriever_dict={\"vector\": Tool_Retriever},\n",
    "    query_engine_dict=df_id_query_engine_mapping,\n",
    "    verbose=True\n",
    ")\n",
    "\n",
    "response_synthesizer = get_response_synthesizer(\n",
    "    response_mode=\"compact\"\n",
    ")\n",
    "\n",
    "query_engine = RetrieverQueryEngine.from_args(\n",
    "    recursive_retriever, response_synthesizer=response_synthesizer\n",
    ")"
   ]
  },
  {
   "cell_type": "code",
   "execution_count": 9,
   "metadata": {
    "colab": {
     "base_uri": "https://localhost:8080/"
    },
    "id": "hdV8cjaP0edt",
    "outputId": "1d780e01-aa2b-47dd-d8ef-8ecde416c657"
   },
   "outputs": [
    {
     "name": "stdout",
     "output_type": "stream",
     "text": [
      "\u001b[1;3;34mRetrieving with query id None: What is Product Quantization?\n",
      "\u001b[0mINFO:httpx:HTTP Request: POST https://api.openai.com/v1/embeddings \"HTTP/1.1 200 OK\"\n",
      "HTTP Request: POST https://api.openai.com/v1/embeddings \"HTTP/1.1 200 OK\"\n",
      "\u001b[1;3;38;5;200mRetrieved node with id, entering: WeaviateBlogs\n",
      "\u001b[0m\u001b[1;3;34mRetrieving with query id WeaviateBlogs: What is Product Quantization?\n",
      "\u001b[0mINFO:httpx:HTTP Request: GET http://localhost:8080/v1/schema/WeaviateBlogPost \"HTTP/1.1 200 OK\"\n",
      "HTTP Request: GET http://localhost:8080/v1/schema/WeaviateBlogPost \"HTTP/1.1 200 OK\"\n",
      "INFO:httpx:HTTP Request: GET http://localhost:8080/v1/schema/WeaviateBlogPost \"HTTP/1.1 200 OK\"\n",
      "HTTP Request: GET http://localhost:8080/v1/schema/WeaviateBlogPost \"HTTP/1.1 200 OK\"\n",
      "INFO:httpx:HTTP Request: POST https://api.openai.com/v1/chat/completions \"HTTP/1.1 200 OK\"\n",
      "HTTP Request: POST https://api.openai.com/v1/chat/completions \"HTTP/1.1 200 OK\"\n",
      "\u001b[1;3;32mGot response: Product Quantization is a method used to compress vectors, enabling users to reduce memory requirements. It works by representing vectors in a more compact form, sacrificing some precision in order to save memory space. This compression technique trades off accuracy for memory savings, allowing users to store data more efficiently.\n",
      "\u001b[0mINFO:httpx:HTTP Request: POST https://api.openai.com/v1/chat/completions \"HTTP/1.1 200 OK\"\n",
      "HTTP Request: POST https://api.openai.com/v1/chat/completions \"HTTP/1.1 200 OK\"\n"
     ]
    }
   ],
   "source": [
    "response = query_engine.query(\"What is Product Quantization?\").response"
   ]
  },
  {
   "cell_type": "code",
   "execution_count": 10,
   "metadata": {
    "colab": {
     "base_uri": "https://localhost:8080/"
    },
    "id": "N5Il4CHb0hGI",
    "outputId": "e5c170d1-c489-43ed-ed57-3f43b6b83053"
   },
   "outputs": [
    {
     "name": "stdout",
     "output_type": "stream",
     "text": [
      "\u001b[1;3;34mRetrieving with query id None: What does FSDP do?\n",
      "\u001b[0mINFO:httpx:HTTP Request: POST https://api.openai.com/v1/embeddings \"HTTP/1.1 200 OK\"\n",
      "HTTP Request: POST https://api.openai.com/v1/embeddings \"HTTP/1.1 200 OK\"\n",
      "\u001b[1;3;38;5;200mRetrieved node with id, entering: HuggingFaceBlogs\n",
      "\u001b[0m\u001b[1;3;34mRetrieving with query id HuggingFaceBlogs: What does FSDP do?\n",
      "\u001b[0mINFO:httpx:HTTP Request: GET http://localhost:8080/v1/schema/HuggingFaceBlogPost \"HTTP/1.1 200 OK\"\n",
      "HTTP Request: GET http://localhost:8080/v1/schema/HuggingFaceBlogPost \"HTTP/1.1 200 OK\"\n",
      "INFO:httpx:HTTP Request: GET http://localhost:8080/v1/schema/HuggingFaceBlogPost \"HTTP/1.1 200 OK\"\n",
      "HTTP Request: GET http://localhost:8080/v1/schema/HuggingFaceBlogPost \"HTTP/1.1 200 OK\"\n",
      "INFO:httpx:HTTP Request: POST https://api.openai.com/v1/chat/completions \"HTTP/1.1 200 OK\"\n",
      "HTTP Request: POST https://api.openai.com/v1/chat/completions \"HTTP/1.1 200 OK\"\n",
      "\u001b[1;3;32mGot response: FSDP is a paradigm where the optimizer states, gradients, and parameters are sharded across devices. During the forward pass, each FSDP unit performs an all-gather operation to get the complete weights, followed by computation and discarding shards from other devices. In the backward pass, FSDP units perform another all-gather operation to get complete weights, compute local gradients, average them, and shard them across devices for parameter updates.\n",
      "\u001b[0mINFO:httpx:HTTP Request: POST https://api.openai.com/v1/chat/completions \"HTTP/1.1 200 OK\"\n",
      "HTTP Request: POST https://api.openai.com/v1/chat/completions \"HTTP/1.1 200 OK\"\n"
     ]
    }
   ],
   "source": [
    "response = query_engine.query(\"What does FSDP do?\").response"
   ]
  },
  {
   "cell_type": "code",
   "execution_count": 11,
   "metadata": {},
   "outputs": [],
   "source": [
    "client.close()"
   ]
  }
 ],
 "metadata": {
  "colab": {
   "provenance": []
  },
  "kernelspec": {
   "display_name": ".venv",
   "language": "python",
   "name": "python3"
  },
  "language_info": {
   "codemirror_mode": {
    "name": "ipython",
    "version": 3
   },
   "file_extension": ".py",
   "mimetype": "text/x-python",
   "name": "python",
   "nbconvert_exporter": "python",
   "pygments_lexer": "ipython3",
   "version": "3.12.5"
  }
 },
 "nbformat": 4,
 "nbformat_minor": 0
}
