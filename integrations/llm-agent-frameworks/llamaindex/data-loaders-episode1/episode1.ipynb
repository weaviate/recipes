{
 "cells": [
  {
   "cell_type": "markdown",
   "metadata": {},
   "source": [
    "[![Open In Colab](https://colab.research.google.com/assets/colab-badge.svg)](https://colab.research.google.com/github/weaviate/recipes/blob/main/integrations/llm-agent-frameworks/llamaindex/data-loaders-episode1/episode1.ipynb)"
   ]
  },
  {
   "cell_type": "markdown",
   "metadata": {},
   "source": [
    "# LlamaIndex Episode 1 🦙"
   ]
  },
  {
   "cell_type": "markdown",
   "metadata": {},
   "source": [
    "## Overview\n",
    "\n",
    "* What is LlamaIndex?\n",
    "\n",
    "        * LlamaHub (data loaders)\n",
    "\n",
    "* How to setup Weaviate\n",
    "\n",
    "        * Create schema\n",
    "\n",
    "\n",
    "* Adding Data to Weaviate using LlamaIndex\n",
    "\n",
    "        *  Data loader examples\n",
    "\n",
    "* Chunking up your data\n",
    "\n",
    "* Connecting Weaviate instance to LlamaIndex\n",
    "\n",
    "* Simple query engine"
   ]
  },
  {
   "cell_type": "markdown",
   "metadata": {},
   "source": [
    "## What is [LlamaIndex](https://www.llamaindex.ai/)?"
   ]
  },
  {
   "cell_type": "markdown",
   "metadata": {},
   "source": [
    "#### Framework that enables you to connect LLMs and storage providers together seamlessly.\n",
    "#### LlamaIndex 🤝 Weaviate ➡ Ultimate RAG stack"
   ]
  },
  {
   "cell_type": "markdown",
   "metadata": {},
   "source": [
    "#### [LlamaHub](https://llama-hub-ui.vercel.app/): Enables you to connect to a number of external data sources (Notion, Slack, Web pages, and more!)"
   ]
  },
  {
   "cell_type": "markdown",
   "metadata": {},
   "source": [
    "## Setting up Weaviate\n",
    "\n",
    "We first first to initialize a Weaviate client and hand it over to LlamaIndex. You can do that in different ways:\n",
    "\n",
    "1. Embedded - Runs a local Weaviate cluster. Works on Linux and Mac.\n",
    "\n",
    "2. WCD - Connects to Weaviate Cloud. You can spin up a free sandbox cluster at https://console.weaviate.cloud/ and get the url and api key.\n",
    "\n",
    "3. Docker - run in Docker. You can use our [docker configurator tool](https://weaviate.io/developers/weaviate/installation/docker-compose#configurator) to get you started."
   ]
  },
  {
   "cell_type": "markdown",
   "metadata": {},
   "source": [
    "Let's first install weaviate client and llama-index along some other dependencies:"
   ]
  },
  {
   "cell_type": "code",
   "execution_count": null,
   "metadata": {},
   "outputs": [],
   "source": [
    "%pip install -U weaviate-client llama-index llama-index-vector-stores-weaviate llama-index-embeddings-openai"
   ]
  },
  {
   "cell_type": "code",
   "execution_count": 1,
   "metadata": {},
   "outputs": [],
   "source": [
    "# let's catch some logs\n",
    "import logging\n",
    "import sys\n",
    "\n",
    "logging.basicConfig(stream=sys.stdout, level=logging.INFO)\n",
    "logging.getLogger().addHandler(logging.StreamHandler(stream=sys.stdout))"
   ]
  },
  {
   "cell_type": "markdown",
   "metadata": {},
   "source": [
    "### Embedded"
   ]
  },
  {
   "cell_type": "code",
   "execution_count": 2,
   "metadata": {},
   "outputs": [
    {
     "name": "stdout",
     "output_type": "stream",
     "text": [
      "INFO:weaviate-client:Started /Users/dudanogueira/.cache/weaviate-embedded: process ID 80646\n",
      "Started /Users/dudanogueira/.cache/weaviate-embedded: process ID 80646\n"
     ]
    },
    {
     "name": "stderr",
     "output_type": "stream",
     "text": [
      "{\"action\":\"startup\",\"build_git_commit\":\"ab0312d5d\",\"build_go_version\":\"go1.23.1\",\"build_image_tag\":\"localhost\",\"build_wv_version\":\"1.26.6\",\"default_vectorizer_module\":\"none\",\"level\":\"info\",\"msg\":\"the default vectorizer modules is set to \\\"none\\\", as a result all new schema classes without an explicit vectorizer setting, will use this vectorizer\",\"time\":\"2024-11-13T15:10:29-03:00\"}\n",
      "{\"action\":\"startup\",\"auto_schema_enabled\":true,\"build_git_commit\":\"ab0312d5d\",\"build_go_version\":\"go1.23.1\",\"build_image_tag\":\"localhost\",\"build_wv_version\":\"1.26.6\",\"level\":\"info\",\"msg\":\"auto schema enabled setting is set to \\\"true\\\"\",\"time\":\"2024-11-13T15:10:29-03:00\"}\n",
      "{\"build_git_commit\":\"ab0312d5d\",\"build_go_version\":\"go1.23.1\",\"build_image_tag\":\"localhost\",\"build_wv_version\":\"1.26.6\",\"level\":\"info\",\"msg\":\"No resource limits set, weaviate will use all available memory and CPU. To limit resources, set LIMIT_RESOURCES=true\",\"time\":\"2024-11-13T15:10:29-03:00\"}\n",
      "{\"build_git_commit\":\"ab0312d5d\",\"build_go_version\":\"go1.23.1\",\"build_image_tag\":\"localhost\",\"build_wv_version\":\"1.26.6\",\"level\":\"info\",\"msg\":\"module offload-s3 is enabled\",\"time\":\"2024-11-13T15:10:29-03:00\"}\n",
      "{\"build_git_commit\":\"ab0312d5d\",\"build_go_version\":\"go1.23.1\",\"build_image_tag\":\"localhost\",\"build_wv_version\":\"1.26.6\",\"level\":\"warning\",\"msg\":\"Multiple vector spaces are present, GraphQL Explore and REST API list objects endpoint module include params has been disabled as a result.\",\"time\":\"2024-11-13T15:10:29-03:00\"}\n",
      "{\"build_git_commit\":\"ab0312d5d\",\"build_go_version\":\"go1.23.1\",\"build_image_tag\":\"localhost\",\"build_wv_version\":\"1.26.6\",\"level\":\"info\",\"msg\":\"open cluster service\",\"servers\":{\"Embedded_at_8079\":50968},\"time\":\"2024-11-13T15:10:29-03:00\"}\n",
      "{\"address\":\"192.168.28.127:50969\",\"build_git_commit\":\"ab0312d5d\",\"build_go_version\":\"go1.23.1\",\"build_image_tag\":\"localhost\",\"build_wv_version\":\"1.26.6\",\"level\":\"info\",\"msg\":\"starting cloud rpc server ...\",\"time\":\"2024-11-13T15:10:29-03:00\"}\n",
      "{\"build_git_commit\":\"ab0312d5d\",\"build_go_version\":\"go1.23.1\",\"build_image_tag\":\"localhost\",\"build_wv_version\":\"1.26.6\",\"level\":\"info\",\"msg\":\"starting raft sub-system ...\",\"time\":\"2024-11-13T15:10:29-03:00\"}\n",
      "{\"address\":\"192.168.28.127:50968\",\"build_git_commit\":\"ab0312d5d\",\"build_go_version\":\"go1.23.1\",\"build_image_tag\":\"localhost\",\"build_wv_version\":\"1.26.6\",\"level\":\"info\",\"msg\":\"tcp transport\",\"tcpMaxPool\":3,\"tcpTimeout\":10000000000,\"time\":\"2024-11-13T15:10:29-03:00\"}\n",
      "{\"build_git_commit\":\"ab0312d5d\",\"build_go_version\":\"go1.23.1\",\"build_image_tag\":\"localhost\",\"build_wv_version\":\"1.26.6\",\"level\":\"info\",\"msg\":\"loading local db\",\"time\":\"2024-11-13T15:10:29-03:00\"}\n",
      "{\"build_git_commit\":\"ab0312d5d\",\"build_go_version\":\"go1.23.1\",\"build_image_tag\":\"localhost\",\"build_wv_version\":\"1.26.6\",\"level\":\"info\",\"msg\":\"local DB successfully loaded\",\"time\":\"2024-11-13T15:10:29-03:00\"}\n",
      "{\"build_git_commit\":\"ab0312d5d\",\"build_go_version\":\"go1.23.1\",\"build_image_tag\":\"localhost\",\"build_wv_version\":\"1.26.6\",\"level\":\"info\",\"msg\":\"schema manager loaded\",\"n\":0,\"time\":\"2024-11-13T15:10:29-03:00\"}\n",
      "{\"build_git_commit\":\"ab0312d5d\",\"build_go_version\":\"go1.23.1\",\"build_image_tag\":\"localhost\",\"build_wv_version\":\"1.26.6\",\"level\":\"info\",\"metadata_only_voters\":false,\"msg\":\"construct a new raft node\",\"name\":\"Embedded_at_8079\",\"time\":\"2024-11-13T15:10:29-03:00\"}\n",
      "{\"action\":\"raft\",\"build_git_commit\":\"ab0312d5d\",\"build_go_version\":\"go1.23.1\",\"build_image_tag\":\"localhost\",\"build_wv_version\":\"1.26.6\",\"index\":126,\"level\":\"info\",\"msg\":\"raft initial configuration\",\"servers\":\"[[{Suffrage:Voter ID:Embedded_at_8079 Address:192.168.28.127:50749}]]\",\"time\":\"2024-11-13T15:10:29-03:00\"}\n",
      "{\"build_git_commit\":\"ab0312d5d\",\"build_go_version\":\"go1.23.1\",\"build_image_tag\":\"localhost\",\"build_wv_version\":\"1.26.6\",\"last_snapshot_index\":0,\"last_store_applied_index_on_start\":129,\"level\":\"info\",\"msg\":\"raft node constructed\",\"raft_applied_index\":0,\"raft_last_index\":129,\"time\":\"2024-11-13T15:10:29-03:00\"}\n",
      "{\"build_git_commit\":\"ab0312d5d\",\"build_go_version\":\"go1.23.1\",\"build_image_tag\":\"localhost\",\"build_wv_version\":\"1.26.6\",\"hasState\":true,\"level\":\"info\",\"msg\":\"raft init\",\"time\":\"2024-11-13T15:10:29-03:00\"}\n",
      "{\"build_git_commit\":\"ab0312d5d\",\"build_go_version\":\"go1.23.1\",\"build_image_tag\":\"localhost\",\"build_wv_version\":\"1.26.6\",\"level\":\"info\",\"msg\":\"attempting to join\",\"remoteNodes\":[\"192.168.28.127:50968\"],\"time\":\"2024-11-13T15:10:29-03:00\"}\n",
      "{\"action\":\"raft\",\"build_git_commit\":\"ab0312d5d\",\"build_go_version\":\"go1.23.1\",\"build_image_tag\":\"localhost\",\"build_wv_version\":\"1.26.6\",\"follower\":{},\"leader-address\":\"\",\"leader-id\":\"\",\"level\":\"info\",\"msg\":\"raft entering follower state\",\"time\":\"2024-11-13T15:10:29-03:00\"}\n",
      "{\"build_git_commit\":\"ab0312d5d\",\"build_go_version\":\"go1.23.1\",\"build_image_tag\":\"localhost\",\"build_wv_version\":\"1.26.6\",\"level\":\"info\",\"msg\":\"attempted to join and failed\",\"remoteNode\":\"192.168.28.127:50968\",\"status\":8,\"time\":\"2024-11-13T15:10:29-03:00\"}\n",
      "{\"build_git_commit\":\"ab0312d5d\",\"build_go_version\":\"go1.23.1\",\"build_image_tag\":\"localhost\",\"build_wv_version\":\"1.26.6\",\"level\":\"info\",\"msg\":\"attempting to join\",\"remoteNodes\":[\"192.168.28.127:50968\"],\"time\":\"2024-11-13T15:10:30-03:00\"}\n",
      "{\"build_git_commit\":\"ab0312d5d\",\"build_go_version\":\"go1.23.1\",\"build_image_tag\":\"localhost\",\"build_wv_version\":\"1.26.6\",\"level\":\"info\",\"msg\":\"attempted to join and failed\",\"remoteNode\":\"192.168.28.127:50968\",\"status\":8,\"time\":\"2024-11-13T15:10:30-03:00\"}\n",
      "{\"action\":\"raft\",\"build_git_commit\":\"ab0312d5d\",\"build_go_version\":\"go1.23.1\",\"build_image_tag\":\"localhost\",\"build_wv_version\":\"1.26.6\",\"last-leader-addr\":\"\",\"last-leader-id\":\"\",\"level\":\"warning\",\"msg\":\"raft heartbeat timeout reached, starting election\",\"time\":\"2024-11-13T15:10:30-03:00\"}\n",
      "{\"action\":\"raft\",\"build_git_commit\":\"ab0312d5d\",\"build_go_version\":\"go1.23.1\",\"build_image_tag\":\"localhost\",\"build_wv_version\":\"1.26.6\",\"level\":\"info\",\"msg\":\"raft entering candidate state\",\"node\":{},\"term\":40,\"time\":\"2024-11-13T15:10:30-03:00\"}\n",
      "{\"action\":\"raft\",\"build_git_commit\":\"ab0312d5d\",\"build_go_version\":\"go1.23.1\",\"build_image_tag\":\"localhost\",\"build_wv_version\":\"1.26.6\",\"level\":\"info\",\"msg\":\"raft pre-vote successful, starting election\",\"refused\":0,\"tally\":1,\"term\":40,\"time\":\"2024-11-13T15:10:30-03:00\",\"votesNeeded\":1}\n",
      "{\"action\":\"raft\",\"build_git_commit\":\"ab0312d5d\",\"build_go_version\":\"go1.23.1\",\"build_image_tag\":\"localhost\",\"build_wv_version\":\"1.26.6\",\"level\":\"info\",\"msg\":\"raft election won\",\"tally\":1,\"term\":40,\"time\":\"2024-11-13T15:10:30-03:00\"}\n",
      "{\"action\":\"raft\",\"build_git_commit\":\"ab0312d5d\",\"build_go_version\":\"go1.23.1\",\"build_image_tag\":\"localhost\",\"build_wv_version\":\"1.26.6\",\"leader\":{},\"level\":\"info\",\"msg\":\"raft entering leader state\",\"time\":\"2024-11-13T15:10:30-03:00\"}\n",
      "{\"build_git_commit\":\"ab0312d5d\",\"build_go_version\":\"go1.23.1\",\"build_image_tag\":\"localhost\",\"build_wv_version\":\"1.26.6\",\"level\":\"info\",\"msg\":\"reload local db: update schema ...\",\"time\":\"2024-11-13T15:10:30-03:00\"}\n",
      "{\"build_git_commit\":\"ab0312d5d\",\"build_go_version\":\"go1.23.1\",\"build_image_tag\":\"localhost\",\"build_wv_version\":\"1.26.6\",\"index\":\"BlogPost\",\"level\":\"info\",\"msg\":\"reload local index\",\"time\":\"2024-11-13T15:10:30-03:00\"}\n"
     ]
    },
    {
     "name": "stdout",
     "output_type": "stream",
     "text": [
      "INFO:httpx:HTTP Request: GET http://localhost:8079/v1/.well-known/openid-configuration \"HTTP/1.1 404 Not Found\"\n",
      "HTTP Request: GET http://localhost:8079/v1/.well-known/openid-configuration \"HTTP/1.1 404 Not Found\"\n",
      "INFO:httpx:HTTP Request: GET http://localhost:8079/v1/meta \"HTTP/1.1 200 OK\"\n",
      "HTTP Request: GET http://localhost:8079/v1/meta \"HTTP/1.1 200 OK\"\n",
      "INFO:httpx:HTTP Request: GET http://localhost:8079/v1/.well-known/ready \"HTTP/1.1 200 OK\"\n",
      "HTTP Request: GET http://localhost:8079/v1/.well-known/ready \"HTTP/1.1 200 OK\"\n"
     ]
    },
    {
     "name": "stderr",
     "output_type": "stream",
     "text": [
      "{\"build_git_commit\":\"ab0312d5d\",\"build_go_version\":\"go1.23.1\",\"build_image_tag\":\"localhost\",\"build_wv_version\":\"1.26.6\",\"docker_image_tag\":\"localhost\",\"level\":\"info\",\"msg\":\"configured versions\",\"server_version\":\"1.26.6\",\"time\":\"2024-11-13T15:10:31-03:00\"}\n",
      "{\"action\":\"grpc_startup\",\"build_git_commit\":\"ab0312d5d\",\"build_go_version\":\"go1.23.1\",\"build_image_tag\":\"localhost\",\"build_wv_version\":\"1.26.6\",\"level\":\"info\",\"msg\":\"grpc server listening at [::]:50050\",\"time\":\"2024-11-13T15:10:31-03:00\"}\n",
      "{\"address\":\"192.168.28.127:50968\",\"build_git_commit\":\"ab0312d5d\",\"build_go_version\":\"go1.23.1\",\"build_image_tag\":\"localhost\",\"build_wv_version\":\"1.26.6\",\"level\":\"info\",\"msg\":\"current Leader\",\"time\":\"2024-11-13T15:10:31-03:00\"}\n",
      "{\"build_git_commit\":\"ab0312d5d\",\"build_go_version\":\"go1.23.1\",\"build_image_tag\":\"localhost\",\"build_wv_version\":\"1.26.6\",\"level\":\"info\",\"msg\":\"attempting to join\",\"remoteNodes\":[\"192.168.28.127:50968\"],\"time\":\"2024-11-13T15:10:31-03:00\"}\n",
      "{\"action\":\"raft\",\"build_git_commit\":\"ab0312d5d\",\"build_go_version\":\"go1.23.1\",\"build_image_tag\":\"localhost\",\"build_wv_version\":\"1.26.6\",\"command\":0,\"level\":\"info\",\"msg\":\"raft updating configuration\",\"server-addr\":\"192.168.28.127:50968\",\"server-id\":\"Embedded_at_8079\",\"servers\":\"[[{Suffrage:Voter ID:Embedded_at_8079 Address:192.168.28.127:50968}]]\",\"time\":\"2024-11-13T15:10:31-03:00\"}\n",
      "{\"action\":\"restapi_management\",\"build_git_commit\":\"ab0312d5d\",\"build_go_version\":\"go1.23.1\",\"build_image_tag\":\"localhost\",\"build_wv_version\":\"1.26.6\",\"docker_image_tag\":\"localhost\",\"level\":\"info\",\"msg\":\"Serving weaviate at http://127.0.0.1:8079\",\"time\":\"2024-11-13T15:10:31-03:00\"}\n"
     ]
    },
    {
     "name": "stdout",
     "output_type": "stream",
     "text": [
      "INFO:httpx:HTTP Request: GET https://pypi.org/pypi/weaviate-client/json \"HTTP/1.1 200 OK\"\n",
      "HTTP Request: GET https://pypi.org/pypi/weaviate-client/json \"HTTP/1.1 200 OK\"\n"
     ]
    },
    {
     "name": "stderr",
     "output_type": "stream",
     "text": [
      "{\"action\":\"lsm_recover_from_active_wal\",\"build_git_commit\":\"ab0312d5d\",\"build_go_version\":\"go1.23.1\",\"build_image_tag\":\"localhost\",\"build_wv_version\":\"1.26.6\",\"class\":\"BlogPost\",\"index\":\"blogpost\",\"level\":\"warning\",\"msg\":\"active write-ahead-log found. Did weaviate crash prior to this or the tenant on/loaded from the cloud? Trying to recover...\",\"path\":\"/Users/dudanogueira/.local/share/weaviate/blogpost/sC3Y5dmAGch9/lsm/property_creation_date/segment-1731521330669381000\",\"shard\":\"sC3Y5dmAGch9\",\"time\":\"2024-11-13T15:10:32-03:00\"}\n",
      "{\"action\":\"lsm_recover_from_active_wal\",\"build_git_commit\":\"ab0312d5d\",\"build_go_version\":\"go1.23.1\",\"build_image_tag\":\"localhost\",\"build_wv_version\":\"1.26.6\",\"class\":\"BlogPost\",\"index\":\"blogpost\",\"level\":\"warning\",\"msg\":\"active write-ahead-log found. Did weaviate crash prior to this or the tenant on/loaded from the cloud? Trying to recover...\",\"path\":\"/Users/dudanogueira/.local/share/weaviate/blogpost/sC3Y5dmAGch9/lsm/property_ref_doc_id/segment-1731521330669800000\",\"shard\":\"sC3Y5dmAGch9\",\"time\":\"2024-11-13T15:10:32-03:00\"}\n",
      "{\"action\":\"lsm_recover_from_active_wal\",\"build_git_commit\":\"ab0312d5d\",\"build_go_version\":\"go1.23.1\",\"build_image_tag\":\"localhost\",\"build_wv_version\":\"1.26.6\",\"class\":\"BlogPost\",\"index\":\"blogpost\",\"level\":\"warning\",\"msg\":\"active write-ahead-log found. Did weaviate crash prior to this or the tenant on/loaded from the cloud? Trying to recover...\",\"path\":\"/Users/dudanogueira/.local/share/weaviate/blogpost/sC3Y5dmAGch9/lsm/property_file_name/segment-1731521330669499000\",\"shard\":\"sC3Y5dmAGch9\",\"time\":\"2024-11-13T15:10:32-03:00\"}\n",
      "{\"action\":\"lsm_recover_from_active_wal\",\"build_git_commit\":\"ab0312d5d\",\"build_go_version\":\"go1.23.1\",\"build_image_tag\":\"localhost\",\"build_wv_version\":\"1.26.6\",\"class\":\"BlogPost\",\"index\":\"blogpost\",\"level\":\"warning\",\"msg\":\"active write-ahead-log found. Did weaviate crash prior to this or the tenant on/loaded from the cloud? Trying to recover...\",\"path\":\"/Users/dudanogueira/.local/share/weaviate/blogpost/sC3Y5dmAGch9/lsm/property__node_content/segment-1731521330669529000\",\"shard\":\"sC3Y5dmAGch9\",\"time\":\"2024-11-13T15:10:32-03:00\"}\n",
      "{\"action\":\"lsm_recover_from_active_wal\",\"build_git_commit\":\"ab0312d5d\",\"build_go_version\":\"go1.23.1\",\"build_image_tag\":\"localhost\",\"build_wv_version\":\"1.26.6\",\"class\":\"BlogPost\",\"index\":\"blogpost\",\"level\":\"warning\",\"msg\":\"active write-ahead-log found. Did weaviate crash prior to this or the tenant on/loaded from the cloud? Trying to recover...\",\"path\":\"/Users/dudanogueira/.local/share/weaviate/blogpost/sC3Y5dmAGch9/lsm/property_file_path/segment-1731521330669923000\",\"shard\":\"sC3Y5dmAGch9\",\"time\":\"2024-11-13T15:10:32-03:00\"}\n",
      "{\"action\":\"lsm_recover_from_active_wal\",\"build_git_commit\":\"ab0312d5d\",\"build_go_version\":\"go1.23.1\",\"build_image_tag\":\"localhost\",\"build_wv_version\":\"1.26.6\",\"class\":\"BlogPost\",\"index\":\"blogpost\",\"level\":\"warning\",\"msg\":\"active write-ahead-log found. Did weaviate crash prior to this or the tenant on/loaded from the cloud? Trying to recover...\",\"path\":\"/Users/dudanogueira/.local/share/weaviate/blogpost/sC3Y5dmAGch9/lsm/property_last_modified_date/segment-1731521330669522000\",\"shard\":\"sC3Y5dmAGch9\",\"time\":\"2024-11-13T15:10:32-03:00\"}\n",
      "{\"action\":\"lsm_recover_from_active_wal\",\"build_git_commit\":\"ab0312d5d\",\"build_go_version\":\"go1.23.1\",\"build_image_tag\":\"localhost\",\"build_wv_version\":\"1.26.6\",\"class\":\"BlogPost\",\"index\":\"blogpost\",\"level\":\"warning\",\"msg\":\"active write-ahead-log found. Did weaviate crash prior to this or the tenant on/loaded from the cloud? Trying to recover...\",\"path\":\"/Users/dudanogueira/.local/share/weaviate/blogpost/sC3Y5dmAGch9/lsm/property_document_id/segment-1731521330669762000\",\"shard\":\"sC3Y5dmAGch9\",\"time\":\"2024-11-13T15:10:32-03:00\"}\n",
      "{\"action\":\"lsm_recover_from_active_wal\",\"build_git_commit\":\"ab0312d5d\",\"build_go_version\":\"go1.23.1\",\"build_image_tag\":\"localhost\",\"build_wv_version\":\"1.26.6\",\"class\":\"BlogPost\",\"index\":\"blogpost\",\"level\":\"warning\",\"msg\":\"active write-ahead-log found. Did weaviate crash prior to this or the tenant on/loaded from the cloud? Trying to recover...\",\"path\":\"/Users/dudanogueira/.local/share/weaviate/blogpost/sC3Y5dmAGch9/lsm/property_text/segment-1731521280399185000\",\"shard\":\"sC3Y5dmAGch9\",\"time\":\"2024-11-13T15:10:32-03:00\"}\n",
      "{\"action\":\"lsm_recover_from_active_wal\",\"build_git_commit\":\"ab0312d5d\",\"build_go_version\":\"go1.23.1\",\"build_image_tag\":\"localhost\",\"build_wv_version\":\"1.26.6\",\"class\":\"BlogPost\",\"index\":\"blogpost\",\"level\":\"warning\",\"msg\":\"active write-ahead-log found. Did weaviate crash prior to this or the tenant on/loaded from the cloud? Trying to recover...\",\"path\":\"/Users/dudanogueira/.local/share/weaviate/blogpost/sC3Y5dmAGch9/lsm/property__id/segment-1731521280398975000\",\"shard\":\"sC3Y5dmAGch9\",\"time\":\"2024-11-13T15:10:32-03:00\"}\n",
      "{\"action\":\"lsm_recover_from_active_wal\",\"build_git_commit\":\"ab0312d5d\",\"build_go_version\":\"go1.23.1\",\"build_image_tag\":\"localhost\",\"build_wv_version\":\"1.26.6\",\"class\":\"BlogPost\",\"index\":\"blogpost\",\"level\":\"warning\",\"msg\":\"active write-ahead-log found. Did weaviate crash prior to this or the tenant on/loaded from the cloud? Trying to recover...\",\"path\":\"/Users/dudanogueira/.local/share/weaviate/blogpost/sC3Y5dmAGch9/lsm/property__node_type/segment-1731521330669632000\",\"shard\":\"sC3Y5dmAGch9\",\"time\":\"2024-11-13T15:10:32-03:00\"}\n",
      "{\"action\":\"lsm_recover_from_active_wal\",\"build_git_commit\":\"ab0312d5d\",\"build_go_version\":\"go1.23.1\",\"build_image_tag\":\"localhost\",\"build_wv_version\":\"1.26.6\",\"class\":\"BlogPost\",\"index\":\"blogpost\",\"level\":\"warning\",\"msg\":\"active write-ahead-log found. Did weaviate crash prior to this or the tenant on/loaded from the cloud? Trying to recover...\",\"path\":\"/Users/dudanogueira/.local/share/weaviate/blogpost/sC3Y5dmAGch9/lsm/objects/segment-1731521280398930000\",\"shard\":\"sC3Y5dmAGch9\",\"time\":\"2024-11-13T15:10:32-03:00\"}\n",
      "{\"action\":\"lsm_recover_from_active_wal\",\"build_git_commit\":\"ab0312d5d\",\"build_go_version\":\"go1.23.1\",\"build_image_tag\":\"localhost\",\"build_wv_version\":\"1.26.6\",\"class\":\"BlogPost\",\"index\":\"blogpost\",\"level\":\"warning\",\"msg\":\"active write-ahead-log found. Did weaviate crash prior to this or the tenant on/loaded from the cloud? Trying to recover...\",\"path\":\"/Users/dudanogueira/.local/share/weaviate/blogpost/sC3Y5dmAGch9/lsm/property_doc_id/segment-1731521330669427000\",\"shard\":\"sC3Y5dmAGch9\",\"time\":\"2024-11-13T15:10:32-03:00\"}\n",
      "{\"action\":\"lsm_recover_from_active_wal\",\"build_git_commit\":\"ab0312d5d\",\"build_go_version\":\"go1.23.1\",\"build_image_tag\":\"localhost\",\"build_wv_version\":\"1.26.6\",\"class\":\"BlogPost\",\"index\":\"blogpost\",\"level\":\"warning\",\"msg\":\"active write-ahead-log found. Did weaviate crash prior to this or the tenant on/loaded from the cloud? Trying to recover...\",\"path\":\"/Users/dudanogueira/.local/share/weaviate/blogpost/sC3Y5dmAGch9/lsm/property_file_size/segment-1731521330670182000\",\"shard\":\"sC3Y5dmAGch9\",\"time\":\"2024-11-13T15:10:32-03:00\"}\n",
      "{\"action\":\"lsm_recover_from_active_wal_success\",\"build_git_commit\":\"ab0312d5d\",\"build_go_version\":\"go1.23.1\",\"build_image_tag\":\"localhost\",\"build_wv_version\":\"1.26.6\",\"class\":\"BlogPost\",\"index\":\"blogpost\",\"level\":\"info\",\"msg\":\"successfully recovered from write-ahead-log\",\"path\":\"/Users/dudanogueira/.local/share/weaviate/blogpost/sC3Y5dmAGch9/lsm/property_file_name/segment-1731521330669499000.wal\",\"shard\":\"sC3Y5dmAGch9\",\"time\":\"2024-11-13T15:10:32-03:00\"}\n",
      "{\"action\":\"lsm_recover_from_active_wal\",\"build_git_commit\":\"ab0312d5d\",\"build_go_version\":\"go1.23.1\",\"build_image_tag\":\"localhost\",\"build_wv_version\":\"1.26.6\",\"class\":\"BlogPost\",\"index\":\"blogpost\",\"level\":\"warning\",\"msg\":\"active write-ahead-log found. Did weaviate crash prior to this or the tenant on/loaded from the cloud? Trying to recover...\",\"path\":\"/Users/dudanogueira/.local/share/weaviate/blogpost/sC3Y5dmAGch9/lsm/property_file_name_searchable/segment-1731521330672024000\",\"shard\":\"sC3Y5dmAGch9\",\"time\":\"2024-11-13T15:10:32-03:00\"}\n",
      "{\"action\":\"lsm_recover_from_active_wal_success\",\"build_git_commit\":\"ab0312d5d\",\"build_go_version\":\"go1.23.1\",\"build_image_tag\":\"localhost\",\"build_wv_version\":\"1.26.6\",\"class\":\"BlogPost\",\"index\":\"blogpost\",\"level\":\"info\",\"msg\":\"successfully recovered from write-ahead-log\",\"path\":\"/Users/dudanogueira/.local/share/weaviate/blogpost/sC3Y5dmAGch9/lsm/property_creation_date/segment-1731521330669381000.wal\",\"shard\":\"sC3Y5dmAGch9\",\"time\":\"2024-11-13T15:10:32-03:00\"}\n",
      "{\"action\":\"lsm_recover_from_active_wal\",\"build_git_commit\":\"ab0312d5d\",\"build_go_version\":\"go1.23.1\",\"build_image_tag\":\"localhost\",\"build_wv_version\":\"1.26.6\",\"class\":\"BlogPost\",\"index\":\"blogpost\",\"level\":\"warning\",\"msg\":\"active write-ahead-log found. Did weaviate crash prior to this or the tenant on/loaded from the cloud? Trying to recover...\",\"path\":\"/Users/dudanogueira/.local/share/weaviate/blogpost/sC3Y5dmAGch9/lsm/property_creation_date_searchable/segment-1731521330672066000\",\"shard\":\"sC3Y5dmAGch9\",\"time\":\"2024-11-13T15:10:32-03:00\"}\n",
      "{\"action\":\"lsm_recover_from_active_wal_success\",\"build_git_commit\":\"ab0312d5d\",\"build_go_version\":\"go1.23.1\",\"build_image_tag\":\"localhost\",\"build_wv_version\":\"1.26.6\",\"class\":\"BlogPost\",\"index\":\"blogpost\",\"level\":\"info\",\"msg\":\"successfully recovered from write-ahead-log\",\"path\":\"/Users/dudanogueira/.local/share/weaviate/blogpost/sC3Y5dmAGch9/lsm/property_last_modified_date/segment-1731521330669522000.wal\",\"shard\":\"sC3Y5dmAGch9\",\"time\":\"2024-11-13T15:10:32-03:00\"}\n",
      "{\"action\":\"lsm_recover_from_active_wal_success\",\"build_git_commit\":\"ab0312d5d\",\"build_go_version\":\"go1.23.1\",\"build_image_tag\":\"localhost\",\"build_wv_version\":\"1.26.6\",\"class\":\"BlogPost\",\"index\":\"blogpost\",\"level\":\"info\",\"msg\":\"successfully recovered from write-ahead-log\",\"path\":\"/Users/dudanogueira/.local/share/weaviate/blogpost/sC3Y5dmAGch9/lsm/property_file_path/segment-1731521330669923000.wal\",\"shard\":\"sC3Y5dmAGch9\",\"time\":\"2024-11-13T15:10:32-03:00\"}\n",
      "{\"action\":\"lsm_recover_from_active_wal\",\"build_git_commit\":\"ab0312d5d\",\"build_go_version\":\"go1.23.1\",\"build_image_tag\":\"localhost\",\"build_wv_version\":\"1.26.6\",\"class\":\"BlogPost\",\"index\":\"blogpost\",\"level\":\"warning\",\"msg\":\"active write-ahead-log found. Did weaviate crash prior to this or the tenant on/loaded from the cloud? Trying to recover...\",\"path\":\"/Users/dudanogueira/.local/share/weaviate/blogpost/sC3Y5dmAGch9/lsm/property_file_path_searchable/segment-1731521330671804000\",\"shard\":\"sC3Y5dmAGch9\",\"time\":\"2024-11-13T15:10:32-03:00\"}\n",
      "{\"action\":\"lsm_recover_from_active_wal\",\"build_git_commit\":\"ab0312d5d\",\"build_go_version\":\"go1.23.1\",\"build_image_tag\":\"localhost\",\"build_wv_version\":\"1.26.6\",\"class\":\"BlogPost\",\"index\":\"blogpost\",\"level\":\"warning\",\"msg\":\"active write-ahead-log found. Did weaviate crash prior to this or the tenant on/loaded from the cloud? Trying to recover...\",\"path\":\"/Users/dudanogueira/.local/share/weaviate/blogpost/sC3Y5dmAGch9/lsm/property_last_modified_date_searchable/segment-1731521330671272000\",\"shard\":\"sC3Y5dmAGch9\",\"time\":\"2024-11-13T15:10:32-03:00\"}\n",
      "{\"action\":\"lsm_recover_from_active_wal_success\",\"build_git_commit\":\"ab0312d5d\",\"build_go_version\":\"go1.23.1\",\"build_image_tag\":\"localhost\",\"build_wv_version\":\"1.26.6\",\"class\":\"BlogPost\",\"index\":\"blogpost\",\"level\":\"info\",\"msg\":\"successfully recovered from write-ahead-log\",\"path\":\"/Users/dudanogueira/.local/share/weaviate/blogpost/sC3Y5dmAGch9/lsm/property_ref_doc_id/segment-1731521330669800000.wal\",\"shard\":\"sC3Y5dmAGch9\",\"time\":\"2024-11-13T15:10:32-03:00\"}\n",
      "{\"action\":\"lsm_recover_from_active_wal_success\",\"build_git_commit\":\"ab0312d5d\",\"build_go_version\":\"go1.23.1\",\"build_image_tag\":\"localhost\",\"build_wv_version\":\"1.26.6\",\"class\":\"BlogPost\",\"index\":\"blogpost\",\"level\":\"info\",\"msg\":\"successfully recovered from write-ahead-log\",\"path\":\"/Users/dudanogueira/.local/share/weaviate/blogpost/sC3Y5dmAGch9/lsm/property__node_content/segment-1731521330669529000.wal\",\"shard\":\"sC3Y5dmAGch9\",\"time\":\"2024-11-13T15:10:32-03:00\"}\n",
      "{\"action\":\"lsm_recover_from_active_wal_success\",\"build_git_commit\":\"ab0312d5d\",\"build_go_version\":\"go1.23.1\",\"build_image_tag\":\"localhost\",\"build_wv_version\":\"1.26.6\",\"class\":\"BlogPost\",\"index\":\"blogpost\",\"level\":\"info\",\"msg\":\"successfully recovered from write-ahead-log\",\"path\":\"/Users/dudanogueira/.local/share/weaviate/blogpost/sC3Y5dmAGch9/lsm/property_doc_id/segment-1731521330669427000.wal\",\"shard\":\"sC3Y5dmAGch9\",\"time\":\"2024-11-13T15:10:32-03:00\"}\n",
      "{\"action\":\"lsm_recover_from_active_wal_success\",\"build_git_commit\":\"ab0312d5d\",\"build_go_version\":\"go1.23.1\",\"build_image_tag\":\"localhost\",\"build_wv_version\":\"1.26.6\",\"class\":\"BlogPost\",\"index\":\"blogpost\",\"level\":\"info\",\"msg\":\"successfully recovered from write-ahead-log\",\"path\":\"/Users/dudanogueira/.local/share/weaviate/blogpost/sC3Y5dmAGch9/lsm/property__node_type/segment-1731521330669632000.wal\",\"shard\":\"sC3Y5dmAGch9\",\"time\":\"2024-11-13T15:10:32-03:00\"}\n",
      "{\"action\":\"lsm_recover_from_active_wal\",\"build_git_commit\":\"ab0312d5d\",\"build_go_version\":\"go1.23.1\",\"build_image_tag\":\"localhost\",\"build_wv_version\":\"1.26.6\",\"class\":\"BlogPost\",\"index\":\"blogpost\",\"level\":\"warning\",\"msg\":\"active write-ahead-log found. Did weaviate crash prior to this or the tenant on/loaded from the cloud? Trying to recover...\",\"path\":\"/Users/dudanogueira/.local/share/weaviate/blogpost/sC3Y5dmAGch9/lsm/property__node_content_searchable/segment-1731521330672023000\",\"shard\":\"sC3Y5dmAGch9\",\"time\":\"2024-11-13T15:10:32-03:00\"}\n",
      "{\"action\":\"lsm_recover_from_active_wal_success\",\"build_git_commit\":\"ab0312d5d\",\"build_go_version\":\"go1.23.1\",\"build_image_tag\":\"localhost\",\"build_wv_version\":\"1.26.6\",\"class\":\"BlogPost\",\"index\":\"blogpost\",\"level\":\"info\",\"msg\":\"successfully recovered from write-ahead-log\",\"path\":\"/Users/dudanogueira/.local/share/weaviate/blogpost/sC3Y5dmAGch9/lsm/property__id/segment-1731521280398975000.wal\",\"shard\":\"sC3Y5dmAGch9\",\"time\":\"2024-11-13T15:10:32-03:00\"}\n",
      "{\"action\":\"lsm_recover_from_active_wal_success\",\"build_git_commit\":\"ab0312d5d\",\"build_go_version\":\"go1.23.1\",\"build_image_tag\":\"localhost\",\"build_wv_version\":\"1.26.6\",\"class\":\"BlogPost\",\"index\":\"blogpost\",\"level\":\"info\",\"msg\":\"successfully recovered from write-ahead-log\",\"path\":\"/Users/dudanogueira/.local/share/weaviate/blogpost/sC3Y5dmAGch9/lsm/property_file_name_searchable/segment-1731521330672024000.wal\",\"shard\":\"sC3Y5dmAGch9\",\"time\":\"2024-11-13T15:10:32-03:00\"}\n",
      "{\"action\":\"lsm_recover_from_active_wal_success\",\"build_git_commit\":\"ab0312d5d\",\"build_go_version\":\"go1.23.1\",\"build_image_tag\":\"localhost\",\"build_wv_version\":\"1.26.6\",\"class\":\"BlogPost\",\"index\":\"blogpost\",\"level\":\"info\",\"msg\":\"successfully recovered from write-ahead-log\",\"path\":\"/Users/dudanogueira/.local/share/weaviate/blogpost/sC3Y5dmAGch9/lsm/property_document_id/segment-1731521330669762000.wal\",\"shard\":\"sC3Y5dmAGch9\",\"time\":\"2024-11-13T15:10:32-03:00\"}\n",
      "{\"action\":\"lsm_recover_from_active_wal\",\"build_git_commit\":\"ab0312d5d\",\"build_go_version\":\"go1.23.1\",\"build_image_tag\":\"localhost\",\"build_wv_version\":\"1.26.6\",\"class\":\"BlogPost\",\"index\":\"blogpost\",\"level\":\"warning\",\"msg\":\"active write-ahead-log found. Did weaviate crash prior to this or the tenant on/loaded from the cloud? Trying to recover...\",\"path\":\"/Users/dudanogueira/.local/share/weaviate/blogpost/sC3Y5dmAGch9/lsm/property__node_type_searchable/segment-1731521330672086000\",\"shard\":\"sC3Y5dmAGch9\",\"time\":\"2024-11-13T15:10:32-03:00\"}\n",
      "{\"action\":\"lsm_recover_from_active_wal_success\",\"build_git_commit\":\"ab0312d5d\",\"build_go_version\":\"go1.23.1\",\"build_image_tag\":\"localhost\",\"build_wv_version\":\"1.26.6\",\"class\":\"BlogPost\",\"index\":\"blogpost\",\"level\":\"info\",\"msg\":\"successfully recovered from write-ahead-log\",\"path\":\"/Users/dudanogueira/.local/share/weaviate/blogpost/sC3Y5dmAGch9/lsm/property_file_size/segment-1731521330670182000.wal\",\"shard\":\"sC3Y5dmAGch9\",\"time\":\"2024-11-13T15:10:32-03:00\"}\n",
      "{\"action\":\"lsm_recover_from_active_wal_success\",\"build_git_commit\":\"ab0312d5d\",\"build_go_version\":\"go1.23.1\",\"build_image_tag\":\"localhost\",\"build_wv_version\":\"1.26.6\",\"class\":\"BlogPost\",\"index\":\"blogpost\",\"level\":\"info\",\"msg\":\"successfully recovered from write-ahead-log\",\"path\":\"/Users/dudanogueira/.local/share/weaviate/blogpost/sC3Y5dmAGch9/lsm/property_creation_date_searchable/segment-1731521330672066000.wal\",\"shard\":\"sC3Y5dmAGch9\",\"time\":\"2024-11-13T15:10:32-03:00\"}\n",
      "{\"action\":\"lsm_recover_from_active_wal_success\",\"build_git_commit\":\"ab0312d5d\",\"build_go_version\":\"go1.23.1\",\"build_image_tag\":\"localhost\",\"build_wv_version\":\"1.26.6\",\"class\":\"BlogPost\",\"index\":\"blogpost\",\"level\":\"info\",\"msg\":\"successfully recovered from write-ahead-log\",\"path\":\"/Users/dudanogueira/.local/share/weaviate/blogpost/sC3Y5dmAGch9/lsm/objects/segment-1731521280398930000.wal\",\"shard\":\"sC3Y5dmAGch9\",\"time\":\"2024-11-13T15:10:32-03:00\"}\n",
      "{\"action\":\"lsm_recover_from_active_wal_success\",\"build_git_commit\":\"ab0312d5d\",\"build_go_version\":\"go1.23.1\",\"build_image_tag\":\"localhost\",\"build_wv_version\":\"1.26.6\",\"class\":\"BlogPost\",\"index\":\"blogpost\",\"level\":\"info\",\"msg\":\"successfully recovered from write-ahead-log\",\"path\":\"/Users/dudanogueira/.local/share/weaviate/blogpost/sC3Y5dmAGch9/lsm/property_file_path_searchable/segment-1731521330671804000.wal\",\"shard\":\"sC3Y5dmAGch9\",\"time\":\"2024-11-13T15:10:32-03:00\"}\n",
      "{\"action\":\"lsm_recover_from_active_wal_success\",\"build_git_commit\":\"ab0312d5d\",\"build_go_version\":\"go1.23.1\",\"build_image_tag\":\"localhost\",\"build_wv_version\":\"1.26.6\",\"class\":\"BlogPost\",\"index\":\"blogpost\",\"level\":\"info\",\"msg\":\"successfully recovered from write-ahead-log\",\"path\":\"/Users/dudanogueira/.local/share/weaviate/blogpost/sC3Y5dmAGch9/lsm/property_last_modified_date_searchable/segment-1731521330671272000.wal\",\"shard\":\"sC3Y5dmAGch9\",\"time\":\"2024-11-13T15:10:32-03:00\"}\n",
      "{\"action\":\"lsm_recover_from_active_wal_success\",\"build_git_commit\":\"ab0312d5d\",\"build_go_version\":\"go1.23.1\",\"build_image_tag\":\"localhost\",\"build_wv_version\":\"1.26.6\",\"class\":\"BlogPost\",\"index\":\"blogpost\",\"level\":\"info\",\"msg\":\"successfully recovered from write-ahead-log\",\"path\":\"/Users/dudanogueira/.local/share/weaviate/blogpost/sC3Y5dmAGch9/lsm/property__node_type_searchable/segment-1731521330672086000.wal\",\"shard\":\"sC3Y5dmAGch9\",\"time\":\"2024-11-13T15:10:32-03:00\"}\n",
      "{\"action\":\"telemetry_push\",\"build_git_commit\":\"ab0312d5d\",\"build_go_version\":\"go1.23.1\",\"build_image_tag\":\"localhost\",\"build_wv_version\":\"1.26.6\",\"level\":\"info\",\"msg\":\"telemetry started\",\"payload\":\"\\u0026{MachineID:1a57be6c-3d4e-4f09-8c26-dc8e8029edcb Type:INIT Version:1.26.6 NumObjects:0 OS:darwin Arch:arm64 UsedModules:[generative-openai text2vec-openai]}\",\"time\":\"2024-11-13T15:10:32-03:00\"}\n",
      "{\"action\":\"lsm_recover_from_active_wal_success\",\"build_git_commit\":\"ab0312d5d\",\"build_go_version\":\"go1.23.1\",\"build_image_tag\":\"localhost\",\"build_wv_version\":\"1.26.6\",\"class\":\"BlogPost\",\"index\":\"blogpost\",\"level\":\"info\",\"msg\":\"successfully recovered from write-ahead-log\",\"path\":\"/Users/dudanogueira/.local/share/weaviate/blogpost/sC3Y5dmAGch9/lsm/property__node_content_searchable/segment-1731521330672023000.wal\",\"shard\":\"sC3Y5dmAGch9\",\"time\":\"2024-11-13T15:10:32-03:00\"}\n",
      "{\"action\":\"lsm_recover_from_active_wal_success\",\"build_git_commit\":\"ab0312d5d\",\"build_go_version\":\"go1.23.1\",\"build_image_tag\":\"localhost\",\"build_wv_version\":\"1.26.6\",\"class\":\"BlogPost\",\"index\":\"blogpost\",\"level\":\"info\",\"msg\":\"successfully recovered from write-ahead-log\",\"path\":\"/Users/dudanogueira/.local/share/weaviate/blogpost/sC3Y5dmAGch9/lsm/property_text/segment-1731521280399185000.wal\",\"shard\":\"sC3Y5dmAGch9\",\"time\":\"2024-11-13T15:10:32-03:00\"}\n",
      "{\"action\":\"lsm_recover_from_active_wal\",\"build_git_commit\":\"ab0312d5d\",\"build_go_version\":\"go1.23.1\",\"build_image_tag\":\"localhost\",\"build_wv_version\":\"1.26.6\",\"class\":\"BlogPost\",\"index\":\"blogpost\",\"level\":\"warning\",\"msg\":\"active write-ahead-log found. Did weaviate crash prior to this or the tenant on/loaded from the cloud? Trying to recover...\",\"path\":\"/Users/dudanogueira/.local/share/weaviate/blogpost/sC3Y5dmAGch9/lsm/property_text_searchable/segment-1731521280399514000\",\"shard\":\"sC3Y5dmAGch9\",\"time\":\"2024-11-13T15:10:32-03:00\"}\n",
      "{\"action\":\"lsm_recover_from_active_wal_success\",\"build_git_commit\":\"ab0312d5d\",\"build_go_version\":\"go1.23.1\",\"build_image_tag\":\"localhost\",\"build_wv_version\":\"1.26.6\",\"class\":\"BlogPost\",\"index\":\"blogpost\",\"level\":\"info\",\"msg\":\"successfully recovered from write-ahead-log\",\"path\":\"/Users/dudanogueira/.local/share/weaviate/blogpost/sC3Y5dmAGch9/lsm/property_text_searchable/segment-1731521280399514000.wal\",\"shard\":\"sC3Y5dmAGch9\",\"time\":\"2024-11-13T15:10:32-03:00\"}\n",
      "{\"action\":\"hnsw_prefill_cache_async\",\"build_git_commit\":\"ab0312d5d\",\"build_go_version\":\"go1.23.1\",\"build_image_tag\":\"localhost\",\"build_wv_version\":\"1.26.6\",\"level\":\"info\",\"msg\":\"not waiting for vector cache prefill, running in background\",\"time\":\"2024-11-13T15:10:32-03:00\",\"wait_for_cache_prefill\":false}\n",
      "{\"build_git_commit\":\"ab0312d5d\",\"build_go_version\":\"go1.23.1\",\"build_image_tag\":\"localhost\",\"build_wv_version\":\"1.26.6\",\"level\":\"info\",\"msg\":\"Completed loading shard blogpost_sC3Y5dmAGch9 in 118.744417ms\",\"time\":\"2024-11-13T15:10:32-03:00\"}\n",
      "{\"action\":\"hnsw_vector_cache_prefill\",\"build_git_commit\":\"ab0312d5d\",\"build_go_version\":\"go1.23.1\",\"build_image_tag\":\"localhost\",\"build_wv_version\":\"1.26.6\",\"count\":3000,\"index_id\":\"main\",\"level\":\"info\",\"limit\":1000000000000,\"msg\":\"prefilled vector cache\",\"time\":\"2024-11-13T15:10:32-03:00\",\"took\":291542}\n"
     ]
    }
   ],
   "source": [
    "import weaviate\n",
    "\n",
    "client = weaviate.connect_to_embedded()"
   ]
  },
  {
   "cell_type": "code",
   "execution_count": null,
   "metadata": {},
   "outputs": [],
   "source": [
    "# lets check the connection getting the server version\n",
    "print(f\"Client: {weaviate.__version__}, Server: {client.get_meta().get('version')}\")"
   ]
  },
  {
   "cell_type": "markdown",
   "metadata": {},
   "source": [
    "### WCD"
   ]
  },
  {
   "cell_type": "code",
   "execution_count": null,
   "metadata": {},
   "outputs": [],
   "source": [
    "import weaviate\n",
    "import os\n",
    "  \n",
    "# Set these environment variables\n",
    "URL = os.getenv(\"WCD_URL\")\n",
    "APIKEY = os.getenv(\"WCD_API_KEY\")\n",
    "  \n",
    "# Connect to a WCD instance\n",
    "client = weaviate.connect_to_weaviate_cloud(\n",
    "    cluster_url=URL,\n",
    "    auth_credentials=weaviate.auth.AuthApiKey(APIKEY)\n",
    ")"
   ]
  },
  {
   "cell_type": "markdown",
   "metadata": {},
   "source": [
    "### Docker"
   ]
  },
  {
   "cell_type": "markdown",
   "metadata": {},
   "source": [
    "In order to run with docker, you can use our [docker configurator tool](https://weaviate.io/developers/weaviate/installation/docker-compose#configurator). \n",
    "\n",
    "Once you have Weaviate running with docker, you can get the client with:"
   ]
  },
  {
   "cell_type": "code",
   "execution_count": null,
   "metadata": {},
   "outputs": [],
   "source": [
    "import weaviate\n",
    "from weaviate import classes as wvc\n",
    "  \n",
    "# Connect to a local instance\n",
    "client = weaviate.connect_to_local()"
   ]
  },
  {
   "cell_type": "markdown",
   "metadata": {},
   "source": [
    "### Collection\n",
    "Let's create our collection before hand, and specify a model to use. This model must be the same one used in LlamaIndex."
   ]
  },
  {
   "cell_type": "code",
   "execution_count": 3,
   "metadata": {},
   "outputs": [
    {
     "name": "stdout",
     "output_type": "stream",
     "text": [
      "INFO:httpx:HTTP Request: DELETE http://localhost:8079/v1/schema/BlogPost \"HTTP/1.1 200 OK\"\n",
      "HTTP Request: DELETE http://localhost:8079/v1/schema/BlogPost \"HTTP/1.1 200 OK\"\n",
      "INFO:httpx:HTTP Request: POST http://localhost:8079/v1/schema \"HTTP/1.1 200 OK\"\n",
      "HTTP Request: POST http://localhost:8079/v1/schema \"HTTP/1.1 200 OK\"\n",
      "Collection was created.\n"
     ]
    },
    {
     "name": "stderr",
     "output_type": "stream",
     "text": [
      "{\"build_git_commit\":\"ab0312d5d\",\"build_go_version\":\"go1.23.1\",\"build_image_tag\":\"localhost\",\"build_wv_version\":\"1.26.6\",\"level\":\"warning\",\"msg\":\"prop len tracker file /Users/dudanogueira/.local/share/weaviate/blogpost/N8UvMi6gvKWy/proplengths does not exist, creating new tracker\",\"time\":\"2024-11-13T15:10:39-03:00\"}\n",
      "{\"action\":\"hnsw_prefill_cache_async\",\"build_git_commit\":\"ab0312d5d\",\"build_go_version\":\"go1.23.1\",\"build_image_tag\":\"localhost\",\"build_wv_version\":\"1.26.6\",\"level\":\"info\",\"msg\":\"not waiting for vector cache prefill, running in background\",\"time\":\"2024-11-13T15:10:39-03:00\",\"wait_for_cache_prefill\":false}\n",
      "{\"build_git_commit\":\"ab0312d5d\",\"build_go_version\":\"go1.23.1\",\"build_image_tag\":\"localhost\",\"build_wv_version\":\"1.26.6\",\"level\":\"info\",\"msg\":\"Created shard blogpost_N8UvMi6gvKWy in 2.219667ms\",\"time\":\"2024-11-13T15:10:39-03:00\"}\n",
      "{\"action\":\"hnsw_vector_cache_prefill\",\"build_git_commit\":\"ab0312d5d\",\"build_go_version\":\"go1.23.1\",\"build_image_tag\":\"localhost\",\"build_wv_version\":\"1.26.6\",\"count\":1000,\"index_id\":\"main\",\"level\":\"info\",\"limit\":1000000000000,\"msg\":\"prefilled vector cache\",\"time\":\"2024-11-13T15:10:39-03:00\",\"took\":68959}\n"
     ]
    }
   ],
   "source": [
    "from weaviate import classes as wvc\n",
    "# clean slate\n",
    "client.collections.delete(\"BlogPost\")\n",
    "\n",
    "collection = client.collections.create(\n",
    "    name=\"BlogPost\",\n",
    "    description=\"Blog post from the Weaviate website.\",\n",
    "    vectorizer_config=wvc.config.Configure.Vectorizer.text2vec_openai(\n",
    "        model=\"text-embedding-3-small\"\n",
    "    ),\n",
    "    generative_config=wvc.config.Configure.Generative.openai(\n",
    "        model=\"gpt-3.5-turbo\"\n",
    "    ),\n",
    "    properties=[\n",
    "        wvc.config.Property(name=\"text\", description=\"Content from the blog post\", data_type=wvc.config.DataType.TEXT)\n",
    "    ]\n",
    ")\n",
    "\n",
    "print(\"Collection was created.\")"
   ]
  },
  {
   "cell_type": "markdown",
   "metadata": {},
   "source": [
    "## Adding Data to Weaviate using LlamaIndex"
   ]
  },
  {
   "cell_type": "markdown",
   "metadata": {},
   "source": [
    "### SimpleDirectoryReader: Read files in your filesystem"
   ]
  },
  {
   "cell_type": "code",
   "execution_count": 4,
   "metadata": {},
   "outputs": [],
   "source": [
    "from llama_index.core import SimpleDirectoryReader\n",
    "\n",
    "documents = SimpleDirectoryReader('./data').load_data()"
   ]
  },
  {
   "cell_type": "markdown",
   "metadata": {},
   "source": [
    "### SimpleWebPageReader: Web scraper that turns HTML to text"
   ]
  },
  {
   "cell_type": "code",
   "execution_count": null,
   "metadata": {},
   "outputs": [],
   "source": [
    "from llama_index.readers.web import SimpleWebPageReader\n",
    "\n",
    "loader = SimpleWebPageReader()\n",
    "documents = loader.load_data(urls=['https://weaviate.io/blog/llamaindex-and-weaviate'])"
   ]
  },
  {
   "cell_type": "markdown",
   "metadata": {},
   "source": [
    "### NotionPageReader: Loads documents from Notion"
   ]
  },
  {
   "cell_type": "code",
   "execution_count": null,
   "metadata": {},
   "outputs": [],
   "source": [
    "%pip install llama-index-readers-notion"
   ]
  },
  {
   "cell_type": "code",
   "execution_count": null,
   "metadata": {},
   "outputs": [],
   "source": [
    "from llama_index.readers.notion import NotionPageReader\n",
    "\n",
    "integration_token = (\"secret_key\")\n",
    "page_ids = [\"40be241cac924a5aa887fa85e945dbf6\"]\n",
    "reader = NotionPageReader(integration_token=integration_token)\n",
    "documents = reader.load_data(page_ids=page_ids)"
   ]
  },
  {
   "cell_type": "markdown",
   "metadata": {},
   "source": [
    "### Inspecting the nodes of you documents"
   ]
  },
  {
   "cell_type": "code",
   "execution_count": 5,
   "metadata": {},
   "outputs": [
    {
     "name": "stdout",
     "output_type": "stream",
     "text": [
      "Number of nodes: 9\n",
      "Node ID: 3777fe8b-7230-4cf3-a700-3089b9e093e2\n",
      "Text: title: What is Ref2Vec and why you need it for your\n",
      "recommendation system  Weaviate 1.16 introduced the\n",
      "[Ref2Vec](/developers/weaviate/modules/retriever-vectorizer-\n",
      "modules/ref2vec-centroid) module. In this article, we give you an\n",
      "overview of what Ref2Vec is and some examples in which it can add\n",
      "value such as recommendations or representing long ...\n"
     ]
    }
   ],
   "source": [
    "from llama_index.core.node_parser import SimpleNodeParser\n",
    "\n",
    "parser = SimpleNodeParser()\n",
    "nodes = parser.get_nodes_from_documents(documents)\n",
    "print(\"Number of nodes:\", len(nodes))\n",
    "print(nodes[0])"
   ]
  },
  {
   "cell_type": "markdown",
   "metadata": {},
   "source": [
    "### Documents to Weaviate"
   ]
  },
  {
   "cell_type": "code",
   "execution_count": 6,
   "metadata": {},
   "outputs": [
    {
     "name": "stdout",
     "output_type": "stream",
     "text": [
      "INFO:httpx:HTTP Request: GET http://localhost:8079/v1/schema/BlogPost \"HTTP/1.1 200 OK\"\n",
      "HTTP Request: GET http://localhost:8079/v1/schema/BlogPost \"HTTP/1.1 200 OK\"\n",
      "INFO:httpx:HTTP Request: POST https://api.openai.com/v1/embeddings \"HTTP/1.1 200 OK\"\n",
      "HTTP Request: POST https://api.openai.com/v1/embeddings \"HTTP/1.1 200 OK\"\n",
      "INFO:httpx:HTTP Request: GET http://localhost:8079/v1/schema \"HTTP/1.1 200 OK\"\n",
      "HTTP Request: GET http://localhost:8079/v1/schema \"HTTP/1.1 200 OK\"\n"
     ]
    },
    {
     "name": "stdout",
     "output_type": "stream",
     "text": [
      "INFO:httpx:HTTP Request: GET http://localhost:8079/v1/nodes \"HTTP/1.1 200 OK\"\n",
      "HTTP Request: GET http://localhost:8079/v1/nodes \"HTTP/1.1 200 OK\"\n"
     ]
    }
   ],
   "source": [
    "from llama_index.vector_stores.weaviate import WeaviateVectorStore\n",
    "from llama_index.core import VectorStoreIndex, StorageContext, Settings\n",
    "from llama_index.embeddings.openai import OpenAIEmbedding\n",
    "import openai\n",
    "import os\n",
    "\n",
    "# global\n",
    "Settings.embed_model = OpenAIEmbedding(model=\"text-embedding-3-small\")\n",
    "\n",
    "# Lets set the OPENAI key\n",
    "# os.environ[\"OPENAI_API_KEY\"] = \"sk-key\"\n",
    "openai.api_key = os.environ[\"OPENAI_API_KEY\"]\n",
    "\n",
    "# loading the documents\n",
    "documents = SimpleDirectoryReader(\"./data/\").load_data()\n",
    "\n",
    "# Let's name our index properly as BlogPost, as we will need it later.\n",
    "vector_store = WeaviateVectorStore(\n",
    "    weaviate_client=client, index_name=\"BlogPost\"\n",
    ")\n",
    "storage_context = StorageContext.from_defaults(vector_store=vector_store)\n",
    "index = VectorStoreIndex.from_documents(\n",
    "    documents, storage_context=storage_context\n",
    ")"
   ]
  },
  {
   "cell_type": "code",
   "execution_count": 7,
   "metadata": {},
   "outputs": [
    {
     "name": "stdout",
     "output_type": "stream",
     "text": [
      "INFO:httpx:HTTP Request: POST http://localhost:8079/v1/graphql \"HTTP/1.1 200 OK\"\n",
      "HTTP Request: POST http://localhost:8079/v1/graphql \"HTTP/1.1 200 OK\"\n",
      "Objects in this collection: 9\n",
      "Object properties example: {'file_size': 11641.0, 'last_modified_date': '2024-06-05', '_node_type': 'TextNode', 'text': 'title: What is Ref2Vec and why you need it for your recommendation system\\n\\nWeaviate 1.16 introduced the [Ref2Vec](/developers/weaviate/modules/retriever-vectorizer-modules/ref2vec-centroid) module. In this article, we give you an overview of what Ref2Vec is and some examples in which it can add value such as recommendations or representing long objects.\\n\\n## What is Ref2Vec?\\nThe name Ref2Vec is short for reference-to-vector, and it offers the ability to vectorize a data object with its cross-references to other objects. The Ref2Vec module currently holds the name ref2vec-**centroid** because it uses the average, or centroid vector, of the cross-referenced vectors to represent the **referencing** object. The benefit of this approach is that the referencing object can be characterized from its actions and relationships as well as refined over time.\\n\\nIn one example, we could use Ref2Vec in a Weaviate database containing **User** and **Product** classes of objects to produce recommendations. Here, the Product class may include various types of vectorized items, such as shoes, or clothing, and a User could be vectorized by its relationships to Product instances. So a User who has liked 3 shoe Product instances will be represented as the average vector of the 3 shoe Product vectors, whereas another User might be represented by an average vector of whatever Product instances that they liked. This can be used for recommendation, for instance, by treating the averaged vector of the User as a search query in Product objects.\\n\\nThe following image depicts how Ref2Vec aggregates the representations of 3 Product items to represent a User who has purchased a pair of boots, shorts, and Weaviate t-shirt!\\n\\n![Ref2Vec Image](./img/ref2vec.png)\\n\\nSuch a representation of the User, by an aggregation of their cross-references, allows Weaviate to conveniently and immediately learn from each User\\'s preferences and actions to provide improved and up-to-date characterizations. Ref2Vec can in other words capture each User\\'s interests and tendencies across multiple axes, such as product categories or even fashion styles! And by doing so, the resulting recommendations can more closely match the User\\'s product and style preferences.\\n\\nWe envision Ref2Vec to have great potential in multiple application areas. Let\\'s take a look at a few of them in more detail, starting with recommendation systems.\\n\\n## Recommendation in Weaviate\\nMany of you might primarily know Weaviate as a vector database and search engine, but Weaviate can also power high-quality, lightning-fast recommendations. This is because Recommendation is a very similar task to Search from the perspective of a vector database. Both tasks leverage the ANN index of vector representations to search for a suitable object. The key difference is that in Search, relevance is typically contained entirely within the query. In Recommendation, relevance is additionally dependent on the user, making the query a subjective, user-dependent task rather than an objective task. So if a User searches for \"adidas  shoes for the summer\", not only does Weaviate need to find these particular kinds of shoes, but it also needs to rank them based on relevance to the particular user\\'s interests!\\n\\nWith Ref2Vec, this task is made easier by representing a user\\'s interests by drawing a graph of cross-references from the user to objects the user has engaged with. This gives Weaviate unique points of reference for each user that can be used to rank the search results.\\n\\nIn Weaviate, Classes represent data objects such as Users, Products, or Brands. The vector for an instance of a Class, such as a Product, is obtained from a Machine Learning model\\'s inference of (typically) an image or text description of the Product. Additionally, Weaviate\\'s cross-references enable relations between Classes, such as Users that \"liked\" a Product. For example, User, Product, and Brand objects may each have a vector representation, symbolic properties like name or price, and relations as shown below.\\n\\n![Cross-reference](./img/Weaviate-Ref2Vec_1.png)\\n\\nRef2Vec gives Weaviate another way to vectorize a class, such as the User class, based on their relationships to other classes. This allows Weaviate to quickly create up-to-date representations of users based on their relationships such as recent interactions. If a user clicks on 3 shoe images on an e-commerce store, it is a safe bet that they want to see more shoes. Ref2Vec captures this intuition by calculating vectors that aggregate each User\\'s interaction with another class.', 'document_id': UUID('c7b0a9f4-d05f-41e9-a275-50e3eca88b33'), 'file_path': '/Users/dudanogueira/dev/weaviate/recipes/integrations/llm-frameworks/llamaindex/data-loaders-episode1/data/ref2vec-centroid.mdx', 'ref_doc_id': UUID('c7b0a9f4-d05f-41e9-a275-50e3eca88b33'), 'creation_date': '2024-06-05', 'file_name': 'ref2vec-centroid.mdx', '_node_content': '{\"id_\": \"090e9ced-adf0-4a5e-8595-1af50d2b9206\", \"embedding\": null, \"metadata\": {\"file_path\": \"/Users/dudanogueira/dev/weaviate/recipes/integrations/llm-frameworks/llamaindex/data-loaders-episode1/data/ref2vec-centroid.mdx\", \"file_name\": \"ref2vec-centroid.mdx\", \"file_size\": 11641, \"creation_date\": \"2024-06-05\", \"last_modified_date\": \"2024-06-05\"}, \"excluded_embed_metadata_keys\": [\"file_name\", \"file_type\", \"file_size\", \"creation_date\", \"last_modified_date\", \"last_accessed_date\"], \"excluded_llm_metadata_keys\": [\"file_name\", \"file_type\", \"file_size\", \"creation_date\", \"last_modified_date\", \"last_accessed_date\"], \"relationships\": {\"1\": {\"node_id\": \"c7b0a9f4-d05f-41e9-a275-50e3eca88b33\", \"node_type\": \"4\", \"metadata\": {\"file_path\": \"/Users/dudanogueira/dev/weaviate/recipes/integrations/llm-frameworks/llamaindex/data-loaders-episode1/data/ref2vec-centroid.mdx\", \"file_name\": \"ref2vec-centroid.mdx\", \"file_size\": 11641, \"creation_date\": \"2024-06-05\", \"last_modified_date\": \"2024-06-05\"}, \"hash\": \"9dc681180ee8c5e8126a4b86b1414f4e4909ee10c21e5ebf0db2b05f14241b27\", \"class_name\": \"RelatedNodeInfo\"}, \"3\": {\"node_id\": \"27de0d2c-2528-49c3-a577-407b696ea484\", \"node_type\": \"1\", \"metadata\": {}, \"hash\": \"8daa5270252c6c95a632ae406663bff6cf48d7a0bfdcd064f62c432aa14ff5c9\", \"class_name\": \"RelatedNodeInfo\"}}, \"text\": \"\", \"mimetype\": \"text/plain\", \"start_char_idx\": 1, \"end_char_idx\": 4582, \"text_template\": \"{metadata_str}\\\\n\\\\n{content}\", \"metadata_template\": \"{key}: {value}\", \"metadata_seperator\": \"\\\\n\", \"class_name\": \"TextNode\"}', 'doc_id': UUID('c7b0a9f4-d05f-41e9-a275-50e3eca88b33')}\n"
     ]
    }
   ],
   "source": [
    "# Let's check if the objects were created\n",
    "collection = client.collections.get(\"BlogPost\")\n",
    "query = collection.query.fetch_objects()\n",
    "if query.objects:\n",
    "    print(\"Objects in this collection:\", len(collection))\n",
    "    print(\"Object properties example:\", query.objects[0].properties)\n",
    "else:\n",
    "    print(\"No objects found in this collection.\")"
   ]
  },
  {
   "cell_type": "markdown",
   "metadata": {},
   "source": [
    "### Query in LlamaIndex"
   ]
  },
  {
   "cell_type": "code",
   "execution_count": 8,
   "metadata": {},
   "outputs": [
    {
     "name": "stdout",
     "output_type": "stream",
     "text": [
      "INFO:httpx:HTTP Request: GET http://localhost:8079/v1/schema/BlogPost \"HTTP/1.1 200 OK\"\n",
      "HTTP Request: GET http://localhost:8079/v1/schema/BlogPost \"HTTP/1.1 200 OK\"\n",
      "INFO:httpx:HTTP Request: POST https://api.openai.com/v1/embeddings \"HTTP/1.1 200 OK\"\n",
      "HTTP Request: POST https://api.openai.com/v1/embeddings \"HTTP/1.1 200 OK\"\n",
      "INFO:httpx:HTTP Request: GET http://localhost:8079/v1/schema/BlogPost \"HTTP/1.1 200 OK\"\n",
      "HTTP Request: GET http://localhost:8079/v1/schema/BlogPost \"HTTP/1.1 200 OK\"\n",
      "INFO:httpx:HTTP Request: GET http://localhost:8079/v1/schema/BlogPost \"HTTP/1.1 200 OK\"\n",
      "HTTP Request: GET http://localhost:8079/v1/schema/BlogPost \"HTTP/1.1 200 OK\"\n",
      "INFO:httpx:HTTP Request: POST https://api.openai.com/v1/chat/completions \"HTTP/1.1 200 OK\"\n",
      "HTTP Request: POST https://api.openai.com/v1/chat/completions \"HTTP/1.1 200 OK\"\n",
      "The intersection between LLMs and search lies in finding suitable representations for long objects, particularly text documents that exceed the 512 token input limit on Deep Transformer Neural Networks. This challenge motivates the interest in Hybrid Search techniques that combine Vector Search with the sparse BM25 word counting algorithm, which is well-suited for handling text sequences longer than 512 tokens. Ref2Vec can play a role in addressing this issue by helping to represent long documents effectively in search scenarios.\n"
     ]
    }
   ],
   "source": [
    "from llama_index.vector_stores.weaviate import WeaviateVectorStore\n",
    "from llama_index.core import VectorStoreIndex\n",
    "\n",
    "vector_store = WeaviateVectorStore(\n",
    "    weaviate_client=client, index_name=\"BlogPost\"\n",
    ")\n",
    "\n",
    "loaded_index = VectorStoreIndex.from_vector_store(vector_store)\n",
    "\n",
    "query_engine = loaded_index.as_query_engine()\n",
    "response = query_engine.query(\"What is the intersection between LLMs and search?\")\n",
    "print(response)"
   ]
  },
  {
   "cell_type": "code",
   "execution_count": null,
   "metadata": {},
   "outputs": [
    {
     "name": "stderr",
     "output_type": "stream",
     "text": [
      "{\"action\":\"restapi_management\",\"build_git_commit\":\"ab0312d5d\",\"build_go_version\":\"go1.23.1\",\"build_image_tag\":\"localhost\",\"build_wv_version\":\"1.26.6\",\"docker_image_tag\":\"localhost\",\"level\":\"info\",\"msg\":\"Shutting down... \",\"time\":\"2024-11-13T15:11:21-03:00\"}\n",
      "{\"action\":\"restapi_management\",\"build_git_commit\":\"ab0312d5d\",\"build_go_version\":\"go1.23.1\",\"build_image_tag\":\"localhost\",\"build_wv_version\":\"1.26.6\",\"docker_image_tag\":\"localhost\",\"level\":\"info\",\"msg\":\"Stopped serving weaviate at http://127.0.0.1:8079\",\"time\":\"2024-11-13T15:11:21-03:00\"}\n",
      "{\"action\":\"telemetry_push\",\"build_git_commit\":\"ab0312d5d\",\"build_go_version\":\"go1.23.1\",\"build_image_tag\":\"localhost\",\"build_wv_version\":\"1.26.6\",\"level\":\"info\",\"msg\":\"telemetry terminated\",\"payload\":\"\\u0026{MachineID:1a57be6c-3d4e-4f09-8c26-dc8e8029edcb Type:TERMINATE Version:1.26.6 NumObjects:0 OS:darwin Arch:arm64 UsedModules:[generative-openai text2vec-openai]}\",\"time\":\"2024-11-13T15:11:22-03:00\"}\n",
      "{\"build_git_commit\":\"ab0312d5d\",\"build_go_version\":\"go1.23.1\",\"build_image_tag\":\"localhost\",\"build_wv_version\":\"1.26.6\",\"level\":\"info\",\"msg\":\"closing raft FSM store ...\",\"time\":\"2024-11-13T15:11:22-03:00\"}\n",
      "{\"build_git_commit\":\"ab0312d5d\",\"build_go_version\":\"go1.23.1\",\"build_image_tag\":\"localhost\",\"build_wv_version\":\"1.26.6\",\"level\":\"info\",\"msg\":\"shutting down raft sub-system ...\",\"time\":\"2024-11-13T15:11:22-03:00\"}\n",
      "{\"build_git_commit\":\"ab0312d5d\",\"build_go_version\":\"go1.23.1\",\"build_image_tag\":\"localhost\",\"build_wv_version\":\"1.26.6\",\"level\":\"info\",\"msg\":\"transferring leadership to another server\",\"time\":\"2024-11-13T15:11:22-03:00\"}\n",
      "{\"build_git_commit\":\"ab0312d5d\",\"build_go_version\":\"go1.23.1\",\"build_image_tag\":\"localhost\",\"build_wv_version\":\"1.26.6\",\"error\":\"cannot find peer\",\"level\":\"error\",\"msg\":\"transferring leadership\",\"time\":\"2024-11-13T15:11:22-03:00\"}\n",
      "{\"build_git_commit\":\"ab0312d5d\",\"build_go_version\":\"go1.23.1\",\"build_image_tag\":\"localhost\",\"build_wv_version\":\"1.26.6\",\"level\":\"info\",\"msg\":\"closing raft-net ...\",\"time\":\"2024-11-13T15:11:22-03:00\"}\n",
      "{\"build_git_commit\":\"ab0312d5d\",\"build_go_version\":\"go1.23.1\",\"build_image_tag\":\"localhost\",\"build_wv_version\":\"1.26.6\",\"level\":\"info\",\"msg\":\"closing log store ...\",\"time\":\"2024-11-13T15:11:22-03:00\"}\n",
      "{\"build_git_commit\":\"ab0312d5d\",\"build_go_version\":\"go1.23.1\",\"build_image_tag\":\"localhost\",\"build_wv_version\":\"1.26.6\",\"level\":\"info\",\"msg\":\"closing data store ...\",\"time\":\"2024-11-13T15:11:22-03:00\"}\n",
      "{\"build_git_commit\":\"ab0312d5d\",\"build_go_version\":\"go1.23.1\",\"build_image_tag\":\"localhost\",\"build_wv_version\":\"1.26.6\",\"level\":\"info\",\"msg\":\"closing loaded database ...\",\"time\":\"2024-11-13T15:11:22-03:00\"}\n",
      "{\"build_git_commit\":\"ab0312d5d\",\"build_go_version\":\"go1.23.1\",\"build_image_tag\":\"localhost\",\"build_wv_version\":\"1.26.6\",\"level\":\"info\",\"msg\":\"closing raft-rpc client ...\",\"time\":\"2024-11-13T15:11:22-03:00\"}\n",
      "{\"build_git_commit\":\"ab0312d5d\",\"build_go_version\":\"go1.23.1\",\"build_image_tag\":\"localhost\",\"build_wv_version\":\"1.26.6\",\"level\":\"info\",\"msg\":\"closing raft-rpc server ...\",\"time\":\"2024-11-13T15:11:22-03:00\"}\n"
     ]
    }
   ],
   "source": [
    "# let's close the client\n",
    "client.close()"
   ]
  }
 ],
 "metadata": {
  "kernelspec": {
   "display_name": ".venv",
   "language": "python",
   "name": "python3"
  },
  "language_info": {
   "codemirror_mode": {
    "name": "ipython",
    "version": 3
   },
   "file_extension": ".py",
   "mimetype": "text/x-python",
   "name": "python",
   "nbconvert_exporter": "python",
   "pygments_lexer": "ipython3",
   "version": "3.12.5"
  }
 },
 "nbformat": 4,
 "nbformat_minor": 2
}
