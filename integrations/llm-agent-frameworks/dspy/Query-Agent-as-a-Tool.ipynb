{
 "cells": [
  {
   "cell_type": "markdown",
   "metadata": {},
   "source": [
    "[![Open In Colab](https://colab.research.google.com/assets/colab-badge.svg)](https://colab.research.google.com/github/weaviate/recipes/blob/main/integrations/llm-agent-frameworks/dspy/Query-Agent-as-a-Tool.ipynb)"
   ]
  },
  {
   "cell_type": "markdown",
   "metadata": {},
   "source": [
    "## Weaviate Query Agent with DSPy (Simple)\n",
    "\n",
    "This notebook will show you how to define the Weaviate Query Agent as a tool with DSPy.\n",
    "\n",
    "### Requirements\n",
    "1. Weaviate Cloud instance (WCD): The Weaviate Query Agent is only accessible through WCD at the moment. You can create a serverless cluster or a free 14-day sandbox [here](https://console.weaviate.cloud/).\n",
    "1. Install DSPy with `pip install -U dspy`\n",
    "1. Install the Weaviate Agents package with `pip install weaviate-agents`\n",
    "1. You'll need a Weaviate cluster with data. If you don't have one, check out [this notebook](integrations/Weaviate-Import-Example.ipynb) to import the Weaviate Blogs.\n"
   ]
  },
  {
   "cell_type": "markdown",
   "metadata": {},
   "source": [
    "### Import libraries and keys"
   ]
  },
  {
   "cell_type": "code",
   "execution_count": null,
   "metadata": {},
   "outputs": [],
   "source": [
    "import weaviate\n",
    "from weaviate_agents.query import QueryAgent\n",
    "import os\n",
    "import logging\n",
    "\n",
    "import dspy"
   ]
  },
  {
   "cell_type": "code",
   "execution_count": null,
   "metadata": {},
   "outputs": [],
   "source": [
    "os.environ[\"WEAVIATE_URL\"] = \"\"\n",
    "os.environ[\"WEAVIATE_API_KEY\"] = \"\"\n",
    "os.environ[\"OPENAI_API_KEY\"] = \"\""
   ]
  },
  {
   "cell_type": "markdown",
   "metadata": {},
   "source": [
    "### Define Query Agent function"
   ]
  },
  {
   "cell_type": "code",
   "execution_count": null,
   "metadata": {},
   "outputs": [],
   "source": [
    "def query_agent_request(query: str) -> str:\n",
    "    \"\"\"\n",
    "    Send a query to the database and get the response.\n",
    "\n",
    "    Args:\n",
    "        query (str): The question or query to search for in the database. This can be any natural language question related to the content stored in the database.\n",
    "\n",
    "    Returns:\n",
    "        str: The response from the database containing relevant information.\n",
    "    \"\"\"\n",
    "\n",
    "    # connect to your Weaviate Cloud instance\n",
    "    weaviate_client = weaviate.connect_to_weaviate_cloud(\n",
    "        cluster_url=os.getenv(\"WEAVIATE_URL\"), \n",
    "        auth_credentials=weaviate.auth.AuthApiKey(os.getenv(\"WEAVIATE_API_KEY\")),\n",
    "        headers={ # add the API key to the model provider from your Weaviate collection, for example `headers={\"X-OpenAI-Api-Key\": os.getenv(\"OPENAI_API_KEY\")}` \n",
    "        }\n",
    "    )\n",
    "\n",
    "    # connect the query agent to your Weaviate collection(s)\n",
    "    query_agent = QueryAgent(\n",
    "        client=weaviate_client,\n",
    "        collections=[\"Blogs\"] \n",
    "    )\n",
    "    return query_agent.run(query).final_answer"
   ]
  },
  {
   "cell_type": "code",
   "execution_count": 5,
   "metadata": {},
   "outputs": [],
   "source": [
    "# Only show warnings and errors from LiteLLM\n",
    "logging.getLogger(\"LiteLLM\").setLevel(logging.WARNING)\n"
   ]
  },
  {
   "cell_type": "markdown",
   "metadata": {},
   "source": [
    "### Configure LLM"
   ]
  },
  {
   "cell_type": "code",
   "execution_count": null,
   "metadata": {},
   "outputs": [],
   "source": [
    "lm = dspy.LM('openai/gpt-4o-mini', api_key=os.getenv('OPENAI_API_KEY'))\n",
    "dspy.configure(lm=lm)"
   ]
  },
  {
   "cell_type": "markdown",
   "metadata": {},
   "source": [
    "### Create DSPy ReAct Agent"
   ]
  },
  {
   "cell_type": "code",
   "execution_count": null,
   "metadata": {},
   "outputs": [],
   "source": [
    "react_with_query_agent_signature = dspy.Signature(\"user_question: str -> helpful_response: str\")\n",
    "react_with_query_agent = dspy.ReAct(react_with_query_agent_signature, tools=[query_agent_request], max_iters=2)"
   ]
  },
  {
   "cell_type": "markdown",
   "metadata": {},
   "source": [
    "### Query time"
   ]
  },
  {
   "cell_type": "code",
   "execution_count": 8,
   "metadata": {},
   "outputs": [
    {
     "name": "stderr",
     "output_type": "stream",
     "text": [
      "/Library/Frameworks/Python.framework/Versions/3.10/lib/python3.10/site-packages/weaviate/warnings.py:314: ResourceWarning: Con004: The connection to Weaviate was not closed properly. This can lead to memory leaks.\n",
      "            Please make sure to close the connection using `client.close()`.\n",
      "  warnings.warn(\n"
     ]
    },
    {
     "data": {
      "text/plain": [
       "Prediction(\n",
       "    trajectory={'thought_0': 'I need to find specific instructions on how to run Weaviate with Docker, including any necessary commands or configurations.', 'tool_name_0': 'send_query_agent_request', 'tool_args_0': {'query': 'How to run Weaviate with Docker?'}, 'observation_0': \"Failed to execute: {'error': {'message': 'Error in evaluate node', 'code': 'QUERY_AGENT_NODE_ERROR', 'details': {'node_type': 'evaluate'}}}\", 'thought_1': 'Since the query to the database failed, I will try to find alternative resources or documentation on running Weaviate with Docker.', 'tool_name_1': 'send_query_agent_request', 'tool_args_1': {'query': 'Weaviate Docker installation guide'}, 'observation_1': QueryAgentResponse(original_query='Weaviate Docker installation guide', collection_names=['Blogs'], searches=[[QueryResultWithCollection(queries=['Weaviate Docker installation guide'], filters=[[]], filter_operators='AND', collection='Blogs')]], aggregations=[], usage=Usage(requests=3, request_tokens=6639, response_tokens=675, total_tokens=7314, details=None), total_time=12.292820692062378, aggregation_answer=None, has_aggregation_answer=False, has_search_answer=True, is_partial_answer=False, missing_information=[], final_answer='To install Weaviate using Docker, follow these steps:\\n\\n1. **Pre-installation Requirements**:\\n   - Ensure you have Docker and Docker Compose installed on your system. Installation guides are available for various operating systems:\\n     - [Docker Desktop for Mac](https://docs.docker.com/desktop/install/mac-install/)\\n     - [Docker Desktop for Windows](https://docs.docker.com/desktop/install/windows-install/)\\n     - [Docker for Ubuntu Linux](https://docs.docker.com/engine/install/ubuntu/) (only `docker` and its dependencies)\\n     - [Docker Compose for Ubuntu Linux](https://docs.docker.com/compose/install/) \\n\\n2. **Obtain Weaviate Docker Compose File**:\\n   - You typically do not need to download individual Docker images manually. Instead, Weaviate provides a `docker-compose.yml` file. The easiest way to get this file is through the [Weaviate configuration tool](https://developers.weaviate.io/developers/weaviate/installation/docker-compose#configurator), which allows you to customize the configuration according to your needs.\\n\\n3. **Starting Weaviate with Docker**:\\n   - After downloading the `docker-compose.yml` file, navigate to the folder where it is saved in your terminal.\\n   - Start Weaviate by executing the following command:\\n     ```bash\\n     docker compose up -d\\n     ```  \\n     The `-d` option runs the containers in detached mode.\\n\\n4. **Verify Weaviate is Running**:\\n   - To check if Weaviate is running correctly, you can use:\\n     ```bash\\n     docker compose ps\\n     ```\\n   - You can also monitor the logs to see detailed outputs:\\n     ```bash\\n     docker compose logs -f weaviate\\n     ```\\n   - To check when Weaviate is ready, monitor the readiness check by executing:\\n     ```bash\\n     until curl --fail -s localhost:8080/v1/.well-known/ready; do\\n       sleep 1\\n     done\\n     ```\\n\\n5. **Optional**: For production environments, it is recommended to run Weaviate in a more robust setup using Kubernetes, which can be done using the Weaviate Helm Chart available on GitHub. \\n\\nBy following these steps, you can successfully set up Weaviate using Docker and begin using its features effectively.', sources=[Source(object_id='961d44ad-baa2-4f59-a47e-db45c9644de9', collection='Blogs'), Source(object_id='dba852d1-f8d5-4bcc-a8dd-2fff4b248907', collection='Blogs'), Source(object_id='55eba553-e09b-45a9-8b57-37dc471ca364', collection='Blogs'), Source(object_id='dcda9346-3d77-4d66-9833-2487f5b5afbc', collection='Blogs'), Source(object_id='00a4a399-f39a-4435-b91f-7183e05ba6dd', collection='Blogs')])},\n",
       "    reasoning=\"To run Weaviate with Docker, it's essential to follow a structured installation process that includes pre-installation requirements, obtaining the necessary Docker Compose file, and executing specific commands to start and verify the service. The information gathered provides a comprehensive guide that covers all these aspects.\",\n",
       "    helpful_response='To install Weaviate using Docker, follow these steps:\\n\\n1. **Pre-installation Requirements**:\\n   - Ensure you have Docker and Docker Compose installed on your system. Installation guides are available for various operating systems:\\n     - [Docker Desktop for Mac](https://docs.docker.com/desktop/install/mac-install/)\\n     - [Docker Desktop for Windows](https://docs.docker.com/desktop/install/windows-install/)\\n     - [Docker for Ubuntu Linux](https://docs.docker.com/engine/install/ubuntu/) (only `docker` and its dependencies)\\n     - [Docker Compose for Ubuntu Linux](https://docs.docker.com/compose/install/) \\n\\n2. **Obtain Weaviate Docker Compose File**:\\n   - You typically do not need to download individual Docker images manually. Instead, Weaviate provides a `docker-compose.yml` file. The easiest way to get this file is through the [Weaviate configuration tool](https://developers.weaviate.io/developers/weaviate/installation/docker-compose#configurator), which allows you to customize the configuration according to your needs.\\n\\n3. **Starting Weaviate with Docker**:\\n   - After downloading the `docker-compose.yml` file, navigate to the folder where it is saved in your terminal.\\n   - Start Weaviate by executing the following command:\\n     ```bash\\n     docker compose up -d\\n     ```  \\n     The `-d` option runs the containers in detached mode.\\n\\n4. **Verify Weaviate is Running**:\\n   - To check if Weaviate is running correctly, you can use:\\n     ```bash\\n     docker compose ps\\n     ```\\n   - You can also monitor the logs to see detailed outputs:\\n     ```bash\\n     docker compose logs -f weaviate\\n     ```\\n   - To check when Weaviate is ready, monitor the readiness check by executing:\\n     ```bash\\n     until curl --fail -s localhost:8080/v1/.well-known/ready; do\\n       sleep 1\\n     done\\n     ```\\n\\n5. **Optional**: For production environments, it is recommended to run Weaviate in a more robust setup using Kubernetes, which can be done using the Weaviate Helm Chart available on GitHub. \\n\\nBy following these steps, you can successfully set up Weaviate using Docker and begin using its features effectively.'\n",
       ")"
      ]
     },
     "execution_count": 8,
     "metadata": {},
     "output_type": "execute_result"
    }
   ],
   "source": [
    "print(react_with_query_agent.forward(user_question=\"How do I run Weaviate with Docker?\"))"
   ]
  }
 ],
 "metadata": {
  "kernelspec": {
   "display_name": "Python 3",
   "language": "python",
   "name": "python3"
  },
  "language_info": {
   "codemirror_mode": {
    "name": "ipython",
    "version": 3
   },
   "file_extension": ".py",
   "mimetype": "text/x-python",
   "name": "python",
   "nbconvert_exporter": "python",
   "pygments_lexer": "ipython3",
   "version": "3.10.10"
  }
 },
 "nbformat": 4,
 "nbformat_minor": 2
}
