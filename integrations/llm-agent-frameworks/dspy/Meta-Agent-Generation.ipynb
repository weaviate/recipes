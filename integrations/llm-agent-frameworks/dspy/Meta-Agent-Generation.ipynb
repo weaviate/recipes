{
 "cells": [
  {
   "cell_type": "markdown",
   "id": "b26e8356",
   "metadata": {},
   "source": [
    "[![Open In Colab](https://colab.research.google.com/assets/colab-badge.svg)](https://colab.research.google.com/github/weaviate/recipes/blob/main/integrations/llm-agent-frameworks/dspy/Meta-Agent-Generation.ipynb)"
   ]
  },
  {
   "cell_type": "markdown",
   "id": "af215a4c",
   "metadata": {},
   "source": [
    "# Automated Design of Agents with DSPy\n",
    "\n",
    "This notebook is inspired by the paper, [\"Automated Design of Agentic Systems\"](https://arxiv.org/abs/2408.08435) from [Shengrhan Hu](https://x.com/shengranhu), [Cong Lu](https://x.com/cong_ml), and [Jeff Clune](https://x.com/jeffclune). This notebook will illustrate how to construct a DSPy agent that designs DSPy agents inspired by the ideas in the paper.\n",
    "\n",
    "Please note, this notebook only illustrates the \"Generation\" part of Meta Agent Search and is not a complete implementation of the paper. The paper further combines the \"Generation\" and \"Search\" aspects to create a system that can design agents based on the performance of previously explored agents.\n",
    "\n",
    "Please let us know if you have any questions, feedback, or generally would like to see us continue to explore this idea.\n"
   ]
  },
  {
   "cell_type": "code",
   "execution_count": 4,
   "id": "1284b2b2",
   "metadata": {},
   "outputs": [
    {
     "name": "stdout",
     "output_type": "stream",
     "text": [
      "['Hello! How can I assist you today?']\n"
     ]
    }
   ],
   "source": [
    "import dspy\n",
    "\n",
    "#llama3 = dspy.OllamaLocal(model=\"llama3.1\")\n",
    "gpt4 = dspy.OpenAI(model=\"gpt-4o\", max_tokens=4000)\n",
    "\n",
    "#print(llama3(\"say hello\"))\n",
    "print(gpt4(\"say hello\"))\n",
    "\n",
    "dspy.settings.configure(lm=gpt4)"
   ]
  },
  {
   "cell_type": "code",
   "execution_count": 6,
   "id": "1cbb3a8d",
   "metadata": {},
   "outputs": [],
   "source": [
    "class AgentDesigner(dspy.Signature):\n",
    "    \"\"\"Your task is to design Agents for the application domain in the provided Python framework.\"\"\"\n",
    "    \n",
    "    application_domain = dspy.InputField()\n",
    "    agent_framework_description = dspy.InputField()\n",
    "    #discovered_agent_archive = dspy.InputField() # uncomment this when using the \"Search\" part of Meta Agent Search\n",
    "    optimal_agent = dspy.OutputField(desc=\"IMPORTANT!! ONLY OUTPUT THE CODE FOR THE AGENT IN THE PROVIDED PYTHON FRAMEWORK!!\")"
   ]
  },
  {
   "cell_type": "code",
   "execution_count": 7,
   "id": "1a0981c0",
   "metadata": {},
   "outputs": [],
   "source": [
    "agent_designer = dspy.ChainOfThought(AgentDesigner)"
   ]
  },
  {
   "cell_type": "code",
   "execution_count": 8,
   "id": "80795bf2",
   "metadata": {},
   "outputs": [],
   "source": [
    "dspy_framework_description=\"\"\"\n",
    "You will code the Agent with the DSPy Python Framework.\n",
    "\n",
    "Here is an example of defining a program that retrieves information from a knowledge source and then uses the context to answer a question.\n",
    "\n",
    "class Agent(dspy.Module):\n",
    "    def __init__(self, num_passages=3):\n",
    "        super().__init__()\n",
    "        self.retrieve = dspy.Retrieve(k=num_passages)\n",
    "        self.generate_answer = dspy.ChainOfThought(\"context, question -> answer\")\n",
    "    \n",
    "    def forward(self, question):\n",
    "        context = self.retrieve(question).passages\n",
    "        answer = self.generate_answer(context=context, question=question)\n",
    "        return answer\n",
    "        \n",
    "Here is an example of a blog post writer Agent.\n",
    "\n",
    "class Agent(dspy.Module):\n",
    "    def __init__(self):\n",
    "        self.question_to_blog_outline = dspy.ChainOfThought(\"question -> blog_outline\")\n",
    "        self.topic_to_paragraph = dspy.ChainOfThought(\"topic, contexts -> paragraph\")\n",
    "        self.proof_reader = dspy.ChainOfThought(\"blog_post -> proofread_blog_post\")\n",
    "        self.title_generator = dspy.ChainOfThought(\"blog_outline -> title\")\n",
    "    \n",
    "    def forward(self, question):\n",
    "        contexts = dspy.Retrieve(k=5)(question).passages\n",
    "        contexts = \"\".join(contexts)\n",
    "        raw_blog_outline = self.question_to_blog_outline(question=question, context=contexts).blog_outline\n",
    "        blog_outline = raw_blog_outline.split(\",\") #Add type hint in expanded Signature\n",
    "        blog = \"\"\n",
    "        for topic in blog_outline:\n",
    "            topic_contexts = dspy.Retrieve(k=5)(topic).passages\n",
    "            topic_contexts = \"\".join(topic_contexts)\n",
    "            blog += self.topic_to_paragraph(topic=topic, contexts=topic_contexts).paragraph\n",
    "            blog += \"\\n \\n\"\n",
    "        blog = self.proof_reader(blog_post=blog).proofread_blog_post\n",
    "        title = self.title_generator(blog_outline=raw_blog_outline).title\n",
    "        final_blog = f\"{title} \\n \\n {blog}\"\n",
    "        return dspy.Prediction(blog=final_blog)\n",
    "\n",
    "PLEASE NOTE!! It is extremely important that your Agent class is also named \"Agent\" as shown in the example!! THIS IS EXTREMELY IMPORTANT!!\n",
    "\"\"\""
   ]
  },
  {
   "cell_type": "code",
   "execution_count": 9,
   "id": "d5208d3a",
   "metadata": {},
   "outputs": [
    {
     "name": "stdout",
     "output_type": "stream",
     "text": [
      "```python\n",
      "import dspy\n",
      "\n",
      "class Agent(dspy.Module):\n",
      "    def __init__(self):\n",
      "        super().__init__()\n",
      "        self.retrieve_info = dspy.Retrieve(k=10)\n",
      "        self.generate_outline = dspy.ChainOfThought(\"research_direction, context -> paper_outline\")\n",
      "        self.expand_section = dspy.ChainOfThought(\"section, contexts -> paragraph\")\n",
      "        self.proof_reader = dspy.ChainOfThought(\"paper -> proofread_paper\")\n",
      "        self.title_generator = dspy.ChainOfThought(\"paper_outline -> title\")\n",
      "\n",
      "    def forward(self, repository, research_direction):\n",
      "        # Retrieve relevant information from the repository\n",
      "        context = self.retrieve_info(research_direction).passages\n",
      "        context = \"\".join(context)\n",
      "        \n",
      "        # Generate an outline for the paper\n",
      "        raw_paper_outline = self.generate_outline(research_direction=research_direction, context=context).paper_outline\n",
      "        paper_outline = raw_paper_outline.split(\",\")\n",
      "        \n",
      "        # Expand each section of the outline into detailed paragraphs\n",
      "        paper = \"\"\n",
      "        for section in paper_outline:\n",
      "            section_contexts = self.retrieve_info(section).passages\n",
      "            section_contexts = \"\".join(section_contexts)\n",
      "            paper += self.expand_section(section=section, contexts=section_contexts).paragraph\n",
      "            paper += \" \"\n",
      "        \n",
      "        # Proofread the entire paper\n",
      "        paper = self.proof_reader(paper=paper).proofread_paper\n",
      "        \n",
      "        # Generate a suitable title for the paper\n",
      "        title = self.title_generator(paper_outline=raw_paper_outline).title\n",
      "        \n",
      "        # Combine title and paper content\n",
      "        final_paper = f\"{title}\\n\\n{paper}\"\n",
      "        \n",
      "        return dspy.Prediction(paper=final_paper)\n",
      "```\n"
     ]
    }
   ],
   "source": [
    "agent_design = agent_designer(\n",
    "    application_domain=\"Produce Scientific Papers given a repository and a research direction as input.\",\n",
    "    agent_framework_description=dspy_framework_description\n",
    ").optimal_agent\n",
    "\n",
    "print(agent_design)"
   ]
  },
  {
   "cell_type": "code",
   "execution_count": 10,
   "id": "b3dfb57a",
   "metadata": {},
   "outputs": [
    {
     "name": "stdout",
     "output_type": "stream",
     "text": [
      "\n",
      "\n",
      "\n",
      "Your task is to design Agents for the application domain in the provided Python framework.\n",
      "\n",
      "---\n",
      "\n",
      "Follow the following format.\n",
      "\n",
      "Application Domain: ${application_domain}\n",
      "\n",
      "Agent Framework Description: ${agent_framework_description}\n",
      "\n",
      "Reasoning: Let's think step by step in order to ${produce the optimal_agent}. We ...\n",
      "\n",
      "Optimal Agent: IMPORTANT!! ONLY OUTPUT THE CODE FOR THE AGENT IN THE PROVIDED PYTHON FRAMEWORK!!\n",
      "\n",
      "---\n",
      "\n",
      "Application Domain: Produce Scientific Papers given a repository and a research direction as input.\n",
      "\n",
      "Agent Framework Description: You will code the Agent with the DSPy Python Framework. Here is an example of defining a program that retrieves information from a knowledge source and then uses the context to answer a question. class Agent(dspy.Module): def __init__(self, num_passages=3): super().__init__() self.retrieve = dspy.Retrieve(k=num_passages) self.generate_answer = dspy.ChainOfThought(\"context, question -> answer\") def forward(self, question): context = self.retrieve(question).passages answer = self.generate_answer(context=context, question=question) return answer Here is an example of a blog post writer Agent. class Agent(dspy.Module): def __init__(self): self.question_to_blog_outline = dspy.ChainOfThought(\"question -> blog_outline\") self.topic_to_paragraph = dspy.ChainOfThought(\"topic, contexts -> paragraph\") self.proof_reader = dspy.ChainOfThought(\"blog_post -> proofread_blog_post\") self.title_generator = dspy.ChainOfThought(\"blog_outline -> title\") def forward(self, question): contexts = dspy.Retrieve(k=5)(question).passages contexts = \"\".join(contexts) raw_blog_outline = self.question_to_blog_outline(question=question, context=contexts).blog_outline blog_outline = raw_blog_outline.split(\",\") #Add type hint in expanded Signature blog = \"\" for topic in blog_outline: topic_contexts = dspy.Retrieve(k=5)(topic).passages topic_contexts = \"\".join(topic_contexts) blog += self.topic_to_paragraph(topic=topic, contexts=topic_contexts).paragraph blog += \" \" blog = self.proof_reader(blog_post=blog).proofread_blog_post title = self.title_generator(blog_outline=raw_blog_outline).title final_blog = f\"{title} {blog}\" return dspy.Prediction(blog=final_blog) PLEASE NOTE!! It is extremely important that your Agent class is also named \"Agent\" as shown in the example!! THIS IS EXTREMELY IMPORTANT!!\n",
      "\n",
      "Reasoning: Let's think step by step in order to produce the optimal agent. We need to design an agent that can take a repository and a research direction as input and produce a scientific paper. The agent will need to perform several tasks: 1. Retrieve relevant information from the repository based on the research direction. 2. Generate an outline for the scientific paper. 3. Expand each section of the outline into detailed paragraphs. 4. Proofread the entire paper to ensure coherence and correctness. 5. Generate a suitable title for the paper. To achieve this, we will use the DSPy framework's capabilities to chain these tasks together. Here is the code for the agent: ```python import dspy class Agent(dspy.Module): def __init__(self): super().__init__() self.retrieve_info = dspy.Retrieve(k=10) self.generate_outline = dspy.ChainOfThought(\"research_direction, context -> paper_outline\") self.expand_section = dspy.ChainOfThought(\"section, contexts -> paragraph\") self.proof_reader = dspy.ChainOfThought(\"paper -> proofread_paper\") self.title_generator = dspy.ChainOfThought(\"paper_outline -> title\") def forward(self, repository, research_direction): # Retrieve relevant information from the repository context = self.retrieve_info(research_direction).passages context = \"\".join(context) # Generate an outline for the paper raw_paper_outline = self.generate_outline(research_direction=research_direction, context=context).paper_outline paper_outline = raw_paper_outline.split(\",\") # Expand each section of the outline into detailed paragraphs paper = \"\" for section in paper_outline: section_contexts = self.retrieve_info(section).passages section_contexts = \"\".join(section_contexts) paper += self.expand_section(section=section, contexts=section_contexts).paragraph paper += \" \" # Proofread the entire paper paper = self.proof_reader(paper=paper).proofread_paper # Generate a suitable title for the paper title = self.title_generator(paper_outline=raw_paper_outline).title # Combine title and paper content final_paper = f\"{title}\\n\\n{paper}\" return dspy.Prediction(paper=final_paper) ``` This agent follows the steps outlined to produce a scientific paper from a given repository and research direction. It retrieves relevant information, generates an outline, expands the outline into detailed sections, proofreads the content, and finally generates a title for the paper.\n",
      "\n",
      "Optimal Agent:\u001b[32m ```python\n",
      "import dspy\n",
      "\n",
      "class Agent(dspy.Module):\n",
      "    def __init__(self):\n",
      "        super().__init__()\n",
      "        self.retrieve_info = dspy.Retrieve(k=10)\n",
      "        self.generate_outline = dspy.ChainOfThought(\"research_direction, context -> paper_outline\")\n",
      "        self.expand_section = dspy.ChainOfThought(\"section, contexts -> paragraph\")\n",
      "        self.proof_reader = dspy.ChainOfThought(\"paper -> proofread_paper\")\n",
      "        self.title_generator = dspy.ChainOfThought(\"paper_outline -> title\")\n",
      "\n",
      "    def forward(self, repository, research_direction):\n",
      "        # Retrieve relevant information from the repository\n",
      "        context = self.retrieve_info(research_direction).passages\n",
      "        context = \"\".join(context)\n",
      "        \n",
      "        # Generate an outline for the paper\n",
      "        raw_paper_outline = self.generate_outline(research_direction=research_direction, context=context).paper_outline\n",
      "        paper_outline = raw_paper_outline.split(\",\")\n",
      "        \n",
      "        # Expand each section of the outline into detailed paragraphs\n",
      "        paper = \"\"\n",
      "        for section in paper_outline:\n",
      "            section_contexts = self.retrieve_info(section).passages\n",
      "            section_contexts = \"\".join(section_contexts)\n",
      "            paper += self.expand_section(section=section, contexts=section_contexts).paragraph\n",
      "            paper += \" \"\n",
      "        \n",
      "        # Proofread the entire paper\n",
      "        paper = self.proof_reader(paper=paper).proofread_paper\n",
      "        \n",
      "        # Generate a suitable title for the paper\n",
      "        title = self.title_generator(paper_outline=raw_paper_outline).title\n",
      "        \n",
      "        # Combine title and paper content\n",
      "        final_paper = f\"{title}\\n\\n{paper}\"\n",
      "        \n",
      "        return dspy.Prediction(paper=final_paper)\n",
      "```\u001b[0m\n",
      "\n",
      "\n",
      "\n"
     ]
    },
    {
     "data": {
      "text/plain": [
       "'\\n\\n\\nYour task is to design Agents for the application domain in the provided Python framework.\\n\\n---\\n\\nFollow the following format.\\n\\nApplication Domain: ${application_domain}\\n\\nAgent Framework Description: ${agent_framework_description}\\n\\nReasoning: Let\\'s think step by step in order to ${produce the optimal_agent}. We ...\\n\\nOptimal Agent: IMPORTANT!! ONLY OUTPUT THE CODE FOR THE AGENT IN THE PROVIDED PYTHON FRAMEWORK!!\\n\\n---\\n\\nApplication Domain: Produce Scientific Papers given a repository and a research direction as input.\\n\\nAgent Framework Description: You will code the Agent with the DSPy Python Framework. Here is an example of defining a program that retrieves information from a knowledge source and then uses the context to answer a question. class Agent(dspy.Module): def __init__(self, num_passages=3): super().__init__() self.retrieve = dspy.Retrieve(k=num_passages) self.generate_answer = dspy.ChainOfThought(\"context, question -> answer\") def forward(self, question): context = self.retrieve(question).passages answer = self.generate_answer(context=context, question=question) return answer Here is an example of a blog post writer Agent. class Agent(dspy.Module): def __init__(self): self.question_to_blog_outline = dspy.ChainOfThought(\"question -> blog_outline\") self.topic_to_paragraph = dspy.ChainOfThought(\"topic, contexts -> paragraph\") self.proof_reader = dspy.ChainOfThought(\"blog_post -> proofread_blog_post\") self.title_generator = dspy.ChainOfThought(\"blog_outline -> title\") def forward(self, question): contexts = dspy.Retrieve(k=5)(question).passages contexts = \"\".join(contexts) raw_blog_outline = self.question_to_blog_outline(question=question, context=contexts).blog_outline blog_outline = raw_blog_outline.split(\",\") #Add type hint in expanded Signature blog = \"\" for topic in blog_outline: topic_contexts = dspy.Retrieve(k=5)(topic).passages topic_contexts = \"\".join(topic_contexts) blog += self.topic_to_paragraph(topic=topic, contexts=topic_contexts).paragraph blog += \" \" blog = self.proof_reader(blog_post=blog).proofread_blog_post title = self.title_generator(blog_outline=raw_blog_outline).title final_blog = f\"{title} {blog}\" return dspy.Prediction(blog=final_blog) PLEASE NOTE!! It is extremely important that your Agent class is also named \"Agent\" as shown in the example!! THIS IS EXTREMELY IMPORTANT!!\\n\\nReasoning: Let\\'s think step by step in order to produce the optimal agent. We need to design an agent that can take a repository and a research direction as input and produce a scientific paper. The agent will need to perform several tasks: 1. Retrieve relevant information from the repository based on the research direction. 2. Generate an outline for the scientific paper. 3. Expand each section of the outline into detailed paragraphs. 4. Proofread the entire paper to ensure coherence and correctness. 5. Generate a suitable title for the paper. To achieve this, we will use the DSPy framework\\'s capabilities to chain these tasks together. Here is the code for the agent: ```python import dspy class Agent(dspy.Module): def __init__(self): super().__init__() self.retrieve_info = dspy.Retrieve(k=10) self.generate_outline = dspy.ChainOfThought(\"research_direction, context -> paper_outline\") self.expand_section = dspy.ChainOfThought(\"section, contexts -> paragraph\") self.proof_reader = dspy.ChainOfThought(\"paper -> proofread_paper\") self.title_generator = dspy.ChainOfThought(\"paper_outline -> title\") def forward(self, repository, research_direction): # Retrieve relevant information from the repository context = self.retrieve_info(research_direction).passages context = \"\".join(context) # Generate an outline for the paper raw_paper_outline = self.generate_outline(research_direction=research_direction, context=context).paper_outline paper_outline = raw_paper_outline.split(\",\") # Expand each section of the outline into detailed paragraphs paper = \"\" for section in paper_outline: section_contexts = self.retrieve_info(section).passages section_contexts = \"\".join(section_contexts) paper += self.expand_section(section=section, contexts=section_contexts).paragraph paper += \" \" # Proofread the entire paper paper = self.proof_reader(paper=paper).proofread_paper # Generate a suitable title for the paper title = self.title_generator(paper_outline=raw_paper_outline).title # Combine title and paper content final_paper = f\"{title}\\\\n\\\\n{paper}\" return dspy.Prediction(paper=final_paper) ``` This agent follows the steps outlined to produce a scientific paper from a given repository and research direction. It retrieves relevant information, generates an outline, expands the outline into detailed sections, proofreads the content, and finally generates a title for the paper.\\n\\nOptimal Agent:\\x1b[32m ```python\\nimport dspy\\n\\nclass Agent(dspy.Module):\\n    def __init__(self):\\n        super().__init__()\\n        self.retrieve_info = dspy.Retrieve(k=10)\\n        self.generate_outline = dspy.ChainOfThought(\"research_direction, context -> paper_outline\")\\n        self.expand_section = dspy.ChainOfThought(\"section, contexts -> paragraph\")\\n        self.proof_reader = dspy.ChainOfThought(\"paper -> proofread_paper\")\\n        self.title_generator = dspy.ChainOfThought(\"paper_outline -> title\")\\n\\n    def forward(self, repository, research_direction):\\n        # Retrieve relevant information from the repository\\n        context = self.retrieve_info(research_direction).passages\\n        context = \"\".join(context)\\n        \\n        # Generate an outline for the paper\\n        raw_paper_outline = self.generate_outline(research_direction=research_direction, context=context).paper_outline\\n        paper_outline = raw_paper_outline.split(\",\")\\n        \\n        # Expand each section of the outline into detailed paragraphs\\n        paper = \"\"\\n        for section in paper_outline:\\n            section_contexts = self.retrieve_info(section).passages\\n            section_contexts = \"\".join(section_contexts)\\n            paper += self.expand_section(section=section, contexts=section_contexts).paragraph\\n            paper += \" \"\\n        \\n        # Proofread the entire paper\\n        paper = self.proof_reader(paper=paper).proofread_paper\\n        \\n        # Generate a suitable title for the paper\\n        title = self.title_generator(paper_outline=raw_paper_outline).title\\n        \\n        # Combine title and paper content\\n        final_paper = f\"{title}\\\\n\\\\n{paper}\"\\n        \\n        return dspy.Prediction(paper=final_paper)\\n```\\x1b[0m\\n\\n\\n'"
      ]
     },
     "execution_count": 10,
     "metadata": {},
     "output_type": "execute_result"
    }
   ],
   "source": [
    "gpt4.inspect_history(n=1)"
   ]
  },
  {
   "cell_type": "code",
   "execution_count": 11,
   "id": "752f0419",
   "metadata": {},
   "outputs": [
    {
     "name": "stdout",
     "output_type": "stream",
     "text": [
      "```python\n",
      "import dspy\n",
      "\n",
      "class Agent(dspy.Module):\n",
      "    def __init__(self):\n",
      "        super().__init__()\n",
      "        self.retrieve_info = dspy.Retrieve(k=5)\n",
      "        self.generate_activities = dspy.ChainOfThought(\"destination, duration, context -> activities\")\n",
      "        self.organize_itinerary = dspy.ChainOfThought(\"activities, duration -> itinerary\")\n",
      "        self.proof_reader = dspy.ChainOfThought(\"itinerary -> proofread_itinerary\")\n",
      "\n",
      "    def forward(self, destination, duration):\n",
      "        # Step 1: Retrieve information about the destination\n",
      "        context = self.retrieve_info(destination).passages\n",
      "        context = \"\".join(context)\n",
      "        \n",
      "        # Step 2: Generate a list of activities based on the destination and duration\n",
      "        activities = self.generate_activities(destination=destination, duration=duration, context=context).activities\n",
      "        \n",
      "        # Step 3: Organize the activities into a coherent itinerary\n",
      "        raw_itinerary = self.organize_itinerary(activities=activities, duration=duration).itinerary\n",
      "        \n",
      "        # Step 4: Proofread the final itinerary\n",
      "        final_itinerary = self.proof_reader(itinerary=raw_itinerary).proofread_itinerary\n",
      "        \n",
      "        return dspy.Prediction(itinerary=final_itinerary)\n",
      "```\n"
     ]
    }
   ],
   "source": [
    "agent_design = agent_designer(\n",
    "    application_domain=\"Create a comprehensive travel itinerary given a destination and duration of stay.\",\n",
    "    agent_framework_description=dspy_framework_description\n",
    ").optimal_agent\n",
    "\n",
    "print(agent_design)"
   ]
  },
  {
   "cell_type": "code",
   "execution_count": 12,
   "id": "20fa91e7",
   "metadata": {},
   "outputs": [
    {
     "name": "stdout",
     "output_type": "stream",
     "text": [
      "\n",
      "\n",
      "\n",
      "Your task is to design Agents for the application domain in the provided Python framework.\n",
      "\n",
      "---\n",
      "\n",
      "Follow the following format.\n",
      "\n",
      "Application Domain: ${application_domain}\n",
      "\n",
      "Agent Framework Description: ${agent_framework_description}\n",
      "\n",
      "Reasoning: Let's think step by step in order to ${produce the optimal_agent}. We ...\n",
      "\n",
      "Optimal Agent: IMPORTANT!! ONLY OUTPUT THE CODE FOR THE AGENT IN THE PROVIDED PYTHON FRAMEWORK!!\n",
      "\n",
      "---\n",
      "\n",
      "Application Domain: Create a comprehensive travel itinerary given a destination and duration of stay.\n",
      "\n",
      "Agent Framework Description: You will code the Agent with the DSPy Python Framework. Here is an example of defining a program that retrieves information from a knowledge source and then uses the context to answer a question. class Agent(dspy.Module): def __init__(self, num_passages=3): super().__init__() self.retrieve = dspy.Retrieve(k=num_passages) self.generate_answer = dspy.ChainOfThought(\"context, question -> answer\") def forward(self, question): context = self.retrieve(question).passages answer = self.generate_answer(context=context, question=question) return answer Here is an example of a blog post writer Agent. class Agent(dspy.Module): def __init__(self): self.question_to_blog_outline = dspy.ChainOfThought(\"question -> blog_outline\") self.topic_to_paragraph = dspy.ChainOfThought(\"topic, contexts -> paragraph\") self.proof_reader = dspy.ChainOfThought(\"blog_post -> proofread_blog_post\") self.title_generator = dspy.ChainOfThought(\"blog_outline -> title\") def forward(self, question): contexts = dspy.Retrieve(k=5)(question).passages contexts = \"\".join(contexts) raw_blog_outline = self.question_to_blog_outline(question=question, context=contexts).blog_outline blog_outline = raw_blog_outline.split(\",\") #Add type hint in expanded Signature blog = \"\" for topic in blog_outline: topic_contexts = dspy.Retrieve(k=5)(topic).passages topic_contexts = \"\".join(topic_contexts) blog += self.topic_to_paragraph(topic=topic, contexts=topic_contexts).paragraph blog += \" \" blog = self.proof_reader(blog_post=blog).proofread_blog_post title = self.title_generator(blog_outline=raw_blog_outline).title final_blog = f\"{title} {blog}\" return dspy.Prediction(blog=final_blog) PLEASE NOTE!! It is extremely important that your Agent class is also named \"Agent\" as shown in the example!! THIS IS EXTREMELY IMPORTANT!!\n",
      "\n",
      "Reasoning: Let's think step by step in order to Let's think step by step in order to produce the optimal agent. We need to create an agent that can generate a comprehensive travel itinerary given a destination and duration of stay. The agent should be able to: 1. Retrieve relevant information about the destination. 2. Generate a list of activities and places to visit based on the duration of stay. 3. Organize these activities into a coherent itinerary. 4. Optionally, proofread the final itinerary for any errors. To achieve this, we will use the DSPy framework to define the necessary components for our agent. We will use the `Retrieve` module to gather information about the destination, the `ChainOfThought` module to generate activities and organize them into an itinerary, and another `ChainOfThought` module to proofread the final itinerary. Here is the code for the agent: ```python import dspy class Agent(dspy.Module): def __init__(self): super().__init__() self.retrieve_info = dspy.Retrieve(k=5) self.generate_activities = dspy.ChainOfThought(\"destination, duration, context -> activities\") self.organize_itinerary = dspy.ChainOfThought(\"activities, duration -> itinerary\") self.proof_reader = dspy.ChainOfThought(\"itinerary -> proofread_itinerary\") def forward(self, destination, duration): # Step 1: Retrieve information about the destination context = self.retrieve_info(destination).passages context = \"\".join(context) # Step 2: Generate a list of activities based on the destination and duration activities = self.generate_activities(destination=destination, duration=duration, context=context).activities # Step 3: Organize the activities into a coherent itinerary raw_itinerary = self.organize_itinerary(activities=activities, duration=duration).itinerary # Step 4: Proofread the final itinerary final_itinerary = self.proof_reader(itinerary=raw_itinerary).proofread_itinerary return dspy.Prediction(itinerary=final_itinerary) ``` This agent will take a destination and duration as input, retrieve relevant information, generate a list of activities, organize them into an itinerary, and proofread the final itinerary.\n",
      "\n",
      "Optimal Agent:\u001b[32m ```python\n",
      "import dspy\n",
      "\n",
      "class Agent(dspy.Module):\n",
      "    def __init__(self):\n",
      "        super().__init__()\n",
      "        self.retrieve_info = dspy.Retrieve(k=5)\n",
      "        self.generate_activities = dspy.ChainOfThought(\"destination, duration, context -> activities\")\n",
      "        self.organize_itinerary = dspy.ChainOfThought(\"activities, duration -> itinerary\")\n",
      "        self.proof_reader = dspy.ChainOfThought(\"itinerary -> proofread_itinerary\")\n",
      "\n",
      "    def forward(self, destination, duration):\n",
      "        # Step 1: Retrieve information about the destination\n",
      "        context = self.retrieve_info(destination).passages\n",
      "        context = \"\".join(context)\n",
      "        \n",
      "        # Step 2: Generate a list of activities based on the destination and duration\n",
      "        activities = self.generate_activities(destination=destination, duration=duration, context=context).activities\n",
      "        \n",
      "        # Step 3: Organize the activities into a coherent itinerary\n",
      "        raw_itinerary = self.organize_itinerary(activities=activities, duration=duration).itinerary\n",
      "        \n",
      "        # Step 4: Proofread the final itinerary\n",
      "        final_itinerary = self.proof_reader(itinerary=raw_itinerary).proofread_itinerary\n",
      "        \n",
      "        return dspy.Prediction(itinerary=final_itinerary)\n",
      "```\u001b[0m\n",
      "\n",
      "\n",
      "\n"
     ]
    },
    {
     "data": {
      "text/plain": [
       "'\\n\\n\\nYour task is to design Agents for the application domain in the provided Python framework.\\n\\n---\\n\\nFollow the following format.\\n\\nApplication Domain: ${application_domain}\\n\\nAgent Framework Description: ${agent_framework_description}\\n\\nReasoning: Let\\'s think step by step in order to ${produce the optimal_agent}. We ...\\n\\nOptimal Agent: IMPORTANT!! ONLY OUTPUT THE CODE FOR THE AGENT IN THE PROVIDED PYTHON FRAMEWORK!!\\n\\n---\\n\\nApplication Domain: Create a comprehensive travel itinerary given a destination and duration of stay.\\n\\nAgent Framework Description: You will code the Agent with the DSPy Python Framework. Here is an example of defining a program that retrieves information from a knowledge source and then uses the context to answer a question. class Agent(dspy.Module): def __init__(self, num_passages=3): super().__init__() self.retrieve = dspy.Retrieve(k=num_passages) self.generate_answer = dspy.ChainOfThought(\"context, question -> answer\") def forward(self, question): context = self.retrieve(question).passages answer = self.generate_answer(context=context, question=question) return answer Here is an example of a blog post writer Agent. class Agent(dspy.Module): def __init__(self): self.question_to_blog_outline = dspy.ChainOfThought(\"question -> blog_outline\") self.topic_to_paragraph = dspy.ChainOfThought(\"topic, contexts -> paragraph\") self.proof_reader = dspy.ChainOfThought(\"blog_post -> proofread_blog_post\") self.title_generator = dspy.ChainOfThought(\"blog_outline -> title\") def forward(self, question): contexts = dspy.Retrieve(k=5)(question).passages contexts = \"\".join(contexts) raw_blog_outline = self.question_to_blog_outline(question=question, context=contexts).blog_outline blog_outline = raw_blog_outline.split(\",\") #Add type hint in expanded Signature blog = \"\" for topic in blog_outline: topic_contexts = dspy.Retrieve(k=5)(topic).passages topic_contexts = \"\".join(topic_contexts) blog += self.topic_to_paragraph(topic=topic, contexts=topic_contexts).paragraph blog += \" \" blog = self.proof_reader(blog_post=blog).proofread_blog_post title = self.title_generator(blog_outline=raw_blog_outline).title final_blog = f\"{title} {blog}\" return dspy.Prediction(blog=final_blog) PLEASE NOTE!! It is extremely important that your Agent class is also named \"Agent\" as shown in the example!! THIS IS EXTREMELY IMPORTANT!!\\n\\nReasoning: Let\\'s think step by step in order to Let\\'s think step by step in order to produce the optimal agent. We need to create an agent that can generate a comprehensive travel itinerary given a destination and duration of stay. The agent should be able to: 1. Retrieve relevant information about the destination. 2. Generate a list of activities and places to visit based on the duration of stay. 3. Organize these activities into a coherent itinerary. 4. Optionally, proofread the final itinerary for any errors. To achieve this, we will use the DSPy framework to define the necessary components for our agent. We will use the `Retrieve` module to gather information about the destination, the `ChainOfThought` module to generate activities and organize them into an itinerary, and another `ChainOfThought` module to proofread the final itinerary. Here is the code for the agent: ```python import dspy class Agent(dspy.Module): def __init__(self): super().__init__() self.retrieve_info = dspy.Retrieve(k=5) self.generate_activities = dspy.ChainOfThought(\"destination, duration, context -> activities\") self.organize_itinerary = dspy.ChainOfThought(\"activities, duration -> itinerary\") self.proof_reader = dspy.ChainOfThought(\"itinerary -> proofread_itinerary\") def forward(self, destination, duration): # Step 1: Retrieve information about the destination context = self.retrieve_info(destination).passages context = \"\".join(context) # Step 2: Generate a list of activities based on the destination and duration activities = self.generate_activities(destination=destination, duration=duration, context=context).activities # Step 3: Organize the activities into a coherent itinerary raw_itinerary = self.organize_itinerary(activities=activities, duration=duration).itinerary # Step 4: Proofread the final itinerary final_itinerary = self.proof_reader(itinerary=raw_itinerary).proofread_itinerary return dspy.Prediction(itinerary=final_itinerary) ``` This agent will take a destination and duration as input, retrieve relevant information, generate a list of activities, organize them into an itinerary, and proofread the final itinerary.\\n\\nOptimal Agent:\\x1b[32m ```python\\nimport dspy\\n\\nclass Agent(dspy.Module):\\n    def __init__(self):\\n        super().__init__()\\n        self.retrieve_info = dspy.Retrieve(k=5)\\n        self.generate_activities = dspy.ChainOfThought(\"destination, duration, context -> activities\")\\n        self.organize_itinerary = dspy.ChainOfThought(\"activities, duration -> itinerary\")\\n        self.proof_reader = dspy.ChainOfThought(\"itinerary -> proofread_itinerary\")\\n\\n    def forward(self, destination, duration):\\n        # Step 1: Retrieve information about the destination\\n        context = self.retrieve_info(destination).passages\\n        context = \"\".join(context)\\n        \\n        # Step 2: Generate a list of activities based on the destination and duration\\n        activities = self.generate_activities(destination=destination, duration=duration, context=context).activities\\n        \\n        # Step 3: Organize the activities into a coherent itinerary\\n        raw_itinerary = self.organize_itinerary(activities=activities, duration=duration).itinerary\\n        \\n        # Step 4: Proofread the final itinerary\\n        final_itinerary = self.proof_reader(itinerary=raw_itinerary).proofread_itinerary\\n        \\n        return dspy.Prediction(itinerary=final_itinerary)\\n```\\x1b[0m\\n\\n\\n'"
      ]
     },
     "execution_count": 12,
     "metadata": {},
     "output_type": "execute_result"
    }
   ],
   "source": [
    "gpt4.inspect_history(n=1)"
   ]
  },
  {
   "cell_type": "markdown",
   "id": "d3c30bb9",
   "metadata": {},
   "source": [
    "# Next Steps\n",
    "\n",
    "Incorporating a `discovered_agent_archive` into the design process can revolutionize the creation of new agents. This repository of past designs and their resulting performance serves as a rich knowledge base. By drawing inspiration from successful agents, the meta agent designer can efficiently craft novel combinations and adaptations. This approach not only accelerates development but also fosters continuous improvement as the system learns from its growing collection of explored agent architectures.\n",
    "\n",
    "If you found this notebook useful, please consider leaving a star on [Weaviate Recipes](https://github.com/weaviate/recipes)."
   ]
  }
 ],
 "metadata": {
  "kernelspec": {
   "display_name": "weaviate-agents-0",
   "language": "python",
   "name": "weaviat-agents"
  },
  "language_info": {
   "codemirror_mode": {
    "name": "ipython",
    "version": 3
   },
   "file_extension": ".py",
   "mimetype": "text/x-python",
   "name": "python",
   "nbconvert_exporter": "python",
   "pygments_lexer": "ipython3",
   "version": "3.10.10"
  }
 },
 "nbformat": 4,
 "nbformat_minor": 5
}
