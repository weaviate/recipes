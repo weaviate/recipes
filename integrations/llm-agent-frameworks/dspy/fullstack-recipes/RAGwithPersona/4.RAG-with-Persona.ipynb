{
 "cells": [
  {
   "cell_type": "markdown",
   "metadata": {},
   "source": [
    "[![Open In Colab](https://colab.research.google.com/assets/colab-badge.svg)](https://colab.research.google.com/github/weaviate/recipes/blob/main/integrations/llm-agent-frameworks/dspy/fullstack-recipes/RAGwithPersona/4.RAG-with-Persona.ipynb)"
   ]
  },
  {
   "cell_type": "markdown",
   "metadata": {},
   "source": [
    "# RAG with Persona"
   ]
  },
  {
   "cell_type": "markdown",
   "metadata": {},
   "source": [
    "## Installation"
   ]
  },
  {
   "cell_type": "code",
   "execution_count": null,
   "metadata": {},
   "outputs": [],
   "source": [
    "import dspy\n",
    "from dspy.retrieve.weaviate_rm import WeaviateRM\n",
    "import weaviate\n",
    "import cohere"
   ]
  },
  {
   "cell_type": "markdown",
   "metadata": {},
   "source": [
    "### Connect to Weaviate Instance and Configure Model"
   ]
  },
  {
   "cell_type": "code",
   "execution_count": null,
   "metadata": {},
   "outputs": [],
   "source": [
    "cohere_key = \"API_KEY\"\n",
    "\n",
    "command_nightly = dspy.Cohere(model=\"command-nightly\",max_tokens=1000, api_key=cohere_key)\n",
    "\n",
    "weaviate_client = weaviate.Client(\"WEAVIATE_URL\")\n",
    "retriever_model = WeaviateRM(\"ChatMessage\", weaviate_client=weaviate_client)\n",
    "dspy.settings.configure(lm=command_nightly, rm=retriever_model)"
   ]
  },
  {
   "cell_type": "markdown",
   "metadata": {},
   "source": [
    "## Configure Signature"
   ]
  },
  {
   "cell_type": "code",
   "execution_count": null,
   "metadata": {},
   "outputs": [],
   "source": [
    "class AnswerWithPersona(dspy.Signature):\n",
    "    \"\"\"\n",
    "    Respond to the chat messages with a response consistent with the given persona.\n",
    "    \"\"\"\n",
    "\n",
    "    persona = dspy.InputField()\n",
    "    message = dspy.InputField()\n",
    "    message_contexts = dspy.InputField(desc=\"retrieved context relevant to the latest message.\")\n",
    "    response = dspy.OutputField()"
   ]
  },
  {
   "cell_type": "markdown",
   "metadata": {},
   "source": [
    "## Build Program"
   ]
  },
  {
   "cell_type": "code",
   "execution_count": null,
   "metadata": {},
   "outputs": [],
   "source": [
    "class RAGwithPersona(dspy.Module):\n",
    "    def __init__(self):\n",
    "        super().__init__() \n",
    "        self.retrieve = dspy.Retrieve(k=3)\n",
    "        self.rag_with_persona = dspy.Predict(AnswerWithPersona)\n",
    "    \n",
    "\n",
    "    def forward(self, persona, message):\n",
    "        message_contexts = self.retrieve(message).passages\n",
    "        response = self.rag_with_persona(persona=persona, message=message, message_contexts=message_contexts).response\n",
    "        return dspy.Prediction(response=response)\n",
    "\n",
    "program = RAGwithPersona()"
   ]
  },
  {
   "cell_type": "markdown",
   "metadata": {},
   "source": [
    "## Try it out"
   ]
  },
  {
   "cell_type": "code",
   "execution_count": null,
   "metadata": {},
   "outputs": [],
   "source": [
    "program(persona=\"You are Taylor Swift\", message=\"What will your new album be about?\")"
   ]
  },
  {
   "cell_type": "code",
   "execution_count": null,
   "metadata": {},
   "outputs": [],
   "source": [
    "command_nightly.inspect_history(n=1)"
   ]
  },
  {
   "cell_type": "markdown",
   "metadata": {},
   "source": [
    "## Store response in the database"
   ]
  },
  {
   "cell_type": "code",
   "execution_count": null,
   "metadata": {},
   "outputs": [],
   "source": [
    "from weaviate.util import get_valid_uuid\n",
    "import uuid\n",
    "\n",
    "user_chat_id = get_valid_uuid(uuid4())\n",
    "chat_snippets.data.insert(\n",
    "        properties={\n",
    "            \"author\": \"user\",\n",
    "            \"content\": parsed_history[-1]\n",
    "        },\n",
    "        uuid=user_chat_id\n",
    ")"
   ]
  }
 ],
 "metadata": {
  "kernelspec": {
   "display_name": "Python 3 (ipykernel)",
   "language": "python",
   "name": "python3"
  },
  "language_info": {
   "codemirror_mode": {
    "name": "ipython",
    "version": 3
   },
   "file_extension": ".py",
   "mimetype": "text/x-python",
   "name": "python",
   "nbconvert_exporter": "python",
   "pygments_lexer": "ipython3",
   "version": "3.11.6"
  }
 },
 "nbformat": 4,
 "nbformat_minor": 2
}
