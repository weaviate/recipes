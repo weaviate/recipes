{
 "cells": [
  {
   "cell_type": "markdown",
   "id": "abb604de",
   "metadata": {},
   "source": [
    "[![Open In Colab](https://colab.research.google.com/assets/colab-badge.svg)](https://colab.research.google.com/github/weaviate/recipes/blob/main/integrations/llm-agent-frameworks/dspy/fullstack-recipes/RAGwithPersona/Create-Weaviate-Schema.ipynb)"
   ]
  },
  {
   "cell_type": "code",
   "execution_count": 1,
   "id": "11ccd52f",
   "metadata": {},
   "outputs": [],
   "source": [
    "# Import Weaviate and Connect to Client\n",
    "import weaviate\n",
    "client = weaviate.connect_to_local()"
   ]
  },
  {
   "cell_type": "code",
   "execution_count": 2,
   "id": "e8f1b7cd",
   "metadata": {},
   "outputs": [
    {
     "name": "stderr",
     "output_type": "stream",
     "text": [
      "/var/folders/41/8dp_379x15d8zz4ppsjthdw40000gn/T/ipykernel_78743/1867762106.py:4: ResourceWarning: unclosed <socket.socket fd=75, family=AddressFamily.AF_INET6, type=SocketKind.SOCK_STREAM, proto=6, laddr=('::1', 64622, 0, 0), raddr=('::1', 8080, 0, 0)>\n",
      "  client = weaviate.connect_to_local()\n",
      "ResourceWarning: Enable tracemalloc to get the object allocation traceback\n"
     ]
    }
   ],
   "source": [
    "import weaviate\n",
    "import weaviate.classes as wvc\n",
    "\n",
    "client = weaviate.connect_to_local()\n",
    "\n",
    "try:\n",
    "    client.collections.create(\n",
    "        name=\"ChatMessages\",\n",
    "        description=\"Snippets from chats on RAGwithPersona.\",\n",
    "        properties=[\n",
    "            wvc.config.Property(\n",
    "                data_type=wvc.config.DataType.TEXT,\n",
    "                description=\"The text content of the chat snippet.\",\n",
    "                name=\"content\",\n",
    "            ),\n",
    "            wvc.config.Property(\n",
    "                data_type=wvc.config.DataType.TEXT,\n",
    "                description=\"The author of the message.\",\n",
    "                name=\"author\",\n",
    "            ),\n",
    "        ]\n",
    "    )\n",
    "\n",
    "finally:\n",
    "    client.close()"
   ]
  },
  {
   "cell_type": "code",
   "execution_count": null,
   "id": "59205383",
   "metadata": {},
   "outputs": [],
   "source": []
  }
 ],
 "metadata": {
  "kernelspec": {
   "display_name": "Python 3 (ipykernel)",
   "language": "python",
   "name": "python3"
  },
  "language_info": {
   "codemirror_mode": {
    "name": "ipython",
    "version": 3
   },
   "file_extension": ".py",
   "mimetype": "text/x-python",
   "name": "python",
   "nbconvert_exporter": "python",
   "pygments_lexer": "ipython3",
   "version": "3.10.10"
  }
 },
 "nbformat": 4,
 "nbformat_minor": 5
}
