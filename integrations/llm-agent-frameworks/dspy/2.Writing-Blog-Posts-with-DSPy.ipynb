{
 "cells": [
  {
   "cell_type": "markdown",
   "id": "1f51e00c",
   "metadata": {},
   "source": [
    "[![Open In Colab](https://colab.research.google.com/assets/colab-badge.svg)](https://colab.research.google.com/github/weaviate/recipes/blob/main/integrations/llm-agent-frameworks/dspy/2.Writing-Blog-Posts-with-DSPy.ipynb)"
   ]
  },
  {
   "cell_type": "markdown",
   "id": "aa7cfba6",
   "metadata": {},
   "source": [
    "# Writing Blog Posts with DSPy Programs\n",
    "\n",
    "### In this tutorial, we will generate blog posts from questions!\n",
    "\n",
    "Using the Weaviate blog posts as background information, we will generate 8 paragraph blog posts from questions such as:\n",
    "\n",
    "`What is ref2vec and how can I use it to build e-commerce applications with Weaviate?`\n",
    "\n",
    "### We will do this with a 4-layer DSPy program\n",
    "\n",
    "```python\n",
    "class BlogPostWriter(dspy.Module):\n",
    "    def __init__(self):\n",
    "        self.question_to_blog_outline = dspy.ChainOfThought(Question2BlogOutline)\n",
    "        self.topic_to_paragraph = dspy.ChainOfThought(Topic2Paragraph)\n",
    "        self.proof_reader = dspy.ChainOfThought(ProofReader)\n",
    "        self.title_generator = dspy.ChainOfThought(TitleGenerator)\n",
    "    \n",
    "    def forward(self, question):\n",
    "        contexts = dspy.Retrieve(k=5)(question).passages\n",
    "        contexts = \"\".join(contexts)\n",
    "        raw_blog_outline = self.question_to_blog_outline(question=question, context=contexts).blog_outline\n",
    "        blog_outline = raw_blog_outline.split(\",\") #Add type hint in expanded Signature\n",
    "        blog = \"\"\n",
    "        for topic in blog_outline:\n",
    "            topic_contexts = dspy.Retrieve(k=5)(topic).passages\n",
    "            topic_contexts = \"\".join(topic_contexts)\n",
    "            blog += self.topic_to_paragraph(topic=topic, contexts=topic_contexts).paragraph\n",
    "            blog += \"\\n \\n\"\n",
    "        blog = self.proof_reader(blog_post=blog).proofread_blog_post\n",
    "        title = self.title_generator(blog_outline=raw_blog_outline).title\n",
    "        final_blog = f\"{title} \\n \\n {blog}\"\n",
    "        return dspy.Prediction(blog=final_blog)\n",
    "```"
   ]
  },
  {
   "cell_type": "markdown",
   "id": "669bbafc",
   "metadata": {},
   "source": [
    "## You can follow along this demo with this [video](https://youtu.be/ickqCzFxWj0?feature=shared)!"
   ]
  },
  {
   "cell_type": "markdown",
   "id": "8410f9bc",
   "metadata": {},
   "source": [
    "## Load Data into Weaviate\n",
    "**You need a running Weaviate cluster with data**:\n",
    "1. Learn about the installation options [here](https://weaviate.io/developers/weaviate/installation)\n",
    "2. Import your data:\n",
    "    1. You can follow the `Weaviate-Import.ipynb` notebook to load in the Weaviate blogs (recipes/integrations/dspy/Weaviate-Import.ipynb)\n",
    "    2. Or follow this [Quickstart Guide](https://weaviate.io/developers/weaviate/quickstart)"
   ]
  },
  {
   "cell_type": "markdown",
   "id": "dd3b9cad",
   "metadata": {},
   "source": [
    "## Installation"
   ]
  },
  {
   "cell_type": "code",
   "execution_count": 2,
   "id": "14c1f1d7",
   "metadata": {},
   "outputs": [
    {
     "name": "stderr",
     "output_type": "stream",
     "text": [
      "/Library/Frameworks/Python.framework/Versions/3.10/lib/python3.10/site-packages/weaviate/warnings.py:121: DeprecationWarning: Dep005: You are using weaviate-client version 3.26.2. The latest version is 4.4.4.\n",
      "            Please consider upgrading to the latest version. See https://weaviate.io/developers/weaviate/client-libraries/python for details.\n",
      "  warnings.warn(\n"
     ]
    }
   ],
   "source": [
    "# Setup DSPy\n",
    "# Connect to Weaviate Retriever and configure LLM\n",
    "import dspy\n",
    "from dspy.retrieve.weaviate_rm import WeaviateRM\n",
    "import weaviate\n",
    "\n",
    "gpt4 = dspy.OpenAI(model=\"gpt-4\", max_tokens=2000, model_type=\"chat\")\n",
    "\n",
    "weaviate_client = weaviate.Client(\"http://localhost:8080\")\n",
    "retriever_model = WeaviateRM(\"WeaviateBlogChunk\", weaviate_client=weaviate_client)\n",
    "dspy.settings.configure(lm=gpt4, rm=retriever_model)"
   ]
  },
  {
   "cell_type": "markdown",
   "id": "ff7b9faf",
   "metadata": {},
   "source": [
    "### Steps to Generate a Blog Post\n",
    "#### 1. Outline\n",
    "#### 2. Topic to paragraph\n",
    "#### 3. Review\n",
    "#### 4. Title"
   ]
  },
  {
   "cell_type": "markdown",
   "id": "36d4fbeb",
   "metadata": {},
   "source": [
    "## Question2BlogOutline Signature and Demo"
   ]
  },
  {
   "cell_type": "code",
   "execution_count": 3,
   "id": "4114cd17",
   "metadata": {},
   "outputs": [],
   "source": [
    "class Question2BlogOutline(dspy.Signature):\n",
    "    \"\"\"\n",
    "    Your task is to write a blog post that will help answer the given question. \n",
    "    Please use the contexts to evaluate the structure of the blog post.\n",
    "    \"\"\"\n",
    "    \n",
    "    question = dspy.InputField()\n",
    "    contexts = dspy.InputField()\n",
    "    blog_outline = dspy.OutputField(desc=\"A comma separated list of topics.\")"
   ]
  },
  {
   "cell_type": "code",
   "execution_count": 5,
   "id": "31cfe959",
   "metadata": {},
   "outputs": [
    {
     "data": {
      "text/plain": [
       "\"Introduction to Hybrid Search in Weaviate, The Working of Hybrid Search, Understanding Dense and Sparse Vectors, Fusion Algorithms in Weaviate's Hybrid Search, Example of a Hybrid Search, Combining Results of Vector and Keyword Searches.\""
      ]
     },
     "execution_count": 5,
     "metadata": {},
     "output_type": "execute_result"
    }
   ],
   "source": [
    "toy_question = \"How does Hybrid Search in Weaviate work?\"\n",
    "toy_context = dspy.Retrieve(k=5)(toy_question).passages\n",
    "toy_context = \"\".join(toy_context)\n",
    "dspy.ChainOfThought(Question2BlogOutline)(question=toy_question, contexts=toy_context).blog_outline"
   ]
  },
  {
   "cell_type": "code",
   "execution_count": 6,
   "id": "e347b469",
   "metadata": {},
   "outputs": [
    {
     "name": "stdout",
     "output_type": "stream",
     "text": [
      "\n",
      "\n",
      "\n",
      "\n",
      "Your task is to write a blog post that will help answer the given question. Please use the contexts to evaluate the structure of the blog post.\n",
      "\n",
      "---\n",
      "\n",
      "Follow the following format.\n",
      "\n",
      "Question: ${question}\n",
      "\n",
      "Contexts: ${contexts}\n",
      "\n",
      "Reasoning: Let's think step by step in order to ${produce the blog_outline}. We ...\n",
      "\n",
      "Blog Outline: A comma separated list of topics.\n",
      "\n",
      "---\n",
      "\n",
      "Question: How does Hybrid Search in Weaviate work?\n",
      "\n",
      "Contexts: ### Further resources - [How-to: Hybrid search](/developers/weaviate/search/hybrid) - [API References: Hybrid search](/developers/weaviate/api/graphql/search-operators#hybrid)But do you know **how** hybrid search combines these results? And that Weaviate recently added a new algorithm for how this is done? In this post, we’ll dive into exactly the world of hybrid search to discuss how it works, how results are produced, the algorithms used, and more. So let’s get into it! :::info - Vector search and keyword search are also known as dense vector search and sparse vector search respectively. - Keyword search is also called a BM25 search in Weaviate, as it is based on the [BM25F](https://en.wikipedia.org/wiki/Okapi_BM25) scoring algorithm.--- title: Hybrid Search Explained slug: hybrid-search-explained authors: [erika] date: 2023-01-03 tags: ['concepts', 'search'] image: ./img/hero.png description: \"Learn about the new hybrid search feature that enables you to combine dense and sparse vectors to deliver the best of both search methods.\" --- ![Hybrid search](./img/hero.png) <!-- truncate --> Hybrid search is a technique that **combines** multiple search algorithms to improve the accuracy and relevance of search results. It uses the best features of both keyword-based search algorithms with vector search techniques. By leveraging the strengths of different algorithms, it provides a more effective search experience for users. The [Hybrid search](/developers/weaviate/api/graphql/search-operators#hybrid) feature was introduced in Weaviate 1.17. It uses sparse and dense vectors to represent the meaning and context of search queries and documents.--- title: Unlocking the Power of Hybrid Search - A Deep Dive into Weaviate's Fusion Algorithms slug: hybrid-search-fusion-algorithms authors: [dirk, jp] date: 2023-08-29 image: ./img/hero.png tags: ['search', 'engineering', 'concepts'] description: \"How hybrid search works, and under the hood of Weaviate's fusion algorithms.\" --- ![Hybrid search hero image - shows a combination of results from vector and keyword search](./img/hero.png) :::info Highlights - There are two fusion algorithms available in Weaviate: `rankedFusion` and `relativeScoreFusion`. - `rankedFusion` is the default algorithm. - `relativeScoreFusion` is the newer algorithm, and likely the better choice for most. - We would love to get your feedback on hybrid search. Please fill out [this short survey](https://docs.google.com/forms/d/e/1FAIpQLSfxekC2eh5Xkl0iJYEAoOkfhK4FA5AO-Od3KUz4srreOpq00g/viewform?usp=sf_link).::: ## How does hybrid search work, exactly? ![Hybrid search main image - a figurative image of Weaviate bot combining results from vector and keyword search to produce hybrid search](./img/hybrid-search-illurated.png) Here is an example of a hybrid search: ```python response = ( client.query .get(\"JeopardyQuestion\", [\"question\", \"answer\"]) .with_hybrid(query=\"food\", alpha=0.5) .with_limit(5) .do() ) ``` As mentioned, a hybrid search is really two searches under-the-hood. It performs a vector search (similar to `nearText` or `nearVector` in Weaviate) to find most similar objects to the vector of your query. Meanwhile, it also performs a keyword search, which ranks results based on how often the query terms occur. In other words, a hybrid search performs both of these searches and combines the results.\n",
      "\n",
      "Reasoning: Let's think step by step in order to\u001b[32m produce the blog outline. We need to start by introducing the concept of Hybrid Search in Weaviate, explaining what it is and why it was introduced. Then, we should delve into the specifics of how it works, including the use of dense and sparse vectors. After that, we can discuss the fusion algorithms used in Weaviate's Hybrid Search, namely 'rankedFusion' and 'relativeScoreFusion'. Finally, we can provide an example of a hybrid search and explain how it combines the results of vector and keyword searches.\n",
      "\n",
      "Blog Outline: Introduction to Hybrid Search in Weaviate, The Working of Hybrid Search, Understanding Dense and Sparse Vectors, Fusion Algorithms in Weaviate's Hybrid Search, Example of a Hybrid Search, Combining Results of Vector and Keyword Searches.\u001b[0m\n",
      "\n",
      "\n",
      "\n"
     ]
    }
   ],
   "source": [
    "gpt4.inspect_history(n=1)"
   ]
  },
  {
   "cell_type": "markdown",
   "id": "0deead35",
   "metadata": {},
   "source": [
    "## Topic to Paragraph"
   ]
  },
  {
   "cell_type": "code",
   "execution_count": 7,
   "id": "88590640",
   "metadata": {},
   "outputs": [],
   "source": [
    "class Topic2Paragraph(dspy.Signature):\n",
    "    \"\"\"\n",
    "    Your task is to write a paragraph that explains a topic based on the retrieved contexts.\n",
    "    \"\"\"\n",
    "    \n",
    "    topic = dspy.InputField(desc=\"A topic to write a paragraph about based on the information in the contexts.\")\n",
    "    contexts = dspy.InputField(desc=\"contains relevant information about the topic.\")\n",
    "    paragraph = dspy.OutputField()"
   ]
  },
  {
   "cell_type": "code",
   "execution_count": 8,
   "id": "ba30b952",
   "metadata": {},
   "outputs": [
    {
     "data": {
      "text/plain": [
       "'Hybrid search in Weaviate is a sophisticated technique that combines multiple search algorithms to enhance the accuracy and relevance of search results. It amalgamates the best features of keyword-based search algorithms and vector search techniques, providing a more effective search experience. In Weaviate, hybrid search uses sparse and dense vectors to encapsulate the meaning and context of search queries and documents. It performs a vector search to find the most similar objects to the vector of your query, and a keyword search, which ranks results based on the frequency of the query terms. The results of these two searches are then combined. Weaviate offers two fusion algorithms for this purpose: `rankedFusion` and `relativeScoreFusion`. This hybrid approach ensures a comprehensive and accurate search result, leveraging the strengths of different algorithms.'"
      ]
     },
     "execution_count": 8,
     "metadata": {},
     "output_type": "execute_result"
    }
   ],
   "source": [
    "toy_topic = \"How does Hybrid Search in Weaviate work?\"\n",
    "toy_topic_context = dspy.Retrieve(k=5)(toy_topic).passages\n",
    "toy_topic_context = \"\".join(toy_topic_context)\n",
    "dspy.ChainOfThought(Topic2Paragraph)(topic=toy_topic, contexts=toy_topic_context).paragraph"
   ]
  },
  {
   "cell_type": "code",
   "execution_count": 9,
   "id": "bce423a5",
   "metadata": {},
   "outputs": [
    {
     "name": "stdout",
     "output_type": "stream",
     "text": [
      "\n",
      "\n",
      "\n",
      "\n",
      "Your task is to write a paragraph that explains a topic based on the retrieved contexts.\n",
      "\n",
      "---\n",
      "\n",
      "Follow the following format.\n",
      "\n",
      "Topic: A topic to write a paragraph about based on the information in the contexts.\n",
      "\n",
      "Contexts: contains relevant information about the topic.\n",
      "\n",
      "Reasoning: Let's think step by step in order to ${produce the paragraph}. We ...\n",
      "\n",
      "Paragraph: ${paragraph}\n",
      "\n",
      "---\n",
      "\n",
      "Topic: How does Hybrid Search in Weaviate work?\n",
      "\n",
      "Contexts: ### Further resources - [How-to: Hybrid search](/developers/weaviate/search/hybrid) - [API References: Hybrid search](/developers/weaviate/api/graphql/search-operators#hybrid)But do you know **how** hybrid search combines these results? And that Weaviate recently added a new algorithm for how this is done? In this post, we’ll dive into exactly the world of hybrid search to discuss how it works, how results are produced, the algorithms used, and more. So let’s get into it! :::info - Vector search and keyword search are also known as dense vector search and sparse vector search respectively. - Keyword search is also called a BM25 search in Weaviate, as it is based on the [BM25F](https://en.wikipedia.org/wiki/Okapi_BM25) scoring algorithm.--- title: Hybrid Search Explained slug: hybrid-search-explained authors: [erika] date: 2023-01-03 tags: ['concepts', 'search'] image: ./img/hero.png description: \"Learn about the new hybrid search feature that enables you to combine dense and sparse vectors to deliver the best of both search methods.\" --- ![Hybrid search](./img/hero.png) <!-- truncate --> Hybrid search is a technique that **combines** multiple search algorithms to improve the accuracy and relevance of search results. It uses the best features of both keyword-based search algorithms with vector search techniques. By leveraging the strengths of different algorithms, it provides a more effective search experience for users. The [Hybrid search](/developers/weaviate/api/graphql/search-operators#hybrid) feature was introduced in Weaviate 1.17. It uses sparse and dense vectors to represent the meaning and context of search queries and documents.--- title: Unlocking the Power of Hybrid Search - A Deep Dive into Weaviate's Fusion Algorithms slug: hybrid-search-fusion-algorithms authors: [dirk, jp] date: 2023-08-29 image: ./img/hero.png tags: ['search', 'engineering', 'concepts'] description: \"How hybrid search works, and under the hood of Weaviate's fusion algorithms.\" --- ![Hybrid search hero image - shows a combination of results from vector and keyword search](./img/hero.png) :::info Highlights - There are two fusion algorithms available in Weaviate: `rankedFusion` and `relativeScoreFusion`. - `rankedFusion` is the default algorithm. - `relativeScoreFusion` is the newer algorithm, and likely the better choice for most. - We would love to get your feedback on hybrid search. Please fill out [this short survey](https://docs.google.com/forms/d/e/1FAIpQLSfxekC2eh5Xkl0iJYEAoOkfhK4FA5AO-Od3KUz4srreOpq00g/viewform?usp=sf_link).::: ## How does hybrid search work, exactly? ![Hybrid search main image - a figurative image of Weaviate bot combining results from vector and keyword search to produce hybrid search](./img/hybrid-search-illurated.png) Here is an example of a hybrid search: ```python response = ( client.query .get(\"JeopardyQuestion\", [\"question\", \"answer\"]) .with_hybrid(query=\"food\", alpha=0.5) .with_limit(5) .do() ) ``` As mentioned, a hybrid search is really two searches under-the-hood. It performs a vector search (similar to `nearText` or `nearVector` in Weaviate) to find most similar objects to the vector of your query. Meanwhile, it also performs a keyword search, which ranks results based on how often the query terms occur. In other words, a hybrid search performs both of these searches and combines the results.\n",
      "\n",
      "Reasoning: Let's think step by step in order to\u001b[32m produce the paragraph. We need to explain what hybrid search is, how it works in Weaviate, and the algorithms it uses. From the contexts, we understand that hybrid search is a technique that combines multiple search algorithms to improve the accuracy and relevance of search results. It uses both keyword-based search algorithms and vector search techniques. In Weaviate, hybrid search uses sparse and dense vectors to represent the meaning and context of search queries and documents. There are two fusion algorithms available in Weaviate: `rankedFusion` and `relativeScoreFusion`. A hybrid search performs a vector search and a keyword search, and combines the results.\n",
      "\n",
      "Paragraph: Hybrid search in Weaviate is a sophisticated technique that combines multiple search algorithms to enhance the accuracy and relevance of search results. It amalgamates the best features of keyword-based search algorithms and vector search techniques, providing a more effective search experience. In Weaviate, hybrid search uses sparse and dense vectors to encapsulate the meaning and context of search queries and documents. It performs a vector search to find the most similar objects to the vector of your query, and a keyword search, which ranks results based on the frequency of the query terms. The results of these two searches are then combined. Weaviate offers two fusion algorithms for this purpose: `rankedFusion` and `relativeScoreFusion`. This hybrid approach ensures a comprehensive and accurate search result, leveraging the strengths of different algorithms.\u001b[0m\n",
      "\n",
      "\n",
      "\n"
     ]
    }
   ],
   "source": [
    "gpt4.inspect_history(n=1)"
   ]
  },
  {
   "cell_type": "markdown",
   "id": "74527504",
   "metadata": {},
   "source": [
    "## Proof Reader Signature"
   ]
  },
  {
   "cell_type": "code",
   "execution_count": 10,
   "id": "40ff10ef",
   "metadata": {},
   "outputs": [],
   "source": [
    "class ProofReader(dspy.Signature):\n",
    "    \"\"\"\n",
    "    Proofread a blog post and output a more well written version of the original post.\n",
    "    \"\"\"\n",
    "    \n",
    "    blog_post = dspy.InputField()\n",
    "    proofread_blog_post = dspy.OutputField()    "
   ]
  },
  {
   "cell_type": "markdown",
   "id": "d873a644",
   "metadata": {},
   "source": [
    "## Title Generator"
   ]
  },
  {
   "cell_type": "code",
   "execution_count": 11,
   "id": "23849aba",
   "metadata": {},
   "outputs": [],
   "source": [
    "class TitleGenerator(dspy.Signature):\n",
    "    \"\"\"\n",
    "    Write a title for a blog post given a description of the topics the blog covers as input.\n",
    "    \"\"\"\n",
    "    \n",
    "    blog_outline = dspy.InputField()\n",
    "    title = dspy.OutputField()"
   ]
  },
  {
   "cell_type": "markdown",
   "id": "44e0741d",
   "metadata": {},
   "source": [
    "## Piecing it all together"
   ]
  },
  {
   "cell_type": "code",
   "execution_count": 12,
   "id": "f015d133",
   "metadata": {},
   "outputs": [],
   "source": [
    "class BlogPostWriter(dspy.Module):\n",
    "    def __init__(self):\n",
    "        self.question_to_blog_outline = dspy.ChainOfThought(Question2BlogOutline)\n",
    "        self.topic_to_paragraph = dspy.ChainOfThought(Topic2Paragraph)\n",
    "        self.proof_reader = dspy.ChainOfThought(ProofReader)\n",
    "        self.title_generator = dspy.ChainOfThought(TitleGenerator)\n",
    "    \n",
    "    def forward(self, question):\n",
    "        contexts = dspy.Retrieve(k=5)(question).passages\n",
    "        contexts = \"\".join(contexts)\n",
    "        raw_blog_outline = self.question_to_blog_outline(question=question, context=contexts).blog_outline\n",
    "        blog_outline = raw_blog_outline.split(\",\") #Add type hint in expanded Signature\n",
    "        blog = \"\"\n",
    "        for topic in blog_outline:\n",
    "            topic_contexts = dspy.Retrieve(k=5)(topic).passages\n",
    "            topic_contexts = \"\".join(topic_contexts)\n",
    "            blog += self.topic_to_paragraph(topic=topic, contexts=topic_contexts).paragraph\n",
    "            blog += \"\\n \\n\"\n",
    "        blog = self.proof_reader(blog_post=blog).proofread_blog_post\n",
    "        title = self.title_generator(blog_outline=raw_blog_outline).title\n",
    "        final_blog = f\"{title} \\n \\n {blog}\"\n",
    "        return dspy.Prediction(blog=final_blog)"
   ]
  },
  {
   "cell_type": "code",
   "execution_count": 13,
   "id": "4d80b210",
   "metadata": {},
   "outputs": [
    {
     "name": "stdout",
     "output_type": "stream",
     "text": [
      "\"Exploring Hybrid Search in Weaviate: A Deep Dive into Machine Learning and Its Benefits\" \n",
      " \n",
      " Weaviate is an open-source, cloud-native, modular, real-time vector database designed to scale machine learning models. Unique in its ability to store not only data but also its automatically derived context, Weaviate creates a network of knowledge or a data graph. Its modularity allows for a wide range of applications, and it is agnostic of how vectors are generated. The Weaviate community offers various resources for learning and collaboration, including a YouTube channel, a blog, a dedicated Hacktoberfest channel in their community forum, and a Slack channel. They also provide a quickstart guide and other documentation for those interested in using Weaviate.\n",
      "\n",
      "One of Weaviate's key features is its hybrid search capability. This powerful technique combines multiple search algorithms to enhance the accuracy and relevance of search results. It leverages the strengths of both keyword-based search algorithms and vector search techniques, using sparse and dense vectors to encapsulate the meaning and context of search queries and documents. The hybrid search process involves converting the search query into a vector, similar to the data vectors, and using the distance value to determine the similarity or dissimilarity between the vectors. In Weaviate, two fusion algorithms are available for hybrid search: `rankedFusion` and `relativeScoreFusion`, providing flexibility and efficiency in delivering search results.\n",
      "\n",
      "Machine learning plays a crucial role in hybrid search. It is employed to vectorize text on sites and in links, a process that occurs within machine learning models like transformers. This vectorization aids in comprehending the text being searched. Machine learning systems automatically categorize text in hypervolumes, which are imaginary spaces with hundreds or even thousands of dimensions, forming a representation of the item in the database. Furthermore, machine learning enables text search over datasets of video or mixed media, a capability facilitated by vector and hybrid search. Thus, machine learning significantly contributes to the effectiveness and versatility of hybrid search.\n",
      "\n",
      "In conclusion, Weaviate's hybrid search offers a \"best-of-both-worlds\" capability, using the strengths of vector and keyword search to deliver semantically rich results while respecting the precision of keyword searches. The introduction of `relativeScoreFusion` and `rankedFusion` algorithms further expands Weaviate's hybrid search capabilities, enhancing its ability to represent the meaning and context of search queries and documents. By using hybrid search, users can benefit from the semantic flexibility of vector search and the precision of keyword search, resulting in more accurate and relevant search results.\n"
     ]
    }
   ],
   "source": [
    "hybrid_search_topic = \"How does Hybrid Search in Weaviate work?\"\n",
    "hybrid_search_blog = BlogPostWriter()(hybrid_search_topic)\n",
    "print(hybrid_search_blog.blog)"
   ]
  },
  {
   "cell_type": "code",
   "execution_count": 14,
   "id": "e9a946c6",
   "metadata": {},
   "outputs": [
    {
     "name": "stdout",
     "output_type": "stream",
     "text": [
      "\"Leveraging Weaviate for e-Commerce: Capabilities, Benefits, and Future Prospects\" \n",
      " \n",
      " Weaviate is an open-source, cloud-native, modular, real-time vector database designed to scale machine learning models. It uniquely stores not only data but also its automatically derived context, including linguistic information and relations to other concepts, resulting in a knowledge network or data graph. Weaviate's modularity allows it to cover a wide range of applications and it is agnostic of how vectors are generated. \n",
      "\n",
      "The Weaviate community offers various resources for learning and collaboration, including a YouTube channel, a blog, a dedicated Hacktoberfest channel in their community forum, and a Slack channel. They also provide a quickstart guide and other documentation for those interested in using Weaviate. \n",
      "\n",
      "Weaviate combines the speed and capabilities of Approximate Nearest Neighbors (ANN) algorithms with the features of a traditional database, such as backups, real-time queries, persistence, and replication. It can be accessed through GraphQL, REST, and client libraries in multiple programming languages. It is particularly useful for applications where data is constantly changing, such as e-commerce recommendations, image search, and semantic similarity. \n",
      "\n",
      "In the context of e-commerce, Weaviate offers a unique module that represents a user's interests by drawing a graph of cross-references, enhancing the robustness of the application. It also offers automatic classification, reducing manual errors in fields like ERP and supply chain management systems. \n",
      "\n",
      "Weaviate supports full CRUD capabilities, as well as mutability of its indices, making it a real-time vector database. It processes data through machine learning models, making it adaptable to searching images or even genetic information. \n",
      "\n",
      "Being an open-source platform with comprehensive documentation and strong support for popular LLMs and multi-modal models, Weaviate is a preferred choice for many companies. It allows developers to easily integrate machine learning models using a module system, simplifying the process of building AI-powered applications. \n",
      "\n",
      "The future of Weaviate is bright, with a growing team dedicated to its development and user support. It remains fully open source, encouraging community use and contribution. New features are frequently introduced, enhancing its capabilities and user experience. Weaviate has already been successfully implemented in various projects, showcasing its potential in the AI realm. Despite its success, the team acknowledges room for improvement and welcomes user feedback to further refine and enhance Weaviate.\n"
     ]
    }
   ],
   "source": [
    "ecommerce_topic = \"e-Commerce reimagined with Weaviate\"\n",
    "ecommerce_blog = BlogPostWriter()(ecommerce_topic)\n",
    "print(ecommerce_blog.blog)"
   ]
  },
  {
   "cell_type": "markdown",
   "id": "bd102bdb",
   "metadata": {},
   "source": [
    "## BlogRater Program"
   ]
  },
  {
   "cell_type": "code",
   "execution_count": 15,
   "id": "3f542937",
   "metadata": {},
   "outputs": [],
   "source": [
    "class BlogRater(dspy.Signature):\n",
    "    \"\"\"\n",
    "    Rate a blog post on a scale of 1 to 5 on how well-written it is.\n",
    "    \"\"\"\n",
    "    \n",
    "    blog = dspy.InputField(desc=\"a blog post\")\n",
    "    rating = dspy.OutputField(desc=\"a quality rating on a scale of 1 to 5. IMPORTANT!! ONLY OUTPUT THE RATING AS A FLOAT VALUE AND NOTHING ELSE!\")\n",
    "\n",
    "class MetricProgram(dspy.Module):\n",
    "    def __init__(self):\n",
    "        self.rater = dspy.ChainOfThought(BlogRater)\n",
    "    \n",
    "    def forward(self, gold, pred, trace=None):\n",
    "        blog = pred.blog\n",
    "        gold = gold.question\n",
    "        return float(self.rater(blog=blog).rating)\n",
    "\n",
    "def MetricWrapper(gold, pred, trace=None):\n",
    "    return MetricProgram()(gold=gold, pred=pred)"
   ]
  },
  {
   "cell_type": "code",
   "execution_count": 16,
   "id": "4d9373d8",
   "metadata": {},
   "outputs": [
    {
     "data": {
      "text/plain": [
       "4.5"
      ]
     },
     "execution_count": 16,
     "metadata": {},
     "output_type": "execute_result"
    }
   ],
   "source": [
    "MetricProgram()(gold=dspy.Example(question=hybrid_search_topic).with_inputs(\"question\"), pred=hybrid_search_blog)"
   ]
  },
  {
   "cell_type": "code",
   "execution_count": 17,
   "id": "d6048ddc",
   "metadata": {},
   "outputs": [
    {
     "data": {
      "text/plain": [
       "4.5"
      ]
     },
     "execution_count": 17,
     "metadata": {},
     "output_type": "execute_result"
    }
   ],
   "source": [
    "MetricProgram()(gold=dspy.Example(question=ecommerce_topic).with_inputs(\"question\"), pred=ecommerce_blog)"
   ]
  },
  {
   "cell_type": "code",
   "execution_count": 18,
   "id": "ada11a45",
   "metadata": {},
   "outputs": [
    {
     "name": "stdout",
     "output_type": "stream",
     "text": [
      "\n",
      "\n",
      "\n",
      "\n",
      "Proofread a blog post and output a more well written version of the original post.\n",
      "\n",
      "---\n",
      "\n",
      "Follow the following format.\n",
      "\n",
      "Blog Post: ${blog_post}\n",
      "Reasoning: Let's think step by step in order to ${produce the proofread_blog_post}. We ...\n",
      "Proofread Blog Post: ${proofread_blog_post}\n",
      "\n",
      "---\n",
      "\n",
      "Blog Post: Weaviate is an open-source, cloud-native, modular, real-time vector database designed to scale machine learning models. It is unique in its ability to not only store data but also its automatically derived context, which includes linguistic information and relations to other concepts. This results in a network of knowledge or a data graph. Weaviate's modularity allows it to cover a wide range of applications and it is agnostic of how vectors are generated. The Weaviate community offers various resources for learning and collaboration, including a YouTube channel, a blog, and a dedicated Hacktoberfest channel in their community forum and Slack channel. They also provide a quickstart guide and other documentation for those interested in using Weaviate. Weaviate is a cloud-native, modular, real-time vector database that combines the speed and capabilities of Approximate Nearest Neighbors (ANN) algorithms with the features of a traditional database, such as backups, real-time queries, persistence, and replication. It can be accessed through GraphQL, REST, and client libraries in multiple programming languages. Weaviate is particularly useful for applications where data is constantly changing, such as e-commerce recommendations, image search, and semantic similarity. It boasts advanced monitoring and replication capabilities, high query throughput at scale, and unique search features that combine aspects of both keyword and vector search. As an open-source software, Weaviate processes data through machine learning models, making it adaptable to searching images or even genetic information. It supports full CRUD capabilities, as well as mutability of its indices, making it a real-time vector database. Weaviate is a vector database that combines the speed and capabilities of ANN algorithms with the features of a traditional database, such as backups, real-time queries, persistence, and replication. It can be accessed through GraphQL, REST, and client libraries in multiple programming languages. Weaviate is particularly useful in applications where data is constantly changing, such as e-commerce. It can be used for e-commerce recommendations, image search, semantic similarity, and more. Weaviate has a new module that represents a user's interests by drawing a graph of cross-references, enhancing the robustness of the application. It also offers automatic classification, reducing manual errors in fields like ERP and supply chain management systems. Being an open-source platform with comprehensive documentation and strong support for popular LLMs and multi-modal models, Weaviate is a preferred choice for many companies. It allows developers to easily integrate machine learning models using a module system, simplifying the process of building AI-powered applications. Weaviate offers numerous benefits for e-commerce applications. It combines the speed of ANN algorithms with the robust features of a database, making it ideal for real-time queries, persistence, and replication. Its accessibility through multiple programming languages enhances its versatility. As a vector database, Weaviate is particularly beneficial for e-commerce applications where data is constantly changing. It offers a unique module that represents a user's interests, facilitating personalized recommendations. For teams with data science and machine learning experience, Weaviate allows for the import of data objects alongside existing vector positions. For those new to machine learning, Weaviate handles the vectorization, making it accessible to a wider audience. Being an open-source platform, it is high-performing, cost-efficient, and easy to configure, making it a preferred choice for e-commerce applications. Weaviate is a vector database that combines the speed and capabilities of ANN algorithms with the features of a database, and can be accessed through various platforms. It has a unique module that represents a user's interests by drawing a graph of cross-references. In the context of e-commerce, Weaviate can be used for recommendations, image search, and semantic similarity. It can vectorize a user class based on their relationships to other classes, allowing for up-to-date representations of users based on their recent interactions. For instance, if a user clicks on multiple shoe images on an e-commerce store, Weaviate can infer that they are interested in shoes. Furthermore, Weaviate's cross-references enable relations between classes, such as users that \"liked\" a product, providing unique points of reference for each user that can be used to rank search results. Weaviate is a powerful tool that merges the speed and capabilities of ANN algorithms with the features of a traditional database, offering real-time queries, persistence, replication, and backups. It is accessible through GraphQL, REST, and client libraries in multiple programming languages, making it versatile for various applications. Particularly, Weaviate shines in environments where data is constantly changing, making it ideal for e-commerce recommendations, image search, and semantic similarity, among others. The future of Weaviate is bright, with a growing team dedicated to its development and user support. It remains fully open source, encouraging community use and contribution. New features are frequently introduced, enhancing its capabilities and user experience. Weaviate has already been successfully implemented in various projects, showcasing its potential in the AI realm. Despite its success, the team acknowledges room for improvement and welcomes user feedback to further refine and enhance Weaviate.\n",
      "Reasoning: Let's think step by step in order to\u001b[32m produce a more concise and well-structured version of the blog post. We can start by removing repetitive information and consolidating similar points. The blog post repeats the description of Weaviate as a vector database that combines the speed and capabilities of ANN algorithms with the features of a traditional database multiple times. We can also combine the various applications of Weaviate into one section, and the resources offered by the Weaviate community into another. The blog post also mentions Weaviate's use in e-commerce applications multiple times, which can be consolidated into one section. Lastly, we can end the blog post with a conclusion that summarizes the main points and looks towards the future of Weaviate.\n",
      "Proofread Blog Post: Weaviate is an open-source, cloud-native, modular, real-time vector database designed to scale machine learning models. It uniquely stores not only data but also its automatically derived context, including linguistic information and relations to other concepts, resulting in a knowledge network or data graph. Weaviate's modularity allows it to cover a wide range of applications and it is agnostic of how vectors are generated. \n",
      "\n",
      "The Weaviate community offers various resources for learning and collaboration, including a YouTube channel, a blog, a dedicated Hacktoberfest channel in their community forum, and a Slack channel. They also provide a quickstart guide and other documentation for those interested in using Weaviate. \n",
      "\n",
      "Weaviate combines the speed and capabilities of Approximate Nearest Neighbors (ANN) algorithms with the features of a traditional database, such as backups, real-time queries, persistence, and replication. It can be accessed through GraphQL, REST, and client libraries in multiple programming languages. It is particularly useful for applications where data is constantly changing, such as e-commerce recommendations, image search, and semantic similarity. \n",
      "\n",
      "In the context of e-commerce, Weaviate offers a unique module that represents a user's interests by drawing a graph of cross-references, enhancing the robustness of the application. It also offers automatic classification, reducing manual errors in fields like ERP and supply chain management systems. \n",
      "\n",
      "Weaviate supports full CRUD capabilities, as well as mutability of its indices, making it a real-time vector database. It processes data through machine learning models, making it adaptable to searching images or even genetic information. \n",
      "\n",
      "Being an open-source platform with comprehensive documentation and strong support for popular LLMs and multi-modal models, Weaviate is a preferred choice for many companies. It allows developers to easily integrate machine learning models using a module system, simplifying the process of building AI-powered applications. \n",
      "\n",
      "The future of Weaviate is bright, with a growing team dedicated to its development and user support. It remains fully open source, encouraging community use and contribution. New features are frequently introduced, enhancing its capabilities and user experience. Weaviate has already been successfully implemented in various projects, showcasing its potential in the AI realm. Despite its success, the team acknowledges room for improvement and welcomes user feedback to further refine and enhance Weaviate.\u001b[0m\n",
      "\n",
      "\n",
      "\n",
      "\n",
      "\n",
      "\n",
      "\n",
      "Write a title for a blog post given a description of the topics the blog covers as input.\n",
      "\n",
      "---\n",
      "\n",
      "Follow the following format.\n",
      "\n",
      "Blog Outline: ${blog_outline}\n",
      "Reasoning: Let's think step by step in order to ${produce the title}. We ...\n",
      "Title: ${title}\n",
      "\n",
      "---\n",
      "\n",
      "Blog Outline: Introduction to Weaviate, Weaviate's Capabilities, Application of Weaviate in e-Commerce, Benefits of Using Weaviate for e-Commerce, Examples of Weaviate in e-Commerce, Conclusion: The Future of e-Commerce with Weaviate.\n",
      "Reasoning: Let's think step by step in order to\u001b[32m produce the title. We start with an introduction to Weaviate, then we discuss its capabilities. The main focus of the blog is the application of Weaviate in e-Commerce, its benefits, and some examples. We conclude with a look at the future of e-Commerce with Weaviate. Therefore, the title should reflect the main focus which is the use of Weaviate in e-Commerce.\n",
      "Title: \"Leveraging Weaviate for e-Commerce: Capabilities, Benefits, and Future Prospects\"\u001b[0m\n",
      "\n",
      "\n",
      "\n",
      "\n",
      "\n",
      "\n",
      "\n",
      "Rate a blog post on a scale of 1 to 5 on how well-written it is.\n",
      "\n",
      "---\n",
      "\n",
      "Follow the following format.\n",
      "\n",
      "Blog: a blog post\n",
      "Reasoning: Let's think step by step in order to ${produce the rating}. We ...\n",
      "Rating: a quality rating on a scale of 1 to 5. IMPORTANT!! ONLY OUTPUT THE RATING AS A FLOAT VALUE AND NOTHING ELSE!\n",
      "\n",
      "---\n",
      "\n",
      "Blog: \"Exploring Hybrid Search in Weaviate: A Deep Dive into Machine Learning and Its Benefits\" Weaviate is an open-source, cloud-native, modular, real-time vector database designed to scale machine learning models. Unique in its ability to store not only data but also its automatically derived context, Weaviate creates a network of knowledge or a data graph. Its modularity allows for a wide range of applications, and it is agnostic of how vectors are generated. The Weaviate community offers various resources for learning and collaboration, including a YouTube channel, a blog, a dedicated Hacktoberfest channel in their community forum, and a Slack channel. They also provide a quickstart guide and other documentation for those interested in using Weaviate. One of Weaviate's key features is its hybrid search capability. This powerful technique combines multiple search algorithms to enhance the accuracy and relevance of search results. It leverages the strengths of both keyword-based search algorithms and vector search techniques, using sparse and dense vectors to encapsulate the meaning and context of search queries and documents. The hybrid search process involves converting the search query into a vector, similar to the data vectors, and using the distance value to determine the similarity or dissimilarity between the vectors. In Weaviate, two fusion algorithms are available for hybrid search: `rankedFusion` and `relativeScoreFusion`, providing flexibility and efficiency in delivering search results. Machine learning plays a crucial role in hybrid search. It is employed to vectorize text on sites and in links, a process that occurs within machine learning models like transformers. This vectorization aids in comprehending the text being searched. Machine learning systems automatically categorize text in hypervolumes, which are imaginary spaces with hundreds or even thousands of dimensions, forming a representation of the item in the database. Furthermore, machine learning enables text search over datasets of video or mixed media, a capability facilitated by vector and hybrid search. Thus, machine learning significantly contributes to the effectiveness and versatility of hybrid search. In conclusion, Weaviate's hybrid search offers a \"best-of-both-worlds\" capability, using the strengths of vector and keyword search to deliver semantically rich results while respecting the precision of keyword searches. The introduction of `relativeScoreFusion` and `rankedFusion` algorithms further expands Weaviate's hybrid search capabilities, enhancing its ability to represent the meaning and context of search queries and documents. By using hybrid search, users can benefit from the semantic flexibility of vector search and the precision of keyword search, resulting in more accurate and relevant search results.\n",
      "Reasoning: Let's think step by step in order to\u001b[32m produce the rating. We can see that the blog post is well-structured and informative. It provides a detailed explanation of the topic, which is hybrid search in Weaviate, and its benefits. The author uses technical terms appropriately and explains them clearly. The writing style is professional and the language is clear and concise. The blog post also includes a conclusion that summarizes the main points. However, the blog post could have been improved by including more examples or case studies to illustrate the points made. \n",
      "Rating: 4.5\u001b[0m\n",
      "\n",
      "\n",
      "\n",
      "\n",
      "\n",
      "\n",
      "\n",
      "Rate a blog post on a scale of 1 to 5 on how well-written it is.\n",
      "\n",
      "---\n",
      "\n",
      "Follow the following format.\n",
      "\n",
      "Blog: a blog post\n",
      "Reasoning: Let's think step by step in order to ${produce the rating}. We ...\n",
      "Rating: a quality rating on a scale of 1 to 5. IMPORTANT!! ONLY OUTPUT THE RATING AS A FLOAT VALUE AND NOTHING ELSE!\n",
      "\n",
      "---\n",
      "\n",
      "Blog: \"Leveraging Weaviate for e-Commerce: Capabilities, Benefits, and Future Prospects\" Weaviate is an open-source, cloud-native, modular, real-time vector database designed to scale machine learning models. It uniquely stores not only data but also its automatically derived context, including linguistic information and relations to other concepts, resulting in a knowledge network or data graph. Weaviate's modularity allows it to cover a wide range of applications and it is agnostic of how vectors are generated. The Weaviate community offers various resources for learning and collaboration, including a YouTube channel, a blog, a dedicated Hacktoberfest channel in their community forum, and a Slack channel. They also provide a quickstart guide and other documentation for those interested in using Weaviate. Weaviate combines the speed and capabilities of Approximate Nearest Neighbors (ANN) algorithms with the features of a traditional database, such as backups, real-time queries, persistence, and replication. It can be accessed through GraphQL, REST, and client libraries in multiple programming languages. It is particularly useful for applications where data is constantly changing, such as e-commerce recommendations, image search, and semantic similarity. In the context of e-commerce, Weaviate offers a unique module that represents a user's interests by drawing a graph of cross-references, enhancing the robustness of the application. It also offers automatic classification, reducing manual errors in fields like ERP and supply chain management systems. Weaviate supports full CRUD capabilities, as well as mutability of its indices, making it a real-time vector database. It processes data through machine learning models, making it adaptable to searching images or even genetic information. Being an open-source platform with comprehensive documentation and strong support for popular LLMs and multi-modal models, Weaviate is a preferred choice for many companies. It allows developers to easily integrate machine learning models using a module system, simplifying the process of building AI-powered applications. The future of Weaviate is bright, with a growing team dedicated to its development and user support. It remains fully open source, encouraging community use and contribution. New features are frequently introduced, enhancing its capabilities and user experience. Weaviate has already been successfully implemented in various projects, showcasing its potential in the AI realm. Despite its success, the team acknowledges room for improvement and welcomes user feedback to further refine and enhance Weaviate.\n",
      "Reasoning: Let's think step by step in order to\u001b[32m produce the rating. The blog post is well-structured and informative, providing a comprehensive overview of Weaviate and its applications. It uses clear language and technical terms appropriately, making it accessible to both technical and non-technical readers. The post also includes specific examples of how Weaviate can be used, which helps to illustrate its capabilities. The author also discusses the future prospects of Weaviate, showing that they have a deep understanding of the topic. However, the post could benefit from the inclusion of more visual aids, such as diagrams or screenshots, to break up the text and further illustrate the points being made.\n",
      "Rating: 4.5\u001b[0m\n",
      "\n",
      "\n",
      "\n"
     ]
    }
   ],
   "source": [
    "gpt4.inspect_history(n=4)"
   ]
  },
  {
   "cell_type": "code",
   "execution_count": 19,
   "id": "0951f268",
   "metadata": {},
   "outputs": [],
   "source": [
    "trainset = [\n",
    "    dspy.Example(question=\"What is multi-tenancy?\").with_inputs(\"question\"),\n",
    "    dspy.Example(question=\"What is product quantization?\").with_inputs(\"question\"),\n",
    "    dspy.Example(question=\"How does asynchronous indexing work in Weaviate?\").with_inputs(\"question\"),\n",
    "    dspy.Example(question=\"What are cross encoders?\").with_inputs(\"question\")\n",
    "]\n",
    "testset = [\n",
    "    dspy.Example(question=\"What is a vector database?\").with_inputs(\"question\"),\n",
    "    dspy.Example(question=\"What is HNSW?\").with_inputs(\"question\"),    \n",
    "    dspy.Example(question=\"What can I build with Cohere and Weaviate?\").with_inputs(\"question\"),\n",
    "    dspy.Example(question=\"What is a race condition in database systems?\").with_inputs(\"question\"),\n",
    "    dspy.Example(question=\"How do inverted indexes work?\").with_inputs(\"question\")\n",
    "]"
   ]
  },
  {
   "cell_type": "markdown",
   "id": "27d8622e",
   "metadata": {},
   "source": [
    "##  Evaluate Uncompiled"
   ]
  },
  {
   "cell_type": "code",
   "execution_count": 20,
   "id": "141ef9b3",
   "metadata": {},
   "outputs": [
    {
     "name": "stderr",
     "output_type": "stream",
     "text": [
      "Average Metric: 22.5 / 5  (450.0): 100%|██████████| 5/5 [02:53<00:00, 34.69s/it]\n",
      "/Library/Frameworks/Python.framework/Versions/3.10/lib/python3.10/site-packages/dspy/evaluate/evaluate.py:142: FutureWarning: DataFrame.applymap has been deprecated. Use DataFrame.map instead.\n",
      "  df = df.applymap(truncate_cell)\n"
     ]
    },
    {
     "name": "stdout",
     "output_type": "stream",
     "text": [
      "Average Metric: 22.5 / 5  (450.0%)\n"
     ]
    },
    {
     "data": {
      "text/html": [
       "<style type=\"text/css\">\n",
       "#T_f760b th {\n",
       "  text-align: left;\n",
       "}\n",
       "#T_f760b td {\n",
       "  text-align: left;\n",
       "}\n",
       "#T_f760b_row0_col0, #T_f760b_row0_col1, #T_f760b_row0_col2, #T_f760b_row1_col0, #T_f760b_row1_col1, #T_f760b_row1_col2, #T_f760b_row2_col0, #T_f760b_row2_col1, #T_f760b_row2_col2, #T_f760b_row3_col0, #T_f760b_row3_col1, #T_f760b_row3_col2, #T_f760b_row4_col0, #T_f760b_row4_col1, #T_f760b_row4_col2 {\n",
       "  text-align: left;\n",
       "  white-space: pre-wrap;\n",
       "  word-wrap: break-word;\n",
       "  max-width: 400px;\n",
       "}\n",
       "</style>\n",
       "<table id=\"T_f760b\">\n",
       "  <thead>\n",
       "    <tr>\n",
       "      <th class=\"blank level0\" >&nbsp;</th>\n",
       "      <th id=\"T_f760b_level0_col0\" class=\"col_heading level0 col0\" >question</th>\n",
       "      <th id=\"T_f760b_level0_col1\" class=\"col_heading level0 col1\" >blog</th>\n",
       "      <th id=\"T_f760b_level0_col2\" class=\"col_heading level0 col2\" >MetricWrapper</th>\n",
       "    </tr>\n",
       "  </thead>\n",
       "  <tbody>\n",
       "    <tr>\n",
       "      <th id=\"T_f760b_level0_row0\" class=\"row_heading level0 row0\" >0</th>\n",
       "      <td id=\"T_f760b_row0_col0\" class=\"data row0 col0\" >What is a vector database?</td>\n",
       "      <td id=\"T_f760b_row0_col1\" class=\"data row0 col1\" >\"Vector Databases: Understanding and Applying Vector Data\" A vector database is a specialized type of database that indexes, stores, and provides access to both structured...</td>\n",
       "      <td id=\"T_f760b_row0_col2\" class=\"data row0 col2\" >4.8</td>\n",
       "    </tr>\n",
       "    <tr>\n",
       "      <th id=\"T_f760b_level0_row1\" class=\"row_heading level0 row1\" >1</th>\n",
       "      <td id=\"T_f760b_row1_col0\" class=\"data row1 col0\" >What is HNSW?</td>\n",
       "      <td id=\"T_f760b_row1_col1\" class=\"data row1 col1\" >\"Understanding HNSW: From Small-World Phenomenon to Practical Applications\" Hierarchical Navigable Small World (HNSW) is a type of vector index that is primarily used for vector...</td>\n",
       "      <td id=\"T_f760b_row1_col2\" class=\"data row1 col2\" >4.5</td>\n",
       "    </tr>\n",
       "    <tr>\n",
       "      <th id=\"T_f760b_level0_row2\" class=\"row_heading level0 row2\" >2</th>\n",
       "      <td id=\"T_f760b_row2_col0\" class=\"data row2 col0\" >What can I build with Cohere and Weaviate?</td>\n",
       "      <td id=\"T_f760b_row2_col1\" class=\"data row2 col1\" >\"Exploring Cohere and Weaviate: Features, Applications, and Building Your Own\" Cohere is an AI platform specializing in Large Language Models (LLMs) for text generation and...</td>\n",
       "      <td id=\"T_f760b_row2_col2\" class=\"data row2 col2\" >4.2</td>\n",
       "    </tr>\n",
       "    <tr>\n",
       "      <th id=\"T_f760b_level0_row3\" class=\"row_heading level0 row3\" >3</th>\n",
       "      <td id=\"T_f760b_row3_col0\" class=\"data row3 col0\" >What is a race condition in database systems?</td>\n",
       "      <td id=\"T_f760b_row3_col1\" class=\"data row3 col1\" >\"Understanding and Preventing Race Conditions in Database Systems: A Comprehensive Guide\" Race conditions are a type of bug that can occur in parallel computing, where...</td>\n",
       "      <td id=\"T_f760b_row3_col2\" class=\"data row3 col2\" >4.5</td>\n",
       "    </tr>\n",
       "    <tr>\n",
       "      <th id=\"T_f760b_level0_row4\" class=\"row_heading level0 row4\" >4</th>\n",
       "      <td id=\"T_f760b_row4_col0\" class=\"data row4 col0\" >How do inverted indexes work?</td>\n",
       "      <td id=\"T_f760b_row4_col1\" class=\"data row4 col1\" >\"Inverted Indexes: Understanding Their Importance, Construction, and Applications\" An inverted index is a critical component in databases, particularly used to power searches and provide efficient...</td>\n",
       "      <td id=\"T_f760b_row4_col2\" class=\"data row4 col2\" >4.5</td>\n",
       "    </tr>\n",
       "  </tbody>\n",
       "</table>\n"
      ],
      "text/plain": [
       "<pandas.io.formats.style.Styler at 0x13a79c8e0>"
      ]
     },
     "metadata": {},
     "output_type": "display_data"
    },
    {
     "data": {
      "text/plain": [
       "450.0"
      ]
     },
     "execution_count": 20,
     "metadata": {},
     "output_type": "execute_result"
    }
   ],
   "source": [
    "from dspy.evaluate.evaluate import Evaluate\n",
    "\n",
    "evaluate = Evaluate(devset=testset, num_threads=1, display_progress=True, display_table=5)\n",
    "\n",
    "evaluate(BlogPostWriter(), metric=MetricWrapper)"
   ]
  },
  {
   "cell_type": "markdown",
   "id": "a5aa4d5c",
   "metadata": {},
   "source": [
    "## Compile"
   ]
  },
  {
   "cell_type": "code",
   "execution_count": 21,
   "id": "863f6c4a",
   "metadata": {},
   "outputs": [
    {
     "name": "stderr",
     "output_type": "stream",
     "text": [
      " 25%|███████████▎                                 | 1/4 [00:01<00:03,  1.27s/it]"
     ]
    },
    {
     "name": "stdout",
     "output_type": "stream",
     "text": [
      "Bootstrapped 1 full traces after 2 examples in round 0.\n"
     ]
    },
    {
     "name": "stderr",
     "output_type": "stream",
     "text": [
      "\n"
     ]
    }
   ],
   "source": [
    "from dspy.teleprompt import BootstrapFewShot\n",
    "\n",
    "teleprompter = BootstrapFewShot(metric=MetricWrapper, max_bootstrapped_demos=1,max_rounds=1)\n",
    "\n",
    "# also common to init here, e.g. Rag()\n",
    "compiled_blog_writer = teleprompter.compile(BlogPostWriter(), trainset=trainset)"
   ]
  },
  {
   "cell_type": "markdown",
   "id": "e759de60",
   "metadata": {},
   "source": [
    "## Save Compiled Program"
   ]
  },
  {
   "cell_type": "code",
   "execution_count": 22,
   "id": "3650d101",
   "metadata": {},
   "outputs": [],
   "source": [
    "# Save the program\n",
    "compiled_blog_writer.save(\"compiled_blog_writer.json\")"
   ]
  },
  {
   "cell_type": "markdown",
   "id": "d9448bf8",
   "metadata": {},
   "source": [
    "## Load Compiled Program"
   ]
  },
  {
   "cell_type": "code",
   "execution_count": 23,
   "id": "630fe1f4",
   "metadata": {},
   "outputs": [],
   "source": [
    "# Load the program\n",
    "compiled_blog_writer = BlogPostWriter()\n",
    "compiled_blog_writer.load(\"compiled_blog_writer.json\")"
   ]
  },
  {
   "cell_type": "markdown",
   "id": "a698a262",
   "metadata": {},
   "source": [
    "## LGTM Test"
   ]
  },
  {
   "cell_type": "code",
   "execution_count": 24,
   "id": "ef34cae1",
   "metadata": {},
   "outputs": [
    {
     "name": "stdout",
     "output_type": "stream",
     "text": [
      "\"Exploring Self-Driving Databases: AI Integration, Benefits, and Their Role in IT Automation\" \n",
      " \n",
      " Self-driving databases represent the third wave of AI-first database technology. These databases, which store data indexed by machine learning models, are capable of brilliantly answering queries posed in natural language. However, their capabilities extend beyond text searches, as they can also be used to search anything from images to DNA. Much of the software involved in these databases is open source, allowing for transparency and customization to meet specific user needs. Self-driving databases are characterized by their consistency, resiliency, and scalability, making them a key component in the future of database technology. These databases use AI and machine learning to process, store, and search through data. AI can also generate code snippets based on user requirements, creating a feedback loop with tests to improve the code over time. However, the use of AI and machine learning in databases also raises privacy concerns due to the sensitive information often contained in training datasets. To address these concerns, the field of privacy-preserving machine learning has emerged, offering techniques and tools that allow for the secure execution of large language models while protecting the confidentiality of sensitive data. The IT industry is witnessing a significant trend towards automation, evident in various areas such as data ingestion, autonomous AI assistants, ERP and supply chain management systems, and cybersecurity and event management. Automation is being leveraged to reduce manual errors, eliminate the need for expensive, single-use applications, and enable real-time intervention on threats. Self-driving databases are a part of this automation trend, utilizing artificial intelligence to manage and retrieve data more efficiently than traditional databases. These databases are specifically designed to store, manage, and retrieve vector embeddings, making them highly efficient and effective. They automate tasks such as code generation and data management, increasing efficiency and reducing the potential for human error. Despite the challenges of shifting towards automation, such as the need for investment in high-performance hardware and extensive technical expertise, the potential benefits make it a key focus in the IT industry.\n"
     ]
    }
   ],
   "source": [
    "print(compiled_blog_writer(\"What is a Self-Driving Database?\").blog)"
   ]
  },
  {
   "cell_type": "code",
   "execution_count": 25,
   "id": "86a58a14",
   "metadata": {},
   "outputs": [
    {
     "name": "stdout",
     "output_type": "stream",
     "text": [
      "\n",
      "\n",
      "\n",
      "\n",
      "Write a title for a blog post given a description of the topics the blog covers as input.\n",
      "\n",
      "---\n",
      "\n",
      "Follow the following format.\n",
      "\n",
      "Blog Outline: ${blog_outline}\n",
      "Reasoning: Let's think step by step in order to ${produce the title}. We ...\n",
      "Title: ${title}\n",
      "\n",
      "---\n",
      "\n",
      "Blog Outline: Definition of Multi-Tenancy, Benefits of Multi-Tenancy, Comparison between Multi-Tenancy and Single-Tenancy, Technical Aspects of Multi-Tenancy, Examples of Multi-Tenancy in Real-World Applications.\n",
      "Reasoning: Let's think step by step in order to\u001b[32m produce the title. We are discussing the concept of Multi-Tenancy, its benefits, and how it compares to Single-Tenancy. We are also delving into its technical aspects and providing real-world examples. Therefore, the title should reflect all these aspects.\n",
      "Title: \"Understanding Multi-Tenancy: Benefits, Comparison with Single-Tenancy, Technical Insights, and Real-World Examples\"\u001b[0m\n",
      "\n",
      "\n",
      "\n",
      "\n",
      "\n",
      "\n",
      "\n",
      "Rate a blog post on a scale of 1 to 5 on how well-written it is.\n",
      "\n",
      "---\n",
      "\n",
      "Follow the following format.\n",
      "\n",
      "Blog: a blog post\n",
      "Reasoning: Let's think step by step in order to ${produce the rating}. We ...\n",
      "Rating: a quality rating on a scale of 1 to 5. IMPORTANT!! ONLY OUTPUT THE RATING AS A FLOAT VALUE AND NOTHING ELSE!\n",
      "\n",
      "---\n",
      "\n",
      "Blog: \"Understanding Multi-Tenancy: Benefits, Comparison with Single-Tenancy, Technical Insights, and Real-World Examples\" Multi-tenancy is a concept in software architecture where a single instance of a software application serves multiple users or user groups, known as tenants. This approach is fundamental to how businesses with a diverse range of customers scale their operations. In technical terms, a tenant key, a user-defined property in the schema, is required for every operation in a multi-tenancy setup. Multi-tenancy offers several benefits that make it an attractive feature for businesses. One of the main advantages is its ease of use; all that changes is the specification of the tenant key for every operation. This allows businesses to continue using their favorite features without any major alterations. It also promotes cost-efficiency by eliminating the need for a large setup that is idle most of the time. Multi-tenancy can handle tenants of vastly different sizes, catering to both large and small customers. It is also fast, as narrowing a request down to a single tenant does not require much work. Onboarding and offboarding are made easy, ensuring that adding or removing a business does not impose a significant computational load. Resource boundaries are maintained, preventing the activities of one tenant from interfering with another. For instance, ACME Accounting, a company with a diverse range of customers, uses a multi-tenancy setup to efficiently manage its resources. The company requires a system that can quickly process requests from millions of tenants, easily onboard new customers, and set resource boundaries to prevent interference between tenants. Weaviate's new version, v1.20, has introduced native multi-tenancy support, allowing businesses to serve multiple distinct users or user groups from a single application. This version can scale to millions of tenants with tens of thousands of active tenants per node, emphasizing compliance and a smooth user experience. Therefore, multi-tenancy is not just an additional feature, but a rethinking of how a business with many customers can scale efficiently.\n",
      "Reasoning: Let's think step by step in order to\u001b[32m produce the rating. The blog post is well-structured and informative. It provides a clear definition of multi-tenancy and explains its benefits in a straightforward manner. The use of a real-world example helps to illustrate the concept and its application in a practical context. The language used is professional and appropriate for the subject matter. The post also introduces a new version of a product, providing relevant information for potential users. The blog post is well-written and achieves its purpose of educating the reader about multi-tenancy.\n",
      "Rating: 4.5\u001b[0m\n",
      "\n",
      "\n",
      "\n",
      "\n",
      "\n",
      "\n",
      "\n",
      "Your task is to write a blog post that will help answer the given question. Please use the contexts to evaluate the structure of the blog post.\n",
      "\n",
      "---\n",
      "\n",
      "Follow the following format.\n",
      "\n",
      "Question: ${question}\n",
      "\n",
      "Contexts: ${contexts}\n",
      "\n",
      "Reasoning: Let's think step by step in order to ${produce the blog_outline}. We ...\n",
      "\n",
      "Blog Outline: A comma separated list of topics.\n",
      "\n",
      "---\n",
      "\n",
      "Question: What is multi-tenancy?\n",
      "\n",
      "Contexts: Multi-tenancy is an architecture in which a single instance of a software application serves multiple customers. Each customer is called a tenant. Tenants may be given the ability to customize some parts of the application, such as the color of the user interface (UI) or business rules, but they cannot customize the application's code. Multi-tenancy can be economical because software development and maintenance costs are shared. It can be contrasted with single-tenancy, an architecture in which each customer has their own software instance and may be given access to code. With a multitenant architecture, a software application is designed to virtually partition its data and configuration, and each client works with a customized virtual application.\n",
      "\n",
      "Reasoning: Let's think step by step in order to produce the blog outline. We should start by defining what multi-tenancy is, then explain its benefits and how it differs from single-tenancy. We can then delve into the technical aspects of multi-tenancy, explaining how a software application is designed to virtually partition its data and configuration. Finally, we can discuss some examples of multi-tenancy in real-world applications.\n",
      "\n",
      "Blog Outline: Definition of Multi-Tenancy, Benefits of Multi-Tenancy, Comparison between Multi-Tenancy and Single-Tenancy, Technical Aspects of Multi-Tenancy, Examples of Multi-Tenancy in Real-World Applications.\n",
      "\n",
      "---\n",
      "\n",
      "Question: What is a Self-Driving Database?\n",
      "\n",
      "Contexts:\u001b[32m A self-driving database is a cloud-based technology that uses artificial intelligence (AI) and machine learning algorithms to automate database management tasks that are traditionally performed by database administrators. This includes tasks such as tuning, patching, updating, and backing up the database. The goal of a self-driving database is to eliminate human error, reduce costs, and free up time for database administrators to focus on more strategic tasks. Self-driving databases are part of a larger trend towards automation in the IT industry.\n",
      "\n",
      "Reasoning: Let's think step by step in order to produce the blog outline. We should start by defining what a self-driving database is, then explain how it uses AI and machine learning to automate tasks. We can then discuss the benefits of a self-driving database, such as eliminating human error and reducing costs. Finally, we can discuss the larger trend towards automation in the IT industry and how self-driving databases fit into this trend.\n",
      "\n",
      "Blog Outline: Definition of a Self-Driving Database, How Self-Driving Databases Use AI and Machine Learning, Benefits of a Self-Driving Database, The Trend Towards Automation in the IT Industry, How Self-Driving Databases Fit Into the Automation Trend.\u001b[0m\n",
      "\n",
      "\n",
      "\n",
      "\n",
      "\n",
      "\n",
      "\n",
      "Your task is to write a paragraph that explains a topic based on the retrieved contexts.\n",
      "\n",
      "---\n",
      "\n",
      "Follow the following format.\n",
      "\n",
      "Topic: A topic to write a paragraph about based on the information in the contexts.\n",
      "\n",
      "Contexts: contains relevant information about the topic.\n",
      "\n",
      "Reasoning: Let's think step by step in order to ${produce the paragraph}. We ...\n",
      "\n",
      "Paragraph: ${paragraph}\n",
      "\n",
      "---\n",
      "\n",
      "Topic: Definition of Multi-Tenancy\n",
      "\n",
      "Contexts: But if you have a multi-tenancy case, all you need to do is select multi-tenancy for your class (or classes). You can keep using all your favorite features, including super-fast queries, cross-references, and replication. The only change? For every operation, specify the tenant key – a user-defined property in your schema. That’s all that changes.Weaviate `v1.20` - coming in July 2023 - changes this once and for all: Native multi-tenancy support that scales to millions of tenants with 10s of thousands of active tenants per node. Yet scale is not the only point that makes the new multi-tenancy feature great; we put a lot of emphasis on compliance and a smooth UX. GDPR-compliant deletes with one command are just one of the many features. Let me walk you through what’s coming in the next Weaviate release and show you why I’m incredibly excited about this one. ## The need for multi-tenancy We define multi-tenancy as the need to serve multiple distinct users or user groups from a single application.## No more workarounds: Native multi-tenancy support for the largest of cases ![multi-tenancy](./img/multi-tenancy-dark.png#gh-dark-mode-only) ![multi-tenancy](./img/multi-tenancy-light.png#gh-light-mode-only) Let me walk you through the best parts of the native multi-tenancy feature in Weaviate `v1.20` and even some of the plans that we have for upcoming releases. As you will see, Multi-Tenancy is not just an additional feature. It is rethinking from the ground up how your business, with its many customers, scales with Weaviate. ### Ease of use of your favorite Weaviate features Weaviate’s new multi-tenancy mode is opt-in. If you don’t require it, there are no changes for you.* **Cost-efficiency**: With usage peaking around tax season but most tenants inactive for many days of the month, ACME shouldn’t have to pay for a large setup that is essentially idle most of the time. * **Diversity of tenants**: ACME has both large and small customers. Their setup needs to be able to handle tenants of vastly different sizes. While most tenants are small, a few tenants can make up a large bulk of the data. ## A time before multi-tenancy support Before Weaviate `v1.20`, you had two options to model a multi-tenancy landscape.--- title: Multi-Tenancy Vector Search with millions of tenants slug: multi-tenancy-vector-search authors: [etienne] date: 2023-06-15 image: ./img/hero.png tags: ['engineering', 'concepts'] description: \"Learn about the new native multi-tenancy feature\" --- ![Multi-Tenancy ](./img/hero.png) <!-- truncate --> Large-scale setups were always a great reason to choose Weaviate. Last year we wrote about the first time [a Weaviate setup ran with a billion objects & vectors](/blog/sphere-dataset-in-weaviate). What was a mere experiment back then is a regular production case today. But earlier this year, we saw a shift in usage patterns: As we onboarded more and more large-scale and enterprise users, the definition of scale shifted from the number of vectors to the number of individual tenants that can run on a single setup. Previously, Weaviate offered multiple ways to tackle multi-tenancy, but none were intended for a massive scale.\n",
      "\n",
      "Reasoning: Let's think step by step in order to produce the paragraph. We first need to define what multi-tenancy is. From the context, we understand that multi-tenancy is the need to serve multiple distinct users or user groups from a single application. We also learn that multi-tenancy is not just an additional feature, but a rethinking of how a business scales with its many customers. The context also mentions that multi-tenancy is user-defined and requires the specification of a tenant key for every operation. Finally, we understand that multi-tenancy is cost-efficient and can handle tenants of vastly different sizes.\n",
      "\n",
      "Paragraph: Multi-tenancy is defined as the need to serve multiple distinct users or user groups from a single application. It is not just an additional feature, but a fundamental rethinking of how a business, with its many customers, scales. In a multi-tenancy case, a user-defined property in the schema, known as the tenant key, needs to be specified for every operation. This approach to handling multiple users or user groups is not only cost-efficient but also capable of managing tenants of vastly different sizes. Therefore, multi-tenancy is a crucial aspect of modern application design and deployment, particularly for businesses looking to scale efficiently and effectively.\n",
      "\n",
      "---\n",
      "\n",
      "Topic: Definition of a Self-Driving Database\n",
      "\n",
      "Contexts: This leads to the simplest definition of a third database wave: A vector database that stores data indexed by machine learning models. Different types of databases (e.g., vector search engines) allow users to search through these vectorized datasets, and others (e.g., feature stores) allow users to store vectors at a large scale for later use. ## We're awash in unstructured data. We're living in a time of massive data accumulation and much, if not most of it, is unstructured: text, photos, video, audio files, as well as other things such as genetic information. Vector search is particularly good at extracting value from such data.What I love about all this work, like self-ask, chain of thought, we're developing new querying languages. This is like us inventing SQL, except that we didn't design the database. The database came into being and we have to figure out how to interact with it. That example I mentioned about the IPython interaction, like that's a, again, it's a new querying language. And I honestly thought the most potent part of the self-ask wasn't even necessarily the self-ask part.--- title: The AI-First Database Ecosystem slug: the-ai-first-database-ecosystem authors: [bob] date: 2022-06-23 tags: ['concepts'] image: ./img/hero.jpeg # canonical-url: https://www.forbes.com/sites/forbestechcouncil/2022/06/23/the-ai-first-database-ecosystem/ # canonical-name: Forbes description: \"Learn about the vision of the AI-First Database Ecosystem, which drives the R&D of the databases of the future.\" --- ![The AI-First Database Ecosystem](./img/hero.jpeg) <!-- truncate --> A new ecosystem of smaller companies is ushering in a \"third wave\" of AI-first database technology. New search engines and databases brilliantly answer queries posed in natural language, but their machine-learning models are not limited to text searches. The same approach can also be used to search anything from images to DNA. Much of the software involved is open source, so it functions transparently and users can customize it to meet their specific needs. Clients can retain control of their data, keeping it safely behind their own firewalls.The authors explore Self-Supervised Learning – a class of learning algorithms that can bootstrap loss functions – as an alternative route to training new models **without** the need for human labeling! Self-Supervised Learning has led to massive advances in generative modeling and representation learning. In this article, we will explain **Span-based Unsupervised Dense Retriever (Spider)**, a recent breakthrough for Self-Supervised representation learning applied to text retrieval in search. ### Results The results Spider achieves are extremely exciting! The headline is that Spider's Zero-Shot Generalization rivals the performance of the Supervised baseline on Supervised evaluation. This means that we take the labeled dataset, divide it into train-test splits, train a Supervised model on this train split, and then evaluate both models on the held-out test split. Although Spider has not been trained on this distribution (Zero-Shot Generalization), it achieves a similar performance to the model which has! The authors further probe this Zero-Shot Generalization across several Open-Domain Question Answering datasets to illustrate how much better these Self-Supervised algorithms are than their Supervised predecessors.* **Consistency. Resiliency and Scaling** Some databases have atomic transactions, others don't support consistency at all. Some databases scale really well in the cloud, others work best as big, single machines. The exact characteristics do not make a database a database. But the fact that the engineers who built it have decided on a specific strategy is a key trait of a database.\n",
      "\n",
      "Reasoning: Let's think step by step in order to\u001b[32m produce the paragraph. We first need to define what a self-driving database is. From the context, we understand that a self-driving database is a vector database that stores data indexed by machine learning models. It is part of the third wave of AI-first database technology. These databases are capable of answering queries posed in natural language and their machine-learning models are not limited to text searches. They can also be used to search anything from images to DNA. The context also mentions that much of the software involved is open source, so it functions transparently and users can customize it to meet their specific needs. Finally, we understand that self-driving databases are consistent, resilient, and scalable.\n",
      "\n",
      "Paragraph: A self-driving database is a vector database that stores data indexed by machine learning models. It represents the third wave of AI-first database technology, capable of brilliantly answering queries posed in natural language. However, the capabilities of these databases extend beyond text searches, as they can also be used to search anything from images to DNA. Much of the software involved in these databases is open source, allowing for transparency and customization to meet specific user needs. Furthermore, self-driving databases are characterized by their consistency, resiliency, and scalability, making them a key component in the future of database technology.\u001b[0m\n",
      "\n",
      "\n",
      "\n",
      "\n",
      "\n",
      "\n",
      "\n",
      "Your task is to write a paragraph that explains a topic based on the retrieved contexts.\n",
      "\n",
      "---\n",
      "\n",
      "Follow the following format.\n",
      "\n",
      "Topic: A topic to write a paragraph about based on the information in the contexts.\n",
      "\n",
      "Contexts: contains relevant information about the topic.\n",
      "\n",
      "Reasoning: Let's think step by step in order to ${produce the paragraph}. We ...\n",
      "\n",
      "Paragraph: ${paragraph}\n",
      "\n",
      "---\n",
      "\n",
      "Topic: Definition of Multi-Tenancy\n",
      "\n",
      "Contexts: But if you have a multi-tenancy case, all you need to do is select multi-tenancy for your class (or classes). You can keep using all your favorite features, including super-fast queries, cross-references, and replication. The only change? For every operation, specify the tenant key – a user-defined property in your schema. That’s all that changes.Weaviate `v1.20` - coming in July 2023 - changes this once and for all: Native multi-tenancy support that scales to millions of tenants with 10s of thousands of active tenants per node. Yet scale is not the only point that makes the new multi-tenancy feature great; we put a lot of emphasis on compliance and a smooth UX. GDPR-compliant deletes with one command are just one of the many features. Let me walk you through what’s coming in the next Weaviate release and show you why I’m incredibly excited about this one. ## The need for multi-tenancy We define multi-tenancy as the need to serve multiple distinct users or user groups from a single application.## No more workarounds: Native multi-tenancy support for the largest of cases ![multi-tenancy](./img/multi-tenancy-dark.png#gh-dark-mode-only) ![multi-tenancy](./img/multi-tenancy-light.png#gh-light-mode-only) Let me walk you through the best parts of the native multi-tenancy feature in Weaviate `v1.20` and even some of the plans that we have for upcoming releases. As you will see, Multi-Tenancy is not just an additional feature. It is rethinking from the ground up how your business, with its many customers, scales with Weaviate. ### Ease of use of your favorite Weaviate features Weaviate’s new multi-tenancy mode is opt-in. If you don’t require it, there are no changes for you.* **Cost-efficiency**: With usage peaking around tax season but most tenants inactive for many days of the month, ACME shouldn’t have to pay for a large setup that is essentially idle most of the time. * **Diversity of tenants**: ACME has both large and small customers. Their setup needs to be able to handle tenants of vastly different sizes. While most tenants are small, a few tenants can make up a large bulk of the data. ## A time before multi-tenancy support Before Weaviate `v1.20`, you had two options to model a multi-tenancy landscape.--- title: Multi-Tenancy Vector Search with millions of tenants slug: multi-tenancy-vector-search authors: [etienne] date: 2023-06-15 image: ./img/hero.png tags: ['engineering', 'concepts'] description: \"Learn about the new native multi-tenancy feature\" --- ![Multi-Tenancy ](./img/hero.png) <!-- truncate --> Large-scale setups were always a great reason to choose Weaviate. Last year we wrote about the first time [a Weaviate setup ran with a billion objects & vectors](/blog/sphere-dataset-in-weaviate). What was a mere experiment back then is a regular production case today. But earlier this year, we saw a shift in usage patterns: As we onboarded more and more large-scale and enterprise users, the definition of scale shifted from the number of vectors to the number of individual tenants that can run on a single setup. Previously, Weaviate offered multiple ways to tackle multi-tenancy, but none were intended for a massive scale.\n",
      "\n",
      "Reasoning: Let's think step by step in order to produce the paragraph. We first need to define what multi-tenancy is. From the context, we understand that multi-tenancy is the need to serve multiple distinct users or user groups from a single application. We also learn that multi-tenancy is not just an additional feature, but a rethinking of how a business scales with its many customers. The context also mentions that multi-tenancy is user-defined and requires the specification of a tenant key for every operation. Finally, we understand that multi-tenancy is cost-efficient and can handle tenants of vastly different sizes.\n",
      "\n",
      "Paragraph: Multi-tenancy is defined as the need to serve multiple distinct users or user groups from a single application. It is not just an additional feature, but a fundamental rethinking of how a business, with its many customers, scales. In a multi-tenancy case, a user-defined property in the schema, known as the tenant key, needs to be specified for every operation. This approach to handling multiple users or user groups is not only cost-efficient but also capable of managing tenants of vastly different sizes. Therefore, multi-tenancy is a crucial aspect of modern application design and deployment, particularly for businesses looking to scale efficiently and effectively.\n",
      "\n",
      "---\n",
      "\n",
      "Topic: How Self-Driving Databases Use AI and Machine Learning\n",
      "\n",
      "Contexts: --- title: The AI-First Database Ecosystem slug: the-ai-first-database-ecosystem authors: [bob] date: 2022-06-23 tags: ['concepts'] image: ./img/hero.jpeg # canonical-url: https://www.forbes.com/sites/forbestechcouncil/2022/06/23/the-ai-first-database-ecosystem/ # canonical-name: Forbes description: \"Learn about the vision of the AI-First Database Ecosystem, which drives the R&D of the databases of the future.\" --- ![The AI-First Database Ecosystem](./img/hero.jpeg) <!-- truncate --> A new ecosystem of smaller companies is ushering in a \"third wave\" of AI-first database technology. New search engines and databases brilliantly answer queries posed in natural language, but their machine-learning models are not limited to text searches. The same approach can also be used to search anything from images to DNA. Much of the software involved is open source, so it functions transparently and users can customize it to meet their specific needs. Clients can retain control of their data, keeping it safely behind their own firewalls.Among a long list of capabilities, first- and second-wave databases have their strengths. For example, some are very good at finding every instance of a certain value in a database, and others are very good at storing time sequences. The third wave of database technologies focuses on data that is processed by a machine learning model first, where the AI models help in processing, storing and searching through the data as opposed to traditional ways. To better understand the concept, think of a supermarket with 50,000 items. Items on display are not organized alphabetically or by price, the way you'd expect a structured, digital system to do it; they're placed in context.However, consistent with Weaviate's commitment to creating truly open-source software, customers using the free service will always be able to access all of the Weaviate's vector database capabilities. Weaviate vector database is an example of a \"third wave\" database technology. Data is processed by a machine learning model first, and AI models help in processing, storing, and searching through the data. As a result, Weaviate excels at answering questions in natural language, but it is not limited to language; it is as adaptable to searching images or even genetic information. > \"Depending on the machine-learning model used, a \"document\"—basically a data object—in a vector database typically has anywhere from 120 to 12,800 dimensions,\" van Luijt explains.Code: AI can generate cod snippets based on the user’s requirements and create a feedback loop with tests to improve the code over time. 3. AutoCAD drawings: AI could create CAD drawings of buildings based on 3D models and store information about the materials available in the environment, making it easier for architects and engineers to design and plan construction projects. 4. Tesla Configuration: The car’s settings could be personalized based on the user’s driving style and preferences, such as choosing a slow and relaxed drive home versus a fast and sporty one.The extensive datasets used in training can often contain sensitive information, leading to privacy concerns. Additionally, the traditional approach of relying on cloud-based services to deploy and conduct inference with these models requires organizations to transfer their data to third-party centralized model providers which can lead to data exposure, data breaches, and unauthorized access. This is the very reason large corporations such as Samsung, Apple, Verizon, JPMorgan and many more have [limited their employees from using these services](https://www.hr-brew.com/stories/2023/05/11/these-companies-have-banned-chatgpt-in-the-office). To leverage the advantages of generative AI while simultaneously addressing these privacy concerns, the field of privacy-preserving machine learning has emerged, offering techniques and tools that allow for the secure execution of large language models while protecting the confidentiality of sensitive data both during model fine-tuning as well as when providing responses grounded in proprietary data. ## Potential Solutions to the Privacy Challenge ### Federated Learning ![Federated](./img/federated.png) Federated Learning enables model training without directly accessing or transferring user data.\n",
      "\n",
      "Reasoning: Let's think step by step in order to\u001b[32m produce the paragraph. We first need to understand how AI and machine learning are used in self-driving databases. From the context, we learn that a new wave of AI-first database technology is emerging, where data is processed by a machine learning model first. AI models assist in processing, storing, and searching through the data. This approach is not limited to text searches but can also be used to search anything from images to DNA. The context also mentions that AI can generate code snippets based on user requirements and create a feedback loop with tests to improve the code over time. Finally, we understand that privacy-preserving machine learning has emerged to address privacy concerns, offering techniques and tools that allow for the secure execution of large language models while protecting the confidentiality of sensitive data.\n",
      "\n",
      "Paragraph: Self-driving databases use AI and machine learning to process, store, and search through data. This new wave of AI-first database technology employs machine learning models to initially process data. These AI models are not limited to text searches but can also search anything from images to DNA, demonstrating their versatility. AI can also generate code snippets based on user requirements, creating a feedback loop with tests to improve the code over time. However, the use of AI and machine learning in databases also raises privacy concerns due to the sensitive information often contained in training datasets. To address these concerns, the field of privacy-preserving machine learning has emerged, offering techniques and tools that allow for the secure execution of large language models while protecting the confidentiality of sensitive data.\u001b[0m\n",
      "\n",
      "\n",
      "\n",
      "\n",
      "\n",
      "\n",
      "\n",
      "Your task is to write a paragraph that explains a topic based on the retrieved contexts.\n",
      "\n",
      "---\n",
      "\n",
      "Follow the following format.\n",
      "\n",
      "Topic: A topic to write a paragraph about based on the information in the contexts.\n",
      "\n",
      "Contexts: contains relevant information about the topic.\n",
      "\n",
      "Reasoning: Let's think step by step in order to ${produce the paragraph}. We ...\n",
      "\n",
      "Paragraph: ${paragraph}\n",
      "\n",
      "---\n",
      "\n",
      "Topic: Definition of Multi-Tenancy\n",
      "\n",
      "Contexts: But if you have a multi-tenancy case, all you need to do is select multi-tenancy for your class (or classes). You can keep using all your favorite features, including super-fast queries, cross-references, and replication. The only change? For every operation, specify the tenant key – a user-defined property in your schema. That’s all that changes.Weaviate `v1.20` - coming in July 2023 - changes this once and for all: Native multi-tenancy support that scales to millions of tenants with 10s of thousands of active tenants per node. Yet scale is not the only point that makes the new multi-tenancy feature great; we put a lot of emphasis on compliance and a smooth UX. GDPR-compliant deletes with one command are just one of the many features. Let me walk you through what’s coming in the next Weaviate release and show you why I’m incredibly excited about this one. ## The need for multi-tenancy We define multi-tenancy as the need to serve multiple distinct users or user groups from a single application.## No more workarounds: Native multi-tenancy support for the largest of cases ![multi-tenancy](./img/multi-tenancy-dark.png#gh-dark-mode-only) ![multi-tenancy](./img/multi-tenancy-light.png#gh-light-mode-only) Let me walk you through the best parts of the native multi-tenancy feature in Weaviate `v1.20` and even some of the plans that we have for upcoming releases. As you will see, Multi-Tenancy is not just an additional feature. It is rethinking from the ground up how your business, with its many customers, scales with Weaviate. ### Ease of use of your favorite Weaviate features Weaviate’s new multi-tenancy mode is opt-in. If you don’t require it, there are no changes for you.* **Cost-efficiency**: With usage peaking around tax season but most tenants inactive for many days of the month, ACME shouldn’t have to pay for a large setup that is essentially idle most of the time. * **Diversity of tenants**: ACME has both large and small customers. Their setup needs to be able to handle tenants of vastly different sizes. While most tenants are small, a few tenants can make up a large bulk of the data. ## A time before multi-tenancy support Before Weaviate `v1.20`, you had two options to model a multi-tenancy landscape.--- title: Multi-Tenancy Vector Search with millions of tenants slug: multi-tenancy-vector-search authors: [etienne] date: 2023-06-15 image: ./img/hero.png tags: ['engineering', 'concepts'] description: \"Learn about the new native multi-tenancy feature\" --- ![Multi-Tenancy ](./img/hero.png) <!-- truncate --> Large-scale setups were always a great reason to choose Weaviate. Last year we wrote about the first time [a Weaviate setup ran with a billion objects & vectors](/blog/sphere-dataset-in-weaviate). What was a mere experiment back then is a regular production case today. But earlier this year, we saw a shift in usage patterns: As we onboarded more and more large-scale and enterprise users, the definition of scale shifted from the number of vectors to the number of individual tenants that can run on a single setup. Previously, Weaviate offered multiple ways to tackle multi-tenancy, but none were intended for a massive scale.\n",
      "\n",
      "Reasoning: Let's think step by step in order to produce the paragraph. We first need to define what multi-tenancy is. From the context, we understand that multi-tenancy is the need to serve multiple distinct users or user groups from a single application. We also learn that multi-tenancy is not just an additional feature, but a rethinking of how a business scales with its many customers. The context also mentions that multi-tenancy is user-defined and requires the specification of a tenant key for every operation. Finally, we understand that multi-tenancy is cost-efficient and can handle tenants of vastly different sizes.\n",
      "\n",
      "Paragraph: Multi-tenancy is defined as the need to serve multiple distinct users or user groups from a single application. It is not just an additional feature, but a fundamental rethinking of how a business, with its many customers, scales. In a multi-tenancy case, a user-defined property in the schema, known as the tenant key, needs to be specified for every operation. This approach to handling multiple users or user groups is not only cost-efficient but also capable of managing tenants of vastly different sizes. Therefore, multi-tenancy is a crucial aspect of modern application design and deployment, particularly for businesses looking to scale efficiently and effectively.\n",
      "\n",
      "---\n",
      "\n",
      "Topic: Benefits of a Self-Driving Database\n",
      "\n",
      "Contexts: ### The appeal of Weakly-Suppervised or Self-Supervised learning techniques The list of datasets from the 1B training pairs challenge illustrates the appeal of Weakly Supervised or Self-Supervised Learning techniques. To contrast, Natural Questions is one of the larger Supervised datasets for the Question Answering Task. Natural Questions (NQ) requires humans to derive questions given a Wikipedia context as input. As a result of this slow process, the dataset contains 100,231 question-context-answer tuples… Which is quite impressive, but much smaller than the ~730 million pairs extracted from Reddit without human intervention. ### Scale vs model fit Large-scale and **expensive** models can achieve remarkable abilities with datasets like 730 million Reddit conversations.What I love about all this work, like self-ask, chain of thought, we're developing new querying languages. This is like us inventing SQL, except that we didn't design the database. The database came into being and we have to figure out how to interact with it. That example I mentioned about the IPython interaction, like that's a, again, it's a new querying language. And I honestly thought the most potent part of the self-ask wasn't even necessarily the self-ask part.Among a long list of capabilities, first- and second-wave databases have their strengths. For example, some are very good at finding every instance of a certain value in a database, and others are very good at storing time sequences. The third wave of database technologies focuses on data that is processed by a machine learning model first, where the AI models help in processing, storing and searching through the data as opposed to traditional ways. To better understand the concept, think of a supermarket with 50,000 items. Items on display are not organized alphabetically or by price, the way you'd expect a structured, digital system to do it; they're placed in context.* **Consistency. Resiliency and Scaling** Some databases have atomic transactions, others don't support consistency at all. Some databases scale really well in the cloud, others work best as big, single machines. The exact characteristics do not make a database a database. But the fact that the engineers who built it have decided on a specific strategy is a key trait of a database.This leads to the simplest definition of a third database wave: A vector database that stores data indexed by machine learning models. Different types of databases (e.g., vector search engines) allow users to search through these vectorized datasets, and others (e.g., feature stores) allow users to store vectors at a large scale for later use. ## We're awash in unstructured data. We're living in a time of massive data accumulation and much, if not most of it, is unstructured: text, photos, video, audio files, as well as other things such as genetic information. Vector search is particularly good at extracting value from such data.\n",
      "\n",
      "Reasoning: Let's think step by step in order to\u001b[32m produce the paragraph. We first need to identify the benefits of a self-driving database from the context. The context mentions that self-driving databases, or third-wave databases, use machine learning models to process, store, and search through data. This is a significant shift from traditional databases and allows for more efficient handling of unstructured data such as text, photos, video, and audio files. The context also highlights the scalability of these databases, which can handle large amounts of data and adapt to different cloud environments. Finally, the context mentions the development of new querying languages, which can be seen as an innovative aspect of self-driving databases.\n",
      "\n",
      "Paragraph: Self-driving databases, also known as third-wave databases, offer several benefits. They utilize machine learning models to process, store, and search through data, which is a significant departure from traditional databases. This approach allows for more efficient management of unstructured data, including text, photos, videos, and audio files. Self-driving databases are also highly scalable, capable of handling large volumes of data and adapting to various cloud environments. Furthermore, the development of new querying languages associated with these databases represents an innovative aspect of their design. These benefits make self-driving databases a powerful tool for managing and extracting value from the vast amounts of data accumulated in the digital age.\u001b[0m\n",
      "\n",
      "\n",
      "\n",
      "\n",
      "\n",
      "\n",
      "\n",
      "Your task is to write a paragraph that explains a topic based on the retrieved contexts.\n",
      "\n",
      "---\n",
      "\n",
      "Follow the following format.\n",
      "\n",
      "Topic: A topic to write a paragraph about based on the information in the contexts.\n",
      "\n",
      "Contexts: contains relevant information about the topic.\n",
      "\n",
      "Reasoning: Let's think step by step in order to ${produce the paragraph}. We ...\n",
      "\n",
      "Paragraph: ${paragraph}\n",
      "\n",
      "---\n",
      "\n",
      "Topic: Definition of Multi-Tenancy\n",
      "\n",
      "Contexts: But if you have a multi-tenancy case, all you need to do is select multi-tenancy for your class (or classes). You can keep using all your favorite features, including super-fast queries, cross-references, and replication. The only change? For every operation, specify the tenant key – a user-defined property in your schema. That’s all that changes.Weaviate `v1.20` - coming in July 2023 - changes this once and for all: Native multi-tenancy support that scales to millions of tenants with 10s of thousands of active tenants per node. Yet scale is not the only point that makes the new multi-tenancy feature great; we put a lot of emphasis on compliance and a smooth UX. GDPR-compliant deletes with one command are just one of the many features. Let me walk you through what’s coming in the next Weaviate release and show you why I’m incredibly excited about this one. ## The need for multi-tenancy We define multi-tenancy as the need to serve multiple distinct users or user groups from a single application.## No more workarounds: Native multi-tenancy support for the largest of cases ![multi-tenancy](./img/multi-tenancy-dark.png#gh-dark-mode-only) ![multi-tenancy](./img/multi-tenancy-light.png#gh-light-mode-only) Let me walk you through the best parts of the native multi-tenancy feature in Weaviate `v1.20` and even some of the plans that we have for upcoming releases. As you will see, Multi-Tenancy is not just an additional feature. It is rethinking from the ground up how your business, with its many customers, scales with Weaviate. ### Ease of use of your favorite Weaviate features Weaviate’s new multi-tenancy mode is opt-in. If you don’t require it, there are no changes for you.* **Cost-efficiency**: With usage peaking around tax season but most tenants inactive for many days of the month, ACME shouldn’t have to pay for a large setup that is essentially idle most of the time. * **Diversity of tenants**: ACME has both large and small customers. Their setup needs to be able to handle tenants of vastly different sizes. While most tenants are small, a few tenants can make up a large bulk of the data. ## A time before multi-tenancy support Before Weaviate `v1.20`, you had two options to model a multi-tenancy landscape.--- title: Multi-Tenancy Vector Search with millions of tenants slug: multi-tenancy-vector-search authors: [etienne] date: 2023-06-15 image: ./img/hero.png tags: ['engineering', 'concepts'] description: \"Learn about the new native multi-tenancy feature\" --- ![Multi-Tenancy ](./img/hero.png) <!-- truncate --> Large-scale setups were always a great reason to choose Weaviate. Last year we wrote about the first time [a Weaviate setup ran with a billion objects & vectors](/blog/sphere-dataset-in-weaviate). What was a mere experiment back then is a regular production case today. But earlier this year, we saw a shift in usage patterns: As we onboarded more and more large-scale and enterprise users, the definition of scale shifted from the number of vectors to the number of individual tenants that can run on a single setup. Previously, Weaviate offered multiple ways to tackle multi-tenancy, but none were intended for a massive scale.\n",
      "\n",
      "Reasoning: Let's think step by step in order to produce the paragraph. We first need to define what multi-tenancy is. From the context, we understand that multi-tenancy is the need to serve multiple distinct users or user groups from a single application. We also learn that multi-tenancy is not just an additional feature, but a rethinking of how a business scales with its many customers. The context also mentions that multi-tenancy is user-defined and requires the specification of a tenant key for every operation. Finally, we understand that multi-tenancy is cost-efficient and can handle tenants of vastly different sizes.\n",
      "\n",
      "Paragraph: Multi-tenancy is defined as the need to serve multiple distinct users or user groups from a single application. It is not just an additional feature, but a fundamental rethinking of how a business, with its many customers, scales. In a multi-tenancy case, a user-defined property in the schema, known as the tenant key, needs to be specified for every operation. This approach to handling multiple users or user groups is not only cost-efficient but also capable of managing tenants of vastly different sizes. Therefore, multi-tenancy is a crucial aspect of modern application design and deployment, particularly for businesses looking to scale efficiently and effectively.\n",
      "\n",
      "---\n",
      "\n",
      "Topic: The Trend Towards Automation in the IT Industry\n",
      "\n",
      "Contexts: We ended the article by presenting a couple of scenarios of when this runs such as Data Ingestion, and the trend towards more autonomous AI assistants. Thank you so much for reading! import WhatNext from '/_includes/what-next.mdx' <WhatNext />ERP (enterprise resource planning) and supply chain management systems rely on correct classification of for example employees' travel expenses or ingredient labeling of product packages. Automatic classification by Weaviate reduces manual classification errors and eliminates expensive, single-to-use classification applications. Automatic classification can also be applied to cybersecurity and event management, where intervention on threats and riskful events should be taken real-time. Current platforms deal with very large amounts of streaming data, consisting of mostly free text. Weaviate can automatically recognize threats in free text, and classify if and which mitigation should be taken.Among a long list of capabilities, first- and second-wave databases have their strengths. For example, some are very good at finding every instance of a certain value in a database, and others are very good at storing time sequences. The third wave of database technologies focuses on data that is processed by a machine learning model first, where the AI models help in processing, storing and searching through the data as opposed to traditional ways. To better understand the concept, think of a supermarket with 50,000 items. Items on display are not organized alphabetically or by price, the way you'd expect a structured, digital system to do it; they're placed in context.This is the main reason the above privateGPT demo with Weaviate might run quite slowly on your own machines. Organizations need to invest in high-performance hardware, such as powerful servers or specialized hardware accelerators, to handle the computational demands. This can result in high upfront costs, ongoing maintenance expenses as well as difficulty scaling quickly if needed. Another disadvantage of bringing the tech stack local is the responsibility of infrastructure maintenance, system administration, security updates as well as machine learning-specific model updates which require extensive technical expertise. For this reason, this solution is great for larger companies like Samsung, Apple, and JPMorgan that have the budget to afford the required compute and expertise, and less so for resource-constrained smaller-scale companies.Code: AI can generate cod snippets based on the user’s requirements and create a feedback loop with tests to improve the code over time. 3. AutoCAD drawings: AI could create CAD drawings of buildings based on 3D models and store information about the materials available in the environment, making it easier for architects and engineers to design and plan construction projects. 4. Tesla Configuration: The car’s settings could be personalized based on the user’s driving style and preferences, such as choosing a slow and relaxed drive home versus a fast and sporty one.\n",
      "\n",
      "Reasoning: Let's think step by step in order to\u001b[32m produce the paragraph. We first need to identify the trend towards automation in the IT industry. From the context, we understand that automation is being applied in various areas such as data ingestion, autonomous AI assistants, ERP and supply chain management systems, cybersecurity and event management, and even in database technologies. The context also mentions that automation can reduce manual errors, eliminate expensive applications, and enable real-time intervention on threats. However, it also highlights that automation requires high-performance hardware and extensive technical expertise, which can be a challenge for smaller companies. Finally, the context provides examples of how AI can automate tasks such as generating code snippets, creating CAD drawings, and personalizing car settings.\n",
      "\n",
      "Paragraph: The IT industry is witnessing a significant trend towards automation. This trend is evident in various areas such as data ingestion, autonomous AI assistants, ERP and supply chain management systems, and cybersecurity and event management. Automation is being leveraged to reduce manual errors, eliminate the need for expensive, single-use applications, and enable real-time intervention on threats. Moreover, the third wave of database technologies is focusing on data processed by machine learning models, further emphasizing the role of automation. However, the shift towards automation comes with its challenges. It requires investment in high-performance hardware and extensive technical expertise, which can be a hurdle for smaller companies. Despite these challenges, the potential of automation is vast. For instance, AI can automate tasks such as generating code snippets, creating CAD drawings based on 3D models, and personalizing car settings based on user preferences. Thus, while the trend towards automation presents certain challenges, its potential benefits make it a key focus in the IT industry.\u001b[0m\n",
      "\n",
      "\n",
      "\n",
      "\n",
      "\n",
      "\n",
      "\n",
      "Your task is to write a paragraph that explains a topic based on the retrieved contexts.\n",
      "\n",
      "---\n",
      "\n",
      "Follow the following format.\n",
      "\n",
      "Topic: A topic to write a paragraph about based on the information in the contexts.\n",
      "\n",
      "Contexts: contains relevant information about the topic.\n",
      "\n",
      "Reasoning: Let's think step by step in order to ${produce the paragraph}. We ...\n",
      "\n",
      "Paragraph: ${paragraph}\n",
      "\n",
      "---\n",
      "\n",
      "Topic: Definition of Multi-Tenancy\n",
      "\n",
      "Contexts: But if you have a multi-tenancy case, all you need to do is select multi-tenancy for your class (or classes). You can keep using all your favorite features, including super-fast queries, cross-references, and replication. The only change? For every operation, specify the tenant key – a user-defined property in your schema. That’s all that changes.Weaviate `v1.20` - coming in July 2023 - changes this once and for all: Native multi-tenancy support that scales to millions of tenants with 10s of thousands of active tenants per node. Yet scale is not the only point that makes the new multi-tenancy feature great; we put a lot of emphasis on compliance and a smooth UX. GDPR-compliant deletes with one command are just one of the many features. Let me walk you through what’s coming in the next Weaviate release and show you why I’m incredibly excited about this one. ## The need for multi-tenancy We define multi-tenancy as the need to serve multiple distinct users or user groups from a single application.## No more workarounds: Native multi-tenancy support for the largest of cases ![multi-tenancy](./img/multi-tenancy-dark.png#gh-dark-mode-only) ![multi-tenancy](./img/multi-tenancy-light.png#gh-light-mode-only) Let me walk you through the best parts of the native multi-tenancy feature in Weaviate `v1.20` and even some of the plans that we have for upcoming releases. As you will see, Multi-Tenancy is not just an additional feature. It is rethinking from the ground up how your business, with its many customers, scales with Weaviate. ### Ease of use of your favorite Weaviate features Weaviate’s new multi-tenancy mode is opt-in. If you don’t require it, there are no changes for you.* **Cost-efficiency**: With usage peaking around tax season but most tenants inactive for many days of the month, ACME shouldn’t have to pay for a large setup that is essentially idle most of the time. * **Diversity of tenants**: ACME has both large and small customers. Their setup needs to be able to handle tenants of vastly different sizes. While most tenants are small, a few tenants can make up a large bulk of the data. ## A time before multi-tenancy support Before Weaviate `v1.20`, you had two options to model a multi-tenancy landscape.--- title: Multi-Tenancy Vector Search with millions of tenants slug: multi-tenancy-vector-search authors: [etienne] date: 2023-06-15 image: ./img/hero.png tags: ['engineering', 'concepts'] description: \"Learn about the new native multi-tenancy feature\" --- ![Multi-Tenancy ](./img/hero.png) <!-- truncate --> Large-scale setups were always a great reason to choose Weaviate. Last year we wrote about the first time [a Weaviate setup ran with a billion objects & vectors](/blog/sphere-dataset-in-weaviate). What was a mere experiment back then is a regular production case today. But earlier this year, we saw a shift in usage patterns: As we onboarded more and more large-scale and enterprise users, the definition of scale shifted from the number of vectors to the number of individual tenants that can run on a single setup. Previously, Weaviate offered multiple ways to tackle multi-tenancy, but none were intended for a massive scale.\n",
      "\n",
      "Reasoning: Let's think step by step in order to produce the paragraph. We first need to define what multi-tenancy is. From the context, we understand that multi-tenancy is the need to serve multiple distinct users or user groups from a single application. We also learn that multi-tenancy is not just an additional feature, but a rethinking of how a business scales with its many customers. The context also mentions that multi-tenancy is user-defined and requires the specification of a tenant key for every operation. Finally, we understand that multi-tenancy is cost-efficient and can handle tenants of vastly different sizes.\n",
      "\n",
      "Paragraph: Multi-tenancy is defined as the need to serve multiple distinct users or user groups from a single application. It is not just an additional feature, but a fundamental rethinking of how a business, with its many customers, scales. In a multi-tenancy case, a user-defined property in the schema, known as the tenant key, needs to be specified for every operation. This approach to handling multiple users or user groups is not only cost-efficient but also capable of managing tenants of vastly different sizes. Therefore, multi-tenancy is a crucial aspect of modern application design and deployment, particularly for businesses looking to scale efficiently and effectively.\n",
      "\n",
      "---\n",
      "\n",
      "Topic: How Self-Driving Databases Fit Into the Automation Trend.\n",
      "\n",
      "Contexts: ### The appeal of Weakly-Suppervised or Self-Supervised learning techniques The list of datasets from the 1B training pairs challenge illustrates the appeal of Weakly Supervised or Self-Supervised Learning techniques. To contrast, Natural Questions is one of the larger Supervised datasets for the Question Answering Task. Natural Questions (NQ) requires humans to derive questions given a Wikipedia context as input. As a result of this slow process, the dataset contains 100,231 question-context-answer tuples… Which is quite impressive, but much smaller than the ~730 million pairs extracted from Reddit without human intervention. ### Scale vs model fit Large-scale and **expensive** models can achieve remarkable abilities with datasets like 730 million Reddit conversations.What I love about all this work, like self-ask, chain of thought, we're developing new querying languages. This is like us inventing SQL, except that we didn't design the database. The database came into being and we have to figure out how to interact with it. That example I mentioned about the IPython interaction, like that's a, again, it's a new querying language. And I honestly thought the most potent part of the self-ask wasn't even necessarily the self-ask part.## How We Got Here First-wave database technology is often called by the acronym SQL—the initials of a ubiquitous query language used to manage relational databases, which are conceptually similar to spreadsheets or tables. Throughout the 1980s, this technology was dominated by companies like Oracle and Microsoft. The second wave of databases is called \"NoSQL\". These are the domain of companies like MongoDB. They store data in different ways, for example, key-value stores, document stores, wide-column stores and graph databases, but what they all have in common is that they're not relational tables.Code: AI can generate cod snippets based on the user’s requirements and create a feedback loop with tests to improve the code over time. 3. AutoCAD drawings: AI could create CAD drawings of buildings based on 3D models and store information about the materials available in the environment, making it easier for architects and engineers to design and plan construction projects. 4. Tesla Configuration: The car’s settings could be personalized based on the user’s driving style and preferences, such as choosing a slow and relaxed drive home versus a fast and sporty one.These databases (like Weaviate) were created specifically to store, manage, and retrieve vector embeddings, and do so faster and more efficiently than traditional databases. While vector search is becoming a popular offering in the database world, many “latched on” solutions don’t meet the requirements of modern AI-native development, from reduced developer experience to problems with speed and accuracy. Which brings us to our next point… ## The market is confusing The AI space is moving fast. And with so many new technologies and vendors, it’s no wonder re:Invent attendees were telling us that they were getting overwhelmed with the options. Luckily, your friendly neighborhood Weaviate crew is here to help.\n",
      "\n",
      "Reasoning: Let's think step by step in order to\u001b[32m produce the paragraph. We first need to understand what self-driving databases are. From the context, we can infer that these are databases that use AI to manage and retrieve data more efficiently than traditional databases. The context also mentions that these databases were created specifically to store, manage, and retrieve vector embeddings. The context also suggests that AI can generate code snippets based on user requirements and create a feedback loop with tests to improve the code over time. This indicates that self-driving databases are part of the automation trend, as they can automate tasks such as code generation and data management.\n",
      "\n",
      "Paragraph: Self-driving databases are a part of the automation trend, utilizing artificial intelligence to manage and retrieve data more efficiently than traditional databases. These databases are specifically designed to store, manage, and retrieve vector embeddings, making them highly efficient and effective. They fit into the automation trend by automating tasks such as code generation and data management. For instance, AI can generate code snippets based on user requirements and create a feedback loop with tests to improve the code over time. This automation not only increases efficiency but also reduces the potential for human error, making self-driving databases a key player in the ongoing trend towards automation in various industries.\u001b[0m\n",
      "\n",
      "\n",
      "\n",
      "\n",
      "\n",
      "\n",
      "\n",
      "Proofread a blog post and output a more well written version of the original post.\n",
      "\n",
      "---\n",
      "\n",
      "Follow the following format.\n",
      "\n",
      "Blog Post: ${blog_post}\n",
      "Reasoning: Let's think step by step in order to ${produce the proofread_blog_post}. We ...\n",
      "Proofread Blog Post: ${proofread_blog_post}\n",
      "\n",
      "---\n",
      "\n",
      "Blog Post: Multi-tenancy is defined as the need to serve multiple distinct users or user groups from a single application. It is not just an additional feature, but a fundamental rethinking of how a business, with its many customers, scales. In a multi-tenancy case, a user-defined property in the schema, known as the tenant key, needs to be specified for every operation. This approach to handling multiple users or user groups is not only cost-efficient but also capable of managing tenants of vastly different sizes. Therefore, multi-tenancy is a crucial aspect of modern application design and deployment, particularly for businesses looking to scale efficiently and effectively. Multi-tenancy offers several benefits that make it an attractive feature for businesses. One of the main advantages is its ease of use; all that changes in a multi-tenancy case is the specification of the tenant key for every operation. This allows businesses to continue using their favorite features without any major alterations. Multi-tenancy also promotes cost-efficiency as it eliminates the need for a large setup that is idle most of the time. It accommodates a diversity of tenants, catering to both large and small customers. Speed is another benefit, as narrowing a request down to a single tenant does not require much work. Onboarding and offboarding are also made easy, ensuring that adding or removing a business does not impose a significant computational load. Resource boundaries are maintained, preventing the activities of one tenant from interfering with another. In Weaviate's new version, multi-tenancy is an opt-in feature, allowing businesses to serve multiple distinct users or user groups from a single application. Multi-tenancy and single-tenancy are two different ways of managing data in a system. In a single-tenancy setup, each tenant has its own dedicated resources, while in a multi-tenancy setup, multiple tenants share the same resources. Multi-tenancy offers several advantages over single-tenancy. It is cost-efficient as it allows for the optimal use of resources, especially when usage peaks at certain times but remains idle for most of the time. It can handle a diverse range of tenants, from large to small, and ensures that the performance of one tenant does not affect others. It also allows for easy onboarding and offboarding of tenants without putting a significant computational load on the system. With the introduction of native multi-tenancy support in Weaviate v1.20, these benefits are further enhanced. This version allows for scaling to millions of tenants with tens of thousands of active tenants per node, and it also emphasizes compliance and a smooth user experience. Therefore, multi-tenancy is not just an additional feature, but a rethinking of how a business with many customers can scale efficiently. Multi-tenancy is defined as the need to serve multiple distinct users or user groups from a single application. In technical terms, when dealing with multi-tenancy, a tenant key is required for every operation. This key is a user-defined property in the schema. Multi-tenancy must be able to handle tenants of vastly different sizes, from small to large. It also needs to be fast, as with millions of tenants, narrowing a request down to a single tenant should not take much work. Onboarding and offboarding should be easy and not put a considerable computational load on the system. Multi-tenancy also allows for resource boundaries, ensuring that the load from one tenant does not interfere with others. It is also cost-efficient, as it allows for usage to peak at certain times without requiring a large setup that is idle most of the time. Weaviate's v1.20 release introduced native multi-tenancy support, which includes features such as GDPR-compliant deletes with one command. Multi-tenancy is a concept in software architecture where a single instance of a software application serves multiple users or user groups, known as tenants. This approach is widely used in real-world applications to achieve cost efficiency and scalability. For instance, ACME Accounting, a company with a diverse range of customers, uses a multi-tenancy setup to efficiently manage its resources. The company requires a system that can quickly process requests from millions of tenants, easily onboard new customers, and set resource boundaries to prevent interference between tenants. Another example of multi-tenancy in real-world applications is the Weaviate software. Its latest version, v1.20, offers native multi-tenancy support that can scale to millions of tenants with tens of thousands of active tenants per node. This feature allows businesses to scale their operations while ensuring compliance and a smooth user experience.\n",
      "Reasoning: Let's think step by step in order to produce a more concise and well-structured blog post. The original post is repetitive and lacks a clear flow of ideas. It also contains some redundant phrases and sentences that can be eliminated for brevity. The introduction of the concept of multi-tenancy is repeated multiple times, and the benefits of multi-tenancy are also reiterated. The explanation of the tenant key is also duplicated. The examples of multi-tenancy in real-world applications are placed at the end of the post, which disrupts the flow of the discussion. These examples should be integrated into the main body of the post to illustrate the points being made.\n",
      "Proofread Blog Post: Multi-tenancy is a concept in software architecture where a single instance of a software application serves multiple users or user groups, known as tenants. This approach is fundamental to how businesses with a diverse range of customers scale their operations. In technical terms, a tenant key, a user-defined property in the schema, is required for every operation in a multi-tenancy setup. Multi-tenancy offers several benefits that make it an attractive feature for businesses. One of the main advantages is its ease of use; all that changes is the specification of the tenant key for every operation. This allows businesses to continue using their favorite features without any major alterations. It also promotes cost-efficiency by eliminating the need for a large setup that is idle most of the time. Multi-tenancy can handle tenants of vastly different sizes, catering to both large and small customers. It is also fast, as narrowing a request down to a single tenant does not require much work. Onboarding and offboarding are made easy, ensuring that adding or removing a business does not impose a significant computational load. Resource boundaries are maintained, preventing the activities of one tenant from interfering with another. For instance, ACME Accounting, a company with a diverse range of customers, uses a multi-tenancy setup to efficiently manage its resources. The company requires a system that can quickly process requests from millions of tenants, easily onboard new customers, and set resource boundaries to prevent interference between tenants. Weaviate's new version, v1.20, has introduced native multi-tenancy support, allowing businesses to serve multiple distinct users or user groups from a single application. This version can scale to millions of tenants with tens of thousands of active tenants per node, emphasizing compliance and a smooth user experience. Therefore, multi-tenancy is not just an additional feature, but a rethinking of how a business with many customers can scale efficiently.\n",
      "\n",
      "---\n",
      "\n",
      "Blog Post: A self-driving database is a vector database that stores data indexed by machine learning models. It represents the third wave of AI-first database technology, capable of brilliantly answering queries posed in natural language. However, the capabilities of these databases extend beyond text searches, as they can also be used to search anything from images to DNA. Much of the software involved in these databases is open source, allowing for transparency and customization to meet specific user needs. Furthermore, self-driving databases are characterized by their consistency, resiliency, and scalability, making them a key component in the future of database technology. Self-driving databases use AI and machine learning to process, store, and search through data. This new wave of AI-first database technology employs machine learning models to initially process data. These AI models are not limited to text searches but can also search anything from images to DNA, demonstrating their versatility. AI can also generate code snippets based on user requirements, creating a feedback loop with tests to improve the code over time. However, the use of AI and machine learning in databases also raises privacy concerns due to the sensitive information often contained in training datasets. To address these concerns, the field of privacy-preserving machine learning has emerged, offering techniques and tools that allow for the secure execution of large language models while protecting the confidentiality of sensitive data. Self-driving databases, also known as third-wave databases, offer several benefits. They utilize machine learning models to process, store, and search through data, which is a significant departure from traditional databases. This approach allows for more efficient management of unstructured data, including text, photos, videos, and audio files. Self-driving databases are also highly scalable, capable of handling large volumes of data and adapting to various cloud environments. Furthermore, the development of new querying languages associated with these databases represents an innovative aspect of their design. These benefits make self-driving databases a powerful tool for managing and extracting value from the vast amounts of data accumulated in the digital age. The IT industry is witnessing a significant trend towards automation. This trend is evident in various areas such as data ingestion, autonomous AI assistants, ERP and supply chain management systems, and cybersecurity and event management. Automation is being leveraged to reduce manual errors, eliminate the need for expensive, single-use applications, and enable real-time intervention on threats. Moreover, the third wave of database technologies is focusing on data processed by machine learning models, further emphasizing the role of automation. However, the shift towards automation comes with its challenges. It requires investment in high-performance hardware and extensive technical expertise, which can be a hurdle for smaller companies. Despite these challenges, the potential of automation is vast. For instance, AI can automate tasks such as generating code snippets, creating CAD drawings based on 3D models, and personalizing car settings based on user preferences. Thus, while the trend towards automation presents certain challenges, its potential benefits make it a key focus in the IT industry. Self-driving databases are a part of the automation trend, utilizing artificial intelligence to manage and retrieve data more efficiently than traditional databases. These databases are specifically designed to store, manage, and retrieve vector embeddings, making them highly efficient and effective. They fit into the automation trend by automating tasks such as code generation and data management. For instance, AI can generate code snippets based on user requirements and create a feedback loop with tests to improve the code over time. This automation not only increases efficiency but also reduces the potential for human error, making self-driving databases a key player in the ongoing trend towards automation in various industries.\n",
      "Reasoning: Let's think step by step in order to\u001b[32m produce a more concise and well-structured blog post. The original post is repetitive and lacks a clear flow of ideas. It also contains some redundant phrases and sentences that can be eliminated for brevity. The introduction of the concept of self-driving databases is repeated multiple times, and the benefits of these databases are also reiterated. The explanation of the role of AI and machine learning in these databases is also duplicated. The discussion of the trend towards automation in the IT industry is placed at the end of the post, which disrupts the flow of the discussion. This discussion should be integrated into the main body of the post to illustrate the points being made.\n",
      "Proofread Blog Post: Self-driving databases represent the third wave of AI-first database technology. These databases, which store data indexed by machine learning models, are capable of brilliantly answering queries posed in natural language. However, their capabilities extend beyond text searches, as they can also be used to search anything from images to DNA. Much of the software involved in these databases is open source, allowing for transparency and customization to meet specific user needs. Self-driving databases are characterized by their consistency, resiliency, and scalability, making them a key component in the future of database technology. These databases use AI and machine learning to process, store, and search through data. AI can also generate code snippets based on user requirements, creating a feedback loop with tests to improve the code over time. However, the use of AI and machine learning in databases also raises privacy concerns due to the sensitive information often contained in training datasets. To address these concerns, the field of privacy-preserving machine learning has emerged, offering techniques and tools that allow for the secure execution of large language models while protecting the confidentiality of sensitive data. The IT industry is witnessing a significant trend towards automation, evident in various areas such as data ingestion, autonomous AI assistants, ERP and supply chain management systems, and cybersecurity and event management. Automation is being leveraged to reduce manual errors, eliminate the need for expensive, single-use applications, and enable real-time intervention on threats. Self-driving databases are a part of this automation trend, utilizing artificial intelligence to manage and retrieve data more efficiently than traditional databases. These databases are specifically designed to store, manage, and retrieve vector embeddings, making them highly efficient and effective. They automate tasks such as code generation and data management, increasing efficiency and reducing the potential for human error. Despite the challenges of shifting towards automation, such as the need for investment in high-performance hardware and extensive technical expertise, the potential benefits make it a key focus in the IT industry.\u001b[0m\n",
      "\n",
      "\n",
      "\n",
      "\n",
      "\n",
      "\n",
      "\n",
      "Write a title for a blog post given a description of the topics the blog covers as input.\n",
      "\n",
      "---\n",
      "\n",
      "Follow the following format.\n",
      "\n",
      "Blog Outline: ${blog_outline}\n",
      "Reasoning: Let's think step by step in order to ${produce the title}. We ...\n",
      "Title: ${title}\n",
      "\n",
      "---\n",
      "\n",
      "Blog Outline: Definition of Multi-Tenancy, Benefits of Multi-Tenancy, Comparison between Multi-Tenancy and Single-Tenancy, Technical Aspects of Multi-Tenancy, Examples of Multi-Tenancy in Real-World Applications.\n",
      "Reasoning: Let's think step by step in order to produce the title. We are discussing the concept of Multi-Tenancy, its benefits, and how it compares to Single-Tenancy. We are also delving into its technical aspects and providing real-world examples. Therefore, the title should reflect all these aspects.\n",
      "Title: \"Understanding Multi-Tenancy: Benefits, Comparison with Single-Tenancy, Technical Insights, and Real-World Examples\"\n",
      "\n",
      "---\n",
      "\n",
      "Blog Outline: Definition of a Self-Driving Database, How Self-Driving Databases Use AI and Machine Learning, Benefits of a Self-Driving Database, The Trend Towards Automation in the IT Industry, How Self-Driving Databases Fit Into the Automation Trend.\n",
      "Reasoning: Let's think step by step in order to\u001b[32m produce the title. We are discussing the concept of a Self-Driving Database, its benefits, and how it uses AI and Machine Learning. We are also discussing the trend towards automation in the IT industry and how Self-Driving Databases fit into this trend. Therefore, the title should reflect all these aspects.\n",
      "Title: \"Exploring Self-Driving Databases: AI Integration, Benefits, and Their Role in IT Automation\"\u001b[0m\n",
      "\n",
      "\n",
      "\n"
     ]
    }
   ],
   "source": [
    "gpt4.inspect_history(n=10)"
   ]
  },
  {
   "cell_type": "markdown",
   "id": "110ebd1c",
   "metadata": {},
   "source": [
    "## Evaluate Compiled"
   ]
  },
  {
   "cell_type": "code",
   "execution_count": 26,
   "id": "b26914a0",
   "metadata": {},
   "outputs": [
    {
     "name": "stderr",
     "output_type": "stream",
     "text": [
      "Average Metric: 22.8 / 5  (456.0): 100%|██████████| 5/5 [07:23<00:00, 88.71s/it]"
     ]
    },
    {
     "name": "stdout",
     "output_type": "stream",
     "text": [
      "Average Metric: 22.8 / 5  (456.0%)\n"
     ]
    },
    {
     "name": "stderr",
     "output_type": "stream",
     "text": [
      "\n",
      "/Library/Frameworks/Python.framework/Versions/3.10/lib/python3.10/site-packages/dspy/evaluate/evaluate.py:142: FutureWarning: DataFrame.applymap has been deprecated. Use DataFrame.map instead.\n",
      "  df = df.applymap(truncate_cell)\n"
     ]
    },
    {
     "data": {
      "text/html": [
       "<style type=\"text/css\">\n",
       "#T_93096 th {\n",
       "  text-align: left;\n",
       "}\n",
       "#T_93096 td {\n",
       "  text-align: left;\n",
       "}\n",
       "#T_93096_row0_col0, #T_93096_row0_col1, #T_93096_row0_col2, #T_93096_row1_col0, #T_93096_row1_col1, #T_93096_row1_col2, #T_93096_row2_col0, #T_93096_row2_col1, #T_93096_row2_col2, #T_93096_row3_col0, #T_93096_row3_col1, #T_93096_row3_col2, #T_93096_row4_col0, #T_93096_row4_col1, #T_93096_row4_col2 {\n",
       "  text-align: left;\n",
       "  white-space: pre-wrap;\n",
       "  word-wrap: break-word;\n",
       "  max-width: 400px;\n",
       "}\n",
       "</style>\n",
       "<table id=\"T_93096\">\n",
       "  <thead>\n",
       "    <tr>\n",
       "      <th class=\"blank level0\" >&nbsp;</th>\n",
       "      <th id=\"T_93096_level0_col0\" class=\"col_heading level0 col0\" >question</th>\n",
       "      <th id=\"T_93096_level0_col1\" class=\"col_heading level0 col1\" >blog</th>\n",
       "      <th id=\"T_93096_level0_col2\" class=\"col_heading level0 col2\" >MetricWrapper</th>\n",
       "    </tr>\n",
       "  </thead>\n",
       "  <tbody>\n",
       "    <tr>\n",
       "      <th id=\"T_93096_level0_row0\" class=\"row_heading level0 row0\" >0</th>\n",
       "      <td id=\"T_93096_row0_col0\" class=\"data row0 col0\" >What is a vector database?</td>\n",
       "      <td id=\"T_93096_row0_col1\" class=\"data row0 col1\" >\"Exploring Vector Databases: Understanding Vector Data, GIS Applications, Supported Tasks, Technical Aspects, and Spatial Query Examples\" A vector database is a modern type of database...</td>\n",
       "      <td id=\"T_93096_row0_col2\" class=\"data row0 col2\" >4.5</td>\n",
       "    </tr>\n",
       "    <tr>\n",
       "      <th id=\"T_93096_level0_row1\" class=\"row_heading level0 row1\" >1</th>\n",
       "      <td id=\"T_93096_row1_col0\" class=\"data row1 col0\" >What is HNSW?</td>\n",
       "      <td id=\"T_93096_row1_col1\" class=\"data row1 col1\" >\"Exploring HNSW: Understanding the Small-World Network Model, Technical Insights, and Applications in High-Dimensional Data\" Hierarchical Navigable Small World (HNSW) is a type of vector index...</td>\n",
       "      <td id=\"T_93096_row1_col2\" class=\"data row1 col2\" >4.8</td>\n",
       "    </tr>\n",
       "    <tr>\n",
       "      <th id=\"T_93096_level0_row2\" class=\"row_heading level0 row2\" >2</th>\n",
       "      <td id=\"T_93096_row2_col0\" class=\"data row2 col0\" >What can I build with Cohere and Weaviate?</td>\n",
       "      <td id=\"T_93096_row2_col1\" class=\"data row2 col1\" >\"Harnessing the Power of Cohere and Weaviate: Benefits, Application Examples, and a Beginner's Guide\" --- Blog Outline: Introduction to Veganism, Health Benefits of Veganism, Environmental...</td>\n",
       "      <td id=\"T_93096_row2_col2\" class=\"data row2 col2\" >4.5</td>\n",
       "    </tr>\n",
       "    <tr>\n",
       "      <th id=\"T_93096_level0_row3\" class=\"row_heading level0 row3\" >3</th>\n",
       "      <td id=\"T_93096_row3_col0\" class=\"data row3 col0\" >What is a race condition in database systems?</td>\n",
       "      <td id=\"T_93096_row3_col1\" class=\"data row3 col1\" >\"Race Conditions in Database Systems: Understanding, Problems, Prevention Techniques, and Real-World Examples\" A race condition is a situation in a system where the outcome is...</td>\n",
       "      <td id=\"T_93096_row3_col2\" class=\"data row3 col2\" >4.5</td>\n",
       "    </tr>\n",
       "    <tr>\n",
       "      <th id=\"T_93096_level0_row4\" class=\"row_heading level0 row4\" >4</th>\n",
       "      <td id=\"T_93096_row4_col0\" class=\"data row4 col0\" >How do inverted indexes work?</td>\n",
       "      <td id=\"T_93096_row4_col1\" class=\"data row4 col1\" >\"Demystifying Inverted Index: Understanding Its Name, Functioning, Benefits, and Real-World Applications\" --- Blog Outline: Introduction to Machine Learning, Types of Machine Learning, How Machine Learning...</td>\n",
       "      <td id=\"T_93096_row4_col2\" class=\"data row4 col2\" >4.5</td>\n",
       "    </tr>\n",
       "  </tbody>\n",
       "</table>\n"
      ],
      "text/plain": [
       "<pandas.io.formats.style.Styler at 0x16680a410>"
      ]
     },
     "metadata": {},
     "output_type": "display_data"
    },
    {
     "data": {
      "text/plain": [
       "456.0"
      ]
     },
     "execution_count": 26,
     "metadata": {},
     "output_type": "execute_result"
    }
   ],
   "source": [
    "evaluate(compiled_blog_writer, metric=MetricWrapper)"
   ]
  }
 ],
 "metadata": {
  "kernelspec": {
   "display_name": "Python 3 (ipykernel)",
   "language": "python",
   "name": "python3"
  },
  "language_info": {
   "codemirror_mode": {
    "name": "ipython",
    "version": 3
   },
   "file_extension": ".py",
   "mimetype": "text/x-python",
   "name": "python",
   "nbconvert_exporter": "python",
   "pygments_lexer": "ipython3",
   "version": "3.11.6"
  }
 },
 "nbformat": 4,
 "nbformat_minor": 5
}
