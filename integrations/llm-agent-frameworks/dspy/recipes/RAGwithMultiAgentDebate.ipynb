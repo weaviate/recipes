{
 "cells": [
  {
   "cell_type": "markdown",
   "id": "cdd57447",
   "metadata": {},
   "source": [
    "[![Open In Colab](https://colab.research.google.com/assets/colab-badge.svg)](https://colab.research.google.com/github/weaviate/recipes/blob/main/integrations/llm-agent-frameworks/dspy/recipes/RAGwithMultiAgentDebate.ipynb)"
   ]
  },
  {
   "cell_type": "markdown",
   "id": "ae6cf5ac",
   "metadata": {},
   "source": [
    "# RAG with Multi-Agent Debate\n",
    "\n",
    "Inspired by [More Agent Is All You Need from Li et al. 2024](https://arxiv.org/pdf/2402.05120.pdf)"
   ]
  },
  {
   "cell_type": "code",
   "execution_count": 4,
   "id": "cf810a75",
   "metadata": {},
   "outputs": [],
   "source": [
    "import dspy\n",
    "from dspy.retrieve.weaviate_rm import WeaviateRM\n",
    "import weaviate\n",
    "\n",
    "command_r_plus = dspy.Cohere(model=\"command-r-plus\", max_tokens=4000, api_key=cohere_api_key)\n",
    "command_r = dspy.Cohere(model=\"command-r\", temperature=0.8, max_tokens=4000, api_key=cohere_api_key)\n",
    "weaviate_client = weaviate.connect_to_local()\n",
    "weaviate_rm = WeaviateRM(\"WeaviateBlogChunk\",\n",
    "                        weaviate_client=weaviate_client)\n",
    "dspy.settings.configure(lm=command_r, rm=weaviate_rm)"
   ]
  },
  {
   "cell_type": "markdown",
   "id": "a861d038",
   "metadata": {},
   "source": [
    "# Demonstration of Output Sampling"
   ]
  },
  {
   "cell_type": "code",
   "execution_count": 6,
   "id": "cdfffbc6",
   "metadata": {
    "scrolled": true
   },
   "outputs": [
    {
     "name": "stdout",
     "output_type": "stream",
     "text": [
      "\u001b[91mGeneration 0:\n",
      "\n",
      "\u001b[0mFrom aforethought, we can discern the first letter of the alphabet, A, through the last, Z, in this sentence.\n",
      "\n",
      "\u001b[91mGeneration 1:\n",
      "\n",
      "\u001b[0mFrom aardvarks to zombies, the alphabet soup is swirling with quirky creatures.\n",
      "\n",
      "\u001b[91mGeneration 2:\n",
      "\n",
      "\u001b[0mFrom auntie's zealous zest, the jolly kids played hide-and-seek in the lively meadow, enjoying every moment.\n",
      "\n",
      "\u001b[91mGeneration 3:\n",
      "\n",
      "\u001b[0mFrom adeptness to zesty, the multilingual capability encompasses the entire alphabet.\n",
      "\n",
      "\u001b[91mGeneration 4:\n",
      "\n",
      "\u001b[0mFrom airy Alaska to zoetic Zanzibar, the world offers an omnishambles of adventures to explore, encompassing all the letters of the alphabet.\n",
      "\n"
     ]
    }
   ],
   "source": [
    "for i in range(5):\n",
    "    print(f\"\\033[91mGeneration {i}:\\n\")\n",
    "    response = command_r(\"Can you please write a sentence that uses all the letters in the alphabet\")[0]\n",
    "    print(f\"\\033[0m{response}\\n\")"
   ]
  },
  {
   "cell_type": "markdown",
   "id": "982ca82d",
   "metadata": {},
   "source": [
    "# Signatures for `RAGwithMultiAgentDebate`"
   ]
  },
  {
   "cell_type": "code",
   "execution_count": 7,
   "id": "42d73fab",
   "metadata": {},
   "outputs": [],
   "source": [
    "class GenerateAnswer(dspy.Signature):\n",
    "    \"\"\"Assess the context and write a detailed 3-4 sentence answer to the question.\"\"\"\n",
    "    \n",
    "    contexts = dspy.InputField()\n",
    "    question = dspy.InputField()\n",
    "    detailed_answer = dspy.OutputField(desc=\"Only output the answer\")\n",
    "    \n",
    "class ResolveCandidateAnswers(dspy.Signature):\n",
    "    \"\"\"\n",
    "    You are a moderator for question-answering.\n",
    "You will receive a few candidate answers to a question, as well as some additional context about the topic.\n",
    "Please resolve the candidate answers into a single answer integrating the strengths of each candidate answer.\n",
    "    \"\"\"\n",
    "    \n",
    "    contexts = dspy.InputField()\n",
    "    candidate_answers = dspy.InputField()\n",
    "    resolved_answer = dspy.OutputField(desc=\"Only output the resolved_answer\")"
   ]
  },
  {
   "cell_type": "markdown",
   "id": "af9cc2ef",
   "metadata": {},
   "source": [
    "# `RAGwithMultiAgentDebate` program"
   ]
  },
  {
   "cell_type": "code",
   "execution_count": 8,
   "id": "ba99173a",
   "metadata": {},
   "outputs": [],
   "source": [
    "from typing import List\n",
    "def format_candidate_answers(candidate_responses: List[str]) -> str:\n",
    "    formatted_string = \"\"\n",
    "    for i, string in enumerate(candidate_responses, start=1):\n",
    "        formatted_string += f\"[{i}] {string} \"\n",
    "    return formatted_string.strip()\n",
    "\n",
    "class RAGwithMultiAgentDebate(dspy.Module):\n",
    "    def __init__(self):\n",
    "        self.retrieve = dspy.Retrieve()\n",
    "        self.answer_question = dspy.Predict(GenerateAnswer)\n",
    "        self.resolve_candidate_answers = dspy.Predict(ResolveCandidateAnswers)\n",
    "\n",
    "    def forward(self, question, candidate_generations=5):\n",
    "        contexts = self.retrieve(question).passages\n",
    "        contexts = \"\".join(contexts)\n",
    "        candidate_answers = []\n",
    "        for i in range(candidate_generations):\n",
    "            with dspy.context(lm=command_r):\n",
    "                candidate_answers.append(self.answer_question(contexts=contexts, question=question).detailed_answer)\n",
    "        candidate_answers = format_candidate_answers(candidate_answers)\n",
    "        with dspy.context(lm=command_r_plus):\n",
    "            final_answer = self.resolve_candidate_answers(candidate_answers=candidate_answers, contexts=contexts).resolved_answer\n",
    "        return dspy.Prediction(answer=final_answer)"
   ]
  },
  {
   "cell_type": "markdown",
   "id": "c3d472ac",
   "metadata": {},
   "source": [
    "# Test!"
   ]
  },
  {
   "cell_type": "code",
   "execution_count": 10,
   "id": "fffc670c",
   "metadata": {},
   "outputs": [
    {
     "name": "stdout",
     "output_type": "stream",
     "text": [
      "Ref2Vec, short for reference-to-vector, is a Weaviate module that enables vectorization of data objects by leveraging their cross-references to other objects. It calculates the average, or centroid vector, of the cross-referenced vectors to represent the referencing object, finding a middle ground between all related objects. This lightweight and efficient method can be used for various tasks, including recommendations, re-ranking, and representing lengthy objects in a more concise and relevant manner. Ref2Vec, also known as ref2vec-centroid, enhances recommendation systems by updating user vectors in real-time based on their preferences and actions, resulting in fast and personalized recommendations.\n"
     ]
    }
   ],
   "source": [
    "print(RAGwithMultiAgentDebate()(question=\"What is ref2vec?\").answer)"
   ]
  },
  {
   "cell_type": "markdown",
   "id": "10068456",
   "metadata": {},
   "source": [
    "# Observe the Final Prompt to Command R+ "
   ]
  },
  {
   "cell_type": "code",
   "execution_count": 11,
   "id": "51798525",
   "metadata": {},
   "outputs": [
    {
     "name": "stdout",
     "output_type": "stream",
     "text": [
      "\n",
      "\n",
      "\n",
      "You are a moderator for question-answering.\n",
      "You will receive a few candidate answers to a question, as well as some additional context about the topic.\n",
      "Please resolve the candidate answers into a single answer integrating the strengths of each candidate answer.\n",
      "\n",
      "---\n",
      "\n",
      "Follow the following format.\n",
      "\n",
      "Contexts: ${contexts}\n",
      "Candidate Answers: ${candidate_answers}\n",
      "Resolved Answer: Only output the resolved_answer\n",
      "\n",
      "---\n",
      "\n",
      "Contexts: --- title: What is Ref2Vec and why you need it for your recommendation system slug: ref2vec-centroid authors: [connor] date: 2022-11-23 tags: ['integrations', 'concepts'] image: ./img/hero.png description: \"Weaviate introduces Ref2Vec, a new module that utilises Cross-References for Recommendation!\" --- ![Ref2vec-centroid](./img/hero.png) <!-- truncate --> Weaviate 1.16 introduced the [Ref2Vec](/developers/weaviate/modules/retriever-vectorizer-modules/ref2vec-centroid) module. In this article, we give you an overview of what Ref2Vec is and some examples in which it can add value such as recommendations or representing long objects. ## What is Ref2Vec? The name Ref2Vec is short for reference-to-vector, and it offers the ability to vectorize a data object with its cross-references to other objects. The Ref2Vec module currently holds the name ref2vec-**centroid** because it uses the average, or centroid vector, of the cross-referenced vectors to represent the **referencing** object.As you have seen above, we think Ref2Vec can add value for use cases such as recommendations, re-ranking, overcoming the cold start problem and representing long objects. We are also excited to see what you build with Ref2Vec, and excited to build on this module with its future iterations. Speaking of which, we have another blog post coming soon on the development directions of Ref2Vec for the future. We will discuss topics such as **collaborative filtering**, **multiple centroids**, **graph neural networks**, and more on **re-ranking** with Ref2Vec. Stay tuned! import WhatNext from '/_includes/what-next.mdx' <WhatNext />In other words, the User vector is being updated in real-time here to take into account their preferences and actions, which helps to produce more relevant results at speed. Another benefit of Ref2Vec is that this calculation is not compute-heavy, leading to low overhead. With Ref2Vec, you can use Weaviate to provide Recommendation with \"user-as-query\". This is a very common and powerful way to build Home Feed style features in apps. This can be done by sending queries like this to Weaviate: ```graphql { Get { Product ( nearObject: { id: \"8abc5-4d5...\" # id for the User object with vector defined by ref2vec-centroid } ) { product_name price } } } ``` This short query encapsulates the power of Ref2Vec.\n",
      "Candidate Answers: [1] Ref2Vec (reference-to-vector) is a Weaviate module that enables vectorization of data objects with cross-references to other objects. It utilizes the cross-referenced vectors' centroid vector, or average, to represent the referencing object, essentially finding a middle ground between all related objects. This powerful tool can be used for recommendations, re-ranking, and representing lengthy objects in a more concise and efficient manner. [2] Ref2Vec (a shorthand for reference-to-vector) is a Weaviate module that enables vectorization of data objects with cross-references to other objects. Essentially, it converts references into vectors which can be used for various tasks like recommendations, re-ranking, and representing lengthy objects. It's also lightweight and efficient in terms of computational requirements. [3] Ref2Vec (reference-to-vector) is a Weaviate module that enables vectorization of data objects with cross-references to other objects. It utilizes the cross-referenced vectors' centroid vector, or average, to represent the referencing object, essentially finding a middle ground between all related objects. This powerful tool can be used for recommendations, re-ranking, and representing lengthy objects in a more concise and efficient manner. [4] Ref2Vec (a shorthand for reference-to-vector) is a Weaviate module that enables vectorization of data objects, taking into account their references to other objects. Essentially, it generates a vector representation of the referencing object by computing the average of the cross-referenced vectors, which is useful for recommendation systems and other use cases. It's a lightweight method that can quickly update the vector in real-time based on user preferences and actions, enhancing the relevance of recommendations. The Ref2Vec module, also known as ref2vec-centroid, opens up possibilities for building powerful recommendation features in applications. [5] Ref2Vec (a portmanteau of reference-to-vector) is a Weaviate module that utilises cross-references to other objects to vectorise a data object. It's also known as ref2vec-centroid because it employs the cross-referenced vectors' centroid, or average vector, to represent the referencing object. In recommendation systems, Ref2Vec can enhance user experience by updating user vectors in real time based on their preferences and actions, enabling fast and personalised recommendations.\n",
      "Resolved Answer:\u001b[32mRef2Vec, short for reference-to-vector, is a Weaviate module that enables vectorization of data objects by leveraging their cross-references to other objects. It calculates the average, or centroid vector, of the cross-referenced vectors to represent the referencing object, finding a middle ground between all related objects. This lightweight and efficient method can be used for various tasks, including recommendations, re-ranking, and representing lengthy objects in a more concise and relevant manner. Ref2Vec, also known as ref2vec-centroid, enhances recommendation systems by updating user vectors in real-time based on their preferences and actions, resulting in fast and personalized recommendations.\u001b[0m\u001b[31m \t (and 709 other completions)\u001b[0m\n",
      "\n",
      "\n",
      "\n"
     ]
    },
    {
     "data": {
      "text/plain": [
       "'\\n\\n\\nYou are a moderator for question-answering.\\nYou will receive a few candidate answers to a question, as well as some additional context about the topic.\\nPlease resolve the candidate answers into a single answer integrating the strengths of each candidate answer.\\n\\n---\\n\\nFollow the following format.\\n\\nContexts: ${contexts}\\nCandidate Answers: ${candidate_answers}\\nResolved Answer: Only output the resolved_answer\\n\\n---\\n\\nContexts: --- title: What is Ref2Vec and why you need it for your recommendation system slug: ref2vec-centroid authors: [connor] date: 2022-11-23 tags: [\\'integrations\\', \\'concepts\\'] image: ./img/hero.png description: \"Weaviate introduces Ref2Vec, a new module that utilises Cross-References for Recommendation!\" --- ![Ref2vec-centroid](./img/hero.png) <!-- truncate --> Weaviate 1.16 introduced the [Ref2Vec](/developers/weaviate/modules/retriever-vectorizer-modules/ref2vec-centroid) module. In this article, we give you an overview of what Ref2Vec is and some examples in which it can add value such as recommendations or representing long objects. ## What is Ref2Vec? The name Ref2Vec is short for reference-to-vector, and it offers the ability to vectorize a data object with its cross-references to other objects. The Ref2Vec module currently holds the name ref2vec-**centroid** because it uses the average, or centroid vector, of the cross-referenced vectors to represent the **referencing** object.As you have seen above, we think Ref2Vec can add value for use cases such as recommendations, re-ranking, overcoming the cold start problem and representing long objects. We are also excited to see what you build with Ref2Vec, and excited to build on this module with its future iterations. Speaking of which, we have another blog post coming soon on the development directions of Ref2Vec for the future. We will discuss topics such as **collaborative filtering**, **multiple centroids**, **graph neural networks**, and more on **re-ranking** with Ref2Vec. Stay tuned! import WhatNext from \\'/_includes/what-next.mdx\\' <WhatNext />In other words, the User vector is being updated in real-time here to take into account their preferences and actions, which helps to produce more relevant results at speed. Another benefit of Ref2Vec is that this calculation is not compute-heavy, leading to low overhead. With Ref2Vec, you can use Weaviate to provide Recommendation with \"user-as-query\". This is a very common and powerful way to build Home Feed style features in apps. This can be done by sending queries like this to Weaviate: ```graphql { Get { Product ( nearObject: { id: \"8abc5-4d5...\" # id for the User object with vector defined by ref2vec-centroid } ) { product_name price } } } ``` This short query encapsulates the power of Ref2Vec.\\nCandidate Answers: [1] Ref2Vec (reference-to-vector) is a Weaviate module that enables vectorization of data objects with cross-references to other objects. It utilizes the cross-referenced vectors\\' centroid vector, or average, to represent the referencing object, essentially finding a middle ground between all related objects. This powerful tool can be used for recommendations, re-ranking, and representing lengthy objects in a more concise and efficient manner. [2] Ref2Vec (a shorthand for reference-to-vector) is a Weaviate module that enables vectorization of data objects with cross-references to other objects. Essentially, it converts references into vectors which can be used for various tasks like recommendations, re-ranking, and representing lengthy objects. It\\'s also lightweight and efficient in terms of computational requirements. [3] Ref2Vec (reference-to-vector) is a Weaviate module that enables vectorization of data objects with cross-references to other objects. It utilizes the cross-referenced vectors\\' centroid vector, or average, to represent the referencing object, essentially finding a middle ground between all related objects. This powerful tool can be used for recommendations, re-ranking, and representing lengthy objects in a more concise and efficient manner. [4] Ref2Vec (a shorthand for reference-to-vector) is a Weaviate module that enables vectorization of data objects, taking into account their references to other objects. Essentially, it generates a vector representation of the referencing object by computing the average of the cross-referenced vectors, which is useful for recommendation systems and other use cases. It\\'s a lightweight method that can quickly update the vector in real-time based on user preferences and actions, enhancing the relevance of recommendations. The Ref2Vec module, also known as ref2vec-centroid, opens up possibilities for building powerful recommendation features in applications. [5] Ref2Vec (a portmanteau of reference-to-vector) is a Weaviate module that utilises cross-references to other objects to vectorise a data object. It\\'s also known as ref2vec-centroid because it employs the cross-referenced vectors\\' centroid, or average vector, to represent the referencing object. In recommendation systems, Ref2Vec can enhance user experience by updating user vectors in real time based on their preferences and actions, enabling fast and personalised recommendations.\\nResolved Answer:\\x1b[32mRef2Vec, short for reference-to-vector, is a Weaviate module that enables vectorization of data objects by leveraging their cross-references to other objects. It calculates the average, or centroid vector, of the cross-referenced vectors to represent the referencing object, finding a middle ground between all related objects. This lightweight and efficient method can be used for various tasks, including recommendations, re-ranking, and representing lengthy objects in a more concise and relevant manner. Ref2Vec, also known as ref2vec-centroid, enhances recommendation systems by updating user vectors in real-time based on their preferences and actions, resulting in fast and personalized recommendations.\\x1b[0m\\x1b[31m \\t (and 709 other completions)\\x1b[0m\\n\\n\\n'"
      ]
     },
     "execution_count": 11,
     "metadata": {},
     "output_type": "execute_result"
    }
   ],
   "source": [
    "command_r_plus.inspect_history(n=1)"
   ]
  }
 ],
 "metadata": {
  "kernelspec": {
   "display_name": "Python (myenv)",
   "language": "python",
   "name": "myenv_kernel"
  },
  "language_info": {
   "codemirror_mode": {
    "name": "ipython",
    "version": 3
   },
   "file_extension": ".py",
   "mimetype": "text/x-python",
   "name": "python",
   "nbconvert_exporter": "python",
   "pygments_lexer": "ipython3",
   "version": "3.10.10"
  }
 },
 "nbformat": 4,
 "nbformat_minor": 5
}
