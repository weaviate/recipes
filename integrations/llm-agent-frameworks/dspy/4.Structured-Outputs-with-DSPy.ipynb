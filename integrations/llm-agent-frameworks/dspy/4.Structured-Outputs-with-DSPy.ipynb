{
 "cells": [
  {
   "cell_type": "markdown",
   "id": "c5425678",
   "metadata": {},
   "source": [
    "[![Open In Colab](https://colab.research.google.com/assets/colab-badge.svg)](https://colab.research.google.com/github/weaviate/recipes/blob/main/integrations/llm-agent-frameworks/dspy/4.Structured-Outputs-with-DSPy.ipynb)"
   ]
  },
  {
   "cell_type": "markdown",
   "id": "c184e069",
   "metadata": {},
   "source": [
    "## Load Data into Weaviate\n",
    "**You need a running Weaviate cluster with data**:\n",
    "1. Learn about the installation options [here](https://weaviate.io/developers/weaviate/installation)\n",
    "2. Import your data:\n",
    "    1. You can follow the `Weaviate-Import.ipynb` notebook to load in the Weaviate blogs (recipes/integrations/dspy/Weaviate-Import.ipynb)\n",
    "    2. Or follow this [Quickstart Guide](https://weaviate.io/developers/weaviate/quickstart)"
   ]
  },
  {
   "cell_type": "markdown",
   "id": "d1edd959",
   "metadata": {},
   "source": [
    "## Setup"
   ]
  },
  {
   "cell_type": "code",
   "execution_count": 31,
   "id": "cd4c1202",
   "metadata": {},
   "outputs": [],
   "source": [
    "import dspy\n",
    "from dspy.retrieve.weaviate_rm import WeaviateRM\n",
    "from dspy.retrieve.you_rm import YouRM\n",
    "import weaviate\n",
    "\n",
    "gpt4 = dspy.OpenAI(model=\"gpt-4-1106-preview\", max_tokens=4000, model_type=\"chat\")\n",
    "gpt_turbo = dspy.OpenAI(model=\"gpt-3.5-turbo\", max_tokens=4000, model_type=\"chat\")\n",
    "command_r = dspy.Cohere(model=\"command-r\", max_tokens=4000, api_key=cohere_api_key)\n",
    "mistral_ollama = dspy.OllamaLocal(model=\"mistral\", max_tokens=4000, timeout_s=480)\n",
    "\n",
    "lms = [{\"name\": \"GPT-4\", \"lm\": gpt4},\n",
    "       {\"name\": \"GPT-3.5-Turbo\", \"lm\": gpt_turbo},\n",
    "       {\"name\": \"Command-R\", \"lm\": command_r},\n",
    "       {\"name\": \"Mistral-7B\", \"lm\": mistral_ollama}]\n",
    "\n",
    "weaviate_client = weaviate.connect_to_local()\n",
    "weaviate_rm = WeaviateRM(\"WeaviateBlogChunk\", weaviate_client=weaviate_client)\n",
    "you_rm = YouRM(ydc_api_key=you_api_key)\n",
    "dspy.settings.configure(lm=gpt_turbo, rm=weaviate_rm)"
   ]
  },
  {
   "cell_type": "code",
   "execution_count": 32,
   "id": "90a981f6",
   "metadata": {},
   "outputs": [
    {
     "data": {
      "text/plain": [
       "[\"Hello! How's it going? I hope you're having a fantastic day! 😊\"]"
      ]
     },
     "execution_count": 32,
     "metadata": {},
     "output_type": "execute_result"
    }
   ],
   "source": [
    "command_r(\"say hello\")"
   ]
  },
  {
   "cell_type": "code",
   "execution_count": 33,
   "id": "8ea5f2fe",
   "metadata": {},
   "outputs": [
    {
     "name": "stdout",
     "output_type": "stream",
     "text": [
      "Existing running Phoenix instance detected! Shutting it down and starting a new instance...\n",
      "🌍 To view the Phoenix app in your browser, visit http://localhost:6006/\n",
      "📺 To view the Phoenix app in a notebook, run `px.active_session().view()`\n",
      "📖 For more information on how to use Phoenix, check out https://docs.arize.com/phoenix\n"
     ]
    },
    {
     "name": "stderr",
     "output_type": "stream",
     "text": [
      "/Users/cshorten/Desktop/DSPy-local/myenv/lib/python3.10/site-packages/starlette/templating.py:178: DeprecationWarning: The `name` is not the first parameter anymore. The first parameter should be the `Request` instance.\n",
      "Replace `TemplateResponse(name, {\"request\": request})` by `TemplateResponse(request, name)`.\n",
      "  warnings.warn(\n",
      "/Users/cshorten/Desktop/DSPy-local/myenv/lib/python3.10/site-packages/starlette/templating.py:178: DeprecationWarning: The `name` is not the first parameter anymore. The first parameter should be the `Request` instance.\n",
      "Replace `TemplateResponse(name, {\"request\": request})` by `TemplateResponse(request, name)`.\n",
      "  warnings.warn(\n"
     ]
    }
   ],
   "source": [
    "# Phoenix Setup\n",
    "import phoenix as px\n",
    "phoenix_session = px.launch_app()"
   ]
  },
  {
   "cell_type": "code",
   "execution_count": 34,
   "id": "3ecde8db",
   "metadata": {},
   "outputs": [
    {
     "name": "stdout",
     "output_type": "stream",
     "text": [
      "Overriding of current TracerProvider is not allowed\n",
      "Attempting to instrument while already instrumented\n"
     ]
    }
   ],
   "source": [
    "from openinference.instrumentation.dspy import DSPyInstrumentor\n",
    "from opentelemetry import trace as trace_api\n",
    "from opentelemetry.exporter.otlp.proto.http.trace_exporter import OTLPSpanExporter\n",
    "from opentelemetry.sdk import trace as trace_sdk\n",
    "from opentelemetry.sdk.trace.export import SimpleSpanProcessor\n",
    "\n",
    "endpoint = \"http://127.0.0.1:6006/v1/traces\"\n",
    "tracer_provider = trace_sdk.TracerProvider()\n",
    "span_otlp_exporter = OTLPSpanExporter(endpoint=endpoint)\n",
    "tracer_provider.add_span_processor(SimpleSpanProcessor(span_exporter=span_otlp_exporter))\n",
    "\n",
    "trace_api.set_tracer_provider(tracer_provider=tracer_provider)\n",
    "DSPyInstrumentor().instrument()"
   ]
  },
  {
   "cell_type": "markdown",
   "id": "4a373baa",
   "metadata": {},
   "source": [
    "## Hurricane's `Question2BlogOutline`"
   ]
  },
  {
   "cell_type": "code",
   "execution_count": 39,
   "id": "560bad10",
   "metadata": {},
   "outputs": [],
   "source": [
    "class Question2BlogOutline(dspy.Signature):\n",
    "    \"\"\"Your task is to write a Weaviate blog post that will help answer the given question.\\nPlease use the contexts from a web search and published Weaviate blog posts to evaluate the structure of the blog post.\"\"\"\n",
    "    \n",
    "    question = dspy.InputField()\n",
    "    blog_context = dspy.InputField()\n",
    "    web_context = dspy.InputField()\n",
    "    blog_outline = dspy.OutputField(desc=\"A list of topics the blog will cover. IMPORTANT!! This must follow a comma separated list of values!\")"
   ]
  },
  {
   "cell_type": "code",
   "execution_count": 40,
   "id": "867ed090",
   "metadata": {},
   "outputs": [],
   "source": [
    "# Utils\n",
    "def format_weaviate_and_you_contexts(weaviateRM_output, youRM_output):\n",
    "    weaviateRM_output = [d['long_text'] for d in weaviateRM_output]\n",
    "    weaviateRM_output = \"\".join(weaviateRM_output)\n",
    "    youRM_output = [d['long_text'] for d in youRM_output]\n",
    "    youRM_output = \"\".join(youRM_output)\n",
    "    return weaviateRM_output, youRM_output"
   ]
  },
  {
   "cell_type": "markdown",
   "id": "0c84d3e3",
   "metadata": {},
   "source": [
    "## Blog2Outline"
   ]
  },
  {
   "cell_type": "code",
   "execution_count": 43,
   "id": "3412be88",
   "metadata": {},
   "outputs": [
    {
     "name": "stdout",
     "output_type": "stream",
     "text": [
      "\u001b[91mResult for GPT-4\n",
      "\n",
      "\u001b[0mIntroduction to Cross Encoders, Definition and Working Mechanism of Cross Encoders, Advantages of Cross Encoders, Challenges of Cross Encoders, The Math Behind Cross Encoders, Practical Applications of Cross Encoders, Understanding Bi-Encoders, Advantages of Bi-Encoders, Challenges of Bi-Encoders, The Math Behind Bi-Encoders, Comparative Analysis: Cross-Encoders vs. Bi-Encoders, When to Use Cross-Encoders and Bi-Encoders, Combining Bi- and Cross-Encoders, Training Cross-Encoders, Conclusion \n",
      "\n",
      "\u001b[91mResult for GPT-3.5-Turbo\n",
      "\n",
      "\u001b[0m1. Introduction to Cross Encoders\n",
      "2. Comparison between Cross Encoders and Bi Encoders\n",
      "3. Advantages and Challenges of Cross Encoders\n",
      "4. Use Cases of Cross Encoders\n",
      "5. Training and Implementation of Cross Encoders\n",
      "6. Combining Bi and Cross Encoders\n",
      "7. Conclusion and Future of Cross Encoders \n",
      "\n",
      "\u001b[91mResult for Command-R\n",
      "\n",
      "\u001b[0mWhat are cross-encoders and how do they work? \n",
      "- A brief introduction to the two types of encoders and their trade-offs\n",
      "- How do cross-encoders enhance accuracy in certain scenarios?\n",
      "- Explaining the math behind cross-encoders\n",
      "- Advantages and Disadvantages of Cross-Encoders\n",
      "- Real-life applications of Cross-Encoders \n",
      "\n",
      "\u001b[91mResult for Mistral-7B\n",
      "\n",
      "\u001b[0mI. Introduction\n",
      "A. Importance of sentence embeddings in NLP\n",
      "B. Role of BERT and its impact on language understanding\n",
      "C. Overview of the topic: Cross-Encoders vs Bi-Encoders\n",
      "\n",
      "II. Understanding Sentence Embeddings: A Primer\n",
      "A. Definition and significance of sentence embeddings\n",
      "B. Explanation of Cross-Encoders and Bi-Encoders\n",
      "\n",
      "III. Cross-Encoders: Sharing the Same Space\n",
      "A. Description and working mechanism of Cross-Encoders\n",
      "B. Advantages and use cases: Sentiment Analysis, Question-Answering Systems\n",
      "C. Real-time Chatbots and Large-scale Information Retrieval\n",
      "\n",
      "IV. Bi-Encoders: Separate but Equal\n",
      "A. Description and working mechanism of Bi-Encoders\n",
      "B. Advantages and use cases: Duplicate Content Detection, Real-time Chatbots\n",
      "C. Large-scale Information Retrieval and other applications\n",
      "\n",
      "V. Comparison: Cross-Encoders vs Bi-Encoders\n",
      "A. Similarities and differences in architecture and functionality\n",
      "B. Performance comparison: Speed, Accuracy, Scalability\n",
      "C. Choosing the right model based on use case and requirements\n",
      "\n",
      "VI. Conclusion\n",
      "A. Recap of the main points discussed\n",
      "B. Future directions and potential developments\n",
      "C. Encouraging further exploration and research in this field. \n",
      "\n"
     ]
    }
   ],
   "source": [
    "class Blog2Outline(dspy.Module):\n",
    "    def __init__(self, weaviate_rm, you_rm):\n",
    "        self.question_to_blog_outline = dspy.Predict(Question2BlogOutline)\n",
    "        self.weaviate_rm = weaviate_rm\n",
    "        self.you_rm = you_rm\n",
    "\n",
    "    def forward(self, question):\n",
    "        blog_contexts = self.weaviate_rm(question)\n",
    "        web_contexts = self.you_rm(question)\n",
    "        blog_contexts, web_contexts = format_weaviate_and_you_contexts(blog_contexts, web_contexts)\n",
    "        question_to_blog_outline_outputs = self.question_to_blog_outline(question=question, blog_context=blog_contexts, web_context=web_contexts)\n",
    "        return question_to_blog_outline_outputs.blog_outline\n",
    "                                                                         \n",
    "toy_question = \"What are cross encoders?\"\n",
    "blog2outline = Blog2Outline(weaviate_rm, you_rm)\n",
    "\n",
    "for lm_dict in lms:\n",
    "    lm, name = lm_dict[\"lm\"], lm_dict[\"name\"]\n",
    "    with dspy.context(lm=lm):\n",
    "        print(f\"\\033[91mResult for {name}\\n\")\n",
    "        print(f\"\\033[0m{blog2outline(question=toy_question)} \\n\")"
   ]
  },
  {
   "cell_type": "markdown",
   "id": "9e1578ac",
   "metadata": {},
   "source": [
    "## DSPy TypedPredictors"
   ]
  },
  {
   "cell_type": "code",
   "execution_count": 56,
   "id": "947101e0",
   "metadata": {},
   "outputs": [],
   "source": [
    "from dspy.functional import TypedPredictor\n",
    "import pydantic\n",
    "from typing import List\n",
    "\n",
    "class Topic(pydantic.BaseModel):\n",
    "    topic: str\n",
    "    topic_description: str\n",
    "\n",
    "class Topics(pydantic.BaseModel):\n",
    "    topics: List[Topic]\n",
    "\n",
    "class TypedQuestion2BlogOutline(dspy.Signature):\n",
    "    \"\"\"Your task is to write a Weaviate blog post that will help answer the given question.\\nPlease use the contexts from a web search and published Weaviate blog posts to evaluate the structure of the blog post.\"\"\"\n",
    "    \n",
    "    question: str = dspy.InputField()\n",
    "    blog_context: str = dspy.InputField()\n",
    "    web_context: str = dspy.InputField()\n",
    "    blog_outline: Topics = dspy.OutputField(desc=\"A list of topics the blog will cover. IMPORTANT!! This must follow a comma separated list of values!\")"
   ]
  },
  {
   "cell_type": "code",
   "execution_count": 63,
   "id": "bc1944c2",
   "metadata": {},
   "outputs": [
    {
     "name": "stdout",
     "output_type": "stream",
     "text": [
      "\u001b[91mResult for GPT-4\n",
      "\n",
      "\u001b[0mtopics=[Topic(topic='Introduction to Cross Encoders', topic_description='An overview of what Cross Encoders are and their significance in the field of NLP.'), Topic(topic='Understanding the Mechanism of Cross Encoders', topic_description='A detailed explanation of how Cross Encoders work, including their process of encoding sentence pairs.'), Topic(topic='Advantages of Cross Encoders', topic_description='Discussion of the benefits of using Cross Encoders, such as their high accuracy and detailed textual analysis capabilities.'), Topic(topic='Challenges and Limitations of Cross Encoders', topic_description='Exploration of the computational intensity and potential drawbacks of using Cross Encoders in certain applications.'), Topic(topic='Comparative Analysis: Cross Encoders vs. Bi-Encoders', topic_description='A comparison between Cross Encoders and Bi-Encoders, highlighting the scenarios where each is most effective.'), Topic(topic='Practical Applications of Cross Encoders', topic_description='Examples of real-world applications where Cross Encoders are particularly useful, such as sentiment analysis and question-answering systems.'), Topic(topic='Integrating Cross Encoders with Weaviate', topic_description='How Weaviate can interface with Cross Encoders to enhance search and retrieval capabilities.'), Topic(topic='Future of Cross Encoders and Weaviate', topic_description=\"Speculation on the future developments of Cross Encoders and their potential impact on Weaviate's functionality.\"), Topic(topic='Conclusion', topic_description='Summarizing the key points discussed in the blog post and the role of Cross Encoders in advancing NLP.')] \n",
      "\n",
      "\u001b[91mResult for GPT-3.5-Turbo\n",
      "\n",
      "\u001b[0mtopics=[Topic(topic='Introduction to Cross Encoders', topic_description='Explaining what cross encoders are and their role in content-based re-ranking'), Topic(topic='Pre-trained Cross-Encoder models', topic_description='Discussing the availability of pre-trained cross-encoder models and their usage in Weaviate'), Topic(topic='Comparison of Cross-Encoders and Bi-Encoders', topic_description='Highlighting the differences between cross-encoders and bi-encoders, including their advantages and challenges'), Topic(topic='Training Cross-Encoders', topic_description='Providing insights into how to train cross-encoder models for sentence pair tasks'), Topic(topic='Combining Bi- and Cross-Encoders', topic_description='Exploring the benefits of combining bi-encoders and cross-encoders in scenarios like information retrieval')] \n",
      "\n",
      "\u001b[91mResult for Command-R\n",
      "\n",
      "\u001b[0mtopics=[Topic(topic='Cross-Encoders and Bi-Encoders', topic_description='An introduction to the basic concepts of Cross-Encoders and Bi-Encoders.'), Topic(topic='Strengths and Weaknesses', topic_description='Comparing the strengths and weaknesses of Cross-Encoders and Bi-Encoders in different use cases.'), Topic(topic=\"Weaviate's Approach\", topic_description='How Weaviate leverages the advantages of both Cross-Encoders and Bi-Encoders for efficient and effective vector database retrieval.'), Topic(topic='Future Directions', topic_description='Exploring the potential of trans-encoders and other innovations in sentence-pair models.')] \n",
      "\n",
      "\u001b[91mResult for Mistral-7B\n",
      "\n"
     ]
    },
    {
     "ename": "ValueError",
     "evalue": "('Too many retries trying to get the correct output format. Try simplifying the requirements.', {'blog_outline': \"ValueError('json output should start and end with { and }')\"})",
     "output_type": "error",
     "traceback": [
      "\u001b[0;31m---------------------------------------------------------------------------\u001b[0m",
      "\u001b[0;31mValueError\u001b[0m                                Traceback (most recent call last)",
      "Cell \u001b[0;32mIn[63], line 25\u001b[0m\n\u001b[1;32m     23\u001b[0m \u001b[38;5;28;01mwith\u001b[39;00m dspy\u001b[38;5;241m.\u001b[39mcontext(lm\u001b[38;5;241m=\u001b[39mlm):\n\u001b[1;32m     24\u001b[0m     \u001b[38;5;28mprint\u001b[39m(\u001b[38;5;124mf\u001b[39m\u001b[38;5;124m\"\u001b[39m\u001b[38;5;130;01m\\033\u001b[39;00m\u001b[38;5;124m[91mResult for \u001b[39m\u001b[38;5;132;01m{\u001b[39;00mname\u001b[38;5;132;01m}\u001b[39;00m\u001b[38;5;130;01m\\n\u001b[39;00m\u001b[38;5;124m\"\u001b[39m)\n\u001b[0;32m---> 25\u001b[0m     \u001b[38;5;28mprint\u001b[39m(\u001b[38;5;124mf\u001b[39m\u001b[38;5;124m\"\u001b[39m\u001b[38;5;130;01m\\033\u001b[39;00m\u001b[38;5;124m[0m\u001b[39m\u001b[38;5;132;01m{\u001b[39;00m\u001b[43mblog2outline\u001b[49m\u001b[43m(\u001b[49m\u001b[43mquestion\u001b[49m\u001b[38;5;241;43m=\u001b[39;49m\u001b[43mtoy_question\u001b[49m\u001b[43m)\u001b[49m\u001b[38;5;132;01m}\u001b[39;00m\u001b[38;5;124m \u001b[39m\u001b[38;5;130;01m\\n\u001b[39;00m\u001b[38;5;124m\"\u001b[39m)\n",
      "File \u001b[0;32m~/Desktop/DSPy-local/myenv/lib/python3.10/site-packages/openinference/instrumentation/dspy/__init__.py:373\u001b[0m, in \u001b[0;36m_ModuleForwardWrapper.__call__\u001b[0;34m(self, wrapped, instance, args, kwargs)\u001b[0m\n\u001b[1;32m    353\u001b[0m \u001b[38;5;28;01mwith\u001b[39;00m \u001b[38;5;28mself\u001b[39m\u001b[38;5;241m.\u001b[39m_tracer\u001b[38;5;241m.\u001b[39mstart_as_current_span(\n\u001b[1;32m    354\u001b[0m     span_name,\n\u001b[1;32m    355\u001b[0m     attributes\u001b[38;5;241m=\u001b[39m\u001b[38;5;28mdict\u001b[39m(\n\u001b[0;32m   (...)\u001b[0m\n\u001b[1;32m    370\u001b[0m     ),\n\u001b[1;32m    371\u001b[0m ) \u001b[38;5;28;01mas\u001b[39;00m span:\n\u001b[1;32m    372\u001b[0m     \u001b[38;5;28;01mtry\u001b[39;00m:\n\u001b[0;32m--> 373\u001b[0m         prediction \u001b[38;5;241m=\u001b[39m \u001b[43mwrapped\u001b[49m\u001b[43m(\u001b[49m\u001b[38;5;241;43m*\u001b[39;49m\u001b[43margs\u001b[49m\u001b[43m,\u001b[49m\u001b[43m \u001b[49m\u001b[38;5;241;43m*\u001b[39;49m\u001b[38;5;241;43m*\u001b[39;49m\u001b[43mkwargs\u001b[49m\u001b[43m)\u001b[49m\n\u001b[1;32m    374\u001b[0m     \u001b[38;5;28;01mexcept\u001b[39;00m \u001b[38;5;167;01mException\u001b[39;00m \u001b[38;5;28;01mas\u001b[39;00m exception:\n\u001b[1;32m    375\u001b[0m         span\u001b[38;5;241m.\u001b[39mset_status(trace_api\u001b[38;5;241m.\u001b[39mStatus(trace_api\u001b[38;5;241m.\u001b[39mStatusCode\u001b[38;5;241m.\u001b[39mERROR, \u001b[38;5;28mstr\u001b[39m(exception)))\n",
      "File \u001b[0;32m~/Desktop/DSPy-local/myenv/lib/python3.10/site-packages/dspy_ai-2.4.1-py3.10.egg/dspy/primitives/program.py:26\u001b[0m, in \u001b[0;36mModule.__call__\u001b[0;34m(self, *args, **kwargs)\u001b[0m\n\u001b[1;32m     25\u001b[0m \u001b[38;5;28;01mdef\u001b[39;00m \u001b[38;5;21m__call__\u001b[39m(\u001b[38;5;28mself\u001b[39m, \u001b[38;5;241m*\u001b[39margs, \u001b[38;5;241m*\u001b[39m\u001b[38;5;241m*\u001b[39mkwargs):\n\u001b[0;32m---> 26\u001b[0m     \u001b[38;5;28;01mreturn\u001b[39;00m \u001b[38;5;28;43mself\u001b[39;49m\u001b[38;5;241;43m.\u001b[39;49m\u001b[43mforward\u001b[49m\u001b[43m(\u001b[49m\u001b[38;5;241;43m*\u001b[39;49m\u001b[43margs\u001b[49m\u001b[43m,\u001b[49m\u001b[43m \u001b[49m\u001b[38;5;241;43m*\u001b[39;49m\u001b[38;5;241;43m*\u001b[39;49m\u001b[43mkwargs\u001b[49m\u001b[43m)\u001b[49m\n",
      "Cell \u001b[0;32mIn[63], line 13\u001b[0m, in \u001b[0;36mTypedBlog2Outline.forward\u001b[0;34m(self, question)\u001b[0m\n\u001b[1;32m     11\u001b[0m web_contexts \u001b[38;5;241m=\u001b[39m \u001b[38;5;28mself\u001b[39m\u001b[38;5;241m.\u001b[39myou_rm(question)\n\u001b[1;32m     12\u001b[0m blog_contexts, web_contexts \u001b[38;5;241m=\u001b[39m format_weaviate_and_you_contexts(blog_contexts, web_contexts)\n\u001b[0;32m---> 13\u001b[0m question_to_blog_outline_outputs \u001b[38;5;241m=\u001b[39m \u001b[38;5;28;43mself\u001b[39;49m\u001b[38;5;241;43m.\u001b[39;49m\u001b[43mquestion_to_blog_outline\u001b[49m\u001b[43m(\u001b[49m\u001b[43mquestion\u001b[49m\u001b[38;5;241;43m=\u001b[39;49m\u001b[43mquestion\u001b[49m\u001b[43m,\u001b[49m\u001b[43m \u001b[49m\u001b[43mblog_context\u001b[49m\u001b[38;5;241;43m=\u001b[39;49m\u001b[43mblog_contexts\u001b[49m\u001b[43m,\u001b[49m\u001b[43m \u001b[49m\u001b[43mweb_context\u001b[49m\u001b[38;5;241;43m=\u001b[39;49m\u001b[43mweb_contexts\u001b[49m\u001b[43m)\u001b[49m\n\u001b[1;32m     14\u001b[0m \u001b[38;5;28;01mreturn\u001b[39;00m question_to_blog_outline_outputs\u001b[38;5;241m.\u001b[39mblog_outline\n",
      "File \u001b[0;32m~/Desktop/DSPy-local/myenv/lib/python3.10/site-packages/openinference/instrumentation/dspy/__init__.py:373\u001b[0m, in \u001b[0;36m_ModuleForwardWrapper.__call__\u001b[0;34m(self, wrapped, instance, args, kwargs)\u001b[0m\n\u001b[1;32m    353\u001b[0m \u001b[38;5;28;01mwith\u001b[39;00m \u001b[38;5;28mself\u001b[39m\u001b[38;5;241m.\u001b[39m_tracer\u001b[38;5;241m.\u001b[39mstart_as_current_span(\n\u001b[1;32m    354\u001b[0m     span_name,\n\u001b[1;32m    355\u001b[0m     attributes\u001b[38;5;241m=\u001b[39m\u001b[38;5;28mdict\u001b[39m(\n\u001b[0;32m   (...)\u001b[0m\n\u001b[1;32m    370\u001b[0m     ),\n\u001b[1;32m    371\u001b[0m ) \u001b[38;5;28;01mas\u001b[39;00m span:\n\u001b[1;32m    372\u001b[0m     \u001b[38;5;28;01mtry\u001b[39;00m:\n\u001b[0;32m--> 373\u001b[0m         prediction \u001b[38;5;241m=\u001b[39m \u001b[43mwrapped\u001b[49m\u001b[43m(\u001b[49m\u001b[38;5;241;43m*\u001b[39;49m\u001b[43margs\u001b[49m\u001b[43m,\u001b[49m\u001b[43m \u001b[49m\u001b[38;5;241;43m*\u001b[39;49m\u001b[38;5;241;43m*\u001b[39;49m\u001b[43mkwargs\u001b[49m\u001b[43m)\u001b[49m\n\u001b[1;32m    374\u001b[0m     \u001b[38;5;28;01mexcept\u001b[39;00m \u001b[38;5;167;01mException\u001b[39;00m \u001b[38;5;28;01mas\u001b[39;00m exception:\n\u001b[1;32m    375\u001b[0m         span\u001b[38;5;241m.\u001b[39mset_status(trace_api\u001b[38;5;241m.\u001b[39mStatus(trace_api\u001b[38;5;241m.\u001b[39mStatusCode\u001b[38;5;241m.\u001b[39mERROR, \u001b[38;5;28mstr\u001b[39m(exception)))\n",
      "File \u001b[0;32m~/Desktop/DSPy-local/myenv/lib/python3.10/site-packages/dspy_ai-2.4.1-py3.10.egg/dspy/primitives/program.py:26\u001b[0m, in \u001b[0;36mModule.__call__\u001b[0;34m(self, *args, **kwargs)\u001b[0m\n\u001b[1;32m     25\u001b[0m \u001b[38;5;28;01mdef\u001b[39;00m \u001b[38;5;21m__call__\u001b[39m(\u001b[38;5;28mself\u001b[39m, \u001b[38;5;241m*\u001b[39margs, \u001b[38;5;241m*\u001b[39m\u001b[38;5;241m*\u001b[39mkwargs):\n\u001b[0;32m---> 26\u001b[0m     \u001b[38;5;28;01mreturn\u001b[39;00m \u001b[38;5;28;43mself\u001b[39;49m\u001b[38;5;241;43m.\u001b[39;49m\u001b[43mforward\u001b[49m\u001b[43m(\u001b[49m\u001b[38;5;241;43m*\u001b[39;49m\u001b[43margs\u001b[49m\u001b[43m,\u001b[49m\u001b[43m \u001b[49m\u001b[38;5;241;43m*\u001b[39;49m\u001b[38;5;241;43m*\u001b[39;49m\u001b[43mkwargs\u001b[49m\u001b[43m)\u001b[49m\n",
      "File \u001b[0;32m~/Desktop/DSPy-local/myenv/lib/python3.10/site-packages/dspy_ai-2.4.1-py3.10.egg/dspy/functional/functional.py:346\u001b[0m, in \u001b[0;36mTypedPredictor.forward\u001b[0;34m(self, **kwargs)\u001b[0m\n\u001b[1;32m    341\u001b[0m     \u001b[38;5;28;01melse\u001b[39;00m:\n\u001b[1;32m    342\u001b[0m         \u001b[38;5;66;03m# If there are no errors, we return the parsed results\u001b[39;00m\n\u001b[1;32m    343\u001b[0m         \u001b[38;5;28;01mreturn\u001b[39;00m Prediction\u001b[38;5;241m.\u001b[39mfrom_completions(\n\u001b[1;32m    344\u001b[0m             {key: [r[key] \u001b[38;5;28;01mfor\u001b[39;00m r \u001b[38;5;129;01min\u001b[39;00m parsed_results] \u001b[38;5;28;01mfor\u001b[39;00m key \u001b[38;5;129;01min\u001b[39;00m signature\u001b[38;5;241m.\u001b[39moutput_fields},\n\u001b[1;32m    345\u001b[0m         )\n\u001b[0;32m--> 346\u001b[0m \u001b[38;5;28;01mraise\u001b[39;00m \u001b[38;5;167;01mValueError\u001b[39;00m(\n\u001b[1;32m    347\u001b[0m     \u001b[38;5;124m\"\u001b[39m\u001b[38;5;124mToo many retries trying to get the correct output format. \u001b[39m\u001b[38;5;124m\"\u001b[39m \u001b[38;5;241m+\u001b[39m \u001b[38;5;124m\"\u001b[39m\u001b[38;5;124mTry simplifying the requirements.\u001b[39m\u001b[38;5;124m\"\u001b[39m,\n\u001b[1;32m    348\u001b[0m     errors,\n\u001b[1;32m    349\u001b[0m )\n",
      "\u001b[0;31mValueError\u001b[0m: ('Too many retries trying to get the correct output format. Try simplifying the requirements.', {'blog_outline': \"ValueError('json output should start and end with { and }')\"})"
     ]
    }
   ],
   "source": [
    "import functools\n",
    "\n",
    "class TypedBlog2Outline(dspy.Module):\n",
    "    def __init__(self, weaviate_rm, you_rm):\n",
    "        self.question_to_blog_outline = dspy.functional.TypedPredictor(TypedQuestion2BlogOutline)\n",
    "        self.weaviate_rm = weaviate_rm\n",
    "        self.you_rm = you_rm\n",
    "\n",
    "    def forward(self, question):\n",
    "        blog_contexts = self.weaviate_rm(question)\n",
    "        web_contexts = self.you_rm(question)\n",
    "        blog_contexts, web_contexts = format_weaviate_and_you_contexts(blog_contexts, web_contexts)\n",
    "        question_to_blog_outline_outputs = self.question_to_blog_outline(question=question, blog_context=blog_contexts, web_context=web_contexts)\n",
    "        return question_to_blog_outline_outputs.blog_outline\n",
    "\n",
    "                                                                         \n",
    "blog2outline = TypedBlog2Outline(weaviate_rm, you_rm)\n",
    "        \n",
    "toy_question = \"What are cross encoders?\"\n",
    "\n",
    "for lm_dict in lms:\n",
    "    lm, name = lm_dict[\"lm\"], lm_dict[\"name\"]\n",
    "    with dspy.context(lm=lm):\n",
    "        print(f\"\\033[91mResult for {name}\\n\")\n",
    "        print(f\"\\033[0m{blog2outline(question=toy_question)} \\n\")"
   ]
  },
  {
   "cell_type": "markdown",
   "id": "01217bdd",
   "metadata": {},
   "source": [
    "## Assertions"
   ]
  },
  {
   "cell_type": "markdown",
   "id": "c3c3786d",
   "metadata": {},
   "source": [
    "- Assertion-driven backtracking allows pipelines to self-correct at inference time by retrying failing modules with refined prompts."
   ]
  },
  {
   "cell_type": "code",
   "execution_count": 51,
   "id": "e654287a",
   "metadata": {},
   "outputs": [
    {
     "name": "stdout",
     "output_type": "stream",
     "text": [
      "\u001b[91mResult for GPT-4\n",
      "\n",
      "\u001b[0mIntroduction to Cross Encoders, Definition and Working Mechanism of Cross Encoders, Advantages of Cross Encoders, Challenges of Cross Encoders, The Math Behind Cross Encoders, Practical Applications of Cross Encoders, Understanding Bi-Encoders, Advantages of Bi-Encoders, Challenges of Bi-Encoders, The Math Behind Bi-Encoders, Comparative Analysis: Cross-Encoders vs. Bi-Encoders, When to Use Cross-Encoders and Bi-Encoders, Combining Bi- and Cross-Encoders, Training Cross-Encoders, Conclusion \n",
      "\n",
      "\u001b[91mResult for GPT-3.5-Turbo\n",
      "\n",
      "SuggestionFailed: \n",
      "Output must be a comma-separated list of topics!\n",
      "Please remove any numerical listing, such as (1., 2., ...) or alphabetical listing, such as (A., B., ...) or other symbols to denote lists such as '*' or '-'\n",
      "\n",
      "\u001b[0mIntroduction to Cross Encoders, Comparison between Cross Encoders and Bi Encoders, Advantages and Challenges of Cross Encoders, Use Cases of Cross Encoders, Training and Implementation of Cross Encoders, Combining Bi and Cross Encoders, Conclusion and Future of Cross Encoders \n",
      "\n",
      "\u001b[91mResult for Command-R\n",
      "\n",
      "SuggestionFailed: \n",
      "Output must be a comma-separated list of topics!\n",
      "Please remove any numerical listing, such as (1., 2., ...) or alphabetical listing, such as (A., B., ...) or other symbols to denote lists such as '*' or '-'\n",
      "\n",
      "\u001b[0mIntroduction, Cross-Encoders Defined, How Cross-Encoders Work, Trade-offs, Use Cases, Mathematics of Cross-Encoders, Advantages, Disadvantages, Conclusion \n",
      "\n",
      "\u001b[91mResult for Mistral-7B\n",
      "\n",
      "\u001b[0mI. Introduction\n",
      "A. Importance of sentence embeddings in NLP\n",
      "B. Role of BERT and its impact on language understanding\n",
      "C. Overview of the topic: Cross-Encoders vs Bi-Encoders\n",
      "\n",
      "II. Understanding Sentence Embeddings: A Primer\n",
      "A. Definition and significance of sentence embeddings\n",
      "B. Explanation of Cross-Encoders and Bi-Encoders\n",
      "\n",
      "III. Cross-Encoders: Sharing the Same Space\n",
      "A. Description and working mechanism of Cross-Encoders\n",
      "B. Advantages and use cases: Sentiment Analysis, Question-Answering Systems\n",
      "C. Real-time Chatbots and Large-scale Information Retrieval\n",
      "\n",
      "IV. Bi-Encoders: Separate but Equal\n",
      "A. Description and working mechanism of Bi-Encoders\n",
      "B. Advantages and use cases: Duplicate Content Detection, Real-time Chatbots\n",
      "C. Large-scale Information Retrieval and other applications\n",
      "\n",
      "V. Comparison: Cross-Encoders vs Bi-Encoders\n",
      "A. Similarities and differences in architecture and functionality\n",
      "B. Performance comparison: Speed, Accuracy, Scalability\n",
      "C. Choosing the right model based on use case and requirements\n",
      "\n",
      "VI. Conclusion\n",
      "A. Recap of the main points discussed\n",
      "B. Future directions and potential developments\n",
      "C. Encouraging further exploration and research in this field. \n",
      "\n"
     ]
    }
   ],
   "source": [
    "import functools\n",
    "\n",
    "def is_comma_separated_list(string):\n",
    "    string = string.strip()\n",
    "    if \",\" in string:\n",
    "        values = string.split(\",\")\n",
    "        for value in values:\n",
    "            if not value.strip():\n",
    "                return False\n",
    "        return True\n",
    "    else:\n",
    "        return False\n",
    "    \n",
    "failed_assertion_message = \"\"\"\n",
    "Output must be a comma-separated list of topics!\n",
    "Please remove any numerical listing, such as (1., 2., ...) or alphabetical listing, such as (A., B., ...) or other symbols to denote lists such as '*' or '-'\n",
    "\"\"\"\n",
    "    \n",
    "class Blog2OutlineWithAssertions(dspy.Module):\n",
    "    def __init__(self, weaviate_rm, you_rm):\n",
    "        self.question_to_blog_outline = dspy.Predict(Question2BlogOutline)\n",
    "        self.weaviate_rm = weaviate_rm\n",
    "        self.you_rm = you_rm\n",
    "\n",
    "    def forward(self, question):\n",
    "        blog_contexts = self.weaviate_rm(question)\n",
    "        web_contexts = self.you_rm(question)\n",
    "        blog_contexts, web_contexts = format_weaviate_and_you_contexts(blog_contexts, web_contexts)\n",
    "        question_to_blog_outline_outputs = self.question_to_blog_outline(question=question, blog_context=blog_contexts, web_context=web_contexts)\n",
    "        dspy.Suggest(is_comma_separated_list(question_to_blog_outline_outputs.blog_outline),\n",
    "                    failed_assertion_message)\n",
    "        return question_to_blog_outline_outputs.blog_outline\n",
    "\n",
    "\n",
    "                                                                         \n",
    "toy_question = \"What are cross encoders?\"\n",
    "\n",
    "from dspy.primitives.assertions import assert_transform_module, backtrack_handler\n",
    "\n",
    "blog2outline_with_assertions = assert_transform_module(Blog2OutlineWithAssertions(weaviate_rm, you_rm),\n",
    "                                                      functools.partial(backtrack_handler, max_backtracks=1))\n",
    "\n",
    "for lm_dict in lms:\n",
    "    lm, name = lm_dict[\"lm\"], lm_dict[\"name\"]\n",
    "    with dspy.context(lm=lm):\n",
    "        print(f\"\\033[91mResult for {name}\\n\")\n",
    "        print(f\"\\033[0m{blog2outline_with_assertions(question=toy_question)} \\n\")"
   ]
  },
  {
   "cell_type": "markdown",
   "id": "9ffb46d6",
   "metadata": {},
   "source": [
    "## Custom Guardrails with the DSPy Programming Model"
   ]
  },
  {
   "cell_type": "markdown",
   "id": "bbb3811c",
   "metadata": {},
   "source": [
    "Notes on Compiling Assertions\n",
    "\n",
    "- Assertion-driven example bootstrapping genrates more robust few-shot examples that adhere to constraints during DSPy's prompt optimization phase.\n",
    "\n",
    "- Counterexample bootstrapping creates demonstrations with failed examples and fixes to further improve the LM's ability to comply with constraints.\n",
    "\n",
    "Notes on Metrics\n",
    "\n",
    "- Intrinsic Metrics = Assertions\n",
    "- Extrinsic Metrics = Answer Quality in QA"
   ]
  },
  {
   "cell_type": "code",
   "execution_count": 107,
   "id": "42a4bf16",
   "metadata": {},
   "outputs": [],
   "source": [
    "class TopicGuardrails(dspy.Signature):\n",
    "    \"\"\"Please assess whether this generated topic list is properly formatted as a comma-separated list.\"\"\"\n",
    "    \n",
    "    topic_str = dspy.InputField()\n",
    "    properly_formatted = dspy.OutputField(desc = \"only output True or False\")\n",
    "    reason_for_properly_formatted_decision = dspy.OutputField()\n",
    "\n",
    "class RetryTopic(dspy.Signature):\n",
    "    \"\"\"Given the original output and the reason for it's failure, please correct it. \n",
    "    Please also remove any extra text before the topics begin such as something lik `A list of topics the blog will cover:`\"\"\"\n",
    "    \n",
    "    original_output = dspy.InputField()\n",
    "    reason_for_failure = dspy.InputField()\n",
    "    corrected_output = dspy.OutputField()\n",
    "\n",
    "class Blog2OutlineWithCustomGuardrails(dspy.Module):\n",
    "    def __init__(self, weaviate_rm, you_rm):\n",
    "        self.question_to_blog_outline = dspy.Predict(Question2BlogOutline)\n",
    "        self.topic_guardrails = dspy.Predict(TopicGuardrails)\n",
    "        self.retry_topic = dspy.Predict(RetryTopic)\n",
    "        self.weaviate_rm = weaviate_rm\n",
    "        self.you_rm = you_rm\n",
    "\n",
    "    def forward(self, question):\n",
    "        blog_contexts = self.weaviate_rm(question)\n",
    "        web_contexts = self.you_rm(question)\n",
    "        blog_contexts, web_contexts = format_weaviate_and_you_contexts(blog_contexts, web_contexts)\n",
    "        question_to_blog_outline_outputs = self.question_to_blog_outline(question=question, blog_context=blog_contexts, web_context=web_contexts)\n",
    "        blog_outline = question_to_blog_outline_outputs.blog_outline\n",
    "        counter = 0\n",
    "        while True:\n",
    "            with dspy.context(lm=gpt4):\n",
    "                guardrails_outputs = self.topic_guardrails(topic_str=blog_outline)\n",
    "            print(f\"\\n Guardrails Outputs {guardrails_outputs}\")\n",
    "            if guardrails_outputs.properly_formatted == 'True':\n",
    "                break\n",
    "            reason_for_failure = guardrails_outputs.reason_for_properly_formatted_decision\n",
    "            blog_outline = self.retry_topic(original_output=blog_outline, reason_for_failure=reason_for_failure).corrected_output\n",
    "            print(f\"\\n Retried Blog Outline: {blog_outline}\\n\")\n",
    "            counter += 1\n",
    "            if counter >= 3:\n",
    "                print(\"Exceeded Retry Limit, exiting.\")\n",
    "                break\n",
    "        return blog_outline"
   ]
  },
  {
   "cell_type": "code",
   "execution_count": 108,
   "id": "b7260534",
   "metadata": {},
   "outputs": [
    {
     "name": "stdout",
     "output_type": "stream",
     "text": [
      "\u001b[91mResult for GPT-4\n",
      "\n",
      "\n",
      " Guardrails Outputs Prediction(\n",
      "    properly_formatted='True',\n",
      "    reason_for_properly_formatted_decision='The topic list is properly formatted as a comma-separated list, with each topic separated by a comma and a space, following standard English punctuation rules for lists.'\n",
      ")\n",
      "\u001b[0mIntroduction to HNSW and its relevance in vector search, Overview of ANN algorithms and their importance, Understanding the concept of \"length scale\" in HNSW, The hierarchical structure of HNSW and its comparison to Skip Lists, The search process in HNSW explained, Insertion and deletion mechanisms in HNSW, The role of bi-directional links in HNSW, Random layer assignment and its significance, Performance complexities of HNSW, Practical implementation of HNSW using HNSWlib, Addressing common questions and misconceptions about HNSW, Conclusion and future outlook on HNSW in vector databases \n",
      "\n",
      "\u001b[91mResult for GPT-3.5-Turbo\n",
      "\n",
      "\n",
      " Guardrails Outputs Prediction(\n",
      "    properly_formatted='False',\n",
      "    reason_for_properly_formatted_decision='The provided topic list is not properly formatted as a comma-separated list. It uses a hyphen (-) to separate the items instead of commas. A properly formatted comma-separated list should have each topic separated by a comma and a space.'\n",
      ")\n",
      "\n",
      " Retried Blog Outline: Introduction to HNSW, What are Embeddings?, How does Skip List Work?, Hierarchical Navigable Small World (HNSW), Searching in HNSW, Insertion and Deletion in HNSW, HNSWlib: A Header-Only HNSW Implementation, Complexities in HNSW, Cons of HNSW, Conclusion\n",
      "\n",
      "\n",
      " Guardrails Outputs Prediction(\n",
      "    properly_formatted='Properly Formatted: False',\n",
      "    reason_for_properly_formatted_decision='The list is not properly formatted as a comma-separated list because there is no space after each comma. The correct formatting should include a space following each comma to ensure readability.'\n",
      ")\n",
      "\n",
      " Retried Blog Outline: Introduction to HNSW, What are Embeddings?, How does Skip List Work?, Hierarchical Navigable Small World (HNSW), Searching in HNSW, Insertion and Deletion in HNSW, HNSWlib: A Header-Only HNSW Implementation, Complexities in HNSW, Cons of HNSW, Conclusion\n",
      "\n",
      "\n",
      " Guardrails Outputs Prediction(\n",
      "    properly_formatted='Properly Formatted: False',\n",
      "    reason_for_properly_formatted_decision='The list is not properly formatted as a comma-separated list because there is no space after each comma. The correct formatting should include a space following each comma to ensure readability.'\n",
      ")\n",
      "\n",
      " Retried Blog Outline: Introduction to HNSW, What are Embeddings?, How does Skip List Work?, Hierarchical Navigable Small World (HNSW), Searching in HNSW, Insertion and Deletion in HNSW, HNSWlib: A Header-Only HNSW Implementation, Complexities in HNSW, Cons of HNSW, Conclusion\n",
      "\n",
      "Exceeded Retry Limit, exiting.\n",
      "\u001b[0mIntroduction to HNSW, What are Embeddings?, How does Skip List Work?, Hierarchical Navigable Small World (HNSW), Searching in HNSW, Insertion and Deletion in HNSW, HNSWlib: A Header-Only HNSW Implementation, Complexities in HNSW, Cons of HNSW, Conclusion \n",
      "\n",
      "\u001b[91mResult for Command-R\n",
      "\n",
      "\n",
      " Guardrails Outputs Prediction(\n",
      "    properly_formatted='False',\n",
      "    reason_for_properly_formatted_decision='The topic list is not properly formatted as a comma-separated list because there are spaces before some commas, inconsistent use of dashes, and the list includes additional descriptions that are not separated by commas. A properly formatted comma-separated list should have a consistent structure, with commas directly following each topic and no additional spaces before the commas. It should also not include dashes as part of the list structure.'\n",
      ")\n",
      "\n",
      " Retried Blog Outline: Corrected Output: Introduction to HNSW, Understanding the HNSW Structure, Skip Lists, Navigable Small World, Hierarchical Structure, The Benefits of HNSW, Implementation Challenges and Solutions, Conclusion \n",
      "\n",
      "The list is now properly formatted as a simple, comma-separated list without any extra text or dashes.\n",
      "\n",
      "\n",
      " Guardrails Outputs Prediction(\n",
      "    properly_formatted='Properly Formatted: False',\n",
      "    reason_for_properly_formatted_decision='The topic string includes the phrase \"Corrected Output:\" and additional text at the end \"The list is now properly formatted as a simple, comma-separated list without any extra text or dashes.\" which are not part of the actual list of topics. A properly formatted comma-separated list should only include the list items themselves, separated by commas, without any additional text or instructions.'\n",
      ")\n",
      "\n",
      " Retried Blog Outline: ---\n",
      "\n",
      "Original Output: Introduction to HNSW, Understanding the HNSW Structure, Skip Lists, Navigable Small World, Hierarchical Structure, The Benefits of HNSW, Implementation Challenges and Solutions, Conclusion\n",
      "\n",
      "Reason For Failure: Comma-separation is incorrect; there are dashes around the topics, and the list ends with a period.\n",
      "\n",
      "Corrected Output: Introduction to HNSW, Understanding the HNSW Structure, Skip Lists, Navigable Small World, Hierarchical Structure, The Benefits of HNSW, Implementation Challenges, and Solutions\n",
      "\n",
      "---\n",
      "\n",
      "\n",
      " Guardrails Outputs Prediction(\n",
      "    properly_formatted='False',\n",
      "    reason_for_properly_formatted_decision='The topic list is not properly formatted as a comma-separated list because it includes dashes at the beginning and end, and it ends with a period. Additionally, the phrase \"Original Output:\" and the reason for failure are included within the topic string, which should not be part of a properly formatted list.'\n",
      ")\n",
      "\n",
      " Retried Blog Outline: Introduction to HNSW, Understanding the HNSW Structure, Skip Lists, Navigable Small World, Hierarchical Structure, The Benefits of HNSW, Implementation Challenges, and Solutions\n",
      "\n",
      "Exceeded Retry Limit, exiting.\n",
      "\u001b[0mIntroduction to HNSW, Understanding the HNSW Structure, Skip Lists, Navigable Small World, Hierarchical Structure, The Benefits of HNSW, Implementation Challenges, and Solutions \n",
      "\n",
      "\u001b[91mResult for Mistral-7B\n",
      "\n",
      "\n",
      " Guardrails Outputs Prediction(\n",
      "    properly_formatted='False',\n",
      "    reason_for_properly_formatted_decision='The provided topic string is not formatted as a comma-separated list. Instead, it is presented as a series of bullet points and section headers. A properly formatted comma-separated list would have each topic separated by a comma and a space, without bullet points or other non-comma separators.'\n",
      ")\n",
      "\n",
      " Retried Blog Outline: Introduction, HNSW Index Overview, HNSW vs Traditional Nearest Neighbor Search, Understanding Length Scale in HNSW, Building an HNSW Graph, Querying the HNSW Graph, Serialization and Deletion, Conclusion\n",
      "\n",
      "\n",
      " Guardrails Outputs Prediction(\n",
      "    properly_formatted='Properly Formatted: True',\n",
      "    reason_for_properly_formatted_decision='The provided topic string is a list of topics separated by commas without any additional spaces before the commas, which adheres to the standard format for a comma-separated list. Each topic is clearly delineated, and the list is consistent in its structure.'\n",
      ")\n",
      "\n",
      " Retried Blog Outline: - Introduction\n",
      "- HNSW Index Overview\n",
      "- HNSW vs Traditional Nearest Neighbor Search\n",
      "- Understanding Length Scale in HNSW\n",
      "- Building an HNSW Graph\n",
      "- Querying the HNSW Graph\n",
      "- Serialization and Deletion\n",
      "- Conclusion\n",
      "\n",
      "\n",
      " Guardrails Outputs Prediction(\n",
      "    properly_formatted='False',\n",
      "    reason_for_properly_formatted_decision='The provided topic string is not properly formatted as a comma-separated list. It uses dashes to separate the topics instead of commas. A properly formatted comma-separated list should have each topic separated by a comma and a space, for example: \"Introduction, HNSW Index Overview, HNSW vs Traditional Nearest Neighbor Search, Understanding Length Scale in HNSW, Building an HNSW Graph, Querying the HNSW Graph, Serialization and Deletion, Conclusion\".'\n",
      ")\n",
      "\n",
      " Retried Blog Outline: Introduction, HNSW Index Overview, HNSW vs Traditional Nearest Neighbor Search, Understanding Length Scale in HNSW, Building an HNSW Graph, Querying the HNSW Graph, Serialization and Deletion, Conclusion.\n",
      "\n",
      "Exceeded Retry Limit, exiting.\n",
      "\u001b[0mIntroduction, HNSW Index Overview, HNSW vs Traditional Nearest Neighbor Search, Understanding Length Scale in HNSW, Building an HNSW Graph, Querying the HNSW Graph, Serialization and Deletion, Conclusion. \n",
      "\n"
     ]
    }
   ],
   "source": [
    "toy_question = \"How does HNSW work?\"\n",
    "\n",
    "blog2outline_with_custom_guardrails = Blog2OutlineWithCustomGuardrails(weaviate_rm, you_rm)\n",
    "\n",
    "for lm_dict in lms:\n",
    "    lm, name = lm_dict[\"lm\"], lm_dict[\"name\"]\n",
    "    dspy.settings.configure(lm=lm)\n",
    "    print(f\"\\033[91mResult for {name}\\n\")\n",
    "    print(f\"\\033[0m{blog2outline_with_custom_guardrails(question=toy_question)} \\n\")"
   ]
  },
  {
   "cell_type": "markdown",
   "id": "09dff810",
   "metadata": {},
   "source": [
    "## Connect Custom Guardrails into Assertions\n",
    "\n",
    "\n",
    "```\n",
    "guardrail = dspy.Predict(MyGuardrail)\n",
    "\n",
    "def GuardRailWrapper(in):\n",
    "  return bool(guardrail(in).judgement)\n",
    "\n",
    "# ... program code\n",
    "\n",
    "dspy.Suggest(GuardRailWrapper, \"Failed Guardrail Message for Retry\")\n",
    "```"
   ]
  },
  {
   "cell_type": "markdown",
   "id": "512403ca",
   "metadata": {},
   "source": [
    "## Compiling DSPy Guardrails"
   ]
  },
  {
   "cell_type": "code",
   "execution_count": null,
   "id": "6e3596aa",
   "metadata": {},
   "outputs": [],
   "source": [
    "# - What to compile?\n",
    "# -- initial instructions to pass guardrails as the metric\n",
    "# -- guardrails to accurately detect failed topics\n",
    "# -- retry to quickly retry failed topics\n",
    "\n",
    "# dataset of questions\n",
    "\n",
    "# metric = ?\n",
    "\n",
    "# compilers"
   ]
  }
 ],
 "metadata": {
  "kernelspec": {
   "display_name": "Python (myenv)",
   "language": "python",
   "name": "myenv_kernel"
  },
  "language_info": {
   "codemirror_mode": {
    "name": "ipython",
    "version": 3
   },
   "file_extension": ".py",
   "mimetype": "text/x-python",
   "name": "python",
   "nbconvert_exporter": "python",
   "pygments_lexer": "ipython3",
   "version": "3.10.10"
  }
 },
 "nbformat": 4,
 "nbformat_minor": 5
}
