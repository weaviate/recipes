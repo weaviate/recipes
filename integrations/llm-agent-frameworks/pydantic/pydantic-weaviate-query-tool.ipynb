{
 "cells": [
  {
   "cell_type": "markdown",
   "metadata": {},
   "source": [
    "[![Open In Colab](https://colab.research.google.com/assets/colab-badge.svg)](https://colab.research.google.com/github/weaviate/recipes/blob/main/integrations/llm-agent-frameworks/pydantic/pydantic-weaviate-query-tool.ipynb)"
   ]
  },
  {
   "cell_type": "markdown",
   "metadata": {},
   "source": [
    "## Weaviate Query Agent with Pydantic\n",
    "\n",
    "This notebook will show you how to define the Weaviate Query Agent as a tool through Pydantic.\n",
    "\n",
    "### Requirements\n",
    "1. Weaviate Cloud instance (WCD): The Weaviate Query Agent is only accessible through WCD at the moment. You can create a serverless cluster or a free 14-day sandbox [here](https://console.weaviate.cloud/).\n",
    "1. Install Pydantic with `pip install pydantic`. We're using version `2.10.6` at the time of writing this notebook.\n",
    "1. Install the Weaviate Agents package with `pip install weaviate-agents`\n",
    "1. You'll need a Weaviate cluster with data. If you don't have one, check out [this notebook](integrations/Weaviate-Import-Example.ipynb) to import the Weaviate Blogs.\n"
   ]
  },
  {
   "cell_type": "markdown",
   "metadata": {},
   "source": [
    "### Import libraries and keys"
   ]
  },
  {
   "cell_type": "code",
   "execution_count": null,
   "metadata": {},
   "outputs": [],
   "source": [
    "import weaviate\n",
    "from weaviate_agents.query import QueryAgent\n",
    "import os\n",
    "\n",
    "from pydantic_ai import Agent, RunContext\n",
    "from typing import Optional, Dict, Any\n",
    "import asyncio\n",
    "from pydantic import BaseModel"
   ]
  },
  {
   "cell_type": "code",
   "execution_count": 1,
   "metadata": {},
   "outputs": [],
   "source": [
    "os.environ[\"WEAVIATE_URL\"] = \"\"\n",
    "os.environ[\"WEAVIATE_API_KEY\"] = \"\"\n",
    "os.environ[\"OPENAI_API_KEY\"] = \"\""
   ]
  },
  {
   "cell_type": "markdown",
   "metadata": {},
   "source": [
    "### Define Query Agent tool"
   ]
  },
  {
   "cell_type": "code",
   "execution_count": 37,
   "metadata": {},
   "outputs": [],
   "source": [
    "# Define credential structure\n",
    "class WeaviateCredentials(BaseModel):\n",
    "    weaviate_url: str\n",
    "    weaviate_api_key: str \n",
    "    openai_api_key: str\n",
    "    collections: list[str]\n",
    "\n",
    "class HelpfulResponse(BaseModel):\n",
    "    helpful_response: str\n",
    "\n",
    "# Initialize the Agent with GPT-4 and typed credentials\n",
    "agent = Agent(\n",
    "    'openai:gpt-4o',\n",
    "    deps_type=WeaviateCredentials,\n",
    "    result_type=HelpfulResponse,\n",
    "    system_prompt=(\n",
    "        \"You are a helpful assistant that can search a knowledge base to answer questions. \"\n",
    "        \"Use the search tool to find relevant information, then provide a comprehensive answer. \"\n",
    "        \"If the search doesn't return useful information, acknowledge the limitations.\"\n",
    "    ),\n",
    ")\n",
    "\n",
    "@agent.tool\n",
    "def send_query_agent_request(ctx: RunContext[WeaviateCredentials], query: str) -> str:\n",
    "    \"\"\"\n",
    "    Send a query to the Weaviate database and get the response.\n",
    "    Using tool_plain which works better with synchronous functions.\n",
    "\n",
    "    Args:\n",
    "        ctx: The run context containing Weaviate credentials and configuration.\n",
    "        query (str): The question or query to search for in the database.\n",
    "\n",
    "    Returns:\n",
    "        str: The response from the database containing relevant information.\n",
    "    \"\"\"\n",
    "    try:\n",
    "        # Get credentials from dependencies, with environment variables as fallback\n",
    "        creds = ctx.deps\n",
    "        weaviate_url = creds.weaviate_url or os.getenv(\"WEAVIATE_URL\")\n",
    "        weaviate_api_key = creds.weaviate_api_key or os.getenv(\"WEAVIATE_API_KEY\")\n",
    "        openai_api_key = creds.openai_api_key or os.getenv(\"OPENAI_API_KEY\")\n",
    "        collections = creds.collections or [\"Blogs\"]\n",
    "        \n",
    "        if not all([weaviate_url, weaviate_api_key, openai_api_key]):\n",
    "            raise ValueError(\"Missing required credentials\")\n",
    "            \n",
    "        # Connect to Weaviate Cloud instance\n",
    "        weaviate_client = weaviate.connect_to_weaviate_cloud(\n",
    "            cluster_url=weaviate_url,\n",
    "            auth_credentials=weaviate.auth.AuthApiKey(weaviate_api_key),\n",
    "            headers={\"X-OpenAI-Api-Key\": openai_api_key},\n",
    "        )\n",
    "        \n",
    "        # connect the query agent to your Weaviate collection(s)\n",
    "        query_agent = QueryAgent(\n",
    "            client=weaviate_client,\n",
    "            collections=collections\n",
    "        )\n",
    "        \n",
    "        result = query_agent.run(query)\n",
    "        return result.final_answer\n",
    "    except Exception as e:\n",
    "        return f\"Error querying Weaviate: {str(e)}\""
   ]
  },
  {
   "cell_type": "markdown",
   "metadata": {},
   "source": [
    "### Query time"
   ]
  },
  {
   "cell_type": "code",
   "execution_count": 41,
   "metadata": {},
   "outputs": [
    {
     "name": "stderr",
     "output_type": "stream",
     "text": [
      "/Library/Frameworks/Python.framework/Versions/3.10/lib/python3.10/asyncio/selector_events.py:710: ResourceWarning: unclosed transport <_SelectorSocketTransport fd=89 read=idle write=<idle, bufsize=0>>\n",
      "  _warn(f\"unclosed transport {self!r}\", ResourceWarning, source=self)\n",
      "ResourceWarning: Enable tracemalloc to get the object allocation traceback\n",
      "/Library/Frameworks/Python.framework/Versions/3.10/lib/python3.10/asyncio/selector_events.py:710: ResourceWarning: unclosed transport <_SelectorSocketTransport fd=90 read=idle write=<idle, bufsize=0>>\n",
      "  _warn(f\"unclosed transport {self!r}\", ResourceWarning, source=self)\n",
      "ResourceWarning: Enable tracemalloc to get the object allocation traceback\n"
     ]
    },
    {
     "name": "stdout",
     "output_type": "stream",
     "text": [
      "To run Weaviate with Docker, follow these steps:\n",
      "\n",
      "1. **Ensure Docker is Installed:** Make sure Docker is installed on your system. You can download it from the [Docker website](https://www.docker.com/).\n",
      "\n",
      "2. **Fetch the Weaviate Docker Image:** Open your terminal and pull the Weaviate image from Docker Hub by executing the following command:\n",
      "   ```bash\n",
      "   docker pull semitechnologies/weaviate\n",
      "   ```\n",
      "\n",
      "3. **Run the Weaviate Container:** Start the Weaviate container using the command:\n",
      "   ```bash\n",
      "   docker run -d --name weaviate -p 8080:8080 semitechnologies/weaviate\n",
      "   ```\n",
      "   - This command runs the container in detached mode (`-d`).\n",
      "   - It names the container `weaviate` for easy reference.\n",
      "   - It maps port 8080 on your local machine to port 8080 on the container, allowing you to access the Weaviate instance at `http://localhost:8080`.\n",
      "\n",
      "4. **Verify the Weaviate Service:** You can check if Weaviate is running by visiting `http://localhost:8080/` in your web browser, or by using curl with:\n",
      "   ```bash\n",
      "   curl http://localhost:8080/v1/.well-known/ready\n",
      "   ```\n",
      "   If everything is set up correctly, this should confirm that Weaviate is up and ready to use.\n",
      "\n",
      "Following these steps should help you run Weaviate successfully with Docker. Make sure Docker is running during the process.\n"
     ]
    }
   ],
   "source": [
    "custom_credentials = WeaviateCredentials(\n",
    "    weaviate_url=os.getenv(\"WEAVIATE_URL\"),\n",
    "    weaviate_api_key=os.getenv(\"WEAVIATE_API_KEY\"), \n",
    "    openai_api_key=os.getenv(\"OPENAI_API_KEY\"),\n",
    "    collections=[\"Blogs\"]\n",
    ")\n",
    "\n",
    "# Use await directly in your notebook cell\n",
    "response = await agent.run(\n",
    "    \"How do I run Weaviate with Docker?\",\n",
    "    deps=custom_credentials\n",
    ")\n",
    "print(response.data.helpful_response)"
   ]
  },
  {
   "cell_type": "code",
   "execution_count": 42,
   "metadata": {},
   "outputs": [
    {
     "data": {
      "text/plain": [
       "[ModelRequest(parts=[SystemPromptPart(content=\"You are a helpful assistant that can search a knowledge base to answer questions. Use the search tool to find relevant information, then provide a comprehensive answer. If the search doesn't return useful information, acknowledge the limitations.\", part_kind='system-prompt'), UserPromptPart(content='How do I run Weaviate with Docker?', timestamp=datetime.datetime(2025, 3, 4, 13, 2, 6, 8130, tzinfo=datetime.timezone.utc), part_kind='user-prompt')], kind='request'),\n",
       " ModelResponse(parts=[ToolCallPart(tool_name='send_query_agent_request', args=ArgsJson(args_json='{\"query\":\"How to run Weaviate with Docker\"}'), tool_call_id='call_4JrAGH6Ptna8dpfyyCeHIqk5', part_kind='tool-call')], timestamp=datetime.datetime(2025, 3, 4, 13, 2, 6, tzinfo=datetime.timezone.utc), kind='response'),\n",
       " ModelRequest(parts=[ToolReturnPart(tool_name='send_query_agent_request', content=\"To run Weaviate with Docker, you need Docker installed on your system. Follow these steps:\\n\\n1. **Install Docker:** Ensure that Docker is installed and running on your machine. You can download it from the official Docker website if it’s not installed.\\n\\n2. **Fetch Weaviate Image:** Use the Docker CLI to pull the Weaviate image from Docker Hub by executing the command:\\n   ```shell\\n   docker pull semitechnologies/weaviate\\n   ```\\n\\n3. **Run Weaviate Container:** Start a Weaviate container using the following command:\\n   ```shell\\n   docker run -d --name weaviate -p 8080:8080 semitechnologies/weaviate\\n   ```\\n   This command runs the container in detached mode with the name 'weaviate' and maps port 8080 of the container to port 8080 on your host, allowing you to access Weaviate.\\n\\n4. **Verify Setup:** To ensure Weaviate is running correctly, you can access it via `http://localhost:8080/` in your web browser or use curl to check its status with:\\n   ```shell\\n   curl http://localhost:8080/v1/.well-known/ready\\n   ```\", tool_call_id='call_4JrAGH6Ptna8dpfyyCeHIqk5', timestamp=datetime.datetime(2025, 3, 4, 13, 2, 23, 976220, tzinfo=datetime.timezone.utc), part_kind='tool-return')], kind='request'),\n",
       " ModelResponse(parts=[ToolCallPart(tool_name='final_result', args=ArgsJson(args_json='{\"helpful_response\":\"To run Weaviate with Docker, follow these steps:\\\\n\\\\n1. **Ensure Docker is Installed:** Make sure Docker is installed on your system. You can download it from the [Docker website](https://www.docker.com/).\\\\n\\\\n2. **Fetch the Weaviate Docker Image:** Open your terminal and pull the Weaviate image from Docker Hub by executing the following command:\\\\n   ```bash\\\\n   docker pull semitechnologies/weaviate\\\\n   ```\\\\n\\\\n3. **Run the Weaviate Container:** Start the Weaviate container using the command:\\\\n   ```bash\\\\n   docker run -d --name weaviate -p 8080:8080 semitechnologies/weaviate\\\\n   ```\\\\n   - This command runs the container in detached mode (`-d`).\\\\n   - It names the container `weaviate` for easy reference.\\\\n   - It maps port 8080 on your local machine to port 8080 on the container, allowing you to access the Weaviate instance at `http://localhost:8080`.\\\\n\\\\n4. **Verify the Weaviate Service:** You can check if Weaviate is running by visiting `http://localhost:8080/` in your web browser, or by using curl with:\\\\n   ```bash\\\\n   curl http://localhost:8080/v1/.well-known/ready\\\\n   ```\\\\n   If everything is set up correctly, this should confirm that Weaviate is up and ready to use.\\\\n\\\\nFollowing these steps should help you run Weaviate successfully with Docker. Make sure Docker is running during the process.\"}'), tool_call_id='call_U1cc0I4XgPdJmYFsKXoNJ7wo', part_kind='tool-call')], timestamp=datetime.datetime(2025, 3, 4, 13, 2, 24, tzinfo=datetime.timezone.utc), kind='response'),\n",
       " ModelRequest(parts=[ToolReturnPart(tool_name='final_result', content='Final result processed.', tool_call_id='call_U1cc0I4XgPdJmYFsKXoNJ7wo', timestamp=datetime.datetime(2025, 3, 4, 13, 2, 33, 886316, tzinfo=datetime.timezone.utc), part_kind='tool-return')], kind='request')]"
      ]
     },
     "execution_count": 42,
     "metadata": {},
     "output_type": "execute_result"
    }
   ],
   "source": [
    "response.all_messages()"
   ]
  }
 ],
 "metadata": {
  "kernelspec": {
   "display_name": "Python 3",
   "language": "python",
   "name": "python3"
  },
  "language_info": {
   "codemirror_mode": {
    "name": "ipython",
    "version": 3
   },
   "file_extension": ".py",
   "mimetype": "text/x-python",
   "name": "python",
   "nbconvert_exporter": "python",
   "pygments_lexer": "ipython3",
   "version": "3.10.10"
  }
 },
 "nbformat": 4,
 "nbformat_minor": 2
}
