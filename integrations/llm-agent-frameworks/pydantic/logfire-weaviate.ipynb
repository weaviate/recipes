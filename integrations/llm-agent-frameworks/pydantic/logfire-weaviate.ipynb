{
 "cells": [
  {
   "cell_type": "markdown",
   "metadata": {},
   "source": [
    "[![Open In Colab](https://colab.research.google.com/assets/colab-badge.svg)](https://colab.research.google.com/github/weaviate/recipes/blob/main/integrations/llm-agent-frameworks/pydantic/logfire-weaviate.ipynb)"
   ]
  },
  {
   "cell_type": "markdown",
   "metadata": {},
   "source": [
    "# Pydantic AI Logfire and Weaviate\n",
    "\n",
    "This notebook was created by [Connor Shorten](https://www.linkedin.com/in/connor-shorten-34923a178/)!"
   ]
  },
  {
   "cell_type": "markdown",
   "metadata": {},
   "source": [
    "Check versions of Logfire and the Weaviate Python Client\n",
    "\n",
    "Note: This notebook was originally published with `logfire==3.5.0` and `weaviate-client==4.10.2`"
   ]
  },
  {
   "cell_type": "code",
   "execution_count": 1,
   "metadata": {},
   "outputs": [
    {
     "name": "stdout",
     "output_type": "stream",
     "text": [
      "Logfire version: 3.5.0\n",
      "Weaviate version: 4.10.2\n"
     ]
    }
   ],
   "source": [
    "import pkg_resources\n",
    "\n",
    "logfire_version = pkg_resources.get_distribution('logfire').version\n",
    "weaviate_version = pkg_resources.get_distribution('weaviate-client').version\n",
    "\n",
    "print(f\"Logfire version: {logfire_version}\")\n",
    "print(f\"Weaviate version: {weaviate_version}\")\n"
   ]
  },
  {
   "cell_type": "code",
   "execution_count": null,
   "metadata": {},
   "outputs": [],
   "source": [
    "import logfire\n",
    "\n",
    "# Remember to set LOGFIRE_TOKEN environment variable\n",
    "\n",
    "logfire.configure()\n",
    "logfire.instrument_pydantic()"
   ]
  },
  {
   "cell_type": "code",
   "execution_count": 5,
   "metadata": {},
   "outputs": [
    {
     "name": "stdout",
     "output_type": "stream",
     "text": [
      "22:36:46.040 agent run prompt=How many feet are in a mile?\n",
      "22:36:46.041   preparing model and tools run_step=1\n",
      "22:36:46.041   model request\n",
      "22:36:48.152     Pydantic nullable validate_python\n",
      "22:36:48.154     Pydantic nullable validate_python\n",
      "22:36:48.154     Pydantic nullable validate_python\n",
      "22:36:48.157     Pydantic nullable validate_python\n",
      "22:36:48.726   handle model response\n",
      "There are 5,280 feet in a mile.\n"
     ]
    }
   ],
   "source": [
    "from pydantic_ai import Agent\n",
    "\n",
    "agent = Agent(  \n",
    "    'openai:gpt-4o',\n",
    "    system_prompt='Be concise, reply with one sentence.',  \n",
    ")\n",
    "\n",
    "result = await agent.run('How many feet are in a mile?')  \n",
    "print(result.data)"
   ]
  },
  {
   "cell_type": "code",
   "execution_count": 7,
   "metadata": {},
   "outputs": [
    {
     "name": "stdout",
     "output_type": "stream",
     "text": [
      "01:26:25.574 Pydantic _VectorizerConfigCreate validate_python\n",
      "01:26:25.588 Pydantic _VectorizerConfigCreate validate_python\n",
      "Connecting to Weaviate...\n",
      "01:26:25.639 Pydantic ProtocolParams validate_python\n",
      "01:26:25.640 Pydantic ProtocolParams validate_python\n",
      "01:26:25.640 Pydantic ConnectionParams validate_python\n",
      "01:26:25.641 Pydantic AdditionalConfig validate_python\n",
      "01:26:25.641   Pydantic Timeout validate_python\n",
      "Successfully connected to Weaviate...\n"
     ]
    }
   ],
   "source": [
    "import weaviate\n",
    "import os\n",
    "print(\"Connecting to Weaviate...\")\n",
    "\n",
    "weaviate_client = weaviate.connect_to_weaviate_cloud(\n",
    "    cluster_url=os.getenv(\"WEAVIATE_URL\"),\n",
    "    auth_credentials=weaviate.auth.AuthApiKey(os.getenv(\"WEAVIATE_API_KEY\")),\n",
    "    headers={\"X-OpenAI-Api-Key\": os.getenv(\"OPENAI_API_KEY\")},\n",
    ")\n",
    "print(\"Successfully connected to Weaviate...\")"
   ]
  },
  {
   "cell_type": "code",
   "execution_count": 10,
   "metadata": {},
   "outputs": [],
   "source": [
    "courses_collection = weaviate_client.collections.get(\"Courses\")"
   ]
  },
  {
   "cell_type": "code",
   "execution_count": 9,
   "metadata": {},
   "outputs": [],
   "source": [
    "def search_weaviate_collection(weaviate_client, weaviate_collection, query):\n",
    "    response = weaviate_collection.query.hybrid(query, limit=5)\n",
    "    \n",
    "    stringified_response = \"\"\n",
    "    for idx, o in enumerate(response.objects):\n",
    "        stringified_response += f\"Search Result: {idx+1}:\\n\"\n",
    "        for prop in o.properties:\n",
    "            stringified_response += f\"{prop}:{o.properties[prop]}\"\n",
    "        stringified_response += \"\\n\"\n",
    "    \n",
    "    return stringified_response"
   ]
  },
  {
   "cell_type": "code",
   "execution_count": 11,
   "metadata": {},
   "outputs": [
    {
     "data": {
      "text/plain": [
       "'Search Result: 1:\\ncourseDescription:Deep dive into neural networks, reinforcement learning, and deep learning architectures. Students will implement cutting-edge ML models and understand their theoretical foundations.courseDuration:48.0currentlyEnrolling:TruecourseTitle:Advanced Machine Learning\\nSearch Result: 2:\\ncourseDescription:Introduction to quantum mechanics, quantum circuits, and quantum algorithms. Covers basic principles of superposition, entanglement, and quantum gates.courseDuration:36.0currentlyEnrolling:FalsecourseTitle:Quantum Computing Fundamentals\\n'"
      ]
     },
     "execution_count": 11,
     "metadata": {},
     "output_type": "execute_result"
    }
   ],
   "source": [
    "search_weaviate_collection(weaviate_client, courses_collection, \"Neural Networks\")"
   ]
  },
  {
   "cell_type": "code",
   "execution_count": 19,
   "metadata": {},
   "outputs": [
    {
     "name": "stdout",
     "output_type": "stream",
     "text": [
      "01:53:36.298 Initialize query analyzer agent\n",
      "01:53:36.300 Initialize results summarizer agent\n",
      "01:53:36.301 Course search workflow\n",
      "01:53:36.301   Query analysis\n",
      "01:53:36.301     Analyzing user request\n",
      "01:53:36.301     query_analyzer run prompt=Neural Network courses\n",
      "01:53:36.301       Generate analyzer system prompt\n",
      "01:53:36.302       preparing model and tools run_step=1\n",
      "01:53:36.302       model request\n"
     ]
    },
    {
     "data": {
      "text/html": [
       "<pre style=\"white-space:pre;overflow-x:auto;line-height:normal;font-family:Menlo,'DejaVu Sans Mono',consolas,'Courier New',monospace\"><span style=\"font-weight: bold\">Logfire</span> project URL: <a href=\"https://logfire.pydantic.dev/cshorten/weaviate-integration-testing\" target=\"_blank\"><span style=\"color: #008080; text-decoration-color: #008080; text-decoration: underline\">https://logfire.pydantic.dev/cshorten/weaviate-integration-testing</span></a>\n",
       "</pre>\n"
      ],
      "text/plain": [
       "\u001b[1mLogfire\u001b[0m project URL: \u001b]8;id=364213;https://logfire.pydantic.dev/cshorten/weaviate-integration-testing\u001b\\\u001b[4;36mhttps://logfire.pydantic.dev/cshorten/weaviate-integration-testing\u001b[0m\u001b]8;;\u001b\\\n"
      ]
     },
     "metadata": {},
     "output_type": "display_data"
    },
    {
     "name": "stderr",
     "output_type": "stream",
     "text": [
      "sys:1: ResourceWarning: Unclosed socket <zmq.Socket(zmq.PUSH) at 0x15fdbfc40>\n",
      "ResourceWarning: Enable tracemalloc to get the object allocation traceback\n"
     ]
    },
    {
     "name": "stdout",
     "output_type": "stream",
     "text": [
      "01:53:37.634         Pydantic nullable validate_python\n",
      "01:53:37.635         Pydantic nullable validate_python\n",
      "01:53:37.636         Pydantic nullable validate_python\n",
      "01:53:37.637       handle model response\n",
      "01:53:37.637         Pydantic SearchQuery validate_json\n",
      "01:53:37.639   Search execution\n",
      "01:53:37.639     Executing search query\n",
      "01:53:39.390   Results summarization\n",
      "01:53:39.391     Summarizing search results\n",
      "01:53:39.391     results_summarizer run prompt=Search Result: 1:\n",
      "courseDescription:Deep dive into neural netw...ntlyEnrolling:FalsecourseTitle:Quantum Computing Fundamentals\n",
      "\n",
      "01:53:39.391       preparing model and tools run_step=1\n",
      "01:53:39.392       model request\n",
      "01:53:46.494         Pydantic nullable validate_python\n",
      "01:53:46.495         Pydantic nullable validate_python\n",
      "01:53:46.495         Pydantic nullable validate_python\n",
      "01:53:46.496       handle model response\n",
      "01:53:46.496         Pydantic SearchResult validate_json\n",
      "01:53:46.497   Search workflow completed successfully\n",
      "summary=\"The search results contain two courses, one on 'Advanced Machine Learning' and the other on 'Quantum Computing Fundamentals'. The Machine Learning course is currently enrolling students and will take 48 hours to complete, while the Quantum Computing course is not currently enrolling and requires 36 hours.\" relevant_courses=['Advanced Machine Learning', 'Quantum Computing Fundamentals'] recommendation=\"We recommend the 'Advanced Machine Learning' course as it is currently open for enrollment and offers in-depth knowledge on Neural Networks, Reinforcement Learning, and Deep Learning Architectures which are in-demand topics.\"\n"
     ]
    }
   ],
   "source": [
    "import nest_asyncio\n",
    "import logfire\n",
    "import asyncio\n",
    "from dataclasses import dataclass\n",
    "from typing import List\n",
    "\n",
    "from pydantic import BaseModel, Field\n",
    "from pydantic_ai import Agent, RunContext\n",
    "\n",
    "# Configure logfire\n",
    "logfire.configure()\n",
    "\n",
    "@dataclass\n",
    "class SearchContext:\n",
    "    \"\"\"Dependencies (context) for the search.\"\"\"\n",
    "    weaviate_client: any\n",
    "    collection: any\n",
    "\n",
    "\n",
    "class SearchQuery(BaseModel):\n",
    "    \"\"\"The search query and parameters.\"\"\"\n",
    "    query_text: str = Field(description=\"The search query to execute\")\n",
    "    max_results: int = Field(default=5, description=\"Maximum number of results to return\")\n",
    "\n",
    "\n",
    "class SearchResult(BaseModel):\n",
    "    \"\"\"Structured output from the AI.\"\"\"\n",
    "    summary: str = Field(description=\"A concise summary of the search results\")\n",
    "    relevant_courses: List[str] = Field(description=\"List of relevant course titles\")\n",
    "    recommendation: str = Field(description=\"A recommendation based on the search results\")\n",
    "\n",
    "\n",
    "@logfire.instrument(\"Initialize query analyzer agent\")\n",
    "def create_query_analyzer():\n",
    "    return Agent(\n",
    "        model=\"openai:gpt-4\",\n",
    "        deps_type=SearchContext,\n",
    "        result_type=SearchQuery,\n",
    "        system_prompt=(\n",
    "            \"You are a search query analyzer. \"\n",
    "            \"Given a user's search request, format it into an appropriate query \"\n",
    "            \"that will yield relevant course results.\"\n",
    "        )\n",
    "    )\n",
    "\n",
    "query_analyzer = create_query_analyzer()\n",
    "\n",
    "\n",
    "@query_analyzer.system_prompt\n",
    "async def analyzer_system_prompt(ctx: RunContext[SearchContext]) -> str:\n",
    "    with logfire.span('Generate analyzer system prompt'):\n",
    "        return (\n",
    "            \"Analyze the user's search request and format it into a search query \"\n",
    "            \"that will find relevant courses in the collection.\"\n",
    "        )\n",
    "\n",
    "\n",
    "@logfire.instrument(\"Initialize results summarizer agent\")\n",
    "def create_results_summarizer():\n",
    "    return Agent(\n",
    "        model=\"openai:gpt-4\",\n",
    "        deps_type=SearchContext,\n",
    "        result_type=SearchResult,\n",
    "        system_prompt=(\n",
    "            \"You are a course search assistant. \"\n",
    "            \"Analyze the search results and provide a concise summary, \"\n",
    "            \"list relevant courses, and make a recommendation.\"\n",
    "        )\n",
    "    )\n",
    "\n",
    "results_summarizer = create_results_summarizer()\n",
    "\n",
    "\n",
    "async def main():\n",
    "    with logfire.span('Course search workflow') as workflow_span:\n",
    "        try:\n",
    "            workflow_span.set_attribute('search_type', 'course_search')\n",
    "            \n",
    "            deps = SearchContext(\n",
    "                weaviate_client=weaviate_client,\n",
    "                collection=courses_collection\n",
    "            )\n",
    "\n",
    "            user_request = \"Neural Network courses\"\n",
    "            workflow_span.set_attribute('user_request', user_request)\n",
    "            \n",
    "            # Query analysis phase\n",
    "            with logfire.span('Query analysis') as query_span:\n",
    "                logfire.info('Analyzing user request', request=user_request)\n",
    "                query_result = await query_analyzer.run(user_request, deps=deps)\n",
    "                query_span.set_attribute('generated_query', query_result.data.query_text)\n",
    "            \n",
    "            # Search execution phase\n",
    "            with logfire.span('Search execution') as search_span:\n",
    "                logfire.info('Executing search query', query=query_result.data.query_text)\n",
    "                query_results = search_weaviate_collection(\n",
    "                    weaviate_client,\n",
    "                    courses_collection,\n",
    "                    query=query_result.data.query_text\n",
    "                )\n",
    "                search_span.set_attribute('results_count', len(query_results))\n",
    "\n",
    "            # Results summarization phase\n",
    "            with logfire.span('Results summarization') as summary_span:\n",
    "                logfire.info('Summarizing search results')\n",
    "                result = await results_summarizer.run(query_results, deps=deps)\n",
    "                summary_span.set_attribute('courses_found', len(result.data.relevant_courses))\n",
    "\n",
    "            logfire.info('Search workflow completed successfully')\n",
    "            print(result.data)\n",
    "            \n",
    "        except Exception as e:\n",
    "            logfire.error('Search workflow failed', error=str(e))\n",
    "            workflow_span.record_exception(e)\n",
    "            raise\n",
    "\n",
    "nest_asyncio.apply()\n",
    "await main()"
   ]
  },
  {
   "cell_type": "markdown",
   "metadata": {},
   "source": [
    "# \n",
    "![](./pydantic-logfire.png)\n"
   ]
  }
 ],
 "metadata": {
  "kernelspec": {
   "display_name": "Python 3",
   "language": "python",
   "name": "python3"
  },
  "language_info": {
   "codemirror_mode": {
    "name": "ipython",
    "version": 3
   },
   "file_extension": ".py",
   "mimetype": "text/x-python",
   "name": "python",
   "nbconvert_exporter": "python",
   "pygments_lexer": "ipython3",
   "version": "3.10.10"
  }
 },
 "nbformat": 4,
 "nbformat_minor": 2
}
