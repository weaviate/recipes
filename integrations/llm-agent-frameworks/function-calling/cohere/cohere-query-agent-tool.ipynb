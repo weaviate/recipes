{
 "cells": [
  {
   "cell_type": "markdown",
   "metadata": {},
   "source": [
    "[![Open In Colab](https://colab.research.google.com/assets/colab-badge.svg)](https://colab.research.google.com/github/weaviate/recipes/blob/main/integrations/llm-agent-frameworks/function-calling/cohere/cohere-query-agent-tool.ipynb)"
   ]
  },
  {
   "cell_type": "markdown",
   "metadata": {},
   "source": [
    "## Weaviate Query Agent with Cohere\n",
    "\n",
    "This notebook will show you how to define the Weaviate Query Agent as a tool through Cohere\n",
    "\n",
    "### Requirements\n",
    "1. Weaviate Cloud instance (WCD): The Weaviate Query Agent is only accessible through WCD at the moment. You can create a serverless cluster or a free 14-day sandbox [here](https://console.weaviate.cloud/).\n",
    "1. Install Cohere with `pip install cohere` and grab an API key [here](https://dashboard.cohere.com/api-keys)\n",
    "1. Install the Weaviate Agents package with `pip install weaviate-agents`\n",
    "1. You'll need a Weaviate cluster with data. If you don't have one, check out [this notebook](integrations/Weaviate-Import-Example.ipynb) to import the Weaviate Blogs."
   ]
  },
  {
   "cell_type": "markdown",
   "metadata": {},
   "source": [
    "### Import libraries"
   ]
  },
  {
   "cell_type": "code",
   "execution_count": null,
   "metadata": {},
   "outputs": [],
   "source": [
    "import weaviate\n",
    "from weaviate_agents.query import QueryAgent\n",
    "import os\n",
    "import json\n",
    "\n",
    "import cohere"
   ]
  },
  {
   "cell_type": "markdown",
   "metadata": {},
   "source": [
    "### Initialize client"
   ]
  },
  {
   "cell_type": "code",
   "execution_count": 1,
   "metadata": {},
   "outputs": [],
   "source": [
    "co = cohere.Client(os.getenv(\"COHERE_API_KEY\"))"
   ]
  },
  {
   "cell_type": "markdown",
   "metadata": {},
   "source": [
    "### Initialize Weaviate Client and define Query Agent function"
   ]
  },
  {
   "cell_type": "code",
   "execution_count": 3,
   "metadata": {},
   "outputs": [],
   "source": [
    "def setup_weaviate(weaviate_url, weaviate_api_key, cohere_api_key):\n",
    "    global weaviate_client, query_agent\n",
    "    \n",
    "    # Initialize Weaviate client\n",
    "    weaviate_client = weaviate.connect_to_weaviate_cloud(\n",
    "        cluster_url=weaviate_url,\n",
    "        auth_credentials=weaviate.auth.AuthApiKey(weaviate_api_key),\n",
    "        headers={\"X-Cohere-Api-Key\": cohere_api_key},\n",
    "    )\n",
    "    \n",
    "    # connect the query agent to your Weaviate collection(s)\n",
    "    query_agent = QueryAgent(\n",
    "        client=weaviate_client,\n",
    "        collections=[\"Blogs\"] \n",
    "    )\n",
    "        \n",
    "    print(\"Weaviate client and Blogs collection initialized successfully\")"
   ]
  },
  {
   "cell_type": "code",
   "execution_count": 4,
   "metadata": {},
   "outputs": [
    {
     "name": "stdout",
     "output_type": "stream",
     "text": [
      "Weaviate client and Blogs collection initialized successfully\n"
     ]
    }
   ],
   "source": [
    "setup_weaviate(\n",
    "    weaviate_url=os.getenv(\"WEAVIATE_URL\"),\n",
    "    weaviate_api_key=os.getenv(\"WEAVIATE_API_KEY\"),\n",
    "    cohere_api_key=os.getenv(\"COHERE_API_KEY\")\n",
    ")"
   ]
  },
  {
   "cell_type": "code",
   "execution_count": 5,
   "metadata": {},
   "outputs": [],
   "source": [
    "def send_query_agent_request(query: str) -> str:\n",
    "    \"\"\"\n",
    "    Send a query to the database and get the response.\n",
    "    \n",
    "    Args:\n",
    "        query (str): Any question or query to search for in the database\n",
    "        \n",
    "    Returns:\n",
    "        str: The response from the database containing relevant information\n",
    "    \"\"\"\n",
    "    return query_agent.run(query)"
   ]
  },
  {
   "cell_type": "code",
   "execution_count": 8,
   "metadata": {},
   "outputs": [
    {
     "data": {
      "text/plain": [
       "QueryAgentResponse(original_query='How do I run Weaviate with Docker?', collection_names=['Blogs'], searches=[[QueryResultWithCollection(queries=['run Weaviate with Docker instructions'], filters=[[]], filter_operators='AND', collection='Blogs')]], aggregations=[], usage=Usage(requests=3, request_tokens=7950, response_tokens=620, total_tokens=8570, details=None), total_time=20.148793697357178, aggregation_answer=None, has_aggregation_answer=False, has_search_answer=True, is_partial_answer=False, missing_information=[], final_answer='To run Weaviate with Docker, you will need to use Docker Compose. Here are the steps to get started:\\n\\n1. **Install Docker and Docker Compose**:\\n   - Make sure both the Docker and Docker Compose tools are installed on your system. The installation process can vary depending on your operating system. You can follow the official guides for [Docker Desktop for Mac](https://docs.docker.com/desktop/install/mac-install/), [Docker Desktop for Windows](https://docs.docker.com/desktop/install/windows-install/), or [Docker for Ubuntu Linux](https://docs.docker.com/engine/install/ubuntu/) and [Docker Compose for Ubuntu](https://docs.docker.com/compose/install/).\\n\\n2. **Obtain the Docker Compose File**:\\n   - The easiest method is to use the [Weaviate configuration tool](https://www.semi.technology/developers/weaviate/installation/docker-compose#configurator) available on the Weaviate website, which will customize a `docker-compose.yml` file based on your needs.\\n   - Another option is to copy one of the example files from the documentation.\\n\\n3. **Run Docker Compose**:\\n   - Ensure that you are in the directory where the `docker-compose.yml` file is located.\\n   - Use the following command to start Weaviate:\\n     ```bash\\n     docker compose up -d\\n     ```\\n   - The `-d` option will detach the terminal.\\n\\n4. **Check Status and Logs**:\\n   - To see the names and status of each container, use:\\n     ```bash\\n     docker compose ps\\n     ```\\n   - To view the logs of a specific container, replace `<container-name>` with the desired container:\\n     ```bash\\n     docker compose logs -f <container-name>\\n     ```\\n\\n5. **Verify Readiness**:\\n   - Weaviate provides a readiness check at `GET /v1/.well-known/ready`. You can use this to verify that the service is up and ready for requests by checking for a `2xx` HTTP status code.', sources=[Source(object_id='e38ecea0-2dde-49cb-820a-15e717af616b', collection='Blogs'), Source(object_id='ffb99316-b511-4316-8e1a-570ba72df28c', collection='Blogs'), Source(object_id='5bf37611-90e1-4dc1-91e1-f31fa9251f1e', collection='Blogs'), Source(object_id='1ae10b32-654f-48e6-8ce1-2455dbdb3c82', collection='Blogs'), Source(object_id='ec0d6c82-c927-4b9c-bc04-742dc3f9c7fe', collection='Blogs'), Source(object_id='9cbc08bf-c4bd-40b7-aa76-f5e1dcf8ac01', collection='Blogs')])"
      ]
     },
     "execution_count": 8,
     "metadata": {},
     "output_type": "execute_result"
    }
   ],
   "source": [
    "send_query_agent_request(\"How do I run Weaviate with Docker?\")"
   ]
  },
  {
   "cell_type": "markdown",
   "metadata": {},
   "source": [
    "### Create tool"
   ]
  },
  {
   "cell_type": "code",
   "execution_count": 9,
   "metadata": {},
   "outputs": [],
   "source": [
    "functions_map = {\n",
    "    \"send_query_agent_request\": send_query_agent_request\n",
    "}"
   ]
  },
  {
   "cell_type": "code",
   "execution_count": 10,
   "metadata": {},
   "outputs": [],
   "source": [
    "tools = [\n",
    "    {\n",
    "        \"name\": \"send_query_agent_request\",\n",
    "        \"description\": \"Send a query to the database and get the response.\",\n",
    "        \"parameter_definitions\": {\n",
    "            \"query\": {\n",
    "                \"description\": \"Any question or query to search for in the database\",\n",
    "                \"type\": \"str\",\n",
    "                \"required\": True\n",
    "            }\n",
    "        }\n",
    "    }\n",
    "]"
   ]
  },
  {
   "cell_type": "markdown",
   "metadata": {},
   "source": [
    "### Create a function to run the assistant"
   ]
  },
  {
   "cell_type": "code",
   "execution_count": 14,
   "metadata": {},
   "outputs": [],
   "source": [
    "model = \"command-r-plus\"\n",
    "\n",
    "def run_assistant(message, chat_history=None):\n",
    "    if chat_history is None:\n",
    "        chat_history = []\n",
    "\n",
    "    # Step 1: Get user message\n",
    "    print(f\"Question:\\n{message}\")\n",
    "    print(\"=\"*50)\n",
    "\n",
    "    # Step 2: Generate tool calls (if any)    \n",
    "    response = co.chat(\n",
    "        message=message,\n",
    "        model=model,\n",
    "        tools=tools,\n",
    "        chat_history=chat_history,\n",
    "        force_single_step=True\n",
    "    )\n",
    "\n",
    "    while response.tool_calls:\n",
    "        tool_calls = response.tool_calls\n",
    "        \n",
    "        if response.text:\n",
    "            print(\"Tool plan:\")\n",
    "            print(response.text,\"\\n\")\n",
    "        print(\"Tool calls:\")\n",
    "        for call in tool_calls:\n",
    "            print(f\"Tool name: {call.name} | Parameters: {call.parameters}\")\n",
    "        print(\"=\"*50)\n",
    "        \n",
    "        # Step 3: Get tool results\n",
    "        tool_results = []\n",
    "        for tc in tool_calls:\n",
    "            try:\n",
    "                tool_call = {\"name\": tc.name, \"parameters\": tc.parameters}\n",
    "                # Create an instance of QueryAgent first if it's a class\n",
    "                if tc.name == \"send_query_agent_request\":\n",
    "                    tool_output = query_agent.run(tc.parameters['query'])\n",
    "                else:\n",
    "                    tool_output = functions_map[tc.name](**tc.parameters)\n",
    "                # Fix: outputs should be an array of objects, not a single object\n",
    "                tool_results.append({\"call\": tool_call, \"outputs\": [{\"result\": tool_output}]})\n",
    "            except Exception as e:\n",
    "                print(f\"Error executing tool {tc.name}: {str(e)}\")\n",
    "                # Fix: outputs should be an array of objects, not a single object\n",
    "                tool_results.append({\"call\": tool_call, \"outputs\": [{\"error\": str(e)}]})\n",
    "        \n",
    "        # Step 4: Generate response and citations                \n",
    "        response = co.chat(\n",
    "            message=\"\",\n",
    "            model=model,\n",
    "            tools=tools,\n",
    "            tool_results=tool_results,\n",
    "            chat_history=response.chat_history\n",
    "        )\n",
    "\n",
    "        # Append the current chat turn to the chat history\n",
    "        chat_history = response.chat_history\n",
    "        \n",
    "    # Print final response\n",
    "    print(\"Final response:\")\n",
    "    print(response.text)\n",
    "    print(\"=\"*50)\n",
    "    \n",
    "    # Print citations (if any)\n",
    "    if response.citations:\n",
    "        print(\"Citations:\")\n",
    "        for citation in response.citations:\n",
    "            print(citation)\n",
    "        print(\"\\nCited Documents:\")\n",
    "        for document in response.documents:\n",
    "            print(document)\n",
    "        print(\"=\"*50)\n",
    "    \n",
    "    return chat_history"
   ]
  },
  {
   "cell_type": "markdown",
   "metadata": {},
   "source": [
    "### Query Time"
   ]
  },
  {
   "cell_type": "code",
   "execution_count": 15,
   "metadata": {},
   "outputs": [
    {
     "name": "stdout",
     "output_type": "stream",
     "text": [
      "Question:\n",
      "Can you teach me how to run Weaviate with Docker?\n",
      "==================================================\n",
      "Tool calls:\n",
      "Tool name: send_query_agent_request | Parameters: {'query': 'How to run Weaviate with Docker?'}\n",
      "==================================================\n"
     ]
    },
    {
     "name": "stderr",
     "output_type": "stream",
     "text": [
      "/Library/Frameworks/Python.framework/Versions/3.10/lib/python3.10/site-packages/cohere/core/jsonable_encoder.py:48: PydanticDeprecatedSince20: The `dict` method is deprecated; use `model_dump` instead. Deprecated in Pydantic V2.0 to be removed in V3.0. See Pydantic V2 Migration Guide at https://errors.pydantic.dev/2.10/migration/\n",
      "  obj_dict = obj.dict(by_alias=True)\n"
     ]
    },
    {
     "name": "stdout",
     "output_type": "stream",
     "text": [
      "Final response:\n",
      "Sure, here's a step-by-step guide on how to run Weaviate with Docker:\n",
      "\n",
      "**Installation Requirements**: \n",
      "- Ensure you have Docker and Docker Compose installed. The installation process may vary depending on your operating system (Mac, Windows, or Ubuntu Linux).\n",
      "\n",
      "**Obtain the Docker Compose File**: \n",
      "- Download a `docker-compose.yml` file, which orchestrates the different containers required for Weaviate. You typically don't need to manually obtain individual Weaviate Docker images.\n",
      "\n",
      "**Set Up and Run**:\n",
      "- Place the `docker-compose.yml` file in the appropriate directory.\n",
      "- Use the command `docker compose up -d` to start Weaviate. The `-d` option runs it in detached mode, keeping your command line free.\n",
      "\n",
      "**Monitoring and Logs**:\n",
      "- Monitor the logs from Weaviate with the command `docker compose logs -f weaviate`.\n",
      "- Check the status of running containers with `docker compose ps`.\n",
      "\n",
      "**Readiness of Weaviate**: \n",
      "- To verify that Weaviate is fully up and running, check if a readiness check at `GET /v1/.well-known/ready` returns a `2xx` HTTP status code. This can be done using a `curl` command in a bash loop.\n",
      "==================================================\n",
      "Citations:\n",
      "start=73 end=98 text='Installation Requirements' document_ids=['send_query_agent_request:0:2:0'] type='TEXT_CONTENT'\n",
      "start=105 end=156 text='Ensure you have Docker and Docker Compose installed' document_ids=['send_query_agent_request:0:2:0'] type='TEXT_CONTENT'\n",
      "start=162 end=226 text='installation process may vary depending on your operating system' document_ids=['send_query_agent_request:0:2:0'] type='TEXT_CONTENT'\n",
      "start=227 end=257 text='(Mac, Windows, or Ubuntu Linux' document_ids=['send_query_agent_request:0:2:0'] type='TEXT_CONTENT'\n",
      "start=263 end=293 text='Obtain the Docker Compose File' document_ids=['send_query_agent_request:0:2:0'] type='TEXT_CONTENT'\n",
      "start=300 end=336 text='Download a `docker-compose.yml` file' document_ids=['send_query_agent_request:0:2:0'] type='TEXT_CONTENT'\n",
      "start=344 end=403 text='orchestrates the different containers required for Weaviate' document_ids=['send_query_agent_request:0:2:0'] type='TEXT_CONTENT'\n",
      "start=409 end=482 text=\"typically don't need to manually obtain individual Weaviate Docker images\" document_ids=['send_query_agent_request:0:2:0'] type='TEXT_CONTENT'\n",
      "start=487 end=501 text='Set Up and Run' document_ids=['send_query_agent_request:0:2:0'] type='TEXT_CONTENT'\n",
      "start=507 end=571 text='Place the `docker-compose.yml` file in the appropriate directory' document_ids=['send_query_agent_request:0:2:0'] type='TEXT_CONTENT'\n",
      "start=575 end=631 text='Use the command `docker compose up -d` to start Weaviate' document_ids=['send_query_agent_request:0:2:0'] type='TEXT_CONTENT'\n",
      "start=637 end=705 text='`-d` option runs it in detached mode, keeping your command line free' document_ids=['send_query_agent_request:0:2:0'] type='TEXT_CONTENT'\n",
      "start=710 end=729 text='Monitoring and Logs' document_ids=['send_query_agent_request:0:2:0'] type='TEXT_CONTENT'\n",
      "start=735 end=815 text='Monitor the logs from Weaviate with the command `docker compose logs -f weaviate' document_ids=['send_query_agent_request:0:2:0'] type='TEXT_CONTENT'\n",
      "start=820 end=882 text='Check the status of running containers with `docker compose ps' document_ids=['send_query_agent_request:0:2:0'] type='TEXT_CONTENT'\n",
      "start=888 end=909 text='Readiness of Weaviate' document_ids=['send_query_agent_request:0:2:0'] type='TEXT_CONTENT'\n",
      "start=916 end=1055 text='To verify that Weaviate is fully up and running, check if a readiness check at `GET /v1/.well-known/ready` returns a `2xx` HTTP status code' document_ids=['send_query_agent_request:0:2:0'] type='TEXT_CONTENT'\n",
      "start=1082 end=1111 text='`curl` command in a bash loop' document_ids=['send_query_agent_request:0:2:0'] type='TEXT_CONTENT'\n",
      "\n",
      "Cited Documents:\n",
      "{'id': 'send_query_agent_request:0:2:0', 'result': '{\"aggregation_answer\":null,\"aggregations\":[],\"collection_names\":[\"Blogs\"],\"final_answer\":\"To run Weaviate with Docker, you need to use Docker Compose. Here is how you can set it up:\\\\n\\\\n1. **Installation Requirements**: Before starting, ensure you have Docker and Docker Compose installed. The installation process may vary depending on your operating system, with separate instructions available for Mac, Windows, and Ubuntu Linux.\\\\n\\\\n2. **Obtain the Docker Compose File**: Typically, you don\\'t need to manually obtain individual Weaviate Docker images. Instead, download a `docker-compose.yml` file, which orchestrates the different containers required for Weaviate.\\\\n\\\\n3. **Set Up and Run**:\\\\n   - Ensure the `docker-compose.yml` file is in the appropriate directory.\\\\n   - Use the command `docker compose up -d` to start Weaviate. The `-d` option runs it in detached mode, which keeps your command line free.\\\\n\\\\n4. **Monitoring and Logs**:\\\\n   - To monitor the logs from Weaviate, use the command `docker compose logs -f weaviate`.\\\\n   - To check the status of running containers, use `docker compose ps`.\\\\n\\\\n5. **Readiness of Weaviate**: To verify that Weaviate is fully up and running, check if a readiness check at `GET /v1/.well-known/ready` returns a `2xx` HTTP status code. This can be done using a `curl` command in a bash loop.\",\"has_aggregation_answer\":false,\"has_search_answer\":true,\"is_partial_answer\":false,\"missing_information\":[],\"original_query\":\"How to run Weaviate with Docker?\",\"searches\":[[{\"collection\":\"Blogs\",\"filter_operators\":\"AND\",\"filters\":[[]],\"queries\":[\"how to run Weaviate with Docker\"]}]],\"sources\":[{\"collection\":\"Blogs\",\"object_id\":\"1ae10b32-654f-48e6-8ce1-2455dbdb3c82\"},{\"collection\":\"Blogs\",\"object_id\":\"ffb99316-b511-4316-8e1a-570ba72df28c\"},{\"collection\":\"Blogs\",\"object_id\":\"5bf37611-90e1-4dc1-91e1-f31fa9251f1e\"},{\"collection\":\"Blogs\",\"object_id\":\"9cbc08bf-c4bd-40b7-aa76-f5e1dcf8ac01\"},{\"collection\":\"Blogs\",\"object_id\":\"ec0d6c82-c927-4b9c-bc04-742dc3f9c7fe\"}],\"total_time\":12.458247423171997,\"usage\":{\"details\":null,\"request_tokens\":6706,\"requests\":3,\"response_tokens\":453,\"total_tokens\":7159}}', 'tool_name': 'send_query_agent_request'}\n",
      "==================================================\n"
     ]
    }
   ],
   "source": [
    "chat_history = run_assistant(\"Can you teach me how to run Weaviate with Docker?\")"
   ]
  }
 ],
 "metadata": {
  "kernelspec": {
   "display_name": "Python 3",
   "language": "python",
   "name": "python3"
  },
  "language_info": {
   "codemirror_mode": {
    "name": "ipython",
    "version": 3
   },
   "file_extension": ".py",
   "mimetype": "text/x-python",
   "name": "python",
   "nbconvert_exporter": "python",
   "pygments_lexer": "ipython3",
   "version": "3.11.6"
  }
 },
 "nbformat": 4,
 "nbformat_minor": 2
}
