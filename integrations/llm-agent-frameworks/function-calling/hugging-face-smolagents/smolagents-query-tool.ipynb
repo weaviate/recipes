{
 "cells": [
  {
   "cell_type": "markdown",
   "metadata": {},
   "source": [
    "[![Open In Colab](https://colab.research.google.com/assets/colab-badge.svg)](https://colab.research.google.com/github/weaviate/recipes/blob/main/integrations/llm-agent-frameworks/function-calling/hugging-face-smolagents/smolagents-query-tool.ipynb)"
   ]
  },
  {
   "cell_type": "markdown",
   "metadata": {},
   "source": [
    "## Weaviate Query Agent with Hugging Face Smolagents\n",
    "\n",
    "This notebook will show you how to define the Weaviate Query Agent as a tool through Hugging Face Smolagents.\n",
    "\n",
    "### Requirements\n",
    "1. Weaviate Cloud instance (WCD): The Weaviate Query Agent is only accessible through WCD at the moment. You can create a serverless cluster or a free 14-day sandbox [here](https://console.weaviate.cloud/).\n",
    "1. Install the Weaviate Agents package with `pip install weaviate-agents`\n",
    "1. You'll need a Weaviate cluster with data. If you don't have one, check out [this notebook](integrations/Weaviate-Import-Example.ipynb) to import the Weaviate Blogs.\n"
   ]
  },
  {
   "cell_type": "markdown",
   "metadata": {},
   "source": [
    "### Define Tool"
   ]
  },
  {
   "cell_type": "code",
   "execution_count": 8,
   "metadata": {},
   "outputs": [],
   "source": [
    "from smolagents import Tool\n",
    "\n",
    "class QueryAgentTool(Tool):\n",
    "    name = \"query_agent\"\n",
    "    description = \"\"\"\n",
    "    This tool sends a query to a Weaviate database and returns relevant information.\n",
    "    It can answer natural language questions about content stored in the database.\"\"\"\n",
    "    inputs = {\n",
    "        \"query\": {\n",
    "            \"type\": \"string\", \n",
    "            \"description\": \"The natural language question to search for in the database\",\n",
    "        }\n",
    "    }\n",
    "    output_type = \"string\"\n",
    "\n",
    "    def forward(self, query: str):\n",
    "        import weaviate\n",
    "        from weaviate_agents.query import QueryAgent\n",
    "        weaviate_client = weaviate.connect_to_weaviate_cloud(\n",
    "            cluster_url=os.getenv(\"WEAVIATE_URL\"),\n",
    "            auth_credentials=weaviate.auth.AuthApiKey(os.getenv(\"WEAVIATE_API_KEY\")),\n",
    "            headers={\"X-OpenAI-Api-Key\": os.getenv(\"OPENAI_API_KEY\")},\n",
    "        )\n",
    "        query_agent = QueryAgent(\n",
    "            client=weaviate_client,\n",
    "            collections=[\"WeaviateBlogChunks\"]\n",
    "        )\n",
    "        return query_agent.run(query).final_answer\n",
    "\n",
    "query_agent_tool = QueryAgentTool()"
   ]
  },
  {
   "cell_type": "markdown",
   "metadata": {},
   "source": [
    "### Define Agent"
   ]
  },
  {
   "cell_type": "code",
   "execution_count": 9,
   "metadata": {},
   "outputs": [
    {
     "data": {
      "text/html": [
       "<pre style=\"white-space:pre;overflow-x:auto;line-height:normal;font-family:Menlo,'DejaVu Sans Mono',consolas,'Courier New',monospace\"><span style=\"color: #d4b702; text-decoration-color: #d4b702\">╭──────────────────────────────────────────────────── </span><span style=\"color: #d4b702; text-decoration-color: #d4b702; font-weight: bold\">New run</span><span style=\"color: #d4b702; text-decoration-color: #d4b702\"> ────────────────────────────────────────────────────╮</span>\n",
       "<span style=\"color: #d4b702; text-decoration-color: #d4b702\">│</span>                                                                                                                 <span style=\"color: #d4b702; text-decoration-color: #d4b702\">│</span>\n",
       "<span style=\"color: #d4b702; text-decoration-color: #d4b702\">│</span> <span style=\"font-weight: bold\">How do I run Weaviate with Docker?</span>                                                                              <span style=\"color: #d4b702; text-decoration-color: #d4b702\">│</span>\n",
       "<span style=\"color: #d4b702; text-decoration-color: #d4b702\">│</span>                                                                                                                 <span style=\"color: #d4b702; text-decoration-color: #d4b702\">│</span>\n",
       "<span style=\"color: #d4b702; text-decoration-color: #d4b702\">╰─ HfApiModel - Qwen/Qwen2.5-Coder-32B-Instruct ──────────────────────────────────────────────────────────────────╯</span>\n",
       "</pre>\n"
      ],
      "text/plain": [
       "\u001b[38;2;212;183;2m╭─\u001b[0m\u001b[38;2;212;183;2m───────────────────────────────────────────────────\u001b[0m\u001b[38;2;212;183;2m \u001b[0m\u001b[1;38;2;212;183;2mNew run\u001b[0m\u001b[38;2;212;183;2m \u001b[0m\u001b[38;2;212;183;2m───────────────────────────────────────────────────\u001b[0m\u001b[38;2;212;183;2m─╮\u001b[0m\n",
       "\u001b[38;2;212;183;2m│\u001b[0m                                                                                                                 \u001b[38;2;212;183;2m│\u001b[0m\n",
       "\u001b[38;2;212;183;2m│\u001b[0m \u001b[1mHow do I run Weaviate with Docker?\u001b[0m                                                                              \u001b[38;2;212;183;2m│\u001b[0m\n",
       "\u001b[38;2;212;183;2m│\u001b[0m                                                                                                                 \u001b[38;2;212;183;2m│\u001b[0m\n",
       "\u001b[38;2;212;183;2m╰─\u001b[0m\u001b[38;2;212;183;2m HfApiModel - Qwen/Qwen2.5-Coder-32B-Instruct \u001b[0m\u001b[38;2;212;183;2m─────────────────────────────────────────────────────────────────\u001b[0m\u001b[38;2;212;183;2m─╯\u001b[0m\n"
      ]
     },
     "metadata": {},
     "output_type": "display_data"
    },
    {
     "data": {
      "text/html": [
       "<pre style=\"white-space:pre;overflow-x:auto;line-height:normal;font-family:Menlo,'DejaVu Sans Mono',consolas,'Courier New',monospace\"><span style=\"color: #d4b702; text-decoration-color: #d4b702\">━━━━━━━━━━━━━━━━━━━━━━━━━━━━━━━━━━━━━━━━━━━━━━━━━━━━━ </span><span style=\"font-weight: bold\">Step </span><span style=\"color: #008080; text-decoration-color: #008080; font-weight: bold\">1</span><span style=\"color: #d4b702; text-decoration-color: #d4b702\"> ━━━━━━━━━━━━━━━━━━━━━━━━━━━━━━━━━━━━━━━━━━━━━━━━━━━━━━</span>\n",
       "</pre>\n"
      ],
      "text/plain": [
       "\u001b[38;2;212;183;2m━━━━━━━━━━━━━━━━━━━━━━━━━━━━━━━━━━━━━━━━━━━━━━━━━━━━━ \u001b[0m\u001b[1mStep \u001b[0m\u001b[1;36m1\u001b[0m\u001b[38;2;212;183;2m ━━━━━━━━━━━━━━━━━━━━━━━━━━━━━━━━━━━━━━━━━━━━━━━━━━━━━━\u001b[0m\n"
      ]
     },
     "metadata": {},
     "output_type": "display_data"
    },
    {
     "data": {
      "text/html": [
       "<pre style=\"white-space:pre;overflow-x:auto;line-height:normal;font-family:Menlo,'DejaVu Sans Mono',consolas,'Courier New',monospace\"> ─ <span style=\"font-weight: bold\">Executing parsed code:</span> ──────────────────────────────────────────────────────────────────────────────────────── \n",
       "  <span style=\"color: #f8f8f2; text-decoration-color: #f8f8f2; background-color: #272822\">instructions </span><span style=\"color: #f92672; text-decoration-color: #f92672; background-color: #272822\">=</span><span style=\"color: #f8f8f2; text-decoration-color: #f8f8f2; background-color: #272822\"> query_agent(query</span><span style=\"color: #f92672; text-decoration-color: #f92672; background-color: #272822\">=</span><span style=\"color: #e6db74; text-decoration-color: #e6db74; background-color: #272822\">\"How do I run Weaviate with Docker?\"</span><span style=\"color: #f8f8f2; text-decoration-color: #f8f8f2; background-color: #272822\">)</span><span style=\"background-color: #272822\">                                         </span>  \n",
       "  <span style=\"color: #f8f8f2; text-decoration-color: #f8f8f2; background-color: #272822\">print(instructions)</span><span style=\"background-color: #272822\">                                                                                            </span>  \n",
       " ───────────────────────────────────────────────────────────────────────────────────────────────────────────────── \n",
       "</pre>\n"
      ],
      "text/plain": [
       " ─ \u001b[1mExecuting parsed code:\u001b[0m ──────────────────────────────────────────────────────────────────────────────────────── \n",
       "  \u001b[38;2;248;248;242;48;2;39;40;34minstructions\u001b[0m\u001b[38;2;248;248;242;48;2;39;40;34m \u001b[0m\u001b[38;2;249;38;114;48;2;39;40;34m=\u001b[0m\u001b[38;2;248;248;242;48;2;39;40;34m \u001b[0m\u001b[38;2;248;248;242;48;2;39;40;34mquery_agent\u001b[0m\u001b[38;2;248;248;242;48;2;39;40;34m(\u001b[0m\u001b[38;2;248;248;242;48;2;39;40;34mquery\u001b[0m\u001b[38;2;249;38;114;48;2;39;40;34m=\u001b[0m\u001b[38;2;230;219;116;48;2;39;40;34m\"\u001b[0m\u001b[38;2;230;219;116;48;2;39;40;34mHow do I run Weaviate with Docker?\u001b[0m\u001b[38;2;230;219;116;48;2;39;40;34m\"\u001b[0m\u001b[38;2;248;248;242;48;2;39;40;34m)\u001b[0m\u001b[48;2;39;40;34m                                         \u001b[0m  \n",
       "  \u001b[38;2;248;248;242;48;2;39;40;34mprint\u001b[0m\u001b[38;2;248;248;242;48;2;39;40;34m(\u001b[0m\u001b[38;2;248;248;242;48;2;39;40;34minstructions\u001b[0m\u001b[38;2;248;248;242;48;2;39;40;34m)\u001b[0m\u001b[48;2;39;40;34m                                                                                            \u001b[0m  \n",
       " ───────────────────────────────────────────────────────────────────────────────────────────────────────────────── \n"
      ]
     },
     "metadata": {},
     "output_type": "display_data"
    },
    {
     "name": "stderr",
     "output_type": "stream",
     "text": [
      "/Library/Frameworks/Python.framework/Versions/3.10/lib/python3.10/site-packages/weaviate/warnings.py:314: ResourceWarning: Con004: The connection to Weaviate was not closed properly. This can lead to memory leaks.\n",
      "            Please make sure to close the connection using `client.close()`.\n",
      "  warnings.warn(\n"
     ]
    },
    {
     "data": {
      "text/html": [
       "<pre style=\"white-space:pre;overflow-x:auto;line-height:normal;font-family:Menlo,'DejaVu Sans Mono',consolas,'Courier New',monospace\"><span style=\"font-weight: bold\">Execution logs:</span>\n",
       "To run Weaviate with Docker, follow these steps:\n",
       "\n",
       "1. **Install Docker**: Ensure you have Docker installed (Docker version 17.09.0 or higher) along with Docker \n",
       "Compose. Installation guides vary based on your operating system: \n",
       "   - [Docker Desktop for Mac](https://docs.docker.com/desktop/install/mac-install/)\n",
       "   - [Docker Desktop for Windows](https://docs.docker.com/desktop/install/windows-install/)\n",
       "   - [Docker for Ubuntu Linux](https://docs.docker.com/engine/install/ubuntu/)\n",
       "   - [Docker Compose for (Ubuntu) Linux](https://docs.docker.com/compose/install/)\n",
       "\n",
       "2. **Download Weaviate Docker Image**: You can obtain the latest version of Weaviate using:\n",
       "   ```\n",
       "docker pull cr.weaviate.io/semitechnologies/weaviate:latest\n",
       "   ```\n",
       "   Alternatively, you can run a specific version directly:\n",
       "   ```\n",
       "docker run -p 8080:8080 -p 50051:50051 cr.weaviate.io/semitechnologies/weaviate:1.24.8\n",
       "   ```\n",
       "\n",
       "3. **Create or Customize Docker Compose File**: Instead of using individual Docker run commands, it's recommended \n",
       "to use a `docker-compose.yml` file. You can generate one using the Weaviate configurator tool which assists in \n",
       "customizing the configuration based on your requirements. If you prefer, you can also copy an example from the \n",
       "documentation.\n",
       "\n",
       "4. **Start Weaviate**: Once your `docker-compose.yml` file is ready and saved in your working directory, start \n",
       "Weaviate with:\n",
       "   ```\n",
       "docker compose up -d\n",
       "   ```\n",
       "   The `-d` flag will run the containers in detached mode.\n",
       "\n",
       "5. **Monitor Logs**: You can check the logs of your containers with:\n",
       "   ```\n",
       "docker compose logs -f weaviate\n",
       "   ```\n",
       "   This helps you monitor the startup process and ensure everything is functioning correctly.\n",
       "\n",
       "6. **Check Readiness**: After starting Weaviate, you can check if it is fully operational by using:\n",
       "   ```\n",
       "curl localhost:8080/v1/.well-known/ready\n",
       "   ```\n",
       "   A 2xx HTTP status code confirms that Weaviate is up and ready to accept requests.\n",
       "\n",
       "Out: None\n",
       "</pre>\n"
      ],
      "text/plain": [
       "\u001b[1mExecution logs:\u001b[0m\n",
       "To run Weaviate with Docker, follow these steps:\n",
       "\n",
       "1. **Install Docker**: Ensure you have Docker installed (Docker version 17.09.0 or higher) along with Docker \n",
       "Compose. Installation guides vary based on your operating system: \n",
       "   - [Docker Desktop for Mac](https://docs.docker.com/desktop/install/mac-install/)\n",
       "   - [Docker Desktop for Windows](https://docs.docker.com/desktop/install/windows-install/)\n",
       "   - [Docker for Ubuntu Linux](https://docs.docker.com/engine/install/ubuntu/)\n",
       "   - [Docker Compose for (Ubuntu) Linux](https://docs.docker.com/compose/install/)\n",
       "\n",
       "2. **Download Weaviate Docker Image**: You can obtain the latest version of Weaviate using:\n",
       "   ```\n",
       "docker pull cr.weaviate.io/semitechnologies/weaviate:latest\n",
       "   ```\n",
       "   Alternatively, you can run a specific version directly:\n",
       "   ```\n",
       "docker run -p 8080:8080 -p 50051:50051 cr.weaviate.io/semitechnologies/weaviate:1.24.8\n",
       "   ```\n",
       "\n",
       "3. **Create or Customize Docker Compose File**: Instead of using individual Docker run commands, it's recommended \n",
       "to use a `docker-compose.yml` file. You can generate one using the Weaviate configurator tool which assists in \n",
       "customizing the configuration based on your requirements. If you prefer, you can also copy an example from the \n",
       "documentation.\n",
       "\n",
       "4. **Start Weaviate**: Once your `docker-compose.yml` file is ready and saved in your working directory, start \n",
       "Weaviate with:\n",
       "   ```\n",
       "docker compose up -d\n",
       "   ```\n",
       "   The `-d` flag will run the containers in detached mode.\n",
       "\n",
       "5. **Monitor Logs**: You can check the logs of your containers with:\n",
       "   ```\n",
       "docker compose logs -f weaviate\n",
       "   ```\n",
       "   This helps you monitor the startup process and ensure everything is functioning correctly.\n",
       "\n",
       "6. **Check Readiness**: After starting Weaviate, you can check if it is fully operational by using:\n",
       "   ```\n",
       "curl localhost:8080/v1/.well-known/ready\n",
       "   ```\n",
       "   A 2xx HTTP status code confirms that Weaviate is up and ready to accept requests.\n",
       "\n",
       "Out: None\n"
      ]
     },
     "metadata": {},
     "output_type": "display_data"
    },
    {
     "data": {
      "text/html": [
       "<pre style=\"white-space:pre;overflow-x:auto;line-height:normal;font-family:Menlo,'DejaVu Sans Mono',consolas,'Courier New',monospace\"><span style=\"color: #7f7f7f; text-decoration-color: #7f7f7f\">[Step 1: Duration 12.02 seconds| Input tokens: 2,092 | Output tokens: 58]</span>\n",
       "</pre>\n"
      ],
      "text/plain": [
       "\u001b[2m[Step 1: Duration 12.02 seconds| Input tokens: 2,092 | Output tokens: 58]\u001b[0m\n"
      ]
     },
     "metadata": {},
     "output_type": "display_data"
    },
    {
     "data": {
      "text/html": [
       "<pre style=\"white-space:pre;overflow-x:auto;line-height:normal;font-family:Menlo,'DejaVu Sans Mono',consolas,'Courier New',monospace\"><span style=\"color: #d4b702; text-decoration-color: #d4b702\">━━━━━━━━━━━━━━━━━━━━━━━━━━━━━━━━━━━━━━━━━━━━━━━━━━━━━ </span><span style=\"font-weight: bold\">Step </span><span style=\"color: #008080; text-decoration-color: #008080; font-weight: bold\">2</span><span style=\"color: #d4b702; text-decoration-color: #d4b702\"> ━━━━━━━━━━━━━━━━━━━━━━━━━━━━━━━━━━━━━━━━━━━━━━━━━━━━━━</span>\n",
       "</pre>\n"
      ],
      "text/plain": [
       "\u001b[38;2;212;183;2m━━━━━━━━━━━━━━━━━━━━━━━━━━━━━━━━━━━━━━━━━━━━━━━━━━━━━ \u001b[0m\u001b[1mStep \u001b[0m\u001b[1;36m2\u001b[0m\u001b[38;2;212;183;2m ━━━━━━━━━━━━━━━━━━━━━━━━━━━━━━━━━━━━━━━━━━━━━━━━━━━━━━\u001b[0m\n"
      ]
     },
     "metadata": {},
     "output_type": "display_data"
    },
    {
     "data": {
      "text/html": [
       "<pre style=\"white-space:pre;overflow-x:auto;line-height:normal;font-family:Menlo,'DejaVu Sans Mono',consolas,'Courier New',monospace\"> ─ <span style=\"font-weight: bold\">Executing parsed code:</span> ──────────────────────────────────────────────────────────────────────────────────────── \n",
       "  <span style=\"color: #f8f8f2; text-decoration-color: #f8f8f2; background-color: #272822\">final_answer(instructions)</span><span style=\"background-color: #272822\">                                                                                     </span>  \n",
       " ───────────────────────────────────────────────────────────────────────────────────────────────────────────────── \n",
       "</pre>\n"
      ],
      "text/plain": [
       " ─ \u001b[1mExecuting parsed code:\u001b[0m ──────────────────────────────────────────────────────────────────────────────────────── \n",
       "  \u001b[38;2;248;248;242;48;2;39;40;34mfinal_answer\u001b[0m\u001b[38;2;248;248;242;48;2;39;40;34m(\u001b[0m\u001b[38;2;248;248;242;48;2;39;40;34minstructions\u001b[0m\u001b[38;2;248;248;242;48;2;39;40;34m)\u001b[0m\u001b[48;2;39;40;34m                                                                                     \u001b[0m  \n",
       " ───────────────────────────────────────────────────────────────────────────────────────────────────────────────── \n"
      ]
     },
     "metadata": {},
     "output_type": "display_data"
    },
    {
     "data": {
      "text/html": [
       "<pre style=\"white-space:pre;overflow-x:auto;line-height:normal;font-family:Menlo,'DejaVu Sans Mono',consolas,'Courier New',monospace\"><span style=\"color: #d4b702; text-decoration-color: #d4b702; font-weight: bold\">Out - Final answer: To run Weaviate with Docker, follow these steps:</span>\n",
       "\n",
       "<span style=\"color: #d4b702; text-decoration-color: #d4b702; font-weight: bold\">1. **Install Docker**: Ensure you have Docker installed (Docker version 17.09.0 or higher) along with Docker </span>\n",
       "<span style=\"color: #d4b702; text-decoration-color: #d4b702; font-weight: bold\">Compose. Installation guides vary based on your operating system: </span>\n",
       "<span style=\"color: #d4b702; text-decoration-color: #d4b702; font-weight: bold\">   - [Docker Desktop for Mac](https://docs.docker.com/desktop/install/mac-install/)</span>\n",
       "<span style=\"color: #d4b702; text-decoration-color: #d4b702; font-weight: bold\">   - [Docker Desktop for Windows](https://docs.docker.com/desktop/install/windows-install/)</span>\n",
       "<span style=\"color: #d4b702; text-decoration-color: #d4b702; font-weight: bold\">   - [Docker for Ubuntu Linux](https://docs.docker.com/engine/install/ubuntu/)</span>\n",
       "<span style=\"color: #d4b702; text-decoration-color: #d4b702; font-weight: bold\">   - [Docker Compose for (Ubuntu) Linux](https://docs.docker.com/compose/install/)</span>\n",
       "\n",
       "<span style=\"color: #d4b702; text-decoration-color: #d4b702; font-weight: bold\">2. **Download Weaviate Docker Image**: You can obtain the latest version of Weaviate using:</span>\n",
       "<span style=\"color: #d4b702; text-decoration-color: #d4b702; font-weight: bold\">   ```</span>\n",
       "<span style=\"color: #d4b702; text-decoration-color: #d4b702; font-weight: bold\">docker pull cr.weaviate.io/semitechnologies/weaviate:latest</span>\n",
       "<span style=\"color: #d4b702; text-decoration-color: #d4b702; font-weight: bold\">   ```</span>\n",
       "<span style=\"color: #d4b702; text-decoration-color: #d4b702; font-weight: bold\">   Alternatively, you can run a specific version directly:</span>\n",
       "<span style=\"color: #d4b702; text-decoration-color: #d4b702; font-weight: bold\">   ```</span>\n",
       "<span style=\"color: #d4b702; text-decoration-color: #d4b702; font-weight: bold\">docker run -p 8080:8080 -p 50051:50051 cr.weaviate.io/semitechnologies/weaviate:1.24.8</span>\n",
       "<span style=\"color: #d4b702; text-decoration-color: #d4b702; font-weight: bold\">   ```</span>\n",
       "\n",
       "<span style=\"color: #d4b702; text-decoration-color: #d4b702; font-weight: bold\">3. **Create or Customize Docker Compose File**: Instead of using individual Docker run commands, it's recommended </span>\n",
       "<span style=\"color: #d4b702; text-decoration-color: #d4b702; font-weight: bold\">to use a `docker-compose.yml` file. You can generate one using the Weaviate configurator tool which assists in </span>\n",
       "<span style=\"color: #d4b702; text-decoration-color: #d4b702; font-weight: bold\">customizing the configuration based on your requirements. If you prefer, you can also copy an example from the </span>\n",
       "<span style=\"color: #d4b702; text-decoration-color: #d4b702; font-weight: bold\">documentation.</span>\n",
       "\n",
       "<span style=\"color: #d4b702; text-decoration-color: #d4b702; font-weight: bold\">4. **Start Weaviate**: Once your `docker-compose.yml` file is ready and saved in your working directory, start </span>\n",
       "<span style=\"color: #d4b702; text-decoration-color: #d4b702; font-weight: bold\">Weaviate with:</span>\n",
       "<span style=\"color: #d4b702; text-decoration-color: #d4b702; font-weight: bold\">   ```</span>\n",
       "<span style=\"color: #d4b702; text-decoration-color: #d4b702; font-weight: bold\">docker compose up -d</span>\n",
       "<span style=\"color: #d4b702; text-decoration-color: #d4b702; font-weight: bold\">   ```</span>\n",
       "<span style=\"color: #d4b702; text-decoration-color: #d4b702; font-weight: bold\">   The `-d` flag will run the containers in detached mode.</span>\n",
       "\n",
       "<span style=\"color: #d4b702; text-decoration-color: #d4b702; font-weight: bold\">5. **Monitor Logs**: You can check the logs of your containers with:</span>\n",
       "<span style=\"color: #d4b702; text-decoration-color: #d4b702; font-weight: bold\">   ```</span>\n",
       "<span style=\"color: #d4b702; text-decoration-color: #d4b702; font-weight: bold\">docker compose logs -f weaviate</span>\n",
       "<span style=\"color: #d4b702; text-decoration-color: #d4b702; font-weight: bold\">   ```</span>\n",
       "<span style=\"color: #d4b702; text-decoration-color: #d4b702; font-weight: bold\">   This helps you monitor the startup process and ensure everything is functioning correctly.</span>\n",
       "\n",
       "<span style=\"color: #d4b702; text-decoration-color: #d4b702; font-weight: bold\">6. **Check Readiness**: After starting Weaviate, you can check if it is fully operational by using:</span>\n",
       "<span style=\"color: #d4b702; text-decoration-color: #d4b702; font-weight: bold\">   ```</span>\n",
       "<span style=\"color: #d4b702; text-decoration-color: #d4b702; font-weight: bold\">curl localhost:8080/v1/.well-known/ready</span>\n",
       "<span style=\"color: #d4b702; text-decoration-color: #d4b702; font-weight: bold\">   ```</span>\n",
       "<span style=\"color: #d4b702; text-decoration-color: #d4b702; font-weight: bold\">   A 2xx HTTP status code confirms that Weaviate is up and ready to accept requests.</span>\n",
       "</pre>\n"
      ],
      "text/plain": [
       "\u001b[1;38;2;212;183;2mOut - Final answer: To run Weaviate with Docker, follow these steps:\u001b[0m\n",
       "\n",
       "\u001b[1;38;2;212;183;2m1. **Install Docker**: Ensure you have Docker installed (Docker version 17.09.0 or higher) along with Docker \u001b[0m\n",
       "\u001b[1;38;2;212;183;2mCompose. Installation guides vary based on your operating system: \u001b[0m\n",
       "\u001b[1;38;2;212;183;2m   - [Docker Desktop for Mac](https://docs.docker.com/desktop/install/mac-install/)\u001b[0m\n",
       "\u001b[1;38;2;212;183;2m   - [Docker Desktop for Windows](https://docs.docker.com/desktop/install/windows-install/)\u001b[0m\n",
       "\u001b[1;38;2;212;183;2m   - [Docker for Ubuntu Linux](https://docs.docker.com/engine/install/ubuntu/)\u001b[0m\n",
       "\u001b[1;38;2;212;183;2m   - [Docker Compose for (Ubuntu) Linux](https://docs.docker.com/compose/install/)\u001b[0m\n",
       "\n",
       "\u001b[1;38;2;212;183;2m2. **Download Weaviate Docker Image**: You can obtain the latest version of Weaviate using:\u001b[0m\n",
       "\u001b[1;38;2;212;183;2m   ```\u001b[0m\n",
       "\u001b[1;38;2;212;183;2mdocker pull cr.weaviate.io/semitechnologies/weaviate:latest\u001b[0m\n",
       "\u001b[1;38;2;212;183;2m   ```\u001b[0m\n",
       "\u001b[1;38;2;212;183;2m   Alternatively, you can run a specific version directly:\u001b[0m\n",
       "\u001b[1;38;2;212;183;2m   ```\u001b[0m\n",
       "\u001b[1;38;2;212;183;2mdocker run -p 8080:8080 -p 50051:50051 cr.weaviate.io/semitechnologies/weaviate:1.24.8\u001b[0m\n",
       "\u001b[1;38;2;212;183;2m   ```\u001b[0m\n",
       "\n",
       "\u001b[1;38;2;212;183;2m3. **Create or Customize Docker Compose File**: Instead of using individual Docker run commands, it's recommended \u001b[0m\n",
       "\u001b[1;38;2;212;183;2mto use a `docker-compose.yml` file. You can generate one using the Weaviate configurator tool which assists in \u001b[0m\n",
       "\u001b[1;38;2;212;183;2mcustomizing the configuration based on your requirements. If you prefer, you can also copy an example from the \u001b[0m\n",
       "\u001b[1;38;2;212;183;2mdocumentation.\u001b[0m\n",
       "\n",
       "\u001b[1;38;2;212;183;2m4. **Start Weaviate**: Once your `docker-compose.yml` file is ready and saved in your working directory, start \u001b[0m\n",
       "\u001b[1;38;2;212;183;2mWeaviate with:\u001b[0m\n",
       "\u001b[1;38;2;212;183;2m   ```\u001b[0m\n",
       "\u001b[1;38;2;212;183;2mdocker compose up -d\u001b[0m\n",
       "\u001b[1;38;2;212;183;2m   ```\u001b[0m\n",
       "\u001b[1;38;2;212;183;2m   The `-d` flag will run the containers in detached mode.\u001b[0m\n",
       "\n",
       "\u001b[1;38;2;212;183;2m5. **Monitor Logs**: You can check the logs of your containers with:\u001b[0m\n",
       "\u001b[1;38;2;212;183;2m   ```\u001b[0m\n",
       "\u001b[1;38;2;212;183;2mdocker compose logs -f weaviate\u001b[0m\n",
       "\u001b[1;38;2;212;183;2m   ```\u001b[0m\n",
       "\u001b[1;38;2;212;183;2m   This helps you monitor the startup process and ensure everything is functioning correctly.\u001b[0m\n",
       "\n",
       "\u001b[1;38;2;212;183;2m6. **Check Readiness**: After starting Weaviate, you can check if it is fully operational by using:\u001b[0m\n",
       "\u001b[1;38;2;212;183;2m   ```\u001b[0m\n",
       "\u001b[1;38;2;212;183;2mcurl localhost:8080/v1/.well-known/ready\u001b[0m\n",
       "\u001b[1;38;2;212;183;2m   ```\u001b[0m\n",
       "\u001b[1;38;2;212;183;2m   A 2xx HTTP status code confirms that Weaviate is up and ready to accept requests.\u001b[0m\n"
      ]
     },
     "metadata": {},
     "output_type": "display_data"
    },
    {
     "data": {
      "text/html": [
       "<pre style=\"white-space:pre;overflow-x:auto;line-height:normal;font-family:Menlo,'DejaVu Sans Mono',consolas,'Courier New',monospace\"><span style=\"color: #7f7f7f; text-decoration-color: #7f7f7f\">[Step 2: Duration 3.03 seconds| Input tokens: 4,805 | Output tokens: 96]</span>\n",
       "</pre>\n"
      ],
      "text/plain": [
       "\u001b[2m[Step 2: Duration 3.03 seconds| Input tokens: 4,805 | Output tokens: 96]\u001b[0m\n"
      ]
     },
     "metadata": {},
     "output_type": "display_data"
    },
    {
     "data": {
      "text/plain": [
       "\"To run Weaviate with Docker, follow these steps:\\n\\n1. **Install Docker**: Ensure you have Docker installed (Docker version 17.09.0 or higher) along with Docker Compose. Installation guides vary based on your operating system: \\n   - [Docker Desktop for Mac](https://docs.docker.com/desktop/install/mac-install/)\\n   - [Docker Desktop for Windows](https://docs.docker.com/desktop/install/windows-install/)\\n   - [Docker for Ubuntu Linux](https://docs.docker.com/engine/install/ubuntu/)\\n   - [Docker Compose for (Ubuntu) Linux](https://docs.docker.com/compose/install/)\\n\\n2. **Download Weaviate Docker Image**: You can obtain the latest version of Weaviate using:\\n   ```\\ndocker pull cr.weaviate.io/semitechnologies/weaviate:latest\\n   ```\\n   Alternatively, you can run a specific version directly:\\n   ```\\ndocker run -p 8080:8080 -p 50051:50051 cr.weaviate.io/semitechnologies/weaviate:1.24.8\\n   ```\\n\\n3. **Create or Customize Docker Compose File**: Instead of using individual Docker run commands, it's recommended to use a `docker-compose.yml` file. You can generate one using the Weaviate configurator tool which assists in customizing the configuration based on your requirements. If you prefer, you can also copy an example from the documentation.\\n\\n4. **Start Weaviate**: Once your `docker-compose.yml` file is ready and saved in your working directory, start Weaviate with:\\n   ```\\ndocker compose up -d\\n   ```\\n   The `-d` flag will run the containers in detached mode.\\n\\n5. **Monitor Logs**: You can check the logs of your containers with:\\n   ```\\ndocker compose logs -f weaviate\\n   ```\\n   This helps you monitor the startup process and ensure everything is functioning correctly.\\n\\n6. **Check Readiness**: After starting Weaviate, you can check if it is fully operational by using:\\n   ```\\ncurl localhost:8080/v1/.well-known/ready\\n   ```\\n   A 2xx HTTP status code confirms that Weaviate is up and ready to accept requests.\""
      ]
     },
     "execution_count": 9,
     "metadata": {},
     "output_type": "execute_result"
    }
   ],
   "source": [
    "from smolagents import CodeAgent, HfApiModel\n",
    "\n",
    "model = HfApiModel(\"Qwen/Qwen2.5-Coder-32B-Instruct\")\n",
    "agent = CodeAgent(tools=[query_agent_tool], model=model)\n",
    "\n",
    "agent.run(\n",
    "    \"How do I run Weaviate with Docker?\"\n",
    ")"
   ]
  }
 ],
 "metadata": {
  "kernelspec": {
   "display_name": "Python 3",
   "language": "python",
   "name": "python3"
  },
  "language_info": {
   "codemirror_mode": {
    "name": "ipython",
    "version": 3
   },
   "file_extension": ".py",
   "mimetype": "text/x-python",
   "name": "python",
   "nbconvert_exporter": "python",
   "pygments_lexer": "ipython3",
   "version": "3.10.10"
  }
 },
 "nbformat": 4,
 "nbformat_minor": 2
}
