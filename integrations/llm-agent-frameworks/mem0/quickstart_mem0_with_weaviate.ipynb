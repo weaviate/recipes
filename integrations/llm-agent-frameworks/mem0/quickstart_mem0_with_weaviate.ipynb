{
  "cells": [
    {
      "cell_type": "markdown",
      "id": "7dc17cfc3c127df5",
      "metadata": {
        "collapsed": false,
        "id": "7dc17cfc3c127df5"
      },
      "source": [
        "[![Open In Colab](https://colab.research.google.com/assets/colab-badge.svg)](https://colab.research.google.com/github/weaviate/recipes/blob/main/integrations/llm-agent-frameworks/mem0/quickstart_mem0_with_weaviate.ipynb)"
      ]
    },
    {
      "cell_type": "markdown",
      "id": "8b5689b0c2dd927e",
      "metadata": {
        "collapsed": false,
        "id": "8b5689b0c2dd927e"
      },
      "source": [
        "# How to integrate Long-Term Memory for AI Agents with Mem0 and Weaviate\n",
        "\n",
        "[Mem0](https://mem0.ai/) is an open-source tools for adding a memory layer to agentic AI applications. Mem0 is designed to extract, consolidate, and retrieve information from and for on-going conversations.\n",
        "\n",
        "This tutorial shows you how you can add long-term memory to your AI agents using Mem0 and [Weaviate](https://weaviate.io/). We will cover basic operations such as adding, searching, updating, and deleting memories."
      ]
    },
    {
      "cell_type": "markdown",
      "id": "2La6P9TMV7ZM",
      "metadata": {
        "id": "2La6P9TMV7ZM"
      },
      "source": [
        "## Step 1: Download required libraries\n",
        "\n",
        "First, we need to install the required `mem0ai` (v0.1.118) and `weaviate-client` (v4.17.0) libraries. "
      ]
    },
    {
      "cell_type": "code",
      "execution_count": 1,
      "id": "4c7accf1b9622209",
      "metadata": {
        "id": "4c7accf1b9622209"
      },
      "outputs": [],
      "source": [
        "%%capture\n",
        "%pip install -U mem0ai weaviate-client"
      ]
    },
    {
      "cell_type": "markdown",
      "id": "hEPGSpquauA7",
      "metadata": {
        "id": "hEPGSpquauA7"
      },
      "source": [
        "## Step 2: Setup API Key\n",
        "\n",
        "Mem0 uses OpenAI as the provider for the LLM and embedding model by default. Therefore, you need to set the [API key](https://platform.openai.com/docs/quickstart) `OPENAI_API_KEY` as an environment variable."
      ]
    },
    {
      "cell_type": "code",
      "execution_count": null,
      "id": "PCNwsKv-UT6j",
      "metadata": {
        "id": "PCNwsKv-UT6j"
      },
      "outputs": [],
      "source": [
        "import os\n",
        "\n",
        "os.environ[\"OPENAI_API_KEY\"] = \"sk-...\""
      ]
    },
    {
      "cell_type": "markdown",
      "id": "sb2JuvTSUtZh",
      "metadata": {
        "id": "sb2JuvTSUtZh"
      },
      "source": [
        "## Step 3: Start up a Weaviate vector database instance\n",
        "\n",
        "Because, we want to use the Weaviate vector database to store the memories, we need to start up a Weaviate vector database instance.\n",
        "\n",
        "You can choose one of the following options:\n",
        "\n",
        "1. **Option 1:** You can create a 14-day free sandbox on the managed service [Weaviate Cloud (WCD)](https://console.weaviate.cloud/)\n",
        "3. **Option 2:** You can start up a [local Weaviate vector database instance with Doker](https://docs.weaviate.io/deploy/installation-guides/docker-installation)\n",
        "\n",
        "For this tutorial, we will start up a local Weaviate vector database instance with the following Docker command:\n"
      ]
    },
    {
      "cell_type": "code",
      "execution_count": 3,
      "id": "83541be9",
      "metadata": {},
      "outputs": [],
      "source": [
        "#!docker run -p 8080:8080 -p 50051:50051 cr.weaviate.io/semitechnologies/weaviate:1.33.0"
      ]
    },
    {
      "cell_type": "markdown",
      "id": "d656b5d1",
      "metadata": {},
      "source": [
        "## Step 4: Prepare a collection\n",
        "\n",
        "Now, we need to connect to our vector database cluster and prepare an empty collection to hold our memories with the following properties."
      ]
    },
    {
      "cell_type": "code",
      "execution_count": null,
      "id": "6759ab10",
      "metadata": {},
      "outputs": [],
      "source": [
        "import weaviate\n",
        "import weaviate.classes.config as wvc\n",
        "\n",
        "client = weaviate.connect_to_local()\n",
        "\n",
        "collection_name = \"LongtermMemories\"\n",
        "\n",
        "properties = [\n",
        "    wvc.Property(name=\"ids\", data_type=wvc.DataType.TEXT),\n",
        "    wvc.Property(name=\"hash\", data_type=wvc.DataType.TEXT),\n",
        "    wvc.Property(\n",
        "        name=\"metadata\",\n",
        "        data_type=wvc.DataType.TEXT,\n",
        "        description=\"Additional metadata\",\n",
        "    ),\n",
        "    wvc.Property(name=\"data\", data_type=wvc.DataType.TEXT),\n",
        "    wvc.Property(name=\"created_at\", data_type=wvc.DataType.TEXT),\n",
        "    wvc.Property(name=\"category\", data_type=wvc.DataType.TEXT),\n",
        "    wvc.Property(name=\"updated_at\", data_type=wvc.DataType.TEXT),\n",
        "    wvc.Property(name=\"user_id\", data_type=wvc.DataType.TEXT),\n",
        "    wvc.Property(name=\"agent_id\", data_type=wvc.DataType.TEXT),\n",
        "    wvc.Property(name=\"run_id\", data_type=wvc.DataType.TEXT),\n",
        "]\n",
        "\n",
        "# Only uncomment this if you want to delete the collection and start fresh\n",
        "#if client.collections.exists(collection_name):\n",
        "#    client.collections.delete(collection_name)\n",
        "\n",
        "client.collections.create(\n",
        "    name=collection_name,\n",
        "    properties=properties,\n",
        ")\n",
        "\n",
        "client.close() "
      ]
    },
    {
      "cell_type": "markdown",
      "id": "c44c7ab0",
      "metadata": {},
      "source": [
        "## Step 5: Configure Weaviate as your vector store\n",
        "Next, we can configure Mem0 to use Weaviate as the vector store."
      ]
    },
    {
      "cell_type": "code",
      "execution_count": null,
      "id": "ul65iMC0Uzmz",
      "metadata": {
        "id": "ul65iMC0Uzmz"
      },
      "outputs": [],
      "source": [
        "from mem0 import Memory\n",
        "\n",
        "config = {\n",
        "    \"vector_store\": {\n",
        "        \"provider\": \"weaviate\",\n",
        "        \"config\": {\n",
        "            \"collection_name\": collection_name,\n",
        "            \"cluster_url\": \"http://localhost:8080\",\n",
        "            \"auth_client_secret\": None,\n",
        "        }\n",
        "    }\n",
        "}\n",
        "\n",
        "m = Memory.from_config(config)"
      ]
    },
    {
      "cell_type": "markdown",
      "id": "q7eGl6tKVoCp",
      "metadata": {
        "id": "q7eGl6tKVoCp"
      },
      "source": [
        "## Step 6: Basic Operations of Managing Memories\n",
        "\n",
        "Now, you're all set up and can start managing memories with the following basic operations:"
      ]
    },
    {
      "cell_type": "markdown",
      "id": "dFBywoCDWMOD",
      "metadata": {
        "id": "dFBywoCDWMOD"
      },
      "source": [
        "### Add Memories\n",
        "\n",
        "The `add` function extracts memories from the conversation and stores them in Weaviate for a specific user."
      ]
    },
    {
      "cell_type": "code",
      "execution_count": 6,
      "id": "TJg6QewOWZE_",
      "metadata": {
        "colab": {
          "base_uri": "https://localhost:8080/"
        },
        "id": "TJg6QewOWZE_",
        "outputId": "916c3723-ce7c-4b67-f274-134c271b268f"
      },
      "outputs": [
        {
          "data": {
            "text/plain": [
              "{'results': [{'id': 'c906db6c-c5af-4a2e-9aa0-d0ab7cde94f5',\n",
              "   'memory': 'Name is Alex',\n",
              "   'event': 'ADD'},\n",
              "  {'id': 'e107bda6-887b-42b8-9a4e-cf9d2e02bec9',\n",
              "   'memory': 'Is a vegetarian',\n",
              "   'event': 'ADD'},\n",
              "  {'id': 'ebb43ced-eb94-4e58-9739-5b688d2f9c70',\n",
              "   'memory': 'Is allergic to nuts',\n",
              "   'event': 'ADD'}]}"
            ]
          },
          "execution_count": 6,
          "metadata": {},
          "output_type": "execute_result"
        }
      ],
      "source": [
        "messages = [\n",
        "    {\"role\": \"user\", \"content\": \"Hi, I'm Alex. I'm a vegetarian and allergic to nuts.\"},\n",
        "    {\"role\": \"assistant\", \"content\": \"Hello Alex! I'll remember your dietary preferences.\"}\n",
        "]\n",
        "\n",
        "result = m.add(\n",
        "    messages=messages,\n",
        "    user_id=\"alex\",\n",
        "    metadata={\"category\": \"user information\"},\n",
        ")\n",
        "\n",
        "result"
      ]
    },
    {
      "cell_type": "markdown",
      "id": "a0e8ca66",
      "metadata": {},
      "source": [
        "As you can see, based on the conversation \"Hi, I'm Alex. I'm a vegetarian and allergic to nuts.\", mem0 has extracted three memories:\n",
        "- The user's name\n",
        "- The user's dietary preferences\n",
        "- The user's allergies"
      ]
    },
    {
      "cell_type": "markdown",
      "id": "ec6d7b7d",
      "metadata": {},
      "source": [
        "### Search Memories\n",
        "Next, you can use the `search` function to look for the most related memory for a `query` and `user_id`. The default distance metric for vector search is `cosine`."
      ]
    },
    {
      "cell_type": "code",
      "execution_count": 7,
      "id": "7c4f959a",
      "metadata": {},
      "outputs": [
        {
          "data": {
            "text/plain": [
              "{'results': [{'id': 'e107bda6-887b-42b8-9a4e-cf9d2e02bec9',\n",
              "   'memory': 'Is a vegetarian',\n",
              "   'hash': 'ce6b1c84586772ab9995a9477032df99',\n",
              "   'metadata': {'category': 'user information'},\n",
              "   'score': 1.0,\n",
              "   'created_at': '2025-10-09T05:38:39.698896-07:00',\n",
              "   'updated_at': None,\n",
              "   'user_id': 'alex'},\n",
              "  {'id': 'ebb43ced-eb94-4e58-9739-5b688d2f9c70',\n",
              "   'memory': 'Is allergic to nuts',\n",
              "   'hash': '7873cd0e5a29c513253d9fad038e758b',\n",
              "   'metadata': {'category': 'user information'},\n",
              "   'score': 1.0,\n",
              "   'created_at': '2025-10-09T05:38:40.754045-07:00',\n",
              "   'updated_at': None,\n",
              "   'user_id': 'alex'},\n",
              "  {'id': 'c906db6c-c5af-4a2e-9aa0-d0ab7cde94f5',\n",
              "   'memory': 'Name is Alex',\n",
              "   'hash': 'd0fccc8fa47f7a149ee95750c37bb0ca',\n",
              "   'metadata': {'category': 'user information'},\n",
              "   'score': 1.0,\n",
              "   'created_at': '2025-10-09T05:38:38.645280-07:00',\n",
              "   'updated_at': None,\n",
              "   'user_id': 'alex'}]}"
            ]
          },
          "execution_count": 7,
          "metadata": {},
          "output_type": "execute_result"
        }
      ],
      "source": [
        "results = m.search(\n",
        "    query=\"What should I cook for dinner?\",\n",
        "    user_id=\"alex\",\n",
        ")\n",
        "\n",
        "results"
      ]
    },
    {
      "cell_type": "markdown",
      "id": "pkM5MolHYhfm",
      "metadata": {
        "id": "pkM5MolHYhfm"
      },
      "source": [
        "### Update Memories\n",
        "\n",
        "You can also `update` existing memories via their id."
      ]
    },
    {
      "cell_type": "code",
      "execution_count": 9,
      "id": "s9gUfYvQYg-K",
      "metadata": {
        "colab": {
          "base_uri": "https://localhost:8080/"
        },
        "id": "s9gUfYvQYg-K",
        "outputId": "2d464c53-f5f0-4f29-f069-223af24bf320"
      },
      "outputs": [
        {
          "data": {
            "text/plain": [
              "{'message': 'Memory updated successfully!'}"
            ]
          },
          "execution_count": 9,
          "metadata": {},
          "output_type": "execute_result"
        }
      ],
      "source": [
        "memory_id = 'e107bda6-887b-42b8-9a4e-cf9d2e02bec9'\n",
        "\n",
        "m.update(\n",
        "    memory_id=memory_id, \n",
        "    data=\"Is a vegan.\"\n",
        "    )"
      ]
    },
    {
      "cell_type": "markdown",
      "id": "3U6MZBCdZpln",
      "metadata": {
        "id": "3U6MZBCdZpln"
      },
      "source": [
        "Once you've updated a memory, you can also view their history via the `history` function."
      ]
    },
    {
      "cell_type": "code",
      "execution_count": 10,
      "id": "9PQZuH7XZiED",
      "metadata": {
        "colab": {
          "base_uri": "https://localhost:8080/"
        },
        "id": "9PQZuH7XZiED",
        "outputId": "d373faaf-8254-4a99-cd12-203b9e37f36f"
      },
      "outputs": [
        {
          "data": {
            "text/plain": [
              "[{'id': '55481258-67aa-4680-8e90-17bc7cd74a01',\n",
              "  'memory_id': 'e107bda6-887b-42b8-9a4e-cf9d2e02bec9',\n",
              "  'old_memory': None,\n",
              "  'new_memory': 'Is a vegetarian',\n",
              "  'event': 'ADD',\n",
              "  'created_at': '2025-10-09T05:38:39.698896-07:00',\n",
              "  'updated_at': None,\n",
              "  'is_deleted': False,\n",
              "  'actor_id': None,\n",
              "  'role': None},\n",
              " {'id': 'b2a02dcc-6967-4e5a-8803-f71f18ff2f38',\n",
              "  'memory_id': 'e107bda6-887b-42b8-9a4e-cf9d2e02bec9',\n",
              "  'old_memory': 'Is a vegetarian',\n",
              "  'new_memory': 'Is a vegan.',\n",
              "  'event': 'UPDATE',\n",
              "  'created_at': '2025-10-09T05:38:39.698896-07:00',\n",
              "  'updated_at': '2025-10-09T05:38:58.892620-07:00',\n",
              "  'is_deleted': False,\n",
              "  'actor_id': None,\n",
              "  'role': None}]"
            ]
          },
          "execution_count": 10,
          "metadata": {},
          "output_type": "execute_result"
        }
      ],
      "source": [
        "m.history(memory_id=memory_id)"
      ]
    },
    {
      "cell_type": "markdown",
      "id": "JmF_2F0_f0Nq",
      "metadata": {
        "id": "JmF_2F0_f0Nq"
      },
      "source": [
        "### Delete Memories\n",
        "\n",
        "Finally, you can also `delete` a memory."
      ]
    },
    {
      "cell_type": "code",
      "execution_count": 11,
      "id": "31JVJryEgL5B",
      "metadata": {
        "colab": {
          "base_uri": "https://localhost:8080/"
        },
        "id": "31JVJryEgL5B",
        "outputId": "0b1370cb-e761-4823-ec53-b3798d728dd5"
      },
      "outputs": [
        {
          "data": {
            "text/plain": [
              "{'message': 'Memory deleted successfully!'}"
            ]
          },
          "execution_count": 11,
          "metadata": {},
          "output_type": "execute_result"
        }
      ],
      "source": [
        "memory_id = 'c906db6c-c5af-4a2e-9aa0-d0ab7cde94f5'\n",
        "results = m.delete(memory_id=memory_id)\n",
        "\n",
        "results"
      ]
    },
    {
      "cell_type": "markdown",
      "id": "d1966ffc",
      "metadata": {},
      "source": [
        "Now, you can use the `get_all` function to view all available memories by `user_id` in Weaviate."
      ]
    },
    {
      "cell_type": "code",
      "execution_count": 12,
      "id": "0eb4e633",
      "metadata": {},
      "outputs": [
        {
          "data": {
            "text/plain": [
              "{'results': [{'id': 'ebb43ced-eb94-4e58-9739-5b688d2f9c70',\n",
              "   'memory': 'Is allergic to nuts',\n",
              "   'hash': '7873cd0e5a29c513253d9fad038e758b',\n",
              "   'metadata': {'category': 'user information'},\n",
              "   'created_at': '2025-10-09T05:38:40.754045-07:00',\n",
              "   'updated_at': None,\n",
              "   'user_id': 'alex',\n",
              "   'agent_id': None,\n",
              "   'run_id': None},\n",
              "  {'id': 'e107bda6-887b-42b8-9a4e-cf9d2e02bec9',\n",
              "   'memory': 'Is a vegan.',\n",
              "   'hash': 'a8622f068d1d6721ae04930ba3416d48',\n",
              "   'metadata': {'category': 'user information'},\n",
              "   'created_at': '2025-10-09T05:38:39.698896-07:00',\n",
              "   'updated_at': '2025-10-09T05:38:58.892620-07:00',\n",
              "   'user_id': 'alex',\n",
              "   'agent_id': None,\n",
              "   'run_id': None}]}"
            ]
          },
          "execution_count": 12,
          "metadata": {},
          "output_type": "execute_result"
        }
      ],
      "source": [
        "results = m.get_all(user_id=\"alex\")\n",
        "\n",
        "results"
      ]
    }
  ],
  "metadata": {
    "colab": {
      "provenance": []
    },
    "kernelspec": {
      "display_name": "Python 3",
      "language": "python",
      "name": "python3"
    },
    "language_info": {
      "codemirror_mode": {
        "name": "ipython",
        "version": 3
      },
      "file_extension": ".py",
      "mimetype": "text/x-python",
      "name": "python",
      "nbconvert_exporter": "python",
      "pygments_lexer": "ipython3",
      "version": "3.9.6"
    }
  },
  "nbformat": 4,
  "nbformat_minor": 5
}
