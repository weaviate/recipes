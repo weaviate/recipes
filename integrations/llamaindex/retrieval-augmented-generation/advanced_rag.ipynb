{
 "cells": [
  {
   "cell_type": "markdown",
   "metadata": {},
   "source": [
    "# Advanced RAG with LlamaIndex\n",
    "\n",
    "This notebook walks your through an advanced Retrieval-Augmented Generation (RAG) pipeline using LlamaIndex and Weaviate.\n",
    "\n",
    "You can find the related notebook for a naive RAG pipeline here: [Naive RAG](https://github.com/weaviate/recipes/blob/main/integrations/llamaindex/retrieval-augmented-generation/naive_rag.ipyn)."
   ]
  },
  {
   "cell_type": "markdown",
   "metadata": {},
   "source": [
    "## Prerequisites\n",
    "\n",
    "### Installation\n",
    "First, you need to install the required packages for LlamaIndex and Weaviate."
   ]
  },
  {
   "cell_type": "code",
   "execution_count": 1,
   "metadata": {
    "scrolled": true
   },
   "outputs": [
    {
     "data": {
      "text/plain": [
       "'0.10.1'"
      ]
     },
     "execution_count": 1,
     "metadata": {},
     "output_type": "execute_result"
    }
   ],
   "source": [
    "# !pip3 install llama_index\n",
    "\n",
    "# Use this to upgrade from an older llama_index version to v0.10.1\n",
    "# !pip3 uninstall llama-index\n",
    "# !pip3 install llama-index --upgrade --no-cache-dir --force-reinstall\n",
    "\n",
    "# ------------------------------------------------------------------------------------ #\n",
    "\n",
    "# !pip3 install -U weaviate-client\n",
    "# !pip3 install llama-index-vector-stores-weaviate\n",
    "\n",
    "# ------------------------------------------------------------------------------------ #\n",
    "\n",
    "# !pip3 install pypdf torch pytorch torchvision #transformers  sentence-transformers\n",
    "\n",
    "import llama_index\n",
    "from importlib.metadata import version\n",
    "\n",
    "version('llama_index')"
   ]
  },
  {
   "cell_type": "markdown",
   "metadata": {},
   "source": [
    "### Set your OpenAI API key\n",
    "\n",
    "This tutorial uses an embedding model and LLM from OpenAI, for which you will need an API key set as an evironment variable."
   ]
  },
  {
   "cell_type": "code",
   "execution_count": 2,
   "metadata": {},
   "outputs": [
    {
     "data": {
      "text/plain": [
       "True"
      ]
     },
     "execution_count": 2,
     "metadata": {},
     "output_type": "execute_result"
    }
   ],
   "source": [
    "import os\n",
    "from dotenv import load_dotenv,find_dotenv\n",
    "\n",
    "# Use this line of code if you have a local .env file\n",
    "load_dotenv(find_dotenv()) \n",
    "\n",
    "# Or set it like this\n",
    "# os.environ[\"OPENAI_API_KEY\"] = \"sk-...\"\n",
    "\n",
    "# Print this line to double check your API key\n",
    "# print(os.environ[\"OPENAI_API_KEY\"])"
   ]
  },
  {
   "cell_type": "markdown",
   "metadata": {},
   "source": [
    "## Step 1: Define Embedding Model and LLM\n",
    "\n",
    "First, you can define an embedding model and LLM in a global settings object. By doing this, you don't have to specify the models explicitly in the code again.\n",
    "\n",
    "* Embedding model: used to generate vector embeddings for the document chunks as well as the query.\n",
    "* LLM: used to generate an answer based on the user query and the relevant context.\n",
    "\n",
    "*Note, that you can specify  an embedding model (vectorizer module) and an LLM (generative module) in Weaviate as well but in this case the LLM and embedding model defined in Llamaindex will be used.*"
   ]
  },
  {
   "cell_type": "code",
   "execution_count": 3,
   "metadata": {},
   "outputs": [],
   "source": [
    "from llama_index.embeddings.openai import OpenAIEmbedding\n",
    "from llama_index.llms.openai import OpenAI\n",
    "from llama_index.core.settings import Settings\n",
    "\n",
    "Settings.llm = OpenAI(model=\"gpt-3.5-turbo\", temperature=0.1)\n",
    "Settings.embed_model = OpenAIEmbedding()"
   ]
  },
  {
   "cell_type": "markdown",
   "metadata": {},
   "source": [
    "## Step 2: Load data\n",
    "\n",
    "Next, you will download and load the data to be stored in the external knowledge source."
   ]
  },
  {
   "cell_type": "code",
   "execution_count": 4,
   "metadata": {},
   "outputs": [
    {
     "name": "stdout",
     "output_type": "stream",
     "text": [
      "--2024-02-14 12:14:31--  https://raw.githubusercontent.com/run-llama/llama_index/main/docs/examples/data/paul_graham/paul_graham_essay.txt\n",
      "Resolving raw.githubusercontent.com (raw.githubusercontent.com)... 2606:50c0:8000::154, 2606:50c0:8001::154, 2606:50c0:8002::154, ...\n",
      "Connecting to raw.githubusercontent.com (raw.githubusercontent.com)|2606:50c0:8000::154|:443... connected.\n",
      "HTTP request sent, awaiting response... 200 OK\n",
      "Length: 75042 (73K) [text/plain]\n",
      "Saving to: ‘data/paul_graham_essay.txt’\n",
      "\n",
      "data/paul_graham_es 100%[===================>]  73,28K  --.-KB/s    in 0,01s   \n",
      "\n",
      "2024-02-14 12:14:31 (7,20 MB/s) - ‘data/paul_graham_essay.txt’ saved [75042/75042]\n",
      "\n"
     ]
    }
   ],
   "source": [
    "!mkdir -p 'data'\n",
    "!wget 'https://raw.githubusercontent.com/run-llama/llama_index/main/docs/examples/data/paul_graham/paul_graham_essay.txt' -O 'data/paul_graham_essay.txt'"
   ]
  },
  {
   "cell_type": "code",
   "execution_count": 5,
   "metadata": {},
   "outputs": [
    {
     "data": {
      "text/plain": [
       "[Document(id_='42c51cb1-85f4-4a4f-84e4-c829296754bc', embedding=None, metadata={'file_path': 'data/paul_graham_essay.txt', 'file_name': 'paul_graham_essay.txt', 'file_type': 'text/plain', 'file_size': 75042, 'creation_date': '2024-02-14', 'last_modified_date': '2024-02-14', 'last_accessed_date': '2024-02-14'}, excluded_embed_metadata_keys=['file_name', 'file_type', 'file_size', 'creation_date', 'last_modified_date', 'last_accessed_date'], excluded_llm_metadata_keys=['file_name', 'file_type', 'file_size', 'creation_date', 'last_modified_date', 'last_accessed_date'], relationships={}, text='\\n\\nWhat I Worked On\\n\\nFebruary 2021\\n\\nBefore college the two main things I worked on, outside of school, were writing and programming. I didn\\'t write essays. I wrote what beginning writers were supposed to write then, and probably still are: short stories. My stories were awful. They had hardly any plot, just characters with strong feelings, which I imagined made them deep.\\n\\nThe first programs I tried writing were on the IBM 1401 that our school district used for what was then called \"data processing.\" This was in 9th grade, so I was 13 or 14. The school district\\'s 1401 happened to be in the basement of our junior high school, and my friend Rich Draves and I got permission to use it. It was like a mini Bond villain\\'s lair down there, with all these alien-looking machines — CPU, disk drives, printer, card reader — sitting up on a raised floor under bright fluorescent lights.\\n\\nThe language we used was an early version of Fortran. You had to type programs on punch cards, then stack them in the card reader and press a button to load the program into memory and run it. The result would ordinarily be to print something on the spectacularly loud printer.\\n\\nI was puzzled by the 1401. I couldn\\'t figure out what to do with it. And in retrospect there\\'s not much I could have done with it. The only form of input to programs was data stored on punched cards, and I didn\\'t have any data stored on punched cards. The only other option was to do things that didn\\'t rely on any input, like calculate approximations of pi, but I didn\\'t know enough math to do anything interesting of that type. So I\\'m not surprised I can\\'t remember any programs I wrote, because they can\\'t have done much. My clearest memory is of the moment I learned it was possible for programs not to terminate, when one of mine didn\\'t. On a machine without time-sharing, this was a social as well as a technical error, as the data center manager\\'s expression made clear.\\n\\nWith microcomputers, everything changed. Now you could have a computer sitting right in front of you, on a desk, that could respond to your keystrokes as it was running instead of just churning through a stack of punch cards and then stopping. [1]\\n\\nThe first of my friends to get a microcomputer built it himself. It was sold as a kit by Heathkit. I remember vividly how impressed and envious I felt watching him sitting in front of it, typing programs right into the computer.\\n\\nComputers were expensive in those days and it took me years of nagging before I convinced my father to buy one, a TRS-80, in about 1980. The gold standard then was the Apple II, but a TRS-80 was good enough. This was when I really started programming. I wrote simple games, a program to predict how high my model rockets would fly, and a word processor that my father used to write at least one book. There was only room in memory for about 2 pages of text, so he\\'d write 2 pages at a time and then print them out, but it was a lot better than a typewriter.\\n\\nThough I liked programming, I didn\\'t plan to study it in college. In college I was going to study philosophy, which sounded much more powerful. It seemed, to my naive high school self, to be the study of the ultimate truths, compared to which the things studied in other fields would be mere domain knowledge. What I discovered when I got to college was that the other fields took up so much of the space of ideas that there wasn\\'t much left for these supposed ultimate truths. All that seemed left for philosophy were edge cases that people in other fields felt could safely be ignored.\\n\\nI couldn\\'t have put this into words when I was 18. All I knew at the time was that I kept taking philosophy courses and they kept being boring. So I decided to switch to AI.\\n\\nAI was in the air in the mid 1980s, but there were two things especially that made me want to work on it: a novel by Heinlein called The Moon is a Harsh Mistress, which featured an intelligent computer called Mike, and a PBS documentary that showed Terry Winograd using SHRDLU. I haven\\'t tried rereading The Moon is a Harsh Mistress, so I don\\'t know how well it has aged, but when I read it I was drawn entirely into its world. It seemed only a matter of time before we\\'d have Mike, and when I saw Winograd using SHRDLU, it seemed like that time would be a few years at most. All you had to do was teach SHRDLU more words.\\n\\nThere weren\\'t any classes in AI at Cornell then, not even graduate classes, so I started trying to teach myself. Which meant learning Lisp, since in those days Lisp was regarded as the language of AI. The commonly used programming languages then were pretty primitive, and programmers\\' ideas correspondingly so. The default language at Cornell was a Pascal-like language called PL/I, and the situation was similar elsewhere. Learning Lisp expanded my concept of a program so fast that it was years before I started to have a sense of where the new limits were. This was more like it; this was what I had expected college to do. It wasn\\'t happening in a class, like it was supposed to, but that was ok. For the next couple years I was on a roll. I knew what I was going to do.\\n\\nFor my undergraduate thesis, I reverse-engineered SHRDLU. My God did I love working on that program. It was a pleasing bit of code, but what made it even more exciting was my belief — hard to imagine now, but not unique in 1985 — that it was already climbing the lower slopes of intelligence.\\n\\nI had gotten into a program at Cornell that didn\\'t make you choose a major. You could take whatever classes you liked, and choose whatever you liked to put on your degree. I of course chose \"Artificial Intelligence.\" When I got the actual physical diploma, I was dismayed to find that the quotes had been included, which made them read as scare-quotes. At the time this bothered me, but now it seems amusingly accurate, for reasons I was about to discover.\\n\\nI applied to 3 grad schools: MIT and Yale, which were renowned for AI at the time, and Harvard, which I\\'d visited because Rich Draves went there, and was also home to Bill Woods, who\\'d invented the type of parser I used in my SHRDLU clone. Only Harvard accepted me, so that was where I went.\\n\\nI don\\'t remember the moment it happened, or if there even was a specific moment, but during the first year of grad school I realized that AI, as practiced at the time, was a hoax. By which I mean the sort of AI in which a program that\\'s told \"the dog is sitting on the chair\" translates this into some formal representation and adds it to the list of things it knows.\\n\\nWhat these programs really showed was that there\\'s a subset of natural language that\\'s a formal language. But a very proper subset. It was clear that there was an unbridgeable gap between what they could do and actually understanding natural language. It was not, in fact, simply a matter of teaching SHRDLU more words. That whole way of doing AI, with explicit data structures representing concepts, was not going to work. Its brokenness did, as so often happens, generate a lot of opportunities to write papers about various band-aids that could be applied to it, but it was never going to get us Mike.\\n\\nSo I looked around to see what I could salvage from the wreckage of my plans, and there was Lisp. I knew from experience that Lisp was interesting for its own sake and not just for its association with AI, even though that was the main reason people cared about it at the time. So I decided to focus on Lisp. In fact, I decided to write a book about Lisp hacking. It\\'s scary to think how little I knew about Lisp hacking when I started writing that book. But there\\'s nothing like writing a book about something to help you learn it. The book, On Lisp, wasn\\'t published till 1993, but I wrote much of it in grad school.\\n\\nComputer Science is an uneasy alliance between two halves, theory and systems. The theory people prove things, and the systems people build things. I wanted to build things. I had plenty of respect for theory — indeed, a sneaking suspicion that it was the more admirable of the two halves — but building things seemed so much more exciting.\\n\\nThe problem with systems work, though, was that it didn\\'t last. Any program you wrote today, no matter how good, would be obsolete in a couple decades at best. People might mention your software in footnotes, but no one would actually use it. And indeed, it would seem very feeble work. Only people with a sense of the history of the field would even realize that, in its time, it had been good.\\n\\nThere were some surplus Xerox Dandelions floating around the computer lab at one point. Anyone who wanted one to play around with could have one. I was briefly tempted, but they were so slow by present standards; what was the point? No one else wanted one either, so off they went. That was what happened to systems work.\\n\\nI wanted not just to build things, but to build things that would last.\\n\\nIn this dissatisfied state I went in 1988 to visit Rich Draves at CMU, where he was in grad school. One day I went to visit the Carnegie Institute, where I\\'d spent a lot of time as a kid. While looking at a painting there I realized something that might seem obvious, but was a big surprise to me. There, right on the wall, was something you could make that would last. Paintings didn\\'t become obsolete. Some of the best ones were hundreds of years old.\\n\\nAnd moreover this was something you could make a living doing. Not as easily as you could by writing software, of course, but I thought if you were really industrious and lived really cheaply, it had to be possible to make enough to survive. And as an artist you could be truly independent. You wouldn\\'t have a boss, or even need to get research funding.\\n\\nI had always liked looking at paintings. Could I make them? I had no idea. I\\'d never imagined it was even possible. I knew intellectually that people made art — that it didn\\'t just appear spontaneously — but it was as if the people who made it were a different species. They either lived long ago or were mysterious geniuses doing strange things in profiles in Life magazine. The idea of actually being able to make art, to put that verb before that noun, seemed almost miraculous.\\n\\nThat fall I started taking art classes at Harvard. Grad students could take classes in any department, and my advisor, Tom Cheatham, was very easy going. If he even knew about the strange classes I was taking, he never said anything.\\n\\nSo now I was in a PhD program in computer science, yet planning to be an artist, yet also genuinely in love with Lisp hacking and working away at On Lisp. In other words, like many a grad student, I was working energetically on multiple projects that were not my thesis.\\n\\nI didn\\'t see a way out of this situation. I didn\\'t want to drop out of grad school, but how else was I going to get out? I remember when my friend Robert Morris got kicked out of Cornell for writing the internet worm of 1988, I was envious that he\\'d found such a spectacular way to get out of grad school.\\n\\nThen one day in April 1990 a crack appeared in the wall. I ran into professor Cheatham and he asked if I was far enough along to graduate that June. I didn\\'t have a word of my dissertation written, but in what must have been the quickest bit of thinking in my life, I decided to take a shot at writing one in the 5 weeks or so that remained before the deadline, reusing parts of On Lisp where I could, and I was able to respond, with no perceptible delay \"Yes, I think so. I\\'ll give you something to read in a few days.\"\\n\\nI picked applications of continuations as the topic. In retrospect I should have written about macros and embedded languages. There\\'s a whole world there that\\'s barely been explored. But all I wanted was to get out of grad school, and my rapidly written dissertation sufficed, just barely.\\n\\nMeanwhile I was applying to art schools. I applied to two: RISD in the US, and the Accademia di Belli Arti in Florence, which, because it was the oldest art school, I imagined would be good. RISD accepted me, and I never heard back from the Accademia, so off to Providence I went.\\n\\nI\\'d applied for the BFA program at RISD, which meant in effect that I had to go to college again. This was not as strange as it sounds, because I was only 25, and art schools are full of people of different ages. RISD counted me as a transfer sophomore and said I had to do the foundation that summer. The foundation means the classes that everyone has to take in fundamental subjects like drawing, color, and design.\\n\\nToward the end of the summer I got a big surprise: a letter from the Accademia, which had been delayed because they\\'d sent it to Cambridge England instead of Cambridge Massachusetts, inviting me to take the entrance exam in Florence that fall. This was now only weeks away. My nice landlady let me leave my stuff in her attic. I had some money saved from consulting work I\\'d done in grad school; there was probably enough to last a year if I lived cheaply. Now all I had to do was learn Italian.\\n\\nOnly stranieri (foreigners) had to take this entrance exam. In retrospect it may well have been a way of excluding them, because there were so many stranieri attracted by the idea of studying art in Florence that the Italian students would otherwise have been outnumbered. I was in decent shape at painting and drawing from the RISD foundation that summer, but I still don\\'t know how I managed to pass the written exam. I remember that I answered the essay question by writing about Cezanne, and that I cranked up the intellectual level as high as I could to make the most of my limited vocabulary. [2]\\n\\nI\\'m only up to age 25 and already there are such conspicuous patterns. Here I was, yet again about to attend some august institution in the hopes of learning about some prestigious subject, and yet again about to be disappointed. The students and faculty in the painting department at the Accademia were the nicest people you could imagine, but they had long since arrived at an arrangement whereby the students wouldn\\'t require the faculty to teach anything, and in return the faculty wouldn\\'t require the students to learn anything. And at the same time all involved would adhere outwardly to the conventions of a 19th century atelier. We actually had one of those little stoves, fed with kindling, that you see in 19th century studio paintings, and a nude model sitting as close to it as possible without getting burned. Except hardly anyone else painted her besides me. The rest of the students spent their time chatting or occasionally trying to imitate things they\\'d seen in American art magazines.\\n\\nOur model turned out to live just down the street from me. She made a living from a combination of modelling and making fakes for a local antique dealer. She\\'d copy an obscure old painting out of a book, and then he\\'d take the copy and maltreat it to make it look old. [3]\\n\\nWhile I was a student at the Accademia I started painting still lives in my bedroom at night. These paintings were tiny, because the room was, and because I painted them on leftover scraps of canvas, which was all I could afford at the time. Painting still lives is different from painting people, because the subject, as its name suggests, can\\'t move. People can\\'t sit for more than about 15 minutes at a time, and when they do they don\\'t sit very still. So the traditional m.o. for painting people is to know how to paint a generic person, which you then modify to match the specific person you\\'re painting. Whereas a still life you can, if you want, copy pixel by pixel from what you\\'re seeing. You don\\'t want to stop there, of course, or you get merely photographic accuracy, and what makes a still life interesting is that it\\'s been through a head. You want to emphasize the visual cues that tell you, for example, that the reason the color changes suddenly at a certain point is that it\\'s the edge of an object. By subtly emphasizing such things you can make paintings that are more realistic than photographs not just in some metaphorical sense, but in the strict information-theoretic sense. [4]\\n\\nI liked painting still lives because I was curious about what I was seeing. In everyday life, we aren\\'t consciously aware of much we\\'re seeing. Most visual perception is handled by low-level processes that merely tell your brain \"that\\'s a water droplet\" without telling you details like where the lightest and darkest points are, or \"that\\'s a bush\" without telling you the shape and position of every leaf. This is a feature of brains, not a bug. In everyday life it would be distracting to notice every leaf on every bush. But when you have to paint something, you have to look more closely, and when you do there\\'s a lot to see. You can still be noticing new things after days of trying to paint something people usually take for granted, just as you can after days of trying to write an essay about something people usually take for granted.\\n\\nThis is not the only way to paint. I\\'m not 100% sure it\\'s even a good way to paint. But it seemed a good enough bet to be worth trying.\\n\\nOur teacher, professor Ulivi, was a nice guy. He could see I worked hard, and gave me a good grade, which he wrote down in a sort of passport each student had. But the Accademia wasn\\'t teaching me anything except Italian, and my money was running out, so at the end of the first year I went back to the US.\\n\\nI wanted to go back to RISD, but I was now broke and RISD was very expensive, so I decided to get a job for a year and then return to RISD the next fall. I got one at a company called Interleaf, which made software for creating documents. You mean like Microsoft Word? Exactly. That was how I learned that low end software tends to eat high end software. But Interleaf still had a few years to live yet. [5]\\n\\nInterleaf had done something pretty bold. Inspired by Emacs, they\\'d added a scripting language, and even made the scripting language a dialect of Lisp. Now they wanted a Lisp hacker to write things in it. This was the closest thing I\\'ve had to a normal job, and I hereby apologize to my boss and coworkers, because I was a bad employee. Their Lisp was the thinnest icing on a giant C cake, and since I didn\\'t know C and didn\\'t want to learn it, I never understood most of the software. Plus I was terribly irresponsible. This was back when a programming job meant showing up every day during certain working hours. That seemed unnatural to me, and on this point the rest of the world is coming around to my way of thinking, but at the time it caused a lot of friction. Toward the end of the year I spent much of my time surreptitiously working on On Lisp, which I had by this time gotten a contract to publish.\\n\\nThe good part was that I got paid huge amounts of money, especially by art student standards. In Florence, after paying my part of the rent, my budget for everything else had been $7 a day. Now I was getting paid more than 4 times that every hour, even when I was just sitting in a meeting. By living cheaply I not only managed to save enough to go back to RISD, but also paid off my college loans.\\n\\nI learned some useful things at Interleaf, though they were mostly about what not to do. I learned that it\\'s better for technology companies to be run by product people than sales people (though sales is a real skill and people who are good at it are really good at it), that it leads to bugs when code is edited by too many people, that cheap office space is no bargain if it\\'s depressing, that planned meetings are inferior to corridor conversations, that big, bureaucratic customers are a dangerous source of money, and that there\\'s not much overlap between conventional office hours and the optimal time for hacking, or conventional offices and the optimal place for it.\\n\\nBut the most important thing I learned, and which I used in both Viaweb and Y Combinator, is that the low end eats the high end: that it\\'s good to be the \"entry level\" option, even though that will be less prestigious, because if you\\'re not, someone else will be, and will squash you against the ceiling. Which in turn means that prestige is a danger sign.\\n\\nWhen I left to go back to RISD the next fall, I arranged to do freelance work for the group that did projects for customers, and this was how I survived for the next several years. When I came back to visit for a project later on, someone told me about a new thing called HTML, which was, as he described it, a derivative of SGML. Markup language enthusiasts were an occupational hazard at Interleaf and I ignored him, but this HTML thing later became a big part of my life.\\n\\nIn the fall of 1992 I moved back to Providence to continue at RISD. The foundation had merely been intro stuff, and the Accademia had been a (very civilized) joke. Now I was going to see what real art school was like. But alas it was more like the Accademia than not. Better organized, certainly, and a lot more expensive, but it was now becoming clear that art school did not bear the same relationship to art that medical school bore to medicine. At least not the painting department. The textile department, which my next door neighbor belonged to, seemed to be pretty rigorous. No doubt illustration and architecture were too. But painting was post-rigorous. Painting students were supposed to express themselves, which to the more worldly ones meant to try to cook up some sort of distinctive signature style.\\n\\nA signature style is the visual equivalent of what in show business is known as a \"schtick\": something that immediately identifies the work as yours and no one else\\'s. For example, when you see a painting that looks like a certain kind of cartoon, you know it\\'s by Roy Lichtenstein. So if you see a big painting of this type hanging in the apartment of a hedge fund manager, you know he paid millions of dollars for it. That\\'s not always why artists have a signature style, but it\\'s usually why buyers pay a lot for such work. [6]\\n\\nThere were plenty of earnest students too: kids who \"could draw\" in high school, and now had come to what was supposed to be the best art school in the country, to learn to draw even better. They tended to be confused and demoralized by what they found at RISD, but they kept going, because painting was what they did. I was not one of the kids who could draw in high school, but at RISD I was definitely closer to their tribe than the tribe of signature style seekers.\\n\\nI learned a lot in the color class I took at RISD, but otherwise I was basically teaching myself to paint, and I could do that for free. So in 1993 I dropped out. I hung around Providence for a bit, and then my college friend Nancy Parmet did me a big favor. A rent-controlled apartment in a building her mother owned in New York was becoming vacant. Did I want it? It wasn\\'t much more than my current place, and New York was supposed to be where the artists were. So yes, I wanted it! [7]\\n\\nAsterix comics begin by zooming in on a tiny corner of Roman Gaul that turns out not to be controlled by the Romans. You can do something similar on a map of New York City: if you zoom in on the Upper East Side, there\\'s a tiny corner that\\'s not rich, or at least wasn\\'t in 1993. It\\'s called Yorkville, and that was my new home. Now I was a New York artist — in the strictly technical sense of making paintings and living in New York.\\n\\nI was nervous about money, because I could sense that Interleaf was on the way down. Freelance Lisp hacking work was very rare, and I didn\\'t want to have to program in another language, which in those days would have meant C++ if I was lucky. So with my unerring nose for financial opportunity, I decided to write another book on Lisp. This would be a popular book, the sort of book that could be used as a textbook. I imagined myself living frugally off the royalties and spending all my time painting. (The painting on the cover of this book, ANSI Common Lisp, is one that I painted around this time.)\\n\\nThe best thing about New York for me was the presence of Idelle and Julian Weber. Idelle Weber was a painter, one of the early photorealists, and I\\'d taken her painting class at Harvard. I\\'ve never known a teacher more beloved by her students. Large numbers of former students kept in touch with her, including me. After I moved to New York I became her de facto studio assistant.\\n\\nShe liked to paint on big, square canvases, 4 to 5 feet on a side. One day in late 1994 as I was stretching one of these monsters there was something on the radio about a famous fund manager. He wasn\\'t that much older than me, and was super rich. The thought suddenly occurred to me: why don\\'t I become rich? Then I\\'ll be able to work on whatever I want.\\n\\nMeanwhile I\\'d been hearing more and more about this new thing called the World Wide Web. Robert Morris showed it to me when I visited him in Cambridge, where he was now in grad school at Harvard. It seemed to me that the web would be a big deal. I\\'d seen what graphical user interfaces had done for the popularity of microcomputers. It seemed like the web would do the same for the internet.\\n\\nIf I wanted to get rich, here was the next train leaving the station. I was right about that part. What I got wrong was the idea. I decided we should start a company to put art galleries online. I can\\'t honestly say, after reading so many Y Combinator applications, that this was the worst startup idea ever, but it was up there. Art galleries didn\\'t want to be online, and still don\\'t, not the fancy ones. That\\'s not how they sell. I wrote some software to generate web sites for galleries, and Robert wrote some to resize images and set up an http server to serve the pages. Then we tried to sign up galleries. To call this a difficult sale would be an understatement. It was difficult to give away. A few galleries let us make sites for them for free, but none paid us.\\n\\nThen some online stores started to appear, and I realized that except for the order buttons they were identical to the sites we\\'d been generating for galleries. This impressive-sounding thing called an \"internet storefront\" was something we already knew how to build.\\n\\nSo in the summer of 1995, after I submitted the camera-ready copy of ANSI Common Lisp to the publishers, we started trying to write software to build online stores. At first this was going to be normal desktop software, which in those days meant Windows software. That was an alarming prospect, because neither of us knew how to write Windows software or wanted to learn. We lived in the Unix world. But we decided we\\'d at least try writing a prototype store builder on Unix. Robert wrote a shopping cart, and I wrote a new site generator for stores — in Lisp, of course.\\n\\nWe were working out of Robert\\'s apartment in Cambridge. His roommate was away for big chunks of time, during which I got to sleep in his room. For some reason there was no bed frame or sheets, just a mattress on the floor. One morning as I was lying on this mattress I had an idea that made me sit up like a capital L. What if we ran the software on the server, and let users control it by clicking on links? Then we\\'d never have to write anything to run on users\\' computers. We could generate the sites on the same server we\\'d serve them from. Users wouldn\\'t need anything more than a browser.\\n\\nThis kind of software, known as a web app, is common now, but at the time it wasn\\'t clear that it was even possible. To find out, we decided to try making a version of our store builder that you could control through the browser. A couple days later, on August 12, we had one that worked. The UI was horrible, but it proved you could build a whole store through the browser, without any client software or typing anything into the command line on the server.\\n\\nNow we felt like we were really onto something. I had visions of a whole new generation of software working this way. You wouldn\\'t need versions, or ports, or any of that crap. At Interleaf there had been a whole group called Release Engineering that seemed to be at least as big as the group that actually wrote the software. Now you could just update the software right on the server.\\n\\nWe started a new company we called Viaweb, after the fact that our software worked via the web, and we got $10,000 in seed funding from Idelle\\'s husband Julian. In return for that and doing the initial legal work and giving us business advice, we gave him 10% of the company. Ten years later this deal became the model for Y Combinator\\'s. We knew founders needed something like this, because we\\'d needed it ourselves.\\n\\nAt this stage I had a negative net worth, because the thousand dollars or so I had in the bank was more than counterbalanced by what I owed the government in taxes. (Had I diligently set aside the proper proportion of the money I\\'d made consulting for Interleaf? No, I had not.) So although Robert had his graduate student stipend, I needed that seed funding to live on.\\n\\nWe originally hoped to launch in September, but we got more ambitious about the software as we worked on it. Eventually we managed to build a WYSIWYG site builder, in the sense that as you were creating pages, they looked exactly like the static ones that would be generated later, except that instead of leading to static pages, the links all referred to closures stored in a hash table on the server.\\n\\nIt helped to have studied art, because the main goal of an online store builder is to make users look legit, and the key to looking legit is high production values. If you get page layouts and fonts and colors right, you can make a guy running a store out of his bedroom look more legit than a big company.\\n\\n(If you\\'re curious why my site looks so old-fashioned, it\\'s because it\\'s still made with this software. It may look clunky today, but in 1996 it was the last word in slick.)\\n\\nIn September, Robert rebelled. \"We\\'ve been working on this for a month,\" he said, \"and it\\'s still not done.\" This is funny in retrospect, because he would still be working on it almost 3 years later. But I decided it might be prudent to recruit more programmers, and I asked Robert who else in grad school with him was really good. He recommended Trevor Blackwell, which surprised me at first, because at that point I knew Trevor mainly for his plan to reduce everything in his life to a stack of notecards, which he carried around with him. But Rtm was right, as usual. Trevor turned out to be a frighteningly effective hacker.\\n\\nIt was a lot of fun working with Robert and Trevor. They\\'re the two most independent-minded people I know, and in completely different ways. If you could see inside Rtm\\'s brain it would look like a colonial New England church, and if you could see inside Trevor\\'s it would look like the worst excesses of Austrian Rococo.\\n\\nWe opened for business, with 6 stores, in January 1996. It was just as well we waited a few months, because although we worried we were late, we were actually almost fatally early. There was a lot of talk in the press then about ecommerce, but not many people actually wanted online stores. [8]\\n\\nThere were three main parts to the software: the editor, which people used to build sites and which I wrote, the shopping cart, which Robert wrote, and the manager, which kept track of orders and statistics, and which Trevor wrote. In its time, the editor was one of the best general-purpose site builders. I kept the code tight and didn\\'t have to integrate with any other software except Robert\\'s and Trevor\\'s, so it was quite fun to work on. If all I\\'d had to do was work on this software, the next 3 years would have been the easiest of my life. Unfortunately I had to do a lot more, all of it stuff I was worse at than programming, and the next 3 years were instead the most stressful.\\n\\nThere were a lot of startups making ecommerce software in the second half of the 90s. We were determined to be the Microsoft Word, not the Interleaf. Which meant being easy to use and inexpensive. It was lucky for us that we were poor, because that caused us to make Viaweb even more inexpensive than we realized. We charged $100 a month for a small store and $300 a month for a big one. This low price was a big attraction, and a constant thorn in the sides of competitors, but it wasn\\'t because of some clever insight that we set the price low. We had no idea what businesses paid for things. $300 a month seemed like a lot of money to us.\\n\\nWe did a lot of things right by accident like that. For example, we did what\\'s now called \"doing things that don\\'t scale,\" although at the time we would have described it as \"being so lame that we\\'re driven to the most desperate measures to get users.\" The most common of which was building stores for them. This seemed particularly humiliating, since the whole raison d\\'etre of our software was that people could use it to make their own stores. But anything to get users.\\n\\nWe learned a lot more about retail than we wanted to know. For example, that if you could only have a small image of a man\\'s shirt (and all images were small then by present standards), it was better to have a closeup of the collar than a picture of the whole shirt. The reason I remember learning this was that it meant I had to rescan about 30 images of men\\'s shirts. My first set of scans were so beautiful too.\\n\\nThough this felt wrong, it was exactly the right thing to be doing. Building stores for users taught us about retail, and about how it felt to use our software. I was initially both mystified and repelled by \"business\" and thought we needed a \"business person\" to be in charge of it, but once we started to get users, I was converted, in much the same way I was converted to fatherhood once I had kids. Whatever users wanted, I was all theirs. Maybe one day we\\'d have so many users that I couldn\\'t scan their images for them, but in the meantime there was nothing more important to do.\\n\\nAnother thing I didn\\'t get at the time is that growth rate is the ultimate test of a startup. Our growth rate was fine. We had about 70 stores at the end of 1996 and about 500 at the end of 1997. I mistakenly thought the thing that mattered was the absolute number of users. And that is the thing that matters in the sense that that\\'s how much money you\\'re making, and if you\\'re not making enough, you might go out of business. But in the long term the growth rate takes care of the absolute number. If we\\'d been a startup I was advising at Y Combinator, I would have said: Stop being so stressed out, because you\\'re doing fine. You\\'re growing 7x a year. Just don\\'t hire too many more people and you\\'ll soon be profitable, and then you\\'ll control your own destiny.\\n\\nAlas I hired lots more people, partly because our investors wanted me to, and partly because that\\'s what startups did during the Internet Bubble. A company with just a handful of employees would have seemed amateurish. So we didn\\'t reach breakeven until about when Yahoo bought us in the summer of 1998. Which in turn meant we were at the mercy of investors for the entire life of the company. And since both we and our investors were noobs at startups, the result was a mess even by startup standards.\\n\\nIt was a huge relief when Yahoo bought us. In principle our Viaweb stock was valuable. It was a share in a business that was profitable and growing rapidly. But it didn\\'t feel very valuable to me; I had no idea how to value a business, but I was all too keenly aware of the near-death experiences we seemed to have every few months. Nor had I changed my grad student lifestyle significantly since we started. So when Yahoo bought us it felt like going from rags to riches. Since we were going to California, I bought a car, a yellow 1998 VW GTI. I remember thinking that its leather seats alone were by far the most luxurious thing I owned.\\n\\nThe next year, from the summer of 1998 to the summer of 1999, must have been the least productive of my life. I didn\\'t realize it at the time, but I was worn out from the effort and stress of running Viaweb. For a while after I got to California I tried to continue my usual m.o. of programming till 3 in the morning, but fatigue combined with Yahoo\\'s prematurely aged culture and grim cube farm in Santa Clara gradually dragged me down. After a few months it felt disconcertingly like working at Interleaf.\\n\\nYahoo had given us a lot of options when they bought us. At the time I thought Yahoo was so overvalued that they\\'d never be worth anything, but to my astonishment the stock went up 5x in the next year. I hung on till the first chunk of options vested, then in the summer of 1999 I left. It had been so long since I\\'d painted anything that I\\'d half forgotten why I was doing this. My brain had been entirely full of software and men\\'s shirts for 4 years. But I had done this to get rich so I could paint, I reminded myself, and now I was rich, so I should go paint.\\n\\nWhen I said I was leaving, my boss at Yahoo had a long conversation with me about my plans. I told him all about the kinds of pictures I wanted to paint. At the time I was touched that he took such an interest in me. Now I realize it was because he thought I was lying. My options at that point were worth about $2 million a month. If I was leaving that kind of money on the table, it could only be to go and start some new startup, and if I did, I might take people with me. This was the height of the Internet Bubble, and Yahoo was ground zero of it. My boss was at that moment a billionaire. Leaving then to start a new startup must have seemed to him an insanely, and yet also plausibly, ambitious plan.\\n\\nBut I really was quitting to paint, and I started immediately. There was no time to lose. I\\'d already burned 4 years getting rich. Now when I talk to founders who are leaving after selling their companies, my advice is always the same: take a vacation. That\\'s what I should have done, just gone off somewhere and done nothing for a month or two, but the idea never occurred to me.\\n\\nSo I tried to paint, but I just didn\\'t seem to have any energy or ambition. Part of the problem was that I didn\\'t know many people in California. I\\'d compounded this problem by buying a house up in the Santa Cruz Mountains, with a beautiful view but miles from anywhere. I stuck it out for a few more months, then in desperation I went back to New York, where unless you understand about rent control you\\'ll be surprised to hear I still had my apartment, sealed up like a tomb of my old life. Idelle was in New York at least, and there were other people trying to paint there, even though I didn\\'t know any of them.\\n\\nWhen I got back to New York I resumed my old life, except now I was rich. It was as weird as it sounds. I resumed all my old patterns, except now there were doors where there hadn\\'t been. Now when I was tired of walking, all I had to do was raise my hand, and (unless it was raining) a taxi would stop to pick me up. Now when I walked past charming little restaurants I could go in and order lunch. It was exciting for a while. Painting started to go better. I experimented with a new kind of still life where I\\'d paint one painting in the old way, then photograph it and print it, blown up, on canvas, and then use that as the underpainting for a second still life, painted from the same objects (which hopefully hadn\\'t rotted yet).\\n\\nMeanwhile I looked for an apartment to buy. Now I could actually choose what neighborhood to live in. Where, I asked myself and various real estate agents, is the Cambridge of New York? Aided by occasional visits to actual Cambridge, I gradually realized there wasn\\'t one. Huh.\\n\\nAround this time, in the spring of 2000, I had an idea. It was clear from our experience with Viaweb that web apps were the future. Why not build a web app for making web apps? Why not let people edit code on our server through the browser, and then host the resulting applications for them? [9] You could run all sorts of services on the servers that these applications could use just by making an API call: making and receiving phone calls, manipulating images, taking credit card payments, etc.\\n\\nI got so excited about this idea that I couldn\\'t think about anything else. It seemed obvious that this was the future. I didn\\'t particularly want to start another company, but it was clear that this idea would have to be embodied as one, so I decided to move to Cambridge and start it. I hoped to lure Robert into working on it with me, but there I ran into a hitch. Robert was now a postdoc at MIT, and though he\\'d made a lot of money the last time I\\'d lured him into working on one of my schemes, it had also been a huge time sink. So while he agreed that it sounded like a plausible idea, he firmly refused to work on it.\\n\\nHmph. Well, I\\'d do it myself then. I recruited Dan Giffin, who had worked for Viaweb, and two undergrads who wanted summer jobs, and we got to work trying to build what it\\'s now clear is about twenty companies and several open source projects worth of software. The language for defining applications would of course be a dialect of Lisp. But I wasn\\'t so naive as to assume I could spring an overt Lisp on a general audience; we\\'d hide the parentheses, like Dylan did.\\n\\nBy then there was a name for the kind of company Viaweb was, an \"application service provider,\" or ASP. This name didn\\'t last long before it was replaced by \"software as a service,\" but it was current for long enough that I named this new company after it: it was going to be called Aspra.\\n\\nI started working on the application builder, Dan worked on network infrastructure, and the two undergrads worked on the first two services (images and phone calls). But about halfway through the summer I realized I really didn\\'t want to run a company — especially not a big one, which it was looking like this would have to be. I\\'d only started Viaweb because I needed the money. Now that I didn\\'t need money anymore, why was I doing this? If this vision had to be realized as a company, then screw the vision. I\\'d build a subset that could be done as an open source project.\\n\\nMuch to my surprise, the time I spent working on this stuff was not wasted after all. After we started Y Combinator, I would often encounter startups working on parts of this new architecture, and it was very useful to have spent so much time thinking about it and even trying to write some of it.\\n\\nThe subset I would build as an open source project was the new Lisp, whose parentheses I now wouldn\\'t even have to hide. A lot of Lisp hackers dream of building a new Lisp, partly because one of the distinctive features of the language is that it has dialects, and partly, I think, because we have in our minds a Platonic form of Lisp that all existing dialects fall short of. I certainly did. So at the end of the summer Dan and I switched to working on this new dialect of Lisp, which I called Arc, in a house I bought in Cambridge.\\n\\nThe following spring, lightning struck. I was invited to give a talk at a Lisp conference, so I gave one about how we\\'d used Lisp at Viaweb. Afterward I put a postscript file of this talk online, on paulgraham.com, which I\\'d created years before using Viaweb but had never used for anything. In one day it got 30,000 page views. What on earth had happened? The referring urls showed that someone had posted it on Slashdot. [10]\\n\\nWow, I thought, there\\'s an audience. If I write something and put it on the web, anyone can read it. That may seem obvious now, but it was surprising then. In the print era there was a narrow channel to readers, guarded by fierce monsters known as editors. The only way to get an audience for anything you wrote was to get it published as a book, or in a newspaper or magazine. Now anyone could publish anything.\\n\\nThis had been possible in principle since 1993, but not many people had realized it yet. I had been intimately involved with building the infrastructure of the web for most of that time, and a writer as well, and it had taken me 8 years to realize it. Even then it took me several years to understand the implications. It meant there would be a whole new generation of essays. [11]\\n\\nIn the print era, the channel for publishing essays had been vanishingly small. Except for a few officially anointed thinkers who went to the right parties in New York, the only people allowed to publish essays were specialists writing about their specialties. There were so many essays that had never been written, because there had been no way to publish them. Now they could be, and I was going to write them. [12]\\n\\nI\\'ve worked on several different things, but to the extent there was a turning point where I figured out what to work on, it was when I started publishing essays online. From then on I knew that whatever else I did, I\\'d always write essays too.\\n\\nI knew that online essays would be a marginal medium at first. Socially they\\'d seem more like rants posted by nutjobs on their GeoCities sites than the genteel and beautifully typeset compositions published in The New Yorker. But by this point I knew enough to find that encouraging instead of discouraging.\\n\\nOne of the most conspicuous patterns I\\'ve noticed in my life is how well it has worked, for me at least, to work on things that weren\\'t prestigious. Still life has always been the least prestigious form of painting. Viaweb and Y Combinator both seemed lame when we started them. I still get the glassy eye from strangers when they ask what I\\'m writing, and I explain that it\\'s an essay I\\'m going to publish on my web site. Even Lisp, though prestigious intellectually in something like the way Latin is, also seems about as hip.\\n\\nIt\\'s not that unprestigious types of work are good per se. But when you find yourself drawn to some kind of work despite its current lack of prestige, it\\'s a sign both that there\\'s something real to be discovered there, and that you have the right kind of motives. Impure motives are a big danger for the ambitious. If anything is going to lead you astray, it will be the desire to impress people. So while working on things that aren\\'t prestigious doesn\\'t guarantee you\\'re on the right track, it at least guarantees you\\'re not on the most common type of wrong one.\\n\\nOver the next several years I wrote lots of essays about all kinds of different topics. O\\'Reilly reprinted a collection of them as a book, called Hackers & Painters after one of the essays in it. I also worked on spam filters, and did some more painting. I used to have dinners for a group of friends every thursday night, which taught me how to cook for groups. And I bought another building in Cambridge, a former candy factory (and later, twas said, porn studio), to use as an office.\\n\\nOne night in October 2003 there was a big party at my house. It was a clever idea of my friend Maria Daniels, who was one of the thursday diners. Three separate hosts would all invite their friends to one party. So for every guest, two thirds of the other guests would be people they didn\\'t know but would probably like. One of the guests was someone I didn\\'t know but would turn out to like a lot: a woman called Jessica Livingston. A couple days later I asked her out.\\n\\nJessica was in charge of marketing at a Boston investment bank. This bank thought it understood startups, but over the next year, as she met friends of mine from the startup world, she was surprised how different reality was. And how colorful their stories were. So she decided to compile a book of interviews with startup founders.\\n\\nWhen the bank had financial problems and she had to fire half her staff, she started looking for a new job. In early 2005 she interviewed for a marketing job at a Boston VC firm. It took them weeks to make up their minds, and during this time I started telling her about all the things that needed to be fixed about venture capital. They should make a larger number of smaller investments instead of a handful of giant ones, they should be funding younger, more technical founders instead of MBAs, they should let the founders remain as CEO, and so on.\\n\\nOne of my tricks for writing essays had always been to give talks. The prospect of having to stand up in front of a group of people and tell them something that won\\'t waste their time is a great spur to the imagination. When the Harvard Computer Society, the undergrad computer club, asked me to give a talk, I decided I would tell them how to start a startup. Maybe they\\'d be able to avoid the worst of the mistakes we\\'d made.\\n\\nSo I gave this talk, in the course of which I told them that the best sources of seed funding were successful startup founders, because then they\\'d be sources of advice too. Whereupon it seemed they were all looking expectantly at me. Horrified at the prospect of having my inbox flooded by business plans (if I\\'d only known), I blurted out \"But not me!\" and went on with the talk. But afterward it occurred to me that I should really stop procrastinating about angel investing. I\\'d been meaning to since Yahoo bought us, and now it was 7 years later and I still hadn\\'t done one angel investment.\\n\\nMeanwhile I had been scheming with Robert and Trevor about projects we could work on together. I missed working with them, and it seemed like there had to be something we could collaborate on.\\n\\nAs Jessica and I were walking home from dinner on March 11, at the corner of Garden and Walker streets, these three threads converged. Screw the VCs who were taking so long to make up their minds. We\\'d start our own investment firm and actually implement the ideas we\\'d been talking about. I\\'d fund it, and Jessica could quit her job and work for it, and we\\'d get Robert and Trevor as partners too. [13]\\n\\nOnce again, ignorance worked in our favor. We had no idea how to be angel investors, and in Boston in 2005 there were no Ron Conways to learn from. So we just made what seemed like the obvious choices, and some of the things we did turned out to be novel.\\n\\nThere are multiple components to Y Combinator, and we didn\\'t figure them all out at once. The part we got first was to be an angel firm. In those days, those two words didn\\'t go together. There were VC firms, which were organized companies with people whose job it was to make investments, but they only did big, million dollar investments. And there were angels, who did smaller investments, but these were individuals who were usually focused on other things and made investments on the side. And neither of them helped founders enough in the beginning. We knew how helpless founders were in some respects, because we remembered how helpless we\\'d been. For example, one thing Julian had done for us that seemed to us like magic was to get us set up as a company. We were fine writing fairly difficult software, but actually getting incorporated, with bylaws and stock and all that stuff, how on earth did you do that? Our plan was not only to make seed investments, but to do for startups everything Julian had done for us.\\n\\nYC was not organized as a fund. It was cheap enough to run that we funded it with our own money. That went right by 99% of readers, but professional investors are thinking \"Wow, that means they got all the returns.\" But once again, this was not due to any particular insight on our part. We didn\\'t know how VC firms were organized. It never occurred to us to try to raise a fund, and if it had, we wouldn\\'t have known where to start. [14]\\n\\nThe most distinctive thing about YC is the batch model: to fund a bunch of startups all at once, twice a year, and then to spend three months focusing intensively on trying to help them. That part we discovered by accident, not merely implicitly but explicitly due to our ignorance about investing. We needed to get experience as investors. What better way, we thought, than to fund a whole bunch of startups at once? We knew undergrads got temporary jobs at tech companies during the summer. Why not organize a summer program where they\\'d start startups instead? We wouldn\\'t feel guilty for being in a sense fake investors, because they would in a similar sense be fake founders. So while we probably wouldn\\'t make much money out of it, we\\'d at least get to practice being investors on them, and they for their part would probably have a more interesting summer than they would working at Microsoft.\\n\\nWe\\'d use the building I owned in Cambridge as our headquarters. We\\'d all have dinner there once a week — on tuesdays, since I was already cooking for the thursday diners on thursdays — and after dinner we\\'d bring in experts on startups to give talks.\\n\\nWe knew undergrads were deciding then about summer jobs, so in a matter of days we cooked up something we called the Summer Founders Program, and I posted an announcement on my site, inviting undergrads to apply. I had never imagined that writing essays would be a way to get \"deal flow,\" as investors call it, but it turned out to be the perfect source. [15] We got 225 applications for the Summer Founders Program, and we were surprised to find that a lot of them were from people who\\'d already graduated, or were about to that spring. Already this SFP thing was starting to feel more serious than we\\'d intended.\\n\\nWe invited about 20 of the 225 groups to interview in person, and from those we picked 8 to fund. They were an impressive group. That first batch included reddit, Justin Kan and Emmett Shear, who went on to found Twitch, Aaron Swartz, who had already helped write the RSS spec and would a few years later become a martyr for open access, and Sam Altman, who would later become the second president of YC. I don\\'t think it was entirely luck that the first batch was so good. You had to be pretty bold to sign up for a weird thing like the Summer Founders Program instead of a summer job at a legit place like Microsoft or Goldman Sachs.\\n\\nThe deal for startups was based on a combination of the deal we did with Julian ($10k for 10%) and what Robert said MIT grad students got for the summer ($6k). We invested $6k per founder, which in the typical two-founder case was $12k, in return for 6%. That had to be fair, because it was twice as good as the deal we ourselves had taken. Plus that first summer, which was really hot, Jessica brought the founders free air conditioners. [16]\\n\\nFairly quickly I realized that we had stumbled upon the way to scale startup funding. Funding startups in batches was more convenient for us, because it meant we could do things for a lot of startups at once, but being part of a batch was better for the startups too. It solved one of the biggest problems faced by founders: the isolation. Now you not only had colleagues, but colleagues who understood the problems you were facing and could tell you how they were solving them.\\n\\nAs YC grew, we started to notice other advantages of scale. The alumni became a tight community, dedicated to helping one another, and especially the current batch, whose shoes they remembered being in. We also noticed that the startups were becoming one another\\'s customers. We used to refer jokingly to the \"YC GDP,\" but as YC grows this becomes less and less of a joke. Now lots of startups get their initial set of customers almost entirely from among their batchmates.\\n\\nI had not originally intended YC to be a full-time job. I was going to do three things: hack, write essays, and work on YC. As YC grew, and I grew more excited about it, it started to take up a lot more than a third of my attention. But for the first few years I was still able to work on other things.\\n\\nIn the summer of 2006, Robert and I started working on a new version of Arc. This one was reasonably fast, because it was compiled into Scheme. To test this new Arc, I wrote Hacker News in it. It was originally meant to be a news aggregator for startup founders and was called Startup News, but after a few months I got tired of reading about nothing but startups. Plus it wasn\\'t startup founders we wanted to reach. It was future startup founders. So I changed the name to Hacker News and the topic to whatever engaged one\\'s intellectual curiosity.\\n\\nHN was no doubt good for YC, but it was also by far the biggest source of stress for me. If all I\\'d had to do was select and help founders, life would have been so easy. And that implies that HN was a mistake. Surely the biggest source of stress in one\\'s work should at least be something close to the core of the work. Whereas I was like someone who was in pain while running a marathon not from the exertion of running, but because I had a blister from an ill-fitting shoe. When I was dealing with some urgent problem during YC, there was about a 60% chance it had to do with HN, and a 40% chance it had do with everything else combined. [17]\\n\\nAs well as HN, I wrote all of YC\\'s internal software in Arc. But while I continued to work a good deal in Arc, I gradually stopped working on Arc, partly because I didn\\'t have time to, and partly because it was a lot less attractive to mess around with the language now that we had all this infrastructure depending on it. So now my three projects were reduced to two: writing essays and working on YC.\\n\\nYC was different from other kinds of work I\\'ve done. Instead of deciding for myself what to work on, the problems came to me. Every 6 months there was a new batch of startups, and their problems, whatever they were, became our problems. It was very engaging work, because their problems were quite varied, and the good founders were very effective. If you were trying to learn the most you could about startups in the shortest possible time, you couldn\\'t have picked a better way to do it.\\n\\nThere were parts of the job I didn\\'t like. Disputes between cofounders, figuring out when people were lying to us, fighting with people who maltreated the startups, and so on. But I worked hard even at the parts I didn\\'t like. I was haunted by something Kevin Hale once said about companies: \"No one works harder than the boss.\" He meant it both descriptively and prescriptively, and it was the second part that scared me. I wanted YC to be good, so if how hard I worked set the upper bound on how hard everyone else worked, I\\'d better work very hard.\\n\\nOne day in 2010, when he was visiting California for interviews, Robert Morris did something astonishing: he offered me unsolicited advice. I can only remember him doing that once before. One day at Viaweb, when I was bent over double from a kidney stone, he suggested that it would be a good idea for him to take me to the hospital. That was what it took for Rtm to offer unsolicited advice. So I remember his exact words very clearly. \"You know,\" he said, \"you should make sure Y Combinator isn\\'t the last cool thing you do.\"\\n\\nAt the time I didn\\'t understand what he meant, but gradually it dawned on me that he was saying I should quit. This seemed strange advice, because YC was doing great. But if there was one thing rarer than Rtm offering advice, it was Rtm being wrong. So this set me thinking. It was true that on my current trajectory, YC would be the last thing I did, because it was only taking up more of my attention. It had already eaten Arc, and was in the process of eating essays too. Either YC was my life\\'s work or I\\'d have to leave eventually. And it wasn\\'t, so I would.\\n\\nIn the summer of 2012 my mother had a stroke, and the cause turned out to be a blood clot caused by colon cancer. The stroke destroyed her balance, and she was put in a nursing home, but she really wanted to get out of it and back to her house, and my sister and I were determined to help her do it. I used to fly up to Oregon to visit her regularly, and I had a lot of time to think on those flights. On one of them I realized I was ready to hand YC over to someone else.\\n\\nI asked Jessica if she wanted to be president, but she didn\\'t, so we decided we\\'d try to recruit Sam Altman. We talked to Robert and Trevor and we agreed to make it a complete changing of the guard. Up till that point YC had been controlled by the original LLC we four had started. But we wanted YC to last for a long time, and to do that it couldn\\'t be controlled by the founders. So if Sam said yes, we\\'d let him reorganize YC. Robert and I would retire, and Jessica and Trevor would become ordinary partners.\\n\\nWhen we asked Sam if he wanted to be president of YC, initially he said no. He wanted to start a startup to make nuclear reactors. But I kept at it, and in October 2013 he finally agreed. We decided he\\'d take over starting with the winter 2014 batch. For the rest of 2013 I left running YC more and more to Sam, partly so he could learn the job, and partly because I was focused on my mother, whose cancer had returned.\\n\\nShe died on January 15, 2014. We knew this was coming, but it was still hard when it did.\\n\\nI kept working on YC till March, to help get that batch of startups through Demo Day, then I checked out pretty completely. (I still talk to alumni and to new startups working on things I\\'m interested in, but that only takes a few hours a week.)\\n\\nWhat should I do next? Rtm\\'s advice hadn\\'t included anything about that. I wanted to do something completely different, so I decided I\\'d paint. I wanted to see how good I could get if I really focused on it. So the day after I stopped working on YC, I started painting. I was rusty and it took a while to get back into shape, but it was at least completely engaging. [18]\\n\\nI spent most of the rest of 2014 painting. I\\'d never been able to work so uninterruptedly before, and I got to be better than I had been. Not good enough, but better. Then in November, right in the middle of a painting, I ran out of steam. Up till that point I\\'d always been curious to see how the painting I was working on would turn out, but suddenly finishing this one seemed like a chore. So I stopped working on it and cleaned my brushes and haven\\'t painted since. So far anyway.\\n\\nI realize that sounds rather wimpy. But attention is a zero sum game. If you can choose what to work on, and you choose a project that\\'s not the best one (or at least a good one) for you, then it\\'s getting in the way of another project that is. And at 50 there was some opportunity cost to screwing around.\\n\\nI started writing essays again, and wrote a bunch of new ones over the next few months. I even wrote a couple that weren\\'t about startups. Then in March 2015 I started working on Lisp again.\\n\\nThe distinctive thing about Lisp is that its core is a language defined by writing an interpreter in itself. It wasn\\'t originally intended as a programming language in the ordinary sense. It was meant to be a formal model of computation, an alternative to the Turing machine. If you want to write an interpreter for a language in itself, what\\'s the minimum set of predefined operators you need? The Lisp that John McCarthy invented, or more accurately discovered, is an answer to that question. [19]\\n\\nMcCarthy didn\\'t realize this Lisp could even be used to program computers till his grad student Steve Russell suggested it. Russell translated McCarthy\\'s interpreter into IBM 704 machine language, and from that point Lisp started also to be a programming language in the ordinary sense. But its origins as a model of computation gave it a power and elegance that other languages couldn\\'t match. It was this that attracted me in college, though I didn\\'t understand why at the time.\\n\\nMcCarthy\\'s 1960 Lisp did nothing more than interpret Lisp expressions. It was missing a lot of things you\\'d want in a programming language. So these had to be added, and when they were, they weren\\'t defined using McCarthy\\'s original axiomatic approach. That wouldn\\'t have been feasible at the time. McCarthy tested his interpreter by hand-simulating the execution of programs. But it was already getting close to the limit of interpreters you could test that way — indeed, there was a bug in it that McCarthy had overlooked. To test a more complicated interpreter, you\\'d have had to run it, and computers then weren\\'t powerful enough.\\n\\nNow they are, though. Now you could continue using McCarthy\\'s axiomatic approach till you\\'d defined a complete programming language. And as long as every change you made to McCarthy\\'s Lisp was a discoveredness-preserving transformation, you could, in principle, end up with a complete language that had this quality. Harder to do than to talk about, of course, but if it was possible in principle, why not try? So I decided to take a shot at it. It took 4 years, from March 26, 2015 to October 12, 2019. It was fortunate that I had a precisely defined goal, or it would have been hard to keep at it for so long.\\n\\nI wrote this new Lisp, called Bel, in itself in Arc. That may sound like a contradiction, but it\\'s an indication of the sort of trickery I had to engage in to make this work. By means of an egregious collection of hacks I managed to make something close enough to an interpreter written in itself that could actually run. Not fast, but fast enough to test.\\n\\nI had to ban myself from writing essays during most of this time, or I\\'d never have finished. In late 2015 I spent 3 months writing essays, and when I went back to working on Bel I could barely understand the code. Not so much because it was badly written as because the problem is so convoluted. When you\\'re working on an interpreter written in itself, it\\'s hard to keep track of what\\'s happening at what level, and errors can be practically encrypted by the time you get them.\\n\\nSo I said no more essays till Bel was done. But I told few people about Bel while I was working on it. So for years it must have seemed that I was doing nothing, when in fact I was working harder than I\\'d ever worked on anything. Occasionally after wrestling for hours with some gruesome bug I\\'d check Twitter or HN and see someone asking \"Does Paul Graham still code?\"\\n\\nWorking on Bel was hard but satisfying. I worked on it so intensively that at any given time I had a decent chunk of the code in my head and could write more there. I remember taking the boys to the coast on a sunny day in 2015 and figuring out how to deal with some problem involving continuations while I watched them play in the tide pools. It felt like I was doing life right. I remember that because I was slightly dismayed at how novel it felt. The good news is that I had more moments like this over the next few years.\\n\\nIn the summer of 2016 we moved to England. We wanted our kids to see what it was like living in another country, and since I was a British citizen by birth, that seemed the obvious choice. We only meant to stay for a year, but we liked it so much that we still live there. So most of Bel was written in England.\\n\\nIn the fall of 2019, Bel was finally finished. Like McCarthy\\'s original Lisp, it\\'s a spec rather than an implementation, although like McCarthy\\'s Lisp it\\'s a spec expressed as code.\\n\\nNow that I could write essays again, I wrote a bunch about topics I\\'d had stacked up. I kept writing essays through 2020, but I also started to think about other things I could work on. How should I choose what to do? Well, how had I chosen what to work on in the past? I wrote an essay for myself to answer that question, and I was surprised how long and messy the answer turned out to be. If this surprised me, who\\'d lived it, then I thought perhaps it would be interesting to other people, and encouraging to those with similarly messy lives. So I wrote a more detailed version for others to read, and this is the last sentence of it.\\n\\n\\n\\n\\n\\n\\n\\n\\n\\nNotes\\n\\n[1] My experience skipped a step in the evolution of computers: time-sharing machines with interactive OSes. I went straight from batch processing to microcomputers, which made microcomputers seem all the more exciting.\\n\\n[2] Italian words for abstract concepts can nearly always be predicted from their English cognates (except for occasional traps like polluzione). It\\'s the everyday words that differ. So if you string together a lot of abstract concepts with a few simple verbs, you can make a little Italian go a long way.\\n\\n[3] I lived at Piazza San Felice 4, so my walk to the Accademia went straight down the spine of old Florence: past the Pitti, across the bridge, past Orsanmichele, between the Duomo and the Baptistery, and then up Via Ricasoli to Piazza San Marco. I saw Florence at street level in every possible condition, from empty dark winter evenings to sweltering summer days when the streets were packed with tourists.\\n\\n[4] You can of course paint people like still lives if you want to, and they\\'re willing. That sort of portrait is arguably the apex of still life painting, though the long sitting does tend to produce pained expressions in the sitters.\\n\\n[5] Interleaf was one of many companies that had smart people and built impressive technology, and yet got crushed by Moore\\'s Law. In the 1990s the exponential growth in the power of commodity (i.e. Intel) processors rolled up high-end, special-purpose hardware and software companies like a bulldozer.\\n\\n[6] The signature style seekers at RISD weren\\'t specifically mercenary. In the art world, money and coolness are tightly coupled. Anything expensive comes to be seen as cool, and anything seen as cool will soon become equally expensive.\\n\\n[7] Technically the apartment wasn\\'t rent-controlled but rent-stabilized, but this is a refinement only New Yorkers would know or care about. The point is that it was really cheap, less than half market price.\\n\\n[8] Most software you can launch as soon as it\\'s done. But when the software is an online store builder and you\\'re hosting the stores, if you don\\'t have any users yet, that fact will be painfully obvious. So before we could launch publicly we had to launch privately, in the sense of recruiting an initial set of users and making sure they had decent-looking stores.\\n\\n[9] We\\'d had a code editor in Viaweb for users to define their own page styles. They didn\\'t know it, but they were editing Lisp expressions underneath. But this wasn\\'t an app editor, because the code ran when the merchants\\' sites were generated, not when shoppers visited them.\\n\\n[10] This was the first instance of what is now a familiar experience, and so was what happened next, when I read the comments and found they were full of angry people. How could I claim that Lisp was better than other languages? Weren\\'t they all Turing complete? People who see the responses to essays I write sometimes tell me how sorry they feel for me, but I\\'m not exaggerating when I reply that it has always been like this, since the very beginning. It comes with the territory. An essay must tell readers things they don\\'t already know, and some people dislike being told such things.\\n\\n[11] People put plenty of stuff on the internet in the 90s of course, but putting something online is not the same as publishing it online. Publishing online means you treat the online version as the (or at least a) primary version.\\n\\n[12] There is a general lesson here that our experience with Y Combinator also teaches: Customs continue to constrain you long after the restrictions that caused them have disappeared. Customary VC practice had once, like the customs about publishing essays, been based on real constraints. Startups had once been much more expensive to start, and proportionally rare. Now they could be cheap and common, but the VCs\\' customs still reflected the old world, just as customs about writing essays still reflected the constraints of the print era.\\n\\nWhich in turn implies that people who are independent-minded (i.e. less influenced by custom) will have an advantage in fields affected by rapid change (where customs are more likely to be obsolete).\\n\\nHere\\'s an interesting point, though: you can\\'t always predict which fields will be affected by rapid change. Obviously software and venture capital will be, but who would have predicted that essay writing would be?\\n\\n[13] Y Combinator was not the original name. At first we were called Cambridge Seed. But we didn\\'t want a regional name, in case someone copied us in Silicon Valley, so we renamed ourselves after one of the coolest tricks in the lambda calculus, the Y combinator.\\n\\nI picked orange as our color partly because it\\'s the warmest, and partly because no VC used it. In 2005 all the VCs used staid colors like maroon, navy blue, and forest green, because they were trying to appeal to LPs, not founders. The YC logo itself is an inside joke: the Viaweb logo had been a white V on a red circle, so I made the YC logo a white Y on an orange square.\\n\\n[14] YC did become a fund for a couple years starting in 2009, because it was getting so big I could no longer afford to fund it personally. But after Heroku got bought we had enough money to go back to being self-funded.\\n\\n[15] I\\'ve never liked the term \"deal flow,\" because it implies that the number of new startups at any given time is fixed. This is not only false, but it\\'s the purpose of YC to falsify it, by causing startups to be founded that would not otherwise have existed.\\n\\n[16] She reports that they were all different shapes and sizes, because there was a run on air conditioners and she had to get whatever she could, but that they were all heavier than she could carry now.\\n\\n[17] Another problem with HN was a bizarre edge case that occurs when you both write essays and run a forum. When you run a forum, you\\'re assumed to see if not every conversation, at least every conversation involving you. And when you write essays, people post highly imaginative misinterpretations of them on forums. Individually these two phenomena are tedious but bearable, but the combination is disastrous. You actually have to respond to the misinterpretations, because the assumption that you\\'re present in the conversation means that not responding to any sufficiently upvoted misinterpretation reads as a tacit admission that it\\'s correct. But that in turn encourages more; anyone who wants to pick a fight with you senses that now is their chance.\\n\\n[18] The worst thing about leaving YC was not working with Jessica anymore. We\\'d been working on YC almost the whole time we\\'d known each other, and we\\'d neither tried nor wanted to separate it from our personal lives, so leaving was like pulling up a deeply rooted tree.\\n\\n[19] One way to get more precise about the concept of invented vs discovered is to talk about space aliens. Any sufficiently advanced alien civilization would certainly know about the Pythagorean theorem, for example. I believe, though with less certainty, that they would also know about the Lisp in McCarthy\\'s 1960 paper.\\n\\nBut if so there\\'s no reason to suppose that this is the limit of the language that might be known to them. Presumably aliens need numbers and errors and I/O too. So it seems likely there exists at least one path out of McCarthy\\'s Lisp along which discoveredness is preserved.\\n\\n\\n\\nThanks to Trevor Blackwell, John Collison, Patrick Collison, Daniel Gackle, Ralph Hazell, Jessica Livingston, Robert Morris, and Harj Taggar for reading drafts of this.\\n', start_char_idx=None, end_char_idx=None, text_template='{metadata_str}\\n\\n{content}', metadata_template='{key}: {value}', metadata_seperator='\\n')]"
      ]
     },
     "execution_count": 5,
     "metadata": {},
     "output_type": "execute_result"
    }
   ],
   "source": [
    "from llama_index.core import SimpleDirectoryReader\n",
    "\n",
    "# Load data\n",
    "documents = SimpleDirectoryReader(\n",
    "        input_files=[\"./data/paul_graham_essay.txt\"]\n",
    ").load_data()\n",
    "\n",
    "documents"
   ]
  },
  {
   "cell_type": "markdown",
   "metadata": {},
   "source": [
    "## Step 3: Chunk documents into Nodes\n",
    "\n",
    "As the whole document is too large to fit into the context window of the LLM, you will need to partition it into smaller text chunks, which are called `Nodes` in LlamaIndex.\n",
    "\n",
    "With the `SentenceWindowNodeParser` each sentence is stored as a chunk together with a larger window of text surrounding the original sentence as metadata. "
   ]
  },
  {
   "cell_type": "code",
   "execution_count": 6,
   "metadata": {},
   "outputs": [],
   "source": [
    "from llama_index.core.node_parser import SentenceWindowNodeParser\n",
    "\n",
    "# create the sentence window node parser w/ default settings\n",
    "node_parser = SentenceWindowNodeParser.from_defaults(\n",
    "    window_size=3,\n",
    "    window_metadata_key=\"window\",\n",
    "    original_text_metadata_key=\"original_text\",\n",
    ")\n",
    "\n",
    "# Extract nodes from documents\n",
    "nodes = node_parser.get_nodes_from_documents(documents)"
   ]
  },
  {
   "cell_type": "markdown",
   "metadata": {},
   "source": [
    "Below you can see an example of the `i`th node:"
   ]
  },
  {
   "cell_type": "code",
   "execution_count": 7,
   "metadata": {},
   "outputs": [
    {
     "name": "stdout",
     "output_type": "stream",
     "text": [
      "Text: \n",
      "You wouldn't have a boss, or even need to get research funding.\n",
      "\n",
      "\n",
      "------------------\n",
      "Window: \n",
      "And moreover this was something you could make a living doing.  Not as easily as you could by writing software, of course, but I thought if you were really industrious and lived really cheaply, it had to be possible to make enough to survive.  And as an artist you could be truly independent.  You wouldn't have a boss, or even need to get research funding.\n",
      "\n",
      " I had always liked looking at paintings.  Could I make them? \n"
     ]
    }
   ],
   "source": [
    "# This block of code is for educational purposes \n",
    "# to showcase what the nodes looks like\n",
    "i=100\n",
    "\n",
    "print(f\"Text: \\n{nodes[i].text}\")\n",
    "print(\"------------------\")\n",
    "print(f\"Window: \\n{nodes[i].metadata['window']}\")"
   ]
  },
  {
   "cell_type": "markdown",
   "metadata": {},
   "source": [
    "## Step 4: Build the index\n",
    "\n",
    "Next, you will build the index that stores all the external knowledge in a Weaviate vector database.\n",
    "\n",
    "First, you will need to connect to a Weaviate instance. In this case, we're using Weaviate Embedded.\n",
    " \n",
    "*Note, that the embedded instance will stay alive for as long as the parent application is running. For a more persistent solution, we recommend using a managed Weaviate Cloud Serivces (WCS) instance. You can try it out for free for 14 days [here](https://console.weaviate.cloud).*"
   ]
  },
  {
   "cell_type": "code",
   "execution_count": 8,
   "metadata": {},
   "outputs": [
    {
     "name": "stdout",
     "output_type": "stream",
     "text": [
      "Started /Users/leonie/.cache/weaviate-embedded: process ID 7307\n"
     ]
    },
    {
     "name": "stderr",
     "output_type": "stream",
     "text": [
      "{\"action\":\"startup\",\"default_vectorizer_module\":\"none\",\"level\":\"info\",\"msg\":\"the default vectorizer modules is set to \\\"none\\\", as a result all new schema classes without an explicit vectorizer setting, will use this vectorizer\",\"time\":\"2024-02-14T12:14:31+01:00\"}\n",
      "{\"action\":\"startup\",\"auto_schema_enabled\":true,\"level\":\"info\",\"msg\":\"auto schema enabled setting is set to \\\"true\\\"\",\"time\":\"2024-02-14T12:14:31+01:00\"}\n",
      "{\"level\":\"info\",\"msg\":\"No resource limits set, weaviate will use all available memory and CPU. To limit resources, set LIMIT_RESOURCES=true\",\"time\":\"2024-02-14T12:14:31+01:00\"}\n",
      "{\"level\":\"warning\",\"msg\":\"Multiple vector spaces are present, GraphQL Explore and REST API list objects endpoint module include params has been disabled as a result.\",\"time\":\"2024-02-14T12:14:31+01:00\"}\n",
      "{\"action\":\"grpc_startup\",\"level\":\"info\",\"msg\":\"grpc server listening at [::]:50060\",\"time\":\"2024-02-14T12:14:31+01:00\"}\n",
      "{\"action\":\"restapi_management\",\"level\":\"info\",\"msg\":\"Serving weaviate at http://127.0.0.1:8079\",\"time\":\"2024-02-14T12:14:31+01:00\"}\n"
     ]
    },
    {
     "name": "stdout",
     "output_type": "stream",
     "text": [
      "Client is ready: True\n"
     ]
    },
    {
     "name": "stderr",
     "output_type": "stream",
     "text": [
      "/opt/homebrew/lib/python3.11/site-packages/weaviate/warnings.py:121: DeprecationWarning: Dep005: You are using weaviate-client version 3.26.2. The latest version is 4.4.4.\n",
      "            Please consider upgrading to the latest version. See https://weaviate.io/developers/weaviate/client-libraries/python for details.\n",
      "  warnings.warn(\n"
     ]
    }
   ],
   "source": [
    "import weaviate\n",
    "\n",
    "# Connect to your Weaviate instance\n",
    "client = weaviate.Client(\n",
    "    embedded_options=weaviate.embedded.EmbeddedOptions(), \n",
    "#    additional_headers={ \n",
    "#        'X-OpenAI-Api-Key': os.environ[\"OPENAI_API_KEY\"]\n",
    "#        }\n",
    ")\n",
    "\n",
    "print(f\"Client is ready: {client.is_ready()}\")\n",
    "\n",
    "# Print this line to get more information about the client\n",
    "# client.get_meta()"
   ]
  },
  {
   "cell_type": "markdown",
   "metadata": {},
   "source": [
    "Next, you will build a `VectorStoreIndex` from the Weaviate client to store your data in and interact with."
   ]
  },
  {
   "cell_type": "code",
   "execution_count": 9,
   "metadata": {},
   "outputs": [
    {
     "name": "stderr",
     "output_type": "stream",
     "text": [
      "{\"level\":\"info\",\"msg\":\"Created shard myexternalcontext_SyOOwJiGvlEF in 1.419709ms\",\"time\":\"2024-02-14T12:14:32+01:00\"}\n",
      "{\"action\":\"hnsw_vector_cache_prefill\",\"count\":1000,\"index_id\":\"main\",\"level\":\"info\",\"limit\":1000000000000,\"msg\":\"prefilled vector cache\",\"time\":\"2024-02-14T12:14:32+01:00\",\"took\":47625}\n",
      "{\"level\":\"info\",\"msg\":\"Completed loading shard llamaindex_dWivqPiChdO8 in 4.627667ms\",\"time\":\"2024-02-14T12:14:32+01:00\"}\n",
      "{\"action\":\"hnsw_vector_cache_prefill\",\"count\":3000,\"index_id\":\"main\",\"level\":\"info\",\"limit\":1000000000000,\"msg\":\"prefilled vector cache\",\"time\":\"2024-02-14T12:14:32+01:00\",\"took\":499167}\n",
      "{\"level\":\"info\",\"msg\":\"Created shard myexternalcontext_fMmZ36K7hhUR in 2.24825ms\",\"time\":\"2024-02-14T12:14:33+01:00\"}\n",
      "{\"action\":\"hnsw_vector_cache_prefill\",\"count\":1000,\"index_id\":\"main\",\"level\":\"info\",\"limit\":1000000000000,\"msg\":\"prefilled vector cache\",\"time\":\"2024-02-14T12:14:33+01:00\",\"took\":46667}\n"
     ]
    }
   ],
   "source": [
    "from llama_index.core import VectorStoreIndex, StorageContext\n",
    "from llama_index.vector_stores.weaviate import WeaviateVectorStore\n",
    "\n",
    "index_name = \"MyExternalContext\"\n",
    "\n",
    "# Construct vector store\n",
    "vector_store = WeaviateVectorStore(\n",
    "    weaviate_client = client, \n",
    "    index_name = index_name\n",
    ")\n",
    "\n",
    "# Set up the storage for the embeddings\n",
    "storage_context = StorageContext.from_defaults(vector_store=vector_store)\n",
    "\n",
    "# If an index with the same index name already exists within Weaviate, delete it\n",
    "if client.schema.exists(index_name):\n",
    "    client.schema.delete_class(index_name)\n",
    "\n",
    "# Setup the index\n",
    "# build VectorStoreIndex that takes care of chunking documents\n",
    "# and encoding chunks to embeddings for future retrieval\n",
    "index = VectorStoreIndex.from_documents(\n",
    "    documents,\n",
    "    storage_context = storage_context,\n",
    "    node_parser = node_parser,\n",
    ")"
   ]
  },
  {
   "cell_type": "code",
   "execution_count": 10,
   "metadata": {},
   "outputs": [
    {
     "name": "stdout",
     "output_type": "stream",
     "text": [
      "{\n",
      "  \"class\": \"MyExternalContext\",\n",
      "  \"description\": \"This property was generated by Weaviate's auto-schema feature on Wed Feb 14 12:14:33 2024\",\n",
      "  \"invertedIndexConfig\": {\n",
      "    \"bm25\": {\n",
      "      \"b\": 0.75,\n",
      "      \"k1\": 1.2\n",
      "    },\n",
      "    \"cleanupIntervalSeconds\": 60,\n",
      "    \"stopwords\": {\n",
      "      \"additions\": null,\n",
      "      \"preset\": \"en\",\n",
      "      \"removals\": null\n",
      "    }\n",
      "  },\n",
      "  \"multiTenancyConfig\": {\n",
      "    \"enabled\": false\n",
      "  },\n",
      "  \"properties\": [\n",
      "    {\n",
      "      \"dataType\": [\n",
      "        \"text\"\n",
      "      ],\n",
      "      \"description\": \"This property was generated by Weaviate's auto-schema feature on Wed Feb 14 12:14:33 2024\",\n",
      "      \"indexFilterable\": true,\n",
      "      \"indexSearchable\": true,\n",
      "      \"name\": \"file_type\",\n",
      "      \"tokenization\": \"word\"\n",
      "    },\n",
      "    {\n",
      "      \"dataType\": [\n",
      "        \"text\"\n",
      "      ],\n",
      "      \"description\": \"This property was generated by Weaviate's auto-schema feature on Wed Feb 14 12:14:33 2024\",\n",
      "      \"indexFilterable\": true,\n",
      "      \"indexSearchable\": true,\n",
      "      \"name\": \"last_modified_date\",\n",
      "      \"tokenization\": \"word\"\n",
      "    },\n",
      "    {\n",
      "      \"dataType\": [\n",
      "        \"text\"\n",
      "      ],\n",
      "      \"description\": \"This property was generated by Weaviate's auto-schema feature on Wed Feb 14 12:14:33 2024\",\n",
      "      \"indexFilterable\": true,\n",
      "      \"indexSearchable\": true,\n",
      "      \"name\": \"last_accessed_date\",\n",
      "      \"tokenization\": \"word\"\n",
      "    },\n",
      "    {\n",
      "      \"dataType\": [\n",
      "        \"text\"\n",
      "      ],\n",
      "      \"description\": \"This property was generated by Weaviate's auto-schema feature on Wed Feb 14 12:14:33 2024\",\n",
      "      \"indexFilterable\": true,\n",
      "      \"indexSearchable\": true,\n",
      "      \"name\": \"_node_content\",\n",
      "      \"tokenization\": \"word\"\n",
      "    },\n",
      "    {\n",
      "      \"dataType\": [\n",
      "        \"text\"\n",
      "      ],\n",
      "      \"description\": \"This property was generated by Weaviate's auto-schema feature on Wed Feb 14 12:14:33 2024\",\n",
      "      \"indexFilterable\": true,\n",
      "      \"indexSearchable\": true,\n",
      "      \"name\": \"text\",\n",
      "      \"tokenization\": \"word\"\n",
      "    },\n",
      "    {\n",
      "      \"dataType\": [\n",
      "        \"text\"\n",
      "      ],\n",
      "      \"description\": \"This property was generated by Weaviate's auto-schema feature on Wed Feb 14 12:14:33 2024\",\n",
      "      \"indexFilterable\": true,\n",
      "      \"indexSearchable\": true,\n",
      "      \"name\": \"file_path\",\n",
      "      \"tokenization\": \"word\"\n",
      "    },\n",
      "    {\n",
      "      \"dataType\": [\n",
      "        \"number\"\n",
      "      ],\n",
      "      \"description\": \"This property was generated by Weaviate's auto-schema feature on Wed Feb 14 12:14:33 2024\",\n",
      "      \"indexFilterable\": true,\n",
      "      \"indexSearchable\": false,\n",
      "      \"name\": \"file_size\"\n",
      "    },\n",
      "    {\n",
      "      \"dataType\": [\n",
      "        \"text\"\n",
      "      ],\n",
      "      \"description\": \"This property was generated by Weaviate's auto-schema feature on Wed Feb 14 12:14:33 2024\",\n",
      "      \"indexFilterable\": true,\n",
      "      \"indexSearchable\": true,\n",
      "      \"name\": \"creation_date\",\n",
      "      \"tokenization\": \"word\"\n",
      "    },\n",
      "    {\n",
      "      \"dataType\": [\n",
      "        \"text\"\n",
      "      ],\n",
      "      \"description\": \"This property was generated by Weaviate's auto-schema feature on Wed Feb 14 12:14:33 2024\",\n",
      "      \"indexFilterable\": true,\n",
      "      \"indexSearchable\": true,\n",
      "      \"name\": \"_node_type\",\n",
      "      \"tokenization\": \"word\"\n",
      "    },\n",
      "    {\n",
      "      \"dataType\": [\n",
      "        \"uuid\"\n",
      "      ],\n",
      "      \"description\": \"This property was generated by Weaviate's auto-schema feature on Wed Feb 14 12:14:33 2024\",\n",
      "      \"indexFilterable\": true,\n",
      "      \"indexSearchable\": false,\n",
      "      \"name\": \"doc_id\"\n",
      "    },\n",
      "    {\n",
      "      \"dataType\": [\n",
      "        \"uuid\"\n",
      "      ],\n",
      "      \"description\": \"This property was generated by Weaviate's auto-schema feature on Wed Feb 14 12:14:33 2024\",\n",
      "      \"indexFilterable\": true,\n",
      "      \"indexSearchable\": false,\n",
      "      \"name\": \"ref_doc_id\"\n",
      "    },\n",
      "    {\n",
      "      \"dataType\": [\n",
      "        \"text\"\n",
      "      ],\n",
      "      \"description\": \"This property was generated by Weaviate's auto-schema feature on Wed Feb 14 12:14:33 2024\",\n",
      "      \"indexFilterable\": true,\n",
      "      \"indexSearchable\": true,\n",
      "      \"name\": \"file_name\",\n",
      "      \"tokenization\": \"word\"\n",
      "    },\n",
      "    {\n",
      "      \"dataType\": [\n",
      "        \"uuid\"\n",
      "      ],\n",
      "      \"description\": \"This property was generated by Weaviate's auto-schema feature on Wed Feb 14 12:14:33 2024\",\n",
      "      \"indexFilterable\": true,\n",
      "      \"indexSearchable\": false,\n",
      "      \"name\": \"document_id\"\n",
      "    }\n",
      "  ],\n",
      "  \"replicationConfig\": {\n",
      "    \"factor\": 1\n",
      "  },\n",
      "  \"shardingConfig\": {\n",
      "    \"virtualPerPhysical\": 128,\n",
      "    \"desiredCount\": 1,\n",
      "    \"actualCount\": 1,\n",
      "    \"desiredVirtualCount\": 128,\n",
      "    \"actualVirtualCount\": 128,\n",
      "    \"key\": \"_id\",\n",
      "    \"strategy\": \"hash\",\n",
      "    \"function\": \"murmur3\"\n",
      "  },\n",
      "  \"vectorIndexConfig\": {\n",
      "    \"skip\": false,\n",
      "    \"cleanupIntervalSeconds\": 300,\n",
      "    \"maxConnections\": 64,\n",
      "    \"efConstruction\": 128,\n",
      "    \"ef\": -1,\n",
      "    \"dynamicEfMin\": 100,\n",
      "    \"dynamicEfMax\": 500,\n",
      "    \"dynamicEfFactor\": 8,\n",
      "    \"vectorCacheMaxObjects\": 1000000000000,\n",
      "    \"flatSearchCutoff\": 40000,\n",
      "    \"distance\": \"cosine\",\n",
      "    \"pq\": {\n",
      "      \"enabled\": false,\n",
      "      \"bitCompression\": false,\n",
      "      \"segments\": 0,\n",
      "      \"centroids\": 256,\n",
      "      \"trainingLimit\": 100000,\n",
      "      \"encoder\": {\n",
      "        \"type\": \"kmeans\",\n",
      "        \"distribution\": \"log-normal\"\n",
      "      }\n",
      "    }\n",
      "  },\n",
      "  \"vectorIndexType\": \"hnsw\",\n",
      "  \"vectorizer\": \"none\"\n",
      "}\n"
     ]
    }
   ],
   "source": [
    "import json\n",
    "response = client.schema.get(index_name)\n",
    "\n",
    "print(json.dumps(response, indent=2))"
   ]
  },
  {
   "cell_type": "markdown",
   "metadata": {},
   "source": [
    "## Step 5: Setup the Query Engine\n",
    "\n",
    "Lastly, you will setup the index as the query engine.\n",
    "\n",
    "### Build the Metadata Replacement Post Processor\n",
    "In advanced RAG, you can use the `MetadataReplacementPostProcessor` to replace the sentence in each node with it’s surrounding context as part of the sentence-window-retrieval method."
   ]
  },
  {
   "cell_type": "code",
   "execution_count": 11,
   "metadata": {},
   "outputs": [],
   "source": [
    "from llama_index.core.postprocessor import MetadataReplacementPostProcessor\n",
    "\n",
    "# The target key defaults to `window` to match the node_parser's default\n",
    "postproc = MetadataReplacementPostProcessor(\n",
    "    target_metadata_key=\"window\"\n",
    ")"
   ]
  },
  {
   "cell_type": "code",
   "execution_count": 12,
   "metadata": {},
   "outputs": [
    {
     "name": "stdout",
     "output_type": "stream",
     "text": [
      "Retrieved sentece: You wouldn't have a boss, or even need to get research funding.\n",
      "\n",
      "\n",
      "------------------\n",
      "Replaced window: And moreover this was something you could make a living doing.  Not as easily as you could by writing software, of course, but I thought if you were really industrious and lived really cheaply, it had to be possible to make enough to survive.  And as an artist you could be truly independent.  You wouldn't have a boss, or even need to get research funding.\n",
      "\n",
      " I had always liked looking at paintings.  Could I make them? \n"
     ]
    }
   ],
   "source": [
    "# This block of code is for educational purposes \n",
    "# to showcase how the MetadataReplacementPostProcessor works\n",
    "from llama_index.core.schema import NodeWithScore\n",
    "from copy import deepcopy\n",
    "\n",
    "scored_nodes = [NodeWithScore(node=x, score=1.0) for x in nodes]\n",
    "nodes_old = [deepcopy(n) for n in nodes]\n",
    "replaced_nodes = postproc.postprocess_nodes(scored_nodes)\n",
    "\n",
    "print(f\"Retrieved sentece: {nodes_old[i].text}\")\n",
    "print(\"------------------\")\n",
    "print(f\"Replaced window: {replaced_nodes[i].text}\")\n"
   ]
  },
  {
   "cell_type": "markdown",
   "metadata": {},
   "source": [
    "### Add a re-ranker\n",
    "For advanced RAG, you can also add a re-ranker, which re-ranks the retrieved context for its relevance to the query. Note, that you should retrieve a larger number of `similarity_top_k`, which will be reduced to `top_n`."
   ]
  },
  {
   "cell_type": "code",
   "execution_count": 13,
   "metadata": {},
   "outputs": [
    {
     "name": "stderr",
     "output_type": "stream",
     "text": [
      "/opt/homebrew/lib/python3.11/site-packages/huggingface_hub/inference/_text_generation.py:121: PydanticDeprecatedSince20: Pydantic V1 style `@validator` validators are deprecated. You should migrate to Pydantic V2 style `@field_validator` validators, see the migration guide for more details. Deprecated in Pydantic V2.0 to be removed in V3.0. See Pydantic V2 Migration Guide at https://errors.pydantic.dev/2.6/migration/\n",
      "  @validator(\"best_of\")\n",
      "/opt/homebrew/lib/python3.11/site-packages/huggingface_hub/inference/_text_generation.py:140: PydanticDeprecatedSince20: Pydantic V1 style `@validator` validators are deprecated. You should migrate to Pydantic V2 style `@field_validator` validators, see the migration guide for more details. Deprecated in Pydantic V2.0 to be removed in V3.0. See Pydantic V2 Migration Guide at https://errors.pydantic.dev/2.6/migration/\n",
      "  @validator(\"repetition_penalty\")\n",
      "/opt/homebrew/lib/python3.11/site-packages/huggingface_hub/inference/_text_generation.py:146: PydanticDeprecatedSince20: Pydantic V1 style `@validator` validators are deprecated. You should migrate to Pydantic V2 style `@field_validator` validators, see the migration guide for more details. Deprecated in Pydantic V2.0 to be removed in V3.0. See Pydantic V2 Migration Guide at https://errors.pydantic.dev/2.6/migration/\n",
      "  @validator(\"seed\")\n",
      "/opt/homebrew/lib/python3.11/site-packages/huggingface_hub/inference/_text_generation.py:152: PydanticDeprecatedSince20: Pydantic V1 style `@validator` validators are deprecated. You should migrate to Pydantic V2 style `@field_validator` validators, see the migration guide for more details. Deprecated in Pydantic V2.0 to be removed in V3.0. See Pydantic V2 Migration Guide at https://errors.pydantic.dev/2.6/migration/\n",
      "  @validator(\"temperature\")\n",
      "/opt/homebrew/lib/python3.11/site-packages/huggingface_hub/inference/_text_generation.py:158: PydanticDeprecatedSince20: Pydantic V1 style `@validator` validators are deprecated. You should migrate to Pydantic V2 style `@field_validator` validators, see the migration guide for more details. Deprecated in Pydantic V2.0 to be removed in V3.0. See Pydantic V2 Migration Guide at https://errors.pydantic.dev/2.6/migration/\n",
      "  @validator(\"top_k\")\n",
      "/opt/homebrew/lib/python3.11/site-packages/huggingface_hub/inference/_text_generation.py:164: PydanticDeprecatedSince20: Pydantic V1 style `@validator` validators are deprecated. You should migrate to Pydantic V2 style `@field_validator` validators, see the migration guide for more details. Deprecated in Pydantic V2.0 to be removed in V3.0. See Pydantic V2 Migration Guide at https://errors.pydantic.dev/2.6/migration/\n",
      "  @validator(\"top_p\")\n",
      "/opt/homebrew/lib/python3.11/site-packages/huggingface_hub/inference/_text_generation.py:170: PydanticDeprecatedSince20: Pydantic V1 style `@validator` validators are deprecated. You should migrate to Pydantic V2 style `@field_validator` validators, see the migration guide for more details. Deprecated in Pydantic V2.0 to be removed in V3.0. See Pydantic V2 Migration Guide at https://errors.pydantic.dev/2.6/migration/\n",
      "  @validator(\"truncate\")\n",
      "/opt/homebrew/lib/python3.11/site-packages/huggingface_hub/inference/_text_generation.py:176: PydanticDeprecatedSince20: Pydantic V1 style `@validator` validators are deprecated. You should migrate to Pydantic V2 style `@field_validator` validators, see the migration guide for more details. Deprecated in Pydantic V2.0 to be removed in V3.0. See Pydantic V2 Migration Guide at https://errors.pydantic.dev/2.6/migration/\n",
      "  @validator(\"typical_p\")\n",
      "/opt/homebrew/lib/python3.11/site-packages/huggingface_hub/inference/_text_generation.py:204: PydanticDeprecatedSince20: Pydantic V1 style `@validator` validators are deprecated. You should migrate to Pydantic V2 style `@field_validator` validators, see the migration guide for more details. Deprecated in Pydantic V2.0 to be removed in V3.0. See Pydantic V2 Migration Guide at https://errors.pydantic.dev/2.6/migration/\n",
      "  @validator(\"inputs\")\n",
      "/opt/homebrew/lib/python3.11/site-packages/huggingface_hub/inference/_text_generation.py:210: PydanticDeprecatedSince20: Pydantic V1 style `@validator` validators are deprecated. You should migrate to Pydantic V2 style `@field_validator` validators, see the migration guide for more details. Deprecated in Pydantic V2.0 to be removed in V3.0. See Pydantic V2 Migration Guide at https://errors.pydantic.dev/2.6/migration/\n",
      "  @validator(\"stream\")\n"
     ]
    }
   ],
   "source": [
    "from llama_index.core.postprocessor import SentenceTransformerRerank\n",
    "\n",
    "# BAAI/bge-reranker-base\n",
    "# link: https://huggingface.co/BAAI/bge-reranker-base\n",
    "rerank = SentenceTransformerRerank(\n",
    "    top_n = 2, \n",
    "    model = \"BAAI/bge-reranker-base\"\n",
    ")"
   ]
  },
  {
   "cell_type": "markdown",
   "metadata": {},
   "source": [
    "Finally, you can put all components together in the query engine!"
   ]
  },
  {
   "cell_type": "code",
   "execution_count": 14,
   "metadata": {},
   "outputs": [],
   "source": [
    "# The QueryEngine class is equipped with the generator\n",
    "# and facilitates the retrieval and generation steps\n",
    "query_engine = index.as_query_engine(\n",
    "        similarity_top_k = 6, \n",
    "        node_postprocessors=[postproc, rerank]\n",
    ")"
   ]
  },
  {
   "cell_type": "markdown",
   "metadata": {},
   "source": [
    "## Step 6: Run an Advanced RAG Query on Your Data\n",
    "Now, you can run advanced RAG queries on your data."
   ]
  },
  {
   "cell_type": "code",
   "execution_count": 15,
   "metadata": {},
   "outputs": [
    {
     "name": "stdout",
     "output_type": "stream",
     "text": [
      "The context does not provide any information about what the author did growing up.\n"
     ]
    }
   ],
   "source": [
    "# Use your Default RAG\n",
    "response = query_engine.query(\n",
    "    \"What did the author do growing up?\"\n",
    ")\n",
    "print(str(response))"
   ]
  },
  {
   "cell_type": "code",
   "execution_count": 16,
   "metadata": {},
   "outputs": [
    {
     "data": {
      "text/plain": [
       "TextNode(id_='f85ebdb6-10be-46d0-9184-e9ce5fe051ce', embedding=[0.0061649675, 0.02088512, 0.020017201, -0.0132185165, 0.01920439, 0.02302047, -0.020003425, -0.009423101, 0.0019114843, -0.036755603, 0.0020888562, 0.001190803, 0.0075632785, 0.002173237, 0.0010246244, 0.012343711, 0.023847058, 0.0109867295, -0.012171505, -0.017041486, -0.013742022, -0.0057620057, 0.01807472, 0.0006638533, -0.02461854, 0.014051992, 0.0064439406, -0.008148778, -0.009429989, -0.0051351767, 0.018322697, -0.019493695, -0.013583593, -0.0042603714, -0.021119319, 0.007025996, -0.0038298569, 0.004101942, 0.02574821, -0.029867373, 0.027938668, 0.0033149614, -0.010387453, -0.014782145, -0.024398116, 0.009436877, 0.0142035335, -0.001097812, 0.011000506, 0.019920766, 0.017482333, 0.024081258, -0.033862546, -0.004597895, -0.017027708, 0.013624922, 0.008810048, 0.01086963, 0.006040979, 0.01250214, 0.001578266, 0.017661426, -0.0081901075, -0.009120019, -0.026905432, -0.007287749, -0.010614765, 0.01016703, 0.0051041795, 0.0028035103, 0.02796622, 0.011165824, -0.0017082815, -0.00050671556, 0.03794038, 0.004081277, -0.01846046, -0.009843283, -0.010022377, 0.0073635196, -0.011434465, -0.018088497, -0.0041673803, 0.031079702, 0.0235302, -0.021133095, 0.021932129, 0.044305105, -0.020154966, -0.01939726, 0.023654187, 0.028379515, -0.007043217, -0.001694505, -0.0025245368, 0.009078689, -0.008968478, 0.004597895, 0.0013371779, -0.00927156, 0.009925942, -0.001399172, -0.020278955, -0.011503347, -0.015236769, -0.007852584, 0.016077133, -0.0059927613, 0.025486456, -0.027056973, 0.004336142, 0.027194738, 0.005947988, -0.03322883, 0.0051627294, -0.028875466, 0.017895626, -0.026078844, -0.008775607, -0.023888387, 0.0074255136, 0.028765256, 0.019879436, -0.0007465121, 0.020182518, 0.01924572, -0.01963146, -0.0061752996, 0.005390041, -0.00790769, 0.01530565, 0.01172377, 0.02536247, 0.0019321489, -0.017702755, 0.014410181, -0.006423276, -0.0023884943, -0.027800903, -0.028434621, 0.01577405, 0.015154109, -0.0045290124, 0.010118812, -0.009870836, 0.024122586, 0.008989142, 0.012825888, 0.01651798, -0.0019562577, 0.00708799, -0.015374533, 0.0002778971, 0.004453242, 0.0011425854, 0.0050352975, 0.011200265, 0.03369723, -0.023116905, 0.0069984435, 0.0038849628, 0.036562733, 0.012068182, -0.0032805204, -0.00044816558, 0.027911115, 0.023819504, 0.009801954, -0.017633874, -0.024921622, -0.021518836, 0.024177693, -0.040172167, -0.0005622519, -2.440479e-05, 0.01760632, 0.0027208515, 0.018598225, -0.012743228, -0.018639555, 0.0009772679, 0.0037024245, 0.018143602, 0.024935398, 0.0054727, -0.0028655045, 0.0043258094, -0.020168742, -0.0045324564, -0.002734628, 0.007081102, 0.008121225, -0.0207198, -0.023943493, -0.66127026, -0.019052848, 0.018184932, -0.019342154, 0.0077699255, 0.0004869119, 0.0022696722, -0.0036783158, -0.016697073, 0.020292731, -0.030804172, -0.010656094, 0.019094178, -0.0035853246, -0.020320283, -0.009567753, 0.033063512, -0.022001011, -0.0025193708, 0.0040502804, -0.020940224, 0.021243306, -0.008727389, -0.004036504, 0.014368852, 0.017179249, 0.015484745, -0.012006188, -0.013473381, 0.02715341, -0.018281367, 0.016683297, 0.002409159, 0.009244007, 0.062104296, -0.011627335, -0.024907846, 0.011365582, 0.014286192, 0.03298085, -0.04367139, -0.020540707, -0.00081711647, 0.01445151, 0.009009807, -0.003540551, 0.02948163, -0.0062786234, 0.0035233304, -0.0095884185, 0.014299969, 0.0068606785, -0.018901307, -0.0015593234, 0.013197852, 0.006302732, 0.016821062, -0.009009807, -0.0043326975, 0.010394341, -0.014079546, 0.0018839313, -0.008768719, -0.019989649, -0.011503347, 0.009746848, -0.0041501597, 0.0015421029, 0.010325459, 0.0002425949, 0.023971045, 0.022841375, -0.028958125, -0.02052693, 0.009237119, 0.006578261, 0.014851027, -0.0010866185, -0.008934037, -0.0114138, 0.008079896, -0.013335616, -0.011214041, -0.0116824405, 0.025266035, -0.00338901, -0.044580635, -0.003778195, 0.01826759, -0.008734277, 0.008665395, 0.012564135, -0.028035102, -0.02060959, -0.0061752996, 0.015526074, -0.0003997327, 0.0127983345, 0.0072601964, -0.033008408, -0.0032787982, -0.016724626, 0.025872199, -0.004132939, 0.03229203, 0.024797633, -0.002584809, -0.00017295919, 0.01967279, -0.037058685, 0.0075977193, -0.018612001, -0.03452382, -0.0066781407, 0.00095574214, -0.021835694, 0.021353519, -0.0019855327, 0.003302907, -0.0058067795, -0.00950576, -0.0075150607, -0.0054623676, 0.005978985, 0.012006188, 0.018446684, 0.011813317, -0.032512452, -0.027373832, 0.013989999, -0.0025916973, 0.017165473, 0.023048023, -0.014575498, -0.0017719975, 0.005417594, 0.010676759, -0.014396404, 0.007639049, -0.023902165, -0.03755464, -0.004973303, -0.0012863773, 0.007459955, -0.0039710654, -0.0121164, -0.007976572, -0.0062923995, -0.014947463, 0.018818649, 0.0038539656, 0.0015016345, -0.01160667, 0.0022610622, -0.0071017668, 0.0030876498, -0.0030359882, -0.035929017, -0.0134940455, -0.005885994, -0.015842933, 0.0228276, -0.006457717, -0.0040640566, 0.001279489, 0.0016161513, -0.00073574926, 0.024301682, -0.01534698, -0.025927303, 0.01343894, -0.0020785239, -0.015567403, 0.01596692, -0.0037609744, 0.031217465, -0.008382978, -0.0045875623, 0.016573085, -0.012936099, 0.002467709, 0.021449953, -0.004763212, -0.008865154, 0.02734628, -0.0055450266, 0.010855854, 0.019851884, -0.008520743, 0.013197852, 0.019163061, 0.009106242, -0.009657301, 0.009953495, -0.004305145, 0.016187344, -0.0007090573, 0.0077354843, 0.0051214, 0.021684153, -0.013418275, 0.03598412, 0.015415862, -0.004129495, 0.012956764, -0.0315481, 0.0031031484, -0.012068182, 0.0002925346, -0.004549677, 0.0067952406, -0.0020578592, -0.0225934, -0.015842933, 0.012571023, 0.015801603, 0.0014921632, 0.012295494, -0.039152708, 0.022056118, -0.00849319, 0.005527806, 0.02060959, -0.016449098, -0.00071809813, 0.011902864, -0.01016703, 0.02711208, -0.01788185, -0.043450966, -0.0021611827, 0.008231437, 0.0035508834, 0.014975016, 0.015539851, -0.004126051, 0.0074530668, -0.02835196, 0.03408297, -0.00030028383, 0.023778176, 0.009905277, 0.016214898, -0.020692248, 0.006106417, 0.0055725793, 0.038546544, -0.015085228, -0.03163076, 0.018102273, -0.0067504672, 0.017633874, 0.002021696, 0.004463574, 0.024522105, -0.007583943, -0.0016523146, 0.0032219703, 0.024274128, 0.031658314, 0.003774751, 0.004656445, -0.009925942, -0.004074389, -0.02251074, -0.013053199, -0.010118812, -0.0072601964, -0.022731164, -0.008486302, 0.0028413956, -0.039951745, 0.010380565, -0.014534169, 0.027318727, -0.011620447, 0.0050352975, -0.013211628, 0.017399672, -0.009533312, -0.025844645, -0.026712563, 0.015429639, -0.00052996335, 0.00927156, -0.00031233826, 0.0063509494, 0.015002568, 0.0153194275, 0.012143953, -0.0038436332, -0.01901152, 0.0005144648, 0.006154635, 0.0019476475, 0.010649206, 0.0409712, -0.013934893, 0.005479588, 0.0021801253, 0.004494571, 0.016586863, -0.0060857525, -0.0021594607, 0.06618213, -0.0123850405, -0.0154571915, -0.011021171, -0.011427577, -0.033173725, -0.011627335, 0.017399672, -0.0010668149, -0.0029567734, 0.006571373, 0.005028409, -0.010676759, 0.00084208633, 0.013521599, 0.009126907, -0.010373677, -0.0352953, -0.017537437, 0.011324253, 0.097316936, 0.0014000331, -0.0049319738, 0.008968478, -0.0021852916, -0.0071224314, -0.020733578, -0.02410881, 0.024563434, 0.002941275, 0.009574642, 0.005124844, 0.027704468, 0.010215248, 0.0235302, -0.002350609, -0.009795065, -0.033063512, 0.0013104861, -0.037058685, 0.017358344, 0.0071499846, 0.014148428, 0.031410336, 0.0115446765, 0.0014198368, 0.023543976, -0.014010663, 0.014644381, -0.026533468, -0.01733079, 0.009526424, 0.021367295, 0.015030121, -0.008217661, 0.012495252, 0.01530565, 0.027015645, 0.014644381, 0.017385896, 0.0035474394, 0.021835694, -0.0021525724, -0.020154966, -0.0051937266, -0.00052996335, -0.022441858, 0.03708624, -0.012453923, -0.021133095, 0.018212484, 0.0011821927, -0.023323553, 0.013294287, 0.007852584, 0.002763903, 0.019603908, -0.002111243, -0.008403643, 0.00025981548, 0.0025968633, -0.015842933, -0.00798346, -0.013094529, -0.006099529, -0.028090209, -0.009450654, -0.007232643, 0.0048286505, 0.005228168, 0.0080454545, -0.026519692, -0.026423257, 0.0010840355, 0.019535026, -0.0038298569, 0.025348693, 0.0072395313, -0.0091682365, 0.00065653457, -0.011771988, -0.025458904, 0.007859472, -0.019824332, -0.011041835, 0.0046874415, 0.014947463, -0.013383834, 0.0012028575, 0.0024745972, -0.0025607, 0.01324607, 0.0022403973, -0.023557752, 0.011613559, 0.0106974235, -0.019190613, 0.024411893, 0.004019283, -0.03077662, 0.0021801253, -0.01577405, -0.0081901075, -0.0218908, 0.0020664695, 0.012860329, 0.026740115, 0.00892026, -0.011048724, -0.0032839645, 0.028296856, 0.008513854, 0.022428082, 0.020072307, 0.024701199, 0.030556196, 0.013659364, 0.012143953, 0.013108305, -0.013852234, 0.004370583, -0.036893368, 0.0091682365, 0.01613224, -0.0129429875, 0.009960383, 0.018556897, -0.0020475269, -0.014038216, -0.016793508, 0.0029395528, 0.0228276, -0.010676759, -0.023750624, -0.02835196, -0.010938512, -0.007818143, -0.010380565, -0.010449448, 0.0034406716, -0.0023678297, 0.0010892017, -0.004697774, -0.015195439, -0.015278098, -0.030859279, 0.005803335, -0.010160142, -0.0050008562, 0.035240192, -0.0019769224, 0.007583943, -0.010311683, 0.013714469, -0.019493695, -0.035736147, 0.0033941763, -0.003092816, 0.02372307, 0.0071017668, 0.03895984, 0.0025400354, 0.027676914, -0.00463578, 0.009457542, -0.012598576, -0.0060272026, -0.007074214, -0.009553977, 0.022992916, 0.017468555, 0.020017201, -0.003509554, -0.01558118, 0.0073221903, 0.029288761, -0.010111924, -0.0016876168, -0.013569816, -0.033862546, -0.016077133, 0.012956764, -0.007997237, 0.0101257, -0.005586356, 0.011358694, 0.021821918, 0.002999825, 0.011737547, -0.000106659965, 0.037775062, -0.022180106, 0.013604257, 0.01990699, 0.009925942, -0.025844645, -0.009140683, -0.03548817, 0.013776463, 0.022304093, 0.013872898, 0.0126605695, 0.007501284, -0.026285492, -0.0025159267, 0.007694155, 0.0027156854, -0.025954857, 0.012205946, -0.00599965, 0.0016462874, -0.023406211, -0.023034247, -0.008196996, -0.012130176, -0.009340442, 0.010070595, 0.00625107, -0.031300124, -0.04896155, -0.008245213, -0.009209566, 0.022372976, 0.0039710654, 0.027594255, -0.00036615256, 0.010366789, -0.02485274, -0.020017201, 0.009822618, -0.012695011, 0.0058412203, 0.017234355, 0.0006268291, 0.0066815848, -0.021160647, 0.018253814, -0.02890302, -0.036314756, 0.012130176, 0.011145159, 0.010270353, -0.022483189, -0.016228674, -0.05290162, 0.031189913, -0.00446013, -0.0024866515, -0.0073841843, -0.0060582, -0.009767513, 0.003177197, 0.005469256, 0.013514711, 0.011978635, -0.006412944, 0.005293606, -0.038078144, -0.0006371614, 0.026189057, 0.012591687, -0.0005846387, -0.0040502804, 0.023006694, 0.005641462, 0.01562251, -0.0002436712, -0.012509028, 0.00022946422, 0.028820362, -0.00077234296, 0.0052006147, -0.015539851, -0.00689512, 0.029894926, -0.00814189, -0.00084897457, -0.007852584, -0.0204856, -0.014740815, 0.017799191, 0.018336473, -0.009092466, 0.006147747, -0.004880312, 0.0019304269, -0.002791456, 0.0015808492, -0.007604608, -0.034027863, -0.01445151, -0.020912671, -0.012350599, 0.012536582, 0.0042121536, 0.0075081727, -0.01016703, 0.028544832, -0.007039773, 0.018873755, 0.014603051, 0.008389866, -0.01379024, 0.025445128, -0.014189757, -0.0019252608, 0.027277397, -0.013831569, -0.03474424, -0.024370564, 0.03022556, 0.022042342, 0.004880312, 0.005352156, 0.024714975, 0.0015662117, 0.0041122744, -0.006867567, -0.023282222, -0.02536247, -0.008624066, 0.001069398, 0.008458748, -0.019535026, 0.00522128, 0.0035508834, 0.013418275, -0.0097261835, -0.03923537, -0.012633017, 0.00880316, 0.008052343, 0.012715676, 0.0011503347, -0.0031341454, -0.011785764, -0.011792652, -0.013266734, 0.017358344, -0.0057723382, -0.026726339, 0.005379709, 0.004959527, -0.004501459, 0.001992421, 0.0044807945, -0.037031133, -0.00055364164, -0.045324564, -0.0126605695, -0.017013932, 0.032705326, 0.011172712, -0.023048023, -0.030170456, -0.02240053, -0.048851337, -0.009216454, 0.012715676, 0.005951432, 0.04265193, -0.01179954, -0.010807635, 0.0050077443, -0.034055416, -0.012150841, -0.0011770265, 0.0032546895, 0.0015429639, -0.0066436995, 0.017275685, -0.008754943, -0.022579623, -0.011220929, 0.0067573553, 0.008913372, 0.006867567, -0.019796778, -0.0077285958, 0.011524011, 0.011103829, 0.009319778, 0.010917847, 0.015512298, -0.001785774, -0.025183374, -0.0062372936, 0.011517123, -0.016228674, -0.008658507, -0.010256577, -0.0050318534, -0.02099533, 0.007022552, -0.009244007, -0.0064714937, -0.006988111, -0.006006538, 0.03719645, -0.029454079, 0.012880993, 0.025210928, 0.011014283, -0.003977954, -0.0062820674, 0.016545532, -0.02450833, -0.0009144127, 0.016421543, -0.018364025, 0.022042342, 0.010456336, 0.029536737, -0.005083515, -0.009829506, -0.015663838, -0.016187344, -0.002820731, 0.01125537, 0.01647665, 0.0051420648, -0.018240038, -0.0105665475, 0.010780082, -0.01379024, -0.016338885, 0.0012329934, -0.0065817055, 0.004656445, 0.0216566, 0.010855854, -0.015167886, 0.00049595267, 0.019700343, -0.011076276, -0.008438083, 0.22185616, 0.0072395313, 0.013989999, 0.028269302, -0.0094437655, 0.0039090714, 0.012646793, 0.01604958, -0.016697073, 0.020926448, -0.008506966, 0.012605464, -0.024866516, -0.0023385547, 0.014630604, -0.016641967, -0.03824346, -0.031768523, -0.012970541, -0.02909589, 0.019411037, -0.0068469024, -0.015016345, -0.0102428, 0.027098304, 0.016504204, -0.016531756, -0.011007395, 0.021408623, -0.010449448, -0.006264847, 0.0032908528, -0.014851027, 0.008431195, 0.009071801, 0.0034406716, 0.03198895, -0.002052693, 0.008417419, -0.0002496984, 0.008073008, -0.0037127568, -0.004194933, -0.0026691898, -0.006333729, 0.020416718, -0.0039090714, -0.011840871, 0.0034957775, 0.01822626, -0.021312188, -0.0069157844, 0.045710307, 0.02274494, -0.009491983, -0.0041191624, -0.013376946, 0.0054899207, -0.009264671, 0.048603363, -0.025348693, 0.023750624, 0.005059406, 0.02240053, -0.0043223654, -0.010263465, -0.0074255136, 0.0061752996, -0.006784908, -0.022125, 0.010483889, -0.0050490736, -0.011034947, 0.0057206764, -0.016738404, -0.01538831, 0.012054405, 0.012281717, 0.010208359, 0.019314602, 0.003335626, 0.016063357, 0.016614415, -0.017620096, -0.0038746302, -0.03945579, 0.020747354, -0.005176506, -0.016614415, -0.023378659, -0.0088927075, -0.0010254855, -0.019686567, -0.0021267415, 0.008851377, -0.018047167, -0.008775607, 0.024053706, -0.008031678, 0.020499377, -0.009981047, -0.009850171, 0.034386054, 0.0204856, -0.0029223324, -0.009292224, 0.007935243, 0.006826238, 0.01862578, -0.010511441, 0.0062958435, -0.0207198, -0.0036197656, -0.0025761987, 0.0083278725, 0.023433764, -0.0057723382, -0.025693104, 0.017771637, 0.010559659, -0.025968634, -0.01912173, -0.0075632785, 0.018667107, -0.020306507, -0.01760632, -0.044002023, -0.0045944504, -0.021684153, -0.014547945, 0.007969684, 0.015470969, 0.0084656365, -0.0047942093, -0.0137833515, -0.020361613, -0.01417598, -0.013197852, 0.019176837, -0.005086959, -0.018653331, 0.009884613, 0.019190613, -0.0043809153, -0.0007215423, -0.012743228, 0.010738753, 0.012412594, -0.00845186, -0.014465286, -0.009002918, 0.016697073, -0.013342504, -0.0026984648, 0.028655043, -0.01585671, -0.014795922, -0.019163061, 0.0015455469, 0.0116824405, -0.029426526, 0.014134651, 0.05328736, -0.0032684659, -0.006898564, -0.03876697, -0.17854297, -0.00042922294, 0.021077989, -0.020182518, 0.019851884, 0.006092641, 0.021339742, 0.0018649887, -0.0008580154, -0.0050387415, -0.007873249, 0.0062338496, -0.021174423, -0.0072188666, -0.008169442, 0.007990349, -0.024604764, 0.016035803, 0.049264632, 0.02127086, 0.0092991125, -0.026065068, 0.012219723, 0.006657476, -0.020196294, 0.022579623, 0.0010280686, 0.017854296, -0.020830013, -0.028847914, 0.0022851708, 0.028407067, 0.019466143, -0.009712406, 0.015470969, -0.00013378238, -0.017537437, 0.00065954815, -0.02871015, 0.0076597137, 0.029150996, 0.011524011, 0.0048975325, -0.0034389496, -0.0019786446, 0.031134807, 0.039373133, -0.023309777, -0.022703612, -0.014107099, -0.00012420343, -0.047969647, 0.0056035765, 0.001875321, -0.0067056934, 0.0063750586, 0.016917497, 0.021064213, -0.01044256, 0.009154459, -0.0048424266, -0.010731865, 0.02621661, 0.0048355386, -0.014520393, -0.041880447, -0.017757861, 0.004845871, -0.013197852, 0.015099004, -0.020416718, -0.0011339751, 0.00012452631, -0.014396404, -0.005944544, 0.016586863, -0.016931273, 0.020237625, -0.00024130337, 0.008438083, -0.008858266, 0.028048879, -0.009746848, 0.008362313, -0.007487508, 0.009471319, 0.015705168, 0.020582037, -0.007921467, -0.009753736, -2.7563017e-06, -0.025596669, 0.0012381596, -0.011985523, 0.018749766, 0.011220929, 0.02076113, 0.014423957, 0.0021198534, -0.009829506, 0.017082814, -0.0023643854, -0.009981047, 0.008658507, 0.04273459, 0.019273272, -0.0073704077, 0.02216633, 0.037802614, -0.0022662282, -0.048989102, 0.026767667, 0.024962952, 0.012743228, -0.014561722, 0.013714469, 0.014713263, -0.018198708, -0.0074668434, -0.0239986, 0.035185087, -0.0059720967, 0.013032534, -0.0023041135, 0.005620797, -0.007225755, -0.11539166, -0.027993774, 0.01799206, 0.0037058687, -0.011096941, 0.032870643, -0.012591687, 0.0007998959, -0.006977779, 0.024081258, -0.025321139, -0.018005837, 0.00469433, -0.0013406221, 0.0052488325, -0.00046883026, 0.0115446765, -0.01289477, -0.047308374, 0.010270353, -0.010511441, -0.006829682, -0.012295494, -0.009395548, -0.008706725, 0.0032753542, -0.017744085, 0.011310477, 0.012867217, 0.01835025, 0.0077699255, -0.004604783, 0.0207198, -0.02372307, 0.017303238, -0.028544832, -0.002378162, -0.0055450266, 0.018556897, -0.03369723, -0.0042603714, 0.014988792, 0.025830869, -0.026161503, -0.001010848, -0.008444972, -0.023902165, 0.015539851, 0.011248482, -0.019094178, -0.023902165, -0.0014353353, -0.0062923995, -0.02835196, 0.024742529, -0.02500428, 0.010153254, 0.019838108, -0.008810048, -0.016228674, -0.0030842058, -0.017482333, 0.006161523, -0.026547246, 0.02274494, 0.011868423, -0.0062235175, -0.005803335, 0.008637843, -0.008734277, -0.018474238, 0.017468555, -0.019466143, 0.008245213, 0.0063509494, -0.026767667, -0.00806612, 0.007253308, 0.012433258, 0.0018959858, -0.021518836, -0.025968634, -0.007397961, 2.798344e-05, 0.015222992, -0.0026399149, -0.0054727, 0.020664696, -0.004866536, -0.033339042, 0.011076276, 0.006457717, 0.026946763, -0.010173918, -0.0076252725, 0.007811255, 0.0088789305, -0.0083278725, -0.026437033, 0.009822618, -0.03653518, 0.009361107, -0.05441703, 0.0055484707, 0.0046908855, -0.020320283, -0.008555184, -0.00927156, -0.008637843, -0.010187695, -0.023240894, -0.012818999, -0.049099315, 0.013686916, -0.010043042, -0.015594956, -0.009795065, -0.013941781, 0.026919208, 0.000773204, 0.0074668434, 0.015636286, 0.0060788644, -0.004911309, -0.0062338496, -0.026932986, -0.009540201, -0.006154635, -0.0352953, 0.03700358, -0.009829506, -0.0405028, 0.008348537, -0.011889088, 0.017785415, 0.006988111, -0.0060547558, 0.008975366, -0.0062304055, 0.017633874, 0.02201479, 0.046757318, -0.020210072, -0.018322697, 0.0088927075, -0.0055071414, 0.0011520567, 0.007315302, 0.016724626, 0.0014783867, 0.020017201, 0.021174423, 0.024687422, 0.004701218, -0.029288761, -0.023337329, -0.0023884943, -0.019714119, 0.015291874, -0.0021250194, -0.00069226726, -0.0041467156, 0.031024596, 0.005596688, -0.0016901998, -0.010662982, 0.01854312, -0.034689136, -0.0040502804, -0.003123813, 0.0038608538, -0.018432908, -0.012336823, -0.004194933, 0.029150996, 0.021725483, 0.022042342, -0.010711201, -0.006361282, -0.018804872, 0.0008244352, 0.016173568, -0.009712406, -0.00020589355, -0.00012571023, 0.033669677, 0.044084683, -0.0021784033, 0.0008597374, 0.010511441, -0.023158235, 0.01671085, 0.007666602, -0.010780082, -0.0028121206, -0.00806612, 0.016352663, -0.003626654, -0.0044704624, 0.024962952, -0.003004991, 0.0063991672, 0.0118822, 0.012467699, 0.0005390041, -0.031906288, -0.026795221, 0.010332348, -0.009671077, -0.018956413, 0.0025142045, 0.013976222, 0.011406912, -0.009092466, 0.006371614, 0.0151816625, -0.036204547, 0.026381927, -0.013521599, -0.023709293, -0.022992916, 0.021904577, 0.020154966, 0.021449953, 0.03220937, -0.0127983345, -0.0028896132, 0.033339042, 0.01741345, 0.0086034015, -0.0083278725, -0.022648506, 0.00048648135, -0.007831919, -0.008989142, -0.01195797, -0.0061752996, -0.011916641, 0.009340442, 0.021133095, -0.0067366906, 0.061883874, 0.007811255, 0.0041088304, -0.007432402, -0.01332184, 0.015663838, 0.017936956, 0.004339586, 0.007019108, -0.028792808, 0.028048879, 0.00011763808, 0.009175125, -0.05309449, -0.020196294, 0.0055622472, -0.021325964, 0.036204547, -0.022441858, 0.0034510042, 0.023750624, 0.0065231556, 0.011455129, -0.008300319, -0.018763542, -0.003802304, 0.007074214, 0.010036154, -0.015718944, -0.036397416, -0.0111176055, 0.0018908196, -0.03116236, -0.028269302, -0.0017100035, 0.0067917965, -0.00060185924, -0.022910258, 0.020389166, -0.0041811564, -0.034110524, 0.005889438, -0.017124144, -0.028379515, -0.00055450265, 0.0012743229, -0.024287906, -0.003302907, -0.041191626], metadata={'file_path': 'data/paul_graham_essay.txt', 'file_name': 'paul_graham_essay.txt', 'file_type': 'text/plain', 'file_size': 75042, 'creation_date': '2024-02-14', 'last_modified_date': '2024-02-14', 'last_accessed_date': '2024-02-14'}, excluded_embed_metadata_keys=['file_name', 'file_type', 'file_size', 'creation_date', 'last_modified_date', 'last_accessed_date'], excluded_llm_metadata_keys=['file_name', 'file_type', 'file_size', 'creation_date', 'last_modified_date', 'last_accessed_date'], relationships={<NodeRelationship.SOURCE: '1'>: RelatedNodeInfo(node_id='42c51cb1-85f4-4a4f-84e4-c829296754bc', node_type=<ObjectType.DOCUMENT: '4'>, metadata={'file_path': 'data/paul_graham_essay.txt', 'file_name': 'paul_graham_essay.txt', 'file_type': 'text/plain', 'file_size': 75042, 'creation_date': '2024-02-14', 'last_modified_date': '2024-02-14', 'last_accessed_date': '2024-02-14'}, hash='746410e6a689bb2dd78ff84d5e20df45dc089e7ac1c5a39c0de5f9a7eb45587f'), <NodeRelationship.PREVIOUS: '2'>: RelatedNodeInfo(node_id='d2e8aef9-767a-470f-9df1-1488f0bc0582', node_type=<ObjectType.TEXT: '1'>, metadata={'file_path': 'data/paul_graham_essay.txt', 'file_name': 'paul_graham_essay.txt', 'file_type': 'text/plain', 'file_size': 75042, 'creation_date': '2024-02-14', 'last_modified_date': '2024-02-14', 'last_accessed_date': '2024-02-14'}, hash='5546bfbe08c69dd53ccc307e1715aa575f4679e22c610dfe8f60058e15483389'), <NodeRelationship.NEXT: '3'>: RelatedNodeInfo(node_id='e36829ae-f2f0-4ca6-b06d-5b51d482f14a', node_type=<ObjectType.TEXT: '1'>, metadata={}, hash='f3a3f08a496f960f1bfd346e0ffe0826a77d42805975e29f6f3dae7e06478e65')}, text='Now when I walked past charming little restaurants I could go in and order lunch. It was exciting for a while. Painting started to go better. I experimented with a new kind of still life where I\\'d paint one painting in the old way, then photograph it and print it, blown up, on canvas, and then use that as the underpainting for a second still life, painted from the same objects (which hopefully hadn\\'t rotted yet).\\n\\nMeanwhile I looked for an apartment to buy. Now I could actually choose what neighborhood to live in. Where, I asked myself and various real estate agents, is the Cambridge of New York? Aided by occasional visits to actual Cambridge, I gradually realized there wasn\\'t one. Huh.\\n\\nAround this time, in the spring of 2000, I had an idea. It was clear from our experience with Viaweb that web apps were the future. Why not build a web app for making web apps? Why not let people edit code on our server through the browser, and then host the resulting applications for them? [9] You could run all sorts of services on the servers that these applications could use just by making an API call: making and receiving phone calls, manipulating images, taking credit card payments, etc.\\n\\nI got so excited about this idea that I couldn\\'t think about anything else. It seemed obvious that this was the future. I didn\\'t particularly want to start another company, but it was clear that this idea would have to be embodied as one, so I decided to move to Cambridge and start it. I hoped to lure Robert into working on it with me, but there I ran into a hitch. Robert was now a postdoc at MIT, and though he\\'d made a lot of money the last time I\\'d lured him into working on one of my schemes, it had also been a huge time sink. So while he agreed that it sounded like a plausible idea, he firmly refused to work on it.\\n\\nHmph. Well, I\\'d do it myself then. I recruited Dan Giffin, who had worked for Viaweb, and two undergrads who wanted summer jobs, and we got to work trying to build what it\\'s now clear is about twenty companies and several open source projects worth of software. The language for defining applications would of course be a dialect of Lisp. But I wasn\\'t so naive as to assume I could spring an overt Lisp on a general audience; we\\'d hide the parentheses, like Dylan did.\\n\\nBy then there was a name for the kind of company Viaweb was, an \"application service provider,\" or ASP. This name didn\\'t last long before it was replaced by \"software as a service,\" but it was current for long enough that I named this new company after it: it was going to be called Aspra.\\n\\nI started working on the application builder, Dan worked on network infrastructure, and the two undergrads worked on the first two services (images and phone calls). But about halfway through the summer I realized I really didn\\'t want to run a company — especially not a big one, which it was looking like this would have to be. I\\'d only started Viaweb because I needed the money. Now that I didn\\'t need money anymore, why was I doing this? If this vision had to be realized as a company, then screw the vision. I\\'d build a subset that could be done as an open source project.\\n\\nMuch to my surprise, the time I spent working on this stuff was not wasted after all. After we started Y Combinator, I would often encounter startups working on parts of this new architecture, and it was very useful to have spent so much time thinking about it and even trying to write some of it.\\n\\nThe subset I would build as an open source project was the new Lisp, whose parentheses I now wouldn\\'t even have to hide. A lot of Lisp hackers dream of building a new Lisp, partly because one of the distinctive features of the language is that it has dialects, and partly, I think, because we have in our minds a Platonic form of Lisp that all existing dialects fall short of. I certainly did. So at the end of the summer Dan and I switched to working on this new dialect of Lisp, which I called Arc, in a house I bought in Cambridge.\\n\\nThe following spring, lightning struck. I was invited to give a talk at a Lisp conference, so I gave one about how we\\'d used Lisp at Viaweb. Afterward I put a postscript file of this talk online, on paulgraham.com, which I\\'d created years before using Viaweb but had never used for anything. In one day it got 30,000 page views. What on earth had happened?', start_char_idx=38943, end_char_idx=43296, text_template='{metadata_str}\\n\\n{content}', metadata_template='{key}: {value}', metadata_seperator='\\n')"
      ]
     },
     "execution_count": 16,
     "metadata": {},
     "output_type": "execute_result"
    }
   ],
   "source": [
    "response.source_nodes[0].node"
   ]
  },
  {
   "cell_type": "code",
   "execution_count": 17,
   "metadata": {},
   "outputs": [
    {
     "ename": "KeyError",
     "evalue": "'window'",
     "output_type": "error",
     "traceback": [
      "\u001b[0;31m---------------------------------------------------------------------------\u001b[0m",
      "\u001b[0;31mKeyError\u001b[0m                                  Traceback (most recent call last)",
      "Cell \u001b[0;32mIn[17], line 1\u001b[0m\n\u001b[0;32m----> 1\u001b[0m window \u001b[38;5;241m=\u001b[39m \u001b[43mresponse\u001b[49m\u001b[38;5;241;43m.\u001b[39;49m\u001b[43msource_nodes\u001b[49m\u001b[43m[\u001b[49m\u001b[38;5;241;43m0\u001b[39;49m\u001b[43m]\u001b[49m\u001b[38;5;241;43m.\u001b[39;49m\u001b[43mnode\u001b[49m\u001b[38;5;241;43m.\u001b[39;49m\u001b[43mmetadata\u001b[49m\u001b[43m[\u001b[49m\u001b[38;5;124;43m\"\u001b[39;49m\u001b[38;5;124;43mwindow\u001b[39;49m\u001b[38;5;124;43m\"\u001b[39;49m\u001b[43m]\u001b[49m\n\u001b[1;32m      2\u001b[0m sentence \u001b[38;5;241m=\u001b[39m response\u001b[38;5;241m.\u001b[39msource_nodes[\u001b[38;5;241m0\u001b[39m]\u001b[38;5;241m.\u001b[39mnode\u001b[38;5;241m.\u001b[39mmetadata[\u001b[38;5;124m\"\u001b[39m\u001b[38;5;124moriginal_text\u001b[39m\u001b[38;5;124m\"\u001b[39m]\n\u001b[1;32m      4\u001b[0m \u001b[38;5;28mprint\u001b[39m(\u001b[38;5;124mf\u001b[39m\u001b[38;5;124m\"\u001b[39m\u001b[38;5;124mWindow: \u001b[39m\u001b[38;5;132;01m{\u001b[39;00mwindow\u001b[38;5;132;01m}\u001b[39;00m\u001b[38;5;124m\"\u001b[39m)\n",
      "\u001b[0;31mKeyError\u001b[0m: 'window'"
     ]
    }
   ],
   "source": [
    "window = response.source_nodes[0].node.metadata[\"window\"]\n",
    "sentence = response.source_nodes[0].node.metadata[\"original_text\"]\n",
    "\n",
    "print(f\"Window: {window}\")\n",
    "print(\"------------------\")\n",
    "print(f\"Original Sentence: {sentence}\")"
   ]
  },
  {
   "cell_type": "markdown",
   "metadata": {},
   "source": [
    "# References\n",
    "* [Llamaindex docs: Weaviate Vector Store](https://docs.llamaindex.ai/en/stable/examples/vector_stores/WeaviateIndexDemo.html)\n",
    "* [LlamaIndex docs: Metadata Replacement + Node Sentence Window](https://docs.llamaindex.ai/en/stable/examples/node_postprocessor/MetadataReplacementDemo.html)"
   ]
  }
 ],
 "metadata": {
  "kernelspec": {
   "display_name": "Python 3 (ipykernel)",
   "language": "python",
   "name": "python3"
  },
  "language_info": {
   "codemirror_mode": {
    "name": "ipython",
    "version": 3
   },
   "file_extension": ".py",
   "mimetype": "text/x-python",
   "name": "python",
   "nbconvert_exporter": "python",
   "pygments_lexer": "ipython3",
   "version": "3.11.6"
  }
 },
 "nbformat": 4,
 "nbformat_minor": 2
}
