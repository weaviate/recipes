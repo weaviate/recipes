{
 "cells": [
  {
   "cell_type": "markdown",
   "id": "3fb023b1",
   "metadata": {},
   "source": [
    "[![Open In Colab](https://colab.research.google.com/assets/colab-badge.svg)](https://colab.research.google.com/github/weaviate/recipes/blob/main/integrations/data-platforms/spark/spark-connector.ipynb)"
   ]
  },
  {
   "cell_type": "markdown",
   "id": "3d310b37-3f67-45cb-aec6-61a39f6071d8",
   "metadata": {},
   "source": [
    "# ⚡ Using the Spark Connector for Weaviate\n",
    "Welcome to this recipe notebook! \n",
    "\n",
    "Here, we'll walk you through a small example how you can take data from a Spark Dataframe and feed it into Weaviate.\n",
    "\n",
    "Virtual Environment and Dependencies:\n",
    "To ensure smooth execution and prevent potential conflicts with your global Python environment, we recommend running the code in a virtual environment. Later in this notebook, we'll guide you through setting up this environment and installing the necessary dependencies.\n",
    "\n",
    "With these points in mind, let's get started!\n",
    "\n",
    "## Dependencies\n",
    "Before proceeding with the notebook content, it's essential to set up an isolated Python environment. This helps avoid any potential package conflicts and ensures that you have a clean workspace.\n",
    "\n",
    "**You will also need Java 8+ and Scala 2.12 installed.**\n",
    "\n",
    "## Virtual Environment Setup:\n",
    "If you haven't created a virtual environment before, here's how you can do it:\n",
    "\n",
    "Using `virtualenv`:\n",
    "```bash\n",
    "pip install virtualenv\n",
    "python -m virtualenv venv\n",
    "```\n",
    "\n",
    "Using `venv` (built-in with Python 3.3+):\n",
    "\n",
    "```bash\n",
    "python -m venv venv\n",
    "```\n",
    "\n",
    "After creating the virtual environment, you need to activate it:\n",
    "\n",
    "Windows:\n",
    "```bash\n",
    ".\\venv\\Scripts\\activate\n",
    "```\n",
    "macOS and Linux:\n",
    "```bash\n",
    "source venv/bin/activate\n",
    "```\n",
    "\n",
    "## Installing Dependencies:\n",
    "With the virtual environment active, run the following code to install all the required dependencies for this notebook:\n",
    "\n",
    "**Please note that you will also need Java 8+ and Scala 2.12 installed.**"
   ]
  },
  {
   "cell_type": "code",
   "execution_count": null,
   "id": "b3507021-a97e-49fd-b02d-37f87eef8699",
   "metadata": {},
   "outputs": [],
   "source": [
    "!python -m pip install weaviate-client==3.25.3, pyspark==3.5.0"
   ]
  },
  {
   "cell_type": "markdown",
   "id": "45a0deb5-aebc-495b-ad48-ce7e61d20ecf",
   "metadata": {},
   "source": [
    "## Obtain the JAR File that is used to build the Spark Connector\n",
    "\n",
    "You can obtain the latest JAR file at this [link](https://github.com/weaviate/spark-connector/releases/latest). Download and place the JAR file in this repository"
   ]
  },
  {
   "cell_type": "markdown",
   "id": "cb1e2ebb-ec6b-4fa1-ba46-c430628a6196",
   "metadata": {},
   "source": [
    "## Start the Spark Session"
   ]
  },
  {
   "cell_type": "code",
   "execution_count": 1,
   "id": "93386e1d-f148-4fb5-9d95-3184da59450e",
   "metadata": {},
   "outputs": [],
   "source": [
    "from pyspark.sql import SparkSession\n",
    "import os, json\n",
    "import warnings\n",
    "warnings.filterwarnings('ignore')"
   ]
  },
  {
   "cell_type": "code",
   "execution_count": 2,
   "id": "7f04bc31-9eab-4609-9225-b50962007cd3",
   "metadata": {},
   "outputs": [
    {
     "name": "stderr",
     "output_type": "stream",
     "text": [
      "23/12/09 01:11:12 WARN NativeCodeLoader: Unable to load native-hadoop library for your platform... using builtin-java classes where applicable\n",
      "Setting default log level to \"WARN\".\n",
      "To adjust logging level use sc.setLogLevel(newLevel). For SparkR, use setLogLevel(newLevel).\n"
     ]
    }
   ],
   "source": [
    "spark = (\n",
    "    SparkSession.builder.config(\n",
    "        \"spark.jars\",\n",
    "        \"spark-connector-assembly-1.3.1.jar\",\n",
    "    )\n",
    "    .master(\"local[*]\")\n",
    "    .appName(\"weaviate\")\n",
    "    .getOrCreate()\n",
    ")\n",
    "\n",
    "\n",
    "spark.sparkContext.setLogLevel(\"WARN\")"
   ]
  },
  {
   "cell_type": "code",
   "execution_count": 3,
   "id": "5b9c936a-2a20-4b90-9c67-217a4c46a177",
   "metadata": {},
   "outputs": [
    {
     "data": {
      "text/html": [
       "\n",
       "            <div>\n",
       "                <p><b>SparkSession - in-memory</b></p>\n",
       "                \n",
       "        <div>\n",
       "            <p><b>SparkContext</b></p>\n",
       "\n",
       "            <p><a href=\"http://10.0.0.211:4040\">Spark UI</a></p>\n",
       "\n",
       "            <dl>\n",
       "              <dt>Version</dt>\n",
       "                <dd><code>v3.5.0</code></dd>\n",
       "              <dt>Master</dt>\n",
       "                <dd><code>local[*]</code></dd>\n",
       "              <dt>AppName</dt>\n",
       "                <dd><code>weaviate</code></dd>\n",
       "            </dl>\n",
       "        </div>\n",
       "        \n",
       "            </div>\n",
       "        "
      ],
      "text/plain": [
       "<pyspark.sql.session.SparkSession at 0x1124afc10>"
      ]
     },
     "execution_count": 3,
     "metadata": {},
     "output_type": "execute_result"
    }
   ],
   "source": [
    "spark"
   ]
  },
  {
   "cell_type": "code",
   "execution_count": 4,
   "id": "c11f161c-8134-468e-b2a9-4b2d6063010c",
   "metadata": {},
   "outputs": [
    {
     "name": "stderr",
     "output_type": "stream",
     "text": [
      "                                                                                \r"
     ]
    }
   ],
   "source": [
    "df = spark.read.json('tiny_Jeopardy.json')"
   ]
  },
  {
   "cell_type": "code",
   "execution_count": 5,
   "id": "ef1a070a-601c-4e35-9cec-268a48d1d5cc",
   "metadata": {},
   "outputs": [
    {
     "name": "stdout",
     "output_type": "stream",
     "text": [
      "+--------------------+--------+--------------------+\n",
      "|              Answer|Category|            Question|\n",
      "+--------------------+--------+--------------------+\n",
      "|               Liver| SCIENCE|This organ remove...|\n",
      "|            Elephant| ANIMALS|It's the only liv...|\n",
      "|   the nose or snout| ANIMALS|The gavial looks ...|\n",
      "|            Antelope| ANIMALS|Weighing around a...|\n",
      "|the diamondback r...| ANIMALS|Heaviest of all p...|\n",
      "|             species| SCIENCE|2000 news: the Gu...|\n",
      "|                wire| SCIENCE|A metal that is d...|\n",
      "|                 DNA| SCIENCE|In 1953 Watson & ...|\n",
      "|      the atmosphere| SCIENCE|Changes in the tr...|\n",
      "|       Sound barrier| SCIENCE|In 70-degree air,...|\n",
      "+--------------------+--------+--------------------+\n",
      "\n"
     ]
    }
   ],
   "source": [
    "df.show()"
   ]
  },
  {
   "cell_type": "markdown",
   "id": "e140f812-221c-4ee1-93a7-1bb5d64a8286",
   "metadata": {},
   "source": [
    "## Initialize Weaviate Instance\n",
    "\n",
    "Here we will:\n",
    "- Create the Weaviate Client\n",
    "- Define the Schema"
   ]
  },
  {
   "cell_type": "code",
   "execution_count": 6,
   "id": "4fcc857f-a139-4ff6-bca0-708b591f2bc2",
   "metadata": {},
   "outputs": [
    {
     "name": "stdout",
     "output_type": "stream",
     "text": [
      "Started /Users/zainhasan/.cache/weaviate-embedded: process ID 11789\n"
     ]
    },
    {
     "name": "stderr",
     "output_type": "stream",
     "text": [
      "{\"action\":\"startup\",\"default_vectorizer_module\":\"none\",\"level\":\"info\",\"msg\":\"the default vectorizer modules is set to \\\"none\\\", as a result all new schema classes without an explicit vectorizer setting, will use this vectorizer\",\"time\":\"2023-12-09T01:11:46-05:00\"}\n",
      "{\"action\":\"startup\",\"auto_schema_enabled\":true,\"level\":\"info\",\"msg\":\"auto schema enabled setting is set to \\\"true\\\"\",\"time\":\"2023-12-09T01:11:46-05:00\"}\n",
      "{\"action\":\"hnsw_vector_cache_prefill\",\"count\":3000,\"index_id\":\"article_ep5yZpA4vsfT\",\"level\":\"info\",\"limit\":1000000000000,\"msg\":\"prefilled vector cache\",\"time\":\"2023-12-09T01:11:47-05:00\",\"took\":661500}\n",
      "{\"action\":\"hnsw_vector_cache_prefill\",\"count\":3000,\"index_id\":\"jeopardy_I7Kbovb9KTXv\",\"level\":\"info\",\"limit\":1000000000000,\"msg\":\"prefilled vector cache\",\"time\":\"2023-12-09T01:11:47-05:00\",\"took\":44125}\n",
      "{\"level\":\"warning\",\"msg\":\"Multiple vector spaces are present, GraphQL Explore and REST API list objects endpoint module include params has been disabled as a result.\",\"time\":\"2023-12-09T01:11:47-05:00\"}\n",
      "{\"action\":\"grpc_startup\",\"level\":\"info\",\"msg\":\"grpc server listening at [::]:50060\",\"time\":\"2023-12-09T01:11:47-05:00\"}\n",
      "{\"action\":\"restapi_management\",\"level\":\"info\",\"msg\":\"Serving weaviate at http://127.0.0.1:8079\",\"time\":\"2023-12-09T01:11:47-05:00\"}\n"
     ]
    },
    {
     "data": {
      "text/plain": [
       "True"
      ]
     },
     "execution_count": 6,
     "metadata": {},
     "output_type": "execute_result"
    }
   ],
   "source": [
    "import weaviate\n",
    "from weaviate.embedded import EmbeddedOptions\n",
    "\n",
    "client = weaviate.Client(\n",
    "        embedded_options=weaviate.embedded.EmbeddedOptions(),\n",
    "        additional_headers={'X-OpenAI-Api-Key': os.environ[\"OPENAI_API_KEY\"]}\n",
    ")\n",
    "\n",
    "client.is_ready()"
   ]
  },
  {
   "cell_type": "code",
   "execution_count": 7,
   "id": "ffaad88d-d699-4140-aa58-c91da8ddc858",
   "metadata": {},
   "outputs": [
    {
     "name": "stderr",
     "output_type": "stream",
     "text": [
      "{\"action\":\"hnsw_vector_cache_prefill\",\"count\":1000,\"index_id\":\"jeopardy_nOUABh0TzMfQ\",\"level\":\"info\",\"limit\":1000000000000,\"msg\":\"prefilled vector cache\",\"time\":\"2023-12-09T01:11:49-05:00\",\"took\":62333}\n"
     ]
    }
   ],
   "source": [
    "if client.schema.exists(\"Jeopardy\"):\n",
    "    client.schema.delete_class(\"Jeopardy\")\n",
    "\n",
    "client.schema.create_class(\n",
    "    {\n",
    "        \"class\": \"Jeopardy\",\n",
    "        \"properties\": [\n",
    "            {\"name\": \"Answer\", \"dataType\": [\"string\"]},\n",
    "            {\"name\": \"Category\", \"dataType\": [\"string\"]},\n",
    "            {\"name\": \"Question\", \"dataType\": [\"string\"]},\n",
    "            ],\n",
    "        \"vectorizer\": \"text2vec-openai\",\n",
    "    }\n",
    ")"
   ]
  },
  {
   "cell_type": "markdown",
   "id": "62e0e4ce-4fdc-48bf-b689-a3a7d7afbf6a",
   "metadata": {},
   "source": [
    "## Move data from Spark to Weaviate"
   ]
  },
  {
   "cell_type": "code",
   "execution_count": 8,
   "id": "fb2235a3-9d93-4165-a6d8-33bab708538a",
   "metadata": {},
   "outputs": [
    {
     "name": "stderr",
     "output_type": "stream",
     "text": [
      "                                                                                \r"
     ]
    }
   ],
   "source": [
    "df.write.format(\"io.weaviate.spark.Weaviate\") \\\n",
    "    .option(\"batchSize\", 200) \\\n",
    "    .option(\"scheme\", \"http\") \\\n",
    "    .option(\"host\", \"localhost:8079\") \\\n",
    "    .option(\"header:X-OpenAI-Api-Key\", os.getenv(\"OPENAI_API_KEY\")) \\\n",
    "    .option(\"className\", \"Jeopardy\") \\\n",
    "    .mode(\"append\").save()"
   ]
  },
  {
   "cell_type": "markdown",
   "id": "fad9577a-d736-4f41-a6f7-9e0d2f20cec8",
   "metadata": {},
   "source": [
    "## Verify data has been written and query Weaviate"
   ]
  },
  {
   "cell_type": "code",
   "execution_count": 9,
   "id": "06bc9ff6-eadc-4db9-8fc6-78902a8dca6e",
   "metadata": {},
   "outputs": [
    {
     "name": "stdout",
     "output_type": "stream",
     "text": [
      "{\n",
      "  \"data\": {\n",
      "    \"Aggregate\": {\n",
      "      \"Jeopardy\": [\n",
      "        {\n",
      "          \"meta\": {\n",
      "            \"count\": 10\n",
      "          }\n",
      "        }\n",
      "      ]\n",
      "    }\n",
      "  }\n",
      "}\n"
     ]
    }
   ],
   "source": [
    "print(json.dumps(client.query.aggregate(\"Jeopardy\").with_meta_count().do(), indent=2))"
   ]
  },
  {
   "cell_type": "code",
   "execution_count": 10,
   "id": "eaa5a3b8-13f2-41aa-ada9-acab3d207022",
   "metadata": {},
   "outputs": [
    {
     "name": "stdout",
     "output_type": "stream",
     "text": [
      "{\n",
      "  \"data\": {\n",
      "    \"Get\": {\n",
      "      \"Jeopardy\": [\n",
      "        {\n",
      "          \"_additional\": {\n",
      "            \"distance\": 0.1876005\n",
      "          },\n",
      "          \"answer\": \"DNA\",\n",
      "          \"category\": \"SCIENCE\",\n",
      "          \"question\": \"In 1953 Watson & Crick built a model of the molecular structure of this, the gene-carrying substance\"\n",
      "        },\n",
      "        {\n",
      "          \"_additional\": {\n",
      "            \"distance\": 0.20415491\n",
      "          },\n",
      "          \"answer\": \"species\",\n",
      "          \"category\": \"SCIENCE\",\n",
      "          \"question\": \"2000 news: the Gunnison sage grouse isn't just another northern sage grouse, but a new one of this classification\"\n",
      "        }\n",
      "      ]\n",
      "    }\n",
      "  }\n",
      "}\n"
     ]
    }
   ],
   "source": [
    "response = (client.query\n",
    "            .get(\"Jeopardy\", ['question', 'answer','category'])\n",
    "            .with_near_text({\"concepts\": \"biology\"})\n",
    "            .with_additional(['distance'])\n",
    "            .with_limit(2)\n",
    "            .do()\n",
    ")\n",
    "\n",
    "print(json.dumps(response, indent=2))"
   ]
  }
 ],
 "metadata": {
  "kernelspec": {
   "display_name": "Python 3 (ipykernel)",
   "language": "python",
   "name": "python3"
  },
  "language_info": {
   "codemirror_mode": {
    "name": "ipython",
    "version": 3
   },
   "file_extension": ".py",
   "mimetype": "text/x-python",
   "name": "python",
   "nbconvert_exporter": "python",
   "pygments_lexer": "ipython3",
   "version": "3.11.5"
  }
 },
 "nbformat": 4,
 "nbformat_minor": 5
}
