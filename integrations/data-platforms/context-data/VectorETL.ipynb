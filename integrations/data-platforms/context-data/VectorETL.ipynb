{
 "cells": [
  {
   "cell_type": "markdown",
   "metadata": {},
   "source": [
    "[![Open In Colab](https://colab.research.google.com/assets/colab-badge.svg)](https://colab.research.google.com/github/weaviate/recipes/blob/main/integrations/data-platforms/context-data/VectorETL.ipynb)"
   ]
  },
  {
   "cell_type": "markdown",
   "metadata": {
    "id": "91PqByqKkXmV"
   },
   "source": [
    "![ContextDataDark.png](data:image/png;base64,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)\n",
    "\n",
    "Introducing VectorETL by [ContextData](https://contextdata.ai)\n",
    "\n",
    "VectorETL is a no-code framework which allows developers to easily:\n",
    "\n",
    "*   Extract data from multiple sources (e.g. Databases, Object storage, Operational Systems)\n",
    "*   Convert the data to vector embeddings\n",
    "*   Write the embeddings to all major vector databases (including Weaviate)\n",
    "\n",
    "...all using a config file\n",
    "\n",
    "For this demo, we're using Weaviate version `1.25.10`, Weaviate python client `4.7.1` and VectorETL `0.1.6.2`.\n",
    "\n",
    "Author: Jide Ogunjobi ([Twitter](https://x.com/jide_o1) | [LinkedIn](https://www.linkedin.com/in/jide-o-87602512/))\n",
    "\n",
    "Context Data: ([Website](https://contextdata.ai/) | [Twitter](https://x.com/1contextdata) | [LinkedIn](https://www.linkedin.com/company/1contextdata))\n",
    "\n"
   ]
  },
  {
   "cell_type": "code",
   "execution_count": null,
   "metadata": {
    "collapsed": true,
    "id": "dJIM15Og8AKA"
   },
   "outputs": [],
   "source": [
    "!pip install vector-etl --upgrade --quiet"
   ]
  },
  {
   "cell_type": "markdown",
   "metadata": {
    "id": "sQLs_1_Cmgao"
   },
   "source": [
    "The configuration file format requires\n",
    "\n",
    "1.   `source`: Specifies the data source details\n",
    "2.   `embedding`: Defines the embedding model to be used\n",
    "3.   `target`: Outlines the target vector database\n",
    "4.   `embed_columns`: Defines the columns that need to be embedded (mainly for structured data sources)\n",
    "\n",
    "Once you have the file configured, run the `vector-etl` command and pass the absolute path to your configuration file.\n",
    "\n",
    "**We have provided a sample configuration file for you. All you need to do is update the credentials and run the cell below.**\n",
    "\n",
    "See the examples directory for more sample configurations\n",
    "\n",
    "You can also view the documentation [here](https://vectoretl.contextdata.dev/configuration.html)\n",
    "\n",
    "<sub><sup>* Sample csv files retrieved from [here](https://github.com/datablist/sample-csv-files)</sup></sub>"
   ]
  },
  {
   "cell_type": "code",
   "execution_count": 4,
   "metadata": {
    "colab": {
     "base_uri": "https://localhost:8080/"
    },
    "id": "nb4c05ZfoZ9a",
    "outputId": "97dcf317-3360-4e1a-c5a3-4c57d49f8bda"
   },
   "outputs": [
    {
     "name": "stdout",
     "output_type": "stream",
     "text": [
      "/usr/local/lib/python3.10/dist-packages/pydantic/_internal/_config.py:341: UserWarning: Valid config keys have changed in V2:\n",
      "* 'allow_population_by_field_name' has been renamed to 'populate_by_name'\n",
      "* 'smart_union' has been removed\n",
      "  warnings.warn(message, UserWarning)\n",
      "INFO:vector_etl.orchestrator:Starting ETL process...\n",
      "INFO:vector_etl.orchestrator:Fetching data from Local File...\n",
      "INFO:vector_etl.source_mods.file_loader:Fetching data from files...\n",
      "INFO:vector_etl.source_mods.local_file:Listing files in . matching pattern customers-100.csv\n",
      "INFO:vector_etl.source_mods.local_file:Filename: .config\n",
      "INFO:vector_etl.source_mods.local_file:Filename: config.yaml\n",
      "INFO:vector_etl.source_mods.local_file:Filename: customers-100.csv\n",
      "INFO:vector_etl.source_mods.local_file:Filename: sample_data\n",
      "INFO:vector_etl.source_mods.local_file:Copying file(s) to local directory...\n",
      "INFO:vector_etl.source_mods.file_loader:Splitting dataframe into chunks...\n",
      "WARNING:vector_etl.source_mods.file_loader:Column 'text' not found in dataframe. Skipping splitting.\n",
      "INFO:vector_etl.orchestrator:Processing and embedding data...\n",
      "INFO:vector_etl.orchestrator:Splitting dataframe into chunks...\n",
      "INFO:vector_etl.embedding_mods.openai:Starting the OpenAI embedding process...\n",
      "INFO:httpx:HTTP Request: POST https://api.openai.com/v1/embeddings \"HTTP/1.1 200 OK\"\n",
      "INFO:vector_etl.embedding_mods.openai:Completed OpenAI embedding process.\n",
      "INFO:vector_etl.orchestrator:Writing data to Weaviate...\n",
      "INFO:vector_etl.target_mods.weaviate:Writing embeddings to Weaviate...\n",
      "INFO:vector_etl.target_mods.weaviate:Connecting to Weaviate...\n",
      "INFO:vector_etl.target_mods.weaviate:Connected to Weaviate successfully.\n",
      "INFO:vector_etl.target_mods.weaviate:Creating Weaviate class: customers\n",
      "INFO:vector_etl.target_mods.weaviate:Completed writing embeddings to Weaviate.\n",
      "INFO:vector_etl.orchestrator:ETL process completed successfully.\n"
     ]
    }
   ],
   "source": [
    "!vector-etl -c /path/to/config.yaml #make sure this is a full absolute path"
   ]
  },
  {
   "cell_type": "markdown",
   "metadata": {
    "id": "IsNkujYWIQHv"
   },
   "source": [
    "### **Data Retrieval**\n",
    "\n",
    "Now that the data has been written to the Weaviate Database, let's query the collection to confirm that the data was written correctly"
   ]
  },
  {
   "cell_type": "code",
   "execution_count": 5,
   "metadata": {
    "id": "z_5_bY2bFvpB"
   },
   "outputs": [],
   "source": [
    "import weaviate\n",
    "import yaml"
   ]
  },
  {
   "cell_type": "code",
   "execution_count": 9,
   "metadata": {
    "id": "NBK6GhQoGGpq"
   },
   "outputs": [],
   "source": [
    "#import the config file to a variable\n",
    "\n",
    "with open('/path/to/config.yaml', 'r') as file:\n",
    "  config = yaml.safe_load(file)"
   ]
  },
  {
   "cell_type": "code",
   "execution_count": 13,
   "metadata": {
    "id": "xtrgK7zUGTSl"
   },
   "outputs": [],
   "source": [
    "#Connect to the Weaviate cluster\n",
    "\n",
    "client = weaviate.Client(\n",
    "    url=config[\"target\"][\"weaviate_url\"],\n",
    "    auth_client_secret=weaviate.AuthApiKey(api_key=config[\"target\"][\"weaviate_api_key\"]),\n",
    "    additional_headers={\n",
    "        \"X-OpenAI-Api-Key\": config[\"embedding\"][\"api_key\"]\n",
    "    }\n",
    ")"
   ]
  },
  {
   "cell_type": "code",
   "execution_count": 19,
   "metadata": {
    "colab": {
     "base_uri": "https://localhost:8080/"
    },
    "id": "N6pW_OhqFQ2A",
    "outputId": "b6b1d30a-881f-45c2-cb72-e27a3fd20c8a"
   },
   "outputs": [
    {
     "data": {
      "text/plain": [
       "[{'email': 'chloelester@higgins-wilkinson.com',\n",
       "  'firstName': 'Kathleen',\n",
       "  'lastName': 'Mckay'},\n",
       " {'email': 'justinwalters@jimenez.com',\n",
       "  'firstName': 'Chad',\n",
       "  'lastName': 'Davidson'},\n",
       " {'email': 'kristiwhitney@bernard.com',\n",
       "  'firstName': 'Eddie',\n",
       "  'lastName': 'Jimenez'},\n",
       " {'email': 'blanchardbob@wallace-shannon.com',\n",
       "  'firstName': 'Kiara',\n",
       "  'lastName': 'Houston'},\n",
       " {'email': 'donnamullins@norris-barrett.org',\n",
       "  'firstName': 'Marcus',\n",
       "  'lastName': 'Moody'}]"
      ]
     },
     "execution_count": 19,
     "metadata": {},
     "output_type": "execute_result"
    }
   ],
   "source": [
    "#Query the Weaviate collection\n",
    "\n",
    "query_result = client.query.get(\"Customers\", [\"firstName\", \"lastName\", \"email\"]).with_limit(5).do()\n",
    "query_result['data']['Get']['Customers']"
   ]
  }
 ],
 "metadata": {
  "colab": {
   "provenance": []
  },
  "kernelspec": {
   "display_name": "Python 3",
   "name": "python3"
  },
  "language_info": {
   "name": "python"
  }
 },
 "nbformat": 4,
 "nbformat_minor": 0
}
