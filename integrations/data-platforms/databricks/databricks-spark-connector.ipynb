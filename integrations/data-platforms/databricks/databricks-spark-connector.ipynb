{
 "cells": [
  {
   "cell_type": "markdown",
   "metadata": {},
   "source": [
    "[![Open In Colab](https://colab.research.google.com/assets/colab-badge.svg)](https://colab.research.google.com/github/weaviate/recipes/blob/main/integrations/data-platforms/databricks/databricks-spark-connector.ipynb)"
   ]
  },
  {
   "cell_type": "markdown",
   "metadata": {},
   "source": [
    "# Databricks Spark Connector and Weaviate\n",
    "\n",
    "This notebook shows you how to ingest data from a Spark DataFrame into Weaviate.\n",
    "\n",
    "You'll learn how to:\n",
    "\n",
    "1. Load data from the Databricks Marketplace\n",
    "\n",
    "1. Ingest data into a Weaviate collection using the Weaviate Spark connector\n",
    "\n",
    "1. Run vector search, hybrid search, and generative search over your data"
   ]
  },
  {
   "cell_type": "markdown",
   "metadata": {
    "application/vnd.databricks.v1+cell": {
     "cellMetadata": {},
     "inputWidgets": {},
     "nuid": "a27c54e3-6c85-404e-a21e-bdf7104293d6",
     "showTitle": false,
     "tableResultSettingsMap": {},
     "title": ""
    }
   },
   "source": [
    "## Dependencies\n",
    "\n",
    "Check that the Weaviate client and spark connector are installed."
   ]
  },
  {
   "cell_type": "code",
   "execution_count": 0,
   "metadata": {
    "application/vnd.databricks.v1+cell": {
     "cellMetadata": {
      "byteLimit": 2048000,
      "rowLimit": 10000
     },
     "inputWidgets": {},
     "nuid": "a267f571-e5e6-45fc-ba4a-4f24dbc55d92",
     "showTitle": false,
     "tableResultSettingsMap": {},
     "title": ""
    }
   },
   "outputs": [
    {
     "name": "stdout",
     "output_type": "stream",
     "text": [
      "Name: weaviate-client\n",
      "Version: 4.12.0\n",
      "Summary: A python native Weaviate client\n",
      "Home-page: https://github.com/weaviate/weaviate-python-client\n",
      "Author: Weaviate\n",
      "Author-email: hello@weaviate.io,\n",
      "License: BSD 3-clause\n",
      "Location: /local_disk0/.ephemeral_nfs/cluster_libraries/python/lib/python3.11/site-packages\n",
      "Requires: authlib, grpcio, grpcio-health-checking, grpcio-tools, httpx, pydantic, validators\n",
      "Required-by: langchain-weaviate\n"
     ]
    }
   ],
   "source": [
    "!pip show weaviate-client"
   ]
  },
  {
   "cell_type": "code",
   "execution_count": 0,
   "metadata": {
    "application/vnd.databricks.v1+cell": {
     "cellMetadata": {
      "byteLimit": 2048000,
      "implicitDf": true,
      "rowLimit": 10000
     },
     "inputWidgets": {},
     "nuid": "2ea4c96f-353e-4233-a001-1ce703773a23",
     "showTitle": false,
     "tableResultSettingsMap": {},
     "title": ""
    }
   },
   "outputs": [
    {
     "data": {
      "text/html": [
       "<style scoped>\n",
       "  .table-result-container {\n",
       "    max-height: 300px;\n",
       "    overflow: auto;\n",
       "  }\n",
       "  table, th, td {\n",
       "    border: 1px solid black;\n",
       "    border-collapse: collapse;\n",
       "  }\n",
       "  th, td {\n",
       "    padding: 5px;\n",
       "  }\n",
       "  th {\n",
       "    text-align: left;\n",
       "  }\n",
       "</style><div class='table-result-container'><table class='table-result'><thead style='background-color: white'><tr><th>Results</th></tr></thead><tbody><tr><td>spark://10.213.190.200:38041/jars/io_weaviate_spark_connector_2_12_1_3_3.jar</td></tr></tbody></table></div>"
      ]
     },
     "metadata": {
      "application/vnd.databricks.v1+output": {
       "addedWidgets": {},
       "aggData": [],
       "aggError": "",
       "aggOverflow": false,
       "aggSchema": [],
       "aggSeriesLimitReached": false,
       "aggType": "",
       "arguments": {},
       "columnCustomDisplayInfos": {},
       "data": [
        [
         "spark://10.213.190.200:38041/jars/io_weaviate_spark_connector_2_12_1_3_3.jar"
        ]
       ],
       "datasetInfos": [],
       "dbfsResultPath": null,
       "isJsonSchema": true,
       "metadata": {
        "createTempViewForImplicitDf": true,
        "dataframeName": "_sqldf",
        "executionCount": 2
       },
       "overflow": false,
       "plotOptions": {
        "customPlotOptions": {},
        "displayType": "table",
        "pivotAggregation": null,
        "pivotColumns": null,
        "xColumns": null,
        "yColumns": null
       },
       "removedWidgets": [],
       "schema": [
        {
         "metadata": "{}",
         "name": "Results",
         "type": "\"string\""
        }
       ],
       "type": "table"
      }
     },
     "output_type": "display_data"
    }
   ],
   "source": [
    "%sql\n",
    "LIST JAR io_weaviate_spark_connector_2_12_1_3_3.jar"
   ]
  },
  {
   "cell_type": "markdown",
   "metadata": {
    "application/vnd.databricks.v1+cell": {
     "cellMetadata": {},
     "inputWidgets": {},
     "nuid": "80f8eae9-c438-4396-b2f3-6aa76216175e",
     "showTitle": false,
     "tableResultSettingsMap": {},
     "title": ""
    }
   },
   "source": [
    "## Import Libraries"
   ]
  },
  {
   "cell_type": "code",
   "execution_count": 0,
   "metadata": {
    "application/vnd.databricks.v1+cell": {
     "cellMetadata": {
      "byteLimit": 2048000,
      "rowLimit": 10000
     },
     "inputWidgets": {},
     "nuid": "5347e099-b57e-4c85-8682-7c6f90a56e41",
     "showTitle": false,
     "tableResultSettingsMap": {},
     "title": ""
    }
   },
   "outputs": [],
   "source": [
    "import weaviate\n",
    "import weaviate.classes.config as wvcc\n",
    "from pyspark.sql.functions import udf, col, when\n",
    "from pyspark.sql.types import StringType, BooleanType\n",
    "from weaviate.util import generate_uuid5\n",
    "import time\n",
    "import json\n",
    "from pyspark.sql import Row\n",
    "from py4j.protocol import Py4JJavaError"
   ]
  },
  {
   "cell_type": "markdown",
   "metadata": {
    "application/vnd.databricks.v1+cell": {
     "cellMetadata": {},
     "inputWidgets": {},
     "nuid": "95e07884-46e6-450e-a10d-4286fa2085e7",
     "showTitle": false,
     "tableResultSettingsMap": {},
     "title": ""
    }
   },
   "source": [
    "## Weaviate Cloud Setup"
   ]
  },
  {
   "cell_type": "markdown",
   "metadata": {
    "application/vnd.databricks.v1+cell": {
     "cellMetadata": {},
     "inputWidgets": {},
     "nuid": "0a2901c7-e6cf-4ef9-ac4e-4c2efa51fbe1",
     "showTitle": false,
     "tableResultSettingsMap": {},
     "title": ""
    }
   },
   "source": [
    "### Grab the secret keys"
   ]
  },
  {
   "cell_type": "code",
   "execution_count": 0,
   "metadata": {
    "application/vnd.databricks.v1+cell": {
     "cellMetadata": {
      "byteLimit": 2048000,
      "rowLimit": 10000
     },
     "inputWidgets": {},
     "nuid": "ceac1257-4614-46d9-9cd2-b1178d1cc1f8",
     "showTitle": false,
     "tableResultSettingsMap": {},
     "title": ""
    }
   },
   "outputs": [],
   "source": [
    "SCOPE=\"spark-connector-demo\"\n",
    "\n",
    "WEAVIATE_URL = dbutils.secrets.get(scope=SCOPE, key=\"WEAVIATE_URL\")\n",
    "WEAVIATE_API_KEY = dbutils.secrets.get(scope=SCOPE, key=\"WEAVIATE_API_KEY\")\n",
    "DATABRICKS_TOKEN = dbutils.secrets.get(scope=SCOPE, key=\"DATABRICKS_TOKEN\")\n",
    "EMBEDDINGS_ENDPOINT = dbutils.secrets.get(scope=SCOPE, key=\"EMBEDDINGS_ENDPOINT\")\n",
    "LLM_ENDPOINT = dbutils.secrets.get(scope=SCOPE, key=\"LLM_ENDPOINT\")"
   ]
  },
  {
   "cell_type": "markdown",
   "metadata": {
    "application/vnd.databricks.v1+cell": {
     "cellMetadata": {},
     "inputWidgets": {},
     "nuid": "cee7330b-68a0-4cd8-897e-04c97ad3ffd8",
     "showTitle": false,
     "tableResultSettingsMap": {},
     "title": ""
    }
   },
   "source": [
    "### Connect to Weaviate"
   ]
  },
  {
   "cell_type": "code",
   "execution_count": 0,
   "metadata": {
    "application/vnd.databricks.v1+cell": {
     "cellMetadata": {
      "byteLimit": 2048000,
      "rowLimit": 10000
     },
     "inputWidgets": {},
     "nuid": "f7551240-8738-4903-b62f-ad4e46f9b302",
     "showTitle": false,
     "tableResultSettingsMap": {},
     "title": ""
    }
   },
   "outputs": [
    {
     "name": "stderr",
     "output_type": "stream",
     "text": [
      "/local_disk0/.ephemeral_nfs/cluster_libraries/python/lib/python3.11/site-packages/anyio/_backends/_asyncio.py:585: DeprecationWarning: Passing 'msg' argument to Task.cancel() is deprecated since Python 3.11, and scheduled for removal in Python 3.14.\n",
      "  should_retry = scope._deliver_cancellation(origin) or should_retry\n",
      "/local_disk0/.ephemeral_nfs/cluster_libraries/python/lib/python3.11/site-packages/anyio/_backends/_asyncio.py:585: DeprecationWarning: Passing 'msg' argument to Future.cancel() is deprecated since Python 3.11, and scheduled for removal in Python 3.14.\n",
      "  should_retry = scope._deliver_cancellation(origin) or should_retry\n"
     ]
    },
    {
     "name": "stdout",
     "output_type": "stream",
     "text": [
      "True\n"
     ]
    }
   ],
   "source": [
    "client = weaviate.connect_to_wcs(\n",
    "    cluster_url=WEAVIATE_URL,\n",
    "    auth_credentials=weaviate.auth.AuthApiKey(WEAVIATE_API_KEY),\n",
    "      headers={ \"X-Databricks-Token\": DATABRICKS_TOKEN}\n",
    ")\n",
    "\n",
    "print(client.is_ready())"
   ]
  },
  {
   "cell_type": "code",
   "execution_count": 0,
   "metadata": {
    "application/vnd.databricks.v1+cell": {
     "cellMetadata": {
      "byteLimit": 2048000,
      "rowLimit": 10000
     },
     "inputWidgets": {},
     "nuid": "44938c16-70bd-4b68-be92-b7e5264aa723",
     "showTitle": false,
     "tableResultSettingsMap": {},
     "title": ""
    }
   },
   "outputs": [
    {
     "name": "stdout",
     "output_type": "stream",
     "text": [
      "Weaviate server version: 1.29.1\n"
     ]
    }
   ],
   "source": [
    "print(f\"Weaviate server version: {client.get_meta()['version']}\")"
   ]
  },
  {
   "cell_type": "markdown",
   "metadata": {
    "application/vnd.databricks.v1+cell": {
     "cellMetadata": {},
     "inputWidgets": {},
     "nuid": "fc6d9223-b146-463b-a173-f735f4c97050",
     "showTitle": false,
     "tableResultSettingsMap": {},
     "title": ""
    }
   },
   "source": [
    "## Dataset\n",
    "\n",
    "We'll ingest the products and descriptions into Weaviate"
   ]
  },
  {
   "cell_type": "code",
   "execution_count": 0,
   "metadata": {
    "application/vnd.databricks.v1+cell": {
     "cellMetadata": {
      "byteLimit": 2048000,
      "rowLimit": 10000
     },
     "inputWidgets": {},
     "nuid": "13e08439-cc01-41af-97ca-e7f1296d7688",
     "showTitle": false,
     "tableResultSettingsMap": {},
     "title": ""
    }
   },
   "outputs": [
    {
     "data": {
      "text/html": [
       "<style scoped>\n",
       "  .table-result-container {\n",
       "    max-height: 300px;\n",
       "    overflow: auto;\n",
       "  }\n",
       "  table, th, td {\n",
       "    border: 1px solid black;\n",
       "    border-collapse: collapse;\n",
       "  }\n",
       "  th, td {\n",
       "    padding: 5px;\n",
       "  }\n",
       "  th {\n",
       "    text-align: left;\n",
       "  }\n",
       "</style><div class='table-result-container'><table class='table-result'><thead style='background-color: white'><tr><th>title</th><th>description</th></tr></thead><tbody><tr><td>YOOLIFE Initial Jute Tote Bag with Makeup Bag Beach Bag Tote with Zipper Embroidery Monogram Friend Birthday Gifts for Women</td><td>Previous page Use for Multiple Occasions Use for Multiple Occasions Use for Multiple Occasions Next page 1 Restaurant 2 Library 3 Beach Various Ways to Wear   Show The Details   Inside Pocket   Top Zipper   Strong Stitches   Waterproof Surface PERFECT PERSONALIZED GIFTS   Makeup Bag   Initial Tote Bag with Makeup Bag</td></tr><tr><td>ESOW Paper Towel Holder with Shelf Storage, Adhesive Wall Mount 2-in-1 Basket Organizer for Kitchen & Bathroom, Durable Metal Wire Design, Stainless Steel 304 Brushed Nickel Finish, 2 Packs</td><td>About this item [Premium Material & Sturdy Construction]: Made of 304 stainless steel and adopted sandblasting technology on the surface to carry out secondary protection, the paper towel holders are waterproof, moisture-proof and rust free, won’t deform when bearing great weight, looks new after long-term use. There is a removable rod to keep the paper towel spin smoothly and steady. Don't worry that the paper towel will fall down when you tear the sheet away. Hollowed bottom, drips fast and is easy to dry. [Large and Versatile Paper Towel Holders & 2 Pack]: It comes with 2 pack paper towel holders. Each shelf storage in a convenient adhesive wall mount rack with attached paper towel holder bar; Shelf can make you saving a large number of space which can storage shelf for spices, cleaning supplies, soaps, candles, lotions and others. The towel bar is open on one end so that you can easily slide your paper towels in place. [Large and Versatile Paper Towel Holders & 2 Pack]: It comes with 2 pack paper towel holders. Each shelf storage in a convenient adhesive wall mount rack with attached paper towel holder bar; Shelf can make you saving a large number of space which can storage shelf for spices, cleaning supplies, soaps, candles, lotions and others. The towel bar is open on one end so that you can easily slide your paper towels in place. [Multiple applications]: Shelfs can make you saving a large number of space which can storage shelf for spices, cleaning supplies, soaps, candles, lotions and others. Smooth surfaces, no sharp edge, and all details we care are for your best to use it. They could be installed in bathroom, kitchen, bedroom, living room, dormitory, washbasin and other places, suitable for both corners and straight walls. Apartment essentials for first apartment! [100% Customer Satisfaction Guarantee]: Each accessory passed 300,000 times load bearing tests, ensuring reliable product performance and durable high quality for customer life using, is built to last. If our ESOW Paper towel holder Shelf Storage does not meet your expectations, return it for 100% refund of your purchase price.</td></tr><tr><td>Solino Home Printed Linen Table Runner 14 x 108 Inch – 100% Pure Linen Blue and White Table Runner for for Indoor, Outdoor – Coastal Raindrops, Handcrafted from European Flax</td><td>About this item Coastal Raindrops Table Runner is handcrafted from 100% Pure Linen - the raindrop like pattern brings a splash of color and beautiful texture that is perfectly suited for spring, summer, fall and winter. Size - 14 x 108 Inch. Available in different sizes to fit your needs. Easy Care - Machine Washable, Low Iron as Needed, Steam Iron for a crisp look. The beauty of each pure linen piece is the natural fibers and classic aesthetic that mellows with each washing, betters with age and requires minimal care. Each batch of our linen is different and unique. Slight color and texture variations are an inherent quality of handcrafted pieces, adding to their relaxed beauty and bringing a wonderful heirloom feel to each piece. Create a monochromatic or mix n’match look to fit your style with our coordinating products from this collection. Available in sizes and styles for celebrating weddings, bridal showers, baby showers and special occasions, entertaining for Valentine’s Day, St. Patrick’s Day, Easter, Passover, Memorial Day, 4th of July, Labor Day, Halloween, Thanksgiving, Hanukkah, Christmas and or any holiday celebrations. Classic style for everyday use and special occasions.</td></tr><tr><td>Magnetic Clasps for Jewelry Making 36pairs Heart Shaped Multicolor Clasp Connected for Bracelet Necklace Making Jewelry Strong Magnet DIY Accessories</td><td>Magnetic Clasps for Jewelry Making 36pairs Heart Shaped Multicolor Clasp Connected for Bracelet Necklace Making Jewelry Strong Magnet DIY Accessories</td></tr><tr><td>Columbia Women's Top Pine Insulated Rain Jacket</td><td>Mountain weather can be fickle—best to be prepared with a jacket that’s as waterproof as it is warm. Crafted of a durable and breathable Omni-TECH™ shell, with a storm hood and drop tail for extra coverage, this insulated layer is exactly that.</td></tr><tr><td>Bare Home 100% Organic Cotton Queen Sheet Set - Crisp Percale Weave - Lightweight & Breathable - Bedding Sheets & Pillowcases (Queen, Dusty Pink)</td><td>About this item SET THE STANDARD: Our Queen Percale Sheet Set is crisp to the touch and beautiful to look at. Our 4-piece queen sheet set is made to impress from first rest and gets softer with each wash. SET INCLUDES: 1 Queen Fitted Sheet (60\" x 80\" x 15\" deep pocket), 1 Queen Flat Sheet (90\" x 102\"), 2 Standard Pillowcases (20\" x 27\"). Fits mattresses up to 15” deep. SLEEP IN LUXURY: At the end of the day, you deserve a crisp feel of hotel luxury. So, go ahead. Slip into Bare Home's lightweight and crisp percale sheets. Made from 100% organic cotton and organic dyes. PURELY ORGANIC: Bare Home organic products meet the highest levels of environmental and social standards from the field to your home. But we don’t stop there. Many chemicals used in fabric production-such as aluminum and formaldehyde-can be harmful to your health. Because of this, our organic bedding is OEKO-TEX and GOTS Certified free of toxic chemicals. Fabrics not treated with anti-wrinkle agents may wrinkle more easily. To remedy, remove promptly from the dryer and steam or iron as needed. EASY DOES IT: Bedtime is supposed to be relaxing. That’s why Bare Home's bedding sheets & pillowcases are machine washable and designed to perform flawlessly every day, night, or nap time. They even become softer with every wash, just like your favorite cotton t-shirt. REST ASSURED: Your first 30 nights are on us. Literally. If you don’t love our queen size sheets, send them back.</td></tr><tr><td>Vertical Cable CAT5E, 350 MHz, UTP, 24AWG, 8C Solid Bare Copper, Plenum, 1000ft, Blue, Bulk Ethernet Cable</td><td>This Cat 5e unshielded twisted pair ( utp ) plenum cable is a high performance data communication cable suitable for 350mhz high speed applications. It has excellent attenuation and crosstalk characteristics and exceeds TIA/EIA-568-C.2 specification.This ethernet cable is designed for indoor plenum network installations and is listed by UL to be type CMP. This cable can be installed in air plenums and roof ducts in accordance with NEC Article 800. The wires are 24 awg in size and are made of solid bare copper conductors. All 4 pairs are easily identified by color stripes. The insulation material is FEP which is the best flame retardant and fire resistant material and the jacket is made of flame retardant polyvinyl chloride. This cable is supplied in 1000 ft pull box and sequential length markings are printed on the jacket. Brand for this product is Vertical Cable.</td></tr><tr><td>FIFA 16 - Standard Edition - PlayStation 3</td><td>Football presents the moment...FIFA 16 lets you make it beautiful. FIFA 16 innovates across the entire pitch to deliver a balanced, authentic, and exciting football experience that lets you play your way, in your favorite modes. With innovative gameplay features, FIFA 16 brings Confidence in Defending, Control in Midfield, and gives you the tools to create more Moments of Magic than ever before.System Requirements:Supported Platforms: PlayStation 3 PlayStation account required for game activation and installation</td></tr><tr><td>Nike Men's NSW Club Pant Open Hem</td><td>A closet staple, the Nike Sportswear Club Fleece Pants combine classic style with the soft comfort of fleece for an elevated, everyday look that you really can wear every day.</td></tr><tr><td>74th Birthday Card for Women Men - Not 74 I'm 18 With 56 Years Experience - Funny Seventy-Four Seventy-Fourth Happy Birthday Card for Mom Dad Grandad Grandma, 5.7 x 5.7 Inch Humour Joke Greeting Cards</td><td>About this item MAKE THEM LAUGH WITH THIS FUNNY BIRTHDAY CARD: This exceptional quality birthday card for her or him shows the design I'm Not 74, I'm 18 With 56 Years Experience If you are looking for funny birthday cards for women, then then this happy 74thbirthday card is bound to make them laugh. Not just for friendship gifts for women this could also be for Mom, Dad, Great Grandad, Grandma, Nan, Great Nanny, Brother, Sister, Cousin, Auntie or Uncle. WHAT DO YOU GET: The card is printed on one side and BLANK ON THE INSIDE to allow you to write your very own message. The unique fun design is printed on a specially sourced and environmentally responsible board. At 360 microns thick and 300gsm the natural white one-sided gloss board has a quality look and feel. Supplied with a coloured gummed envelope to complement the design and ready to be sealed and sent in the post. Grandma birthday cards, 74th birthday card, adult birthday card. NO INK SMUDGES: There is nothing worse than writing inside a card to find that the shiny surface makes the ink smudge. This is why we use a high quality one sided coated board. The uncoated side will absorb more of the ink from your pen to make smudging a thing of the past. 74th birthday card funny, happy birthday Grandad cards, 74th birthday cards for men. SIZES: Greeting Card = 5.7 Inch x 5.7 Inch, Envelope = 6.1 Inch x 6.1 Inch, Card Weight 300gsm, Card Thickness = 360 micron. Great Grandad or Nanny birthday cards from Grandchild or Grandchildren. Best Friend 74th birthday card, birthday cards for Dad, rude birthday cards for men, 74th birthday card Mom, funny 74th birthday card. MADE AND QUALITY CHECKED IN THE UK: We print and manufacture all our product right her in the UK so you can be sure of a fast turnaround and a product that is expertly made. Using the very best Forest Stewardship Council certified board our card is conscious of the responsible management of the world's forests - rude birthday cards for women, funny birthday cards for her, Dad 74th birthday cards, funny male birthday cards.</td></tr></tbody></table></div>"
      ]
     },
     "metadata": {
      "application/vnd.databricks.v1+output": {
       "addedWidgets": {},
       "aggData": [],
       "aggError": "",
       "aggOverflow": false,
       "aggSchema": [],
       "aggSeriesLimitReached": false,
       "aggType": "",
       "arguments": {},
       "columnCustomDisplayInfos": {},
       "data": [
        [
         "YOOLIFE Initial Jute Tote Bag with Makeup Bag Beach Bag Tote with Zipper Embroidery Monogram Friend Birthday Gifts for Women",
         "Previous page Use for Multiple Occasions Use for Multiple Occasions Use for Multiple Occasions Next page 1 Restaurant 2 Library 3 Beach Various Ways to Wear   Show The Details   Inside Pocket   Top Zipper   Strong Stitches   Waterproof Surface PERFECT PERSONALIZED GIFTS   Makeup Bag   Initial Tote Bag with Makeup Bag"
        ],
        [
         "ESOW Paper Towel Holder with Shelf Storage, Adhesive Wall Mount 2-in-1 Basket Organizer for Kitchen & Bathroom, Durable Metal Wire Design, Stainless Steel 304 Brushed Nickel Finish, 2 Packs",
         "About this item [Premium Material & Sturdy Construction]: Made of 304 stainless steel and adopted sandblasting technology on the surface to carry out secondary protection, the paper towel holders are waterproof, moisture-proof and rust free, won’t deform when bearing great weight, looks new after long-term use. There is a removable rod to keep the paper towel spin smoothly and steady. Don't worry that the paper towel will fall down when you tear the sheet away. Hollowed bottom, drips fast and is easy to dry. [Large and Versatile Paper Towel Holders & 2 Pack]: It comes with 2 pack paper towel holders. Each shelf storage in a convenient adhesive wall mount rack with attached paper towel holder bar; Shelf can make you saving a large number of space which can storage shelf for spices, cleaning supplies, soaps, candles, lotions and others. The towel bar is open on one end so that you can easily slide your paper towels in place. [Large and Versatile Paper Towel Holders & 2 Pack]: It comes with 2 pack paper towel holders. Each shelf storage in a convenient adhesive wall mount rack with attached paper towel holder bar; Shelf can make you saving a large number of space which can storage shelf for spices, cleaning supplies, soaps, candles, lotions and others. The towel bar is open on one end so that you can easily slide your paper towels in place. [Multiple applications]: Shelfs can make you saving a large number of space which can storage shelf for spices, cleaning supplies, soaps, candles, lotions and others. Smooth surfaces, no sharp edge, and all details we care are for your best to use it. They could be installed in bathroom, kitchen, bedroom, living room, dormitory, washbasin and other places, suitable for both corners and straight walls. Apartment essentials for first apartment! [100% Customer Satisfaction Guarantee]: Each accessory passed 300,000 times load bearing tests, ensuring reliable product performance and durable high quality for customer life using, is built to last. If our ESOW Paper towel holder Shelf Storage does not meet your expectations, return it for 100% refund of your purchase price."
        ],
        [
         "Solino Home Printed Linen Table Runner 14 x 108 Inch – 100% Pure Linen Blue and White Table Runner for for Indoor, Outdoor – Coastal Raindrops, Handcrafted from European Flax",
         "About this item Coastal Raindrops Table Runner is handcrafted from 100% Pure Linen - the raindrop like pattern brings a splash of color and beautiful texture that is perfectly suited for spring, summer, fall and winter. Size - 14 x 108 Inch. Available in different sizes to fit your needs. Easy Care - Machine Washable, Low Iron as Needed, Steam Iron for a crisp look. The beauty of each pure linen piece is the natural fibers and classic aesthetic that mellows with each washing, betters with age and requires minimal care. Each batch of our linen is different and unique. Slight color and texture variations are an inherent quality of handcrafted pieces, adding to their relaxed beauty and bringing a wonderful heirloom feel to each piece. Create a monochromatic or mix n’match look to fit your style with our coordinating products from this collection. Available in sizes and styles for celebrating weddings, bridal showers, baby showers and special occasions, entertaining for Valentine’s Day, St. Patrick’s Day, Easter, Passover, Memorial Day, 4th of July, Labor Day, Halloween, Thanksgiving, Hanukkah, Christmas and or any holiday celebrations. Classic style for everyday use and special occasions."
        ],
        [
         "Magnetic Clasps for Jewelry Making 36pairs Heart Shaped Multicolor Clasp Connected for Bracelet Necklace Making Jewelry Strong Magnet DIY Accessories",
         "Magnetic Clasps for Jewelry Making 36pairs Heart Shaped Multicolor Clasp Connected for Bracelet Necklace Making Jewelry Strong Magnet DIY Accessories"
        ],
        [
         "Columbia Women's Top Pine Insulated Rain Jacket",
         "Mountain weather can be fickle—best to be prepared with a jacket that’s as waterproof as it is warm. Crafted of a durable and breathable Omni-TECH™ shell, with a storm hood and drop tail for extra coverage, this insulated layer is exactly that."
        ],
        [
         "Bare Home 100% Organic Cotton Queen Sheet Set - Crisp Percale Weave - Lightweight & Breathable - Bedding Sheets & Pillowcases (Queen, Dusty Pink)",
         "About this item SET THE STANDARD: Our Queen Percale Sheet Set is crisp to the touch and beautiful to look at. Our 4-piece queen sheet set is made to impress from first rest and gets softer with each wash. SET INCLUDES: 1 Queen Fitted Sheet (60\" x 80\" x 15\" deep pocket), 1 Queen Flat Sheet (90\" x 102\"), 2 Standard Pillowcases (20\" x 27\"). Fits mattresses up to 15” deep. SLEEP IN LUXURY: At the end of the day, you deserve a crisp feel of hotel luxury. So, go ahead. Slip into Bare Home's lightweight and crisp percale sheets. Made from 100% organic cotton and organic dyes. PURELY ORGANIC: Bare Home organic products meet the highest levels of environmental and social standards from the field to your home. But we don’t stop there. Many chemicals used in fabric production-such as aluminum and formaldehyde-can be harmful to your health. Because of this, our organic bedding is OEKO-TEX and GOTS Certified free of toxic chemicals. Fabrics not treated with anti-wrinkle agents may wrinkle more easily. To remedy, remove promptly from the dryer and steam or iron as needed. EASY DOES IT: Bedtime is supposed to be relaxing. That’s why Bare Home's bedding sheets & pillowcases are machine washable and designed to perform flawlessly every day, night, or nap time. They even become softer with every wash, just like your favorite cotton t-shirt. REST ASSURED: Your first 30 nights are on us. Literally. If you don’t love our queen size sheets, send them back."
        ],
        [
         "Vertical Cable CAT5E, 350 MHz, UTP, 24AWG, 8C Solid Bare Copper, Plenum, 1000ft, Blue, Bulk Ethernet Cable",
         "This Cat 5e unshielded twisted pair ( utp ) plenum cable is a high performance data communication cable suitable for 350mhz high speed applications. It has excellent attenuation and crosstalk characteristics and exceeds TIA/EIA-568-C.2 specification.This ethernet cable is designed for indoor plenum network installations and is listed by UL to be type CMP. This cable can be installed in air plenums and roof ducts in accordance with NEC Article 800. The wires are 24 awg in size and are made of solid bare copper conductors. All 4 pairs are easily identified by color stripes. The insulation material is FEP which is the best flame retardant and fire resistant material and the jacket is made of flame retardant polyvinyl chloride. This cable is supplied in 1000 ft pull box and sequential length markings are printed on the jacket. Brand for this product is Vertical Cable."
        ],
        [
         "FIFA 16 - Standard Edition - PlayStation 3",
         "Football presents the moment...FIFA 16 lets you make it beautiful. FIFA 16 innovates across the entire pitch to deliver a balanced, authentic, and exciting football experience that lets you play your way, in your favorite modes. With innovative gameplay features, FIFA 16 brings Confidence in Defending, Control in Midfield, and gives you the tools to create more Moments of Magic than ever before.System Requirements:Supported Platforms: PlayStation 3 PlayStation account required for game activation and installation"
        ],
        [
         "Nike Men's NSW Club Pant Open Hem",
         "A closet staple, the Nike Sportswear Club Fleece Pants combine classic style with the soft comfort of fleece for an elevated, everyday look that you really can wear every day."
        ],
        [
         "74th Birthday Card for Women Men - Not 74 I'm 18 With 56 Years Experience - Funny Seventy-Four Seventy-Fourth Happy Birthday Card for Mom Dad Grandad Grandma, 5.7 x 5.7 Inch Humour Joke Greeting Cards",
         "About this item MAKE THEM LAUGH WITH THIS FUNNY BIRTHDAY CARD: This exceptional quality birthday card for her or him shows the design I'm Not 74, I'm 18 With 56 Years Experience If you are looking for funny birthday cards for women, then then this happy 74thbirthday card is bound to make them laugh. Not just for friendship gifts for women this could also be for Mom, Dad, Great Grandad, Grandma, Nan, Great Nanny, Brother, Sister, Cousin, Auntie or Uncle. WHAT DO YOU GET: The card is printed on one side and BLANK ON THE INSIDE to allow you to write your very own message. The unique fun design is printed on a specially sourced and environmentally responsible board. At 360 microns thick and 300gsm the natural white one-sided gloss board has a quality look and feel. Supplied with a coloured gummed envelope to complement the design and ready to be sealed and sent in the post. Grandma birthday cards, 74th birthday card, adult birthday card. NO INK SMUDGES: There is nothing worse than writing inside a card to find that the shiny surface makes the ink smudge. This is why we use a high quality one sided coated board. The uncoated side will absorb more of the ink from your pen to make smudging a thing of the past. 74th birthday card funny, happy birthday Grandad cards, 74th birthday cards for men. SIZES: Greeting Card = 5.7 Inch x 5.7 Inch, Envelope = 6.1 Inch x 6.1 Inch, Card Weight 300gsm, Card Thickness = 360 micron. Great Grandad or Nanny birthday cards from Grandchild or Grandchildren. Best Friend 74th birthday card, birthday cards for Dad, rude birthday cards for men, 74th birthday card Mom, funny 74th birthday card. MADE AND QUALITY CHECKED IN THE UK: We print and manufacture all our product right her in the UK so you can be sure of a fast turnaround and a product that is expertly made. Using the very best Forest Stewardship Council certified board our card is conscious of the responsible management of the world's forests - rude birthday cards for women, funny birthday cards for her, Dad 74th birthday cards, funny male birthday cards."
        ]
       ],
       "datasetInfos": [],
       "dbfsResultPath": null,
       "isJsonSchema": true,
       "metadata": {},
       "overflow": false,
       "plotOptions": {
        "customPlotOptions": {},
        "displayType": "table",
        "pivotAggregation": null,
        "pivotColumns": null,
        "xColumns": null,
        "yColumns": null
       },
       "removedWidgets": [],
       "schema": [
        {
         "metadata": "{}",
         "name": "title",
         "type": "\"string\""
        },
        {
         "metadata": "{}",
         "name": "description",
         "type": "\"string\""
        }
       ],
       "type": "table"
      }
     },
     "output_type": "display_data"
    }
   ],
   "source": [
    "table_name = \"bright_data_amazon_best_seller_products_reviews_products_dataset.datasets.amazon_best_seller_products\"\n",
    "\n",
    "df = spark.table(table_name).select(\"title\", \"description\").limit(10)\n",
    "display(df)"
   ]
  },
  {
   "cell_type": "markdown",
   "metadata": {
    "application/vnd.databricks.v1+cell": {
     "cellMetadata": {},
     "inputWidgets": {},
     "nuid": "ac45ffca-c218-4853-9495-19636580f503",
     "showTitle": false,
     "tableResultSettingsMap": {},
     "title": ""
    }
   },
   "source": [
    "Add a UUID to each object"
   ]
  },
  {
   "cell_type": "code",
   "execution_count": 0,
   "metadata": {
    "application/vnd.databricks.v1+cell": {
     "cellMetadata": {
      "byteLimit": 2048000,
      "rowLimit": 10000
     },
     "inputWidgets": {},
     "nuid": "dfab02af-d8d7-4bac-9217-3364775941b0",
     "showTitle": false,
     "tableResultSettingsMap": {},
     "title": ""
    }
   },
   "outputs": [
    {
     "data": {
      "text/html": [
       "<style scoped>\n",
       "  .table-result-container {\n",
       "    max-height: 300px;\n",
       "    overflow: auto;\n",
       "  }\n",
       "  table, th, td {\n",
       "    border: 1px solid black;\n",
       "    border-collapse: collapse;\n",
       "  }\n",
       "  th, td {\n",
       "    padding: 5px;\n",
       "  }\n",
       "  th {\n",
       "    text-align: left;\n",
       "  }\n",
       "</style><div class='table-result-container'><table class='table-result'><thead style='background-color: white'><tr><th>uuid</th><th>title</th><th>description</th></tr></thead><tbody><tr><td>1ed9371c-4277-5afa-b481-df218e942d65</td><td>YOOLIFE Initial Jute Tote Bag with Makeup Bag Beach Bag Tote with Zipper Embroidery Monogram Friend Birthday Gifts for Women</td><td>Previous page Use for Multiple Occasions Use for Multiple Occasions Use for Multiple Occasions Next page 1 Restaurant 2 Library 3 Beach Various Ways to Wear   Show The Details   Inside Pocket   Top Zipper   Strong Stitches   Waterproof Surface PERFECT PERSONALIZED GIFTS   Makeup Bag   Initial Tote Bag with Makeup Bag</td></tr><tr><td>000bb2a0-5b0f-536b-a879-e9908da3fd7e</td><td>ESOW Paper Towel Holder with Shelf Storage, Adhesive Wall Mount 2-in-1 Basket Organizer for Kitchen & Bathroom, Durable Metal Wire Design, Stainless Steel 304 Brushed Nickel Finish, 2 Packs</td><td>About this item [Premium Material & Sturdy Construction]: Made of 304 stainless steel and adopted sandblasting technology on the surface to carry out secondary protection, the paper towel holders are waterproof, moisture-proof and rust free, won’t deform when bearing great weight, looks new after long-term use. There is a removable rod to keep the paper towel spin smoothly and steady. Don't worry that the paper towel will fall down when you tear the sheet away. Hollowed bottom, drips fast and is easy to dry. [Large and Versatile Paper Towel Holders & 2 Pack]: It comes with 2 pack paper towel holders. Each shelf storage in a convenient adhesive wall mount rack with attached paper towel holder bar; Shelf can make you saving a large number of space which can storage shelf for spices, cleaning supplies, soaps, candles, lotions and others. The towel bar is open on one end so that you can easily slide your paper towels in place. [Large and Versatile Paper Towel Holders & 2 Pack]: It comes with 2 pack paper towel holders. Each shelf storage in a convenient adhesive wall mount rack with attached paper towel holder bar; Shelf can make you saving a large number of space which can storage shelf for spices, cleaning supplies, soaps, candles, lotions and others. The towel bar is open on one end so that you can easily slide your paper towels in place. [Multiple applications]: Shelfs can make you saving a large number of space which can storage shelf for spices, cleaning supplies, soaps, candles, lotions and others. Smooth surfaces, no sharp edge, and all details we care are for your best to use it. They could be installed in bathroom, kitchen, bedroom, living room, dormitory, washbasin and other places, suitable for both corners and straight walls. Apartment essentials for first apartment! [100% Customer Satisfaction Guarantee]: Each accessory passed 300,000 times load bearing tests, ensuring reliable product performance and durable high quality for customer life using, is built to last. If our ESOW Paper towel holder Shelf Storage does not meet your expectations, return it for 100% refund of your purchase price.</td></tr><tr><td>1734c0c9-d29f-5943-9be4-6ddf622e2d35</td><td>Solino Home Printed Linen Table Runner 14 x 108 Inch – 100% Pure Linen Blue and White Table Runner for for Indoor, Outdoor – Coastal Raindrops, Handcrafted from European Flax</td><td>About this item Coastal Raindrops Table Runner is handcrafted from 100% Pure Linen - the raindrop like pattern brings a splash of color and beautiful texture that is perfectly suited for spring, summer, fall and winter. Size - 14 x 108 Inch. Available in different sizes to fit your needs. Easy Care - Machine Washable, Low Iron as Needed, Steam Iron for a crisp look. The beauty of each pure linen piece is the natural fibers and classic aesthetic that mellows with each washing, betters with age and requires minimal care. Each batch of our linen is different and unique. Slight color and texture variations are an inherent quality of handcrafted pieces, adding to their relaxed beauty and bringing a wonderful heirloom feel to each piece. Create a monochromatic or mix n’match look to fit your style with our coordinating products from this collection. Available in sizes and styles for celebrating weddings, bridal showers, baby showers and special occasions, entertaining for Valentine’s Day, St. Patrick’s Day, Easter, Passover, Memorial Day, 4th of July, Labor Day, Halloween, Thanksgiving, Hanukkah, Christmas and or any holiday celebrations. Classic style for everyday use and special occasions.</td></tr><tr><td>5e870f75-e4f6-5e70-b21e-a5345ac77e2f</td><td>Magnetic Clasps for Jewelry Making 36pairs Heart Shaped Multicolor Clasp Connected for Bracelet Necklace Making Jewelry Strong Magnet DIY Accessories</td><td>Magnetic Clasps for Jewelry Making 36pairs Heart Shaped Multicolor Clasp Connected for Bracelet Necklace Making Jewelry Strong Magnet DIY Accessories</td></tr><tr><td>e1e1fa48-70d3-56ba-9340-730ec138e001</td><td>Columbia Women's Top Pine Insulated Rain Jacket</td><td>Mountain weather can be fickle—best to be prepared with a jacket that’s as waterproof as it is warm. Crafted of a durable and breathable Omni-TECH™ shell, with a storm hood and drop tail for extra coverage, this insulated layer is exactly that.</td></tr><tr><td>93507f55-35f7-5851-94ed-f63a7a02d1be</td><td>Bare Home 100% Organic Cotton Queen Sheet Set - Crisp Percale Weave - Lightweight & Breathable - Bedding Sheets & Pillowcases (Queen, Dusty Pink)</td><td>About this item SET THE STANDARD: Our Queen Percale Sheet Set is crisp to the touch and beautiful to look at. Our 4-piece queen sheet set is made to impress from first rest and gets softer with each wash. SET INCLUDES: 1 Queen Fitted Sheet (60\" x 80\" x 15\" deep pocket), 1 Queen Flat Sheet (90\" x 102\"), 2 Standard Pillowcases (20\" x 27\"). Fits mattresses up to 15” deep. SLEEP IN LUXURY: At the end of the day, you deserve a crisp feel of hotel luxury. So, go ahead. Slip into Bare Home's lightweight and crisp percale sheets. Made from 100% organic cotton and organic dyes. PURELY ORGANIC: Bare Home organic products meet the highest levels of environmental and social standards from the field to your home. But we don’t stop there. Many chemicals used in fabric production-such as aluminum and formaldehyde-can be harmful to your health. Because of this, our organic bedding is OEKO-TEX and GOTS Certified free of toxic chemicals. Fabrics not treated with anti-wrinkle agents may wrinkle more easily. To remedy, remove promptly from the dryer and steam or iron as needed. EASY DOES IT: Bedtime is supposed to be relaxing. That’s why Bare Home's bedding sheets & pillowcases are machine washable and designed to perform flawlessly every day, night, or nap time. They even become softer with every wash, just like your favorite cotton t-shirt. REST ASSURED: Your first 30 nights are on us. Literally. If you don’t love our queen size sheets, send them back.</td></tr><tr><td>a0449958-ae46-586f-a9a6-e2b162d0f104</td><td>Vertical Cable CAT5E, 350 MHz, UTP, 24AWG, 8C Solid Bare Copper, Plenum, 1000ft, Blue, Bulk Ethernet Cable</td><td>This Cat 5e unshielded twisted pair ( utp ) plenum cable is a high performance data communication cable suitable for 350mhz high speed applications. It has excellent attenuation and crosstalk characteristics and exceeds TIA/EIA-568-C.2 specification.This ethernet cable is designed for indoor plenum network installations and is listed by UL to be type CMP. This cable can be installed in air plenums and roof ducts in accordance with NEC Article 800. The wires are 24 awg in size and are made of solid bare copper conductors. All 4 pairs are easily identified by color stripes. The insulation material is FEP which is the best flame retardant and fire resistant material and the jacket is made of flame retardant polyvinyl chloride. This cable is supplied in 1000 ft pull box and sequential length markings are printed on the jacket. Brand for this product is Vertical Cable.</td></tr><tr><td>7a91534f-8098-58e2-b02e-63c2698d2ff9</td><td>FIFA 16 - Standard Edition - PlayStation 3</td><td>Football presents the moment...FIFA 16 lets you make it beautiful. FIFA 16 innovates across the entire pitch to deliver a balanced, authentic, and exciting football experience that lets you play your way, in your favorite modes. With innovative gameplay features, FIFA 16 brings Confidence in Defending, Control in Midfield, and gives you the tools to create more Moments of Magic than ever before.System Requirements:Supported Platforms: PlayStation 3 PlayStation account required for game activation and installation</td></tr><tr><td>62caabfd-8dc9-553e-89a6-08ccb6c50240</td><td>Nike Men's NSW Club Pant Open Hem</td><td>A closet staple, the Nike Sportswear Club Fleece Pants combine classic style with the soft comfort of fleece for an elevated, everyday look that you really can wear every day.</td></tr><tr><td>c16ea3c7-9cf6-57a9-853d-53a01f7fda2f</td><td>74th Birthday Card for Women Men - Not 74 I'm 18 With 56 Years Experience - Funny Seventy-Four Seventy-Fourth Happy Birthday Card for Mom Dad Grandad Grandma, 5.7 x 5.7 Inch Humour Joke Greeting Cards</td><td>About this item MAKE THEM LAUGH WITH THIS FUNNY BIRTHDAY CARD: This exceptional quality birthday card for her or him shows the design I'm Not 74, I'm 18 With 56 Years Experience If you are looking for funny birthday cards for women, then then this happy 74thbirthday card is bound to make them laugh. Not just for friendship gifts for women this could also be for Mom, Dad, Great Grandad, Grandma, Nan, Great Nanny, Brother, Sister, Cousin, Auntie or Uncle. WHAT DO YOU GET: The card is printed on one side and BLANK ON THE INSIDE to allow you to write your very own message. The unique fun design is printed on a specially sourced and environmentally responsible board. At 360 microns thick and 300gsm the natural white one-sided gloss board has a quality look and feel. Supplied with a coloured gummed envelope to complement the design and ready to be sealed and sent in the post. Grandma birthday cards, 74th birthday card, adult birthday card. NO INK SMUDGES: There is nothing worse than writing inside a card to find that the shiny surface makes the ink smudge. This is why we use a high quality one sided coated board. The uncoated side will absorb more of the ink from your pen to make smudging a thing of the past. 74th birthday card funny, happy birthday Grandad cards, 74th birthday cards for men. SIZES: Greeting Card = 5.7 Inch x 5.7 Inch, Envelope = 6.1 Inch x 6.1 Inch, Card Weight 300gsm, Card Thickness = 360 micron. Great Grandad or Nanny birthday cards from Grandchild or Grandchildren. Best Friend 74th birthday card, birthday cards for Dad, rude birthday cards for men, 74th birthday card Mom, funny 74th birthday card. MADE AND QUALITY CHECKED IN THE UK: We print and manufacture all our product right her in the UK so you can be sure of a fast turnaround and a product that is expertly made. Using the very best Forest Stewardship Council certified board our card is conscious of the responsible management of the world's forests - rude birthday cards for women, funny birthday cards for her, Dad 74th birthday cards, funny male birthday cards.</td></tr></tbody></table></div>"
      ]
     },
     "metadata": {
      "application/vnd.databricks.v1+output": {
       "addedWidgets": {},
       "aggData": [],
       "aggError": "",
       "aggOverflow": false,
       "aggSchema": [],
       "aggSeriesLimitReached": false,
       "aggType": "",
       "arguments": {},
       "columnCustomDisplayInfos": {},
       "data": [
        [
         "1ed9371c-4277-5afa-b481-df218e942d65",
         "YOOLIFE Initial Jute Tote Bag with Makeup Bag Beach Bag Tote with Zipper Embroidery Monogram Friend Birthday Gifts for Women",
         "Previous page Use for Multiple Occasions Use for Multiple Occasions Use for Multiple Occasions Next page 1 Restaurant 2 Library 3 Beach Various Ways to Wear   Show The Details   Inside Pocket   Top Zipper   Strong Stitches   Waterproof Surface PERFECT PERSONALIZED GIFTS   Makeup Bag   Initial Tote Bag with Makeup Bag"
        ],
        [
         "000bb2a0-5b0f-536b-a879-e9908da3fd7e",
         "ESOW Paper Towel Holder with Shelf Storage, Adhesive Wall Mount 2-in-1 Basket Organizer for Kitchen & Bathroom, Durable Metal Wire Design, Stainless Steel 304 Brushed Nickel Finish, 2 Packs",
         "About this item [Premium Material & Sturdy Construction]: Made of 304 stainless steel and adopted sandblasting technology on the surface to carry out secondary protection, the paper towel holders are waterproof, moisture-proof and rust free, won’t deform when bearing great weight, looks new after long-term use. There is a removable rod to keep the paper towel spin smoothly and steady. Don't worry that the paper towel will fall down when you tear the sheet away. Hollowed bottom, drips fast and is easy to dry. [Large and Versatile Paper Towel Holders & 2 Pack]: It comes with 2 pack paper towel holders. Each shelf storage in a convenient adhesive wall mount rack with attached paper towel holder bar; Shelf can make you saving a large number of space which can storage shelf for spices, cleaning supplies, soaps, candles, lotions and others. The towel bar is open on one end so that you can easily slide your paper towels in place. [Large and Versatile Paper Towel Holders & 2 Pack]: It comes with 2 pack paper towel holders. Each shelf storage in a convenient adhesive wall mount rack with attached paper towel holder bar; Shelf can make you saving a large number of space which can storage shelf for spices, cleaning supplies, soaps, candles, lotions and others. The towel bar is open on one end so that you can easily slide your paper towels in place. [Multiple applications]: Shelfs can make you saving a large number of space which can storage shelf for spices, cleaning supplies, soaps, candles, lotions and others. Smooth surfaces, no sharp edge, and all details we care are for your best to use it. They could be installed in bathroom, kitchen, bedroom, living room, dormitory, washbasin and other places, suitable for both corners and straight walls. Apartment essentials for first apartment! [100% Customer Satisfaction Guarantee]: Each accessory passed 300,000 times load bearing tests, ensuring reliable product performance and durable high quality for customer life using, is built to last. If our ESOW Paper towel holder Shelf Storage does not meet your expectations, return it for 100% refund of your purchase price."
        ],
        [
         "1734c0c9-d29f-5943-9be4-6ddf622e2d35",
         "Solino Home Printed Linen Table Runner 14 x 108 Inch – 100% Pure Linen Blue and White Table Runner for for Indoor, Outdoor – Coastal Raindrops, Handcrafted from European Flax",
         "About this item Coastal Raindrops Table Runner is handcrafted from 100% Pure Linen - the raindrop like pattern brings a splash of color and beautiful texture that is perfectly suited for spring, summer, fall and winter. Size - 14 x 108 Inch. Available in different sizes to fit your needs. Easy Care - Machine Washable, Low Iron as Needed, Steam Iron for a crisp look. The beauty of each pure linen piece is the natural fibers and classic aesthetic that mellows with each washing, betters with age and requires minimal care. Each batch of our linen is different and unique. Slight color and texture variations are an inherent quality of handcrafted pieces, adding to their relaxed beauty and bringing a wonderful heirloom feel to each piece. Create a monochromatic or mix n’match look to fit your style with our coordinating products from this collection. Available in sizes and styles for celebrating weddings, bridal showers, baby showers and special occasions, entertaining for Valentine’s Day, St. Patrick’s Day, Easter, Passover, Memorial Day, 4th of July, Labor Day, Halloween, Thanksgiving, Hanukkah, Christmas and or any holiday celebrations. Classic style for everyday use and special occasions."
        ],
        [
         "5e870f75-e4f6-5e70-b21e-a5345ac77e2f",
         "Magnetic Clasps for Jewelry Making 36pairs Heart Shaped Multicolor Clasp Connected for Bracelet Necklace Making Jewelry Strong Magnet DIY Accessories",
         "Magnetic Clasps for Jewelry Making 36pairs Heart Shaped Multicolor Clasp Connected for Bracelet Necklace Making Jewelry Strong Magnet DIY Accessories"
        ],
        [
         "e1e1fa48-70d3-56ba-9340-730ec138e001",
         "Columbia Women's Top Pine Insulated Rain Jacket",
         "Mountain weather can be fickle—best to be prepared with a jacket that’s as waterproof as it is warm. Crafted of a durable and breathable Omni-TECH™ shell, with a storm hood and drop tail for extra coverage, this insulated layer is exactly that."
        ],
        [
         "93507f55-35f7-5851-94ed-f63a7a02d1be",
         "Bare Home 100% Organic Cotton Queen Sheet Set - Crisp Percale Weave - Lightweight & Breathable - Bedding Sheets & Pillowcases (Queen, Dusty Pink)",
         "About this item SET THE STANDARD: Our Queen Percale Sheet Set is crisp to the touch and beautiful to look at. Our 4-piece queen sheet set is made to impress from first rest and gets softer with each wash. SET INCLUDES: 1 Queen Fitted Sheet (60\" x 80\" x 15\" deep pocket), 1 Queen Flat Sheet (90\" x 102\"), 2 Standard Pillowcases (20\" x 27\"). Fits mattresses up to 15” deep. SLEEP IN LUXURY: At the end of the day, you deserve a crisp feel of hotel luxury. So, go ahead. Slip into Bare Home's lightweight and crisp percale sheets. Made from 100% organic cotton and organic dyes. PURELY ORGANIC: Bare Home organic products meet the highest levels of environmental and social standards from the field to your home. But we don’t stop there. Many chemicals used in fabric production-such as aluminum and formaldehyde-can be harmful to your health. Because of this, our organic bedding is OEKO-TEX and GOTS Certified free of toxic chemicals. Fabrics not treated with anti-wrinkle agents may wrinkle more easily. To remedy, remove promptly from the dryer and steam or iron as needed. EASY DOES IT: Bedtime is supposed to be relaxing. That’s why Bare Home's bedding sheets & pillowcases are machine washable and designed to perform flawlessly every day, night, or nap time. They even become softer with every wash, just like your favorite cotton t-shirt. REST ASSURED: Your first 30 nights are on us. Literally. If you don’t love our queen size sheets, send them back."
        ],
        [
         "a0449958-ae46-586f-a9a6-e2b162d0f104",
         "Vertical Cable CAT5E, 350 MHz, UTP, 24AWG, 8C Solid Bare Copper, Plenum, 1000ft, Blue, Bulk Ethernet Cable",
         "This Cat 5e unshielded twisted pair ( utp ) plenum cable is a high performance data communication cable suitable for 350mhz high speed applications. It has excellent attenuation and crosstalk characteristics and exceeds TIA/EIA-568-C.2 specification.This ethernet cable is designed for indoor plenum network installations and is listed by UL to be type CMP. This cable can be installed in air plenums and roof ducts in accordance with NEC Article 800. The wires are 24 awg in size and are made of solid bare copper conductors. All 4 pairs are easily identified by color stripes. The insulation material is FEP which is the best flame retardant and fire resistant material and the jacket is made of flame retardant polyvinyl chloride. This cable is supplied in 1000 ft pull box and sequential length markings are printed on the jacket. Brand for this product is Vertical Cable."
        ],
        [
         "7a91534f-8098-58e2-b02e-63c2698d2ff9",
         "FIFA 16 - Standard Edition - PlayStation 3",
         "Football presents the moment...FIFA 16 lets you make it beautiful. FIFA 16 innovates across the entire pitch to deliver a balanced, authentic, and exciting football experience that lets you play your way, in your favorite modes. With innovative gameplay features, FIFA 16 brings Confidence in Defending, Control in Midfield, and gives you the tools to create more Moments of Magic than ever before.System Requirements:Supported Platforms: PlayStation 3 PlayStation account required for game activation and installation"
        ],
        [
         "62caabfd-8dc9-553e-89a6-08ccb6c50240",
         "Nike Men's NSW Club Pant Open Hem",
         "A closet staple, the Nike Sportswear Club Fleece Pants combine classic style with the soft comfort of fleece for an elevated, everyday look that you really can wear every day."
        ],
        [
         "c16ea3c7-9cf6-57a9-853d-53a01f7fda2f",
         "74th Birthday Card for Women Men - Not 74 I'm 18 With 56 Years Experience - Funny Seventy-Four Seventy-Fourth Happy Birthday Card for Mom Dad Grandad Grandma, 5.7 x 5.7 Inch Humour Joke Greeting Cards",
         "About this item MAKE THEM LAUGH WITH THIS FUNNY BIRTHDAY CARD: This exceptional quality birthday card for her or him shows the design I'm Not 74, I'm 18 With 56 Years Experience If you are looking for funny birthday cards for women, then then this happy 74thbirthday card is bound to make them laugh. Not just for friendship gifts for women this could also be for Mom, Dad, Great Grandad, Grandma, Nan, Great Nanny, Brother, Sister, Cousin, Auntie or Uncle. WHAT DO YOU GET: The card is printed on one side and BLANK ON THE INSIDE to allow you to write your very own message. The unique fun design is printed on a specially sourced and environmentally responsible board. At 360 microns thick and 300gsm the natural white one-sided gloss board has a quality look and feel. Supplied with a coloured gummed envelope to complement the design and ready to be sealed and sent in the post. Grandma birthday cards, 74th birthday card, adult birthday card. NO INK SMUDGES: There is nothing worse than writing inside a card to find that the shiny surface makes the ink smudge. This is why we use a high quality one sided coated board. The uncoated side will absorb more of the ink from your pen to make smudging a thing of the past. 74th birthday card funny, happy birthday Grandad cards, 74th birthday cards for men. SIZES: Greeting Card = 5.7 Inch x 5.7 Inch, Envelope = 6.1 Inch x 6.1 Inch, Card Weight 300gsm, Card Thickness = 360 micron. Great Grandad or Nanny birthday cards from Grandchild or Grandchildren. Best Friend 74th birthday card, birthday cards for Dad, rude birthday cards for men, 74th birthday card Mom, funny 74th birthday card. MADE AND QUALITY CHECKED IN THE UK: We print and manufacture all our product right her in the UK so you can be sure of a fast turnaround and a product that is expertly made. Using the very best Forest Stewardship Council certified board our card is conscious of the responsible management of the world's forests - rude birthday cards for women, funny birthday cards for her, Dad 74th birthday cards, funny male birthday cards."
        ]
       ],
       "datasetInfos": [],
       "dbfsResultPath": null,
       "isJsonSchema": true,
       "metadata": {},
       "overflow": false,
       "plotOptions": {
        "customPlotOptions": {},
        "displayType": "table",
        "pivotAggregation": null,
        "pivotColumns": null,
        "xColumns": null,
        "yColumns": null
       },
       "removedWidgets": [],
       "schema": [
        {
         "metadata": "{}",
         "name": "uuid",
         "type": "\"string\""
        },
        {
         "metadata": "{}",
         "name": "title",
         "type": "\"string\""
        },
        {
         "metadata": "{}",
         "name": "description",
         "type": "\"string\""
        }
       ],
       "type": "table"
      }
     },
     "output_type": "display_data"
    }
   ],
   "source": [
    "\n",
    "def create_uuid(title, description):\n",
    "    obj = {\n",
    "        \"title\": title,\n",
    "        \"description\": description\n",
    "    }\n",
    "    return str(generate_uuid5(obj))\n",
    "\n",
    "create_uuid_udf = udf(create_uuid, StringType())\n",
    "\n",
    "df = df.withColumn(\"uuid\", create_uuid_udf(df[\"title\"], df[\"description\"]))\\\n",
    "        .select(\"uuid\", \"title\", \"description\")\n",
    "\n",
    "display(df)"
   ]
  },
  {
   "cell_type": "markdown",
   "metadata": {
    "application/vnd.databricks.v1+cell": {
     "cellMetadata": {},
     "inputWidgets": {},
     "nuid": "2c6182a2-7cec-4ea0-a6b1-04d1d8b2bbfb",
     "showTitle": false,
     "tableResultSettingsMap": {},
     "title": ""
    }
   },
   "source": [
    "## Create the Weaviate Collection"
   ]
  },
  {
   "cell_type": "code",
   "execution_count": 0,
   "metadata": {
    "application/vnd.databricks.v1+cell": {
     "cellMetadata": {
      "byteLimit": 2048000,
      "rowLimit": 10000
     },
     "inputWidgets": {},
     "nuid": "224f688f-b94a-4e6d-9e71-abc11542e737",
     "showTitle": false,
     "tableResultSettingsMap": {},
     "title": ""
    }
   },
   "outputs": [
    {
     "name": "stderr",
     "output_type": "stream",
     "text": [
      "/local_disk0/.ephemeral_nfs/cluster_libraries/python/lib/python3.11/site-packages/anyio/_backends/_asyncio.py:585: DeprecationWarning: Passing 'msg' argument to Task.cancel() is deprecated since Python 3.11, and scheduled for removal in Python 3.14.\n",
      "  should_retry = scope._deliver_cancellation(origin) or should_retry\n",
      "/local_disk0/.ephemeral_nfs/cluster_libraries/python/lib/python3.11/site-packages/anyio/_backends/_asyncio.py:585: DeprecationWarning: Passing 'msg' argument to Future.cancel() is deprecated since Python 3.11, and scheduled for removal in Python 3.14.\n",
      "  should_retry = scope._deliver_cancellation(origin) or should_retry\n",
      "/local_disk0/.ephemeral_nfs/cluster_libraries/python/lib/python3.11/site-packages/weaviate/collections/classes/config.py:2082: PydanticDeprecatedSince211: Accessing the 'model_fields' attribute on the instance is deprecated. Instead, you should access this attribute from the model class. Deprecated in Pydantic V2.11 to be removed in V3.0.\n",
      "  for cls_field in self.model_fields:\n"
     ]
    }
   ],
   "source": [
    "if client.collections.exists(\"AmazonProducts\"):\n",
    "    client.collections.delete(\"AmazonProducts\")\n",
    "\n",
    "collection = client.collections.create(\n",
    "    name=\"AmazonProducts\",\n",
    "    vectorizer_config=[\n",
    "        wvcc.Configure.NamedVectors.text2vec_databricks(\n",
    "            name=\"default\", \n",
    "            endpoint=EMBEDDINGS_ENDPOINT\n",
    "        )\n",
    "    ],\n",
    "    generative_config=wvcc.Configure.Generative.databricks(\n",
    "        endpoint=LLM_ENDPOINT, \n",
    "        max_tokens=8092\n",
    "    ),\n",
    "    properties=[\n",
    "        wvcc.Property(\n",
    "            name=\"title\",\n",
    "            data_type=wvcc.DataType.TEXT\n",
    "        ),\n",
    "        wvcc.Property(\n",
    "            name=\"description\",\n",
    "            data_type=wvcc.DataType.TEXT\n",
    "        )\n",
    "    ]\n",
    ")"
   ]
  },
  {
   "cell_type": "markdown",
   "metadata": {
    "application/vnd.databricks.v1+cell": {
     "cellMetadata": {},
     "inputWidgets": {},
     "nuid": "b0fd3460-b491-4809-b299-35f694538ec0",
     "showTitle": false,
     "tableResultSettingsMap": {},
     "title": ""
    }
   },
   "source": [
    "## Ingest the data into Weaviate "
   ]
  },
  {
   "cell_type": "code",
   "execution_count": 0,
   "metadata": {
    "application/vnd.databricks.v1+cell": {
     "cellMetadata": {
      "byteLimit": 2048000,
      "rowLimit": 10000
     },
     "inputWidgets": {},
     "nuid": "123c57ef-2127-4288-af4a-b981e32613c0",
     "showTitle": false,
     "tableResultSettingsMap": {},
     "title": ""
    }
   },
   "outputs": [],
   "source": [
    "df.write.format(\"io.weaviate.spark.Weaviate\") \\\n",
    "    .option(\"batchSize\", 200) \\\n",
    "    .option(\"scheme\", \"https\") \\\n",
    "    .option(\"host\", WEAVIATE_URL.replace(\"https://\",\"\")) \\\n",
    "    .option(\"apiKey\", WEAVIATE_API_KEY) \\\n",
    "    .option(\"header:X-Databricks-Token\", DATABRICKS_TOKEN) \\\n",
    "    .option(\"className\", \"AmazonProducts\") \\\n",
    "    .option(\"id\", \"uuid\") \\\n",
    "    .mode(\"append\") \\\n",
    "    .save()\n"
   ]
  },
  {
   "cell_type": "markdown",
   "metadata": {
    "application/vnd.databricks.v1+cell": {
     "cellMetadata": {},
     "inputWidgets": {},
     "nuid": "8d15331c-9b23-4f0f-8147-4832e0fbb84d",
     "showTitle": false,
     "tableResultSettingsMap": {},
     "title": ""
    }
   },
   "source": [
    "Count the number of objects in the `AmazonProducts` collection"
   ]
  },
  {
   "cell_type": "code",
   "execution_count": 0,
   "metadata": {
    "application/vnd.databricks.v1+cell": {
     "cellMetadata": {
      "byteLimit": 2048000,
      "rowLimit": 10000
     },
     "inputWidgets": {},
     "nuid": "44081aa4-5751-4113-9973-f156c60faa0f",
     "showTitle": false,
     "tableResultSettingsMap": {},
     "title": ""
    }
   },
   "outputs": [
    {
     "data": {
      "text/plain": [
       "10"
      ]
     },
     "execution_count": 42,
     "metadata": {},
     "output_type": "execute_result"
    }
   ],
   "source": [
    "products = client.collections.get(\"AmazonProducts\")\n",
    "\n",
    "total_count_in_weaviate = products.aggregate.over_all(total_count=True).total_count\n",
    "total_count_in_weaviate"
   ]
  },
  {
   "cell_type": "markdown",
   "metadata": {
    "application/vnd.databricks.v1+cell": {
     "cellMetadata": {},
     "inputWidgets": {},
     "nuid": "7f52137b-6d5f-4825-8372-42b55bff2e42",
     "showTitle": false,
     "tableResultSettingsMap": {},
     "title": ""
    }
   },
   "source": [
    "## Search"
   ]
  },
  {
   "cell_type": "code",
   "execution_count": 0,
   "metadata": {
    "application/vnd.databricks.v1+cell": {
     "cellMetadata": {
      "byteLimit": 2048000,
      "rowLimit": 10000
     },
     "inputWidgets": {},
     "nuid": "8c36bff7-ad95-4ee5-8be2-c113233cd81d",
     "showTitle": false,
     "tableResultSettingsMap": {},
     "title": ""
    }
   },
   "outputs": [],
   "source": [
    "# Get the `AmazonProducts` collection \n",
    "products = client.collections.get(\"AmazonProducts\")"
   ]
  },
  {
   "cell_type": "markdown",
   "metadata": {
    "application/vnd.databricks.v1+cell": {
     "cellMetadata": {},
     "inputWidgets": {},
     "nuid": "788bf6f3-4c18-4d41-8014-a1ecc08c2712",
     "showTitle": false,
     "tableResultSettingsMap": {},
     "title": ""
    }
   },
   "source": [
    "## Vector Search\n",
    "\n",
    "Vector search returns the objects with most similar vectors to that of the query."
   ]
  },
  {
   "cell_type": "code",
   "execution_count": 0,
   "metadata": {
    "application/vnd.databricks.v1+cell": {
     "cellMetadata": {
      "byteLimit": 2048000,
      "rowLimit": 10000
     },
     "inputWidgets": {},
     "nuid": "afc7a78b-aead-4fa3-ac03-fa27f02d3b04",
     "showTitle": false,
     "tableResultSettingsMap": {},
     "title": ""
    }
   },
   "outputs": [
    {
     "name": "stdout",
     "output_type": "stream",
     "text": [
      "{\n",
      "  \"title\": \"Bare Home 100% Organic Cotton Queen Sheet Set - Crisp Percale Weave - Lightweight & Breathable - Bedding Sheets & Pillowcases (Queen, Dusty Pink)\",\n",
      "  \"description\": \"About this item SET THE STANDARD: Our Queen Percale Sheet Set is crisp to the touch and beautiful to look at. Our 4-piece queen sheet set is made to impress from first rest and gets softer with each wash. SET INCLUDES: 1 Queen Fitted Sheet (60\\\" x 80\\\" x 15\\\" deep pocket), 1 Queen Flat Sheet (90\\\" x 102\\\"), 2 Standard Pillowcases (20\\\" x 27\\\"). Fits mattresses up to 15\\u201d deep. SLEEP IN LUXURY: At the end of the day, you deserve a crisp feel of hotel luxury. So, go ahead. Slip into Bare Home's lightweight and crisp percale sheets. Made from 100% organic cotton and organic dyes. PURELY ORGANIC: Bare Home organic products meet the highest levels of environmental and social standards from the field to your home. But we don\\u2019t stop there. Many chemicals used in fabric production-such as aluminum and formaldehyde-can be harmful to your health. Because of this, our organic bedding is OEKO-TEX and GOTS Certified free of toxic chemicals. Fabrics not treated with anti-wrinkle agents may wrinkle more easily. To remedy, remove promptly from the dryer and steam or iron as needed. EASY DOES IT: Bedtime is supposed to be relaxing. That\\u2019s why Bare Home's bedding sheets & pillowcases are machine washable and designed to perform flawlessly every day, night, or nap time. They even become softer with every wash, just like your favorite cotton t-shirt. REST ASSURED: Your first 30 nights are on us. Literally. If you don\\u2019t love our queen size sheets, send them back.\"\n",
      "} \n",
      "\n",
      "{\n",
      "  \"title\": \"ESOW Paper Towel Holder with Shelf Storage, Adhesive Wall Mount 2-in-1 Basket Organizer for Kitchen & Bathroom, Durable Metal Wire Design, Stainless Steel 304 Brushed Nickel Finish, 2 Packs\",\n",
      "  \"description\": \"About this item [Premium Material & Sturdy Construction]: Made of 304 stainless steel and adopted sandblasting technology on the surface to carry out secondary protection, the paper towel holders are waterproof, moisture-proof and rust free, won\\u2019t deform when bearing great weight, looks new after long-term use. There is a removable rod to keep the paper towel spin smoothly and steady. Don't worry that the paper towel will fall down when you tear the sheet away. Hollowed bottom, drips fast and is easy to dry. [Large and Versatile Paper Towel Holders & 2 Pack]: It comes with 2 pack paper towel holders. Each shelf storage in a convenient adhesive wall mount rack with attached paper towel holder bar; Shelf can make you saving a large number of space which can storage shelf for spices, cleaning supplies, soaps, candles, lotions and others. The towel bar is open on one end so that you can easily slide your paper towels in place. [Large and Versatile Paper Towel Holders & 2 Pack]: It comes with 2 pack paper towel holders. Each shelf storage in a convenient adhesive wall mount rack with attached paper towel holder bar; Shelf can make you saving a large number of space which can storage shelf for spices, cleaning supplies, soaps, candles, lotions and others. The towel bar is open on one end so that you can easily slide your paper towels in place. [Multiple applications]: Shelfs can make you saving a large number of space which can storage shelf for spices, cleaning supplies, soaps, candles, lotions and others. Smooth surfaces, no sharp edge, and all details we care are for your best to use it. They could be installed in bathroom, kitchen, bedroom, living room, dormitory, washbasin and other places, suitable for both corners and straight walls. Apartment essentials for first apartment! [100% Customer Satisfaction Guarantee]: Each accessory passed 300,000 times load bearing tests, ensuring reliable product performance and durable high quality for customer life using, is built to last. If our ESOW Paper towel holder Shelf Storage does not meet your expectations, return it for 100% refund of your purchase price.\"\n",
      "} \n",
      "\n"
     ]
    }
   ],
   "source": [
    "response = products.query.near_text(\n",
    "    query=\"home essentials\",\n",
    "    limit=2\n",
    ")\n",
    "\n",
    "for item in response.objects:\n",
    "    print(json.dumps(item.properties, indent=2), \"\\n\")"
   ]
  },
  {
   "cell_type": "markdown",
   "metadata": {
    "application/vnd.databricks.v1+cell": {
     "cellMetadata": {},
     "inputWidgets": {},
     "nuid": "fb2df8ff-14cd-4453-a1bf-db06bad44f86",
     "showTitle": false,
     "tableResultSettingsMap": {},
     "title": ""
    }
   },
   "source": [
    "### Hybrid Search\n",
    "\n",
    "The `alpha` parameter determines the weight given to the sparse and dense search methods. `alpha = 0` is pure sparse (bm25) search, whereas `alpha = 1` is pure dense (vector) search.\n",
    "\n",
    "Alpha is an optional parameter. The default is set to `0.75`."
   ]
  },
  {
   "cell_type": "code",
   "execution_count": 0,
   "metadata": {
    "application/vnd.databricks.v1+cell": {
     "cellMetadata": {
      "byteLimit": 2048000,
      "rowLimit": 10000
     },
     "inputWidgets": {},
     "nuid": "08e28827-3b9a-4ad7-8d82-edcca334859e",
     "showTitle": false,
     "tableResultSettingsMap": {},
     "title": ""
    }
   },
   "outputs": [
    {
     "name": "stdout",
     "output_type": "stream",
     "text": [
      "{\n",
      "  \"title\": \"Columbia Women's Top Pine Insulated Rain Jacket\",\n",
      "  \"description\": \"Mountain weather can be fickle\\u2014best to be prepared with a jacket that\\u2019s as waterproof as it is warm. Crafted of a durable and breathable Omni-TECH\\u2122 shell, with a storm hood and drop tail for extra coverage, this insulated layer is exactly that.\"\n",
      "} \n",
      "\n",
      "{\n",
      "  \"title\": \"Solino Home Printed Linen Table Runner 14 x 108 Inch \\u2013 100% Pure Linen Blue and White Table Runner for for Indoor, Outdoor \\u2013 Coastal Raindrops, Handcrafted from European Flax\",\n",
      "  \"description\": \"About this item Coastal Raindrops Table Runner is handcrafted from 100% Pure Linen - the raindrop like pattern brings a splash of color and beautiful texture that is perfectly suited for spring, summer, fall and winter. Size - 14 x 108 Inch. Available in different sizes to fit your needs. Easy Care - Machine Washable, Low Iron as Needed, Steam Iron for a crisp look. The beauty of each pure linen piece is the natural fibers and classic aesthetic that mellows with each washing, betters with age and requires minimal care. Each batch of our linen is different and unique. Slight color and texture variations are an inherent quality of handcrafted pieces, adding to their relaxed beauty and bringing a wonderful heirloom feel to each piece. Create a monochromatic or mix n\\u2019match look to fit your style with our coordinating products from this collection. Available in sizes and styles for celebrating weddings, bridal showers, baby showers and special occasions, entertaining for Valentine\\u2019s Day, St. Patrick\\u2019s Day, Easter, Passover, Memorial Day, 4th of July, Labor Day, Halloween, Thanksgiving, Hanukkah, Christmas and or any holiday celebrations. Classic style for everyday use and special occasions.\"\n",
      "} \n",
      "\n"
     ]
    }
   ],
   "source": [
    "response = products.query.hybrid(\n",
    "    query=\"stay dry in the rain\",\n",
    "    query_properties=[\"title\"],\n",
    "    alpha=0.7,\n",
    "    limit=2\n",
    ")\n",
    "\n",
    "for item in response.objects:\n",
    "    print(json.dumps(item.properties, indent=2), \"\\n\")\n"
   ]
  },
  {
   "cell_type": "markdown",
   "metadata": {
    "application/vnd.databricks.v1+cell": {
     "cellMetadata": {},
     "inputWidgets": {},
     "nuid": "e2409322-4dbd-49c9-8cbe-eed47c193a3b",
     "showTitle": false,
     "tableResultSettingsMap": {},
     "title": ""
    }
   },
   "source": [
    "### Generative Search (RAG)"
   ]
  },
  {
   "cell_type": "code",
   "execution_count": 0,
   "metadata": {
    "application/vnd.databricks.v1+cell": {
     "cellMetadata": {
      "byteLimit": 2048000,
      "rowLimit": 10000
     },
     "inputWidgets": {},
     "nuid": "7b385ff1-130c-4f80-b494-3bfdf59b86f3",
     "showTitle": false,
     "tableResultSettingsMap": {},
     "title": ""
    }
   },
   "outputs": [
    {
     "name": "stdout",
     "output_type": "stream",
     "text": [
      "Here's why each product is needed in your home:\n",
      "\n",
      "1. **Bare Home 100% Organic Cotton Queen Sheet Set**: This product is needed in your home for a comfortable and healthy sleep. The sheet set is made of 100% organic cotton, which is breathable, soft, and gentle on your skin. It's also free of toxic chemicals, ensuring a safe and healthy sleep environment. Additionally, the sheet set is machine washable and becomes softer with every wash, making it a practical and durable choice for your bedroom.\n",
      "\n",
      "2. **ESOW Paper Towel Holder with Shelf Storage**: This product is needed in your home for convenience and organization. The paper towel holder with shelf storage provides a compact and space-saving solution for storing paper towels, spices, cleaning supplies, and other essentials in your kitchen, bathroom, or other rooms. The adhesive wall mount design makes it easy to install, and the stainless steel construction ensures durability and rust-resistance. The shelf storage also helps keep your countertops clutter-free, making it easier to clean and maintain your home.\n",
      "\n",
      "In summary, the sheet set is essential for a comfortable and healthy sleep, while the paper towel holder with shelf storage is necessary for convenience, organization, and decluttering your home. Both products can contribute to a more comfortable, practical, and enjoyable living space.\n"
     ]
    }
   ],
   "source": [
    "generate_prompt = \"Explain why each product is needed in my home.\"\n",
    "\n",
    "response = products.generate.near_text(\n",
    "    query=\"home essentials\",\n",
    "    return_properties=[\"title\", \"description\"],\n",
    "    grouped_task=generate_prompt,\n",
    "    limit=2\n",
    ")\n",
    "\n",
    "print(response.generated)"
   ]
  }
 ],
 "metadata": {
  "application/vnd.databricks.v1+notebook": {
   "computePreferences": null,
   "dashboards": [],
   "environmentMetadata": {
    "base_environment": "",
    "environment_version": "2"
   },
   "inputWidgetPreferences": null,
   "language": "python",
   "notebookMetadata": {
    "mostRecentlyExecutedCommandWithImplicitDF": {
     "commandId": 6682984511051722,
     "dataframes": [
      "_sqldf"
     ]
    },
    "pythonIndentUnit": 4
   },
   "notebookName": "Blog Post Notebook",
   "widgets": {}
  },
  "language_info": {
   "name": "python"
  }
 },
 "nbformat": 4,
 "nbformat_minor": 0
}
