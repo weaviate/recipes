{
 "cells": [
  {
   "cell_type": "markdown",
   "id": "a8a3fbf0",
   "metadata": {},
   "source": [
    "[![Open In Colab](https://colab.research.google.com/assets/colab-badge.svg)](https://colab.research.google.com/github/weaviate/recipes/blob/main/integrations/data-platforms/box/weaviate_box.ipynb)"
   ]
  },
  {
   "cell_type": "markdown",
   "id": "c2965d4b",
   "metadata": {},
   "source": [
    "## Python Jupyter Notebook Recipe: Weaviate + Box Integration RAG Chat Demo\n",
    "\n",
    "Author: Alexander Novotny from Box\n",
    "\n",
    "This notebook demonstrates how to:\n",
    "1. Authenticate with Box using a developer token via the Box Python-gen SDK.\n",
    "2. Create a Box folder and upload demo files.\n",
    "3. Retrieve the file content from the Box folder, using Box's text representations.\n",
    "4. Generate embeddings for the file content using Weviate Embeddings.\n",
    "5. Store the embeddings and metadata in Weaviate.\n",
    "6. Implement a q/a service to query the content using Weaviate’s new agent service.\n",
    "\n",
    "### Prerequisites\n",
    "- A Box account with a custom application and developer token (you can generate one in the Box Developer Console).\n",
    "- A Weaviate cloud instance + cluster."
   ]
  },
  {
   "cell_type": "markdown",
   "id": "c73fe69d",
   "metadata": {},
   "source": [
    "### Step 1: Install Dependencies\n",
    "First, install the required Python packages in your Jupyter environment."
   ]
  },
  {
   "cell_type": "code",
   "execution_count": null,
   "id": "71cb0920",
   "metadata": {},
   "outputs": [],
   "source": [
    "!python3 -m venv venv\n",
    "!source venv/bin/activate\n",
    "!pip3 install \"weaviate-client[agents]==4.11.1\" box-sdk-gen requests"
   ]
  },
  {
   "cell_type": "markdown",
   "id": "b097ede8",
   "metadata": {},
   "source": [
    "### Step 2: Import Libraries\n",
    "Import the necessary libraries for Box, Weaviate, and Cohere."
   ]
  },
  {
   "cell_type": "code",
   "execution_count": 3,
   "id": "8e318f74",
   "metadata": {},
   "outputs": [],
   "source": [
    "import weaviate\n",
    "from weaviate.auth import AuthApiKey\n",
    "from weaviate.agents.query import QueryAgent\n",
    "from box_sdk_gen import BoxClient, BoxDeveloperTokenAuth, CreateFolderParent\n",
    "import re\n",
    "import requests\n",
    "from pathlib import Path"
   ]
  },
  {
   "cell_type": "markdown",
   "id": "6a328b76",
   "metadata": {},
   "source": [
    "### Step 3: Authentication\n",
    "Set up authentication for Box and Weaviate"
   ]
  },
  {
   "cell_type": "code",
   "execution_count": null,
   "id": "6ee79348",
   "metadata": {},
   "outputs": [],
   "source": [
    "# Box Developer Token (replace with your own)\n",
    "BOX_DEVELOPER_TOKEN = 'TOKEN'\n",
    "\n",
    "# Weaviate Instance URL and API Key (replace with your own)\n",
    "WEAVIATE_URL = 'URL'\n",
    "WEAVIATE_API_KEY = 'API KEY'\n",
    "\n",
    "\n",
    "def main(box_token: str, weaviate_url: str, weaviate_api_key: str):\n",
    "    # Initialize Box Client\n",
    "    auth = BoxDeveloperTokenAuth(token=box_token)\n",
    "    box_client = BoxClient(auth=auth)\n",
    "    \n",
    "    # Initialize Weaviate Client with Cohere for vectorization\n",
    "    weaviate_client = weaviate.connect_to_wcs(\n",
    "        cluster_url=weaviate_url,\n",
    "        auth_credentials=AuthApiKey(weaviate_api_key) if weaviate_api_key else None\n",
    "    )\n",
    "    \n",
    "    return box_client, weaviate_client\n",
    "\n",
    "box_client, weaviate_client = main(\n",
    "    BOX_DEVELOPER_TOKEN, WEAVIATE_URL, WEAVIATE_API_KEY\n",
    ")\n",
    "print(\"Clients initialized successfully.\")"
   ]
  },
  {
   "cell_type": "markdown",
   "id": "ea2eeeee",
   "metadata": {},
   "source": [
    "### Step 4: Define Weaviate Schema\n",
    "Create a schema in Weaviate to store document embeddings and metadata. We’ll use Weaviate's build in `text2vec_weaviate` vectorizer."
   ]
  },
  {
   "cell_type": "code",
   "execution_count": null,
   "id": "93ea9043",
   "metadata": {},
   "outputs": [],
   "source": [
    "from weaviate.classes.config import Property, DataType, Configure\n",
    "\n",
    "if not weaviate_client.collections.exists(\"Documents\"):\n",
    "    weaviate_client.collections.create(\n",
    "        name=\"Documents\",\n",
    "        generative_config=Configure.Generative.cohere(),\n",
    "        properties=[\n",
    "            Property(name=\"file_id\", data_type=DataType.TEXT, skip_vectorization=True),\n",
    "            Property(name=\"file_name\", data_type=DataType.TEXT, skip_vectorization=True),\n",
    "            Property(name=\"chunk_index\", data_type=DataType.INT, skip_vectorization=True),\n",
    "            Property(name=\"content\", data_type=DataType.TEXT),\n",
    "            Property(name=\"created_date\", data_type=DataType.TEXT, skip_vectorization=True),\n",
    "        ],\n",
    "        vectorizer_config=Configure.Vectorizer.text2vec_weaviate()\n",
    "    )\n",
    "    print(\"Schema 'Documents' created successfully.\")\n",
    "else:\n",
    "    print(\"Schema 'Documents' already exists.\")"
   ]
  },
  {
   "cell_type": "markdown",
   "id": "fa12b695",
   "metadata": {},
   "source": [
    "### Step 5: Upload files to Box\n",
    "Uploads demo content to Box"
   ]
  },
  {
   "cell_type": "code",
   "execution_count": null,
   "id": "b27076bb",
   "metadata": {},
   "outputs": [],
   "source": [
    "SUPPORTED_TEXT_FILE_TYPES = {\n",
    "    \".doc\", \".docx\", \".pdf\", \".txt\", \".html\", \".md\", \".json\", \".xml\",\n",
    "    \".ppt\", \".pptx\", \".key\", \".xls\", \".xlsx\", \".csv\"\n",
    "}\n",
    "\n",
    "def is_supported_file_type(file_name):\n",
    "    return any(file_name.endswith(ext) for ext in SUPPORTED_TEXT_FILE_TYPES)\n",
    "\n",
    "def create_and_populate_folder(client: BoxClient):\n",
    "    parent = CreateFolderParent(id=\"0\")\n",
    "    folder = client.folders.create_folder(name=\"Box_Weaviate_Demo_Folder\", parent=parent)\n",
    "    print(f\"Created folder 'Demo_Folder' with ID: {folder.id}\")\n",
    "\n",
    "    demo_dir = Path(\"demo_files\")\n",
    "    if not demo_dir.exists():\n",
    "        raise FileNotFoundError(\"Please create a 'demo_files' directory with example files.\")\n",
    "\n",
    "    file_objects = []\n",
    "    for file_path in demo_dir.iterdir():\n",
    "        if file_path.is_file() and is_supported_file_type(file_path.name):\n",
    "            with open(file_path, \"rb\") as file_content:\n",
    "                uploaded_files = client.uploads.upload_file(\n",
    "                    attributes={\"name\": file_path.name, \"parent\": {\"id\": folder.id}},\n",
    "                    file=file_content\n",
    "                )\n",
    "                uploaded_file = uploaded_files.entries[0]\n",
    "                file_objects.append(uploaded_file)\n",
    "                print(f\"Uploaded {file_path.name} with ID: {uploaded_file.id}\")\n",
    "        elif file_path.is_file():\n",
    "            print(f\"Skipped {file_path.name} - unsupported file type.\")\n",
    "\n",
    "    if not file_objects:\n",
    "        print(\"Warning: No supported files were uploaded from demo_files directory.\")\n",
    "    \n",
    "    return file_objects\n",
    "\n",
    "uploaded_files = create_and_populate_folder(box_client)"
   ]
  },
  {
   "cell_type": "markdown",
   "id": "899f16a9",
   "metadata": {},
   "source": [
    "### Step 6: Extract Text and Import into Weaviate\n",
    "Batch import the data into Weaviate, where Cohere’s vectorizer will automatically generate embeddings."
   ]
  },
  {
   "cell_type": "code",
   "execution_count": null,
   "id": "84499d84",
   "metadata": {},
   "outputs": [],
   "source": [
    "def clean_up_text(content: str) -> str:\n",
    "    content = re.sub(r'(\\w+)-\\n(\\w+)', r'\\1\\2', content)\n",
    "    unwanted_patterns = [\"\\\\\\\\n\", \"  —\", \"——————————\", \"—————————\", \"—————\", r'\\\\\\\\u[\\dA-Fa-f]{4}', r'\\\\uf075', r'\\\\uf0b7']\n",
    "    for pattern in unwanted_patterns:\n",
    "        content = re.sub(pattern, \"\", content)\n",
    "    content = re.sub(r'(\\w)\\s*-\\s*(\\w)', r'\\1-\\2', content)\n",
    "    content = re.sub(r'\\s+', ' ', content)\n",
    "    return content\n",
    "\n",
    "def get_file_text_content(file, max_retries=5, delay=5):\n",
    "    for attempt in range(max_retries):\n",
    "        special_client = box_client.with_extra_headers(extra_headers={\"x-rep-hints\": \"[extracted_text]\", \"x-box-ai-library\": \"weaviate\"})\n",
    "        file = special_client.files.get_file_by_id(file.id, fields=[\"representations\"])\n",
    "        if file.representations and file.representations.entries:\n",
    "            for rep in file.representations.entries:\n",
    "                if rep.representation == \"extracted_text\":\n",
    "                    download_url = rep.content.url_template.replace(\"{+asset_path}\", \"\") + '?access_token=' + box_client.auth.token\n",
    "                    response = requests.get(download_url)\n",
    "                    response.raise_for_status()\n",
    "                    return clean_up_text(response.text)\n",
    "                else:\n",
    "                    print(f\"Text representation not ready for file {file.id}\")\n",
    "                    raise ValueError(f\"Text representation not ready for file {file.id}\")\n",
    "        if attempt == max_retries - 1:\n",
    "            raise ValueError(f\"Text representation not ready for {file.name} after {max_retries} attempts.\")\n",
    "\n",
    "def chunk_text(text, chunk_size=4000, overlap=200):\n",
    "    chunks = []\n",
    "    start = 0\n",
    "    while start < len(text):\n",
    "        end = start + chunk_size\n",
    "        chunk = text[start:end]\n",
    "        chunks.append(chunk)\n",
    "        start = end - overlap\n",
    "    return chunks\n",
    "\n",
    "def extract_and_import(files):\n",
    "    collection = weaviate_client.collections.get(\"Documents\")\n",
    "    \n",
    "    # Check existing objects to avoid duplicates (idempotency on rerun)\n",
    "    existing_chunks = set()\n",
    "    try:\n",
    "        response = collection.query.fetch_objects(\n",
    "            return_properties=[\"file_id\", \"chunk_index\"],\n",
    "            limit=10000  # Adjust based on expected data size\n",
    "        )\n",
    "        for obj in response.objects:\n",
    "            file_id = obj.properties[\"file_id\"]\n",
    "            chunk_index = obj.properties[\"chunk_index\"]\n",
    "            existing_chunks.add((file_id, chunk_index))\n",
    "    except Exception as e:\n",
    "        print(f\"Warning: Could not fetch existing objects for deduplication: {e}\")\n",
    "\n",
    "    with collection.batch.dynamic() as batch:\n",
    "        for file in files:\n",
    "            try:\n",
    "                text = get_file_text_content(file)\n",
    "                chunks = chunk_text(text)\n",
    "                for i, chunk in enumerate(chunks):\n",
    "                    chunk_key = (file.id, i)\n",
    "                    if chunk_key in existing_chunks:\n",
    "                        continue  # Skip if chunk already exists\n",
    "                    batch.add_object(properties={\n",
    "                        \"file_id\": file.id,\n",
    "                        \"file_name\": file.name,\n",
    "                        \"chunk_index\": i,\n",
    "                        \"content\": chunk,\n",
    "                        \"created_date\": file.created_at\n",
    "                    })\n",
    "            except Exception as e:\n",
    "                print(f\"Error processing {file.name}: {e}\")\n",
    "\n",
    "extract_and_import(uploaded_files)"
   ]
  },
  {
   "cell_type": "markdown",
   "id": "7093f125",
   "metadata": {},
   "source": [
    "### Step 7: Search with Weaviate Query Agent\n",
    "Ask a question and get a response based on the imported content"
   ]
  },
  {
   "cell_type": "code",
   "execution_count": null,
   "id": "9515726e",
   "metadata": {},
   "outputs": [],
   "source": [
    "# Initialize Query Agent\n",
    "query_agent = QueryAgent(\n",
    "    client=weaviate_client,\n",
    "    collections=[\"Documents\"],\n",
    "    system_prompt=\"Provide concise answers based on the data in the Documents collection.\"\n",
    ")\n",
    "\n",
    "# Define your query\n",
    "query = \"Based on Google and Apple's reports, which company has the most revenue?\"\n",
    "\n",
    "# Use Query Agent to get an answer\n",
    "response = query_agent.run(query)\n",
    "\n",
    "# Print the response\n",
    "response.display()"
   ]
  }
 ],
 "metadata": {
  "kernelspec": {
   "display_name": "Python 3",
   "language": "python",
   "name": "python3"
  },
  "language_info": {
   "codemirror_mode": {
    "name": "ipython",
    "version": 3
   },
   "file_extension": ".py",
   "mimetype": "text/x-python",
   "name": "python",
   "nbconvert_exporter": "python",
   "pygments_lexer": "ipython3",
   "version": "3.11.6"
  }
 },
 "nbformat": 4,
 "nbformat_minor": 5
}
