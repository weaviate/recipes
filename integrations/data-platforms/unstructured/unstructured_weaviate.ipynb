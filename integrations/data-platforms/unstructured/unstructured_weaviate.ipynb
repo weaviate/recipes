{
  "cells": [
    {
      "cell_type": "markdown",
      "metadata": {},
      "source": [
        "[![Open In Colab](https://colab.research.google.com/assets/colab-badge.svg)](https://colab.research.google.com/github/weaviate/recipes/blob/main/integrations/data-platforms/unstructured/unstructured_weaviate.ipynb)"
      ]
    },
    {
      "cell_type": "markdown",
      "metadata": {
        "id": "HLHjFtoGT1E1"
      },
      "source": [
        "For this demo, we're using version `1.25.4` of [Weaviate](https://weaviate.io/) and the `4.6.5` python client, and [Unstructured](https://unstructured.io/) `0.14.5`.\n"
      ]
    },
    {
      "cell_type": "markdown",
      "metadata": {
        "id": "sr72Bx1h1lxA"
      },
      "source": [
        "Author: **Maria Khalusova** from Unstructured\n",
        "\n",
        "Maria's X handle: @mariaKhalusova\n",
        "\n",
        "Maria's LinkedIn: https://www.linkedin.com/in/maria-khalusova-a958aa14/"
      ]
    },
    {
      "cell_type": "markdown",
      "metadata": {
        "id": "BLToYqbST6Fi"
      },
      "source": [
        "## Install the dependencies"
      ]
    },
    {
      "cell_type": "code",
      "execution_count": null,
      "metadata": {
        "collapsed": true,
        "id": "1kg3vSa1Rckb"
      },
      "outputs": [],
      "source": [
        "!pip install -U -q \"unstructured[s3, pdf, weaviate, openai]\" python-dotenv"
      ]
    },
    {
      "cell_type": "markdown",
      "metadata": {
        "id": "UeDYnW8iCM8Y"
      },
      "source": [
        "## Load environment variables"
      ]
    },
    {
      "cell_type": "markdown",
      "metadata": {
        "id": "PRV-yPwJT78u"
      },
      "source": [
        "Mount your Google Drive - there will be a pop up asking you to connect to your google drive.\n",
        "Then, load the env variables from a `.env` file. If you have another preferred method for loading env variables, go ahead and use it :)"
      ]
    },
    {
      "cell_type": "code",
      "execution_count": null,
      "metadata": {
        "colab": {
          "base_uri": "https://localhost:8080/"
        },
        "id": "SkeWcneQTmEu",
        "outputId": "91e384db-ddcb-4b05-a819-ab6c9805268b"
      },
      "outputs": [
        {
          "name": "stdout",
          "output_type": "stream",
          "text": [
            "Drive already mounted at /content/drive; to attempt to forcibly remount, call drive.mount(\"/content/drive\", force_remount=True).\n"
          ]
        }
      ],
      "source": [
        "from google.colab import drive\n",
        "\n",
        "drive.mount('/content/drive')"
      ]
    },
    {
      "cell_type": "code",
      "execution_count": null,
      "metadata": {
        "colab": {
          "base_uri": "https://localhost:8080/"
        },
        "id": "KjpgQqSxT3gW",
        "outputId": "8ed3892b-0b07-4838-fed6-58309c6ede7f"
      },
      "outputs": [
        {
          "data": {
            "text/plain": [
              "True"
            ]
          },
          "execution_count": 2,
          "metadata": {},
          "output_type": "execute_result"
        }
      ],
      "source": [
        "import os\n",
        "import dotenv\n",
        "\n",
        "dotenv.load_dotenv('/content/drive/MyDrive/.env')"
      ]
    },
    {
      "cell_type": "markdown",
      "metadata": {
        "id": "TqsFv8wT3CXR"
      },
      "source": [
        "## Connect to Weaviate\n",
        "\n",
        "You can use [Weaviate Cloud](https://console.weaviate.cloud/), [Weaviate Embedded](https://weaviate.io/developers/weaviate/installation/embedded), or [locally](https://weaviate.io/developers/weaviate/installation/docker-compose)."
      ]
    },
    {
      "cell_type": "code",
      "execution_count": null,
      "metadata": {
        "colab": {
          "base_uri": "https://localhost:8080/"
        },
        "id": "Z06KeWyq30Nc",
        "outputId": "67a247b2-d9b5-4466-c7fd-ca65ae65c36b"
      },
      "outputs": [
        {
          "data": {
            "text/plain": [
              "True"
            ]
          },
          "execution_count": 9,
          "metadata": {},
          "output_type": "execute_result"
        }
      ],
      "source": [
        "# Weaviate Cloud\n",
        "\n",
        "import weaviate\n",
        "\n",
        "# Set these environment variables\n",
        "URL = os.getenv(\"WEAVIATE_URL\")\n",
        "APIKEY = os.getenv(\"WEAVIATE_API_KEY\")\n",
        "\n",
        "# Connect to your WCD instance\n",
        "client = weaviate.connect_to_wcs(\n",
        "    cluster_url=URL,\n",
        "    auth_credentials=weaviate.auth.AuthApiKey(APIKEY),\n",
        "    headers={\n",
        "        \"X-OpenAI-Api-Key\": os.getenv(\"OPENAI_API_KEY\")  # Replace with your OpenAI key\n",
        "    }\n",
        ")\n",
        "\n",
        "client.is_ready()"
      ]
    },
    {
      "cell_type": "code",
      "execution_count": null,
      "metadata": {
        "id": "nPekh8Td38gW"
      },
      "outputs": [],
      "source": [
        "# Weaviate Embedded (will run in your local runtime)\n",
        "\n",
        "# import weaviate\n",
        "# import os\n",
        "\n",
        "# client = weaviate.connect_to_embedded(\n",
        "#     headers={\n",
        "#         \"X-OpenAI-Api-Key\": os.getenv(\"OPENAI_APIKEY\")  # Replace with your API key\n",
        "#     }\n",
        "# )\n",
        "\n",
        "# client.is_ready()"
      ]
    },
    {
      "cell_type": "code",
      "execution_count": null,
      "metadata": {
        "id": "jjIFpc2J5lP0"
      },
      "outputs": [],
      "source": [
        "# Connect to your local Weaviate instance deployed with Docker\n",
        "\n",
        "# import weaviate\n",
        "# import os\n",
        "\n",
        "# client = weaviate.connect_to_local(\n",
        "#     headers={\n",
        "#         \"X-OpenAI-Api-Key\": os.environ[\"OPENAI-API-KEY\"] # Replace with your OpenAI key\n",
        "#     }\n",
        "# )\n",
        "\n",
        "# client.is_ready()"
      ]
    },
    {
      "cell_type": "markdown",
      "metadata": {
        "id": "Q6estzy_53EZ"
      },
      "source": [
        "## Configure your Weaviate Schema"
      ]
    },
    {
      "cell_type": "code",
      "execution_count": null,
      "metadata": {
        "colab": {
          "base_uri": "https://localhost:8080/"
        },
        "id": "DFUboF8w55TD",
        "outputId": "0e3cb07e-68e7-44e8-d6dc-d7653737d45b"
      },
      "outputs": [
        {
          "data": {
            "text/plain": [
              "<weaviate.collections.collection.Collection at 0x7f19ab525b40>"
            ]
          },
          "execution_count": 13,
          "metadata": {},
          "output_type": "execute_result"
        }
      ],
      "source": [
        "import weaviate.classes.config as wc\n",
        "from weaviate.classes.config import ReferenceProperty\n",
        "\n",
        "client.collections.create(\n",
        "    name=\"UnstructuredDemo\",\n",
        "\n",
        "    vectorizer_config=wc.Configure.Vectorizer.text2vec_openai( # specify the vectorizer and model type you're using\n",
        "        model=\"ada\",\n",
        "        model_version=\"002\",\n",
        "        type_=\"text\"\n",
        "    ),\n",
        "    generative_config=wc.Configure.Generative.openai(\n",
        "        model=\"gpt-4\"  # Optional - Defaults to `gpt-3.5-turbo`\n",
        "    ),\n",
        "\n",
        "    # Weaviate can infer schema, but it is considered best practice to define it upfront\n",
        "    properties=[\n",
        "        wc.Property(name=\"type\", data_type=wc.DataType.TEXT),\n",
        "        wc.Property(name=\"element_id\", data_type=wc.DataType.TEXT, skip_vectorization=True),\n",
        "        wc.Property(name=\"text\", data_type=wc.DataType.TEXT),\n",
        "        wc.Property(name=\"embeddings\", data_type=wc.DataType.NUMBER_ARRAY, skip_vectorization=True),\n",
        "        wc.Property(name=\"metadata\", data_type=wc.DataType.OBJECT, nested_properties=[\n",
        "            wc.Property(name=\"filename\", data_type=wc.DataType.TEXT),\n",
        "            wc.Property(name=\"filetype\", data_type=wc.DataType.TEXT),\n",
        "            wc.Property(name=\"languages\", data_type=wc.DataType.TEXT_ARRAY),\n",
        "            wc.Property(name=\"page_number\",  data_type=wc.DataType.TEXT, skip_vectorization=True),\n",
        "\n",
        "        ])\n",
        "    ],\n",
        ")"
      ]
    },
    {
      "cell_type": "markdown",
      "metadata": {
        "id": "Hst7-bwLBBnv"
      },
      "source": [
        "## Grab Data from S3 Bucket"
      ]
    },
    {
      "cell_type": "code",
      "execution_count": null,
      "metadata": {
        "id": "B0JsnWXYU6Zb"
      },
      "outputs": [],
      "source": [
        "from unstructured.ingest.connector.fsspec.s3 import S3AccessConfig, SimpleS3Config\n",
        "from unstructured.ingest.connector.weaviate import (\n",
        "    SimpleWeaviateConfig,\n",
        "    WeaviateAccessConfig,\n",
        "    WeaviateWriteConfig,\n",
        ")\n",
        "from unstructured.ingest.interfaces import (\n",
        "    ChunkingConfig,\n",
        "    PartitionConfig,\n",
        "    ProcessorConfig,\n",
        "    ReadConfig,\n",
        "    EmbeddingConfig,\n",
        ")\n",
        "from unstructured.ingest.runner import S3Runner\n",
        "from unstructured.ingest.runner.writers.base_writer import Writer\n",
        "from unstructured.ingest.runner.writers.weaviate import (\n",
        "    WeaviateWriter,\n",
        ")"
      ]
    },
    {
      "cell_type": "code",
      "execution_count": null,
      "metadata": {
        "colab": {
          "base_uri": "https://localhost:8080/"
        },
        "id": "GuK2KmZqJSrI",
        "outputId": "dd504bfb-f4b5-4928-8bc4-7cd9fd790fc0"
      },
      "outputs": [
        {
          "name": "stderr",
          "output_type": "stream",
          "text": [
            "2024-06-19 23:27:58,298 MainProcess DEBUG    updating download directory to: /root/.cache/unstructured/ingest/s3/761c634451\n",
            "2024-06-19 23:27:58,304 MainProcess INFO     running pipeline: DocFactory -> Reader -> Partitioner -> Chunker -> Embedder -> Writer -> Copier with config: {\"reprocess\": false, \"verbose\": true, \"work_dir\": \"/root/.cache/unstructured/ingest/pipeline\", \"output_dir\": \"s3-output\", \"num_processes\": 40, \"raise_on_error\": false}\n",
            "2024-06-19 23:27:58,415 MainProcess INFO     Running doc factory to generate ingest docs. Source connector: {\"processor_config\": {\"reprocess\": false, \"verbose\": true, \"work_dir\": \"/root/.cache/unstructured/ingest/pipeline\", \"output_dir\": \"s3-output\", \"num_processes\": 40, \"raise_on_error\": false}, \"read_config\": {\"download_dir\": \"/root/.cache/unstructured/ingest/s3/761c634451\", \"re_download\": false, \"preserve_downloads\": false, \"download_only\": false, \"max_docs\": null}, \"connector_config\": {\"remote_url\": \"s3://marias-rag-demo/\", \"uncompress\": false, \"recursive\": false, \"file_glob\": null, \"access_config\": {\"anonymous\": false, \"endpoint_url\": null, \"key\": \"*******\", \"secret\": \"*******\", \"token\": null}, \"protocol\": \"s3\", \"path_without_protocol\": \"marias-rag-demo/\", \"dir_path\": \"marias-rag-demo\", \"file_path\": \"\"}}\n",
            "2024-06-19 23:28:00,149 MainProcess INFO     processing 30 docs via 40 processes\n",
            "2024-06-19 23:28:00,160 MainProcess INFO     Calling Reader with 30 docs\n",
            "2024-06-19 23:28:00,162 MainProcess INFO     Running source node to download data associated with ingest docs\n",
            "2024-06-19 23:29:10,091 MainProcess INFO     Calling Partitioner with 30 docs\n",
            "2024-06-19 23:29:10,095 MainProcess INFO     Running partition node to extract content from json files. Config: {\"pdf_infer_table_structure\": false, \"strategy\": \"auto\", \"ocr_languages\": null, \"encoding\": null, \"additional_partition_args\": {}, \"skip_infer_table_types\": null, \"fields_include\": [\"element_id\", \"text\", \"type\", \"metadata\", \"embeddings\"], \"flatten_metadata\": false, \"metadata_exclude\": [], \"metadata_include\": [], \"partition_endpoint\": \"https://api.unstructuredapp.io/general/v0/general\", \"partition_by_api\": true, \"api_key\": \"*******\", \"hi_res_model_name\": null}, partition kwargs: {}]\n",
            "2024-06-19 23:29:10,099 MainProcess INFO     Creating /root/.cache/unstructured/ingest/pipeline/partitioned\n",
            "2024-06-19 23:42:07,239 MainProcess INFO     Calling Chunker with 30 docs\n",
            "2024-06-19 23:42:07,248 MainProcess INFO     Running chunking node. Chunking config: {\"chunking_strategy\": \"by_title\", \"combine_text_under_n_chars\": 1000, \"include_orig_elements\": null, \"max_characters\": 8192, \"multipage_sections\": null, \"new_after_n_chars\": null, \"overlap\": null, \"overlap_all\": null}]\n",
            "2024-06-19 23:42:07,250 MainProcess INFO     Creating /root/.cache/unstructured/ingest/pipeline/chunked\n",
            "2024-06-19 23:42:58,733 MainProcess INFO     Calling Embedder with 30 docs\n",
            "2024-06-19 23:42:58,735 MainProcess INFO     Running embedding node. Embedding config: {\"provider\": \"langchain-openai\", \"api_key\": \"*******\", \"model_name\": null, \"aws_access_key_id\": null, \"aws_secret_access_key\": null, \"aws_region\": null}]\n",
            "2024-06-19 23:42:58,738 MainProcess INFO     Creating /root/.cache/unstructured/ingest/pipeline/embedded\n",
            "2024-06-19 23:45:04,814 MainProcess INFO     Calling Copier with 30 docs\n",
            "2024-06-19 23:45:04,816 MainProcess INFO     Running copy node to move content to desired output location\n",
            "2024-06-19 23:45:49,427 MainProcess INFO     uploading elements from 30 document(s) to the destination\n",
            "2024-06-19 23:45:49,429 MainProcess INFO     Calling Writer with 30 docs\n",
            "2024-06-19 23:45:49,432 MainProcess INFO     Running write node to upload content. Destination connector: {\"write_config\": {\"batch_size\": 100}, \"connector_config\": {\"access_config\": {\"access_token\": null, \"refresh_token\": null, \"api_key\": \"*******\", \"client_secret\": null, \"scope\": null, \"username\": null, \"password\": null, \"anonymous\": false}, \"host_url\": \"https://unstructured-weaviate-demo-l0zfococ.weaviate.network\", \"class_name\": \"UnstructuredDemo\"}, \"_client\": null}]\n",
            "2024-06-19 23:45:51,379 MainProcess INFO     Extending 39 json elements from content in s3-output/1501.00921v2.pdf.json\n",
            "2024-06-19 23:45:51,403 MainProcess INFO     Extending 22 json elements from content in s3-output/1608.04880v1.pdf.json\n",
            "2024-06-19 23:45:51,425 MainProcess INFO     Extending 21 json elements from content in s3-output/2004.11252v1.pdf.json\n",
            "2024-06-19 23:45:51,445 MainProcess INFO     Extending 19 json elements from content in s3-output/2103.06007v1.pdf.json\n",
            "2024-06-19 23:45:51,468 MainProcess INFO     Extending 19 json elements from content in s3-output/2105.10536v1.pdf.json\n",
            "2024-06-19 23:45:51,490 MainProcess INFO     Extending 21 json elements from content in s3-output/2109.08534v1.pdf.json\n",
            "2024-06-19 23:45:51,505 MainProcess INFO     Extending 13 json elements from content in s3-output/2205.11757v1.pdf.json\n",
            "2024-06-19 23:45:51,516 MainProcess INFO     Extending 8 json elements from content in s3-output/2304.13548v1.pdf.json\n",
            "2024-06-19 23:45:51,544 MainProcess INFO     Extending 28 json elements from content in s3-output/2306.02507v1.pdf.json\n",
            "2024-06-19 23:45:51,589 MainProcess INFO     Extending 44 json elements from content in s3-output/2310.12608v1.pdf.json\n",
            "2024-06-19 23:45:51,608 MainProcess INFO     Extending 14 json elements from content in s3-output/2310.20312v1.pdf.json\n",
            "2024-06-19 23:45:51,621 MainProcess INFO     Extending 11 json elements from content in s3-output/2312.02299v1.pdf.json\n",
            "2024-06-19 23:45:51,645 MainProcess INFO     Extending 17 json elements from content in s3-output/2312.03338v1.pdf.json\n",
            "2024-06-19 23:45:51,660 MainProcess INFO     Extending 12 json elements from content in s3-output/2312.04343v1.pdf.json\n",
            "2024-06-19 23:45:51,674 MainProcess INFO     Extending 8 json elements from content in s3-output/2312.10948v1.pdf.json\n",
            "2024-06-19 23:45:51,706 MainProcess INFO     Extending 31 json elements from content in s3-output/2312.11726v1.pdf.json\n",
            "2024-06-19 23:45:51,750 MainProcess INFO     Extending 43 json elements from content in s3-output/2312.12590v1.pdf.json\n",
            "2024-06-19 23:45:51,798 MainProcess INFO     Extending 48 json elements from content in s3-output/2312.16914v1.pdf.json\n",
            "2024-06-19 23:45:51,947 MainProcess INFO     Extending 106 json elements from content in s3-output/2312.17016v1.pdf.json\n",
            "2024-06-19 23:45:52,030 MainProcess INFO     Extending 33 json elements from content in s3-output/2401.08629v2.pdf.json\n",
            "2024-06-19 23:45:52,082 MainProcess INFO     Extending 29 json elements from content in s3-output/2401.09988v1.pdf.json\n",
            "2024-06-19 23:45:52,114 MainProcess INFO     Extending 16 json elements from content in s3-output/2402.01221v1.pdf.json\n",
            "2024-06-19 23:45:52,141 MainProcess INFO     Extending 17 json elements from content in s3-output/2402.07546v1.pdf.json\n",
            "2024-06-19 23:45:52,182 MainProcess INFO     Extending 22 json elements from content in s3-output/2403.04920v1.pdf.json\n",
            "2024-06-19 23:45:52,249 MainProcess INFO     Extending 43 json elements from content in s3-output/2403.05479v1.pdf.json\n",
            "2024-06-19 23:45:52,284 MainProcess INFO     Extending 21 json elements from content in s3-output/2403.11858v1.pdf.json\n",
            "2024-06-19 23:45:52,328 MainProcess INFO     Extending 27 json elements from content in s3-output/2404.03611v1.pdf.json\n",
            "2024-06-19 23:45:52,374 MainProcess INFO     Extending 31 json elements from content in s3-output/2404.16844v1.pdf.json\n",
            "2024-06-19 23:45:52,403 MainProcess INFO     Extending 18 json elements from content in s3-output/2405.04305v1.pdf.json\n",
            "2024-06-19 23:45:52,425 MainProcess INFO     Extending 13 json elements from content in s3-output/2405.20896v1.pdf.json\n",
            "2024-06-19 23:45:52,432 MainProcess INFO     writing 794 objects to destination class UnstructuredDemo at https://unstructured-weaviate-demo-l0zfococ.weaviate.network\n"
          ]
        }
      ],
      "source": [
        "def get_writer() -> Writer:\n",
        "    return WeaviateWriter(\n",
        "        connector_config=SimpleWeaviateConfig(\n",
        "            access_config=WeaviateAccessConfig(api_key=APIKEY),\n",
        "            host_url=URL,\n",
        "            class_name=\"UnstructuredDemo\",\n",
        "        ),\n",
        "        write_config=WeaviateWriteConfig(),\n",
        "    )\n",
        "\n",
        "writer = get_writer()\n",
        "\n",
        "output_path = \"s3-output\"\n",
        "\n",
        "runner = S3Runner(\n",
        "    processor_config=ProcessorConfig(\n",
        "        verbose=True,\n",
        "        output_dir=output_path,\n",
        "        num_processes=40, # when processing a large number of documents via Unstructured API, set a larger number of workers/processes here\n",
        "        ),\n",
        "    read_config=ReadConfig(),\n",
        "    partition_config=PartitionConfig(\n",
        "        partition_by_api=True,\n",
        "        api_key=os.getenv(\"UNSTRUCTURED_API_KEY\"), # get your Unstructured API key and URL here https://unstructured.io/api-key-hosted\n",
        "        partition_endpoint=os.getenv(\"UNSTRUCTURED_URL\"),\n",
        "        ),\n",
        "    connector_config=SimpleS3Config(\n",
        "        access_config=S3AccessConfig( # configure the authentication options for your S3 bucket\n",
        "            key=os.getenv(\"AWS_KEY\"),\n",
        "            secret=os.getenv(\"AWS_SECRET\"),\n",
        "            ),\n",
        "            remote_url=os.getenv(\"AWS_S3_NAME\"),\n",
        "        ),\n",
        "    chunking_config=ChunkingConfig(chunk_elements=True,\n",
        "                                   chunking_strategy=\"by_title\",\n",
        "                                   max_characters=8192, # the chunking size depends on the embedding model you use\n",
        "                                   combine_text_under_n_chars=1000, # Unstructured can combine small elements into a larger chunk if it fits the max_character limit\n",
        "                                   ),\n",
        "    embedding_config=EmbeddingConfig(\n",
        "        provider=\"langchain-openai\",\n",
        "        api_key=os.getenv(\"OPENAI_API_KEY\"), # the embeddings model should match the one defined for Weaviate collection, in this case the default is text-embedding-ada-002\n",
        "    ),\n",
        "\n",
        "    writer=writer,\n",
        "    writer_kwargs={},\n",
        "    )\n",
        "\n",
        "runner.run()\n"
      ]
    },
    {
      "cell_type": "markdown",
      "metadata": {
        "id": "XZkEp1thBDvz"
      },
      "source": [
        "## Time to Search!"
      ]
    },
    {
      "cell_type": "markdown",
      "metadata": {
        "id": "ham4c-zAK-Yy"
      },
      "source": [
        "### Aggregate query"
      ]
    },
    {
      "cell_type": "code",
      "execution_count": null,
      "metadata": {
        "colab": {
          "base_uri": "https://localhost:8080/"
        },
        "id": "jz9SBUceG-JO",
        "outputId": "e7204655-c359-4feb-a372-53d91f675550"
      },
      "outputs": [
        {
          "name": "stdout",
          "output_type": "stream",
          "text": [
            "794\n"
          ]
        }
      ],
      "source": [
        "# count how many chunks are in the database\n",
        "\n",
        "documents = client.collections.get(\"UnstructuredDemo\")\n",
        "response = documents.aggregate.over_all(total_count=True)\n",
        "\n",
        "print(response.total_count)"
      ]
    },
    {
      "cell_type": "markdown",
      "metadata": {
        "id": "thvbkeRULBUi"
      },
      "source": [
        "### Hybrid search (mix of keyword and vector search)"
      ]
    },
    {
      "cell_type": "code",
      "execution_count": null,
      "metadata": {
        "colab": {
          "base_uri": "https://localhost:8080/"
        },
        "id": "rrsh3qjgBHU0",
        "outputId": "1578f01e-b02c-4c7f-dc94-d67f12bbe035"
      },
      "outputs": [
        {
          "name": "stdout",
          "output_type": "stream",
          "text": [
            "{\n",
            "  \"text\": \"6. Conclusions\\n\\nBiological pest control is a sustainable practice that benefits food production and health. Despite all the biological and environmental appeal for the development of these studies, there is also a need for adequate statistical methodologies to confirm the scientific hypotheses. Interactions between species, as well as changes in behaviour over time require specific methods of analysis to estimate the biological control efficiency of a species, and models for categorical longitudinal data are very useful in this context. In this work, we presented the problem of the soybean pest Euschistus heros and two potential agents for natural control in the field. As a statistical contribution, we developed an extension of multi-state models to compare two parasitoid species by evaluating their behaviours over time. These models allow not only to describe behavioural actions but also the intensity with which they occur. In this context, the method validated the experimental assumption that the species T. podisi avoids intra-specific competition by being more efficient in recognising and avoiding previous conspecific parasitism. In the applied sense, the results can contribute to improving the parasitoid release strategies in the field and optimise the mass-rearing production. Moreover, the proposed statistical method used can also be a contribution to potential researchers studying insect behaviour. Although in this work the method has proved to be effective, for future studies there is a need to consider sub-intervals of time, for which we can allow different transition rates, since they may not be homogeneous over time.\\n\\n14\"\n",
            "}\n",
            "{\n",
            "  \"text\": \"1. Introduction\\n\\nIn today\\u2019s farming systems, a variety of approaches are used for pest control. Maintaining high output while guaranteeing sustainability is crucial for the entire agriculture sector. Since the beginning of human civilization, insect and pest control has been one of the most signi\\ufb01cant dif\\ufb01culties in the agricultural sector [1,2]. Every day, people come up with fresh ideas for equipment and tactics to use in their \\ufb01ght against pests. As a result of human efforts to manage pests, our natural ecology and nature are on the verge of extinction [3].\\n\\nChemical controls are less expensive to implement, yet they result in signi\\ufb01cant environ- mental damage [4\\u20136]. On the other hand, biological controls are more costly to implement but have less environmental impact [7]. However, frequently, the use of a single control method is not bene\\ufb01cial to control pest resistance and preserve environmental quality [8,9]. In order to reduce insect populations below economic levels, integrated pest management (IPM), a safer and more effective method, was developed. IPM is used for a variety of agronomic crops and is now widely used as an economical and environment-friendly pest control method in several nations [8\\u201310]. When the ecological cost of management is added to the economic price of controls, a combination of chemical and biological controls yields a superior result when they are used with proper rate and with tolerable intervals. Modeling of this phenomenon leads naturally to the use of impulsive differential equations [11,12].\\n\\n2 of 16\\n\\nMany researchers have designed mathematical models for pest management through control strategies, some of which promote chemical agents [4,7], some advocate the use of bio- logical agents to impose a total solution of pest and disease [1,2,10,13\\u201315], and some researchers use both the chemical and biopesticides in their mathematical models [5,16\\u201318]. Mathematical- model-based works using impulsive differential equations are also available in the literature, as already mentioned [19\\u201326]. Recently, Li, Huang, and Liu proposed a pest management model to simulate the application of pesticides and build a pesticide function with residual and delayed effects of pesticides, proposing pest management with pollutant emission [27]. Liu et al. constructed a mathematical model for pest control in which susceptible and infected pests are separated from the pest population and only susceptible pests are harmful to crops [28]. They weighed the two approaches of spraying pesticides and releasing diseased pests and natural enemies to control vulnerable pests when completing their task. Alzabut established a mathematical model based on the sense of biological survey in the \\ufb01eld of agriculture, and introduced various control methods to determine how to protect the crops from destructive pests [29]. In [24], an integrated pest management model using impulsive differential equations was proposed and analyzed for Jatropha curcas using the release of infective pests and spraying of chemical pesticides. The existence and stability of susceptible pest-eradication solutions were analyzed using Floquet theory and the small amplitude perturbation method. To the best of our knowledge, all available articles deal with single-impulse differential equation models where the stability analysis of the periodic pest extinction solution is obtained by the Floquet theory, the method of small amplitude perturbation, and the comparison theorem. However, none of the prior research available in the literature employs the concentration of chemical pesticides as a system variable as we do here. Moreover, in our study, we spray biological and chemical pesticides at two different time intervals, simultaneously varying the time period.\\n\\nPest control models using a single impulse are available (see, e.g., [30]), but using double- impulsive controls is rare [31,32]. The authors of [31] took a predator population along with biopesticides in an impulsive periodic way for the control of crop pests. The authors of [32] proposed a predator\\u2013prey model with disease in the prey and investigated it for the purpose of integrated pest management. The permanence of the system and global stability of the susceptible pest-eradication periodic solution were shown by means of the released amounts of infective prey and predator. In contrast, here, impulses on both chemical and biopesticides were assumed in the formulation of the mathematical model for crop pest management.\\n\\nOur use of the concentration pro\\ufb01le of the chemical pesticide as a model variable is a novel approach. We demonstrated the dynamics using both the chemical and biological pesticides in the system in an impulsive way, which is, to the best of our knowledge, a novel concept in crop pest control. The proposed double-impulsive system was analyzed with proper analytical methods, namely, using Floquet theory and the perturbation method.\\n\\nFloquet theory is a powerful mathematical tool for analyzing periodic systems, and it can be extended to impulsive models with periodic impulses. In impulsive models, the system\\u2019s behavior is characterized by a sequence of discrete impulses applied at regular intervals. These impulses may arise in many practical scenarios, including electrical circuits, control systems, and biological systems. Floquet theory provides a robust framework for analyzing and designing control strategies for impulsive models with periodic impulses. One can analyze the stability of the impulsive system by examining the eigenvalues of the Floquet matrix [33]. In our analysis, we utilize small amplitude perturbation techniques and Floquet theory and obtain some valid theoretical results for successful management of pests. Moreover, we also establish the threshold time limit for the impulsive release of control agents. Our approach for using the Floquet theory is novel. Additionally, we examined the dynamics of the system for biological and chemical pesticides used as a sole control measure.\\n\\n3 of 16\\n\\nThe paper is organized as follows. In Section 2, we derive the model by using impulsive differential equations for capturing the IPM system dynamics, taking plant, pest, virus, and chemical pesticide as model variables. The mathematical analysis of the model is then discussed in Section 3, which contains three subsections. In Section 3.1, we determine susceptible pest- eradication periodic solutions and check the feasibility\\u2013boundedness of the system variables discussed in Section 3.2. The local and global stability conditions around the susceptible pest-eradication periodic solutions are explored in Section 3.3. In Section 4, we exhibit our mathematical results through numerical simulations. Finally, in Section 5, we provide a discussion on the three types of control strategies: spraying chemical pesticide only, impulsively incorporating of infected pest only, and integrated control with a \\ufb01xed and a variable impulse period, to make the \\ufb01nal conclusion.\"\n",
            "}\n",
            "{\n",
            "  \"text\": \"2. Systematic literature review\\n\\nWe use a systematic review to understand the effects of NMP on pollination services and biological pest control (Fig. S2, Fig. S3). For pollination services, we searched the Web of Science on February 13th, 2024 with the search string \\u201cTS = ((nanoplastic* OR microplastic*) AND (pollinat* OR (bee OR bees) OR honeybee*))\\u201d. We found 21 studies out of which 16 were included in our review. Nine research articles reported experiments with NMP on honeybees, five of which focused on NMP effects40\\u201344 and the other three also considered combined effects with other substances.45\\u201347 Three studies confirmed honeybee\\u2019s environmental exposure to NMP.46,48,49 The transfer of NMP within bee hives and its threat to honey products were also investigated.48\\u201350 The remaining five papers were non-quantitative summaries.4,19,51\\u201353\\n\\nFor NMP effects on biological pest control, we used the search string \\u201cTS = ((nanoplastic* OR microplastic*) AND (\\u201cbiological pest control\\u201d OR \\u201cbiological control\\u201d OR pest OR pests OR pest- control OR \\u201ccontrol agent*\\u201d))\\u201d in Web of Science on February 16th, 2024. Of the 22 studies listed, only three were relevant for pest control in agriculture54\\u201356 indicating that the topic is largely unexplored. For a summary of all identified effects, please see Tabel 1.\\n\\n4\"\n",
            "}\n",
            "{\n",
            "  \"text\": \"1. Introduction\\n\\nEntomology has a important role in agricultural sciences, specifically because it in- cludes studying and understanding the insect-insect and plant-insect interactions, which can be used to improve agricultural production [17, 27]. Among the many types of studies conducted by entomologists, here we focus on studies related to biological\\n\\nCorresponding author: idemauro@usp.br\\n\\ncontrol. This involves utilising living organisms to reduce the population of a target pest species. One example is the host-parasitoid system, where a parasitoid species is used to control the population of a pest that is used as a host (e.g. Dichelops mela- canthus, Euschistus heros, and Podisus nigrispinus [25]).\\n\\nSeveral insects that play an important role in the parasitism of insect pests have been reported in the literature, including the parasitoids Tamarixia radiata, Teleno- mus podisi, Trissolcus basalis, and several species of the genus Trichogramma [6]. By studying their controlling capabilities in laboratory and field conditions, we may en- hance the efficacy of biological control and consequently reduce the economic damage caused by insect pests. A direct contribution of experiments related to the biology of parasitoids is the estimation of parasitism rates. Several factors can affect them, including hyperparasitism, where a parasitoid of a different species parasitises an egg that has already been parasitised, constituting a competition interaction [32]. How- ever, hyperparasitism can also happen unintentionally when the parasitoid does not detect the eggs already parasitised by its species.\\n\\nIt is common for an entomological study to be longitudinal over time, both in field and laboratory-based studies. Moreover, recorded responses are often categorical. In such cases, the responses may represent behaviours or choices the insects make in different scenarios. An example was presented by [22] to understand the movement patterns of female adults of Diaphorina citri, a pest of citrus plantations, having as the response variable the preference for different potted plant positions.\\n\\nThe parasitoid reproductive behaviour and/or host quality discrimination by com- petitive parasitoid species, conditional to the host being previously parasitised or not, can be evaluated by recording insect behaviour data (i.e., drumming, ovipositing and marking host eggs) over time. In such cases, the responses may represent behaviours or choices the insects make in different scenarios of host quality.\\n\\nIt is known that the analysis of longitudinal categorical data can be done using Generalized Linear Models ([1], [29]), such as marginal, mixed effects and transition models [15]. Each of these models has its particularities that depend specifically on the design and objectives of the study. In Entomology, for example, the interaction between species can be measured from changes in behaviour over time under cer- tain experimental conditions. Marginal and mixed effects models cannot model these changes over time. In contrast, transition models are very useful to describe the occur- rences from one state to the next and also to assess the effect of experimental design conditions ([33], [11]).\\n\\nTransition models are based on stochastic processes, and a classical reference is [30], which distinguishes classes of discrete-time and continuous-time models. When the process is in continuous time, they are also known as state-space models ([23], [13]). While in the discrete case, we limit ourselves to evaluating the transition probabilities assuming equally spaced time occasions. For the continuous case, there are options for inferences with respect to time, defined by infinitesimal parameters or intensity rates. Thus, not only are the probabilities of state changes described, but also the intensity with which these changes occur can be modelled, which is more informative.\\n\\nThe focus of this work is on a continuous time transition model (space-state mode) motivated by a biological problem arising from an experiment involving the parasitoids Telenomus posidi and Trissolcus basalis, which are useful for pest control in soybean [3]. The egg parasitoids Telenomus podisi and Trissolcus basalis (Hymenoptera: Scelion- idae) are important natural enemies used in biological control programs for different species of soybean pest bugs [10]. These parasitoid species are termed generalists be- cause they attack different host species, including the eggs of the brown stinkbug\\n\\n2\\n\\nEuchistus heros (Fabricius, 1798) (Hemiptera: Pentanomidae) [8].\\n\\nThe use of T. podisi and T. basalis as biological control agents for soybean bugs has occurred through mass releases of these parasitoids in Brazil, and in some regions, both species can also be found in crops [5]. In both situations, competitive interactions be- tween species can be frequent during foraging by hosts, bringing consequences for pest control and the maintenance of these natural enemies in the soybean agroecosystem after parasitoid releases [9].\\n\\nCompetition for hosts can be reduced when parasitoid females are able to discrim- inate between already parasitised and non-parasitised hosts. This ability to discrim- inate host conditions is more frequent at the intraspecific level [18]. The identifica- tion of previously parasitised hosts is carried out using chemical and physical clues (semiochemicals and infochemicals) [18], to avoid the occurrence of multiparasitism or superparasitism, which directly affects the quality and quantity of the offspring\\u2019s resources, which can lead to the death of the developing parasitoid larvae [19].\\n\\nKnowledge of the effects arising from competition between parasitoids must be taken into account when defining strategies for the use of these agents in biological pest control programs [16]. In this way, understanding and knowing the biological and behavioural aspects, and also the biodiversity and distribution of parasitoid species in a given location becomes relevant to developing successful biological control pro- grams [7]. In this context, it is also necessary to use appropriate statistical methods, which allow the study of species behaviours over time and at the same time evalu- ate intraspecific competition. In our motivational study, the parasitoids could make two successive choices, the first before choosing an egg type (non-parasitised, para- sitised by their own species or by the opposing species), and then after choosing an egg (marking, ovipositing or drumming on the egg); therefore, the insects presented double transitions over time. In this context, the main goal is to present an extension to the multi-state models associated with successive transitions of the parasitoids as a methodological contribution to understanding the pattern of preferences and be- haviours of these species.\\n\\nThe remainder of this article is structured as follows: in Section 2, we present our motivational case study; fundamentals of stochastic processes and multi-state models are presented in Section 3; results are presented and discussed in Section 4; a bio- logical discussion of the results is presented in the Section 5; and finally our final considerations are made in Section 6.\"\n",
            "}\n",
            "{\n",
            "  \"text\": \"Introduction\\n\\nIn recent times, integrated pest management is gaining more attention among researchers and its application is also increasing in the crop \\ufb01eld. This method seeks to reduce the reliance on pesticides by emphasizing the contribution of biological control agents. The important role of mi- crobial pesticides in integrated pest management is well-known in agriculture, forestry, and public health. As integrated pest management, bio-pesticides give noticeable pest control reliability in case of crops [1]. The use of viruses against insect pests, as pest control agents, is seen in North America and in European countries [2, 3, 4]. Awareness campaigns, in particular through radio or TV, are required so that people will gain trustworthiness on a biological control approach.\\n\\n\\u2217This is a preprint of a paper whose \\ufb01nal and de\\ufb01nite form is published by \\u2019Chaos Solitons Fractals\\u2019 (ISSN: 0960-0779). Paper Submitted 08/Sept/2020; Revised 25/Feb/2021; Accepted 10/March/2021.\\n\\n\\u2020Corresponding author. Email: del\\ufb01m@ua.pt\\n\\n1\\n\\nFarmers, in their own awareness, can keep the crop under observation and, therefore, if correctly instructed, they will spray bio-pesticides or incorporate fertile to make the pest susceptible to their bio-agents. For the e\\ufb00ect of awareness coverage in controlling infectious diseases we refer the reader to [5], where a SIS model is formulated considering individuals\\u2019 behavioral changes due to the in\\ufb02uences of media coverage, and where the susceptible class is divided into two subclasses: aware susceptible and unaware susceptible.\\n\\nCorrect and relevant knowledge about crop and its pests is very much essential for people engaged in cultivation. The role of electronic media is critical for keeping the farming community updated and by providing them with relevant agricultural information [6, 7]. Accessible pesticide information campaigns help farmers to be aware on the serious risks that pesticides have on human health and environment and minimize negative e\\ufb00ects [8]. Adopting awareness programs, intended to educate farmers\\u2019, results in a better comprehensive development for the cultivars and also for the farmers. Farmers learn the use and dangers of pesticides mainly by oral communication. Self-aware farmers employ considerably improved agronomic practices, safeguarding health and reducing environmental hazards [9]. Therefore, awareness is important in crop pest management. Television, radio, and mobile telephony are particularly useful media in providing information about agricultural practices and crop protection [6]. Adopting new technologies during agricultural awareness programs represents a major route for innovating and improving agronomy. Le Bellec et al. [10] have studied how an enabling environment for interactions between farmers, researchers, and other factors, can contribute to reduce current problems associated with crop. Al Basir et al., describe the participation of farming communities in Jatropha projects for biodiesel production and protection of plants from mosaic disease, using a mathematical model to forecast the development of renewable energy resources [11]. In [12], authors have developed a mathematical model for pest control using bio-pesticides. Moreover, they also incorporate optimal control theory to minimize the cost in pest management due to bio-pesticides. For the use of optimal control theory to eradicate the number of parasites in agroecosystems, see [13]. The usefulness of time-delays In [15], a model for pest control is proposed in epidemiological modeling is well-known [14]. and analyzed, where the impact of farming awareness and a time delay in local awareness is investigated. They conclude that raising awareness among people, with tolerable time delay, may be a proper aspect for the control of pests in a crop \\ufb01eld while reducing the serious issues that pesticides have on human health and environment [15]. Later, in [16], Al Basir has discussed the e\\ufb00ects of delay in pest control due to the implementation of control interventions. In [17], Al Basir and Ray analyze the dynamics of vector borne plant disease dynamics in\\ufb02uenced by farming awareness. Here, a mathematical model is formulated to protect crops through awareness campaigns, modeled via saturated terms, and a delayed optimal control problem for biopesticides is posed and solved.\\n\\nThe paper is organized as follows. In Section 2, the model is derived assuming that the rate of awareness is proportional to the number of susceptible pests in the \\ufb01eld. Moreover, we make the model more realistic considering a time delay due to the measure of pest in the \\ufb01eld. In Section 3, nonnegativity and boundedness of the solutions are proved by \\ufb01nding the invariant region. The equilibria, the basic reproduction number, and the stability of the pest-free equilibrium are studied, using qualitative theory, in Section 4. In Sections 5 and 6, we study the direction and stability of the Hopf bifurcation, investigating the stability switches of the equilibrium points, respectively for the system without and with delays. We show that stability switch occurs through Hopf bifurcation. An optimal control problem is then formulated and solved analytically in Section 7, with the goal to minimize the cost of biopesticides. The obtained analytical results are illustrated through numerical simulations in Section 8. We end with Section 9 of discussion and conclusion.\"\n",
            "}\n",
            "{\n",
            "  \"text\": \"KEYWORDS: Mathematical modeling, stability, Hopf-bifurcation, optimal control, numerical simulations.\\n\\n1 INTRODUCTION\\n\\nProblems connected with pests have become evident around the world as cultivation began. World\\u2019s food supply is being wasted due to the cause of pests in agriculture. On the other hand, major side-e\\ufb00ects of synthetic pesticides on the environment, human health, and biodiversity, are generating widespread concerns. Thus, farmers\\u2019 awareness of the risk of synthetic pesticides uses is one of the important factors to consider. The use of biological contents to protect crops against pests needs indigenous knowledge to implement such contents in pest management 1,2.\\n\\nThere are several good modeling studies on pest control. For example, Chowdhury et al. 3,4 have proposed and analyzed mathematical models for biological pest control using the virus as a controlling agent. In fact, all eco-epidemic models with susceptible prey, infected prey, and predators, can be used to discuss the nature of the susceptible pest, infected pest, and their predators 5. Zhang et al. 6 used a delayed stage-structured epidemic model for pest management strategy. Wang and Song 7 used mathematical models to control a pest population by infected pests. However, they did not use the in\\ufb02uence of the predator populations on their works.\\n\\nMany researchers utilize mathematical models for pest control in order to study di\\ufb00erent aspects of pest management policies with probable outcomes for improved applications, using system\\u2019s analysis within the mathematical paradigm. Most of them suggest using chemical pesticides 8,9. However, it is recorded that chemical pesticides have resulted in pest resurgence, acute and chronic health problems, and environmental pollution 10. Thus, to resolve this type of problem, the concept of IPM is becoming more popular among researchers with increasing application in the \\ufb01eld by marginal farmers.\\n\\n0Abbreviations: IPM, Integrated Pest Management; PMP, Pontryagin Minimum Principle; NPV, Nuclear Polyhedrosis Virus\\n\\n2\\n\\nT. Abraha et al.\\n\\nIn this paper, we formulate a mathematical model, incorporating the farming awareness based integrated approach. The main focus is to compare the basic advantage of favoring the biological and combined strategy to minimize the pest problem and predict new insights on the pest manage- ment, in general. In order to reduce the negative e\\ufb00ects of pesticides, we apply an optimal control approach. The dynamic of the system, without application of control, is analyzed through stability and bifurcation theory. Then, we formulate a three control parameter optimal control problem and solve it by applying PMP to \\ufb01nd out the optimal level of both pesticide and the advertisement cost for cost e\\ufb00ectiveness and minimizing the negative e\\ufb00ect due to pesticides. Numerical simulations illustrate the analytical results. Finally, we discuss the outcomes with a conclusion.\"\n",
            "}\n",
            "{\n",
            "  \"text\": \"References\\n\\n[1] Prasad, B. S. R. V., Banerjee, M., and Srinivasu, P. D. N. (2013). Dynamics of additional food provided predator\\u2013prey system with mutually interfering predators. Mathematical biosciences, 246(1), 176-190.\\n\\n[2] Sabatier, P., Poulenard, J., Fanget, B., Reyss, J. L., Develle, A. L., Wilhelm, B., and Arnaud, F.(2014). Long-term relationships among pesticide applications, mobility, and soil erosion in a vineyard watershed. Proceedings of the National Academy of Sciences, 111(44), 15647- 15652.\\n\\n[3] Lafferty, K. D., and Kuris, A. M.(1996) Biological control of marine pests. Ecology, , 77(7), 1989-2000.\\n\\n[4] Logan, J. A., Regniere, J., and Powell, J. A. (2013). AssessiFng the impacts of global warming on forest pest dynamics. Frontiers in Ecology and the Environment, 1(3):130\\u2013137, 2013 [5] Rauwald, K. S. and Ives, A. R. (2001). Biological control in disturbed agricultural systems and the rapid recovery of parasitoid populations. Ecological Applications, 11(4):1224\\u2013 1234. [6] Shannon, S. P., Chrzanowski, T. H., and Grover, J. P. (2007). Prey food quality affects\\n\\nflagellate ingestion rates. Microbial ecology, 53(1), 66-73.\\n\\n[7] Wetzel, W. C., Kharouba, H. M., Robinson, M., Holyoak, M., and Karban, R. (2016). Vari- ability in plant nutrients reduces insect herbivore performance. Nature, 539(7629), 425-427. [8] Tena, A., Pekas, A., Cano, D., W\\u00a8ackers, F. L., and Urbaneja, A. (2015). Sugar provisioning maximizes the biocontrol service of parasitoids. Journal of Applied Ecology, 52(3), 795-804. [9] Evans, E. W., and Swallow, J. G. (1993). Numerical responses of natural enemies to artificial\\n\\nhoneydew in Utah alfalfa. Environmental Entomology, 22(6), 1392-1401.\\n\\n[10] Sabelis, M. W., and Van Rijn, P. C. (2006). When does alternative food promote biological pest control?. IOBC WPRS BULLETIN, 29(4), 195.\\n\\n[11] Srinivasu, P. D. N., Prasad, B. S. R. V., and Venkatesulu, M. (2007). Biological control through provision of additional food to predators: a theoretical study. Theoretical Population Biology, 72(1), 111-120.\\n\\n[12] Srinivasu, P. D. N., and Prasad, B. S. R. V. (2010). Time optimal control of an additional food provided predator\\u2013prey system with applications to pest management and biological conservation. Journal of mathematical biology, 60(4), 591-613.\\n\\n[13] Sen, M., Srinivasu, P. D. N., and Banerjee, M. (2015). Global dynamics of an additional food provided predator\\u2013prey system with constant harvest in predators. Applied Mathematics and Computation, 250, 193-211.\\n\\n[14] Harmon, J. P. (2003). Indirect interactions among a generalist predator and its multiple foods. University of Minnesota.\\n\\n[15] Gonzalez-Yanez, B., Gonzalez-Olivares, E., and MENA-LORCA, J. A. I. M. E. (2007). Multi- stability on a Leslie-Gower Type predator-prey model with nonmonotonic functional response. In BIOMAT 2006 (pp. 359-384).\\n\\n29\\n\\ndy(@) _ k(k=o)\\u2014k(1+atte)\\u2014(h=z)%c dx [k\\u2014(k\\u2014x)e] k(1\\u2014e)\\u2014(14+af) The slope at the point (07 11+:v\\u00a7) ism k(1\\u2014e)?\\n\\n30\\n\\nADDITIONAL FOOD\\n\\n[16] GONZALEZ-OLIVARES, E. D. U. A. R. D. O., Mena-Lorca, J., MENESES-ALCAY, H. \\u00b4E. C. T. O. R., Gonzalez-Yanez, B., AND FLORES, J. D. (2008). Allee effect, emigration and immigration in a class of predator-prey models. Biophysical Reviews and Letters, 3(01n02), 195-215.\\n\\n[17] Saez, E., and Gonzalez-Olivares, E. (1999). Dynamics of a predator-prey model. SIAM Journal on Applied Mathematics, 59(5), 1867-1878.\\n\\n[18] Mena-Lorca, J., Gonzalez-Olivares, E., and Gonzalez-Yanez, B. (2006). The Leslie-Gower predator-prey model with Allee effect on prey: A simple model with a rich and interest- ing dynamics. In Proceedings of the 2006 International Symposium on Mathematical and Computational Biology BIOMAT (pp. 105-132).\\n\\n[19] Guo, Y., Niu, B., and Tian, J. P. (2019). Backward Hopf bifurcation in a mathematical model for oncolytic virotherapy with the infection delay and innate immune effects. Journal of biological dynamics, 13(1), 733-748.\\n\\n[20] Parshad, R. D., Wickramasooriya, S., Antwi-Fordjour, K., and Banerjee, A. (2023). Ad- ditional Food Causes Predators to Explode\\u2014Unless the Predators Compete. International Journal of Bifurcation and Chaos, 33(03), 2350034.\\n\\n[21] Saputra, K. V. I., van Veen, L., and Quispel, G. R. W. (2010). The saddle-node-transcritical bifurcation in a population model with constant rate harvesting. Discrete and Continuous. Dynamical Systems-B, 14(1), 233.\\n\\n[22] Donohue, J. G., and Piiroinen, P. T. (2020). Normal-form analysis of the cusp-transcritical interaction: applications in population dynamics. Nonlinear Dynamics, 100(2), 1741-1753.\\n\\n[23] Cantrell, R. S., and Cosner, C. (2001). On the dynamics of predator\\u2013prey models with the Beddington\\u2013DeAngelis functional response. Journal of Mathematical Analysis and Applica- tions, 257(1), 206-222.\\n\\n[24] Hofbauer, J., So, J.W.H. Multiple limit cycles for predator-prey models (1989) [25] Beddington, J. R. (1975). Mutual interference between parasites or predators and its effect\\n\\non searching efficiency.. The Journal of Animal Ecology, 331-340.\\n\\n[26] DeAngelis, D. L., Goldstein, R. A., and O\\u2019Neill, R. V. (1975). A model for tropic interaction. Ecology, 56(4), 881-892.\\n\\n[27] Cantrell, R. S., and Cosner, C. (2001). On the dynamics of predator\\u2013prey models with the Beddington\\u2013DeAngelis functional response. Journal of Mathematical Analysis and Applica- tions, 257(1), 206-222.\\n\\n[28] Czaja, K., G\\u00b4oralczyk, K., Struci\\u00b4nski, P., Hernik, A., Korcz, W., Minorczyk, M., and Ludwicki, J. K. (2015). Biopesticides\\u2013towards increased consumer safety in the European Union. Pest management science, 71(1), 3-6.\\n\\n[29] Coll, M. O. S. H. E. (1998). Parasitoid activity and plant species composition in intercropped systems. Enhancing Biological Control\\u2013Habitat Management to Promote Natural Enemies of Agricultural Pests, 85-119.\\n\\n[30] Berkvens, N., Bonte, J., Berkvens, D., Deforce, K., Tirry, L., and De Clercq, P. (2008). Pollen as an alternative food for Harmonia axyridis. From biological control to invasion: the ladybird Harmonia axyridis as a model species, 201-210.\\n\\n[31] Srinivasu, P. D. N., and Prasad, B. S. R. V. (2011). Role of quantity of additional food to predators as a control in predator\\u2013prey systems with relevance to pest management and biological conservation. Bulletin of mathematical biology, 73(10), 2249-2276.\\n\\n[32] Srinivasu, P. D. N., Vamsi, D. K. K., and Ananth, V. S. (2018). Additional food supplements as a tool for biological conservation of predator-prey systems involving type III functional response: A qualitative and quantitative investigation. Journal of theoretical biology, 455, 303-318\\n\\n[33] Srinivasu, P. D. N., Vamsi, D. K. K., and Aditya, I. (2018). Biological conservation of living systems by providing additional food supplements in the presence of inhibitory effect: a theoretical study using predator\\u2013prey models. Differential Equations and Dynamical Systems, 26, 213-246.\\n\\n[34] Sasmal, S. K., Mandal, D. S., and Chattopadhyay, J. (2017). A predator-pest model with Allee effect and pest culling and additional food provision to the predator\\u2014application to pest control. Journal of Biological Systems, 25(02), 295-326.\\n\\n[35] Parshad, R. D., Wickramsooriya, S., and Bailey, S. (2019). A remark on \\u201cBiological control through provision of additional food to predators: A theoretical study\\u201d[Theor. Popul. Biol. 72 (2007) 111\\u2013120]. Theoretical Population Biology.\\n\\nADDITIONAL FOOD\\n\\n31\\n\\n[36] Kumar, D., Chakrabarty, S. P. (2018). A predator\\u2013prey model with additional food supply to predators: dynamics and applications. Computational and Applied Mathematics, 37, 763-784. [37] Kumar, D., Chakrabarty, S. P. (2015). A comparative study of bioeconomic ratio-dependent predator\\u2013prey model with and without additional food to predators. Nonlinear Dynamics, 80, 23-38.\\n\\n[38] Parshad, R. D., Quansah, E., Black, K., Beauregard, M. (2016). Biological control via \\u201ceco- logical\\u201d damping: an approach that attenuates non-target effects. Mathematical biosciences, 273, 23-44.\"\n",
            "}\n",
            "{\n",
            "  \"text\": \"Summary\\n\\nWe investigate a mathematical model in crop pest controlling, considering plant biomass, pest, and the e\\ufb00ect of farming awareness. The pest population is divided into two compart- ments: susceptible pests and infected pests. We assume that the growth rate of self-aware people is proportional to the density of susceptible pests existing in the crop arena. Impacts of awareness are modeled through the usual mass action term and a saturated term. It is further assumed that self-aware people will adopt chemical and biological control methods, namely integrated pest management. Bio-pesticides are costly and require a long-term pro- cess, expensive to impose. However, if chemical pesticides are introduced in the farming system along with bio-pesticides, the process will be faster as well as cost-e\\ufb00ective. Also, farming knowledge is equally important. In this article, a mathematical model is derived for controlling crop pests through an awareness-based integrated approach. In order to reduce the negative e\\ufb00ects of pesticides, we apply optimal control theory.\"\n",
            "}\n",
            "{\n",
            "  \"text\": \"BT BT\\n\\nPest control using farming awareness: impact of time delays and optimal use of biopesticides\\u2217\\n\\nTeklebirhan Abraha1 tekbir98@yahoo.com\\n\\nFahad Al Basir2 fahadbasir@gmail.com\\n\\nLegesse Lemecha Obsu1 legesse.lemecha@astu.edu.et\\n\\nDel\\ufb01m F. M. Torres3\\u2020 delfim@ua.pt\\n\\n1Department of Mathematics, Adama Science and Technology University, Adama, Ethiopia 2Department of Mathematics, Asansol Girls\\u2019 College, West Bengal 713304, India\\n\\n3R&D Unit CIDMA, Department of Mathematics, University of Aveiro, 3810-193 Aveiro, Portugal\\n\\nAbstract\\n\\nWe investigate a mathematical model in crop pest management, considering plant biomass, pest, and the e\\ufb00ect of farming awareness. The pest population is divided into two compart- ments: susceptible pest and infected pest. We assume that the growth rate of self-aware people is proportional to the density of healthy pests present in the crop \\ufb01eld. Impacts of awareness is modeled via a saturated term. It is further assumed that self-aware people will adopt biological control methods, namely integrated pest management. Susceptible pests are detrimental to crops and, moreover, there may be some time delay in measuring the healthy pests in the crop \\ufb01eld. A time delay may also take place while becoming aware of the control strategies or taking necessary steps to control the pest attack. In agreement, we develop our model incorporating two time delays into the system. The existence and the stability criteria of the equilibria are obtained in terms of the basic reproduction number and time delays. Sta- bility switches occur through Hopf-bifurcation when time delays cross critical values. Optimal control theory has been applied for the cost-e\\ufb00ectiveness of the delayed system. Numerical simulations illustrate the obtained analytical results.\\n\\nKeywords: mathematical modeling of biological systems; time delays; stability; Hopf bifur- cation; optimal control; numerical simulations.\\n\\nMSC 2020: 34H20; 37G15; 49N90; 92D25.\"\n",
            "}\n",
            "{\n",
            "  \"text\": \"the numerical simulations of the optimal control problem we \\ufb01x tf = 60 days. The values of the weight function are taken as P1 = 0.8, P2 = 0.5, P3 = 0.5 Q = 10, and R = 10, and the initial state variables as X(0) = 0.2, S(0) = 0.07, I(0) = 0.05, A(0) = 0.5. In Figures 1 and 2, the time series solution of model system (1) are sketched with di\\ufb00erent values of the parameters \\u03b1 and \\u03b3. It is observed that our model variables X(t), S(t), I(t) and A(t) become oscillating as the values of the rates (i.e., \\u03b1 and \\u03b3) get larger and \\ufb01nally become stable. Also, the steady state value of both pest population (when they exist) are decreased as \\u03b1 and \\u03b3 rise. A bifurcation illustration is shown in Figure 3, taking \\u03b1 as the main parameter.\\n\\nCritical values depend on many parameters, such as the conversion rates m1 and m2, the rate of the awareness program \\u03c3, the recruitment rate of global awareness \\u03c9, the chemical pesticide control u1, etc. We examine the impact of optimal control pro\\ufb01les by implementing a Runge\\u2013Kutta fourth-order scheme on the optimality system (38). The dynamical behavior of the model, in relation to the controls, is presented. The optimal policy is achieved by \\ufb01nding a solution to the state system (1) and costate system (28). To \\ufb01nd the optimal controls and respective states, we use the Runge\\u2013Kutta numerical method and the technical computing program MATLAB. As already discussed, one needs to solve four-state equations and four adjoint equations. For that, \\ufb01rst we solve system (28) with an initial guess for the controls forward in time and then, using the transversality conditions as initial values, the adjoint system (35) is solved backwards in time using the current iteration solution of the state system. The controls are updated by using a convex combination of the previous controls and the values from (37). The process continues until the solution of the state equations at the present is very close to the previous iteration values. Precisely, in our numerical computations we use Algorithm 1. This algorithm\\n\\nAlgorithm 1 Forward-Backward Sweep Method 1: Make an initial guess for u over the time interval (we took u \\u2261 0). 2: Using the initial condition \\u03a61 = \\u03a6(0) and the values for u, solve \\u03a6 forward in time in compliance with its di\\ufb00erential equation in the optimality\\n\\nsystem (we used RK4).\\n\\n3: Using the transversality condition \\u03bbN+1 = \\u03bb(tf ) and the values for u and \\u03a6, solve \\u03bb backward in time according to its di\\ufb00erential equation in the optimality system (we used RK4).\\n\\n4: Update u using the new values for \\u03a6 and \\u03bb into the characterization of the optimal control. 5: Check convergence: if the variables are su\\ufb03ciently close to the corresponding ones in the previous iteration, then output the current values\\n\\nas solutions; else return to Step 2.\\n\\nT. Abraha et al.\\n\\n17\\n\\n& =} = =} IS Crop biomass, X =} o i o S} 200 400 600 Time (day)\\n\\n0.03 0.02 0.01 Infected pest,| B o S} 200 400 600 Time (day)\\n\\n& Susceptible pest,S 200 400 600 Time (day)\\n\\n& o N =} o Aware people,A =} 5 1 2 o 200 400 600 Time (day)\\n\\nFIGURE 1 Numerical solution of system (1) for di\\ufb00erent values of the rate \\u03b1 of pest: \\u03b1 = 0.12 (blue line), \\u03b1 = 0.16 (red line), \\u03b1 = 0.18 (black line). Other parameter values as in Table 1.\\n\\n& =} = =} IS =} o Crop biomass,X il 200 400 600 Time (day)\\n\\n0.03 0.02 0.01 Infected pest,| o i S} 200 400 600 Time (day)\\n\\n- & Susceptible pest,S T o 200 400 600 Time (day)\\n\\n0.8 g & Aware people,A & 2 T o 200 400 600 Time (day)\\n\\nFIGURE 2 Numerical solution of system (1) for di\\ufb00erent values of the rate \\u03b3 of pest: \\u03b3 = 0.01 (blue line), \\u03b3 = 0.0.04 (red line), \\u03b3 = 0.07 (black line). Other parameter values as in Table 1.\\n\\n18\\n\\nT. Abraha et al.\\n\\n(a) 0.5 0.05 0.1 0.15 0.2\\n\\n\\u00ab\\n\\n(\\u00a9\\n\\n0.02 0.015 0.01 0.005 0.05 0.1 0.15 0.2 \\u00ab\\n\\n(b) 0.5 0.05 0.1 0.15 0.2\\n\\n@\\n\\n()\\n\\n() 0.8 e ........ 0.6 0.4 . 0.2 0.05 0.1 0.15 0.2 @\\n\\nFIGURE 3 Bifurcation diagram of the coexisting equilibrium E\\u2217 (when exists) of system (1) with respect to the attack rate \\u03b1 of pest. Solid line indicates stable endemic equilibrium.\\n\\nsolves a two point boundary-value problem, with divided boundary conditions at t0 = 0 and t = tf . The numerical solution of the optimal control problem is given in Figure 4, showing the impact of optimal control theory. We apply the control through chemical pesticide e\\ufb00ects, bio-pesticides,\\n\\n- =} \\u00a9 =} =) Crop biomass, X =} IS 5 ) =} Time (day)\\n\\n0.06 - 0 04 0.02 Infected pest,| OO 20 40 60 Time (day)\\n\\n0.07 0.065 Susceptible pest,S 0.06 Time (day)\\n\\n0.5 0.45 E Aware people,A N & 20 40 60 Time (day)\\n\\nFIGURE 4 Numerical solutions of the optimal control problem taking parameters as in Table 1.\\n\\nT. Abraha et al.\\n\\nand cost of advertisements for a time period of 60 days. In Figure 4, we note that, due to the e\\ufb00ort of optimal controls u\\u2217 population obtains its maximum value in 60 days, susceptible pest minimizes and infected pest is also minimized and reduced to 0 in the \\ufb01rst 20 days. The population of pest is reduced radically with an in\\ufb02uence of the best frameworks of universal awareness (i.e., u\\u2217 2 \\u03bb) and chemical pesticides control movement, u\\u2217 1 \\u03b3. It is also seen that the susceptible pest population goes to devastation inside the earliest 50 days, due to the e\\ufb00ort of the extremal controls, which are shown in Figure 5. Thus, the optimal control policy, by means of chemical pesticides, biological control, and global\\n\\n|\\n\\n19\\n\\nx10 7\\\\ 20 40 60 Time (day)\\n\\n- 0.5 20 40 60 Time (day)\\n\\nx10 20 40 60 Time (day)\\n\\nFIGURE 5 Pontryagin extremal controls u\\u2217 1 ,u\\u2217 2 and u\\u2217 3 plotted as functions of time.\\n\\nfarming awareness, has a great in\\ufb02uence in making the system free of pest and maintaining the stable nature in the remaining time period. Figure 5 shows that optimal chemical pesticides and biological control are needed to control the environmental crop biomass and to minimize the cost of cultivation with optimal awareness through global media.\"\n",
            "}\n"
          ]
        }
      ],
      "source": [
        "import json\n",
        "\n",
        "documents = client.collections.get(\"UnstructuredDemo\")\n",
        "\n",
        "response = documents.query.hybrid(\n",
        "    query=\"types of biological pest control\",\n",
        "    alpha=0.5, # equal weighting of BM25 and vector search\n",
        "    return_properties=['text'],\n",
        "    auto_limit=2  # autocut after 2 jumps\n",
        ")\n",
        "\n",
        "for obj in response.objects:\n",
        "    print(json.dumps(obj.properties, indent=2))"
      ]
    },
    {
      "cell_type": "markdown",
      "metadata": {
        "id": "Vvb63AzcLG0x"
      },
      "source": [
        "### Vector Search"
      ]
    },
    {
      "cell_type": "code",
      "execution_count": null,
      "metadata": {
        "colab": {
          "base_uri": "https://localhost:8080/"
        },
        "id": "bp4Pfe7-G2C_",
        "outputId": "37a3b0b0-55a7-40b4-a1f5-dd5a730ea112"
      },
      "outputs": [
        {
          "name": "stdout",
          "output_type": "stream",
          "text": [
            "{\n",
            "  \"text\": \"6. Conclusions\\n\\nBiological pest control is a sustainable practice that benefits food production and health. Despite all the biological and environmental appeal for the development of these studies, there is also a need for adequate statistical methodologies to confirm the scientific hypotheses. Interactions between species, as well as changes in behaviour over time require specific methods of analysis to estimate the biological control efficiency of a species, and models for categorical longitudinal data are very useful in this context. In this work, we presented the problem of the soybean pest Euschistus heros and two potential agents for natural control in the field. As a statistical contribution, we developed an extension of multi-state models to compare two parasitoid species by evaluating their behaviours over time. These models allow not only to describe behavioural actions but also the intensity with which they occur. In this context, the method validated the experimental assumption that the species T. podisi avoids intra-specific competition by being more efficient in recognising and avoiding previous conspecific parasitism. In the applied sense, the results can contribute to improving the parasitoid release strategies in the field and optimise the mass-rearing production. Moreover, the proposed statistical method used can also be a contribution to potential researchers studying insect behaviour. Although in this work the method has proved to be effective, for future studies there is a need to consider sub-intervals of time, for which we can allow different transition rates, since they may not be homogeneous over time.\\n\\n14\"\n",
            "}\n",
            "{\n",
            "  \"text\": \"1. Introduction\\n\\nIn today\\u2019s farming systems, a variety of approaches are used for pest control. Maintaining high output while guaranteeing sustainability is crucial for the entire agriculture sector. Since the beginning of human civilization, insect and pest control has been one of the most signi\\ufb01cant dif\\ufb01culties in the agricultural sector [1,2]. Every day, people come up with fresh ideas for equipment and tactics to use in their \\ufb01ght against pests. As a result of human efforts to manage pests, our natural ecology and nature are on the verge of extinction [3].\\n\\nChemical controls are less expensive to implement, yet they result in signi\\ufb01cant environ- mental damage [4\\u20136]. On the other hand, biological controls are more costly to implement but have less environmental impact [7]. However, frequently, the use of a single control method is not bene\\ufb01cial to control pest resistance and preserve environmental quality [8,9]. In order to reduce insect populations below economic levels, integrated pest management (IPM), a safer and more effective method, was developed. IPM is used for a variety of agronomic crops and is now widely used as an economical and environment-friendly pest control method in several nations [8\\u201310]. When the ecological cost of management is added to the economic price of controls, a combination of chemical and biological controls yields a superior result when they are used with proper rate and with tolerable intervals. Modeling of this phenomenon leads naturally to the use of impulsive differential equations [11,12].\\n\\n2 of 16\\n\\nMany researchers have designed mathematical models for pest management through control strategies, some of which promote chemical agents [4,7], some advocate the use of bio- logical agents to impose a total solution of pest and disease [1,2,10,13\\u201315], and some researchers use both the chemical and biopesticides in their mathematical models [5,16\\u201318]. Mathematical- model-based works using impulsive differential equations are also available in the literature, as already mentioned [19\\u201326]. Recently, Li, Huang, and Liu proposed a pest management model to simulate the application of pesticides and build a pesticide function with residual and delayed effects of pesticides, proposing pest management with pollutant emission [27]. Liu et al. constructed a mathematical model for pest control in which susceptible and infected pests are separated from the pest population and only susceptible pests are harmful to crops [28]. They weighed the two approaches of spraying pesticides and releasing diseased pests and natural enemies to control vulnerable pests when completing their task. Alzabut established a mathematical model based on the sense of biological survey in the \\ufb01eld of agriculture, and introduced various control methods to determine how to protect the crops from destructive pests [29]. In [24], an integrated pest management model using impulsive differential equations was proposed and analyzed for Jatropha curcas using the release of infective pests and spraying of chemical pesticides. The existence and stability of susceptible pest-eradication solutions were analyzed using Floquet theory and the small amplitude perturbation method. To the best of our knowledge, all available articles deal with single-impulse differential equation models where the stability analysis of the periodic pest extinction solution is obtained by the Floquet theory, the method of small amplitude perturbation, and the comparison theorem. However, none of the prior research available in the literature employs the concentration of chemical pesticides as a system variable as we do here. Moreover, in our study, we spray biological and chemical pesticides at two different time intervals, simultaneously varying the time period.\\n\\nPest control models using a single impulse are available (see, e.g., [30]), but using double- impulsive controls is rare [31,32]. The authors of [31] took a predator population along with biopesticides in an impulsive periodic way for the control of crop pests. The authors of [32] proposed a predator\\u2013prey model with disease in the prey and investigated it for the purpose of integrated pest management. The permanence of the system and global stability of the susceptible pest-eradication periodic solution were shown by means of the released amounts of infective prey and predator. In contrast, here, impulses on both chemical and biopesticides were assumed in the formulation of the mathematical model for crop pest management.\\n\\nOur use of the concentration pro\\ufb01le of the chemical pesticide as a model variable is a novel approach. We demonstrated the dynamics using both the chemical and biological pesticides in the system in an impulsive way, which is, to the best of our knowledge, a novel concept in crop pest control. The proposed double-impulsive system was analyzed with proper analytical methods, namely, using Floquet theory and the perturbation method.\\n\\nFloquet theory is a powerful mathematical tool for analyzing periodic systems, and it can be extended to impulsive models with periodic impulses. In impulsive models, the system\\u2019s behavior is characterized by a sequence of discrete impulses applied at regular intervals. These impulses may arise in many practical scenarios, including electrical circuits, control systems, and biological systems. Floquet theory provides a robust framework for analyzing and designing control strategies for impulsive models with periodic impulses. One can analyze the stability of the impulsive system by examining the eigenvalues of the Floquet matrix [33]. In our analysis, we utilize small amplitude perturbation techniques and Floquet theory and obtain some valid theoretical results for successful management of pests. Moreover, we also establish the threshold time limit for the impulsive release of control agents. Our approach for using the Floquet theory is novel. Additionally, we examined the dynamics of the system for biological and chemical pesticides used as a sole control measure.\\n\\n3 of 16\\n\\nThe paper is organized as follows. In Section 2, we derive the model by using impulsive differential equations for capturing the IPM system dynamics, taking plant, pest, virus, and chemical pesticide as model variables. The mathematical analysis of the model is then discussed in Section 3, which contains three subsections. In Section 3.1, we determine susceptible pest- eradication periodic solutions and check the feasibility\\u2013boundedness of the system variables discussed in Section 3.2. The local and global stability conditions around the susceptible pest-eradication periodic solutions are explored in Section 3.3. In Section 4, we exhibit our mathematical results through numerical simulations. Finally, in Section 5, we provide a discussion on the three types of control strategies: spraying chemical pesticide only, impulsively incorporating of infected pest only, and integrated control with a \\ufb01xed and a variable impulse period, to make the \\ufb01nal conclusion.\"\n",
            "}\n",
            "{\n",
            "  \"text\": \"Introduction\\n\\nIn recent times, integrated pest management is gaining more attention among researchers and its application is also increasing in the crop \\ufb01eld. This method seeks to reduce the reliance on pesticides by emphasizing the contribution of biological control agents. The important role of mi- crobial pesticides in integrated pest management is well-known in agriculture, forestry, and public health. As integrated pest management, bio-pesticides give noticeable pest control reliability in case of crops [1]. The use of viruses against insect pests, as pest control agents, is seen in North America and in European countries [2, 3, 4]. Awareness campaigns, in particular through radio or TV, are required so that people will gain trustworthiness on a biological control approach.\\n\\n\\u2217This is a preprint of a paper whose \\ufb01nal and de\\ufb01nite form is published by \\u2019Chaos Solitons Fractals\\u2019 (ISSN: 0960-0779). Paper Submitted 08/Sept/2020; Revised 25/Feb/2021; Accepted 10/March/2021.\\n\\n\\u2020Corresponding author. Email: del\\ufb01m@ua.pt\\n\\n1\\n\\nFarmers, in their own awareness, can keep the crop under observation and, therefore, if correctly instructed, they will spray bio-pesticides or incorporate fertile to make the pest susceptible to their bio-agents. For the e\\ufb00ect of awareness coverage in controlling infectious diseases we refer the reader to [5], where a SIS model is formulated considering individuals\\u2019 behavioral changes due to the in\\ufb02uences of media coverage, and where the susceptible class is divided into two subclasses: aware susceptible and unaware susceptible.\\n\\nCorrect and relevant knowledge about crop and its pests is very much essential for people engaged in cultivation. The role of electronic media is critical for keeping the farming community updated and by providing them with relevant agricultural information [6, 7]. Accessible pesticide information campaigns help farmers to be aware on the serious risks that pesticides have on human health and environment and minimize negative e\\ufb00ects [8]. Adopting awareness programs, intended to educate farmers\\u2019, results in a better comprehensive development for the cultivars and also for the farmers. Farmers learn the use and dangers of pesticides mainly by oral communication. Self-aware farmers employ considerably improved agronomic practices, safeguarding health and reducing environmental hazards [9]. Therefore, awareness is important in crop pest management. Television, radio, and mobile telephony are particularly useful media in providing information about agricultural practices and crop protection [6]. Adopting new technologies during agricultural awareness programs represents a major route for innovating and improving agronomy. Le Bellec et al. [10] have studied how an enabling environment for interactions between farmers, researchers, and other factors, can contribute to reduce current problems associated with crop. Al Basir et al., describe the participation of farming communities in Jatropha projects for biodiesel production and protection of plants from mosaic disease, using a mathematical model to forecast the development of renewable energy resources [11]. In [12], authors have developed a mathematical model for pest control using bio-pesticides. Moreover, they also incorporate optimal control theory to minimize the cost in pest management due to bio-pesticides. For the use of optimal control theory to eradicate the number of parasites in agroecosystems, see [13]. The usefulness of time-delays In [15], a model for pest control is proposed in epidemiological modeling is well-known [14]. and analyzed, where the impact of farming awareness and a time delay in local awareness is investigated. They conclude that raising awareness among people, with tolerable time delay, may be a proper aspect for the control of pests in a crop \\ufb01eld while reducing the serious issues that pesticides have on human health and environment [15]. Later, in [16], Al Basir has discussed the e\\ufb00ects of delay in pest control due to the implementation of control interventions. In [17], Al Basir and Ray analyze the dynamics of vector borne plant disease dynamics in\\ufb02uenced by farming awareness. Here, a mathematical model is formulated to protect crops through awareness campaigns, modeled via saturated terms, and a delayed optimal control problem for biopesticides is posed and solved.\\n\\nThe paper is organized as follows. In Section 2, the model is derived assuming that the rate of awareness is proportional to the number of susceptible pests in the \\ufb01eld. Moreover, we make the model more realistic considering a time delay due to the measure of pest in the \\ufb01eld. In Section 3, nonnegativity and boundedness of the solutions are proved by \\ufb01nding the invariant region. The equilibria, the basic reproduction number, and the stability of the pest-free equilibrium are studied, using qualitative theory, in Section 4. In Sections 5 and 6, we study the direction and stability of the Hopf bifurcation, investigating the stability switches of the equilibrium points, respectively for the system without and with delays. We show that stability switch occurs through Hopf bifurcation. An optimal control problem is then formulated and solved analytically in Section 7, with the goal to minimize the cost of biopesticides. The obtained analytical results are illustrated through numerical simulations in Section 8. We end with Section 9 of discussion and conclusion.\"\n",
            "}\n",
            "{\n",
            "  \"text\": \"Summary\\n\\nWe investigate a mathematical model in crop pest controlling, considering plant biomass, pest, and the e\\ufb00ect of farming awareness. The pest population is divided into two compart- ments: susceptible pests and infected pests. We assume that the growth rate of self-aware people is proportional to the density of susceptible pests existing in the crop arena. Impacts of awareness are modeled through the usual mass action term and a saturated term. It is further assumed that self-aware people will adopt chemical and biological control methods, namely integrated pest management. Bio-pesticides are costly and require a long-term pro- cess, expensive to impose. However, if chemical pesticides are introduced in the farming system along with bio-pesticides, the process will be faster as well as cost-e\\ufb00ective. Also, farming knowledge is equally important. In this article, a mathematical model is derived for controlling crop pests through an awareness-based integrated approach. In order to reduce the negative e\\ufb00ects of pesticides, we apply optimal control theory.\"\n",
            "}\n",
            "{\n",
            "  \"text\": \"KEYWORDS: Mathematical modeling, stability, Hopf-bifurcation, optimal control, numerical simulations.\\n\\n1 INTRODUCTION\\n\\nProblems connected with pests have become evident around the world as cultivation began. World\\u2019s food supply is being wasted due to the cause of pests in agriculture. On the other hand, major side-e\\ufb00ects of synthetic pesticides on the environment, human health, and biodiversity, are generating widespread concerns. Thus, farmers\\u2019 awareness of the risk of synthetic pesticides uses is one of the important factors to consider. The use of biological contents to protect crops against pests needs indigenous knowledge to implement such contents in pest management 1,2.\\n\\nThere are several good modeling studies on pest control. For example, Chowdhury et al. 3,4 have proposed and analyzed mathematical models for biological pest control using the virus as a controlling agent. In fact, all eco-epidemic models with susceptible prey, infected prey, and predators, can be used to discuss the nature of the susceptible pest, infected pest, and their predators 5. Zhang et al. 6 used a delayed stage-structured epidemic model for pest management strategy. Wang and Song 7 used mathematical models to control a pest population by infected pests. However, they did not use the in\\ufb02uence of the predator populations on their works.\\n\\nMany researchers utilize mathematical models for pest control in order to study di\\ufb00erent aspects of pest management policies with probable outcomes for improved applications, using system\\u2019s analysis within the mathematical paradigm. Most of them suggest using chemical pesticides 8,9. However, it is recorded that chemical pesticides have resulted in pest resurgence, acute and chronic health problems, and environmental pollution 10. Thus, to resolve this type of problem, the concept of IPM is becoming more popular among researchers with increasing application in the \\ufb01eld by marginal farmers.\\n\\n0Abbreviations: IPM, Integrated Pest Management; PMP, Pontryagin Minimum Principle; NPV, Nuclear Polyhedrosis Virus\\n\\n2\\n\\nT. Abraha et al.\\n\\nIn this paper, we formulate a mathematical model, incorporating the farming awareness based integrated approach. The main focus is to compare the basic advantage of favoring the biological and combined strategy to minimize the pest problem and predict new insights on the pest manage- ment, in general. In order to reduce the negative e\\ufb00ects of pesticides, we apply an optimal control approach. The dynamic of the system, without application of control, is analyzed through stability and bifurcation theory. Then, we formulate a three control parameter optimal control problem and solve it by applying PMP to \\ufb01nd out the optimal level of both pesticide and the advertisement cost for cost e\\ufb00ectiveness and minimizing the negative e\\ufb00ect due to pesticides. Numerical simulations illustrate the analytical results. Finally, we discuss the outcomes with a conclusion.\"\n",
            "}\n"
          ]
        }
      ],
      "source": [
        "documents = client.collections.get(\"UnstructuredDemo\")\n",
        "\n",
        "response = documents.query.near_text(\n",
        "    query=\"types of biological pest control\",\n",
        "    return_properties=['text'],\n",
        "    limit=5  # limit to 5\n",
        ")\n",
        "\n",
        "for obj in response.objects:\n",
        "    print(json.dumps(obj.properties, indent=2))"
      ]
    },
    {
      "cell_type": "markdown",
      "metadata": {
        "id": "QFC92Cq-P-Dz"
      },
      "source": [
        "## Generative Search"
      ]
    },
    {
      "cell_type": "code",
      "execution_count": null,
      "metadata": {
        "colab": {
          "base_uri": "https://localhost:8080/"
        },
        "id": "oP4S35wUQHdq",
        "outputId": "827e5ecb-7099-43f8-a087-6c3c36b8ac08"
      },
      "outputs": [
        {
          "name": "stdout",
          "output_type": "stream",
          "text": [
            "\"Are aphids wreaking havoc in your garden? Don't let these pests ruin your beautiful plants! With our sustainable and effective biological pest control methods, you can fight back against aphids and reclaim your garden. Our methods are not only efficient but also environmentally friendly, reducing the need for harmful chemical pesticides. We also provide comprehensive guidance on integrated pest management, helping you understand the behavior of pests and the best ways to control them. Don't let aphids take over your garden. Contact us today and let's fight back together!\"\n"
          ]
        }
      ],
      "source": [
        "generateTask = \"Please write a short ad on how customers can fight against aphids in their garden.\"\n",
        "\n",
        "documents = client.collections.get(\"UnstructuredDemo\")\n",
        "response = documents.generate.near_text(\n",
        "    query=\"types of biological pest control\",\n",
        "    limit=5,\n",
        "    grouped_task=generateTask\n",
        ")\n",
        "\n",
        "print(response.generated)"
      ]
    }
  ],
  "metadata": {
    "colab": {
      "collapsed_sections": [
        "BLToYqbST6Fi",
        "UeDYnW8iCM8Y",
        "TqsFv8wT3CXR",
        "Q6estzy_53EZ",
        "Hst7-bwLBBnv"
      ],
      "provenance": []
    },
    "kernelspec": {
      "display_name": "Python 3",
      "name": "python3"
    },
    "language_info": {
      "name": "python"
    }
  },
  "nbformat": 4,
  "nbformat_minor": 0
}
