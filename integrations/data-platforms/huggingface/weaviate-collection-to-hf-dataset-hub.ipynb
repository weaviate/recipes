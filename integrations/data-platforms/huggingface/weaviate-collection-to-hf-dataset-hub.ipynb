{
 "cells": [
  {
   "cell_type": "markdown",
   "metadata": {},
   "source": [
    "[![Open In Colab](https://colab.research.google.com/assets/colab-badge.svg)](https://colab.research.google.com/github/weaviate/recipes/blob/main/integrations/data-platforms/huggingface/weaviate-collection-to-hf-dataset-hub.ipynb)"
   ]
  },
  {
   "cell_type": "markdown",
   "metadata": {},
   "source": [
    "# Weaviate Collection to HuggingFace Dataset Hub\n",
    "\n",
    "This notebook will show you how to upload the data stored in a Weaviate Collection onto the HuggingFace Dataset Hub!"
   ]
  },
  {
   "cell_type": "code",
   "execution_count": 2,
   "metadata": {},
   "outputs": [],
   "source": [
    "import weaviate\n",
    "import os\n",
    "from weaviate.classes.init import Auth\n",
    "import weaviate.classes.config as wvcc\n",
    "import re\n",
    "from weaviate.util import get_valid_uuid\n",
    "from uuid import uuid4"
   ]
  },
  {
   "cell_type": "code",
   "execution_count": 4,
   "metadata": {},
   "outputs": [
    {
     "name": "stdout",
     "output_type": "stream",
     "text": [
      "True\n"
     ]
    }
   ],
   "source": [
    "WEAVIATE_URL = os.getenv(\"WEAVIATE_URL\")\n",
    "WEAVIATE_API_KEY = os.getenv(\"WEAVIATE_API_KEY\")\n",
    "\n",
    "weaviate_client = weaviate.connect_to_weaviate_cloud(\n",
    "    cluster_url=WEAVIATE_URL,\n",
    "    auth_credentials=Auth.api_key(WEAVIATE_API_KEY)\n",
    ")\n",
    "\n",
    "print(weaviate_client.is_ready())"
   ]
  },
  {
   "cell_type": "markdown",
   "metadata": {},
   "source": [
    "### Replace this with the name of the Weaviate Collection you want to upload!"
   ]
  },
  {
   "cell_type": "code",
   "execution_count": 5,
   "metadata": {},
   "outputs": [],
   "source": [
    "blogs_collection = weaviate_client.collections.get(\"WeaviateBlogChunks\")"
   ]
  },
  {
   "cell_type": "code",
   "execution_count": 8,
   "metadata": {},
   "outputs": [
    {
     "name": "stdout",
     "output_type": "stream",
     "text": [
      "\u001b[32mProcessed 2160 items in 1.88 seconds\u001b[0m\n"
     ]
    }
   ],
   "source": [
    "import time\n",
    "\n",
    "data = []\n",
    "\n",
    "start_time = time.time()\n",
    "\n",
    "for item in blogs_collection.iterator():\n",
    "    values_dictionary = {}\n",
    "    values_dictionary[\"uuid\"] = str(item.uuid)\n",
    "    for key in item.properties.keys():\n",
    "        values_dictionary[key] = item.properties[key]\n",
    "    data.append(values_dictionary)\n",
    "\n",
    "end_time = time.time()\n",
    "execution_time = end_time - start_time\n",
    "\n",
    "print(f\"\\033[32mProcessed {len(data)} items in {execution_time:.2f} seconds\\033[0m\")"
   ]
  },
  {
   "cell_type": "code",
   "execution_count": 10,
   "metadata": {},
   "outputs": [],
   "source": [
    "import json\n",
    "with open(\"./weaviate-blogs-with-synthetic-questions.json\", \"w\") as json_file:\n",
    "    json.dump(data, json_file, indent=4)"
   ]
  },
  {
   "cell_type": "markdown",
   "metadata": {},
   "source": [
    "### Upload to HuggingFace Dataset Hub!"
   ]
  },
  {
   "cell_type": "code",
   "execution_count": 11,
   "metadata": {},
   "outputs": [
    {
     "data": {
      "text/plain": [
       "CommitInfo(commit_url='https://huggingface.co/datasets/weaviate/weaviate-blogs-with-synthetic-questions/commit/dde65e64bb9ee3c9ff7585fbd3fc988fb4b27bc0', commit_message='Upload weaviate-blogs-with-synthetic-questions.json with huggingface_hub', commit_description='', oid='dde65e64bb9ee3c9ff7585fbd3fc988fb4b27bc0', pr_url=None, repo_url=RepoUrl('https://huggingface.co/datasets/weaviate/weaviate-blogs-with-synthetic-questions', endpoint='https://huggingface.co', repo_type='dataset', repo_id='weaviate/weaviate-blogs-with-synthetic-questions'), pr_revision=None, pr_num=None)"
      ]
     },
     "execution_count": 11,
     "metadata": {},
     "output_type": "execute_result"
    }
   ],
   "source": [
    "from huggingface_hub import HfApi\n",
    "\n",
    "hf_api = HfApi(\n",
    "    endpoint=\"https://huggingface.co\",\n",
    "    token=os.getenv(\"HUGGINGFACE_TOKEN\")\n",
    ")\n",
    "\n",
    "hf_api.create_repo(\n",
    "    repo_id=\"weaviate/weaviate-blogs-with-synthetic-questions\",\n",
    "    token=os.getenv(\"HUGGINGFACE_TOKEN\"),\n",
    "    repo_type=\"dataset\"\n",
    ")\n",
    "\n",
    "hf_api.upload_file(\n",
    "    path_or_fileobj=\"./weaviate-blogs-with-synthetic-questions.json\",\n",
    "    path_in_repo=\"weaviate-blogs-with-synthetic-questions.json\",\n",
    "    repo_id=\"weaviate/weaviate-blogs-with-synthetic-questions\",\n",
    "    repo_type=\"dataset\"\n",
    ")"
   ]
  },
  {
   "cell_type": "markdown",
   "metadata": {},
   "source": [
    "# ![HuggingFace Dataset](./images/huggingface-datasets.png \"HuggingFace Dataset\")"
   ]
  }
 ],
 "metadata": {
  "kernelspec": {
   "display_name": "Python 3",
   "language": "python",
   "name": "python3"
  },
  "language_info": {
   "codemirror_mode": {
    "name": "ipython",
    "version": 3
   },
   "file_extension": ".py",
   "mimetype": "text/x-python",
   "name": "python",
   "nbconvert_exporter": "python",
   "pygments_lexer": "ipython3",
   "version": "3.10.10"
  }
 },
 "nbformat": 4,
 "nbformat_minor": 2
}
