{
 "cells": [
  {
   "cell_type": "markdown",
   "id": "acb7c1f1",
   "metadata": {},
   "source": [
    "[![Open In Colab](https://colab.research.google.com/assets/colab-badge.svg)](https://colab.research.google.com/github/weaviate/recipes/blob/main/integrations/cloud-hyperscalers/google/gemini/gemini-ultra/gemini-ultra-weaviate.ipynb)"
   ]
  },
  {
   "cell_type": "markdown",
   "id": "ffda61c1",
   "metadata": {},
   "source": [
    "# Weaviate <> Google Gemini Ultra Integration Notebook\n",
    "\n",
    "Welcome to the Weaviate and Google Gemini Ultra notebook. This notebook gets you up and running with the Weaviate and Gemini Ultra integration. \n",
    "\n",
    "![image](cover_photo1.png)"
   ]
  },
  {
   "cell_type": "markdown",
   "id": "1959b168",
   "metadata": {},
   "source": [
    "\n",
    "## Set up\n",
    "\n",
    "### Jupyter Notebook and Dependencies\n",
    "\n",
    "If you're seeing this in a running Jupyter notebook environment, you've likely already set up the virtual environment and installed the python dependencies, but if not, run the following:\n",
    "\n",
    "```bash\n",
    "$ python3 -m venv venv\n",
    "$ source venv/bin/activate\n",
    "$ pip install -r requirements.txt\n",
    "$ jupyter notebook\n",
    "```\n",
    "\n",
    "### API Keys\n",
    "\n",
    "You'll also need to get an API key from Maker Suite for the Gemini Ultra model. Go on over to [Google Maker Suite](makersuite.google.com) and get an API key for Gemini Ultra. Your API key will be attached to a GCP Project as well, so make note of both the API Key and the GCP Project ID associated with the key.\n",
    "\n",
    "Copy `env.sample` into a hidden system file called `.env`. And replace the relevant environment variables with their respective values."
   ]
  },
  {
   "cell_type": "markdown",
   "id": "4b0a64cd",
   "metadata": {},
   "source": [
    "### Load the Environment Variables into the Jupyter Notebook"
   ]
  },
  {
   "cell_type": "code",
   "execution_count": 40,
   "id": "dffcb7ed",
   "metadata": {},
   "outputs": [],
   "source": [
    "import os\n",
    "from dotenv import load_dotenv\n",
    "load_dotenv() \n",
    "\n",
    "OPENAI_API_KEY=os.getenv(\"OPENAI_API_KEY\")\n",
    "GEMINI_ULTRA_API_KEY=os.getenv(\"GEMINI_ULTRA_API_KEY\")\n",
    "GCP_PROJECT_ID=os.getenv(\"GCP_PROJECT_ID\")\n"
   ]
  },
  {
   "cell_type": "markdown",
   "id": "0f3e256c",
   "metadata": {},
   "source": [
    "### Create a Weaviate Client"
   ]
  },
  {
   "cell_type": "code",
   "execution_count": 41,
   "id": "1f8acc66-66e1-4d9b-943f-364de51fab2c",
   "metadata": {},
   "outputs": [
    {
     "name": "stdout",
     "output_type": "stream",
     "text": [
      "4.4.4.dev3+g1b381573\n"
     ]
    }
   ],
   "source": [
    "import weaviate\n",
    "import weaviate.classes as wvc\n",
    "print(weaviate.__version__)\n",
    "\n",
    "client = weaviate.connect_to_local(\n",
    "    headers={\n",
    "        \"X-OpenAI-Api-Key\": OPENAI_API_KEY,\n",
    "        \"X-PaLM-Api-Key\": GEMINI_ULTRA_API_KEY,\n",
    "    }\n",
    ")"
   ]
  },
  {
   "cell_type": "markdown",
   "id": "ccfd9836",
   "metadata": {},
   "source": [
    "### Delete an existing schema\n",
    "\n",
    "Optionally, if you've run this notebook before, you can delete the existing schema to start fresh. "
   ]
  },
  {
   "cell_type": "code",
   "execution_count": 42,
   "id": "4b0bc1b0",
   "metadata": {},
   "outputs": [],
   "source": [
    "client.collections.delete(\"Question\")"
   ]
  },
  {
   "cell_type": "markdown",
   "id": "8a4f3795",
   "metadata": {},
   "source": [
    "### Define a Schema\n",
    "\n",
    "With a fresh database, you can define the schema as shown below."
   ]
  },
  {
   "cell_type": "code",
   "execution_count": null,
   "id": "f91af9dc",
   "metadata": {},
   "outputs": [],
   "source": [
    "\n",
    "questions = client.collections.create(\n",
    "    name=\"Question\",\n",
    "    vectorizer_config=wvc.config.Configure.Vectorizer.text2vec_openai(),\n",
    "    # vectorizer_config=wvc.config.Configure.Vectorizer.text2vec_palm(project_id=GCP_PROJECT_ID, model_id=\"textembedding-gecko-001\", api_endpoint=\"generativelanguage.googleapis.com\"),  # If set to \"none\" you must always provide vectors yourself. Could be any other \"text2vec-*\" also.\n",
    "    generative_config=wvc.config.Configure.Generative.palm(project_id=GCP_PROJECT_ID, model_id=\"gemini-ultra\", api_endpoint=\"generativelanguage.googleapis.com\")  # Ensure the `generative-openai` module is used for generative queries\n",
    ")\n"
   ]
  },
  {
   "cell_type": "markdown",
   "id": "7ff73f15",
   "metadata": {},
   "source": [
    "### Insert the data\n",
    "\n",
    "We'll use a list of Jeopardy style questions from the [weaviate-tutorials/quicakstart](https://github.com/weaviate-tutorials/quickstart) repository. This JSON contains an array of objects with the following attributes: question, answer, and category. This array of objects will be batch loaded into your Weaviate instance."
   ]
  },
  {
   "cell_type": "code",
   "execution_count": 44,
   "id": "bf58078b-217c-4872-afab-a88e5bd1cd45",
   "metadata": {},
   "outputs": [
    {
     "data": {
      "text/plain": [
       "BatchObjectReturn(all_responses=[UUID('7a8ef181-591d-4ac8-82ef-1ce361cde587'), UUID('ea66848a-1427-4867-9302-4a8e77f7328d'), UUID('f65802d6-aaee-40e5-b695-9559eff31bea'), UUID('43a52d9a-78e4-484c-9877-ae73628e4be0'), UUID('f6719845-2eb2-485b-90c2-3bc1a0177cdb'), UUID('8c1faa2f-b9fd-4f19-b606-f7e97e012d3d'), UUID('925f72d3-b86c-421f-98c2-3e2ada44cfab'), UUID('1958e0a2-e35e-4048-a906-d4af4496ed75'), UUID('479824de-4b69-4f62-b8f8-623b38ba5c9d'), UUID('71d8b6d6-fb2f-4d26-a3f6-a1c76c297452')], elapsed_seconds=0.7714881896972656, errors={}, uuids={0: UUID('7a8ef181-591d-4ac8-82ef-1ce361cde587'), 1: UUID('ea66848a-1427-4867-9302-4a8e77f7328d'), 2: UUID('f65802d6-aaee-40e5-b695-9559eff31bea'), 3: UUID('43a52d9a-78e4-484c-9877-ae73628e4be0'), 4: UUID('f6719845-2eb2-485b-90c2-3bc1a0177cdb'), 5: UUID('8c1faa2f-b9fd-4f19-b606-f7e97e012d3d'), 6: UUID('925f72d3-b86c-421f-98c2-3e2ada44cfab'), 7: UUID('1958e0a2-e35e-4048-a906-d4af4496ed75'), 8: UUID('479824de-4b69-4f62-b8f8-623b38ba5c9d'), 9: UUID('71d8b6d6-fb2f-4d26-a3f6-a1c76c297452')}, has_errors=False)"
      ]
     },
     "execution_count": 44,
     "metadata": {},
     "output_type": "execute_result"
    }
   ],
   "source": [
    "\n",
    "import json\n",
    "import requests\n",
    "resp = requests.get('https://raw.githubusercontent.com/weaviate-tutorials/quickstart/main/data/jeopardy_tiny.json')\n",
    "data = json.loads(resp.text)  # Load data\n",
    "\n",
    "question_objs = list()\n",
    "for i, d in enumerate(data):\n",
    "    question_objs.append({\n",
    "        \"answer\": d[\"Answer\"],\n",
    "        \"question\": d[\"Question\"],\n",
    "        \"category\": d[\"Category\"],\n",
    "    })\n",
    "\n",
    "questions = client.collections.get(\"Question\")\n",
    "questions.data.insert_many(question_objs)  # This uses batching under the hood\n"
   ]
  },
  {
   "cell_type": "markdown",
   "id": "4574db1e",
   "metadata": {},
   "source": [
    "### Semantic Search\n",
    "\n",
    "Before we get into doing generative query with Google Gemini Ultra, let's see how a simple semantic search query looks. We'll pass these results to Gemini Ultra in the Generative Search cell that comes after this one."
   ]
  },
  {
   "cell_type": "code",
   "execution_count": 45,
   "id": "91041b88",
   "metadata": {},
   "outputs": [
    {
     "name": "stdout",
     "output_type": "stream",
     "text": [
      "{'answer': 'DNA', 'question': 'In 1953 Watson & Crick built a model of the molecular structure of this, the gene-carrying substance', 'category': 'SCIENCE'}\n"
     ]
    }
   ],
   "source": [
    "response = questions.query.near_text(\n",
    "    query=\"biology\",\n",
    "    limit=2\n",
    ")\n",
    "\n",
    "print(response.objects[0].properties)  # Inspect the first object\n"
   ]
  },
  {
   "cell_type": "markdown",
   "id": "d37ec565",
   "metadata": {},
   "source": [
    "#### Generative Search with Gemini Ultra\n",
    "\n",
    "Now let's try a generative search against the results of a semantic search with Gemini Ultra as the language model."
   ]
  },
  {
   "cell_type": "code",
   "execution_count": 46,
   "id": "dd109b58",
   "metadata": {},
   "outputs": [
    {
     "name": "stdout",
     "output_type": "stream",
     "text": [
      "Imagine**What is DNA?**\n",
      "\n",
      "Think of your body as a big building made of tiny blocks called cells. And inside each cell is a special code that tells your body how to make you, YOU! That code is called DNA.\n",
      "\n",
      "**What does DNA look like?**\n",
      "\n",
      "It looks like a long, twisty ladder. The sides of the ladder are like the walls of a building, and the steps of the ladder are like the letters of the code.\n",
      "\n",
      "**What do the letters mean?**\n",
      "\n",
      "There are four letters in the DNA code: A, C, G, and T. These letters stand for different chemicals that make up your body. The order of these letters is like a secret message that tells your body how to build your hair, your eyes, your nose, and everything else that makes you special.\n",
      "\n",
      "**How does DNA make me different from everyone else?**\n",
      "\n",
      "Everyone has DNA, but the order of the letters in our DNA is different for each person. That's why you don't look exactly like your brother or sister, or anyone else in the world!\n",
      "\n",
      "**Fun Fact:**\n",
      "\n",
      "If you could stretch out all the DNA in your body, it would reach to the moon and back, twice!\n"
     ]
    }
   ],
   "source": [
    "questions = client.collections.get(\"Question\")\n",
    "\n",
    "response = questions.generate.near_text(\n",
    "    query=\"biology\",\n",
    "    limit=2,\n",
    "    single_prompt=\"Explain {answer} as you might to a five-year-old.\"\n",
    ")\n",
    "\n",
    "print(response.objects[0].generated)  # Inspect the generated text"
   ]
  },
  {
   "cell_type": "code",
   "execution_count": 29,
   "id": "70124830",
   "metadata": {},
   "outputs": [],
   "source": [
    "client.close()  # Close client gracefully"
   ]
  }
 ],
 "metadata": {
  "kernelspec": {
   "display_name": "Python 3 (ipykernel)",
   "language": "python",
   "name": "python3"
  },
  "language_info": {
   "codemirror_mode": {
    "name": "ipython",
    "version": 3
   },
   "file_extension": ".py",
   "mimetype": "text/x-python",
   "name": "python",
   "nbconvert_exporter": "python",
   "pygments_lexer": "ipython3",
   "version": "3.11.6"
  }
 },
 "nbformat": 4,
 "nbformat_minor": 5
}
