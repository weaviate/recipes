{
 "cells": [
  {
   "cell_type": "markdown",
   "metadata": {},
   "source": [
    "[![Open In Colab](https://colab.research.google.com/assets/colab-badge.svg)](https://colab.research.google.com/github/weaviate/recipes/blob/main/weaviate-features/filters/filter_contains_all.ipynb)"
   ]
  },
  {
   "cell_type": "markdown",
   "metadata": {},
   "source": [
    "# `ContainsAll` Filter Demonstration\n",
    "\n",
    "\"The `ContainsAll` operator works on text properties and take an array of values as input. It will match objects where the property contains all of the values in the array.\" - [Weaviate Docs](https://weaviate.io/developers/weaviate/search/filters#containsall-filter).\n",
    "\n",
    "- This notebook illustrates how you can use this filter to search through a catalog of `Courses`.\n",
    "\n",
    "- This notebook additionally illustrates how you can combine Hybrid Search with the `ContainsAll` filter for more relevant search results while still matching **all** of the provided terms."
   ]
  },
  {
   "cell_type": "code",
   "execution_count": 2,
   "metadata": {},
   "outputs": [],
   "source": [
    "import os\n",
    "from dotenv import load_dotenv\n",
    "import weaviate\n",
    "\n",
    "load_dotenv()\n",
    "\n",
    "weaviate_client = weaviate.connect_to_weaviate_cloud(\n",
    "    cluster_url=os.environ.get(\"WEAVIATE_URL\"),\n",
    "    auth_credentials=weaviate.auth.AuthApiKey(os.environ.get(\"WEAVIATE_API_KEY\"))\n",
    ")"
   ]
  },
  {
   "cell_type": "code",
   "execution_count": 8,
   "metadata": {},
   "outputs": [],
   "source": [
    "import weaviate.classes as wvc\n",
    "courses_collection = weaviate_client.collections.create(\n",
    "    name=\"Courses\",\n",
    "    vectorizer_config=wvc.config.Configure.Vectorizer.text2vec_weaviate(),\n",
    "    properties=[\n",
    "        wvc.config.Property(\n",
    "            name=\"courseTitle\",\n",
    "            data_type=wvc.config.DataType.TEXT,\n",
    "        ),\n",
    "        wvc.config.Property(\n",
    "            name=\"courseDescription\",\n",
    "            data_type=wvc.config.DataType.TEXT,\n",
    "        ),\n",
    "        wvc.config.Property(\n",
    "            name=\"courseDuration\",\n",
    "            data_type=wvc.config.DataType.NUMBER,\n",
    "        ),\n",
    "        wvc.config.Property(\n",
    "            name=\"currentlyEnrolling\",\n",
    "            data_type=wvc.config.DataType.BOOL,\n",
    "        ),\n",
    "    ],\n",
    ")"
   ]
  },
  {
   "cell_type": "code",
   "execution_count": null,
   "metadata": {},
   "outputs": [],
   "source": [
    "# Toy Data\n",
    "course_data = [\n",
    "    {\n",
    "        \"courseTitle\": \"Introduction to Machine Learning\",\n",
    "        \"courseDescription\": \"Learn the basics of machine learning algorithms and techniques. This course covers supervised and unsupervised learning approaches.\",\n",
    "        \"courseDuration\": 8,\n",
    "        \"currentlyEnrolling\": True\n",
    "    },\n",
    "    {\n",
    "        \"courseTitle\": \"Advanced Deep Learning\",\n",
    "        \"courseDescription\": \"Explore advanced neural network architectures and deep learning techniques. This course builds on fundamental machine learning concepts.\",\n",
    "        \"courseDuration\": 12,\n",
    "        \"currentlyEnrolling\": True\n",
    "    },\n",
    "    {\n",
    "        \"courseTitle\": \"Natural Language Processing\",\n",
    "        \"courseDescription\": \"Understand how to process and analyze text data using machine learning and deep learning approaches. This course covers text classification and generation.\",\n",
    "        \"courseDuration\": 10,\n",
    "        \"currentlyEnrolling\": False\n",
    "    },\n",
    "    {\n",
    "        \"courseTitle\": \"Computer Vision Fundamentals\",\n",
    "        \"courseDescription\": \"Learn image processing and computer vision techniques using deep learning. This course covers convolutional neural networks and object detection.\",\n",
    "        \"courseDuration\": 9,\n",
    "        \"currentlyEnrolling\": True\n",
    "    },\n",
    "    {\n",
    "        \"courseTitle\": \"Reinforcement Learning\",\n",
    "        \"courseDescription\": \"Master reinforcement learning algorithms and techniques. This course covers Q-learning and deep reinforcement learning approaches.\",\n",
    "        \"courseDuration\": 11,\n",
    "        \"currentlyEnrolling\": False\n",
    "    }\n",
    "]\n",
    "\n",
    "# Insert the data into the collection\n",
    "for course in course_data:\n",
    "    courses_collection.data.insert(properties=course)"
   ]
  },
  {
   "cell_type": "markdown",
   "metadata": {},
   "source": [
    "### `ContainsAll` demonstration"
   ]
  },
  {
   "cell_type": "code",
   "execution_count": 10,
   "metadata": {},
   "outputs": [
    {
     "name": "stdout",
     "output_type": "stream",
     "text": [
      "Courses containing all terms: ['deep', 'learning']\n",
      "- Advanced Deep Learning: Explore advanced neural network architectures and deep learning techniques. This course builds on fundamental machine learning concepts.\n",
      "- Natural Language Processing: Understand how to process and analyze text data using machine learning and deep learning approaches. This course covers text classification and generation.\n",
      "- Computer Vision Fundamentals: Learn image processing and computer vision techniques using deep learning. This course covers convolutional neural networks and object detection.\n",
      "- Reinforcement Learning: Master reinforcement learning algorithms and techniques. This course covers Q-learning and deep reinforcement learning approaches.\n",
      "\n",
      "Courses containing all terms: ['machine', 'learning', 'techniques']\n",
      "- Introduction to Machine Learning: Learn the basics of machine learning algorithms and techniques. This course covers supervised and unsupervised learning approaches.\n",
      "- Advanced Deep Learning: Explore advanced neural network architectures and deep learning techniques. This course builds on fundamental machine learning concepts.\n"
     ]
    }
   ],
   "source": [
    "# Example of using ContainsAll filter\n",
    "from weaviate.classes.query import Filter\n",
    "\n",
    "# Find courses where the description contains all of these terms\n",
    "search_terms = [\"deep\", \"learning\"]\n",
    "\n",
    "filtered_courses = courses_collection.query.fetch_objects(\n",
    "    filters=Filter.by_property(\"courseDescription\").contains_all(search_terms),\n",
    "    limit=10\n",
    ")\n",
    "\n",
    "print(\"Courses containing all terms:\", search_terms)\n",
    "for course in filtered_courses.objects:\n",
    "    print(f\"- {course.properties['courseTitle']}: {course.properties['courseDescription']}\")\n",
    "\n",
    "# Another example with different terms\n",
    "search_terms2 = [\"machine\", \"learning\", \"techniques\"]\n",
    "\n",
    "filtered_courses2 = courses_collection.query.fetch_objects(\n",
    "    filters=Filter.by_property(\"courseDescription\").contains_all(search_terms2),\n",
    "    limit=10\n",
    ")\n",
    "\n",
    "print(\"\\nCourses containing all terms:\", search_terms2)\n",
    "for course in filtered_courses2.objects:\n",
    "    print(f\"- {course.properties['courseTitle']}: {course.properties['courseDescription']}\")"
   ]
  },
  {
   "cell_type": "markdown",
   "metadata": {},
   "source": [
    "### `ContainsAll` with `str.split()` helper\n",
    "\n",
    "The `ContainsAll` filter expects a text array as input. \n",
    "\n",
    "One way to convert a search query to a text array is with the `str.split()` method built into Python by default."
   ]
  },
  {
   "cell_type": "code",
   "execution_count": 6,
   "metadata": {},
   "outputs": [
    {
     "name": "stdout",
     "output_type": "stream",
     "text": [
      "Courses containing all terms: ['deep', 'learning']\n",
      "- Advanced Deep Learning: Explore advanced neural network architectures and deep learning techniques. This course builds on fundamental machine learning concepts.\n",
      "- Natural Language Processing: Understand how to process and analyze text data using machine learning and deep learning approaches. This course covers text classification and generation.\n",
      "- Computer Vision Fundamentals: Learn image processing and computer vision techniques using deep learning. This course covers convolutional neural networks and object detection.\n",
      "- Reinforcement Learning: Master reinforcement learning algorithms and techniques. This course covers Q-learning and deep reinforcement learning approaches.\n"
     ]
    }
   ],
   "source": [
    "from weaviate.classes.query import Filter\n",
    "\n",
    "# Find courses where the description contains all of these terms\n",
    "search_query = \"deep learning\"\n",
    "search_terms = search_query.split(\" \")\n",
    "\n",
    "filtered_courses = courses_collection.query.fetch_objects(\n",
    "    filters=Filter.by_property(\"courseDescription\").contains_all(search_terms),\n",
    "    limit=10\n",
    ")\n",
    "\n",
    "print(\"Courses containing all terms:\", search_terms)\n",
    "for course in filtered_courses.objects:\n",
    "    print(f\"- {course.properties['courseTitle']}: {course.properties['courseDescription']}\")\n"
   ]
  },
  {
   "cell_type": "markdown",
   "metadata": {},
   "source": [
    "### Combine `ContainsAll` with Hybrid Search\n",
    "\n",
    "Note how the ordering of search results are now ranked according to relevance to the query, **as well as** containing **all** of the provided terms."
   ]
  },
  {
   "cell_type": "code",
   "execution_count": 13,
   "metadata": {},
   "outputs": [
    {
     "name": "stdout",
     "output_type": "stream",
     "text": [
      "\n",
      "Hybrid search for 'Reinforcement Learning' containing all terms: ['deep', 'learning']\n",
      "- Reinforcement Learning: Master reinforcement learning algorithms and techniques. This course covers Q-learning and deep reinforcement learning approaches.\n",
      "- Advanced Deep Learning: Explore advanced neural network architectures and deep learning techniques. This course builds on fundamental machine learning concepts.\n",
      "- Computer Vision Fundamentals: Learn image processing and computer vision techniques using deep learning. This course covers convolutional neural networks and object detection.\n",
      "- Natural Language Processing: Understand how to process and analyze text data using machine learning and deep learning approaches. This course covers text classification and generation.\n",
      "\n",
      "Hybrid search for 'Neural Network Architectures' containing all terms: ['machine', 'learning', 'techniques']\n",
      "- Advanced Deep Learning: Explore advanced neural network architectures and deep learning techniques. This course builds on fundamental machine learning concepts.\n",
      "- Introduction to Machine Learning: Learn the basics of machine learning algorithms and techniques. This course covers supervised and unsupervised learning approaches.\n"
     ]
    }
   ],
   "source": [
    "# Example of using Hybrid Search with ContainsAll filter\n",
    "from weaviate.classes.query import Filter\n",
    "\n",
    "hybrid_query = \"Reinforcement Learning\"\n",
    "search_terms = [\"deep\", \"learning\"]\n",
    "\n",
    "hybrid_filtered_courses = courses_collection.query.hybrid(\n",
    "    query=hybrid_query,\n",
    "    filters=Filter.by_property(\"courseDescription\").contains_all(search_terms),\n",
    "    limit=10\n",
    ")\n",
    "\n",
    "print(f\"\\nHybrid search for '{hybrid_query}' containing all terms:\", search_terms)\n",
    "for course in hybrid_filtered_courses.objects:\n",
    "    print(f\"- {course.properties['courseTitle']}: {course.properties['courseDescription']}\")\n",
    "\n",
    "# Another example with different hybrid query and terms\n",
    "hybrid_query2 = \"Neural Network Architectures\"\n",
    "search_terms2 = [\"machine\", \"learning\", \"techniques\"]\n",
    "\n",
    "hybrid_filtered_courses2 = courses_collection.query.hybrid(\n",
    "    query=hybrid_query2,\n",
    "    filters=Filter.by_property(\"courseDescription\").contains_all(search_terms2),\n",
    "    limit=10\n",
    ")\n",
    "\n",
    "print(f\"\\nHybrid search for '{hybrid_query2}' containing all terms:\", search_terms2)\n",
    "for course in hybrid_filtered_courses2.objects:\n",
    "    print(f\"- {course.properties['courseTitle']}: {course.properties['courseDescription']}\")\n",
    "\n"
   ]
  }
 ],
 "metadata": {
  "kernelspec": {
   "display_name": "Python 3",
   "language": "python",
   "name": "python3"
  },
  "language_info": {
   "codemirror_mode": {
    "name": "ipython",
    "version": 3
   },
   "file_extension": ".py",
   "mimetype": "text/x-python",
   "name": "python",
   "nbconvert_exporter": "python",
   "pygments_lexer": "ipython3",
   "version": "3.10.10"
  }
 },
 "nbformat": 4,
 "nbformat_minor": 2
}
