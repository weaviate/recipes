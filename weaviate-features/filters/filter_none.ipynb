{
 "cells": [
  {
   "cell_type": "markdown",
   "metadata": {},
   "source": [
    "[![Open In Colab](https://colab.research.google.com/assets/colab-badge.svg)](https://colab.research.google.com/github/weaviate/recipes/blob/main/weaviate-features/filters/filter_none.ipynb)"
   ]
  },
  {
   "cell_type": "markdown",
   "metadata": {},
   "source": [
    "# Filtering by null values"
   ]
  },
  {
   "cell_type": "code",
   "execution_count": 2,
   "metadata": {},
   "outputs": [],
   "source": [
    "import weaviate\n",
    "from weaviate import classes as wvc\n",
    "client = weaviate.connect_to_local()\n",
    "client.collections.delete(\"Test\")"
   ]
  },
  {
   "cell_type": "markdown",
   "metadata": {},
   "source": [
    "First, we need to create a class and make sure that the class [has index_null_state as True](https://weaviate.io/developers/weaviate/config-refs/schema#invertedindexconfig--indexnullstate)\n",
    "by default it comes turned off, as indexing the null state of a property will require Weaviate to create an index also for that state."
   ]
  },
  {
   "cell_type": "code",
   "execution_count": 3,
   "metadata": {},
   "outputs": [],
   "source": [
    "from weaviate import classes as wvc\n",
    "col = client.collections.create(\n",
    "    \"Test\",\n",
    "    inverted_index_config=wvc.config.Configure.inverted_index(\n",
    "        index_null_state=True\n",
    "    )\n",
    ")"
   ]
  },
  {
   "cell_type": "markdown",
   "metadata": {},
   "source": [
    "Now, let's insert two data objects, one with `data` and the other one without"
   ]
  },
  {
   "cell_type": "code",
   "execution_count": 4,
   "metadata": {},
   "outputs": [
    {
     "data": {
      "text/plain": [
       "UUID('6d2bf318-ac10-4335-b4b6-c61380cf0a2a')"
      ]
     },
     "execution_count": 4,
     "metadata": {},
     "output_type": "execute_result"
    }
   ],
   "source": [
    "col.data.insert({\"text\": \"this have\", \"data\": \"have\" })\n",
    "col.data.insert({\"text\": \"this doesn't\"})"
   ]
  },
  {
   "cell_type": "markdown",
   "metadata": {},
   "source": [
    "Let's filter for objects that **does have data**"
   ]
  },
  {
   "cell_type": "code",
   "execution_count": 6,
   "metadata": {},
   "outputs": [
    {
     "name": "stdout",
     "output_type": "stream",
     "text": [
      "{'text': 'this have', 'data': 'have'}\n"
     ]
    }
   ],
   "source": [
    "results = col.query.fetch_objects(\n",
    "    filters=wvc.query.Filter.by_property(\"data\").is_none(False)\n",
    ")\n",
    "print(results.objects[0].properties)"
   ]
  },
  {
   "cell_type": "markdown",
   "metadata": {},
   "source": [
    "Now objects that **doesnt have data**"
   ]
  },
  {
   "cell_type": "code",
   "execution_count": 8,
   "metadata": {},
   "outputs": [
    {
     "name": "stdout",
     "output_type": "stream",
     "text": [
      "{'text': \"this doesn't\", 'data': None}\n"
     ]
    }
   ],
   "source": [
    "results = col.query.fetch_objects(\n",
    "    filters=wvc.query.Filter.by_property(\"data\").is_none(True)\n",
    ")\n",
    "print(results.objects[0].properties)"
   ]
  }
 ],
 "metadata": {
  "kernelspec": {
   "display_name": "venv",
   "language": "python",
   "name": "python3"
  },
  "language_info": {
   "codemirror_mode": {
    "name": "ipython",
    "version": 3
   },
   "file_extension": ".py",
   "mimetype": "text/x-python",
   "name": "python",
   "nbconvert_exporter": "python",
   "pygments_lexer": "ipython3",
   "version": "3.11.8"
  }
 },
 "nbformat": 4,
 "nbformat_minor": 2
}
