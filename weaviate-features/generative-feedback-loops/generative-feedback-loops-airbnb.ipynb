{
 "cells": [
  {
   "cell_type": "markdown",
   "metadata": {},
   "source": [
    "# Generative Feedback Loops using Weaviate\n",
    "\n",
    "In this notebook, we will demonstrate the power of Generative Feedback Loops with the example of creating personalized ads for AirBNB listings."
   ]
  },
  {
   "cell_type": "code",
   "execution_count": 36,
   "metadata": {},
   "outputs": [
    {
     "name": "stdout",
     "output_type": "stream",
     "text": [
      "\n",
      "\u001b[1m[\u001b[0m\u001b[34;49mnotice\u001b[0m\u001b[1;39;49m]\u001b[0m\u001b[39;49m A new release of pip available: \u001b[0m\u001b[31;49m22.2.1\u001b[0m\u001b[39;49m -> \u001b[0m\u001b[32;49m24.0\u001b[0m\n",
      "\u001b[1m[\u001b[0m\u001b[34;49mnotice\u001b[0m\u001b[1;39;49m]\u001b[0m\u001b[39;49m To update, run: \u001b[0m\u001b[32;49mpip install --upgrade pip\u001b[0m\n",
      "Note: you may need to restart the kernel to use updated packages.\n"
     ]
    }
   ],
   "source": [
    "%pip install -Uq -r requirements.txt"
   ]
  },
  {
   "cell_type": "markdown",
   "metadata": {},
   "source": [
    "Get the dataset of AirBNB listings:"
   ]
  },
  {
   "cell_type": "code",
   "execution_count": 2,
   "metadata": {},
   "outputs": [],
   "source": [
    "!wget -q https://github.com/weaviate/Generative-Feedback-Loops/raw/main/AB_NYC_2019.csv"
   ]
  },
  {
   "cell_type": "code",
   "execution_count": 3,
   "metadata": {},
   "outputs": [],
   "source": [
    "import pandas as pd\n",
    "import numpy as np\n",
    "\n",
    "# Read CSV file\n",
    "csv_file = \"AB_NYC_2019.csv\"\n",
    "df = pd.read_csv(csv_file)\n",
    "\n",
    "df.replace([np.inf, -np.inf, np.nan], None, inplace=True)\n",
    "\n",
    "# Convert DataFrame to a list of dictionaries\n",
    "data_list = df.to_dict(orient=\"records\")"
   ]
  },
  {
   "cell_type": "markdown",
   "metadata": {},
   "source": [
    "Now, set the environment variables for your Weaviate DB instance and your OpenAI API key."
   ]
  },
  {
   "cell_type": "code",
   "execution_count": 4,
   "metadata": {},
   "outputs": [
    {
     "data": {
      "text/plain": [
       "True"
      ]
     },
     "execution_count": 4,
     "metadata": {},
     "output_type": "execute_result"
    }
   ],
   "source": [
    "from dotenv import load_dotenv, find_dotenv\n",
    "\n",
    "load_dotenv(find_dotenv())"
   ]
  },
  {
   "cell_type": "code",
   "execution_count": 5,
   "metadata": {},
   "outputs": [],
   "source": [
    "import weaviate\n",
    "from weaviate.classes.config import Property, DataType\n",
    "import os\n",
    "\n",
    "cluster_url = os.getenv(\"WCS_URL\")\n",
    "if not cluster_url:\n",
    "    raise Exception(\"Please set WCS_URL environment variable\")\n",
    "wcs_api_key = os.getenv(\"WCS_API_KEY\")\n",
    "if not wcs_api_key:\n",
    "    raise Exception(\"Please set WCS_API_KEY environment variable\")\n",
    "openai_key = os.getenv(\"OPENAI_API_KEY\")\n",
    "if not openai_key:\n",
    "    raise Exception(\"Please set OPENAI_API_KEY environment variable\")\n",
    "\n",
    "\n",
    "client = weaviate.connect_to_wcs(\n",
    "    cluster_url=cluster_url,\n",
    "    auth_credentials=weaviate.auth.AuthApiKey(wcs_api_key),\n",
    "    headers={\n",
    "        \"X-OpenAI-Api-Key\": openai_key  # Replace with your API key\n",
    "    },\n",
    ")"
   ]
  },
  {
   "cell_type": "markdown",
   "metadata": {},
   "source": [
    "Uncomment this line in case you want to delete an existing collection when starting over:"
   ]
  },
  {
   "cell_type": "code",
   "execution_count": 7,
   "metadata": {},
   "outputs": [],
   "source": [
    "# client.collections.delete(\"AirBNB_Listings\")"
   ]
  },
  {
   "cell_type": "markdown",
   "metadata": {},
   "source": [
    "Now, we create a new collection for the AirBNB listings and define our schema:"
   ]
  },
  {
   "cell_type": "code",
   "execution_count": 8,
   "metadata": {},
   "outputs": [],
   "source": [
    "import weaviate.classes as wvc\n",
    "\n",
    "listings_collection = client.collections.create(\n",
    "    name=\"AirBNB_Listings\",\n",
    "    vectorizer_config=wvc.config.Configure.Vectorizer.text2vec_openai(),\n",
    "    generative_config=wvc.config.Configure.Generative.openai(),\n",
    "    properties=[\n",
    "        wvc.config.Property(name=\"name\", data_type=wvc.config.DataType.TEXT),\n",
    "        wvc.config.Property(name=\"description\", data_type=wvc.config.DataType.TEXT),\n",
    "        wvc.config.Property(name=\"host_name\", data_type=wvc.config.DataType.TEXT, skip_vectorization=True),\n",
    "        wvc.config.Property(name=\"neighbourhood\", data_type=wvc.config.DataType.TEXT, skip_vectorization=True),\n",
    "        wvc.config.Property(\n",
    "            name=\"neighbourhood_group\", data_type=wvc.config.DataType.TEXT, skip_vectorization=True\n",
    "        ),\n",
    "        wvc.config.Property(name=\"price\", data_type=wvc.config.DataType.TEXT, skip_vectorization=True),\n",
    "    ],\n",
    ")"
   ]
  },
  {
   "cell_type": "markdown",
   "metadata": {},
   "source": [
    "Here, we upload the AirBNB listings data to Weaviate. Vectorization is done by Weaviate automatically:"
   ]
  },
  {
   "cell_type": "code",
   "execution_count": 9,
   "metadata": {},
   "outputs": [],
   "source": [
    "limit = 10\n",
    "with listings_collection.batch.dynamic() as batch:\n",
    "    for data_obj in data_list[:limit]:\n",
    "        data_properties = {}\n",
    "        data_properties[\"name\"] = data_obj[\"name\"]\n",
    "        data_properties[\"host_name\"] = data_obj[\"host_name\"]\n",
    "        data_properties[\"neighbourhood\"] = data_obj[\"neighbourhood\"]\n",
    "        data_properties[\"neighbourhood_group\"] = data_obj[\"neighbourhood_group\"]\n",
    "        data_properties[\"price\"] = str(data_obj[\"price\"])\n",
    "        \n",
    "        batch.add_object(data_properties)"
   ]
  },
  {
   "cell_type": "markdown",
   "metadata": {},
   "source": [
    "Using our prompt, Weaviate can generate a description for each listing in the collection:"
   ]
  },
  {
   "cell_type": "code",
   "execution_count": 10,
   "metadata": {},
   "outputs": [],
   "source": [
    "generatePrompt = \"Please write a description for the following AirBnB Listing in English. NAME: {name} HOST_NAME {host_name} NEIGHBOURHOOD {neighbourhood} NEIGHBOURHOOD_GROUP {neighbourhood_group} PRICE {price}. Please do not make up any information about the property in your description.\"\n",
    "\n",
    "descriptions = listings_collection.generate.fetch_objects(single_prompt=generatePrompt)"
   ]
  },
  {
   "cell_type": "markdown",
   "metadata": {},
   "source": [
    "Now we can add our generated descriptions as a property to each listing - our first generative feedback loop!"
   ]
  },
  {
   "cell_type": "code",
   "execution_count": 11,
   "metadata": {},
   "outputs": [
    {
     "name": "stdout",
     "output_type": "stream",
     "text": [
      "Welcome to The Village of Harlem in New York City! This cozy apartment is located in the vibrant neighborhood of Harlem in Manhattan. The space is hosted by Elisabeth and is perfect for those looking to experience the rich culture and history of this iconic area. With a price of $150 per night, this listing offers a comfortable and convenient stay in the heart of Harlem.\n",
      "0cc0e7fa-f9e3-4534-b4f9-0b14ee6590f3\n",
      "Welcome to our clean and quiet apartment home located in the charming neighborhood of Kensington in Brooklyn. Our cozy space is perfect for those looking for a peaceful retreat after a day of exploring the city. Just steps away from the park, you can enjoy a leisurely stroll or a picnic in the greenery. The apartment is hosted by John and is priced at $149 per night. We look forward to hosting you during your stay in Brooklyn!\n",
      "1ca02e06-24bb-40e4-a765-e187583e59d4\n",
      "Welcome to BlissArtsSpace! Located in the vibrant neighborhood of Bedford-Stuyvesant in Brooklyn, this cozy and artistic space is the perfect retreat for your stay in New York City. With a host named Garon, you can expect a warm and welcoming atmosphere during your visit. Priced at $60 per night, this unique Airbnb listing is sure to provide a memorable experience during your time in the Big Apple.\n",
      "29648348-3d97-4930-a435-5b5233c34ff0\n",
      "Welcome to this cozy entire floor of a brownstone in the charming neighborhood of Clinton Hill in Brooklyn. This space is hosted by LisaRoxanne and is the perfect retreat for your stay in the city. Priced at $89, this listing offers a comfortable and private accommodation for your visit. Enjoy the convenience and charm of staying in a brownstone in one of Brooklyn's most sought-after neighborhoods.\n",
      "2f135d0c-503a-4f6c-a0cd-587e0690f18d\n",
      "Welcome to this spacious studio/loft apartment located in East Harlem, Manhattan. Just a short distance from Central Park, this cozy and stylish space is perfect for a solo traveler or a couple looking to explore the city. With a host named Laura, you can expect a warm and welcoming stay in this vibrant neighborhood. Book now for a comfortable and convenient stay in the heart of Manhattan.\n",
      "3f2a4b15-80e1-44d7-924f-cb728de90e61\n",
      "Welcome to our large furnished room located near Broadway in the vibrant neighborhood of Hell's Kitchen in Manhattan. The room is hosted by Shunichi and is priced at $79 per night. Enjoy the convenience of being close to Broadway shows, restaurants, and shops while staying in this cozy and comfortable accommodation. Book your stay now and experience the excitement of New York City right at your doorstep.\n",
      "41d93576-0b9d-40d2-85d3-2845073ab9f1\n",
      "Welcome to our cute and cozy 1 bedroom apartment in the Lower East Side, hosted by Ben. Located in the vibrant Chinatown neighborhood of Manhattan, this charming space is perfect for a solo traveler or couple looking to explore the city. With a price of $150 per night, you can enjoy all the comforts of home while being in the heart of one of New York City's most exciting neighborhoods. Book your stay with us today!\n",
      "66178970-ed46-4c62-9ff7-3c9ead691cd2\n",
      "Welcome to our cozy and clean guest room in our family apartment located in the Upper West Side neighborhood of Manhattan. Our host, MaryEllen, is excited to welcome you to our home. The room is priced at $79 per night. We look forward to hosting you during your stay in New York City.\n",
      "6bc528c9-c52d-4b8b-ae67-cb57b1f21d89\n",
      "Welcome to the Skylit Midtown Castle, located in the heart of Midtown Manhattan. This cozy and charming apartment is hosted by Jennifer and is the perfect place to stay while exploring all that the city has to offer. With a price of $225 per night, this centrally located property is a great choice for your next visit to New York City.\n",
      "ada62f4e-ca7b-4f20-ade5-b4590e1d4490\n",
      "Welcome to our large and cozy 1 bedroom apartment in Midtown East, hosted by Chris. Located in the Murray Hill neighborhood of Manhattan, this spacious apartment is the perfect home base for your New York City adventures. With a price of $200 per night, you can enjoy all the comforts of home while exploring the bustling city. Book your stay with us today!\n",
      "ed42f277-9f06-4e56-827b-a15390bc7532\n"
     ]
    }
   ],
   "source": [
    "for description in descriptions.objects:\n",
    "    print(description.generated)\n",
    "    print(description.uuid)\n",
    "    listings_collection.data.update(uuid=description.uuid, properties={\n",
    "        'description': description.generated\n",
    "    })"
   ]
  },
  {
   "cell_type": "code",
   "execution_count": 13,
   "metadata": {},
   "outputs": [],
   "source": [
    "# client.collections.delete(\"Ads\")"
   ]
  },
  {
   "cell_type": "markdown",
   "metadata": {},
   "source": [
    "Now, we also want to generate ads. For this, we create a collection for ads and define the schema. Then, we add a reference property to our collection of listings, so each listing can have ads linked to it:"
   ]
  },
  {
   "cell_type": "code",
   "execution_count": 14,
   "metadata": {},
   "outputs": [],
   "source": [
    "ads_collection = client.collections.create(\n",
    "    name=\"Ads\",\n",
    "    properties=[\n",
    "        wvc.config.Property(\n",
    "            name=\"content\",\n",
    "            data_type=wvc.config.DataType.TEXT,\n",
    "            description=\"The generated ad text\",\n",
    "        ),\n",
    "        wvc.config.Property(\n",
    "            name=\"target\",\n",
    "            data_type=wvc.config.DataType.TEXT,\n",
    "            description=\"High-level audience target for this ad.\",\n",
    "        ),\n",
    "    ],\n",
    ")\n",
    "\n",
    "listings_collection.config.add_reference(\n",
    "    wvc.config.ReferenceProperty(name= \"hasAd\", target_collection=\"Ads\")\n",
    ")"
   ]
  },
  {
   "cell_type": "markdown",
   "metadata": {},
   "source": [
    "Similarly to the previous example, we generate ads for each listing. We then create a new Ad object in the ads collection and link the corresponding listing to it:"
   ]
  },
  {
   "cell_type": "code",
   "execution_count": 16,
   "metadata": {},
   "outputs": [
    {
     "name": "stdout",
     "output_type": "stream",
     "text": [
      "Experience the vibrant energy of Harlem in this cozy apartment hosted by Elisabeth! Immerse yourself in the rich culture and history of this iconic neighborhood, with easy access to all that Manhattan has to offer. For just $150 per night, you can enjoy a comfortable and convenient stay in the heart of Harlem. Book now and make unforgettable memories in The Village of Harlem!\n",
      "Escape the hustle and bustle of the city and retreat to our cozy apartment in the charming neighborhood of Kensington, Brooklyn. Just steps away from the park, our clean and quiet space is the perfect oasis for your city getaway. Hosted by John, our apartment is priced at just $149 per night. Whether you're looking for a leisurely stroll in the greenery or a peaceful picnic, our apartment is the perfect home base for your Brooklyn adventure. Book now and experience the tranquility of Kensington during your stay in Brooklyn!\n",
      "Escape to the artistic oasis of BlissArtsSpace in the heart of Brooklyn's Bedford-Stuyvesant neighborhood. Hosted by the friendly and welcoming Garon, this cozy retreat offers a one-of-a-kind experience for just $60 per night. Immerse yourself in the vibrant culture of New York City while staying in this unique Airbnb listing. Book your stay now and make unforgettable memories in the Big Apple at BlissArtsSpace!\n",
      "Escape to the heart of Brooklyn and experience the charm of Clinton Hill with this cozy entire floor brownstone retreat hosted by LisaRoxanne. Priced at just $89, this private accommodation offers the perfect blend of comfort and convenience for your stay in the city. \n",
      "\n",
      "Step inside and feel right at home in this beautifully decorated space, complete with all the amenities you need for a relaxing getaway. Whether you're exploring the vibrant streets of Brooklyn or simply unwinding after a day of sightseeing, this brownstone oasis is the perfect place to call your own.\n",
      "\n",
      "Located in one of Brooklyn's most sought-after neighborhoods, you'll have easy access to local shops, restaurants, and attractions, making it the ideal home base for your city adventures. Don't miss out on this incredible opportunity to experience Brooklyn like a local - book your stay today at LisaRoxanne's charming brownstone retreat!\n",
      "Looking for the perfect cozy getaway in the heart of Manhattan? Look no further than this spacious studio/loft apartment in East Harlem! Just a stone's throw away from Central Park, this stylish and inviting space is ideal for solo travelers or couples looking to immerse themselves in the vibrant energy of the city.\n",
      "\n",
      "Hosted by the lovely Laura, you can expect a warm and welcoming stay in this bustling neighborhood. With all the amenities you need for a comfortable and convenient stay, this Airbnb listing is the perfect home base for your New York City adventures.\n",
      "\n",
      "Don't miss out on the opportunity to experience the best of Manhattan from this charming studio apartment. Book now and make your trip to the Big Apple truly unforgettable!\n",
      "Experience the hustle and bustle of New York City in style with our spacious and cozy room in Hell's Kitchen! Hosted by the friendly and accommodating Shunichi, this furnished room is the perfect home base for your Big Apple adventure. For just $79 per night, you can enjoy the convenience of being near Broadway shows, top-rated restaurants, and trendy shops. Don't miss out on this prime location in one of Manhattan's most vibrant neighborhoods. Book your stay now and immerse yourself in the excitement of NYC right at your doorstep!\n",
      "Looking for a cozy and charming place to stay in the heart of Manhattan? Look no further than Ben's 1 bedroom apartment in the Lower East Side! Nestled in the vibrant Chinatown neighborhood, this cute and cozy space is perfect for solo travelers or couples looking to explore all that the city has to offer.\n",
      "\n",
      "For just $150 per night, you can enjoy all the comforts of home while immersing yourself in the bustling energy of one of New York City's most exciting neighborhoods. From delicious food to unique shops and endless entertainment options, the Lower East Side has it all.\n",
      "\n",
      "Don't miss out on this amazing opportunity to experience the city like a local. Book your stay with Ben today and make your New York City dreams a reality!\n",
      "Looking for a cozy and clean place to stay in the heart of Manhattan? Look no further than our guest room in the Upper West Side! Our friendly host, MaryEllen, is ready to welcome you to our family apartment for just $79 per night. With easy access to all the sights and sounds of New York City, you'll feel right at home during your stay. Book now and experience the best of the Big Apple with us!\n",
      "Are you ready to experience the magic of New York City from the comfort of your own private castle? Look no further than the Skylit Midtown Castle, hosted by the lovely Jennifer. This cozy and charming apartment is the perfect home base for your adventures in the heart of Midtown Manhattan.\n",
      "\n",
      "Located in a prime location, you'll be just steps away from all the iconic attractions, world-class dining, and vibrant nightlife that the city has to offer. And with a price of just $225 per night, this centrally located property is not only affordable but also offers unbeatable value.\n",
      "\n",
      "Don't miss out on the opportunity to stay in this unique and inviting space during your next visit to the Big Apple. Book your stay at the Skylit Midtown Castle today and make your New York City dreams a reality!\n",
      "Experience the vibrant energy of New York City from the comfort of our spacious 1 bedroom apartment in Midtown East! Hosted by the friendly and accommodating Chris, this cozy retreat in the Murray Hill neighborhood is the perfect home base for your NYC adventures.\n",
      "\n",
      "For just $200 per night, you can enjoy all the comforts of home while immersing yourself in the bustling city life. Whether you're here for business or pleasure, our apartment offers a convenient and affordable option for your stay in Manhattan.\n",
      "\n",
      "Don't miss out on this fantastic opportunity to explore the Big Apple from a prime location. Book your stay with us today and make unforgettable memories in the heart of New York City!\n"
     ]
    }
   ],
   "source": [
    "generatePrompt = \"Please write an engaging advertisement for the following AirBnb Listing: Description: {description} Please write the advertisement for this listing.\"\n",
    "\n",
    "ads = listings_collection.generate.fetch_objects(single_prompt=generatePrompt)\n",
    "\n",
    "for ad in ads.objects:\n",
    "    print(ad.generated)\n",
    "    uuid = ads_collection.data.insert(\n",
    "        properties={\n",
    "            \"content\": ad.generated,\n",
    "        }\n",
    "    )\n",
    "    listings_collection.data.reference_add(\n",
    "        from_uuid=ad.uuid, from_property=\"hasAd\", to=uuid\n",
    "    )"
   ]
  },
  {
   "cell_type": "markdown",
   "metadata": {},
   "source": [
    "Next, we additionally want to generate ads that address a certain audience:"
   ]
  },
  {
   "cell_type": "code",
   "execution_count": 17,
   "metadata": {},
   "outputs": [],
   "source": [
    "targets = [\"young couples\", \"elderly couples\", \"single travelers\"]\n",
    "\n",
    "for target in targets:\n",
    "    generatePrompt = \"Please write an engaging advertisement for the following AirBnb Listing: Description: {description} Please write the advertisement for this listing to target \"\n",
    "    generatePrompt += target\n",
    "\n",
    "    ads = listings_collection.generate.fetch_objects(single_prompt=generatePrompt)\n",
    "\n",
    "    ads.objects[0].generated\n",
    "\n",
    "    for ad in ads.objects:\n",
    "        uuid = ads_collection.data.insert(\n",
    "            properties={\n",
    "                \"content\": ad.generated,\n",
    "                \"target\": target,\n",
    "            }\n",
    "        )\n",
    "    listings_collection.data.reference_add(from_uuid=ad.uuid, from_property=\"hasAd\", to=uuid)"
   ]
  },
  {
   "cell_type": "code",
   "execution_count": 27,
   "metadata": {},
   "outputs": [
    {
     "name": "stdout",
     "output_type": "stream",
     "text": [
      "Escape to the bustling streets of Chinatown in Manhattan with a stay at our charming 1 bedroom apartment hosted by Ben. Perfect for elderly couples looking to explore the city, our cozy space offers all the comforts of home for just $150 per night. Immerse yourself in the vibrant culture of Chinatown while being just steps away from all the excitement of the Lower East Side. Book your stay with us today and experience the best of New York City!\n",
      "elderly couples\n",
      "Looking for a romantic getaway in the heart of Brooklyn? Look no further than our cozy apartment in the charming neighborhood of Kensington. Perfect for young couples looking for a peaceful retreat after a day of exploring the city, our clean and quiet space is just steps away from the park, perfect for a leisurely stroll or a romantic picnic.\n",
      "\n",
      "Hosted by the friendly and welcoming John, our apartment is priced at just $149 per night, making it the perfect affordable option for your stay in Brooklyn. Don't miss out on this opportunity to experience the beauty and tranquility of Kensington while still being just a short distance from all the excitement of the city. Book your stay with us today and make unforgettable memories with your loved one. We can't wait to host you!\n",
      "young couples\n",
      "Escape the hustle and bustle of the city and retreat to our peaceful apartment in the charming neighborhood of Kensington, Brooklyn. Perfect for elderly couples looking for a quiet and cozy getaway, our clean and quiet space is just steps away from the park, perfect for a leisurely stroll or a relaxing picnic.\n",
      "\n",
      "Hosted by John, our apartment is priced at just $149 per night, making it the perfect affordable option for your stay in Brooklyn. Enjoy the comfort and convenience of a home away from home, with all the amenities you need for a relaxing stay.\n",
      "\n",
      "Don't miss out on this hidden gem in Brooklyn. Book your stay with us today and experience the tranquility of Kensington. We can't wait to welcome you!\n",
      "elderly couples\n",
      "Looking for a cozy and private retreat in the heart of Brooklyn? Look no further than this charming entire floor of a brownstone in Clinton Hill hosted by LisaRoxanne. Priced at just $89, this listing is the perfect accommodation for single travelers looking for a comfortable and convenient stay in the city.\n",
      "\n",
      "Located in one of Brooklyn's most sought-after neighborhoods, this space offers the perfect blend of charm and convenience. With easy access to public transportation, trendy restaurants, and boutique shops, you'll have everything you need right at your fingertips.\n",
      "\n",
      "Don't miss out on the opportunity to experience Brooklyn like a local. Book your stay at this cozy brownstone retreat today and make your trip to the city one to remember.\n",
      "single travelers\n",
      "Are you ready to experience the hustle and bustle of New York City with your loved one? Look no further than our cozy and comfortable room hosted by Shunichi in the vibrant neighborhood of Hell's Kitchen. \n",
      "\n",
      "For just $79 per night, you can enjoy the convenience of being close to Broadway shows, restaurants, and shops while staying in a spacious and furnished room. \n",
      "\n",
      "Whether you're looking to catch a show on Broadway or simply explore the city, our accommodation is the perfect home base for your adventures. \n",
      "\n",
      "Don't miss out on this opportunity to immerse yourself in the excitement of New York City. Book your stay now and create unforgettable memories with your partner in the heart of Manhattan.\n",
      "elderly couples\n",
      "Are you looking for a cozy and clean place to stay during your visit to New York City? Look no further than our family apartment in the Upper West Side neighborhood of Manhattan. Our welcoming host, MaryEllen, is excited to open our doors to elderly couples looking for a comfortable and affordable accommodation.\n",
      "\n",
      "Our guest room is the perfect retreat after a day of exploring the city. Priced at just $79 per night, you can enjoy a peaceful night's sleep in a quiet and safe neighborhood. With easy access to public transportation and nearby attractions, you'll have everything you need for a memorable stay in the Big Apple.\n",
      "\n",
      "Don't miss out on this opportunity to experience the charm of the Upper West Side with the comfort of a home away from home. Book your stay with us today and let MaryEllen take care of all your needs during your visit to New York City. We can't wait to welcome you to our cozy guest room!\n",
      "elderly couples\n",
      "Are you and your partner looking for the perfect cozy getaway in the heart of Manhattan? Look no further than this spacious studio/loft apartment in East Harlem! Just a stone's throw away from Central Park, this stylish and inviting space is the ideal spot for young couples looking to explore the city.\n",
      "\n",
      "With a friendly and accommodating host named Laura, you can expect a warm welcome and a comfortable stay in this vibrant neighborhood. Whether you're looking to stroll through the park, dine at trendy restaurants, or shop at chic boutiques, this location has it all.\n",
      "\n",
      "Don't miss out on the opportunity to book this convenient and charming Airbnb listing for your next romantic getaway. Make memories in the city that never sleeps and experience all that Manhattan has to offer. Book now and make your dream trip a reality!\n",
      "young couples\n",
      "Are you a solo traveler looking for a cozy and affordable place to stay in the heart of Manhattan? Look no further than our guest room in the Upper West Side! \n",
      "\n",
      "Our family apartment is clean, welcoming, and conveniently located near all the best attractions NYC has to offer. For just $79 a night, you can enjoy a comfortable stay in a safe and friendly environment. \n",
      "\n",
      "Your host, MaryEllen, is eager to make your stay unforgettable. Whether you're here for business or pleasure, our guest room is the perfect home base for your adventures in the city that never sleeps. \n",
      "\n",
      "Don't miss out on this fantastic opportunity to experience New York City like a local. Book your stay with us today!\n",
      "single travelers\n",
      "Looking for a cozy and artistic retreat in the heart of Brooklyn? Look no further than BlissArtsSpace! Nestled in the vibrant neighborhood of Bedford-Stuyvesant, this unique Airbnb listing is the perfect getaway for young couples looking to experience the best of New York City.\n",
      "\n",
      "With a warm and welcoming host named Garon, you can expect a personalized and unforgettable stay at BlissArtsSpace. Priced at just $60 per night, this charming space offers a one-of-a-kind experience that you won't find anywhere else in the Big Apple.\n",
      "\n",
      "Whether you're exploring the bustling streets of Brooklyn or taking in the sights and sounds of Manhattan, BlissArtsSpace is the ideal home base for your NYC adventure. Book your stay now and make memories that will last a lifetime!\n",
      "young couples\n",
      "Escape to the Skylit Midtown Castle, a charming oasis in the heart of bustling Midtown Manhattan. Hosted by the lovely Jennifer, this cozy apartment is the perfect retreat for elderly couples looking to explore the city in comfort and style.\n",
      "\n",
      "With a price of just $225 per night, this centrally located property offers convenience and affordability without sacrificing luxury. Imagine waking up to the soft glow of natural light streaming through the skylight, sipping your morning coffee in the cozy living room, and stepping out into the vibrant streets of New York City.\n",
      "\n",
      "Whether you're looking to take in a Broadway show, stroll through Central Park, or indulge in world-class dining, the Skylit Midtown Castle is the perfect home base for your New York City adventure. Book your stay today and experience the magic of Manhattan in the comfort of your own private retreat.\n",
      "elderly couples\n",
      "Are you a solo traveler looking for the perfect place to stay in the heart of New York City? Look no further than our cute and cozy 1 bedroom apartment in the vibrant Lower East Side, hosted by Ben. Located in the bustling Chinatown neighborhood, this charming space is ideal for those looking to immerse themselves in the city's culture and excitement.\n",
      "\n",
      "For just $150 per night, you can enjoy all the comforts of home while being surrounded by some of the best restaurants, shops, and attractions that Manhattan has to offer. Whether you're exploring the bustling streets of Chinatown or taking a leisurely stroll through nearby Little Italy, this apartment is the perfect home base for your solo adventure.\n",
      "\n",
      "Don't miss out on this incredible opportunity to experience New York City like a local. Book your stay with us today and make unforgettable memories in one of the city's most exciting neighborhoods. We can't wait to welcome you to our cozy apartment!\n",
      "single travelers\n",
      "Are you looking for a cozy and stylish retreat in the heart of Manhattan? Look no further than this spacious studio/loft apartment in East Harlem! Just a short distance from Central Park, this charming space is perfect for elderly couples looking to explore the city.\n",
      "\n",
      "Hosted by the lovely Laura, you can expect a warm and welcoming stay in this vibrant neighborhood. With all the comforts of home, including a fully equipped kitchen and comfortable living area, you'll feel right at home in this peaceful oasis.\n",
      "\n",
      "Don't miss out on the opportunity to experience the best of Manhattan from this convenient and comfortable location. Book now for a memorable stay in the city that never sleeps!\n",
      "elderly couples\n",
      "Are you a solo traveler looking for a unique and artistic retreat in the heart of Brooklyn? Look no further than BlissArtsSpace! Nestled in the vibrant neighborhood of Bedford-Stuyvesant, this cozy Airbnb listing is the perfect oasis for your stay in New York City.\n",
      "\n",
      "With a host named Garon, you can expect a warm and welcoming atmosphere during your visit. Priced at just $60 per night, this creative space is sure to provide a memorable experience during your time in the Big Apple.\n",
      "\n",
      "Whether you're an artist seeking inspiration or simply looking for a cozy spot to relax after a day of exploring the city, BlissArtsSpace has everything you need. Book your stay now and immerse yourself in the artistic charm of Brooklyn. Don't miss out on this one-of-a-kind Airbnb experience!\n",
      "single travelers\n",
      "Are you looking for the perfect cozy retreat in the heart of New York City? Look no further than our spacious 1 bedroom apartment in Midtown East, hosted by the welcoming Chris. Nestled in the charming Murray Hill neighborhood, this apartment is the ideal home base for your NYC adventures.\n",
      "\n",
      "Priced at just $200 per night, this apartment offers all the comforts of home for you and your loved one to enjoy. Whether you're looking to explore the city's iconic landmarks or simply relax and unwind, this apartment is the perfect place for elderly couples to create lasting memories.\n",
      "\n",
      "Don't miss out on this incredible opportunity to experience the magic of New York City from the comfort of your own private oasis. Book your stay with us today and let the adventure begin!\n",
      "elderly couples\n",
      "Experience the vibrant energy of Harlem in this cozy apartment hosted by Elisabeth! Perfect for young couples looking to immerse themselves in the rich culture and history of this iconic neighborhood. For just $150 per night, you can enjoy a comfortable and convenient stay in the heart of Harlem. Don't miss out on this unique opportunity to explore all that Harlem has to offer. Book your stay now and create unforgettable memories in The Village of Harlem!\n",
      "young couples\n",
      "Are you a solo traveler looking for the perfect place to stay in the heart of Midtown Manhattan? Look no further than the Skylit Midtown Castle hosted by Jennifer! This cozy and charming apartment is the ideal home base for exploring all that the city has to offer. \n",
      "\n",
      "Located in the bustling center of Manhattan, this centrally located property is just a short walk away from iconic landmarks, world-class dining, and endless entertainment options. And with a price of just $225 per night, you can enjoy all the comforts of home without breaking the bank.\n",
      "\n",
      "Don't miss out on the opportunity to stay in this hidden gem in the city that never sleeps. Book your stay at the Skylit Midtown Castle today and make your solo trip to New York City one to remember!\n",
      "single travelers\n",
      "Are you and your significant other looking for the perfect romantic getaway in the heart of New York City? Look no further than the Skylit Midtown Castle hosted by Jennifer. This cozy and charming apartment is the ideal spot for young couples to explore all that Midtown Manhattan has to offer.\n",
      "\n",
      "Located in a prime location, this centrally located property is just a short walk away from iconic landmarks, trendy restaurants, and vibrant nightlife. With a price of $225 per night, you can enjoy the convenience of being in the center of it all without breaking the bank.\n",
      "\n",
      "Don't miss out on the opportunity to stay in this unique and stylish apartment during your next visit to the Big Apple. Book your stay at the Skylit Midtown Castle today and create unforgettable memories with your loved one in the city that never sleeps.\n",
      "young couples\n",
      "Are you and your partner looking for the perfect getaway in the heart of New York City? Look no further than our cozy room in Hell's Kitchen hosted by Shunichi. For just $79 per night, you can enjoy the convenience of being steps away from Broadway shows, delicious restaurants, and trendy shops.\n",
      "\n",
      "Imagine waking up in the city that never sleeps, ready to explore all that Manhattan has to offer. Whether you're catching a show on Broadway or indulging in a delicious meal, our accommodation provides the perfect home base for your adventures.\n",
      "\n",
      "Don't miss out on this incredible opportunity to experience the excitement of New York City with your loved one. Book your stay now and make unforgettable memories in the vibrant neighborhood of Hell's Kitchen. Hurry, this room won't last long!\n",
      "young couples\n",
      "Looking for a peaceful retreat in the heart of Brooklyn? Look no further than our cozy apartment in Kensington. Perfect for single travelers looking to unwind after a day of exploring the city. Just steps away from the park, you can enjoy a leisurely stroll or a relaxing picnic in the greenery. Hosted by John, our clean and quiet space is priced at just $149 per night. Don't miss out on this charming getaway during your stay in Brooklyn. Book now and experience the tranquility of Kensington!\n",
      "single travelers\n",
      "Are you and your partner looking for a cozy and clean place to stay in the heart of Manhattan? Look no further than our guest room in the Upper West Side! Hosted by the lovely MaryEllen, our family apartment offers a warm and welcoming atmosphere for young couples looking to explore the city.\n",
      "\n",
      "Priced at just $79 per night, our guest room is the perfect home base for your New York City adventures. Whether you're strolling through Central Park, catching a Broadway show, or indulging in delicious cuisine, our convenient location makes it easy to experience all that the Big Apple has to offer.\n",
      "\n",
      "Don't miss out on this fantastic opportunity to stay in a comfortable and affordable accommodation during your trip to NYC. Book now and let MaryEllen welcome you to our home with open arms. We can't wait to host you!\n",
      "young couples\n",
      "Looking for a romantic getaway in the heart of Brooklyn? Look no further than this cozy entire floor of a brownstone in Clinton Hill hosted by the fabulous LisaRoxanne. Priced at just $89, this charming space offers the perfect retreat for young couples looking to escape the hustle and bustle of the city.\n",
      "\n",
      "Imagine snuggling up with your loved one in a private and comfortable accommodation, surrounded by the historic charm of a brownstone in one of Brooklyn's most sought-after neighborhoods. With easy access to trendy restaurants, cafes, and shops, you'll have everything you need for a memorable stay.\n",
      "\n",
      "Don't miss out on this incredible opportunity to experience the best of Brooklyn with your special someone. Book now and make unforgettable memories in this cozy brownstone retreat. LisaRoxanne can't wait to welcome you!\n",
      "young couples\n",
      "Looking for a romantic getaway in the heart of New York City? Look no further than our charming 1 bedroom apartment in the Lower East Side, hosted by the one and only Ben. Nestled in the vibrant Chinatown neighborhood, this cozy space is perfect for young couples looking to explore all that the city has to offer.\n",
      "\n",
      "For just $150 per night, you can enjoy the comforts of home while immersing yourself in the bustling energy of Manhattan. From trendy restaurants and hip bars to unique boutiques and cultural landmarks, the Lower East Side has it all. And with Ben as your host, you can rest assured that your stay will be nothing short of amazing.\n",
      "\n",
      "Don't miss out on this opportunity to experience New York City like a local. Book your stay with us today and make memories that will last a lifetime. Hurry, availability is limited!\n",
      "young couples\n",
      "Escape to the cozy charm of Clinton Hill in Brooklyn with this entire floor of a brownstone hosted by LisaRoxanne. Perfect for elderly couples looking for a peaceful retreat in the city, this listing offers a private and comfortable accommodation for just $89. Enjoy the convenience of staying in one of Brooklyn's most sought-after neighborhoods, with easy access to local shops, restaurants, and attractions. Book your stay now and experience the beauty and tranquility of Clinton Hill with LisaRoxanne as your host.\n",
      "elderly couples\n",
      "Are you and your partner looking for the perfect cozy retreat in the heart of Manhattan? Look no further than our spacious 1 bedroom apartment in Midtown East, hosted by the fabulous Chris! Nestled in the vibrant Murray Hill neighborhood, this stylish apartment is the ideal home base for your NYC escapades.\n",
      "\n",
      "For just $200 per night, you can enjoy all the comforts of home while immersing yourselves in the hustle and bustle of the city that never sleeps. Whether you're strolling through Central Park, catching a Broadway show, or indulging in some world-class dining, this apartment is the perfect place to unwind and recharge.\n",
      "\n",
      "Don't miss out on this amazing opportunity to experience the magic of New York City with your loved one. Book your stay with us today and make unforgettable memories together!\n",
      "young couples\n",
      "Escape to the vibrant neighborhood of Harlem in New York City with this cozy apartment hosted by Elisabeth. Perfect for elderly couples looking to immerse themselves in the rich culture and history of this iconic area, this listing offers a comfortable and convenient stay in the heart of Harlem for just $150 per night. Explore the local shops, restaurants, and historic landmarks, or simply relax in the comfort of your own private space. Book now and experience the magic of Harlem with Elisabeth as your host!\n",
      "elderly couples\n",
      "Are you looking for a cozy and artistic retreat in the heart of Brooklyn for your next trip to New York City? Look no further than BlissArtsSpace in Bedford-Stuyvesant! This unique Airbnb listing, hosted by the friendly Garon, offers a warm and welcoming atmosphere that is perfect for elderly couples looking for a memorable experience in the Big Apple.\n",
      "\n",
      "Priced at just $60 per night, BlissArtsSpace is the ideal getaway for those seeking a peaceful and creative space to relax and unwind. With its vibrant neighborhood and charming accommodations, you'll feel right at home during your stay.\n",
      "\n",
      "Don't miss out on this one-of-a-kind Airbnb listing - book your stay at BlissArtsSpace today and make your trip to New York City truly unforgettable!\n",
      "elderly couples\n",
      "Are you a solo traveler looking for the perfect home base in the heart of Manhattan? Look no further than our cozy 1 bedroom apartment in Midtown East, hosted by the fabulous Chris. Located in the vibrant Murray Hill neighborhood, this spacious apartment offers all the comforts of home for just $200 per night. \n",
      "\n",
      "Whether you're here for business or pleasure, our apartment is the ideal spot to relax and recharge after a day of exploring the city. With easy access to all the best attractions, restaurants, and nightlife that NYC has to offer, you'll never run out of things to do.\n",
      "\n",
      "Don't miss out on this amazing opportunity to experience the Big Apple like a true local. Book your stay with us today and make your solo trip to New York City one to remember!\n",
      "single travelers\n",
      "Are you a solo traveler looking for the perfect place to stay in Manhattan? Look no further than this spacious studio/loft apartment in East Harlem! Just a stone's throw away from Central Park, this cozy and stylish space is the ideal home base for your city adventures.\n",
      "\n",
      "Hosted by the lovely Laura, you can expect a warm and welcoming stay in this vibrant neighborhood. Whether you're exploring the city or simply relaxing in the comfort of your own private oasis, this apartment has everything you need for a comfortable and convenient stay.\n",
      "\n",
      "Don't miss out on this fantastic opportunity to experience the heart of Manhattan like a true local. Book now and make your solo trip to the Big Apple one to remember!\n",
      "single travelers\n",
      "Are you a solo traveler looking to immerse yourself in the vibrant culture of Harlem? Look no further than this cozy apartment hosted by Elisabeth! Located in the heart of Harlem, this listing offers a comfortable and convenient stay for just $150 per night. Experience the rich history and iconic landmarks of this iconic neighborhood, all while enjoying the comfort of your own private space. Book now and make your solo trip to New York City unforgettable!\n",
      "single travelers\n",
      "Are you a solo traveler looking for the perfect place to stay in the heart of New York City? Look no further than our cozy room in Hell's Kitchen hosted by Shunichi. For just $79 per night, you can enjoy the convenience of being near Broadway shows, delicious restaurants, and trendy shops.\n",
      "\n",
      "Imagine waking up in the city that never sleeps and stepping right outside your door to explore all that Manhattan has to offer. Whether you're a foodie, a theater buff, or a shopaholic, this location has something for everyone.\n",
      "\n",
      "Don't miss out on this amazing opportunity to experience the excitement of New York City right at your doorstep. Book your stay now and make unforgettable memories in the Big Apple. Hurry, this room won't last long!\n",
      "single travelers\n"
     ]
    }
   ],
   "source": [
    "for ad in ads_collection.query.fetch_objects().objects:\n",
    "    if ad.properties.get(\"target\") is not None:\n",
    "        print(ad.properties.get(\"content\"))\n",
    "        print(ad.properties.get(\"target\"))"
   ]
  },
  {
   "cell_type": "markdown",
   "metadata": {},
   "source": [
    "Next, we want to make our ads even more personalized. For this, we create a collection of individual users:"
   ]
  },
  {
   "cell_type": "code",
   "execution_count": 29,
   "metadata": {},
   "outputs": [],
   "source": [
    "# client.collections.delete(\"Users\")"
   ]
  },
  {
   "cell_type": "code",
   "execution_count": 30,
   "metadata": {},
   "outputs": [
    {
     "data": {
      "text/plain": [
       "UUID('ba5b14d6-f449-4de1-bcb0-6bc7f0a67f61')"
      ]
     },
     "execution_count": 30,
     "metadata": {},
     "output_type": "execute_result"
    }
   ],
   "source": [
    "users_collection = client.collections.create(\n",
    "    name=\"Users\",\n",
    "    properties=[\n",
    "        wvc.config.Property(\n",
    "            name=\"name\",\n",
    "            data_type=wvc.config.DataType.TEXT,\n",
    "        ),\n",
    "        wvc.config.Property(\n",
    "            name=\"biography\",\n",
    "            data_type=wvc.config.DataType.TEXT,\n",
    "        ),\n",
    "    ],\n",
    ")\n",
    "\n",
    "\n",
    "user_properties = {\n",
    "    \"biography\": \"Connor often travels with a golden doodle named Bowen.\",\n",
    "    \"name\": \"Connor\",\n",
    "}\n",
    "\n",
    "users_collection.data.insert(user_properties)\n",
    "\n",
    "user_properties = {\n",
    "    \"biography\": \"Bob is a prolific weightlifter who will get upset if he doesn't have a good gym to workout in.\",\n",
    "    \"name\": \"Bob\",\n",
    "}\n",
    "\n",
    "users_collection.data.insert(user_properties)"
   ]
  },
  {
   "cell_type": "markdown",
   "metadata": {},
   "source": [
    "To represent that an ad can be targeted to a certain user, we add a reference property to the ads collection:"
   ]
  },
  {
   "cell_type": "code",
   "execution_count": 31,
   "metadata": {},
   "outputs": [],
   "source": [
    "ads_collection.config.add_reference(\n",
    "    wvc.config.ReferenceProperty(\n",
    "        name=\"hasUserTarget\",\n",
    "        target_collection=\"Users\"\n",
    "    )\n",
    ")"
   ]
  },
  {
   "cell_type": "markdown",
   "metadata": {},
   "source": [
    "Now, we generate personalized ads for each user and link the generated personalized ads to the corresponding user:"
   ]
  },
  {
   "cell_type": "code",
   "execution_count": 32,
   "metadata": {},
   "outputs": [],
   "source": [
    "users = users_collection.query.fetch_objects()\n",
    "\n",
    "for user in users.objects:\n",
    "    generatePrompt = \"Please write an engaging advertisement for the following AirBnb Listing: Description: {description} Please write the advertisement for this listing to target the following user:\"\n",
    "    generatePrompt += str(user.properties.get(\"biography\"))\n",
    "\n",
    "    ads = listings_collection.generate.fetch_objects(single_prompt=generatePrompt)\n",
    "\n",
    "    for ad in ads.objects:\n",
    "        uuid = ads_collection.data.insert(\n",
    "            properties={\n",
    "                \"content\": ad.generated,\n",
    "            }\n",
    "        )\n",
    "        ads_collection.data.reference_add(from_uuid=uuid, from_property=\"hasUserTarget\", to=user.uuid)\n",
    "        listings_collection.data.reference_add(from_uuid=ad.uuid, from_property=\"hasAd\", to=uuid)\n",
    "        "
   ]
  },
  {
   "cell_type": "code",
   "execution_count": 33,
   "metadata": {},
   "outputs": [],
   "source": [
    "results = ads_collection.query.fetch_objects(filters=wvc.query.Filter.by_ref_count(\"hasUserTarget\").greater_or_equal(1))"
   ]
  },
  {
   "cell_type": "code",
   "execution_count": 34,
   "metadata": {},
   "outputs": [
    {
     "name": "stdout",
     "output_type": "stream",
     "text": [
      "Attention all pet-loving travelers! Are you looking for the perfect place to stay in Harlem, New York City with your furry friend? Look no further than this cozy apartment hosted by Elisabeth. For just $150 per night, you and your golden doodle, Bowen, can experience the vibrant culture and history of Harlem while staying in a comfortable and pet-friendly space. Book now and make unforgettable memories in the heart of Harlem with your four-legged companion!\n",
      "Attention all dog-loving travelers! Looking for a cozy and pet-friendly retreat in Brooklyn? Look no further than our clean and quiet apartment in the charming neighborhood of Kensington. Just steps away from the park, your furry friend Bowen will love exploring the greenery while you relax in our peaceful space. Hosted by John, our apartment is priced at $149 per night and is the perfect spot for you and your four-legged companion to unwind after a day of city adventures. Book now and make unforgettable memories with Bowen in Brooklyn!\n",
      "Attention all travelers with furry friends! Are you looking for a cozy and artistic retreat in Brooklyn for you and your beloved golden doodle? Look no further than BlissArtsSpace in Bedford-Stuyvesant. With a warm and welcoming host named Garon, this unique Airbnb listing is the perfect spot for you and Bowen to relax and enjoy your time in the Big Apple. Priced at just $60 per night, this vibrant space is sure to provide a memorable experience for you and your furry companion. Book your stay now and experience the magic of BlissArtsSpace!\n",
      "Attention all dog-loving travelers! Are you looking for the perfect pet-friendly accommodation in Brooklyn? Look no further than this cozy entire floor of a brownstone in Clinton Hill hosted by LisaRoxanne. Priced at just $89, this charming space offers a comfortable and private retreat for you and your furry friend, Bowen the golden doodle.\n",
      "\n",
      "Located in one of Brooklyn's most sought-after neighborhoods, you and Bowen will love the convenience and charm of staying in a brownstone. With plenty of nearby parks and pet-friendly cafes, your stay in Clinton Hill will be a paw-some experience for both you and Bowen.\n",
      "\n",
      "Don't miss out on this pet-friendly gem in Brooklyn! Book now and make unforgettable memories with your four-legged friend at this cozy brownstone retreat.\n",
      "Attention all pet-loving travelers! Are you looking for the perfect pet-friendly accommodation in the heart of Manhattan? Look no further than this spacious studio/loft apartment in East Harlem. Just a stone's throw away from Central Park, this cozy and stylish space is ideal for you and your furry friend, Bowen.\n",
      "\n",
      "With a warm and welcoming host named Laura, you can expect a comfortable and convenient stay in this vibrant neighborhood. Whether you're exploring the city or simply relaxing in the apartment, you and Bowen will feel right at home.\n",
      "\n",
      "Don't miss out on this pet-friendly oasis in Manhattan. Book now for an unforgettable stay with your four-legged companion. Hurry, this listing won't last long!\n",
      "Attention all travelers with furry friends! Are you looking for a pet-friendly accommodation in the heart of Manhattan? Look no further than our cozy room hosted by Shunichi in Hell's Kitchen. For just $79 per night, you and your golden doodle, Bowen, can enjoy the convenience of being close to Broadway shows, restaurants, and shops. Book now and experience the excitement of New York City right at your doorstep. Don't miss out on this paw-some opportunity!\n",
      "Attention all dog-loving travelers! Looking for the perfect pet-friendly accommodation in the heart of Manhattan? Look no further than our cozy 1 bedroom apartment in the Lower East Side hosted by Ben. Located in the vibrant Chinatown neighborhood, this charming space is ideal for solo travelers or couples looking to explore the city with their furry friend. For just $150 per night, you and your golden doodle Bowen can enjoy all the comforts of home while being surrounded by the excitement of New York City. Book your stay with us today and make unforgettable memories with your four-legged companion!\n",
      "Attention all pet-loving travelers! Are you looking for a cozy and clean place to stay in Manhattan with your furry friend? Look no further than our family apartment in the Upper West Side. Our host, MaryEllen, is excited to welcome you and your golden doodle, Bowen, to our guest room for just $79 per night. Enjoy the convenience of staying in a pet-friendly environment while exploring all that New York City has to offer. Book now and make unforgettable memories with your four-legged companion!\n",
      "Attention all pet-loving travelers! Are you looking for the perfect place to stay in the heart of Midtown Manhattan with your furry friend? Look no further than the Skylit Midtown Castle hosted by Jennifer. This cozy and charming apartment is the ideal spot for you and your golden doodle, Bowen, to relax and unwind after a day of exploring the city. With a price of $225 per night, this centrally located property is a great choice for your next visit to New York City. Book now and make unforgettable memories with your four-legged companion at the Skylit Midtown Castle!\n",
      "Attention all dog-loving travelers! Looking for the perfect pet-friendly accommodation in the heart of Manhattan? Look no further than our cozy 1 bedroom apartment in Midtown East, hosted by Chris. With plenty of space for you and your furry friend, this spacious apartment in Murray Hill is the ideal home base for your New York City adventures. For just $200 per night, you can enjoy all the comforts of home while exploring the bustling city with your beloved golden doodle, Bowen. Book your stay with us today and make unforgettable memories with your four-legged companion!\n",
      "Attention all weightlifters! Are you looking for the perfect place to stay in Harlem while you explore New York City? Look no further than this cozy apartment hosted by Elisabeth. With a price of $150 per night, this listing offers a comfortable and convenient stay in the heart of Harlem. And for all you weightlifting enthusiasts out there, fear not! This apartment is located near some of the best gyms in the area, ensuring you can keep up with your workout routine while experiencing the rich culture and history of this iconic neighborhood. Book now and make your stay in Harlem unforgettable!\n",
      "Attention all weightlifting enthusiasts! Are you looking for the perfect Airbnb listing in Brooklyn that will cater to your fitness needs? Look no further than our clean and quiet apartment in Kensington. Just steps away from the park, you can enjoy a peaceful retreat after a day of exploring the city, while also having access to a top-notch gym facility nearby.\n",
      "\n",
      "Hosted by John, our cozy space is priced at $149 per night and is perfect for those who prioritize their fitness routine. Bob, a prolific weightlifter, will be thrilled to know that there is a gym nearby where he can continue his workouts without missing a beat.\n",
      "\n",
      "Don't let your fitness goals suffer while traveling. Book your stay with us and enjoy a relaxing retreat in Brooklyn, all while staying on track with your weightlifting regimen. We look forward to hosting you during your stay in Kensington!\n",
      "Are you a weightlifting enthusiast looking for the perfect Airbnb in Brooklyn? Look no further than BlissArtsSpace! Located in the vibrant neighborhood of Bedford-Stuyvesant, this cozy and artistic space is the ideal retreat for your stay in New York City. With a host named Garon, you can expect a warm and welcoming atmosphere during your visit. \n",
      "\n",
      "But what about your workouts, you ask? Don't worry, Bob! BlissArtsSpace has a fully equipped gym on-site, so you can stay on top of your fitness routine while enjoying all that the Big Apple has to offer. Priced at just $60 per night, this unique Airbnb listing is sure to provide a memorable experience during your time in NYC. Book now and experience the best of both worlds - a comfortable stay and a top-notch gym all in one place!\n",
      "Are you a weightlifting enthusiast looking for the perfect place to stay during your visit to Brooklyn? Look no further! This cozy entire floor of a brownstone in Clinton Hill is the ideal retreat for you. Hosted by LisaRoxanne, this listing offers a private and comfortable accommodation for only $89. And the best part? There's a top-notch gym nearby to keep up with your workout routine. Don't let your gains suffer while you're away - book now and enjoy the convenience and charm of staying in one of Brooklyn's most sought-after neighborhoods. Hurry, Bob, this listing won't last long!\n",
      "Attention all weightlifting enthusiasts! Are you looking for the perfect Airbnb listing in Manhattan that will cater to your fitness needs? Look no further than this spacious studio/loft apartment in East Harlem. Just a stone's throw away from Central Park, this cozy and stylish space is the ideal spot for Bob, the prolific weightlifter, and his partner to stay while exploring the city.\n",
      "\n",
      "With a host named Laura who is known for her warm and welcoming hospitality, Bob can rest assured that he will have a comfortable and convenient stay in this vibrant neighborhood. And the best part? This listing is located near some of the best gyms in the city, ensuring that Bob can keep up with his workout routine without missing a beat.\n",
      "\n",
      "Don't let your fitness goals fall by the wayside while traveling. Book now and experience the perfect blend of comfort, convenience, and fitness in the heart of Manhattan. Bob, this listing is calling your name!\n",
      "Are you a weightlifting enthusiast looking for the perfect place to stay in New York City? Look no further! Our large furnished room in Hell's Kitchen is just what you need. Hosted by Shunichi, this cozy accommodation is priced at $79 per night and is located near Broadway, restaurants, and shops. But the best part? There's a top-notch gym nearby for you to get your workout in. Don't let your gains suffer while you're away from home. Book your stay now and experience the excitement of New York City while staying fit and strong. Hurry, Bob, this room won't last long!\n",
      "Attention all weightlifting enthusiasts! Are you looking for the perfect place to stay in New York City while still being able to maintain your fitness routine? Look no further than our cozy 1 bedroom apartment in the Lower East Side hosted by Ben. Located in the vibrant Chinatown neighborhood, you'll have access to some of the best gyms in the city to keep up with your workouts. Priced at just $150 per night, you can enjoy all the comforts of home while being in the heart of one of NYC's most exciting neighborhoods. Don't let your gains suffer while traveling - book your stay with us today and lift to your heart's content!\n",
      "Attention all weightlifters! Are you looking for the perfect place to stay during your trip to New York City? Look no further than our cozy guest room in the Upper West Side. Our host, MaryEllen, is ready to welcome you with open arms. And for only $79 per night, you can't beat the price!\n",
      "\n",
      "But that's not all - we know how important it is for weightlifters to have access to a good gym. That's why we have a top-of-the-line gym right in our building for you to use during your stay. No need to worry about missing a workout while you're away from home.\n",
      "\n",
      "Don't let your gains suffer while you're in the Big Apple. Book your stay with us today and experience the perfect blend of comfort, convenience, and fitness. We can't wait to host you during your trip to NYC!\n",
      "Attention all weightlifting enthusiasts! Are you looking for the perfect place to stay in Midtown Manhattan that won't compromise your workout routine? Look no further than the Skylit Midtown Castle hosted by Jennifer. This cozy apartment is not only charming and centrally located, but it also boasts a top-notch gym facility that will keep you in top shape during your stay.\n",
      "\n",
      "Priced at just $225 per night, this apartment is the ideal choice for weightlifters like Bob who demand a great gym to workout in. Don't let your fitness goals slip while traveling - book your stay at the Skylit Midtown Castle and enjoy the convenience of a fully equipped gym right at your fingertips. Don't settle for less - stay fit and stay comfortable in the heart of New York City. Book now!\n",
      "Attention all weightlifting enthusiasts! Are you looking for the perfect place to stay in New York City while keeping up with your fitness routine? Look no further than our spacious 1 bedroom apartment in Midtown East, hosted by Chris. Located in the Murray Hill neighborhood, this cozy apartment is just what you need for your NYC adventures.\n",
      "\n",
      "With a price of $200 per night, you can enjoy all the comforts of home while having access to a top-notch gym nearby to keep up with your weightlifting regimen. Don't let your gains suffer while traveling - book your stay with us today and lift with ease in the bustling city. Chris is here to make sure your stay is comfortable and convenient. Don't miss out on this perfect opportunity for a fit and fabulous NYC getaway!\n"
     ]
    }
   ],
   "source": [
    "for result in results.objects:\n",
    "    print(result.properties.get(\"content\"))"
   ]
  }
 ],
 "metadata": {
  "kernelspec": {
   "display_name": "venv",
   "language": "python",
   "name": "python3"
  },
  "language_info": {
   "codemirror_mode": {
    "name": "ipython",
    "version": 3
   },
   "file_extension": ".py",
   "mimetype": "text/x-python",
   "name": "python",
   "nbconvert_exporter": "python",
   "pygments_lexer": "ipython3",
   "version": "3.10.6"
  }
 },
 "nbformat": 4,
 "nbformat_minor": 2
}
