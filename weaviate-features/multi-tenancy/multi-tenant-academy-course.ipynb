{
 "cells": [
  {
   "cell_type": "markdown",
   "metadata": {},
   "source": [
    "[![Open In Colab](https://colab.research.google.com/assets/colab-badge.svg)](https://colab.research.google.com/github/weaviate/recipes/blob/main/weaviate-features/multi-tenancy/multi-tenant-academy-course.ipynb)"
   ]
  },
  {
   "cell_type": "markdown",
   "metadata": {},
   "source": [
    "#  Multi-tenant operations\n",
    "\n",
    "This notebook walks through the Weaviate Academy [Multi-tenancy course](https://weaviate.io/developers/academy/py/multitenancy)."
   ]
  },
  {
   "cell_type": "markdown",
   "metadata": {},
   "source": [
    "### Edit the docker-compose configuration\n",
    "\n",
    "1. Create a `.env` file in the directory where you run `docker compose up -d`.\n",
    "2. Add your AWS credentials to the `.env` file.\n",
    "3. Add variables for the credentials to `docker-compose.yml`"
   ]
  },
  {
   "cell_type": "markdown",
   "metadata": {},
   "source": [
    "##### .env file\n",
    "\n",
    "```shell\n",
    "AWS_ACCESS_KEY=ENTER-YOUR-AWS-KEY-HERE\n",
    "AWS_ACCESS_SECRET_KEY=ENTER-YOUR-AWS-SECRET-KEY-HERE\n",
    "AWS_REGION=YOUR-AWS-REGION-CODE-HERE\n",
    "```"
   ]
  },
  {
   "cell_type": "markdown",
   "metadata": {},
   "source": [
    "To confirm the variable substitution, run `docker compose config`."
   ]
  },
  {
   "cell_type": "markdown",
   "metadata": {},
   "source": [
    "Start your Weaviate instance, `docker compose up -d`."
   ]
  },
  {
   "cell_type": "markdown",
   "metadata": {},
   "source": [
    "##### docker-config.yml\n",
    "\n",
    "```shell\n",
    "---\n",
    "name: \"multi_tenant_demo_instance\"\n",
    "services:\n",
    "  weaviate_anon:\n",
    "    command:\n",
    "    - --host\n",
    "    - 0.0.0.0\n",
    "    - --port\n",
    "    - '8080'\n",
    "    - --scheme\n",
    "    - http\n",
    "    image: cr.weaviate.io/semitechnologies/weaviate:1.26.3 # Update if needed\n",
    "    ports:\n",
    "    - 8080:8080\n",
    "    - 50051:50051\n",
    "    restart: on-failure:0\n",
    "    environment:\n",
    "      QUERY_DEFAULTS_LIMIT: 25\n",
    "      AUTHENTICATION_ANONYMOUS_ACCESS_ENABLED: 'true'\n",
    "      PERSISTENCE_DATA_PATH: '/var/lib/weaviate'\n",
    "      DEFAULT_VECTORIZER_MODULE: 'none'\n",
    "      ENABLE_API_BASED_MODULES: 'true'\n",
    "      ASYNC_INDEXING: 'true'\n",
    "      ENABLE_MODULES: 'backup-filesystem,offload-s3'\n",
    "      AWS_REGION: ${AWS_REGION}\n",
    "      AWS_ACCESS_KEY_ID: ${AWS_ACCESS_KEY}\n",
    "      AWS_SECRET_ACCESS_KEY: ${AWS_ACCESS_SECRET_KEY}\n",
    "      OFFLOAD_S3_BUCKET: 'PUT_YOUR_S3_BUCKET_NAME_HERE'\n",
    "      OFFLOAD_S3_BUCKET_AUTO_CREATE: 'true'\n",
    "      BACKUP_FILESYSTEM_PATH: '/var/lib/weaviate/backups'\n",
    "      CLUSTER_HOSTNAME: 'node1'\n",
    "...\n",
    "```"
   ]
  },
  {
   "cell_type": "markdown",
   "metadata": {},
   "source": [
    "### Install the Weaviate Python v4 client"
   ]
  },
  {
   "cell_type": "code",
   "execution_count": null,
   "metadata": {},
   "outputs": [],
   "source": [
    "#!which python\n",
    "\n",
    "# Uncomment to clear your current pip cache\n",
    "# !pip cache purge\n",
    "\n",
    "# Uncomment to upgrade pip\n",
    "# !pip install --upgrade pip\n",
    "\n",
    "# Install client from public released\n",
    "!pip3 install --no-cache -U \"weaviate-client==4.*\"\n",
    "\n",
    "# Check installed client version\n",
    "!pip show weaviate-client | grep Version\n"
   ]
  },
  {
   "cell_type": "markdown",
   "metadata": {},
   "source": [
    "### Create a client object"
   ]
  },
  {
   "cell_type": "code",
   "execution_count": null,
   "metadata": {},
   "outputs": [],
   "source": [
    "import weaviate, os\n",
    "from weaviate.classes.config import Configure, Property, DataType\n",
    "\n",
    "# Connect to a WCS instance\n",
    "client = weaviate.connect_to_local(\n",
    "    headers={\n",
    "        \"X-Cohere-Api-Key\": os.environ[\"COHERE_API_KEY\"],\n",
    "    }\n",
    ")\n",
    "\n",
    "# Uncomment to check the client connection\n",
    "print(client.is_ready())"
   ]
  },
  {
   "cell_type": "markdown",
   "metadata": {},
   "source": [
    "### Create a collection"
   ]
  },
  {
   "cell_type": "code",
   "execution_count": 140,
   "metadata": {},
   "outputs": [],
   "source": [
    "collection_name = \"MultiTenantDemo\"\n",
    "\n",
    "# Uncomment to delete data from prior runs\n",
    "if (client.collections.exists(collection_name)):\n",
    "    client.collections.delete(collection_name)\n",
    "\n",
    "# Create the collection\n",
    "multi_tenant_collection = client.collections.create(\n",
    "    name=collection_name,\n",
    "    multi_tenancy_config=Configure.multi_tenancy(\n",
    "        enabled=True,\n",
    "        auto_tenant_creation=True,\n",
    "        auto_tenant_activation=True,\n",
    "    ),\n",
    "    properties=[\n",
    "        Property(name=\"text\", data_type=DataType.TEXT),\n",
    "        Property(name=\"date\", data_type=DataType.DATE),\n",
    "        Property(name=\"tags\", data_type=DataType.TEXT_ARRAY),\n",
    "    ],\n",
    "    vectorizer_config=[\n",
    "        Configure.NamedVectors.text2vec_cohere(\n",
    "            name=\"text\",\n",
    "            source_properties=[\"text\"],\n",
    "            vector_index_config=Configure.VectorIndex.dynamic(\n",
    "                hnsw=Configure.VectorIndex.hnsw(\n",
    "                    quantizer=Configure.VectorIndex.Quantizer.sq(training_limit=50000)\n",
    "                ),\n",
    "                flat=Configure.VectorIndex.flat(\n",
    "                    quantizer=Configure.VectorIndex.Quantizer.bq()\n",
    "                ),\n",
    "                threshold=10000\n",
    "            )\n",
    "        )\n",
    "    ],\n",
    "    generative_config=Configure.Generative.cohere(model=\"command-r-plus\")\n",
    ")\n"
   ]
  },
  {
   "cell_type": "markdown",
   "metadata": {},
   "source": [
    "### Confirm that the collection exists"
   ]
  },
  {
   "cell_type": "code",
   "execution_count": null,
   "metadata": {},
   "outputs": [],
   "source": [
    "response = client.collections.list_all()\n",
    "\n",
    "for r in response:\n",
    "    print(r)\n"
   ]
  },
  {
   "cell_type": "markdown",
   "metadata": {},
   "source": [
    "### Get collection object"
   ]
  },
  {
   "cell_type": "code",
   "execution_count": 143,
   "metadata": {},
   "outputs": [],
   "source": [
    "multi_tenant_collection = client.collections.get(collection_name)"
   ]
  },
  {
   "cell_type": "markdown",
   "metadata": {},
   "source": [
    "### Create a tenant"
   ]
  },
  {
   "cell_type": "code",
   "execution_count": 142,
   "metadata": {},
   "outputs": [],
   "source": [
    "from weaviate.classes.tenants import Tenant\n",
    "\n",
    "multi_tenant_collection.tenants.create(\n",
    "    tenants=[\n",
    "        Tenant(name=\"steve85\"),\n",
    "        Tenant(name=\"bobby84\"),\n",
    "    ]\n",
    ")\n",
    "\n",
    "# # Uncomment to list the tenants\n",
    "# tenants = multi_tenant_collection.tenants.get()\n",
    "# print(tenants)"
   ]
  },
  {
   "cell_type": "markdown",
   "metadata": {},
   "source": [
    "### Add data to one tenant"
   ]
  },
  {
   "cell_type": "code",
   "execution_count": 144,
   "metadata": {},
   "outputs": [],
   "source": [
    "from datetime import datetime, timezone\n",
    "\n",
    "# Get collection object then specify the tenant\n",
    "multi_tenant_collection = client.collections.get(collection_name)\n",
    "tenant = multi_tenant_collection.with_tenant(\"steve85\")\n",
    "\n",
    "insert_result = tenant.data.insert(\n",
    "    properties={\n",
    "        \"text\": \"What amazing food we had at Quay! It was totally worth it.\",\n",
    "        \"date\": datetime(2024, 5, 15).replace(tzinfo=timezone.utc),\n",
    "        \"tags\": [\"restaurant\", \"experience\"],\n",
    "    }\n",
    ")\n",
    "\n",
    "# # Uncomment to see the UUID of the inserted object\n",
    "# print(insert_result)"
   ]
  },
  {
   "cell_type": "markdown",
   "metadata": {},
   "source": [
    "### Batch import data to a single tenant"
   ]
  },
  {
   "cell_type": "code",
   "execution_count": 145,
   "metadata": {},
   "outputs": [],
   "source": [
    "# Some sample data\n",
    "journal_entries = [\n",
    "     {\"text\": \"Loved it\", \"date\": datetime(2024, 3, 4).replace(tzinfo=timezone.utc), \"tags\": [\"restaurant\", \"experience\"]},\n",
    "     {\"text\": \"Hated it\", \"date\": datetime(2024, 4, 5).replace(tzinfo=timezone.utc), \"tags\": [\"cafe\"]},\n",
    "     {\"text\": \"Meh\", \"date\": datetime(2024, 5, 6).replace(tzinfo=timezone.utc), \"tags\": [\"dinner\", \"group\"]}\n",
    "    ]\n",
    "\n",
    "# Get collection object then specify the tenant\n",
    "multi_tenant_collection = client.collections.get(collection_name)\n",
    "tenant = multi_tenant_collection.with_tenant(\"steve85\")\n",
    "\n",
    "batch_results = []\n",
    "with tenant.batch.fixed_size(100) as batch:\n",
    "    for journal_entry in journal_entries:\n",
    "        batch_results.append(batch.add_object(journal_entry))\n",
    "\n",
    "# # Uncomment to see the UUIDs of the inserted objects\n",
    "# print(batch_results)"
   ]
  },
  {
   "cell_type": "markdown",
   "metadata": {},
   "source": [
    "### Check the number of objects"
   ]
  },
  {
   "cell_type": "code",
   "execution_count": null,
   "metadata": {},
   "outputs": [],
   "source": [
    "# Get the collection object and the tenant\n",
    "multi_tenant_collection = client.collections.get(collection_name)\n",
    "tenant = multi_tenant_collection.with_tenant(\"steve85\")\n",
    "\n",
    "response = tenant.aggregate.over_all(total_count=True)\n",
    "\n",
    "# print(response)               # All info\n",
    "print(response.total_count)   # limited info\n"
   ]
  },
  {
   "cell_type": "markdown",
   "metadata": {},
   "source": [
    "### Automatically create a tenant"
   ]
  },
  {
   "cell_type": "code",
   "execution_count": 127,
   "metadata": {},
   "outputs": [],
   "source": [
    "# Get the collection object\n",
    "multi_tenant_collection = client.collections.get(collection_name)\n",
    "\n",
    "# Specify a tenant that doesn't exist yet\n",
    "new_tenant = multi_tenant_collection.with_tenant(\"yana42\")\n",
    "\n",
    "# # Uncomment to list the number of tenants before inserting\n",
    "# tenants = multi_tenant_collection.tenants.get()\n",
    "# print(f\"Before: {len(tenants)}\")\n",
    "\n",
    "insert_data_result = new_tenant.data.insert({\n",
    "    \"date\": datetime(2024, 7, 7).replace(tzinfo=timezone.utc),\n",
    "    \"tags\": [\"events\", \"grand prix\"],\n",
    "    \"text\": \"La nacional rocks\",\n",
    "})\n",
    "\n",
    "# # Uncomment to see the UUID of the inserted object\n",
    "# print(insert_data_rt)\n",
    "\n",
    "# # Uncomment to list the number of tenants after inserting\n",
    "# tenants = multi_tenant_collection.tenants.get()\n",
    "# print(f\"After: {len(tenants)}\")\n",
    "\n",
    "# # Uncomment to list the tenants\n",
    "# tenants = multi_tenant_collection.tenants.get()\n",
    "# for t in tenants:\n",
    "#     print(t)"
   ]
  },
  {
   "cell_type": "markdown",
   "metadata": {},
   "source": [
    "### Run a query"
   ]
  },
  {
   "cell_type": "code",
   "execution_count": null,
   "metadata": {},
   "outputs": [],
   "source": [
    "from weaviate.classes.query import Filter\n",
    "from datetime import datetime, timezone\n",
    "\n",
    "# Get the collection object and the tenant\n",
    "multi_tenant_collection = client.collections.get(collection_name)\n",
    "tenant = multi_tenant_collection.with_tenant(\"steve85\")\n",
    "\n",
    "start_date = datetime(2024, 1, 1).replace(tzinfo=timezone.utc)\n",
    "end_date = datetime(2024, 4, 15).replace(tzinfo=timezone.utc)\n",
    "\n",
    "# Find the entries between two dates\n",
    "response = tenant.query.fetch_objects(\n",
    "    filters=(\n",
    "        Filter.by_property(\"date\").greater_or_equal(start_date) &\n",
    "        Filter.by_property(\"date\").less_or_equal(end_date)\n",
    "    ),\n",
    "    limit=10\n",
    ")\n",
    "\n",
    "for obj in response.objects:\n",
    "    print(obj.properties)"
   ]
  },
  {
   "cell_type": "markdown",
   "metadata": {},
   "source": [
    "### Run a hybrid query"
   ]
  },
  {
   "cell_type": "code",
   "execution_count": null,
   "metadata": {},
   "outputs": [],
   "source": [
    "# Get the collection object and the tenant\n",
    "multi_tenant_collection = client.collections.get(collection_name)\n",
    "tenant = multi_tenant_collection.with_tenant(\"steve85\")\n",
    "\n",
    "response = tenant.query.hybrid(\n",
    "    query=\"great food\",\n",
    "    limit=2\n",
    ")\n",
    "\n",
    "for obj in response.objects:\n",
    "    print(obj.properties)"
   ]
  },
  {
   "cell_type": "markdown",
   "metadata": {},
   "source": [
    "### Check tenant status"
   ]
  },
  {
   "cell_type": "code",
   "execution_count": null,
   "metadata": {},
   "outputs": [],
   "source": [
    "tenants = multi_tenant_collection.tenants.get()\n",
    "\n",
    "# Check all tenants\n",
    "for t in tenants:\n",
    "    print(f\"name: {tenants[t].name} status: {tenants[t].activityStatus}\")\n",
    "\n",
    "# # Uncomment to check a single tenant\n",
    "# tenant_to_check = 'steve85'\n",
    "# print(f\"name: {tenants[tenant_to_check].name} status: {tenants[tenant_to_check].activityStatus}\")\n"
   ]
  },
  {
   "cell_type": "markdown",
   "metadata": {},
   "source": [
    "### Deactivate a tenant"
   ]
  },
  {
   "cell_type": "code",
   "execution_count": null,
   "metadata": {},
   "outputs": [],
   "source": [
    "from weaviate.classes.tenants import Tenant, TenantActivityStatus\n",
    "\n",
    "# Select a tenant to update\n",
    "tenant_to_update = 'yana21'\n",
    "\n",
    "# Create the tenant\n",
    "new_tenant = multi_tenant_collection.with_tenant(tenant_to_update)\n",
    "insert_data_result = new_tenant.data.insert({\n",
    "    \"date\": datetime(2024, 7, 7).replace(tzinfo=timezone.utc),\n",
    "    \"tags\": [\"events\", \"grand prix\"],\n",
    "    \"text\": \"La nacional rocks\",\n",
    "})\n",
    "\n",
    "# Check the initial status\n",
    "tenants = multi_tenant_collection.tenants.get()\n",
    "print(f\"BEFORE: name: {tenants[tenant_to_update].name} status: {tenants[tenant_to_update].activityStatus}\")\n",
    "\n",
    "multi_tenant_collection.tenants.update(\n",
    "    Tenant(name=tenant_to_update, activity_status=TenantActivityStatus.INACTIVE)\n",
    ")\n",
    "\n",
    "# Check the updated status\n",
    "tenants = multi_tenant_collection.tenants.get()\n",
    "print(f\"AFTER: name: {tenants[tenant_to_update].name} status: {tenants[tenant_to_update].activityStatus}\")\n",
    "\n",
    "# # Uncomment to reset the status to ACTIVE\n",
    "# multi_tenant_collection.tenants.update(\n",
    "#     Tenant(name=tenant_to_update, activity_status=TenantActivityStatus.ACTIVE)\n",
    "# )\n",
    "# print(f\"REACTIVATED: name: {tenants[tenant_to_update].name} status: {tenants[tenant_to_update].activityStatus}\")"
   ]
  },
  {
   "cell_type": "markdown",
   "metadata": {},
   "source": [
    "### Remove a tenant"
   ]
  },
  {
   "cell_type": "code",
   "execution_count": null,
   "metadata": {},
   "outputs": [],
   "source": [
    "multi_tenant_collection = client.collections.get(collection_name)\n",
    "\n",
    "# Select a tenant to remove\n",
    "# NOTE: As of v1.26.3, the tenant status must not be COLD\n",
    "tenant_to_remove = 'sonia77'\n",
    "\n",
    "# Create the example tenant\n",
    "new_tenant = multi_tenant_collection.with_tenant(tenant_to_remove)\n",
    "new_tenant.data.insert({\n",
    "    \"date\": datetime(2024, 7, 7).replace(tzinfo=timezone.utc),\n",
    "    \"tags\": [\"events\", \"grand prix\"],\n",
    "    \"text\": \"La nacional rocks\",\n",
    "})\n",
    "\n",
    "# Uncomment to check the initial tenant status\n",
    "tenants = multi_tenant_collection.tenants.get()\n",
    "print(f\"BEFORE: name: {tenants[tenant_to_remove].name} status: {tenants[tenant_to_update].activityStatus}\\n\")\n",
    "\n",
    "# Caution - this action removes all data for the deleted tenant(s)\n",
    "# multi_tenant_collection.tenants.remove([tenant_to_remove])  # Use a list to remove multiple tenants\n",
    "multi_tenant_collection.tenants.remove(tenant_to_remove)\n",
    "\n",
    "# Uncomment to check tenant status\n",
    "tenants = multi_tenant_collection.tenants.get()\n",
    "for t in tenants:\n",
    "    print(f\"AFTER: name: {tenants[t].name} status: {tenants[t].activityStatus}\")\n"
   ]
  },
  {
   "cell_type": "markdown",
   "metadata": {},
   "source": [
    "### Move a tenant to S3"
   ]
  },
  {
   "cell_type": "code",
   "execution_count": null,
   "metadata": {},
   "outputs": [],
   "source": [
    "from weaviate.classes.tenants import Tenant, TenantActivityStatus\n",
    "\n",
    "multi_tenant_collection = client.collections.get(collection_name)\n",
    "\n",
    "tenant_to_offload = 'carlos44'\n",
    "\n",
    "# Uncomment to create the example tenant\n",
    "new_tenant = multi_tenant_collection.with_tenant(tenant_to_offload)\n",
    "insert_result = new_tenant.data.insert({\n",
    "    \"date\": datetime(2024, 7, 7).replace(tzinfo=timezone.utc),\n",
    "    \"tags\": [\"events\", \"grand prix\"],\n",
    "    \"text\": \"La nacional rocks\",\n",
    "})\n",
    "\n",
    "# # Uncomment to see the UUID of the inserted item\n",
    "# print(insert_result)\n",
    "\n",
    "# multi_tenant_collection.tenants.update(\n",
    "#     Tenant(name=tenant_to_offload, activity_status=TenantActivityStatus.INACTIVE)\n",
    "# )\n",
    "tenants = multi_tenant_collection.tenants.get()\n",
    "for t in tenants:\n",
    "    print(f\"name: {tenants[t].name} status: {tenants[t].activityStatus}\")\n",
    "\n",
    "multi_tenant_collection.tenants.update(\n",
    "    Tenant(name=tenant_to_offload, activity_status=TenantActivityStatus.OFFLOADED)\n",
    ")\n",
    "\n",
    "# Uncomment to see the status of the tenants\n",
    "tenants = multi_tenant_collection.tenants.get()\n",
    "for t in tenants:\n",
    "    print(f\"name: {tenants[t].name} status: {tenants[t].activityStatus}\")\n"
   ]
  }
 ],
 "metadata": {
  "kernelspec": {
   "display_name": ".venv",
   "language": "python",
   "name": "python3"
  },
  "language_info": {
   "codemirror_mode": {
    "name": "ipython",
    "version": 3
   },
   "file_extension": ".py",
   "mimetype": "text/x-python",
   "name": "python",
   "nbconvert_exporter": "python",
   "pygments_lexer": "ipython3",
   "version": "3.11.5"
  }
 },
 "nbformat": 4,
 "nbformat_minor": 2
}
