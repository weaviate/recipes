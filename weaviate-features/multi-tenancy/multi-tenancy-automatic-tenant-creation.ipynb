{
 "cells": [
  {
   "cell_type": "markdown",
   "metadata": {},
   "source": [
    "[![Open In Colab](https://colab.research.google.com/assets/colab-badge.svg)](https://colab.research.google.com/github/weaviate/recipes/blob/main/weaviate-features/multi-tenancy/multi-tenancy-automatic-tenant-creation.ipynb)"
   ]
  },
  {
   "cell_type": "code",
   "execution_count": 1,
   "metadata": {},
   "outputs": [
    {
     "name": "stdout",
     "output_type": "stream",
     "text": [
      "Binary /Users/dudanogueira/.cache/weaviate-embedded did not exist. Downloading binary from https://github.com/weaviate/weaviate/releases/download/v1.25.2/weaviate-v1.25.2-Darwin-all.zip\n",
      "Started /Users/dudanogueira/.cache/weaviate-embedded: process ID 60656\n"
     ]
    },
    {
     "name": "stderr",
     "output_type": "stream",
     "text": [
      "{\"action\":\"startup\",\"default_vectorizer_module\":\"none\",\"level\":\"info\",\"msg\":\"the default vectorizer modules is set to \\\"none\\\", as a result all new schema classes without an explicit vectorizer setting, will use this vectorizer\",\"time\":\"2024-06-02T14:11:44-03:00\"}\n",
      "{\"action\":\"startup\",\"auto_schema_enabled\":true,\"level\":\"info\",\"msg\":\"auto schema enabled setting is set to \\\"true\\\"\",\"time\":\"2024-06-02T14:11:44-03:00\"}\n",
      "{\"level\":\"info\",\"msg\":\"No resource limits set, weaviate will use all available memory and CPU. To limit resources, set LIMIT_RESOURCES=true\",\"time\":\"2024-06-02T14:11:44-03:00\"}\n",
      "{\"level\":\"info\",\"msg\":\"open cluster service\",\"servers\":{\"Embedded_at_8079\":60843},\"time\":\"2024-06-02T14:11:44-03:00\"}\n",
      "{\"address\":\"192.168.28.99:60844\",\"level\":\"info\",\"msg\":\"starting cloud rpc server ...\",\"time\":\"2024-06-02T14:11:44-03:00\"}\n",
      "{\"level\":\"info\",\"msg\":\"starting raft sub-system ...\",\"time\":\"2024-06-02T14:11:44-03:00\"}\n",
      "{\"address\":\"192.168.28.99:60843\",\"level\":\"info\",\"msg\":\"tcp transport\",\"tcpMaxPool\":3,\"tcpTimeout\":10000000000,\"time\":\"2024-06-02T14:11:44-03:00\"}\n",
      "{\"level\":\"info\",\"msg\":\"loading local db\",\"time\":\"2024-06-02T14:11:44-03:00\"}\n",
      "{\"level\":\"info\",\"msg\":\"database has been successfully loaded\",\"n\":0,\"time\":\"2024-06-02T14:11:44-03:00\"}\n",
      "{\"level\":\"info\",\"metadata_only_voters\":false,\"msg\":\"construct a new raft node\",\"name\":\"Embedded_at_8079\",\"time\":\"2024-06-02T14:11:44-03:00\"}\n",
      "{\"id\":\"2-3-1716906483472\",\"last-index\":3,\"last-term\":2,\"level\":\"info\",\"msg\":\"starting restore from snapshot\",\"size-in-bytes\":20109,\"time\":\"2024-06-02T14:11:44-03:00\"}\n",
      "{\"level\":\"info\",\"msg\":\"restoring schema from snapshot\",\"time\":\"2024-06-02T14:11:44-03:00\"}\n",
      "{\"level\":\"info\",\"msg\":\"successfully restored schema from snapshot\",\"time\":\"2024-06-02T14:11:44-03:00\"}\n",
      "{\"last_applied_index\":0,\"last_snapshot_index\":3,\"last_store_log_applied_index\":41,\"level\":\"info\",\"msg\":\"load local db from snapshot\",\"time\":\"2024-06-02T14:11:44-03:00\"}\n",
      "{\"action\":\"\",\"id\":\"2-3-1716906483472\",\"last-index\":3,\"last-term\":2,\"level\":\"info\",\"msg\":\"snapshot restore progress\",\"percent-complete\":\"[100.00]%\",\"read-bytes\":20109,\"size-in-bytes\":20109,\"time\":\"2024-06-02T14:11:44-03:00\"}\n",
      "{\"id\":\"2-3-1716906483472\",\"last-index\":3,\"last-term\":2,\"level\":\"info\",\"msg\":\"restored from snapshot\",\"size-in-bytes\":20109,\"time\":\"2024-06-02T14:11:44-03:00\"}\n",
      "{\"action\":\"raft\",\"index\":18,\"level\":\"info\",\"msg\":\"raft initial configuration\",\"servers\":\"[[{Suffrage:Voter ID:Embedded_at_8079 Address:192.168.28.99:51558}]]\",\"time\":\"2024-06-02T14:11:44-03:00\"}\n",
      "{\"action\":\"raft\",\"follower\":{},\"leader-address\":\"\",\"leader-id\":\"\",\"level\":\"info\",\"msg\":\"raft entering follower state\",\"time\":\"2024-06-02T14:11:44-03:00\"}\n",
      "{\"last_snapshot_index\":3,\"last_store_applied_index\":3,\"last_store_log_applied_index\":41,\"level\":\"info\",\"msg\":\"raft node constructed\",\"raft_applied_index\":3,\"raft_last_index\":41,\"time\":\"2024-06-02T14:11:44-03:00\"}\n",
      "{\"action\":\"bootstrap\",\"error\":\"could not join a cluster from [192.168.28.99:60843]\",\"level\":\"warning\",\"msg\":\"failed to join cluster, will notify next if voter\",\"servers\":[\"192.168.28.99:60843\"],\"time\":\"2024-06-02T14:11:46-03:00\",\"voter\":true}\n",
      "{\"action\":\"bootstrap\",\"candidates\":[{\"Suffrage\":0,\"ID\":\"Embedded_at_8079\",\"Address\":\"192.168.28.99:60843\"}],\"level\":\"info\",\"msg\":\"starting cluster bootstrapping\",\"time\":\"2024-06-02T14:11:46-03:00\"}\n",
      "{\"action\":\"bootstrap\",\"error\":\"bootstrap only works on new clusters\",\"level\":\"error\",\"msg\":\"could not bootstrapping cluster\",\"time\":\"2024-06-02T14:11:46-03:00\"}\n",
      "{\"action\":\"bootstrap\",\"level\":\"info\",\"msg\":\"notified peers this node is ready to join as voter\",\"servers\":[\"192.168.28.99:60843\"],\"time\":\"2024-06-02T14:11:46-03:00\"}\n",
      "{\"action\":\"raft\",\"last-leader-addr\":\"\",\"last-leader-id\":\"\",\"level\":\"warning\",\"msg\":\"raft heartbeat timeout reached, starting election\",\"time\":\"2024-06-02T14:11:46-03:00\"}\n",
      "{\"action\":\"raft\",\"level\":\"info\",\"msg\":\"raft entering candidate state\",\"node\":{},\"term\":10,\"time\":\"2024-06-02T14:11:46-03:00\"}\n",
      "{\"action\":\"raft\",\"level\":\"info\",\"msg\":\"raft election won\",\"tally\":1,\"term\":10,\"time\":\"2024-06-02T14:11:46-03:00\"}\n",
      "{\"action\":\"raft\",\"leader\":{},\"level\":\"info\",\"msg\":\"raft entering leader state\",\"time\":\"2024-06-02T14:11:46-03:00\"}\n",
      "{\"level\":\"info\",\"msg\":\"reload local db: update schema ...\",\"time\":\"2024-06-02T14:11:46-03:00\"}\n",
      "{\"index\":\"Question\",\"level\":\"info\",\"msg\":\"restore local index\",\"time\":\"2024-06-02T14:11:46-03:00\"}\n",
      "{\"action\":\"lsm_recover_from_active_wal\",\"class\":\"Question\",\"index\":\"question\",\"level\":\"warning\",\"msg\":\"active write-ahead-log found. Did weaviate crash prior to this? Trying to recover...\",\"path\":\"/Users/dudanogueira/.local/share/weaviate/question/Lq9BSQPRjz8n/lsm/objects/segment-1717111107470149000\",\"shard\":\"Lq9BSQPRjz8n\",\"time\":\"2024-06-02T14:11:46-03:00\"}\n",
      "{\"action\":\"lsm_recover_from_active_wal\",\"class\":\"Question\",\"index\":\"question\",\"level\":\"warning\",\"msg\":\"active write-ahead-log found. Did weaviate crash prior to this? Trying to recover...\",\"path\":\"/Users/dudanogueira/.local/share/weaviate/question/Lq9BSQPRjz8n/lsm/property_question/segment-1717111107470735000\",\"shard\":\"Lq9BSQPRjz8n\",\"time\":\"2024-06-02T14:11:46-03:00\"}\n",
      "{\"action\":\"lsm_recover_from_active_wal\",\"class\":\"Question\",\"index\":\"question\",\"level\":\"warning\",\"msg\":\"active write-ahead-log found. Did weaviate crash prior to this? Trying to recover...\",\"path\":\"/Users/dudanogueira/.local/share/weaviate/question/Lq9BSQPRjz8n/lsm/property_question_searchable/segment-1717111107471063000\",\"shard\":\"Lq9BSQPRjz8n\",\"time\":\"2024-06-02T14:11:46-03:00\"}\n",
      "{\"action\":\"lsm_recover_from_active_wal\",\"class\":\"Question\",\"index\":\"question\",\"level\":\"warning\",\"msg\":\"active write-ahead-log found. Did weaviate crash prior to this? Trying to recover...\",\"path\":\"/Users/dudanogueira/.local/share/weaviate/question/Lq9BSQPRjz8n/lsm/property_answer/segment-1717111107471345000\",\"shard\":\"Lq9BSQPRjz8n\",\"time\":\"2024-06-02T14:11:46-03:00\"}\n",
      "{\"action\":\"lsm_recover_from_active_wal\",\"class\":\"Question\",\"index\":\"question\",\"level\":\"warning\",\"msg\":\"active write-ahead-log found. Did weaviate crash prior to this? Trying to recover...\",\"path\":\"/Users/dudanogueira/.local/share/weaviate/question/Lq9BSQPRjz8n/lsm/property_answer_searchable/segment-1717111107471669000\",\"shard\":\"Lq9BSQPRjz8n\",\"time\":\"2024-06-02T14:11:46-03:00\"}\n",
      "{\"action\":\"lsm_recover_from_active_wal\",\"class\":\"Question\",\"index\":\"question\",\"level\":\"warning\",\"msg\":\"active write-ahead-log found. Did weaviate crash prior to this? Trying to recover...\",\"path\":\"/Users/dudanogueira/.local/share/weaviate/question/Lq9BSQPRjz8n/lsm/property__id/segment-1717111107471994000\",\"shard\":\"Lq9BSQPRjz8n\",\"time\":\"2024-06-02T14:11:46-03:00\"}\n",
      "{\"level\":\"info\",\"msg\":\"Completed loading shard question_Lq9BSQPRjz8n in 13.248625ms\",\"time\":\"2024-06-02T14:11:46-03:00\"}\n",
      "{\"index\":\"OllamaCollection\",\"level\":\"info\",\"msg\":\"restore local index\",\"time\":\"2024-06-02T14:11:46-03:00\"}\n",
      "{\"action\":\"hnsw_vector_cache_prefill\",\"count\":3000,\"index_id\":\"main\",\"level\":\"info\",\"limit\":1000000000000,\"msg\":\"prefilled vector cache\",\"time\":\"2024-06-02T14:11:46-03:00\",\"took\":25147333}\n",
      "{\"action\":\"lsm_recover_from_active_wal\",\"class\":\"OllamaCollection\",\"index\":\"ollamacollection\",\"level\":\"warning\",\"msg\":\"active write-ahead-log found. Did weaviate crash prior to this? Trying to recover...\",\"path\":\"/Users/dudanogueira/.local/share/weaviate/ollamacollection/wLgUWG5NS3P7/lsm/objects/segment-1717111189991204000\",\"shard\":\"wLgUWG5NS3P7\",\"time\":\"2024-06-02T14:11:46-03:00\"}\n",
      "{\"action\":\"lsm_recover_from_active_wal\",\"class\":\"OllamaCollection\",\"index\":\"ollamacollection\",\"level\":\"warning\",\"msg\":\"active write-ahead-log found. Did weaviate crash prior to this? Trying to recover...\",\"path\":\"/Users/dudanogueira/.local/share/weaviate/ollamacollection/wLgUWG5NS3P7/lsm/property_text/segment-1717111190016642000\",\"shard\":\"wLgUWG5NS3P7\",\"time\":\"2024-06-02T14:11:46-03:00\"}\n",
      "{\"action\":\"lsm_recover_from_active_wal\",\"class\":\"OllamaCollection\",\"index\":\"ollamacollection\",\"level\":\"warning\",\"msg\":\"active write-ahead-log found. Did weaviate crash prior to this? Trying to recover...\",\"path\":\"/Users/dudanogueira/.local/share/weaviate/ollamacollection/wLgUWG5NS3P7/lsm/property_text_searchable/segment-1717111190029315000\",\"shard\":\"wLgUWG5NS3P7\",\"time\":\"2024-06-02T14:11:46-03:00\"}\n",
      "{\"action\":\"lsm_recover_from_active_wal\",\"class\":\"OllamaCollection\",\"index\":\"ollamacollection\",\"level\":\"warning\",\"msg\":\"active write-ahead-log found. Did weaviate crash prior to this? Trying to recover...\",\"path\":\"/Users/dudanogueira/.local/share/weaviate/ollamacollection/wLgUWG5NS3P7/lsm/property__id/segment-1717111190005484000\",\"shard\":\"wLgUWG5NS3P7\",\"time\":\"2024-06-02T14:11:46-03:00\"}\n",
      "{\"level\":\"info\",\"msg\":\"Completed loading shard ollamacollection_wLgUWG5NS3P7 in 6.095625ms\",\"time\":\"2024-06-02T14:11:46-03:00\"}\n",
      "{\"action\":\"hnsw_vector_cache_prefill\",\"count\":3000,\"index_id\":\"main\",\"level\":\"info\",\"limit\":1000000000000,\"msg\":\"prefilled vector cache\",\"time\":\"2024-06-02T14:11:46-03:00\",\"took\":84375}\n",
      "{\"level\":\"warning\",\"msg\":\"Multiple vector spaces are present, GraphQL Explore and REST API list objects endpoint module include params has been disabled as a result.\",\"time\":\"2024-06-02T14:11:46-03:00\"}\n",
      "{\"action\":\"grpc_startup\",\"level\":\"info\",\"msg\":\"grpc server listening at [::]:50050\",\"time\":\"2024-06-02T14:11:46-03:00\"}\n",
      "{\"address\":\"192.168.28.99:60843\",\"level\":\"info\",\"msg\":\"current Leader\",\"time\":\"2024-06-02T14:11:46-03:00\"}\n",
      "{\"action\":\"restapi_management\",\"level\":\"info\",\"msg\":\"Serving weaviate at http://127.0.0.1:8079\",\"time\":\"2024-06-02T14:11:46-03:00\"}\n"
     ]
    },
    {
     "data": {
      "text/plain": [
       "True"
      ]
     },
     "execution_count": 1,
     "metadata": {},
     "output_type": "execute_result"
    },
    {
     "name": "stderr",
     "output_type": "stream",
     "text": [
      "{\"action\":\"bootstrap\",\"level\":\"info\",\"msg\":\"node reporting ready, node has probably recovered cluster from raft config. Exiting bootstrap process\",\"time\":\"2024-06-02T14:11:47-03:00\"}\n",
      "{\"action\":\"telemetry_push\",\"level\":\"info\",\"msg\":\"telemetry started\",\"payload\":\"\\u0026{MachineID:f0ed3f27-d1ec-46a4-8ffd-9f8813a6e1a4 Type:INIT Version:1.25.2 NumObjects:0 OS:darwin Arch:arm64 UsedModules:[generative-ollama generative-openai text2vec-ollama text2vec-openai]}\",\"time\":\"2024-06-02T14:11:49-03:00\"}\n"
     ]
    }
   ],
   "source": [
    "import weaviate\n",
    "client = weaviate.connect_to_embedded(\n",
    "    version=\"1.25.2\"\n",
    ")\n",
    "client.is_ready()"
   ]
  },
  {
   "cell_type": "code",
   "execution_count": 2,
   "metadata": {},
   "outputs": [],
   "source": [
    "from weaviate.classes.config import Configure\n",
    "\n",
    "client.collections.delete(\"CollectionWithAutoMTEnabled\")\n",
    "multi_collection = client.collections.create(\n",
    "    name=\"CollectionWithAutoMTEnabled\",\n",
    "    # Enable automatic tenant creation\n",
    "    multi_tenancy_config=Configure.multi_tenancy(\n",
    "        enabled=True, auto_tenant_creation=True\n",
    "    ),\n",
    ")"
   ]
  },
  {
   "cell_type": "code",
   "execution_count": 3,
   "metadata": {},
   "outputs": [
    {
     "name": "stderr",
     "output_type": "stream",
     "text": [
      "{\"level\":\"warning\",\"msg\":\"prop len tracker file /Users/dudanogueira/.local/share/weaviate/collectionwithautomtenabled/tenant2/proplengths does not exist, creating new tracker\",\"time\":\"2024-06-02T14:12:08-03:00\"}\n",
      "{\"level\":\"warning\",\"msg\":\"prop len tracker file /Users/dudanogueira/.local/share/weaviate/collectionwithautomtenabled/tenant1/proplengths does not exist, creating new tracker\",\"time\":\"2024-06-02T14:12:08-03:00\"}\n",
      "{\"level\":\"info\",\"msg\":\"Created shard collectionwithautomtenabled_tenant2 in 1.988917ms\",\"time\":\"2024-06-02T14:12:08-03:00\"}\n",
      "{\"level\":\"info\",\"msg\":\"Created shard collectionwithautomtenabled_tenant1 in 2.020584ms\",\"time\":\"2024-06-02T14:12:08-03:00\"}\n",
      "{\"action\":\"hnsw_vector_cache_prefill\",\"count\":1000,\"index_id\":\"main\",\"level\":\"info\",\"limit\":1000000000000,\"msg\":\"prefilled vector cache\",\"time\":\"2024-06-02T14:12:08-03:00\",\"took\":53334}\n",
      "{\"action\":\"hnsw_vector_cache_prefill\",\"count\":1000,\"index_id\":\"main\",\"level\":\"info\",\"limit\":1000000000000,\"msg\":\"prefilled vector cache\",\"time\":\"2024-06-02T14:12:08-03:00\",\"took\":39875}\n"
     ]
    }
   ],
   "source": [
    "# lets import data in batch to newly created tenants\n",
    "\n",
    "data = [\n",
    "    {\"tenant\": \"tenant1\", \"text\": \"Text from batch for tenant1\"},\n",
    "    {\"tenant\": \"tenant2\", \"text\": \"Text from batch for tenant2\"},\n",
    "]\n",
    "\n",
    "with client.batch.fixed_size(batch_size=200) as batch:\n",
    "    for obj in data:\n",
    "        properties = {\n",
    "            \"text\": obj[\"text\"],\n",
    "        }\n",
    "        batch.add_object(\n",
    "            collection=\"CollectionWithAutoMTEnabled\",\n",
    "            properties=properties,\n",
    "            tenant=obj[\"tenant\"],\n",
    "        )"
   ]
  },
  {
   "cell_type": "code",
   "execution_count": 4,
   "metadata": {},
   "outputs": [
    {
     "data": {
      "text/plain": [
       "{'text': 'Text from batch for tenant1'}"
      ]
     },
     "execution_count": 4,
     "metadata": {},
     "output_type": "execute_result"
    }
   ],
   "source": [
    "tenant1 = client.collections.get(\"CollectionWithAutoMTEnabled\").with_tenant(\"tenant1\")\n",
    "tenant1.query.fetch_objects().objects[0].properties"
   ]
  },
  {
   "cell_type": "code",
   "execution_count": 5,
   "metadata": {},
   "outputs": [
    {
     "data": {
      "text/plain": [
       "{'text': 'Text from batch for tenant2'}"
      ]
     },
     "execution_count": 5,
     "metadata": {},
     "output_type": "execute_result"
    }
   ],
   "source": [
    "tenant1 = client.collections.get(\"CollectionWithAutoMTEnabled\").with_tenant(\"tenant2\")\n",
    "tenant1.query.fetch_objects().objects[0].properties"
   ]
  },
  {
   "cell_type": "code",
   "execution_count": 6,
   "metadata": {},
   "outputs": [
    {
     "data": {
      "text/plain": [
       "{'tenant1': Tenant(name='tenant1', activityStatus=<TenantActivityStatus.HOT: 'HOT'>),\n",
       " 'tenant2': Tenant(name='tenant2', activityStatus=<TenantActivityStatus.HOT: 'HOT'>)}"
      ]
     },
     "execution_count": 6,
     "metadata": {},
     "output_type": "execute_result"
    }
   ],
   "source": [
    "client.collections.get(\"CollectionWithAutoMTEnabled\").tenants.get()"
   ]
  },
  {
   "cell_type": "markdown",
   "metadata": {},
   "source": [
    "**Note:** introduced only in 1.25.2"
   ]
  },
  {
   "cell_type": "code",
   "execution_count": 7,
   "metadata": {},
   "outputs": [
    {
     "name": "stderr",
     "output_type": "stream",
     "text": [
      "{\"level\":\"warning\",\"msg\":\"prop len tracker file /Users/dudanogueira/.local/share/weaviate/collectionwithautomtenabled/tenant3/proplengths does not exist, creating new tracker\",\"time\":\"2024-06-02T14:13:30-03:00\"}\n",
      "{\"level\":\"info\",\"msg\":\"Created shard collectionwithautomtenabled_tenant3 in 1.964083ms\",\"time\":\"2024-06-02T14:13:30-03:00\"}\n",
      "{\"action\":\"hnsw_vector_cache_prefill\",\"count\":1000,\"index_id\":\"main\",\"level\":\"info\",\"limit\":1000000000000,\"msg\":\"prefilled vector cache\",\"time\":\"2024-06-02T14:13:30-03:00\",\"took\":53417}\n"
     ]
    },
    {
     "data": {
      "text/plain": [
       "UUID('278b9e23-9506-424c-87aa-1aebf7f633e1')"
      ]
     },
     "execution_count": 7,
     "metadata": {},
     "output_type": "execute_result"
    }
   ],
   "source": [
    "# create tenant also from single inserts\n",
    "tenant3 = client.collections.get(\"CollectionWithAutoMTEnabled\").with_tenant(\"tenant3\")\n",
    "tenant3.data.insert({\"text\": \"This a single insert for tenant 3\"})"
   ]
  },
  {
   "cell_type": "code",
   "execution_count": 8,
   "metadata": {},
   "outputs": [
    {
     "data": {
      "text/plain": [
       "{'tenant1': Tenant(name='tenant1', activityStatus=<TenantActivityStatus.HOT: 'HOT'>),\n",
       " 'tenant2': Tenant(name='tenant2', activityStatus=<TenantActivityStatus.HOT: 'HOT'>),\n",
       " 'tenant3': Tenant(name='tenant3', activityStatus=<TenantActivityStatus.HOT: 'HOT'>)}"
      ]
     },
     "execution_count": 8,
     "metadata": {},
     "output_type": "execute_result"
    }
   ],
   "source": [
    "client.collections.get(\"CollectionWithAutoMTEnabled\").tenants.get()"
   ]
  }
 ],
 "metadata": {
  "kernelspec": {
   "display_name": "venv",
   "language": "python",
   "name": "python3"
  },
  "language_info": {
   "codemirror_mode": {
    "name": "ipython",
    "version": 3
   },
   "file_extension": ".py",
   "mimetype": "text/x-python",
   "name": "python",
   "nbconvert_exporter": "python",
   "pygments_lexer": "ipython3",
   "version": "3.11.8"
  }
 },
 "nbformat": 4,
 "nbformat_minor": 2
}
