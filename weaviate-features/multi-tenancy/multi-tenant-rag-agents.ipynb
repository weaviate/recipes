{
 "cells": [
  {
   "cell_type": "markdown",
   "id": "2ee86098",
   "metadata": {},
   "source": [
    "# Multi-Tenant RAG Agents with Ollama and Weaviate\n",
    "\n",
    "This tutorial will demonstrate how to use Weaviate's multi-tenancy to efficiently handle multiple knowledge sources in RAG agents!"
   ]
  },
  {
   "cell_type": "markdown",
   "id": "13e6bed0",
   "metadata": {},
   "source": [
    "# Create Multi-Tenant `KnowledgeSources`"
   ]
  },
  {
   "cell_type": "code",
   "execution_count": 15,
   "id": "07b34035",
   "metadata": {},
   "outputs": [],
   "source": [
    "import weaviate\n",
    "\n",
    "from weaviate.classes.init import Auth\n",
    "\n",
    "# Connect to Weaviate Cloud\n",
    "weaviate_client = weaviate.connect_to_weaviate_cloud(\n",
    "    cluster_url=\"WCS_URL\",\n",
    "    auth_credentials=Auth.api_key(\"WCS_API\"),\n",
    ")"
   ]
  },
  {
   "cell_type": "code",
   "execution_count": 11,
   "id": "919324a3",
   "metadata": {},
   "outputs": [],
   "source": [
    "weaviate_client.collections.delete(\"KnowledgeSources\")"
   ]
  },
  {
   "cell_type": "code",
   "execution_count": 12,
   "id": "b29e2e0a",
   "metadata": {},
   "outputs": [],
   "source": [
    "from weaviate.classes.config import Configure\n",
    "from weaviate.classes.tenants import Tenant\n",
    "\n",
    "knowledge_sources = weaviate_client.collections.create(\n",
    "    name=\"KnowledgeSources\",\n",
    "    multi_tenancy_config=Configure.multi_tenancy(\n",
    "        enabled=True,\n",
    "        auto_tenant_creation=True\n",
    "    )\n",
    ")\n",
    "\n",
    "knowledge_sources.tenants.create(\n",
    "    tenants=[\n",
    "        Tenant(name=\"DSPyCode\"),\n",
    "        Tenant(name=\"DSPyDocs\")\n",
    "    ]\n",
    ")"
   ]
  },
  {
   "cell_type": "code",
   "execution_count": 16,
   "id": "d1fc17b9",
   "metadata": {},
   "outputs": [
    {
     "name": "stdout",
     "output_type": "stream",
     "text": [
      "{'DSPyDocs': Tenant(name='DSPyDocs', activityStatusInternal=<TenantActivityStatus.ACTIVE: 'ACTIVE'>, activityStatus=<_TenantActivistatusServerValues.HOT: 'HOT'>), 'DSPyCode': Tenant(name='DSPyCode', activityStatusInternal=<TenantActivityStatus.ACTIVE: 'ACTIVE'>, activityStatus=<_TenantActivistatusServerValues.HOT: 'HOT'>)}\n"
     ]
    }
   ],
   "source": [
    "tenants = knowledge_sources.tenants.get()\n",
    "\n",
    "print(tenants)"
   ]
  },
  {
   "cell_type": "markdown",
   "id": "74546bb4",
   "metadata": {},
   "source": [
    "# Import Data"
   ]
  },
  {
   "cell_type": "code",
   "execution_count": 6,
   "id": "0a11b8c8",
   "metadata": {},
   "outputs": [],
   "source": [
    "from datasets import load_dataset\n",
    "\n",
    "ds = load_dataset(\"weaviate/chunked_dspy_code\")"
   ]
  },
  {
   "cell_type": "code",
   "execution_count": 7,
   "id": "06d4746a",
   "metadata": {},
   "outputs": [
    {
     "data": {
      "text/plain": [
       "{'summary': 'The document begins with importing necessary libraries and modules, followed by the definition of the DummyLM class, which is a dummy language model intended for unit testing purposes.',\n",
       " 'content': 'import random\\nimport re\\nfrom typing import Union\\n\\nimport numpy as np\\n\\nfrom dsp.modules import LM\\nfrom dsp.utils.utils import dotdict\\n\\n\\nclass DummyLM(LM):\\n    \"\"\"Dummy language model for unit testing purposes.\"\"\"',\n",
       " 'id': '001e04e2-6c05-4ce4-bff6-37bd04c5be26'}"
      ]
     },
     "execution_count": 7,
     "metadata": {},
     "output_type": "execute_result"
    }
   ],
   "source": [
    "ds[\"train\"][0]"
   ]
  },
  {
   "cell_type": "code",
   "execution_count": 13,
   "id": "3222cb9c",
   "metadata": {},
   "outputs": [],
   "source": [
    "for row in ds[\"train\"]:\n",
    "    pass"
   ]
  },
  {
   "cell_type": "markdown",
   "id": "f5317129",
   "metadata": {},
   "source": [
    "# Build Agent"
   ]
  },
  {
   "cell_type": "code",
   "execution_count": 19,
   "id": "f65379f9",
   "metadata": {},
   "outputs": [],
   "source": [
    "from typing import Dict\n",
    "\n",
    "def move_data(collection_use_counter: Dict, move_to_hot_threshold: int) -> None:\n",
    "    for collection in collection_use_counter.keys():\n",
    "        if collection_use_counter[collection_name] > move_to_hot_threshold:\n",
    "            pass\n",
    "            # move collection to hot\n",
    "    return"
   ]
  }
 ],
 "metadata": {
  "kernelspec": {
   "display_name": "weaviate-agents-0",
   "language": "python",
   "name": "weaviat-agents"
  },
  "language_info": {
   "codemirror_mode": {
    "name": "ipython",
    "version": 3
   },
   "file_extension": ".py",
   "mimetype": "text/x-python",
   "name": "python",
   "nbconvert_exporter": "python",
   "pygments_lexer": "ipython3",
   "version": "3.10.10"
  }
 },
 "nbformat": 4,
 "nbformat_minor": 5
}
