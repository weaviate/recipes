{
 "cells": [
  {
   "cell_type": "markdown",
   "id": "846ae3dd",
   "metadata": {},
   "source": [
    "# Improve Weaviate Interoperability\n",
    "\n",
    "We want to make it easier for Weaviate developers to easily move their data between Weaviate and other data formats such as the HuggingFace Hub or JSON.\n",
    "\n",
    "Down the road, I think this line of thinking is also relevant for adding Unity Catalog support with Weaviate."
   ]
  },
  {
   "cell_type": "markdown",
   "id": "810799fb",
   "metadata": {},
   "source": [
    "# HuggingFace Hub\n",
    "\n",
    "### Load Weaviate Collection from a HuggingFace Dataset\n",
    "\n",
    "```python\n",
    "code_collection = weaviate_client.collections.from_hub(\n",
    "    collection_name=\"Code\",\n",
    "    hub_path=\"weaviate/dspy_code\"\n",
    "    keys=[\"content\", \"summary\"] # default all\n",
    ")\n",
    "```\n",
    "\n",
    "\n",
    "\n",
    "### Load Weaviate Collection from multiple HuggingFace Datasets\n",
    "\n",
    "```python\n",
    "knowledge_base_collection = weaviate_client.collections.from_hub(\n",
    "    hub_paths=[\"weaviate/dspy_code\", \"weaviate/dspy_docs\"],\n",
    "    keys=[\"content\", \"summary\"] # default all\n",
    ")\n",
    "```\n",
    "\n",
    "### Weaviate Collection to HuggingFace Hub\n",
    "\n",
    "```python\n",
    "code_collection.to_hub(\n",
    "    repo_id=\"CShorten/KnowledgeBase\",\n",
    "    hf_token=\"hf_foobar\",\n",
    "    keys=[\"content\", \"summary\"] # default all\n",
    ")\n",
    "```\n",
    "\n",
    "# JSON\n",
    "\n",
    "### Load Weaviate Collection from a JSON file\n",
    "\n",
    "```python\n",
    "code_collection = weaviate_client.collections.from_json(\n",
    "    collection_name=\"Code\",\n",
    "    filepath=\"dspy_code.json\"\n",
    ")\n",
    "```\n",
    "\n",
    "### Load Weaviate Collection from JSON files\n",
    "\n",
    "```python\n",
    "knowledge_base_collection = weaviate_client.collections.from_jsons(\n",
    "    collection_name=\"KnowledgeBase\",\n",
    "    filepaths=[\"dspy_code.json\", \"dspy_docs.json\"],\n",
    "    keys=[\"content\", \"summary\"] # default all\n",
    ")\n",
    "```\n",
    "\n",
    "### Weaviate Collection to JSON file\n",
    "\n",
    "```python\n",
    "code.to_json(\n",
    "    filepath=\"dspy_code.json\",\n",
    "    keys=[\"content\", \"summary\"] # default all\n",
    ")\n",
    "```\n",
    "\n",
    "\n",
    "# Other Ideas\n",
    "\n",
    "### Merge Weaviate Collections\n",
    "```python\n",
    "knowledge_base_collection = weaviate_client.collections.merge_collections(\n",
    "    from_collections=[\"Code\", \"Docs\"],\n",
    "    to_collection=[\"KnowledgeBase\"],\n",
    "    keys=[\"content\", \"summary\"]\n",
    ")\n",
    "```\n",
    "\n",
    "### Load Weaviate Collection from a List of Dictionaries in memory\n",
    "\n",
    "```python\n",
    "code_collection = weaviate_client.collections.from_list(\n",
    "    collection_name=\"Code\",\n",
    "    data=data\n",
    ")\n",
    "```"
   ]
  },
  {
   "cell_type": "markdown",
   "id": "5f4e5029",
   "metadata": {},
   "source": [
    "# Save Weaviate Collection to a JSON File"
   ]
  },
  {
   "cell_type": "code",
   "execution_count": 28,
   "id": "da88f5c4",
   "metadata": {},
   "outputs": [],
   "source": [
    "import weaviate\n",
    "\n",
    "weaviate_client = weaviate.connect_to_local()\n",
    "\n",
    "collection = weaviate_client.collections.get(\"Code\")\n",
    "\n",
    "data = []\n",
    "\n",
    "for item in collection.iterator():\n",
    "    values_dictionary = {}\n",
    "    values_dictionary[\"uuid\"] = str(item.uuid)\n",
    "    for key in item.properties.keys():\n",
    "        values_dictionary[key] = item.properties[key]\n",
    "    data.append(values_dictionary)\n",
    "\n",
    "import json\n",
    "\n",
    "my_collection_name=\"dspy_code.json\"\n",
    "\n",
    "with open(my_collection_name, \"w\") as json_file:\n",
    "    json.dump(data, json_file, indent=4)"
   ]
  },
  {
   "cell_type": "markdown",
   "id": "886fcc46",
   "metadata": {},
   "source": [
    "# Save Weaviate Collection to HuggingFace Hub"
   ]
  },
  {
   "cell_type": "code",
   "execution_count": 37,
   "id": "41952cf9",
   "metadata": {},
   "outputs": [
    {
     "data": {
      "text/plain": [
       "CommitInfo(commit_url='https://huggingface.co/datasets/CShorten/knowledge_base/commit/e017d5771672ec0e0e5460d0bc80587aea7d72e2', commit_message='Upload dspy_knowledge_base.json with huggingface_hub', commit_description='', oid='e017d5771672ec0e0e5460d0bc80587aea7d72e2', pr_url=None, pr_revision=None, pr_num=None)"
      ]
     },
     "execution_count": 37,
     "metadata": {},
     "output_type": "execute_result"
    }
   ],
   "source": [
    "## Again, get data out of Weaviate\n",
    "\n",
    "import weaviate\n",
    "\n",
    "weaviate_client = weaviate.connect_to_local()\n",
    "\n",
    "collection = weaviate_client.collections.get(\"KnowledgeBase\")\n",
    "\n",
    "data = []\n",
    "\n",
    "for item in collection.iterator():\n",
    "    values_dictionary = {}\n",
    "    values_dictionary[\"uuid\"] = str(item.uuid)\n",
    "    for key in item.properties.keys():\n",
    "        values_dictionary[key] = item.properties[key]\n",
    "    data.append(values_dictionary)\n",
    "\n",
    "## Save to File\n",
    "    \n",
    "import json\n",
    "\n",
    "my_collection_name=\"dspy_knowledge_base.json\"\n",
    "\n",
    "with open(my_collection_name, \"w\") as json_file:\n",
    "    json.dump(data, json_file, indent=4)\n",
    "    \n",
    "## Import File to HF Hub\n",
    "from huggingface_hub import HfApi\n",
    "\n",
    "hf_api = HfApi(\n",
    "    endpoint=\"https://huggingface.co\",\n",
    "    token=\"hf_foobar\",\n",
    ")\n",
    "\n",
    "hf_api.create_repo(\n",
    "    repo_id=\"knowledge_base\",\n",
    "    token=\"hf_foobar\",\n",
    "    repo_type=\"dataset\"\n",
    ")\n",
    "\n",
    "hf_api.upload_file(\n",
    "    path_or_fileobj=\"dspy_knowledge_base.json\",\n",
    "    path_in_repo=\"dspy_knowledge_base.json\",\n",
    "    repo_id=\"CShorten/knowledge_base\",\n",
    "    repo_type=\"dataset\"\n",
    ")"
   ]
  },
  {
   "cell_type": "markdown",
   "id": "782f4f8c",
   "metadata": {},
   "source": [
    "# `weaviate_client.collections.from_jsons`"
   ]
  },
  {
   "cell_type": "code",
   "execution_count": 12,
   "id": "c96e7111",
   "metadata": {},
   "outputs": [],
   "source": [
    "from typing import List\n",
    "import json\n",
    "\n",
    "def read_json(filepath: str) -> List:\n",
    "    with open(filepath, \"r\") as opened_file:\n",
    "        file_data = json.load(opened_file)\n",
    "    return file_data\n",
    "\n",
    "dspy_docs = read_json(\"dspy_docs.json\")\n",
    "dspy_code = read_json(\"dspy_code.json\")"
   ]
  },
  {
   "cell_type": "code",
   "execution_count": 13,
   "id": "93f1b30a",
   "metadata": {},
   "outputs": [
    {
     "data": {
      "text/plain": [
       "{'id': '002b20a8-031f-4a13-b7d7-219090c3352e',\n",
       " 'content': 'link: {\"type\": \"generated-index\", \"description\": \"Retrieval Models in DSPy\"}',\n",
       " 'summary': 'This provides a link to a generated index with a description of Retrieval Models in DSPy, offering additional context and resources.'}"
      ]
     },
     "execution_count": 13,
     "metadata": {},
     "output_type": "execute_result"
    }
   ],
   "source": [
    "dspy_docs[0]"
   ]
  },
  {
   "cell_type": "code",
   "execution_count": 14,
   "id": "9aa3435a",
   "metadata": {},
   "outputs": [
    {
     "data": {
      "text/plain": [
       "{'id': '001e04e2-6c05-4ce4-bff6-37bd04c5be26',\n",
       " 'content': 'import random\\nimport re\\nfrom typing import Union\\n\\nimport numpy as np\\n\\nfrom dsp.modules import LM\\nfrom dsp.utils.utils import dotdict\\n\\n\\nclass DummyLM(LM):\\n    \"\"\"Dummy language model for unit testing purposes.\"\"\"',\n",
       " 'summary': 'The document begins with importing necessary libraries and modules, followed by the definition of the DummyLM class, which is a dummy language model intended for unit testing purposes.'}"
      ]
     },
     "execution_count": 14,
     "metadata": {},
     "output_type": "execute_result"
    }
   ],
   "source": [
    "dspy_code[0]"
   ]
  },
  {
   "cell_type": "code",
   "execution_count": 24,
   "id": "6e4cab76",
   "metadata": {},
   "outputs": [],
   "source": [
    "'''\n",
    "Also maybe an idea to add an \"Are you sure?\" interface to this\n",
    "'''\n",
    "weaviate_client.collections.delete(\"KnowledgeBase\")"
   ]
  },
  {
   "cell_type": "code",
   "execution_count": 25,
   "id": "24b3d9aa",
   "metadata": {},
   "outputs": [],
   "source": [
    "import weaviate\n",
    "import weaviate.classes.config as wvcc\n",
    "\n",
    "weaviate_client = weaviate.connect_to_local()\n",
    "\n",
    "knowledge_base_collection = weaviate_client.collections.create(\n",
    "    name=\"KnowledgeBase\",\n",
    "    vectorizer_config=wvcc.Configure.Vectorizer.text2vec_cohere(\n",
    "        model=\"embed-english-v3.0\"\n",
    "    ),\n",
    "    properties=[\n",
    "        wvcc.Property(name=\"content\", data_type=wvcc.DataType.TEXT),\n",
    "        wvcc.Property(name=\"summary\", data_type=wvcc.DataType.TEXT),\n",
    "        wvcc.Property(name=\"_source\", data_type=wvcc.DataType.TEXT) # `_property_name` for internal properties?\n",
    "    ]\n",
    ")"
   ]
  },
  {
   "cell_type": "code",
   "execution_count": 26,
   "id": "949aa7fe",
   "metadata": {},
   "outputs": [],
   "source": [
    "from weaviate.util import get_valid_uuid\n",
    "from uuid import uuid4\n",
    "\n",
    "for obj in dspy_docs:\n",
    "    uuid = get_valid_uuid(uuid4())\n",
    "    dspy_collection.data.insert(\n",
    "        properties={\n",
    "            \"content\": obj[\"content\"],\n",
    "            \"summary\": obj[\"summary\"],\n",
    "            \"_source\": \"Docs\"\n",
    "        },\n",
    "        uuid=uuid\n",
    "    )\n",
    "\n",
    "for obj in dspy_code:\n",
    "    uuid = get_valid_uuid(uuid4())\n",
    "    dspy_collection.data.insert(\n",
    "        properties={\n",
    "            \"content\": obj[\"content\"],\n",
    "            \"summary\": obj[\"summary\"],\n",
    "            \"_source\": \"Code\"\n",
    "        },\n",
    "        uuid=uuid\n",
    "    )"
   ]
  },
  {
   "cell_type": "code",
   "execution_count": 27,
   "id": "1a8bd6fd",
   "metadata": {},
   "outputs": [
    {
     "name": "stdout",
     "output_type": "stream",
     "text": [
      "1660 objects in the Weaviate \u001b[92m`KnowledgeBase`\u001b[0m collection\n"
     ]
    }
   ],
   "source": [
    "response = dspy_collection.aggregate.over_all(total_count=True)\n",
    "print(f\"{response.total_count} objects in the Weaviate \\033[92m`KnowledgeBase`\\033[0m collection\")"
   ]
  }
 ],
 "metadata": {
  "kernelspec": {
   "display_name": "Python (weaviate-agents)",
   "language": "python",
   "name": "dspy-dev"
  },
  "language_info": {
   "codemirror_mode": {
    "name": "ipython",
    "version": 3
   },
   "file_extension": ".py",
   "mimetype": "text/x-python",
   "name": "python",
   "nbconvert_exporter": "python",
   "pygments_lexer": "ipython3",
   "version": "3.10.10"
  }
 },
 "nbformat": 4,
 "nbformat_minor": 5
}
