{
  "cells": [
    {
      "cell_type": "markdown",
      "metadata": {
        "id": "YTHkv4VjC3FD"
      },
      "source": [
        "# Multi-vector embeddings with Reasoning-ModernColBERT\n",
        "This recipe explores how to use [LightOn's Reason-ModernColBERT](https://huggingface.co/lightonai/Reason-ModernColBERT) model to generate multi-vector embeddings for text data and use them in Weaviate for **reasoning-intensive retrieval** tasks commonly used in [agentic RAG applications](https://weaviate.io/blog/what-is-agentic-rag).\n",
        "\n"
      ]
    },
    {
      "cell_type": "markdown",
      "metadata": {
        "id": "zozL_ypPC3FD"
      },
      "source": [
        "# Prerequisites\n",
        "Before starting this tutorial, ensure you have the following:\n",
        "\n"
      ]
    },
    {
      "cell_type": "code",
      "execution_count": 1,
      "metadata": {
        "colab": {
          "base_uri": "https://localhost:8080/"
        },
        "id": "6vIqoOMmC3FE",
        "outputId": "0888a19f-2564-4df2-9ffe-51798ffd754c"
      },
      "outputs": [
        {
          "output_type": "stream",
          "name": "stdout",
          "text": [
            "Requirement already satisfied: pylate in /usr/local/lib/python3.11/dist-packages (1.2.0)\n",
            "Collecting sentence-transformers==4.0.2 (from pylate)\n",
            "  Using cached sentence_transformers-4.0.2-py3-none-any.whl.metadata (13 kB)\n",
            "Requirement already satisfied: datasets>=2.20.0 in /usr/local/lib/python3.11/dist-packages (from pylate) (3.6.0)\n",
            "Requirement already satisfied: accelerate>=0.31.0 in /usr/local/lib/python3.11/dist-packages (from pylate) (1.6.0)\n",
            "Requirement already satisfied: voyager>=2.0.9 in /usr/local/lib/python3.11/dist-packages (from pylate) (2.1.0)\n",
            "Requirement already satisfied: sqlitedict>=2.1.0 in /usr/local/lib/python3.11/dist-packages (from pylate) (2.1.0)\n",
            "Requirement already satisfied: pandas>=2.2.1 in /usr/local/lib/python3.11/dist-packages (from pylate) (2.2.2)\n",
            "Requirement already satisfied: transformers==4.48.2 in /usr/local/lib/python3.11/dist-packages (from pylate) (4.48.2)\n",
            "Requirement already satisfied: ujson==5.10.0 in /usr/local/lib/python3.11/dist-packages (from pylate) (5.10.0)\n",
            "Requirement already satisfied: ninja==1.11.1.4 in /usr/local/lib/python3.11/dist-packages (from pylate) (1.11.1.4)\n",
            "Requirement already satisfied: fastkmeans==0.5.0 in /usr/local/lib/python3.11/dist-packages (from pylate) (0.5.0)\n",
            "Requirement already satisfied: torch in /usr/local/lib/python3.11/dist-packages (from fastkmeans==0.5.0->pylate) (2.6.0+cu124)\n",
            "Requirement already satisfied: numpy in /usr/local/lib/python3.11/dist-packages (from fastkmeans==0.5.0->pylate) (2.0.2)\n",
            "Requirement already satisfied: tqdm in /usr/local/lib/python3.11/dist-packages (from sentence-transformers==4.0.2->pylate) (4.67.1)\n",
            "Requirement already satisfied: scikit-learn in /usr/local/lib/python3.11/dist-packages (from sentence-transformers==4.0.2->pylate) (1.6.1)\n",
            "Requirement already satisfied: scipy in /usr/local/lib/python3.11/dist-packages (from sentence-transformers==4.0.2->pylate) (1.15.3)\n",
            "Requirement already satisfied: huggingface-hub>=0.20.0 in /usr/local/lib/python3.11/dist-packages (from sentence-transformers==4.0.2->pylate) (0.31.2)\n",
            "Requirement already satisfied: Pillow in /usr/local/lib/python3.11/dist-packages (from sentence-transformers==4.0.2->pylate) (11.2.1)\n",
            "Requirement already satisfied: typing_extensions>=4.5.0 in /usr/local/lib/python3.11/dist-packages (from sentence-transformers==4.0.2->pylate) (4.13.2)\n",
            "Requirement already satisfied: filelock in /usr/local/lib/python3.11/dist-packages (from transformers==4.48.2->pylate) (3.18.0)\n",
            "Requirement already satisfied: packaging>=20.0 in /usr/local/lib/python3.11/dist-packages (from transformers==4.48.2->pylate) (24.2)\n",
            "Requirement already satisfied: pyyaml>=5.1 in /usr/local/lib/python3.11/dist-packages (from transformers==4.48.2->pylate) (6.0.2)\n",
            "Requirement already satisfied: regex!=2019.12.17 in /usr/local/lib/python3.11/dist-packages (from transformers==4.48.2->pylate) (2024.11.6)\n",
            "Requirement already satisfied: requests in /usr/local/lib/python3.11/dist-packages (from transformers==4.48.2->pylate) (2.32.3)\n",
            "Requirement already satisfied: tokenizers<0.22,>=0.21 in /usr/local/lib/python3.11/dist-packages (from transformers==4.48.2->pylate) (0.21.1)\n",
            "Requirement already satisfied: safetensors>=0.4.1 in /usr/local/lib/python3.11/dist-packages (from transformers==4.48.2->pylate) (0.5.3)\n",
            "Requirement already satisfied: psutil in /usr/local/lib/python3.11/dist-packages (from accelerate>=0.31.0->pylate) (5.9.5)\n",
            "Requirement already satisfied: pyarrow>=15.0.0 in /usr/local/lib/python3.11/dist-packages (from datasets>=2.20.0->pylate) (18.1.0)\n",
            "Requirement already satisfied: dill<0.3.9,>=0.3.0 in /usr/local/lib/python3.11/dist-packages (from datasets>=2.20.0->pylate) (0.3.7)\n",
            "Requirement already satisfied: xxhash in /usr/local/lib/python3.11/dist-packages (from datasets>=2.20.0->pylate) (3.5.0)\n",
            "Requirement already satisfied: multiprocess<0.70.17 in /usr/local/lib/python3.11/dist-packages (from datasets>=2.20.0->pylate) (0.70.15)\n",
            "Requirement already satisfied: fsspec<=2025.3.0,>=2023.1.0 in /usr/local/lib/python3.11/dist-packages (from fsspec[http]<=2025.3.0,>=2023.1.0->datasets>=2.20.0->pylate) (2025.3.0)\n",
            "Requirement already satisfied: python-dateutil>=2.8.2 in /usr/local/lib/python3.11/dist-packages (from pandas>=2.2.1->pylate) (2.9.0.post0)\n",
            "Requirement already satisfied: pytz>=2020.1 in /usr/local/lib/python3.11/dist-packages (from pandas>=2.2.1->pylate) (2025.2)\n",
            "Requirement already satisfied: tzdata>=2022.7 in /usr/local/lib/python3.11/dist-packages (from pandas>=2.2.1->pylate) (2025.2)\n",
            "Requirement already satisfied: aiohttp!=4.0.0a0,!=4.0.0a1 in /usr/local/lib/python3.11/dist-packages (from fsspec[http]<=2025.3.0,>=2023.1.0->datasets>=2.20.0->pylate) (3.11.15)\n",
            "Requirement already satisfied: six>=1.5 in /usr/local/lib/python3.11/dist-packages (from python-dateutil>=2.8.2->pandas>=2.2.1->pylate) (1.17.0)\n",
            "Requirement already satisfied: charset-normalizer<4,>=2 in /usr/local/lib/python3.11/dist-packages (from requests->transformers==4.48.2->pylate) (3.4.2)\n",
            "Requirement already satisfied: idna<4,>=2.5 in /usr/local/lib/python3.11/dist-packages (from requests->transformers==4.48.2->pylate) (3.10)\n",
            "Requirement already satisfied: urllib3<3,>=1.21.1 in /usr/local/lib/python3.11/dist-packages (from requests->transformers==4.48.2->pylate) (2.4.0)\n",
            "Requirement already satisfied: certifi>=2017.4.17 in /usr/local/lib/python3.11/dist-packages (from requests->transformers==4.48.2->pylate) (2025.4.26)\n",
            "Requirement already satisfied: networkx in /usr/local/lib/python3.11/dist-packages (from torch->fastkmeans==0.5.0->pylate) (3.4.2)\n",
            "Requirement already satisfied: jinja2 in /usr/local/lib/python3.11/dist-packages (from torch->fastkmeans==0.5.0->pylate) (3.1.6)\n",
            "Requirement already satisfied: nvidia-cuda-nvrtc-cu12==12.4.127 in /usr/local/lib/python3.11/dist-packages (from torch->fastkmeans==0.5.0->pylate) (12.4.127)\n",
            "Requirement already satisfied: nvidia-cuda-runtime-cu12==12.4.127 in /usr/local/lib/python3.11/dist-packages (from torch->fastkmeans==0.5.0->pylate) (12.4.127)\n",
            "Requirement already satisfied: nvidia-cuda-cupti-cu12==12.4.127 in /usr/local/lib/python3.11/dist-packages (from torch->fastkmeans==0.5.0->pylate) (12.4.127)\n",
            "Requirement already satisfied: nvidia-cudnn-cu12==9.1.0.70 in /usr/local/lib/python3.11/dist-packages (from torch->fastkmeans==0.5.0->pylate) (9.1.0.70)\n",
            "Requirement already satisfied: nvidia-cublas-cu12==12.4.5.8 in /usr/local/lib/python3.11/dist-packages (from torch->fastkmeans==0.5.0->pylate) (12.4.5.8)\n",
            "Requirement already satisfied: nvidia-cufft-cu12==11.2.1.3 in /usr/local/lib/python3.11/dist-packages (from torch->fastkmeans==0.5.0->pylate) (11.2.1.3)\n",
            "Requirement already satisfied: nvidia-curand-cu12==10.3.5.147 in /usr/local/lib/python3.11/dist-packages (from torch->fastkmeans==0.5.0->pylate) (10.3.5.147)\n",
            "Requirement already satisfied: nvidia-cusolver-cu12==11.6.1.9 in /usr/local/lib/python3.11/dist-packages (from torch->fastkmeans==0.5.0->pylate) (11.6.1.9)\n",
            "Requirement already satisfied: nvidia-cusparse-cu12==12.3.1.170 in /usr/local/lib/python3.11/dist-packages (from torch->fastkmeans==0.5.0->pylate) (12.3.1.170)\n",
            "Requirement already satisfied: nvidia-cusparselt-cu12==0.6.2 in /usr/local/lib/python3.11/dist-packages (from torch->fastkmeans==0.5.0->pylate) (0.6.2)\n",
            "Requirement already satisfied: nvidia-nccl-cu12==2.21.5 in /usr/local/lib/python3.11/dist-packages (from torch->fastkmeans==0.5.0->pylate) (2.21.5)\n",
            "Requirement already satisfied: nvidia-nvtx-cu12==12.4.127 in /usr/local/lib/python3.11/dist-packages (from torch->fastkmeans==0.5.0->pylate) (12.4.127)\n",
            "Requirement already satisfied: nvidia-nvjitlink-cu12==12.4.127 in /usr/local/lib/python3.11/dist-packages (from torch->fastkmeans==0.5.0->pylate) (12.4.127)\n",
            "Requirement already satisfied: triton==3.2.0 in /usr/local/lib/python3.11/dist-packages (from torch->fastkmeans==0.5.0->pylate) (3.2.0)\n",
            "Requirement already satisfied: sympy==1.13.1 in /usr/local/lib/python3.11/dist-packages (from torch->fastkmeans==0.5.0->pylate) (1.13.1)\n",
            "Requirement already satisfied: mpmath<1.4,>=1.1.0 in /usr/local/lib/python3.11/dist-packages (from sympy==1.13.1->torch->fastkmeans==0.5.0->pylate) (1.3.0)\n",
            "Requirement already satisfied: joblib>=1.2.0 in /usr/local/lib/python3.11/dist-packages (from scikit-learn->sentence-transformers==4.0.2->pylate) (1.5.0)\n",
            "Requirement already satisfied: threadpoolctl>=3.1.0 in /usr/local/lib/python3.11/dist-packages (from scikit-learn->sentence-transformers==4.0.2->pylate) (3.6.0)\n",
            "Requirement already satisfied: aiohappyeyeballs>=2.3.0 in /usr/local/lib/python3.11/dist-packages (from aiohttp!=4.0.0a0,!=4.0.0a1->fsspec[http]<=2025.3.0,>=2023.1.0->datasets>=2.20.0->pylate) (2.6.1)\n",
            "Requirement already satisfied: aiosignal>=1.1.2 in /usr/local/lib/python3.11/dist-packages (from aiohttp!=4.0.0a0,!=4.0.0a1->fsspec[http]<=2025.3.0,>=2023.1.0->datasets>=2.20.0->pylate) (1.3.2)\n",
            "Requirement already satisfied: attrs>=17.3.0 in /usr/local/lib/python3.11/dist-packages (from aiohttp!=4.0.0a0,!=4.0.0a1->fsspec[http]<=2025.3.0,>=2023.1.0->datasets>=2.20.0->pylate) (25.3.0)\n",
            "Requirement already satisfied: frozenlist>=1.1.1 in /usr/local/lib/python3.11/dist-packages (from aiohttp!=4.0.0a0,!=4.0.0a1->fsspec[http]<=2025.3.0,>=2023.1.0->datasets>=2.20.0->pylate) (1.6.0)\n",
            "Requirement already satisfied: multidict<7.0,>=4.5 in /usr/local/lib/python3.11/dist-packages (from aiohttp!=4.0.0a0,!=4.0.0a1->fsspec[http]<=2025.3.0,>=2023.1.0->datasets>=2.20.0->pylate) (6.4.3)\n",
            "Requirement already satisfied: propcache>=0.2.0 in /usr/local/lib/python3.11/dist-packages (from aiohttp!=4.0.0a0,!=4.0.0a1->fsspec[http]<=2025.3.0,>=2023.1.0->datasets>=2.20.0->pylate) (0.3.1)\n",
            "Requirement already satisfied: yarl<2.0,>=1.17.0 in /usr/local/lib/python3.11/dist-packages (from aiohttp!=4.0.0a0,!=4.0.0a1->fsspec[http]<=2025.3.0,>=2023.1.0->datasets>=2.20.0->pylate) (1.20.0)\n",
            "Requirement already satisfied: MarkupSafe>=2.0 in /usr/local/lib/python3.11/dist-packages (from jinja2->torch->fastkmeans==0.5.0->pylate) (3.0.2)\n",
            "Using cached sentence_transformers-4.0.2-py3-none-any.whl (340 kB)\n",
            "Installing collected packages: sentence-transformers\n",
            "  Attempting uninstall: sentence-transformers\n",
            "    Found existing installation: sentence-transformers 4.1.0\n",
            "    Uninstalling sentence-transformers-4.1.0:\n",
            "      Successfully uninstalled sentence-transformers-4.1.0\n",
            "Successfully installed sentence-transformers-4.0.2\n",
            "Requirement already satisfied: weaviate-client in /usr/local/lib/python3.11/dist-packages (4.14.4)\n",
            "Requirement already satisfied: httpx<0.29.0,>=0.26.0 in /usr/local/lib/python3.11/dist-packages (from weaviate-client) (0.28.1)\n",
            "Requirement already satisfied: validators==0.34.0 in /usr/local/lib/python3.11/dist-packages (from weaviate-client) (0.34.0)\n",
            "Requirement already satisfied: authlib<1.3.2,>=1.2.1 in /usr/local/lib/python3.11/dist-packages (from weaviate-client) (1.3.1)\n",
            "Requirement already satisfied: pydantic<3.0.0,>=2.8.0 in /usr/local/lib/python3.11/dist-packages (from weaviate-client) (2.11.4)\n",
            "Requirement already satisfied: grpcio<2.0.0,>=1.66.2 in /usr/local/lib/python3.11/dist-packages (from weaviate-client) (1.71.0)\n",
            "Requirement already satisfied: grpcio-tools<2.0.0,>=1.66.2 in /usr/local/lib/python3.11/dist-packages (from weaviate-client) (1.71.0)\n",
            "Requirement already satisfied: grpcio-health-checking<2.0.0,>=1.66.2 in /usr/local/lib/python3.11/dist-packages (from weaviate-client) (1.71.0)\n",
            "Requirement already satisfied: deprecation<3.0.0,>=2.1.0 in /usr/local/lib/python3.11/dist-packages (from weaviate-client) (2.1.0)\n",
            "Requirement already satisfied: cryptography in /usr/local/lib/python3.11/dist-packages (from authlib<1.3.2,>=1.2.1->weaviate-client) (43.0.3)\n",
            "Requirement already satisfied: packaging in /usr/local/lib/python3.11/dist-packages (from deprecation<3.0.0,>=2.1.0->weaviate-client) (24.2)\n",
            "Requirement already satisfied: protobuf<6.0dev,>=5.26.1 in /usr/local/lib/python3.11/dist-packages (from grpcio-health-checking<2.0.0,>=1.66.2->weaviate-client) (5.29.4)\n",
            "Requirement already satisfied: setuptools in /usr/local/lib/python3.11/dist-packages (from grpcio-tools<2.0.0,>=1.66.2->weaviate-client) (75.2.0)\n",
            "Requirement already satisfied: anyio in /usr/local/lib/python3.11/dist-packages (from httpx<0.29.0,>=0.26.0->weaviate-client) (4.9.0)\n",
            "Requirement already satisfied: certifi in /usr/local/lib/python3.11/dist-packages (from httpx<0.29.0,>=0.26.0->weaviate-client) (2025.4.26)\n",
            "Requirement already satisfied: httpcore==1.* in /usr/local/lib/python3.11/dist-packages (from httpx<0.29.0,>=0.26.0->weaviate-client) (1.0.9)\n",
            "Requirement already satisfied: idna in /usr/local/lib/python3.11/dist-packages (from httpx<0.29.0,>=0.26.0->weaviate-client) (3.10)\n",
            "Requirement already satisfied: h11>=0.16 in /usr/local/lib/python3.11/dist-packages (from httpcore==1.*->httpx<0.29.0,>=0.26.0->weaviate-client) (0.16.0)\n",
            "Requirement already satisfied: annotated-types>=0.6.0 in /usr/local/lib/python3.11/dist-packages (from pydantic<3.0.0,>=2.8.0->weaviate-client) (0.7.0)\n",
            "Requirement already satisfied: pydantic-core==2.33.2 in /usr/local/lib/python3.11/dist-packages (from pydantic<3.0.0,>=2.8.0->weaviate-client) (2.33.2)\n",
            "Requirement already satisfied: typing-extensions>=4.12.2 in /usr/local/lib/python3.11/dist-packages (from pydantic<3.0.0,>=2.8.0->weaviate-client) (4.13.2)\n",
            "Requirement already satisfied: typing-inspection>=0.4.0 in /usr/local/lib/python3.11/dist-packages (from pydantic<3.0.0,>=2.8.0->weaviate-client) (0.4.0)\n",
            "Requirement already satisfied: sniffio>=1.1 in /usr/local/lib/python3.11/dist-packages (from anyio->httpx<0.29.0,>=0.26.0->weaviate-client) (1.3.1)\n",
            "Requirement already satisfied: cffi>=1.12 in /usr/local/lib/python3.11/dist-packages (from cryptography->authlib<1.3.2,>=1.2.1->weaviate-client) (1.17.1)\n",
            "Requirement already satisfied: pycparser in /usr/local/lib/python3.11/dist-packages (from cffi>=1.12->cryptography->authlib<1.3.2,>=1.2.1->weaviate-client) (2.22)\n",
            "Requirement already satisfied: sentence-transformers in /usr/local/lib/python3.11/dist-packages (4.0.2)\n",
            "Collecting sentence-transformers\n",
            "  Using cached sentence_transformers-4.1.0-py3-none-any.whl.metadata (13 kB)\n",
            "Requirement already satisfied: transformers<5.0.0,>=4.41.0 in /usr/local/lib/python3.11/dist-packages (from sentence-transformers) (4.48.2)\n",
            "Requirement already satisfied: tqdm in /usr/local/lib/python3.11/dist-packages (from sentence-transformers) (4.67.1)\n",
            "Requirement already satisfied: torch>=1.11.0 in /usr/local/lib/python3.11/dist-packages (from sentence-transformers) (2.6.0+cu124)\n",
            "Requirement already satisfied: scikit-learn in /usr/local/lib/python3.11/dist-packages (from sentence-transformers) (1.6.1)\n",
            "Requirement already satisfied: scipy in /usr/local/lib/python3.11/dist-packages (from sentence-transformers) (1.15.3)\n",
            "Requirement already satisfied: huggingface-hub>=0.20.0 in /usr/local/lib/python3.11/dist-packages (from sentence-transformers) (0.31.2)\n",
            "Requirement already satisfied: Pillow in /usr/local/lib/python3.11/dist-packages (from sentence-transformers) (11.2.1)\n",
            "Requirement already satisfied: typing_extensions>=4.5.0 in /usr/local/lib/python3.11/dist-packages (from sentence-transformers) (4.13.2)\n",
            "Requirement already satisfied: filelock in /usr/local/lib/python3.11/dist-packages (from huggingface-hub>=0.20.0->sentence-transformers) (3.18.0)\n",
            "Requirement already satisfied: fsspec>=2023.5.0 in /usr/local/lib/python3.11/dist-packages (from huggingface-hub>=0.20.0->sentence-transformers) (2025.3.0)\n",
            "Requirement already satisfied: packaging>=20.9 in /usr/local/lib/python3.11/dist-packages (from huggingface-hub>=0.20.0->sentence-transformers) (24.2)\n",
            "Requirement already satisfied: pyyaml>=5.1 in /usr/local/lib/python3.11/dist-packages (from huggingface-hub>=0.20.0->sentence-transformers) (6.0.2)\n",
            "Requirement already satisfied: requests in /usr/local/lib/python3.11/dist-packages (from huggingface-hub>=0.20.0->sentence-transformers) (2.32.3)\n",
            "Requirement already satisfied: networkx in /usr/local/lib/python3.11/dist-packages (from torch>=1.11.0->sentence-transformers) (3.4.2)\n",
            "Requirement already satisfied: jinja2 in /usr/local/lib/python3.11/dist-packages (from torch>=1.11.0->sentence-transformers) (3.1.6)\n",
            "Requirement already satisfied: nvidia-cuda-nvrtc-cu12==12.4.127 in /usr/local/lib/python3.11/dist-packages (from torch>=1.11.0->sentence-transformers) (12.4.127)\n",
            "Requirement already satisfied: nvidia-cuda-runtime-cu12==12.4.127 in /usr/local/lib/python3.11/dist-packages (from torch>=1.11.0->sentence-transformers) (12.4.127)\n",
            "Requirement already satisfied: nvidia-cuda-cupti-cu12==12.4.127 in /usr/local/lib/python3.11/dist-packages (from torch>=1.11.0->sentence-transformers) (12.4.127)\n",
            "Requirement already satisfied: nvidia-cudnn-cu12==9.1.0.70 in /usr/local/lib/python3.11/dist-packages (from torch>=1.11.0->sentence-transformers) (9.1.0.70)\n",
            "Requirement already satisfied: nvidia-cublas-cu12==12.4.5.8 in /usr/local/lib/python3.11/dist-packages (from torch>=1.11.0->sentence-transformers) (12.4.5.8)\n",
            "Requirement already satisfied: nvidia-cufft-cu12==11.2.1.3 in /usr/local/lib/python3.11/dist-packages (from torch>=1.11.0->sentence-transformers) (11.2.1.3)\n",
            "Requirement already satisfied: nvidia-curand-cu12==10.3.5.147 in /usr/local/lib/python3.11/dist-packages (from torch>=1.11.0->sentence-transformers) (10.3.5.147)\n",
            "Requirement already satisfied: nvidia-cusolver-cu12==11.6.1.9 in /usr/local/lib/python3.11/dist-packages (from torch>=1.11.0->sentence-transformers) (11.6.1.9)\n",
            "Requirement already satisfied: nvidia-cusparse-cu12==12.3.1.170 in /usr/local/lib/python3.11/dist-packages (from torch>=1.11.0->sentence-transformers) (12.3.1.170)\n",
            "Requirement already satisfied: nvidia-cusparselt-cu12==0.6.2 in /usr/local/lib/python3.11/dist-packages (from torch>=1.11.0->sentence-transformers) (0.6.2)\n",
            "Requirement already satisfied: nvidia-nccl-cu12==2.21.5 in /usr/local/lib/python3.11/dist-packages (from torch>=1.11.0->sentence-transformers) (2.21.5)\n",
            "Requirement already satisfied: nvidia-nvtx-cu12==12.4.127 in /usr/local/lib/python3.11/dist-packages (from torch>=1.11.0->sentence-transformers) (12.4.127)\n",
            "Requirement already satisfied: nvidia-nvjitlink-cu12==12.4.127 in /usr/local/lib/python3.11/dist-packages (from torch>=1.11.0->sentence-transformers) (12.4.127)\n",
            "Requirement already satisfied: triton==3.2.0 in /usr/local/lib/python3.11/dist-packages (from torch>=1.11.0->sentence-transformers) (3.2.0)\n",
            "Requirement already satisfied: sympy==1.13.1 in /usr/local/lib/python3.11/dist-packages (from torch>=1.11.0->sentence-transformers) (1.13.1)\n",
            "Requirement already satisfied: mpmath<1.4,>=1.1.0 in /usr/local/lib/python3.11/dist-packages (from sympy==1.13.1->torch>=1.11.0->sentence-transformers) (1.3.0)\n",
            "Requirement already satisfied: numpy>=1.17 in /usr/local/lib/python3.11/dist-packages (from transformers<5.0.0,>=4.41.0->sentence-transformers) (2.0.2)\n",
            "Requirement already satisfied: regex!=2019.12.17 in /usr/local/lib/python3.11/dist-packages (from transformers<5.0.0,>=4.41.0->sentence-transformers) (2024.11.6)\n",
            "Requirement already satisfied: tokenizers<0.22,>=0.21 in /usr/local/lib/python3.11/dist-packages (from transformers<5.0.0,>=4.41.0->sentence-transformers) (0.21.1)\n",
            "Requirement already satisfied: safetensors>=0.4.1 in /usr/local/lib/python3.11/dist-packages (from transformers<5.0.0,>=4.41.0->sentence-transformers) (0.5.3)\n",
            "Requirement already satisfied: joblib>=1.2.0 in /usr/local/lib/python3.11/dist-packages (from scikit-learn->sentence-transformers) (1.5.0)\n",
            "Requirement already satisfied: threadpoolctl>=3.1.0 in /usr/local/lib/python3.11/dist-packages (from scikit-learn->sentence-transformers) (3.6.0)\n",
            "Requirement already satisfied: MarkupSafe>=2.0 in /usr/local/lib/python3.11/dist-packages (from jinja2->torch>=1.11.0->sentence-transformers) (3.0.2)\n",
            "Requirement already satisfied: charset-normalizer<4,>=2 in /usr/local/lib/python3.11/dist-packages (from requests->huggingface-hub>=0.20.0->sentence-transformers) (3.4.2)\n",
            "Requirement already satisfied: idna<4,>=2.5 in /usr/local/lib/python3.11/dist-packages (from requests->huggingface-hub>=0.20.0->sentence-transformers) (3.10)\n",
            "Requirement already satisfied: urllib3<3,>=1.21.1 in /usr/local/lib/python3.11/dist-packages (from requests->huggingface-hub>=0.20.0->sentence-transformers) (2.4.0)\n",
            "Requirement already satisfied: certifi>=2017.4.17 in /usr/local/lib/python3.11/dist-packages (from requests->huggingface-hub>=0.20.0->sentence-transformers) (2025.4.26)\n",
            "Using cached sentence_transformers-4.1.0-py3-none-any.whl (345 kB)\n",
            "Installing collected packages: sentence-transformers\n",
            "  Attempting uninstall: sentence-transformers\n",
            "    Found existing installation: sentence-transformers 4.0.2\n",
            "    Uninstalling sentence-transformers-4.0.2:\n",
            "      Successfully uninstalled sentence-transformers-4.0.2\n",
            "\u001b[31mERROR: pip's dependency resolver does not currently take into account all the packages that are installed. This behaviour is the source of the following dependency conflicts.\n",
            "pylate 1.2.0 requires sentence-transformers==4.0.2, but you have sentence-transformers 4.1.0 which is incompatible.\u001b[0m\u001b[31m\n",
            "\u001b[0mSuccessfully installed sentence-transformers-4.1.0\n"
          ]
        }
      ],
      "source": [
        "!pip install -U pylate\n",
        "!pip install -U weaviate-client\n",
        "!pip install -U sentence-transformers"
      ]
    },
    {
      "cell_type": "markdown",
      "metadata": {
        "id": "xWspJtPFC3FE"
      },
      "source": [
        "\n",
        "# 1.1. Connect to Weaviate\n",
        "First, connect to your Weaviate instance using your preferred client library. In this example, we assume you are connecting to a local Weaviate instance. For other types of instances, replace the connection details as needed (connection examples).\n",
        "\n",
        "You can start a local Weaviate instance with this command:"
      ]
    },
    {
      "cell_type": "code",
      "execution_count": 2,
      "metadata": {
        "id": "5T6fRGn2C3FE"
      },
      "outputs": [],
      "source": [
        "!docker run --detach -p 8080:8080 -p 50051:50051 cr.weaviate.io/semitechnologies/weaviate:1.30.1"
      ]
    },
    {
      "cell_type": "markdown",
      "metadata": {
        "id": "yJGCJEYuC3FE"
      },
      "source": [
        "Then connect to your local Weaviate instance."
      ]
    },
    {
      "cell_type": "code",
      "execution_count": 3,
      "metadata": {
        "colab": {
          "base_uri": "https://localhost:8080/"
        },
        "id": "fy8rsZ6nC3FE",
        "outputId": "b4d98b8c-3657-412e-e967-62282db35589"
      },
      "outputs": [
        {
          "output_type": "execute_result",
          "data": {
            "text/plain": [
              "True"
            ]
          },
          "metadata": {},
          "execution_count": 3
        }
      ],
      "source": [
        "import weaviate\n",
        "from weaviate.classes.init import Auth\n",
        "\n",
        "# Option 1: Connect to your local Weaviate instance deployed with Docker\n",
        "client = weaviate.connect_to_local()\n",
        "\n",
        "# Option 2: Connet to an embedded Weaviate instance\n",
        "# client = weaviate.connect_to_embedded()\n",
        "\n",
        "# Option 3: Connect to your Weaviate Client Service cluster\n",
        "# client = weaviate.connect_to_weaviate_cloud(\n",
        "#     cluster_url=\"WCS-CLUSTER-URL\", # Replace with your WCS cluster URL\n",
        "#     auth_credentials=Auth.api_key(\"WCS-API-KEY\" # Replace with your WCS API KEY\n",
        "#     ),\n",
        "# )\n",
        "\n",
        "client.is_ready()"
      ]
    },
    {
      "cell_type": "markdown",
      "metadata": {
        "id": "_p5_ucTQC3FE"
      },
      "source": [
        "# Define collection\n",
        "Next, we define a collection called \"DemoCollection\". Note that we do not use a model integration, as we will provide the embeddings manually."
      ]
    },
    {
      "cell_type": "code",
      "execution_count": 4,
      "metadata": {
        "colab": {
          "base_uri": "https://localhost:8080/"
        },
        "id": "iCyaHr7uC3FE",
        "outputId": "a707896f-32f9-4ec8-e192-652e0241a78e"
      },
      "outputs": [
        {
          "output_type": "execute_result",
          "data": {
            "text/plain": [
              "<weaviate.collections.collection.sync.Collection at 0x7d67d145bdd0>"
            ]
          },
          "metadata": {},
          "execution_count": 4
        }
      ],
      "source": [
        "from weaviate.classes.config import Configure, Property, DataType\n",
        "from weaviate.util import generate_uuid5\n",
        "from weaviate.classes.config import Configure\n",
        "\n",
        "collection_name = \"DemoCollection\"\n",
        "\n",
        "# Check if collection exists before deleting\n",
        "if client.collections.exists(collection_name):\n",
        "    client.collections.delete(collection_name)  # THIS WILL DELETE THE SPECIFIED COLLECTION AND ALL ITS OBJECTS\n",
        "\n",
        "client.collections.create(\n",
        "    collection_name,\n",
        "    vectorizer_config=[\n",
        "        # User-provided embeddings\n",
        "        Configure.NamedVectors.none(\n",
        "            name=\"multi_vector\",\n",
        "            vector_index_config=Configure.VectorIndex.hnsw(\n",
        "                # Enable multi-vector index with default settings\n",
        "                multi_vector=Configure.VectorIndex.MultiVector.multi_vector()\n",
        "            )\n",
        "        ),\n",
        "    ],\n",
        "    properties=[\n",
        "        Property(name=\"text\",\n",
        "                 data_type=DataType.TEXT,\n",
        "                 vectorize_property_name=False  # Explicitly disable property name vectorization\n",
        "                 ),\n",
        "        Property(name=\"docid\",\n",
        "                 data_type=DataType.TEXT,\n",
        "                 vectorize_property_name=False  # Explicitly disable property name vectorization\n",
        "                 ),\n",
        "    ],\n",
        ")"
      ]
    },
    {
      "cell_type": "markdown",
      "metadata": {
        "id": "ah45X6o0C3FF"
      },
      "source": [
        "You can double-check that you're using the MaxSim operator for the multi-vector embeddings."
      ]
    },
    {
      "cell_type": "code",
      "execution_count": 5,
      "metadata": {
        "colab": {
          "base_uri": "https://localhost:8080/"
        },
        "id": "edEyykdbC3FF",
        "outputId": "0e3bf1c3-2eb0-4705-c028-09e6c5fe21fa"
      },
      "outputs": [
        {
          "output_type": "stream",
          "name": "stdout",
          "text": [
            "{\n",
            "  \"multi_vector\": {\n",
            "    \"aggregation\": \"maxSim\"\n",
            "  },\n",
            "  \"quantizer\": null,\n",
            "  \"cleanup_interval_seconds\": 300,\n",
            "  \"distance_metric\": \"cosine\",\n",
            "  \"dynamic_ef_min\": 100,\n",
            "  \"dynamic_ef_max\": 500,\n",
            "  \"dynamic_ef_factor\": 8,\n",
            "  \"ef\": -1,\n",
            "  \"ef_construction\": 128,\n",
            "  \"filter_strategy\": \"sweeping\",\n",
            "  \"flat_search_cutoff\": 40000,\n",
            "  \"max_connections\": 32,\n",
            "  \"skip\": false,\n",
            "  \"vector_cache_max_objects\": 1000000000000\n",
            "}\n"
          ]
        }
      ],
      "source": [
        "import json\n",
        "\n",
        "# Get collection\n",
        "collection = client.collections.get(collection_name)\n",
        "\n",
        "config = collection.config.get().vector_config['multi_vector'].vector_index_config\n",
        "\n",
        "print(json.dumps(config.__dict__, indent=2, default=lambda o: o.__dict__ if hasattr(o, '__dict__') else str(o)))\n"
      ]
    },
    {
      "cell_type": "markdown",
      "metadata": {
        "id": "IqpIlZJKC3FF"
      },
      "source": [
        "# 1.3. Import data\n",
        "\n",
        "Now, we can import the data. Note that in this example, each object is sent to Weaviate along with the corresponding multi-vector embedding. In the example, we obtain LightOn's Reason-ModernColBERT embeddings.\n",
        "\n",
        "Load Reason-ModernColBERT embedding model:"
      ]
    },
    {
      "cell_type": "code",
      "execution_count": 6,
      "metadata": {
        "colab": {
          "base_uri": "https://localhost:8080/"
        },
        "id": "aQ1ilzLqC3FF",
        "outputId": "8846242b-dec5-44d5-e1b5-0af7c8a96db0"
      },
      "outputs": [
        {
          "output_type": "stream",
          "name": "stderr",
          "text": [
            "/usr/local/lib/python3.11/dist-packages/huggingface_hub/utils/_auth.py:94: UserWarning: \n",
            "The secret `HF_TOKEN` does not exist in your Colab secrets.\n",
            "To authenticate with the Hugging Face Hub, create a token in your settings tab (https://huggingface.co/settings/tokens), set it as secret in your Google Colab and restart your session.\n",
            "You will be able to reuse this secret in all of your notebooks.\n",
            "Please note that authentication is recommended but still optional to access public models or datasets.\n",
            "  warnings.warn(\n"
          ]
        }
      ],
      "source": [
        "from pylate import models\n",
        "\n",
        "# Load the ModernColBERT model\n",
        "model = models.ColBERT(\n",
        "    model_name_or_path=\"lightonai/Reason-ModernColBERT\",\n",
        ")"
      ]
    },
    {
      "cell_type": "markdown",
      "source": [
        "Next, we will load some example data. This is were the magic of reasoning IR happens. Let's take the following query for an example:"
      ],
      "metadata": {
        "id": "v9pFhleIYX4y"
      }
    },
    {
      "cell_type": "code",
      "source": [
        "query = \"At home, after I water my plants, the water goes to plates below the pots. Can I reuse it for my plants next time?\""
      ],
      "metadata": {
        "id": "me1uZcbsZG1O"
      },
      "execution_count": null,
      "outputs": []
    },
    {
      "cell_type": "markdown",
      "source": [
        "So, in an agentic RAG system, you would generate some reasoning traces to understand that this question need e.g. information about soluble salts."
      ],
      "metadata": {
        "id": "AMwTfm0rZGbQ"
      }
    },
    {
      "cell_type": "code",
      "source": [
        "reasoning = \"\"\"\n",
        "The user wants to know if reusing plant drainage water is safe.\n",
        "The key issue is understanding what happens to water after it passes through soil.\n",
        "It likely contains dissolved minerals and salts from fertilizers.\n",
        "We need to find information about mineral buildup, salt concentration effects on plants, and whether reused water can harm plant roots through excessive salt accumulation.\n",
        "\"\"\""
      ],
      "metadata": {
        "id": "t8jS7Fy7ZT9W"
      },
      "execution_count": null,
      "outputs": []
    },
    {
      "cell_type": "markdown",
      "source": [
        "Let's take the following three documents.\n",
        "- One is relevant because it talks about soluble salts\n",
        "- One is irrelvant but would likely rank highly in other search methods like keyword search because the term \"water\" appears often\n",
        "- One is somewhat related to the query."
      ],
      "metadata": {
        "id": "UEWbqQNDZUZH"
      }
    },
    {
      "cell_type": "code",
      "source": [
        "\n",
        "relevant_document = \"\"\"\n",
        "**Soluble Salts in Container Plants**\n",
        "\n",
        "Soluble salts are minerals dissolved in water that accumulate when water evaporates, leaving salts behind.\n",
        "When drainage water is reused, these salts become concentrated and make it difficult for plants to absorb water.\n",
        "High salt levels can damage roots directly and cause symptoms like brown leaf tips, wilting, and stunted growth.\n",
        "The best practice is to empty drainage saucers rather than reusing the water.\n",
        "\"\"\"\n",
        "\n",
        "irrelevant_document = \"\"\"\n",
        "**Water Conservation in Gardening**\n",
        "\n",
        "Water conservation is important for sustainable gardening.\n",
        "Techniques include mulching to reduce evaporation, choosing drought-tolerant plants, and collecting rainwater in barrels.\n",
        "Drip irrigation systems deliver water directly to plant roots with minimal waste.\n",
        "These methods can reduce garden water usage by up to 50% while maintaining healthy plants.\n",
        "\"\"\"\n",
        "\n",
        "somewhat_related_document = \"\"\"\n",
        "**Basic Plant Watering Guidelines**\n",
        "\n",
        "Most houseplants should be watered when the top inch of soil feels dry.\n",
        "Water thoroughly until it drains from the bottom holes, then empty saucers after 30 minutes to prevent root rot.\n",
        "Different plants have different needs - succulents need less water while tropical plants prefer consistently moist soil.\n",
        "Overwatering causes more plant deaths than underwatering.\n",
        "\"\"\""
      ],
      "metadata": {
        "id": "SsWFOSHAUb-3"
      },
      "execution_count": 7,
      "outputs": []
    },
    {
      "cell_type": "code",
      "execution_count": 8,
      "metadata": {
        "id": "CEwjOistC3FF"
      },
      "outputs": [],
      "source": [
        "# An example dataset\n",
        "documents = [\n",
        "    {\"id\": \"doc1\", \"text\": relevant_document},\n",
        "    {\"id\": \"doc2\", \"text\": irrelevant_document},\n",
        "    {\"id\": \"doc3\", \"text\": somewhat_related_document},\n",
        "]\n",
        "\n",
        "\n",
        "# Import data\n",
        "with collection.batch.fixed_size(batch_size=10) as batch:\n",
        "    for doc in documents:\n",
        "        # Iterate through the dataset & add to batch\n",
        "        batch.add_object(\n",
        "            properties={\"text\": doc[\"text\"], \"docid\": doc[\"id\"]},\n",
        "            uuid=generate_uuid5(doc[\"id\"]),\n",
        "            vector={\"multi_vector\": model.encode(doc[\"text\"], is_query=False)},  # Provide the embedding manually\n",
        "        )\n"
      ]
    },
    {
      "cell_type": "code",
      "execution_count": 9,
      "metadata": {
        "colab": {
          "base_uri": "https://localhost:8080/"
        },
        "id": "eBpXiyBwC3FF",
        "outputId": "1c9638a0-31ca-4095-ef58-cb4c18739667"
      },
      "outputs": [
        {
          "output_type": "stream",
          "name": "stdout",
          "text": [
            "3\n"
          ]
        }
      ],
      "source": [
        "# Check for errors in batch imports\n",
        "if collection.batch.failed_objects:\n",
        "    print(f\"Number of failed imports: {len(collection.batch.failed_objects)}\")\n",
        "    print(f\"First failed object: {collection.batch.failed_objects[0]}\")\n",
        "\n",
        "print(len(collection))  # This should print `3``"
      ]
    },
    {
      "cell_type": "markdown",
      "metadata": {
        "id": "EnSOBuHmC3FF"
      },
      "source": [
        "Let's retrieve an object and inspect the shape of its embeddings."
      ]
    },
    {
      "cell_type": "code",
      "execution_count": 10,
      "metadata": {
        "colab": {
          "base_uri": "https://localhost:8080/"
        },
        "id": "NIV_Y8FIC3FF",
        "outputId": "e11b9c86-3567-4ca5-e217-7aee48d0a130"
      },
      "outputs": [
        {
          "output_type": "stream",
          "name": "stdout",
          "text": [
            "This embedding's shape is (92, 128)\n",
            "This embedding's shape is (85, 128)\n",
            "This embedding's shape is (73, 128)\n"
          ]
        }
      ],
      "source": [
        "response = collection.query.fetch_objects(limit=3, include_vector=True)\n",
        "\n",
        "for obj in response.objects:\n",
        "    print(f\"This embedding's shape is ({len(obj.vector['multi_vector'])}, {len(obj.vector['multi_vector'][0])})\")\n"
      ]
    },
    {
      "cell_type": "markdown",
      "metadata": {
        "id": "X-cefVgdC3FF"
      },
      "source": [
        "# 1.4. Reasoning-based retrieval with Reason-ModernColBERT\n",
        "\n",
        "Let's see if the Reasoning-ModernColBERT is able to retrieve the relevant, somewhat relevant and irrelevant documents in the right order **without the reasoning trace** but only the query.\n"
      ]
    },
    {
      "cell_type": "markdown",
      "metadata": {
        "id": "l5ikxm-7C3FF"
      },
      "source": [
        "Note this in contrast to a single vector, which would be a list of floats.\n",
        "\n"
      ]
    },
    {
      "cell_type": "code",
      "execution_count": 13,
      "metadata": {
        "colab": {
          "base_uri": "https://localhost:8080/"
        },
        "id": "jhUC4lHnC3FF",
        "outputId": "3c5b79e5-319c-4b47-cb57-96be0619d6e0"
      },
      "outputs": [
        {
          "output_type": "stream",
          "name": "stdout",
          "text": [
            "{'text': '\\n**Soluble Salts in Container Plants**\\n\\nSoluble salts are minerals dissolved in water that accumulate when water evaporates, leaving salts behind. \\nWhen drainage water is reused, these salts become concentrated and make it difficult for plants to absorb water. \\nHigh salt levels can damage roots directly and cause symptoms like brown leaf tips, wilting, and stunted growth. \\nThe best practice is to empty drainage saucers rather than reusing the water.\\n', 'docid': 'doc1'}\n",
            "-82.10780334472656\n",
            "{'text': '\\n**Basic Plant Watering Guidelines**\\n\\nMost houseplants should be watered when the top inch of soil feels dry. \\nWater thoroughly until it drains from the bottom holes, then empty saucers after 30 minutes to prevent root rot. \\nDifferent plants have different needs - succulents need less water while tropical plants prefer consistently moist soil. \\nOverwatering causes more plant deaths than underwatering.\\n', 'docid': 'doc3'}\n",
            "-78.0878677368164\n",
            "{'text': '\\n**Water Conservation in Gardening**\\n\\nWater conservation is important for sustainable gardening. \\nTechniques include mulching to reduce evaporation, choosing drought-tolerant plants, and collecting rainwater in barrels. \\nDrip irrigation systems deliver water directly to plant roots with minimal waste. \\nThese methods can reduce garden water usage by up to 50% while maintaining healthy plants.\\n', 'docid': 'doc2'}\n",
            "-69.91854858398438\n"
          ]
        }
      ],
      "source": [
        "response = collection.query.near_vector(\n",
        "    near_vector=model.encode(query, is_query=True),  # Raw embedding, in [[e11, e12, e13, ...], [e21, e22, e23, ...], ...] shape\n",
        "    target_vector=\"multi_vector\",\n",
        "    return_metadata=weaviate.classes.query.MetadataQuery(\n",
        "            distance=True,\n",
        "        ),\n",
        ")\n",
        "\n",
        "for result in response.objects:\n",
        "    print(result.properties)\n",
        "    print(result.metadata.distance)\n"
      ]
    },
    {
      "cell_type": "markdown",
      "source": [
        "As you can see, the Reason-ModernColBERT model is able to successfully retrieve the documents in the order of relevance.\n",
        "\n",
        "Although it is not necessary, appending the reasoning trace can help boost retrieval performance, as shown below."
      ],
      "metadata": {
        "id": "j2FTEShfWQPj"
      }
    },
    {
      "cell_type": "code",
      "source": [
        "response = collection.query.near_vector(\n",
        "    near_vector=model.encode((query + reasoning), is_query=True),  # Raw embedding, in [[e11, e12, e13, ...], [e21, e22, e23, ...], ...] shape\n",
        "    target_vector=\"multi_vector\",\n",
        "    return_metadata=weaviate.classes.query.MetadataQuery(\n",
        "            distance=True,\n",
        "        ),\n",
        ")\n",
        "\n",
        "for result in response.objects:\n",
        "    print(result.properties)\n",
        "    print(result.metadata.distance)\n"
      ],
      "metadata": {
        "colab": {
          "base_uri": "https://localhost:8080/"
        },
        "id": "ZHAGn64XV0V2",
        "outputId": "5b28762a-3349-47d0-b411-6f28da8944f2"
      },
      "execution_count": 16,
      "outputs": [
        {
          "output_type": "stream",
          "name": "stdout",
          "text": [
            "{'text': '\\n**Soluble Salts in Container Plants**\\n\\nSoluble salts are minerals dissolved in water that accumulate when water evaporates, leaving salts behind. \\nWhen drainage water is reused, these salts become concentrated and make it difficult for plants to absorb water. \\nHigh salt levels can damage roots directly and cause symptoms like brown leaf tips, wilting, and stunted growth. \\nThe best practice is to empty drainage saucers rather than reusing the water.\\n', 'docid': 'doc1'}\n",
            "-97.81586456298828\n",
            "{'text': '\\n**Basic Plant Watering Guidelines**\\n\\nMost houseplants should be watered when the top inch of soil feels dry. \\nWater thoroughly until it drains from the bottom holes, then empty saucers after 30 minutes to prevent root rot. \\nDifferent plants have different needs - succulents need less water while tropical plants prefer consistently moist soil. \\nOverwatering causes more plant deaths than underwatering.\\n', 'docid': 'doc3'}\n",
            "-83.30533599853516\n",
            "{'text': '\\n**Water Conservation in Gardening**\\n\\nWater conservation is important for sustainable gardening. \\nTechniques include mulching to reduce evaporation, choosing drought-tolerant plants, and collecting rainwater in barrels. \\nDrip irrigation systems deliver water directly to plant roots with minimal waste. \\nThese methods can reduce garden water usage by up to 50% while maintaining healthy plants.\\n', 'docid': 'doc2'}\n",
            "-79.70660400390625\n"
          ]
        }
      ]
    },
    {
      "cell_type": "markdown",
      "metadata": {
        "id": "1zJl2VIHC3FF"
      },
      "source": [
        "# Additional resources\n",
        "You might also enjoy the following resources:\n",
        "\n",
        "- [LightOn Unlocks Agentic RAG with new SOTA Model Reason-ModernColBERT](https://www.lighton.ai/lighton-blogs/lighton-releases-reason-colbert)\n",
        "- [BRIGHT: A Realistic and Challenging Benchmark for Reasoning-Intensive Retrieval](https://arxiv.org/pdf/2407.12883)\n",
        "- Tutorial: [Weaviate multi-vector embeddings](https://weaviate.io/developers/weaviate/tutorials/multi-vector-embeddings)\n",
        "- Blog: [An Overview of Late Interaction Retrieval Models: ColBERT, ColPali, and ColQwen](https://weaviate.io/blog/late-interaction-overview)\n",
        "- Recipe notebooks [on multi-vector embeddings](https://github.com/weaviate/recipes/tree/main/weaviate-features/multi-vector)\n"
      ]
    }
  ],
  "metadata": {
    "kernelspec": {
      "display_name": "Python 3",
      "language": "python",
      "name": "python3"
    },
    "language_info": {
      "codemirror_mode": {
        "name": "ipython",
        "version": 3
      },
      "file_extension": ".py",
      "mimetype": "text/x-python",
      "name": "python",
      "nbconvert_exporter": "python",
      "pygments_lexer": "ipython3",
      "version": "3.9.6"
    },
    "colab": {
      "provenance": []
    }
  },
  "nbformat": 4,
  "nbformat_minor": 0
}