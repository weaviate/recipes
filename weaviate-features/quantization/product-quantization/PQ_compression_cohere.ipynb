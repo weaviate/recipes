{
 "cells": [
  {
   "cell_type": "markdown",
   "id": "25214daf",
   "metadata": {},
   "source": [
    "[![Open In Colab](https://colab.research.google.com/assets/colab-badge.svg)](https://colab.research.google.com/github/weaviate/recipes/blob/main/weaviate-features/quantization/product-quantization/PQ_compression_cohere.ipynb)"
   ]
  },
  {
   "cell_type": "markdown",
   "id": "6559ef2c",
   "metadata": {},
   "source": [
    "## Enabling Product Quantization(PQ) Vector Compression for your Class"
   ]
  },
  {
   "cell_type": "markdown",
   "id": "b08d8869",
   "metadata": {},
   "source": [
    "In order to compress vectors using PQ you need:\n",
    "\n",
    "**1.** Connect to a Weaviate instance and create a Collection\n",
    "\n",
    "**2.** Add datapoints to the class - it is recommended to add atleast 10k-100k objects to Weaviate before enabling PQ\n",
    "\n",
    "**3.** Enable PQ by updating the Collection configuration (This will take the datapoints and vectors already added to Weaviate and will train the PQ algorithm on them - learning centroids that can be used to compress current and any future added vectors):\n",
    "    \n",
    "    a. You can specify the `trainingLimit` which will allow you to dictate how many of the added vectors will be used to train the centroids. By default this will take upto the first 100k objects added to Weaviate\n",
    "    \n",
    "    b. You can specify the `segments` to use which will specify how many pieces to quantize the vectors into. This will dictate the compression rate."
   ]
  },
  {
   "cell_type": "markdown",
   "id": "4b913933",
   "metadata": {},
   "source": [
    "### 1. Connect to the Weaviate instance:"
   ]
  },
  {
   "cell_type": "code",
   "execution_count": null,
   "id": "1a611f7e",
   "metadata": {},
   "outputs": [],
   "source": [
    "import weaviate, os\n",
    "\n",
    "cohere_key = os.environ[\"COHERE_API_KEY\"] # Replace with your Cohere key\n",
    "\n",
    "# Connect to your local Weaviate instance deployed with Docker\n",
    "client = weaviate.connect_to_local(\n",
    "  headers={\n",
    "    \"X-COHERE-Api-Key\": cohere_key\n",
    "  }\n",
    ")\n",
    "\n",
    "# Option 2\n",
    "# Connect to your Weaviate Client Service cluster\n",
    "# client = weaviate.connect_to_wcs(\n",
    "#     cluster_id=\"WCS-CLUSTER-ID\", # Replace with your WCS cluster ID\n",
    "#     auth_credentials=weaviate.AuthApiKey(\n",
    "#       api_key=\"WCS-API-KEY\" # Replace with your WCS API KEY\n",
    "#     ),\n",
    "#     headers={\n",
    "#       \"X-COHERE-Api-Key\": cohere_key\n",
    "#     }\n",
    "# )\n",
    "\n",
    "client.is_ready()"
   ]
  },
  {
   "cell_type": "markdown",
   "id": "52467c5b",
   "metadata": {},
   "source": [
    "## Create a collection\n",
    "By default PQ will be `disabled`, as it needs to be enabled after enough data is loaded."
   ]
  },
  {
   "cell_type": "code",
   "execution_count": null,
   "id": "cf7636d7",
   "metadata": {},
   "outputs": [],
   "source": [
    "# Note: in practice, you shouldn't rerun this cell, as it deletes your data\n",
    "# in \"JeopardyQuestion\", and then you need to re-import it again.\n",
    "import weaviate.classes.config as wc\n",
    "\n",
    "# Delete the collection if it already exists\n",
    "if (client.collections.exists(\"JeopardyQuestion\")):\n",
    "    client.collections.delete(\"JeopardyQuestion\")\n",
    "\n",
    "client.collections.create(\n",
    "    name=\"JeopardyQuestion\",\n",
    "\n",
    "    vectorizer_config=wc.Configure.Vectorizer.text2vec_cohere(),\n",
    "\n",
    "    properties=[ # defining properties (data schema) is optional\n",
    "        wc.Property(name=\"question\", data_type=wc.DataType.TEXT), \n",
    "        wc.Property(name=\"answer\", data_type=wc.DataType.TEXT),\n",
    "        wc.Property(name=\"round\", data_type=wc.DataType.TEXT, skip_vectorization=True), \n",
    "    ]\n",
    ")\n",
    "\n",
    "print(\"Successfully created collection: JeopardyQuestion.\")"
   ]
  },
  {
   "cell_type": "markdown",
   "id": "3de09ed6",
   "metadata": {},
   "source": [
    "### 2. Add data to the instance:"
   ]
  },
  {
   "cell_type": "code",
   "execution_count": null,
   "id": "07a62d15",
   "metadata": {},
   "outputs": [],
   "source": [
    "import requests\n",
    "import json\n",
    "\n",
    "# Download the data\n",
    "resp = requests.get('https://raw.githubusercontent.com/weaviate-tutorials/intro-workshop/main/data/jeopardy_1k.json')\n",
    "data = json.loads(resp.text)  # Load data\n",
    "\n",
    "# Parse the JSON and preview it\n",
    "print(type(data), len(data))\n",
    "print(json.dumps(data[1], indent=2))"
   ]
  },
  {
   "cell_type": "code",
   "execution_count": 5,
   "id": "d0a2d2fc",
   "metadata": {},
   "outputs": [],
   "source": [
    "# Get a collection object for \"JeopardyQuestion\"\n",
    "jeopardy = client.collections.get(\"JeopardyQuestion\")\n",
    "\n",
    "items = []\n",
    "for o in data:\n",
    "    items.append(\n",
    "        {\n",
    "            'question':o[\"Question\"],\n",
    "            'answer':o[\"Answer\"],\n",
    "            'round':o[\"Round\"]\n",
    "        }\n",
    "    )\n",
    "\n",
    "    # insert items every time we have 100 \n",
    "    if(len(items) == 100):\n",
    "        response = jeopardy.data.insert_many(items)\n",
    "        items.clear()\n",
    "\n",
    "        # print errors if any\n",
    "        if(response.has_errors):\n",
    "            print(response.errors)\n",
    "\n",
    "# insert remaining items\n",
    "if(len(items)>0):\n",
    "    response = jeopardy.data.insert_many(items)\n",
    "    items.clear()\n",
    "\n",
    "    # print errors if any\n",
    "    if(response.has_errors):\n",
    "        print(response.errors)\n",
    "\n",
    "print(\"Data import complete\")"
   ]
  },
  {
   "cell_type": "code",
   "execution_count": null,
   "id": "57f315e5",
   "metadata": {},
   "outputs": [],
   "source": [
    "jeopardy.aggregate.over_all()"
   ]
  },
  {
   "cell_type": "markdown",
   "id": "1cec8642",
   "metadata": {},
   "source": [
    "Perform a vector search:"
   ]
  },
  {
   "cell_type": "code",
   "execution_count": null,
   "metadata": {},
   "outputs": [],
   "source": [
    "# note, you can reuse the collection object from the previous cell.\n",
    "# Get a collection object for \"JeopardyQuestion\"\n",
    "jeopardy = client.collections.get(\"JeopardyQuestion\")\n",
    "\n",
    "response = jeopardy.query.near_text(\n",
    "    query=\"spicy food recipes\",\n",
    "    return_metadata=[\"distance\"],\n",
    "    limit=2\n",
    ")\n",
    "\n",
    "for item in response.objects:\n",
    "    print(\"Distance:\", item.metadata.distance)\n",
    "    print(\"Data:\", json.dumps(item.properties, indent=2), \"\\n\")"
   ]
  },
  {
   "cell_type": "markdown",
   "id": "ad603373",
   "metadata": {},
   "source": [
    "### 3. Enable PQ by updating the Collection:"
   ]
  },
  {
   "cell_type": "code",
   "execution_count": 12,
   "metadata": {},
   "outputs": [],
   "source": [
    "import weaviate.classes.config as wc\n",
    "\n",
    "jeopardy.config.update(\n",
    "    vector_index_config=wc.Reconfigure.vector_index(\n",
    "        pq_enabled=True,\n",
    "        pq_training_limit=10000, # (optional) Number of vectors to be used to train PQ. Default value: 100k vectors\n",
    "        pq_segments=96 #how many segments to break/quantize the vector representation into - has to be an integer multiple of vector dimension\n",
    "    )\n",
    ")"
   ]
  },
  {
   "cell_type": "markdown",
   "id": "c98349ae",
   "metadata": {},
   "source": [
    "Your Weaviate instance will then enable compression and if you're monitoring the instance it will log the following:\n",
    "\n",
    "\n",
    "```bash\n",
    "product_quantization_compression-weaviate-1  | {\"action\":\"compress\",\"level\":\"info\",\"msg\":\"switching to compressed vectors\",\"time\":\"2023-11-13T21:10:52Z\"}\n",
    "\n",
    "product_quantization_compression-weaviate-1  | {\"action\":\"compress\",\"level\":\"info\",\"msg\":\"vector compression complete\",\"time\":\"2023-11-13T21:10:53Z\"}\n",
    "```"
   ]
  },
  {
   "cell_type": "markdown",
   "id": "5c0943f5",
   "metadata": {},
   "source": [
    "Re-run the same vector search now on PQ compressed vectors, (Rescoring is enabled by default)"
   ]
  },
  {
   "cell_type": "code",
   "execution_count": null,
   "id": "d8899328",
   "metadata": {},
   "outputs": [],
   "source": [
    "# note, you can reuse the collection object from the previous cell.\n",
    "# Get a collection object for \"JeopardyQuestion\"\n",
    "jeopardy = client.collections.get(\"JeopardyQuestion\")\n",
    "\n",
    "response = jeopardy.query.near_text(\n",
    "    query=\"spicy food recipes\",\n",
    "    return_metadata=[\"distance\"],\n",
    "    limit=2\n",
    ")\n",
    "\n",
    "for item in response.objects:\n",
    "    print(\"Distance:\", item.metadata.distance)\n",
    "    print(\"Data:\", json.dumps(item.properties, indent=2), \"\\n\")"
   ]
  }
 ],
 "metadata": {
  "kernelspec": {
   "display_name": "Python 3 (ipykernel)",
   "language": "python",
   "name": "python3"
  },
  "language_info": {
   "codemirror_mode": {
    "name": "ipython",
    "version": 3
   },
   "file_extension": ".py",
   "mimetype": "text/x-python",
   "name": "python",
   "nbconvert_exporter": "python",
   "pygments_lexer": "ipython3",
   "version": "3.11.7"
  }
 },
 "nbformat": 4,
 "nbformat_minor": 5
}
