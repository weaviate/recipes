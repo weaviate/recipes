{
  "cells": [
    {
      "cell_type": "markdown",
      "metadata": {},
      "source": [
        "[![Open In Colab](https://colab.research.google.com/assets/colab-badge.svg)](https://colab.research.google.com/github/weaviate/recipes/weaviate-features/model-providers/aws/rag_titan-text-express-v1_bedrock.ipynb)"
      ]
    },
    {
      "cell_type": "markdown",
      "metadata": {
        "id": "rJD9aP9eVcsT"
      },
      "source": [
        "## Dependencies"
      ]
    },
    {
      "cell_type": "code",
      "execution_count": null,
      "metadata": {
        "id": "ReE5TWeXSDTe"
      },
      "outputs": [],
      "source": [
        "!pip install weaviate-client"
      ]
    },
    {
      "cell_type": "markdown",
      "metadata": {
        "id": "p9Mkfza_SFKM"
      },
      "source": [
        "## Configuration"
      ]
    },
    {
      "cell_type": "code",
      "execution_count": null,
      "metadata": {
        "id": "fn9Pbq7mSGqN"
      },
      "outputs": [],
      "source": [
        "import weaviate, os\n",
        "\n",
        "# Connect to your local Weaviate instance deployed with Docker\n",
        "client = weaviate.connect_to_local(\n",
        "    headers={\n",
        "        \"X-AWS-Access-Key\": os.getenv(\"AWS_ACCESS_KEY\"), # Replace with your AWS access key - recommended: use env var\n",
        "        \"X-AWS-Secret-Key\": os.getenv(\"AWS_SECRET_KEY\"), # Replace with your AWS secret key - recommended: use env var\n",
        "    }\n",
        ")\n",
        "\n",
        "# Option 2\n",
        "# Connect to your Weaviate Client Service cluster\n",
        "# client = weaviate.connect_to_wcs(\n",
        "#     cluster_url=\"WCS-CLUSTER-ID\",                             # Replace with your WCS cluster ID\n",
        "#     auth_credentials=weaviate.auth.AuthApiKey(\"WCS-API-KEY\"), # Replace with your WCS API KEY - recommended: use env var\n",
        "#     headers={\n",
        "#         \"X-AWS-Access-Key\": os.getenv(\"AWS_ACCESS_KEY\"), # Replace with your AWS access key - recommended: use env var\n",
        "#         \"X-AWS-Secret-Key\": os.getenv(\"AWS_SECRET_KEY\"), # Replace with your AWS secret key - recommended: use env var\n",
        "#     }\n",
        "# )\n",
        "\n",
        "client.is_ready()"
      ]
    },
    {
      "cell_type": "markdown",
      "metadata": {
        "id": "jL7QiiDjTjwl"
      },
      "source": [
        "## Create a collection\n",
        "> Collection stores your data and vector embeddings."
      ]
    },
    {
      "cell_type": "code",
      "execution_count": null,
      "metadata": {},
      "outputs": [],
      "source": [
        "# Note: in practice, you shouldn\"t rerun this cell, as it deletes your data\n",
        "# in \"JeopardyQuestion\", and then you need to re-import it again.\n",
        "import weaviate.classes.config as wc\n",
        "\n",
        "# Delete the collection if it already exists\n",
        "if (client.collections.exists(\"JeopardyQuestion\")):\n",
        "    client.collections.delete(\"JeopardyQuestion\")\n",
        "\n",
        "client.collections.create(\n",
        "    name=\"JeopardyQuestion\",\n",
        "\n",
        "    vectorizer_config=wc.Configure.Vectorizer.text2vec_aws(\n",
        "        service=\"bedrock\",   #this is crucial\n",
        "        model=\"cohere.embed-english-v3\", # select the model, make sure it is enabled for your account\n",
        "        # model=\"amazon.titan-embed-text-v1\", # select the model, make sure it is enabled for your account\n",
        "        region=\"eu-west-2\"               # select your region\n",
        "    ),\n",
        "\n",
        "    # Enable generative model from AWS\n",
        "    generative_config=wc.Configure.Generative.aws(\n",
        "        service=\"bedrock\",   #this is crucial\n",
        "        model=\"amazon.titan-text-express-v1\", # select the model, make sure it is enabled for your account\n",
        "        region=\"eu-west-2\"               # select your region\n",
        "    ),\n",
        "\n",
        "    properties=[ # defining properties (data schema) is optional\n",
        "        wc.Property(name=\"Question\", data_type=wc.DataType.TEXT), \n",
        "        wc.Property(name=\"Answer\", data_type=wc.DataType.TEXT),\n",
        "        wc.Property(name=\"Category\", data_type=wc.DataType.TEXT, skip_vectorization=True), \n",
        "    ]\n",
        ")\n",
        "\n",
        "print(\"Successfully created collection: JeopardyQuestion.\")"
      ]
    },
    {
      "cell_type": "markdown",
      "metadata": {
        "id": "AiQVGMnOXs_L"
      },
      "source": [
        "## Import the Data"
      ]
    },
    {
      "cell_type": "code",
      "execution_count": null,
      "metadata": {
        "id": "Mg4k9nvLXu-7"
      },
      "outputs": [],
      "source": [
        "import requests, json\n",
        "url = \"https://raw.githubusercontent.com/weaviate/weaviate-examples/main/jeopardy_small_dataset/jeopardy_tiny.json\"\n",
        "resp = requests.get(url)\n",
        "data = json.loads(resp.text)\n",
        "\n",
        "# Get a collection object for \"JeopardyQuestion\"\n",
        "jeopardy = client.collections.get(\"JeopardyQuestion\")\n",
        "\n",
        "# Insert data objects\n",
        "response = jeopardy.data.insert_many(data)\n",
        "\n",
        "# Note, the `data` array contains 10 objects, which is great to call insert_many with.\n",
        "# However, if you have a milion objects to insert, then you should spit them into smaller batches (i.e. 100-1000 per insert)\n",
        "\n",
        "if (response.has_errors):\n",
        "    print(response.errors)\n",
        "else:\n",
        "    print(\"Insert complete.\")"
      ]
    },
    {
      "cell_type": "markdown",
      "metadata": {
        "id": "9Yk3Hg5tXyMh"
      },
      "source": [
        "## Generative Search Queries"
      ]
    },
    {
      "cell_type": "markdown",
      "metadata": {
        "id": "7qs5NLTWX4Q0"
      },
      "source": [
        "### Single Result"
      ]
    },
    {
      "cell_type": "markdown",
      "metadata": {
        "id": "t4me1jL0fkDR"
      },
      "source": [
        "Single Result makes a generation for each individual search result. \n",
        "\n",
        "In the below example, I want to create a Facebook ad from the Jeopardy question about Elephants. "
      ]
    },
    {
      "cell_type": "code",
      "execution_count": null,
      "metadata": {},
      "outputs": [],
      "source": [
        "generatePrompt = \"Turn the following Jeogrady question into a Facebook Ad: {question}\"\n",
        "\n",
        "jeopardy = client.collections.get(\"JeopardyQuestion\")\n",
        "response = jeopardy.generate.near_text(\n",
        "    query=\"Elephants\",\n",
        "    limit=2,\n",
        "    single_prompt=generatePrompt\n",
        ")\n",
        "\n",
        "for item in response.objects:\n",
        "    print(json.dumps(item.properties, indent=1))\n",
        "    print(\"-----vvvvvv-----\")\n",
        "    print(item.generated)\n",
        "    print(\"-----^^^^^^-----\")"
      ]
    },
    {
      "cell_type": "markdown",
      "metadata": {
        "id": "Rg1JvRTFfgla"
      },
      "source": [
        "### Grouped Result"
      ]
    },
    {
      "cell_type": "markdown",
      "metadata": {
        "id": "51RANrlhgoyh"
      },
      "source": [
        "Grouped Result generates a single response from all the search results. \n",
        "\n",
        "The below example is creating a Facebook ad from the 2 retrieved Jeoprady questions about animals. "
      ]
    },
    {
      "cell_type": "code",
      "execution_count": null,
      "metadata": {},
      "outputs": [],
      "source": [
        "generateTask = \"Explain why these Jeopardy questions are under the Animals category.\"\n",
        "\n",
        "jeopardy = client.collections.get(\"JeopardyQuestion\")\n",
        "response = jeopardy.generate.near_text(\n",
        "    query=\"Animals\",\n",
        "    limit=3,\n",
        "    grouped_task=generateTask\n",
        ")\n",
        "\n",
        "print(response.generated)"
      ]
    }
  ],
  "metadata": {
    "colab": {
      "provenance": []
    },
    "kernelspec": {
      "display_name": "Python 3",
      "name": "python3"
    },
    "language_info": {
      "codemirror_mode": {
        "name": "ipython",
        "version": 3
      },
      "file_extension": ".py",
      "mimetype": "text/x-python",
      "name": "python",
      "nbconvert_exporter": "python",
      "pygments_lexer": "ipython3",
      "version": "3.9.6"
    }
  },
  "nbformat": 4,
  "nbformat_minor": 0
}
