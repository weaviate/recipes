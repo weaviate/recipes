{
 "cells": [
  {
   "cell_type": "markdown",
   "metadata": {},
   "source": [
    "[![Open In Colab](https://colab.research.google.com/assets/colab-badge.svg)](https://colab.research.google.com/github/weaviate/recipes/blob/main/weaviate-features/model-providers/deepseek/rag_deepseek_r1:1.5b.ipynb)"
   ]
  },
  {
   "cell_type": "markdown",
   "metadata": {},
   "source": [
    "# A Game Recommender RAG with DeepSeek & Ollama\n",
    "\n",
    "_by Tuana Celik ([LI](https://www.linkedin.com/in/tuanacelik/), [X](https://x.com/tuanacelik), [🦋](https://bsky.app/profile/tuana.dev))_\n",
    "\n",
    "In this recipe, we are building  a custom RAG application designed to provide recommendations for games.\n",
    "\n",
    "We use `games.csv` from the Epic Games dataset made public [here on Kaggle](https://www.kaggle.com/datasets/mexwell/epic-games-store-dataset).\n",
    "\n",
    "- LLM: We run the `deepseek-r1:1.5b` model with Ollama\n",
    "- Embedding model: For this example, we use the the `text2vec_openai` component with Weaviate, using the defuault `text-embedding-3-small` model.\n",
    "\n",
    "## Install Dependencies & Set API Keys"
   ]
  },
  {
   "cell_type": "code",
   "execution_count": null,
   "metadata": {},
   "outputs": [],
   "source": [
    "!pip install weaviate-client pandas tqdm ollama"
   ]
  },
  {
   "cell_type": "code",
   "execution_count": 9,
   "metadata": {},
   "outputs": [],
   "source": [
    "from getpass import getpass\n",
    "import os\n",
    "\n",
    "if \"OPENAI_APIKEY\" not in os.environ:\n",
    "    os.environ[\"OPENAI_APIKEY\"] = getpass(\"Enter your OpenAI API Key\")"
   ]
  },
  {
   "cell_type": "markdown",
   "metadata": {},
   "source": [
    "## Run the Model\n",
    "\n",
    "For this example, we're running the `deepseek-r1:1.5b` model locally with ollama. For more information on how to run this on your OS, check out the [Ollama Docs](https://ollama.com/library/deepseek-r1).\n",
    "\n",
    "For example, on Mac:\n",
    "\n",
    "```bash\n",
    "ollama run deepseek-r1:1.5b\n",
    "```"
   ]
  },
  {
   "cell_type": "markdown",
   "metadata": {},
   "source": [
    "## Create & Populate Weaviate Collection\n",
    "\n",
    "First, we have to create a Weaviate collection and add some data into it. To complete this section:\n",
    "1. Download the `games.csv` file from Kaggle\n",
    "2. Use the following `docker-compose.yml` and run `docker compose up` to start Weaviate with the `generative-ollama` and `text2vec-openai` modules enabled. \n",
    "\n",
    "```yml \n",
    "---\n",
    "services:\n",
    "  weaviate_anon:\n",
    "    command:\n",
    "    - --host\n",
    "    - 0.0.0.0\n",
    "    - --port\n",
    "    - '8080'\n",
    "    - --scheme\n",
    "    - http\n",
    "    image: cr.weaviate.io/semitechnologies/weaviate:1.28.4\n",
    "    ports:\n",
    "    - 8080:8080\n",
    "    - 50051:50051\n",
    "    restart: on-failure:0\n",
    "    environment:\n",
    "      QUERY_DEFAULTS_LIMIT: 25\n",
    "      AUTHENTICATION_ANONYMOUS_ACCESS_ENABLED: 'true'\n",
    "      PERSISTENCE_DATA_PATH: '/var/lib/weaviate'\n",
    "      ENABLE_API_BASED_MODULES: 'true'\n",
    "      BACKUP_FILESYSTEM_PATH: '/var/lib/weaviate/backups'\n",
    "      CLUSTER_HOSTNAME: 'node1'\n",
    "      LOG_LEVEL: 'trace'\n",
    "      ENABLE_MODULES: \"text2vec-openai,generative-ollama\"\n",
    "...\n",
    "\n",
    "```\n",
    "3. Now, you can create a new collection called \"Games\" below"
   ]
  },
  {
   "cell_type": "code",
   "execution_count": 10,
   "metadata": {},
   "outputs": [
    {
     "data": {
      "text/plain": [
       "<weaviate.collections.collection.sync.Collection at 0x12999fd40>"
      ]
     },
     "execution_count": 10,
     "metadata": {},
     "output_type": "execute_result"
    }
   ],
   "source": [
    "import weaviate\n",
    "import weaviate.classes.config as wc\n",
    "from weaviate.util import generate_uuid5\n",
    "import os\n",
    "from tqdm import tqdm\n",
    "import pandas as pd\n",
    "\n",
    "headers = {\"X-OpenAI-Api-Key\": os.getenv(\"OPENAI_APIKEY\")}\n",
    "client = weaviate.connect_to_local(headers=headers)\n",
    "\n",
    "if client.collections.exists(\"Games\"):\n",
    "    client.collections.delete(\"Games\")\n",
    "client.collections.create(\n",
    "    name=\"Games\",\n",
    "    properties=[\n",
    "        wc.Property(name=\"name\", data_type=wc.DataType.TEXT),\n",
    "        wc.Property(name=\"price\", data_type=wc.DataType.INT),\n",
    "        wc.Property(name=\"platforms\", data_type=wc.DataType.TEXT_ARRAY),\n",
    "        wc.Property(name=\"release_date\", data_type=wc.DataType.DATE),\n",
    "        wc.Property(name=\"description\", data_type=wc.DataType.TEXT),\n",
    "    ],\n",
    "    generative_config=wc.Configure.Generative.ollama(model=\"deepseek-r1:1.5b\",\n",
    "                                                     api_endpoint=\"http://host.docker.internal:11434\"),\n",
    "    vectorizer_config=wc.Configure.Vectorizer.text2vec_openai(),\n",
    "\n",
    ")"
   ]
  },
  {
   "cell_type": "markdown",
   "metadata": {},
   "source": [
    "4. Finally, we can add some of the data from `games.csv` to our collection. "
   ]
  },
  {
   "cell_type": "code",
   "execution_count": 11,
   "metadata": {},
   "outputs": [
    {
     "name": "stderr",
     "output_type": "stream",
     "text": [
      "915it [00:09, 96.86it/s] \n"
     ]
    }
   ],
   "source": [
    "\n",
    "games = client.collections.get(\"Games\")\n",
    "\n",
    "df = pd.read_csv('games.csv')\n",
    "\n",
    "with games.batch.dynamic() as batch:\n",
    "    for i, game in tqdm(df.iterrows()):\n",
    "        platforms = game[\"platform\"].split(',') if type(game[\"platform\"]) is str else []\n",
    "        game_obj = {\n",
    "            \"name\": game[\"name\"],\n",
    "            \"platforms\": platforms,\n",
    "            \"price\": game[\"price\"],\n",
    "            \"release_date\": game[\"release_date\"],\n",
    "            \"description\": game[\"description\"],\n",
    "        }\n",
    "\n",
    "        batch.add_object(\n",
    "            properties=game_obj,\n",
    "            uuid=generate_uuid5(game[\"id\"])\n",
    "        )\n",
    "if len(games.batch.failed_objects) > 0:\n",
    "    print(f\"Failed to import {len(games.batch.failed_objects)} objects\")\n",
    "    print(games.batch.failed_objects)"
   ]
  },
  {
   "cell_type": "markdown",
   "metadata": {},
   "source": [
    "## Embedding Search \n",
    "\n",
    "The code block below is returning 3 of the most relevant games to the query. But we are not yet doing RAG with a specific instruction over these retrieved games."
   ]
  },
  {
   "cell_type": "code",
   "execution_count": 12,
   "metadata": {},
   "outputs": [
    {
     "name": "stdout",
     "output_type": "stream",
     "text": [
      "{'platforms': ['Windows'], 'description': \"A dark fantasy roguelike where you play as the Devil! Lead famous evil geniuses through events and turn-based fights to spread terror and corruption, and use your evil powers to change the game's rules to your advantage.\", 'price': 2499, 'release_date': datetime.datetime(2021, 9, 30, 8, 0, tzinfo=datetime.timezone.utc), 'name': 'Rogue Lords'}\n",
      "{'platforms': ['Windows'], 'description': 'Smash, clobber and bash the murderous legends of Slavic mythology in this darkly funny action role-playing game that changes every time you play. Play as Ivan, a one-handed blacksmith with incredibly bad luck, who must take on the impossible tasks given to him by the tzar. All...', 'price': 2499, 'release_date': datetime.datetime(2019, 11, 12, 14, 0, tzinfo=datetime.timezone.utc), 'name': 'Yaga'}\n",
      "{'platforms': ['Windows'], 'description': 'In a violent, medieval world, outplay rival gangs in intense PvPvE multiplayer heists. Moving in stealth to steal treasures unseen or dominating through loud and brutal combat, only the best will escape with hard-earned riches.', 'name': 'Hood: Outlaws & Legends', 'release_date': datetime.datetime(2021, 5, 10, 15, 0, tzinfo=datetime.timezone.utc), 'price': 1999}\n"
     ]
    }
   ],
   "source": [
    "response = games.query.near_text(query=\"I play the vilain\", limit=3)\n",
    "\n",
    "for o in response.objects:\n",
    "    print(o.properties)"
   ]
  },
  {
   "cell_type": "markdown",
   "metadata": {},
   "source": [
    "## Recommendation RAG\n",
    "\n",
    "Finally, we can crate a `recommend_game` function which is able to do rag with a `grouped_task` instruction. \n",
    "\n",
    "You can try changing this instruction to something else too!\n",
    "\n",
    "Below, we create an application which provides recommendations based on the most relevant 5 games in the dataset based on the user query, as well as providing information on what openrating systems the games are available on 👇\n",
    "\n",
    "This generated response uses `deepseek-r1:1.5b`, which provides the thought generated by the model between `<think> </think>` tags. I've set up this function to return both `recommendation` and `thought`. You can later print these out separately. "
   ]
  },
  {
   "cell_type": "code",
   "execution_count": 28,
   "metadata": {},
   "outputs": [],
   "source": [
    "def recommend_game(query: str):\n",
    "    \n",
    "    response = games.generate.near_text(\n",
    "        query=query,\n",
    "        limit=5,\n",
    "        grouped_task=f\"\"\"You've been provided some relevant games based on the users query. \n",
    "        Provide an answer to the query. Your final answer MUST indicate the platform each game is available on. \n",
    "        User query: {query}\"\"\",\n",
    "        grouped_properties=[\"name\", \"description\", \"price\", \"platforms\"],     \n",
    "    )\n",
    "    return {'thought':response.generated.split('</think>')[0], 'recommendation': response.generated.split('</think>')[1]}"
   ]
  },
  {
   "cell_type": "code",
   "execution_count": 30,
   "metadata": {},
   "outputs": [
    {
     "name": "stdout",
     "output_type": "stream",
     "text": [
      "\n",
      "\n",
      "Here are several games that allow you to role-play as a magical creature:\n",
      "\n",
      "1. **Mages of Mystralia**  \n",
      "   - **Platform:** Windows  \n",
      "   - Description: A fantasy RPG where you design your own spells in a world of magic, allowing creativity and flexibility.\n",
      "\n",
      "2. **Geneforge 1 - Mutagen**  \n",
      "   - **Platforms:** Windows, Mac  \n",
      "   - Description: An open-ended RPG with mutant monsters, multiple skills, treasures, factions, and creation possibilities, offering unparalleled freedom and replayability.\n",
      "\n",
      "3. **Beasts of Maravilla Island**  \n",
      "   - **Platform:** Windows  \n",
      "   - Description: A 3D adventure game where you role as a wildlife photographer exploring magical ecosystems, focusing on behavior learning for photography.\n",
      "\n",
      "4. **Paper Beast**  \n",
      "   - **Platforms:** Windows (PC)  \n",
      "   - Description: An adventure game about disrupting wildlife balance with a focus on exotic creatures and mystery-solving.\n",
      "\n",
      "5. **Black Book**  \n",
      "   - **Platform:** Windows  \n",
      "   - Description: A dark RPG based on Slavic myths, played as a young sorceress in a world of mythological creatures through card-based battles.\n",
      "\n",
      "Each game offers unique experiences suitable for role-playing as a magical creature.\n"
     ]
    }
   ],
   "source": [
    "response = recommend_game(\"What are some games that I get to role play a magical creature\")\n",
    "print(response['recommendation'])"
   ]
  },
  {
   "cell_type": "code",
   "execution_count": 32,
   "metadata": {},
   "outputs": [
    {
     "name": "stdout",
     "output_type": "stream",
     "text": [
      "<think>\n",
      "Okay, so I need to figure out some games that let me role-play as a magical creature. The user provided several options, each with a description and platform. Let me go through them one by one.\n",
      "\n",
      "First up is \"Mages of Mystralia.\" From the description, it's a fantasy RPG where you design your own spells in a world of magic. That sounds perfect because it allows for a lot of creativity as a magical creature. The platform is Windows, so maybe the user can run it on their PC or any desktop system.\n",
      "\n",
      "Next is \"Geneforge 1 - Mutagen.\" This seems like an open-ended RPG with mutant monsters and a battle mechanic. It's described as having countless skills, treasures, factions, and creation possibilities. Unmatched freedom and replayability make sense because it allows for various storylines. The platform here is Windows and Mac, so compatible options would be useful.\n",
      "\n",
      "Then there's \"Beasts of Maravilla Island.\" As the name suggests, it's a 3D adventure game where you take on a wildlife photographer exploring ecosystems. It focuses on behavior learning and photography, which could be exciting for someone looking to role-play in nature. The platform is Windows, so that should be accessible.\n",
      "\n",
      "\"Paper Beast\" is another adventure game mentioned. It's about an unknown power disrupting wildlife balance, with players joining exotic creatures to solve mysteries. While it's PC-focused, maybe there are porting options available or different devices that can run it if the user has access to them.\n",
      "\n",
      "Lastly, \"Black Book.\" This dark RPG is based on Slavic myths and played as a young sorceress. It involves card-based battles in a world with mythological creatures. The platform here is Windows, so maybe older hardware might be a bit limiting unless the user has an updated PC or a dedicated console.\n",
      "\n",
      "I should make sure each game is listed clearly with their platforms and any necessary details about how they work as magical creatures. Also, it's good to offer a couple of options if some aren't available. Maybe suggest cross-platform games or platforms that can be used for playing.\n",
      "\n"
     ]
    }
   ],
   "source": [
    "print(response['thought'])"
   ]
  }
 ],
 "metadata": {
  "kernelspec": {
   "display_name": "deepseek",
   "language": "python",
   "name": "python3"
  },
  "language_info": {
   "codemirror_mode": {
    "name": "ipython",
    "version": 3
   },
   "file_extension": ".py",
   "mimetype": "text/x-python",
   "name": "python",
   "nbconvert_exporter": "python",
   "pygments_lexer": "ipython3",
   "version": "3.12.8"
  }
 },
 "nbformat": 4,
 "nbformat_minor": 2
}
