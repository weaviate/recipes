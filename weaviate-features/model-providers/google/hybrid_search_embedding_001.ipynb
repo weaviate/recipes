{
  "cells": [
    {
      "cell_type": "markdown",
      "metadata": {},
      "source": [
        "[![Open In Colab](https://colab.research.google.com/assets/colab-badge.svg)](https://colab.research.google.com/github/weaviate/recipes/blob/main/weaviate-features/model-providers/google/hybrid_search_embedding_001.ipynb)"
      ]
    },
    {
      "cell_type": "markdown",
      "metadata": {},
      "source": [
        "# Hybrid Search with Gemini\n",
        "\n",
        "This recipe will show you how to run hybrid search with embeddings from Google's Gemini."
      ]
    },
    {
      "cell_type": "code",
      "execution_count": null,
      "metadata": {
        "id": "wCyahGvfjHH3"
      },
      "outputs": [],
      "source": [
        "!pip install --q weaviate-client"
      ]
    },
    {
      "cell_type": "code",
      "execution_count": 2,
      "metadata": {},
      "outputs": [
        {
          "name": "stdout",
          "output_type": "stream",
          "text": [
            "\u001b[33mWARNING: Ignoring invalid distribution ~eaviate-client (/usr/local/lib/python3.11/site-packages)\u001b[0m\u001b[33m\n",
            "\u001b[0mName: weaviate-client\n",
            "Version: 4.10.4\n",
            "Summary: A python native Weaviate client\n",
            "Home-page: https://github.com/weaviate/weaviate-python-client\n",
            "Author: Weaviate\n",
            "Author-email: hello@weaviate.io,\n",
            "License: BSD 3-clause\n",
            "Location: /usr/local/lib/python3.11/site-packages\n",
            "Requires: authlib, grpcio, grpcio-health-checking, grpcio-tools, httpx, pydantic, validators\n",
            "Required-by: crewai-tools, goldenverba, langchain-weaviate, llama-index-vector-stores-weaviate, vector-etl\n"
          ]
        }
      ],
      "source": [
        "!pip show weaviate-client"
      ]
    },
    {
      "cell_type": "code",
      "execution_count": 3,
      "metadata": {},
      "outputs": [],
      "source": [
        "import weaviate, os\n",
        "from weaviate.embedded import EmbeddedOptions\n",
        "import weaviate.classes as wvc\n",
        "import weaviate.classes.config as wc\n",
        "import requests, json\n",
        "import weaviate.classes.query as wq"
      ]
    },
    {
      "cell_type": "markdown",
      "metadata": {},
      "source": [
        "## Requirements\n",
        "\n",
        "1. Weaviate cluster\n",
        "    1. You can create a 14-day free sandbox on [WCD](https://console.weaviate.cloud/)\n",
        "    2. [Embedded Weaviate](https://weaviate.io/developers/weaviate/installation/embedded)\n",
        "    3. [Local deployment](https://weaviate.io/developers/weaviate/installation/docker-compose#starter-docker-compose-file)\n",
        "    4. [Other options](https://weaviate.io/developers/weaviate/installation)\n",
        "2. [Gemini API Key](https://aistudio.google.com/app/apike) or[ Vertex AI token](https://cloud.google.com/vertex-ai?hl=e)"
      ]
    },
    {
      "cell_type": "markdown",
      "metadata": {},
      "source": [
        "## Connect to Weaviate\n",
        "\n",
        "Only choose one option from the below.\n",
        "\n",
        "You can access Gemini through Vertex AI or AI Studio. Depending on which you choose, you will need to change the header when connecting to Weaviate (`X-Goog-Vertex-Api-Key` or `X-Goog-Studio-Api-Key`)"
      ]
    },
    {
      "cell_type": "markdown",
      "metadata": {},
      "source": [
        "**Weaviate Cloud Deployment**"
      ]
    },
    {
      "cell_type": "code",
      "execution_count": 4,
      "metadata": {},
      "outputs": [
        {
          "name": "stdout",
          "output_type": "stream",
          "text": [
            "True\n"
          ]
        }
      ],
      "source": [
        "WCD_URL = os.environ[\"WEAVIATE_URL\"] # Replace with your Weaviate cluster URL\n",
        "WCD_AUTH_KEY = os.environ[\"WEAVIATE_AUTH\"] # Replace with your cluster auth key\n",
        "GEMINI_KEY = os.environ[\"GEMINI_API_KEY\"] # Either or. Replace with your Gemini API key (AI Studio)\n",
        "VERTEX_AI_KEY = os.environ[\"VERTEX_AI_KEY\"] # Either or. Replace with your Vertex AI auth token\n",
        "\n",
        "\n",
        "# Weaviate Cloud Deployment\n",
        "client = weaviate.connect_to_weaviate_cloud(\n",
        "    cluster_url=WCD_URL,\n",
        "    auth_credentials=weaviate.auth.AuthApiKey(WCD_AUTH_KEY),\n",
        "      headers={ \"X-Goog-Studio-Api-Key\": GEMINI_KEY} # switch to `X-Goog-Vertex-Api-Key` if you're using Vertex AI\n",
        ")\n",
        "\n",
        "print(client.is_ready())"
      ]
    },
    {
      "cell_type": "markdown",
      "metadata": {},
      "source": [
        "**Local Instance**"
      ]
    },
    {
      "cell_type": "code",
      "execution_count": null,
      "metadata": {
        "id": "-yrJZaNJwcCc"
      },
      "outputs": [],
      "source": [
        "import weaviate\n",
        "from weaviate import WeaviateClient\n",
        "\n",
        "def connect_to_weaviate(palm_key) -> WeaviateClient:\n",
        "    # Connect to your local Weaviate instance deployed with Docker\n",
        "    client = weaviate.connect_to_local(\n",
        "        headers={\n",
        "            \"X-Goog-Vertex-Api-Key\": vertex_ai_key,\n",
        "        }\n",
        "    )\n",
        "\n",
        "    print(client.is_ready())\n",
        "\n",
        "    return client"
      ]
    },
    {
      "cell_type": "markdown",
      "metadata": {
        "id": "CfL6wp85WzuT"
      },
      "source": [
        "### Expired Google Cloud Token\n",
        "\n",
        "If you're using Vertex AI, you will need to refresh your token every 60 minutes. \n",
        "\n",
        "**If you're using AI Studio, ignore the below portion.**"
      ]
    },
    {
      "cell_type": "markdown",
      "metadata": {
        "id": "AUIzJ34AXFPB"
      },
      "source": [
        "The Google Cloud's OAuth 2.0 access tokens only have a **one** hour lifetime. This means you have to replace the expired token with a valid one and it to Weaviate by re-instantiating the client. "
      ]
    },
    {
      "cell_type": "markdown",
      "metadata": {
        "id": "9wtTMIAsXbl-"
      },
      "source": [
        "#### Option 1: With Google Cloud CLI"
      ]
    },
    {
      "cell_type": "code",
      "execution_count": null,
      "metadata": {
        "id": "V1gpjJI1XvKs"
      },
      "outputs": [],
      "source": [
        "import subprocess\n",
        "\n",
        "def refresh_token_with_GC_CLI() -> str:\n",
        "    result = subprocess.run([\"gcloud\", \"auth\", \"print-access-token\"], capture_output=True, text=True)\n",
        "    if result.returncode != 0:\n",
        "        print(f\"Error refreshing token: {result.stderr}\")\n",
        "        return None\n",
        "    return result.stdout.strip()"
      ]
    },
    {
      "cell_type": "markdown",
      "metadata": {
        "id": "GGzpT8fRX0Vk"
      },
      "source": [
        "Then you could run the below cell periodically."
      ]
    },
    {
      "cell_type": "code",
      "execution_count": null,
      "metadata": {
        "id": "XFJvjTkwXqF8"
      },
      "outputs": [],
      "source": [
        "# Run every 60 minutes\n",
        "token = refresh_token_with_GC_CLI\n",
        "client = connect_to_weaviate(token)"
      ]
    },
    {
      "cell_type": "markdown",
      "metadata": {
        "id": "YG97B310X5Q5"
      },
      "source": [
        "#### Option 2: With `google-auth`\n",
        "\n",
        "See the links to google-auth in [Python](https://google-auth.readthedocs.io/en/master/index.html) and [Node.js](https://cloud.google.com/nodejs/docs/reference/google-auth-library/latest) libraries."
      ]
    },
    {
      "cell_type": "code",
      "execution_count": null,
      "metadata": {
        "id": "mDisIHXSXq4p"
      },
      "outputs": [],
      "source": [
        "from google.auth.transport.requests import Request\n",
        "from google.oauth2.service_account import Credentials\n",
        "\n",
        "def get_credentials() -> Credentials:\n",
        "    credentials = Credentials.from_service_account_file('path/to/your/service-account.json', scopes=['openid'])\n",
        "    request = Request()\n",
        "    credentials.refresh(request)\n",
        "    return credentials"
      ]
    },
    {
      "cell_type": "markdown",
      "metadata": {
        "id": "edRTdzuNYjZK"
      },
      "source": [
        "Then run the below periodically:"
      ]
    },
    {
      "cell_type": "code",
      "execution_count": null,
      "metadata": {
        "id": "sAQMCZJJYp--"
      },
      "outputs": [],
      "source": [
        "# Run every 60 minutes\n",
        "credentials = get_credentials()\n",
        "client = connect_to_weaviate(credentials.token)"
      ]
    },
    {
      "cell_type": "markdown",
      "metadata": {
        "id": "Ze5J8E4MWC8g"
      },
      "source": [
        "## Create a collection\n",
        "> Collection stores your data and vector embeddings."
      ]
    },
    {
      "cell_type": "code",
      "execution_count": 6,
      "metadata": {
        "id": "J32wdDCMWCgS"
      },
      "outputs": [
        {
          "name": "stdout",
          "output_type": "stream",
          "text": [
            "Successfully created collection: JeopardyQuestion.\n"
          ]
        }
      ],
      "source": [
        "# Note: in practice, you shouldn't rerun this cell, as it deletes your data\n",
        "# in \"JeopardyQuestion\", and then you need to re-import it again.\n",
        "\n",
        "# Delete the collection if it already exists\n",
        "if (client.collections.exists(\"JeopardyQuestion\")):\n",
        "    client.collections.delete(\"JeopardyQuestion\")\n",
        "\n",
        "client.collections.create(\n",
        "    name=\"JeopardyQuestion\",\n",
        "\n",
        "    vectorizer_config=wc.Configure.Vectorizer.text2vec_google_aistudio( # specify the vectorizer and model type you're using\n",
        "        model_id=\"embedding-001\" # optional. defaults to \"embedding-001\"\n",
        "    ),\n",
        "\n",
        "    properties=[ # defining properties (data schema) is optional\n",
        "        wc.Property(name=\"Question\", data_type=wc.DataType.TEXT), \n",
        "        wc.Property(name=\"Answer\", data_type=wc.DataType.TEXT),\n",
        "        wc.Property(name=\"Category\", data_type=wc.DataType.TEXT, skip_vectorization=True), \n",
        "    ]\n",
        ")\n",
        "\n",
        "print(\"Successfully created collection: JeopardyQuestion.\")"
      ]
    },
    {
      "cell_type": "markdown",
      "metadata": {
        "id": "bjcuCEcCXlRK"
      },
      "source": [
        "## Import Data"
      ]
    },
    {
      "cell_type": "code",
      "execution_count": 7,
      "metadata": {
        "id": "paWgPOGsa_NV"
      },
      "outputs": [
        {
          "name": "stdout",
          "output_type": "stream",
          "text": [
            "Insert complete.\n"
          ]
        }
      ],
      "source": [
        "import requests, json\n",
        "url = 'https://raw.githubusercontent.com/weaviate/weaviate-examples/main/jeopardy_small_dataset/jeopardy_tiny.json'\n",
        "resp = requests.get(url)\n",
        "data = json.loads(resp.text)\n",
        "\n",
        "# Get a collection object for \"JeopardyQuestion\"\n",
        "jeopardy = client.collections.get(\"JeopardyQuestion\")\n",
        "\n",
        "# Insert data objects\n",
        "response = jeopardy.data.insert_many(data)\n",
        "\n",
        "# Note, the `data` array contains 10 objects, which is great to call insert_many with.\n",
        "# However, if you have a milion objects to insert, then you should spit them into smaller batches (i.e. 100-1000 per insert)\n",
        "\n",
        "if (response.has_errors):\n",
        "    print(response.errors)\n",
        "else:\n",
        "    print(\"Insert complete.\")"
      ]
    },
    {
      "cell_type": "code",
      "execution_count": 8,
      "metadata": {},
      "outputs": [
        {
          "name": "stdout",
          "output_type": "stream",
          "text": [
            "10\n"
          ]
        }
      ],
      "source": [
        "jeopardy = client.collections.get(\"JeopardyQuestion\")\n",
        "response = jeopardy.aggregate.over_all(total_count=True)\n",
        "\n",
        "print(response.total_count)"
      ]
    },
    {
      "cell_type": "markdown",
      "metadata": {
        "id": "NISdgAYebLyX"
      },
      "source": [
        "## Hybrid Search"
      ]
    },
    {
      "cell_type": "markdown",
      "metadata": {
        "id": "svmbj8JC1y0g"
      },
      "source": [
        "The `alpha` parameter determines the weight given to the sparse and dense search methods. `alpha = 0` is pure sparse (bm25) search, whereas `alpha = 1` is pure dense (vector) search. \n",
        "\n",
        "Alpha is an optional parameter. The default is set to `0.75`."
      ]
    },
    {
      "cell_type": "markdown",
      "metadata": {
        "id": "_wsYL2vD5G_9"
      },
      "source": [
        "### Hybrid Search only\n",
        "\n",
        "The below query is finding Jeopardy questions about animals and is limiting the output to only two results. Notice `alpha` is set to `0.80`, which means it is weighing the vector search results more than bm25. If you were to set `alpha = 0.25`, you would get different results. "
      ]
    },
    {
      "cell_type": "code",
      "execution_count": 9,
      "metadata": {
        "id": "QI5P082I1yA-"
      },
      "outputs": [
        {
          "name": "stdout",
          "output_type": "stream",
          "text": [
            "ID: d2d97c7d-4ae6-44f3-9c50-57d84ee75699\n",
            "Data: {\n",
            "  \"answer\": \"species\",\n",
            "  \"question\": \"2000 news: the Gunnison sage grouse isn't just another northern sage grouse, but a new one of this classification\",\n",
            "  \"category\": \"SCIENCE\"\n",
            "} \n",
            "\n",
            "ID: 0b488aa7-8e47-47ee-9362-8614dbbd919f\n",
            "Data: {\n",
            "  \"answer\": \"the diamondback rattler\",\n",
            "  \"question\": \"Heaviest of all poisonous snakes is this North American rattlesnake\",\n",
            "  \"category\": \"ANIMALS\"\n",
            "} \n",
            "\n",
            "ID: 014219e8-03d4-4218-bfc5-37e237259353\n",
            "Data: {\n",
            "  \"answer\": \"Antelope\",\n",
            "  \"question\": \"Weighing around a ton, the eland is the largest species of this animal in Africa\",\n",
            "  \"category\": \"ANIMALS\"\n",
            "} \n",
            "\n"
          ]
        }
      ],
      "source": [
        "# note, you can reuse the collection object from the previous cell.\n",
        "# Get a collection object for \"JeopardyQuestion\"\n",
        "jeopardy = client.collections.get(\"JeopardyQuestion\")\n",
        "\n",
        "response = jeopardy.query.hybrid(\n",
        "    query=\"northern beast\",\n",
        "    alpha=0.8,\n",
        "    limit=3\n",
        ")\n",
        "\n",
        "for item in response.objects:\n",
        "    print(\"ID:\", item.uuid)\n",
        "    print(\"Data:\", json.dumps(item.properties, indent=2), \"\\n\")"
      ]
    },
    {
      "cell_type": "markdown",
      "metadata": {
        "id": "JcmaLcry7De_"
      },
      "source": [
        "### Hybrid Search on a specific property\n",
        "\n",
        "The `properties` parameter allows you to list the properties that you want bm25 to search on."
      ]
    },
    {
      "cell_type": "code",
      "execution_count": 10,
      "metadata": {
        "id": "Cp3hhbNu6Lsv"
      },
      "outputs": [
        {
          "name": "stdout",
          "output_type": "stream",
          "text": [
            "ID: d2d97c7d-4ae6-44f3-9c50-57d84ee75699\n",
            "Data: {\n",
            "  \"answer\": \"species\",\n",
            "  \"question\": \"2000 news: the Gunnison sage grouse isn't just another northern sage grouse, but a new one of this classification\",\n",
            "  \"category\": \"SCIENCE\"\n",
            "} \n",
            "\n",
            "ID: 0b488aa7-8e47-47ee-9362-8614dbbd919f\n",
            "Data: {\n",
            "  \"answer\": \"the diamondback rattler\",\n",
            "  \"question\": \"Heaviest of all poisonous snakes is this North American rattlesnake\",\n",
            "  \"category\": \"ANIMALS\"\n",
            "} \n",
            "\n",
            "ID: 014219e8-03d4-4218-bfc5-37e237259353\n",
            "Data: {\n",
            "  \"answer\": \"Antelope\",\n",
            "  \"question\": \"Weighing around a ton, the eland is the largest species of this animal in Africa\",\n",
            "  \"category\": \"ANIMALS\"\n",
            "} \n",
            "\n"
          ]
        }
      ],
      "source": [
        "response = jeopardy.query.hybrid(\n",
        "    query=\"northern beast\",\n",
        "    query_properties=[\"question\"],\n",
        "    alpha=0.8,\n",
        "    limit=3\n",
        ")\n",
        "\n",
        "for item in response.objects:\n",
        "    print(\"ID:\", item.uuid)\n",
        "    print(\"Data:\", json.dumps(item.properties, indent=2), \"\\n\")"
      ]
    },
    {
      "cell_type": "markdown",
      "metadata": {
        "id": "kkX9rn-25rHC"
      },
      "source": [
        "### Hybrid Search with a `where` filter\n",
        "\n",
        "Find Jeopardy questions about elephants, where the category is set to Animals."
      ]
    },
    {
      "cell_type": "code",
      "execution_count": 11,
      "metadata": {
        "id": "76CgsOd451PB"
      },
      "outputs": [
        {
          "name": "stdout",
          "output_type": "stream",
          "text": [
            "ID: 0b488aa7-8e47-47ee-9362-8614dbbd919f\n",
            "Data: {\n",
            "  \"answer\": \"the diamondback rattler\",\n",
            "  \"question\": \"Heaviest of all poisonous snakes is this North American rattlesnake\",\n",
            "  \"category\": \"ANIMALS\"\n",
            "} \n",
            "\n",
            "ID: 014219e8-03d4-4218-bfc5-37e237259353\n",
            "Data: {\n",
            "  \"answer\": \"Antelope\",\n",
            "  \"question\": \"Weighing around a ton, the eland is the largest species of this animal in Africa\",\n",
            "  \"category\": \"ANIMALS\"\n",
            "} \n",
            "\n",
            "ID: 7ce9505e-d0bf-4620-981a-63811f3320a3\n",
            "Data: {\n",
            "  \"answer\": \"the nose or snout\",\n",
            "  \"question\": \"The gavial looks very much like a crocodile except for this bodily feature\",\n",
            "  \"category\": \"ANIMALS\"\n",
            "} \n",
            "\n"
          ]
        }
      ],
      "source": [
        "import weaviate.classes.query as wq # wq is an alias to save us from typing weaviate.classes everywhere ;)\n",
        "\n",
        "response = jeopardy.query.hybrid(\n",
        "    query=\"northern beast\",\n",
        "    alpha=0.8,\n",
        "    filters=wq.Filter.by_property(\"category\").equal(\"Animals\"),\n",
        "    limit=3\n",
        ")\n",
        "\n",
        "for item in response.objects:\n",
        "    print(\"ID:\", item.uuid)\n",
        "    print(\"Data:\", json.dumps(item.properties, indent=2), \"\\n\")"
      ]
    },
    {
      "cell_type": "markdown",
      "metadata": {
        "id": "MZeyVS6V73Rl"
      },
      "source": [
        "### Hybrid Search with a custom vector\n",
        "\n",
        "You can pass in your own vector as input into the hybrid query, by using the `vector` parameter. "
      ]
    },
    {
      "cell_type": "code",
      "execution_count": null,
      "metadata": {
        "id": "-_BPO75F76wa"
      },
      "outputs": [],
      "source": [
        "vector = [-0.0125526935, -0.021168863, ...] # paste an embedding here\n",
        "\n",
        "response = jeopardy.query.hybrid(\n",
        "    query=\"animal\",\n",
        "    vector=vector,\n",
        "    limit=2\n",
        ")\n",
        "\n",
        "for item in response.objects:\n",
        "    print(\"ID:\", item.uuid)\n",
        "    print(\"Data:\", json.dumps(item.properties, indent=2), \"\\n\")"
      ]
    }
  ],
  "metadata": {
    "colab": {
      "collapsed_sections": [
        "rJD9aP9eVcsT",
        "rgL-mnMqVf0B",
        "CfL6wp85WzuT",
        "9wtTMIAsXbl-",
        "YG97B310X5Q5",
        "Ze5J8E4MWC8g",
        "bjcuCEcCXlRK",
        "NISdgAYebLyX",
        "_wsYL2vD5G_9",
        "JcmaLcry7De_",
        "kkX9rn-25rHC",
        "MZeyVS6V73Rl"
      ],
      "provenance": []
    },
    "kernelspec": {
      "display_name": "Python 3",
      "name": "python3"
    },
    "language_info": {
      "codemirror_mode": {
        "name": "ipython",
        "version": 3
      },
      "file_extension": ".py",
      "mimetype": "text/x-python",
      "name": "python",
      "nbconvert_exporter": "python",
      "pygments_lexer": "ipython3",
      "version": "3.11.6"
    }
  },
  "nbformat": 4,
  "nbformat_minor": 0
}
