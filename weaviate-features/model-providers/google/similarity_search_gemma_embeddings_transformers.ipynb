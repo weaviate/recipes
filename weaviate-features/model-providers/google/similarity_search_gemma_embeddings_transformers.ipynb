{
  "cells": [
    {
      "cell_type": "markdown",
      "metadata": {},
      "source": [
        "# Similarity search with Gemma Embeddings and Weaviate's `text2vec-transformers` module\n",
        "\n",
        "This tutorial shows you, how to use the `gemma-3-300m-embedding` in Weaviate.\n",
        "\n",
        "Model overview:\n",
        "\n",
        "- Multilingual capabilities in over 100 languages\n",
        "- Leverages Matryoshka Representation Learning for flexible output dimensions (128, 256, 512, 768)\n",
        "- Maximum input sequence length of 8k tokens\n",
        "- <300MB RAM usage with QAT"
      ]
    },
    {
      "cell_type": "markdown",
      "metadata": {
        "id": "rJD9aP9eVcsT"
      },
      "source": [
        "## Dependencies"
      ]
    },
    {
      "cell_type": "code",
      "execution_count": 1,
      "metadata": {
        "id": "3IgZm3pYwWa8"
      },
      "outputs": [],
      "source": [
        "%%capture\n",
        "%pip install -q -U weaviate-client"
      ]
    },
    {
      "cell_type": "markdown",
      "metadata": {
        "id": "rgL-mnMqVf0B"
      },
      "source": [
        "## Connect to Weaviate\n",
        "\n",
        "This Notebook uses the [`text2vec-transformers`](https://docs.weaviate.io/weaviate/model-providers/transformers/embeddings) module, which is **only** available through Weaviate open-source via [Docker](https://docs.weaviate.io/deploy/installation-guides/docker-installation) or [Kubernetes](https://docs.weaviate.io/deploy/installation-guides/k8s-installation). This integration is **not** available for Weaviate Cloud (WCD) serverless instances, as it requires spinning up a container with the Hugging Face model.\n",
        "\n",
        "This notebook uses a [pre-built transformers model container](https://weaviate.io/developers/weaviate/modules/retriever-vectorizer-modules/text2vec-transformers#pre-built-images). For this, create a `docker-compose.yml` file with the following contents:\n",
        "```\n",
        "---\n",
        "services:\n",
        "  weaviate:\n",
        "    command:\n",
        "    - --host\n",
        "    - 0.0.0.0\n",
        "    - --port\n",
        "    - '8080'\n",
        "    - --scheme\n",
        "    - http\n",
        "    image: cr.weaviate.io/semitechnologies/weaviate:1.32.2\n",
        "    ports:\n",
        "    - 8080:8080\n",
        "    - 50051:50051\n",
        "    restart: on-failure:0\n",
        "    environment:\n",
        "      TRANSFORMERS_INFERENCE_API: 'http://t2v-transformers:8080'\n",
        "      QUERY_DEFAULTS_LIMIT: 25\n",
        "      AUTHENTICATION_ANONYMOUS_ACCESS_ENABLED: 'true'\n",
        "      PERSISTENCE_DATA_PATH: '/var/lib/weaviate'\n",
        "      DEFAULT_VECTORIZER_MODULE: 'text2vec-transformers'\n",
        "      ENABLE_MODULES: 'text2vec-transformers'\n",
        "      CLUSTER_HOSTNAME: 'weaviate-0'\n",
        "  t2v-transformers:\n",
        "    image: cr.weaviate.io/semitechnologies/transformers-inference:google-gemma-3-300m-embedding\n",
        "    environment:\n",
        "      ENABLE_CUDA: '0'\n",
        "...\n",
        "```\n",
        "and start up Docker container with\n",
        "```\n",
        "docker-compose up -d\n",
        "```"
      ]
    },
    {
      "cell_type": "code",
      "execution_count": 2,
      "metadata": {
        "id": "-yrJZaNJwcCc"
      },
      "outputs": [
        {
          "ename": "WeaviateGRPCUnavailableError",
          "evalue": "\nWeaviate v1.24.6 makes use of a high-speed gRPC API as well as a REST API.\nUnfortunately, the gRPC health check against Weaviate could not be completed.\n\nThis error could be due to one of several reasons:\n- The gRPC traffic at the specified port is blocked by a firewall.\n- gRPC is not enabled or incorrectly configured on the server or the client.\n    - Please check that the server address and port (localhost:50051) are correct.\n- your connection is unstable or has a high latency. In this case you can:\n    - increase init-timeout in `weaviate.connect_to_local(additional_config=wvc.init.AdditionalConfig(timeout=wvc.init.Timeout(init=X)))`\n    - disable startup checks by connecting using `skip_init_checks=True`\n",
          "output_type": "error",
          "traceback": [
            "\u001b[0;31m---------------------------------------------------------------------------\u001b[0m",
            "\u001b[0;31m_InactiveRpcError\u001b[0m                         Traceback (most recent call last)",
            "File \u001b[0;32m~/Library/Python/3.9/lib/python/site-packages/weaviate/connect/v4.py:323\u001b[0m, in \u001b[0;36m_ConnectionBase._ping_grpc\u001b[0;34m(self, colour)\u001b[0m\n\u001b[1;32m    322\u001b[0m \u001b[38;5;28;01mtry\u001b[39;00m:\n\u001b[0;32m--> 323\u001b[0m     res \u001b[38;5;241m=\u001b[39m \u001b[38;5;28;43mself\u001b[39;49m\u001b[38;5;241;43m.\u001b[39;49m\u001b[43m_grpc_channel\u001b[49m\u001b[38;5;241;43m.\u001b[39;49m\u001b[43munary_unary\u001b[49m\u001b[43m(\u001b[49m\n\u001b[1;32m    324\u001b[0m \u001b[43m        \u001b[49m\u001b[38;5;124;43m\"\u001b[39;49m\u001b[38;5;124;43m/grpc.health.v1.Health/Check\u001b[39;49m\u001b[38;5;124;43m\"\u001b[39;49m\u001b[43m,\u001b[49m\n\u001b[1;32m    325\u001b[0m \u001b[43m        \u001b[49m\u001b[43mrequest_serializer\u001b[49m\u001b[38;5;241;43m=\u001b[39;49m\u001b[43mhealth_pb2\u001b[49m\u001b[38;5;241;43m.\u001b[39;49m\u001b[43mHealthCheckRequest\u001b[49m\u001b[38;5;241;43m.\u001b[39;49m\u001b[43mSerializeToString\u001b[49m\u001b[43m,\u001b[49m\n\u001b[1;32m    326\u001b[0m \u001b[43m        \u001b[49m\u001b[43mresponse_deserializer\u001b[49m\u001b[38;5;241;43m=\u001b[39;49m\u001b[43mhealth_pb2\u001b[49m\u001b[38;5;241;43m.\u001b[39;49m\u001b[43mHealthCheckResponse\u001b[49m\u001b[38;5;241;43m.\u001b[39;49m\u001b[43mFromString\u001b[49m\u001b[43m,\u001b[49m\n\u001b[1;32m    327\u001b[0m \u001b[43m    \u001b[49m\u001b[43m)\u001b[49m\u001b[43m(\u001b[49m\u001b[43mhealth_pb2\u001b[49m\u001b[38;5;241;43m.\u001b[39;49m\u001b[43mHealthCheckRequest\u001b[49m\u001b[43m(\u001b[49m\u001b[43m)\u001b[49m\u001b[43m,\u001b[49m\u001b[43m \u001b[49m\u001b[43mtimeout\u001b[49m\u001b[38;5;241;43m=\u001b[39;49m\u001b[38;5;28;43mself\u001b[39;49m\u001b[38;5;241;43m.\u001b[39;49m\u001b[43mtimeout_config\u001b[49m\u001b[38;5;241;43m.\u001b[39;49m\u001b[43minit\u001b[49m\u001b[43m)\u001b[49m\n\u001b[1;32m    328\u001b[0m     \u001b[38;5;28;01mif\u001b[39;00m colour \u001b[38;5;241m==\u001b[39m \u001b[38;5;124m\"\u001b[39m\u001b[38;5;124masync\u001b[39m\u001b[38;5;124m\"\u001b[39m:\n",
            "File \u001b[0;32m~/Library/Python/3.9/lib/python/site-packages/grpc/_channel.py:1178\u001b[0m, in \u001b[0;36m_UnaryUnaryMultiCallable.__call__\u001b[0;34m(self, request, timeout, metadata, credentials, wait_for_ready, compression)\u001b[0m\n\u001b[1;32m   1175\u001b[0m state, call \u001b[38;5;241m=\u001b[39m \u001b[38;5;28mself\u001b[39m\u001b[38;5;241m.\u001b[39m_blocking(\n\u001b[1;32m   1176\u001b[0m     request, timeout, metadata, credentials, wait_for_ready, compression\n\u001b[1;32m   1177\u001b[0m )\n\u001b[0;32m-> 1178\u001b[0m \u001b[38;5;28;01mreturn\u001b[39;00m \u001b[43m_end_unary_response_blocking\u001b[49m\u001b[43m(\u001b[49m\u001b[43mstate\u001b[49m\u001b[43m,\u001b[49m\u001b[43m \u001b[49m\u001b[43mcall\u001b[49m\u001b[43m,\u001b[49m\u001b[43m \u001b[49m\u001b[38;5;28;43;01mFalse\u001b[39;49;00m\u001b[43m,\u001b[49m\u001b[43m \u001b[49m\u001b[38;5;28;43;01mNone\u001b[39;49;00m\u001b[43m)\u001b[49m\n",
            "File \u001b[0;32m~/Library/Python/3.9/lib/python/site-packages/grpc/_channel.py:1006\u001b[0m, in \u001b[0;36m_end_unary_response_blocking\u001b[0;34m(state, call, with_call, deadline)\u001b[0m\n\u001b[1;32m   1005\u001b[0m \u001b[38;5;28;01melse\u001b[39;00m:\n\u001b[0;32m-> 1006\u001b[0m     \u001b[38;5;28;01mraise\u001b[39;00m _InactiveRpcError(state)\n",
            "\u001b[0;31m_InactiveRpcError\u001b[0m: <_InactiveRpcError of RPC that terminated with:\n\tstatus = StatusCode.UNAVAILABLE\n\tdetails = \"failed to connect to all addresses; last error: UNKNOWN: ipv4:127.0.0.1:50051: Failed to connect to remote host: connect: Connection refused (61)\"\n\tdebug_error_string = \"UNKNOWN:Error received from peer  {grpc_message:\"failed to connect to all addresses; last error: UNKNOWN: ipv4:127.0.0.1:50051: Failed to connect to remote host: connect: Connection refused (61)\", grpc_status:14}\"\n>",
            "\nThe above exception was the direct cause of the following exception:\n",
            "\u001b[0;31mWeaviateGRPCUnavailableError\u001b[0m              Traceback (most recent call last)",
            "Cell \u001b[0;32mIn[2], line 5\u001b[0m\n\u001b[1;32m      2\u001b[0m \u001b[38;5;28;01mfrom\u001b[39;00m\u001b[38;5;250m \u001b[39m\u001b[38;5;21;01mweaviate\u001b[39;00m\u001b[38;5;21;01m.\u001b[39;00m\u001b[38;5;21;01mconfig\u001b[39;00m\u001b[38;5;250m \u001b[39m\u001b[38;5;28;01mimport\u001b[39;00m AdditionalConfig\n\u001b[1;32m      4\u001b[0m \u001b[38;5;66;03m# Connect to your local Weaviate instance deployed with Docker\u001b[39;00m\n\u001b[0;32m----> 5\u001b[0m client \u001b[38;5;241m=\u001b[39m \u001b[43mweaviate\u001b[49m\u001b[38;5;241;43m.\u001b[39;49m\u001b[43mconnect_to_local\u001b[49m\u001b[43m(\u001b[49m\n\u001b[1;32m      6\u001b[0m \n\u001b[1;32m      7\u001b[0m \u001b[43m)\u001b[49m\n\u001b[1;32m      9\u001b[0m client\u001b[38;5;241m.\u001b[39mis_ready()\n",
            "File \u001b[0;32m~/Library/Python/3.9/lib/python/site-packages/weaviate/connect/helpers.py:193\u001b[0m, in \u001b[0;36mconnect_to_local\u001b[0;34m(host, port, grpc_port, headers, additional_config, skip_init_checks, auth_credentials)\u001b[0m\n\u001b[1;32m    142\u001b[0m \u001b[38;5;28;01mdef\u001b[39;00m\u001b[38;5;250m \u001b[39m\u001b[38;5;21mconnect_to_local\u001b[39m(\n\u001b[1;32m    143\u001b[0m     host: \u001b[38;5;28mstr\u001b[39m \u001b[38;5;241m=\u001b[39m \u001b[38;5;124m\"\u001b[39m\u001b[38;5;124mlocalhost\u001b[39m\u001b[38;5;124m\"\u001b[39m,\n\u001b[1;32m    144\u001b[0m     port: \u001b[38;5;28mint\u001b[39m \u001b[38;5;241m=\u001b[39m \u001b[38;5;241m8080\u001b[39m,\n\u001b[0;32m   (...)\u001b[0m\n\u001b[1;32m    149\u001b[0m     auth_credentials: Union[\u001b[38;5;28mstr\u001b[39m, AuthCredentials, \u001b[38;5;28;01mNone\u001b[39;00m] \u001b[38;5;241m=\u001b[39m \u001b[38;5;28;01mNone\u001b[39;00m,\n\u001b[1;32m    150\u001b[0m ) \u001b[38;5;241m-\u001b[39m\u001b[38;5;241m>\u001b[39m WeaviateClient:\n\u001b[1;32m    151\u001b[0m \u001b[38;5;250m    \u001b[39m\u001b[38;5;124;03m\"\"\"Connect to a local Weaviate instance deployed using Docker compose with standard port configurations.\u001b[39;00m\n\u001b[1;32m    152\u001b[0m \n\u001b[1;32m    153\u001b[0m \u001b[38;5;124;03m    This method handles automatically connecting to Weaviate but not automatically closing the connection. Once you are done with the client\u001b[39;00m\n\u001b[0;32m   (...)\u001b[0m\n\u001b[1;32m    191\u001b[0m \u001b[38;5;124;03m        >>> # The connection is automatically closed when the context is exited.\u001b[39;00m\n\u001b[1;32m    192\u001b[0m \u001b[38;5;124;03m    \"\"\"\u001b[39;00m\n\u001b[0;32m--> 193\u001b[0m     \u001b[38;5;28;01mreturn\u001b[39;00m \u001b[43m__connect\u001b[49m\u001b[43m(\u001b[49m\n\u001b[1;32m    194\u001b[0m \u001b[43m        \u001b[49m\u001b[43mWeaviateClient\u001b[49m\u001b[43m(\u001b[49m\n\u001b[1;32m    195\u001b[0m \u001b[43m            \u001b[49m\u001b[43mconnection_params\u001b[49m\u001b[38;5;241;43m=\u001b[39;49m\u001b[43mConnectionParams\u001b[49m\u001b[43m(\u001b[49m\n\u001b[1;32m    196\u001b[0m \u001b[43m                \u001b[49m\u001b[43mhttp\u001b[49m\u001b[38;5;241;43m=\u001b[39;49m\u001b[43mProtocolParams\u001b[49m\u001b[43m(\u001b[49m\u001b[43mhost\u001b[49m\u001b[38;5;241;43m=\u001b[39;49m\u001b[43mhost\u001b[49m\u001b[43m,\u001b[49m\u001b[43m \u001b[49m\u001b[43mport\u001b[49m\u001b[38;5;241;43m=\u001b[39;49m\u001b[43mport\u001b[49m\u001b[43m,\u001b[49m\u001b[43m \u001b[49m\u001b[43msecure\u001b[49m\u001b[38;5;241;43m=\u001b[39;49m\u001b[38;5;28;43;01mFalse\u001b[39;49;00m\u001b[43m)\u001b[49m\u001b[43m,\u001b[49m\n\u001b[1;32m    197\u001b[0m \u001b[43m                \u001b[49m\u001b[43mgrpc\u001b[49m\u001b[38;5;241;43m=\u001b[39;49m\u001b[43mProtocolParams\u001b[49m\u001b[43m(\u001b[49m\u001b[43mhost\u001b[49m\u001b[38;5;241;43m=\u001b[39;49m\u001b[43mhost\u001b[49m\u001b[43m,\u001b[49m\u001b[43m \u001b[49m\u001b[43mport\u001b[49m\u001b[38;5;241;43m=\u001b[39;49m\u001b[43mgrpc_port\u001b[49m\u001b[43m,\u001b[49m\u001b[43m \u001b[49m\u001b[43msecure\u001b[49m\u001b[38;5;241;43m=\u001b[39;49m\u001b[38;5;28;43;01mFalse\u001b[39;49;00m\u001b[43m)\u001b[49m\u001b[43m,\u001b[49m\n\u001b[1;32m    198\u001b[0m \u001b[43m            \u001b[49m\u001b[43m)\u001b[49m\u001b[43m,\u001b[49m\n\u001b[1;32m    199\u001b[0m \u001b[43m            \u001b[49m\u001b[43madditional_headers\u001b[49m\u001b[38;5;241;43m=\u001b[39;49m\u001b[43mheaders\u001b[49m\u001b[43m,\u001b[49m\n\u001b[1;32m    200\u001b[0m \u001b[43m            \u001b[49m\u001b[43madditional_config\u001b[49m\u001b[38;5;241;43m=\u001b[39;49m\u001b[43madditional_config\u001b[49m\u001b[43m,\u001b[49m\n\u001b[1;32m    201\u001b[0m \u001b[43m            \u001b[49m\u001b[43mskip_init_checks\u001b[49m\u001b[38;5;241;43m=\u001b[39;49m\u001b[43mskip_init_checks\u001b[49m\u001b[43m,\u001b[49m\n\u001b[1;32m    202\u001b[0m \u001b[43m            \u001b[49m\u001b[43mauth_client_secret\u001b[49m\u001b[38;5;241;43m=\u001b[39;49m\u001b[43m__parse_auth_credentials\u001b[49m\u001b[43m(\u001b[49m\u001b[43mauth_credentials\u001b[49m\u001b[43m)\u001b[49m\u001b[43m,\u001b[49m\n\u001b[1;32m    203\u001b[0m \u001b[43m        \u001b[49m\u001b[43m)\u001b[49m\n\u001b[1;32m    204\u001b[0m \u001b[43m    \u001b[49m\u001b[43m)\u001b[49m\n",
            "File \u001b[0;32m~/Library/Python/3.9/lib/python/site-packages/weaviate/connect/helpers.py:371\u001b[0m, in \u001b[0;36m__connect\u001b[0;34m(client)\u001b[0m\n\u001b[1;32m    369\u001b[0m \u001b[38;5;28;01mexcept\u001b[39;00m \u001b[38;5;167;01mException\u001b[39;00m \u001b[38;5;28;01mas\u001b[39;00m e:\n\u001b[1;32m    370\u001b[0m     client\u001b[38;5;241m.\u001b[39mclose()\n\u001b[0;32m--> 371\u001b[0m     \u001b[38;5;28;01mraise\u001b[39;00m e\n",
            "File \u001b[0;32m~/Library/Python/3.9/lib/python/site-packages/weaviate/connect/helpers.py:367\u001b[0m, in \u001b[0;36m__connect\u001b[0;34m(client)\u001b[0m\n\u001b[1;32m    365\u001b[0m \u001b[38;5;28;01mdef\u001b[39;00m\u001b[38;5;250m \u001b[39m\u001b[38;5;21m__connect\u001b[39m(client: WeaviateClient) \u001b[38;5;241m-\u001b[39m\u001b[38;5;241m>\u001b[39m WeaviateClient:\n\u001b[1;32m    366\u001b[0m     \u001b[38;5;28;01mtry\u001b[39;00m:\n\u001b[0;32m--> 367\u001b[0m         \u001b[43mclient\u001b[49m\u001b[38;5;241;43m.\u001b[39;49m\u001b[43mconnect\u001b[49m\u001b[43m(\u001b[49m\u001b[43m)\u001b[49m\n\u001b[1;32m    368\u001b[0m         \u001b[38;5;28;01mreturn\u001b[39;00m client\n\u001b[1;32m    369\u001b[0m     \u001b[38;5;28;01mexcept\u001b[39;00m \u001b[38;5;167;01mException\u001b[39;00m \u001b[38;5;28;01mas\u001b[39;00m e:\n",
            "File \u001b[0;32m~/Library/Python/3.9/lib/python/site-packages/weaviate/client_executor.py:149\u001b[0m, in \u001b[0;36m_WeaviateClientExecutor.connect\u001b[0;34m(self)\u001b[0m\n\u001b[1;32m    137\u001b[0m \u001b[38;5;28;01mdef\u001b[39;00m\u001b[38;5;250m \u001b[39m\u001b[38;5;21mconnect\u001b[39m(\u001b[38;5;28mself\u001b[39m) \u001b[38;5;241m-\u001b[39m\u001b[38;5;241m>\u001b[39m executor\u001b[38;5;241m.\u001b[39mResult[\u001b[38;5;28;01mNone\u001b[39;00m]:\n\u001b[1;32m    138\u001b[0m \u001b[38;5;250m    \u001b[39m\u001b[38;5;124;03m\"\"\"Connect to the Weaviate instance performing all the necessary checks.\u001b[39;00m\n\u001b[1;32m    139\u001b[0m \n\u001b[1;32m    140\u001b[0m \u001b[38;5;124;03m    If you have specified `skip_init_checks` in the constructor then this method will not perform any runtime checks\u001b[39;00m\n\u001b[0;32m   (...)\u001b[0m\n\u001b[1;32m    147\u001b[0m \u001b[38;5;124;03m        weaviate.exceptions.UnexpectedStatusCodeError: If weaviate reports a none OK status.\u001b[39;00m\n\u001b[1;32m    148\u001b[0m \u001b[38;5;124;03m    \"\"\"\u001b[39;00m\n\u001b[0;32m--> 149\u001b[0m     \u001b[38;5;28;01mreturn\u001b[39;00m \u001b[43mexecutor\u001b[49m\u001b[38;5;241;43m.\u001b[39;49m\u001b[43mexecute\u001b[49m\u001b[43m(\u001b[49m\n\u001b[1;32m    150\u001b[0m \u001b[43m        \u001b[49m\u001b[43mresponse_callback\u001b[49m\u001b[38;5;241;43m=\u001b[39;49m\u001b[38;5;28;43;01mlambda\u001b[39;49;00m\u001b[43m \u001b[49m\u001b[43m_\u001b[49m\u001b[43m:\u001b[49m\u001b[43m \u001b[49m\u001b[38;5;28;43;01mNone\u001b[39;49;00m\u001b[43m,\u001b[49m\n\u001b[1;32m    151\u001b[0m \u001b[43m        \u001b[49m\u001b[43mmethod\u001b[49m\u001b[38;5;241;43m=\u001b[39;49m\u001b[38;5;28;43mself\u001b[39;49m\u001b[38;5;241;43m.\u001b[39;49m\u001b[43m_connection\u001b[49m\u001b[38;5;241;43m.\u001b[39;49m\u001b[43mconnect\u001b[49m\u001b[43m,\u001b[49m\n\u001b[1;32m    152\u001b[0m \u001b[43m    \u001b[49m\u001b[43m)\u001b[49m\n",
            "File \u001b[0;32m~/Library/Python/3.9/lib/python/site-packages/weaviate/connect/executor.py:99\u001b[0m, in \u001b[0;36mexecute\u001b[0;34m(method, response_callback, exception_callback, *args, **kwargs)\u001b[0m\n\u001b[1;32m     97\u001b[0m     \u001b[38;5;28;01mreturn\u001b[39;00m resp_call\n\u001b[1;32m     98\u001b[0m \u001b[38;5;28;01mexcept\u001b[39;00m \u001b[38;5;167;01mException\u001b[39;00m \u001b[38;5;28;01mas\u001b[39;00m e:\n\u001b[0;32m---> 99\u001b[0m     \u001b[38;5;28;01mreturn\u001b[39;00m cast(T, \u001b[43mexception_callback\u001b[49m\u001b[43m(\u001b[49m\u001b[43me\u001b[49m\u001b[43m)\u001b[49m)\n",
            "File \u001b[0;32m~/Library/Python/3.9/lib/python/site-packages/weaviate/connect/executor.py:38\u001b[0m, in \u001b[0;36mraise_exception\u001b[0;34m(e)\u001b[0m\n\u001b[1;32m     37\u001b[0m \u001b[38;5;28;01mdef\u001b[39;00m\u001b[38;5;250m \u001b[39m\u001b[38;5;21mraise_exception\u001b[39m(e: \u001b[38;5;167;01mException\u001b[39;00m) \u001b[38;5;241m-\u001b[39m\u001b[38;5;241m>\u001b[39m Any:\n\u001b[0;32m---> 38\u001b[0m     \u001b[38;5;28;01mraise\u001b[39;00m e\n",
            "File \u001b[0;32m~/Library/Python/3.9/lib/python/site-packages/weaviate/connect/executor.py:80\u001b[0m, in \u001b[0;36mexecute\u001b[0;34m(method, response_callback, exception_callback, *args, **kwargs)\u001b[0m\n\u001b[1;32m     71\u001b[0m \u001b[38;5;28;01mdef\u001b[39;00m\u001b[38;5;250m \u001b[39m\u001b[38;5;21mexecute\u001b[39m(\n\u001b[1;32m     72\u001b[0m     method: SyncOrAsyncMethod[P, R],\n\u001b[1;32m     73\u001b[0m     response_callback: SyncOrAsyncCallback[R, T, A],\n\u001b[0;32m   (...)\u001b[0m\n\u001b[1;32m     77\u001b[0m ) \u001b[38;5;241m-\u001b[39m\u001b[38;5;241m>\u001b[39m Union[T, Awaitable[T], Awaitable[A]]:\n\u001b[1;32m     78\u001b[0m     \u001b[38;5;66;03m# wrap method call in try-except to catch exceptions for sync method\u001b[39;00m\n\u001b[1;32m     79\u001b[0m     \u001b[38;5;28;01mtry\u001b[39;00m:\n\u001b[0;32m---> 80\u001b[0m         call \u001b[38;5;241m=\u001b[39m \u001b[43mmethod\u001b[49m\u001b[43m(\u001b[49m\u001b[38;5;241;43m*\u001b[39;49m\u001b[43margs\u001b[49m\u001b[43m,\u001b[49m\u001b[43m \u001b[49m\u001b[38;5;241;43m*\u001b[39;49m\u001b[38;5;241;43m*\u001b[39;49m\u001b[43mkwargs\u001b[49m\u001b[43m)\u001b[49m\n\u001b[1;32m     81\u001b[0m         \u001b[38;5;28;01mif\u001b[39;00m \u001b[38;5;28misinstance\u001b[39m(call, Awaitable):\n\u001b[1;32m     83\u001b[0m             \u001b[38;5;28;01masync\u001b[39;00m \u001b[38;5;28;01mdef\u001b[39;00m\u001b[38;5;250m \u001b[39m\u001b[38;5;21m_execute\u001b[39m() \u001b[38;5;241m-\u001b[39m\u001b[38;5;241m>\u001b[39m T:\n\u001b[1;32m     84\u001b[0m                 \u001b[38;5;66;03m# wrap await in try-except to catch exceptions for async method\u001b[39;00m\n",
            "File \u001b[0;32m~/Library/Python/3.9/lib/python/site-packages/weaviate/connect/v4.py:960\u001b[0m, in \u001b[0;36mConnectionSync.connect\u001b[0;34m(self)\u001b[0m\n\u001b[1;32m    958\u001b[0m     \u001b[38;5;28;01mexcept\u001b[39;00m \u001b[38;5;167;01mException\u001b[39;00m \u001b[38;5;28;01mas\u001b[39;00m e:\n\u001b[1;32m    959\u001b[0m         \u001b[38;5;28mself\u001b[39m\u001b[38;5;241m.\u001b[39m_connected \u001b[38;5;241m=\u001b[39m \u001b[38;5;28;01mFalse\u001b[39;00m\n\u001b[0;32m--> 960\u001b[0m         \u001b[38;5;28;01mraise\u001b[39;00m e\n\u001b[1;32m    962\u001b[0m \u001b[38;5;28mself\u001b[39m\u001b[38;5;241m.\u001b[39m_connected \u001b[38;5;241m=\u001b[39m \u001b[38;5;28;01mTrue\u001b[39;00m\n",
            "File \u001b[0;32m~/Library/Python/3.9/lib/python/site-packages/weaviate/connect/v4.py:956\u001b[0m, in \u001b[0;36mConnectionSync.connect\u001b[0;34m(self)\u001b[0m\n\u001b[1;32m    954\u001b[0m \u001b[38;5;28;01mif\u001b[39;00m \u001b[38;5;129;01mnot\u001b[39;00m \u001b[38;5;28mself\u001b[39m\u001b[38;5;241m.\u001b[39m_skip_init_checks:\n\u001b[1;32m    955\u001b[0m     \u001b[38;5;28;01mtry\u001b[39;00m:\n\u001b[0;32m--> 956\u001b[0m         executor\u001b[38;5;241m.\u001b[39mresult(\u001b[38;5;28;43mself\u001b[39;49m\u001b[38;5;241;43m.\u001b[39;49m\u001b[43m_ping_grpc\u001b[49m\u001b[43m(\u001b[49m\u001b[38;5;124;43m\"\u001b[39;49m\u001b[38;5;124;43msync\u001b[39;49m\u001b[38;5;124;43m\"\u001b[39;49m\u001b[43m)\u001b[49m)\n\u001b[1;32m    957\u001b[0m         executor\u001b[38;5;241m.\u001b[39mresult(\u001b[38;5;28mself\u001b[39m\u001b[38;5;241m.\u001b[39m_check_package_version(\u001b[38;5;124m\"\u001b[39m\u001b[38;5;124msync\u001b[39m\u001b[38;5;124m\"\u001b[39m))\n\u001b[1;32m    958\u001b[0m     \u001b[38;5;28;01mexcept\u001b[39;00m \u001b[38;5;167;01mException\u001b[39;00m \u001b[38;5;28;01mas\u001b[39;00m e:\n",
            "File \u001b[0;32m~/Library/Python/3.9/lib/python/site-packages/weaviate/connect/v4.py:344\u001b[0m, in \u001b[0;36m_ConnectionBase._ping_grpc\u001b[0;34m(self, colour)\u001b[0m\n\u001b[1;32m    341\u001b[0m     \u001b[38;5;28;01mreturn\u001b[39;00m \u001b[38;5;28mself\u001b[39m\u001b[38;5;241m.\u001b[39m__handle_ping_response(cast(health_pb2\u001b[38;5;241m.\u001b[39mHealthCheckResponse, res))\n\u001b[1;32m    343\u001b[0m \u001b[38;5;28;01mexcept\u001b[39;00m \u001b[38;5;167;01mException\u001b[39;00m \u001b[38;5;28;01mas\u001b[39;00m e:\n\u001b[0;32m--> 344\u001b[0m     \u001b[38;5;28;43mself\u001b[39;49m\u001b[38;5;241;43m.\u001b[39;49m\u001b[43m__handle_ping_exception\u001b[49m\u001b[43m(\u001b[49m\u001b[43me\u001b[49m\u001b[43m)\u001b[49m\n\u001b[1;32m    345\u001b[0m \u001b[38;5;28;01mreturn\u001b[39;00m \u001b[38;5;28;01mNone\u001b[39;00m\n",
            "File \u001b[0;32m~/Library/Python/3.9/lib/python/site-packages/weaviate/connect/v4.py:355\u001b[0m, in \u001b[0;36m_ConnectionBase.__handle_ping_exception\u001b[0;34m(self, e)\u001b[0m\n\u001b[1;32m    354\u001b[0m \u001b[38;5;28;01mdef\u001b[39;00m\u001b[38;5;250m \u001b[39m\u001b[38;5;21m__handle_ping_exception\u001b[39m(\u001b[38;5;28mself\u001b[39m, e: \u001b[38;5;167;01mException\u001b[39;00m) \u001b[38;5;241m-\u001b[39m\u001b[38;5;241m>\u001b[39m \u001b[38;5;28;01mNone\u001b[39;00m:\n\u001b[0;32m--> 355\u001b[0m     \u001b[38;5;28;01mraise\u001b[39;00m WeaviateGRPCUnavailableError(\n\u001b[1;32m    356\u001b[0m         \u001b[38;5;124mf\u001b[39m\u001b[38;5;124m\"\u001b[39m\u001b[38;5;124mv\u001b[39m\u001b[38;5;132;01m{\u001b[39;00m\u001b[38;5;28mself\u001b[39m\u001b[38;5;241m.\u001b[39mserver_version\u001b[38;5;132;01m}\u001b[39;00m\u001b[38;5;124m\"\u001b[39m, \u001b[38;5;28mself\u001b[39m\u001b[38;5;241m.\u001b[39m_connection_params\u001b[38;5;241m.\u001b[39m_grpc_address\n\u001b[1;32m    357\u001b[0m     ) \u001b[38;5;28;01mfrom\u001b[39;00m\u001b[38;5;250m \u001b[39m\u001b[38;5;21;01me\u001b[39;00m\n",
            "\u001b[0;31mWeaviateGRPCUnavailableError\u001b[0m: \nWeaviate v1.24.6 makes use of a high-speed gRPC API as well as a REST API.\nUnfortunately, the gRPC health check against Weaviate could not be completed.\n\nThis error could be due to one of several reasons:\n- The gRPC traffic at the specified port is blocked by a firewall.\n- gRPC is not enabled or incorrectly configured on the server or the client.\n    - Please check that the server address and port (localhost:50051) are correct.\n- your connection is unstable or has a high latency. In this case you can:\n    - increase init-timeout in `weaviate.connect_to_local(additional_config=wvc.init.AdditionalConfig(timeout=wvc.init.Timeout(init=X)))`\n    - disable startup checks by connecting using `skip_init_checks=True`\n"
          ]
        }
      ],
      "source": [
        "import weaviate\n",
        "from weaviate.config import AdditionalConfig\n",
        "\n",
        "# Connect to your local Weaviate instance deployed with Docker\n",
        "client = weaviate.connect_to_local(\n",
        "\n",
        ")\n",
        "\n",
        "client.is_ready()"
      ]
    },
    {
      "cell_type": "code",
      "execution_count": null,
      "metadata": {},
      "outputs": [],
      "source": [
        "# Check the cluster metadata to verify if the module is enabled\n",
        "client.get_meta()['modules']"
      ]
    },
    {
      "cell_type": "markdown",
      "metadata": {
        "id": "Ze5J8E4MWC8g"
      },
      "source": [
        "## Create a collection\n",
        "> Collection stores your data and vector embeddings."
      ]
    },
    {
      "cell_type": "code",
      "execution_count": null,
      "metadata": {
        "id": "J32wdDCMWCgS"
      },
      "outputs": [
        {
          "name": "stdout",
          "output_type": "stream",
          "text": [
            "Successfully created collection: JeopardyQuestion.\n"
          ]
        }
      ],
      "source": [
        "# Note: in practice, you shouldn't rerun this cell, as it deletes your data\n",
        "# in \"JeopardyQuestion\", and then you need to re-import it again.\n",
        "import weaviate.classes.config as wc\n",
        "\n",
        "# Delete the collection if it already exists\n",
        "if (client.collections.exists(\"JeopardyQuestion\")):\n",
        "    client.collections.delete(\"JeopardyQuestion\")\n",
        "\n",
        "client.collections.create(\n",
        "    name=\"JeopardyQuestion\",\n",
        "\n",
        "    vector_config=wc.Configure.Vectors.text2vec_transformers( \n",
        "        dimensions=512, # default: 768, possible options: 128, 256, 512\n",
        "    ),\n",
        "\n",
        "    properties=[ # defining properties (data schema) is optional\n",
        "        wc.Property(name=\"Question\", data_type=wc.DataType.TEXT), \n",
        "        wc.Property(name=\"Answer\", data_type=wc.DataType.TEXT),\n",
        "        wc.Property(name=\"Category\", data_type=wc.DataType.TEXT, skip_vectorization=True), \n",
        "    ]\n",
        ")\n",
        "\n",
        "print(\"Successfully created collection: JeopardyQuestion.\")"
      ]
    },
    {
      "cell_type": "markdown",
      "metadata": {
        "id": "bjcuCEcCXlRK"
      },
      "source": [
        "## Import the Data"
      ]
    },
    {
      "cell_type": "code",
      "execution_count": null,
      "metadata": {
        "id": "paWgPOGsa_NV"
      },
      "outputs": [
        {
          "name": "stderr",
          "output_type": "stream",
          "text": [
            "/Users/leonie/Library/Python/3.9/lib/python/site-packages/urllib3/__init__.py:35: NotOpenSSLWarning: urllib3 v2 only supports OpenSSL 1.1.1+, currently the 'ssl' module is compiled with 'LibreSSL 2.8.3'. See: https://github.com/urllib3/urllib3/issues/3020\n",
            "  warnings.warn(\n"
          ]
        },
        {
          "name": "stdout",
          "output_type": "stream",
          "text": [
            "Adding {'Category': 'SCIENCE', 'Question': 'This organ removes excess glucose from the blood & stores it as glycogen', 'Answer': 'Liver'}\n",
            "Adding {'Category': 'ANIMALS', 'Question': \"It's the only living mammal in the order Proboseidea\", 'Answer': 'Elephant'}\n",
            "Adding {'Category': 'ANIMALS', 'Question': 'The gavial looks very much like a crocodile except for this bodily feature', 'Answer': 'the nose or snout'}\n",
            "Adding {'Category': 'ANIMALS', 'Question': 'Weighing around a ton, the eland is the largest species of this animal in Africa', 'Answer': 'Antelope'}\n",
            "Adding {'Category': 'ANIMALS', 'Question': 'Heaviest of all poisonous snakes is this North American rattlesnake', 'Answer': 'the diamondback rattler'}\n",
            "Adding {'Category': 'SCIENCE', 'Question': \"2000 news: the Gunnison sage grouse isn't just another northern sage grouse, but a new one of this classification\", 'Answer': 'species'}\n",
            "Adding {'Category': 'SCIENCE', 'Question': 'A metal that is \"ductile\" can be pulled into this while cold & under pressure', 'Answer': 'wire'}\n",
            "Adding {'Category': 'SCIENCE', 'Question': 'In 1953 Watson & Crick built a model of the molecular structure of this, the gene-carrying substance', 'Answer': 'DNA'}\n",
            "Adding {'Category': 'SCIENCE', 'Question': 'Changes in the tropospheric layer of this are what gives us weather', 'Answer': 'the atmosphere'}\n",
            "Adding {'Category': 'SCIENCE', 'Question': 'In 70-degree air, a plane traveling at about 1,130 feet per second breaks it', 'Answer': 'Sound barrier'}\n",
            "Import Complete\n"
          ]
        }
      ],
      "source": [
        "import requests, json\n",
        "url = 'https://raw.githubusercontent.com/weaviate/weaviate-examples/main/jeopardy_small_dataset/jeopardy_tiny.json'\n",
        "resp = requests.get(url)\n",
        "data = json.loads(resp.text)\n",
        "\n",
        "# Get a collection object for \"JeopardyQuestion\"\n",
        "jeopardy = client.collections.get(\"JeopardyQuestion\")\n",
        "\n",
        "# Insert data objects\n",
        "with jeopardy.batch.fixed_size(\n",
        "    batch_size=2,\n",
        "    # concurrent_requests=1\n",
        ") as batch:\n",
        "    for item in data:\n",
        "        print(\"Adding\", item)\n",
        "        batch.add_object(item)\n",
        "\n",
        "print(\"Import Complete\")\n",
        "\n",
        "if (len(jeopardy.batch.failed_objects) > 0):\n",
        "    print(\"There were some errors\")\n",
        "    for fo in jeopardy.batch.failed_objects:\n",
        "        print(fo)"
      ]
    },
    {
      "cell_type": "markdown",
      "metadata": {},
      "source": [
        "Quick check to see if all objects are in."
      ]
    },
    {
      "cell_type": "code",
      "execution_count": null,
      "metadata": {},
      "outputs": [
        {
          "data": {
            "text/plain": [
              "10"
            ]
          },
          "execution_count": 6,
          "metadata": {},
          "output_type": "execute_result"
        }
      ],
      "source": [
        "len(jeopardy)"
      ]
    },
    {
      "cell_type": "markdown",
      "metadata": {
        "id": "NISdgAYebLyX"
      },
      "source": [
        "## Query Weaviate: Similarity Search (Text objects)"
      ]
    },
    {
      "cell_type": "markdown",
      "metadata": {
        "id": "zHSeuEgScFFS"
      },
      "source": [
        "Similarity search options for text objects in **Weaviate**:\n",
        "\n",
        "1. [near_text](https://weaviate.io/developers/weaviate/search/similarity#an-input-medium)\n",
        "\n",
        "2. [near_object](https://weaviate.io/developers/weaviate/search/similarity#an-object)\n",
        "\n",
        "3. [near_vector](https://weaviate.io/developers/weaviate/search/similarity#a-vector)"
      ]
    },
    {
      "cell_type": "markdown",
      "metadata": {
        "id": "XF-ln5Nsgp1C"
      },
      "source": [
        "### nearText Example"
      ]
    },
    {
      "cell_type": "markdown",
      "metadata": {
        "id": "4yROGPv9huDe"
      },
      "source": [
        "Find a `JeopardyQuestion` about \"animals in movies\". Limit it to only 4 responses."
      ]
    },
    {
      "cell_type": "code",
      "execution_count": null,
      "metadata": {},
      "outputs": [],
      "source": [
        "import weaviate.classes.query as wq\n",
        "\n",
        "# note, you can reuse the collection object from the previous cell.\n",
        "# Get a collection object for \"JeopardyQuestion\"\n",
        "jeopardy = client.collections.get(\"JeopardyQuestion\")\n",
        "\n",
        "response = jeopardy.query.near_text(\n",
        "    query=\"african beasts\",\n",
        "    include_vector=True,                             # return the vector embeddings\n",
        "    return_metadata=wq.MetadataQuery(distance=True), # return the distance\n",
        "    limit=4\n",
        ")\n",
        "\n",
        "for item in response.objects:\n",
        "    print(\"ID:\", item.uuid)\n",
        "    print(\"Data:\", json.dumps(item.properties, indent=2))\n",
        "    #print(\"Vector:\", item.vector)\n",
        "    print(\"Distance:\", item.metadata.distance, \"\\n\")"
      ]
    },
    {
      "cell_type": "markdown",
      "metadata": {},
      "source": [
        "Let's check the length of one vector embedding:"
      ]
    },
    {
      "cell_type": "code",
      "execution_count": null,
      "metadata": {},
      "outputs": [
        {
          "data": {
            "text/plain": [
              "512"
            ]
          },
          "execution_count": 8,
          "metadata": {},
          "output_type": "execute_result"
        }
      ],
      "source": [
        "len(item.vector['default'])"
      ]
    },
    {
      "cell_type": "code",
      "execution_count": null,
      "metadata": {},
      "outputs": [],
      "source": [
        "# Save last item's vector embedding and UUID for near_object and near_vector search\n",
        "vector = item.vector['default']\n",
        "uuid = item.uuid"
      ]
    },
    {
      "cell_type": "markdown",
      "metadata": {
        "id": "Bn-ELUA_iJVM"
      },
      "source": [
        "### nearObject Example"
      ]
    },
    {
      "cell_type": "markdown",
      "metadata": {
        "id": "uI9GY5kOihM9"
      },
      "source": [
        "Search through the `JeopardyQuestion` class to find the top 4 objects closest to UUID, we saved earlier."
      ]
    },
    {
      "cell_type": "code",
      "execution_count": null,
      "metadata": {},
      "outputs": [
        {
          "name": "stdout",
          "output_type": "stream",
          "text": [
            "Retrieve objects closest to item with UUID: 1a63abbc-41c5-45da-b28e-819c58d14896\n",
            "\n",
            "ID: 1a63abbc-41c5-45da-b28e-819c58d14896\n",
            "Data: {'category': 'ANIMALS', 'question': 'Weighing around a ton, the eland is the largest species of this animal in Africa', 'answer': 'Antelope'} \n",
            "\n",
            "ID: 91bf08c7-131c-494d-9699-d374918bc88d\n",
            "Data: {'question': \"It's the only living mammal in the order Proboseidea\", 'category': 'ANIMALS', 'answer': 'Elephant'} \n",
            "\n",
            "ID: 3c50fa78-6e61-4a32-b333-d99cba58ac0e\n",
            "Data: {'question': 'Heaviest of all poisonous snakes is this North American rattlesnake', 'category': 'ANIMALS', 'answer': 'the diamondback rattler'} \n",
            "\n",
            "ID: 933505f9-176b-45da-891e-880b9a69c178\n",
            "Data: {'category': 'SCIENCE', 'question': 'This organ removes excess glucose from the blood & stores it as glycogen', 'answer': 'Liver'} \n",
            "\n"
          ]
        }
      ],
      "source": [
        "print(f\"Retrieve objects closest to item with UUID: {uuid}\\n\")\n",
        "\n",
        "response = jeopardy.query.near_object(\n",
        "    near_object=uuid, # replace with your id of interest\n",
        "    limit=4\n",
        ")\n",
        "\n",
        "for item in response.objects:\n",
        "    print(\"ID:\", item.uuid)\n",
        "    print(\"Data:\", item.properties, \"\\n\")"
      ]
    },
    {
      "cell_type": "markdown",
      "metadata": {
        "id": "UzNmHZdijTKu"
      },
      "source": [
        "### nearVector Example"
      ]
    },
    {
      "cell_type": "markdown",
      "metadata": {
        "id": "mVUXMzMcjXmC"
      },
      "source": [
        "Search through the `JeopardyQuestion` class to find the top 2 objects closest to the query vector, we saved earlier."
      ]
    },
    {
      "cell_type": "code",
      "execution_count": null,
      "metadata": {
        "id": "ZZARB1qUjUoq"
      },
      "outputs": [
        {
          "name": "stdout",
          "output_type": "stream",
          "text": [
            "Retrieve objects closest to item with vector: [0.0196092426776886, -0.02806108444929123, -0.017384057864546776, 0.02691761963069439, -0.03801804780960083]...\n",
            "\n",
            "ID: 1a63abbc-41c5-45da-b28e-819c58d14896\n",
            "Data: {'question': 'Weighing around a ton, the eland is the largest species of this animal in Africa', 'category': 'ANIMALS', 'answer': 'Antelope'} \n",
            "\n",
            "ID: 91bf08c7-131c-494d-9699-d374918bc88d\n",
            "Data: {'question': \"It's the only living mammal in the order Proboseidea\", 'category': 'ANIMALS', 'answer': 'Elephant'} \n",
            "\n",
            "ID: 3c50fa78-6e61-4a32-b333-d99cba58ac0e\n",
            "Data: {'question': 'Heaviest of all poisonous snakes is this North American rattlesnake', 'category': 'ANIMALS', 'answer': 'the diamondback rattler'} \n",
            "\n",
            "ID: 933505f9-176b-45da-891e-880b9a69c178\n",
            "Data: {'question': 'This organ removes excess glucose from the blood & stores it as glycogen', 'category': 'SCIENCE', 'answer': 'Liver'} \n",
            "\n"
          ]
        }
      ],
      "source": [
        "print(f\"Retrieve objects closest to item with vector: {vector[:5]}...\\n\")\n",
        "\n",
        "response = jeopardy.query.near_vector(\n",
        "    near_vector=vector, # your vector object goes here\n",
        "    limit=4\n",
        ")\n",
        "\n",
        "for item in response.objects:\n",
        "    print(\"ID:\", item.uuid)\n",
        "    print(\"Data:\", item.properties, \"\\n\")"
      ]
    }
  ],
  "metadata": {
    "colab": {
      "collapsed_sections": [
        "rJD9aP9eVcsT",
        "rgL-mnMqVf0B",
        "Ze5J8E4MWC8g",
        "bjcuCEcCXlRK",
        "XF-ln5Nsgp1C",
        "Bn-ELUA_iJVM"
      ],
      "provenance": []
    },
    "kernelspec": {
      "display_name": "Python 3",
      "language": "python",
      "name": "python3"
    },
    "language_info": {
      "codemirror_mode": {
        "name": "ipython",
        "version": 3
      },
      "file_extension": ".py",
      "mimetype": "text/x-python",
      "name": "python",
      "nbconvert_exporter": "python",
      "pygments_lexer": "ipython3",
      "version": "3.9.6"
    }
  },
  "nbformat": 4,
  "nbformat_minor": 0
}
