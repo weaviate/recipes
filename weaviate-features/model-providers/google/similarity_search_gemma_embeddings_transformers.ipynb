{
  "cells": [
    {
      "cell_type": "markdown",
      "metadata": {},
      "source": [
        "# Similarity search with Gemma Embeddings and Weaviate's `text2vec-transformers` module\n",
        "\n",
        "This tutorial shows you, how to use the `gemma-3-300m-embedding` in Weaviate.\n",
        "\n",
        "Model overview:\n",
        "\n",
        "- Multilingual capabilities in over 100 languages\n",
        "- Leverages Matryoshka Representation Learning for flexible output dimensions (128, 256, 512, 768)\n",
        "- Maximum input sequence length of 8k tokens\n",
        "- <300MB RAM usage with QAT"
      ]
    },
    {
      "cell_type": "markdown",
      "metadata": {
        "id": "rJD9aP9eVcsT"
      },
      "source": [
        "## Dependencies"
      ]
    },
    {
      "cell_type": "code",
      "execution_count": 1,
      "metadata": {
        "id": "3IgZm3pYwWa8"
      },
      "outputs": [],
      "source": [
        "%%capture\n",
        "%pip install -q -U weaviate-client"
      ]
    },
    {
      "cell_type": "markdown",
      "metadata": {
        "id": "rgL-mnMqVf0B"
      },
      "source": [
        "## Connect to Weaviate\n",
        "\n",
        "This Notebook uses the [`text2vec-transformers`](https://docs.weaviate.io/weaviate/model-providers/transformers/embeddings) module, which is **only** available through Weaviate open-source via [Docker](https://docs.weaviate.io/deploy/installation-guides/docker-installation) or [Kubernetes](https://docs.weaviate.io/deploy/installation-guides/k8s-installation). This integration is **not** available for Weaviate Cloud (WCD) serverless instances, as it requires spinning up a container with the Hugging Face model.\n",
        "\n",
        "This notebook uses a [pre-built transformers model container](https://weaviate.io/developers/weaviate/modules/retriever-vectorizer-modules/text2vec-transformers#pre-built-images). For this, create a `docker-compose.yml` file with the following contents:\n",
        "```\n",
        "---\n",
        "services:\n",
        "  weaviate:\n",
        "    command:\n",
        "    - --host\n",
        "    - 0.0.0.0\n",
        "    - --port\n",
        "    - '8080'\n",
        "    - --scheme\n",
        "    - http\n",
        "    image: cr.weaviate.io/semitechnologies/weaviate:1.32.2\n",
        "    ports:\n",
        "    - 8080:8080\n",
        "    - 50051:50051\n",
        "    restart: on-failure:0\n",
        "    environment:\n",
        "      TRANSFORMERS_INFERENCE_API: 'http://t2v-transformers:8080'\n",
        "      QUERY_DEFAULTS_LIMIT: 25\n",
        "      AUTHENTICATION_ANONYMOUS_ACCESS_ENABLED: 'true'\n",
        "      PERSISTENCE_DATA_PATH: '/var/lib/weaviate'\n",
        "      DEFAULT_VECTORIZER_MODULE: 'text2vec-transformers'\n",
        "      ENABLE_MODULES: 'text2vec-transformers'\n",
        "      CLUSTER_HOSTNAME: 'weaviate-0'\n",
        "  t2v-transformers:\n",
        "    image: cr.weaviate.io/semitechnologies/transformers-inference:google-gemma-3-300m-embedding\n",
        "    environment:\n",
        "      ENABLE_CUDA: '0'\n",
        "...\n",
        "```\n",
        "and start up Docker container with\n",
        "```\n",
        "docker-compose up -d\n",
        "```"
      ]
    },
    {
      "cell_type": "code",
      "execution_count": null,
      "metadata": {
        "id": "-yrJZaNJwcCc"
      },
      "outputs": [
        {
          "name": "stderr",
          "output_type": "stream",
          "text": [
            "/Users/leonie/Library/Python/3.9/lib/python/site-packages/google/protobuf/runtime_version.py:98: UserWarning: Protobuf gencode version 5.29.0 is exactly one major version older than the runtime version 6.31.1 at v1/aggregate.proto. Please update the gencode to avoid compatibility violations in the next runtime release.\n",
            "  warnings.warn(\n",
            "/Users/leonie/Library/Python/3.9/lib/python/site-packages/google/protobuf/runtime_version.py:98: UserWarning: Protobuf gencode version 5.29.0 is exactly one major version older than the runtime version 6.31.1 at v1/base.proto. Please update the gencode to avoid compatibility violations in the next runtime release.\n",
            "  warnings.warn(\n",
            "/Users/leonie/Library/Python/3.9/lib/python/site-packages/google/protobuf/runtime_version.py:98: UserWarning: Protobuf gencode version 5.29.0 is exactly one major version older than the runtime version 6.31.1 at v1/base_search.proto. Please update the gencode to avoid compatibility violations in the next runtime release.\n",
            "  warnings.warn(\n",
            "/Users/leonie/Library/Python/3.9/lib/python/site-packages/google/protobuf/runtime_version.py:98: UserWarning: Protobuf gencode version 5.29.0 is exactly one major version older than the runtime version 6.31.1 at v1/batch_delete.proto. Please update the gencode to avoid compatibility violations in the next runtime release.\n",
            "  warnings.warn(\n",
            "/Users/leonie/Library/Python/3.9/lib/python/site-packages/google/protobuf/runtime_version.py:98: UserWarning: Protobuf gencode version 5.29.0 is exactly one major version older than the runtime version 6.31.1 at v1/batch.proto. Please update the gencode to avoid compatibility violations in the next runtime release.\n",
            "  warnings.warn(\n",
            "/Users/leonie/Library/Python/3.9/lib/python/site-packages/google/protobuf/runtime_version.py:98: UserWarning: Protobuf gencode version 5.29.0 is exactly one major version older than the runtime version 6.31.1 at v1/search_get.proto. Please update the gencode to avoid compatibility violations in the next runtime release.\n",
            "  warnings.warn(\n",
            "/Users/leonie/Library/Python/3.9/lib/python/site-packages/google/protobuf/runtime_version.py:98: UserWarning: Protobuf gencode version 5.29.0 is exactly one major version older than the runtime version 6.31.1 at v1/generative.proto. Please update the gencode to avoid compatibility violations in the next runtime release.\n",
            "  warnings.warn(\n",
            "/Users/leonie/Library/Python/3.9/lib/python/site-packages/google/protobuf/runtime_version.py:98: UserWarning: Protobuf gencode version 5.29.0 is exactly one major version older than the runtime version 6.31.1 at v1/properties.proto. Please update the gencode to avoid compatibility violations in the next runtime release.\n",
            "  warnings.warn(\n",
            "/Users/leonie/Library/Python/3.9/lib/python/site-packages/google/protobuf/runtime_version.py:98: UserWarning: Protobuf gencode version 5.29.0 is exactly one major version older than the runtime version 6.31.1 at v1/tenants.proto. Please update the gencode to avoid compatibility violations in the next runtime release.\n",
            "  warnings.warn(\n"
          ]
        },
        {
          "data": {
            "text/plain": [
              "True"
            ]
          },
          "execution_count": 2,
          "metadata": {},
          "output_type": "execute_result"
        }
      ],
      "source": [
        "import weaviate\n",
        "from weaviate.config import AdditionalConfig\n",
        "\n",
        "# Connect to your local Weaviate instance deployed with Docker\n",
        "client = weaviate.connect_to_local(\n",
        "\n",
        ")\n",
        "\n",
        "client.is_ready()"
      ]
    },
    {
      "cell_type": "code",
      "execution_count": null,
      "metadata": {},
      "outputs": [],
      "source": [
        "# Check the cluster metadata to verify if the module is enabled\n",
        "client.get_meta()['modules']"
      ]
    },
    {
      "cell_type": "markdown",
      "metadata": {
        "id": "Ze5J8E4MWC8g"
      },
      "source": [
        "## Create a collection\n",
        "> Collection stores your data and vector embeddings."
      ]
    },
    {
      "cell_type": "code",
      "execution_count": 4,
      "metadata": {
        "id": "J32wdDCMWCgS"
      },
      "outputs": [
        {
          "name": "stdout",
          "output_type": "stream",
          "text": [
            "Successfully created collection: JeopardyQuestion.\n"
          ]
        }
      ],
      "source": [
        "# Note: in practice, you shouldn't rerun this cell, as it deletes your data\n",
        "# in \"JeopardyQuestion\", and then you need to re-import it again.\n",
        "import weaviate.classes.config as wc\n",
        "\n",
        "# Delete the collection if it already exists\n",
        "if (client.collections.exists(\"JeopardyQuestion\")):\n",
        "    client.collections.delete(\"JeopardyQuestion\")\n",
        "\n",
        "client.collections.create(\n",
        "    name=\"JeopardyQuestion\",\n",
        "\n",
        "    vector_config=wc.Configure.Vectors.text2vec_transformers( \n",
        "        dimensions=512, # default: 768, possible options: 128, 256, 512\n",
        "    ),\n",
        "\n",
        "    properties=[ # defining properties (data schema) is optional\n",
        "        wc.Property(name=\"Question\", data_type=wc.DataType.TEXT), \n",
        "        wc.Property(name=\"Answer\", data_type=wc.DataType.TEXT),\n",
        "        wc.Property(name=\"Category\", data_type=wc.DataType.TEXT, skip_vectorization=True), \n",
        "    ]\n",
        ")\n",
        "\n",
        "print(\"Successfully created collection: JeopardyQuestion.\")"
      ]
    },
    {
      "cell_type": "markdown",
      "metadata": {
        "id": "bjcuCEcCXlRK"
      },
      "source": [
        "## Import the Data"
      ]
    },
    {
      "cell_type": "code",
      "execution_count": 5,
      "metadata": {
        "id": "paWgPOGsa_NV"
      },
      "outputs": [
        {
          "name": "stderr",
          "output_type": "stream",
          "text": [
            "/Users/leonie/Library/Python/3.9/lib/python/site-packages/urllib3/__init__.py:35: NotOpenSSLWarning: urllib3 v2 only supports OpenSSL 1.1.1+, currently the 'ssl' module is compiled with 'LibreSSL 2.8.3'. See: https://github.com/urllib3/urllib3/issues/3020\n",
            "  warnings.warn(\n"
          ]
        },
        {
          "name": "stdout",
          "output_type": "stream",
          "text": [
            "Adding {'Category': 'SCIENCE', 'Question': 'This organ removes excess glucose from the blood & stores it as glycogen', 'Answer': 'Liver'}\n",
            "Adding {'Category': 'ANIMALS', 'Question': \"It's the only living mammal in the order Proboseidea\", 'Answer': 'Elephant'}\n",
            "Adding {'Category': 'ANIMALS', 'Question': 'The gavial looks very much like a crocodile except for this bodily feature', 'Answer': 'the nose or snout'}\n",
            "Adding {'Category': 'ANIMALS', 'Question': 'Weighing around a ton, the eland is the largest species of this animal in Africa', 'Answer': 'Antelope'}\n",
            "Adding {'Category': 'ANIMALS', 'Question': 'Heaviest of all poisonous snakes is this North American rattlesnake', 'Answer': 'the diamondback rattler'}\n",
            "Adding {'Category': 'SCIENCE', 'Question': \"2000 news: the Gunnison sage grouse isn't just another northern sage grouse, but a new one of this classification\", 'Answer': 'species'}\n",
            "Adding {'Category': 'SCIENCE', 'Question': 'A metal that is \"ductile\" can be pulled into this while cold & under pressure', 'Answer': 'wire'}\n",
            "Adding {'Category': 'SCIENCE', 'Question': 'In 1953 Watson & Crick built a model of the molecular structure of this, the gene-carrying substance', 'Answer': 'DNA'}\n",
            "Adding {'Category': 'SCIENCE', 'Question': 'Changes in the tropospheric layer of this are what gives us weather', 'Answer': 'the atmosphere'}\n",
            "Adding {'Category': 'SCIENCE', 'Question': 'In 70-degree air, a plane traveling at about 1,130 feet per second breaks it', 'Answer': 'Sound barrier'}\n",
            "Import Complete\n"
          ]
        }
      ],
      "source": [
        "import requests, json\n",
        "url = 'https://raw.githubusercontent.com/weaviate/weaviate-examples/main/jeopardy_small_dataset/jeopardy_tiny.json'\n",
        "resp = requests.get(url)\n",
        "data = json.loads(resp.text)\n",
        "\n",
        "# Get a collection object for \"JeopardyQuestion\"\n",
        "jeopardy = client.collections.get(\"JeopardyQuestion\")\n",
        "\n",
        "# Insert data objects\n",
        "with jeopardy.batch.fixed_size(\n",
        "    batch_size=2,\n",
        "    # concurrent_requests=1\n",
        ") as batch:\n",
        "    for item in data:\n",
        "        print(\"Adding\", item)\n",
        "        batch.add_object(item)\n",
        "\n",
        "print(\"Import Complete\")\n",
        "\n",
        "if (len(jeopardy.batch.failed_objects) > 0):\n",
        "    print(\"There were some errors\")\n",
        "    for fo in jeopardy.batch.failed_objects:\n",
        "        print(fo)"
      ]
    },
    {
      "cell_type": "markdown",
      "metadata": {},
      "source": [
        "Quick check to see if all objects are in."
      ]
    },
    {
      "cell_type": "code",
      "execution_count": 6,
      "metadata": {},
      "outputs": [
        {
          "data": {
            "text/plain": [
              "10"
            ]
          },
          "execution_count": 6,
          "metadata": {},
          "output_type": "execute_result"
        }
      ],
      "source": [
        "len(jeopardy)"
      ]
    },
    {
      "cell_type": "markdown",
      "metadata": {
        "id": "NISdgAYebLyX"
      },
      "source": [
        "## Query Weaviate: Similarity Search (Text objects)"
      ]
    },
    {
      "cell_type": "markdown",
      "metadata": {
        "id": "zHSeuEgScFFS"
      },
      "source": [
        "Similarity search options for text objects in **Weaviate**:\n",
        "\n",
        "1. [near_text](https://weaviate.io/developers/weaviate/search/similarity#an-input-medium)\n",
        "\n",
        "2. [near_object](https://weaviate.io/developers/weaviate/search/similarity#an-object)\n",
        "\n",
        "3. [near_vector](https://weaviate.io/developers/weaviate/search/similarity#a-vector)"
      ]
    },
    {
      "cell_type": "markdown",
      "metadata": {
        "id": "XF-ln5Nsgp1C"
      },
      "source": [
        "### nearText Example"
      ]
    },
    {
      "cell_type": "markdown",
      "metadata": {
        "id": "4yROGPv9huDe"
      },
      "source": [
        "Find a `JeopardyQuestion` about \"animals in movies\". Limit it to only 4 responses."
      ]
    },
    {
      "cell_type": "code",
      "execution_count": null,
      "metadata": {},
      "outputs": [],
      "source": [
        "import weaviate.classes.query as wq\n",
        "\n",
        "# note, you can reuse the collection object from the previous cell.\n",
        "# Get a collection object for \"JeopardyQuestion\"\n",
        "jeopardy = client.collections.get(\"JeopardyQuestion\")\n",
        "\n",
        "response = jeopardy.query.near_text(\n",
        "    query=\"african beasts\",\n",
        "    include_vector=True,                             # return the vector embeddings\n",
        "    return_metadata=wq.MetadataQuery(distance=True), # return the distance\n",
        "    limit=4\n",
        ")\n",
        "\n",
        "for item in response.objects:\n",
        "    print(\"ID:\", item.uuid)\n",
        "    print(\"Data:\", json.dumps(item.properties, indent=2))\n",
        "    print(\"Vector:\", item.vector)\n",
        "    print(\"Distance:\", item.metadata.distance, \"\\n\")"
      ]
    },
    {
      "cell_type": "markdown",
      "metadata": {},
      "source": [
        "Let's check the length of one vector embedding:"
      ]
    },
    {
      "cell_type": "code",
      "execution_count": 8,
      "metadata": {},
      "outputs": [
        {
          "data": {
            "text/plain": [
              "512"
            ]
          },
          "execution_count": 8,
          "metadata": {},
          "output_type": "execute_result"
        }
      ],
      "source": [
        "len(item.vector['default'])"
      ]
    },
    {
      "cell_type": "code",
      "execution_count": 9,
      "metadata": {},
      "outputs": [],
      "source": [
        "# Save last item's vector embedding and UUID for near_object and near_vector search\n",
        "vector = item.vector['default']\n",
        "uuid = item.uuid"
      ]
    },
    {
      "cell_type": "markdown",
      "metadata": {
        "id": "Bn-ELUA_iJVM"
      },
      "source": [
        "### nearObject Example"
      ]
    },
    {
      "cell_type": "markdown",
      "metadata": {
        "id": "uI9GY5kOihM9"
      },
      "source": [
        "Search through the `JeopardyQuestion` class to find the top 4 objects closest to UUID, we saved earlier."
      ]
    },
    {
      "cell_type": "code",
      "execution_count": 10,
      "metadata": {},
      "outputs": [
        {
          "name": "stdout",
          "output_type": "stream",
          "text": [
            "Retrieve objects closest to item with UUID: 1a63abbc-41c5-45da-b28e-819c58d14896\n",
            "\n",
            "ID: 1a63abbc-41c5-45da-b28e-819c58d14896\n",
            "Data: {'category': 'ANIMALS', 'question': 'Weighing around a ton, the eland is the largest species of this animal in Africa', 'answer': 'Antelope'} \n",
            "\n",
            "ID: 91bf08c7-131c-494d-9699-d374918bc88d\n",
            "Data: {'question': \"It's the only living mammal in the order Proboseidea\", 'category': 'ANIMALS', 'answer': 'Elephant'} \n",
            "\n",
            "ID: 3c50fa78-6e61-4a32-b333-d99cba58ac0e\n",
            "Data: {'question': 'Heaviest of all poisonous snakes is this North American rattlesnake', 'category': 'ANIMALS', 'answer': 'the diamondback rattler'} \n",
            "\n",
            "ID: 933505f9-176b-45da-891e-880b9a69c178\n",
            "Data: {'category': 'SCIENCE', 'question': 'This organ removes excess glucose from the blood & stores it as glycogen', 'answer': 'Liver'} \n",
            "\n"
          ]
        }
      ],
      "source": [
        "print(f\"Retrieve objects closest to item with UUID: {uuid}\\n\")\n",
        "\n",
        "response = jeopardy.query.near_object(\n",
        "    near_object=uuid, # replace with your id of interest\n",
        "    limit=4\n",
        ")\n",
        "\n",
        "for item in response.objects:\n",
        "    print(\"ID:\", item.uuid)\n",
        "    print(\"Data:\", item.properties, \"\\n\")"
      ]
    },
    {
      "cell_type": "markdown",
      "metadata": {
        "id": "UzNmHZdijTKu"
      },
      "source": [
        "### nearVector Example"
      ]
    },
    {
      "cell_type": "markdown",
      "metadata": {
        "id": "mVUXMzMcjXmC"
      },
      "source": [
        "Search through the `JeopardyQuestion` class to find the top 2 objects closest to the query vector, we saved earlier."
      ]
    },
    {
      "cell_type": "code",
      "execution_count": 11,
      "metadata": {
        "id": "ZZARB1qUjUoq"
      },
      "outputs": [
        {
          "name": "stdout",
          "output_type": "stream",
          "text": [
            "Retrieve objects closest to item with vector: [0.0196092426776886, -0.02806108444929123, -0.017384057864546776, 0.02691761963069439, -0.03801804780960083]...\n",
            "\n",
            "ID: 1a63abbc-41c5-45da-b28e-819c58d14896\n",
            "Data: {'question': 'Weighing around a ton, the eland is the largest species of this animal in Africa', 'category': 'ANIMALS', 'answer': 'Antelope'} \n",
            "\n",
            "ID: 91bf08c7-131c-494d-9699-d374918bc88d\n",
            "Data: {'question': \"It's the only living mammal in the order Proboseidea\", 'category': 'ANIMALS', 'answer': 'Elephant'} \n",
            "\n",
            "ID: 3c50fa78-6e61-4a32-b333-d99cba58ac0e\n",
            "Data: {'question': 'Heaviest of all poisonous snakes is this North American rattlesnake', 'category': 'ANIMALS', 'answer': 'the diamondback rattler'} \n",
            "\n",
            "ID: 933505f9-176b-45da-891e-880b9a69c178\n",
            "Data: {'question': 'This organ removes excess glucose from the blood & stores it as glycogen', 'category': 'SCIENCE', 'answer': 'Liver'} \n",
            "\n"
          ]
        }
      ],
      "source": [
        "print(f\"Retrieve objects closest to item with vector: {vector[:5]}...\\n\")\n",
        "\n",
        "response = jeopardy.query.near_vector(\n",
        "    near_vector=vector, # your vector object goes here\n",
        "    limit=4\n",
        ")\n",
        "\n",
        "for item in response.objects:\n",
        "    print(\"ID:\", item.uuid)\n",
        "    print(\"Data:\", item.properties, \"\\n\")"
      ]
    }
  ],
  "metadata": {
    "colab": {
      "collapsed_sections": [
        "rJD9aP9eVcsT",
        "rgL-mnMqVf0B",
        "Ze5J8E4MWC8g",
        "bjcuCEcCXlRK",
        "XF-ln5Nsgp1C",
        "Bn-ELUA_iJVM"
      ],
      "provenance": []
    },
    "kernelspec": {
      "display_name": "Python 3",
      "language": "python",
      "name": "python3"
    },
    "language_info": {
      "codemirror_mode": {
        "name": "ipython",
        "version": 3
      },
      "file_extension": ".py",
      "mimetype": "text/x-python",
      "name": "python",
      "nbconvert_exporter": "python",
      "pygments_lexer": "ipython3",
      "version": "3.9.6"
    }
  },
  "nbformat": 4,
  "nbformat_minor": 0
}
