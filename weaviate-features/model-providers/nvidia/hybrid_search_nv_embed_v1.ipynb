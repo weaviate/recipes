{
 "cells": [
  {
   "cell_type": "markdown",
   "metadata": {},
   "source": [
    "[![Open In Colab](https://colab.research.google.com/assets/colab-badge.svg)](https://colab.research.google.com/github/weaviate/recipes/blob/main/weaviate-features/model-providers/nvidia/hybrid_search_nv_embed_v1.ipynb)"
   ]
  },
  {
   "cell_type": "markdown",
   "metadata": {},
   "source": [
    "# Hybrid Search with NVIDIA\n",
    "\n",
    "This recipe will show you how to run hybrid search queries with an embedding model on NVIDIA. "
   ]
  },
  {
   "cell_type": "markdown",
   "metadata": {},
   "source": [
    "## Requirements\n",
    "\n",
    "1. Weaviate cluster\n",
    "    1. You can create a 14-day free sandbox on [WCD](https://console.weaviate.cloud/)\n",
    "    2. [Embedded Weaviate](https://weaviate.io/developers/weaviate/installation/embedded)\n",
    "    3. [Local deployment](https://weaviate.io/developers/weaviate/installation/docker-compose#starter-docker-compose-file)\n",
    "    4. [Other options](https://weaviate.io/developers/weaviate/installation)\n",
    "\n",
    "2. NVIDIA NIM API key. Grab one [here](https://build.nvidia.com/models).\n",
    "3. Weaviate client version `4.11.0` or newer\n",
    "4. Weaviate database version `1.28.5`, `1.29.0`, or newer."
   ]
  },
  {
   "cell_type": "code",
   "execution_count": null,
   "metadata": {},
   "outputs": [],
   "source": [
    "!pip show weaviate-client"
   ]
  },
  {
   "cell_type": "code",
   "execution_count": 2,
   "metadata": {},
   "outputs": [],
   "source": [
    "import weaviate, os\n",
    "from weaviate.embedded import EmbeddedOptions\n",
    "import weaviate.classes as wvc\n",
    "import weaviate.classes.config as wc\n",
    "import requests, json\n",
    "import weaviate.classes.query as wq"
   ]
  },
  {
   "cell_type": "markdown",
   "metadata": {},
   "source": [
    "## Connect to Weaviate\n",
    "\n",
    "Only choose one option from the below."
   ]
  },
  {
   "cell_type": "markdown",
   "metadata": {},
   "source": [
    "**Weaviate Cloud Deployment**"
   ]
  },
  {
   "cell_type": "code",
   "execution_count": 3,
   "metadata": {},
   "outputs": [
    {
     "name": "stdout",
     "output_type": "stream",
     "text": [
      "True\n"
     ]
    }
   ],
   "source": [
    "WCD_URL = os.environ[\"WEAVIATE_URL\"] # Replace with your Weaviate cluster URL\n",
    "WCD_AUTH_KEY = os.environ[\"WEAVIATE_AUTH\"] # Replace with your cluster auth key\n",
    "NVIDIA_KEY = os.environ[\"NVIDIA_API_KEY\"] # Replace with your NVIDIA key\n",
    "\n",
    "# Weaviate Cloud Deployment\n",
    "client = weaviate.connect_to_wcs(\n",
    "    cluster_url=WCD_URL,\n",
    "    auth_credentials=weaviate.auth.AuthApiKey(WCD_AUTH_KEY),\n",
    "      headers={ \"X-Nvidia-Api-Key\": NVIDIA_KEY}\n",
    ")\n",
    "\n",
    "print(client.is_ready())"
   ]
  },
  {
   "cell_type": "markdown",
   "metadata": {},
   "source": [
    "**Embedded Weaviate**"
   ]
  },
  {
   "cell_type": "code",
   "execution_count": null,
   "metadata": {},
   "outputs": [],
   "source": [
    "# NVIDIA_KEY = os.environ[\"NVIDIA_API_KEY\"] # Replace with your NVIDIA key\n",
    "\n",
    "# client = weaviate.WeaviateClient(\n",
    "#     embedded_options=EmbeddedOptions(\n",
    "#         version=\"1.29.0\",\n",
    "#         additional_env_vars={\n",
    "#             \"ENABLE_MODULES\": \"text2vec-nvidia\"\n",
    "#         }),\n",
    "#         additional_headers={\n",
    "#             \"X-Nvidia-Api-Key\": NVIDIA_KEY\n",
    "#         }\n",
    "# )\n",
    "\n",
    "# client.connect()"
   ]
  },
  {
   "cell_type": "markdown",
   "metadata": {},
   "source": [
    "**Local Deployment**"
   ]
  },
  {
   "cell_type": "code",
   "execution_count": null,
   "metadata": {},
   "outputs": [],
   "source": [
    "# NVIDIA_KEY = os.environ[\"NVIDIA_API_KEY\"] # Replace with your NVIDIA key\n",
    "\n",
    "# client = weaviate.connect_to_local(\n",
    "#   headers={\n",
    "#     \"X-Nvidia-Api-Key\": NVIDIA_KEY\n",
    "#   }\n",
    "# )\n",
    "# print(client.is_ready())"
   ]
  },
  {
   "cell_type": "markdown",
   "metadata": {},
   "source": [
    "## Create a collection\n",
    "> Collection stores your data and vector embeddings."
   ]
  },
  {
   "cell_type": "code",
   "execution_count": 4,
   "metadata": {},
   "outputs": [
    {
     "name": "stdout",
     "output_type": "stream",
     "text": [
      "Successfully created collection: JeopardyQuestion.\n"
     ]
    }
   ],
   "source": [
    "# Note: in practice, you shouldn't rerun this cell, as it deletes your data\n",
    "# in \"JeopardyQuestion\", and then you need to re-import it again.\n",
    "\n",
    "# Delete the collection if it already exists\n",
    "if (client.collections.exists(\"JeopardyQuestion\")):\n",
    "    client.collections.delete(\"JeopardyQuestion\")\n",
    "\n",
    "client.collections.create(\n",
    "    name=\"JeopardyQuestion\",\n",
    "\n",
    "    vectorizer_config=wc.Configure.Vectorizer.text2vec_nvidia( # specify the vectorizer and model\n",
    "        model=\"nvidia/nv-embed-v1\", # optional, default is nvidia/nv-embed-v1\n",
    "    ),\n",
    "\n",
    "    properties=[ # defining properties (data schema) is optional\n",
    "        wc.Property(name=\"Question\", data_type=wc.DataType.TEXT), \n",
    "        wc.Property(name=\"Answer\", data_type=wc.DataType.TEXT),\n",
    "        wc.Property(name=\"Category\", data_type=wc.DataType.TEXT, skip_vectorization=True), \n",
    "    ]\n",
    ")\n",
    "\n",
    "print(\"Successfully created collection: JeopardyQuestion.\")"
   ]
  },
  {
   "cell_type": "markdown",
   "metadata": {},
   "source": [
    "## Import Data"
   ]
  },
  {
   "cell_type": "code",
   "execution_count": 5,
   "metadata": {},
   "outputs": [
    {
     "name": "stdout",
     "output_type": "stream",
     "text": [
      "Insert complete.\n"
     ]
    }
   ],
   "source": [
    "url = 'https://raw.githubusercontent.com/weaviate/weaviate-examples/main/jeopardy_small_dataset/jeopardy_tiny.json'\n",
    "resp = requests.get(url)\n",
    "data = json.loads(resp.text)\n",
    "\n",
    "# Get a collection object for \"JeopardyQuestion\"\n",
    "jeopardy = client.collections.get(\"JeopardyQuestion\")\n",
    "\n",
    "# Insert data objects\n",
    "response = jeopardy.data.insert_many(data)\n",
    "\n",
    "# Note, the `data` array contains 10 objects, which is great to call insert_many with.\n",
    "# However, if you have a milion objects to insert, then you should spit them into smaller batches (i.e. 100-1000 per insert)\n",
    "\n",
    "if (response.has_errors):\n",
    "    print(response.errors)\n",
    "else:\n",
    "    print(\"Insert complete.\")"
   ]
  },
  {
   "cell_type": "markdown",
   "metadata": {},
   "source": [
    "## Hybrid Search"
   ]
  },
  {
   "cell_type": "markdown",
   "metadata": {},
   "source": [
    "The `alpha` parameter determines the weight given to the sparse and dense search methods. `alpha = 0` is pure sparse (bm25) search, whereas `alpha = 1` is pure dense (vector) search. \n",
    "\n",
    "Alpha is an optional parameter. The default is set to `0.75`."
   ]
  },
  {
   "cell_type": "markdown",
   "metadata": {},
   "source": [
    "### Hybrid Search only\n",
    "\n",
    "The below query is finding Jeopardy questions about animals and is limiting the output to only two results. Notice `alpha` is set to `0.80`, which means it is weighing the vector search results more than bm25. If you were to set `alpha = 0.25`, you would get different results. "
   ]
  },
  {
   "cell_type": "code",
   "execution_count": 6,
   "metadata": {},
   "outputs": [
    {
     "name": "stdout",
     "output_type": "stream",
     "text": [
      "ID: a63f50a0-aff8-4047-9793-6302a63e8015\n",
      "Data: {\n",
      "  \"answer\": \"species\",\n",
      "  \"question\": \"2000 news: the Gunnison sage grouse isn't just another northern sage grouse, but a new one of this classification\",\n",
      "  \"category\": \"SCIENCE\"\n",
      "} \n",
      "\n",
      "ID: 7eb9e0d8-105e-4e36-a357-da7ca18f0671\n",
      "Data: {\n",
      "  \"answer\": \"the diamondback rattler\",\n",
      "  \"question\": \"Heaviest of all poisonous snakes is this North American rattlesnake\",\n",
      "  \"category\": \"ANIMALS\"\n",
      "} \n",
      "\n",
      "ID: b4036fc7-e1f6-4c94-9c44-f4836ce25ffb\n",
      "Data: {\n",
      "  \"answer\": \"Antelope\",\n",
      "  \"question\": \"Weighing around a ton, the eland is the largest species of this animal in Africa\",\n",
      "  \"category\": \"ANIMALS\"\n",
      "} \n",
      "\n"
     ]
    }
   ],
   "source": [
    "response = jeopardy.query.hybrid(\n",
    "    query=\"northern beast\",\n",
    "    query_properties=[\"question\"],\n",
    "    alpha=0.8,\n",
    "    limit=3\n",
    ")\n",
    "\n",
    "for item in response.objects:\n",
    "    print(\"ID:\", item.uuid)\n",
    "    print(\"Data:\", json.dumps(item.properties, indent=2), \"\\n\")"
   ]
  },
  {
   "cell_type": "markdown",
   "metadata": {},
   "source": [
    "### Hybrid Search with a `where` filter\n",
    "\n",
    "Find Jeopardy questions about elephants, where the category is set to Animals."
   ]
  },
  {
   "cell_type": "code",
   "execution_count": 7,
   "metadata": {},
   "outputs": [
    {
     "name": "stdout",
     "output_type": "stream",
     "text": [
      "ID: 7eb9e0d8-105e-4e36-a357-da7ca18f0671\n",
      "Data: {\n",
      "  \"answer\": \"the diamondback rattler\",\n",
      "  \"question\": \"Heaviest of all poisonous snakes is this North American rattlesnake\",\n",
      "  \"category\": \"ANIMALS\"\n",
      "} \n",
      "\n",
      "ID: b4036fc7-e1f6-4c94-9c44-f4836ce25ffb\n",
      "Data: {\n",
      "  \"answer\": \"Antelope\",\n",
      "  \"question\": \"Weighing around a ton, the eland is the largest species of this animal in Africa\",\n",
      "  \"category\": \"ANIMALS\"\n",
      "} \n",
      "\n",
      "ID: 2b6a045b-edcf-44c3-a99f-dfe130d3ad69\n",
      "Data: {\n",
      "  \"answer\": \"the nose or snout\",\n",
      "  \"question\": \"The gavial looks very much like a crocodile except for this bodily feature\",\n",
      "  \"category\": \"ANIMALS\"\n",
      "} \n",
      "\n"
     ]
    }
   ],
   "source": [
    "response = jeopardy.query.hybrid(\n",
    "    query=\"northern beast\",\n",
    "    alpha=0.8,\n",
    "    filters=wq.Filter.by_property(\"category\").equal(\"Animals\"),\n",
    "    limit=3\n",
    ")\n",
    "\n",
    "for item in response.objects:\n",
    "    print(\"ID:\", item.uuid)\n",
    "    print(\"Data:\", json.dumps(item.properties, indent=2), \"\\n\")"
   ]
  }
 ],
 "metadata": {
  "kernelspec": {
   "display_name": "Python 3",
   "language": "python",
   "name": "python3"
  },
  "language_info": {
   "codemirror_mode": {
    "name": "ipython",
    "version": 3
   },
   "file_extension": ".py",
   "mimetype": "text/x-python",
   "name": "python",
   "nbconvert_exporter": "python",
   "pygments_lexer": "ipython3",
   "version": "3.11.6"
  }
 },
 "nbformat": 4,
 "nbformat_minor": 2
}
