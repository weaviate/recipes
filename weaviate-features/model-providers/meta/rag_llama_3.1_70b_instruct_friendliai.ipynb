{
 "cells": [
  {
   "cell_type": "markdown",
   "metadata": {},
   "source": [
    "[![Open In Colab](https://colab.research.google.com/assets/colab-badge.svg)](https://colab.research.google.com/github/weaviate/recipes/blob/main/weaviate-features/model-providers/meta/rag_llama_3.1_70b_instruct_friendliai.ipynb)"
   ]
  },
  {
   "cell_type": "markdown",
   "metadata": {},
   "source": [
    "# Generative Search with FriendliAI\n",
    "\n",
    "This recipe will show you how to generate embeddings using Voyage AI and use generative models on FrinedliAI."
   ]
  },
  {
   "cell_type": "markdown",
   "metadata": {},
   "source": [
    "## Requirements\n",
    "\n",
    "1. Weaviate cluster\n",
    "    1. You can create a 14-day free sandbox on [WCD](https://console.weaviate.cloud/)\n",
    "    2. [Embedded Weaviate](https://weaviate.io/developers/weaviate/installation/embedded)\n",
    "    3. [Local deployment](https://weaviate.io/developers/weaviate/installation/docker-compose#starter-docker-compose-file)\n",
    "    4. [Other options](https://weaviate.io/developers/weaviate/installation)\n",
    "\n",
    "2. Voyage AI API key. Grab one [here](https://dash.voyageai.com/).\n",
    "\n",
    "3. Valid Friendli Suite Token. Grab one [here](https://docs.friendli.ai/openapi/introduction)."
   ]
  },
  {
   "cell_type": "code",
   "execution_count": 1,
   "metadata": {},
   "outputs": [],
   "source": [
    "import weaviate, os\n",
    "from weaviate.embedded import EmbeddedOptions\n",
    "import weaviate.classes as wvc\n",
    "import weaviate.classes.config as wc\n",
    "import requests, json\n",
    "import weaviate.classes.query as wq"
   ]
  },
  {
   "cell_type": "markdown",
   "metadata": {},
   "source": [
    "## Connect to Weaviate\n",
    "\n",
    "Only choose one option from the below."
   ]
  },
  {
   "cell_type": "markdown",
   "metadata": {},
   "source": [
    "**Weaviate Cloud Deployment**"
   ]
  },
  {
   "cell_type": "code",
   "execution_count": null,
   "metadata": {},
   "outputs": [],
   "source": [
    "WCD_URL = os.environ[\"WEAVIATE_URL\"] # Replace with your Weaviate cluster URL\n",
    "WCD_AUTH_KEY = os.environ[\"WEAVIATE_AUTH\"] # Replace with your cluster auth key\n",
    "VOYAGEAI_KEY = os.environ[\"VOYAGE_API_KEY\"] # Replace with your Voyage AI key\n",
    "FRIEDNLI_KEY = os.environ[\"FRIENDLI_API_KEY\"] # Replace with your Friendli token\n",
    "\n",
    "# Weaviate Cloud Deployment\n",
    "client = weaviate.connect_to_wcs(\n",
    "    cluster_url=WCD_URL,\n",
    "    auth_credentials=weaviate.auth.AuthApiKey(WCD_AUTH_KEY),\n",
    "      headers={\n",
    "          \"X-VoyageAI-Api-Key\": VOYAGEAI_KEY,\n",
    "          \"X-Friendli-Api-Key\": FRIEDNLI_KEY,\n",
    "        }\n",
    ")ß\n",
    "\n",
    "print(client.is_ready())"
   ]
  },
  {
   "cell_type": "markdown",
   "metadata": {},
   "source": [
    "**Embedded Weaviate**"
   ]
  },
  {
   "cell_type": "code",
   "execution_count": null,
   "metadata": {},
   "outputs": [],
   "source": [
    "VOYAGEAI_KEY = os.environ[\"VOYAGE_API_KEY\"] # Replace with your Voyage AI key\n",
    "FRIEDNLI_KEY = os.environ[\"FRIENDLI_API_KEY\"] # Replace with your Friendli token\n",
    "\n",
    "client = weaviate.WeaviateClient(\n",
    "    embedded_options=EmbeddedOptions(\n",
    "        version=\"1.26.1\",\n",
    "        additional_env_vars={\n",
    "            \"ENABLE_MODULES\": \"text2vec-voyageai, generative-friendliai\"\n",
    "        }),\n",
    "        additional_headers={\n",
    "             \"X-VoyageAI-Api-Key\": VOYAGEAI_KEY,\n",
    "             \"X-Friendli-Api-Key\": FRIEDNLI_KEY,\n",
    "            }\n",
    ")\n",
    "\n",
    "client.connect()"
   ]
  },
  {
   "cell_type": "markdown",
   "metadata": {},
   "source": [
    "**Local Deployment**"
   ]
  },
  {
   "cell_type": "code",
   "execution_count": null,
   "metadata": {},
   "outputs": [],
   "source": [
    "# VOYAGEAI_KEY = os.environ[\"VOYAGE_API_KEY\"] # Replace with your Voyage AI key\n",
    "# FRIEDNLI_KEY = os.environ[\"FRIENDLI_API_KEY\"] # Replace with your Friendli token\n",
    "\n",
    "# client = weaviate.connect_to_local(\n",
    "#       headers={\n",
    "#           \"X-VoyageAI-Api-Key\": VOYAGEAI_KEY,\n",
    "#           \"X-Friendli-Api-Key\": FRIEDNLI_KEY,\n",
    "#         }\n",
    "# )\n",
    "# print(client.is_ready())"
   ]
  },
  {
   "cell_type": "markdown",
   "metadata": {},
   "source": [
    "## Create a collection\n",
    "Collection stores your data and vector embeddings.\n",
    "\n",
    "Full list of [generative models](https://weaviate.io/developers/weaviate/model-providers/anthropic/generative#available-models)"
   ]
  },
  {
   "cell_type": "code",
   "execution_count": null,
   "metadata": {},
   "outputs": [],
   "source": [
    "# Note: in practice, you shouldn't rerun this cell, as it deletes your data\n",
    "# in \"JeopardyQuestion\", and then you need to re-import it again.\n",
    "\n",
    "# Delete the collection if it already exists\n",
    "if (client.collections.exists(\"JeopardyQuestion\")):\n",
    "    client.collections.delete(\"JeopardyQuestion\")\n",
    "\n",
    "client.collections.create(\n",
    "    name=\"JeopardyQuestion\",\n",
    "\n",
    "    vectorizer_config=wc.Configure.Vectorizer.text2vec_voyageai( # specify the vectorizer and model\n",
    "        model=\"voyage-code-2\",\n",
    "    ),\n",
    "\n",
    "    generative_config=wc.Configure.Generative.friendliai( # specify the generarive model\n",
    "        model=\"meta-llama-3.1-70b-instruct\"\n",
    "    ),\n",
    "\n",
    "    properties=[ # defining properties (data schema) is optional\n",
    "        wc.Property(name=\"Question\", data_type=wc.DataType.TEXT), \n",
    "        wc.Property(name=\"Answer\", data_type=wc.DataType.TEXT),\n",
    "        wc.Property(name=\"Category\", data_type=wc.DataType.TEXT, skip_vectorization=True), \n",
    "    ]\n",
    ")\n",
    "\n",
    "print(\"Successfully created collection: JeopardyQuestion.\")"
   ]
  },
  {
   "cell_type": "markdown",
   "metadata": {},
   "source": [
    "## Import the Data"
   ]
  },
  {
   "cell_type": "code",
   "execution_count": null,
   "metadata": {},
   "outputs": [],
   "source": [
    "url = 'https://raw.githubusercontent.com/weaviate/weaviate-examples/main/jeopardy_small_dataset/jeopardy_tiny.json'\n",
    "resp = requests.get(url)\n",
    "data = json.loads(resp.text)\n",
    "\n",
    "# Get a collection object for \"JeopardyQuestion\"\n",
    "jeopardy = client.collections.get(\"JeopardyQuestion\")\n",
    "\n",
    "# Insert data objects\n",
    "response = jeopardy.data.insert_many(data)\n",
    "\n",
    "# Note, the `data` array contains 10 objects, which is great to call insert_many with.\n",
    "# However, if you have a milion objects to insert, then you should spit them into smaller batches (i.e. 100-1000 per insert)\n",
    "\n",
    "if (response.has_errors):\n",
    "    print(response.errors)\n",
    "else:\n",
    "    print(\"Insert complete.\")"
   ]
  },
  {
   "cell_type": "markdown",
   "metadata": {},
   "source": [
    "## Generative Search Queries"
   ]
  },
  {
   "cell_type": "markdown",
   "metadata": {},
   "source": [
    "### Single Result\n",
    "\n",
    "Single Result makes a generation for each individual search result. \n",
    "\n",
    "In the below example, I want to create a Facebook ad from the Jeopardy question about Elephants. "
   ]
  },
  {
   "cell_type": "code",
   "execution_count": null,
   "metadata": {},
   "outputs": [],
   "source": [
    "generatePrompt = \"Turn the following Jeogrady question into a Facebook Ad: {question}\"\n",
    "\n",
    "jeopardy = client.collections.get(\"JeopardyQuestion\")\n",
    "response = jeopardy.generate.near_text(\n",
    "    query=\"Elephants\",\n",
    "    limit=2,\n",
    "    single_prompt=generatePrompt\n",
    ")\n",
    "\n",
    "for item in response.objects:\n",
    "    print(json.dumps(item.properties, indent=1))\n",
    "    print(\"-----vvvvvv-----\")\n",
    "    print(item.generated)\n",
    "    print(\"-----^^^^^^-----\")"
   ]
  },
  {
   "cell_type": "markdown",
   "metadata": {},
   "source": [
    "### Grouped Result\n",
    "\n",
    "Grouped Result generates a single response from all the search results. \n",
    "\n",
    "The below example is creating a Facebook ad from the 2 retrieved Jeoprady questions about animals. "
   ]
  },
  {
   "cell_type": "code",
   "execution_count": null,
   "metadata": {},
   "outputs": [],
   "source": [
    "generateTask = \"Explain why these Jeopardy questions are under the Animals category.\"\n",
    "\n",
    "jeopardy = client.collections.get(\"JeopardyQuestion\")\n",
    "response = jeopardy.generate.near_text(\n",
    "    query=\"Animals\",\n",
    "    limit=3,\n",
    "    grouped_task=generateTask\n",
    ")\n",
    "\n",
    "print(response.generated)"
   ]
  }
 ],
 "metadata": {
  "kernelspec": {
   "display_name": "Python 3",
   "language": "python",
   "name": "python3"
  },
  "language_info": {
   "codemirror_mode": {
    "name": "ipython",
    "version": 3
   },
   "file_extension": ".py",
   "mimetype": "text/x-python",
   "name": "python",
   "nbconvert_exporter": "python",
   "pygments_lexer": "ipython3",
   "version": "3.11.6"
  }
 },
 "nbformat": 4,
 "nbformat_minor": 2
}
