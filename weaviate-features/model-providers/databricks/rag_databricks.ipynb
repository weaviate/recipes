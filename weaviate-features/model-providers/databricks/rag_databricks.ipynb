{
 "cells": [
  {
   "cell_type": "markdown",
   "metadata": {},
   "source": [
    "[![Open In Colab](https://colab.research.google.com/assets/colab-badge.svg)](https://colab.research.google.com/github/weaviate/recipes/blob/main/weaviate-features/model-providers/databricks/rag_databricks.ipynb)"
   ]
  },
  {
   "cell_type": "markdown",
   "metadata": {
    "application/vnd.databricks.v1+cell": {
     "cellMetadata": {
      "byteLimit": 2048000,
      "rowLimit": 10000
     },
     "inputWidgets": {},
     "nuid": "277f6920-ebdb-4bcb-bb29-c954ee8fdd30",
     "showTitle": false,
     "title": ""
    }
   },
   "source": [
    "# Dependencies"
   ]
  },
  {
   "cell_type": "markdown",
   "metadata": {
    "application/vnd.databricks.v1+cell": {
     "cellMetadata": {
      "byteLimit": 2048000,
      "rowLimit": 10000
     },
     "inputWidgets": {},
     "nuid": "b5d855c8-73ef-44b6-b035-a06149c9d683",
     "showTitle": false,
     "title": ""
    }
   },
   "source": [
    "Check that the weaviate-client and spark connector is installed:"
   ]
  },
  {
   "cell_type": "code",
   "execution_count": 0,
   "metadata": {
    "application/vnd.databricks.v1+cell": {
     "cellMetadata": {
      "byteLimit": 2048000,
      "rowLimit": 10000
     },
     "inputWidgets": {},
     "nuid": "05b9a573-ccea-494b-b093-d9fac9965061",
     "showTitle": false,
     "title": ""
    }
   },
   "outputs": [
    {
     "name": "stdout",
     "output_type": "stream",
     "text": [
      "Name: weaviate-client\n",
      "Version: 4.8.1\n",
      "Summary: A python native Weaviate client\n",
      "Home-page: https://github.com/weaviate/weaviate-python-client\n",
      "Author: Weaviate\n",
      "Author-email: hello@weaviate.io,\n",
      "License: BSD 3-clause\n",
      "Location: /local_disk0/.ephemeral_nfs/cluster_libraries/python/lib/python3.11/site-packages\n",
      "Requires: authlib, grpcio, grpcio-health-checking, grpcio-tools, httpx, pydantic, requests, validators\n",
      "Required-by: \n"
     ]
    }
   ],
   "source": [
    "!pip show weaviate-client"
   ]
  },
  {
   "cell_type": "code",
   "execution_count": 0,
   "metadata": {
    "application/vnd.databricks.v1+cell": {
     "cellMetadata": {
      "byteLimit": 2048000,
      "implicitDf": true,
      "rowLimit": 10000
     },
     "inputWidgets": {},
     "nuid": "ae92867c-c555-4693-8543-5b2a35506299",
     "showTitle": false,
     "title": ""
    }
   },
   "outputs": [
    {
     "data": {
      "text/html": [
       "<style scoped>\n",
       "  .table-result-container {\n",
       "    max-height: 300px;\n",
       "    overflow: auto;\n",
       "  }\n",
       "  table, th, td {\n",
       "    border: 1px solid black;\n",
       "    border-collapse: collapse;\n",
       "  }\n",
       "  th, td {\n",
       "    padding: 5px;\n",
       "  }\n",
       "  th {\n",
       "    text-align: left;\n",
       "  }\n",
       "</style><div class='table-result-container'><table class='table-result'><thead style='background-color: white'><tr><th>Results</th></tr></thead><tbody><tr><td>spark://10.213.208.171:43103/jars/io_weaviate_spark_connector_2_12_1_3_3.jar</td></tr></tbody></table></div>"
      ]
     },
     "metadata": {
      "application/vnd.databricks.v1+output": {
       "addedWidgets": {},
       "aggData": [],
       "aggError": "",
       "aggOverflow": false,
       "aggSchema": [],
       "aggSeriesLimitReached": false,
       "aggType": "",
       "arguments": {},
       "columnCustomDisplayInfos": {},
       "data": [
        [
         "spark://10.213.208.171:43103/jars/io_weaviate_spark_connector_2_12_1_3_3.jar"
        ]
       ],
       "datasetInfos": [],
       "dbfsResultPath": null,
       "isJsonSchema": true,
       "metadata": {
        "createTempViewForImplicitDf": true,
        "dataframeName": "_sqldf",
        "executionCount": 2
       },
       "overflow": false,
       "plotOptions": {
        "customPlotOptions": {},
        "displayType": "table",
        "pivotAggregation": null,
        "pivotColumns": null,
        "xColumns": null,
        "yColumns": null
       },
       "removedWidgets": [],
       "schema": [
        {
         "metadata": "{}",
         "name": "Results",
         "type": "\"string\""
        }
       ],
       "type": "table"
      }
     },
     "output_type": "display_data"
    }
   ],
   "source": [
    "%sql\n",
    "LIST JAR io_weaviate_spark_connector_2_12_1_3_3.jar"
   ]
  },
  {
   "cell_type": "markdown",
   "metadata": {
    "application/vnd.databricks.v1+cell": {
     "cellMetadata": {
      "byteLimit": 2048000,
      "rowLimit": 10000
     },
     "inputWidgets": {},
     "nuid": "8485b082-e208-4b08-a4bf-2b2e0f79b38c",
     "showTitle": false,
     "title": ""
    }
   },
   "source": [
    "# Imports"
   ]
  },
  {
   "cell_type": "code",
   "execution_count": 0,
   "metadata": {
    "application/vnd.databricks.v1+cell": {
     "cellMetadata": {
      "byteLimit": 2048000,
      "rowLimit": 10000
     },
     "inputWidgets": {},
     "nuid": "f61c42d6-fa54-4874-97aa-d6689421ae2f",
     "showTitle": false,
     "title": ""
    }
   },
   "outputs": [],
   "source": [
    "import weaviate\n",
    "import weaviate.classes.config as wvcc\n",
    "from pyspark.sql.functions import udf, col, when\n",
    "from pyspark.sql.types import StringType, BooleanType\n",
    "from weaviate.util import generate_uuid5\n",
    "import time\n",
    "from pyspark.sql import Row\n",
    "from py4j.protocol import Py4JJavaError"
   ]
  },
  {
   "cell_type": "markdown",
   "metadata": {
    "application/vnd.databricks.v1+cell": {
     "cellMetadata": {
      "byteLimit": 2048000,
      "rowLimit": 10000
     },
     "inputWidgets": {},
     "nuid": "7ff2da23-afa5-479f-9d01-028e856c7c12",
     "showTitle": false,
     "title": ""
    }
   },
   "source": [
    "# Weaviate Cloud Setup"
   ]
  },
  {
   "cell_type": "markdown",
   "metadata": {
    "application/vnd.databricks.v1+cell": {
     "cellMetadata": {
      "byteLimit": 2048000,
      "rowLimit": 10000
     },
     "inputWidgets": {},
     "nuid": "8f72413b-ceb9-4f82-85ec-a206df4f6ef6",
     "showTitle": false,
     "title": ""
    }
   },
   "source": [
    "Grab some secrets:"
   ]
  },
  {
   "cell_type": "code",
   "execution_count": 0,
   "metadata": {
    "application/vnd.databricks.v1+cell": {
     "cellMetadata": {
      "byteLimit": 2048000,
      "rowLimit": 10000
     },
     "inputWidgets": {},
     "nuid": "04d3e7cb-97bc-4c1d-8134-2d4ca248be6d",
     "showTitle": false,
     "title": ""
    }
   },
   "outputs": [],
   "source": [
    "SCOPE=\"spark-connector-demo\"\n",
    "\n",
    "WEAVIATE_URL = dbutils.secrets.get(scope=SCOPE, key=\"WEAVIATE_URL\")\n",
    "WEAVIATE_API_KEY = dbutils.secrets.get(scope=SCOPE, key=\"WEAVIATE_API_KEY\")\n",
    "DATABRICKS_TOKEN = dbutils.secrets.get(scope=SCOPE, key=\"DATABRICKS_TOKEN\")\n",
    "EMBEDDINGS_ENDPOINT = dbutils.secrets.get(scope=SCOPE, key=\"EMBEDDINGS_ENDPOINT\")\n",
    "LLM_ENDPOINT = dbutils.secrets.get(scope=SCOPE, key=\"LLM_ENDPOINT\")"
   ]
  },
  {
   "cell_type": "markdown",
   "metadata": {
    "application/vnd.databricks.v1+cell": {
     "cellMetadata": {
      "byteLimit": 2048000,
      "rowLimit": 10000
     },
     "inputWidgets": {},
     "nuid": "eeb98f2e-db33-4c95-972d-9536b6da305c",
     "showTitle": false,
     "title": ""
    }
   },
   "source": [
    "Connect to weaviate and clear all collections:"
   ]
  },
  {
   "cell_type": "code",
   "execution_count": 0,
   "metadata": {
    "application/vnd.databricks.v1+cell": {
     "cellMetadata": {
      "byteLimit": 2048000,
      "rowLimit": 10000
     },
     "inputWidgets": {},
     "nuid": "506dbae7-a51e-4c66-9ab9-a50174304c20",
     "showTitle": false,
     "title": ""
    }
   },
   "outputs": [
    {
     "name": "stderr",
     "output_type": "stream",
     "text": [
      "<frozen importlib._bootstrap>:1049: ImportWarning: ImportHookFinder.find_spec() not found; falling back to find_module()\n"
     ]
    }
   ],
   "source": [
    "auth_config = weaviate.auth.AuthApiKey(api_key=WEAVIATE_API_KEY)\n",
    "\n",
    "client = weaviate.connect_to_wcs(cluster_url=WEAVIATE_URL,\n",
    "                                 auth_credentials=auth_config,\n",
    "                                 headers={\n",
    "                                 \"X-Databricks-Token\": DATABRICKS_TOKEN\n",
    "                                }\n",
    "                            )\n",
    "\n",
    "assert client.is_ready()\n",
    "\n",
    "client.collections.delete_all()"
   ]
  },
  {
   "cell_type": "code",
   "execution_count": 0,
   "metadata": {
    "application/vnd.databricks.v1+cell": {
     "cellMetadata": {
      "byteLimit": 2048000,
      "rowLimit": 10000
     },
     "inputWidgets": {},
     "nuid": "47cd535e-f0d0-40a4-9d31-6fab54251d04",
     "showTitle": false,
     "title": ""
    }
   },
   "outputs": [
    {
     "name": "stdout",
     "output_type": "stream",
     "text": [
      "Weaviate server version: 1.26.4\n"
     ]
    }
   ],
   "source": [
    "print(f\"Weaviate server version: {client.get_meta()['version']}\")"
   ]
  },
  {
   "cell_type": "markdown",
   "metadata": {
    "application/vnd.databricks.v1+cell": {
     "cellMetadata": {
      "byteLimit": 2048000,
      "implicitDf": true,
      "rowLimit": 10000
     },
     "inputWidgets": {},
     "nuid": "e46308e0-3c70-4cb7-9bfc-87d328079f64",
     "showTitle": false,
     "title": ""
    }
   },
   "source": [
    "# Dataset"
   ]
  },
  {
   "cell_type": "markdown",
   "metadata": {
    "application/vnd.databricks.v1+cell": {
     "cellMetadata": {
      "byteLimit": 2048000,
      "rowLimit": 10000
     },
     "inputWidgets": {},
     "nuid": "9ed991ae-2f70-4a63-abab-a92465c71ff8",
     "showTitle": false,
     "title": ""
    }
   },
   "source": [
    "We'll ingest a job posting dataset stored in our catalog into Weaviate:"
   ]
  },
  {
   "cell_type": "code",
   "execution_count": 0,
   "metadata": {
    "application/vnd.databricks.v1+cell": {
     "cellMetadata": {
      "byteLimit": 2048000,
      "rowLimit": 10000
     },
     "inputWidgets": {},
     "nuid": "07b2269f-ae89-4364-988a-b4994e594737",
     "showTitle": false,
     "title": ""
    }
   },
   "outputs": [
    {
     "data": {
      "text/html": [
       "<style scoped>\n",
       "  .table-result-container {\n",
       "    max-height: 300px;\n",
       "    overflow: auto;\n",
       "  }\n",
       "  table, th, td {\n",
       "    border: 1px solid black;\n",
       "    border-collapse: collapse;\n",
       "  }\n",
       "  th, td {\n",
       "    padding: 5px;\n",
       "  }\n",
       "  th {\n",
       "    text-align: left;\n",
       "  }\n",
       "</style><div class='table-result-container'><table class='table-result'><thead style='background-color: white'><tr><th>title</th><th>description</th></tr></thead><tbody><tr><td>DELIVERY TECHNICIAN</td><td>Our Company\\n\\nAmerita\\n\\nOverview\\n\\nThe Delivery Technician is responsible for delivery of medications and supplies to Amerita’s home infusion patient’s residents. The delivery technicians are critical customer experience ambassadors supporting the needs of the patients by providing timely delivery of medication and supplies.\\n\\nResponsibilities\\n\\n• Plans and completes an efficient delivery or patient’s medication and supplies \\n• Loads delivery vehicle with patient’s medication and supplies scheduled for delivery \\n• Delivers patient’s medication and supplies to correct addresses, obtaining signatures and proof of receipt when necessary \\n• Picks up equipment along the scheduled route, including items to be returned, company orders, and other items as requested \\n• Maintains basic records of truck mileage and deliveries made \\n• Ensures that delivery vehicle receives basic service according to maintenance schedule; reports larger service needs and mechanical issues to supervisor \\n• Maintains and clean and organized delivery vehicle in accordance with ACHC accreditations standards \\n• Assists in general warehouse duties when delivery route is completed, as needed and eligible per branch warehouse coordinators criteria \\n• Performs other related duties as assigned\\n\\n\\nQualifications\\n\\n• High School Diploma/GED or equivalent, preferred \\n• Excellent customer service orientation \\n• Ability to drive safely \\n• Ability to use navigation tools such as onboard GPS, smartphone apps, and/or web-based or physical maps \\n• Ability to plan delivery routes \\n• Ability to maintain basic logs and records \\n• Ability to carry out a series of instructions without constant supervision \\n• Ability to remain professional and courteous at all times\\n\\n\\nAbout Our Line Of Business\\n\\nAmerita is a specialty infusion company focused on providing complex pharmaceutical products and clinical services to patients outside of the hospital. Committed to excellent service, our vision is to combine the administrative efficiencies of a large organization with the flexibility, responsiveness and entrepreneurial spirit of a local provider. For more information about Amerita, please visit www.ameritaiv.com . Follow us on Twitter and professionalnetwork .\\n\\n Salary Range\\n\\nUSD $12.00 - $15.00 / Hour</td></tr><tr><td>Qualified Gas Engineer - Slough</td><td>Qualified Gas Engineer\\n\\nUxbridge Road, Slough, Berkshire, SL2 5NA\\n\\nBasic salary up to £43,430* per annum\\n\\n• Plus earn more through standby and call-out allowances and performance bonuses. \\n• Conditions apply\\n\\n\\n\\nLet’s fuel your career and help you thrive.\\n\\nAbout The Role\\n\\nAs part of our Emergency Response Team, you’ll be the first on the scene at customers’ homes, which makes you the face of our brand for people who are worried about potential gas escapes or carbon monoxide activated alarms.\\n\\nSometimes you’ll be dealing with the emergency services on behalf of our customers, making you part of a team that’s responsible for protecting people’s lives. They could be vulnerable, elderly, or simply looking for help, and it’s that level of empathy, plus the pride you’ll feel from caring for people and keeping them safe in their homes that could make you a Cadent person.\\n\\nIt’s a role where no two days are the same, so from installation, replacement, and maintenance of gas meters for our home and business customers, to high rise and gas safety regulation surveys, to fitting cooker safety valves, when we say it’s a varied role, we mean it.\\n\\nSo, what’s in it for you?\\n\\n• 33 days holiday, inclusive of bank holidays\\n• A company van (Work purpose use only)\\n• Subsidised Gympass membership\\n• Pension Scheme – with company contributions double matched up to 12%\\n• Retail and Leisure discounts \\n• Flexible Benefits, including private medical, cycle2work scheme, car lease, gadget discounts, plus much more!\\n• Annual performance bonus\\n• Unlimited access to our Occupational Health and Employee Assistance Programme services – Caring for your physical and mental wellbeing\\n• Continuous support, learning, and development to help you soar in an environment where you’ll feel you belong.\\n\\n\\n\\nA Bit About Us\\n\\nWe’re Cadent Gas, and we’re changing the face of energy forever.\\n\\nWe deliver gas to eleven million homes and businesses from the North West to North London, whilst operating and looking after the largest gas distribution network in the UK and managing the national gas emergency service freephone line on behalf of the whole gas industry.\\n\\nWe’ve built a place where everyone belongs, and we want you to be a part of it.\\n\\nYou can help us keep people warm, protect the planet, and enjoy tons of support and development opportunities to help you thrive because together, we’ll fuel a career as unique as you are.\\n\\nWhat are we looking for?\\n\\nWe’re looking for excellent communication skills and the ability to keep calm under pressure. You’ll also need a CESP1 or CMA1 certificate for this role, as well as experience working within a gas environment, including good knowledge of gas appliances; testing, purging and the commissioning of pipework.\\n\\nAn understanding of Standards, Legislation, Codes of Practice and Health and Safety is also important, and you’ll need a full UK driving licence too.\\n\\nBut ultimately, it’s about pride, purpose, thinking on your feet, and taking ownership. That’s what will make you a perfect fit in our team.\\n\\nDon’t meet every single requirement listed? We would still love to hear from you! ... Understanding, learning, and celebrating what makes us different, as well as what we have in common, is good for us as individuals and enables us to work better together as one team. We provide our own learning and development programmes, providing you with access to our learning tools to help you develop the skills needed to soar at Cadent.\\n\\nSo, what are you waiting for? Apply today and let’s start fuelling your career at Cadent.\\n\\nPrimary Location\\n\\nUnited Kingdom-Berkshire-Slough\\n\\nOther Locations\\n\\nUnited Kingdom-London-London City\\n\\nJob\\n\\nOperations\\n\\nOrganization\\n\\nOperations (COO)\\n\\nJob Posting\\n\\n12-Feb-2024, 12:22:30 PM</td></tr><tr><td>District Sales Manager - South Valley/Fresno, CA</td><td>Mattress Firm\\n\\nThe most trusted authority on sleep\\n\\nWe’re no ordinary mattress company. In just over 30 years, Mattress Firm has become America’s largest specialty mattress retailer. With more than 2,400 stores nationwide and a team of more than 6,000 Sleep Experts®, we have helped millions of people get better sleep. That’s who we are and what we do—because everyone deserves a great night’s sleep.\\n\\nHelping people sleep well so they live well\\n\\nDid you know we spend a third of our lives in bed? That’s why our priority is making sure everyone’s eight hours are perfect. We’re looking for passionate, ambitious people: innovators, action takers, growth seekers and life changers. Your journey will begin with an extensive, customer-centric retail sales training program that empowers you to create a life-changing in-store experience and help customers build the perfect sleep sanctuary. Helping people sleep well so they live well is at the core of what we do. So, join us in making a difference—let’s help people say goodbye to Junk Sleep and hello to the sleep of their dreams.\\n\\nWhy work for Mattress Firm?\\n\\n• Our teams are passionate, and our culture is inspiring\\n• You’ll be surrounded by ambitious people: innovators, action takers; life changers that will inspire you\\n• Excellent growth opportunities through education and development programs\\n• Great benefits\\n• Get paid on demand \\n• Mental health and life resources\\n• Great employee discounts:\\n• mattresses and sleep accessories\\n• cell phones and electronics\\n• travel\\n• car and home loans\\n• and more\\n• Medical, dental, prescription, and vision plans\\n• 401(k) with employer matching\\n• Some positions have base pay or uncapped commission\\n\\nJob Description\\n\\nA District Manager executes the strategic business objectives of a defined district in sales management, store operations, merchandising, and profitability.\\n\\n• Manages overall sales performance of district.\\n• Maximizes store transaction closing ratios.\\n• Develops and implements in-store strategies to negate competitor’s efforts.\\n• Drives sales to meet or exceed budget.\\n• Executes the company’s selling program.\\n• Executes sales process for new and existing merchandise.\\n• Maintains awareness of competitor’s advertisements and services offered.\\n• Resolves customer issues as needed.\\n• Conducts scheduled sales meetings.\\n• Management: Manages overall financial performance of the district.\\n• Manages targeted variable expenses of the district.\\n• Reviews performance and provides development of each associate.\\n• Focuses on the development of Store Managers.\\n• Manages the strategic action plans for the district.\\n• Approves the schedule for all associates.\\n• Ensures all associates are assigned to the appropriate location for period end payroll reports.\\n• Prepares weekly flash reports for Regional Manager.\\n• Manages the execution of the clearance center program and pricing.\\n• Manages inventory and inventory shrinkage levels.\\n• Audits store cash handling procedures.\\n• Ensures federal, state, and local laws, company policies and operating procedures are followed.\\n• Ensures that all lay-a-ways and refunds are current.\\n• Maintains company store appearance standards throughout district.\\n• Manages new store openings, remodels, and closings.\\n• Recruits, interviews, and hires partners.\\n\\n\\nLife at Mattress Firm\\n\\nOur mission and vision\\n\\nAs America’s most trusted authority on sleep, our mission is to help people find the mattress of their dreams. With low prices, the best brands, and the knowledge of our Sleep Experts®, we make it easy to get a great night’s sleep, every night.\\n\\nHistory\\n\\nIn just over 30 years, Mattress Firm has become America’s largest specialty mattress retailer. With more than 2,400 stores nationwide and a team of more than 6,000 Sleep Experts®, we have helped millions of people get better sleep.\\n\\nBenefits Beyond a Paycheck\\n\\nWe support you just like we support our customers—that’s why we offer an extensive range of benefits designed to support you, your family, and your future.\\n\\nDiversity, equity and inclusion\\n\\nWe believe in an inclusive environment that attracts, develops, and retains top talent. Our Diversity, Equity & Inclusion Council works to promote the cultivation of a work environment that embraces and celebrates all the individuals, backgrounds and perspectives that reflect the communities we serve.\\n\\nGiving back to our community\\n\\nWhether it’s volunteering at a foster care agency, food bank or even an animal shelter, we believe in giving back to our associates and the communities they live and work in. That's why we're proud to support organizations dedicated to helping people follow their dreams and thrive.\\n\\nPay Range:\\n\\n$80,000 - 95,000.\\n\\nNow don’t fall asleep out there… the sooner that we receive your application, the closer you are to the career of your dreams!\\n\\nDIVERSE CANDIDATES ARE ENCOURAGED TO APPLY\\n\\nMattress Firm is an equal employment opportunity employer and is committed to maintaining a non-discriminatory work environment, and does not discriminate against any applicant or employee for employment on the basis of race, color, religion, sex, national origin, age, disability, veteran status, marital status, sexual orientation, gender identity, or any other characteristic protected by applicable law. Mattress Firm is committed to creating a dynamic work environment that values diversity and inclusion, respect and integrity, customer focus, and innovation.\\n\\nPay Range:\\n\\n80,000 - 95,000.\\n\\nNow don’t fall asleep out there… the sooner that we receive your application, the closer you are to the career of your dreams!\\n\\nDIVERSE CANDIDATES ARE ENCOURAGED TO APPLY\\n\\nMattress Firm is an equal employment opportunity employer and is committed to maintaining a non-discriminatory work environment, and does not discriminate against any applicant or employee for employment on the basis of race, color, religion, sex, national origin, age, disability, veteran status, marital status, sexual orientation, gender identity, or any other characteristic protected by applicable law. Mattress Firm is committed to creating a dynamic work environment that values diversity and inclusion, respect and integrity, customer focus, and innovation.</td></tr><tr><td>Wire Drawer Technician</td><td>We are looking candidates for a Manufacturing Technician to work as a Wire Drawer Technician for a leading specialty metal products manufacturer conveniently located in Shrewsbury, MA, This is second shift position with a four day work week, however, initial training will be on first shift.\\n\\nRESPONSIBILITIES:\\n\\nThe primary purpose of this position is for the cleaning, insulation and inspection of superconducting wires.\\n\\nThese responsibilities include:\\n\\n• set-up, tend and operate multiple production machines / processes; load and unload spools; weigh materials; \\n• maintain chemical baths; maintain and log all information required for supporting quality and traceability; adjust and change parts on machinery; perform electrical and quality assurance tests; clean/lubricate production machines; \\n• perform tests and checks on products; operate ovens; operate micrometer and other testing equipment; handle bare product; move/store raw materials and finished goods; prepare final product for shipment; maintaining work areas and equipment in a clean orderly condition.\\n\\n\\n\\nJOB REQUIREMENTS:\\n\\n• High school diploma, GED or equivalent experience\\n• Mathematical skills\\n• Ability to use production tools and use / read a micrometer\\n• Good vision and eye-hand coordination\\n• Prior manufacturing experience with the ability to prioritize and pay close attention to detail\\n• Ability to track and record production results and follow priorities to ensure on-time completion of tasks\\n• Prior wire processing / handling experience ( such as drawing/extrusion/cabling ) is a plus\\n\\n\\n\\nPHYSICAL DEMANDS:\\n\\n• Frequent lifting, pushing, pulling, squatting, stooping, and bending is required\\n• Must independently lift and carry up to 50 pounds;\\n• Must lift and move, with mechanical lifts and by rolling, up to 400 pounds.\\n\\n\\n\\nWORK ENVIRONMENT/CONDITIONS:\\n\\n• Electrical hazards, possible fumes, airborne particles, toxic or caustic chemicals /odors\\n• moveable mechanical parts\\n• moderate to loud noise level\\n\\n\\n\\nEMPLOYEMENT BENEFITS:\\n\\n• Health, dental, disability, and life insurance\\n• Paid vacation and sick time\\n• 401K and profit sharing programs\\n• Tuition reimbursement</td></tr><tr><td>Service Technician - Enid, OK</td><td>Job Description\\n\\nATTENTION MILITARY AFFILIATED JOB SEEKERS - Our organization works with partner companies to source qualified talent for their open roles. The following position is available to Veterans, Transitioning Military, National Guard and Reserve Members, Military Spouses, Wounded Warriors, and their Caregivers. If you have the required skill set, education requirements, and experience, please click the submit button and follow the next steps. 1/21//24 Job Description\\n\\nPerforms basic diagnostics, service repairs and maintenance work on customer and/or dealer-owned agricultural. May require some direction or guidance from the Service Manager or Shop Foreman. Maintains professional communication with all company locations to insure information flows in an appropriate manner.\\n\\nEnid, OK - Agriculture Service Technician / Diesel Mechanic Duties:\\n\\n• Performs basic agricultural equipment diagnostics and determines what repairs are needed, if required.\\n• Performs basic agricultural equipment repairs as requested by the supervisor.\\n• Participates in all job-related training and development.\\n• Prepares all reports and forms required in conjunction with work assignments.\\n• Maintains current product knowledge of John Deere and competitive products.\\n• Maintains condition of vehicles, inventory, tools, and equipment.\\n• Other duties as assigned by supervisor.\\n• Safety Sensitive\\n\\n\\nEnid, OK - Agriculture Service Technician / Diesel Mechanic Pay & Benefits:\\n\\n• Competitive Pay (Plus Overtime Pay)\\n• Health, Dental, Vision Insurance (Company sponsored Healthcare starts the first day of the month after you start with P&K)\\n• Company Paid Life Insurance\\n• 401k Match\\n• Paid Time Off & Holiday Pay (Starting Day 1 with P&K!)\\n• Safety Sensitive Position\\n\\n\\nAuto req ID\\n\\n403346BR\\n\\nMinimum Education Required\\n\\nCertifications/Security Clearances/Other (Enter Below)\\n\\nJob_Category\\n\\nTechnician\\n\\nQualifications\\n\\nCertificates/Security Clearances/Other\\n\\nEnid, OK - Agriculture Service Technician / Diesel Mechanic Skills & Qualifications:\\n\\n• Prior experience as a diesel mechanic preferred.\\n• Proven knowledge of methods, materials, tools, and techniques used in the repair of agricultural equipment.\\n• Good knowledge of mechanical, electrical, and hydraulic systems.\\n• Ability to use standard computer software applications such as diagnostic software and internet functions.\\n• Good skills in operating vehicles and equipment used for diagnostic purposes.\\n• High School Diploma or GED equivalent.\\n\\n\\nCity*\\n\\nEnid\\n\\nState*\\n\\nOklahoma\\n\\nJob Code\\n\\nAgriculture Agriculture\\n\\nAffiliate Sponsor\\n\\nJohn Deere</td></tr><tr><td>Dozer Operator</td><td>Start Date: Immediately Pay Rate: $30-$40/ hr depending on experience Benefits: Accommodation Electricity Career Progression Job Description: A position is available for a suitably experienced Dozer Operator to join a large dryland farming operation in Mungindi on the NSW and QLD border. Previous experience in operating D6 and D7H is essential to perform all duties of tree clearing, fence lines, and new and existing development of their country. Contracting work will also be required, as well as some farming duties if the applicant has the relevant machinery experience. This position will approximately run for the next 12 months, with the opportunity to stay on and be a permanent member of the team, depending on the successful applicant’s abilities. On farm accommodation is available in a single self-contained, air conditioned donga with an ensuite, and electricity and internet is also provided. You will predominately be working autonomously, so your own vehicle and tools is essential. The client are looking for a mechanically minded person, who is preferably keen to jump into the farming side of the operation as well during harvest seasons. This is not a requirement, however a permanent position will be offered to someone who wants a bit of variety, and a longevity career. Our client run a reputable farming and grazing enterprise, consisting of 11,000 acres, spanning over 40 years in the industry. Previous experience with harvesting wheats, cereals and legumes will be advantageous, as will a current truck licence. If you haven’t been to Mungindi, it is located uniquely on the New South… Click here to view more detail / apply for Dozer Operator</td></tr><tr><td>District Proctor- Chester Community Charter</td><td>About Marker Learning:\\n\\n1 in 5 students has a learning disability such as dyslexia, which makes it harder for them to read, spell and write--despite their intelligence. While receiving a proper evaluation for a learning disability could be the most impactful event in a student's life, only 4% of students receive a diagnosis because of the high costs of evaluations and lack of access to qualified psychologists. Undiagnosed students are 3x more likely to drop out of high school, 5x more likely to be unemployed, and tend to experience elevated levels of anxiety and depression. It's estimated that early diagnosis of dyslexia and other learning disabilities could save the US over 72 billion dollars of economic impact and drastically improve the lives of millions of people.\\n\\nMarker Learning is on a mission to make learning disability (e.g. dyslexia) assessments and diagnosis easier and more affordable for schools and parents. By leveraging proprietary technology developed by leading experts at Johns Hopkins, the end-to-end evaluation is completed in half the time and at 1/10th the cost of typical in person evaluations. We are a rapidly growing start up, backed by some of the most mission driven and reputable venture capital firms and education non-profits.\\n\\nJoin us in our mission to inspire and support all students on their unique learning paths.\\n\\nMarker Learning is looking for an onsite District Proctor to help schedule and proctor evaluations at Chester Community Charter School. To help us achieve our mission, we are looking to hire a District Proctor who is excellent at organization, developing and following processes, and working with students. This is a part-time role until May 31, 2024, and will report to our Client Success Leader at the District.\\n\\nAs a key member of our Client Success team, here's what you'll do:\\n\\nKey Outcomes:\\n\\n• Work with Marker Learning and School Personnel to schedule students who are identified by the district special education teams\\n• Remove students from class and place them in front of a computer in the appropriate testing area \\n• Supervise the students while they complete virtual assessments\\n• Ensure the security of test materials and maintain test integrity\\n• Verify student identification and record/submit information according to protocols\\n• Monitor the exam room to ensure that no prohibited materials, such as notes or electronic devices, are being used\\n• Identify ways in which Marker Learning can provide a better student and school district experience\\n\\n\\nThe most important skills for the role are*:\\n\\n• Attention to detail\\n• Ability to follow and improve a scheduling and proctoring process\\n• Ability to use a computer and software programs such as Zoom\\n• Ability to develop a rapport with students\\n• Ability to travel to the designated school locations consistently\\n• Knowledge of a school system and the day-to-day activities of a typical school\\n\\n\\nInterested? Great! Here's what you should know:\\n\\nAt Marker Learning, we know that our people are indispensable to achieving our mission, and we are building an inclusive environment that enables everyone to do their best work. In that spirit, we deliberately hire people from all walks of life — including, but not limited to, race, gender identity, sexual orientation, and disability status. We'd love to hear from you if you're motivated by our mission and eager to contribute to our team and culture.\\n\\nCompensation:\\n\\nWe're committed to an inclusive, consistent, and equitable approach to compensation and anticipate that this position will earn 18-20/hr per hour.\\n\\nInterested? Great! Here's what you should know:\\n\\nAt Marker Learning, we know that our people are indispensable to achieving our mission, and we are building an inclusive environment that enables everyone to do their best work. In that spirit, we deliberately hire people from all walks of life — including, but not limited to, race, gender identity, sexual orientation, and disability status. We are a mission-driven team out to provide reliable and affordable testing to every student who requires it, and we believe that Marker Learning has the potential to change the evaluation landscape across the country. We'd love to hear from you if you're motivated by our mission and eager to contribute to our team and culture!\\n\\nWe are dedicated to building a diverse and inclusive workforce. Marker Learning provides equal employment opportunities (EEO) to all applicants for employment without regard to race, color, religion, gender, sexual orientation, national origin, age, disability, genetic information, marital status, amnesty, or status as covered veteran in accordance with applicable federal, state, and local laws.</td></tr><tr><td>Laundry Worker</td><td>Who We Are\\n\\nHealthcare Services Group (HCSG) is an experienced partner managing housekeeping, laundry, dining, and nutritional services within the healthcare market. For over 45 years, we have provided essential services to thousands of healthcare communities across the country. As one of America's Most Trustworthy Companies, we have been recognized for treating our customers and employees fairly and pursuing excellence via an ever-evolving and expanding focus on training and the development of team members at every level.\\n\\nOur Company Purpose & Values\\n\\nOur Purpose is Fostering Fulfillment In Communities.\\n\\nOur Values, Integrity, Collaboration, Empowerment, Passion & Perseverance (aka Grit) influence our decisions and the actions that follow in and out of the workplace.\\n\\nWho You Are\\n\\nYou are driven, ambitious, have a personal calling for serving people, and desire to positively impact your community. You enjoy collaborating with others, aren't afraid to roll up your sleeves, and go beyond to get the job done. You have a passion and desire to deliver the highest customer and resident experience every day.\\n\\nWhat We Offer\\n\\nHCSG offers a comprehensive array of benefits to support our associates and their family’s health and well-being. Our goal is to promote welfare and health and enhance our associates' and their families' overall quality of life.\\n\\n• Benefits - FREE Telemedicine and Prescription Discount Program along with an array of medical, dental, vision, and other supplemental health plans. *Availability based on state.\\n• Training - We take the development and education of our associates very seriously. Our promotions-from-within philosophy opens the door to a stimulating and robust career with HCSG!\\n• Employee Assistance Programs - FREE access for employees and their families for health, financial, and family services to support our employees' welfare and mental and physical health. \\n• Employee Recognition Programs - We strive to recognize employees who live out our Company Purpose and are committed to #GoingBeyond for our Client, Resident, and Employee Communities!\\n• Going Beyond Assistance Fund - A 501(c)(3) nonprofit formed by HCSG to serve as a charitable employer-sponsored disaster relief organization to provide emergency, hardship, and disaster assistance, to HCSG employees and their dependents or family members.\\n• Paid - Holidays and Vacation for eligible employees.\\n• Employee Stock Purchase Plan - Investment opportunity available to all eligible employees after two years of service.\\n• Nationwide Opportunities - Transfers are available Nationwide – great for active Military and Family!\\n\\n\\n\\nKeeping You Safe\\n\\n• The safety and health of our employees and that of the resident communities that we serve are our Company's most significant priority. \\n• Personal Protective Equipment - All employees will be provided and required to wear appropriate PPE for all functions. \\n• COVID-19 Vaccination - Employees will be required to comply with all policies, as required by State, Local, and/or our Customers\\n\\n\\n\\nWhy HCSG\\n\\nAt HCSG, you will find an environment that is fulfilling, collaborative, committed, stimulating, and structured to help you succeed in serving our communities. We offer engaging opportunities for every phase of your career. HCSG is committed to providing growth and leadership opportunities to see you succeed!\\n\\nPosition Summary\\n\\n• Laundry Worker - Responsible for collecting, sorting, and loading soiled linen into the washer(s) and loading clean linens into the dryer(s), folding clean linens, counting and recording the linen processed each day, making proper deliveries to units and, cleaning and sanitizing the work area including; machines, work tables, and sorting area.\\n• Safety - Utilize protective gear in all appropriate functions. Responsible for the safe and proper mixing and use of cleaning solutions while adhering to all safety precautions. Reporting equipment/cleaning product needs and or malfunctions to supervisor in a timely fashion. Ensure the established standards, safety, and quality guidelines are met. Follow infection control and universal precautions policies and procedures to ensure that a sanitary environment is achieved at all times. Follow proper reporting, isolation, and handwashing procedures/techniques.\\n• Punctuality - Consistent attendance and punctual arrival. Timely completion of assigned tasks according to schedule. Respond to the paging system in a timely and appropriate manner.\\n• Customer Experience - Positively represents HCSG by following instructions, being courteous, and cooperative with supervisor, co-workers, and client staff.\\n• Resident Experience - Positive, pleasant, and tactful interactions with residents, staff, and facility guests.\\n\\n\\n\\nQualifications\\n\\n• Demonstrate a positive attitude with the ability to follow oral and written instructions, and perform routine, repetitive tasks daily.\\n• After completing all appropriate training, utilize leadership skills to accomplish all responsibilities without supervision and do so without injury to oneself or other individuals.\\n• A high school diploma or equivalent is preferred.\\n• Must be able to be at work as scheduled and on time.\\n• Compliance with COVID-19 Vaccination Policies, as required by State, Local, and/or Customers.\\n• Must be able to lift/carry a maximum of 50 pounds, push/pull a maximum of 50 pounds, stand, sit, bend and walk for extended periods. \\n• Must be able to perform routine, repetitive tasks continuously.\\n• Must be able to work around food and cleaning products.\\n• Must live in the service area.\\n\\n\\n\\nHCSG is proud to be an equal opportunity employer committed to all employees and applicants regardless of race, color, religion, sex, national origin, age, disability, genetics, ethnicity, pregnancy status, gender identity, sexual orientation, marital status, political opinions, or affiliations, veteran status, or other legally protected classes. HCSG also complies with applicable state and local laws and federal law requirements that govern nondiscrimination in every location where we operate.\\n\\nHCSG is committed to fostering and supporting a vibrant company culture that encourages employees to bring their authentic and best selves to serve our resident and client communities. We believe all employees, regardless of position, age, race, religion, beliefs, socioeconomic background, or gender, should work in an environment where they are safe, respected, and treated fairly, with their viewpoints, thoughts, and ideas encouraged and embraced.</td></tr><tr><td>Senior Threat/Malware Researcher (Bangkok based, relocation provided)</td><td>About Agoda\\n\\nAgoda is an online travel booking platform for accommodations, flights, and more. We build and deploy cutting-edge technology that connects travelers with more than 3.6 million accommodations globally. Based in Asia and part of Booking Holdings, our 6,000+ employees representing 90+ nationalities foster a work environment rich in diversity, creativity, and collaboration. We innovate through a culture of experimentation and ownership, enhancing the ability for our customers to experience the world.\\n\\nGet to Know our Team:\\n\\nThe Security Department oversees security, compliance, GRC, and security operations for all Agoda. We are vigilant in ensuring there is no breach or vulnerability threatening our company or endangering our employees in order to keep Agoda safe and protected. This would be a great challenge for those who want to work with the best technology in a dynamic and advanced environment.\\n\\nThe Opportunity:\\n\\nYou will be immersed in research involving the very latest cyber threats and unprecedented attacks, specifically those targeting the travel sector. Tracking these hacker groups and their evolving tactics will be a pivotal aspect of your role. Given the nature of such challenges, which change on a weekly basis, innovative and outside-the-box solutions are not just encouraged, they are a necessity.\\n\\nIn this Role, you’ll get to:\\n\\n• Replicate malware in isolated environment and check security posture, and advice improvements\\n• Ability to identify TTPs used, malware family and threat actors based from attack information\\n• Analyze each step of the attack cycle and come up with detection ideas to mitigate them\\n• Working knowledge on top password stealers like Vidar,Redline\\n• Hunting to find undetected malware, DLP threats and API weaknesses\\n• Author custom detection rules to provide extra layer of security besides products\\n• Ability to document and produce research content in form of reports\\n• Follow in the wild attacks and tricks on a daily basis, and protect Agoda against these attacks in form of attack surface reduction / hunt rule\\n\\n\\nWhat you’ll Need to Succeed:\\n\\n• Bachelors in Computer Science or related degree\\n• Experience 5 years in cybersecurity research\\n• Malware analysis (static and behavioral), network PCAP and memory analysis\\n• Fundamentals of malware and phishing attacks\\n• Able to separate malicious behavior from clean activity in SIEM logs\\n• Demonstration of published research in public domain is a big plus (Whitepapers,Blogs,GitHub etc.)\\n• Good at pattern recognition and thinking out of the box solutions\\n• Scripting knowledge (Python, PowerShell)\\n• Passionate with fighting Cybercriminals, and up to date with latest security news\\n• Good communication skills in English to communicate security risks to other teams\\n• Relocation package is provided for this position*\\n• Hybrid Working Model\\n• WFH Set Up Allowance\\n• 30 Days of Remote Working from anywhere globally every year\\n• Employee discount for accommodation globally\\n• Global team of 90+ nationalities\\n• 40+ offices and 25+ countries\\n• Annual CSR / Volunteer Time off\\n• Benevity Subscription for employee donations\\n• Volunteering opportunities globally\\n• Free Headspace subscription\\n• Free Odilo & Udemy subscriptions\\n• Access to Employee Assistance Program (third party for personal and workplace support)\\n• Enhanced Parental Leave\\n• Life, TPD & Accident Insurance\\n\\n\\n#sanfrancisco #sanjose #losangeles #sandiego #oakland #denver #miami #orlando #atlanta #chicago #boston #detroit #newyork #portland #philadelphia #dallas #houston #austin #seattle #sydney #melbourne #perth #toronto #vancouver #montreal #shanghai #beijing #shenzhen #prague #Brno #Ostrava #cairo #alexandria #giza #estonia #paris #berlin #munich #hamburg #stuttgart #cologne #frankfurt #dusseldorf #dortmund #essen #Bremen #leipzig #dresden #hanover #nuremberg #athens #hongkong #budapest #jakarta #bali #dublin #telaviv #jerusalem #milan #rome #venice #florence #naples #turin #palermo #bologna #tokyo #osaka #yokohama #nagoya #okinawa #fukuoka #sapporo #kualalumpur #malta #amsterdam #oslo #manila #warsaw #krakow #bucharest #doha #alrayyan #moscow #saintpetersburg #riyadh #jeddah #mecca #medina #singapore #capetown #johannesburg #seoul #barcelona #madrid #stockholm #zurich #taipei #tainan #taichung #kaohsiung #bangkok #Phuket #istanbul #dubai #abudhabi #sharjah #london #manchester  #edinburgh #kiev #hcmc #hanoi #amsterdam #bucharest #lodz #wroclaw #poznan #katowice #rio #salvador #newdelhi #Hyderabad #bangalore #Mumbai #Bengaluru #Chennai #Kolkata #Lucknow #bandung #yokohama #nagoya #okinawa #fukuoka #IT #4\\n\\nEqual Opportunity Employer\\n\\nAt Agoda, we pride ourselves on being a company represented by people of all different backgrounds and orientations. We prioritize attracting diverse talent and cultivating an inclusive environment that encourages collaboration and innovation. Employment at Agoda is based solely on a person’s merit and qualifications. We are committed to providing equal employment opportunity regardless of sex, age, race, color, national origin, religion, marital status, pregnancy, sexual orientation, gender identity, disability, citizenship, veteran or military status, and other legally protected characteristics.\\n\\nWe will keep your application on file so that we can consider you for future vacancies and you can always ask to have your details removed from the file. For more details please read our privacy policy .\\n\\nTo all recruitment agencies: Agoda does not accept third party resumes. Please do not send resumes to our jobs alias, Agoda employees or any other organization location. Agoda is not responsible for any fees related to unsolicited resumes.</td></tr><tr><td>Resident Care Companion or STNA - DSL Elyria</td><td>If you have a passion for helping others… If it is your calling to make someone’s day better… If you want to build meaningful relationships with those you work with… Then it’s time for you to join the Danbury family! Our residents and team members can’t wait to meet you. We are looking for new team members who care like we do. We care for our residents, our co-workers, our families, our vendors… We Care. That’s the Danbury Difference. We are currently seeking Resident Care Companion or STNA for our community. We have full time positions open.\\n\\nOur Memory Care Resident Care Companion or STNA responsibilities include:\\n\\n• Resident Care Companions and STNAs enjoy interacting with residents while engaging in the activities of daily living.\\n• Assist residents with daily personal care routines such as showers, bathing, personal hygiene, etc.\\n• Help residents prepare for and escort them to meals, activities, social programs and appointments.\\n• Assist residents with various other daily needs as necessary.\\n\\n\\nThe Experience And/or Skills Required For This Position Are\\n\\n• STNA certification required for STNA positions.\\n• No certification required for Resident Care Companion positions.\\n• Experience working in a similar capacity in a Senior Living setting is helpful,but not required.\\n• A great outlook, cheerful disposition, and love of seniors are a must.\\n\\n\\nWhen you join our team in a full-time position, you will enjoy a great benefit package that includes:\\n\\n• Company paid Short Term Disability, Long Term Disability, Life and AD&D\\n• Medical, Dental, Vision, Additional Voluntary Life, Additional Voluntary AD&D\\n• 401(k)\\n• Paid Time Off\\n• Tuition Reimbursement All our employees, full and part time, can enjoy these great perks:\\n• On Demand Pay available\\n• Perfect Attendance Bonus available\\n• Referral Bonus opportunities\\n• Worked Holidays Paid @ Double Time!\\n• Raises every quarter (Pay increase every 3 months) If you’re ready to make a difference in the lives of our residents and our teams, apply now.\\n\\n\\nDanbury does not require employees to be vaccinated.\\n\\nDanbury Senior Living provides equal employment opportunities to all employees and applicants for employment and prohibits discrimination and harassment of any type without regard to race, color, religion, age, sex, national origin, disability status, genetics, protected veteran status, sexual orientation, gender identity or expression, or any other characteristic protected by federal, state or local laws. This policy applies to all terms and conditions of employment, including recruiting, hiring, placement, promotion, termination, layoff, recall, transfer, leaves of absence, compensation and training.\\n\\nIND123</td></tr></tbody></table></div>"
      ]
     },
     "metadata": {
      "application/vnd.databricks.v1+output": {
       "addedWidgets": {},
       "aggData": [],
       "aggError": "",
       "aggOverflow": false,
       "aggSchema": [],
       "aggSeriesLimitReached": false,
       "aggType": "",
       "arguments": {},
       "columnCustomDisplayInfos": {},
       "data": [
        [
         "DELIVERY TECHNICIAN",
         "Our Company\\n\\nAmerita\\n\\nOverview\\n\\nThe Delivery Technician is responsible for delivery of medications and supplies to Amerita’s home infusion patient’s residents. The delivery technicians are critical customer experience ambassadors supporting the needs of the patients by providing timely delivery of medication and supplies.\\n\\nResponsibilities\\n\\n• Plans and completes an efficient delivery or patient’s medication and supplies \\n• Loads delivery vehicle with patient’s medication and supplies scheduled for delivery \\n• Delivers patient’s medication and supplies to correct addresses, obtaining signatures and proof of receipt when necessary \\n• Picks up equipment along the scheduled route, including items to be returned, company orders, and other items as requested \\n• Maintains basic records of truck mileage and deliveries made \\n• Ensures that delivery vehicle receives basic service according to maintenance schedule; reports larger service needs and mechanical issues to supervisor \\n• Maintains and clean and organized delivery vehicle in accordance with ACHC accreditations standards \\n• Assists in general warehouse duties when delivery route is completed, as needed and eligible per branch warehouse coordinators criteria \\n• Performs other related duties as assigned\\n\\n\\nQualifications\\n\\n• High School Diploma/GED or equivalent, preferred \\n• Excellent customer service orientation \\n• Ability to drive safely \\n• Ability to use navigation tools such as onboard GPS, smartphone apps, and/or web-based or physical maps \\n• Ability to plan delivery routes \\n• Ability to maintain basic logs and records \\n• Ability to carry out a series of instructions without constant supervision \\n• Ability to remain professional and courteous at all times\\n\\n\\nAbout Our Line Of Business\\n\\nAmerita is a specialty infusion company focused on providing complex pharmaceutical products and clinical services to patients outside of the hospital. Committed to excellent service, our vision is to combine the administrative efficiencies of a large organization with the flexibility, responsiveness and entrepreneurial spirit of a local provider. For more information about Amerita, please visit www.ameritaiv.com . Follow us on Twitter and professionalnetwork .\\n\\n Salary Range\\n\\nUSD $12.00 - $15.00 / Hour"
        ],
        [
         "Qualified Gas Engineer - Slough",
         "Qualified Gas Engineer\\n\\nUxbridge Road, Slough, Berkshire, SL2 5NA\\n\\nBasic salary up to £43,430* per annum\\n\\n• Plus earn more through standby and call-out allowances and performance bonuses. \\n• Conditions apply\\n\\n\\n\\nLet’s fuel your career and help you thrive.\\n\\nAbout The Role\\n\\nAs part of our Emergency Response Team, you’ll be the first on the scene at customers’ homes, which makes you the face of our brand for people who are worried about potential gas escapes or carbon monoxide activated alarms.\\n\\nSometimes you’ll be dealing with the emergency services on behalf of our customers, making you part of a team that’s responsible for protecting people’s lives. They could be vulnerable, elderly, or simply looking for help, and it’s that level of empathy, plus the pride you’ll feel from caring for people and keeping them safe in their homes that could make you a Cadent person.\\n\\nIt’s a role where no two days are the same, so from installation, replacement, and maintenance of gas meters for our home and business customers, to high rise and gas safety regulation surveys, to fitting cooker safety valves, when we say it’s a varied role, we mean it.\\n\\nSo, what’s in it for you?\\n\\n• 33 days holiday, inclusive of bank holidays\\n• A company van (Work purpose use only)\\n• Subsidised Gympass membership\\n• Pension Scheme – with company contributions double matched up to 12%\\n• Retail and Leisure discounts \\n• Flexible Benefits, including private medical, cycle2work scheme, car lease, gadget discounts, plus much more!\\n• Annual performance bonus\\n• Unlimited access to our Occupational Health and Employee Assistance Programme services – Caring for your physical and mental wellbeing\\n• Continuous support, learning, and development to help you soar in an environment where you’ll feel you belong.\\n\\n\\n\\nA Bit About Us\\n\\nWe’re Cadent Gas, and we’re changing the face of energy forever.\\n\\nWe deliver gas to eleven million homes and businesses from the North West to North London, whilst operating and looking after the largest gas distribution network in the UK and managing the national gas emergency service freephone line on behalf of the whole gas industry.\\n\\nWe’ve built a place where everyone belongs, and we want you to be a part of it.\\n\\nYou can help us keep people warm, protect the planet, and enjoy tons of support and development opportunities to help you thrive because together, we’ll fuel a career as unique as you are.\\n\\nWhat are we looking for?\\n\\nWe’re looking for excellent communication skills and the ability to keep calm under pressure. You’ll also need a CESP1 or CMA1 certificate for this role, as well as experience working within a gas environment, including good knowledge of gas appliances; testing, purging and the commissioning of pipework.\\n\\nAn understanding of Standards, Legislation, Codes of Practice and Health and Safety is also important, and you’ll need a full UK driving licence too.\\n\\nBut ultimately, it’s about pride, purpose, thinking on your feet, and taking ownership. That’s what will make you a perfect fit in our team.\\n\\nDon’t meet every single requirement listed? We would still love to hear from you! ... Understanding, learning, and celebrating what makes us different, as well as what we have in common, is good for us as individuals and enables us to work better together as one team. We provide our own learning and development programmes, providing you with access to our learning tools to help you develop the skills needed to soar at Cadent.\\n\\nSo, what are you waiting for? Apply today and let’s start fuelling your career at Cadent.\\n\\nPrimary Location\\n\\nUnited Kingdom-Berkshire-Slough\\n\\nOther Locations\\n\\nUnited Kingdom-London-London City\\n\\nJob\\n\\nOperations\\n\\nOrganization\\n\\nOperations (COO)\\n\\nJob Posting\\n\\n12-Feb-2024, 12:22:30 PM"
        ],
        [
         "District Sales Manager - South Valley/Fresno, CA",
         "Mattress Firm\\n\\nThe most trusted authority on sleep\\n\\nWe’re no ordinary mattress company. In just over 30 years, Mattress Firm has become America’s largest specialty mattress retailer. With more than 2,400 stores nationwide and a team of more than 6,000 Sleep Experts®, we have helped millions of people get better sleep. That’s who we are and what we do—because everyone deserves a great night’s sleep.\\n\\nHelping people sleep well so they live well\\n\\nDid you know we spend a third of our lives in bed? That’s why our priority is making sure everyone’s eight hours are perfect. We’re looking for passionate, ambitious people: innovators, action takers, growth seekers and life changers. Your journey will begin with an extensive, customer-centric retail sales training program that empowers you to create a life-changing in-store experience and help customers build the perfect sleep sanctuary. Helping people sleep well so they live well is at the core of what we do. So, join us in making a difference—let’s help people say goodbye to Junk Sleep and hello to the sleep of their dreams.\\n\\nWhy work for Mattress Firm?\\n\\n• Our teams are passionate, and our culture is inspiring\\n• You’ll be surrounded by ambitious people: innovators, action takers; life changers that will inspire you\\n• Excellent growth opportunities through education and development programs\\n• Great benefits\\n• Get paid on demand \\n• Mental health and life resources\\n• Great employee discounts:\\n• mattresses and sleep accessories\\n• cell phones and electronics\\n• travel\\n• car and home loans\\n• and more\\n• Medical, dental, prescription, and vision plans\\n• 401(k) with employer matching\\n• Some positions have base pay or uncapped commission\\n\\nJob Description\\n\\nA District Manager executes the strategic business objectives of a defined district in sales management, store operations, merchandising, and profitability.\\n\\n• Manages overall sales performance of district.\\n• Maximizes store transaction closing ratios.\\n• Develops and implements in-store strategies to negate competitor’s efforts.\\n• Drives sales to meet or exceed budget.\\n• Executes the company’s selling program.\\n• Executes sales process for new and existing merchandise.\\n• Maintains awareness of competitor’s advertisements and services offered.\\n• Resolves customer issues as needed.\\n• Conducts scheduled sales meetings.\\n• Management: Manages overall financial performance of the district.\\n• Manages targeted variable expenses of the district.\\n• Reviews performance and provides development of each associate.\\n• Focuses on the development of Store Managers.\\n• Manages the strategic action plans for the district.\\n• Approves the schedule for all associates.\\n• Ensures all associates are assigned to the appropriate location for period end payroll reports.\\n• Prepares weekly flash reports for Regional Manager.\\n• Manages the execution of the clearance center program and pricing.\\n• Manages inventory and inventory shrinkage levels.\\n• Audits store cash handling procedures.\\n• Ensures federal, state, and local laws, company policies and operating procedures are followed.\\n• Ensures that all lay-a-ways and refunds are current.\\n• Maintains company store appearance standards throughout district.\\n• Manages new store openings, remodels, and closings.\\n• Recruits, interviews, and hires partners.\\n\\n\\nLife at Mattress Firm\\n\\nOur mission and vision\\n\\nAs America’s most trusted authority on sleep, our mission is to help people find the mattress of their dreams. With low prices, the best brands, and the knowledge of our Sleep Experts®, we make it easy to get a great night’s sleep, every night.\\n\\nHistory\\n\\nIn just over 30 years, Mattress Firm has become America’s largest specialty mattress retailer. With more than 2,400 stores nationwide and a team of more than 6,000 Sleep Experts®, we have helped millions of people get better sleep.\\n\\nBenefits Beyond a Paycheck\\n\\nWe support you just like we support our customers—that’s why we offer an extensive range of benefits designed to support you, your family, and your future.\\n\\nDiversity, equity and inclusion\\n\\nWe believe in an inclusive environment that attracts, develops, and retains top talent. Our Diversity, Equity & Inclusion Council works to promote the cultivation of a work environment that embraces and celebrates all the individuals, backgrounds and perspectives that reflect the communities we serve.\\n\\nGiving back to our community\\n\\nWhether it’s volunteering at a foster care agency, food bank or even an animal shelter, we believe in giving back to our associates and the communities they live and work in. That's why we're proud to support organizations dedicated to helping people follow their dreams and thrive.\\n\\nPay Range:\\n\\n$80,000 - 95,000.\\n\\nNow don’t fall asleep out there… the sooner that we receive your application, the closer you are to the career of your dreams!\\n\\nDIVERSE CANDIDATES ARE ENCOURAGED TO APPLY\\n\\nMattress Firm is an equal employment opportunity employer and is committed to maintaining a non-discriminatory work environment, and does not discriminate against any applicant or employee for employment on the basis of race, color, religion, sex, national origin, age, disability, veteran status, marital status, sexual orientation, gender identity, or any other characteristic protected by applicable law. Mattress Firm is committed to creating a dynamic work environment that values diversity and inclusion, respect and integrity, customer focus, and innovation.\\n\\nPay Range:\\n\\n80,000 - 95,000.\\n\\nNow don’t fall asleep out there… the sooner that we receive your application, the closer you are to the career of your dreams!\\n\\nDIVERSE CANDIDATES ARE ENCOURAGED TO APPLY\\n\\nMattress Firm is an equal employment opportunity employer and is committed to maintaining a non-discriminatory work environment, and does not discriminate against any applicant or employee for employment on the basis of race, color, religion, sex, national origin, age, disability, veteran status, marital status, sexual orientation, gender identity, or any other characteristic protected by applicable law. Mattress Firm is committed to creating a dynamic work environment that values diversity and inclusion, respect and integrity, customer focus, and innovation."
        ],
        [
         "Wire Drawer Technician",
         "We are looking candidates for a Manufacturing Technician to work as a Wire Drawer Technician for a leading specialty metal products manufacturer conveniently located in Shrewsbury, MA, This is second shift position with a four day work week, however, initial training will be on first shift.\\n\\nRESPONSIBILITIES:\\n\\nThe primary purpose of this position is for the cleaning, insulation and inspection of superconducting wires.\\n\\nThese responsibilities include:\\n\\n• set-up, tend and operate multiple production machines / processes; load and unload spools; weigh materials; \\n• maintain chemical baths; maintain and log all information required for supporting quality and traceability; adjust and change parts on machinery; perform electrical and quality assurance tests; clean/lubricate production machines; \\n• perform tests and checks on products; operate ovens; operate micrometer and other testing equipment; handle bare product; move/store raw materials and finished goods; prepare final product for shipment; maintaining work areas and equipment in a clean orderly condition.\\n\\n\\n\\nJOB REQUIREMENTS:\\n\\n• High school diploma, GED or equivalent experience\\n• Mathematical skills\\n• Ability to use production tools and use / read a micrometer\\n• Good vision and eye-hand coordination\\n• Prior manufacturing experience with the ability to prioritize and pay close attention to detail\\n• Ability to track and record production results and follow priorities to ensure on-time completion of tasks\\n• Prior wire processing / handling experience ( such as drawing/extrusion/cabling ) is a plus\\n\\n\\n\\nPHYSICAL DEMANDS:\\n\\n• Frequent lifting, pushing, pulling, squatting, stooping, and bending is required\\n• Must independently lift and carry up to 50 pounds;\\n• Must lift and move, with mechanical lifts and by rolling, up to 400 pounds.\\n\\n\\n\\nWORK ENVIRONMENT/CONDITIONS:\\n\\n• Electrical hazards, possible fumes, airborne particles, toxic or caustic chemicals /odors\\n• moveable mechanical parts\\n• moderate to loud noise level\\n\\n\\n\\nEMPLOYEMENT BENEFITS:\\n\\n• Health, dental, disability, and life insurance\\n• Paid vacation and sick time\\n• 401K and profit sharing programs\\n• Tuition reimbursement"
        ],
        [
         "Service Technician - Enid, OK",
         "Job Description\\n\\nATTENTION MILITARY AFFILIATED JOB SEEKERS - Our organization works with partner companies to source qualified talent for their open roles. The following position is available to Veterans, Transitioning Military, National Guard and Reserve Members, Military Spouses, Wounded Warriors, and their Caregivers. If you have the required skill set, education requirements, and experience, please click the submit button and follow the next steps. 1/21//24 Job Description\\n\\nPerforms basic diagnostics, service repairs and maintenance work on customer and/or dealer-owned agricultural. May require some direction or guidance from the Service Manager or Shop Foreman. Maintains professional communication with all company locations to insure information flows in an appropriate manner.\\n\\nEnid, OK - Agriculture Service Technician / Diesel Mechanic Duties:\\n\\n• Performs basic agricultural equipment diagnostics and determines what repairs are needed, if required.\\n• Performs basic agricultural equipment repairs as requested by the supervisor.\\n• Participates in all job-related training and development.\\n• Prepares all reports and forms required in conjunction with work assignments.\\n• Maintains current product knowledge of John Deere and competitive products.\\n• Maintains condition of vehicles, inventory, tools, and equipment.\\n• Other duties as assigned by supervisor.\\n• Safety Sensitive\\n\\n\\nEnid, OK - Agriculture Service Technician / Diesel Mechanic Pay & Benefits:\\n\\n• Competitive Pay (Plus Overtime Pay)\\n• Health, Dental, Vision Insurance (Company sponsored Healthcare starts the first day of the month after you start with P&K)\\n• Company Paid Life Insurance\\n• 401k Match\\n• Paid Time Off & Holiday Pay (Starting Day 1 with P&K!)\\n• Safety Sensitive Position\\n\\n\\nAuto req ID\\n\\n403346BR\\n\\nMinimum Education Required\\n\\nCertifications/Security Clearances/Other (Enter Below)\\n\\nJob_Category\\n\\nTechnician\\n\\nQualifications\\n\\nCertificates/Security Clearances/Other\\n\\nEnid, OK - Agriculture Service Technician / Diesel Mechanic Skills & Qualifications:\\n\\n• Prior experience as a diesel mechanic preferred.\\n• Proven knowledge of methods, materials, tools, and techniques used in the repair of agricultural equipment.\\n• Good knowledge of mechanical, electrical, and hydraulic systems.\\n• Ability to use standard computer software applications such as diagnostic software and internet functions.\\n• Good skills in operating vehicles and equipment used for diagnostic purposes.\\n• High School Diploma or GED equivalent.\\n\\n\\nCity*\\n\\nEnid\\n\\nState*\\n\\nOklahoma\\n\\nJob Code\\n\\nAgriculture Agriculture\\n\\nAffiliate Sponsor\\n\\nJohn Deere"
        ],
        [
         "Dozer Operator",
         "Start Date: Immediately Pay Rate: $30-$40/ hr depending on experience Benefits: Accommodation Electricity Career Progression Job Description: A position is available for a suitably experienced Dozer Operator to join a large dryland farming operation in Mungindi on the NSW and QLD border. Previous experience in operating D6 and D7H is essential to perform all duties of tree clearing, fence lines, and new and existing development of their country. Contracting work will also be required, as well as some farming duties if the applicant has the relevant machinery experience. This position will approximately run for the next 12 months, with the opportunity to stay on and be a permanent member of the team, depending on the successful applicant’s abilities. On farm accommodation is available in a single self-contained, air conditioned donga with an ensuite, and electricity and internet is also provided. You will predominately be working autonomously, so your own vehicle and tools is essential. The client are looking for a mechanically minded person, who is preferably keen to jump into the farming side of the operation as well during harvest seasons. This is not a requirement, however a permanent position will be offered to someone who wants a bit of variety, and a longevity career. Our client run a reputable farming and grazing enterprise, consisting of 11,000 acres, spanning over 40 years in the industry. Previous experience with harvesting wheats, cereals and legumes will be advantageous, as will a current truck licence. If you haven’t been to Mungindi, it is located uniquely on the New South… Click here to view more detail / apply for Dozer Operator"
        ],
        [
         "District Proctor- Chester Community Charter",
         "About Marker Learning:\\n\\n1 in 5 students has a learning disability such as dyslexia, which makes it harder for them to read, spell and write--despite their intelligence. While receiving a proper evaluation for a learning disability could be the most impactful event in a student's life, only 4% of students receive a diagnosis because of the high costs of evaluations and lack of access to qualified psychologists. Undiagnosed students are 3x more likely to drop out of high school, 5x more likely to be unemployed, and tend to experience elevated levels of anxiety and depression. It's estimated that early diagnosis of dyslexia and other learning disabilities could save the US over 72 billion dollars of economic impact and drastically improve the lives of millions of people.\\n\\nMarker Learning is on a mission to make learning disability (e.g. dyslexia) assessments and diagnosis easier and more affordable for schools and parents. By leveraging proprietary technology developed by leading experts at Johns Hopkins, the end-to-end evaluation is completed in half the time and at 1/10th the cost of typical in person evaluations. We are a rapidly growing start up, backed by some of the most mission driven and reputable venture capital firms and education non-profits.\\n\\nJoin us in our mission to inspire and support all students on their unique learning paths.\\n\\nMarker Learning is looking for an onsite District Proctor to help schedule and proctor evaluations at Chester Community Charter School. To help us achieve our mission, we are looking to hire a District Proctor who is excellent at organization, developing and following processes, and working with students. This is a part-time role until May 31, 2024, and will report to our Client Success Leader at the District.\\n\\nAs a key member of our Client Success team, here's what you'll do:\\n\\nKey Outcomes:\\n\\n• Work with Marker Learning and School Personnel to schedule students who are identified by the district special education teams\\n• Remove students from class and place them in front of a computer in the appropriate testing area \\n• Supervise the students while they complete virtual assessments\\n• Ensure the security of test materials and maintain test integrity\\n• Verify student identification and record/submit information according to protocols\\n• Monitor the exam room to ensure that no prohibited materials, such as notes or electronic devices, are being used\\n• Identify ways in which Marker Learning can provide a better student and school district experience\\n\\n\\nThe most important skills for the role are*:\\n\\n• Attention to detail\\n• Ability to follow and improve a scheduling and proctoring process\\n• Ability to use a computer and software programs such as Zoom\\n• Ability to develop a rapport with students\\n• Ability to travel to the designated school locations consistently\\n• Knowledge of a school system and the day-to-day activities of a typical school\\n\\n\\nInterested? Great! Here's what you should know:\\n\\nAt Marker Learning, we know that our people are indispensable to achieving our mission, and we are building an inclusive environment that enables everyone to do their best work. In that spirit, we deliberately hire people from all walks of life — including, but not limited to, race, gender identity, sexual orientation, and disability status. We'd love to hear from you if you're motivated by our mission and eager to contribute to our team and culture.\\n\\nCompensation:\\n\\nWe're committed to an inclusive, consistent, and equitable approach to compensation and anticipate that this position will earn 18-20/hr per hour.\\n\\nInterested? Great! Here's what you should know:\\n\\nAt Marker Learning, we know that our people are indispensable to achieving our mission, and we are building an inclusive environment that enables everyone to do their best work. In that spirit, we deliberately hire people from all walks of life — including, but not limited to, race, gender identity, sexual orientation, and disability status. We are a mission-driven team out to provide reliable and affordable testing to every student who requires it, and we believe that Marker Learning has the potential to change the evaluation landscape across the country. We'd love to hear from you if you're motivated by our mission and eager to contribute to our team and culture!\\n\\nWe are dedicated to building a diverse and inclusive workforce. Marker Learning provides equal employment opportunities (EEO) to all applicants for employment without regard to race, color, religion, gender, sexual orientation, national origin, age, disability, genetic information, marital status, amnesty, or status as covered veteran in accordance with applicable federal, state, and local laws."
        ],
        [
         "Laundry Worker",
         "Who We Are\\n\\nHealthcare Services Group (HCSG) is an experienced partner managing housekeeping, laundry, dining, and nutritional services within the healthcare market. For over 45 years, we have provided essential services to thousands of healthcare communities across the country. As one of America's Most Trustworthy Companies, we have been recognized for treating our customers and employees fairly and pursuing excellence via an ever-evolving and expanding focus on training and the development of team members at every level.\\n\\nOur Company Purpose & Values\\n\\nOur Purpose is Fostering Fulfillment In Communities.\\n\\nOur Values, Integrity, Collaboration, Empowerment, Passion & Perseverance (aka Grit) influence our decisions and the actions that follow in and out of the workplace.\\n\\nWho You Are\\n\\nYou are driven, ambitious, have a personal calling for serving people, and desire to positively impact your community. You enjoy collaborating with others, aren't afraid to roll up your sleeves, and go beyond to get the job done. You have a passion and desire to deliver the highest customer and resident experience every day.\\n\\nWhat We Offer\\n\\nHCSG offers a comprehensive array of benefits to support our associates and their family’s health and well-being. Our goal is to promote welfare and health and enhance our associates' and their families' overall quality of life.\\n\\n• Benefits - FREE Telemedicine and Prescription Discount Program along with an array of medical, dental, vision, and other supplemental health plans. *Availability based on state.\\n• Training - We take the development and education of our associates very seriously. Our promotions-from-within philosophy opens the door to a stimulating and robust career with HCSG!\\n• Employee Assistance Programs - FREE access for employees and their families for health, financial, and family services to support our employees' welfare and mental and physical health. \\n• Employee Recognition Programs - We strive to recognize employees who live out our Company Purpose and are committed to #GoingBeyond for our Client, Resident, and Employee Communities!\\n• Going Beyond Assistance Fund - A 501(c)(3) nonprofit formed by HCSG to serve as a charitable employer-sponsored disaster relief organization to provide emergency, hardship, and disaster assistance, to HCSG employees and their dependents or family members.\\n• Paid - Holidays and Vacation for eligible employees.\\n• Employee Stock Purchase Plan - Investment opportunity available to all eligible employees after two years of service.\\n• Nationwide Opportunities - Transfers are available Nationwide – great for active Military and Family!\\n\\n\\n\\nKeeping You Safe\\n\\n• The safety and health of our employees and that of the resident communities that we serve are our Company's most significant priority. \\n• Personal Protective Equipment - All employees will be provided and required to wear appropriate PPE for all functions. \\n• COVID-19 Vaccination - Employees will be required to comply with all policies, as required by State, Local, and/or our Customers\\n\\n\\n\\nWhy HCSG\\n\\nAt HCSG, you will find an environment that is fulfilling, collaborative, committed, stimulating, and structured to help you succeed in serving our communities. We offer engaging opportunities for every phase of your career. HCSG is committed to providing growth and leadership opportunities to see you succeed!\\n\\nPosition Summary\\n\\n• Laundry Worker - Responsible for collecting, sorting, and loading soiled linen into the washer(s) and loading clean linens into the dryer(s), folding clean linens, counting and recording the linen processed each day, making proper deliveries to units and, cleaning and sanitizing the work area including; machines, work tables, and sorting area.\\n• Safety - Utilize protective gear in all appropriate functions. Responsible for the safe and proper mixing and use of cleaning solutions while adhering to all safety precautions. Reporting equipment/cleaning product needs and or malfunctions to supervisor in a timely fashion. Ensure the established standards, safety, and quality guidelines are met. Follow infection control and universal precautions policies and procedures to ensure that a sanitary environment is achieved at all times. Follow proper reporting, isolation, and handwashing procedures/techniques.\\n• Punctuality - Consistent attendance and punctual arrival. Timely completion of assigned tasks according to schedule. Respond to the paging system in a timely and appropriate manner.\\n• Customer Experience - Positively represents HCSG by following instructions, being courteous, and cooperative with supervisor, co-workers, and client staff.\\n• Resident Experience - Positive, pleasant, and tactful interactions with residents, staff, and facility guests.\\n\\n\\n\\nQualifications\\n\\n• Demonstrate a positive attitude with the ability to follow oral and written instructions, and perform routine, repetitive tasks daily.\\n• After completing all appropriate training, utilize leadership skills to accomplish all responsibilities without supervision and do so without injury to oneself or other individuals.\\n• A high school diploma or equivalent is preferred.\\n• Must be able to be at work as scheduled and on time.\\n• Compliance with COVID-19 Vaccination Policies, as required by State, Local, and/or Customers.\\n• Must be able to lift/carry a maximum of 50 pounds, push/pull a maximum of 50 pounds, stand, sit, bend and walk for extended periods. \\n• Must be able to perform routine, repetitive tasks continuously.\\n• Must be able to work around food and cleaning products.\\n• Must live in the service area.\\n\\n\\n\\nHCSG is proud to be an equal opportunity employer committed to all employees and applicants regardless of race, color, religion, sex, national origin, age, disability, genetics, ethnicity, pregnancy status, gender identity, sexual orientation, marital status, political opinions, or affiliations, veteran status, or other legally protected classes. HCSG also complies with applicable state and local laws and federal law requirements that govern nondiscrimination in every location where we operate.\\n\\nHCSG is committed to fostering and supporting a vibrant company culture that encourages employees to bring their authentic and best selves to serve our resident and client communities. We believe all employees, regardless of position, age, race, religion, beliefs, socioeconomic background, or gender, should work in an environment where they are safe, respected, and treated fairly, with their viewpoints, thoughts, and ideas encouraged and embraced."
        ],
        [
         "Senior Threat/Malware Researcher (Bangkok based, relocation provided)",
         "About Agoda\\n\\nAgoda is an online travel booking platform for accommodations, flights, and more. We build and deploy cutting-edge technology that connects travelers with more than 3.6 million accommodations globally. Based in Asia and part of Booking Holdings, our 6,000+ employees representing 90+ nationalities foster a work environment rich in diversity, creativity, and collaboration. We innovate through a culture of experimentation and ownership, enhancing the ability for our customers to experience the world.\\n\\nGet to Know our Team:\\n\\nThe Security Department oversees security, compliance, GRC, and security operations for all Agoda. We are vigilant in ensuring there is no breach or vulnerability threatening our company or endangering our employees in order to keep Agoda safe and protected. This would be a great challenge for those who want to work with the best technology in a dynamic and advanced environment.\\n\\nThe Opportunity:\\n\\nYou will be immersed in research involving the very latest cyber threats and unprecedented attacks, specifically those targeting the travel sector. Tracking these hacker groups and their evolving tactics will be a pivotal aspect of your role. Given the nature of such challenges, which change on a weekly basis, innovative and outside-the-box solutions are not just encouraged, they are a necessity.\\n\\nIn this Role, you’ll get to:\\n\\n• Replicate malware in isolated environment and check security posture, and advice improvements\\n• Ability to identify TTPs used, malware family and threat actors based from attack information\\n• Analyze each step of the attack cycle and come up with detection ideas to mitigate them\\n• Working knowledge on top password stealers like Vidar,Redline\\n• Hunting to find undetected malware, DLP threats and API weaknesses\\n• Author custom detection rules to provide extra layer of security besides products\\n• Ability to document and produce research content in form of reports\\n• Follow in the wild attacks and tricks on a daily basis, and protect Agoda against these attacks in form of attack surface reduction / hunt rule\\n\\n\\nWhat you’ll Need to Succeed:\\n\\n• Bachelors in Computer Science or related degree\\n• Experience 5 years in cybersecurity research\\n• Malware analysis (static and behavioral), network PCAP and memory analysis\\n• Fundamentals of malware and phishing attacks\\n• Able to separate malicious behavior from clean activity in SIEM logs\\n• Demonstration of published research in public domain is a big plus (Whitepapers,Blogs,GitHub etc.)\\n• Good at pattern recognition and thinking out of the box solutions\\n• Scripting knowledge (Python, PowerShell)\\n• Passionate with fighting Cybercriminals, and up to date with latest security news\\n• Good communication skills in English to communicate security risks to other teams\\n• Relocation package is provided for this position*\\n• Hybrid Working Model\\n• WFH Set Up Allowance\\n• 30 Days of Remote Working from anywhere globally every year\\n• Employee discount for accommodation globally\\n• Global team of 90+ nationalities\\n• 40+ offices and 25+ countries\\n• Annual CSR / Volunteer Time off\\n• Benevity Subscription for employee donations\\n• Volunteering opportunities globally\\n• Free Headspace subscription\\n• Free Odilo & Udemy subscriptions\\n• Access to Employee Assistance Program (third party for personal and workplace support)\\n• Enhanced Parental Leave\\n• Life, TPD & Accident Insurance\\n\\n\\n#sanfrancisco #sanjose #losangeles #sandiego #oakland #denver #miami #orlando #atlanta #chicago #boston #detroit #newyork #portland #philadelphia #dallas #houston #austin #seattle #sydney #melbourne #perth #toronto #vancouver #montreal #shanghai #beijing #shenzhen #prague #Brno #Ostrava #cairo #alexandria #giza #estonia #paris #berlin #munich #hamburg #stuttgart #cologne #frankfurt #dusseldorf #dortmund #essen #Bremen #leipzig #dresden #hanover #nuremberg #athens #hongkong #budapest #jakarta #bali #dublin #telaviv #jerusalem #milan #rome #venice #florence #naples #turin #palermo #bologna #tokyo #osaka #yokohama #nagoya #okinawa #fukuoka #sapporo #kualalumpur #malta #amsterdam #oslo #manila #warsaw #krakow #bucharest #doha #alrayyan #moscow #saintpetersburg #riyadh #jeddah #mecca #medina #singapore #capetown #johannesburg #seoul #barcelona #madrid #stockholm #zurich #taipei #tainan #taichung #kaohsiung #bangkok #Phuket #istanbul #dubai #abudhabi #sharjah #london #manchester  #edinburgh #kiev #hcmc #hanoi #amsterdam #bucharest #lodz #wroclaw #poznan #katowice #rio #salvador #newdelhi #Hyderabad #bangalore #Mumbai #Bengaluru #Chennai #Kolkata #Lucknow #bandung #yokohama #nagoya #okinawa #fukuoka #IT #4\\n\\nEqual Opportunity Employer\\n\\nAt Agoda, we pride ourselves on being a company represented by people of all different backgrounds and orientations. We prioritize attracting diverse talent and cultivating an inclusive environment that encourages collaboration and innovation. Employment at Agoda is based solely on a person’s merit and qualifications. We are committed to providing equal employment opportunity regardless of sex, age, race, color, national origin, religion, marital status, pregnancy, sexual orientation, gender identity, disability, citizenship, veteran or military status, and other legally protected characteristics.\\n\\nWe will keep your application on file so that we can consider you for future vacancies and you can always ask to have your details removed from the file. For more details please read our privacy policy .\\n\\nTo all recruitment agencies: Agoda does not accept third party resumes. Please do not send resumes to our jobs alias, Agoda employees or any other organization location. Agoda is not responsible for any fees related to unsolicited resumes."
        ],
        [
         "Resident Care Companion or STNA - DSL Elyria",
         "If you have a passion for helping others… If it is your calling to make someone’s day better… If you want to build meaningful relationships with those you work with… Then it’s time for you to join the Danbury family! Our residents and team members can’t wait to meet you. We are looking for new team members who care like we do. We care for our residents, our co-workers, our families, our vendors… We Care. That’s the Danbury Difference. We are currently seeking Resident Care Companion or STNA for our community. We have full time positions open.\\n\\nOur Memory Care Resident Care Companion or STNA responsibilities include:\\n\\n• Resident Care Companions and STNAs enjoy interacting with residents while engaging in the activities of daily living.\\n• Assist residents with daily personal care routines such as showers, bathing, personal hygiene, etc.\\n• Help residents prepare for and escort them to meals, activities, social programs and appointments.\\n• Assist residents with various other daily needs as necessary.\\n\\n\\nThe Experience And/or Skills Required For This Position Are\\n\\n• STNA certification required for STNA positions.\\n• No certification required for Resident Care Companion positions.\\n• Experience working in a similar capacity in a Senior Living setting is helpful,but not required.\\n• A great outlook, cheerful disposition, and love of seniors are a must.\\n\\n\\nWhen you join our team in a full-time position, you will enjoy a great benefit package that includes:\\n\\n• Company paid Short Term Disability, Long Term Disability, Life and AD&D\\n• Medical, Dental, Vision, Additional Voluntary Life, Additional Voluntary AD&D\\n• 401(k)\\n• Paid Time Off\\n• Tuition Reimbursement All our employees, full and part time, can enjoy these great perks:\\n• On Demand Pay available\\n• Perfect Attendance Bonus available\\n• Referral Bonus opportunities\\n• Worked Holidays Paid @ Double Time!\\n• Raises every quarter (Pay increase every 3 months) If you’re ready to make a difference in the lives of our residents and our teams, apply now.\\n\\n\\nDanbury does not require employees to be vaccinated.\\n\\nDanbury Senior Living provides equal employment opportunities to all employees and applicants for employment and prohibits discrimination and harassment of any type without regard to race, color, religion, age, sex, national origin, disability status, genetics, protected veteran status, sexual orientation, gender identity or expression, or any other characteristic protected by federal, state or local laws. This policy applies to all terms and conditions of employment, including recruiting, hiring, placement, promotion, termination, layoff, recall, transfer, leaves of absence, compensation and training.\\n\\nIND123"
        ]
       ],
       "datasetInfos": [],
       "dbfsResultPath": null,
       "isJsonSchema": true,
       "metadata": {},
       "overflow": false,
       "plotOptions": {
        "customPlotOptions": {},
        "displayType": "table",
        "pivotAggregation": null,
        "pivotColumns": null,
        "xColumns": null,
        "yColumns": null
       },
       "removedWidgets": [],
       "schema": [
        {
         "metadata": "{}",
         "name": "title",
         "type": "\"string\""
        },
        {
         "metadata": "{}",
         "name": "description",
         "type": "\"string\""
        }
       ],
       "type": "table"
      }
     },
     "output_type": "display_data"
    }
   ],
   "source": [
    "table_name = \"coresignal_sample_coresignal_job_postings_data_largest_professional_network_indeed_jobs_3_other.coresignal_c4529d69_b6fb_4a7d_a444_a4ee04af0caf_samples.job_b190b4d4502744eda71e033975a0d136\"\n",
    "\n",
    "df = spark.table(table_name).select(\"title\", \"description\").limit(10)\n",
    "display(df)"
   ]
  },
  {
   "cell_type": "markdown",
   "metadata": {
    "application/vnd.databricks.v1+cell": {
     "cellMetadata": {
      "byteLimit": 2048000,
      "rowLimit": 10000
     },
     "inputWidgets": {},
     "nuid": "9b7bc23a-fd7f-4ef2-9091-fbe4450897c4",
     "showTitle": false,
     "title": ""
    }
   },
   "source": [
    "Add a uuid to make sure each row is unique:"
   ]
  },
  {
   "cell_type": "code",
   "execution_count": 0,
   "metadata": {
    "application/vnd.databricks.v1+cell": {
     "cellMetadata": {
      "byteLimit": 2048000,
      "rowLimit": 10000
     },
     "inputWidgets": {},
     "nuid": "6e8d5c4d-9652-4b87-8b61-d24b42504f06",
     "showTitle": false,
     "title": ""
    }
   },
   "outputs": [
    {
     "data": {
      "text/html": [
       "<style scoped>\n",
       "  .table-result-container {\n",
       "    max-height: 300px;\n",
       "    overflow: auto;\n",
       "  }\n",
       "  table, th, td {\n",
       "    border: 1px solid black;\n",
       "    border-collapse: collapse;\n",
       "  }\n",
       "  th, td {\n",
       "    padding: 5px;\n",
       "  }\n",
       "  th {\n",
       "    text-align: left;\n",
       "  }\n",
       "</style><div class='table-result-container'><table class='table-result'><thead style='background-color: white'><tr><th>uuid</th><th>title</th><th>description</th></tr></thead><tbody><tr><td>52fad351-0bef-5550-8af5-3d1f89a3fcf8</td><td>DELIVERY TECHNICIAN</td><td>Our Company\\n\\nAmerita\\n\\nOverview\\n\\nThe Delivery Technician is responsible for delivery of medications and supplies to Amerita’s home infusion patient’s residents. The delivery technicians are critical customer experience ambassadors supporting the needs of the patients by providing timely delivery of medication and supplies.\\n\\nResponsibilities\\n\\n• Plans and completes an efficient delivery or patient’s medication and supplies \\n• Loads delivery vehicle with patient’s medication and supplies scheduled for delivery \\n• Delivers patient’s medication and supplies to correct addresses, obtaining signatures and proof of receipt when necessary \\n• Picks up equipment along the scheduled route, including items to be returned, company orders, and other items as requested \\n• Maintains basic records of truck mileage and deliveries made \\n• Ensures that delivery vehicle receives basic service according to maintenance schedule; reports larger service needs and mechanical issues to supervisor \\n• Maintains and clean and organized delivery vehicle in accordance with ACHC accreditations standards \\n• Assists in general warehouse duties when delivery route is completed, as needed and eligible per branch warehouse coordinators criteria \\n• Performs other related duties as assigned\\n\\n\\nQualifications\\n\\n• High School Diploma/GED or equivalent, preferred \\n• Excellent customer service orientation \\n• Ability to drive safely \\n• Ability to use navigation tools such as onboard GPS, smartphone apps, and/or web-based or physical maps \\n• Ability to plan delivery routes \\n• Ability to maintain basic logs and records \\n• Ability to carry out a series of instructions without constant supervision \\n• Ability to remain professional and courteous at all times\\n\\n\\nAbout Our Line Of Business\\n\\nAmerita is a specialty infusion company focused on providing complex pharmaceutical products and clinical services to patients outside of the hospital. Committed to excellent service, our vision is to combine the administrative efficiencies of a large organization with the flexibility, responsiveness and entrepreneurial spirit of a local provider. For more information about Amerita, please visit www.ameritaiv.com . Follow us on Twitter and professionalnetwork .\\n\\n Salary Range\\n\\nUSD $12.00 - $15.00 / Hour</td></tr><tr><td>55c15892-65b1-571b-b107-a472b5ba8553</td><td>Qualified Gas Engineer - Slough</td><td>Qualified Gas Engineer\\n\\nUxbridge Road, Slough, Berkshire, SL2 5NA\\n\\nBasic salary up to £43,430* per annum\\n\\n• Plus earn more through standby and call-out allowances and performance bonuses. \\n• Conditions apply\\n\\n\\n\\nLet’s fuel your career and help you thrive.\\n\\nAbout The Role\\n\\nAs part of our Emergency Response Team, you’ll be the first on the scene at customers’ homes, which makes you the face of our brand for people who are worried about potential gas escapes or carbon monoxide activated alarms.\\n\\nSometimes you’ll be dealing with the emergency services on behalf of our customers, making you part of a team that’s responsible for protecting people’s lives. They could be vulnerable, elderly, or simply looking for help, and it’s that level of empathy, plus the pride you’ll feel from caring for people and keeping them safe in their homes that could make you a Cadent person.\\n\\nIt’s a role where no two days are the same, so from installation, replacement, and maintenance of gas meters for our home and business customers, to high rise and gas safety regulation surveys, to fitting cooker safety valves, when we say it’s a varied role, we mean it.\\n\\nSo, what’s in it for you?\\n\\n• 33 days holiday, inclusive of bank holidays\\n• A company van (Work purpose use only)\\n• Subsidised Gympass membership\\n• Pension Scheme – with company contributions double matched up to 12%\\n• Retail and Leisure discounts \\n• Flexible Benefits, including private medical, cycle2work scheme, car lease, gadget discounts, plus much more!\\n• Annual performance bonus\\n• Unlimited access to our Occupational Health and Employee Assistance Programme services – Caring for your physical and mental wellbeing\\n• Continuous support, learning, and development to help you soar in an environment where you’ll feel you belong.\\n\\n\\n\\nA Bit About Us\\n\\nWe’re Cadent Gas, and we’re changing the face of energy forever.\\n\\nWe deliver gas to eleven million homes and businesses from the North West to North London, whilst operating and looking after the largest gas distribution network in the UK and managing the national gas emergency service freephone line on behalf of the whole gas industry.\\n\\nWe’ve built a place where everyone belongs, and we want you to be a part of it.\\n\\nYou can help us keep people warm, protect the planet, and enjoy tons of support and development opportunities to help you thrive because together, we’ll fuel a career as unique as you are.\\n\\nWhat are we looking for?\\n\\nWe’re looking for excellent communication skills and the ability to keep calm under pressure. You’ll also need a CESP1 or CMA1 certificate for this role, as well as experience working within a gas environment, including good knowledge of gas appliances; testing, purging and the commissioning of pipework.\\n\\nAn understanding of Standards, Legislation, Codes of Practice and Health and Safety is also important, and you’ll need a full UK driving licence too.\\n\\nBut ultimately, it’s about pride, purpose, thinking on your feet, and taking ownership. That’s what will make you a perfect fit in our team.\\n\\nDon’t meet every single requirement listed? We would still love to hear from you! ... Understanding, learning, and celebrating what makes us different, as well as what we have in common, is good for us as individuals and enables us to work better together as one team. We provide our own learning and development programmes, providing you with access to our learning tools to help you develop the skills needed to soar at Cadent.\\n\\nSo, what are you waiting for? Apply today and let’s start fuelling your career at Cadent.\\n\\nPrimary Location\\n\\nUnited Kingdom-Berkshire-Slough\\n\\nOther Locations\\n\\nUnited Kingdom-London-London City\\n\\nJob\\n\\nOperations\\n\\nOrganization\\n\\nOperations (COO)\\n\\nJob Posting\\n\\n12-Feb-2024, 12:22:30 PM</td></tr><tr><td>d9149698-0453-5fcc-83a6-f37d40a45cce</td><td>District Sales Manager - South Valley/Fresno, CA</td><td>Mattress Firm\\n\\nThe most trusted authority on sleep\\n\\nWe’re no ordinary mattress company. In just over 30 years, Mattress Firm has become America’s largest specialty mattress retailer. With more than 2,400 stores nationwide and a team of more than 6,000 Sleep Experts®, we have helped millions of people get better sleep. That’s who we are and what we do—because everyone deserves a great night’s sleep.\\n\\nHelping people sleep well so they live well\\n\\nDid you know we spend a third of our lives in bed? That’s why our priority is making sure everyone’s eight hours are perfect. We’re looking for passionate, ambitious people: innovators, action takers, growth seekers and life changers. Your journey will begin with an extensive, customer-centric retail sales training program that empowers you to create a life-changing in-store experience and help customers build the perfect sleep sanctuary. Helping people sleep well so they live well is at the core of what we do. So, join us in making a difference—let’s help people say goodbye to Junk Sleep and hello to the sleep of their dreams.\\n\\nWhy work for Mattress Firm?\\n\\n• Our teams are passionate, and our culture is inspiring\\n• You’ll be surrounded by ambitious people: innovators, action takers; life changers that will inspire you\\n• Excellent growth opportunities through education and development programs\\n• Great benefits\\n• Get paid on demand \\n• Mental health and life resources\\n• Great employee discounts:\\n• mattresses and sleep accessories\\n• cell phones and electronics\\n• travel\\n• car and home loans\\n• and more\\n• Medical, dental, prescription, and vision plans\\n• 401(k) with employer matching\\n• Some positions have base pay or uncapped commission\\n\\nJob Description\\n\\nA District Manager executes the strategic business objectives of a defined district in sales management, store operations, merchandising, and profitability.\\n\\n• Manages overall sales performance of district.\\n• Maximizes store transaction closing ratios.\\n• Develops and implements in-store strategies to negate competitor’s efforts.\\n• Drives sales to meet or exceed budget.\\n• Executes the company’s selling program.\\n• Executes sales process for new and existing merchandise.\\n• Maintains awareness of competitor’s advertisements and services offered.\\n• Resolves customer issues as needed.\\n• Conducts scheduled sales meetings.\\n• Management: Manages overall financial performance of the district.\\n• Manages targeted variable expenses of the district.\\n• Reviews performance and provides development of each associate.\\n• Focuses on the development of Store Managers.\\n• Manages the strategic action plans for the district.\\n• Approves the schedule for all associates.\\n• Ensures all associates are assigned to the appropriate location for period end payroll reports.\\n• Prepares weekly flash reports for Regional Manager.\\n• Manages the execution of the clearance center program and pricing.\\n• Manages inventory and inventory shrinkage levels.\\n• Audits store cash handling procedures.\\n• Ensures federal, state, and local laws, company policies and operating procedures are followed.\\n• Ensures that all lay-a-ways and refunds are current.\\n• Maintains company store appearance standards throughout district.\\n• Manages new store openings, remodels, and closings.\\n• Recruits, interviews, and hires partners.\\n\\n\\nLife at Mattress Firm\\n\\nOur mission and vision\\n\\nAs America’s most trusted authority on sleep, our mission is to help people find the mattress of their dreams. With low prices, the best brands, and the knowledge of our Sleep Experts®, we make it easy to get a great night’s sleep, every night.\\n\\nHistory\\n\\nIn just over 30 years, Mattress Firm has become America’s largest specialty mattress retailer. With more than 2,400 stores nationwide and a team of more than 6,000 Sleep Experts®, we have helped millions of people get better sleep.\\n\\nBenefits Beyond a Paycheck\\n\\nWe support you just like we support our customers—that’s why we offer an extensive range of benefits designed to support you, your family, and your future.\\n\\nDiversity, equity and inclusion\\n\\nWe believe in an inclusive environment that attracts, develops, and retains top talent. Our Diversity, Equity & Inclusion Council works to promote the cultivation of a work environment that embraces and celebrates all the individuals, backgrounds and perspectives that reflect the communities we serve.\\n\\nGiving back to our community\\n\\nWhether it’s volunteering at a foster care agency, food bank or even an animal shelter, we believe in giving back to our associates and the communities they live and work in. That's why we're proud to support organizations dedicated to helping people follow their dreams and thrive.\\n\\nPay Range:\\n\\n$80,000 - 95,000.\\n\\nNow don’t fall asleep out there… the sooner that we receive your application, the closer you are to the career of your dreams!\\n\\nDIVERSE CANDIDATES ARE ENCOURAGED TO APPLY\\n\\nMattress Firm is an equal employment opportunity employer and is committed to maintaining a non-discriminatory work environment, and does not discriminate against any applicant or employee for employment on the basis of race, color, religion, sex, national origin, age, disability, veteran status, marital status, sexual orientation, gender identity, or any other characteristic protected by applicable law. Mattress Firm is committed to creating a dynamic work environment that values diversity and inclusion, respect and integrity, customer focus, and innovation.\\n\\nPay Range:\\n\\n80,000 - 95,000.\\n\\nNow don’t fall asleep out there… the sooner that we receive your application, the closer you are to the career of your dreams!\\n\\nDIVERSE CANDIDATES ARE ENCOURAGED TO APPLY\\n\\nMattress Firm is an equal employment opportunity employer and is committed to maintaining a non-discriminatory work environment, and does not discriminate against any applicant or employee for employment on the basis of race, color, religion, sex, national origin, age, disability, veteran status, marital status, sexual orientation, gender identity, or any other characteristic protected by applicable law. Mattress Firm is committed to creating a dynamic work environment that values diversity and inclusion, respect and integrity, customer focus, and innovation.</td></tr><tr><td>f3214678-cafc-5d3a-b4cb-bd7c22be0379</td><td>Wire Drawer Technician</td><td>We are looking candidates for a Manufacturing Technician to work as a Wire Drawer Technician for a leading specialty metal products manufacturer conveniently located in Shrewsbury, MA, This is second shift position with a four day work week, however, initial training will be on first shift.\\n\\nRESPONSIBILITIES:\\n\\nThe primary purpose of this position is for the cleaning, insulation and inspection of superconducting wires.\\n\\nThese responsibilities include:\\n\\n• set-up, tend and operate multiple production machines / processes; load and unload spools; weigh materials; \\n• maintain chemical baths; maintain and log all information required for supporting quality and traceability; adjust and change parts on machinery; perform electrical and quality assurance tests; clean/lubricate production machines; \\n• perform tests and checks on products; operate ovens; operate micrometer and other testing equipment; handle bare product; move/store raw materials and finished goods; prepare final product for shipment; maintaining work areas and equipment in a clean orderly condition.\\n\\n\\n\\nJOB REQUIREMENTS:\\n\\n• High school diploma, GED or equivalent experience\\n• Mathematical skills\\n• Ability to use production tools and use / read a micrometer\\n• Good vision and eye-hand coordination\\n• Prior manufacturing experience with the ability to prioritize and pay close attention to detail\\n• Ability to track and record production results and follow priorities to ensure on-time completion of tasks\\n• Prior wire processing / handling experience ( such as drawing/extrusion/cabling ) is a plus\\n\\n\\n\\nPHYSICAL DEMANDS:\\n\\n• Frequent lifting, pushing, pulling, squatting, stooping, and bending is required\\n• Must independently lift and carry up to 50 pounds;\\n• Must lift and move, with mechanical lifts and by rolling, up to 400 pounds.\\n\\n\\n\\nWORK ENVIRONMENT/CONDITIONS:\\n\\n• Electrical hazards, possible fumes, airborne particles, toxic or caustic chemicals /odors\\n• moveable mechanical parts\\n• moderate to loud noise level\\n\\n\\n\\nEMPLOYEMENT BENEFITS:\\n\\n• Health, dental, disability, and life insurance\\n• Paid vacation and sick time\\n• 401K and profit sharing programs\\n• Tuition reimbursement</td></tr><tr><td>9e82802c-3105-5f4a-b279-e2120902192a</td><td>Service Technician - Enid, OK</td><td>Job Description\\n\\nATTENTION MILITARY AFFILIATED JOB SEEKERS - Our organization works with partner companies to source qualified talent for their open roles. The following position is available to Veterans, Transitioning Military, National Guard and Reserve Members, Military Spouses, Wounded Warriors, and their Caregivers. If you have the required skill set, education requirements, and experience, please click the submit button and follow the next steps. 1/21//24 Job Description\\n\\nPerforms basic diagnostics, service repairs and maintenance work on customer and/or dealer-owned agricultural. May require some direction or guidance from the Service Manager or Shop Foreman. Maintains professional communication with all company locations to insure information flows in an appropriate manner.\\n\\nEnid, OK - Agriculture Service Technician / Diesel Mechanic Duties:\\n\\n• Performs basic agricultural equipment diagnostics and determines what repairs are needed, if required.\\n• Performs basic agricultural equipment repairs as requested by the supervisor.\\n• Participates in all job-related training and development.\\n• Prepares all reports and forms required in conjunction with work assignments.\\n• Maintains current product knowledge of John Deere and competitive products.\\n• Maintains condition of vehicles, inventory, tools, and equipment.\\n• Other duties as assigned by supervisor.\\n• Safety Sensitive\\n\\n\\nEnid, OK - Agriculture Service Technician / Diesel Mechanic Pay & Benefits:\\n\\n• Competitive Pay (Plus Overtime Pay)\\n• Health, Dental, Vision Insurance (Company sponsored Healthcare starts the first day of the month after you start with P&K)\\n• Company Paid Life Insurance\\n• 401k Match\\n• Paid Time Off & Holiday Pay (Starting Day 1 with P&K!)\\n• Safety Sensitive Position\\n\\n\\nAuto req ID\\n\\n403346BR\\n\\nMinimum Education Required\\n\\nCertifications/Security Clearances/Other (Enter Below)\\n\\nJob_Category\\n\\nTechnician\\n\\nQualifications\\n\\nCertificates/Security Clearances/Other\\n\\nEnid, OK - Agriculture Service Technician / Diesel Mechanic Skills & Qualifications:\\n\\n• Prior experience as a diesel mechanic preferred.\\n• Proven knowledge of methods, materials, tools, and techniques used in the repair of agricultural equipment.\\n• Good knowledge of mechanical, electrical, and hydraulic systems.\\n• Ability to use standard computer software applications such as diagnostic software and internet functions.\\n• Good skills in operating vehicles and equipment used for diagnostic purposes.\\n• High School Diploma or GED equivalent.\\n\\n\\nCity*\\n\\nEnid\\n\\nState*\\n\\nOklahoma\\n\\nJob Code\\n\\nAgriculture Agriculture\\n\\nAffiliate Sponsor\\n\\nJohn Deere</td></tr><tr><td>6ad7b29c-16b1-5481-b4f8-7ce07fd84c30</td><td>Dozer Operator</td><td>Start Date: Immediately Pay Rate: $30-$40/ hr depending on experience Benefits: Accommodation Electricity Career Progression Job Description: A position is available for a suitably experienced Dozer Operator to join a large dryland farming operation in Mungindi on the NSW and QLD border. Previous experience in operating D6 and D7H is essential to perform all duties of tree clearing, fence lines, and new and existing development of their country. Contracting work will also be required, as well as some farming duties if the applicant has the relevant machinery experience. This position will approximately run for the next 12 months, with the opportunity to stay on and be a permanent member of the team, depending on the successful applicant’s abilities. On farm accommodation is available in a single self-contained, air conditioned donga with an ensuite, and electricity and internet is also provided. You will predominately be working autonomously, so your own vehicle and tools is essential. The client are looking for a mechanically minded person, who is preferably keen to jump into the farming side of the operation as well during harvest seasons. This is not a requirement, however a permanent position will be offered to someone who wants a bit of variety, and a longevity career. Our client run a reputable farming and grazing enterprise, consisting of 11,000 acres, spanning over 40 years in the industry. Previous experience with harvesting wheats, cereals and legumes will be advantageous, as will a current truck licence. If you haven’t been to Mungindi, it is located uniquely on the New South… Click here to view more detail / apply for Dozer Operator</td></tr><tr><td>0dbabdc1-acbe-56c5-a660-cfdd24b635a0</td><td>District Proctor- Chester Community Charter</td><td>About Marker Learning:\\n\\n1 in 5 students has a learning disability such as dyslexia, which makes it harder for them to read, spell and write--despite their intelligence. While receiving a proper evaluation for a learning disability could be the most impactful event in a student's life, only 4% of students receive a diagnosis because of the high costs of evaluations and lack of access to qualified psychologists. Undiagnosed students are 3x more likely to drop out of high school, 5x more likely to be unemployed, and tend to experience elevated levels of anxiety and depression. It's estimated that early diagnosis of dyslexia and other learning disabilities could save the US over 72 billion dollars of economic impact and drastically improve the lives of millions of people.\\n\\nMarker Learning is on a mission to make learning disability (e.g. dyslexia) assessments and diagnosis easier and more affordable for schools and parents. By leveraging proprietary technology developed by leading experts at Johns Hopkins, the end-to-end evaluation is completed in half the time and at 1/10th the cost of typical in person evaluations. We are a rapidly growing start up, backed by some of the most mission driven and reputable venture capital firms and education non-profits.\\n\\nJoin us in our mission to inspire and support all students on their unique learning paths.\\n\\nMarker Learning is looking for an onsite District Proctor to help schedule and proctor evaluations at Chester Community Charter School. To help us achieve our mission, we are looking to hire a District Proctor who is excellent at organization, developing and following processes, and working with students. This is a part-time role until May 31, 2024, and will report to our Client Success Leader at the District.\\n\\nAs a key member of our Client Success team, here's what you'll do:\\n\\nKey Outcomes:\\n\\n• Work with Marker Learning and School Personnel to schedule students who are identified by the district special education teams\\n• Remove students from class and place them in front of a computer in the appropriate testing area \\n• Supervise the students while they complete virtual assessments\\n• Ensure the security of test materials and maintain test integrity\\n• Verify student identification and record/submit information according to protocols\\n• Monitor the exam room to ensure that no prohibited materials, such as notes or electronic devices, are being used\\n• Identify ways in which Marker Learning can provide a better student and school district experience\\n\\n\\nThe most important skills for the role are*:\\n\\n• Attention to detail\\n• Ability to follow and improve a scheduling and proctoring process\\n• Ability to use a computer and software programs such as Zoom\\n• Ability to develop a rapport with students\\n• Ability to travel to the designated school locations consistently\\n• Knowledge of a school system and the day-to-day activities of a typical school\\n\\n\\nInterested? Great! Here's what you should know:\\n\\nAt Marker Learning, we know that our people are indispensable to achieving our mission, and we are building an inclusive environment that enables everyone to do their best work. In that spirit, we deliberately hire people from all walks of life — including, but not limited to, race, gender identity, sexual orientation, and disability status. We'd love to hear from you if you're motivated by our mission and eager to contribute to our team and culture.\\n\\nCompensation:\\n\\nWe're committed to an inclusive, consistent, and equitable approach to compensation and anticipate that this position will earn 18-20/hr per hour.\\n\\nInterested? Great! Here's what you should know:\\n\\nAt Marker Learning, we know that our people are indispensable to achieving our mission, and we are building an inclusive environment that enables everyone to do their best work. In that spirit, we deliberately hire people from all walks of life — including, but not limited to, race, gender identity, sexual orientation, and disability status. We are a mission-driven team out to provide reliable and affordable testing to every student who requires it, and we believe that Marker Learning has the potential to change the evaluation landscape across the country. We'd love to hear from you if you're motivated by our mission and eager to contribute to our team and culture!\\n\\nWe are dedicated to building a diverse and inclusive workforce. Marker Learning provides equal employment opportunities (EEO) to all applicants for employment without regard to race, color, religion, gender, sexual orientation, national origin, age, disability, genetic information, marital status, amnesty, or status as covered veteran in accordance with applicable federal, state, and local laws.</td></tr><tr><td>6e12ee46-621c-554c-af9a-e540e185f798</td><td>Laundry Worker</td><td>Who We Are\\n\\nHealthcare Services Group (HCSG) is an experienced partner managing housekeeping, laundry, dining, and nutritional services within the healthcare market. For over 45 years, we have provided essential services to thousands of healthcare communities across the country. As one of America's Most Trustworthy Companies, we have been recognized for treating our customers and employees fairly and pursuing excellence via an ever-evolving and expanding focus on training and the development of team members at every level.\\n\\nOur Company Purpose & Values\\n\\nOur Purpose is Fostering Fulfillment In Communities.\\n\\nOur Values, Integrity, Collaboration, Empowerment, Passion & Perseverance (aka Grit) influence our decisions and the actions that follow in and out of the workplace.\\n\\nWho You Are\\n\\nYou are driven, ambitious, have a personal calling for serving people, and desire to positively impact your community. You enjoy collaborating with others, aren't afraid to roll up your sleeves, and go beyond to get the job done. You have a passion and desire to deliver the highest customer and resident experience every day.\\n\\nWhat We Offer\\n\\nHCSG offers a comprehensive array of benefits to support our associates and their family’s health and well-being. Our goal is to promote welfare and health and enhance our associates' and their families' overall quality of life.\\n\\n• Benefits - FREE Telemedicine and Prescription Discount Program along with an array of medical, dental, vision, and other supplemental health plans. *Availability based on state.\\n• Training - We take the development and education of our associates very seriously. Our promotions-from-within philosophy opens the door to a stimulating and robust career with HCSG!\\n• Employee Assistance Programs - FREE access for employees and their families for health, financial, and family services to support our employees' welfare and mental and physical health. \\n• Employee Recognition Programs - We strive to recognize employees who live out our Company Purpose and are committed to #GoingBeyond for our Client, Resident, and Employee Communities!\\n• Going Beyond Assistance Fund - A 501(c)(3) nonprofit formed by HCSG to serve as a charitable employer-sponsored disaster relief organization to provide emergency, hardship, and disaster assistance, to HCSG employees and their dependents or family members.\\n• Paid - Holidays and Vacation for eligible employees.\\n• Employee Stock Purchase Plan - Investment opportunity available to all eligible employees after two years of service.\\n• Nationwide Opportunities - Transfers are available Nationwide – great for active Military and Family!\\n\\n\\n\\nKeeping You Safe\\n\\n• The safety and health of our employees and that of the resident communities that we serve are our Company's most significant priority. \\n• Personal Protective Equipment - All employees will be provided and required to wear appropriate PPE for all functions. \\n• COVID-19 Vaccination - Employees will be required to comply with all policies, as required by State, Local, and/or our Customers\\n\\n\\n\\nWhy HCSG\\n\\nAt HCSG, you will find an environment that is fulfilling, collaborative, committed, stimulating, and structured to help you succeed in serving our communities. We offer engaging opportunities for every phase of your career. HCSG is committed to providing growth and leadership opportunities to see you succeed!\\n\\nPosition Summary\\n\\n• Laundry Worker - Responsible for collecting, sorting, and loading soiled linen into the washer(s) and loading clean linens into the dryer(s), folding clean linens, counting and recording the linen processed each day, making proper deliveries to units and, cleaning and sanitizing the work area including; machines, work tables, and sorting area.\\n• Safety - Utilize protective gear in all appropriate functions. Responsible for the safe and proper mixing and use of cleaning solutions while adhering to all safety precautions. Reporting equipment/cleaning product needs and or malfunctions to supervisor in a timely fashion. Ensure the established standards, safety, and quality guidelines are met. Follow infection control and universal precautions policies and procedures to ensure that a sanitary environment is achieved at all times. Follow proper reporting, isolation, and handwashing procedures/techniques.\\n• Punctuality - Consistent attendance and punctual arrival. Timely completion of assigned tasks according to schedule. Respond to the paging system in a timely and appropriate manner.\\n• Customer Experience - Positively represents HCSG by following instructions, being courteous, and cooperative with supervisor, co-workers, and client staff.\\n• Resident Experience - Positive, pleasant, and tactful interactions with residents, staff, and facility guests.\\n\\n\\n\\nQualifications\\n\\n• Demonstrate a positive attitude with the ability to follow oral and written instructions, and perform routine, repetitive tasks daily.\\n• After completing all appropriate training, utilize leadership skills to accomplish all responsibilities without supervision and do so without injury to oneself or other individuals.\\n• A high school diploma or equivalent is preferred.\\n• Must be able to be at work as scheduled and on time.\\n• Compliance with COVID-19 Vaccination Policies, as required by State, Local, and/or Customers.\\n• Must be able to lift/carry a maximum of 50 pounds, push/pull a maximum of 50 pounds, stand, sit, bend and walk for extended periods. \\n• Must be able to perform routine, repetitive tasks continuously.\\n• Must be able to work around food and cleaning products.\\n• Must live in the service area.\\n\\n\\n\\nHCSG is proud to be an equal opportunity employer committed to all employees and applicants regardless of race, color, religion, sex, national origin, age, disability, genetics, ethnicity, pregnancy status, gender identity, sexual orientation, marital status, political opinions, or affiliations, veteran status, or other legally protected classes. HCSG also complies with applicable state and local laws and federal law requirements that govern nondiscrimination in every location where we operate.\\n\\nHCSG is committed to fostering and supporting a vibrant company culture that encourages employees to bring their authentic and best selves to serve our resident and client communities. We believe all employees, regardless of position, age, race, religion, beliefs, socioeconomic background, or gender, should work in an environment where they are safe, respected, and treated fairly, with their viewpoints, thoughts, and ideas encouraged and embraced.</td></tr><tr><td>34c8a4f6-fa47-5b2b-a135-e68d954919ec</td><td>Senior Threat/Malware Researcher (Bangkok based, relocation provided)</td><td>About Agoda\\n\\nAgoda is an online travel booking platform for accommodations, flights, and more. We build and deploy cutting-edge technology that connects travelers with more than 3.6 million accommodations globally. Based in Asia and part of Booking Holdings, our 6,000+ employees representing 90+ nationalities foster a work environment rich in diversity, creativity, and collaboration. We innovate through a culture of experimentation and ownership, enhancing the ability for our customers to experience the world.\\n\\nGet to Know our Team:\\n\\nThe Security Department oversees security, compliance, GRC, and security operations for all Agoda. We are vigilant in ensuring there is no breach or vulnerability threatening our company or endangering our employees in order to keep Agoda safe and protected. This would be a great challenge for those who want to work with the best technology in a dynamic and advanced environment.\\n\\nThe Opportunity:\\n\\nYou will be immersed in research involving the very latest cyber threats and unprecedented attacks, specifically those targeting the travel sector. Tracking these hacker groups and their evolving tactics will be a pivotal aspect of your role. Given the nature of such challenges, which change on a weekly basis, innovative and outside-the-box solutions are not just encouraged, they are a necessity.\\n\\nIn this Role, you’ll get to:\\n\\n• Replicate malware in isolated environment and check security posture, and advice improvements\\n• Ability to identify TTPs used, malware family and threat actors based from attack information\\n• Analyze each step of the attack cycle and come up with detection ideas to mitigate them\\n• Working knowledge on top password stealers like Vidar,Redline\\n• Hunting to find undetected malware, DLP threats and API weaknesses\\n• Author custom detection rules to provide extra layer of security besides products\\n• Ability to document and produce research content in form of reports\\n• Follow in the wild attacks and tricks on a daily basis, and protect Agoda against these attacks in form of attack surface reduction / hunt rule\\n\\n\\nWhat you’ll Need to Succeed:\\n\\n• Bachelors in Computer Science or related degree\\n• Experience 5 years in cybersecurity research\\n• Malware analysis (static and behavioral), network PCAP and memory analysis\\n• Fundamentals of malware and phishing attacks\\n• Able to separate malicious behavior from clean activity in SIEM logs\\n• Demonstration of published research in public domain is a big plus (Whitepapers,Blogs,GitHub etc.)\\n• Good at pattern recognition and thinking out of the box solutions\\n• Scripting knowledge (Python, PowerShell)\\n• Passionate with fighting Cybercriminals, and up to date with latest security news\\n• Good communication skills in English to communicate security risks to other teams\\n• Relocation package is provided for this position*\\n• Hybrid Working Model\\n• WFH Set Up Allowance\\n• 30 Days of Remote Working from anywhere globally every year\\n• Employee discount for accommodation globally\\n• Global team of 90+ nationalities\\n• 40+ offices and 25+ countries\\n• Annual CSR / Volunteer Time off\\n• Benevity Subscription for employee donations\\n• Volunteering opportunities globally\\n• Free Headspace subscription\\n• Free Odilo & Udemy subscriptions\\n• Access to Employee Assistance Program (third party for personal and workplace support)\\n• Enhanced Parental Leave\\n• Life, TPD & Accident Insurance\\n\\n\\n#sanfrancisco #sanjose #losangeles #sandiego #oakland #denver #miami #orlando #atlanta #chicago #boston #detroit #newyork #portland #philadelphia #dallas #houston #austin #seattle #sydney #melbourne #perth #toronto #vancouver #montreal #shanghai #beijing #shenzhen #prague #Brno #Ostrava #cairo #alexandria #giza #estonia #paris #berlin #munich #hamburg #stuttgart #cologne #frankfurt #dusseldorf #dortmund #essen #Bremen #leipzig #dresden #hanover #nuremberg #athens #hongkong #budapest #jakarta #bali #dublin #telaviv #jerusalem #milan #rome #venice #florence #naples #turin #palermo #bologna #tokyo #osaka #yokohama #nagoya #okinawa #fukuoka #sapporo #kualalumpur #malta #amsterdam #oslo #manila #warsaw #krakow #bucharest #doha #alrayyan #moscow #saintpetersburg #riyadh #jeddah #mecca #medina #singapore #capetown #johannesburg #seoul #barcelona #madrid #stockholm #zurich #taipei #tainan #taichung #kaohsiung #bangkok #Phuket #istanbul #dubai #abudhabi #sharjah #london #manchester  #edinburgh #kiev #hcmc #hanoi #amsterdam #bucharest #lodz #wroclaw #poznan #katowice #rio #salvador #newdelhi #Hyderabad #bangalore #Mumbai #Bengaluru #Chennai #Kolkata #Lucknow #bandung #yokohama #nagoya #okinawa #fukuoka #IT #4\\n\\nEqual Opportunity Employer\\n\\nAt Agoda, we pride ourselves on being a company represented by people of all different backgrounds and orientations. We prioritize attracting diverse talent and cultivating an inclusive environment that encourages collaboration and innovation. Employment at Agoda is based solely on a person’s merit and qualifications. We are committed to providing equal employment opportunity regardless of sex, age, race, color, national origin, religion, marital status, pregnancy, sexual orientation, gender identity, disability, citizenship, veteran or military status, and other legally protected characteristics.\\n\\nWe will keep your application on file so that we can consider you for future vacancies and you can always ask to have your details removed from the file. For more details please read our privacy policy .\\n\\nTo all recruitment agencies: Agoda does not accept third party resumes. Please do not send resumes to our jobs alias, Agoda employees or any other organization location. Agoda is not responsible for any fees related to unsolicited resumes.</td></tr><tr><td>3f4f1e70-13ae-5e4a-9bb2-9ea98cf18ffc</td><td>Resident Care Companion or STNA - DSL Elyria</td><td>If you have a passion for helping others… If it is your calling to make someone’s day better… If you want to build meaningful relationships with those you work with… Then it’s time for you to join the Danbury family! Our residents and team members can’t wait to meet you. We are looking for new team members who care like we do. We care for our residents, our co-workers, our families, our vendors… We Care. That’s the Danbury Difference. We are currently seeking Resident Care Companion or STNA for our community. We have full time positions open.\\n\\nOur Memory Care Resident Care Companion or STNA responsibilities include:\\n\\n• Resident Care Companions and STNAs enjoy interacting with residents while engaging in the activities of daily living.\\n• Assist residents with daily personal care routines such as showers, bathing, personal hygiene, etc.\\n• Help residents prepare for and escort them to meals, activities, social programs and appointments.\\n• Assist residents with various other daily needs as necessary.\\n\\n\\nThe Experience And/or Skills Required For This Position Are\\n\\n• STNA certification required for STNA positions.\\n• No certification required for Resident Care Companion positions.\\n• Experience working in a similar capacity in a Senior Living setting is helpful,but not required.\\n• A great outlook, cheerful disposition, and love of seniors are a must.\\n\\n\\nWhen you join our team in a full-time position, you will enjoy a great benefit package that includes:\\n\\n• Company paid Short Term Disability, Long Term Disability, Life and AD&D\\n• Medical, Dental, Vision, Additional Voluntary Life, Additional Voluntary AD&D\\n• 401(k)\\n• Paid Time Off\\n• Tuition Reimbursement All our employees, full and part time, can enjoy these great perks:\\n• On Demand Pay available\\n• Perfect Attendance Bonus available\\n• Referral Bonus opportunities\\n• Worked Holidays Paid @ Double Time!\\n• Raises every quarter (Pay increase every 3 months) If you’re ready to make a difference in the lives of our residents and our teams, apply now.\\n\\n\\nDanbury does not require employees to be vaccinated.\\n\\nDanbury Senior Living provides equal employment opportunities to all employees and applicants for employment and prohibits discrimination and harassment of any type without regard to race, color, religion, age, sex, national origin, disability status, genetics, protected veteran status, sexual orientation, gender identity or expression, or any other characteristic protected by federal, state or local laws. This policy applies to all terms and conditions of employment, including recruiting, hiring, placement, promotion, termination, layoff, recall, transfer, leaves of absence, compensation and training.\\n\\nIND123</td></tr></tbody></table></div>"
      ]
     },
     "metadata": {
      "application/vnd.databricks.v1+output": {
       "addedWidgets": {},
       "aggData": [],
       "aggError": "",
       "aggOverflow": false,
       "aggSchema": [],
       "aggSeriesLimitReached": false,
       "aggType": "",
       "arguments": {},
       "columnCustomDisplayInfos": {},
       "data": [
        [
         "52fad351-0bef-5550-8af5-3d1f89a3fcf8",
         "DELIVERY TECHNICIAN",
         "Our Company\\n\\nAmerita\\n\\nOverview\\n\\nThe Delivery Technician is responsible for delivery of medications and supplies to Amerita’s home infusion patient’s residents. The delivery technicians are critical customer experience ambassadors supporting the needs of the patients by providing timely delivery of medication and supplies.\\n\\nResponsibilities\\n\\n• Plans and completes an efficient delivery or patient’s medication and supplies \\n• Loads delivery vehicle with patient’s medication and supplies scheduled for delivery \\n• Delivers patient’s medication and supplies to correct addresses, obtaining signatures and proof of receipt when necessary \\n• Picks up equipment along the scheduled route, including items to be returned, company orders, and other items as requested \\n• Maintains basic records of truck mileage and deliveries made \\n• Ensures that delivery vehicle receives basic service according to maintenance schedule; reports larger service needs and mechanical issues to supervisor \\n• Maintains and clean and organized delivery vehicle in accordance with ACHC accreditations standards \\n• Assists in general warehouse duties when delivery route is completed, as needed and eligible per branch warehouse coordinators criteria \\n• Performs other related duties as assigned\\n\\n\\nQualifications\\n\\n• High School Diploma/GED or equivalent, preferred \\n• Excellent customer service orientation \\n• Ability to drive safely \\n• Ability to use navigation tools such as onboard GPS, smartphone apps, and/or web-based or physical maps \\n• Ability to plan delivery routes \\n• Ability to maintain basic logs and records \\n• Ability to carry out a series of instructions without constant supervision \\n• Ability to remain professional and courteous at all times\\n\\n\\nAbout Our Line Of Business\\n\\nAmerita is a specialty infusion company focused on providing complex pharmaceutical products and clinical services to patients outside of the hospital. Committed to excellent service, our vision is to combine the administrative efficiencies of a large organization with the flexibility, responsiveness and entrepreneurial spirit of a local provider. For more information about Amerita, please visit www.ameritaiv.com . Follow us on Twitter and professionalnetwork .\\n\\n Salary Range\\n\\nUSD $12.00 - $15.00 / Hour"
        ],
        [
         "55c15892-65b1-571b-b107-a472b5ba8553",
         "Qualified Gas Engineer - Slough",
         "Qualified Gas Engineer\\n\\nUxbridge Road, Slough, Berkshire, SL2 5NA\\n\\nBasic salary up to £43,430* per annum\\n\\n• Plus earn more through standby and call-out allowances and performance bonuses. \\n• Conditions apply\\n\\n\\n\\nLet’s fuel your career and help you thrive.\\n\\nAbout The Role\\n\\nAs part of our Emergency Response Team, you’ll be the first on the scene at customers’ homes, which makes you the face of our brand for people who are worried about potential gas escapes or carbon monoxide activated alarms.\\n\\nSometimes you’ll be dealing with the emergency services on behalf of our customers, making you part of a team that’s responsible for protecting people’s lives. They could be vulnerable, elderly, or simply looking for help, and it’s that level of empathy, plus the pride you’ll feel from caring for people and keeping them safe in their homes that could make you a Cadent person.\\n\\nIt’s a role where no two days are the same, so from installation, replacement, and maintenance of gas meters for our home and business customers, to high rise and gas safety regulation surveys, to fitting cooker safety valves, when we say it’s a varied role, we mean it.\\n\\nSo, what’s in it for you?\\n\\n• 33 days holiday, inclusive of bank holidays\\n• A company van (Work purpose use only)\\n• Subsidised Gympass membership\\n• Pension Scheme – with company contributions double matched up to 12%\\n• Retail and Leisure discounts \\n• Flexible Benefits, including private medical, cycle2work scheme, car lease, gadget discounts, plus much more!\\n• Annual performance bonus\\n• Unlimited access to our Occupational Health and Employee Assistance Programme services – Caring for your physical and mental wellbeing\\n• Continuous support, learning, and development to help you soar in an environment where you’ll feel you belong.\\n\\n\\n\\nA Bit About Us\\n\\nWe’re Cadent Gas, and we’re changing the face of energy forever.\\n\\nWe deliver gas to eleven million homes and businesses from the North West to North London, whilst operating and looking after the largest gas distribution network in the UK and managing the national gas emergency service freephone line on behalf of the whole gas industry.\\n\\nWe’ve built a place where everyone belongs, and we want you to be a part of it.\\n\\nYou can help us keep people warm, protect the planet, and enjoy tons of support and development opportunities to help you thrive because together, we’ll fuel a career as unique as you are.\\n\\nWhat are we looking for?\\n\\nWe’re looking for excellent communication skills and the ability to keep calm under pressure. You’ll also need a CESP1 or CMA1 certificate for this role, as well as experience working within a gas environment, including good knowledge of gas appliances; testing, purging and the commissioning of pipework.\\n\\nAn understanding of Standards, Legislation, Codes of Practice and Health and Safety is also important, and you’ll need a full UK driving licence too.\\n\\nBut ultimately, it’s about pride, purpose, thinking on your feet, and taking ownership. That’s what will make you a perfect fit in our team.\\n\\nDon’t meet every single requirement listed? We would still love to hear from you! ... Understanding, learning, and celebrating what makes us different, as well as what we have in common, is good for us as individuals and enables us to work better together as one team. We provide our own learning and development programmes, providing you with access to our learning tools to help you develop the skills needed to soar at Cadent.\\n\\nSo, what are you waiting for? Apply today and let’s start fuelling your career at Cadent.\\n\\nPrimary Location\\n\\nUnited Kingdom-Berkshire-Slough\\n\\nOther Locations\\n\\nUnited Kingdom-London-London City\\n\\nJob\\n\\nOperations\\n\\nOrganization\\n\\nOperations (COO)\\n\\nJob Posting\\n\\n12-Feb-2024, 12:22:30 PM"
        ],
        [
         "d9149698-0453-5fcc-83a6-f37d40a45cce",
         "District Sales Manager - South Valley/Fresno, CA",
         "Mattress Firm\\n\\nThe most trusted authority on sleep\\n\\nWe’re no ordinary mattress company. In just over 30 years, Mattress Firm has become America’s largest specialty mattress retailer. With more than 2,400 stores nationwide and a team of more than 6,000 Sleep Experts®, we have helped millions of people get better sleep. That’s who we are and what we do—because everyone deserves a great night’s sleep.\\n\\nHelping people sleep well so they live well\\n\\nDid you know we spend a third of our lives in bed? That’s why our priority is making sure everyone’s eight hours are perfect. We’re looking for passionate, ambitious people: innovators, action takers, growth seekers and life changers. Your journey will begin with an extensive, customer-centric retail sales training program that empowers you to create a life-changing in-store experience and help customers build the perfect sleep sanctuary. Helping people sleep well so they live well is at the core of what we do. So, join us in making a difference—let’s help people say goodbye to Junk Sleep and hello to the sleep of their dreams.\\n\\nWhy work for Mattress Firm?\\n\\n• Our teams are passionate, and our culture is inspiring\\n• You’ll be surrounded by ambitious people: innovators, action takers; life changers that will inspire you\\n• Excellent growth opportunities through education and development programs\\n• Great benefits\\n• Get paid on demand \\n• Mental health and life resources\\n• Great employee discounts:\\n• mattresses and sleep accessories\\n• cell phones and electronics\\n• travel\\n• car and home loans\\n• and more\\n• Medical, dental, prescription, and vision plans\\n• 401(k) with employer matching\\n• Some positions have base pay or uncapped commission\\n\\nJob Description\\n\\nA District Manager executes the strategic business objectives of a defined district in sales management, store operations, merchandising, and profitability.\\n\\n• Manages overall sales performance of district.\\n• Maximizes store transaction closing ratios.\\n• Develops and implements in-store strategies to negate competitor’s efforts.\\n• Drives sales to meet or exceed budget.\\n• Executes the company’s selling program.\\n• Executes sales process for new and existing merchandise.\\n• Maintains awareness of competitor’s advertisements and services offered.\\n• Resolves customer issues as needed.\\n• Conducts scheduled sales meetings.\\n• Management: Manages overall financial performance of the district.\\n• Manages targeted variable expenses of the district.\\n• Reviews performance and provides development of each associate.\\n• Focuses on the development of Store Managers.\\n• Manages the strategic action plans for the district.\\n• Approves the schedule for all associates.\\n• Ensures all associates are assigned to the appropriate location for period end payroll reports.\\n• Prepares weekly flash reports for Regional Manager.\\n• Manages the execution of the clearance center program and pricing.\\n• Manages inventory and inventory shrinkage levels.\\n• Audits store cash handling procedures.\\n• Ensures federal, state, and local laws, company policies and operating procedures are followed.\\n• Ensures that all lay-a-ways and refunds are current.\\n• Maintains company store appearance standards throughout district.\\n• Manages new store openings, remodels, and closings.\\n• Recruits, interviews, and hires partners.\\n\\n\\nLife at Mattress Firm\\n\\nOur mission and vision\\n\\nAs America’s most trusted authority on sleep, our mission is to help people find the mattress of their dreams. With low prices, the best brands, and the knowledge of our Sleep Experts®, we make it easy to get a great night’s sleep, every night.\\n\\nHistory\\n\\nIn just over 30 years, Mattress Firm has become America’s largest specialty mattress retailer. With more than 2,400 stores nationwide and a team of more than 6,000 Sleep Experts®, we have helped millions of people get better sleep.\\n\\nBenefits Beyond a Paycheck\\n\\nWe support you just like we support our customers—that’s why we offer an extensive range of benefits designed to support you, your family, and your future.\\n\\nDiversity, equity and inclusion\\n\\nWe believe in an inclusive environment that attracts, develops, and retains top talent. Our Diversity, Equity & Inclusion Council works to promote the cultivation of a work environment that embraces and celebrates all the individuals, backgrounds and perspectives that reflect the communities we serve.\\n\\nGiving back to our community\\n\\nWhether it’s volunteering at a foster care agency, food bank or even an animal shelter, we believe in giving back to our associates and the communities they live and work in. That's why we're proud to support organizations dedicated to helping people follow their dreams and thrive.\\n\\nPay Range:\\n\\n$80,000 - 95,000.\\n\\nNow don’t fall asleep out there… the sooner that we receive your application, the closer you are to the career of your dreams!\\n\\nDIVERSE CANDIDATES ARE ENCOURAGED TO APPLY\\n\\nMattress Firm is an equal employment opportunity employer and is committed to maintaining a non-discriminatory work environment, and does not discriminate against any applicant or employee for employment on the basis of race, color, religion, sex, national origin, age, disability, veteran status, marital status, sexual orientation, gender identity, or any other characteristic protected by applicable law. Mattress Firm is committed to creating a dynamic work environment that values diversity and inclusion, respect and integrity, customer focus, and innovation.\\n\\nPay Range:\\n\\n80,000 - 95,000.\\n\\nNow don’t fall asleep out there… the sooner that we receive your application, the closer you are to the career of your dreams!\\n\\nDIVERSE CANDIDATES ARE ENCOURAGED TO APPLY\\n\\nMattress Firm is an equal employment opportunity employer and is committed to maintaining a non-discriminatory work environment, and does not discriminate against any applicant or employee for employment on the basis of race, color, religion, sex, national origin, age, disability, veteran status, marital status, sexual orientation, gender identity, or any other characteristic protected by applicable law. Mattress Firm is committed to creating a dynamic work environment that values diversity and inclusion, respect and integrity, customer focus, and innovation."
        ],
        [
         "f3214678-cafc-5d3a-b4cb-bd7c22be0379",
         "Wire Drawer Technician",
         "We are looking candidates for a Manufacturing Technician to work as a Wire Drawer Technician for a leading specialty metal products manufacturer conveniently located in Shrewsbury, MA, This is second shift position with a four day work week, however, initial training will be on first shift.\\n\\nRESPONSIBILITIES:\\n\\nThe primary purpose of this position is for the cleaning, insulation and inspection of superconducting wires.\\n\\nThese responsibilities include:\\n\\n• set-up, tend and operate multiple production machines / processes; load and unload spools; weigh materials; \\n• maintain chemical baths; maintain and log all information required for supporting quality and traceability; adjust and change parts on machinery; perform electrical and quality assurance tests; clean/lubricate production machines; \\n• perform tests and checks on products; operate ovens; operate micrometer and other testing equipment; handle bare product; move/store raw materials and finished goods; prepare final product for shipment; maintaining work areas and equipment in a clean orderly condition.\\n\\n\\n\\nJOB REQUIREMENTS:\\n\\n• High school diploma, GED or equivalent experience\\n• Mathematical skills\\n• Ability to use production tools and use / read a micrometer\\n• Good vision and eye-hand coordination\\n• Prior manufacturing experience with the ability to prioritize and pay close attention to detail\\n• Ability to track and record production results and follow priorities to ensure on-time completion of tasks\\n• Prior wire processing / handling experience ( such as drawing/extrusion/cabling ) is a plus\\n\\n\\n\\nPHYSICAL DEMANDS:\\n\\n• Frequent lifting, pushing, pulling, squatting, stooping, and bending is required\\n• Must independently lift and carry up to 50 pounds;\\n• Must lift and move, with mechanical lifts and by rolling, up to 400 pounds.\\n\\n\\n\\nWORK ENVIRONMENT/CONDITIONS:\\n\\n• Electrical hazards, possible fumes, airborne particles, toxic or caustic chemicals /odors\\n• moveable mechanical parts\\n• moderate to loud noise level\\n\\n\\n\\nEMPLOYEMENT BENEFITS:\\n\\n• Health, dental, disability, and life insurance\\n• Paid vacation and sick time\\n• 401K and profit sharing programs\\n• Tuition reimbursement"
        ],
        [
         "9e82802c-3105-5f4a-b279-e2120902192a",
         "Service Technician - Enid, OK",
         "Job Description\\n\\nATTENTION MILITARY AFFILIATED JOB SEEKERS - Our organization works with partner companies to source qualified talent for their open roles. The following position is available to Veterans, Transitioning Military, National Guard and Reserve Members, Military Spouses, Wounded Warriors, and their Caregivers. If you have the required skill set, education requirements, and experience, please click the submit button and follow the next steps. 1/21//24 Job Description\\n\\nPerforms basic diagnostics, service repairs and maintenance work on customer and/or dealer-owned agricultural. May require some direction or guidance from the Service Manager or Shop Foreman. Maintains professional communication with all company locations to insure information flows in an appropriate manner.\\n\\nEnid, OK - Agriculture Service Technician / Diesel Mechanic Duties:\\n\\n• Performs basic agricultural equipment diagnostics and determines what repairs are needed, if required.\\n• Performs basic agricultural equipment repairs as requested by the supervisor.\\n• Participates in all job-related training and development.\\n• Prepares all reports and forms required in conjunction with work assignments.\\n• Maintains current product knowledge of John Deere and competitive products.\\n• Maintains condition of vehicles, inventory, tools, and equipment.\\n• Other duties as assigned by supervisor.\\n• Safety Sensitive\\n\\n\\nEnid, OK - Agriculture Service Technician / Diesel Mechanic Pay & Benefits:\\n\\n• Competitive Pay (Plus Overtime Pay)\\n• Health, Dental, Vision Insurance (Company sponsored Healthcare starts the first day of the month after you start with P&K)\\n• Company Paid Life Insurance\\n• 401k Match\\n• Paid Time Off & Holiday Pay (Starting Day 1 with P&K!)\\n• Safety Sensitive Position\\n\\n\\nAuto req ID\\n\\n403346BR\\n\\nMinimum Education Required\\n\\nCertifications/Security Clearances/Other (Enter Below)\\n\\nJob_Category\\n\\nTechnician\\n\\nQualifications\\n\\nCertificates/Security Clearances/Other\\n\\nEnid, OK - Agriculture Service Technician / Diesel Mechanic Skills & Qualifications:\\n\\n• Prior experience as a diesel mechanic preferred.\\n• Proven knowledge of methods, materials, tools, and techniques used in the repair of agricultural equipment.\\n• Good knowledge of mechanical, electrical, and hydraulic systems.\\n• Ability to use standard computer software applications such as diagnostic software and internet functions.\\n• Good skills in operating vehicles and equipment used for diagnostic purposes.\\n• High School Diploma or GED equivalent.\\n\\n\\nCity*\\n\\nEnid\\n\\nState*\\n\\nOklahoma\\n\\nJob Code\\n\\nAgriculture Agriculture\\n\\nAffiliate Sponsor\\n\\nJohn Deere"
        ],
        [
         "6ad7b29c-16b1-5481-b4f8-7ce07fd84c30",
         "Dozer Operator",
         "Start Date: Immediately Pay Rate: $30-$40/ hr depending on experience Benefits: Accommodation Electricity Career Progression Job Description: A position is available for a suitably experienced Dozer Operator to join a large dryland farming operation in Mungindi on the NSW and QLD border. Previous experience in operating D6 and D7H is essential to perform all duties of tree clearing, fence lines, and new and existing development of their country. Contracting work will also be required, as well as some farming duties if the applicant has the relevant machinery experience. This position will approximately run for the next 12 months, with the opportunity to stay on and be a permanent member of the team, depending on the successful applicant’s abilities. On farm accommodation is available in a single self-contained, air conditioned donga with an ensuite, and electricity and internet is also provided. You will predominately be working autonomously, so your own vehicle and tools is essential. The client are looking for a mechanically minded person, who is preferably keen to jump into the farming side of the operation as well during harvest seasons. This is not a requirement, however a permanent position will be offered to someone who wants a bit of variety, and a longevity career. Our client run a reputable farming and grazing enterprise, consisting of 11,000 acres, spanning over 40 years in the industry. Previous experience with harvesting wheats, cereals and legumes will be advantageous, as will a current truck licence. If you haven’t been to Mungindi, it is located uniquely on the New South… Click here to view more detail / apply for Dozer Operator"
        ],
        [
         "0dbabdc1-acbe-56c5-a660-cfdd24b635a0",
         "District Proctor- Chester Community Charter",
         "About Marker Learning:\\n\\n1 in 5 students has a learning disability such as dyslexia, which makes it harder for them to read, spell and write--despite their intelligence. While receiving a proper evaluation for a learning disability could be the most impactful event in a student's life, only 4% of students receive a diagnosis because of the high costs of evaluations and lack of access to qualified psychologists. Undiagnosed students are 3x more likely to drop out of high school, 5x more likely to be unemployed, and tend to experience elevated levels of anxiety and depression. It's estimated that early diagnosis of dyslexia and other learning disabilities could save the US over 72 billion dollars of economic impact and drastically improve the lives of millions of people.\\n\\nMarker Learning is on a mission to make learning disability (e.g. dyslexia) assessments and diagnosis easier and more affordable for schools and parents. By leveraging proprietary technology developed by leading experts at Johns Hopkins, the end-to-end evaluation is completed in half the time and at 1/10th the cost of typical in person evaluations. We are a rapidly growing start up, backed by some of the most mission driven and reputable venture capital firms and education non-profits.\\n\\nJoin us in our mission to inspire and support all students on their unique learning paths.\\n\\nMarker Learning is looking for an onsite District Proctor to help schedule and proctor evaluations at Chester Community Charter School. To help us achieve our mission, we are looking to hire a District Proctor who is excellent at organization, developing and following processes, and working with students. This is a part-time role until May 31, 2024, and will report to our Client Success Leader at the District.\\n\\nAs a key member of our Client Success team, here's what you'll do:\\n\\nKey Outcomes:\\n\\n• Work with Marker Learning and School Personnel to schedule students who are identified by the district special education teams\\n• Remove students from class and place them in front of a computer in the appropriate testing area \\n• Supervise the students while they complete virtual assessments\\n• Ensure the security of test materials and maintain test integrity\\n• Verify student identification and record/submit information according to protocols\\n• Monitor the exam room to ensure that no prohibited materials, such as notes or electronic devices, are being used\\n• Identify ways in which Marker Learning can provide a better student and school district experience\\n\\n\\nThe most important skills for the role are*:\\n\\n• Attention to detail\\n• Ability to follow and improve a scheduling and proctoring process\\n• Ability to use a computer and software programs such as Zoom\\n• Ability to develop a rapport with students\\n• Ability to travel to the designated school locations consistently\\n• Knowledge of a school system and the day-to-day activities of a typical school\\n\\n\\nInterested? Great! Here's what you should know:\\n\\nAt Marker Learning, we know that our people are indispensable to achieving our mission, and we are building an inclusive environment that enables everyone to do their best work. In that spirit, we deliberately hire people from all walks of life — including, but not limited to, race, gender identity, sexual orientation, and disability status. We'd love to hear from you if you're motivated by our mission and eager to contribute to our team and culture.\\n\\nCompensation:\\n\\nWe're committed to an inclusive, consistent, and equitable approach to compensation and anticipate that this position will earn 18-20/hr per hour.\\n\\nInterested? Great! Here's what you should know:\\n\\nAt Marker Learning, we know that our people are indispensable to achieving our mission, and we are building an inclusive environment that enables everyone to do their best work. In that spirit, we deliberately hire people from all walks of life — including, but not limited to, race, gender identity, sexual orientation, and disability status. We are a mission-driven team out to provide reliable and affordable testing to every student who requires it, and we believe that Marker Learning has the potential to change the evaluation landscape across the country. We'd love to hear from you if you're motivated by our mission and eager to contribute to our team and culture!\\n\\nWe are dedicated to building a diverse and inclusive workforce. Marker Learning provides equal employment opportunities (EEO) to all applicants for employment without regard to race, color, religion, gender, sexual orientation, national origin, age, disability, genetic information, marital status, amnesty, or status as covered veteran in accordance with applicable federal, state, and local laws."
        ],
        [
         "6e12ee46-621c-554c-af9a-e540e185f798",
         "Laundry Worker",
         "Who We Are\\n\\nHealthcare Services Group (HCSG) is an experienced partner managing housekeeping, laundry, dining, and nutritional services within the healthcare market. For over 45 years, we have provided essential services to thousands of healthcare communities across the country. As one of America's Most Trustworthy Companies, we have been recognized for treating our customers and employees fairly and pursuing excellence via an ever-evolving and expanding focus on training and the development of team members at every level.\\n\\nOur Company Purpose & Values\\n\\nOur Purpose is Fostering Fulfillment In Communities.\\n\\nOur Values, Integrity, Collaboration, Empowerment, Passion & Perseverance (aka Grit) influence our decisions and the actions that follow in and out of the workplace.\\n\\nWho You Are\\n\\nYou are driven, ambitious, have a personal calling for serving people, and desire to positively impact your community. You enjoy collaborating with others, aren't afraid to roll up your sleeves, and go beyond to get the job done. You have a passion and desire to deliver the highest customer and resident experience every day.\\n\\nWhat We Offer\\n\\nHCSG offers a comprehensive array of benefits to support our associates and their family’s health and well-being. Our goal is to promote welfare and health and enhance our associates' and their families' overall quality of life.\\n\\n• Benefits - FREE Telemedicine and Prescription Discount Program along with an array of medical, dental, vision, and other supplemental health plans. *Availability based on state.\\n• Training - We take the development and education of our associates very seriously. Our promotions-from-within philosophy opens the door to a stimulating and robust career with HCSG!\\n• Employee Assistance Programs - FREE access for employees and their families for health, financial, and family services to support our employees' welfare and mental and physical health. \\n• Employee Recognition Programs - We strive to recognize employees who live out our Company Purpose and are committed to #GoingBeyond for our Client, Resident, and Employee Communities!\\n• Going Beyond Assistance Fund - A 501(c)(3) nonprofit formed by HCSG to serve as a charitable employer-sponsored disaster relief organization to provide emergency, hardship, and disaster assistance, to HCSG employees and their dependents or family members.\\n• Paid - Holidays and Vacation for eligible employees.\\n• Employee Stock Purchase Plan - Investment opportunity available to all eligible employees after two years of service.\\n• Nationwide Opportunities - Transfers are available Nationwide – great for active Military and Family!\\n\\n\\n\\nKeeping You Safe\\n\\n• The safety and health of our employees and that of the resident communities that we serve are our Company's most significant priority. \\n• Personal Protective Equipment - All employees will be provided and required to wear appropriate PPE for all functions. \\n• COVID-19 Vaccination - Employees will be required to comply with all policies, as required by State, Local, and/or our Customers\\n\\n\\n\\nWhy HCSG\\n\\nAt HCSG, you will find an environment that is fulfilling, collaborative, committed, stimulating, and structured to help you succeed in serving our communities. We offer engaging opportunities for every phase of your career. HCSG is committed to providing growth and leadership opportunities to see you succeed!\\n\\nPosition Summary\\n\\n• Laundry Worker - Responsible for collecting, sorting, and loading soiled linen into the washer(s) and loading clean linens into the dryer(s), folding clean linens, counting and recording the linen processed each day, making proper deliveries to units and, cleaning and sanitizing the work area including; machines, work tables, and sorting area.\\n• Safety - Utilize protective gear in all appropriate functions. Responsible for the safe and proper mixing and use of cleaning solutions while adhering to all safety precautions. Reporting equipment/cleaning product needs and or malfunctions to supervisor in a timely fashion. Ensure the established standards, safety, and quality guidelines are met. Follow infection control and universal precautions policies and procedures to ensure that a sanitary environment is achieved at all times. Follow proper reporting, isolation, and handwashing procedures/techniques.\\n• Punctuality - Consistent attendance and punctual arrival. Timely completion of assigned tasks according to schedule. Respond to the paging system in a timely and appropriate manner.\\n• Customer Experience - Positively represents HCSG by following instructions, being courteous, and cooperative with supervisor, co-workers, and client staff.\\n• Resident Experience - Positive, pleasant, and tactful interactions with residents, staff, and facility guests.\\n\\n\\n\\nQualifications\\n\\n• Demonstrate a positive attitude with the ability to follow oral and written instructions, and perform routine, repetitive tasks daily.\\n• After completing all appropriate training, utilize leadership skills to accomplish all responsibilities without supervision and do so without injury to oneself or other individuals.\\n• A high school diploma or equivalent is preferred.\\n• Must be able to be at work as scheduled and on time.\\n• Compliance with COVID-19 Vaccination Policies, as required by State, Local, and/or Customers.\\n• Must be able to lift/carry a maximum of 50 pounds, push/pull a maximum of 50 pounds, stand, sit, bend and walk for extended periods. \\n• Must be able to perform routine, repetitive tasks continuously.\\n• Must be able to work around food and cleaning products.\\n• Must live in the service area.\\n\\n\\n\\nHCSG is proud to be an equal opportunity employer committed to all employees and applicants regardless of race, color, religion, sex, national origin, age, disability, genetics, ethnicity, pregnancy status, gender identity, sexual orientation, marital status, political opinions, or affiliations, veteran status, or other legally protected classes. HCSG also complies with applicable state and local laws and federal law requirements that govern nondiscrimination in every location where we operate.\\n\\nHCSG is committed to fostering and supporting a vibrant company culture that encourages employees to bring their authentic and best selves to serve our resident and client communities. We believe all employees, regardless of position, age, race, religion, beliefs, socioeconomic background, or gender, should work in an environment where they are safe, respected, and treated fairly, with their viewpoints, thoughts, and ideas encouraged and embraced."
        ],
        [
         "34c8a4f6-fa47-5b2b-a135-e68d954919ec",
         "Senior Threat/Malware Researcher (Bangkok based, relocation provided)",
         "About Agoda\\n\\nAgoda is an online travel booking platform for accommodations, flights, and more. We build and deploy cutting-edge technology that connects travelers with more than 3.6 million accommodations globally. Based in Asia and part of Booking Holdings, our 6,000+ employees representing 90+ nationalities foster a work environment rich in diversity, creativity, and collaboration. We innovate through a culture of experimentation and ownership, enhancing the ability for our customers to experience the world.\\n\\nGet to Know our Team:\\n\\nThe Security Department oversees security, compliance, GRC, and security operations for all Agoda. We are vigilant in ensuring there is no breach or vulnerability threatening our company or endangering our employees in order to keep Agoda safe and protected. This would be a great challenge for those who want to work with the best technology in a dynamic and advanced environment.\\n\\nThe Opportunity:\\n\\nYou will be immersed in research involving the very latest cyber threats and unprecedented attacks, specifically those targeting the travel sector. Tracking these hacker groups and their evolving tactics will be a pivotal aspect of your role. Given the nature of such challenges, which change on a weekly basis, innovative and outside-the-box solutions are not just encouraged, they are a necessity.\\n\\nIn this Role, you’ll get to:\\n\\n• Replicate malware in isolated environment and check security posture, and advice improvements\\n• Ability to identify TTPs used, malware family and threat actors based from attack information\\n• Analyze each step of the attack cycle and come up with detection ideas to mitigate them\\n• Working knowledge on top password stealers like Vidar,Redline\\n• Hunting to find undetected malware, DLP threats and API weaknesses\\n• Author custom detection rules to provide extra layer of security besides products\\n• Ability to document and produce research content in form of reports\\n• Follow in the wild attacks and tricks on a daily basis, and protect Agoda against these attacks in form of attack surface reduction / hunt rule\\n\\n\\nWhat you’ll Need to Succeed:\\n\\n• Bachelors in Computer Science or related degree\\n• Experience 5 years in cybersecurity research\\n• Malware analysis (static and behavioral), network PCAP and memory analysis\\n• Fundamentals of malware and phishing attacks\\n• Able to separate malicious behavior from clean activity in SIEM logs\\n• Demonstration of published research in public domain is a big plus (Whitepapers,Blogs,GitHub etc.)\\n• Good at pattern recognition and thinking out of the box solutions\\n• Scripting knowledge (Python, PowerShell)\\n• Passionate with fighting Cybercriminals, and up to date with latest security news\\n• Good communication skills in English to communicate security risks to other teams\\n• Relocation package is provided for this position*\\n• Hybrid Working Model\\n• WFH Set Up Allowance\\n• 30 Days of Remote Working from anywhere globally every year\\n• Employee discount for accommodation globally\\n• Global team of 90+ nationalities\\n• 40+ offices and 25+ countries\\n• Annual CSR / Volunteer Time off\\n• Benevity Subscription for employee donations\\n• Volunteering opportunities globally\\n• Free Headspace subscription\\n• Free Odilo & Udemy subscriptions\\n• Access to Employee Assistance Program (third party for personal and workplace support)\\n• Enhanced Parental Leave\\n• Life, TPD & Accident Insurance\\n\\n\\n#sanfrancisco #sanjose #losangeles #sandiego #oakland #denver #miami #orlando #atlanta #chicago #boston #detroit #newyork #portland #philadelphia #dallas #houston #austin #seattle #sydney #melbourne #perth #toronto #vancouver #montreal #shanghai #beijing #shenzhen #prague #Brno #Ostrava #cairo #alexandria #giza #estonia #paris #berlin #munich #hamburg #stuttgart #cologne #frankfurt #dusseldorf #dortmund #essen #Bremen #leipzig #dresden #hanover #nuremberg #athens #hongkong #budapest #jakarta #bali #dublin #telaviv #jerusalem #milan #rome #venice #florence #naples #turin #palermo #bologna #tokyo #osaka #yokohama #nagoya #okinawa #fukuoka #sapporo #kualalumpur #malta #amsterdam #oslo #manila #warsaw #krakow #bucharest #doha #alrayyan #moscow #saintpetersburg #riyadh #jeddah #mecca #medina #singapore #capetown #johannesburg #seoul #barcelona #madrid #stockholm #zurich #taipei #tainan #taichung #kaohsiung #bangkok #Phuket #istanbul #dubai #abudhabi #sharjah #london #manchester  #edinburgh #kiev #hcmc #hanoi #amsterdam #bucharest #lodz #wroclaw #poznan #katowice #rio #salvador #newdelhi #Hyderabad #bangalore #Mumbai #Bengaluru #Chennai #Kolkata #Lucknow #bandung #yokohama #nagoya #okinawa #fukuoka #IT #4\\n\\nEqual Opportunity Employer\\n\\nAt Agoda, we pride ourselves on being a company represented by people of all different backgrounds and orientations. We prioritize attracting diverse talent and cultivating an inclusive environment that encourages collaboration and innovation. Employment at Agoda is based solely on a person’s merit and qualifications. We are committed to providing equal employment opportunity regardless of sex, age, race, color, national origin, religion, marital status, pregnancy, sexual orientation, gender identity, disability, citizenship, veteran or military status, and other legally protected characteristics.\\n\\nWe will keep your application on file so that we can consider you for future vacancies and you can always ask to have your details removed from the file. For more details please read our privacy policy .\\n\\nTo all recruitment agencies: Agoda does not accept third party resumes. Please do not send resumes to our jobs alias, Agoda employees or any other organization location. Agoda is not responsible for any fees related to unsolicited resumes."
        ],
        [
         "3f4f1e70-13ae-5e4a-9bb2-9ea98cf18ffc",
         "Resident Care Companion or STNA - DSL Elyria",
         "If you have a passion for helping others… If it is your calling to make someone’s day better… If you want to build meaningful relationships with those you work with… Then it’s time for you to join the Danbury family! Our residents and team members can’t wait to meet you. We are looking for new team members who care like we do. We care for our residents, our co-workers, our families, our vendors… We Care. That’s the Danbury Difference. We are currently seeking Resident Care Companion or STNA for our community. We have full time positions open.\\n\\nOur Memory Care Resident Care Companion or STNA responsibilities include:\\n\\n• Resident Care Companions and STNAs enjoy interacting with residents while engaging in the activities of daily living.\\n• Assist residents with daily personal care routines such as showers, bathing, personal hygiene, etc.\\n• Help residents prepare for and escort them to meals, activities, social programs and appointments.\\n• Assist residents with various other daily needs as necessary.\\n\\n\\nThe Experience And/or Skills Required For This Position Are\\n\\n• STNA certification required for STNA positions.\\n• No certification required for Resident Care Companion positions.\\n• Experience working in a similar capacity in a Senior Living setting is helpful,but not required.\\n• A great outlook, cheerful disposition, and love of seniors are a must.\\n\\n\\nWhen you join our team in a full-time position, you will enjoy a great benefit package that includes:\\n\\n• Company paid Short Term Disability, Long Term Disability, Life and AD&D\\n• Medical, Dental, Vision, Additional Voluntary Life, Additional Voluntary AD&D\\n• 401(k)\\n• Paid Time Off\\n• Tuition Reimbursement All our employees, full and part time, can enjoy these great perks:\\n• On Demand Pay available\\n• Perfect Attendance Bonus available\\n• Referral Bonus opportunities\\n• Worked Holidays Paid @ Double Time!\\n• Raises every quarter (Pay increase every 3 months) If you’re ready to make a difference in the lives of our residents and our teams, apply now.\\n\\n\\nDanbury does not require employees to be vaccinated.\\n\\nDanbury Senior Living provides equal employment opportunities to all employees and applicants for employment and prohibits discrimination and harassment of any type without regard to race, color, religion, age, sex, national origin, disability status, genetics, protected veteran status, sexual orientation, gender identity or expression, or any other characteristic protected by federal, state or local laws. This policy applies to all terms and conditions of employment, including recruiting, hiring, placement, promotion, termination, layoff, recall, transfer, leaves of absence, compensation and training.\\n\\nIND123"
        ]
       ],
       "datasetInfos": [],
       "dbfsResultPath": null,
       "isJsonSchema": true,
       "metadata": {},
       "overflow": false,
       "plotOptions": {
        "customPlotOptions": {},
        "displayType": "table",
        "pivotAggregation": null,
        "pivotColumns": null,
        "xColumns": null,
        "yColumns": null
       },
       "removedWidgets": [],
       "schema": [
        {
         "metadata": "{}",
         "name": "uuid",
         "type": "\"string\""
        },
        {
         "metadata": "{}",
         "name": "title",
         "type": "\"string\""
        },
        {
         "metadata": "{}",
         "name": "description",
         "type": "\"string\""
        }
       ],
       "type": "table"
      }
     },
     "output_type": "display_data"
    }
   ],
   "source": [
    "def create_uuid(title, description):\n",
    "    obj = {\n",
    "        \"title\": title,\n",
    "        \"description\": description\n",
    "    }\n",
    "    return str(generate_uuid5(obj))\n",
    "\n",
    "create_uuid_udf = udf(create_uuid, StringType())\n",
    "\n",
    "df = df.withColumn(\"uuid\", create_uuid_udf(df[\"title\"], df[\"description\"]))\\\n",
    "        .select(\"uuid\", \"title\", \"description\")\n",
    "\n",
    "display(df)"
   ]
  },
  {
   "cell_type": "markdown",
   "metadata": {
    "application/vnd.databricks.v1+cell": {
     "cellMetadata": {
      "byteLimit": 2048000,
      "rowLimit": 10000
     },
     "inputWidgets": {},
     "nuid": "32f6aabf-966f-4407-a6fd-34f7dd8477aa",
     "showTitle": false,
     "title": ""
    }
   },
   "source": [
    "# Ingest"
   ]
  },
  {
   "cell_type": "markdown",
   "metadata": {
    "application/vnd.databricks.v1+cell": {
     "cellMetadata": {
      "byteLimit": 2048000,
      "rowLimit": 10000
     },
     "inputWidgets": {},
     "nuid": "cfced5c4-5f75-4e94-bebb-74d615e5d981",
     "showTitle": false,
     "title": ""
    }
   },
   "source": [
    "Create the collection in Weaviate:"
   ]
  },
  {
   "cell_type": "code",
   "execution_count": 0,
   "metadata": {
    "application/vnd.databricks.v1+cell": {
     "cellMetadata": {
      "byteLimit": 2048000,
      "rowLimit": 10000
     },
     "inputWidgets": {},
     "nuid": "4289cb1b-e277-40ef-910d-cfa39a43e861",
     "showTitle": false,
     "title": ""
    }
   },
   "outputs": [],
   "source": [
    "if client.collections.exists(\"JobAds\"):\n",
    "    client.collections.delete(\"JobAds\")\n",
    "\n",
    "collection = client.collections.create(\n",
    "    name=\"JobAds\",\n",
    "    vectorizer_config=[\n",
    "        wvcc.Configure.NamedVectors.text2vec_databricks(\n",
    "            name=\"default\", \n",
    "            endpoint=EMBEDDINGS_ENDPOINT\n",
    "        )\n",
    "    ],\n",
    "    generative_config=wvcc.Configure.Generative.databricks(\n",
    "        endpoint=LLM_ENDPOINT, \n",
    "        max_tokens=8092\n",
    "    ),\n",
    "    properties=[\n",
    "        wvcc.Property(\n",
    "            name=\"title\",\n",
    "            data_type=wvcc.DataType.TEXT\n",
    "        ),\n",
    "        wvcc.Property(\n",
    "            name=\"description\",\n",
    "            data_type=wvcc.DataType.TEXT\n",
    "        )\n",
    "    ]\n",
    ")\n",
    "    \n",
    "collection = client.collections.get(\"JobAds\")\n",
    "\n",
    "assert collection.aggregate.over_all(total_count=True).total_count == 0"
   ]
  },
  {
   "cell_type": "markdown",
   "metadata": {
    "application/vnd.databricks.v1+cell": {
     "cellMetadata": {
      "byteLimit": 2048000,
      "rowLimit": 10000
     },
     "inputWidgets": {},
     "nuid": "d213de5e-b041-4073-a7ff-fdc79fbb2327",
     "showTitle": false,
     "title": ""
    }
   },
   "source": [
    "Write the dataframe to Weaviate:"
   ]
  },
  {
   "cell_type": "code",
   "execution_count": 0,
   "metadata": {
    "application/vnd.databricks.v1+cell": {
     "cellMetadata": {
      "byteLimit": 2048000,
      "rowLimit": 10000
     },
     "inputWidgets": {},
     "nuid": "305c895d-65f3-439c-8d1e-803f18a39164",
     "showTitle": false,
     "title": ""
    }
   },
   "outputs": [],
   "source": [
    "df.write.format(\"io.weaviate.spark.Weaviate\") \\\n",
    "    .option(\"batchSize\", 200) \\\n",
    "    .option(\"scheme\", \"https\") \\\n",
    "    .option(\"host\", WEAVIATE_URL.replace(\"https://\",\"\")) \\\n",
    "    .option(\"apiKey\", WEAVIATE_API_KEY) \\\n",
    "    .option(\"header:X-Databricks-Token\", DATABRICKS_TOKEN) \\\n",
    "    .option(\"className\", \"JobAds\") \\\n",
    "    .option(\"id\", \"uuid\") \\\n",
    "    .mode(\"append\") \\\n",
    "    .save()\n"
   ]
  },
  {
   "cell_type": "markdown",
   "metadata": {
    "application/vnd.databricks.v1+cell": {
     "cellMetadata": {
      "byteLimit": 2048000,
      "rowLimit": 10000
     },
     "inputWidgets": {},
     "nuid": "e9a41f0a-b2fb-4db7-b15c-0dce29ca9558",
     "showTitle": false,
     "title": ""
    }
   },
   "source": [
    "# Sanity Checks"
   ]
  },
  {
   "cell_type": "markdown",
   "metadata": {
    "application/vnd.databricks.v1+cell": {
     "cellMetadata": {
      "byteLimit": 2048000,
      "rowLimit": 10000
     },
     "inputWidgets": {},
     "nuid": "d7702551-895e-442c-80c5-5d08877fd093",
     "showTitle": false,
     "title": ""
    }
   },
   "source": [
    "Check that the collection has 10 objects:"
   ]
  },
  {
   "cell_type": "code",
   "execution_count": 0,
   "metadata": {
    "application/vnd.databricks.v1+cell": {
     "cellMetadata": {
      "byteLimit": 2048000,
      "rowLimit": 10000
     },
     "inputWidgets": {},
     "nuid": "aba78a51-9239-40c0-bb3d-341f43b9ed06",
     "showTitle": false,
     "title": ""
    }
   },
   "outputs": [],
   "source": [
    "total_count_in_weaviate = collection.aggregate.over_all(total_count=True).total_count\n",
    "assert total_count_in_weaviate == 10, f\"Expected 10, got {total_count_in_weaviate}\""
   ]
  },
  {
   "cell_type": "markdown",
   "metadata": {
    "application/vnd.databricks.v1+cell": {
     "cellMetadata": {
      "byteLimit": 2048000,
      "rowLimit": 10000
     },
     "inputWidgets": {},
     "nuid": "11eb712b-5cd8-44b2-8689-f45b79307cd3",
     "showTitle": false,
     "title": ""
    }
   },
   "source": [
    "Check that the object has a vector:"
   ]
  },
  {
   "cell_type": "code",
   "execution_count": 0,
   "metadata": {
    "application/vnd.databricks.v1+cell": {
     "cellMetadata": {
      "byteLimit": 2048000,
      "rowLimit": 10000
     },
     "inputWidgets": {},
     "nuid": "8e41874d-5d34-4fa9-8a36-ab87fed20662",
     "showTitle": false,
     "title": ""
    }
   },
   "outputs": [],
   "source": [
    "retry_attempts = 3\n",
    "for attempt in range(retry_attempts):\n",
    "    try:\n",
    "        obj = collection.query.fetch_objects(limit=1, include_vector=True).objects[0]\n",
    "        break\n",
    "    except Exception as e:\n",
    "        if attempt < retry_attempts - 1:\n",
    "            time.sleep(2)  # wait before retrying\n",
    "        else:\n",
    "            raise e\n",
    "vector = obj.vector['default']\n",
    "\n",
    "assert vector\n",
    "assert len(vector) == 1024"
   ]
  },
  {
   "cell_type": "markdown",
   "metadata": {
    "application/vnd.databricks.v1+cell": {
     "cellMetadata": {
      "byteLimit": 2048000,
      "rowLimit": 10000
     },
     "inputWidgets": {},
     "nuid": "c6d10e87-47df-425e-b554-a26adbb9de72",
     "showTitle": false,
     "title": ""
    }
   },
   "source": [
    "Randomly sample the dataframe and check each row is identifcal in weaviate:"
   ]
  },
  {
   "cell_type": "code",
   "execution_count": 0,
   "metadata": {
    "application/vnd.databricks.v1+cell": {
     "cellMetadata": {
      "byteLimit": 2048000,
      "rowLimit": 10000
     },
     "inputWidgets": {},
     "nuid": "cbd91414-66b0-4a16-a6f9-b8d0ef6c56e7",
     "showTitle": false,
     "title": ""
    }
   },
   "outputs": [],
   "source": [
    "# Define the UDF\n",
    "@udf(returnType=BooleanType())\n",
    "def check_weaviate(uuid, title, description):\n",
    "    try:\n",
    "        # Establish a connection to Weaviate\n",
    "        client = weaviate.connect_to_wcs(cluster_url=WEAVIATE_URL,\n",
    "                                          auth_credentials=auth_config)\n",
    "        collection = client.collections.get(\"JobAds\")\n",
    "        \n",
    "        # Fetch the object by UUID\n",
    "        obj = collection.query.fetch_object_by_id(uuid)\n",
    "        \n",
    "        # Check each obj's properties\n",
    "        if obj is not None:\n",
    "            return obj.properties['title'] == title and obj.properties['description'] == description\n",
    "        \n",
    "        return False\n",
    "    \n",
    "    except Exception as e:\n",
    "        print(f\"Error: {str(e)}\")\n",
    "        return False\n",
    "\n",
    "num_not_match = df.sample(0.5) \\\n",
    "    .withColumn(\"is_match\", \n",
    "                check_weaviate(col(\"uuid\"), col(\"title\"), col(\"description\"))) \\\n",
    "    .filter(col(\"is_match\") == False) \\\n",
    "    .count()\n",
    "\n",
    "assert num_not_match == 0\n",
    "\n"
   ]
  },
  {
   "cell_type": "markdown",
   "metadata": {
    "application/vnd.databricks.v1+cell": {
     "cellMetadata": {
      "byteLimit": 2048000,
      "rowLimit": 10000
     },
     "inputWidgets": {},
     "nuid": "69ffb066-e845-4283-b46a-bbf21ad799a4",
     "showTitle": false,
     "title": ""
    }
   },
   "source": [
    "# Search"
   ]
  },
  {
   "cell_type": "markdown",
   "metadata": {
    "application/vnd.databricks.v1+cell": {
     "cellMetadata": {
      "byteLimit": 2048000,
      "rowLimit": 10000
     },
     "inputWidgets": {},
     "nuid": "bc8a3806-5551-4ba4-a299-8c835e8351af",
     "showTitle": false,
     "title": ""
    }
   },
   "source": [
    "Use hybrid search to search for a job:"
   ]
  },
  {
   "cell_type": "code",
   "execution_count": 0,
   "metadata": {
    "application/vnd.databricks.v1+cell": {
     "cellMetadata": {
      "byteLimit": 2048000,
      "rowLimit": 10000
     },
     "inputWidgets": {},
     "nuid": "2619b3f7-343c-459a-a41a-7bb1b9ffe295",
     "showTitle": false,
     "title": ""
    }
   },
   "outputs": [
    {
     "data": {
      "text/html": [
       "<style scoped>\n",
       "  .table-result-container {\n",
       "    max-height: 300px;\n",
       "    overflow: auto;\n",
       "  }\n",
       "  table, th, td {\n",
       "    border: 1px solid black;\n",
       "    border-collapse: collapse;\n",
       "  }\n",
       "  th, td {\n",
       "    padding: 5px;\n",
       "  }\n",
       "  th {\n",
       "    text-align: left;\n",
       "  }\n",
       "</style><div class='table-result-container'><table class='table-result'><thead style='background-color: white'><tr><th>uuid</th><th>title</th><th>description</th></tr></thead><tbody><tr><td>6e12ee46-621c-554c-af9a-e540e185f798</td><td>Laundry Worker</td><td>Who We Are\\n\\nHealthcare Services Group (HCSG) is an experienced partner managing housekeeping, laundry, dining, and nutritional services within the healthcare market. For over 45 years, we have provided essential services to thousands of healthcare communities across the country. As one of America's Most Trustworthy Companies, we have been recognized for treating our customers and employees fairly and pursuing excellence via an ever-evolving and expanding focus on training and the development of team members at every level.\\n\\nOur Company Purpose & Values\\n\\nOur Purpose is Fostering Fulfillment In Communities.\\n\\nOur Values, Integrity, Collaboration, Empowerment, Passion & Perseverance (aka Grit) influence our decisions and the actions that follow in and out of the workplace.\\n\\nWho You Are\\n\\nYou are driven, ambitious, have a personal calling for serving people, and desire to positively impact your community. You enjoy collaborating with others, aren't afraid to roll up your sleeves, and go beyond to get the job done. You have a passion and desire to deliver the highest customer and resident experience every day.\\n\\nWhat We Offer\\n\\nHCSG offers a comprehensive array of benefits to support our associates and their family’s health and well-being. Our goal is to promote welfare and health and enhance our associates' and their families' overall quality of life.\\n\\n• Benefits - FREE Telemedicine and Prescription Discount Program along with an array of medical, dental, vision, and other supplemental health plans. *Availability based on state.\\n• Training - We take the development and education of our associates very seriously. Our promotions-from-within philosophy opens the door to a stimulating and robust career with HCSG!\\n• Employee Assistance Programs - FREE access for employees and their families for health, financial, and family services to support our employees' welfare and mental and physical health. \\n• Employee Recognition Programs - We strive to recognize employees who live out our Company Purpose and are committed to #GoingBeyond for our Client, Resident, and Employee Communities!\\n• Going Beyond Assistance Fund - A 501(c)(3) nonprofit formed by HCSG to serve as a charitable employer-sponsored disaster relief organization to provide emergency, hardship, and disaster assistance, to HCSG employees and their dependents or family members.\\n• Paid - Holidays and Vacation for eligible employees.\\n• Employee Stock Purchase Plan - Investment opportunity available to all eligible employees after two years of service.\\n• Nationwide Opportunities - Transfers are available Nationwide – great for active Military and Family!\\n\\n\\n\\nKeeping You Safe\\n\\n• The safety and health of our employees and that of the resident communities that we serve are our Company's most significant priority. \\n• Personal Protective Equipment - All employees will be provided and required to wear appropriate PPE for all functions. \\n• COVID-19 Vaccination - Employees will be required to comply with all policies, as required by State, Local, and/or our Customers\\n\\n\\n\\nWhy HCSG\\n\\nAt HCSG, you will find an environment that is fulfilling, collaborative, committed, stimulating, and structured to help you succeed in serving our communities. We offer engaging opportunities for every phase of your career. HCSG is committed to providing growth and leadership opportunities to see you succeed!\\n\\nPosition Summary\\n\\n• Laundry Worker - Responsible for collecting, sorting, and loading soiled linen into the washer(s) and loading clean linens into the dryer(s), folding clean linens, counting and recording the linen processed each day, making proper deliveries to units and, cleaning and sanitizing the work area including; machines, work tables, and sorting area.\\n• Safety - Utilize protective gear in all appropriate functions. Responsible for the safe and proper mixing and use of cleaning solutions while adhering to all safety precautions. Reporting equipment/cleaning product needs and or malfunctions to supervisor in a timely fashion. Ensure the established standards, safety, and quality guidelines are met. Follow infection control and universal precautions policies and procedures to ensure that a sanitary environment is achieved at all times. Follow proper reporting, isolation, and handwashing procedures/techniques.\\n• Punctuality - Consistent attendance and punctual arrival. Timely completion of assigned tasks according to schedule. Respond to the paging system in a timely and appropriate manner.\\n• Customer Experience - Positively represents HCSG by following instructions, being courteous, and cooperative with supervisor, co-workers, and client staff.\\n• Resident Experience - Positive, pleasant, and tactful interactions with residents, staff, and facility guests.\\n\\n\\n\\nQualifications\\n\\n• Demonstrate a positive attitude with the ability to follow oral and written instructions, and perform routine, repetitive tasks daily.\\n• After completing all appropriate training, utilize leadership skills to accomplish all responsibilities without supervision and do so without injury to oneself or other individuals.\\n• A high school diploma or equivalent is preferred.\\n• Must be able to be at work as scheduled and on time.\\n• Compliance with COVID-19 Vaccination Policies, as required by State, Local, and/or Customers.\\n• Must be able to lift/carry a maximum of 50 pounds, push/pull a maximum of 50 pounds, stand, sit, bend and walk for extended periods. \\n• Must be able to perform routine, repetitive tasks continuously.\\n• Must be able to work around food and cleaning products.\\n• Must live in the service area.\\n\\n\\n\\nHCSG is proud to be an equal opportunity employer committed to all employees and applicants regardless of race, color, religion, sex, national origin, age, disability, genetics, ethnicity, pregnancy status, gender identity, sexual orientation, marital status, political opinions, or affiliations, veteran status, or other legally protected classes. HCSG also complies with applicable state and local laws and federal law requirements that govern nondiscrimination in every location where we operate.\\n\\nHCSG is committed to fostering and supporting a vibrant company culture that encourages employees to bring their authentic and best selves to serve our resident and client communities. We believe all employees, regardless of position, age, race, religion, beliefs, socioeconomic background, or gender, should work in an environment where they are safe, respected, and treated fairly, with their viewpoints, thoughts, and ideas encouraged and embraced.</td></tr><tr><td>f3214678-cafc-5d3a-b4cb-bd7c22be0379</td><td>Wire Drawer Technician</td><td>We are looking candidates for a Manufacturing Technician to work as a Wire Drawer Technician for a leading specialty metal products manufacturer conveniently located in Shrewsbury, MA, This is second shift position with a four day work week, however, initial training will be on first shift.\\n\\nRESPONSIBILITIES:\\n\\nThe primary purpose of this position is for the cleaning, insulation and inspection of superconducting wires.\\n\\nThese responsibilities include:\\n\\n• set-up, tend and operate multiple production machines / processes; load and unload spools; weigh materials; \\n• maintain chemical baths; maintain and log all information required for supporting quality and traceability; adjust and change parts on machinery; perform electrical and quality assurance tests; clean/lubricate production machines; \\n• perform tests and checks on products; operate ovens; operate micrometer and other testing equipment; handle bare product; move/store raw materials and finished goods; prepare final product for shipment; maintaining work areas and equipment in a clean orderly condition.\\n\\n\\n\\nJOB REQUIREMENTS:\\n\\n• High school diploma, GED or equivalent experience\\n• Mathematical skills\\n• Ability to use production tools and use / read a micrometer\\n• Good vision and eye-hand coordination\\n• Prior manufacturing experience with the ability to prioritize and pay close attention to detail\\n• Ability to track and record production results and follow priorities to ensure on-time completion of tasks\\n• Prior wire processing / handling experience ( such as drawing/extrusion/cabling ) is a plus\\n\\n\\n\\nPHYSICAL DEMANDS:\\n\\n• Frequent lifting, pushing, pulling, squatting, stooping, and bending is required\\n• Must independently lift and carry up to 50 pounds;\\n• Must lift and move, with mechanical lifts and by rolling, up to 400 pounds.\\n\\n\\n\\nWORK ENVIRONMENT/CONDITIONS:\\n\\n• Electrical hazards, possible fumes, airborne particles, toxic or caustic chemicals /odors\\n• moveable mechanical parts\\n• moderate to loud noise level\\n\\n\\n\\nEMPLOYEMENT BENEFITS:\\n\\n• Health, dental, disability, and life insurance\\n• Paid vacation and sick time\\n• 401K and profit sharing programs\\n• Tuition reimbursement</td></tr><tr><td>3f4f1e70-13ae-5e4a-9bb2-9ea98cf18ffc</td><td>Resident Care Companion or STNA - DSL Elyria</td><td>If you have a passion for helping others… If it is your calling to make someone’s day better… If you want to build meaningful relationships with those you work with… Then it’s time for you to join the Danbury family! Our residents and team members can’t wait to meet you. We are looking for new team members who care like we do. We care for our residents, our co-workers, our families, our vendors… We Care. That’s the Danbury Difference. We are currently seeking Resident Care Companion or STNA for our community. We have full time positions open.\\n\\nOur Memory Care Resident Care Companion or STNA responsibilities include:\\n\\n• Resident Care Companions and STNAs enjoy interacting with residents while engaging in the activities of daily living.\\n• Assist residents with daily personal care routines such as showers, bathing, personal hygiene, etc.\\n• Help residents prepare for and escort them to meals, activities, social programs and appointments.\\n• Assist residents with various other daily needs as necessary.\\n\\n\\nThe Experience And/or Skills Required For This Position Are\\n\\n• STNA certification required for STNA positions.\\n• No certification required for Resident Care Companion positions.\\n• Experience working in a similar capacity in a Senior Living setting is helpful,but not required.\\n• A great outlook, cheerful disposition, and love of seniors are a must.\\n\\n\\nWhen you join our team in a full-time position, you will enjoy a great benefit package that includes:\\n\\n• Company paid Short Term Disability, Long Term Disability, Life and AD&D\\n• Medical, Dental, Vision, Additional Voluntary Life, Additional Voluntary AD&D\\n• 401(k)\\n• Paid Time Off\\n• Tuition Reimbursement All our employees, full and part time, can enjoy these great perks:\\n• On Demand Pay available\\n• Perfect Attendance Bonus available\\n• Referral Bonus opportunities\\n• Worked Holidays Paid @ Double Time!\\n• Raises every quarter (Pay increase every 3 months) If you’re ready to make a difference in the lives of our residents and our teams, apply now.\\n\\n\\nDanbury does not require employees to be vaccinated.\\n\\nDanbury Senior Living provides equal employment opportunities to all employees and applicants for employment and prohibits discrimination and harassment of any type without regard to race, color, religion, age, sex, national origin, disability status, genetics, protected veteran status, sexual orientation, gender identity or expression, or any other characteristic protected by federal, state or local laws. This policy applies to all terms and conditions of employment, including recruiting, hiring, placement, promotion, termination, layoff, recall, transfer, leaves of absence, compensation and training.\\n\\nIND123</td></tr></tbody></table></div>"
      ]
     },
     "metadata": {
      "application/vnd.databricks.v1+output": {
       "addedWidgets": {},
       "aggData": [],
       "aggError": "",
       "aggOverflow": false,
       "aggSchema": [],
       "aggSeriesLimitReached": false,
       "aggType": "",
       "arguments": {},
       "columnCustomDisplayInfos": {},
       "data": [
        [
         "6e12ee46-621c-554c-af9a-e540e185f798",
         "Laundry Worker",
         "Who We Are\\n\\nHealthcare Services Group (HCSG) is an experienced partner managing housekeeping, laundry, dining, and nutritional services within the healthcare market. For over 45 years, we have provided essential services to thousands of healthcare communities across the country. As one of America's Most Trustworthy Companies, we have been recognized for treating our customers and employees fairly and pursuing excellence via an ever-evolving and expanding focus on training and the development of team members at every level.\\n\\nOur Company Purpose & Values\\n\\nOur Purpose is Fostering Fulfillment In Communities.\\n\\nOur Values, Integrity, Collaboration, Empowerment, Passion & Perseverance (aka Grit) influence our decisions and the actions that follow in and out of the workplace.\\n\\nWho You Are\\n\\nYou are driven, ambitious, have a personal calling for serving people, and desire to positively impact your community. You enjoy collaborating with others, aren't afraid to roll up your sleeves, and go beyond to get the job done. You have a passion and desire to deliver the highest customer and resident experience every day.\\n\\nWhat We Offer\\n\\nHCSG offers a comprehensive array of benefits to support our associates and their family’s health and well-being. Our goal is to promote welfare and health and enhance our associates' and their families' overall quality of life.\\n\\n• Benefits - FREE Telemedicine and Prescription Discount Program along with an array of medical, dental, vision, and other supplemental health plans. *Availability based on state.\\n• Training - We take the development and education of our associates very seriously. Our promotions-from-within philosophy opens the door to a stimulating and robust career with HCSG!\\n• Employee Assistance Programs - FREE access for employees and their families for health, financial, and family services to support our employees' welfare and mental and physical health. \\n• Employee Recognition Programs - We strive to recognize employees who live out our Company Purpose and are committed to #GoingBeyond for our Client, Resident, and Employee Communities!\\n• Going Beyond Assistance Fund - A 501(c)(3) nonprofit formed by HCSG to serve as a charitable employer-sponsored disaster relief organization to provide emergency, hardship, and disaster assistance, to HCSG employees and their dependents or family members.\\n• Paid - Holidays and Vacation for eligible employees.\\n• Employee Stock Purchase Plan - Investment opportunity available to all eligible employees after two years of service.\\n• Nationwide Opportunities - Transfers are available Nationwide – great for active Military and Family!\\n\\n\\n\\nKeeping You Safe\\n\\n• The safety and health of our employees and that of the resident communities that we serve are our Company's most significant priority. \\n• Personal Protective Equipment - All employees will be provided and required to wear appropriate PPE for all functions. \\n• COVID-19 Vaccination - Employees will be required to comply with all policies, as required by State, Local, and/or our Customers\\n\\n\\n\\nWhy HCSG\\n\\nAt HCSG, you will find an environment that is fulfilling, collaborative, committed, stimulating, and structured to help you succeed in serving our communities. We offer engaging opportunities for every phase of your career. HCSG is committed to providing growth and leadership opportunities to see you succeed!\\n\\nPosition Summary\\n\\n• Laundry Worker - Responsible for collecting, sorting, and loading soiled linen into the washer(s) and loading clean linens into the dryer(s), folding clean linens, counting and recording the linen processed each day, making proper deliveries to units and, cleaning and sanitizing the work area including; machines, work tables, and sorting area.\\n• Safety - Utilize protective gear in all appropriate functions. Responsible for the safe and proper mixing and use of cleaning solutions while adhering to all safety precautions. Reporting equipment/cleaning product needs and or malfunctions to supervisor in a timely fashion. Ensure the established standards, safety, and quality guidelines are met. Follow infection control and universal precautions policies and procedures to ensure that a sanitary environment is achieved at all times. Follow proper reporting, isolation, and handwashing procedures/techniques.\\n• Punctuality - Consistent attendance and punctual arrival. Timely completion of assigned tasks according to schedule. Respond to the paging system in a timely and appropriate manner.\\n• Customer Experience - Positively represents HCSG by following instructions, being courteous, and cooperative with supervisor, co-workers, and client staff.\\n• Resident Experience - Positive, pleasant, and tactful interactions with residents, staff, and facility guests.\\n\\n\\n\\nQualifications\\n\\n• Demonstrate a positive attitude with the ability to follow oral and written instructions, and perform routine, repetitive tasks daily.\\n• After completing all appropriate training, utilize leadership skills to accomplish all responsibilities without supervision and do so without injury to oneself or other individuals.\\n• A high school diploma or equivalent is preferred.\\n• Must be able to be at work as scheduled and on time.\\n• Compliance with COVID-19 Vaccination Policies, as required by State, Local, and/or Customers.\\n• Must be able to lift/carry a maximum of 50 pounds, push/pull a maximum of 50 pounds, stand, sit, bend and walk for extended periods. \\n• Must be able to perform routine, repetitive tasks continuously.\\n• Must be able to work around food and cleaning products.\\n• Must live in the service area.\\n\\n\\n\\nHCSG is proud to be an equal opportunity employer committed to all employees and applicants regardless of race, color, religion, sex, national origin, age, disability, genetics, ethnicity, pregnancy status, gender identity, sexual orientation, marital status, political opinions, or affiliations, veteran status, or other legally protected classes. HCSG also complies with applicable state and local laws and federal law requirements that govern nondiscrimination in every location where we operate.\\n\\nHCSG is committed to fostering and supporting a vibrant company culture that encourages employees to bring their authentic and best selves to serve our resident and client communities. We believe all employees, regardless of position, age, race, religion, beliefs, socioeconomic background, or gender, should work in an environment where they are safe, respected, and treated fairly, with their viewpoints, thoughts, and ideas encouraged and embraced."
        ],
        [
         "f3214678-cafc-5d3a-b4cb-bd7c22be0379",
         "Wire Drawer Technician",
         "We are looking candidates for a Manufacturing Technician to work as a Wire Drawer Technician for a leading specialty metal products manufacturer conveniently located in Shrewsbury, MA, This is second shift position with a four day work week, however, initial training will be on first shift.\\n\\nRESPONSIBILITIES:\\n\\nThe primary purpose of this position is for the cleaning, insulation and inspection of superconducting wires.\\n\\nThese responsibilities include:\\n\\n• set-up, tend and operate multiple production machines / processes; load and unload spools; weigh materials; \\n• maintain chemical baths; maintain and log all information required for supporting quality and traceability; adjust and change parts on machinery; perform electrical and quality assurance tests; clean/lubricate production machines; \\n• perform tests and checks on products; operate ovens; operate micrometer and other testing equipment; handle bare product; move/store raw materials and finished goods; prepare final product for shipment; maintaining work areas and equipment in a clean orderly condition.\\n\\n\\n\\nJOB REQUIREMENTS:\\n\\n• High school diploma, GED or equivalent experience\\n• Mathematical skills\\n• Ability to use production tools and use / read a micrometer\\n• Good vision and eye-hand coordination\\n• Prior manufacturing experience with the ability to prioritize and pay close attention to detail\\n• Ability to track and record production results and follow priorities to ensure on-time completion of tasks\\n• Prior wire processing / handling experience ( such as drawing/extrusion/cabling ) is a plus\\n\\n\\n\\nPHYSICAL DEMANDS:\\n\\n• Frequent lifting, pushing, pulling, squatting, stooping, and bending is required\\n• Must independently lift and carry up to 50 pounds;\\n• Must lift and move, with mechanical lifts and by rolling, up to 400 pounds.\\n\\n\\n\\nWORK ENVIRONMENT/CONDITIONS:\\n\\n• Electrical hazards, possible fumes, airborne particles, toxic or caustic chemicals /odors\\n• moveable mechanical parts\\n• moderate to loud noise level\\n\\n\\n\\nEMPLOYEMENT BENEFITS:\\n\\n• Health, dental, disability, and life insurance\\n• Paid vacation and sick time\\n• 401K and profit sharing programs\\n• Tuition reimbursement"
        ],
        [
         "3f4f1e70-13ae-5e4a-9bb2-9ea98cf18ffc",
         "Resident Care Companion or STNA - DSL Elyria",
         "If you have a passion for helping others… If it is your calling to make someone’s day better… If you want to build meaningful relationships with those you work with… Then it’s time for you to join the Danbury family! Our residents and team members can’t wait to meet you. We are looking for new team members who care like we do. We care for our residents, our co-workers, our families, our vendors… We Care. That’s the Danbury Difference. We are currently seeking Resident Care Companion or STNA for our community. We have full time positions open.\\n\\nOur Memory Care Resident Care Companion or STNA responsibilities include:\\n\\n• Resident Care Companions and STNAs enjoy interacting with residents while engaging in the activities of daily living.\\n• Assist residents with daily personal care routines such as showers, bathing, personal hygiene, etc.\\n• Help residents prepare for and escort them to meals, activities, social programs and appointments.\\n• Assist residents with various other daily needs as necessary.\\n\\n\\nThe Experience And/or Skills Required For This Position Are\\n\\n• STNA certification required for STNA positions.\\n• No certification required for Resident Care Companion positions.\\n• Experience working in a similar capacity in a Senior Living setting is helpful,but not required.\\n• A great outlook, cheerful disposition, and love of seniors are a must.\\n\\n\\nWhen you join our team in a full-time position, you will enjoy a great benefit package that includes:\\n\\n• Company paid Short Term Disability, Long Term Disability, Life and AD&D\\n• Medical, Dental, Vision, Additional Voluntary Life, Additional Voluntary AD&D\\n• 401(k)\\n• Paid Time Off\\n• Tuition Reimbursement All our employees, full and part time, can enjoy these great perks:\\n• On Demand Pay available\\n• Perfect Attendance Bonus available\\n• Referral Bonus opportunities\\n• Worked Holidays Paid @ Double Time!\\n• Raises every quarter (Pay increase every 3 months) If you’re ready to make a difference in the lives of our residents and our teams, apply now.\\n\\n\\nDanbury does not require employees to be vaccinated.\\n\\nDanbury Senior Living provides equal employment opportunities to all employees and applicants for employment and prohibits discrimination and harassment of any type without regard to race, color, religion, age, sex, national origin, disability status, genetics, protected veteran status, sexual orientation, gender identity or expression, or any other characteristic protected by federal, state or local laws. This policy applies to all terms and conditions of employment, including recruiting, hiring, placement, promotion, termination, layoff, recall, transfer, leaves of absence, compensation and training.\\n\\nIND123"
        ]
       ],
       "datasetInfos": [],
       "dbfsResultPath": null,
       "isJsonSchema": true,
       "metadata": {},
       "overflow": false,
       "plotOptions": {
        "customPlotOptions": {},
        "displayType": "table",
        "pivotAggregation": null,
        "pivotColumns": null,
        "xColumns": null,
        "yColumns": null
       },
       "removedWidgets": [],
       "schema": [
        {
         "metadata": "{}",
         "name": "uuid",
         "type": "\"string\""
        },
        {
         "metadata": "{}",
         "name": "title",
         "type": "\"string\""
        },
        {
         "metadata": "{}",
         "name": "description",
         "type": "\"string\""
        }
       ],
       "type": "table"
      }
     },
     "output_type": "display_data"
    }
   ],
   "source": [
    "response = collection.query.hybrid(\n",
    "    query=\"Wash clothes\",\n",
    "    query_properties=[\"title\"],\n",
    "    limit=3\n",
    ")\n",
    "\n",
    "rows = [Row(uuid=str(obj.uuid), title=obj.properties['title'], description=obj.properties['description']) for obj in response.objects]\n",
    "\n",
    "df_response = spark.createDataFrame(rows)\n",
    "\n",
    "display(df_response)"
   ]
  },
  {
   "cell_type": "markdown",
   "metadata": {
    "application/vnd.databricks.v1+cell": {
     "cellMetadata": {
      "byteLimit": 2048000,
      "rowLimit": 10000
     },
     "inputWidgets": {},
     "nuid": "3ebd493c-5c0e-4b3f-a8ed-5456fe4cb240",
     "showTitle": false,
     "title": ""
    }
   },
   "source": [
    "# Generative Search"
   ]
  },
  {
   "cell_type": "markdown",
   "metadata": {
    "application/vnd.databricks.v1+cell": {
     "cellMetadata": {
      "byteLimit": 2048000,
      "rowLimit": 10000
     },
     "inputWidgets": {},
     "nuid": "1e8cf236-5ba7-4c8f-95bb-ee7fc0859f73",
     "showTitle": false,
     "title": ""
    }
   },
   "source": [
    "Ask the LLM to translate each job:"
   ]
  },
  {
   "cell_type": "code",
   "execution_count": 0,
   "metadata": {
    "application/vnd.databricks.v1+cell": {
     "cellMetadata": {
      "byteLimit": 2048000,
      "rowLimit": 10000
     },
     "inputWidgets": {},
     "nuid": "fc36d80d-e2b8-4c42-8bbc-2609221a26b1",
     "showTitle": false,
     "title": ""
    }
   },
   "outputs": [
    {
     "name": "stdout",
     "output_type": "stream",
     "text": [
      "| Job Title | German Translation |\n",
      "|---|---|\n",
      "| Laundry Worker | Wäschereiarbeiter |\n",
      "| Wire Drawer Technician | Drahtzieh-Techniker |\n",
      "| Resident Care Companion or STNA - DSL Elyria | Pflegebegleiter oder STNA - DSL Elyria |\n"
     ]
    }
   ],
   "source": [
    "generate_prompt = \"Produce a markdown table of the job title and its translation in german\"\n",
    "\n",
    "response = collection.generate.near_text(\n",
    "    query=\"Wash clothes\",\n",
    "    return_properties=[\"title\"],\n",
    "    grouped_task=generate_prompt,\n",
    "    limit=3\n",
    ")\n",
    "\n",
    "print(response.generated)"
   ]
  },
  {
   "cell_type": "markdown",
   "metadata": {
    "application/vnd.databricks.v1+cell": {
     "cellMetadata": {
      "byteLimit": 2048000,
      "rowLimit": 10000
     },
     "inputWidgets": {},
     "nuid": "cb568b0f-e280-4f64-b818-b91167938b20",
     "showTitle": false,
     "title": ""
    }
   },
   "source": [
    "# Upsert"
   ]
  },
  {
   "cell_type": "markdown",
   "metadata": {
    "application/vnd.databricks.v1+cell": {
     "cellMetadata": {
      "byteLimit": 2048000,
      "rowLimit": 10000
     },
     "inputWidgets": {},
     "nuid": "af084797-9af1-48af-b50d-ff2e7bea880e",
     "showTitle": false,
     "title": ""
    }
   },
   "source": [
    "Change a field in a row and upload it to weaviate:"
   ]
  },
  {
   "cell_type": "code",
   "execution_count": 0,
   "metadata": {
    "application/vnd.databricks.v1+cell": {
     "cellMetadata": {
      "byteLimit": 2048000,
      "rowLimit": 10000
     },
     "inputWidgets": {},
     "nuid": "1539f3a5-fd2e-4ddc-9218-26c9dad2b2a9",
     "showTitle": false,
     "title": ""
    }
   },
   "outputs": [
    {
     "name": "stderr",
     "output_type": "stream",
     "text": [
      "<frozen importlib._bootstrap>:1049: ImportWarning: ImportHookFinder.find_spec() not found; falling back to find_module()\n",
      "/usr/lib/python3.11/socket.py:776: ResourceWarning: unclosed <socket.socket fd=103, family=2, type=1, proto=6, laddr=('127.0.0.1', 54442), raddr=('127.0.0.1', 36897)>\n",
      "  self._sock = None\n",
      "ResourceWarning: Enable tracemalloc to get the object allocation traceback\n"
     ]
    },
    {
     "name": "stdout",
     "output_type": "stream",
     "text": [
      "original row:\n",
      "+--------------------+-------------------+--------------------+\n",
      "|                uuid|              title|         description|\n",
      "+--------------------+-------------------+--------------------+\n",
      "|52fad351-0bef-555...|DELIVERY TECHNICIAN|Our Company\\n\\nAm...|\n",
      "+--------------------+-------------------+--------------------+\n",
      "\n",
      "updated row:\n",
      "+--------------------+-----+--------------------+\n",
      "|                uuid|title|         description|\n",
      "+--------------------+-----+--------------------+\n",
      "|52fad351-0bef-555...|  foo|Our Company\\n\\nAm...|\n",
      "+--------------------+-----+--------------------+\n",
      "\n",
      "updated object in weaviate:\n",
      "uuid: 52fad351-0bef-5550-8af5-3d1f89a3fcf8, title: foo\n"
     ]
    }
   ],
   "source": [
    "# pick a uuid\n",
    "sample_uuid = df.first().uuid\n",
    "\n",
    "# show the row in df\n",
    "print(f\"original row:\")\n",
    "df.filter(col(\"uuid\") == sample_uuid).show()\n",
    "\n",
    "# update the job title\n",
    "print(f\"updated row:\")\n",
    "updated_df = df.withColumn(\"title\", when(col(\"uuid\") == sample_uuid, \"foo\").otherwise(col(\"title\"))).filter(col(\"uuid\") == sample_uuid)\n",
    "\n",
    "updated_df.show()\n",
    "\n",
    "updated_df.write.format(\"io.weaviate.spark.Weaviate\") \\\n",
    "    .option(\"batchSize\", 200) \\\n",
    "    .option(\"scheme\", \"https\") \\\n",
    "    .option(\"host\", WEAVIATE_URL.replace(\"https://\",\"\")) \\\n",
    "    .option(\"apiKey\", WEAVIATE_API_KEY) \\\n",
    "    .option(\"header:X-Databricks-Token\", DATABRICKS_TOKEN) \\\n",
    "    .option(\"className\", \"JobAds\") \\\n",
    "    .option(\"id\", \"uuid\") \\\n",
    "    .mode(\"append\")\\\n",
    "    .save()\n",
    "\n",
    "# get the updated object from weaviate\n",
    "updated_obj = collection.query.fetch_object_by_id(sample_uuid)\n",
    "print(\"updated object in weaviate:\")\n",
    "print(f\"uuid: {updated_obj.uuid}, title: {updated_obj.properties['title']}\")\n"
   ]
  },
  {
   "cell_type": "markdown",
   "metadata": {
    "application/vnd.databricks.v1+cell": {
     "cellMetadata": {
      "byteLimit": 2048000,
      "rowLimit": 10000
     },
     "inputWidgets": {},
     "nuid": "9ce4a4ca-6183-4167-bb29-c60803c51404",
     "showTitle": false,
     "title": ""
    }
   },
   "source": [
    "# Error Handling"
   ]
  },
  {
   "cell_type": "markdown",
   "metadata": {
    "application/vnd.databricks.v1+cell": {
     "cellMetadata": {
      "byteLimit": 2048000,
      "rowLimit": 10000
     },
     "inputWidgets": {},
     "nuid": "9eee5591-14b5-4a66-918b-052f8ece153f",
     "showTitle": false,
     "title": ""
    }
   },
   "source": [
    "Make sure the collection exists in weaviate before writing to it:"
   ]
  },
  {
   "cell_type": "code",
   "execution_count": 0,
   "metadata": {
    "application/vnd.databricks.v1+cell": {
     "cellMetadata": {
      "byteLimit": 2048000,
      "rowLimit": 10000
     },
     "inputWidgets": {},
     "nuid": "3dfa54b8-e4d3-4acb-816b-41faf65453f6",
     "showTitle": false,
     "title": ""
    }
   },
   "outputs": [
    {
     "name": "stdout",
     "output_type": "stream",
     "text": [
      "WeaviateClassNotFoundError: The specified class 'JobAds2' was not found.\n"
     ]
    },
    {
     "name": "stderr",
     "output_type": "stream",
     "text": [
      "<frozen importlib._bootstrap>:1049: ImportWarning: ImportHookFinder.find_spec() not found; falling back to find_module()\n"
     ]
    }
   ],
   "source": [
    "try:\n",
    "    df.write.format(\"io.weaviate.spark.Weaviate\") \\\n",
    "        .option(\"scheme\", \"https\") \\\n",
    "        .option(\"host\", WEAVIATE_URL.replace(\"https://\", \"\")) \\\n",
    "        .option(\"apiKey\", WEAVIATE_API_KEY) \\\n",
    "        .option(\"className\", \"JobAds2\") \\\n",
    "        .mode(\"append\").save()\n",
    "except Py4JJavaError as e:\n",
    "    if 'WeaviateClassNotFoundError' in str(e.java_exception):\n",
    "        print(\"WeaviateClassNotFoundError: The specified class 'JobAds2' was not found.\")"
   ]
  },
  {
   "cell_type": "markdown",
   "metadata": {
    "application/vnd.databricks.v1+cell": {
     "cellMetadata": {
      "byteLimit": 2048000,
      "rowLimit": 10000
     },
     "inputWidgets": {},
     "nuid": "57fff144-91ee-464d-9a2b-70ea7e0b8c41",
     "showTitle": false,
     "title": ""
    }
   },
   "source": [
    "The dataframe must contain all the properties defined by the collection in weaviate, otherwise it will throw a [CANNOT_FIND_DATA](https://docs.databricks.com/en/error-messages/incompatible-data-for-table-error-class.html#cannot_find_data) error:"
   ]
  },
  {
   "cell_type": "code",
   "execution_count": 0,
   "metadata": {
    "application/vnd.databricks.v1+cell": {
     "cellMetadata": {
      "byteLimit": 2048000,
      "rowLimit": 10000
     },
     "inputWidgets": {},
     "nuid": "689c3422-4cfe-4a62-ab07-2f1ae107bd8d",
     "showTitle": false,
     "title": ""
    }
   },
   "outputs": [],
   "source": [
    "# df.drop(\"title\").write.format(\"io.weaviate.spark.Weaviate\") \\\n",
    "#     .option(\"batchSize\", 200) \\\n",
    "#     .option(\"scheme\", \"https\") \\\n",
    "#     .option(\"host\", WEAVIATE_URL.replace(\"https://\",\"\")) \\\n",
    "#     .option(\"apiKey\", WEAVIATE_API_KEY) \\\n",
    "#     .option(\"header:X-Openai-Api-Key\", OPENAI_API_KEY) \\\n",
    "#     .option(\"className\", \"JobAds\") \\\n",
    "#     .option(\"id\", \"uuid\") \\\n",
    "#     .mode(\"append\").save()\n",
    "\n",
    "# this will throw:\n",
    "# [INCOMPATIBLE_DATA_FOR_TABLE.CANNOT_FIND_DATA] Cannot write incompatible data for the table `JobAds`: Cannot find data for the output column `title`. SQLSTATE: KD000"
   ]
  },
  {
   "cell_type": "markdown",
   "metadata": {
    "application/vnd.databricks.v1+cell": {
     "cellMetadata": {
      "byteLimit": 2048000,
      "rowLimit": 10000
     },
     "inputWidgets": {},
     "nuid": "4a9a75ba-701d-444a-b589-c493500109c9",
     "showTitle": false,
     "title": ""
    }
   },
   "source": [
    "\n",
    "If disk usage of a node in the Weaviate cluster is higher than the `DISK_USE_READONLY_PERCENTAGE` percentage, then all shards on the affected node will be marked as `READONLY`, meaning all future write requests will fail.\n",
    "\n",
    "To recover from this, increase the node's disk capacity and mark the shards as ready again. Refer to the weaviate [docs](https://weaviate.io/developers/weaviate/configuration/persistence#disk-pressure-warnings-and-limits) for detailed steps"
   ]
  },
  {
   "cell_type": "markdown",
   "metadata": {
    "application/vnd.databricks.v1+cell": {
     "cellMetadata": {
      "byteLimit": 2048000,
      "rowLimit": 10000
     },
     "inputWidgets": {},
     "nuid": "bff99822-12b5-42fb-b4b0-1e4d05a64982",
     "showTitle": false,
     "title": ""
    }
   },
   "source": [
    "# Further Reading\n",
    "\n",
    "\n",
    "* Databricks [integration docs](https://weaviate.io/developers/integrations/data-platforms/databricks)"
   ]
  }
 ],
 "metadata": {
  "application/vnd.databricks.v1+notebook": {
   "dashboards": [],
   "environmentMetadata": null,
   "language": "python",
   "notebookMetadata": {
    "mostRecentlyExecutedCommandWithImplicitDF": {
     "commandId": 1198414135446424,
     "dataframes": [
      "_sqldf"
     ]
    },
    "pythonIndentUnit": 4
   },
   "notebookName": "databricks-spark-connector-demo",
   "widgets": {}
  },
  "language_info": {
   "name": "python"
  }
 },
 "nbformat": 4,
 "nbformat_minor": 0
}
