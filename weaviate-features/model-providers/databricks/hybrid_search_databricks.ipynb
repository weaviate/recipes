{
 "cells": [
  {
   "cell_type": "markdown",
   "metadata": {},
   "source": [
    "[![Open In Colab](https://colab.research.google.com/assets/colab-badge.svg)](https://colab.research.google.com/github/weaviate/recipes/blob/main/weaviate-features/model-providers/databricks/hybrid_search_databricks.ipynb)"
   ]
  },
  {
   "cell_type": "markdown",
   "metadata": {},
   "source": [
    "# Hybrid Search with Databricks\n",
    "\n",
    "This recipe will show you how to run hybrid search with [embeddings from Databricks](https://weaviate.io/developers/weaviate/model-providers/databricks/embeddings)."
   ]
  },
  {
   "cell_type": "markdown",
   "metadata": {},
   "source": [
    "## Requirements\n",
    "\n",
    "1. Weaviate cluster\n",
    "    1. You can create a 14-day free sandbox on [WCD](https://console.weaviate.cloud/)\n",
    "    2. [Embedded Weaviate](https://weaviate.io/developers/weaviate/installation/embedded)\n",
    "    3. [Local deployment](https://weaviate.io/developers/weaviate/installation/docker-compose#starter-docker-compose-file)\n",
    "    4. [Other options](https://weaviate.io/developers/weaviate/installation)\n",
    "\n",
    "2. Databricks token\n",
    "\n",
    "3. Endpoint to an embedding model on Databricks"
   ]
  },
  {
   "cell_type": "markdown",
   "metadata": {},
   "source": [
    "## Import Dependencies, Libraries, and Keys"
   ]
  },
  {
   "cell_type": "code",
   "execution_count": null,
   "metadata": {},
   "outputs": [],
   "source": [
    "!pip install --q weaviate-client"
   ]
  },
  {
   "cell_type": "code",
   "execution_count": 1,
   "metadata": {},
   "outputs": [],
   "source": [
    "import weaviate\n",
    "from weaviate.classes.init import Auth\n",
    "import weaviate.classes.config as wc\n",
    "from weaviate.embedded import EmbeddedOptions\n",
    "import weaviate.classes.query as wq\n",
    "\n",
    "\n",
    "import os\n",
    "import requests\n",
    "import json"
   ]
  },
  {
   "cell_type": "markdown",
   "metadata": {},
   "source": [
    "## Connect to Weaviate\n",
    "\n",
    "Only choose one option from the below."
   ]
  },
  {
   "cell_type": "markdown",
   "metadata": {},
   "source": [
    "**Weaviate Cloud Deployment**"
   ]
  },
  {
   "cell_type": "code",
   "execution_count": 13,
   "metadata": {},
   "outputs": [
    {
     "name": "stdout",
     "output_type": "stream",
     "text": [
      "True\n"
     ]
    }
   ],
   "source": [
    "WCD_URL = os.environ[\"WEAVIATE_URL\"] # Replace with your Weaviate cluster URL\n",
    "WCD_AUTH_KEY = os.environ[\"WEAVIATE_AUTH\"] # Replace with your cluster auth key\n",
    "DATABRICKS_TOKEN = os.environ[\"DATABRICKS_TOKEN\"] # Replace with your Databricks token\n",
    "\n",
    "\n",
    "# Weaviate Cloud Deployment\n",
    "client = weaviate.connect_to_wcs(\n",
    "    cluster_url=WCD_URL,\n",
    "    auth_credentials=weaviate.auth.AuthApiKey(WCD_AUTH_KEY),\n",
    "      headers={\"X-Databricks-Token\": DATABRICKS_TOKEN}\n",
    ")\n",
    "\n",
    "print(client.is_ready())"
   ]
  },
  {
   "cell_type": "markdown",
   "metadata": {},
   "source": [
    "**Embedded Weaviate**"
   ]
  },
  {
   "cell_type": "code",
   "execution_count": null,
   "metadata": {},
   "outputs": [],
   "source": [
    "# DATABRICKS_TOKEN = os.environ[\"DATABRICKS_TOKEN\"] # Replace with your Databricks token\n",
    "\n",
    "# client = weaviate.WeaviateClient(\n",
    "#     embedded_options=EmbeddedOptions(\n",
    "#         version=\"1.30.0\",\n",
    "#         additional_env_vars={\n",
    "#             \"ENABLE_MODULES\": \"text2vec-databricks\"\n",
    "#         }),\n",
    "#         additional_headers={\n",
    "#             \"X-Databricks-Token\": DATABRICKS_TOKEN\n",
    "#         }\n",
    "# )\n",
    "\n",
    "# client.connect()"
   ]
  },
  {
   "cell_type": "markdown",
   "metadata": {},
   "source": [
    "**Local Deployment**"
   ]
  },
  {
   "cell_type": "code",
   "execution_count": null,
   "metadata": {},
   "outputs": [],
   "source": [
    "# DATABRICKS_TOKEN = os.environ[\"DATABRICKS_TOKEN\"] # Replace with your Databricks token\n",
    "\n",
    "# client = weaviate.connect_to_local(\n",
    "#   headers={\n",
    "#     \"X-Databricks-Token\": DATABRICKS_TOKEN\n",
    "#   }\n",
    "# )\n",
    "# print(client.is_ready())"
   ]
  },
  {
   "cell_type": "markdown",
   "metadata": {},
   "source": [
    "## Create a collection\n",
    "> Collection stores your data and vector embeddings."
   ]
  },
  {
   "cell_type": "code",
   "execution_count": 3,
   "metadata": {},
   "outputs": [
    {
     "name": "stdout",
     "output_type": "stream",
     "text": [
      "Successfully created collection: JeopardyQuestion.\n"
     ]
    },
    {
     "name": "stderr",
     "output_type": "stream",
     "text": [
      "{\"build_git_commit\":\"b7b77150ac\",\"build_go_version\":\"go1.24.2\",\"build_image_tag\":\"HEAD\",\"build_wv_version\":\"1.30.0\",\"level\":\"warning\",\"msg\":\"prop len tracker file /Users/erikacardenas/.local/share/weaviate/jeopardyquestion/UNvR5jmmimUt/proplengths does not exist, creating new tracker\",\"time\":\"2025-05-02T15:09:01-04:00\"}\n",
      "{\"action\":\"hnsw_prefill_cache_async\",\"build_git_commit\":\"b7b77150ac\",\"build_go_version\":\"go1.24.2\",\"build_image_tag\":\"HEAD\",\"build_wv_version\":\"1.30.0\",\"level\":\"info\",\"msg\":\"not waiting for vector cache prefill, running in background\",\"time\":\"2025-05-02T15:09:01-04:00\",\"wait_for_cache_prefill\":false}\n",
      "{\"build_git_commit\":\"b7b77150ac\",\"build_go_version\":\"go1.24.2\",\"build_image_tag\":\"HEAD\",\"build_wv_version\":\"1.30.0\",\"level\":\"info\",\"msg\":\"Created shard jeopardyquestion_UNvR5jmmimUt in 10.411875ms\",\"time\":\"2025-05-02T15:09:01-04:00\"}\n",
      "{\"action\":\"hnsw_vector_cache_prefill\",\"build_git_commit\":\"b7b77150ac\",\"build_go_version\":\"go1.24.2\",\"build_image_tag\":\"HEAD\",\"build_wv_version\":\"1.30.0\",\"count\":1000,\"index_id\":\"main\",\"level\":\"info\",\"limit\":1000000000000,\"msg\":\"prefilled vector cache\",\"time\":\"2025-05-02T15:09:01-04:00\",\"took\":143292}\n"
     ]
    }
   ],
   "source": [
    "# Note: This will delete your data stored in \"JeopardyQuestion\" and\n",
    "# it will require you to re-import again.\n",
    "\n",
    "EMBEDDING_ENDPOINT = os.environ[\"EMBEDDING_ENDPOINT\"] # Replace with the endpoint to your embedding model\n",
    "\n",
    "# Delete the collection if it already exists\n",
    "if (client.collections.exists(\"JeopardyQuestion\")):\n",
    "    client.collections.delete(\"JeopardyQuestion\")\n",
    "\n",
    "client.collections.create(\n",
    "    name=\"JeopardyQuestion\",\n",
    "\n",
    "    vectorizer_config=wc.Configure.Vectorizer.text2vec_databricks(\n",
    "        endpoint=EMBEDDING_ENDPOINT, # endpoint to the embedding model\n",
    "    ),\n",
    "\n",
    "    properties=[ # defining properties (data schema) is optional\n",
    "        wc.Property(name=\"Question\", data_type=wc.DataType.TEXT), \n",
    "        wc.Property(name=\"Answer\", data_type=wc.DataType.TEXT),\n",
    "        wc.Property(name=\"Category\", data_type=wc.DataType.TEXT) \n",
    "    ]\n",
    ")\n",
    "\n",
    "print(\"Successfully created collection: JeopardyQuestion.\")"
   ]
  },
  {
   "cell_type": "markdown",
   "metadata": {},
   "source": [
    "## Import the Data"
   ]
  },
  {
   "cell_type": "code",
   "execution_count": 4,
   "metadata": {},
   "outputs": [
    {
     "name": "stdout",
     "output_type": "stream",
     "text": [
      "Insert complete.\n"
     ]
    }
   ],
   "source": [
    "url = 'https://raw.githubusercontent.com/weaviate/weaviate-examples/main/jeopardy_small_dataset/jeopardy_tiny.json'\n",
    "resp = requests.get(url)\n",
    "data = json.loads(resp.text)\n",
    "\n",
    "# Get a collection object for \"JeopardyQuestion\"\n",
    "jeopardy = client.collections.get(\"JeopardyQuestion\")\n",
    "\n",
    "# Insert data objects\n",
    "response = jeopardy.data.insert_many(data)\n",
    "\n",
    "# Note, the `data` array contains 10 objects, which is great to call insert_many with.\n",
    "# However, if you have a milion objects to insert, then you should spit them into smaller batches (i.e. 100-1000 per insert)\n",
    "\n",
    "if (response.has_errors):\n",
    "    print(response.errors)\n",
    "else:\n",
    "    print(\"Insert complete.\")"
   ]
  },
  {
   "cell_type": "markdown",
   "metadata": {},
   "source": [
    "## Hybrid Search"
   ]
  },
  {
   "cell_type": "markdown",
   "metadata": {},
   "source": [
    "The `alpha` parameter determines the weight given to the sparse and dense search methods. `alpha = 0` is pure sparse (bm25) search, whereas `alpha = 1` is pure dense (vector) search. \n",
    "\n",
    "Alpha is an optional parameter. The default is set to `0.75`."
   ]
  },
  {
   "cell_type": "markdown",
   "metadata": {},
   "source": [
    "### Hybrid Search only\n",
    "\n",
    "The below query is finding Jeopardy questions about animals and is limiting the output to only two results. Notice `alpha` is set to `0.80`, which means it is weighing the vector search results more than bm25. If you were to set `alpha = 0.25`, you would get different results. "
   ]
  },
  {
   "cell_type": "code",
   "execution_count": 5,
   "metadata": {},
   "outputs": [
    {
     "name": "stdout",
     "output_type": "stream",
     "text": [
      "ID: 2a35dc97-40c1-4ab1-bd4c-baaa63fd3b06\n",
      "Data: {\n",
      "  \"answer\": \"species\",\n",
      "  \"question\": \"2000 news: the Gunnison sage grouse isn't just another northern sage grouse, but a new one of this classification\",\n",
      "  \"category\": \"SCIENCE\"\n",
      "} \n",
      "\n",
      "ID: e5aca3f1-1f00-435c-9d9b-c30ada64d128\n",
      "Data: {\n",
      "  \"answer\": \"the diamondback rattler\",\n",
      "  \"question\": \"Heaviest of all poisonous snakes is this North American rattlesnake\",\n",
      "  \"category\": \"ANIMALS\"\n",
      "} \n",
      "\n",
      "ID: 392fbc4c-fecf-4ffe-873c-d87e91f66e4a\n",
      "Data: {\n",
      "  \"answer\": \"Antelope\",\n",
      "  \"question\": \"Weighing around a ton, the eland is the largest species of this animal in Africa\",\n",
      "  \"category\": \"ANIMALS\"\n",
      "} \n",
      "\n"
     ]
    }
   ],
   "source": [
    "response = jeopardy.query.hybrid(\n",
    "    query=\"northern beast\",\n",
    "    query_properties=[\"question\"],\n",
    "    alpha=0.8,\n",
    "    limit=3\n",
    ")\n",
    "\n",
    "for item in response.objects:\n",
    "    print(\"ID:\", item.uuid)\n",
    "    print(\"Data:\", json.dumps(item.properties, indent=2), \"\\n\")"
   ]
  },
  {
   "cell_type": "markdown",
   "metadata": {},
   "source": [
    "### Hybrid Search with a `where` filter\n",
    "\n",
    "Find Jeopardy questions about elephants, where the category is set to Animals."
   ]
  },
  {
   "cell_type": "code",
   "execution_count": 6,
   "metadata": {},
   "outputs": [
    {
     "name": "stdout",
     "output_type": "stream",
     "text": [
      "ID: e5aca3f1-1f00-435c-9d9b-c30ada64d128\n",
      "Data: {\n",
      "  \"answer\": \"the diamondback rattler\",\n",
      "  \"question\": \"Heaviest of all poisonous snakes is this North American rattlesnake\",\n",
      "  \"category\": \"ANIMALS\"\n",
      "} \n",
      "\n",
      "ID: 392fbc4c-fecf-4ffe-873c-d87e91f66e4a\n",
      "Data: {\n",
      "  \"answer\": \"Antelope\",\n",
      "  \"question\": \"Weighing around a ton, the eland is the largest species of this animal in Africa\",\n",
      "  \"category\": \"ANIMALS\"\n",
      "} \n",
      "\n",
      "ID: f1163de8-4035-46e0-9f5b-6304c3dcaa50\n",
      "Data: {\n",
      "  \"answer\": \"the nose or snout\",\n",
      "  \"question\": \"The gavial looks very much like a crocodile except for this bodily feature\",\n",
      "  \"category\": \"ANIMALS\"\n",
      "} \n",
      "\n"
     ]
    }
   ],
   "source": [
    "response = jeopardy.query.hybrid(\n",
    "    query=\"northern beast\",\n",
    "    alpha=0.8,\n",
    "    filters=wq.Filter.by_property(\"category\").equal(\"Animals\"),\n",
    "    limit=3\n",
    ")\n",
    "\n",
    "for item in response.objects:\n",
    "    print(\"ID:\", item.uuid)\n",
    "    print(\"Data:\", json.dumps(item.properties, indent=2), \"\\n\")"
   ]
  }
 ],
 "metadata": {
  "kernelspec": {
   "display_name": "Python 3",
   "language": "python",
   "name": "python3"
  },
  "language_info": {
   "codemirror_mode": {
    "name": "ipython",
    "version": 3
   },
   "file_extension": ".py",
   "mimetype": "text/x-python",
   "name": "python",
   "nbconvert_exporter": "python",
   "pygments_lexer": "ipython3",
   "version": "3.11.6"
  }
 },
 "nbformat": 4,
 "nbformat_minor": 2
}
