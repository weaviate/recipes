{
 "cells": [
  {
   "cell_type": "markdown",
   "metadata": {},
   "source": [
    "[![Open In Colab](https://colab.research.google.com/assets/colab-badge.svg)](https://colab.research.google.com/github/weaviate/recipes/blob/main/weaviate-features/model-providers/xai/rag_grok_2_latest.ipynb)"
   ]
  },
  {
   "cell_type": "markdown",
   "metadata": {},
   "source": [
    "# Generative Search with xAI\n",
    "\n",
    "In this demo, we will use Weaviate's Embedding Service to generate embeddings for the blog posts and a generative model on xAI to create new content!\n",
    "\n",
    "## Requirements\n",
    "\n",
    "1. Serverless Weaviate cluster (for the Weaviate Embedding Service)\n",
    "    1. You can create a 14-day free sandbox on [WCD](https://console.weaviate.cloud/)\n",
    "2. xAI API key. Grab one [here](https://docs.x.ai/docs/overview)."
   ]
  },
  {
   "cell_type": "code",
   "execution_count": 1,
   "metadata": {},
   "outputs": [],
   "source": [
    "import weaviate\n",
    "from weaviate.embedded import EmbeddedOptions\n",
    "import weaviate.classes as wvc\n",
    "import weaviate.classes.config as wc\n",
    "import requests, json\n",
    "import weaviate.classes.query as wq\n",
    "from weaviate.classes.config import Property, DataType\n",
    "import os\n",
    "import re\n",
    "from weaviate.util import get_valid_uuid\n",
    "from uuid import uuid4"
   ]
  },
  {
   "cell_type": "markdown",
   "metadata": {},
   "source": [
    "## Connect to Weaviate\n",
    "\n",
    "Only choose one option from the below."
   ]
  },
  {
   "cell_type": "markdown",
   "metadata": {},
   "source": [
    "**Weaviate Cloud Deployment**"
   ]
  },
  {
   "cell_type": "code",
   "execution_count": 3,
   "metadata": {},
   "outputs": [
    {
     "name": "stdout",
     "output_type": "stream",
     "text": [
      "True\n"
     ]
    }
   ],
   "source": [
    "WCD_URL = os.environ[\"WEAVIATE_URL\"] # Replace with your Weaviate cluster URL\n",
    "WCD_AUTH_KEY = os.environ[\"WEAVIATE_AUTH\"] # Replace with your cluster auth key\n",
    "XAI_KEY = os.environ[\"XAI_API_KEY\"] # Replace with your xAI key\n",
    "\n",
    "# Weaviate Cloud Deployment\n",
    "client = weaviate.connect_to_wcs(\n",
    "    cluster_url=WCD_URL,\n",
    "    auth_credentials=weaviate.auth.AuthApiKey(WCD_AUTH_KEY),\n",
    "      headers={ \"X-Xai-Api-Key\": XAI_KEY}\n",
    ")\n",
    "\n",
    "print(client.is_ready())"
   ]
  },
  {
   "cell_type": "markdown",
   "metadata": {},
   "source": [
    "## Create a collection\n",
    "Collection stores your data and vector embeddings.\n",
    "\n",
    "Full list of [generative models](https://weaviate.io/developers/weaviate/model-providers/octoai/generative#available-models)"
   ]
  },
  {
   "cell_type": "code",
   "execution_count": 4,
   "metadata": {},
   "outputs": [
    {
     "name": "stdout",
     "output_type": "stream",
     "text": [
      "Successfully created collection: BlogChunks.\n"
     ]
    }
   ],
   "source": [
    "# Note: in practice, you shouldn't rerun this cell, as it deletes your data\n",
    "# in \"BlogChunks\", and then you need to re-import it again.\n",
    "\n",
    "# Delete the collection if it already exists\n",
    "if (client.collections.exists(\"BlogChunks\")):\n",
    "    client.collections.delete(\"BlogChunks\")\n",
    "\n",
    "client.collections.create(\n",
    "    name=\"BlogChunks\",\n",
    "\n",
    "    vectorizer_config=wc.Configure.Vectorizer.text2vec_weaviate( # specify the vectorizer and model type you're using\n",
    "        model=\"Snowflake/snowflake-arctic-embed-l-v2.0\", # default model\n",
    "    ),\n",
    "\n",
    "    generative_config=wc.Configure.Generative.xai( \n",
    "        model=\"grok-2-latest\" # select model, default is grok-2-latest\n",
    "    ),\n",
    "\n",
    "    properties=[\n",
    "            Property(name=\"content\", data_type=DataType.TEXT) # We only have one property for our collection. It is the content within the blog posts\n",
    "    ]\n",
    ")\n",
    "\n",
    "print(\"Successfully created collection: BlogChunks.\")"
   ]
  },
  {
   "cell_type": "markdown",
   "metadata": {},
   "source": [
    "## Chunk and Import Data\n",
    "\n",
    "We need to break our blog posts into smaller chunks"
   ]
  },
  {
   "cell_type": "code",
   "execution_count": 5,
   "metadata": {},
   "outputs": [],
   "source": [
    "def chunk_list(lst, chunk_size):\n",
    "    \"\"\"Break a list into chunks of the specified size.\"\"\"\n",
    "    return [lst[i:i + chunk_size] for i in range(0, len(lst), chunk_size)]\n",
    "\n",
    "def split_into_sentences(text):\n",
    "    \"\"\"Split text into sentences using regular expressions.\"\"\"\n",
    "    sentences = re.split(r'(?<!\\w\\.\\w.)(?<![A-Z][a-z]\\.)(?<=\\.|\\?)\\s', text)\n",
    "    return [sentence.strip() for sentence in sentences if sentence.strip()]\n",
    "\n",
    "def read_and_chunk_index_files(main_folder_path):\n",
    "    \"\"\"Read index.md files from subfolders, split into sentences, and chunk every 5 sentences.\"\"\"\n",
    "    blog_chunks = []\n",
    "    \n",
    "    for file_path in os.listdir(\"./data\"):\n",
    "        index_file_path = os.path.join(\"./data\", file_path)\n",
    "        with open(index_file_path, 'r', encoding='utf-8') as file:\n",
    "            content = file.read()\n",
    "            sentences = split_into_sentences(content)\n",
    "            sentence_chunks = chunk_list(sentences, 5)\n",
    "            sentence_chunks = [' '.join(chunk) for chunk in sentence_chunks]\n",
    "            blog_chunks.extend(sentence_chunks)\n",
    "    return blog_chunks\n",
    "\n",
    "# run with:\n",
    "main_folder_path = './data'\n",
    "blog_chunks = read_and_chunk_index_files(main_folder_path)"
   ]
  },
  {
   "cell_type": "code",
   "execution_count": 6,
   "metadata": {},
   "outputs": [
    {
     "data": {
      "text/plain": [
       "'---\\ntitle: What is Ref2Vec and why you need it for your recommendation system\\nslug: ref2vec-centroid\\nauthors: [connor]\\ndate: 2022-11-23\\ntags: [\\'integrations\\', \\'concepts\\']\\nimage: ./img/hero.png\\ndescription: \"Weaviate introduces Ref2Vec, a new module that utilises Cross-References for Recommendation!\"\\n---\\n![Ref2vec-centroid](./img/hero.png)\\n\\n<!-- truncate -->\\n\\nWeaviate 1.16 introduced the [Ref2Vec](/developers/weaviate/modules/retriever-vectorizer-modules/ref2vec-centroid) module. In this article, we give you an overview of what Ref2Vec is and some examples in which it can add value such as recommendations or representing long objects. ## What is Ref2Vec? The name Ref2Vec is short for reference-to-vector, and it offers the ability to vectorize a data object with its cross-references to other objects. The Ref2Vec module currently holds the name ref2vec-**centroid** because it uses the average, or centroid vector, of the cross-referenced vectors to represent the **referencing** object.'"
      ]
     },
     "execution_count": 6,
     "metadata": {},
     "output_type": "execute_result"
    }
   ],
   "source": [
    "# First chunk\n",
    "\n",
    "blog_chunks[0]"
   ]
  },
  {
   "cell_type": "code",
   "execution_count": 7,
   "metadata": {},
   "outputs": [],
   "source": [
    "# Insert the objects (chunks) into the Weaviate cluster\n",
    "\n",
    "blogs = client.collections.get(\"BlogChunks\")\n",
    "\n",
    "for blog_chunk in blog_chunks:\n",
    "    random_uuid = get_valid_uuid(uuid4())\n",
    "    blogs.data.insert(\n",
    "        properties={\n",
    "            \"content\": blog_chunk\n",
    "        },\n",
    "        uuid=random_uuid\n",
    "    )\n"
   ]
  },
  {
   "cell_type": "markdown",
   "metadata": {},
   "source": [
    "## Query Time "
   ]
  },
  {
   "cell_type": "markdown",
   "metadata": {},
   "source": [
    "## Hybrid Search Query\n",
    "\n",
    "Hybrid search combines BM25 and vector search and weighs the two algorithms depending on the `alpha` parameter. \n",
    "\n",
    "`alpha`= 0 --> pure BM25\n",
    "\n",
    "`alpha`= 0.5 --> half BM25, half vector search\n",
    "\n",
    "`alpha`= 1 --> pure vector search"
   ]
  },
  {
   "cell_type": "code",
   "execution_count": 8,
   "metadata": {},
   "outputs": [
    {
     "name": "stdout",
     "output_type": "stream",
     "text": [
      "{\n",
      "  \"content\": \"---\\ntitle: What is Ref2Vec and why you need it for your recommendation system\\nslug: ref2vec-centroid\\nauthors: [connor]\\ndate: 2022-11-23\\ntags: ['integrations', 'concepts']\\nimage: ./img/hero.png\\ndescription: \\\"Weaviate introduces Ref2Vec, a new module that utilises Cross-References for Recommendation!\\\"\\n---\\n![Ref2vec-centroid](./img/hero.png)\\n\\n<!-- truncate -->\\n\\nWeaviate 1.16 introduced the [Ref2Vec](/developers/weaviate/modules/retriever-vectorizer-modules/ref2vec-centroid) module. In this article, we give you an overview of what Ref2Vec is and some examples in which it can add value such as recommendations or representing long objects. ## What is Ref2Vec? The name Ref2Vec is short for reference-to-vector, and it offers the ability to vectorize a data object with its cross-references to other objects. The Ref2Vec module currently holds the name ref2vec-**centroid** because it uses the average, or centroid vector, of the cross-referenced vectors to represent the **referencing** object.\"\n",
      "}\n",
      "{\n",
      "  \"content\": \"As you have seen above, we think Ref2Vec can add value for use cases such as recommendations, re-ranking, overcoming the cold start problem and representing long objects. We are also excited to see what you build with Ref2Vec, and excited to build on this module with its future iterations. Speaking of which, we have another blog post coming soon on the development directions of Ref2Vec for the future. We will discuss topics such as **collaborative filtering**, **multiple centroids**, **graph neural networks**, and more on **re-ranking** with Ref2Vec. Stay tuned!\\n\\n\\nimport WhatNext from '/_includes/what-next.mdx'\\n\\n<WhatNext />\"\n",
      "}\n",
      "{\n",
      "  \"content\": \"Although all the query does is provide the ID of the User object, Ref2Vec has done the hard work by inferring a centroid vector from the User's references to other vectors. And as the set of references continues to evolve, the Ref2Vec vectors will continue to evolve also, ensuring that the User vector remains up-to-date with their latest interests. Whether your goal is to construct a Home Feed interface for users or to pair with search queries, Ref2Vec provides a strong foundation to enable Recommendation with fairly low overhead. For example, it can achieve personalized re-ranking, also known as a session-based recommendation, without persisting user data over a long sequence of interactions. A new user could have personalization available after a few interactions on the app which will help them quickly settle in and feel at home, helping to overcome what is known as the cold-start problem.\"\n",
      "}\n"
     ]
    }
   ],
   "source": [
    "import json \n",
    "\n",
    "blogs = client.collections.get(\"BlogChunks\")\n",
    "\n",
    "response = blogs.query.hybrid(\n",
    "    query=\"What is Ref2Vec\",\n",
    "    alpha=0.5,\n",
    "    limit=3\n",
    ")\n",
    "\n",
    "for o in response.objects:\n",
    "    print(json.dumps(o.properties, indent=2))"
   ]
  },
  {
   "cell_type": "markdown",
   "metadata": {},
   "source": [
    "### Generative Search Query\n",
    "\n",
    "Here is what happens in the below:\n",
    "1. We will retrieve 3 relevant chunks from our vector database\n",
    "2. We will pass the 3 chunks to xAI to generate the short paragraph about Ref2Vec\n",
    "\n",
    "The first line in the output is the generated text, and the `content` pieces below it, are what was retrieved from Weaviate and passed to xAI."
   ]
  },
  {
   "cell_type": "code",
   "execution_count": 9,
   "metadata": {},
   "outputs": [
    {
     "name": "stdout",
     "output_type": "stream",
     "text": [
      "Here is a short paragraph about Ref2Vec:\n",
      "\n",
      "Ref2Vec, short for reference-to-vector, is a module in Weaviate 1.16 that enables the vectorization of a data object by incorporating its cross-references to other objects. The Ref2Vec module, specifically ref2vec-centroid, generates a representation of the referencing object by using the average, or centroid vector, of the cross-referenced vectors. This innovative approach can add significant value to applications such as recommendation systems and representing long objects.\n",
      "{\n",
      "  \"content\": \"---\\ntitle: What is Ref2Vec and why you need it for your recommendation system\\nslug: ref2vec-centroid\\nauthors: [connor]\\ndate: 2022-11-23\\ntags: ['integrations', 'concepts']\\nimage: ./img/hero.png\\ndescription: \\\"Weaviate introduces Ref2Vec, a new module that utilises Cross-References for Recommendation!\\\"\\n---\\n![Ref2vec-centroid](./img/hero.png)\\n\\n<!-- truncate -->\\n\\nWeaviate 1.16 introduced the [Ref2Vec](/developers/weaviate/modules/retriever-vectorizer-modules/ref2vec-centroid) module. In this article, we give you an overview of what Ref2Vec is and some examples in which it can add value such as recommendations or representing long objects. ## What is Ref2Vec? The name Ref2Vec is short for reference-to-vector, and it offers the ability to vectorize a data object with its cross-references to other objects. The Ref2Vec module currently holds the name ref2vec-**centroid** because it uses the average, or centroid vector, of the cross-referenced vectors to represent the **referencing** object.\"\n",
      "}\n",
      "Here is a rewritten paragraph about Ref2Vec:\n",
      "\n",
      "Weaviate's Ref2Vec technology provides a novel way to vectorize classes, like the User class, by leveraging their relationships with other classes. This enables Weaviate to rapidly generate accurate and up-to-date representations of users based on recent interactions. For instance, if a user clicks on multiple shoe images in an e-commerce store, it's likely they're interested in seeing more shoes. Ref2Vec effectively captures this intuition by generating vectors that aggregate each User's interactions with other classes. The adjacent animation illustrates this concept in action, using real-world e-commerce image interactions as an example.\n",
      "{\n",
      "  \"content\": \"![Cross-reference](./img/Weaviate-Ref2Vec_1.png)\\n\\nRef2Vec gives Weaviate another way to vectorize a class, such as the User class, based on their relationships to other classes. This allows Weaviate to quickly create up-to-date representations of users based on their relationships such as recent interactions. If a user clicks on 3 shoe images on an e-commerce store, it is a safe bet that they want to see more shoes. Ref2Vec captures this intuition by calculating vectors that aggregate each User's interaction with another class. The below animation visualizes a real example of this in e-Commerce images.\"\n",
      "}\n",
      "Here is a rewritten paragraph about Ref2Vec:\n",
      "\n",
      "The image showcases how Ref2Vec generates a composite representation of a user by aggregating the vector embeddings of their purchased products - in this case, a pair of boots, shorts, and a Weaviate t-shirt. By leveraging these cross-references, Ref2Vec empowers Weaviate to quickly learn about user preferences and actions, enabling the creation of more accurate and up-to-date user characterizations. This enables the model to capture diverse user interests and tendencies across various dimensions, including product categories and fashion styles, resulting in highly relevant recommendations tailored to individual user preferences and style inclinations.\n",
      "{\n",
      "  \"content\": \"The following image depicts how Ref2Vec aggregates the representations of 3 Product items to represent a User who has purchased a pair of boots, shorts, and Weaviate t-shirt!\\n\\n![Ref2Vec Image](./img/ref2vec.png)\\n\\nSuch a representation of the User, by an aggregation of their cross-references, allows Weaviate to conveniently and immediately learn from each User's preferences and actions to provide improved and up-to-date characterizations. Ref2Vec can in other words capture each User's interests and tendencies across multiple axes, such as product categories or even fashion styles! And by doing so, the resulting recommendations can more closely match the User's product and style preferences. We envision Ref2Vec to have great potential in multiple application areas. Let's take a look at a few of them in more detail, starting with recommendation systems. ## Recommendation in Weaviate\\nMany of you might primarily know Weaviate as a vector database and search engine, but Weaviate can also power high-quality, lightning-fast recommendations.\"\n",
      "}\n"
     ]
    }
   ],
   "source": [
    "blogs = client.collections.get(\"BlogChunks\")\n",
    "\n",
    "\n",
    "response = blogs.generate.near_text(\n",
    "    query=\"What is Ref2Vec?\",\n",
    "    single_prompt=\"Write a short paragraph about ref2vec with this content: {content}\",\n",
    "    limit=3\n",
    ")\n",
    "\n",
    "\n",
    "for o in response.objects:\n",
    "    print(o.generated)\n",
    "    print(json.dumps(o.properties, indent=2))"
   ]
  }
 ],
 "metadata": {
  "kernelspec": {
   "display_name": "Python 3",
   "language": "python",
   "name": "python3"
  },
  "language_info": {
   "codemirror_mode": {
    "name": "ipython",
    "version": 3
   },
   "file_extension": ".py",
   "mimetype": "text/x-python",
   "name": "python",
   "nbconvert_exporter": "python",
   "pygments_lexer": "ipython3",
   "version": "3.11.6"
  }
 },
 "nbformat": 4,
 "nbformat_minor": 2
}
