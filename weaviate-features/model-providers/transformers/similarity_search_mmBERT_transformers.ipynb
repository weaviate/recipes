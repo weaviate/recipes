{
  "cells": [
    {
      "cell_type": "markdown",
      "metadata": {
        "id": "MklMC3etolzu"
      },
      "source": [
        "[![Open In Colab](https://colab.research.google.com/assets/colab-badge.svg)](https://colab.research.google.com/github/weaviate/recipes/blob/main/weaviate-features/model-providers/huggingface/similarity_search_mmBERT.ipynb)"
      ]
    },
    {
      "cell_type": "markdown",
      "source": [
        "## Similarity search with Multilingual ModernBERT (mmBERT) via Hugging Face and Weaviate\n",
        "\n",
        "- Read more on the [blog](https://huggingface.co/blog/mmbert)\n",
        "- Check out the model: [`mmBERT-small`](https://huggingface.co/jhu-clsp/mmBERT-small)"
      ],
      "metadata": {
        "id": "wJ7MqblkouF9"
      }
    },
    {
      "cell_type": "markdown",
      "metadata": {
        "id": "rJD9aP9eVcsT"
      },
      "source": [
        "## Dependencies"
      ]
    },
    {
      "cell_type": "code",
      "execution_count": 9,
      "metadata": {
        "id": "3IgZm3pYwWa8"
      },
      "outputs": [],
      "source": [
        "%%capture\n",
        "%pip install -q -U weaviate-client"
      ]
    },
    {
      "cell_type": "markdown",
      "metadata": {
        "id": "rgL-mnMqVf0B"
      },
      "source": [
        "## Connect to Weaviate\n",
        "\n",
        "This Notebook uses the [`text2vec-transformers`](https://docs.weaviate.io/weaviate/model-providers/transformers/embeddings) module, which is **only** available through Weaviate open-source via [Docker](https://docs.weaviate.io/deploy/installation-guides/docker-installation) or [Kubernetes](https://docs.weaviate.io/deploy/installation-guides/k8s-installation). This integration is **not** available for Weaviate Cloud (WCD) serverless instances, as it requires spinning up a container with the Hugging Face model.\n",
        "\n",
        "This notebook uses a [pre-built transformers model container](https://weaviate.io/developers/weaviate/modules/retriever-vectorizer-modules/text2vec-transformers#pre-built-images). For this, create a `docker-compose.yml` file with the following contents:\n",
        "```\n",
        "---\n",
        "services:\n",
        "  weaviate:\n",
        "    command:\n",
        "    - --host\n",
        "    - 0.0.0.0\n",
        "    - --port\n",
        "    - '8080'\n",
        "    - --scheme\n",
        "    - http\n",
        "    image: cr.weaviate.io/semitechnologies/weaviate:1.32.2\n",
        "    ports:\n",
        "    - 8080:8080\n",
        "    - 50051:50051\n",
        "    restart: on-failure:0\n",
        "    environment:\n",
        "      TRANSFORMERS_INFERENCE_API: 'http://t2v-transformers:8080'\n",
        "      QUERY_DEFAULTS_LIMIT: 25\n",
        "      AUTHENTICATION_ANONYMOUS_ACCESS_ENABLED: 'true'\n",
        "      PERSISTENCE_DATA_PATH: '/var/lib/weaviate'\n",
        "      DEFAULT_VECTORIZER_MODULE: 'text2vec-transformers'\n",
        "      ENABLE_MODULES: 'text2vec-transformers'\n",
        "      CLUSTER_HOSTNAME: 'weaviate-0'\n",
        "  t2v-transformers:\n",
        "    image: cr.weaviate.io/semitechnologies/transformers-inference:jhu-clsp-mmBERT-small\n",
        "    environment:\n",
        "      ENABLE_CUDA: '0'\n",
        "...\n",
        "```\n",
        "and start up Docker container with\n",
        "```\n",
        "docker-compose up -d\n",
        "```"
      ]
    },
    {
      "cell_type": "code",
      "source": [
        "import weaviate\n",
        "\n",
        "# Connect to your local Weaviate instance deployed with Docker\n",
        "client = weaviate.connect_to_local()\n",
        "\n",
        "print(client.is_ready())"
      ],
      "metadata": {
        "id": "nnByDFpEsDL-",
        "colab": {
          "base_uri": "https://localhost:8080/"
        },
        "outputId": "325993c8-503e-4604-ed82-d6cafb7c7f2d"
      },
      "execution_count": 11,
      "outputs": [
        {
          "output_type": "stream",
          "name": "stderr",
          "text": [
            "INFO:weaviate-client:Binary /root/.cache/weaviate-embedded did not exist. Downloading binary from https://github.com/weaviate/weaviate/releases/download/v1.30.5/weaviate-v1.30.5-Linux-amd64.tar.gz\n",
            "INFO:weaviate-client:Started /root/.cache/weaviate-embedded: process ID 1593\n"
          ]
        },
        {
          "output_type": "stream",
          "name": "stdout",
          "text": [
            "True\n"
          ]
        }
      ]
    },
    {
      "cell_type": "code",
      "source": [
        "# Check the cluster metadata to verify if the module is enabled\n",
        "client.get_meta()['modules']"
      ],
      "metadata": {
        "colab": {
          "base_uri": "https://localhost:8080/"
        },
        "id": "a88jHUTCo9ep",
        "outputId": "dc4bf245-9d17-43a3-f3bb-38581ec6cddc"
      },
      "execution_count": 12,
      "outputs": [
        {
          "output_type": "execute_result",
          "data": {
            "text/plain": [
              "{'generative-openai': {'documentationHref': 'https://platform.openai.com/docs/api-reference/completions',\n",
              "  'name': 'Generative Search - OpenAI'},\n",
              " 'qna-openai': {'documentationHref': 'https://platform.openai.com/docs/api-reference/completions',\n",
              "  'name': 'OpenAI Question & Answering Module'},\n",
              " 'ref2vec-centroid': {},\n",
              " 'reranker-cohere': {'documentationHref': 'https://txt.cohere.com/rerank/',\n",
              "  'name': 'Reranker - Cohere'},\n",
              " 'text2vec-cohere': {'documentationHref': 'https://docs.cohere.ai/embedding-wiki/',\n",
              "  'name': 'Cohere Module'},\n",
              " 'text2vec-huggingface': {'documentationHref': 'https://huggingface.co/docs/api-inference/detailed_parameters#feature-extraction-task',\n",
              "  'name': 'Hugging Face Module'},\n",
              " 'text2vec-openai': {'documentationHref': 'https://platform.openai.com/docs/guides/embeddings/what-are-embeddings',\n",
              "  'name': 'OpenAI Module'}}"
            ]
          },
          "metadata": {},
          "execution_count": 12
        }
      ]
    },
    {
      "cell_type": "markdown",
      "metadata": {
        "id": "Ze5J8E4MWC8g"
      },
      "source": [
        "## Create a collection\n",
        "> Collection stores your data and vector embeddings."
      ]
    },
    {
      "cell_type": "code",
      "execution_count": 13,
      "metadata": {
        "id": "J32wdDCMWCgS",
        "colab": {
          "base_uri": "https://localhost:8080/"
        },
        "outputId": "f6907bfc-01f2-479e-ed0d-f939650f83ac"
      },
      "outputs": [
        {
          "output_type": "stream",
          "name": "stdout",
          "text": [
            "Successfully created collection: MyCollection.\n"
          ]
        }
      ],
      "source": [
        "# Note: in practice, you shouldn't rerun this cell, as it deletes your data\n",
        "# in \"MyCollection\", and then you need to re-import it again.\n",
        "import weaviate.classes.config as wc\n",
        "\n",
        "# Delete the collection if it already exists\n",
        "if (client.collections.exists(\"MyCollection\")):\n",
        "    client.collections.delete(\"MyCollection\")\n",
        "\n",
        "# Create a collection\n",
        "collection = client.collections.create(\n",
        "    \"MyCollection\",\n",
        "    vector_config=wc.Configure.Vectors..text2vec_transformers(\n",
        "        dimensions=512, # default: 768, possible options: 128, 256, 512\n",
        "    ),\n",
        "    properties=[ # defining properties (data schema) is optional\n",
        "        wc.Property(name=\"Text\", data_type=wc.DataType.TEXT),\n",
        "    ]\n",
        ")\n",
        "\n",
        "print(\"Successfully created collection: MyCollection.\")"
      ]
    },
    {
      "cell_type": "markdown",
      "metadata": {
        "id": "bjcuCEcCXlRK"
      },
      "source": [
        "## Import the Data"
      ]
    },
    {
      "cell_type": "code",
      "execution_count": 14,
      "metadata": {
        "id": "paWgPOGsa_NV",
        "colab": {
          "base_uri": "https://localhost:8080/",
          "height": 381
        },
        "outputId": "aebde12d-90f1-4e30-b363-f656ae55712f"
      },
      "outputs": [
        {
          "output_type": "error",
          "ename": "WeaviateInsertManyAllFailedError",
          "evalue": "Every object failed during insertion. Here is the set of all errors: unmarshal error response body: Not Found",
          "traceback": [
            "\u001b[0;31m---------------------------------------------------------------------------\u001b[0m",
            "\u001b[0;31mWeaviateInsertManyAllFailedError\u001b[0m          Traceback (most recent call last)",
            "\u001b[0;32m/tmp/ipython-input-1625617165.py\u001b[0m in \u001b[0;36m<cell line: 0>\u001b[0;34m()\u001b[0m\n\u001b[1;32m     20\u001b[0m \u001b[0;34m\u001b[0m\u001b[0m\n\u001b[1;32m     21\u001b[0m \u001b[0;31m# Insert data objects\u001b[0m\u001b[0;34m\u001b[0m\u001b[0;34m\u001b[0m\u001b[0m\n\u001b[0;32m---> 22\u001b[0;31m \u001b[0mresponse\u001b[0m \u001b[0;34m=\u001b[0m \u001b[0mcollection\u001b[0m\u001b[0;34m.\u001b[0m\u001b[0mdata\u001b[0m\u001b[0;34m.\u001b[0m\u001b[0minsert_many\u001b[0m\u001b[0;34m(\u001b[0m\u001b[0mmultilingual_data\u001b[0m\u001b[0;34m)\u001b[0m\u001b[0;34m\u001b[0m\u001b[0;34m\u001b[0m\u001b[0m\n\u001b[0m\u001b[1;32m     23\u001b[0m \u001b[0;34m\u001b[0m\u001b[0m\n\u001b[1;32m     24\u001b[0m \u001b[0;31m# Note, the `data` array contains 10 objects, which is great to call insert_many with.\u001b[0m\u001b[0;34m\u001b[0m\u001b[0;34m\u001b[0m\u001b[0m\n",
            "\u001b[0;32m/usr/local/lib/python3.12/dist-packages/weaviate/collections/data/executor.py\u001b[0m in \u001b[0;36minsert_many\u001b[0;34m(self, objects)\u001b[0m\n\u001b[1;32m    196\u001b[0m             \u001b[0;32mreturn\u001b[0m \u001b[0mres\u001b[0m\u001b[0;34m\u001b[0m\u001b[0;34m\u001b[0m\u001b[0m\n\u001b[1;32m    197\u001b[0m \u001b[0;34m\u001b[0m\u001b[0m\n\u001b[0;32m--> 198\u001b[0;31m         return executor.execute(\n\u001b[0m\u001b[1;32m    199\u001b[0m             \u001b[0mresponse_callback\u001b[0m\u001b[0;34m=\u001b[0m\u001b[0mresp\u001b[0m\u001b[0;34m,\u001b[0m\u001b[0;34m\u001b[0m\u001b[0;34m\u001b[0m\u001b[0m\n\u001b[1;32m    200\u001b[0m             \u001b[0mmethod\u001b[0m\u001b[0;34m=\u001b[0m\u001b[0mself\u001b[0m\u001b[0;34m.\u001b[0m\u001b[0m__batch_grpc\u001b[0m\u001b[0;34m.\u001b[0m\u001b[0mobjects\u001b[0m\u001b[0;34m,\u001b[0m\u001b[0;34m\u001b[0m\u001b[0;34m\u001b[0m\u001b[0m\n",
            "\u001b[0;32m/usr/local/lib/python3.12/dist-packages/weaviate/connect/executor.py\u001b[0m in \u001b[0;36mexecute\u001b[0;34m(method, response_callback, exception_callback, *args, **kwargs)\u001b[0m\n\u001b[1;32m     97\u001b[0m         \u001b[0;32mreturn\u001b[0m \u001b[0mresp_call\u001b[0m\u001b[0;34m\u001b[0m\u001b[0;34m\u001b[0m\u001b[0m\n\u001b[1;32m     98\u001b[0m     \u001b[0;32mexcept\u001b[0m \u001b[0mException\u001b[0m \u001b[0;32mas\u001b[0m \u001b[0me\u001b[0m\u001b[0;34m:\u001b[0m\u001b[0;34m\u001b[0m\u001b[0;34m\u001b[0m\u001b[0m\n\u001b[0;32m---> 99\u001b[0;31m         \u001b[0;32mreturn\u001b[0m \u001b[0mcast\u001b[0m\u001b[0;34m(\u001b[0m\u001b[0mT\u001b[0m\u001b[0;34m,\u001b[0m \u001b[0mexception_callback\u001b[0m\u001b[0;34m(\u001b[0m\u001b[0me\u001b[0m\u001b[0;34m)\u001b[0m\u001b[0;34m)\u001b[0m\u001b[0;34m\u001b[0m\u001b[0;34m\u001b[0m\u001b[0m\n\u001b[0m\u001b[1;32m    100\u001b[0m \u001b[0;34m\u001b[0m\u001b[0m\n\u001b[1;32m    101\u001b[0m \u001b[0;34m\u001b[0m\u001b[0m\n",
            "\u001b[0;32m/usr/local/lib/python3.12/dist-packages/weaviate/connect/executor.py\u001b[0m in \u001b[0;36mraise_exception\u001b[0;34m(e)\u001b[0m\n\u001b[1;32m     36\u001b[0m \u001b[0;34m\u001b[0m\u001b[0m\n\u001b[1;32m     37\u001b[0m \u001b[0;32mdef\u001b[0m \u001b[0mraise_exception\u001b[0m\u001b[0;34m(\u001b[0m\u001b[0me\u001b[0m\u001b[0;34m:\u001b[0m \u001b[0mException\u001b[0m\u001b[0;34m)\u001b[0m \u001b[0;34m->\u001b[0m \u001b[0mAny\u001b[0m\u001b[0;34m:\u001b[0m\u001b[0;34m\u001b[0m\u001b[0;34m\u001b[0m\u001b[0m\n\u001b[0;32m---> 38\u001b[0;31m     \u001b[0;32mraise\u001b[0m \u001b[0me\u001b[0m\u001b[0;34m\u001b[0m\u001b[0;34m\u001b[0m\u001b[0m\n\u001b[0m\u001b[1;32m     39\u001b[0m \u001b[0;34m\u001b[0m\u001b[0m\n\u001b[1;32m     40\u001b[0m \u001b[0;34m\u001b[0m\u001b[0m\n",
            "\u001b[0;32m/usr/local/lib/python3.12/dist-packages/weaviate/connect/executor.py\u001b[0m in \u001b[0;36mexecute\u001b[0;34m(method, response_callback, exception_callback, *args, **kwargs)\u001b[0m\n\u001b[1;32m     78\u001b[0m     \u001b[0;31m# wrap method call in try-except to catch exceptions for sync method\u001b[0m\u001b[0;34m\u001b[0m\u001b[0;34m\u001b[0m\u001b[0m\n\u001b[1;32m     79\u001b[0m     \u001b[0;32mtry\u001b[0m\u001b[0;34m:\u001b[0m\u001b[0;34m\u001b[0m\u001b[0;34m\u001b[0m\u001b[0m\n\u001b[0;32m---> 80\u001b[0;31m         \u001b[0mcall\u001b[0m \u001b[0;34m=\u001b[0m \u001b[0mmethod\u001b[0m\u001b[0;34m(\u001b[0m\u001b[0;34m*\u001b[0m\u001b[0margs\u001b[0m\u001b[0;34m,\u001b[0m \u001b[0;34m**\u001b[0m\u001b[0mkwargs\u001b[0m\u001b[0;34m)\u001b[0m\u001b[0;34m\u001b[0m\u001b[0;34m\u001b[0m\u001b[0m\n\u001b[0m\u001b[1;32m     81\u001b[0m         \u001b[0;32mif\u001b[0m \u001b[0misinstance\u001b[0m\u001b[0;34m(\u001b[0m\u001b[0mcall\u001b[0m\u001b[0;34m,\u001b[0m \u001b[0mAwaitable\u001b[0m\u001b[0;34m)\u001b[0m\u001b[0;34m:\u001b[0m\u001b[0;34m\u001b[0m\u001b[0;34m\u001b[0m\u001b[0m\n\u001b[1;32m     82\u001b[0m \u001b[0;34m\u001b[0m\u001b[0m\n",
            "\u001b[0;32m/usr/local/lib/python3.12/dist-packages/weaviate/collections/batch/grpc_batch_objects.py\u001b[0m in \u001b[0;36mobjects\u001b[0;34m(self, connection, objects, timeout, max_retries)\u001b[0m\n\u001b[1;32m    144\u001b[0m             \u001b[0mconsistency_level\u001b[0m\u001b[0;34m=\u001b[0m\u001b[0mself\u001b[0m\u001b[0;34m.\u001b[0m\u001b[0m_consistency_level\u001b[0m\u001b[0;34m,\u001b[0m\u001b[0;34m\u001b[0m\u001b[0;34m\u001b[0m\u001b[0m\n\u001b[1;32m    145\u001b[0m         )\n\u001b[0;32m--> 146\u001b[0;31m         return executor.execute(\n\u001b[0m\u001b[1;32m    147\u001b[0m             \u001b[0mresponse_callback\u001b[0m\u001b[0;34m=\u001b[0m\u001b[0mresp\u001b[0m\u001b[0;34m,\u001b[0m\u001b[0;34m\u001b[0m\u001b[0;34m\u001b[0m\u001b[0m\n\u001b[1;32m    148\u001b[0m             \u001b[0mmethod\u001b[0m\u001b[0;34m=\u001b[0m\u001b[0mconnection\u001b[0m\u001b[0;34m.\u001b[0m\u001b[0mgrpc_batch_objects\u001b[0m\u001b[0;34m,\u001b[0m\u001b[0;34m\u001b[0m\u001b[0;34m\u001b[0m\u001b[0m\n",
            "\u001b[0;32m/usr/local/lib/python3.12/dist-packages/weaviate/connect/executor.py\u001b[0m in \u001b[0;36mexecute\u001b[0;34m(method, response_callback, exception_callback, *args, **kwargs)\u001b[0m\n\u001b[1;32m     97\u001b[0m         \u001b[0;32mreturn\u001b[0m \u001b[0mresp_call\u001b[0m\u001b[0;34m\u001b[0m\u001b[0;34m\u001b[0m\u001b[0m\n\u001b[1;32m     98\u001b[0m     \u001b[0;32mexcept\u001b[0m \u001b[0mException\u001b[0m \u001b[0;32mas\u001b[0m \u001b[0me\u001b[0m\u001b[0;34m:\u001b[0m\u001b[0;34m\u001b[0m\u001b[0;34m\u001b[0m\u001b[0m\n\u001b[0;32m---> 99\u001b[0;31m         \u001b[0;32mreturn\u001b[0m \u001b[0mcast\u001b[0m\u001b[0;34m(\u001b[0m\u001b[0mT\u001b[0m\u001b[0;34m,\u001b[0m \u001b[0mexception_callback\u001b[0m\u001b[0;34m(\u001b[0m\u001b[0me\u001b[0m\u001b[0;34m)\u001b[0m\u001b[0;34m)\u001b[0m\u001b[0;34m\u001b[0m\u001b[0;34m\u001b[0m\u001b[0m\n\u001b[0m\u001b[1;32m    100\u001b[0m \u001b[0;34m\u001b[0m\u001b[0m\n\u001b[1;32m    101\u001b[0m \u001b[0;34m\u001b[0m\u001b[0m\n",
            "\u001b[0;32m/usr/local/lib/python3.12/dist-packages/weaviate/connect/executor.py\u001b[0m in \u001b[0;36mraise_exception\u001b[0;34m(e)\u001b[0m\n\u001b[1;32m     36\u001b[0m \u001b[0;34m\u001b[0m\u001b[0m\n\u001b[1;32m     37\u001b[0m \u001b[0;32mdef\u001b[0m \u001b[0mraise_exception\u001b[0m\u001b[0;34m(\u001b[0m\u001b[0me\u001b[0m\u001b[0;34m:\u001b[0m \u001b[0mException\u001b[0m\u001b[0;34m)\u001b[0m \u001b[0;34m->\u001b[0m \u001b[0mAny\u001b[0m\u001b[0;34m:\u001b[0m\u001b[0;34m\u001b[0m\u001b[0;34m\u001b[0m\u001b[0m\n\u001b[0;32m---> 38\u001b[0;31m     \u001b[0;32mraise\u001b[0m \u001b[0me\u001b[0m\u001b[0;34m\u001b[0m\u001b[0;34m\u001b[0m\u001b[0m\n\u001b[0m\u001b[1;32m     39\u001b[0m \u001b[0;34m\u001b[0m\u001b[0m\n\u001b[1;32m     40\u001b[0m \u001b[0;34m\u001b[0m\u001b[0m\n",
            "\u001b[0;32m/usr/local/lib/python3.12/dist-packages/weaviate/connect/executor.py\u001b[0m in \u001b[0;36mexecute\u001b[0;34m(method, response_callback, exception_callback, *args, **kwargs)\u001b[0m\n\u001b[1;32m     93\u001b[0m \u001b[0;34m\u001b[0m\u001b[0m\n\u001b[1;32m     94\u001b[0m             \u001b[0;32mreturn\u001b[0m \u001b[0m_execute\u001b[0m\u001b[0;34m(\u001b[0m\u001b[0;34m)\u001b[0m\u001b[0;34m\u001b[0m\u001b[0;34m\u001b[0m\u001b[0m\n\u001b[0;32m---> 95\u001b[0;31m         \u001b[0mresp_call\u001b[0m \u001b[0;34m=\u001b[0m \u001b[0mresponse_callback\u001b[0m\u001b[0;34m(\u001b[0m\u001b[0mcall\u001b[0m\u001b[0;34m)\u001b[0m\u001b[0;34m\u001b[0m\u001b[0;34m\u001b[0m\u001b[0m\n\u001b[0m\u001b[1;32m     96\u001b[0m         \u001b[0;32massert\u001b[0m \u001b[0;32mnot\u001b[0m \u001b[0misinstance\u001b[0m\u001b[0;34m(\u001b[0m\u001b[0mresp_call\u001b[0m\u001b[0;34m,\u001b[0m \u001b[0mAwaitable\u001b[0m\u001b[0;34m)\u001b[0m\u001b[0;34m\u001b[0m\u001b[0;34m\u001b[0m\u001b[0m\n\u001b[1;32m     97\u001b[0m         \u001b[0;32mreturn\u001b[0m \u001b[0mresp_call\u001b[0m\u001b[0;34m\u001b[0m\u001b[0;34m\u001b[0m\u001b[0m\n",
            "\u001b[0;32m/usr/local/lib/python3.12/dist-packages/weaviate/collections/batch/grpc_batch_objects.py\u001b[0m in \u001b[0;36mresp\u001b[0;34m(errors)\u001b[0m\n\u001b[1;32m    104\u001b[0m             \u001b[0;32mif\u001b[0m \u001b[0mlen\u001b[0m\u001b[0;34m(\u001b[0m\u001b[0merrors\u001b[0m\u001b[0;34m)\u001b[0m \u001b[0;34m==\u001b[0m \u001b[0mlen\u001b[0m\u001b[0;34m(\u001b[0m\u001b[0mweaviate_objs\u001b[0m\u001b[0;34m)\u001b[0m\u001b[0;34m:\u001b[0m\u001b[0;34m\u001b[0m\u001b[0;34m\u001b[0m\u001b[0m\n\u001b[1;32m    105\u001b[0m                 \u001b[0;31m# Escape sequence (backslash) not allowed in expression portion of f-string prior to Python 3.12: pylance\u001b[0m\u001b[0;34m\u001b[0m\u001b[0;34m\u001b[0m\u001b[0m\n\u001b[0;32m--> 106\u001b[0;31m                 raise WeaviateInsertManyAllFailedError(\n\u001b[0m\u001b[1;32m    107\u001b[0m                     \"Here is the set of all errors: {}\".format(\n\u001b[1;32m    108\u001b[0m                         \u001b[0;34m\"\\n\"\u001b[0m\u001b[0;34m.\u001b[0m\u001b[0mjoin\u001b[0m\u001b[0;34m(\u001b[0m\u001b[0merr\u001b[0m \u001b[0;32mfor\u001b[0m \u001b[0merr\u001b[0m \u001b[0;32min\u001b[0m \u001b[0mset\u001b[0m\u001b[0;34m(\u001b[0m\u001b[0merrors\u001b[0m\u001b[0;34m.\u001b[0m\u001b[0mvalues\u001b[0m\u001b[0;34m(\u001b[0m\u001b[0;34m)\u001b[0m\u001b[0;34m)\u001b[0m\u001b[0;34m)\u001b[0m\u001b[0;34m\u001b[0m\u001b[0;34m\u001b[0m\u001b[0m\n",
            "\u001b[0;31mWeaviateInsertManyAllFailedError\u001b[0m: Every object failed during insertion. Here is the set of all errors: unmarshal error response body: Not Found"
          ]
        }
      ],
      "source": [
        "# Set up our multi-lingual data\n",
        "multilingual_data = [\n",
        "    {\"text\": \"The quick brown fox jumps over the lazy dog.\"},\n",
        "    {\"text\": \"Der schnelle braune Fuchs springt über den faulen Hund.\"},\n",
        "\n",
        "    {\"text\": \"Artificial intelligence is transforming industries.\"},\n",
        "    {\"text\": \"Künstliche Intelligenz verändert Industrien.\"},\n",
        "\n",
        "    {\"text\": \"I love to read books in my free time.\"},\n",
        "    {\"text\": \"Ich lese gerne Bücher in meiner Freizeit.\"},\n",
        "\n",
        "    {\"text\": \"Beautiful weather today, perfect for a walk.\"},\n",
        "    {\"text\": \"Schönes Wetter heute, perfekt für einen Spaziergang.\"},\n",
        "\n",
        "    {\"text\": \"The capital of Germany is Berlin.\"},\n",
        "    {\"text\": \"Die Hauptstadt Deutschlands ist Berlin.\"}\n",
        "\n",
        "]\n",
        "\n",
        "\n",
        "# Insert data objects\n",
        "response = collection.data.insert_many(multilingual_data)\n",
        "\n",
        "# Note, the `data` array contains 10 objects, which is great to call insert_many with.\n",
        "# However, if you have a milion objects to insert, then you should spit them into smaller batches (i.e. 100-1000 per insert)\n",
        "\n",
        "if (response.has_errors):\n",
        "    print(response.errors)\n",
        "else:\n",
        "    print(\"Insert complete.\")"
      ]
    },
    {
      "cell_type": "markdown",
      "source": [
        "Quick check to see if all objects are in."
      ],
      "metadata": {
        "id": "Sz-D8_4IpNue"
      }
    },
    {
      "cell_type": "code",
      "source": [
        "len(collection)"
      ],
      "metadata": {
        "id": "wkIUTMcEpRPL"
      },
      "execution_count": null,
      "outputs": []
    },
    {
      "cell_type": "markdown",
      "metadata": {
        "id": "NISdgAYebLyX"
      },
      "source": [
        "## Query Weaviate: Similarity Search (Text objects)"
      ]
    },
    {
      "cell_type": "markdown",
      "metadata": {
        "id": "zHSeuEgScFFS"
      },
      "source": [
        "Similarity search options for text objects in **Weaviate**:\n",
        "\n",
        "1. [near_text](https://weaviate.io/developers/weaviate/search/similarity#an-input-medium)\n",
        "\n",
        "2. [near_object](https://weaviate.io/developers/weaviate/search/similarity#an-object)\n",
        "\n",
        "3. [near_vector](https://weaviate.io/developers/weaviate/search/similarity#a-vector)"
      ]
    },
    {
      "cell_type": "markdown",
      "metadata": {
        "id": "XF-ln5Nsgp1C"
      },
      "source": [
        "### nearText Example"
      ]
    },
    {
      "cell_type": "markdown",
      "metadata": {
        "id": "4yROGPv9huDe"
      },
      "source": [
        "Find a object in `MyCollection` closest to the query \"What's the capital of Germany?\". Limit it to only 4 responses."
      ]
    },
    {
      "cell_type": "code",
      "execution_count": null,
      "metadata": {
        "id": "bA9Hjy_Molzx"
      },
      "outputs": [],
      "source": [
        "import weaviate.classes.query as wq\n",
        "import json\n",
        "\n",
        "# note, you can reuse the collection object from the previous cell.\n",
        "# Get a collection object for \"JeopardyQuestion\"\n",
        "collection = client.collections.get(\"MyCollection\")\n",
        "\n",
        "query = \"What's the capital of Germany?\"\n",
        "\n",
        "response = collection.query.near_text(\n",
        "    query=query,\n",
        "    include_vector=True,                             # return the vector embeddings\n",
        "    return_metadata=wq.MetadataQuery(distance=True), # return the distance\n",
        "    limit=3\n",
        ")\n",
        "\n",
        "for item in response.objects:\n",
        "    print(\"ID:\", item.uuid)\n",
        "    print(\"Data:\", json.dumps(item.properties, indent=2))\n",
        "    print(\"Vector:\", item.vector['default'][:3], '...')\n",
        "    print(\"Distance:\", item.metadata.distance, \"\\n\")"
      ]
    },
    {
      "cell_type": "code",
      "source": [
        "# Save last item's vector embedding and UUID for near_object and near_vector search\n",
        "vector = item.vector['default']\n",
        "uuid = item.uuid"
      ],
      "metadata": {
        "id": "UYMIsYwQpY8O"
      },
      "execution_count": null,
      "outputs": []
    },
    {
      "cell_type": "markdown",
      "metadata": {
        "id": "Bn-ELUA_iJVM"
      },
      "source": [
        "### nearObject Example"
      ]
    },
    {
      "cell_type": "markdown",
      "metadata": {
        "id": "uI9GY5kOihM9"
      },
      "source": [
        "Search through the `JeopardyQuestion` class to find the top 4 objects closest to id (The id was taken from the query above)"
      ]
    },
    {
      "cell_type": "code",
      "execution_count": null,
      "metadata": {
        "id": "NBk3tH7Holzy"
      },
      "outputs": [],
      "source": [
        "print(uuid)\n",
        "\n",
        "response = collection.query.near_object(\n",
        "    near_object=uuid, # replace with your id of interest\n",
        "    limit=4\n",
        ")\n",
        "\n",
        "for item in response.objects:\n",
        "    print(\"ID:\", item.uuid)\n",
        "    print(\"Data:\", item.properties, \"\\n\")"
      ]
    },
    {
      "cell_type": "markdown",
      "metadata": {
        "id": "UzNmHZdijTKu"
      },
      "source": [
        "### nearVector Example"
      ]
    },
    {
      "cell_type": "markdown",
      "metadata": {
        "id": "mVUXMzMcjXmC"
      },
      "source": [
        "Search through the `MyCollection` class to find the top 2 objects closest to the query vector."
      ]
    },
    {
      "cell_type": "code",
      "execution_count": null,
      "metadata": {
        "id": "ZZARB1qUjUoq"
      },
      "outputs": [],
      "source": [
        "print(vector[:5])\n",
        "\n",
        "response = collection.query.near_vector(\n",
        "    near_vector=vector, # your vector object goes here\n",
        "    limit=4\n",
        ")\n",
        "\n",
        "for item in response.objects:\n",
        "    print(\"ID:\", item.uuid)\n",
        "    print(\"Data:\", item.properties, \"\\n\")"
      ]
    }
  ],
  "metadata": {
    "colab": {
      "collapsed_sections": [
        "rJD9aP9eVcsT",
        "rgL-mnMqVf0B",
        "Ze5J8E4MWC8g",
        "bjcuCEcCXlRK",
        "XF-ln5Nsgp1C",
        "Bn-ELUA_iJVM"
      ],
      "provenance": []
    },
    "kernelspec": {
      "display_name": "Python 3.11.3 64-bit",
      "language": "python",
      "name": "python3"
    },
    "language_info": {
      "codemirror_mode": {
        "name": "ipython",
        "version": 3
      },
      "file_extension": ".py",
      "mimetype": "text/x-python",
      "name": "python",
      "nbconvert_exporter": "python",
      "pygments_lexer": "ipython3",
      "version": "3.11.5"
    },
    "vscode": {
      "interpreter": {
        "hash": "aee8b7b246df8f9039afb4144a1f6fd8d2ca17a180786b69acc140d282b71a49"
      }
    }
  },
  "nbformat": 4,
  "nbformat_minor": 0
}