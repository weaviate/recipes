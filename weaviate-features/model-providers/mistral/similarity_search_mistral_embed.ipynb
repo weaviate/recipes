{
 "cells": [
  {
   "cell_type": "markdown",
   "metadata": {},
   "source": [
    "[![Open In Colab](https://colab.research.google.com/assets/colab-badge.svg)](https://colab.research.google.com/github/weaviate/recipes/blob/main/weaviate-features/model-providers/mistral/similarity_search_mistral_embed.ipynb)"
   ]
  },
  {
   "cell_type": "markdown",
   "metadata": {},
   "source": [
    "# Similarity Search with Mistral\n",
    "\n",
    "This recipe will show you how to run semantic search with embeddings from Mistral."
   ]
  },
  {
   "cell_type": "markdown",
   "metadata": {},
   "source": [
    "## Requirements\n",
    "\n",
    "1. Weaviate cluster\n",
    "    1. You can create a 14-day free sandbox on [WCD](https://console.weaviate.cloud/)\n",
    "    2. [Embedded Weaviate](https://weaviate.io/developers/weaviate/installation/embedded)\n",
    "    3. [Local deployment](https://weaviate.io/developers/weaviate/installation/docker-compose#starter-docker-compose-file)\n",
    "    4. [Other options](https://weaviate.io/developers/weaviate/installation)\n",
    "\n",
    "2. Mistral API key. Grab one [here](https://docs.mistral.ai/api/)."
   ]
  },
  {
   "cell_type": "code",
   "execution_count": 2,
   "metadata": {},
   "outputs": [],
   "source": [
    "import weaviate, os\n",
    "from weaviate.embedded import EmbeddedOptions\n",
    "import weaviate.classes as wvc\n",
    "import weaviate.classes.config as wc\n",
    "import requests, json\n",
    "import weaviate.classes.query as wq"
   ]
  },
  {
   "cell_type": "markdown",
   "metadata": {},
   "source": [
    "## Connect to Weaviate\n",
    "\n",
    "Only choose one option from the below."
   ]
  },
  {
   "cell_type": "markdown",
   "metadata": {},
   "source": [
    "**Weaviate Cloud Deployment**"
   ]
  },
  {
   "cell_type": "code",
   "execution_count": null,
   "metadata": {},
   "outputs": [],
   "source": [
    "WCD_URL = os.environ[\"WEAVIATE_URL\"] # Replace with your Weaviate cluster URL\n",
    "WCD_AUTH_KEY = os.environ[\"WEAVIATE_AUTH\"] # Replace with your cluster auth key\n",
    "MISTRAL_KEY = os.environ[\"MISTRAL_API_KEY\"] # Replace with your Mistral key\n",
    "\n",
    "# Weaviate Cloud Deployment\n",
    "client = weaviate.connect_to_wcs(\n",
    "    cluster_url=WCD_URL,\n",
    "    auth_credentials=weaviate.auth.AuthApiKey(WCD_AUTH_KEY),\n",
    "      headers={ \"X-Mistral-Api-Key\": MISTRAL_KEY}\n",
    ")\n",
    "\n",
    "print(client.is_ready())"
   ]
  },
  {
   "cell_type": "markdown",
   "metadata": {},
   "source": [
    "**Embedded Weaviate**"
   ]
  },
  {
   "cell_type": "code",
   "execution_count": null,
   "metadata": {},
   "outputs": [],
   "source": [
    "# MISTRAL_KEY = os.environ[\"MISTRAL_API_KEY\"] # Replace with your Mistral key\n",
    "\n",
    "# client = weaviate.WeaviateClient(\n",
    "#     embedded_options=EmbeddedOptions(\n",
    "#         version=\"1.26.1\",\n",
    "#         additional_env_vars={\n",
    "#             \"ENABLE_MODULES\": \"text2vec-mistral\"\n",
    "#         }),\n",
    "#         additional_headers={\n",
    "#             \"X-Mistral-Api-Key\": MISTRAL_KEY\n",
    "#         }\n",
    "# )\n",
    "\n",
    "# client.connect()"
   ]
  },
  {
   "cell_type": "markdown",
   "metadata": {},
   "source": [
    "**Local Deployment**"
   ]
  },
  {
   "cell_type": "code",
   "execution_count": null,
   "metadata": {},
   "outputs": [],
   "source": [
    "# MISTRAL_KEY = os.environ[\"MISTRAL_API_KEY\"] # Replace with your Mistral key\n",
    "\n",
    "# client = weaviate.connect_to_local(\n",
    "#   headers={\n",
    "#     \"X-Mistral-Api-Key\": MISTRAL_KEY\n",
    "#   }\n",
    "# )\n",
    "# print(client.is_ready())"
   ]
  },
  {
   "cell_type": "markdown",
   "metadata": {},
   "source": [
    "## Create a collection\n",
    "> Collection stores your data and vector embeddings."
   ]
  },
  {
   "cell_type": "code",
   "execution_count": null,
   "metadata": {},
   "outputs": [],
   "source": [
    "# Note: in practice, you shouldn't rerun this cell, as it deletes your data\n",
    "# in \"JeopardyQuestion\", and then you need to re-import it again.\n",
    "\n",
    "# Delete the collection if it already exists\n",
    "if (client.collections.exists(\"JeopardyQuestion\")):\n",
    "    client.collections.delete(\"JeopardyQuestion\")\n",
    "\n",
    "client.collections.create(\n",
    "    name=\"JeopardyQuestion\",\n",
    "\n",
    "    vectorizer_config=wc.Configure.Vectorizer.text2vec_mistral( # specify the vectorizer and model\n",
    "        model=\"mistral-embed\",\n",
    "    ),\n",
    "\n",
    "    properties=[ # defining properties (data schema) is optional\n",
    "        wc.Property(name=\"Question\", data_type=wc.DataType.TEXT), \n",
    "        wc.Property(name=\"Answer\", data_type=wc.DataType.TEXT),\n",
    "        wc.Property(name=\"Category\", data_type=wc.DataType.TEXT, skip_vectorization=True), \n",
    "    ]\n",
    ")\n",
    "\n",
    "print(\"Successfully created collection: JeopardyQuestion.\")"
   ]
  },
  {
   "cell_type": "markdown",
   "metadata": {},
   "source": [
    "## Import the Data"
   ]
  },
  {
   "cell_type": "code",
   "execution_count": null,
   "metadata": {},
   "outputs": [],
   "source": [
    "url = 'https://raw.githubusercontent.com/weaviate/weaviate-examples/main/jeopardy_small_dataset/jeopardy_tiny.json'\n",
    "resp = requests.get(url)\n",
    "data = json.loads(resp.text)\n",
    "\n",
    "# Get a collection object for \"JeopardyQuestion\"\n",
    "jeopardy = client.collections.get(\"JeopardyQuestion\")\n",
    "\n",
    "# Insert data objects\n",
    "response = jeopardy.data.insert_many(data)\n",
    "\n",
    "# Note, the `data` array contains 10 objects, which is great to call insert_many with.\n",
    "# However, if you have a milion objects to insert, then you should spit them into smaller batches (i.e. 100-1000 per insert)\n",
    "\n",
    "if (response.has_errors):\n",
    "    print(response.errors)\n",
    "else:\n",
    "    print(\"Insert complete.\")"
   ]
  },
  {
   "cell_type": "markdown",
   "metadata": {},
   "source": [
    "## Query Weaviate: Similarity Search (Text objects)"
   ]
  },
  {
   "cell_type": "markdown",
   "metadata": {},
   "source": [
    "Similarity search options for text objects in **Weaviate**:\n",
    "\n",
    "1. [near_text](https://weaviate.io/developers/weaviate/search/similarity#an-input-medium)\n",
    "\n",
    "2. [near_object](https://weaviate.io/developers/weaviate/search/similarity#an-object)\n",
    "\n",
    "3. [near_vector](https://weaviate.io/developers/weaviate/search/similarity#a-vector)"
   ]
  },
  {
   "cell_type": "markdown",
   "metadata": {},
   "source": [
    "### `nearText` Example\n",
    "Find a `JeopardyQuestion` about \"animals in movies\". Limit it to only 4 responses."
   ]
  },
  {
   "cell_type": "code",
   "execution_count": null,
   "metadata": {},
   "outputs": [],
   "source": [
    "# note, you can reuse the collection object from the previous cell.\n",
    "# Get a collection object for \"JeopardyQuestion\"\n",
    "jeopardy = client.collections.get(\"JeopardyQuestion\")\n",
    "\n",
    "response = jeopardy.query.near_text(\n",
    "    query=\"african beasts\",\n",
    "    limit=4\n",
    ")\n",
    "\n",
    "for item in response.objects:\n",
    "    print(\"ID:\", item.uuid)\n",
    "    print(\"Data:\", json.dumps(item.properties, indent=2), \"\\n\")"
   ]
  },
  {
   "cell_type": "markdown",
   "metadata": {},
   "source": [
    "**Return vector embeddings**"
   ]
  },
  {
   "cell_type": "code",
   "execution_count": null,
   "metadata": {},
   "outputs": [],
   "source": [
    "response = jeopardy.query.near_text(\n",
    "    query=\"african beasts\",\n",
    "    include_vector=True,\n",
    "    limit=4\n",
    ")\n",
    "\n",
    "for item in response.objects:\n",
    "    print(\"ID:\", item.uuid)\n",
    "    print(\"Data:\", json.dumps(item.properties, indent=2))\n",
    "    print(\"Vector:\", item.vector, \"\\n\")"
   ]
  },
  {
   "cell_type": "markdown",
   "metadata": {},
   "source": [
    "**Now, also request the `distance` for each returned item.**"
   ]
  },
  {
   "cell_type": "code",
   "execution_count": null,
   "metadata": {},
   "outputs": [],
   "source": [
    "response = jeopardy.query.near_text(\n",
    "    query=\"african beasts\",\n",
    "    return_metadata=wq.MetadataQuery(distance=True),\n",
    "    limit=4\n",
    ")\n",
    "\n",
    "for item in response.objects:\n",
    "    print(\"ID:\", item.uuid)\n",
    "    print(\"Distance:\", item.metadata.distance)\n",
    "    print(\"Data:\", item.properties, \"\\n\")"
   ]
  },
  {
   "cell_type": "markdown",
   "metadata": {},
   "source": [
    "### `nearObject` Example"
   ]
  },
  {
   "cell_type": "markdown",
   "metadata": {},
   "source": [
    "Search through the `JeopardyQuestion` class to find the top 4 objects closest to id `a1dd67f9-bfa7-45e1-b45e-26eb8c52e9a6`. (The id was taken from the query above)"
   ]
  },
  {
   "cell_type": "code",
   "execution_count": null,
   "metadata": {},
   "outputs": [],
   "source": [
    "response = jeopardy.query.near_object(\n",
    "    near_object=\"a1dd67f9-bfa7-45e1-b45e-26eb8c52e9a6\", # replace with your id of interest\n",
    "    limit=4\n",
    ")\n",
    "\n",
    "for item in response.objects:\n",
    "    print(\"ID:\", item.uuid)\n",
    "    print(\"Data:\", item.properties, \"\\n\")"
   ]
  },
  {
   "cell_type": "markdown",
   "metadata": {},
   "source": [
    "### `nearVector` Example\n",
    "Search through the `JeopardyQuestion` class to find the top 2 objects closest to the query vector `[-0.0125526935, -0.021168863, ... ]`"
   ]
  },
  {
   "cell_type": "code",
   "execution_count": null,
   "metadata": {},
   "outputs": [],
   "source": [
    "response = jeopardy.query.near_vector(\n",
    "    near_vector=[-0.0125526935, -0.021168863, ... ], # your vector object goes here\n",
    "    limit=4\n",
    ")\n",
    "\n",
    "for item in response.objects:\n",
    "    print(\"ID:\", item.uuid)\n",
    "    print(\"Data:\", item.properties, \"\\n\")"
   ]
  }
 ],
 "metadata": {
  "kernelspec": {
   "display_name": "Python 3",
   "language": "python",
   "name": "python3"
  },
  "language_info": {
   "codemirror_mode": {
    "name": "ipython",
    "version": 3
   },
   "file_extension": ".py",
   "mimetype": "text/x-python",
   "name": "python",
   "nbconvert_exporter": "python",
   "pygments_lexer": "ipython3",
   "version": "3.11.6"
  }
 },
 "nbformat": 4,
 "nbformat_minor": 2
}
