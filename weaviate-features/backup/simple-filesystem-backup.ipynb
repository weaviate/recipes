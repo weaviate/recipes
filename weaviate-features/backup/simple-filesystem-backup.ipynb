{
 "cells": [
  {
   "cell_type": "markdown",
   "metadata": {},
   "source": [
    "[![Open In Colab](https://colab.research.google.com/assets/colab-badge.svg)](https://colab.research.google.com/github/weaviate/recipes/blob/main/weaviate-features/backup/simple-filesystem-backup.ipynb)"
   ]
  },
  {
   "cell_type": "markdown",
   "metadata": {},
   "source": [
    "# Simple Backup\n",
    "\n",
    "This is a simple example on how  to use backup. We will run Weaviate Embedded, and we'll enable the [backup-filesystem](https://weaviate.io/developers/weaviate/configuration/backups#filesystem) module at the environment variable `ENABLE_MODULES`  and provide a `BACKUP_FILESYSTEM_PATH` where backups can be created to and restored from.\n",
    "\n",
    "**Note**: the backup-filesystem is only suitable for single node clusters. \n",
    "\n",
    "For multi-node cluster you need to use a remote bucket, such as Minio, S3, GCP, etc. [Check all options here](https://weaviate.io/developers/weaviate/configuration/backups#configuration)"
   ]
  },
  {
   "cell_type": "code",
   "execution_count": null,
   "metadata": {},
   "outputs": [],
   "source": [
    "import os\n",
    "import weaviate\n",
    "\n",
    "client = weaviate.connect_to_embedded(\n",
    "    version=\"1.30.0\",\n",
    "    environment_variables={\n",
    "        \"ENABLE_MODULES\": \"backup-filesystem\",\n",
    "        \"BACKUP_FILESYSTEM_PATH\": \"/tmp/weaviate-backup\",\n",
    "    },\n",
    ")"
   ]
  },
  {
   "cell_type": "code",
   "execution_count": 2,
   "metadata": {},
   "outputs": [],
   "source": [
    "# now, let's create our backup folder\n",
    "os.makedirs(\"/tmp/weaviate-backup\", exist_ok=True)"
   ]
  },
  {
   "cell_type": "code",
   "execution_count": 3,
   "metadata": {},
   "outputs": [
    {
     "data": {
      "text/plain": [
       "{}"
      ]
     },
     "execution_count": 3,
     "metadata": {},
     "output_type": "execute_result"
    }
   ],
   "source": [
    "# those are the collections we have\n",
    "client.collections.list_all()"
   ]
  },
  {
   "cell_type": "code",
   "execution_count": 4,
   "metadata": {},
   "outputs": [
    {
     "name": "stderr",
     "output_type": "stream",
     "text": [
      "{\"build_git_commit\":\"b7b77150ac\",\"build_go_version\":\"go1.24.2\",\"build_image_tag\":\"HEAD\",\"build_wv_version\":\"1.30.0\",\"level\":\"warning\",\"msg\":\"prop len tracker file /Users/dudanogueira/.local/share/weaviate/collection1/9lo68dI5wYDu/proplengths does not exist, creating new tracker\",\"time\":\"2025-05-12T17:43:53-03:00\"}\n",
      "{\"action\":\"hnsw_prefill_cache_async\",\"build_git_commit\":\"b7b77150ac\",\"build_go_version\":\"go1.24.2\",\"build_image_tag\":\"HEAD\",\"build_wv_version\":\"1.30.0\",\"level\":\"info\",\"msg\":\"not waiting for vector cache prefill, running in background\",\"time\":\"2025-05-12T17:43:53-03:00\",\"wait_for_cache_prefill\":false}\n",
      "{\"build_git_commit\":\"b7b77150ac\",\"build_go_version\":\"go1.24.2\",\"build_image_tag\":\"HEAD\",\"build_wv_version\":\"1.30.0\",\"level\":\"info\",\"msg\":\"Created shard collection1_9lo68dI5wYDu in 3.046792ms\",\"time\":\"2025-05-12T17:43:53-03:00\"}\n",
      "{\"action\":\"hnsw_vector_cache_prefill\",\"build_git_commit\":\"b7b77150ac\",\"build_go_version\":\"go1.24.2\",\"build_image_tag\":\"HEAD\",\"build_wv_version\":\"1.30.0\",\"count\":1000,\"index_id\":\"main\",\"level\":\"info\",\"limit\":1000000000000,\"msg\":\"prefilled vector cache\",\"time\":\"2025-05-12T17:43:53-03:00\",\"took\":162000}\n",
      "{\"build_git_commit\":\"b7b77150ac\",\"build_go_version\":\"go1.24.2\",\"build_image_tag\":\"HEAD\",\"build_wv_version\":\"1.30.0\",\"level\":\"warning\",\"msg\":\"prop len tracker file /Users/dudanogueira/.local/share/weaviate/collection2/X5yq7IlGAvRQ/proplengths does not exist, creating new tracker\",\"time\":\"2025-05-12T17:43:53-03:00\"}\n",
      "{\"action\":\"hnsw_prefill_cache_async\",\"build_git_commit\":\"b7b77150ac\",\"build_go_version\":\"go1.24.2\",\"build_image_tag\":\"HEAD\",\"build_wv_version\":\"1.30.0\",\"level\":\"info\",\"msg\":\"not waiting for vector cache prefill, running in background\",\"time\":\"2025-05-12T17:43:53-03:00\",\"wait_for_cache_prefill\":false}\n",
      "{\"build_git_commit\":\"b7b77150ac\",\"build_go_version\":\"go1.24.2\",\"build_image_tag\":\"HEAD\",\"build_wv_version\":\"1.30.0\",\"level\":\"info\",\"msg\":\"Created shard collection2_X5yq7IlGAvRQ in 1.238625ms\",\"time\":\"2025-05-12T17:43:53-03:00\"}\n",
      "{\"action\":\"hnsw_vector_cache_prefill\",\"build_git_commit\":\"b7b77150ac\",\"build_go_version\":\"go1.24.2\",\"build_image_tag\":\"HEAD\",\"build_wv_version\":\"1.30.0\",\"count\":1000,\"index_id\":\"main\",\"level\":\"info\",\"limit\":1000000000000,\"msg\":\"prefilled vector cache\",\"time\":\"2025-05-12T17:43:53-03:00\",\"took\":57542}\n"
     ]
    },
    {
     "data": {
      "text/plain": [
       "UUID('f7252d8f-20ed-4059-97e4-2b138a7785a1')"
      ]
     },
     "execution_count": 4,
     "metadata": {},
     "output_type": "execute_result"
    }
   ],
   "source": [
    "# lets create some Collection1 and Collection2\n",
    "client.collections.delete([\"Collection1\", \"Collection2\"])\n",
    "c1 = client.collections.create(\"Collection1\")\n",
    "c2 = client.collections.create(\"Collection2\")\n",
    "\n",
    "# Inserting some content in Collection1\n",
    "c1.data.insert({\"name\": \"John Doe\"}, vector=[1,2,3])\n",
    "c1.data.insert({\"name\": \"Mary Jane\"}, vector=[3,2,1])\n",
    "\n",
    "# Inserting some content in Collection2\n",
    "c2.data.insert({\"name\": \"Peter Parker\"}, vector=[1,2,3])\n",
    "c2.data.insert({\"name\": \"Bruce Wayne\"}, vector=[3,2,1])"
   ]
  },
  {
   "cell_type": "code",
   "execution_count": 5,
   "metadata": {},
   "outputs": [
    {
     "name": "stdout",
     "output_type": "stream",
     "text": [
      "Backup my-new-backup was triggered successfully!\n"
     ]
    },
    {
     "name": "stderr",
     "output_type": "stream",
     "text": [
      "{\"action\":\"try_backup\",\"backend\":\"filesystem\",\"backup_id\":\"my-new-backup\",\"build_git_commit\":\"b7b77150ac\",\"build_go_version\":\"go1.24.2\",\"build_image_tag\":\"HEAD\",\"build_wv_version\":\"1.30.0\",\"level\":\"info\",\"msg\":\"\",\"time\":\"2025-05-12T17:43:58-03:00\",\"took\":3982917}\n"
     ]
    },
    {
     "name": "stderr",
     "output_type": "stream",
     "text": [
      "{\"build_git_commit\":\"b7b77150ac\",\"build_go_version\":\"go1.24.2\",\"build_image_tag\":\"HEAD\",\"build_wv_version\":\"1.30.0\",\"class\":\"Collection1\",\"level\":\"info\",\"msg\":\"start uploading files\",\"time\":\"2025-05-12T17:43:58-03:00\"}\n",
      "{\"build_git_commit\":\"b7b77150ac\",\"build_go_version\":\"go1.24.2\",\"build_image_tag\":\"HEAD\",\"build_wv_version\":\"1.30.0\",\"class\":\"Collection1\",\"level\":\"info\",\"msg\":\"finish uploading files\",\"time\":\"2025-05-12T17:43:58-03:00\"}\n",
      "{\"backup_id\":\"my-new-backup\",\"build_git_commit\":\"b7b77150ac\",\"build_go_version\":\"go1.24.2\",\"build_image_tag\":\"HEAD\",\"build_wv_version\":\"1.30.0\",\"class\":\"Collection1\",\"level\":\"info\",\"msg\":\"release backup\",\"time\":\"2025-05-12T17:43:58-03:00\"}\n",
      "{\"build_git_commit\":\"b7b77150ac\",\"build_go_version\":\"go1.24.2\",\"build_image_tag\":\"HEAD\",\"build_wv_version\":\"1.30.0\",\"class\":\"Collection2\",\"level\":\"info\",\"msg\":\"start uploading files\",\"time\":\"2025-05-12T17:43:58-03:00\"}\n",
      "{\"build_git_commit\":\"b7b77150ac\",\"build_go_version\":\"go1.24.2\",\"build_image_tag\":\"HEAD\",\"build_wv_version\":\"1.30.0\",\"class\":\"Collection2\",\"level\":\"info\",\"msg\":\"finish uploading files\",\"time\":\"2025-05-12T17:43:58-03:00\"}\n",
      "{\"build_git_commit\":\"b7b77150ac\",\"build_go_version\":\"go1.24.2\",\"build_image_tag\":\"HEAD\",\"build_wv_version\":\"1.30.0\",\"level\":\"info\",\"msg\":\"start uploading meta data\",\"time\":\"2025-05-12T17:43:58-03:00\"}\n",
      "{\"backup_id\":\"my-new-backup\",\"build_git_commit\":\"b7b77150ac\",\"build_go_version\":\"go1.24.2\",\"build_image_tag\":\"HEAD\",\"build_wv_version\":\"1.30.0\",\"class\":\"Collection2\",\"level\":\"info\",\"msg\":\"release backup\",\"time\":\"2025-05-12T17:43:58-03:00\"}\n",
      "{\"backup_id\":\"my-new-backup\",\"build_git_commit\":\"b7b77150ac\",\"build_go_version\":\"go1.24.2\",\"build_image_tag\":\"HEAD\",\"build_wv_version\":\"1.30.0\",\"class\":\"Collection2\",\"level\":\"info\",\"msg\":\"release backup\",\"time\":\"2025-05-12T17:43:58-03:00\"}\n",
      "{\"backup_id\":\"my-new-backup\",\"build_git_commit\":\"b7b77150ac\",\"build_go_version\":\"go1.24.2\",\"build_image_tag\":\"HEAD\",\"build_wv_version\":\"1.30.0\",\"class\":\"Collection1\",\"level\":\"info\",\"msg\":\"release backup\",\"time\":\"2025-05-12T17:43:58-03:00\"}\n",
      "{\"build_git_commit\":\"b7b77150ac\",\"build_go_version\":\"go1.24.2\",\"build_image_tag\":\"HEAD\",\"build_wv_version\":\"1.30.0\",\"level\":\"info\",\"msg\":\"finish uploading meta data\",\"time\":\"2025-05-12T17:43:58-03:00\"}\n",
      "{\"action\":\"create_backup\",\"backup_id\":\"my-new-backup\",\"build_git_commit\":\"b7b77150ac\",\"build_go_version\":\"go1.24.2\",\"build_image_tag\":\"HEAD\",\"build_wv_version\":\"1.30.0\",\"level\":\"info\",\"msg\":\"backup completed successfully\",\"override_bucket\":\"\",\"override_path\":\"\",\"time\":\"2025-05-12T17:43:58-03:00\"}\n",
      "{\"action\":\"hnsw_condensing\",\"build_git_commit\":\"b7b77150ac\",\"build_go_version\":\"go1.24.2\",\"build_image_tag\":\"HEAD\",\"build_wv_version\":\"1.30.0\",\"level\":\"info\",\"msg\":\"start hnsw condensing\",\"time\":\"2025-05-12T17:43:59-03:00\"}\n",
      "{\"action\":\"hnsw_condensing_complete\",\"build_git_commit\":\"b7b77150ac\",\"build_go_version\":\"go1.24.2\",\"build_image_tag\":\"HEAD\",\"build_wv_version\":\"1.30.0\",\"level\":\"info\",\"msg\":\"completed hnsw condensing\",\"time\":\"2025-05-12T17:43:59-03:00\"}\n",
      "{\"action\":\"hnsw_condensing\",\"build_git_commit\":\"b7b77150ac\",\"build_go_version\":\"go1.24.2\",\"build_image_tag\":\"HEAD\",\"build_wv_version\":\"1.30.0\",\"level\":\"info\",\"msg\":\"start hnsw condensing\",\"time\":\"2025-05-12T17:43:59-03:00\"}\n",
      "{\"action\":\"hnsw_condensing_complete\",\"build_git_commit\":\"b7b77150ac\",\"build_go_version\":\"go1.24.2\",\"build_image_tag\":\"HEAD\",\"build_wv_version\":\"1.30.0\",\"level\":\"info\",\"msg\":\"completed hnsw condensing\",\"time\":\"2025-05-12T17:43:59-03:00\"}\n",
      "{\"action\":\"create\",\"backup_id\":\"my-new-backup\",\"build_git_commit\":\"b7b77150ac\",\"build_go_version\":\"go1.24.2\",\"build_image_tag\":\"HEAD\",\"build_wv_version\":\"1.30.0\",\"level\":\"info\",\"msg\":\"coordinator: backup completed successfully\",\"time\":\"2025-05-12T17:44:00-03:00\"}\n"
     ]
    }
   ],
   "source": [
    "# as we are using backup-filesystem, \n",
    "# we need to provide both the backup id and the backend\n",
    "my_backup_id = \"my-new-backup\"\n",
    "\n",
    "backup = client.backup.create(\n",
    "    backup_id=my_backup_id, \n",
    "    backend=\"filesystem\",\n",
    "    wait_for_completion=False # we don't want to wait for the backup to finish\n",
    ")\n",
    "\n",
    "if backup.error:\n",
    "    print(f\"Oh No! Something went wrong while creating {backup.backup_id}\")\n",
    "else:\n",
    "    print(f\"Backup {backup.backup_id} was triggered successfully!\")"
   ]
  },
  {
   "cell_type": "code",
   "execution_count": 6,
   "metadata": {},
   "outputs": [
    {
     "name": "stderr",
     "output_type": "stream",
     "text": [
      "{\"action\":\"backup_status\",\"backend\":\"filesystem\",\"backup_id\":\"my-new-backup\",\"build_git_commit\":\"b7b77150ac\",\"build_go_version\":\"go1.24.2\",\"build_image_tag\":\"HEAD\",\"build_wv_version\":\"1.30.0\",\"level\":\"info\",\"msg\":\"\",\"time\":\"2025-05-12T17:44:07-03:00\",\"took\":140333}\n"
     ]
    }
   ],
   "source": [
    "# now we can check the status of our backup\n",
    "backup_status = client.backup.get_create_status(\n",
    "    backup_id=my_backup_id,\n",
    "    backend=\"filesystem\"\n",
    ")"
   ]
  },
  {
   "cell_type": "code",
   "execution_count": 7,
   "metadata": {},
   "outputs": [
    {
     "name": "stdout",
     "output_type": "stream",
     "text": [
      "error=None status=<BackupStatus.SUCCESS: 'SUCCESS'> path='/tmp/weaviate-backup/my-new-backup' backup_id='my-new-backup'\n"
     ]
    }
   ],
   "source": [
    "print(backup_status)"
   ]
  },
  {
   "cell_type": "code",
   "execution_count": 8,
   "metadata": {},
   "outputs": [
    {
     "data": {
      "text/plain": [
       "['backup_config.json', 'Embedded_at_8079']"
      ]
     },
     "execution_count": 8,
     "metadata": {},
     "output_type": "execute_result"
    }
   ],
   "source": [
    "# We can also list\n",
    "os.listdir(f\"/tmp/weaviate-backup/{my_backup_id}\")"
   ]
  },
  {
   "cell_type": "code",
   "execution_count": 9,
   "metadata": {},
   "outputs": [
    {
     "name": "stdout",
     "output_type": "stream",
     "text": [
      "{'startedAt': '2025-05-12T20:43:58.19477Z', 'completedAt': '2025-05-12T20:44:00.200874Z', 'id': 'my-new-backup', 'nodes': {'Embedded_at_8079': {'classes': ['Collection1', 'Collection2'], 'status': 'SUCCESS', 'error': ''}}, 'node_mapping': None, 'status': 'SUCCESS', 'version': '2.1', 'serverVersion': '1.30.0', 'leader': 'Embedded_at_8079', 'error': ''}\n"
     ]
    }
   ],
   "source": [
    "# now lets read the content of /tmp/weaviate-backup/{my_backup_id}/backup_config.json\n",
    "# and check the content\n",
    "import json\n",
    "with open(\"/tmp/weaviate-backup/my-new-backup/backup_config.json\", \"r\") as f:\n",
    "    backup_config = json.load(f)\n",
    "    print(backup_config)"
   ]
  },
  {
   "cell_type": "code",
   "execution_count": 10,
   "metadata": {},
   "outputs": [],
   "source": [
    "# We can now delete our collections, and restore from that backup\n",
    "client.collections.delete([\"Collection1\", \"Collection2\"])"
   ]
  },
  {
   "cell_type": "code",
   "execution_count": 11,
   "metadata": {},
   "outputs": [
    {
     "data": {
      "text/plain": [
       "False"
      ]
     },
     "execution_count": 11,
     "metadata": {},
     "output_type": "execute_result"
    }
   ],
   "source": [
    "client.collections.exists(\"Collection1\")"
   ]
  },
  {
   "cell_type": "code",
   "execution_count": null,
   "metadata": {},
   "outputs": [
    {
     "name": "stderr",
     "output_type": "stream",
     "text": [
      "{\"action\":\"try_restore\",\"backend\":\"filesystem\",\"backup_id\":\"my-new-backup\",\"build_git_commit\":\"b7b77150ac\",\"build_go_version\":\"go1.24.2\",\"build_image_tag\":\"HEAD\",\"build_wv_version\":\"1.30.0\",\"level\":\"info\",\"msg\":\"\",\"time\":\"2025-05-12T17:44:36-03:00\",\"took\":1797125}\n"
     ]
    },
    {
     "name": "stderr",
     "output_type": "stream",
     "text": [
      "{\"action\":\"restore\",\"backup_id\":\"my-new-backup\",\"build_git_commit\":\"b7b77150ac\",\"build_go_version\":\"go1.24.2\",\"build_image_tag\":\"HEAD\",\"build_wv_version\":\"1.30.0\",\"class\":\"Collection1\",\"level\":\"info\",\"msg\":\"successfully restored\",\"time\":\"2025-05-12T17:44:36-03:00\"}\n",
      "{\"action\":\"restore\",\"backup_id\":\"my-new-backup\",\"build_git_commit\":\"b7b77150ac\",\"build_go_version\":\"go1.24.2\",\"build_image_tag\":\"HEAD\",\"build_wv_version\":\"1.30.0\",\"level\":\"info\",\"msg\":\"backup restored successfully\",\"time\":\"2025-05-12T17:44:36-03:00\"}\n",
      "{\"action\":\"restore\",\"backup_id\":\"my-new-backup\",\"build_git_commit\":\"b7b77150ac\",\"build_go_version\":\"go1.24.2\",\"build_image_tag\":\"HEAD\",\"build_wv_version\":\"1.30.0\",\"level\":\"info\",\"msg\":\"coordinator: backup restored successfully\",\"time\":\"2025-05-12T17:44:38-03:00\"}\n"
     ]
    }
   ],
   "source": [
    "# we can specify the collections we want to restore\n",
    "restore = client.backup.restore(backup_id=my_backup_id, backend=\"filesystem\", include_collections=[\"Collection1\"])"
   ]
  },
  {
   "cell_type": "code",
   "execution_count": 14,
   "metadata": {},
   "outputs": [
    {
     "data": {
      "text/plain": [
       "True"
      ]
     },
     "execution_count": 14,
     "metadata": {},
     "output_type": "execute_result"
    }
   ],
   "source": [
    "client.collections.exists(\"Collection1\")"
   ]
  },
  {
   "cell_type": "code",
   "execution_count": 15,
   "metadata": {},
   "outputs": [
    {
     "data": {
      "text/plain": [
       "False"
      ]
     },
     "execution_count": 15,
     "metadata": {},
     "output_type": "execute_result"
    }
   ],
   "source": [
    "# we have not restore Collection2\n",
    "client.collections.exists(\"Collection2\")"
   ]
  },
  {
   "cell_type": "code",
   "execution_count": 16,
   "metadata": {},
   "outputs": [
    {
     "name": "stdout",
     "output_type": "stream",
     "text": [
      "{'name': 'Mary Jane'}\n",
      "{'name': 'John Doe'}\n"
     ]
    }
   ],
   "source": [
    "col1 = client.collections.get(\"Collection1\")\n",
    "for o in col1.query.fetch_objects().objects:\n",
    "    print(o.properties)"
   ]
  },
  {
   "cell_type": "markdown",
   "metadata": {},
   "source": [
    "You can also backup specify collections to add or remove."
   ]
  },
  {
   "cell_type": "code",
   "execution_count": null,
   "metadata": {},
   "outputs": [],
   "source": [
    "backup = client.backup.create(\n",
    "    backup_id=my_backup_id, \n",
    "    backend=\"filesystem\",\n",
    "    wait_for_completion=False,\n",
    "    include_collections=[\"Collection1\"]\n",
    ")"
   ]
  },
  {
   "cell_type": "code",
   "execution_count": null,
   "metadata": {},
   "outputs": [],
   "source": [
    "backup = client.backup.create(\n",
    "    backup_id=my_backup_id, \n",
    "    backend=\"filesystem\",\n",
    "    wait_for_completion=False,\n",
    "    exclude_collections=[\"Collection2\"]\n",
    ")"
   ]
  }
 ],
 "metadata": {
  "kernelspec": {
   "display_name": ".venv",
   "language": "python",
   "name": "python3"
  },
  "language_info": {
   "codemirror_mode": {
    "name": "ipython",
    "version": 3
   },
   "file_extension": ".py",
   "mimetype": "text/x-python",
   "name": "python",
   "nbconvert_exporter": "python",
   "pygments_lexer": "ipython3",
   "version": "3.13.2"
  }
 },
 "nbformat": 4,
 "nbformat_minor": 2
}
