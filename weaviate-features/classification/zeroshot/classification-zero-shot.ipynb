{
 "cells": [
  {
   "cell_type": "markdown",
   "id": "0e1e90ad",
   "metadata": {},
   "source": [
    "[![Open In Colab](https://colab.research.google.com/assets/colab-badge.svg)](https://colab.research.google.com/github/weaviate/recipes/blob/main/weaviate-features/classification/zeroshot/classification-zero-shot.ipynb)"
   ]
  },
  {
   "cell_type": "markdown",
   "id": "26bb8153-c32b-43f7-bd67-60dd8756c6ed",
   "metadata": {},
   "source": [
    "# Simple Zero Shot Classification Example\n",
    "We are going to automatically classify a support `Ticket` with a `Category`.\n",
    "\n",
    "[What is Zero Shot classification?](https://weaviate.io/developers/weaviate/api/rest/classification#zero-shot-classification)\n",
    "\n",
    "First, let's spin up both Weaviate and a transformers-inference model inference\n",
    "\n",
    "\n",
    "> docker compose up -d\n"
   ]
  },
  {
   "cell_type": "code",
   "execution_count": 1,
   "id": "5ee3362f-5604-44ae-9c4a-6a6310f8491f",
   "metadata": {},
   "outputs": [],
   "source": [
    "# this will be our data, a Ticket with a body property and some Categories\n",
    "# we will use the id as a base to generate our UUID\n",
    "tickets = [\n",
    "    {\"body\": \"I cannot connect to the internet\", \"id\":1},\n",
    "    {\"body\": \"I wat to put some text in a paper\", \"id\":2},\n",
    "    {\"body\": \"My computer is slow, I cannot turn it on\", \"id\":3},\n",
    "    {\"body\": \"I want to create some spreadsheets, but I cannot open the program\", \"id\":4},\n",
    "]\n",
    "# each ticket will have one category\n",
    "categories = [\n",
    "    \"Network\",\n",
    "    \"Printing\",\n",
    "    \"Hardware\",\n",
    "    \"Software\",\n",
    "]"
   ]
  },
  {
   "cell_type": "code",
   "execution_count": 2,
   "id": "e0c28bd3-e484-432e-a67a-0e7fb1d42279",
   "metadata": {},
   "outputs": [],
   "source": [
    "# Defining both our classes\n",
    "category_class = {\n",
    "            \"class\": 'Category',\n",
    "            \"description\": 'support ticket',  \n",
    "            \"properties\": [\n",
    "                {\n",
    "                \"dataType\": [ 'text'],\n",
    "                \"description\": 'name of category',\n",
    "                \"name\": 'name',\n",
    "                }            \n",
    "            ]\n",
    "        }\n",
    "\n",
    "# We do a cross reference, so Ticket has a property category that references\n",
    "# the data type [\"Category\"] we have just defined.\n",
    "\n",
    "ticket_class = {\n",
    "            \"class\": 'Ticket',\n",
    "            \"description\": 'support ticket',  \n",
    "            \"properties\": [\n",
    "                {\n",
    "                \"name\": 'body',\n",
    "                \"description\": 'ticket text',\n",
    "                \"dataType\": [ 'text'],\n",
    "                },\n",
    "                {\n",
    "                \"name\": 'ticket_id',\n",
    "                \"description\": 'ticket id',\n",
    "                \"dataType\": [ 'number'],\n",
    "                },                \n",
    "                {\n",
    "                \"name\": 'category',\n",
    "                \"description\": 'ticket topic',\n",
    "                \"dataType\": [\"Category\"],\n",
    "                }\n",
    "            ]\n",
    "        }"
   ]
  },
  {
   "cell_type": "code",
   "execution_count": 3,
   "id": "718d03cc-9d2a-4145-b26c-19671983e208",
   "metadata": {},
   "outputs": [],
   "source": [
    "# lets get our client\n",
    "import weaviate\n",
    "client = weaviate.Client(\"http://localhost:8080\")\n",
    "# clear our classes\n",
    "client.schema.delete_all()\n",
    "# and create them before hand\n",
    "# this is important, as we want to make sure the category property exists\n",
    "if not client.schema.exists(\"Category\"):\n",
    "    client.schema.create_class(category_class)\n",
    "if not client.schema.exists(\"Ticket\"):\n",
    "    client.schema.create_class(ticket_class)"
   ]
  },
  {
   "cell_type": "code",
   "execution_count": 4,
   "id": "d935b7b5-8f7e-47bf-a70f-91c9c9735d08",
   "metadata": {},
   "outputs": [
    {
     "name": "stdout",
     "output_type": "stream",
     "text": [
      "#### ADDING CATEGORIES\n",
      "Network 52eebe84-8111-55fd-9410-2972b6d8c159\n",
      "Printing 424ffc16-e702-5e33-b9c9-41d93c973641\n",
      "Hardware b658ce0d-fc00-5ffe-976d-fc2141a6d2c1\n",
      "Software b281d52e-8aec-5d7f-b842-2cff8dfed20e\n",
      "#### ADDING TICKETS\n",
      "{'body': 'I cannot connect to the internet', 'id': 1} b04965e6-a9bb-591f-8f8a-1adcb2c8dc39\n",
      "{'body': 'I wat to put some text in a paper', 'id': 2} 4b166dbe-d99d-5091-abdd-95b83330ed3a\n",
      "{'body': 'My computer is slow, I cannot turn it on', 'id': 3} 98123fde-012f-5ff3-8b50-881449dac91a\n",
      "{'body': 'I want to create some spreadsheets, but I cannot open the program', 'id': 4} 6ed955c6-506a-5343-9be4-2c0afae02eef\n"
     ]
    }
   ],
   "source": [
    "# now we import our data\n",
    "print(\"#### ADDING CATEGORIES\")\n",
    "client.batch.configure(batch_size=100)  # Configure batch\n",
    "with client.batch as batch:\n",
    "    for category in categories:\n",
    "        cat_id = batch.add_data_object({\"name\": category}, \"Category\", weaviate.util.generate_uuid5(category))\n",
    "        print(category, cat_id)\n",
    "\n",
    "print(\"#### ADDING TICKETS\")\n",
    "client.batch.configure(batch_size=100)  # Configure batch\n",
    "with client.batch as batch:\n",
    "    for ticket in tickets:\n",
    "        ticket_id = batch.add_data_object(\n",
    "            {\"body\": ticket[\"body\"], \"ticket_id\": ticket[\"id\"], \"category\": None}, \"Ticket\", \n",
    "            weaviate.util.generate_uuid5(ticket[\"id\"])\n",
    "        )\n",
    "        print(ticket, ticket_id)"
   ]
  },
  {
   "cell_type": "markdown",
   "id": "5cd2db7b-e5a7-4968-9b36-37890d905e9e",
   "metadata": {},
   "source": [
    "## MAKE SURE TO WAIT DATA TO BE INGESTED AND VECTORIZED!!"
   ]
  },
  {
   "cell_type": "code",
   "execution_count": 5,
   "id": "15a1028a-7710-4e59-9777-f49873df9872",
   "metadata": {},
   "outputs": [
    {
     "data": {
      "text/plain": [
       "{'basedOnProperties': ['body'],\n",
       " 'class': 'Ticket',\n",
       " 'classifyProperties': ['category'],\n",
       " 'id': '72c650cd-b016-4ae4-9703-5d6ea092f1a4',\n",
       " 'meta': {'completed': '0001-01-01T00:00:00.000Z',\n",
       "  'started': '2023-10-24T00:17:42.093Z'},\n",
       " 'status': 'running',\n",
       " 'type': 'zeroshot'}"
      ]
     },
     "execution_count": 5,
     "metadata": {},
     "output_type": "execute_result"
    }
   ],
   "source": [
    "# now the fun part\n",
    "client.classification.schedule()\\\n",
    "            .with_type(\"zeroshot\")\\\n",
    "            .with_class_name(\"Ticket\")\\\n",
    "            .with_classify_properties([\"category\"])\\\n",
    "            .with_based_on_properties([\"body\"])\\\n",
    "            .do()"
   ]
  },
  {
   "cell_type": "code",
   "execution_count": 6,
   "id": "d7be8e93-b2e3-47cf-b245-117be718669f",
   "metadata": {},
   "outputs": [
    {
     "name": "stdout",
     "output_type": "stream",
     "text": [
      "##########\n",
      "Ticket: I wat to put some text in a paper\n",
      "Category:  Printing\n",
      "##########\n",
      "Ticket: I want to create some spreadsheets, but I cannot open the program\n",
      "Category:  Software\n",
      "##########\n",
      "Ticket: My computer is slow, I cannot turn it on\n",
      "Category:  Hardware\n",
      "##########\n",
      "Ticket: I cannot connect to the internet\n",
      "Category:  Network\n"
     ]
    }
   ],
   "source": [
    "# just like that, you have your items categorized\n",
    "results = client.query.get(\"Ticket\", \"body category{ ... on Category{name}}\").do()\n",
    "for ticket in results[\"data\"][\"Get\"][\"Ticket\"]:\n",
    "    print(\"#\" * 10)\n",
    "    print(\"Ticket:\", ticket[\"body\"])\n",
    "    print(\"Category: \", ticket[\"category\"][0][\"name\"])"
   ]
  }
 ],
 "metadata": {
  "kernelspec": {
   "display_name": "Python 3 (ipykernel)",
   "language": "python",
   "name": "python3"
  },
  "language_info": {
   "codemirror_mode": {
    "name": "ipython",
    "version": 3
   },
   "file_extension": ".py",
   "mimetype": "text/x-python",
   "name": "python",
   "nbconvert_exporter": "python",
   "pygments_lexer": "ipython3",
   "version": "3.11.6"
  }
 },
 "nbformat": 4,
 "nbformat_minor": 5
}
