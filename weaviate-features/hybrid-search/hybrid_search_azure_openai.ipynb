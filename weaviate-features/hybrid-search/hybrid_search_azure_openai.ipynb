{
 "cells": [
  {
   "cell_type": "markdown",
   "metadata": {},
   "source": [
    "# Hybrid Search with Azure OpenAI\n",
    "\n",
    "This recipe will show you how to run hybrid search with embeddings from Azure OpenAI."
   ]
  },
  {
   "cell_type": "markdown",
   "metadata": {},
   "source": [
    "## Requirements\n",
    "\n",
    "1. Weaviate cluster\n",
    "    1. You can create a 14-day free sandbox on [WCD](https://console.weaviate.cloud/)\n",
    "    2. [Embedded Weaviate](https://weaviate.io/developers/weaviate/installation/embedded)\n",
    "    3. [Local deployment](https://weaviate.io/developers/weaviate/installation/docker-compose#starter-docker-compose-file)\n",
    "    4. [Other options](https://weaviate.io/developers/weaviate/installation)\n",
    "\n",
    "2. Azure API key. Grab one [here](https://portal.azure.com/)."
   ]
  },
  {
   "cell_type": "markdown",
   "metadata": {},
   "source": [
    "## Import Dependencies, Libraries, and Keys"
   ]
  },
  {
   "cell_type": "code",
   "execution_count": null,
   "metadata": {},
   "outputs": [],
   "source": [
    "!pip install --q weaviate-client"
   ]
  },
  {
   "cell_type": "code",
   "execution_count": 1,
   "metadata": {},
   "outputs": [],
   "source": [
    "import weaviate\n",
    "from weaviate.classes.init import Auth\n",
    "import weaviate.classes.config as wc\n",
    "from weaviate.embedded import EmbeddedOptions\n",
    "import weaviate.classes.query as wq\n",
    "\n",
    "\n",
    "import os\n",
    "import requests\n",
    "import json"
   ]
  },
  {
   "cell_type": "markdown",
   "metadata": {},
   "source": [
    "## Connect to Weaviate\n",
    "\n",
    "Only choose one option from the below."
   ]
  },
  {
   "cell_type": "markdown",
   "metadata": {},
   "source": [
    "**Weaviate Cloud Deployment**"
   ]
  },
  {
   "cell_type": "code",
   "execution_count": 13,
   "metadata": {},
   "outputs": [
    {
     "name": "stdout",
     "output_type": "stream",
     "text": [
      "True\n"
     ]
    }
   ],
   "source": [
    "WCD_URL = os.environ[\"WEAVIATE_URL\"] # Replace with your Weaviate cluster URL\n",
    "WCD_AUTH_KEY = os.environ[\"WEAVIATE_AUTH\"] # Replace with your cluster auth key\n",
    "AZURE_OPENAI_KEY = os.environ[\"AZURE_OPENAI_API_KEY\"] # Replace with your Azure key\n",
    "\n",
    "\n",
    "# Weaviate Cloud Deployment\n",
    "client = weaviate.connect_to_wcs(\n",
    "    cluster_url=WCD_URL,\n",
    "    auth_credentials=weaviate.auth.AuthApiKey(WCD_AUTH_KEY),\n",
    "      headers={ \"X-Azure-Api-Key\": AZURE_OPENAI_KEY}\n",
    ")\n",
    "\n",
    "print(client.is_ready())"
   ]
  },
  {
   "cell_type": "markdown",
   "metadata": {},
   "source": [
    "**Embedded Weaviate**"
   ]
  },
  {
   "cell_type": "code",
   "execution_count": null,
   "metadata": {},
   "outputs": [],
   "source": [
    "# AZURE_KEY = os.environ[\"AZURE_API_KEY\"] # Replace with your Azure key\n",
    "\n",
    "# client = weaviate.WeaviateClient(\n",
    "#     embedded_options=EmbeddedOptions(\n",
    "#         version=\"1.28.2\",\n",
    "#         additional_env_vars={\n",
    "#             \"ENABLE_MODULES\": \"text2vec-openai\"\n",
    "#         }),\n",
    "#         additional_headers={\n",
    "#             \"X-Azure-Api-Key\": AZURE_KEY\n",
    "#         }\n",
    "# )\n",
    "\n",
    "# client.connect()"
   ]
  },
  {
   "cell_type": "markdown",
   "metadata": {},
   "source": [
    "**Local Deployment**"
   ]
  },
  {
   "cell_type": "code",
   "execution_count": null,
   "metadata": {},
   "outputs": [],
   "source": [
    "# AZURE_KEY = os.environ[\"AZURE_API_KEY\"] # Replace with your Azure key\n",
    "\n",
    "# client = weaviate.connect_to_local(\n",
    "#   headers={\n",
    "#     \"X-Azure-Api-Key\": AZURE_KEY\n",
    "#   }\n",
    "# )\n",
    "# print(client.is_ready())"
   ]
  },
  {
   "cell_type": "markdown",
   "metadata": {},
   "source": [
    "## Create a collection\n",
    "> Collection stores your data and vector embeddings."
   ]
  },
  {
   "cell_type": "code",
   "execution_count": 18,
   "metadata": {},
   "outputs": [
    {
     "name": "stdout",
     "output_type": "stream",
     "text": [
      "Successfully created collection: JeopardyQuestion.\n"
     ]
    }
   ],
   "source": [
    "# Note: This will delete your data stored in \"JeopardyQuestion\" and\n",
    "# it will require you to re-import again.\n",
    "\n",
    "# Delete the collection if it already exists\n",
    "if (client.collections.exists(\"JeopardyQuestion\")):\n",
    "    client.collections.delete(\"JeopardyQuestion\")\n",
    "\n",
    "client.collections.create(\n",
    "    name=\"JeopardyQuestion\",\n",
    "\n",
    "    vectorizer_config=wc.Configure.Vectorizer.text2vec_azure_openai(\n",
    "        resource_name=\"xyz\", # name of your resource\n",
    "        deployment_id=\"text-embedding-3-small\", # model deployed\n",
    "    ),\n",
    "\n",
    "    properties=[ # defining properties (data schema) is optional\n",
    "        wc.Property(name=\"Question\", data_type=wc.DataType.TEXT), \n",
    "        wc.Property(name=\"Answer\", data_type=wc.DataType.TEXT),\n",
    "        wc.Property(name=\"Category\", data_type=wc.DataType.TEXT) \n",
    "    ]\n",
    ")\n",
    "\n",
    "print(\"Successfully created collection: JeopardyQuestion.\")"
   ]
  },
  {
   "cell_type": "markdown",
   "metadata": {},
   "source": [
    "## Import the Data"
   ]
  },
  {
   "cell_type": "code",
   "execution_count": 19,
   "metadata": {},
   "outputs": [
    {
     "name": "stdout",
     "output_type": "stream",
     "text": [
      "Insert complete.\n"
     ]
    }
   ],
   "source": [
    "url = 'https://raw.githubusercontent.com/weaviate/weaviate-examples/main/jeopardy_small_dataset/jeopardy_tiny.json'\n",
    "resp = requests.get(url)\n",
    "data = json.loads(resp.text)\n",
    "\n",
    "# Get a collection object for \"JeopardyQuestion\"\n",
    "jeopardy = client.collections.get(\"JeopardyQuestion\")\n",
    "\n",
    "# Insert data objects\n",
    "response = jeopardy.data.insert_many(data)\n",
    "\n",
    "# Note, the `data` array contains 10 objects, which is great to call insert_many with.\n",
    "# However, if you have a milion objects to insert, then you should spit them into smaller batches (i.e. 100-1000 per insert)\n",
    "\n",
    "if (response.has_errors):\n",
    "    print(response.errors)\n",
    "else:\n",
    "    print(\"Insert complete.\")"
   ]
  },
  {
   "cell_type": "markdown",
   "metadata": {},
   "source": [
    "## Hybrid Search"
   ]
  },
  {
   "cell_type": "markdown",
   "metadata": {},
   "source": [
    "The `alpha` parameter determines the weight given to the sparse and dense search methods. `alpha = 0` is pure sparse (bm25) search, whereas `alpha = 1` is pure dense (vector) search. \n",
    "\n",
    "Alpha is an optional parameter. The default is set to `0.75`."
   ]
  },
  {
   "cell_type": "markdown",
   "metadata": {},
   "source": [
    "### Hybrid Search only\n",
    "\n",
    "The below query is finding Jeopardy questions about animals and is limiting the output to only two results. Notice `alpha` is set to `0.80`, which means it is weighing the vector search results more than bm25. If you were to set `alpha = 0.25`, you would get different results. "
   ]
  },
  {
   "cell_type": "code",
   "execution_count": 20,
   "metadata": {},
   "outputs": [
    {
     "name": "stdout",
     "output_type": "stream",
     "text": [
      "ID: f6849411-1553-43fa-a240-13d69114945d\n",
      "Data: {\n",
      "  \"answer\": \"species\",\n",
      "  \"question\": \"2000 news: the Gunnison sage grouse isn't just another northern sage grouse, but a new one of this classification\",\n",
      "  \"category\": \"SCIENCE\"\n",
      "} \n",
      "\n",
      "ID: 0de6ee13-b260-4cf9-b368-e7ffeddb14a4\n",
      "Data: {\n",
      "  \"answer\": \"the diamondback rattler\",\n",
      "  \"question\": \"Heaviest of all poisonous snakes is this North American rattlesnake\",\n",
      "  \"category\": \"ANIMALS\"\n",
      "} \n",
      "\n",
      "ID: 5e3c2cf9-4633-400a-8c97-78ab4b183b8a\n",
      "Data: {\n",
      "  \"answer\": \"Antelope\",\n",
      "  \"question\": \"Weighing around a ton, the eland is the largest species of this animal in Africa\",\n",
      "  \"category\": \"ANIMALS\"\n",
      "} \n",
      "\n"
     ]
    }
   ],
   "source": [
    "response = jeopardy.query.hybrid(\n",
    "    query=\"northern beast\",\n",
    "    query_properties=[\"question\"],\n",
    "    alpha=0.8,\n",
    "    limit=3\n",
    ")\n",
    "\n",
    "for item in response.objects:\n",
    "    print(\"ID:\", item.uuid)\n",
    "    print(\"Data:\", json.dumps(item.properties, indent=2), \"\\n\")"
   ]
  },
  {
   "cell_type": "markdown",
   "metadata": {},
   "source": [
    "### Hybrid Search with a `where` filter\n",
    "\n",
    "Find Jeopardy questions about elephants, where the category is set to Animals."
   ]
  },
  {
   "cell_type": "code",
   "execution_count": 21,
   "metadata": {},
   "outputs": [
    {
     "name": "stdout",
     "output_type": "stream",
     "text": [
      "ID: 0de6ee13-b260-4cf9-b368-e7ffeddb14a4\n",
      "Data: {\n",
      "  \"answer\": \"the diamondback rattler\",\n",
      "  \"question\": \"Heaviest of all poisonous snakes is this North American rattlesnake\",\n",
      "  \"category\": \"ANIMALS\"\n",
      "} \n",
      "\n",
      "ID: 5e3c2cf9-4633-400a-8c97-78ab4b183b8a\n",
      "Data: {\n",
      "  \"answer\": \"Antelope\",\n",
      "  \"question\": \"Weighing around a ton, the eland is the largest species of this animal in Africa\",\n",
      "  \"category\": \"ANIMALS\"\n",
      "} \n",
      "\n",
      "ID: 2b4424c2-65f2-4295-974d-906ad74e0e55\n",
      "Data: {\n",
      "  \"answer\": \"Elephant\",\n",
      "  \"question\": \"It's the only living mammal in the order Proboseidea\",\n",
      "  \"category\": \"ANIMALS\"\n",
      "} \n",
      "\n"
     ]
    }
   ],
   "source": [
    "response = jeopardy.query.hybrid(\n",
    "    query=\"northern beast\",\n",
    "    alpha=0.8,\n",
    "    filters=wq.Filter.by_property(\"category\").equal(\"Animals\"),\n",
    "    limit=3\n",
    ")\n",
    "\n",
    "for item in response.objects:\n",
    "    print(\"ID:\", item.uuid)\n",
    "    print(\"Data:\", json.dumps(item.properties, indent=2), \"\\n\")"
   ]
  }
 ],
 "metadata": {
  "kernelspec": {
   "display_name": "Python 3",
   "language": "python",
   "name": "python3"
  },
  "language_info": {
   "codemirror_mode": {
    "name": "ipython",
    "version": 3
   },
   "file_extension": ".py",
   "mimetype": "text/x-python",
   "name": "python",
   "nbconvert_exporter": "python",
   "pygments_lexer": "ipython3",
   "version": "3.11.6"
  }
 },
 "nbformat": 4,
 "nbformat_minor": 2
}
