{
 "cells": [
  {
   "cell_type": "markdown",
   "metadata": {
    "id": "rJD9aP9eVcsT"
   },
   "source": [
    "## Dependencies"
   ]
  },
  {
   "cell_type": "code",
   "execution_count": null,
   "metadata": {
    "id": "3IgZm3pYwWa8"
   },
   "outputs": [
    {
     "name": "stdout",
     "output_type": "stream",
     "text": [
      "Collecting git+https://github.com/weaviate/weaviate-python-client.git@fd9dbdda75b64d59ec7742a0e95157a9a608a0de\n",
      "  Cloning https://github.com/weaviate/weaviate-python-client.git (to revision fd9dbdda75b64d59ec7742a0e95157a9a608a0de) to /private/var/folders/20/sww521bs0s71v4pt86_05g340000gn/T/pip-req-build-9lgynotr\n",
      "  Running command git clone --filter=blob:none --quiet https://github.com/weaviate/weaviate-python-client.git /private/var/folders/20/sww521bs0s71v4pt86_05g340000gn/T/pip-req-build-9lgynotr\n",
      "  Running command git rev-parse -q --verify 'sha^fd9dbdda75b64d59ec7742a0e95157a9a608a0de'\n",
      "  Running command git fetch -q https://github.com/weaviate/weaviate-python-client.git fd9dbdda75b64d59ec7742a0e95157a9a608a0de\n",
      "  Running command git checkout -q fd9dbdda75b64d59ec7742a0e95157a9a608a0de\n",
      "  Resolved https://github.com/weaviate/weaviate-python-client.git to commit fd9dbdda75b64d59ec7742a0e95157a9a608a0de\n",
      "  Installing build dependencies ... \u001b[?25ldone\n",
      "\u001b[?25h  Getting requirements to build wheel ... \u001b[?25ldone\n",
      "\u001b[?25h  Preparing metadata (pyproject.toml) ... \u001b[?25ldone\n",
      "\u001b[?25hRequirement already satisfied: requests<3.0.0,>=2.30.0 in /opt/homebrew/lib/python3.11/site-packages (from weaviate-client==4.9.6.dev2+gfd9dbdda) (2.31.0)\n",
      "Requirement already satisfied: httpx<=0.27.0,>=0.25.0 in /opt/homebrew/lib/python3.11/site-packages (from weaviate-client==4.9.6.dev2+gfd9dbdda) (0.27.0)\n",
      "Requirement already satisfied: validators==0.34.0 in /opt/homebrew/lib/python3.11/site-packages (from weaviate-client==4.9.6.dev2+gfd9dbdda) (0.34.0)\n",
      "Requirement already satisfied: authlib<1.3.2,>=1.2.1 in /opt/homebrew/lib/python3.11/site-packages (from weaviate-client==4.9.6.dev2+gfd9dbdda) (1.2.1)\n",
      "Requirement already satisfied: pydantic<3.0.0,>=2.5.0 in /opt/homebrew/lib/python3.11/site-packages (from weaviate-client==4.9.6.dev2+gfd9dbdda) (2.6.2)\n",
      "Requirement already satisfied: grpcio<2.0.0,>=1.57.0 in /opt/homebrew/lib/python3.11/site-packages (from weaviate-client==4.9.6.dev2+gfd9dbdda) (1.64.1)\n",
      "Requirement already satisfied: grpcio-tools<2.0.0,>=1.57.0 in /opt/homebrew/lib/python3.11/site-packages (from weaviate-client==4.9.6.dev2+gfd9dbdda) (1.59.0)\n",
      "Requirement already satisfied: grpcio-health-checking<2.0.0,>=1.57.0 in /opt/homebrew/lib/python3.11/site-packages (from weaviate-client==4.9.6.dev2+gfd9dbdda) (1.60.0)\n",
      "Requirement already satisfied: cryptography>=3.2 in /opt/homebrew/lib/python3.11/site-packages (from authlib<1.3.2,>=1.2.1->weaviate-client==4.9.6.dev2+gfd9dbdda) (41.0.4)\n",
      "Requirement already satisfied: protobuf>=4.21.6 in /opt/homebrew/lib/python3.11/site-packages (from grpcio-health-checking<2.0.0,>=1.57.0->weaviate-client==4.9.6.dev2+gfd9dbdda) (4.25.1)\n",
      "Requirement already satisfied: setuptools in /opt/homebrew/lib/python3.11/site-packages (from grpcio-tools<2.0.0,>=1.57.0->weaviate-client==4.9.6.dev2+gfd9dbdda) (69.1.1)\n",
      "Requirement already satisfied: anyio in /opt/homebrew/lib/python3.11/site-packages (from httpx<=0.27.0,>=0.25.0->weaviate-client==4.9.6.dev2+gfd9dbdda) (4.3.0)\n",
      "Requirement already satisfied: certifi in /opt/homebrew/lib/python3.11/site-packages (from httpx<=0.27.0,>=0.25.0->weaviate-client==4.9.6.dev2+gfd9dbdda) (2024.2.2)\n",
      "Requirement already satisfied: httpcore==1.* in /opt/homebrew/lib/python3.11/site-packages (from httpx<=0.27.0,>=0.25.0->weaviate-client==4.9.6.dev2+gfd9dbdda) (1.0.4)\n",
      "Requirement already satisfied: idna in /opt/homebrew/lib/python3.11/site-packages (from httpx<=0.27.0,>=0.25.0->weaviate-client==4.9.6.dev2+gfd9dbdda) (3.6)\n",
      "Requirement already satisfied: sniffio in /opt/homebrew/lib/python3.11/site-packages (from httpx<=0.27.0,>=0.25.0->weaviate-client==4.9.6.dev2+gfd9dbdda) (1.3.1)\n",
      "Requirement already satisfied: h11<0.15,>=0.13 in /opt/homebrew/lib/python3.11/site-packages (from httpcore==1.*->httpx<=0.27.0,>=0.25.0->weaviate-client==4.9.6.dev2+gfd9dbdda) (0.14.0)\n",
      "Requirement already satisfied: annotated-types>=0.4.0 in /opt/homebrew/lib/python3.11/site-packages (from pydantic<3.0.0,>=2.5.0->weaviate-client==4.9.6.dev2+gfd9dbdda) (0.6.0)\n",
      "Requirement already satisfied: pydantic-core==2.16.3 in /opt/homebrew/lib/python3.11/site-packages (from pydantic<3.0.0,>=2.5.0->weaviate-client==4.9.6.dev2+gfd9dbdda) (2.16.3)\n",
      "Requirement already satisfied: typing-extensions>=4.6.1 in /opt/homebrew/lib/python3.11/site-packages (from pydantic<3.0.0,>=2.5.0->weaviate-client==4.9.6.dev2+gfd9dbdda) (4.10.0)\n",
      "Requirement already satisfied: charset-normalizer<4,>=2 in /opt/homebrew/lib/python3.11/site-packages (from requests<3.0.0,>=2.30.0->weaviate-client==4.9.6.dev2+gfd9dbdda) (3.3.2)\n",
      "Requirement already satisfied: urllib3<3,>=1.21.1 in /opt/homebrew/lib/python3.11/site-packages (from requests<3.0.0,>=2.30.0->weaviate-client==4.9.6.dev2+gfd9dbdda) (2.2.1)\n",
      "Requirement already satisfied: cffi>=1.12 in /opt/homebrew/lib/python3.11/site-packages (from cryptography>=3.2->authlib<1.3.2,>=1.2.1->weaviate-client==4.9.6.dev2+gfd9dbdda) (1.16.0)\n",
      "Requirement already satisfied: pycparser in /opt/homebrew/lib/python3.11/site-packages (from cffi>=1.12->cryptography>=3.2->authlib<1.3.2,>=1.2.1->weaviate-client==4.9.6.dev2+gfd9dbdda) (2.21)\n",
      "\n",
      "\u001b[1m[\u001b[0m\u001b[34;49mnotice\u001b[0m\u001b[1;39;49m]\u001b[0m\u001b[39;49m A new release of pip is available: \u001b[0m\u001b[31;49m24.0\u001b[0m\u001b[39;49m -> \u001b[0m\u001b[32;49m24.3.1\u001b[0m\n",
      "\u001b[1m[\u001b[0m\u001b[34;49mnotice\u001b[0m\u001b[1;39;49m]\u001b[0m\u001b[39;49m To update, run: \u001b[0m\u001b[32;49mpython3.11 -m pip install --upgrade pip\u001b[0m\n"
     ]
    }
   ],
   "source": [
    "#!pip install weaviate-client"
   ]
  },
  {
   "cell_type": "markdown",
   "metadata": {},
   "source": [
    "You will need a weaviate-client version 4.9.6 or higher."
   ]
  },
  {
   "cell_type": "code",
   "execution_count": 2,
   "metadata": {},
   "outputs": [
    {
     "name": "stdout",
     "output_type": "stream",
     "text": [
      "Name: weaviate-client\n",
      "Version: 4.9.6.dev2+gfd9dbdda\n",
      "Summary: A python native Weaviate client\n",
      "Home-page: https://github.com/weaviate/weaviate-python-client\n",
      "Author: Weaviate\n",
      "Author-email: hello@weaviate.io,\n",
      "License: BSD 3-clause\n",
      "Location: /opt/homebrew/lib/python3.11/site-packages\n",
      "Requires: authlib, grpcio, grpcio-health-checking, grpcio-tools, httpx, pydantic, requests, validators\n",
      "Required-by: langchain-weaviate, llama-index-vector-stores-weaviate, weaviate-cli\n"
     ]
    }
   ],
   "source": [
    "!pip show weaviate-client"
   ]
  },
  {
   "cell_type": "markdown",
   "metadata": {
    "id": "rgL-mnMqVf0B"
   },
   "source": [
    "## Connect to Weaviate\n",
    "You will need Weaviate v1.28 or higher.\n",
    "You can run\n",
    "````\n",
    "docker run -p 8080:8080 -p 50051:50051 cr.weaviate.io/semitechnologies/weaviate:1.28.1\n",
    "```\n"
   ]
  },
  {
   "cell_type": "code",
   "execution_count": 3,
   "metadata": {
    "id": "-yrJZaNJwcCc"
   },
   "outputs": [
    {
     "data": {
      "text/plain": [
       "True"
      ]
     },
     "execution_count": 3,
     "metadata": {},
     "output_type": "execute_result"
    }
   ],
   "source": [
    "import weaviate, os\n",
    "\n",
    "cohere_key = os.environ[\"COHERE_API_KEY\"] # Replace with your Cohere key\n",
    "\n",
    "# Connect to your local Weaviate instance deployed with Docker\n",
    "client = weaviate.connect_to_local(\n",
    "  headers={\n",
    "    \"X-COHERE-Api-Key\": cohere_key\n",
    "  }\n",
    ")\n",
    "\n",
    "# Option 2\n",
    "# Connect to your Weaviate Client Service cluster\n",
    "# client = weaviate.connect_to_wcs(\n",
    "#     cluster_id=\"WCS-CLUSTER-ID\", # Replace with your WCS cluster ID\n",
    "#     auth_credentials=weaviate.AuthApiKey(\n",
    "#       api_key=\"WCS-API-KEY\" # Replace with your WCS API KEY\n",
    "#     ),\n",
    "#     headers={\n",
    "#       \"X-COHERE-Api-Key\": cohere_key\n",
    "#     }\n",
    "# )\n",
    "\n",
    "client.is_ready()"
   ]
  },
  {
   "cell_type": "markdown",
   "metadata": {
    "id": "Ze5J8E4MWC8g"
   },
   "source": [
    "## Create a collection\n",
    "> Collection stores your data and vector embeddings.\n",
    "\n",
    "The collection below uses the \"Kagome\" tokenizer option to tokenize Japanese sentences.\n",
    "(by adding `tokenization=wc.Tokenization.KAGOME_JA` to the properties)\n",
    "\n",
    "\n",
    "* [How to set a tokenizer](https://weaviate.io/developers/weaviate/manage-data/collections#property-level-settings)\n",
    "* [Available tokenizers](https://weaviate.io/developers/weaviate/config-refs/schema#tokenization)"
   ]
  },
  {
   "cell_type": "code",
   "execution_count": null,
   "metadata": {
    "id": "J32wdDCMWCgS"
   },
   "outputs": [
    {
     "name": "stdout",
     "output_type": "stream",
     "text": [
      "Successfully created collection: JeopardyQuestion.\n"
     ]
    }
   ],
   "source": [
    "# Note: in practice, you shouldn't rerun this cell, as it deletes your data\n",
    "# in \"ClothingItems\", and then you need to re-import it again.\n",
    "import weaviate.classes.config as wc\n",
    "\n",
    "# Delete the collection if it already exists\n",
    "if (client.collections.exists(\"ClothingItems\")):\n",
    "    client.collections.delete(\"ClothingItems\")\n",
    "\n",
    "client.collections.create(\n",
    "    name=\"ClothingItems\",\n",
    "\n",
    "    vectorizer_config=wc.Configure.Vectorizer.text2vec_cohere( # specify the vectorizer and model type you're using\n",
    "        model=\"embed-multilingual-v3.0\", # Multi-lingual embedding model\n",
    "        truncate=\"RIGHT\", # defaults to RIGHT if not set \n",
    "    ),\n",
    "\n",
    "    properties=[ # defining properties (data schema) is optional\n",
    "        wc.Property(name=\"item\", \n",
    "                    data_type=wc.DataType.TEXT,\n",
    "                    tokenization=wc.Tokenization.KAGOME_JA\n",
    "), \n",
    "        wc.Property(name=\"description\", \n",
    "                    data_type=wc.DataType.TEXT,\n",
    "                    tokenization=wc.Tokenization.KAGOME_JA\n",
    "),\n",
    "    ]\n",
    ")\n",
    "\n",
    "print(\"Successfully created collection: ClothingItems.\")"
   ]
  },
  {
   "cell_type": "markdown",
   "metadata": {
    "id": "bjcuCEcCXlRK"
   },
   "source": [
    "## Import the Data"
   ]
  },
  {
   "cell_type": "code",
   "execution_count": 5,
   "metadata": {},
   "outputs": [],
   "source": [
    "data = [\n",
    "    [\"スポーツ用レギンス\", \"吸湿速乾性に優れた素材で作られたレギンス。ジムやヨガ、ランニングに最適です。\"],\n",
    "    [\"点線模様の長靴\", \"雨の日のおしゃれにぴったりの長靴。ユニークな点線模様が特徴です。\"],\n",
    "    [\"トレンチコート\", \"クラシックなデザインのトレンチコート。春や秋の軽い羽織りに最適な一着です。\"],\n",
    "    [\"ひまわりの模様のドレス\", \"明るいひまわり柄が夏らしい印象のドレス。軽やかで涼しい素材が魅力です。\"],\n",
    "    [\"ライトカーディガン\", \"肌寒い日の重ね着に便利なライトカーディガン。軽量で持ち運びにも便利です。\"],\n",
    "    [\"フローラルミニスカート\", \"春や夏にぴったりの花柄ミニスカート。華やかなデザインで女性らしさを引き立てます。\"],\n",
    "    [\"ピンクのスカート\", \"柔らかなピンク色がかわいらしいスカート。シンプルなデザインでコーディネートしやすいです。\"],\n",
    "    [\"カシミアセーター\", \"高級感のあるカシミア素材で作られたセーター。寒い冬に暖かさとスタイルを提供します。\"],\n",
    "    [\"ライトウールスカーフ\", \"秋や冬にぴったりのウールスカーフ。軽量で肌触りが良く、暖かさをプラスします。\"],\n",
    "    [\"ニットドレス\", \"柔らかく暖かい素材で作られたニットドレス。寒い季節のカジュアルスタイルに最適です。\"],\n",
    "    [\"ミディプリーツスカート\", \"エレガントなシルエットが特徴のプリーツスカート。どんなトップスとも相性抜群です。\"],\n",
    "    [\"花柄の傘\", \"雨の日を明るくしてくれる花柄デザインの傘。軽量で使いやすい構造です。\"],\n",
    "    [\"長袖の紺色のドレス\", \"落ち着いた紺色がエレガントな長袖ドレス。フォーマルな場にも最適です。\"],\n",
    "    [\"春の花柄ドレス\", \"春の装いにぴったりの鮮やかな花柄ドレス。柔らかい素材で着心地も抜群です。\"],\n",
    "    [\"ボア付きデニムジャケット\", \"冬の寒さから守るボア付きデニムジャケット。カジュアルスタイルにぴったりです。\"],\n",
    "    [\"レザーアンクルブーツ\", \"シックで洗練されたデザインのレザーアンクルブーツ。秋冬の装いにおすすめです。\"],\n",
    "    [\"防水ジャケット\", \"雨の日の外出を快適にする防水ジャケット。軽量で動きやすいデザインが魅力です。\"],\n",
    "    [\"シンプルな黒のタートルネック\", \"どんなスタイルにも合わせやすい黒のタートルネック。秋冬の重ね着に最適です。\"],\n",
    "    [\"シフォンブラウス\", \"軽やかで女性らしいデザインのシフォンブラウス。春や夏のフォーマルな場にもおすすめです。\"]\n",
    "]\n",
    "\n",
    "# Get a collection object for \"ClothingItems\"\n",
    "clothes = client.collections.get(\"ClothingItems\")\n",
    "\n",
    "with clothes.batch.dynamic() as batch:\n",
    "    for d in data:\n",
    "        # the call that performs data insert\n",
    "        batch.add_object({\n",
    "            \"item\": d[0],\n",
    "            \"description\" : d[1],\n",
    "        })"
   ]
  },
  {
   "cell_type": "code",
   "execution_count": 6,
   "metadata": {},
   "outputs": [
    {
     "name": "stdout",
     "output_type": "stream",
     "text": [
      "19\n"
     ]
    }
   ],
   "source": [
    "# Print the total number of imported chunks\n",
    "print(clothes.aggregate.over_all(total_count=True).total_count)"
   ]
  },
  {
   "cell_type": "code",
   "execution_count": 7,
   "metadata": {},
   "outputs": [
    {
     "name": "stdout",
     "output_type": "stream",
     "text": [
      "春の花柄ドレス: 春の装いにぴったりの鮮やかな花柄ドレス。柔らかい素材で着心地も抜群です。\n",
      "ライトウールスカーフ: 秋や冬にぴったりのウールスカーフ。軽量で肌触りが良く、暖かさをプラスします。\n",
      "防水ジャケット: 雨の日の外出を快適にする防水ジャケット。軽量で動きやすいデザインが魅力です。\n"
     ]
    }
   ],
   "source": [
    "response = clothes.query.fetch_objects(limit=3)\n",
    "\n",
    "for item in response.objects:\n",
    "    print(f\"{item.properties['item']}: {item.properties['description']}\")"
   ]
  },
  {
   "cell_type": "markdown",
   "metadata": {},
   "source": [
    "## Keyword Search"
   ]
  },
  {
   "cell_type": "code",
   "execution_count": 8,
   "metadata": {},
   "outputs": [
    {
     "name": "stdout",
     "output_type": "stream",
     "text": [
      "長袖の紺色のドレス: 落ち着いた紺色がエレガントな長袖ドレス。フォーマルな場にも最適です。\n",
      "ニットドレス: 柔らかく暖かい素材で作られたニットドレス。寒い季節のカジュアルスタイルに最適です。\n",
      "ひまわりの模様のドレス: 明るいひまわり柄が夏らしい印象のドレス。軽やかで涼しい素材が魅力です。\n"
     ]
    }
   ],
   "source": [
    "response = clothes.query.bm25(\n",
    "    query=\"ドレス\",\n",
    "    limit=3\n",
    ")\n",
    "\n",
    "for item in response.objects:\n",
    "    print(f\"{item.properties['item']}: {item.properties['description']}\")"
   ]
  },
  {
   "cell_type": "markdown",
   "metadata": {
    "id": "NISdgAYebLyX"
   },
   "source": [
    "## Hybrid Search"
   ]
  },
  {
   "cell_type": "markdown",
   "metadata": {
    "id": "svmbj8JC1y0g"
   },
   "source": [
    "The `alpha` parameter determines the weight given to the sparse and dense search methods. `alpha = 0` is pure sparse (bm25) search, whereas `alpha = 1` is pure dense (vector) search. \n",
    "\n",
    "Alpha is an optional parameter. The default is set to `0.75`.\n",
    "\n",
    "The below query is finding Jeopardy questions about animals and is limiting the output to only two results. Notice `alpha` is set to `0.80`, which means it is weighing the vector search results more than bm25. If you were to set `alpha = 0.25`, you would get different results. "
   ]
  },
  {
   "cell_type": "code",
   "execution_count": 9,
   "metadata": {
    "id": "QI5P082I1yA-"
   },
   "outputs": [
    {
     "name": "stdout",
     "output_type": "stream",
     "text": [
      "春の花柄ドレス: 春の装いにぴったりの鮮やかな花柄ドレス。柔らかい素材で着心地も抜群です。\n",
      "ひまわりの模様のドレス: 明るいひまわり柄が夏らしい印象のドレス。軽やかで涼しい素材が魅力です。\n",
      "フローラルミニスカート: 春や夏にぴったりの花柄ミニスカート。華やかなデザインで女性らしさを引き立てます。\n"
     ]
    }
   ],
   "source": [
    "# note, you can reuse the collection object from the previous cell.\n",
    "# Get a collection object for \"JeopardyQuestion\"\n",
    "response = clothes.query.hybrid(\n",
    "    query=\"春のドレス\",\n",
    "    alpha=0.8,\n",
    "    limit=3\n",
    ")\n",
    "\n",
    "for item in response.objects:\n",
    "    print(f\"{item.properties['item']}: {item.properties['description']}\")"
   ]
  },
  {
   "cell_type": "markdown",
   "metadata": {},
   "source": [
    "# What next?\n",
    "Weaviate's Japanese Kagome tokenizer is a significant step forward in helping Japanese developers build great AI applications.\n",
    "\n",
    "Try out Weaviate, starting with the [Quickstart](https://weaviate.io/developers/weaviate/quickstart).\n",
    "\n",
    "And where you have Japanese data, set the property tokenizer to \"kagome_jp\" as shown in the code above.\n",
    "\n",
    "# Note\n",
    "As of `1.28`, the tokenizer must be separately enabled by setting `ENABLE_TOKENIZER_KAGOME_JA` [environment variable](https://weaviate.io/developers/weaviate/config-refs/env-vars) to true. (For example, in the `docker-compose.yml` file.)"
   ]
  }
 ],
 "metadata": {
  "colab": {
   "provenance": []
  },
  "kernelspec": {
   "display_name": "Python 3",
   "language": "python",
   "name": "python3"
  },
  "language_info": {
   "codemirror_mode": {
    "name": "ipython",
    "version": 3
   },
   "file_extension": ".py",
   "mimetype": "text/x-python",
   "name": "python",
   "nbconvert_exporter": "python",
   "pygments_lexer": "ipython3",
   "version": "3.11.6"
  }
 },
 "nbformat": 4,
 "nbformat_minor": 0
}
